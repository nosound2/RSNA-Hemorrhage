{
 "cells": [
  {
   "cell_type": "code",
   "execution_count": 1,
   "metadata": {},
   "outputs": [
    {
     "name": "stdout",
     "output_type": "stream",
     "text": [
      "'/home/reina/kaggle/RSNA/Densenet121-Copy1.ipynb' -> '/media/hd/backup/notebooks/RSNA/Densenet121-Copy1.ipynb'\n",
      "'/home/reina/kaggle/RSNA/Densenet121.ipynb' -> '/media/hd/backup/notebooks/RSNA/Densenet121.ipynb'\n",
      "'/home/reina/kaggle/RSNA/Densenet161-Copy1.ipynb' -> '/media/hd/backup/notebooks/RSNA/Densenet161-Copy1.ipynb'\n",
      "'/home/reina/kaggle/RSNA/Densenet161-Copy2.ipynb' -> '/media/hd/backup/notebooks/RSNA/Densenet161-Copy2.ipynb'\n",
      "'/home/reina/kaggle/RSNA/Densenet161-Copy3.ipynb' -> '/media/hd/backup/notebooks/RSNA/Densenet161-Copy3.ipynb'\n",
      "'/home/reina/kaggle/RSNA/Densenet161.ipynb' -> '/media/hd/backup/notebooks/RSNA/Densenet161.ipynb'\n",
      "'/home/reina/kaggle/RSNA/Densenet169.ipynb' -> '/media/hd/backup/notebooks/RSNA/Densenet169.ipynb'\n",
      "'/home/reina/kaggle/RSNA/Densenet201.ipynb' -> '/media/hd/backup/notebooks/RSNA/Densenet201.ipynb'\n",
      "'/home/reina/kaggle/RSNA/EDA.ipynb' -> '/media/hd/backup/notebooks/RSNA/EDA.ipynb'\n",
      "'/home/reina/kaggle/RSNA/EfficientNet_5b5.ipynb' -> '/media/hd/backup/notebooks/RSNA/EfficientNet_5b5.ipynb'\n",
      "'/home/reina/kaggle/RSNA/EfficientNet_5b5_old.ipynb' -> '/media/hd/backup/notebooks/RSNA/EfficientNet_5b5_old.ipynb'\n",
      "'/home/reina/kaggle/RSNA/EfficientNet_b4b.ipynb' -> '/media/hd/backup/notebooks/RSNA/EfficientNet_b4b.ipynb'\n",
      "'/home/reina/kaggle/RSNA/SE_ResNext101_32x4d.ipynb' -> '/media/hd/backup/notebooks/RSNA/SE_ResNext101_32x4d.ipynb'\n",
      "'/home/reina/kaggle/RSNA/__pycache__/defenitions.cpython-36.pyc' -> '/media/hd/backup/notebooks/RSNA/__pycache__/defenitions.cpython-36.pyc'\n",
      "'/home/reina/kaggle/RSNA/backup.ipynb' -> '/media/hd/backup/notebooks/RSNA/backup.ipynb'\n",
      "'/home/reina/kaggle/RSNA/defenitions.py' -> '/media/hd/backup/notebooks/RSNA/defenitions.py'\n",
      "'/home/reina/kaggle/RSNA/helper/myio.py' -> '/media/hd/backup/notebooks/RSNA/helper/myio.py'\n",
      "'/home/reina/kaggle/RSNA/helper/__init__.py' -> '/media/hd/backup/notebooks/RSNA/helper/__init__.py'\n",
      "'/home/reina/kaggle/RSNA/helper/mydata.py' -> '/media/hd/backup/notebooks/RSNA/helper/mydata.py'\n",
      "'/home/reina/kaggle/RSNA/helper/__pycache__/miscellaneous.cpython-36.pyc' -> '/media/hd/backup/notebooks/RSNA/helper/__pycache__/miscellaneous.cpython-36.pyc'\n",
      "'/home/reina/kaggle/RSNA/helper/__pycache__/bert_adam.cpython-36.pyc' -> '/media/hd/backup/notebooks/RSNA/helper/__pycache__/bert_adam.cpython-36.pyc'\n",
      "'/home/reina/kaggle/RSNA/helper/__pycache__/__init__.cpython-36.pyc' -> '/media/hd/backup/notebooks/RSNA/helper/__pycache__/__init__.cpython-36.pyc'\n",
      "'/home/reina/kaggle/RSNA/helper/__pycache__/mytraining.cpython-36.pyc' -> '/media/hd/backup/notebooks/RSNA/helper/__pycache__/mytraining.cpython-36.pyc'\n",
      "'/home/reina/kaggle/RSNA/helper/__pycache__/mydata.cpython-36.pyc' -> '/media/hd/backup/notebooks/RSNA/helper/__pycache__/mydata.cpython-36.pyc'\n",
      "'/home/reina/kaggle/RSNA/helper/__pycache__/myio.cpython-36.pyc' -> '/media/hd/backup/notebooks/RSNA/helper/__pycache__/myio.cpython-36.pyc'\n",
      "'/home/reina/kaggle/RSNA/helper/__pycache__/mymodels.cpython-36.pyc' -> '/media/hd/backup/notebooks/RSNA/helper/__pycache__/mymodels.cpython-36.pyc'\n",
      "'/home/reina/kaggle/RSNA/helper/mytraining.py' -> '/media/hd/backup/notebooks/RSNA/helper/mytraining.py'\n",
      "'/home/reina/kaggle/RSNA/helper/mymodels.py' -> '/media/hd/backup/notebooks/RSNA/helper/mymodels.py'\n",
      "'/home/reina/kaggle/RSNA/helper/bert_adam.py' -> '/media/hd/backup/notebooks/RSNA/helper/bert_adam.py'\n",
      "'/home/reina/kaggle/RSNA/helper/miscellaneous.py' -> '/media/hd/backup/notebooks/RSNA/helper/miscellaneous.py'\n",
      "'/home/reina/kaggle/RSNA/se_resnext101_32x4d_old.ipynb' -> '/media/hd/backup/notebooks/RSNA/se_resnext101_32x4d_old.ipynb'\n"
     ]
    }
   ],
   "source": [
    "!cp -rv  ~/kaggle/RSNA/* /media/hd/backup/notebooks/RSNA/"
   ]
  },
  {
   "cell_type": "code",
   "execution_count": 2,
   "metadata": {},
   "outputs": [
    {
     "name": "stdout",
     "output_type": "stream",
     "text": [
      "'/media/hd/notebooks/data/RSNA/models/model_Densenet121_3_version_basic_classifier_split_0.pth' -> '/media/nvme/data/RSNA/models/model_Densenet121_3_version_basic_classifier_split_0.pth'\n",
      "'/media/hd/notebooks/data/RSNA/models/model_Densenet121_3_version_basic_classifier_wso_split_0.pth' -> '/media/nvme/data/RSNA/models/model_Densenet121_3_version_basic_classifier_wso_split_0.pth'\n",
      "'/media/hd/notebooks/data/RSNA/models/model_Densenet121_3_version_basic_split_0.pth' -> '/media/nvme/data/RSNA/models/model_Densenet121_3_version_basic_split_0.pth'\n",
      "'/media/hd/notebooks/data/RSNA/models/model_Densenet121_3_version_basicmodel_split_0.pth' -> '/media/nvme/data/RSNA/models/model_Densenet121_3_version_basicmodel_split_0.pth'\n",
      "'/media/hd/notebooks/data/RSNA/models/model_Densenet121_version_basic0_split_0.pth' -> '/media/nvme/data/RSNA/models/model_Densenet121_version_basic0_split_0.pth'\n",
      "'/media/hd/notebooks/data/RSNA/models/model_Densenet121_version_basic1_classifier_split_0.pth' -> '/media/nvme/data/RSNA/models/model_Densenet121_version_basic1_classifier_split_0.pth'\n",
      "'/media/hd/notebooks/data/RSNA/models/model_Densenet121_version_basic1_split_0.pth' -> '/media/nvme/data/RSNA/models/model_Densenet121_version_basic1_split_0.pth'\n",
      "'/media/hd/notebooks/data/RSNA/models/model_Densenet121_version_basic2_classifier1_split_0.pth' -> '/media/nvme/data/RSNA/models/model_Densenet121_version_basic2_classifier1_split_0.pth'\n",
      "'/media/hd/notebooks/data/RSNA/models/model_Densenet121_version_basic2_classifier2_split_0.pth' -> '/media/nvme/data/RSNA/models/model_Densenet121_version_basic2_classifier2_split_0.pth'\n",
      "'/media/hd/notebooks/data/RSNA/models/model_Densenet121_version_basic2_classifier_neighbors1_split_0.pth' -> '/media/nvme/data/RSNA/models/model_Densenet121_version_basic2_classifier_neighbors1_split_0.pth'\n",
      "'/media/hd/notebooks/data/RSNA/models/model_Densenet121_version_basic2_classifier_neighbors1in_split_0.pth' -> '/media/nvme/data/RSNA/models/model_Densenet121_version_basic2_classifier_neighbors1in_split_0.pth'\n",
      "'/media/hd/notebooks/data/RSNA/models/model_Densenet121_version_basic2_classifier_neighbors2_split_0.pth' -> '/media/nvme/data/RSNA/models/model_Densenet121_version_basic2_classifier_neighbors2_split_0.pth'\n",
      "'/media/hd/notebooks/data/RSNA/models/model_Densenet121_version_basic2_classifier_pool_split_0.pth' -> '/media/nvme/data/RSNA/models/model_Densenet121_version_basic2_classifier_pool_split_0.pth'\n",
      "'/media/hd/notebooks/data/RSNA/models/model_Densenet121_version_basic2_classifier_split_0.pth' -> '/media/nvme/data/RSNA/models/model_Densenet121_version_basic2_classifier_split_0.pth'\n",
      "'/media/hd/notebooks/data/RSNA/models/model_Densenet121_version_basic2_split_0.pth' -> '/media/nvme/data/RSNA/models/model_Densenet121_version_basic2_split_0.pth'\n",
      "'/media/hd/notebooks/data/RSNA/models/model_Densenet121_version_basic_classifier1_split_0.pth' -> '/media/nvme/data/RSNA/models/model_Densenet121_version_basic_classifier1_split_0.pth'\n",
      "'/media/hd/notebooks/data/RSNA/models/model_Densenet121_version_basic_classifier_split_0.pth' -> '/media/nvme/data/RSNA/models/model_Densenet121_version_basic_classifier_split_0.pth'\n",
      "'/media/hd/notebooks/data/RSNA/models/model_Densenet121_version_basic_split_0.pth' -> '/media/nvme/data/RSNA/models/model_Densenet121_version_basic_split_0.pth'\n",
      "'/media/hd/notebooks/data/RSNA/models/model_Densenet161_3_version_basic_classifier_neighbors2_split_2.pth' -> '/media/nvme/data/RSNA/models/model_Densenet161_3_version_basic_classifier_neighbors2_split_2.pth'\n",
      "'/media/hd/notebooks/data/RSNA/models/model_Densenet161_3_version_basic_classifier_neighbors3cor_split_2.pth' -> '/media/nvme/data/RSNA/models/model_Densenet161_3_version_basic_classifier_neighbors3cor_split_2.pth'\n",
      "'/media/hd/notebooks/data/RSNA/models/model_Densenet161_3_version_basic_classifier_split_2.pth' -> '/media/nvme/data/RSNA/models/model_Densenet161_3_version_basic_classifier_split_2.pth'\n",
      "'/media/hd/notebooks/data/RSNA/models/model_Densenet161_3_version_basic_split_2.pth' -> '/media/nvme/data/RSNA/models/model_Densenet161_3_version_basic_split_2.pth'\n",
      "'/media/hd/notebooks/data/RSNA/models/model_Densenet161_3_version_basic_wso_split_3.pth' -> '/media/nvme/data/RSNA/models/model_Densenet161_3_version_basic_wso_split_3.pth'\n",
      "'/media/hd/notebooks/data/RSNA/models/model_Densenet161_3_version_basic_wsomod_split_3.pth' -> '/media/nvme/data/RSNA/models/model_Densenet161_3_version_basic_wsomod_split_3.pth'\n",
      "'/media/hd/notebooks/data/RSNA/models/model_Densenet161_version_basic_classifier_split_0.pth' -> '/media/nvme/data/RSNA/models/model_Densenet161_version_basic_classifier_split_0.pth'\n",
      "'/media/hd/notebooks/data/RSNA/models/model_Densenet161_version_basic_classifier_split_1.pth' -> '/media/nvme/data/RSNA/models/model_Densenet161_version_basic_classifier_split_1.pth'\n",
      "'/media/hd/notebooks/data/RSNA/models/model_Densenet161_version_basic_more_neighbors1_split_0.pth' -> '/media/nvme/data/RSNA/models/model_Densenet161_version_basic_more_neighbors1_split_0.pth'\n",
      "'/media/hd/notebooks/data/RSNA/models/model_Densenet161_version_basic_more_neighbors1cor_split_1.pth' -> '/media/nvme/data/RSNA/models/model_Densenet161_version_basic_more_neighbors1cor_split_1.pth'\n",
      "'/media/hd/notebooks/data/RSNA/models/model_Densenet161_version_basic_more_neighbors1e_split_0.pth' -> '/media/nvme/data/RSNA/models/model_Densenet161_version_basic_more_neighbors1e_split_0.pth'\n",
      "'/media/hd/notebooks/data/RSNA/models/model_Densenet161_version_basic_more_neighbors2_split_0.pth' -> '/media/nvme/data/RSNA/models/model_Densenet161_version_basic_more_neighbors2_split_0.pth'\n",
      "'/media/hd/notebooks/data/RSNA/models/model_Densenet161_version_basic_more_neighbors2_split_1.pth' -> '/media/nvme/data/RSNA/models/model_Densenet161_version_basic_more_neighbors2_split_1.pth'\n",
      "'/media/hd/notebooks/data/RSNA/models/model_Densenet161_version_basic_more_neighbors2cor_split_1.pth' -> '/media/nvme/data/RSNA/models/model_Densenet161_version_basic_more_neighbors2cor_split_1.pth'\n",
      "'/media/hd/notebooks/data/RSNA/models/model_Densenet161_version_basic_more_neighbors2in_split_0.pth' -> '/media/nvme/data/RSNA/models/model_Densenet161_version_basic_more_neighbors2in_split_0.pth'\n",
      "'/media/hd/notebooks/data/RSNA/models/model_Densenet161_version_basic_more_neighbors3cor_split_1.pth' -> '/media/nvme/data/RSNA/models/model_Densenet161_version_basic_more_neighbors3cor_split_1.pth'\n",
      "'/media/hd/notebooks/data/RSNA/models/model_Densenet161_version_basic_more_neighbors4cor_split_1.pth' -> '/media/nvme/data/RSNA/models/model_Densenet161_version_basic_more_neighbors4cor_split_1.pth'\n",
      "'/media/hd/notebooks/data/RSNA/models/model_Densenet161_version_basic_more_split_0.pth' -> '/media/nvme/data/RSNA/models/model_Densenet161_version_basic_more_split_0.pth'\n",
      "'/media/hd/notebooks/data/RSNA/models/model_Densenet161_version_basic_more_split_1.pth' -> '/media/nvme/data/RSNA/models/model_Densenet161_version_basic_more_split_1.pth'\n",
      "'/media/hd/notebooks/data/RSNA/models/model_Densenet161_version_basic_split_0.pth' -> '/media/nvme/data/RSNA/models/model_Densenet161_version_basic_split_0.pth'\n",
      "'/media/hd/notebooks/data/RSNA/models/model_Densenet161_version_basic_split_1.pth' -> '/media/nvme/data/RSNA/models/model_Densenet161_version_basic_split_1.pth'\n",
      "'/media/hd/notebooks/data/RSNA/models/model_Densenet169_version_basic_classifier_split_0.pth' -> '/media/nvme/data/RSNA/models/model_Densenet169_version_basic_classifier_split_0.pth'\n",
      "'/media/hd/notebooks/data/RSNA/models/model_Densenet169_version_basic_split_0.pth' -> '/media/nvme/data/RSNA/models/model_Densenet169_version_basic_split_0.pth'\n",
      "'/media/hd/notebooks/data/RSNA/models/model_Densenet201_version_basic_classifier_split_0.pth' -> '/media/nvme/data/RSNA/models/model_Densenet201_version_basic_classifier_split_0.pth'\n",
      "'/media/hd/notebooks/data/RSNA/models/model_Densenet201_version_basic_split_0.pth' -> '/media/nvme/data/RSNA/models/model_Densenet201_version_basic_split_0.pth'\n",
      "'/media/hd/notebooks/data/RSNA/models/model_Densenet201_version_classifier_split_0.pth' -> '/media/nvme/data/RSNA/models/model_Densenet201_version_classifier_split_0.pth'\n",
      "'/media/hd/notebooks/data/RSNA/models/model_efficientnet_5b5_version_basic1_classifier1_split_0.pth' -> '/media/nvme/data/RSNA/models/model_efficientnet_5b5_version_basic1_classifier1_split_0.pth'\n"
     ]
    },
    {
     "name": "stdout",
     "output_type": "stream",
     "text": [
      "'/media/hd/notebooks/data/RSNA/models/model_efficientnet_5b5_version_basic1_split_0.pth' -> '/media/nvme/data/RSNA/models/model_efficientnet_5b5_version_basic1_split_0.pth'\n",
      "'/media/hd/notebooks/data/RSNA/models/model_efficientnet_5b5_version_basic_classifier2_split_0.pth' -> '/media/nvme/data/RSNA/models/model_efficientnet_5b5_version_basic_classifier2_split_0.pth'\n",
      "'/media/hd/notebooks/data/RSNA/models/model_efficientnet_5b5_version_basic_classifier_split_0.pth' -> '/media/nvme/data/RSNA/models/model_efficientnet_5b5_version_basic_classifier_split_0.pth'\n",
      "'/media/hd/notebooks/data/RSNA/models/model_efficientnet_5b5_version_basic_split_0.pth' -> '/media/nvme/data/RSNA/models/model_efficientnet_5b5_version_basic_split_0.pth'\n",
      "'/media/hd/notebooks/data/RSNA/models/model_efficientnet_5b5_version_classifier1_split_0.pth' -> '/media/nvme/data/RSNA/models/model_efficientnet_5b5_version_classifier1_split_0.pth'\n",
      "'/media/hd/notebooks/data/RSNA/models/model_efficientnet_5b5_version_classifier_split_0.pth' -> '/media/nvme/data/RSNA/models/model_efficientnet_5b5_version_classifier_split_0.pth'\n",
      "'/media/hd/notebooks/data/RSNA/models/model_efficientnet_b2b_version_basic_split_0.pth' -> '/media/nvme/data/RSNA/models/model_efficientnet_b2b_version_basic_split_0.pth'\n",
      "'/media/hd/notebooks/data/RSNA/models/model_efficientnet_b4b_version_basic_split_0.pth' -> '/media/nvme/data/RSNA/models/model_efficientnet_b4b_version_basic_split_0.pth'\n",
      "'/media/hd/notebooks/data/RSNA/models/model_efficientnet_b4b_version_classifier_split_0.pth' -> '/media/nvme/data/RSNA/models/model_efficientnet_b4b_version_classifier_split_0.pth'\n"
     ]
    }
   ],
   "source": [
    "!cp -v  /media/hd/notebooks/data/RSNA/models/*  /media/nvme/data/RSNA/models/"
   ]
  },
  {
   "cell_type": "code",
   "execution_count": null,
   "metadata": {},
   "outputs": [],
   "source": []
  }
 ],
 "metadata": {
  "kernelspec": {
   "display_name": "Python 3",
   "language": "python",
   "name": "python3"
  },
  "language_info": {
   "codemirror_mode": {
    "name": "ipython",
    "version": 3
   },
   "file_extension": ".py",
   "mimetype": "text/x-python",
   "name": "python",
   "nbconvert_exporter": "python",
   "pygments_lexer": "ipython3",
   "version": "3.6.6"
  }
 },
 "nbformat": 4,
 "nbformat_minor": 2
}
