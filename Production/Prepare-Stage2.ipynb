{
 "cells": [
  {
   "cell_type": "code",
   "execution_count": 2,
   "metadata": {},
   "outputs": [
    {
     "name": "stderr",
     "output_type": "stream",
     "text": [
      "/home/reina/anaconda3/envs/RSNA/lib/python3.6/importlib/_bootstrap.py:219: ImportWarning: can't resolve package from __spec__ or __package__, falling back on __name__ and __path__\n",
      "  return f(*args, **kwds)\n",
      "/home/reina/anaconda3/envs/RSNA/lib/python3.6/importlib/_bootstrap.py:219: ImportWarning: can't resolve package from __spec__ or __package__, falling back on __name__ and __path__\n",
      "  return f(*args, **kwds)\n"
     ]
    }
   ],
   "source": [
    "from __future__ import absolute_import\n",
    "from __future__ import division\n",
    "from __future__ import print_function\n",
    "\n",
    "import glob, pylab, pandas as pd\n",
    "import pydicom, numpy as np\n",
    "from os import listdir\n",
    "import torch\n",
    "import torch.nn as nn\n",
    "import torch.utils.data as D\n",
    "import torch.nn.functional as F\n",
    "\n",
    "from os.path import isfile, join\n",
    "import matplotlib.pylab as plt\n",
    "import os\n",
    "import seaborn as sns\n",
    "import warnings\n",
    "warnings.filterwarnings(action='once')\n",
    "import pickle\n",
    "from tqdm import tqdm, tqdm_notebook\n",
    "%load_ext autoreload\n",
    "%autoreload 2\n",
    "%matplotlib notebook\n",
    "from helper import *\n",
    "import time\n",
    "from IPython.core.interactiveshell import InteractiveShell\n",
    "InteractiveShell.ast_node_interactivity = \"all\"\n",
    "from defenitions import *"
   ]
  },
  {
   "cell_type": "code",
   "execution_count": 2,
   "metadata": {},
   "outputs": [],
   "source": [
    "data_dir = '/media/nvme/data/RSNA/'\n",
    "train_images_dir=data_dir+'stage_1_train_images/'\n",
    "test_images_dir=data_dir+'stage_2_test_images/'"
   ]
  },
  {
   "cell_type": "code",
   "execution_count": 3,
   "metadata": {},
   "outputs": [],
   "source": [
    "train_base_df = pd.read_csv(data_dir+'stage_2_train.csv')"
   ]
  },
  {
   "cell_type": "code",
   "execution_count": 4,
   "metadata": {},
   "outputs": [
    {
     "data": {
      "text/plain": [
       "4516842"
      ]
     },
     "execution_count": 4,
     "metadata": {},
     "output_type": "execute_result"
    }
   ],
   "source": [
    "train_base_df.shape[0]"
   ]
  },
  {
   "cell_type": "code",
   "execution_count": 5,
   "metadata": {},
   "outputs": [
    {
     "data": {
      "text/html": [
       "<div>\n",
       "<style scoped>\n",
       "    .dataframe tbody tr th:only-of-type {\n",
       "        vertical-align: middle;\n",
       "    }\n",
       "\n",
       "    .dataframe tbody tr th {\n",
       "        vertical-align: top;\n",
       "    }\n",
       "\n",
       "    .dataframe thead th {\n",
       "        text-align: right;\n",
       "    }\n",
       "</style>\n",
       "<table border=\"1\" class=\"dataframe\">\n",
       "  <thead>\n",
       "    <tr style=\"text-align: right;\">\n",
       "      <th></th>\n",
       "      <th>ID</th>\n",
       "      <th>Label</th>\n",
       "      <th>Sub_type</th>\n",
       "      <th>PatientID</th>\n",
       "    </tr>\n",
       "  </thead>\n",
       "  <tbody>\n",
       "    <tr>\n",
       "      <th>0</th>\n",
       "      <td>ID_12cadc6af_epidural</td>\n",
       "      <td>0</td>\n",
       "      <td>epidural</td>\n",
       "      <td>12cadc6af</td>\n",
       "    </tr>\n",
       "    <tr>\n",
       "      <th>1</th>\n",
       "      <td>ID_12cadc6af_intraparenchymal</td>\n",
       "      <td>0</td>\n",
       "      <td>intraparenchymal</td>\n",
       "      <td>12cadc6af</td>\n",
       "    </tr>\n",
       "    <tr>\n",
       "      <th>2</th>\n",
       "      <td>ID_12cadc6af_intraventricular</td>\n",
       "      <td>0</td>\n",
       "      <td>intraventricular</td>\n",
       "      <td>12cadc6af</td>\n",
       "    </tr>\n",
       "    <tr>\n",
       "      <th>3</th>\n",
       "      <td>ID_12cadc6af_subarachnoid</td>\n",
       "      <td>0</td>\n",
       "      <td>subarachnoid</td>\n",
       "      <td>12cadc6af</td>\n",
       "    </tr>\n",
       "    <tr>\n",
       "      <th>4</th>\n",
       "      <td>ID_12cadc6af_subdural</td>\n",
       "      <td>0</td>\n",
       "      <td>subdural</td>\n",
       "      <td>12cadc6af</td>\n",
       "    </tr>\n",
       "  </tbody>\n",
       "</table>\n",
       "</div>"
      ],
      "text/plain": [
       "                              ID  Label          Sub_type  PatientID\n",
       "0          ID_12cadc6af_epidural      0          epidural  12cadc6af\n",
       "1  ID_12cadc6af_intraparenchymal      0  intraparenchymal  12cadc6af\n",
       "2  ID_12cadc6af_intraventricular      0  intraventricular  12cadc6af\n",
       "3      ID_12cadc6af_subarachnoid      0      subarachnoid  12cadc6af\n",
       "4          ID_12cadc6af_subdural      0          subdural  12cadc6af"
      ]
     },
     "execution_count": 5,
     "metadata": {},
     "output_type": "execute_result"
    }
   ],
   "source": [
    "train_base_df['Sub_type'] = train_base_df['ID'].str.split(\"_\", n = 3, expand = True)[2]\n",
    "train_base_df['PatientID'] = train_base_df['ID'].str.split(\"_\", n = 3, expand = True)[1]\n",
    "train_base_df.head()"
   ]
  },
  {
   "cell_type": "code",
   "execution_count": 6,
   "metadata": {},
   "outputs": [],
   "source": [
    "train_base_df=train_base_df.drop_duplicates().reset_index(drop=True)"
   ]
  },
  {
   "cell_type": "code",
   "execution_count": 7,
   "metadata": {},
   "outputs": [],
   "source": [
    "assert train_base_df.PatientID.unique().shape[0]==train_base_df.shape[0]//6"
   ]
  },
  {
   "cell_type": "code",
   "execution_count": 8,
   "metadata": {},
   "outputs": [
    {
     "data": {
      "text/plain": [
       "array(['epidural', 'intraparenchymal', 'intraventricular', 'subarachnoid',\n",
       "       'subdural', 'any'], dtype=object)"
      ]
     },
     "execution_count": 8,
     "metadata": {},
     "output_type": "execute_result"
    }
   ],
   "source": [
    "sub_types=train_base_df.Sub_type.unique()\n",
    "sub_types"
   ]
  },
  {
   "cell_type": "code",
   "execution_count": 9,
   "metadata": {},
   "outputs": [
    {
     "data": {
      "application/vnd.jupyter.widget-view+json": {
       "model_id": "816cde2ead8649c0b36403aca5a5427c",
       "version_major": 2,
       "version_minor": 0
      },
      "text/plain": [
       "HBox(children=(IntProgress(value=0, max=6), HTML(value='')))"
      ]
     },
     "metadata": {},
     "output_type": "display_data"
    },
    {
     "name": "stdout",
     "output_type": "stream",
     "text": [
      "\n"
     ]
    },
    {
     "data": {
      "application/vnd.jupyter.widget-view+json": {
       "model_id": "89dd016b36ad4a55951adf267f361e1c",
       "version_major": 2,
       "version_minor": 0
      },
      "text/plain": [
       "HBox(children=(IntProgress(value=0, max=5), HTML(value='')))"
      ]
     },
     "metadata": {},
     "output_type": "display_data"
    },
    {
     "name": "stdout",
     "output_type": "stream",
     "text": [
      "\n"
     ]
    }
   ],
   "source": [
    "dfs =[]\n",
    "for sub_type in tqdm_notebook(sub_types):\n",
    "    df = train_base_df[train_base_df.Sub_type==sub_type][['PatientID','Label']].copy()\n",
    "    df=df.rename(columns={\"Label\": sub_type}).reset_index(drop=True)\n",
    "    dfs.append(df)\n",
    "train_df=dfs[0]\n",
    "for df in tqdm_notebook(dfs[1:]):\n",
    "    train_df=train_df.merge(df,on='PatientID')"
   ]
  },
  {
   "cell_type": "code",
   "execution_count": 10,
   "metadata": {},
   "outputs": [],
   "source": [
    "assert train_df.shape[0]==train_base_df.shape[0]//6"
   ]
  },
  {
   "cell_type": "code",
   "execution_count": 11,
   "metadata": {},
   "outputs": [],
   "source": [
    "train_df=train_df[~train_df.PatientID.isin(bad_images)]"
   ]
  },
  {
   "cell_type": "code",
   "execution_count": 12,
   "metadata": {},
   "outputs": [
    {
     "data": {
      "text/html": [
       "<div>\n",
       "<style scoped>\n",
       "    .dataframe tbody tr th:only-of-type {\n",
       "        vertical-align: middle;\n",
       "    }\n",
       "\n",
       "    .dataframe tbody tr th {\n",
       "        vertical-align: top;\n",
       "    }\n",
       "\n",
       "    .dataframe thead th {\n",
       "        text-align: right;\n",
       "    }\n",
       "</style>\n",
       "<table border=\"1\" class=\"dataframe\">\n",
       "  <thead>\n",
       "    <tr style=\"text-align: right;\">\n",
       "      <th></th>\n",
       "      <th>PatientID</th>\n",
       "      <th>PID</th>\n",
       "      <th>StudyI</th>\n",
       "      <th>SeriesI</th>\n",
       "      <th>WindowCenter</th>\n",
       "      <th>WindowWidth</th>\n",
       "      <th>ImagePositionZ</th>\n",
       "      <th>ImagePositionX</th>\n",
       "      <th>ImagePositionY</th>\n",
       "    </tr>\n",
       "  </thead>\n",
       "  <tbody>\n",
       "    <tr>\n",
       "      <th>0</th>\n",
       "      <td>63eb1e259</td>\n",
       "      <td>a449357f</td>\n",
       "      <td>62d125e5b2</td>\n",
       "      <td>0be5c0d1b3</td>\n",
       "      <td>['00036', '00036']</td>\n",
       "      <td>['00080', '00080']</td>\n",
       "      <td>180.199951</td>\n",
       "      <td>-125.0</td>\n",
       "      <td>-8.000000</td>\n",
       "    </tr>\n",
       "    <tr>\n",
       "      <th>1</th>\n",
       "      <td>2669954a7</td>\n",
       "      <td>363d5865</td>\n",
       "      <td>a20b80c7bf</td>\n",
       "      <td>3564d584db</td>\n",
       "      <td>['00047', '00047']</td>\n",
       "      <td>['00080', '00080']</td>\n",
       "      <td>922.530821</td>\n",
       "      <td>-156.0</td>\n",
       "      <td>45.572849</td>\n",
       "    </tr>\n",
       "    <tr>\n",
       "      <th>2</th>\n",
       "      <td>52c9913b1</td>\n",
       "      <td>9c2b4bd7</td>\n",
       "      <td>3e3634f8cf</td>\n",
       "      <td>973274ffc9</td>\n",
       "      <td>40</td>\n",
       "      <td>150</td>\n",
       "      <td>4.455000</td>\n",
       "      <td>-125.0</td>\n",
       "      <td>-115.063000</td>\n",
       "    </tr>\n",
       "    <tr>\n",
       "      <th>3</th>\n",
       "      <td>4e6ff6126</td>\n",
       "      <td>3ae81c2d</td>\n",
       "      <td>a1390c15c2</td>\n",
       "      <td>e5ccad8244</td>\n",
       "      <td>['00036', '00036']</td>\n",
       "      <td>['00080', '00080']</td>\n",
       "      <td>100.000000</td>\n",
       "      <td>-99.5</td>\n",
       "      <td>28.500000</td>\n",
       "    </tr>\n",
       "    <tr>\n",
       "      <th>4</th>\n",
       "      <td>7858edd88</td>\n",
       "      <td>c1867feb</td>\n",
       "      <td>c73e81ed3a</td>\n",
       "      <td>28e0531b3a</td>\n",
       "      <td>40</td>\n",
       "      <td>100</td>\n",
       "      <td>145.793000</td>\n",
       "      <td>-125.0</td>\n",
       "      <td>-132.190000</td>\n",
       "    </tr>\n",
       "  </tbody>\n",
       "</table>\n",
       "</div>"
      ],
      "text/plain": [
       "   PatientID       PID      StudyI     SeriesI        WindowCenter  \\\n",
       "0  63eb1e259  a449357f  62d125e5b2  0be5c0d1b3  ['00036', '00036']   \n",
       "1  2669954a7  363d5865  a20b80c7bf  3564d584db  ['00047', '00047']   \n",
       "2  52c9913b1  9c2b4bd7  3e3634f8cf  973274ffc9                  40   \n",
       "3  4e6ff6126  3ae81c2d  a1390c15c2  e5ccad8244  ['00036', '00036']   \n",
       "4  7858edd88  c1867feb  c73e81ed3a  28e0531b3a                  40   \n",
       "\n",
       "          WindowWidth  ImagePositionZ  ImagePositionX  ImagePositionY  \n",
       "0  ['00080', '00080']      180.199951          -125.0       -8.000000  \n",
       "1  ['00080', '00080']      922.530821          -156.0       45.572849  \n",
       "2                 150        4.455000          -125.0     -115.063000  \n",
       "3  ['00080', '00080']      100.000000           -99.5       28.500000  \n",
       "4                 100      145.793000          -125.0     -132.190000  "
      ]
     },
     "execution_count": 12,
     "metadata": {},
     "output_type": "execute_result"
    },
    {
     "data": {
      "text/plain": [
       "(752797, 9)"
      ]
     },
     "execution_count": 12,
     "metadata": {},
     "output_type": "execute_result"
    }
   ],
   "source": [
    "df1 = pd.read_csv(data_dir+'train_dedup.csv')\n",
    "df2 = pd.read_csv(data_dir+'test.csv')\n",
    "old_dfs = pd.concat([df1,df2],ignore_index=True,sort=False).drop(hemorrhage_types,axis=1)\n",
    "old_dfs.head()\n",
    "old_dfs.shape\n",
    "assert old_dfs.shape[0]==train_df.shape[0]"
   ]
  },
  {
   "cell_type": "code",
   "execution_count": 13,
   "metadata": {},
   "outputs": [
    {
     "data": {
      "text/html": [
       "<div>\n",
       "<style scoped>\n",
       "    .dataframe tbody tr th:only-of-type {\n",
       "        vertical-align: middle;\n",
       "    }\n",
       "\n",
       "    .dataframe tbody tr th {\n",
       "        vertical-align: top;\n",
       "    }\n",
       "\n",
       "    .dataframe thead th {\n",
       "        text-align: right;\n",
       "    }\n",
       "</style>\n",
       "<table border=\"1\" class=\"dataframe\">\n",
       "  <thead>\n",
       "    <tr style=\"text-align: right;\">\n",
       "      <th></th>\n",
       "      <th>PatientID</th>\n",
       "      <th>epidural</th>\n",
       "      <th>intraparenchymal</th>\n",
       "      <th>intraventricular</th>\n",
       "      <th>subarachnoid</th>\n",
       "      <th>subdural</th>\n",
       "      <th>any</th>\n",
       "      <th>PID</th>\n",
       "      <th>StudyI</th>\n",
       "      <th>SeriesI</th>\n",
       "      <th>WindowCenter</th>\n",
       "      <th>WindowWidth</th>\n",
       "      <th>ImagePositionZ</th>\n",
       "      <th>ImagePositionX</th>\n",
       "      <th>ImagePositionY</th>\n",
       "    </tr>\n",
       "  </thead>\n",
       "  <tbody>\n",
       "    <tr>\n",
       "      <th>0</th>\n",
       "      <td>12cadc6af</td>\n",
       "      <td>0</td>\n",
       "      <td>0</td>\n",
       "      <td>0</td>\n",
       "      <td>0</td>\n",
       "      <td>0</td>\n",
       "      <td>0</td>\n",
       "      <td>2eb3925f</td>\n",
       "      <td>6dec708c74</td>\n",
       "      <td>1b17a4a944</td>\n",
       "      <td>30</td>\n",
       "      <td>80</td>\n",
       "      <td>71.652000</td>\n",
       "      <td>-125.0</td>\n",
       "      <td>-145.337000</td>\n",
       "    </tr>\n",
       "    <tr>\n",
       "      <th>1</th>\n",
       "      <td>38fd7baa0</td>\n",
       "      <td>0</td>\n",
       "      <td>0</td>\n",
       "      <td>0</td>\n",
       "      <td>0</td>\n",
       "      <td>0</td>\n",
       "      <td>0</td>\n",
       "      <td>e18d3063</td>\n",
       "      <td>0a9ac70962</td>\n",
       "      <td>3f92acee54</td>\n",
       "      <td>30</td>\n",
       "      <td>80</td>\n",
       "      <td>226.174000</td>\n",
       "      <td>-125.0</td>\n",
       "      <td>-140.052000</td>\n",
       "    </tr>\n",
       "    <tr>\n",
       "      <th>2</th>\n",
       "      <td>6c5d82413</td>\n",
       "      <td>0</td>\n",
       "      <td>0</td>\n",
       "      <td>0</td>\n",
       "      <td>0</td>\n",
       "      <td>0</td>\n",
       "      <td>0</td>\n",
       "      <td>dbb88395</td>\n",
       "      <td>45e4c06199</td>\n",
       "      <td>5467fe8129</td>\n",
       "      <td>['00036', '00036']</td>\n",
       "      <td>['00080', '00080']</td>\n",
       "      <td>-199.400009</td>\n",
       "      <td>-115.0</td>\n",
       "      <td>-22.000000</td>\n",
       "    </tr>\n",
       "    <tr>\n",
       "      <th>3</th>\n",
       "      <td>aec8e68b3</td>\n",
       "      <td>0</td>\n",
       "      <td>0</td>\n",
       "      <td>0</td>\n",
       "      <td>1</td>\n",
       "      <td>0</td>\n",
       "      <td>1</td>\n",
       "      <td>dbfa26fc</td>\n",
       "      <td>0d739f7065</td>\n",
       "      <td>e01d9cd8c9</td>\n",
       "      <td>30</td>\n",
       "      <td>80</td>\n",
       "      <td>98.205338</td>\n",
       "      <td>-125.0</td>\n",
       "      <td>-109.982063</td>\n",
       "    </tr>\n",
       "    <tr>\n",
       "      <th>4</th>\n",
       "      <td>4d9209c7c</td>\n",
       "      <td>0</td>\n",
       "      <td>0</td>\n",
       "      <td>0</td>\n",
       "      <td>0</td>\n",
       "      <td>0</td>\n",
       "      <td>0</td>\n",
       "      <td>ce982e0b</td>\n",
       "      <td>f361229319</td>\n",
       "      <td>04b809de14</td>\n",
       "      <td>['00036', '00036']</td>\n",
       "      <td>['00080', '00080']</td>\n",
       "      <td>280.300049</td>\n",
       "      <td>-125.0</td>\n",
       "      <td>-8.000000</td>\n",
       "    </tr>\n",
       "  </tbody>\n",
       "</table>\n",
       "</div>"
      ],
      "text/plain": [
       "   PatientID  epidural  intraparenchymal  intraventricular  subarachnoid  \\\n",
       "0  12cadc6af         0                 0                 0             0   \n",
       "1  38fd7baa0         0                 0                 0             0   \n",
       "2  6c5d82413         0                 0                 0             0   \n",
       "3  aec8e68b3         0                 0                 0             1   \n",
       "4  4d9209c7c         0                 0                 0             0   \n",
       "\n",
       "   subdural  any       PID      StudyI     SeriesI        WindowCenter  \\\n",
       "0         0    0  2eb3925f  6dec708c74  1b17a4a944                  30   \n",
       "1         0    0  e18d3063  0a9ac70962  3f92acee54                  30   \n",
       "2         0    0  dbb88395  45e4c06199  5467fe8129  ['00036', '00036']   \n",
       "3         0    1  dbfa26fc  0d739f7065  e01d9cd8c9                  30   \n",
       "4         0    0  ce982e0b  f361229319  04b809de14  ['00036', '00036']   \n",
       "\n",
       "          WindowWidth  ImagePositionZ  ImagePositionX  ImagePositionY  \n",
       "0                  80       71.652000          -125.0     -145.337000  \n",
       "1                  80      226.174000          -125.0     -140.052000  \n",
       "2  ['00080', '00080']     -199.400009          -115.0      -22.000000  \n",
       "3                  80       98.205338          -125.0     -109.982063  \n",
       "4  ['00080', '00080']      280.300049          -125.0       -8.000000  "
      ]
     },
     "execution_count": 13,
     "metadata": {},
     "output_type": "execute_result"
    }
   ],
   "source": [
    "train_df=train_df.merge(old_dfs,on='PatientID')\n",
    "train_df.head()\n",
    "assert old_dfs.shape[0]==train_df.shape[0]"
   ]
  },
  {
   "cell_type": "raw",
   "metadata": {},
   "source": [
    "PID = np.zeros(train_df.shape[0],dtype=object)\n",
    "StudyI = np.zeros(train_df.shape[0],dtype=object)\n",
    "SeriesI = np.zeros(train_df.shape[0],dtype=object)\n",
    "WindowCenter = np.zeros(train_df.shape[0],dtype=object)\n",
    "WindowWidth = np.zeros(train_df.shape[0],dtype=object)\n",
    "ImagePositionX = np.zeros(train_df.shape[0],dtype=np.float)\n",
    "ImagePositionY = np.zeros(train_df.shape[0],dtype=np.float)\n",
    "ImagePositionZ = np.zeros(train_df.shape[0],dtype=np.float)\n",
    "\n",
    "for i,row in tqdm_notebook(train_df.iterrows(),total=train_df.shape[0]):\n",
    "    ds = pydicom.dcmread(train_images_dir + 'ID_{}.dcm'.format(row['PatientID']))\n",
    "    SeriesI[i]=ds.SeriesInstanceUID\n",
    "    PID[i]=ds.PatientID\n",
    "    StudyI[i]=ds.StudyInstanceUID \n",
    "    WindowCenter[i]=ds.WindowCenter\n",
    "    WindowWidth[i]=ds.WindowWidth\n",
    "    ImagePositionX[i]=float(ds.ImagePositionPatient[0])\n",
    "    ImagePositionY[i]=float(ds.ImagePositionPatient[1])\n",
    "    ImagePositionZ[i]=float(ds.ImagePositionPatient[2])\n",
    "train_df['SeriesI']=SeriesI\n",
    "train_df['PID']=PID\n",
    "train_df['StudyI']=StudyI\n",
    "train_df['WindowCenter']=WindowCenter\n",
    "train_df['WindowWidth']=WindowWidth\n",
    "train_df['ImagePositionZ']=ImagePositionZ\n",
    "train_df['ImagePositionX']=ImagePositionX\n",
    "train_df['ImagePositionY']=ImagePositionY\n"
   ]
  },
  {
   "cell_type": "code",
   "execution_count": 35,
   "metadata": {},
   "outputs": [],
   "source": [
    "train_df.to_csv(data_dir+'train_stage2.csv',index=False)"
   ]
  },
  {
   "cell_type": "code",
   "execution_count": 14,
   "metadata": {},
   "outputs": [
    {
     "data": {
      "text/plain": [
       "(471270, 4)"
      ]
     },
     "execution_count": 14,
     "metadata": {},
     "output_type": "execute_result"
    }
   ],
   "source": [
    "old_base_test=pd.read_csv(data_dir+'stage_1_sample_submission.csv')\n",
    "old_test_ids=set(old_base_test.ID.values)\n",
    "old_test_res=train_base_df[train_base_df.ID.isin(old_test_ids)]\n",
    "old_test_res.shape\n",
    "old_test_res.to_csv(data_dir+'true_submission_stage1.csv',index=False)"
   ]
  },
  {
   "cell_type": "code",
   "execution_count": 6,
   "metadata": {},
   "outputs": [
    {
     "data": {
      "text/html": [
       "<div>\n",
       "<style scoped>\n",
       "    .dataframe tbody tr th:only-of-type {\n",
       "        vertical-align: middle;\n",
       "    }\n",
       "\n",
       "    .dataframe tbody tr th {\n",
       "        vertical-align: top;\n",
       "    }\n",
       "\n",
       "    .dataframe thead th {\n",
       "        text-align: right;\n",
       "    }\n",
       "</style>\n",
       "<table border=\"1\" class=\"dataframe\">\n",
       "  <thead>\n",
       "    <tr style=\"text-align: right;\">\n",
       "      <th></th>\n",
       "      <th>ID</th>\n",
       "      <th>Label</th>\n",
       "    </tr>\n",
       "  </thead>\n",
       "  <tbody>\n",
       "    <tr>\n",
       "      <th>0</th>\n",
       "      <td>ID_0fbf6a978_epidural</td>\n",
       "      <td>0.5</td>\n",
       "    </tr>\n",
       "    <tr>\n",
       "      <th>1</th>\n",
       "      <td>ID_0fbf6a978_intraparenchymal</td>\n",
       "      <td>0.5</td>\n",
       "    </tr>\n",
       "    <tr>\n",
       "      <th>2</th>\n",
       "      <td>ID_0fbf6a978_intraventricular</td>\n",
       "      <td>0.5</td>\n",
       "    </tr>\n",
       "    <tr>\n",
       "      <th>3</th>\n",
       "      <td>ID_0fbf6a978_subarachnoid</td>\n",
       "      <td>0.5</td>\n",
       "    </tr>\n",
       "    <tr>\n",
       "      <th>4</th>\n",
       "      <td>ID_0fbf6a978_subdural</td>\n",
       "      <td>0.5</td>\n",
       "    </tr>\n",
       "  </tbody>\n",
       "</table>\n",
       "</div>"
      ],
      "text/plain": [
       "                              ID  Label\n",
       "0          ID_0fbf6a978_epidural    0.5\n",
       "1  ID_0fbf6a978_intraparenchymal    0.5\n",
       "2  ID_0fbf6a978_intraventricular    0.5\n",
       "3      ID_0fbf6a978_subarachnoid    0.5\n",
       "4          ID_0fbf6a978_subdural    0.5"
      ]
     },
     "execution_count": 6,
     "metadata": {},
     "output_type": "execute_result"
    },
    {
     "data": {
      "text/plain": [
       "(727392, 2)"
      ]
     },
     "execution_count": 6,
     "metadata": {},
     "output_type": "execute_result"
    }
   ],
   "source": [
    "sample_submission=pd.read_csv(data_dir+'stage_2_sample_submission.csv')\n",
    "sample_submission.head()\n",
    "sample_submission.shape"
   ]
  },
  {
   "cell_type": "code",
   "execution_count": 16,
   "metadata": {},
   "outputs": [
    {
     "data": {
      "text/html": [
       "<div>\n",
       "<style scoped>\n",
       "    .dataframe tbody tr th:only-of-type {\n",
       "        vertical-align: middle;\n",
       "    }\n",
       "\n",
       "    .dataframe tbody tr th {\n",
       "        vertical-align: top;\n",
       "    }\n",
       "\n",
       "    .dataframe thead th {\n",
       "        text-align: right;\n",
       "    }\n",
       "</style>\n",
       "<table border=\"1\" class=\"dataframe\">\n",
       "  <thead>\n",
       "    <tr style=\"text-align: right;\">\n",
       "      <th></th>\n",
       "      <th>ID</th>\n",
       "      <th>Label</th>\n",
       "      <th>Sub_type</th>\n",
       "      <th>PatientID</th>\n",
       "    </tr>\n",
       "  </thead>\n",
       "  <tbody>\n",
       "    <tr>\n",
       "      <th>0</th>\n",
       "      <td>ID_0fbf6a978_epidural</td>\n",
       "      <td>0.5</td>\n",
       "      <td>epidural</td>\n",
       "      <td>0fbf6a978</td>\n",
       "    </tr>\n",
       "    <tr>\n",
       "      <th>1</th>\n",
       "      <td>ID_0fbf6a978_intraparenchymal</td>\n",
       "      <td>0.5</td>\n",
       "      <td>intraparenchymal</td>\n",
       "      <td>0fbf6a978</td>\n",
       "    </tr>\n",
       "    <tr>\n",
       "      <th>2</th>\n",
       "      <td>ID_0fbf6a978_intraventricular</td>\n",
       "      <td>0.5</td>\n",
       "      <td>intraventricular</td>\n",
       "      <td>0fbf6a978</td>\n",
       "    </tr>\n",
       "    <tr>\n",
       "      <th>3</th>\n",
       "      <td>ID_0fbf6a978_subarachnoid</td>\n",
       "      <td>0.5</td>\n",
       "      <td>subarachnoid</td>\n",
       "      <td>0fbf6a978</td>\n",
       "    </tr>\n",
       "    <tr>\n",
       "      <th>4</th>\n",
       "      <td>ID_0fbf6a978_subdural</td>\n",
       "      <td>0.5</td>\n",
       "      <td>subdural</td>\n",
       "      <td>0fbf6a978</td>\n",
       "    </tr>\n",
       "  </tbody>\n",
       "</table>\n",
       "</div>"
      ],
      "text/plain": [
       "                              ID  Label          Sub_type  PatientID\n",
       "0          ID_0fbf6a978_epidural    0.5          epidural  0fbf6a978\n",
       "1  ID_0fbf6a978_intraparenchymal    0.5  intraparenchymal  0fbf6a978\n",
       "2  ID_0fbf6a978_intraventricular    0.5  intraventricular  0fbf6a978\n",
       "3      ID_0fbf6a978_subarachnoid    0.5      subarachnoid  0fbf6a978\n",
       "4          ID_0fbf6a978_subdural    0.5          subdural  0fbf6a978"
      ]
     },
     "execution_count": 16,
     "metadata": {},
     "output_type": "execute_result"
    }
   ],
   "source": [
    "test_base_df=sample_submission.copy()\n",
    "test_base_df['Sub_type'] = test_base_df['ID'].str.split(\"_\", n = 3, expand = True)[2]\n",
    "test_base_df['PatientID'] = test_base_df['ID'].str.split(\"_\", n = 3, expand = True)[1]\n",
    "test_base_df.head()"
   ]
  },
  {
   "cell_type": "code",
   "execution_count": 17,
   "metadata": {},
   "outputs": [],
   "source": [
    "assert test_base_df.shape[0] == test_base_df.PatientID.unique().shape[0]*6"
   ]
  },
  {
   "cell_type": "code",
   "execution_count": 18,
   "metadata": {},
   "outputs": [
    {
     "data": {
      "text/plain": [
       "array(['epidural', 'intraparenchymal', 'intraventricular', 'subarachnoid',\n",
       "       'subdural', 'any'], dtype=object)"
      ]
     },
     "execution_count": 18,
     "metadata": {},
     "output_type": "execute_result"
    }
   ],
   "source": [
    "sub_types=test_base_df.Sub_type.unique()\n",
    "sub_types"
   ]
  },
  {
   "cell_type": "code",
   "execution_count": 19,
   "metadata": {},
   "outputs": [
    {
     "data": {
      "application/vnd.jupyter.widget-view+json": {
       "model_id": "d5807aba610f456a8a1a9925b9ceabf8",
       "version_major": 2,
       "version_minor": 0
      },
      "text/plain": [
       "HBox(children=(IntProgress(value=0, max=6), HTML(value='')))"
      ]
     },
     "metadata": {},
     "output_type": "display_data"
    },
    {
     "name": "stdout",
     "output_type": "stream",
     "text": [
      "\n"
     ]
    },
    {
     "data": {
      "application/vnd.jupyter.widget-view+json": {
       "model_id": "33599a1e02be4eac83b46265812497d1",
       "version_major": 2,
       "version_minor": 0
      },
      "text/plain": [
       "HBox(children=(IntProgress(value=0, max=5), HTML(value='')))"
      ]
     },
     "metadata": {},
     "output_type": "display_data"
    },
    {
     "name": "stdout",
     "output_type": "stream",
     "text": [
      "\n"
     ]
    }
   ],
   "source": [
    "dfs =[]\n",
    "for sub_type in tqdm_notebook(sub_types):\n",
    "    df = test_base_df[test_base_df.Sub_type==sub_type][['PatientID','Label']].copy()\n",
    "    df=df.rename(columns={\"Label\": sub_type}).reset_index(drop=True)\n",
    "    dfs.append(df)\n",
    "test_df=dfs[0]\n",
    "for df in tqdm_notebook(dfs[1:]):\n",
    "    test_df=test_df.merge(df,on='PatientID')"
   ]
  },
  {
   "cell_type": "code",
   "execution_count": 20,
   "metadata": {},
   "outputs": [],
   "source": [
    "test_ids=test_df.PatientID.unique()"
   ]
  },
  {
   "cell_type": "code",
   "execution_count": 21,
   "metadata": {},
   "outputs": [
    {
     "data": {
      "text/html": [
       "<div>\n",
       "<style scoped>\n",
       "    .dataframe tbody tr th:only-of-type {\n",
       "        vertical-align: middle;\n",
       "    }\n",
       "\n",
       "    .dataframe tbody tr th {\n",
       "        vertical-align: top;\n",
       "    }\n",
       "\n",
       "    .dataframe thead th {\n",
       "        text-align: right;\n",
       "    }\n",
       "</style>\n",
       "<table border=\"1\" class=\"dataframe\">\n",
       "  <thead>\n",
       "    <tr style=\"text-align: right;\">\n",
       "      <th></th>\n",
       "      <th>PatientID</th>\n",
       "      <th>epidural</th>\n",
       "      <th>intraparenchymal</th>\n",
       "      <th>intraventricular</th>\n",
       "      <th>subarachnoid</th>\n",
       "      <th>subdural</th>\n",
       "      <th>any</th>\n",
       "    </tr>\n",
       "  </thead>\n",
       "  <tbody>\n",
       "    <tr>\n",
       "      <th>0</th>\n",
       "      <td>0fbf6a978</td>\n",
       "      <td>0.5</td>\n",
       "      <td>0.5</td>\n",
       "      <td>0.5</td>\n",
       "      <td>0.5</td>\n",
       "      <td>0.5</td>\n",
       "      <td>0.5</td>\n",
       "    </tr>\n",
       "    <tr>\n",
       "      <th>1</th>\n",
       "      <td>d62ec3412</td>\n",
       "      <td>0.5</td>\n",
       "      <td>0.5</td>\n",
       "      <td>0.5</td>\n",
       "      <td>0.5</td>\n",
       "      <td>0.5</td>\n",
       "      <td>0.5</td>\n",
       "    </tr>\n",
       "    <tr>\n",
       "      <th>2</th>\n",
       "      <td>cb544194b</td>\n",
       "      <td>0.5</td>\n",
       "      <td>0.5</td>\n",
       "      <td>0.5</td>\n",
       "      <td>0.5</td>\n",
       "      <td>0.5</td>\n",
       "      <td>0.5</td>\n",
       "    </tr>\n",
       "    <tr>\n",
       "      <th>3</th>\n",
       "      <td>0d62513ec</td>\n",
       "      <td>0.5</td>\n",
       "      <td>0.5</td>\n",
       "      <td>0.5</td>\n",
       "      <td>0.5</td>\n",
       "      <td>0.5</td>\n",
       "      <td>0.5</td>\n",
       "    </tr>\n",
       "    <tr>\n",
       "      <th>4</th>\n",
       "      <td>fc45b2151</td>\n",
       "      <td>0.5</td>\n",
       "      <td>0.5</td>\n",
       "      <td>0.5</td>\n",
       "      <td>0.5</td>\n",
       "      <td>0.5</td>\n",
       "      <td>0.5</td>\n",
       "    </tr>\n",
       "  </tbody>\n",
       "</table>\n",
       "</div>"
      ],
      "text/plain": [
       "   PatientID  epidural  intraparenchymal  intraventricular  subarachnoid  \\\n",
       "0  0fbf6a978       0.5               0.5               0.5           0.5   \n",
       "1  d62ec3412       0.5               0.5               0.5           0.5   \n",
       "2  cb544194b       0.5               0.5               0.5           0.5   \n",
       "3  0d62513ec       0.5               0.5               0.5           0.5   \n",
       "4  fc45b2151       0.5               0.5               0.5           0.5   \n",
       "\n",
       "   subdural  any  \n",
       "0       0.5  0.5  \n",
       "1       0.5  0.5  \n",
       "2       0.5  0.5  \n",
       "3       0.5  0.5  \n",
       "4       0.5  0.5  "
      ]
     },
     "execution_count": 21,
     "metadata": {},
     "output_type": "execute_result"
    }
   ],
   "source": [
    "test_df.head()"
   ]
  },
  {
   "cell_type": "code",
   "execution_count": 22,
   "metadata": {},
   "outputs": [
    {
     "data": {
      "application/vnd.jupyter.widget-view+json": {
       "model_id": "6ff9284f292c43e2814ed32a3c21fd1f",
       "version_major": 2,
       "version_minor": 0
      },
      "text/plain": [
       "HBox(children=(IntProgress(value=0, max=121232), HTML(value='')))"
      ]
     },
     "metadata": {},
     "output_type": "display_data"
    },
    {
     "name": "stdout",
     "output_type": "stream",
     "text": [
      "\n"
     ]
    }
   ],
   "source": [
    "PID = np.zeros(test_df.shape[0],dtype=object)\n",
    "StudyI = np.zeros(test_df.shape[0],dtype=object)\n",
    "SeriesI = np.zeros(test_df.shape[0],dtype=object)\n",
    "WindowCenter = np.zeros(test_df.shape[0],dtype=object)\n",
    "WindowWidth = np.zeros(test_df.shape[0],dtype=object)\n",
    "ImagePositionX = np.zeros(test_df.shape[0],dtype=np.float)\n",
    "ImagePositionY = np.zeros(test_df.shape[0],dtype=np.float)\n",
    "ImagePositionZ = np.zeros(test_df.shape[0],dtype=np.float)\n",
    "\n",
    "for i,row in tqdm_notebook(test_df.iterrows(),total=test_df.shape[0]):\n",
    "    ds = pydicom.dcmread(test_images_dir + 'ID_{}.dcm'.format(row['PatientID']))\n",
    "    SeriesI[i]=ds.SeriesInstanceUID\n",
    "    PID[i]=ds.PatientID\n",
    "    StudyI[i]=ds.StudyInstanceUID \n",
    "    WindowCenter[i]=ds.WindowCenter\n",
    "    WindowWidth[i]=ds.WindowWidth\n",
    "    ImagePositionX[i]=float(ds.ImagePositionPatient[0])\n",
    "    ImagePositionY[i]=float(ds.ImagePositionPatient[1])\n",
    "    ImagePositionZ[i]=float(ds.ImagePositionPatient[2])\n",
    "test_df['SeriesI']=SeriesI\n",
    "test_df['PID']=PID\n",
    "test_df['StudyI']=StudyI\n",
    "test_df['WindowCenter']=WindowCenter\n",
    "test_df['WindowWidth']=WindowWidth\n",
    "test_df['ImagePositionZ']=ImagePositionZ\n",
    "test_df['ImagePositionX']=ImagePositionX\n",
    "test_df['ImagePositionY']=ImagePositionY\n"
   ]
  },
  {
   "cell_type": "code",
   "execution_count": 25,
   "metadata": {},
   "outputs": [],
   "source": [
    "test_df['SeriesI'] = test_df['SeriesI'].str.split(\"_\", n = 3, expand = True)[1]\n",
    "test_df['PID'] = test_df['PID'].str.split(\"_\", n = 3, expand = True)[1]\n",
    "test_df['StudyI'] = test_df['StudyI'].str.split(\"_\", n = 3, expand = True)[1]\n"
   ]
  },
  {
   "cell_type": "code",
   "execution_count": 4,
   "metadata": {},
   "outputs": [
    {
     "data": {
      "text/html": [
       "<div>\n",
       "<style scoped>\n",
       "    .dataframe tbody tr th:only-of-type {\n",
       "        vertical-align: middle;\n",
       "    }\n",
       "\n",
       "    .dataframe tbody tr th {\n",
       "        vertical-align: top;\n",
       "    }\n",
       "\n",
       "    .dataframe thead th {\n",
       "        text-align: right;\n",
       "    }\n",
       "</style>\n",
       "<table border=\"1\" class=\"dataframe\">\n",
       "  <thead>\n",
       "    <tr style=\"text-align: right;\">\n",
       "      <th></th>\n",
       "      <th>PatientID</th>\n",
       "      <th>epidural</th>\n",
       "      <th>intraparenchymal</th>\n",
       "      <th>intraventricular</th>\n",
       "      <th>subarachnoid</th>\n",
       "      <th>subdural</th>\n",
       "      <th>any</th>\n",
       "      <th>SeriesI</th>\n",
       "      <th>PID</th>\n",
       "      <th>StudyI</th>\n",
       "      <th>WindowCenter</th>\n",
       "      <th>WindowWidth</th>\n",
       "      <th>ImagePositionZ</th>\n",
       "      <th>ImagePositionX</th>\n",
       "      <th>ImagePositionY</th>\n",
       "    </tr>\n",
       "  </thead>\n",
       "  <tbody>\n",
       "    <tr>\n",
       "      <th>0</th>\n",
       "      <td>0fbf6a978</td>\n",
       "      <td>0.5</td>\n",
       "      <td>0.5</td>\n",
       "      <td>0.5</td>\n",
       "      <td>0.5</td>\n",
       "      <td>0.5</td>\n",
       "      <td>0.5</td>\n",
       "      <td>48eaa460c6</td>\n",
       "      <td>3556ae0e</td>\n",
       "      <td>3710aff1c5</td>\n",
       "      <td>40</td>\n",
       "      <td>100</td>\n",
       "      <td>37.690857</td>\n",
       "      <td>-125.0</td>\n",
       "      <td>-117.830185</td>\n",
       "    </tr>\n",
       "    <tr>\n",
       "      <th>1</th>\n",
       "      <td>d62ec3412</td>\n",
       "      <td>0.5</td>\n",
       "      <td>0.5</td>\n",
       "      <td>0.5</td>\n",
       "      <td>0.5</td>\n",
       "      <td>0.5</td>\n",
       "      <td>0.5</td>\n",
       "      <td>389cec2e11</td>\n",
       "      <td>c667d610</td>\n",
       "      <td>8e38d86ede</td>\n",
       "      <td>['00036', '00036']</td>\n",
       "      <td>['00080', '00080']</td>\n",
       "      <td>762.200043</td>\n",
       "      <td>-66.0</td>\n",
       "      <td>-10.000000</td>\n",
       "    </tr>\n",
       "    <tr>\n",
       "      <th>2</th>\n",
       "      <td>cb544194b</td>\n",
       "      <td>0.5</td>\n",
       "      <td>0.5</td>\n",
       "      <td>0.5</td>\n",
       "      <td>0.5</td>\n",
       "      <td>0.5</td>\n",
       "      <td>0.5</td>\n",
       "      <td>a6ebe3ca4f</td>\n",
       "      <td>9389d3b6</td>\n",
       "      <td>7040866911</td>\n",
       "      <td>['00036', '00036']</td>\n",
       "      <td>['00080', '00080']</td>\n",
       "      <td>818.400024</td>\n",
       "      <td>-105.0</td>\n",
       "      <td>6.000000</td>\n",
       "    </tr>\n",
       "    <tr>\n",
       "      <th>3</th>\n",
       "      <td>0d62513ec</td>\n",
       "      <td>0.5</td>\n",
       "      <td>0.5</td>\n",
       "      <td>0.5</td>\n",
       "      <td>0.5</td>\n",
       "      <td>0.5</td>\n",
       "      <td>0.5</td>\n",
       "      <td>01c388cfe3</td>\n",
       "      <td>79cdc6e4</td>\n",
       "      <td>07c298b5be</td>\n",
       "      <td>30</td>\n",
       "      <td>80</td>\n",
       "      <td>31.857132</td>\n",
       "      <td>-125.0</td>\n",
       "      <td>-112.984024</td>\n",
       "    </tr>\n",
       "    <tr>\n",
       "      <th>4</th>\n",
       "      <td>fc45b2151</td>\n",
       "      <td>0.5</td>\n",
       "      <td>0.5</td>\n",
       "      <td>0.5</td>\n",
       "      <td>0.5</td>\n",
       "      <td>0.5</td>\n",
       "      <td>0.5</td>\n",
       "      <td>d16ad143cb</td>\n",
       "      <td>39eb6eb6</td>\n",
       "      <td>6a15b35eae</td>\n",
       "      <td>['00036', '00036']</td>\n",
       "      <td>['00080', '00080']</td>\n",
       "      <td>424.099976</td>\n",
       "      <td>-102.5</td>\n",
       "      <td>14.500000</td>\n",
       "    </tr>\n",
       "  </tbody>\n",
       "</table>\n",
       "</div>"
      ],
      "text/plain": [
       "   PatientID  epidural  intraparenchymal  intraventricular  subarachnoid  \\\n",
       "0  0fbf6a978       0.5               0.5               0.5           0.5   \n",
       "1  d62ec3412       0.5               0.5               0.5           0.5   \n",
       "2  cb544194b       0.5               0.5               0.5           0.5   \n",
       "3  0d62513ec       0.5               0.5               0.5           0.5   \n",
       "4  fc45b2151       0.5               0.5               0.5           0.5   \n",
       "\n",
       "   subdural  any     SeriesI       PID      StudyI        WindowCenter  \\\n",
       "0       0.5  0.5  48eaa460c6  3556ae0e  3710aff1c5                  40   \n",
       "1       0.5  0.5  389cec2e11  c667d610  8e38d86ede  ['00036', '00036']   \n",
       "2       0.5  0.5  a6ebe3ca4f  9389d3b6  7040866911  ['00036', '00036']   \n",
       "3       0.5  0.5  01c388cfe3  79cdc6e4  07c298b5be                  30   \n",
       "4       0.5  0.5  d16ad143cb  39eb6eb6  6a15b35eae  ['00036', '00036']   \n",
       "\n",
       "          WindowWidth  ImagePositionZ  ImagePositionX  ImagePositionY  \n",
       "0                 100       37.690857          -125.0     -117.830185  \n",
       "1  ['00080', '00080']      762.200043           -66.0      -10.000000  \n",
       "2  ['00080', '00080']      818.400024          -105.0        6.000000  \n",
       "3                  80       31.857132          -125.0     -112.984024  \n",
       "4  ['00080', '00080']      424.099976          -102.5       14.500000  "
      ]
     },
     "execution_count": 4,
     "metadata": {},
     "output_type": "execute_result"
    }
   ],
   "source": [
    "test_df.head()"
   ]
  },
  {
   "cell_type": "code",
   "execution_count": 27,
   "metadata": {},
   "outputs": [],
   "source": [
    "test_df.to_csv(data_dir+'test_stage2.csv',index=False)"
   ]
  },
  {
   "cell_type": "code",
   "execution_count": 3,
   "metadata": {},
   "outputs": [],
   "source": [
    "test_df=pd.read_csv(data_dir+'test_stage2.csv')"
   ]
  },
  {
   "cell_type": "code",
   "execution_count": 5,
   "metadata": {},
   "outputs": [],
   "source": [
    "pickle_file=open(outputs_dir+'test_indexes_stage2.pkl','wb')\n",
    "pickle.dump(test_df.PatientID.values,pickle_file,protocol=4)\n",
    "pickle_file.close()"
   ]
  },
  {
   "cell_type": "code",
   "execution_count": null,
   "metadata": {},
   "outputs": [],
   "source": []
  }
 ],
 "metadata": {
  "kernelspec": {
   "display_name": "Python 3",
   "language": "python",
   "name": "python3"
  },
  "language_info": {
   "codemirror_mode": {
    "name": "ipython",
    "version": 3
   },
   "file_extension": ".py",
   "mimetype": "text/x-python",
   "name": "python",
   "nbconvert_exporter": "python",
   "pygments_lexer": "ipython3",
   "version": "3.6.6"
  }
 },
 "nbformat": 4,
 "nbformat_minor": 2
}
