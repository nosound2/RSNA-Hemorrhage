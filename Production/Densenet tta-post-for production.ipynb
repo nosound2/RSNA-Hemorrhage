{
 "cells": [
  {
   "cell_type": "code",
   "execution_count": 1,
   "metadata": {},
   "outputs": [
    {
     "name": "stderr",
     "output_type": "stream",
     "text": [
      "/home/reina/anaconda3/envs/RSNA/lib/python3.6/importlib/_bootstrap.py:219: ImportWarning: can't resolve package from __spec__ or __package__, falling back on __name__ and __path__\n",
      "  return f(*args, **kwds)\n",
      "/home/reina/anaconda3/envs/RSNA/lib/python3.6/importlib/_bootstrap.py:219: ImportWarning: can't resolve package from __spec__ or __package__, falling back on __name__ and __path__\n",
      "  return f(*args, **kwds)\n"
     ]
    }
   ],
   "source": [
    "from __future__ import absolute_import\n",
    "from __future__ import division\n",
    "from __future__ import print_function\n",
    "\n",
    "\n",
    "import numpy as np # linear algebra\n",
    "import pandas as pd # data processing, CSV file I/O (e.g. pd.read_csv)\n",
    "import os\n",
    "import datetime\n",
    "import seaborn as sns\n",
    "\n",
    "#import pydicom\n",
    "import time\n",
    "import gc\n",
    "import operator \n",
    "import matplotlib.pyplot as plt\n",
    "import torch\n",
    "import torch.nn as nn\n",
    "import torch.utils.data as D\n",
    "import torch.nn.functional as F\n",
    "from sklearn.model_selection import KFold\n",
    "from tqdm import tqdm, tqdm_notebook\n",
    "from IPython.core.interactiveshell import InteractiveShell\n",
    "InteractiveShell.ast_node_interactivity = \"all\"\n",
    "import warnings\n",
    "warnings.filterwarnings(action='once')\n",
    "import pickle\n",
    "%load_ext autoreload\n",
    "%autoreload 2\n",
    "%matplotlib inline\n",
    "from skimage.io import imread,imshow\n",
    "from helper import *\n",
    "import helper\n",
    "import torchvision.models as models\n",
    "from torch.optim import Adam\n",
    "from defenitions import *"
   ]
  },
  {
   "cell_type": "code",
   "execution_count": 2,
   "metadata": {},
   "outputs": [],
   "source": [
    "SEED = 8153\n",
    "#device=device_by_name(\"Tesla\")\n",
    "device=device_by_name(\"RTX\")\n",
    "#device=device_by_name(\"1060\")\n",
    "torch.cuda.set_device(device)\n",
    "#device = \"cpu\"\n",
    "sendmeemail=Email_Progress(my_gmail,my_pass,to_email,'Densenet161-Copy2-2 results')"
   ]
  },
  {
   "cell_type": "code",
   "execution_count": 3,
   "metadata": {},
   "outputs": [],
   "source": [
    "def get_submission(test_df,pred):\n",
    "    epidural_df=pd.DataFrame(data={'ID':'ID_'+test_df.PatientID.values+'_epidural','Label':torch.sigmoid(pred[:,0])})\n",
    "    intraparenchymal_df=pd.DataFrame(data={'ID':'ID_'+test_df.PatientID.values+'_intraparenchymal','Label':torch.sigmoid(pred[:,1])})\n",
    "    intraventricular_df=pd.DataFrame(data={'ID':'ID_'+test_df.PatientID.values+'_intraventricular','Label':torch.sigmoid(pred[:,2])})\n",
    "    subarachnoid_df=pd.DataFrame(data={'ID':'ID_'+test_df.PatientID.values+'_subarachnoid','Label':torch.sigmoid(pred[:,3])})\n",
    "    subdural_df=pd.DataFrame(data={'ID':'ID_'+test_df.PatientID.values+'_subdural','Label':torch.sigmoid(pred[:,4])})\n",
    "    any_df=pd.DataFrame(data={'ID':'ID_'+test_df.PatientID.values+'_any','Label':torch.sigmoid(pred[:,5])}) \n",
    "    return pd.concat([epidural_df,\n",
    "                        intraparenchymal_df,\n",
    "                        intraventricular_df,\n",
    "                        subarachnoid_df,\n",
    "                        subdural_df,\n",
    "                        any_df]).sort_values('ID').reset_index(drop=True)"
   ]
  },
  {
   "cell_type": "code",
   "execution_count": 4,
   "metadata": {},
   "outputs": [],
   "source": [
    "def get_submission_ids(image_ids,pred):\n",
    "    epidural_df=pd.DataFrame(data={'ID':'ID_'+image_ids+'_epidural','Label':torch.sigmoid(pred[:,0])})\n",
    "    intraparenchymal_df=pd.DataFrame(data={'ID':'ID_'+image_ids+'_intraparenchymal','Label':torch.sigmoid(pred[:,1])})\n",
    "    intraventricular_df=pd.DataFrame(data={'ID':'ID_'+image_ids+'_intraventricular','Label':torch.sigmoid(pred[:,2])})\n",
    "    subarachnoid_df=pd.DataFrame(data={'ID':'ID_'+image_ids+'_subarachnoid','Label':torch.sigmoid(pred[:,3])})\n",
    "    subdural_df=pd.DataFrame(data={'ID':'ID_'+image_ids+'_subdural','Label':torch.sigmoid(pred[:,4])})\n",
    "    any_df=pd.DataFrame(data={'ID':'ID_'+image_ids+'_any','Label':torch.sigmoid(pred[:,5])}) \n",
    "    return pd.concat([epidural_df,\n",
    "                        intraparenchymal_df,\n",
    "                        intraventricular_df,\n",
    "                        subarachnoid_df,\n",
    "                        subdural_df,\n",
    "                        any_df]).sort_values('ID').reset_index(drop=True)"
   ]
  },
  {
   "cell_type": "code",
   "execution_count": 5,
   "metadata": {},
   "outputs": [
    {
     "data": {
      "text/plain": [
       "(674510, 15)"
      ]
     },
     "execution_count": 5,
     "metadata": {},
     "output_type": "execute_result"
    },
    {
     "data": {
      "text/plain": [
       "(674252, 15)"
      ]
     },
     "execution_count": 5,
     "metadata": {},
     "output_type": "execute_result"
    },
    {
     "data": {
      "text/html": [
       "<div>\n",
       "<style scoped>\n",
       "    .dataframe tbody tr th:only-of-type {\n",
       "        vertical-align: middle;\n",
       "    }\n",
       "\n",
       "    .dataframe tbody tr th {\n",
       "        vertical-align: top;\n",
       "    }\n",
       "\n",
       "    .dataframe thead th {\n",
       "        text-align: right;\n",
       "    }\n",
       "</style>\n",
       "<table border=\"1\" class=\"dataframe\">\n",
       "  <thead>\n",
       "    <tr style=\"text-align: right;\">\n",
       "      <th></th>\n",
       "      <th>PatientID</th>\n",
       "      <th>epidural</th>\n",
       "      <th>intraparenchymal</th>\n",
       "      <th>intraventricular</th>\n",
       "      <th>subarachnoid</th>\n",
       "      <th>subdural</th>\n",
       "      <th>any</th>\n",
       "      <th>PID</th>\n",
       "      <th>StudyI</th>\n",
       "      <th>SeriesI</th>\n",
       "      <th>WindowCenter</th>\n",
       "      <th>WindowWidth</th>\n",
       "      <th>ImagePositionZ</th>\n",
       "      <th>ImagePositionX</th>\n",
       "      <th>ImagePositionY</th>\n",
       "    </tr>\n",
       "  </thead>\n",
       "  <tbody>\n",
       "    <tr>\n",
       "      <th>0</th>\n",
       "      <td>63eb1e259</td>\n",
       "      <td>0</td>\n",
       "      <td>0</td>\n",
       "      <td>0</td>\n",
       "      <td>0</td>\n",
       "      <td>0</td>\n",
       "      <td>0</td>\n",
       "      <td>a449357f</td>\n",
       "      <td>62d125e5b2</td>\n",
       "      <td>0be5c0d1b3</td>\n",
       "      <td>['00036', '00036']</td>\n",
       "      <td>['00080', '00080']</td>\n",
       "      <td>180.199951</td>\n",
       "      <td>-125.0</td>\n",
       "      <td>-8.000000</td>\n",
       "    </tr>\n",
       "    <tr>\n",
       "      <th>1</th>\n",
       "      <td>2669954a7</td>\n",
       "      <td>0</td>\n",
       "      <td>0</td>\n",
       "      <td>0</td>\n",
       "      <td>0</td>\n",
       "      <td>0</td>\n",
       "      <td>0</td>\n",
       "      <td>363d5865</td>\n",
       "      <td>a20b80c7bf</td>\n",
       "      <td>3564d584db</td>\n",
       "      <td>['00047', '00047']</td>\n",
       "      <td>['00080', '00080']</td>\n",
       "      <td>922.530821</td>\n",
       "      <td>-156.0</td>\n",
       "      <td>45.572849</td>\n",
       "    </tr>\n",
       "    <tr>\n",
       "      <th>2</th>\n",
       "      <td>52c9913b1</td>\n",
       "      <td>0</td>\n",
       "      <td>0</td>\n",
       "      <td>0</td>\n",
       "      <td>0</td>\n",
       "      <td>0</td>\n",
       "      <td>0</td>\n",
       "      <td>9c2b4bd7</td>\n",
       "      <td>3e3634f8cf</td>\n",
       "      <td>973274ffc9</td>\n",
       "      <td>40</td>\n",
       "      <td>150</td>\n",
       "      <td>4.455000</td>\n",
       "      <td>-125.0</td>\n",
       "      <td>-115.063000</td>\n",
       "    </tr>\n",
       "    <tr>\n",
       "      <th>3</th>\n",
       "      <td>4e6ff6126</td>\n",
       "      <td>0</td>\n",
       "      <td>0</td>\n",
       "      <td>0</td>\n",
       "      <td>0</td>\n",
       "      <td>0</td>\n",
       "      <td>0</td>\n",
       "      <td>3ae81c2d</td>\n",
       "      <td>a1390c15c2</td>\n",
       "      <td>e5ccad8244</td>\n",
       "      <td>['00036', '00036']</td>\n",
       "      <td>['00080', '00080']</td>\n",
       "      <td>100.000000</td>\n",
       "      <td>-99.5</td>\n",
       "      <td>28.500000</td>\n",
       "    </tr>\n",
       "    <tr>\n",
       "      <th>4</th>\n",
       "      <td>7858edd88</td>\n",
       "      <td>0</td>\n",
       "      <td>0</td>\n",
       "      <td>0</td>\n",
       "      <td>0</td>\n",
       "      <td>0</td>\n",
       "      <td>0</td>\n",
       "      <td>c1867feb</td>\n",
       "      <td>c73e81ed3a</td>\n",
       "      <td>28e0531b3a</td>\n",
       "      <td>40</td>\n",
       "      <td>100</td>\n",
       "      <td>145.793000</td>\n",
       "      <td>-125.0</td>\n",
       "      <td>-132.190000</td>\n",
       "    </tr>\n",
       "  </tbody>\n",
       "</table>\n",
       "</div>"
      ],
      "text/plain": [
       "   PatientID  epidural  intraparenchymal  intraventricular  subarachnoid  \\\n",
       "0  63eb1e259         0                 0                 0             0   \n",
       "1  2669954a7         0                 0                 0             0   \n",
       "2  52c9913b1         0                 0                 0             0   \n",
       "3  4e6ff6126         0                 0                 0             0   \n",
       "4  7858edd88         0                 0                 0             0   \n",
       "\n",
       "   subdural  any       PID      StudyI     SeriesI        WindowCenter  \\\n",
       "0         0    0  a449357f  62d125e5b2  0be5c0d1b3  ['00036', '00036']   \n",
       "1         0    0  363d5865  a20b80c7bf  3564d584db  ['00047', '00047']   \n",
       "2         0    0  9c2b4bd7  3e3634f8cf  973274ffc9                  40   \n",
       "3         0    0  3ae81c2d  a1390c15c2  e5ccad8244  ['00036', '00036']   \n",
       "4         0    0  c1867feb  c73e81ed3a  28e0531b3a                  40   \n",
       "\n",
       "          WindowWidth  ImagePositionZ  ImagePositionX  ImagePositionY  \n",
       "0  ['00080', '00080']      180.199951          -125.0       -8.000000  \n",
       "1  ['00080', '00080']      922.530821          -156.0       45.572849  \n",
       "2                 150        4.455000          -125.0     -115.063000  \n",
       "3  ['00080', '00080']      100.000000           -99.5       28.500000  \n",
       "4                 100      145.793000          -125.0     -132.190000  "
      ]
     },
     "execution_count": 5,
     "metadata": {},
     "output_type": "execute_result"
    }
   ],
   "source": [
    "train_df = pd.read_csv(data_dir+'train.csv')\n",
    "train_df.shape\n",
    "train_df=train_df[~train_df.PatientID.isin(bad_images)].reset_index(drop=True)\n",
    "train_df=train_df.drop_duplicates().reset_index(drop=True)\n",
    "train_df.shape\n",
    "train_df.head()"
   ]
  },
  {
   "cell_type": "code",
   "execution_count": 6,
   "metadata": {},
   "outputs": [
    {
     "data": {
      "text/html": [
       "<div>\n",
       "<style scoped>\n",
       "    .dataframe tbody tr th:only-of-type {\n",
       "        vertical-align: middle;\n",
       "    }\n",
       "\n",
       "    .dataframe tbody tr th {\n",
       "        vertical-align: top;\n",
       "    }\n",
       "\n",
       "    .dataframe thead th {\n",
       "        text-align: right;\n",
       "    }\n",
       "</style>\n",
       "<table border=\"1\" class=\"dataframe\">\n",
       "  <thead>\n",
       "    <tr style=\"text-align: right;\">\n",
       "      <th></th>\n",
       "      <th>PatientID</th>\n",
       "      <th>epidural</th>\n",
       "      <th>intraparenchymal</th>\n",
       "      <th>intraventricular</th>\n",
       "      <th>subarachnoid</th>\n",
       "      <th>subdural</th>\n",
       "      <th>any</th>\n",
       "      <th>SeriesI</th>\n",
       "      <th>PID</th>\n",
       "      <th>StudyI</th>\n",
       "      <th>WindowCenter</th>\n",
       "      <th>WindowWidth</th>\n",
       "      <th>ImagePositionZ</th>\n",
       "      <th>ImagePositionX</th>\n",
       "      <th>ImagePositionY</th>\n",
       "    </tr>\n",
       "  </thead>\n",
       "  <tbody>\n",
       "    <tr>\n",
       "      <th>0</th>\n",
       "      <td>28fbab7eb</td>\n",
       "      <td>0.5</td>\n",
       "      <td>0.5</td>\n",
       "      <td>0.5</td>\n",
       "      <td>0.5</td>\n",
       "      <td>0.5</td>\n",
       "      <td>0.5</td>\n",
       "      <td>ebfd7e4506</td>\n",
       "      <td>cf1b6b11</td>\n",
       "      <td>93407cadbb</td>\n",
       "      <td>30</td>\n",
       "      <td>80</td>\n",
       "      <td>158.458000</td>\n",
       "      <td>-125.0</td>\n",
       "      <td>-135.598000</td>\n",
       "    </tr>\n",
       "    <tr>\n",
       "      <th>1</th>\n",
       "      <td>877923b8b</td>\n",
       "      <td>0.5</td>\n",
       "      <td>0.5</td>\n",
       "      <td>0.5</td>\n",
       "      <td>0.5</td>\n",
       "      <td>0.5</td>\n",
       "      <td>0.5</td>\n",
       "      <td>6d95084e15</td>\n",
       "      <td>ad8ea58f</td>\n",
       "      <td>a337baa067</td>\n",
       "      <td>30</td>\n",
       "      <td>80</td>\n",
       "      <td>138.729050</td>\n",
       "      <td>-125.0</td>\n",
       "      <td>-101.797981</td>\n",
       "    </tr>\n",
       "    <tr>\n",
       "      <th>2</th>\n",
       "      <td>a591477cb</td>\n",
       "      <td>0.5</td>\n",
       "      <td>0.5</td>\n",
       "      <td>0.5</td>\n",
       "      <td>0.5</td>\n",
       "      <td>0.5</td>\n",
       "      <td>0.5</td>\n",
       "      <td>8e06b2c9e0</td>\n",
       "      <td>ecfb278b</td>\n",
       "      <td>0cfe838d54</td>\n",
       "      <td>30</td>\n",
       "      <td>80</td>\n",
       "      <td>60.830002</td>\n",
       "      <td>-125.0</td>\n",
       "      <td>-133.300003</td>\n",
       "    </tr>\n",
       "    <tr>\n",
       "      <th>3</th>\n",
       "      <td>42217c898</td>\n",
       "      <td>0.5</td>\n",
       "      <td>0.5</td>\n",
       "      <td>0.5</td>\n",
       "      <td>0.5</td>\n",
       "      <td>0.5</td>\n",
       "      <td>0.5</td>\n",
       "      <td>e800f419cf</td>\n",
       "      <td>e96e31f4</td>\n",
       "      <td>c497ac5bad</td>\n",
       "      <td>30</td>\n",
       "      <td>80</td>\n",
       "      <td>55.388000</td>\n",
       "      <td>-125.0</td>\n",
       "      <td>-146.081000</td>\n",
       "    </tr>\n",
       "    <tr>\n",
       "      <th>4</th>\n",
       "      <td>a130c4d2f</td>\n",
       "      <td>0.5</td>\n",
       "      <td>0.5</td>\n",
       "      <td>0.5</td>\n",
       "      <td>0.5</td>\n",
       "      <td>0.5</td>\n",
       "      <td>0.5</td>\n",
       "      <td>faeb7454f3</td>\n",
       "      <td>69affa42</td>\n",
       "      <td>854e4fbc01</td>\n",
       "      <td>30</td>\n",
       "      <td>80</td>\n",
       "      <td>33.516888</td>\n",
       "      <td>-125.0</td>\n",
       "      <td>-118.689819</td>\n",
       "    </tr>\n",
       "  </tbody>\n",
       "</table>\n",
       "</div>"
      ],
      "text/plain": [
       "   PatientID  epidural  intraparenchymal  intraventricular  subarachnoid  \\\n",
       "0  28fbab7eb       0.5               0.5               0.5           0.5   \n",
       "1  877923b8b       0.5               0.5               0.5           0.5   \n",
       "2  a591477cb       0.5               0.5               0.5           0.5   \n",
       "3  42217c898       0.5               0.5               0.5           0.5   \n",
       "4  a130c4d2f       0.5               0.5               0.5           0.5   \n",
       "\n",
       "   subdural  any     SeriesI       PID      StudyI WindowCenter WindowWidth  \\\n",
       "0       0.5  0.5  ebfd7e4506  cf1b6b11  93407cadbb           30          80   \n",
       "1       0.5  0.5  6d95084e15  ad8ea58f  a337baa067           30          80   \n",
       "2       0.5  0.5  8e06b2c9e0  ecfb278b  0cfe838d54           30          80   \n",
       "3       0.5  0.5  e800f419cf  e96e31f4  c497ac5bad           30          80   \n",
       "4       0.5  0.5  faeb7454f3  69affa42  854e4fbc01           30          80   \n",
       "\n",
       "   ImagePositionZ  ImagePositionX  ImagePositionY  \n",
       "0      158.458000          -125.0     -135.598000  \n",
       "1      138.729050          -125.0     -101.797981  \n",
       "2       60.830002          -125.0     -133.300003  \n",
       "3       55.388000          -125.0     -146.081000  \n",
       "4       33.516888          -125.0     -118.689819  "
      ]
     },
     "execution_count": 6,
     "metadata": {},
     "output_type": "execute_result"
    }
   ],
   "source": [
    "test_df = pd.read_csv(data_dir+'test.csv')\n",
    "test_df.head()"
   ]
  },
  {
   "cell_type": "code",
   "execution_count": 7,
   "metadata": {},
   "outputs": [],
   "source": [
    "split_sid = train_df.PID.unique()\n",
    "splits=list(KFold(n_splits=3,shuffle=True, random_state=SEED).split(split_sid))\n"
   ]
  },
  {
   "cell_type": "code",
   "execution_count": 8,
   "metadata": {},
   "outputs": [],
   "source": [
    "def my_loss(y_pred,y_true,weights):\n",
    "    window=(y_true>=0).to(torch.float)\n",
    "    loss = (F.binary_cross_entropy_with_logits(y_pred,y_true,reduction='none')*window*weights.expand_as(y_true)).mean()\n",
    "    return loss"
   ]
  },
  {
   "cell_type": "code",
   "execution_count": 9,
   "metadata": {},
   "outputs": [],
   "source": [
    "class Metric():\n",
    "    def __init__(self,weights,k=0.03):\n",
    "        self.weights=weights\n",
    "        self.k=k\n",
    "        self.zero()\n",
    "        \n",
    "    def zero(self):\n",
    "        self.loss_sum=0.\n",
    "        self.loss_count=0.\n",
    "        self.lossf=0.\n",
    "        \n",
    "    def calc(self,y_pred,y_true,prefix=\"\"):\n",
    "        window=(y_true>=0).to(torch.float)\n",
    "        loss = (F.binary_cross_entropy_with_logits(y_pred,y_true,reduction='none')*window*self.weights.expand_as(y_true)).mean()/(window.mean()+1e-5)\n",
    "        self.lossf=self.lossf*(1-self.k)+loss*self.k\n",
    "        self.loss_sum=self.loss_sum+loss*window.sum()\n",
    "        self.loss_count=self.loss_count+window.sum()\n",
    "        return({prefix+'mloss':self.lossf})    \n",
    "        \n",
    "    def calc_sums(self,prefix=\"\"):\n",
    "        return({prefix+'mloss_tot':self.loss_sum/self.loss_count})    \n",
    "\n"
   ]
  },
  {
   "cell_type": "code",
   "execution_count": 10,
   "metadata": {},
   "outputs": [],
   "source": [
    "#features=(features-features.mean())/features.std()"
   ]
  },
  {
   "cell_type": "code",
   "execution_count": 11,
   "metadata": {},
   "outputs": [],
   "source": [
    "class SimpleModel(nn.Module):\n",
    "    def __init__(self,in_size):\n",
    "        super(SimpleModel, self).__init__()\n",
    "        self.dont_do_grad=[]\n",
    "        self.conv2d1=torch.nn.Conv2d(1, 128, (7,in_size), padding=(3,0))\n",
    "        self.bn0=torch.nn.BatchNorm1d(128)\n",
    "        self.relu0=torch.nn.ReLU()\n",
    "        self.conv1d1=torch.nn.Conv1d(128, 128, 5, padding=2)\n",
    "        self.bn1=torch.nn.BatchNorm1d(128)\n",
    "        self.relu1=torch.nn.ReLU()\n",
    "        self.conv1d2=torch.nn.Conv1d(128, 64, 3, padding=1)\n",
    "        self.bn2=torch.nn.BatchNorm1d(64)\n",
    "        self.relu2=torch.nn.ReLU()\n",
    "        self.conv1d3=torch.nn.Conv1d(64, 6, 3, padding=1)\n",
    "        \n",
    "        \n",
    "    def forward(self, x):\n",
    "        x = self.conv2d1(x.unsqueeze(1)).squeeze(-1)\n",
    "        x = self.bn0(x)\n",
    "        x = self.relu0(x)\n",
    "        x = self.conv1d1(x)\n",
    "        x = self.bn1(x)\n",
    "        x = self.relu1(x)\n",
    "        x = self.conv1d2(x)\n",
    "        x = self.bn2(x)\n",
    "        x = self.relu2(x)\n",
    "        out = self.conv1d3(x).transpose(-1,-2)\n",
    "        return out \n",
    "                    \n",
    "    def no_grad(self):\n",
    "        for param in self.parameters():\n",
    "            param.requires_grad=False\n",
    "\n",
    "    def do_grad(self):\n",
    "        for n,p in self.named_parameters():\n",
    "            p.requires_grad=  not any(nd in n for nd in self.dont_do_grad)\n"
   ]
  },
  {
   "cell_type": "code",
   "execution_count": 12,
   "metadata": {},
   "outputs": [],
   "source": [
    "class SimpleModel2(nn.Module):\n",
    "    def __init__(self,in_size):\n",
    "        super(SimpleModel2, self).__init__()\n",
    "        self.dont_do_grad=[]\n",
    "        self.conv2d1=torch.nn.Conv2d(1, 128, (9,in_size), padding=(4,0))\n",
    "        self.bn0=torch.nn.BatchNorm1d(128)\n",
    "        self.relu0=torch.nn.ReLU()\n",
    "        self.conv1d1=torch.nn.Conv1d(128, 128, 7, padding=3)\n",
    "        self.bn1=torch.nn.BatchNorm1d(128)\n",
    "        self.relu1=torch.nn.ReLU()\n",
    "        self.conv1d2=torch.nn.Conv1d(128, 64, 5, padding=2)\n",
    "        self.bn2=torch.nn.BatchNorm1d(64)\n",
    "        self.relu2=torch.nn.ReLU()\n",
    "        self.conv1d3=torch.nn.Conv1d(64, 6, 3, padding=1)\n",
    "        \n",
    "        \n",
    "    def forward(self, x):\n",
    "        x = self.conv2d1(x.unsqueeze(1)).squeeze(-1)\n",
    "        x = self.bn0(x)\n",
    "        x = self.relu0(x)\n",
    "        x = self.conv1d1(x)\n",
    "        x = self.bn1(x)\n",
    "        x = self.relu1(x)\n",
    "        x = self.conv1d2(x)\n",
    "        x = self.bn2(x)\n",
    "        x = self.relu2(x)\n",
    "        out = self.conv1d3(x).transpose(-1,-2)\n",
    "        return out \n",
    "                    \n",
    "    def no_grad(self):\n",
    "        for param in self.parameters():\n",
    "            param.requires_grad=False\n",
    "\n",
    "    def do_grad(self):\n",
    "        for n,p in self.named_parameters():\n",
    "            p.requires_grad=  not any(nd in n for nd in self.dont_do_grad)\n"
   ]
  },
  {
   "cell_type": "code",
   "execution_count": 13,
   "metadata": {},
   "outputs": [],
   "source": [
    "class ClassModel(nn.Module):\n",
    "    def __init__(self,in_size):\n",
    "        super(ClassModel, self).__init__()\n",
    "        self.dont_do_grad=[]\n",
    "        self.conv2d1=torch.nn.Conv2d(1, 128, (9,in_size), padding=(4,0))\n",
    "        self.bn0=torch.nn.BatchNorm1d(128)\n",
    "        self.relu0=torch.nn.ReLU()\n",
    "        self.conv1d1=torch.nn.Conv1d(128, 128, 7, padding=3)\n",
    "        self.bn1=torch.nn.BatchNorm1d(128)\n",
    "        self.relu1=torch.nn.ReLU()\n",
    "        self.conv1d2=torch.nn.Conv1d(128, 64, 5, padding=2)\n",
    "        self.bn2=torch.nn.BatchNorm1d(64)\n",
    "        self.relu2=torch.nn.ReLU()\n",
    "        self.conv1d3=torch.nn.Conv1d(128, 6, 3, padding=1)\n",
    "        \n",
    "        self.conv2d1class=torch.nn.Conv2d(1, 128, (9,in_size), padding=(4,0))\n",
    "        self.bn0class=torch.nn.BatchNorm1d(128)\n",
    "        self.maxpool1class=torch.nn.MaxPool1d(3)\n",
    "        self.conv1d1class=torch.nn.Conv1d(128, 128, 3, padding=1)\n",
    "        self.bn1class=torch.nn.BatchNorm1d(128)\n",
    "        self.maxpool2class=torch.nn.MaxPool1d(3)\n",
    "        self.conv1d2class=torch.nn.Conv1d(128, 64, 2, padding=1)\n",
    "        self.bn2class=torch.nn.BatchNorm1d(64)\n",
    "\n",
    "        \n",
    "        \n",
    "    def forward(self, x):\n",
    "        z=x\n",
    "        x = self.conv2d1(x.unsqueeze(1)).squeeze(-1)\n",
    "        x = self.bn0(x)\n",
    "        x = self.relu0(x)\n",
    "        x = self.conv1d1(x)\n",
    "        x = self.bn1(x)\n",
    "        x = self.relu1(x)\n",
    "        x = self.conv1d2(x)\n",
    "        x = self.bn2(x)\n",
    "        x = self.relu2(x)\n",
    "        z=self.conv2d1class(z.unsqueeze(1)).squeeze(-1)\n",
    "        z=self.bn0class(z)\n",
    "        z=self.maxpool1class(z)\n",
    "        z=self.conv1d1class(z)\n",
    "        z=self.maxpool2class(z)\n",
    "        z=self.conv1d2class(z)\n",
    "        z=self.bn2class(z)\n",
    "        z=F.max_pool1d(z,kernel_size=z.shape[-1])\n",
    "        z=z.expand_as(x)\n",
    "        x=torch.cat([x,z],1)\n",
    "        out = self.conv1d3(x).transpose(-1,-2)\n",
    "        return out \n",
    "                    \n",
    "    def no_grad(self):\n",
    "        for param in self.parameters():\n",
    "            param.requires_grad=False\n",
    "\n",
    "    def do_grad(self):\n",
    "        for n,p in self.named_parameters():\n",
    "            p.requires_grad=  not any(nd in n for nd in self.dont_do_grad)\n"
   ]
  },
  {
   "cell_type": "code",
   "execution_count": 14,
   "metadata": {},
   "outputs": [],
   "source": [
    "class ResModel(nn.Module):\n",
    "    def __init__(self,in_size):\n",
    "        super(ResModel, self).__init__()\n",
    "        self.dont_do_grad=[]\n",
    "        self.conv2d1=torch.nn.Conv2d(1, 64, (9,in_size), padding=(4,0))\n",
    "        self.bn0=torch.nn.BatchNorm1d(64)\n",
    "        self.relu0=torch.nn.ReLU()\n",
    "        self.conv1d1=torch.nn.Conv1d(64, 64, 7, padding=3)\n",
    "        self.bn1=torch.nn.BatchNorm1d(64)\n",
    "        self.relu1=torch.nn.ReLU()\n",
    "        self.conv1d2=torch.nn.Conv1d(128, 64, 5, padding=2)\n",
    "        self.bn2=torch.nn.BatchNorm1d(64)\n",
    "        self.relu2=torch.nn.ReLU()\n",
    "        self.conv1d3=torch.nn.Conv1d(192, 6, 3, padding=1)\n",
    "        \n",
    "        \n",
    "    def forward(self, x):\n",
    "        x = self.conv2d1(x.unsqueeze(1)).squeeze(-1)\n",
    "        x = self.bn0(x)\n",
    "        x0 = self.relu0(x)\n",
    "        x = self.conv1d1(x0)\n",
    "        x = self.bn1(x)\n",
    "        x1 = self.relu1(x)\n",
    "        x = torch.cat([x0,x1],1)\n",
    "        x = self.conv1d2(x)\n",
    "        x = self.bn2(x)\n",
    "        x2 = self.relu2(x)\n",
    "        x = torch.cat([x0,x1,x2],1)\n",
    "        out = self.conv1d3(x).transpose(-1,-2)\n",
    "        return out \n",
    "                    \n",
    "    def no_grad(self):\n",
    "        for param in self.parameters():\n",
    "            param.requires_grad=False\n",
    "\n",
    "    def do_grad(self):\n",
    "        for n,p in self.named_parameters():\n",
    "            p.requires_grad=  not any(nd in n for nd in self.dont_do_grad)\n"
   ]
  },
  {
   "cell_type": "code",
   "execution_count": 15,
   "metadata": {},
   "outputs": [],
   "source": [
    "class ResDropModel(nn.Module):\n",
    "    def __init__(self,in_size,dropout=0.2):\n",
    "        super(ResDropModel, self).__init__()\n",
    "        self.dont_do_grad=[]\n",
    "        self.conv2d1=torch.nn.Conv2d(1, 64, (9,in_size), padding=(4,0))\n",
    "        self.bn0=torch.nn.BatchNorm1d(64)\n",
    "        self.relu0=torch.nn.ReLU()\n",
    "        self.conv1d1=torch.nn.Conv1d(64, 64, 7, padding=3)\n",
    "        self.bn1=torch.nn.BatchNorm1d(64)\n",
    "        self.relu1=torch.nn.ReLU()\n",
    "        self.conv1d2=torch.nn.Conv1d(128, 64, 5, padding=2)\n",
    "        self.bn2=torch.nn.BatchNorm1d(64)\n",
    "        self.relu2=torch.nn.ReLU()\n",
    "        self.conv1d3=torch.nn.Conv1d(192, 6, 3, padding=1)\n",
    "        self.dropout=dropout\n",
    "        \n",
    "    def forward(self, x):\n",
    "        x = self.conv2d1(x.unsqueeze(1)).squeeze(-1)\n",
    "        x = self.bn0(x)\n",
    "        x = F.dropout(x,self.dropout)\n",
    "        x0 = self.relu0(x) \n",
    "        x = self.conv1d1(x0)\n",
    "#        x = self.bn1(x)\n",
    "        x = F.dropout(x,self.dropout)\n",
    "        x1 = self.relu1(x)\n",
    "        x = torch.cat([x0,x1],1)\n",
    "        x = self.conv1d2(x)\n",
    "#        x = self.bn2(x)\n",
    "        x = F.dropout(x,self.dropout)\n",
    "        x2 = self.relu2(x)\n",
    "        x = torch.cat([x0,x1,x2],1)\n",
    "        x = F.dropout(x,self.dropout)\n",
    "        out = self.conv1d3(x).transpose(-1,-2)\n",
    "        return out \n",
    "                    \n",
    "    def no_grad(self):\n",
    "        for param in self.parameters():\n",
    "            param.requires_grad=False\n",
    "\n",
    "    def do_grad(self):\n",
    "        for n,p in self.named_parameters():\n",
    "            p.requires_grad=  not any(nd in n for nd in self.dont_do_grad)\n"
   ]
  },
  {
   "cell_type": "code",
   "execution_count": 16,
   "metadata": {},
   "outputs": [],
   "source": [
    "class ResModelIN(nn.Module):\n",
    "    def __init__(self,in_size):\n",
    "        super(ResModelIN, self).__init__()\n",
    "        self.dont_do_grad=[]\n",
    "        self.conv2d1=torch.nn.Conv2d(1, 64, (9,in_size), padding=(4,0))\n",
    "        self.bn0=torch.nn.InstanceNorm1d(64)\n",
    "        self.relu0=torch.nn.ReLU()\n",
    "        self.conv1d1=torch.nn.Conv1d(64, 64, 7, padding=3)\n",
    "        self.bn1=torch.nn.InstanceNorm1d(64)\n",
    "        self.relu1=torch.nn.ReLU()\n",
    "        self.conv1d2=torch.nn.Conv1d(128, 64, 5, padding=2)\n",
    "        self.bn2=torch.nn.InstanceNorm1d(64)\n",
    "        self.relu2=torch.nn.ReLU()\n",
    "        self.conv1d3=torch.nn.Conv1d(192, 6, 3, padding=1)\n",
    "        \n",
    "        \n",
    "    def forward(self, x):\n",
    "        x = self.conv2d1(x.unsqueeze(1)).squeeze(-1)\n",
    "        x = self.bn0(x)\n",
    "        x0 = self.relu0(x)\n",
    "        x = self.conv1d1(x0)\n",
    "        x = self.bn1(x)\n",
    "        x1 = self.relu1(x)\n",
    "        x = torch.cat([x0,x1],1)\n",
    "        x = self.conv1d2(x)\n",
    "        x = self.bn2(x)\n",
    "        x2 = self.relu2(x)\n",
    "        x = torch.cat([x0,x1,x2],1)\n",
    "        out = self.conv1d3(x).transpose(-1,-2)\n",
    "        return out \n",
    "                    \n",
    "    def no_grad(self):\n",
    "        for param in self.parameters():\n",
    "            param.requires_grad=False\n",
    "\n",
    "    def do_grad(self):\n",
    "        for n,p in self.named_parameters():\n",
    "            p.requires_grad=  not any(nd in n for nd in self.dont_do_grad)\n"
   ]
  },
  {
   "cell_type": "code",
   "execution_count": 17,
   "metadata": {},
   "outputs": [],
   "source": [
    "class BaseModel(nn.Module):\n",
    "    def __init__(self):\n",
    "        super(BaseModel, self).__init__()\n",
    "        self.dont_do_grad=[]\n",
    "        self.conv2d1=torch.nn.Conv2d(1, 128, (5,2208), padding=(2,0))\n",
    "        self.relu0=torch.nn.ReLU()\n",
    "        self.conv1d1=torch.nn.Conv1d(128, 6, 1)\n",
    "\n",
    "        \n",
    "        \n",
    "    def forward(self, x):\n",
    "        x = self.conv2d1(x.unsqueeze(1)).squeeze(-1)\n",
    "        x = self.relu0(x)\n",
    "        out = self.conv1d1(x).transpose(-1,-2)\n",
    "        return out \n",
    "                    \n",
    "    def no_grad(self):\n",
    "        for param in self.parameters():\n",
    "            param.requires_grad=False\n",
    "\n",
    "    def do_grad(self):\n",
    "        for n,p in self.named_parameters():\n",
    "            p.requires_grad=  not any(nd in n for nd in self.dont_do_grad)\n"
   ]
  },
  {
   "cell_type": "code",
   "execution_count": 18,
   "metadata": {
    "scrolled": false
   },
   "outputs": [
    {
     "data": {
      "text/plain": [
       "torch.Size([2697008, 552])"
      ]
     },
     "execution_count": 18,
     "metadata": {},
     "output_type": "execute_result"
    },
    {
     "data": {
      "text/plain": [
       "torch.Size([674252, 4, 552])"
      ]
     },
     "execution_count": 18,
     "metadata": {},
     "output_type": "execute_result"
    },
    {
     "data": {
      "text/plain": [
       "<torch._C.Generator at 0x7f56eb479790>"
      ]
     },
     "execution_count": 18,
     "metadata": {},
     "output_type": "execute_result"
    },
    {
     "data": {
      "application/javascript": [
       "/* Put everything inside the global mpl namespace */\n",
       "window.mpl = {};\n",
       "\n",
       "\n",
       "mpl.get_websocket_type = function() {\n",
       "    if (typeof(WebSocket) !== 'undefined') {\n",
       "        return WebSocket;\n",
       "    } else if (typeof(MozWebSocket) !== 'undefined') {\n",
       "        return MozWebSocket;\n",
       "    } else {\n",
       "        alert('Your browser does not have WebSocket support.' +\n",
       "              'Please try Chrome, Safari or Firefox ≥ 6. ' +\n",
       "              'Firefox 4 and 5 are also supported but you ' +\n",
       "              'have to enable WebSockets in about:config.');\n",
       "    };\n",
       "}\n",
       "\n",
       "mpl.figure = function(figure_id, websocket, ondownload, parent_element) {\n",
       "    this.id = figure_id;\n",
       "\n",
       "    this.ws = websocket;\n",
       "\n",
       "    this.supports_binary = (this.ws.binaryType != undefined);\n",
       "\n",
       "    if (!this.supports_binary) {\n",
       "        var warnings = document.getElementById(\"mpl-warnings\");\n",
       "        if (warnings) {\n",
       "            warnings.style.display = 'block';\n",
       "            warnings.textContent = (\n",
       "                \"This browser does not support binary websocket messages. \" +\n",
       "                    \"Performance may be slow.\");\n",
       "        }\n",
       "    }\n",
       "\n",
       "    this.imageObj = new Image();\n",
       "\n",
       "    this.context = undefined;\n",
       "    this.message = undefined;\n",
       "    this.canvas = undefined;\n",
       "    this.rubberband_canvas = undefined;\n",
       "    this.rubberband_context = undefined;\n",
       "    this.format_dropdown = undefined;\n",
       "\n",
       "    this.image_mode = 'full';\n",
       "\n",
       "    this.root = $('<div/>');\n",
       "    this._root_extra_style(this.root)\n",
       "    this.root.attr('style', 'display: inline-block');\n",
       "\n",
       "    $(parent_element).append(this.root);\n",
       "\n",
       "    this._init_header(this);\n",
       "    this._init_canvas(this);\n",
       "    this._init_toolbar(this);\n",
       "\n",
       "    var fig = this;\n",
       "\n",
       "    this.waiting = false;\n",
       "\n",
       "    this.ws.onopen =  function () {\n",
       "            fig.send_message(\"supports_binary\", {value: fig.supports_binary});\n",
       "            fig.send_message(\"send_image_mode\", {});\n",
       "            if (mpl.ratio != 1) {\n",
       "                fig.send_message(\"set_dpi_ratio\", {'dpi_ratio': mpl.ratio});\n",
       "            }\n",
       "            fig.send_message(\"refresh\", {});\n",
       "        }\n",
       "\n",
       "    this.imageObj.onload = function() {\n",
       "            if (fig.image_mode == 'full') {\n",
       "                // Full images could contain transparency (where diff images\n",
       "                // almost always do), so we need to clear the canvas so that\n",
       "                // there is no ghosting.\n",
       "                fig.context.clearRect(0, 0, fig.canvas.width, fig.canvas.height);\n",
       "            }\n",
       "            fig.context.drawImage(fig.imageObj, 0, 0);\n",
       "        };\n",
       "\n",
       "    this.imageObj.onunload = function() {\n",
       "        fig.ws.close();\n",
       "    }\n",
       "\n",
       "    this.ws.onmessage = this._make_on_message_function(this);\n",
       "\n",
       "    this.ondownload = ondownload;\n",
       "}\n",
       "\n",
       "mpl.figure.prototype._init_header = function() {\n",
       "    var titlebar = $(\n",
       "        '<div class=\"ui-dialog-titlebar ui-widget-header ui-corner-all ' +\n",
       "        'ui-helper-clearfix\"/>');\n",
       "    var titletext = $(\n",
       "        '<div class=\"ui-dialog-title\" style=\"width: 100%; ' +\n",
       "        'text-align: center; padding: 3px;\"/>');\n",
       "    titlebar.append(titletext)\n",
       "    this.root.append(titlebar);\n",
       "    this.header = titletext[0];\n",
       "}\n",
       "\n",
       "\n",
       "\n",
       "mpl.figure.prototype._canvas_extra_style = function(canvas_div) {\n",
       "\n",
       "}\n",
       "\n",
       "\n",
       "mpl.figure.prototype._root_extra_style = function(canvas_div) {\n",
       "\n",
       "}\n",
       "\n",
       "mpl.figure.prototype._init_canvas = function() {\n",
       "    var fig = this;\n",
       "\n",
       "    var canvas_div = $('<div/>');\n",
       "\n",
       "    canvas_div.attr('style', 'position: relative; clear: both; outline: 0');\n",
       "\n",
       "    function canvas_keyboard_event(event) {\n",
       "        return fig.key_event(event, event['data']);\n",
       "    }\n",
       "\n",
       "    canvas_div.keydown('key_press', canvas_keyboard_event);\n",
       "    canvas_div.keyup('key_release', canvas_keyboard_event);\n",
       "    this.canvas_div = canvas_div\n",
       "    this._canvas_extra_style(canvas_div)\n",
       "    this.root.append(canvas_div);\n",
       "\n",
       "    var canvas = $('<canvas/>');\n",
       "    canvas.addClass('mpl-canvas');\n",
       "    canvas.attr('style', \"left: 0; top: 0; z-index: 0; outline: 0\")\n",
       "\n",
       "    this.canvas = canvas[0];\n",
       "    this.context = canvas[0].getContext(\"2d\");\n",
       "\n",
       "    var backingStore = this.context.backingStorePixelRatio ||\n",
       "\tthis.context.webkitBackingStorePixelRatio ||\n",
       "\tthis.context.mozBackingStorePixelRatio ||\n",
       "\tthis.context.msBackingStorePixelRatio ||\n",
       "\tthis.context.oBackingStorePixelRatio ||\n",
       "\tthis.context.backingStorePixelRatio || 1;\n",
       "\n",
       "    mpl.ratio = (window.devicePixelRatio || 1) / backingStore;\n",
       "\n",
       "    var rubberband = $('<canvas/>');\n",
       "    rubberband.attr('style', \"position: absolute; left: 0; top: 0; z-index: 1;\")\n",
       "\n",
       "    var pass_mouse_events = true;\n",
       "\n",
       "    canvas_div.resizable({\n",
       "        start: function(event, ui) {\n",
       "            pass_mouse_events = false;\n",
       "        },\n",
       "        resize: function(event, ui) {\n",
       "            fig.request_resize(ui.size.width, ui.size.height);\n",
       "        },\n",
       "        stop: function(event, ui) {\n",
       "            pass_mouse_events = true;\n",
       "            fig.request_resize(ui.size.width, ui.size.height);\n",
       "        },\n",
       "    });\n",
       "\n",
       "    function mouse_event_fn(event) {\n",
       "        if (pass_mouse_events)\n",
       "            return fig.mouse_event(event, event['data']);\n",
       "    }\n",
       "\n",
       "    rubberband.mousedown('button_press', mouse_event_fn);\n",
       "    rubberband.mouseup('button_release', mouse_event_fn);\n",
       "    // Throttle sequential mouse events to 1 every 20ms.\n",
       "    rubberband.mousemove('motion_notify', mouse_event_fn);\n",
       "\n",
       "    rubberband.mouseenter('figure_enter', mouse_event_fn);\n",
       "    rubberband.mouseleave('figure_leave', mouse_event_fn);\n",
       "\n",
       "    canvas_div.on(\"wheel\", function (event) {\n",
       "        event = event.originalEvent;\n",
       "        event['data'] = 'scroll'\n",
       "        if (event.deltaY < 0) {\n",
       "            event.step = 1;\n",
       "        } else {\n",
       "            event.step = -1;\n",
       "        }\n",
       "        mouse_event_fn(event);\n",
       "    });\n",
       "\n",
       "    canvas_div.append(canvas);\n",
       "    canvas_div.append(rubberband);\n",
       "\n",
       "    this.rubberband = rubberband;\n",
       "    this.rubberband_canvas = rubberband[0];\n",
       "    this.rubberband_context = rubberband[0].getContext(\"2d\");\n",
       "    this.rubberband_context.strokeStyle = \"#000000\";\n",
       "\n",
       "    this._resize_canvas = function(width, height) {\n",
       "        // Keep the size of the canvas, canvas container, and rubber band\n",
       "        // canvas in synch.\n",
       "        canvas_div.css('width', width)\n",
       "        canvas_div.css('height', height)\n",
       "\n",
       "        canvas.attr('width', width * mpl.ratio);\n",
       "        canvas.attr('height', height * mpl.ratio);\n",
       "        canvas.attr('style', 'width: ' + width + 'px; height: ' + height + 'px;');\n",
       "\n",
       "        rubberband.attr('width', width);\n",
       "        rubberband.attr('height', height);\n",
       "    }\n",
       "\n",
       "    // Set the figure to an initial 600x600px, this will subsequently be updated\n",
       "    // upon first draw.\n",
       "    this._resize_canvas(600, 600);\n",
       "\n",
       "    // Disable right mouse context menu.\n",
       "    $(this.rubberband_canvas).bind(\"contextmenu\",function(e){\n",
       "        return false;\n",
       "    });\n",
       "\n",
       "    function set_focus () {\n",
       "        canvas.focus();\n",
       "        canvas_div.focus();\n",
       "    }\n",
       "\n",
       "    window.setTimeout(set_focus, 100);\n",
       "}\n",
       "\n",
       "mpl.figure.prototype._init_toolbar = function() {\n",
       "    var fig = this;\n",
       "\n",
       "    var nav_element = $('<div/>')\n",
       "    nav_element.attr('style', 'width: 100%');\n",
       "    this.root.append(nav_element);\n",
       "\n",
       "    // Define a callback function for later on.\n",
       "    function toolbar_event(event) {\n",
       "        return fig.toolbar_button_onclick(event['data']);\n",
       "    }\n",
       "    function toolbar_mouse_event(event) {\n",
       "        return fig.toolbar_button_onmouseover(event['data']);\n",
       "    }\n",
       "\n",
       "    for(var toolbar_ind in mpl.toolbar_items) {\n",
       "        var name = mpl.toolbar_items[toolbar_ind][0];\n",
       "        var tooltip = mpl.toolbar_items[toolbar_ind][1];\n",
       "        var image = mpl.toolbar_items[toolbar_ind][2];\n",
       "        var method_name = mpl.toolbar_items[toolbar_ind][3];\n",
       "\n",
       "        if (!name) {\n",
       "            // put a spacer in here.\n",
       "            continue;\n",
       "        }\n",
       "        var button = $('<button/>');\n",
       "        button.addClass('ui-button ui-widget ui-state-default ui-corner-all ' +\n",
       "                        'ui-button-icon-only');\n",
       "        button.attr('role', 'button');\n",
       "        button.attr('aria-disabled', 'false');\n",
       "        button.click(method_name, toolbar_event);\n",
       "        button.mouseover(tooltip, toolbar_mouse_event);\n",
       "\n",
       "        var icon_img = $('<span/>');\n",
       "        icon_img.addClass('ui-button-icon-primary ui-icon');\n",
       "        icon_img.addClass(image);\n",
       "        icon_img.addClass('ui-corner-all');\n",
       "\n",
       "        var tooltip_span = $('<span/>');\n",
       "        tooltip_span.addClass('ui-button-text');\n",
       "        tooltip_span.html(tooltip);\n",
       "\n",
       "        button.append(icon_img);\n",
       "        button.append(tooltip_span);\n",
       "\n",
       "        nav_element.append(button);\n",
       "    }\n",
       "\n",
       "    var fmt_picker_span = $('<span/>');\n",
       "\n",
       "    var fmt_picker = $('<select/>');\n",
       "    fmt_picker.addClass('mpl-toolbar-option ui-widget ui-widget-content');\n",
       "    fmt_picker_span.append(fmt_picker);\n",
       "    nav_element.append(fmt_picker_span);\n",
       "    this.format_dropdown = fmt_picker[0];\n",
       "\n",
       "    for (var ind in mpl.extensions) {\n",
       "        var fmt = mpl.extensions[ind];\n",
       "        var option = $(\n",
       "            '<option/>', {selected: fmt === mpl.default_extension}).html(fmt);\n",
       "        fmt_picker.append(option)\n",
       "    }\n",
       "\n",
       "    // Add hover states to the ui-buttons\n",
       "    $( \".ui-button\" ).hover(\n",
       "        function() { $(this).addClass(\"ui-state-hover\");},\n",
       "        function() { $(this).removeClass(\"ui-state-hover\");}\n",
       "    );\n",
       "\n",
       "    var status_bar = $('<span class=\"mpl-message\"/>');\n",
       "    nav_element.append(status_bar);\n",
       "    this.message = status_bar[0];\n",
       "}\n",
       "\n",
       "mpl.figure.prototype.request_resize = function(x_pixels, y_pixels) {\n",
       "    // Request matplotlib to resize the figure. Matplotlib will then trigger a resize in the client,\n",
       "    // which will in turn request a refresh of the image.\n",
       "    this.send_message('resize', {'width': x_pixels, 'height': y_pixels});\n",
       "}\n",
       "\n",
       "mpl.figure.prototype.send_message = function(type, properties) {\n",
       "    properties['type'] = type;\n",
       "    properties['figure_id'] = this.id;\n",
       "    this.ws.send(JSON.stringify(properties));\n",
       "}\n",
       "\n",
       "mpl.figure.prototype.send_draw_message = function() {\n",
       "    if (!this.waiting) {\n",
       "        this.waiting = true;\n",
       "        this.ws.send(JSON.stringify({type: \"draw\", figure_id: this.id}));\n",
       "    }\n",
       "}\n",
       "\n",
       "\n",
       "mpl.figure.prototype.handle_save = function(fig, msg) {\n",
       "    var format_dropdown = fig.format_dropdown;\n",
       "    var format = format_dropdown.options[format_dropdown.selectedIndex].value;\n",
       "    fig.ondownload(fig, format);\n",
       "}\n",
       "\n",
       "\n",
       "mpl.figure.prototype.handle_resize = function(fig, msg) {\n",
       "    var size = msg['size'];\n",
       "    if (size[0] != fig.canvas.width || size[1] != fig.canvas.height) {\n",
       "        fig._resize_canvas(size[0], size[1]);\n",
       "        fig.send_message(\"refresh\", {});\n",
       "    };\n",
       "}\n",
       "\n",
       "mpl.figure.prototype.handle_rubberband = function(fig, msg) {\n",
       "    var x0 = msg['x0'] / mpl.ratio;\n",
       "    var y0 = (fig.canvas.height - msg['y0']) / mpl.ratio;\n",
       "    var x1 = msg['x1'] / mpl.ratio;\n",
       "    var y1 = (fig.canvas.height - msg['y1']) / mpl.ratio;\n",
       "    x0 = Math.floor(x0) + 0.5;\n",
       "    y0 = Math.floor(y0) + 0.5;\n",
       "    x1 = Math.floor(x1) + 0.5;\n",
       "    y1 = Math.floor(y1) + 0.5;\n",
       "    var min_x = Math.min(x0, x1);\n",
       "    var min_y = Math.min(y0, y1);\n",
       "    var width = Math.abs(x1 - x0);\n",
       "    var height = Math.abs(y1 - y0);\n",
       "\n",
       "    fig.rubberband_context.clearRect(\n",
       "        0, 0, fig.canvas.width, fig.canvas.height);\n",
       "\n",
       "    fig.rubberband_context.strokeRect(min_x, min_y, width, height);\n",
       "}\n",
       "\n",
       "mpl.figure.prototype.handle_figure_label = function(fig, msg) {\n",
       "    // Updates the figure title.\n",
       "    fig.header.textContent = msg['label'];\n",
       "}\n",
       "\n",
       "mpl.figure.prototype.handle_cursor = function(fig, msg) {\n",
       "    var cursor = msg['cursor'];\n",
       "    switch(cursor)\n",
       "    {\n",
       "    case 0:\n",
       "        cursor = 'pointer';\n",
       "        break;\n",
       "    case 1:\n",
       "        cursor = 'default';\n",
       "        break;\n",
       "    case 2:\n",
       "        cursor = 'crosshair';\n",
       "        break;\n",
       "    case 3:\n",
       "        cursor = 'move';\n",
       "        break;\n",
       "    }\n",
       "    fig.rubberband_canvas.style.cursor = cursor;\n",
       "}\n",
       "\n",
       "mpl.figure.prototype.handle_message = function(fig, msg) {\n",
       "    fig.message.textContent = msg['message'];\n",
       "}\n",
       "\n",
       "mpl.figure.prototype.handle_draw = function(fig, msg) {\n",
       "    // Request the server to send over a new figure.\n",
       "    fig.send_draw_message();\n",
       "}\n",
       "\n",
       "mpl.figure.prototype.handle_image_mode = function(fig, msg) {\n",
       "    fig.image_mode = msg['mode'];\n",
       "}\n",
       "\n",
       "mpl.figure.prototype.updated_canvas_event = function() {\n",
       "    // Called whenever the canvas gets updated.\n",
       "    this.send_message(\"ack\", {});\n",
       "}\n",
       "\n",
       "// A function to construct a web socket function for onmessage handling.\n",
       "// Called in the figure constructor.\n",
       "mpl.figure.prototype._make_on_message_function = function(fig) {\n",
       "    return function socket_on_message(evt) {\n",
       "        if (evt.data instanceof Blob) {\n",
       "            /* FIXME: We get \"Resource interpreted as Image but\n",
       "             * transferred with MIME type text/plain:\" errors on\n",
       "             * Chrome.  But how to set the MIME type?  It doesn't seem\n",
       "             * to be part of the websocket stream */\n",
       "            evt.data.type = \"image/png\";\n",
       "\n",
       "            /* Free the memory for the previous frames */\n",
       "            if (fig.imageObj.src) {\n",
       "                (window.URL || window.webkitURL).revokeObjectURL(\n",
       "                    fig.imageObj.src);\n",
       "            }\n",
       "\n",
       "            fig.imageObj.src = (window.URL || window.webkitURL).createObjectURL(\n",
       "                evt.data);\n",
       "            fig.updated_canvas_event();\n",
       "            fig.waiting = false;\n",
       "            return;\n",
       "        }\n",
       "        else if (typeof evt.data === 'string' && evt.data.slice(0, 21) == \"data:image/png;base64\") {\n",
       "            fig.imageObj.src = evt.data;\n",
       "            fig.updated_canvas_event();\n",
       "            fig.waiting = false;\n",
       "            return;\n",
       "        }\n",
       "\n",
       "        var msg = JSON.parse(evt.data);\n",
       "        var msg_type = msg['type'];\n",
       "\n",
       "        // Call the  \"handle_{type}\" callback, which takes\n",
       "        // the figure and JSON message as its only arguments.\n",
       "        try {\n",
       "            var callback = fig[\"handle_\" + msg_type];\n",
       "        } catch (e) {\n",
       "            console.log(\"No handler for the '\" + msg_type + \"' message type: \", msg);\n",
       "            return;\n",
       "        }\n",
       "\n",
       "        if (callback) {\n",
       "            try {\n",
       "                // console.log(\"Handling '\" + msg_type + \"' message: \", msg);\n",
       "                callback(fig, msg);\n",
       "            } catch (e) {\n",
       "                console.log(\"Exception inside the 'handler_\" + msg_type + \"' callback:\", e, e.stack, msg);\n",
       "            }\n",
       "        }\n",
       "    };\n",
       "}\n",
       "\n",
       "// from http://stackoverflow.com/questions/1114465/getting-mouse-location-in-canvas\n",
       "mpl.findpos = function(e) {\n",
       "    //this section is from http://www.quirksmode.org/js/events_properties.html\n",
       "    var targ;\n",
       "    if (!e)\n",
       "        e = window.event;\n",
       "    if (e.target)\n",
       "        targ = e.target;\n",
       "    else if (e.srcElement)\n",
       "        targ = e.srcElement;\n",
       "    if (targ.nodeType == 3) // defeat Safari bug\n",
       "        targ = targ.parentNode;\n",
       "\n",
       "    // jQuery normalizes the pageX and pageY\n",
       "    // pageX,Y are the mouse positions relative to the document\n",
       "    // offset() returns the position of the element relative to the document\n",
       "    var x = e.pageX - $(targ).offset().left;\n",
       "    var y = e.pageY - $(targ).offset().top;\n",
       "\n",
       "    return {\"x\": x, \"y\": y};\n",
       "};\n",
       "\n",
       "/*\n",
       " * return a copy of an object with only non-object keys\n",
       " * we need this to avoid circular references\n",
       " * http://stackoverflow.com/a/24161582/3208463\n",
       " */\n",
       "function simpleKeys (original) {\n",
       "  return Object.keys(original).reduce(function (obj, key) {\n",
       "    if (typeof original[key] !== 'object')\n",
       "        obj[key] = original[key]\n",
       "    return obj;\n",
       "  }, {});\n",
       "}\n",
       "\n",
       "mpl.figure.prototype.mouse_event = function(event, name) {\n",
       "    var canvas_pos = mpl.findpos(event)\n",
       "\n",
       "    if (name === 'button_press')\n",
       "    {\n",
       "        this.canvas.focus();\n",
       "        this.canvas_div.focus();\n",
       "    }\n",
       "\n",
       "    var x = canvas_pos.x * mpl.ratio;\n",
       "    var y = canvas_pos.y * mpl.ratio;\n",
       "\n",
       "    this.send_message(name, {x: x, y: y, button: event.button,\n",
       "                             step: event.step,\n",
       "                             guiEvent: simpleKeys(event)});\n",
       "\n",
       "    /* This prevents the web browser from automatically changing to\n",
       "     * the text insertion cursor when the button is pressed.  We want\n",
       "     * to control all of the cursor setting manually through the\n",
       "     * 'cursor' event from matplotlib */\n",
       "    event.preventDefault();\n",
       "    return false;\n",
       "}\n",
       "\n",
       "mpl.figure.prototype._key_event_extra = function(event, name) {\n",
       "    // Handle any extra behaviour associated with a key event\n",
       "}\n",
       "\n",
       "mpl.figure.prototype.key_event = function(event, name) {\n",
       "\n",
       "    // Prevent repeat events\n",
       "    if (name == 'key_press')\n",
       "    {\n",
       "        if (event.which === this._key)\n",
       "            return;\n",
       "        else\n",
       "            this._key = event.which;\n",
       "    }\n",
       "    if (name == 'key_release')\n",
       "        this._key = null;\n",
       "\n",
       "    var value = '';\n",
       "    if (event.ctrlKey && event.which != 17)\n",
       "        value += \"ctrl+\";\n",
       "    if (event.altKey && event.which != 18)\n",
       "        value += \"alt+\";\n",
       "    if (event.shiftKey && event.which != 16)\n",
       "        value += \"shift+\";\n",
       "\n",
       "    value += 'k';\n",
       "    value += event.which.toString();\n",
       "\n",
       "    this._key_event_extra(event, name);\n",
       "\n",
       "    this.send_message(name, {key: value,\n",
       "                             guiEvent: simpleKeys(event)});\n",
       "    return false;\n",
       "}\n",
       "\n",
       "mpl.figure.prototype.toolbar_button_onclick = function(name) {\n",
       "    if (name == 'download') {\n",
       "        this.handle_save(this, null);\n",
       "    } else {\n",
       "        this.send_message(\"toolbar_button\", {name: name});\n",
       "    }\n",
       "};\n",
       "\n",
       "mpl.figure.prototype.toolbar_button_onmouseover = function(tooltip) {\n",
       "    this.message.textContent = tooltip;\n",
       "};\n",
       "mpl.toolbar_items = [[\"Home\", \"Reset original view\", \"fa fa-home icon-home\", \"home\"], [\"Back\", \"Back to  previous view\", \"fa fa-arrow-left icon-arrow-left\", \"back\"], [\"Forward\", \"Forward to next view\", \"fa fa-arrow-right icon-arrow-right\", \"forward\"], [\"\", \"\", \"\", \"\"], [\"Pan\", \"Pan axes with left mouse, zoom with right\", \"fa fa-arrows icon-move\", \"pan\"], [\"Zoom\", \"Zoom to rectangle\", \"fa fa-square-o icon-check-empty\", \"zoom\"], [\"\", \"\", \"\", \"\"], [\"Download\", \"Download plot\", \"fa fa-floppy-o icon-save\", \"download\"]];\n",
       "\n",
       "mpl.extensions = [\"eps\", \"jpeg\", \"pdf\", \"png\", \"ps\", \"raw\", \"svg\", \"tif\"];\n",
       "\n",
       "mpl.default_extension = \"png\";var comm_websocket_adapter = function(comm) {\n",
       "    // Create a \"websocket\"-like object which calls the given IPython comm\n",
       "    // object with the appropriate methods. Currently this is a non binary\n",
       "    // socket, so there is still some room for performance tuning.\n",
       "    var ws = {};\n",
       "\n",
       "    ws.close = function() {\n",
       "        comm.close()\n",
       "    };\n",
       "    ws.send = function(m) {\n",
       "        //console.log('sending', m);\n",
       "        comm.send(m);\n",
       "    };\n",
       "    // Register the callback with on_msg.\n",
       "    comm.on_msg(function(msg) {\n",
       "        //console.log('receiving', msg['content']['data'], msg);\n",
       "        // Pass the mpl event to the overridden (by mpl) onmessage function.\n",
       "        ws.onmessage(msg['content']['data'])\n",
       "    });\n",
       "    return ws;\n",
       "}\n",
       "\n",
       "mpl.mpl_figure_comm = function(comm, msg) {\n",
       "    // This is the function which gets called when the mpl process\n",
       "    // starts-up an IPython Comm through the \"matplotlib\" channel.\n",
       "\n",
       "    var id = msg.content.data.id;\n",
       "    // Get hold of the div created by the display call when the Comm\n",
       "    // socket was opened in Python.\n",
       "    var element = $(\"#\" + id);\n",
       "    var ws_proxy = comm_websocket_adapter(comm)\n",
       "\n",
       "    function ondownload(figure, format) {\n",
       "        window.open(figure.imageObj.src);\n",
       "    }\n",
       "\n",
       "    var fig = new mpl.figure(id, ws_proxy,\n",
       "                           ondownload,\n",
       "                           element.get(0));\n",
       "\n",
       "    // Call onopen now - mpl needs it, as it is assuming we've passed it a real\n",
       "    // web socket which is closed, not our websocket->open comm proxy.\n",
       "    ws_proxy.onopen();\n",
       "\n",
       "    fig.parent_element = element.get(0);\n",
       "    fig.cell_info = mpl.find_output_cell(\"<div id='\" + id + \"'></div>\");\n",
       "    if (!fig.cell_info) {\n",
       "        console.error(\"Failed to find cell for figure\", id, fig);\n",
       "        return;\n",
       "    }\n",
       "\n",
       "    var output_index = fig.cell_info[2]\n",
       "    var cell = fig.cell_info[0];\n",
       "\n",
       "};\n",
       "\n",
       "mpl.figure.prototype.handle_close = function(fig, msg) {\n",
       "    var width = fig.canvas.width/mpl.ratio\n",
       "    fig.root.unbind('remove')\n",
       "\n",
       "    // Update the output cell to use the data from the current canvas.\n",
       "    fig.push_to_output();\n",
       "    var dataURL = fig.canvas.toDataURL();\n",
       "    // Re-enable the keyboard manager in IPython - without this line, in FF,\n",
       "    // the notebook keyboard shortcuts fail.\n",
       "    IPython.keyboard_manager.enable()\n",
       "    $(fig.parent_element).html('<img src=\"' + dataURL + '\" width=\"' + width + '\">');\n",
       "    fig.close_ws(fig, msg);\n",
       "}\n",
       "\n",
       "mpl.figure.prototype.close_ws = function(fig, msg){\n",
       "    fig.send_message('closing', msg);\n",
       "    // fig.ws.close()\n",
       "}\n",
       "\n",
       "mpl.figure.prototype.push_to_output = function(remove_interactive) {\n",
       "    // Turn the data on the canvas into data in the output cell.\n",
       "    var width = this.canvas.width/mpl.ratio\n",
       "    var dataURL = this.canvas.toDataURL();\n",
       "    this.cell_info[1]['text/html'] = '<img src=\"' + dataURL + '\" width=\"' + width + '\">';\n",
       "}\n",
       "\n",
       "mpl.figure.prototype.updated_canvas_event = function() {\n",
       "    // Tell IPython that the notebook contents must change.\n",
       "    IPython.notebook.set_dirty(true);\n",
       "    this.send_message(\"ack\", {});\n",
       "    var fig = this;\n",
       "    // Wait a second, then push the new image to the DOM so\n",
       "    // that it is saved nicely (might be nice to debounce this).\n",
       "    setTimeout(function () { fig.push_to_output() }, 1000);\n",
       "}\n",
       "\n",
       "mpl.figure.prototype._init_toolbar = function() {\n",
       "    var fig = this;\n",
       "\n",
       "    var nav_element = $('<div/>')\n",
       "    nav_element.attr('style', 'width: 100%');\n",
       "    this.root.append(nav_element);\n",
       "\n",
       "    // Define a callback function for later on.\n",
       "    function toolbar_event(event) {\n",
       "        return fig.toolbar_button_onclick(event['data']);\n",
       "    }\n",
       "    function toolbar_mouse_event(event) {\n",
       "        return fig.toolbar_button_onmouseover(event['data']);\n",
       "    }\n",
       "\n",
       "    for(var toolbar_ind in mpl.toolbar_items){\n",
       "        var name = mpl.toolbar_items[toolbar_ind][0];\n",
       "        var tooltip = mpl.toolbar_items[toolbar_ind][1];\n",
       "        var image = mpl.toolbar_items[toolbar_ind][2];\n",
       "        var method_name = mpl.toolbar_items[toolbar_ind][3];\n",
       "\n",
       "        if (!name) { continue; };\n",
       "\n",
       "        var button = $('<button class=\"btn btn-default\" href=\"#\" title=\"' + name + '\"><i class=\"fa ' + image + ' fa-lg\"></i></button>');\n",
       "        button.click(method_name, toolbar_event);\n",
       "        button.mouseover(tooltip, toolbar_mouse_event);\n",
       "        nav_element.append(button);\n",
       "    }\n",
       "\n",
       "    // Add the status bar.\n",
       "    var status_bar = $('<span class=\"mpl-message\" style=\"text-align:right; float: right;\"/>');\n",
       "    nav_element.append(status_bar);\n",
       "    this.message = status_bar[0];\n",
       "\n",
       "    // Add the close button to the window.\n",
       "    var buttongrp = $('<div class=\"btn-group inline pull-right\"></div>');\n",
       "    var button = $('<button class=\"btn btn-mini btn-primary\" href=\"#\" title=\"Stop Interaction\"><i class=\"fa fa-power-off icon-remove icon-large\"></i></button>');\n",
       "    button.click(function (evt) { fig.handle_close(fig, {}); } );\n",
       "    button.mouseover('Stop Interaction', toolbar_mouse_event);\n",
       "    buttongrp.append(button);\n",
       "    var titlebar = this.root.find($('.ui-dialog-titlebar'));\n",
       "    titlebar.prepend(buttongrp);\n",
       "}\n",
       "\n",
       "mpl.figure.prototype._root_extra_style = function(el){\n",
       "    var fig = this\n",
       "    el.on(\"remove\", function(){\n",
       "\tfig.close_ws(fig, {});\n",
       "    });\n",
       "}\n",
       "\n",
       "mpl.figure.prototype._canvas_extra_style = function(el){\n",
       "    // this is important to make the div 'focusable\n",
       "    el.attr('tabindex', 0)\n",
       "    // reach out to IPython and tell the keyboard manager to turn it's self\n",
       "    // off when our div gets focus\n",
       "\n",
       "    // location in version 3\n",
       "    if (IPython.notebook.keyboard_manager) {\n",
       "        IPython.notebook.keyboard_manager.register_events(el);\n",
       "    }\n",
       "    else {\n",
       "        // location in version 2\n",
       "        IPython.keyboard_manager.register_events(el);\n",
       "    }\n",
       "\n",
       "}\n",
       "\n",
       "mpl.figure.prototype._key_event_extra = function(event, name) {\n",
       "    var manager = IPython.notebook.keyboard_manager;\n",
       "    if (!manager)\n",
       "        manager = IPython.keyboard_manager;\n",
       "\n",
       "    // Check for shift+enter\n",
       "    if (event.shiftKey && event.which == 13) {\n",
       "        this.canvas_div.blur();\n",
       "        event.shiftKey = false;\n",
       "        // Send a \"J\" for go to next cell\n",
       "        event.which = 74;\n",
       "        event.keyCode = 74;\n",
       "        manager.command_mode();\n",
       "        manager.handle_keydown(event);\n",
       "    }\n",
       "}\n",
       "\n",
       "mpl.figure.prototype.handle_save = function(fig, msg) {\n",
       "    fig.ondownload(fig, null);\n",
       "}\n",
       "\n",
       "\n",
       "mpl.find_output_cell = function(html_output) {\n",
       "    // Return the cell and output element which can be found *uniquely* in the notebook.\n",
       "    // Note - this is a bit hacky, but it is done because the \"notebook_saving.Notebook\"\n",
       "    // IPython event is triggered only after the cells have been serialised, which for\n",
       "    // our purposes (turning an active figure into a static one), is too late.\n",
       "    var cells = IPython.notebook.get_cells();\n",
       "    var ncells = cells.length;\n",
       "    for (var i=0; i<ncells; i++) {\n",
       "        var cell = cells[i];\n",
       "        if (cell.cell_type === 'code'){\n",
       "            for (var j=0; j<cell.output_area.outputs.length; j++) {\n",
       "                var data = cell.output_area.outputs[j];\n",
       "                if (data.data) {\n",
       "                    // IPython >= 3 moved mimebundle to data attribute of output\n",
       "                    data = data.data;\n",
       "                }\n",
       "                if (data['text/html'] == html_output) {\n",
       "                    return [cell, data, j];\n",
       "                }\n",
       "            }\n",
       "        }\n",
       "    }\n",
       "}\n",
       "\n",
       "// Register the function which deals with the matplotlib target/channel.\n",
       "// The kernel may be null if the page has been refreshed.\n",
       "if (IPython.notebook.kernel != null) {\n",
       "    IPython.notebook.kernel.comm_manager.register_target('matplotlib', mpl.mpl_figure_comm);\n",
       "}\n"
      ],
      "text/plain": [
       "<IPython.core.display.Javascript object>"
      ]
     },
     "metadata": {},
     "output_type": "display_data"
    },
    {
     "data": {
      "text/html": [
       "<img src=\"data:image/png;base64,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\" width=\"720\">"
      ],
      "text/plain": [
       "<IPython.core.display.HTML object>"
      ]
     },
     "metadata": {},
     "output_type": "display_data"
    },
    {
     "data": {
      "application/vnd.jupyter.widget-view+json": {
       "model_id": "a4d25098a3e74a76a9e6b4f8ee753499",
       "version_major": 2,
       "version_minor": 0
      },
      "text/plain": [
       "HBox(children=(IntProgress(value=0, max=16), HTML(value='')))"
      ]
     },
     "metadata": {},
     "output_type": "display_data"
    },
    {
     "data": {
      "application/vnd.jupyter.widget-view+json": {
       "model_id": "29faed78444e450587453627f9b67721",
       "version_major": 2,
       "version_minor": 0
      },
      "text/plain": [
       "HBox(children=(IntProgress(value=0, max=815), HTML(value='')))"
      ]
     },
     "metadata": {},
     "output_type": "display_data"
    },
    {
     "data": {
      "application/vnd.jupyter.widget-view+json": {
       "model_id": "4dcddc8e5a454eadb3cd052d6ee40586",
       "version_major": 2,
       "version_minor": 0
      },
      "text/plain": [
       "HBox(children=(IntProgress(value=0, max=406), HTML(value='')))"
      ]
     },
     "metadata": {},
     "output_type": "display_data"
    },
    {
     "name": "stdout",
     "output_type": "stream",
     "text": [
      "{'loss': 0.037599927387082156, 'mloss': tensor(0.0635), 'val_loss': 0.042692600850364554, 'val_mloss_tot': tensor(0.0740)}\n"
     ]
    },
    {
     "data": {
      "application/vnd.jupyter.widget-view+json": {
       "model_id": "61e26045c5dc4972bc8911e5eb81cae5",
       "version_major": 2,
       "version_minor": 0
      },
      "text/plain": [
       "HBox(children=(IntProgress(value=0, max=815), HTML(value='')))"
      ]
     },
     "metadata": {},
     "output_type": "display_data"
    },
    {
     "data": {
      "application/vnd.jupyter.widget-view+json": {
       "model_id": "a28ef4e9e41b4a57b108f0c8f9df3d50",
       "version_major": 2,
       "version_minor": 0
      },
      "text/plain": [
       "HBox(children=(IntProgress(value=0, max=406), HTML(value='')))"
      ]
     },
     "metadata": {},
     "output_type": "display_data"
    },
    {
     "name": "stdout",
     "output_type": "stream",
     "text": [
      "{'loss': 0.03523342027866336, 'mloss': tensor(0.0564), 'val_loss': 0.04163088200824895, 'val_mloss_tot': tensor(0.0722)}\n"
     ]
    },
    {
     "data": {
      "application/vnd.jupyter.widget-view+json": {
       "model_id": "772fe188a2d743a0a75471684f4a2043",
       "version_major": 2,
       "version_minor": 0
      },
      "text/plain": [
       "HBox(children=(IntProgress(value=0, max=815), HTML(value='')))"
      ]
     },
     "metadata": {},
     "output_type": "display_data"
    },
    {
     "data": {
      "application/vnd.jupyter.widget-view+json": {
       "model_id": "5c82b449035f4fb68850231c71c088ce",
       "version_major": 2,
       "version_minor": 0
      },
      "text/plain": [
       "HBox(children=(IntProgress(value=0, max=406), HTML(value='')))"
      ]
     },
     "metadata": {},
     "output_type": "display_data"
    },
    {
     "name": "stdout",
     "output_type": "stream",
     "text": [
      "{'loss': 0.034960862629192256, 'mloss': tensor(0.0639), 'val_loss': 0.0412559283328394, 'val_mloss_tot': tensor(0.0715)}\n"
     ]
    },
    {
     "data": {
      "application/vnd.jupyter.widget-view+json": {
       "model_id": "2dbad0ae52e949169f91ed8f2a28a530",
       "version_major": 2,
       "version_minor": 0
      },
      "text/plain": [
       "HBox(children=(IntProgress(value=0, max=815), HTML(value='')))"
      ]
     },
     "metadata": {},
     "output_type": "display_data"
    },
    {
     "data": {
      "application/vnd.jupyter.widget-view+json": {
       "model_id": "a14fea5bd9ec4157ad9d1b18fbeccae8",
       "version_major": 2,
       "version_minor": 0
      },
      "text/plain": [
       "HBox(children=(IntProgress(value=0, max=406), HTML(value='')))"
      ]
     },
     "metadata": {},
     "output_type": "display_data"
    },
    {
     "name": "stdout",
     "output_type": "stream",
     "text": [
      "{'loss': 0.033293354866938595, 'mloss': tensor(0.0596), 'val_loss': 0.041156812793497234, 'val_mloss_tot': tensor(0.0714)}\n"
     ]
    },
    {
     "data": {
      "application/vnd.jupyter.widget-view+json": {
       "model_id": "2d75f021ca6d43b2946cff1bc2069566",
       "version_major": 2,
       "version_minor": 0
      },
      "text/plain": [
       "HBox(children=(IntProgress(value=0, max=815), HTML(value='')))"
      ]
     },
     "metadata": {},
     "output_type": "display_data"
    },
    {
     "data": {
      "application/vnd.jupyter.widget-view+json": {
       "model_id": "cb123a242ca749148dedd716e6d94c39",
       "version_major": 2,
       "version_minor": 0
      },
      "text/plain": [
       "HBox(children=(IntProgress(value=0, max=406), HTML(value='')))"
      ]
     },
     "metadata": {},
     "output_type": "display_data"
    },
    {
     "name": "stdout",
     "output_type": "stream",
     "text": [
      "{'loss': 0.03556530921345387, 'mloss': tensor(0.0607), 'val_loss': 0.043991375001138214, 'val_mloss_tot': tensor(0.0763)}\n"
     ]
    },
    {
     "data": {
      "application/vnd.jupyter.widget-view+json": {
       "model_id": "3584e10ab59148c19df57c7cbe6c71e9",
       "version_major": 2,
       "version_minor": 0
      },
      "text/plain": [
       "HBox(children=(IntProgress(value=0, max=815), HTML(value='')))"
      ]
     },
     "metadata": {},
     "output_type": "display_data"
    },
    {
     "data": {
      "application/vnd.jupyter.widget-view+json": {
       "model_id": "91db793c02a048449cd2550108278e19",
       "version_major": 2,
       "version_minor": 0
      },
      "text/plain": [
       "HBox(children=(IntProgress(value=0, max=406), HTML(value='')))"
      ]
     },
     "metadata": {},
     "output_type": "display_data"
    },
    {
     "name": "stdout",
     "output_type": "stream",
     "text": [
      "{'loss': 0.03352124620095033, 'mloss': tensor(0.0576), 'val_loss': 0.04142735533306164, 'val_mloss_tot': tensor(0.0718)}\n"
     ]
    },
    {
     "data": {
      "application/vnd.jupyter.widget-view+json": {
       "model_id": "ef0a13e8875840db8737a362c0e25c08",
       "version_major": 2,
       "version_minor": 0
      },
      "text/plain": [
       "HBox(children=(IntProgress(value=0, max=815), HTML(value='')))"
      ]
     },
     "metadata": {},
     "output_type": "display_data"
    },
    {
     "data": {
      "application/vnd.jupyter.widget-view+json": {
       "model_id": "0ad145934093479c903b920bc15a18f3",
       "version_major": 2,
       "version_minor": 0
      },
      "text/plain": [
       "HBox(children=(IntProgress(value=0, max=406), HTML(value='')))"
      ]
     },
     "metadata": {},
     "output_type": "display_data"
    },
    {
     "name": "stdout",
     "output_type": "stream",
     "text": [
      "{'loss': 0.033230878529233766, 'mloss': tensor(0.0573), 'val_loss': 0.04100927188671354, 'val_mloss_tot': tensor(0.0711)}\n"
     ]
    },
    {
     "data": {
      "application/vnd.jupyter.widget-view+json": {
       "model_id": "0347e6e4edc542a791e1cef7ef4bb90e",
       "version_major": 2,
       "version_minor": 0
      },
      "text/plain": [
       "HBox(children=(IntProgress(value=0, max=815), HTML(value='')))"
      ]
     },
     "metadata": {},
     "output_type": "display_data"
    },
    {
     "data": {
      "application/vnd.jupyter.widget-view+json": {
       "model_id": "83a5eeb3d01a45499485f57a80557b9d",
       "version_major": 2,
       "version_minor": 0
      },
      "text/plain": [
       "HBox(children=(IntProgress(value=0, max=406), HTML(value='')))"
      ]
     },
     "metadata": {},
     "output_type": "display_data"
    },
    {
     "name": "stdout",
     "output_type": "stream",
     "text": [
      "{'loss': 0.03163538766444539, 'mloss': tensor(0.0560), 'val_loss': 0.04091087549011879, 'val_mloss_tot': tensor(0.0709)}\n"
     ]
    },
    {
     "data": {
      "application/vnd.jupyter.widget-view+json": {
       "model_id": "c4eafead7f39407684680f29c43c832c",
       "version_major": 2,
       "version_minor": 0
      },
      "text/plain": [
       "HBox(children=(IntProgress(value=0, max=815), HTML(value='')))"
      ]
     },
     "metadata": {},
     "output_type": "display_data"
    },
    {
     "data": {
      "application/vnd.jupyter.widget-view+json": {
       "model_id": "5379879690774885ac118b3237f23096",
       "version_major": 2,
       "version_minor": 0
      },
      "text/plain": [
       "HBox(children=(IntProgress(value=0, max=406), HTML(value='')))"
      ]
     },
     "metadata": {},
     "output_type": "display_data"
    },
    {
     "name": "stdout",
     "output_type": "stream",
     "text": [
      "{'loss': 0.03343515987473534, 'mloss': tensor(0.0554), 'val_loss': 0.0414594910669558, 'val_mloss_tot': tensor(0.0719)}\n"
     ]
    },
    {
     "data": {
      "application/vnd.jupyter.widget-view+json": {
       "model_id": "f1229cab5f624e9c94a786a7a8bb1148",
       "version_major": 2,
       "version_minor": 0
      },
      "text/plain": [
       "HBox(children=(IntProgress(value=0, max=815), HTML(value='')))"
      ]
     },
     "metadata": {},
     "output_type": "display_data"
    },
    {
     "data": {
      "application/vnd.jupyter.widget-view+json": {
       "model_id": "d06227b4197848c08eee02278378cfb8",
       "version_major": 2,
       "version_minor": 0
      },
      "text/plain": [
       "HBox(children=(IntProgress(value=0, max=406), HTML(value='')))"
      ]
     },
     "metadata": {},
     "output_type": "display_data"
    },
    {
     "name": "stdout",
     "output_type": "stream",
     "text": [
      "{'loss': 0.031549682368763876, 'mloss': tensor(0.0522), 'val_loss': 0.04091242456973847, 'val_mloss_tot': tensor(0.0709)}\n"
     ]
    },
    {
     "data": {
      "application/vnd.jupyter.widget-view+json": {
       "model_id": "b235adda880c4056b83e668195afcd29",
       "version_major": 2,
       "version_minor": 0
      },
      "text/plain": [
       "HBox(children=(IntProgress(value=0, max=815), HTML(value='')))"
      ]
     },
     "metadata": {},
     "output_type": "display_data"
    },
    {
     "data": {
      "application/vnd.jupyter.widget-view+json": {
       "model_id": "99fe242899a946559ddb0b08c411a288",
       "version_major": 2,
       "version_minor": 0
      },
      "text/plain": [
       "HBox(children=(IntProgress(value=0, max=406), HTML(value='')))"
      ]
     },
     "metadata": {},
     "output_type": "display_data"
    },
    {
     "name": "stdout",
     "output_type": "stream",
     "text": [
      "{'loss': 0.03237044013321535, 'mloss': tensor(0.0557), 'val_loss': 0.04076477549878394, 'val_mloss_tot': tensor(0.0707)}\n"
     ]
    },
    {
     "data": {
      "application/vnd.jupyter.widget-view+json": {
       "model_id": "ab14b8d8ddd54fa28f69c853365e2ecd",
       "version_major": 2,
       "version_minor": 0
      },
      "text/plain": [
       "HBox(children=(IntProgress(value=0, max=815), HTML(value='')))"
      ]
     },
     "metadata": {},
     "output_type": "display_data"
    },
    {
     "data": {
      "application/vnd.jupyter.widget-view+json": {
       "model_id": "ae95800e063545b088e2b92eb4523a77",
       "version_major": 2,
       "version_minor": 0
      },
      "text/plain": [
       "HBox(children=(IntProgress(value=0, max=406), HTML(value='')))"
      ]
     },
     "metadata": {},
     "output_type": "display_data"
    },
    {
     "name": "stdout",
     "output_type": "stream",
     "text": [
      "{'loss': 0.033500690559540046, 'mloss': tensor(0.0581), 'val_loss': 0.040567436319743765, 'val_mloss_tot': tensor(0.0703)}\n"
     ]
    },
    {
     "data": {
      "application/vnd.jupyter.widget-view+json": {
       "model_id": "984f90211818441cb88d9708cf316ef9",
       "version_major": 2,
       "version_minor": 0
      },
      "text/plain": [
       "HBox(children=(IntProgress(value=0, max=815), HTML(value='')))"
      ]
     },
     "metadata": {},
     "output_type": "display_data"
    },
    {
     "data": {
      "application/vnd.jupyter.widget-view+json": {
       "model_id": "edc45b5f95604d91a46e4c29fd263319",
       "version_major": 2,
       "version_minor": 0
      },
      "text/plain": [
       "HBox(children=(IntProgress(value=0, max=406), HTML(value='')))"
      ]
     },
     "metadata": {},
     "output_type": "display_data"
    },
    {
     "name": "stdout",
     "output_type": "stream",
     "text": [
      "{'loss': 0.03517206913528462, 'mloss': tensor(0.0620), 'val_loss': 0.041931736044438894, 'val_mloss_tot': tensor(0.0727)}\n"
     ]
    },
    {
     "data": {
      "application/vnd.jupyter.widget-view+json": {
       "model_id": "bdba31a5af0a4b708b4471d7bea5c002",
       "version_major": 2,
       "version_minor": 0
      },
      "text/plain": [
       "HBox(children=(IntProgress(value=0, max=815), HTML(value='')))"
      ]
     },
     "metadata": {},
     "output_type": "display_data"
    },
    {
     "data": {
      "application/vnd.jupyter.widget-view+json": {
       "model_id": "0ecf1f0f8ec6443cbb3861c76d6b765b",
       "version_major": 2,
       "version_minor": 0
      },
      "text/plain": [
       "HBox(children=(IntProgress(value=0, max=406), HTML(value='')))"
      ]
     },
     "metadata": {},
     "output_type": "display_data"
    },
    {
     "name": "stdout",
     "output_type": "stream",
     "text": [
      "{'loss': 0.03417802246571619, 'mloss': tensor(0.0594), 'val_loss': 0.041970328950859934, 'val_mloss_tot': tensor(0.0728)}\n"
     ]
    },
    {
     "data": {
      "application/vnd.jupyter.widget-view+json": {
       "model_id": "45aa3263942c4504a2578c0e64e44eb8",
       "version_major": 2,
       "version_minor": 0
      },
      "text/plain": [
       "HBox(children=(IntProgress(value=0, max=815), HTML(value='')))"
      ]
     },
     "metadata": {},
     "output_type": "display_data"
    },
    {
     "data": {
      "application/vnd.jupyter.widget-view+json": {
       "model_id": "22a0ed1b157a4561bdafe9f8c57ab1e9",
       "version_major": 2,
       "version_minor": 0
      },
      "text/plain": [
       "HBox(children=(IntProgress(value=0, max=406), HTML(value='')))"
      ]
     },
     "metadata": {},
     "output_type": "display_data"
    },
    {
     "name": "stdout",
     "output_type": "stream",
     "text": [
      "{'loss': 0.03265489170696984, 'mloss': tensor(0.0559), 'val_loss': 0.0409386638044999, 'val_mloss_tot': tensor(0.0710)}\n"
     ]
    },
    {
     "data": {
      "application/vnd.jupyter.widget-view+json": {
       "model_id": "11f65516e2c3485ba94e479d96381b82",
       "version_major": 2,
       "version_minor": 0
      },
      "text/plain": [
       "HBox(children=(IntProgress(value=0, max=815), HTML(value='')))"
      ]
     },
     "metadata": {},
     "output_type": "display_data"
    },
    {
     "data": {
      "application/vnd.jupyter.widget-view+json": {
       "model_id": "9a05e9c2c0e54df580672a2f9f0e70db",
       "version_major": 2,
       "version_minor": 0
      },
      "text/plain": [
       "HBox(children=(IntProgress(value=0, max=406), HTML(value='')))"
      ]
     },
     "metadata": {},
     "output_type": "display_data"
    },
    {
     "name": "stdout",
     "output_type": "stream",
     "text": [
      "{'loss': 0.030883931982904775, 'mloss': tensor(0.0515), 'val_loss': 0.04067272017939301, 'val_mloss_tot': tensor(0.0705)}\n",
      "\n"
     ]
    },
    {
     "data": {
      "application/vnd.jupyter.widget-view+json": {
       "model_id": "a4477846b4d74a90baf55adbc555df5c",
       "version_major": 2,
       "version_minor": 0
      },
      "text/plain": [
       "HBox(children=(IntProgress(value=0, max=406), HTML(value='')))"
      ]
     },
     "metadata": {},
     "output_type": "display_data"
    },
    {
     "name": "stdout",
     "output_type": "stream",
     "text": [
      "\n",
      "0.040567436319743765\n"
     ]
    }
   ],
   "source": [
    "%matplotlib nbagg\n",
    "model_name,version, num_split = 'Densenet161_3' , 'classifier_splits',2\n",
    "pickle_file=open(outputs_dir+outputs_format.format(model_name,version,'features_train_tta',num_split),'rb')\n",
    "features=pickle.load(pickle_file)\n",
    "pickle_file.close()\n",
    "features.shape\n",
    "\n",
    "features=features.reshape(features.shape[0]//4,4,-1)\n",
    "features.shape\n",
    "split_train = train_df[train_df.PID.isin(set(split_sid[splits[num_split][0]]))].SeriesI.unique()\n",
    "split_validate =  train_df[train_df.PID.isin(set(split_sid[splits[num_split][1]]))].SeriesI.unique()\n",
    "\n",
    "np.random.seed(SEED+num_split)\n",
    "torch.manual_seed(SEED+num_split)\n",
    "torch.cuda.manual_seed(SEED+num_split)\n",
    "torch.backends.cudnn.deterministic = True\n",
    "batch_size=16\n",
    "num_workers=18\n",
    "num_epochs=16\n",
    "klr=1\n",
    "weights = torch.tensor([1.,1.,1.,1.,1.,2.],device=device)\n",
    "train_dataset=FullHeadDataset(train_df,\n",
    "                              split_train,\n",
    "                              features,\n",
    "                              'SeriesI',\n",
    "                              'ImagePositionZ',\n",
    "                              hemorrhage_types)                \n",
    "validate_dataset=FullHeadDataset(train_df,\n",
    "                                 split_validate,\n",
    "                                 features[:,0,:],\n",
    "                                 'SeriesI',\n",
    "                                 'ImagePositionZ',\n",
    "                                 hemorrhage_types)                \n",
    "\n",
    "model=ResModel(features.shape[-1])\n",
    "version=version+'_fullhead_resmodel'\n",
    "_=model.to(device)\n",
    "\n",
    "loss_func=my_loss\n",
    "fig,ax = plt.subplots(figsize=(10,7))\n",
    "gr=loss_graph(fig,ax,num_epochs,len(train_dataset)//batch_size+1,limits=[0.02,0.06])\n",
    "num_train_optimization_steps = num_epochs*(len(train_dataset)//batch_size+int(len(train_dataset)%batch_size>0))\n",
    "sched=WarmupExpCosineWithWarmupRestartsSchedule( t_total=num_train_optimization_steps, cycles=num_epochs//4,tau=0)\n",
    "optimizer = BertAdam(model.parameters(),lr=klr*1e-3,schedule=sched)\n",
    "history,best_model= model_train(model,\n",
    "                                optimizer,\n",
    "                                train_dataset,\n",
    "                                batch_size,\n",
    "                                num_epochs,\n",
    "                                loss_func,\n",
    "                                weights=weights,\n",
    "                                do_apex=False,\n",
    "                                validate_dataset=validate_dataset,\n",
    "                                param_schedualer=None,\n",
    "                                weights_data=None,\n",
    "                                metric=Metric(torch.tensor([1.,1.,1.,1.,1.,2.])),\n",
    "                                return_model=True,\n",
    "                                best_average=3,\n",
    "                                num_workers=num_workers,\n",
    "                                sampler=None,\n",
    "                                graph=gr)\n",
    "torch.save(best_model.state_dict(), models_dir+models_format.format(model_name,version,num_split))"
   ]
  },
  {
   "cell_type": "code",
   "execution_count": 19,
   "metadata": {
    "scrolled": false
   },
   "outputs": [
    {
     "data": {
      "text/plain": [
       "torch.Size([2697008, 552])"
      ]
     },
     "execution_count": 19,
     "metadata": {},
     "output_type": "execute_result"
    },
    {
     "data": {
      "text/plain": [
       "torch.Size([674252, 4, 552])"
      ]
     },
     "execution_count": 19,
     "metadata": {},
     "output_type": "execute_result"
    },
    {
     "data": {
      "text/plain": [
       "<torch._C.Generator at 0x7f56eb479790>"
      ]
     },
     "execution_count": 19,
     "metadata": {},
     "output_type": "execute_result"
    },
    {
     "data": {
      "application/javascript": [
       "/* Put everything inside the global mpl namespace */\n",
       "window.mpl = {};\n",
       "\n",
       "\n",
       "mpl.get_websocket_type = function() {\n",
       "    if (typeof(WebSocket) !== 'undefined') {\n",
       "        return WebSocket;\n",
       "    } else if (typeof(MozWebSocket) !== 'undefined') {\n",
       "        return MozWebSocket;\n",
       "    } else {\n",
       "        alert('Your browser does not have WebSocket support.' +\n",
       "              'Please try Chrome, Safari or Firefox ≥ 6. ' +\n",
       "              'Firefox 4 and 5 are also supported but you ' +\n",
       "              'have to enable WebSockets in about:config.');\n",
       "    };\n",
       "}\n",
       "\n",
       "mpl.figure = function(figure_id, websocket, ondownload, parent_element) {\n",
       "    this.id = figure_id;\n",
       "\n",
       "    this.ws = websocket;\n",
       "\n",
       "    this.supports_binary = (this.ws.binaryType != undefined);\n",
       "\n",
       "    if (!this.supports_binary) {\n",
       "        var warnings = document.getElementById(\"mpl-warnings\");\n",
       "        if (warnings) {\n",
       "            warnings.style.display = 'block';\n",
       "            warnings.textContent = (\n",
       "                \"This browser does not support binary websocket messages. \" +\n",
       "                    \"Performance may be slow.\");\n",
       "        }\n",
       "    }\n",
       "\n",
       "    this.imageObj = new Image();\n",
       "\n",
       "    this.context = undefined;\n",
       "    this.message = undefined;\n",
       "    this.canvas = undefined;\n",
       "    this.rubberband_canvas = undefined;\n",
       "    this.rubberband_context = undefined;\n",
       "    this.format_dropdown = undefined;\n",
       "\n",
       "    this.image_mode = 'full';\n",
       "\n",
       "    this.root = $('<div/>');\n",
       "    this._root_extra_style(this.root)\n",
       "    this.root.attr('style', 'display: inline-block');\n",
       "\n",
       "    $(parent_element).append(this.root);\n",
       "\n",
       "    this._init_header(this);\n",
       "    this._init_canvas(this);\n",
       "    this._init_toolbar(this);\n",
       "\n",
       "    var fig = this;\n",
       "\n",
       "    this.waiting = false;\n",
       "\n",
       "    this.ws.onopen =  function () {\n",
       "            fig.send_message(\"supports_binary\", {value: fig.supports_binary});\n",
       "            fig.send_message(\"send_image_mode\", {});\n",
       "            if (mpl.ratio != 1) {\n",
       "                fig.send_message(\"set_dpi_ratio\", {'dpi_ratio': mpl.ratio});\n",
       "            }\n",
       "            fig.send_message(\"refresh\", {});\n",
       "        }\n",
       "\n",
       "    this.imageObj.onload = function() {\n",
       "            if (fig.image_mode == 'full') {\n",
       "                // Full images could contain transparency (where diff images\n",
       "                // almost always do), so we need to clear the canvas so that\n",
       "                // there is no ghosting.\n",
       "                fig.context.clearRect(0, 0, fig.canvas.width, fig.canvas.height);\n",
       "            }\n",
       "            fig.context.drawImage(fig.imageObj, 0, 0);\n",
       "        };\n",
       "\n",
       "    this.imageObj.onunload = function() {\n",
       "        fig.ws.close();\n",
       "    }\n",
       "\n",
       "    this.ws.onmessage = this._make_on_message_function(this);\n",
       "\n",
       "    this.ondownload = ondownload;\n",
       "}\n",
       "\n",
       "mpl.figure.prototype._init_header = function() {\n",
       "    var titlebar = $(\n",
       "        '<div class=\"ui-dialog-titlebar ui-widget-header ui-corner-all ' +\n",
       "        'ui-helper-clearfix\"/>');\n",
       "    var titletext = $(\n",
       "        '<div class=\"ui-dialog-title\" style=\"width: 100%; ' +\n",
       "        'text-align: center; padding: 3px;\"/>');\n",
       "    titlebar.append(titletext)\n",
       "    this.root.append(titlebar);\n",
       "    this.header = titletext[0];\n",
       "}\n",
       "\n",
       "\n",
       "\n",
       "mpl.figure.prototype._canvas_extra_style = function(canvas_div) {\n",
       "\n",
       "}\n",
       "\n",
       "\n",
       "mpl.figure.prototype._root_extra_style = function(canvas_div) {\n",
       "\n",
       "}\n",
       "\n",
       "mpl.figure.prototype._init_canvas = function() {\n",
       "    var fig = this;\n",
       "\n",
       "    var canvas_div = $('<div/>');\n",
       "\n",
       "    canvas_div.attr('style', 'position: relative; clear: both; outline: 0');\n",
       "\n",
       "    function canvas_keyboard_event(event) {\n",
       "        return fig.key_event(event, event['data']);\n",
       "    }\n",
       "\n",
       "    canvas_div.keydown('key_press', canvas_keyboard_event);\n",
       "    canvas_div.keyup('key_release', canvas_keyboard_event);\n",
       "    this.canvas_div = canvas_div\n",
       "    this._canvas_extra_style(canvas_div)\n",
       "    this.root.append(canvas_div);\n",
       "\n",
       "    var canvas = $('<canvas/>');\n",
       "    canvas.addClass('mpl-canvas');\n",
       "    canvas.attr('style', \"left: 0; top: 0; z-index: 0; outline: 0\")\n",
       "\n",
       "    this.canvas = canvas[0];\n",
       "    this.context = canvas[0].getContext(\"2d\");\n",
       "\n",
       "    var backingStore = this.context.backingStorePixelRatio ||\n",
       "\tthis.context.webkitBackingStorePixelRatio ||\n",
       "\tthis.context.mozBackingStorePixelRatio ||\n",
       "\tthis.context.msBackingStorePixelRatio ||\n",
       "\tthis.context.oBackingStorePixelRatio ||\n",
       "\tthis.context.backingStorePixelRatio || 1;\n",
       "\n",
       "    mpl.ratio = (window.devicePixelRatio || 1) / backingStore;\n",
       "\n",
       "    var rubberband = $('<canvas/>');\n",
       "    rubberband.attr('style', \"position: absolute; left: 0; top: 0; z-index: 1;\")\n",
       "\n",
       "    var pass_mouse_events = true;\n",
       "\n",
       "    canvas_div.resizable({\n",
       "        start: function(event, ui) {\n",
       "            pass_mouse_events = false;\n",
       "        },\n",
       "        resize: function(event, ui) {\n",
       "            fig.request_resize(ui.size.width, ui.size.height);\n",
       "        },\n",
       "        stop: function(event, ui) {\n",
       "            pass_mouse_events = true;\n",
       "            fig.request_resize(ui.size.width, ui.size.height);\n",
       "        },\n",
       "    });\n",
       "\n",
       "    function mouse_event_fn(event) {\n",
       "        if (pass_mouse_events)\n",
       "            return fig.mouse_event(event, event['data']);\n",
       "    }\n",
       "\n",
       "    rubberband.mousedown('button_press', mouse_event_fn);\n",
       "    rubberband.mouseup('button_release', mouse_event_fn);\n",
       "    // Throttle sequential mouse events to 1 every 20ms.\n",
       "    rubberband.mousemove('motion_notify', mouse_event_fn);\n",
       "\n",
       "    rubberband.mouseenter('figure_enter', mouse_event_fn);\n",
       "    rubberband.mouseleave('figure_leave', mouse_event_fn);\n",
       "\n",
       "    canvas_div.on(\"wheel\", function (event) {\n",
       "        event = event.originalEvent;\n",
       "        event['data'] = 'scroll'\n",
       "        if (event.deltaY < 0) {\n",
       "            event.step = 1;\n",
       "        } else {\n",
       "            event.step = -1;\n",
       "        }\n",
       "        mouse_event_fn(event);\n",
       "    });\n",
       "\n",
       "    canvas_div.append(canvas);\n",
       "    canvas_div.append(rubberband);\n",
       "\n",
       "    this.rubberband = rubberband;\n",
       "    this.rubberband_canvas = rubberband[0];\n",
       "    this.rubberband_context = rubberband[0].getContext(\"2d\");\n",
       "    this.rubberband_context.strokeStyle = \"#000000\";\n",
       "\n",
       "    this._resize_canvas = function(width, height) {\n",
       "        // Keep the size of the canvas, canvas container, and rubber band\n",
       "        // canvas in synch.\n",
       "        canvas_div.css('width', width)\n",
       "        canvas_div.css('height', height)\n",
       "\n",
       "        canvas.attr('width', width * mpl.ratio);\n",
       "        canvas.attr('height', height * mpl.ratio);\n",
       "        canvas.attr('style', 'width: ' + width + 'px; height: ' + height + 'px;');\n",
       "\n",
       "        rubberband.attr('width', width);\n",
       "        rubberband.attr('height', height);\n",
       "    }\n",
       "\n",
       "    // Set the figure to an initial 600x600px, this will subsequently be updated\n",
       "    // upon first draw.\n",
       "    this._resize_canvas(600, 600);\n",
       "\n",
       "    // Disable right mouse context menu.\n",
       "    $(this.rubberband_canvas).bind(\"contextmenu\",function(e){\n",
       "        return false;\n",
       "    });\n",
       "\n",
       "    function set_focus () {\n",
       "        canvas.focus();\n",
       "        canvas_div.focus();\n",
       "    }\n",
       "\n",
       "    window.setTimeout(set_focus, 100);\n",
       "}\n",
       "\n",
       "mpl.figure.prototype._init_toolbar = function() {\n",
       "    var fig = this;\n",
       "\n",
       "    var nav_element = $('<div/>')\n",
       "    nav_element.attr('style', 'width: 100%');\n",
       "    this.root.append(nav_element);\n",
       "\n",
       "    // Define a callback function for later on.\n",
       "    function toolbar_event(event) {\n",
       "        return fig.toolbar_button_onclick(event['data']);\n",
       "    }\n",
       "    function toolbar_mouse_event(event) {\n",
       "        return fig.toolbar_button_onmouseover(event['data']);\n",
       "    }\n",
       "\n",
       "    for(var toolbar_ind in mpl.toolbar_items) {\n",
       "        var name = mpl.toolbar_items[toolbar_ind][0];\n",
       "        var tooltip = mpl.toolbar_items[toolbar_ind][1];\n",
       "        var image = mpl.toolbar_items[toolbar_ind][2];\n",
       "        var method_name = mpl.toolbar_items[toolbar_ind][3];\n",
       "\n",
       "        if (!name) {\n",
       "            // put a spacer in here.\n",
       "            continue;\n",
       "        }\n",
       "        var button = $('<button/>');\n",
       "        button.addClass('ui-button ui-widget ui-state-default ui-corner-all ' +\n",
       "                        'ui-button-icon-only');\n",
       "        button.attr('role', 'button');\n",
       "        button.attr('aria-disabled', 'false');\n",
       "        button.click(method_name, toolbar_event);\n",
       "        button.mouseover(tooltip, toolbar_mouse_event);\n",
       "\n",
       "        var icon_img = $('<span/>');\n",
       "        icon_img.addClass('ui-button-icon-primary ui-icon');\n",
       "        icon_img.addClass(image);\n",
       "        icon_img.addClass('ui-corner-all');\n",
       "\n",
       "        var tooltip_span = $('<span/>');\n",
       "        tooltip_span.addClass('ui-button-text');\n",
       "        tooltip_span.html(tooltip);\n",
       "\n",
       "        button.append(icon_img);\n",
       "        button.append(tooltip_span);\n",
       "\n",
       "        nav_element.append(button);\n",
       "    }\n",
       "\n",
       "    var fmt_picker_span = $('<span/>');\n",
       "\n",
       "    var fmt_picker = $('<select/>');\n",
       "    fmt_picker.addClass('mpl-toolbar-option ui-widget ui-widget-content');\n",
       "    fmt_picker_span.append(fmt_picker);\n",
       "    nav_element.append(fmt_picker_span);\n",
       "    this.format_dropdown = fmt_picker[0];\n",
       "\n",
       "    for (var ind in mpl.extensions) {\n",
       "        var fmt = mpl.extensions[ind];\n",
       "        var option = $(\n",
       "            '<option/>', {selected: fmt === mpl.default_extension}).html(fmt);\n",
       "        fmt_picker.append(option)\n",
       "    }\n",
       "\n",
       "    // Add hover states to the ui-buttons\n",
       "    $( \".ui-button\" ).hover(\n",
       "        function() { $(this).addClass(\"ui-state-hover\");},\n",
       "        function() { $(this).removeClass(\"ui-state-hover\");}\n",
       "    );\n",
       "\n",
       "    var status_bar = $('<span class=\"mpl-message\"/>');\n",
       "    nav_element.append(status_bar);\n",
       "    this.message = status_bar[0];\n",
       "}\n",
       "\n",
       "mpl.figure.prototype.request_resize = function(x_pixels, y_pixels) {\n",
       "    // Request matplotlib to resize the figure. Matplotlib will then trigger a resize in the client,\n",
       "    // which will in turn request a refresh of the image.\n",
       "    this.send_message('resize', {'width': x_pixels, 'height': y_pixels});\n",
       "}\n",
       "\n",
       "mpl.figure.prototype.send_message = function(type, properties) {\n",
       "    properties['type'] = type;\n",
       "    properties['figure_id'] = this.id;\n",
       "    this.ws.send(JSON.stringify(properties));\n",
       "}\n",
       "\n",
       "mpl.figure.prototype.send_draw_message = function() {\n",
       "    if (!this.waiting) {\n",
       "        this.waiting = true;\n",
       "        this.ws.send(JSON.stringify({type: \"draw\", figure_id: this.id}));\n",
       "    }\n",
       "}\n",
       "\n",
       "\n",
       "mpl.figure.prototype.handle_save = function(fig, msg) {\n",
       "    var format_dropdown = fig.format_dropdown;\n",
       "    var format = format_dropdown.options[format_dropdown.selectedIndex].value;\n",
       "    fig.ondownload(fig, format);\n",
       "}\n",
       "\n",
       "\n",
       "mpl.figure.prototype.handle_resize = function(fig, msg) {\n",
       "    var size = msg['size'];\n",
       "    if (size[0] != fig.canvas.width || size[1] != fig.canvas.height) {\n",
       "        fig._resize_canvas(size[0], size[1]);\n",
       "        fig.send_message(\"refresh\", {});\n",
       "    };\n",
       "}\n",
       "\n",
       "mpl.figure.prototype.handle_rubberband = function(fig, msg) {\n",
       "    var x0 = msg['x0'] / mpl.ratio;\n",
       "    var y0 = (fig.canvas.height - msg['y0']) / mpl.ratio;\n",
       "    var x1 = msg['x1'] / mpl.ratio;\n",
       "    var y1 = (fig.canvas.height - msg['y1']) / mpl.ratio;\n",
       "    x0 = Math.floor(x0) + 0.5;\n",
       "    y0 = Math.floor(y0) + 0.5;\n",
       "    x1 = Math.floor(x1) + 0.5;\n",
       "    y1 = Math.floor(y1) + 0.5;\n",
       "    var min_x = Math.min(x0, x1);\n",
       "    var min_y = Math.min(y0, y1);\n",
       "    var width = Math.abs(x1 - x0);\n",
       "    var height = Math.abs(y1 - y0);\n",
       "\n",
       "    fig.rubberband_context.clearRect(\n",
       "        0, 0, fig.canvas.width, fig.canvas.height);\n",
       "\n",
       "    fig.rubberband_context.strokeRect(min_x, min_y, width, height);\n",
       "}\n",
       "\n",
       "mpl.figure.prototype.handle_figure_label = function(fig, msg) {\n",
       "    // Updates the figure title.\n",
       "    fig.header.textContent = msg['label'];\n",
       "}\n",
       "\n",
       "mpl.figure.prototype.handle_cursor = function(fig, msg) {\n",
       "    var cursor = msg['cursor'];\n",
       "    switch(cursor)\n",
       "    {\n",
       "    case 0:\n",
       "        cursor = 'pointer';\n",
       "        break;\n",
       "    case 1:\n",
       "        cursor = 'default';\n",
       "        break;\n",
       "    case 2:\n",
       "        cursor = 'crosshair';\n",
       "        break;\n",
       "    case 3:\n",
       "        cursor = 'move';\n",
       "        break;\n",
       "    }\n",
       "    fig.rubberband_canvas.style.cursor = cursor;\n",
       "}\n",
       "\n",
       "mpl.figure.prototype.handle_message = function(fig, msg) {\n",
       "    fig.message.textContent = msg['message'];\n",
       "}\n",
       "\n",
       "mpl.figure.prototype.handle_draw = function(fig, msg) {\n",
       "    // Request the server to send over a new figure.\n",
       "    fig.send_draw_message();\n",
       "}\n",
       "\n",
       "mpl.figure.prototype.handle_image_mode = function(fig, msg) {\n",
       "    fig.image_mode = msg['mode'];\n",
       "}\n",
       "\n",
       "mpl.figure.prototype.updated_canvas_event = function() {\n",
       "    // Called whenever the canvas gets updated.\n",
       "    this.send_message(\"ack\", {});\n",
       "}\n",
       "\n",
       "// A function to construct a web socket function for onmessage handling.\n",
       "// Called in the figure constructor.\n",
       "mpl.figure.prototype._make_on_message_function = function(fig) {\n",
       "    return function socket_on_message(evt) {\n",
       "        if (evt.data instanceof Blob) {\n",
       "            /* FIXME: We get \"Resource interpreted as Image but\n",
       "             * transferred with MIME type text/plain:\" errors on\n",
       "             * Chrome.  But how to set the MIME type?  It doesn't seem\n",
       "             * to be part of the websocket stream */\n",
       "            evt.data.type = \"image/png\";\n",
       "\n",
       "            /* Free the memory for the previous frames */\n",
       "            if (fig.imageObj.src) {\n",
       "                (window.URL || window.webkitURL).revokeObjectURL(\n",
       "                    fig.imageObj.src);\n",
       "            }\n",
       "\n",
       "            fig.imageObj.src = (window.URL || window.webkitURL).createObjectURL(\n",
       "                evt.data);\n",
       "            fig.updated_canvas_event();\n",
       "            fig.waiting = false;\n",
       "            return;\n",
       "        }\n",
       "        else if (typeof evt.data === 'string' && evt.data.slice(0, 21) == \"data:image/png;base64\") {\n",
       "            fig.imageObj.src = evt.data;\n",
       "            fig.updated_canvas_event();\n",
       "            fig.waiting = false;\n",
       "            return;\n",
       "        }\n",
       "\n",
       "        var msg = JSON.parse(evt.data);\n",
       "        var msg_type = msg['type'];\n",
       "\n",
       "        // Call the  \"handle_{type}\" callback, which takes\n",
       "        // the figure and JSON message as its only arguments.\n",
       "        try {\n",
       "            var callback = fig[\"handle_\" + msg_type];\n",
       "        } catch (e) {\n",
       "            console.log(\"No handler for the '\" + msg_type + \"' message type: \", msg);\n",
       "            return;\n",
       "        }\n",
       "\n",
       "        if (callback) {\n",
       "            try {\n",
       "                // console.log(\"Handling '\" + msg_type + \"' message: \", msg);\n",
       "                callback(fig, msg);\n",
       "            } catch (e) {\n",
       "                console.log(\"Exception inside the 'handler_\" + msg_type + \"' callback:\", e, e.stack, msg);\n",
       "            }\n",
       "        }\n",
       "    };\n",
       "}\n",
       "\n",
       "// from http://stackoverflow.com/questions/1114465/getting-mouse-location-in-canvas\n",
       "mpl.findpos = function(e) {\n",
       "    //this section is from http://www.quirksmode.org/js/events_properties.html\n",
       "    var targ;\n",
       "    if (!e)\n",
       "        e = window.event;\n",
       "    if (e.target)\n",
       "        targ = e.target;\n",
       "    else if (e.srcElement)\n",
       "        targ = e.srcElement;\n",
       "    if (targ.nodeType == 3) // defeat Safari bug\n",
       "        targ = targ.parentNode;\n",
       "\n",
       "    // jQuery normalizes the pageX and pageY\n",
       "    // pageX,Y are the mouse positions relative to the document\n",
       "    // offset() returns the position of the element relative to the document\n",
       "    var x = e.pageX - $(targ).offset().left;\n",
       "    var y = e.pageY - $(targ).offset().top;\n",
       "\n",
       "    return {\"x\": x, \"y\": y};\n",
       "};\n",
       "\n",
       "/*\n",
       " * return a copy of an object with only non-object keys\n",
       " * we need this to avoid circular references\n",
       " * http://stackoverflow.com/a/24161582/3208463\n",
       " */\n",
       "function simpleKeys (original) {\n",
       "  return Object.keys(original).reduce(function (obj, key) {\n",
       "    if (typeof original[key] !== 'object')\n",
       "        obj[key] = original[key]\n",
       "    return obj;\n",
       "  }, {});\n",
       "}\n",
       "\n",
       "mpl.figure.prototype.mouse_event = function(event, name) {\n",
       "    var canvas_pos = mpl.findpos(event)\n",
       "\n",
       "    if (name === 'button_press')\n",
       "    {\n",
       "        this.canvas.focus();\n",
       "        this.canvas_div.focus();\n",
       "    }\n",
       "\n",
       "    var x = canvas_pos.x * mpl.ratio;\n",
       "    var y = canvas_pos.y * mpl.ratio;\n",
       "\n",
       "    this.send_message(name, {x: x, y: y, button: event.button,\n",
       "                             step: event.step,\n",
       "                             guiEvent: simpleKeys(event)});\n",
       "\n",
       "    /* This prevents the web browser from automatically changing to\n",
       "     * the text insertion cursor when the button is pressed.  We want\n",
       "     * to control all of the cursor setting manually through the\n",
       "     * 'cursor' event from matplotlib */\n",
       "    event.preventDefault();\n",
       "    return false;\n",
       "}\n",
       "\n",
       "mpl.figure.prototype._key_event_extra = function(event, name) {\n",
       "    // Handle any extra behaviour associated with a key event\n",
       "}\n",
       "\n",
       "mpl.figure.prototype.key_event = function(event, name) {\n",
       "\n",
       "    // Prevent repeat events\n",
       "    if (name == 'key_press')\n",
       "    {\n",
       "        if (event.which === this._key)\n",
       "            return;\n",
       "        else\n",
       "            this._key = event.which;\n",
       "    }\n",
       "    if (name == 'key_release')\n",
       "        this._key = null;\n",
       "\n",
       "    var value = '';\n",
       "    if (event.ctrlKey && event.which != 17)\n",
       "        value += \"ctrl+\";\n",
       "    if (event.altKey && event.which != 18)\n",
       "        value += \"alt+\";\n",
       "    if (event.shiftKey && event.which != 16)\n",
       "        value += \"shift+\";\n",
       "\n",
       "    value += 'k';\n",
       "    value += event.which.toString();\n",
       "\n",
       "    this._key_event_extra(event, name);\n",
       "\n",
       "    this.send_message(name, {key: value,\n",
       "                             guiEvent: simpleKeys(event)});\n",
       "    return false;\n",
       "}\n",
       "\n",
       "mpl.figure.prototype.toolbar_button_onclick = function(name) {\n",
       "    if (name == 'download') {\n",
       "        this.handle_save(this, null);\n",
       "    } else {\n",
       "        this.send_message(\"toolbar_button\", {name: name});\n",
       "    }\n",
       "};\n",
       "\n",
       "mpl.figure.prototype.toolbar_button_onmouseover = function(tooltip) {\n",
       "    this.message.textContent = tooltip;\n",
       "};\n",
       "mpl.toolbar_items = [[\"Home\", \"Reset original view\", \"fa fa-home icon-home\", \"home\"], [\"Back\", \"Back to  previous view\", \"fa fa-arrow-left icon-arrow-left\", \"back\"], [\"Forward\", \"Forward to next view\", \"fa fa-arrow-right icon-arrow-right\", \"forward\"], [\"\", \"\", \"\", \"\"], [\"Pan\", \"Pan axes with left mouse, zoom with right\", \"fa fa-arrows icon-move\", \"pan\"], [\"Zoom\", \"Zoom to rectangle\", \"fa fa-square-o icon-check-empty\", \"zoom\"], [\"\", \"\", \"\", \"\"], [\"Download\", \"Download plot\", \"fa fa-floppy-o icon-save\", \"download\"]];\n",
       "\n",
       "mpl.extensions = [\"eps\", \"jpeg\", \"pdf\", \"png\", \"ps\", \"raw\", \"svg\", \"tif\"];\n",
       "\n",
       "mpl.default_extension = \"png\";var comm_websocket_adapter = function(comm) {\n",
       "    // Create a \"websocket\"-like object which calls the given IPython comm\n",
       "    // object with the appropriate methods. Currently this is a non binary\n",
       "    // socket, so there is still some room for performance tuning.\n",
       "    var ws = {};\n",
       "\n",
       "    ws.close = function() {\n",
       "        comm.close()\n",
       "    };\n",
       "    ws.send = function(m) {\n",
       "        //console.log('sending', m);\n",
       "        comm.send(m);\n",
       "    };\n",
       "    // Register the callback with on_msg.\n",
       "    comm.on_msg(function(msg) {\n",
       "        //console.log('receiving', msg['content']['data'], msg);\n",
       "        // Pass the mpl event to the overridden (by mpl) onmessage function.\n",
       "        ws.onmessage(msg['content']['data'])\n",
       "    });\n",
       "    return ws;\n",
       "}\n",
       "\n",
       "mpl.mpl_figure_comm = function(comm, msg) {\n",
       "    // This is the function which gets called when the mpl process\n",
       "    // starts-up an IPython Comm through the \"matplotlib\" channel.\n",
       "\n",
       "    var id = msg.content.data.id;\n",
       "    // Get hold of the div created by the display call when the Comm\n",
       "    // socket was opened in Python.\n",
       "    var element = $(\"#\" + id);\n",
       "    var ws_proxy = comm_websocket_adapter(comm)\n",
       "\n",
       "    function ondownload(figure, format) {\n",
       "        window.open(figure.imageObj.src);\n",
       "    }\n",
       "\n",
       "    var fig = new mpl.figure(id, ws_proxy,\n",
       "                           ondownload,\n",
       "                           element.get(0));\n",
       "\n",
       "    // Call onopen now - mpl needs it, as it is assuming we've passed it a real\n",
       "    // web socket which is closed, not our websocket->open comm proxy.\n",
       "    ws_proxy.onopen();\n",
       "\n",
       "    fig.parent_element = element.get(0);\n",
       "    fig.cell_info = mpl.find_output_cell(\"<div id='\" + id + \"'></div>\");\n",
       "    if (!fig.cell_info) {\n",
       "        console.error(\"Failed to find cell for figure\", id, fig);\n",
       "        return;\n",
       "    }\n",
       "\n",
       "    var output_index = fig.cell_info[2]\n",
       "    var cell = fig.cell_info[0];\n",
       "\n",
       "};\n",
       "\n",
       "mpl.figure.prototype.handle_close = function(fig, msg) {\n",
       "    var width = fig.canvas.width/mpl.ratio\n",
       "    fig.root.unbind('remove')\n",
       "\n",
       "    // Update the output cell to use the data from the current canvas.\n",
       "    fig.push_to_output();\n",
       "    var dataURL = fig.canvas.toDataURL();\n",
       "    // Re-enable the keyboard manager in IPython - without this line, in FF,\n",
       "    // the notebook keyboard shortcuts fail.\n",
       "    IPython.keyboard_manager.enable()\n",
       "    $(fig.parent_element).html('<img src=\"' + dataURL + '\" width=\"' + width + '\">');\n",
       "    fig.close_ws(fig, msg);\n",
       "}\n",
       "\n",
       "mpl.figure.prototype.close_ws = function(fig, msg){\n",
       "    fig.send_message('closing', msg);\n",
       "    // fig.ws.close()\n",
       "}\n",
       "\n",
       "mpl.figure.prototype.push_to_output = function(remove_interactive) {\n",
       "    // Turn the data on the canvas into data in the output cell.\n",
       "    var width = this.canvas.width/mpl.ratio\n",
       "    var dataURL = this.canvas.toDataURL();\n",
       "    this.cell_info[1]['text/html'] = '<img src=\"' + dataURL + '\" width=\"' + width + '\">';\n",
       "}\n",
       "\n",
       "mpl.figure.prototype.updated_canvas_event = function() {\n",
       "    // Tell IPython that the notebook contents must change.\n",
       "    IPython.notebook.set_dirty(true);\n",
       "    this.send_message(\"ack\", {});\n",
       "    var fig = this;\n",
       "    // Wait a second, then push the new image to the DOM so\n",
       "    // that it is saved nicely (might be nice to debounce this).\n",
       "    setTimeout(function () { fig.push_to_output() }, 1000);\n",
       "}\n",
       "\n",
       "mpl.figure.prototype._init_toolbar = function() {\n",
       "    var fig = this;\n",
       "\n",
       "    var nav_element = $('<div/>')\n",
       "    nav_element.attr('style', 'width: 100%');\n",
       "    this.root.append(nav_element);\n",
       "\n",
       "    // Define a callback function for later on.\n",
       "    function toolbar_event(event) {\n",
       "        return fig.toolbar_button_onclick(event['data']);\n",
       "    }\n",
       "    function toolbar_mouse_event(event) {\n",
       "        return fig.toolbar_button_onmouseover(event['data']);\n",
       "    }\n",
       "\n",
       "    for(var toolbar_ind in mpl.toolbar_items){\n",
       "        var name = mpl.toolbar_items[toolbar_ind][0];\n",
       "        var tooltip = mpl.toolbar_items[toolbar_ind][1];\n",
       "        var image = mpl.toolbar_items[toolbar_ind][2];\n",
       "        var method_name = mpl.toolbar_items[toolbar_ind][3];\n",
       "\n",
       "        if (!name) { continue; };\n",
       "\n",
       "        var button = $('<button class=\"btn btn-default\" href=\"#\" title=\"' + name + '\"><i class=\"fa ' + image + ' fa-lg\"></i></button>');\n",
       "        button.click(method_name, toolbar_event);\n",
       "        button.mouseover(tooltip, toolbar_mouse_event);\n",
       "        nav_element.append(button);\n",
       "    }\n",
       "\n",
       "    // Add the status bar.\n",
       "    var status_bar = $('<span class=\"mpl-message\" style=\"text-align:right; float: right;\"/>');\n",
       "    nav_element.append(status_bar);\n",
       "    this.message = status_bar[0];\n",
       "\n",
       "    // Add the close button to the window.\n",
       "    var buttongrp = $('<div class=\"btn-group inline pull-right\"></div>');\n",
       "    var button = $('<button class=\"btn btn-mini btn-primary\" href=\"#\" title=\"Stop Interaction\"><i class=\"fa fa-power-off icon-remove icon-large\"></i></button>');\n",
       "    button.click(function (evt) { fig.handle_close(fig, {}); } );\n",
       "    button.mouseover('Stop Interaction', toolbar_mouse_event);\n",
       "    buttongrp.append(button);\n",
       "    var titlebar = this.root.find($('.ui-dialog-titlebar'));\n",
       "    titlebar.prepend(buttongrp);\n",
       "}\n",
       "\n",
       "mpl.figure.prototype._root_extra_style = function(el){\n",
       "    var fig = this\n",
       "    el.on(\"remove\", function(){\n",
       "\tfig.close_ws(fig, {});\n",
       "    });\n",
       "}\n",
       "\n",
       "mpl.figure.prototype._canvas_extra_style = function(el){\n",
       "    // this is important to make the div 'focusable\n",
       "    el.attr('tabindex', 0)\n",
       "    // reach out to IPython and tell the keyboard manager to turn it's self\n",
       "    // off when our div gets focus\n",
       "\n",
       "    // location in version 3\n",
       "    if (IPython.notebook.keyboard_manager) {\n",
       "        IPython.notebook.keyboard_manager.register_events(el);\n",
       "    }\n",
       "    else {\n",
       "        // location in version 2\n",
       "        IPython.keyboard_manager.register_events(el);\n",
       "    }\n",
       "\n",
       "}\n",
       "\n",
       "mpl.figure.prototype._key_event_extra = function(event, name) {\n",
       "    var manager = IPython.notebook.keyboard_manager;\n",
       "    if (!manager)\n",
       "        manager = IPython.keyboard_manager;\n",
       "\n",
       "    // Check for shift+enter\n",
       "    if (event.shiftKey && event.which == 13) {\n",
       "        this.canvas_div.blur();\n",
       "        event.shiftKey = false;\n",
       "        // Send a \"J\" for go to next cell\n",
       "        event.which = 74;\n",
       "        event.keyCode = 74;\n",
       "        manager.command_mode();\n",
       "        manager.handle_keydown(event);\n",
       "    }\n",
       "}\n",
       "\n",
       "mpl.figure.prototype.handle_save = function(fig, msg) {\n",
       "    fig.ondownload(fig, null);\n",
       "}\n",
       "\n",
       "\n",
       "mpl.find_output_cell = function(html_output) {\n",
       "    // Return the cell and output element which can be found *uniquely* in the notebook.\n",
       "    // Note - this is a bit hacky, but it is done because the \"notebook_saving.Notebook\"\n",
       "    // IPython event is triggered only after the cells have been serialised, which for\n",
       "    // our purposes (turning an active figure into a static one), is too late.\n",
       "    var cells = IPython.notebook.get_cells();\n",
       "    var ncells = cells.length;\n",
       "    for (var i=0; i<ncells; i++) {\n",
       "        var cell = cells[i];\n",
       "        if (cell.cell_type === 'code'){\n",
       "            for (var j=0; j<cell.output_area.outputs.length; j++) {\n",
       "                var data = cell.output_area.outputs[j];\n",
       "                if (data.data) {\n",
       "                    // IPython >= 3 moved mimebundle to data attribute of output\n",
       "                    data = data.data;\n",
       "                }\n",
       "                if (data['text/html'] == html_output) {\n",
       "                    return [cell, data, j];\n",
       "                }\n",
       "            }\n",
       "        }\n",
       "    }\n",
       "}\n",
       "\n",
       "// Register the function which deals with the matplotlib target/channel.\n",
       "// The kernel may be null if the page has been refreshed.\n",
       "if (IPython.notebook.kernel != null) {\n",
       "    IPython.notebook.kernel.comm_manager.register_target('matplotlib', mpl.mpl_figure_comm);\n",
       "}\n"
      ],
      "text/plain": [
       "<IPython.core.display.Javascript object>"
      ]
     },
     "metadata": {},
     "output_type": "display_data"
    },
    {
     "data": {
      "text/html": [
       "<img src=\"data:image/png;base64,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\" width=\"720\">"
      ],
      "text/plain": [
       "<IPython.core.display.HTML object>"
      ]
     },
     "metadata": {},
     "output_type": "display_data"
    },
    {
     "data": {
      "application/vnd.jupyter.widget-view+json": {
       "model_id": "45b29f06f4ca44a18777e1f9edcd0bd2",
       "version_major": 2,
       "version_minor": 0
      },
      "text/plain": [
       "HBox(children=(IntProgress(value=0, max=16), HTML(value='')))"
      ]
     },
     "metadata": {},
     "output_type": "display_data"
    },
    {
     "data": {
      "application/vnd.jupyter.widget-view+json": {
       "model_id": "b908a5040d984f8a9c9f7e7006f4f73d",
       "version_major": 2,
       "version_minor": 0
      },
      "text/plain": [
       "HBox(children=(IntProgress(value=0, max=816), HTML(value='')))"
      ]
     },
     "metadata": {},
     "output_type": "display_data"
    },
    {
     "data": {
      "application/vnd.jupyter.widget-view+json": {
       "model_id": "4b55539c85864792a775094c21cf2128",
       "version_major": 2,
       "version_minor": 0
      },
      "text/plain": [
       "HBox(children=(IntProgress(value=0, max=406), HTML(value='')))"
      ]
     },
     "metadata": {},
     "output_type": "display_data"
    },
    {
     "name": "stdout",
     "output_type": "stream",
     "text": [
      "{'loss': 0.03950040773580641, 'mloss': tensor(0.0694), 'val_loss': 0.047720540763369845, 'val_mloss_tot': tensor(0.0829)}\n"
     ]
    },
    {
     "data": {
      "application/vnd.jupyter.widget-view+json": {
       "model_id": "defaa8a61efc423c9985628402cba6dc",
       "version_major": 2,
       "version_minor": 0
      },
      "text/plain": [
       "HBox(children=(IntProgress(value=0, max=816), HTML(value='')))"
      ]
     },
     "metadata": {},
     "output_type": "display_data"
    },
    {
     "data": {
      "application/vnd.jupyter.widget-view+json": {
       "model_id": "c04acddbad8846328bcb5d7abcb908e2",
       "version_major": 2,
       "version_minor": 0
      },
      "text/plain": [
       "HBox(children=(IntProgress(value=0, max=406), HTML(value='')))"
      ]
     },
     "metadata": {},
     "output_type": "display_data"
    },
    {
     "name": "stdout",
     "output_type": "stream",
     "text": [
      "{'loss': 0.036755158692868536, 'mloss': tensor(0.0648), 'val_loss': 0.0444650539573227, 'val_mloss_tot': tensor(0.0772)}\n"
     ]
    },
    {
     "data": {
      "application/vnd.jupyter.widget-view+json": {
       "model_id": "384f0f44980c4862a46f4a4f39e68c2a",
       "version_major": 2,
       "version_minor": 0
      },
      "text/plain": [
       "HBox(children=(IntProgress(value=0, max=816), HTML(value='')))"
      ]
     },
     "metadata": {},
     "output_type": "display_data"
    },
    {
     "data": {
      "application/vnd.jupyter.widget-view+json": {
       "model_id": "d77dc8136700455baec9e2aec00a82f9",
       "version_major": 2,
       "version_minor": 0
      },
      "text/plain": [
       "HBox(children=(IntProgress(value=0, max=406), HTML(value='')))"
      ]
     },
     "metadata": {},
     "output_type": "display_data"
    },
    {
     "name": "stdout",
     "output_type": "stream",
     "text": [
      "{'loss': 0.03419218235042163, 'mloss': tensor(0.0577), 'val_loss': 0.04696940028526146, 'val_mloss_tot': tensor(0.0815)}\n"
     ]
    },
    {
     "data": {
      "application/vnd.jupyter.widget-view+json": {
       "model_id": "2f2c38c2ac7f48e3a87da8fd9ce76988",
       "version_major": 2,
       "version_minor": 0
      },
      "text/plain": [
       "HBox(children=(IntProgress(value=0, max=816), HTML(value='')))"
      ]
     },
     "metadata": {},
     "output_type": "display_data"
    },
    {
     "data": {
      "application/vnd.jupyter.widget-view+json": {
       "model_id": "879bf542cf7041d885c9f5546a9b65ae",
       "version_major": 2,
       "version_minor": 0
      },
      "text/plain": [
       "HBox(children=(IntProgress(value=0, max=406), HTML(value='')))"
      ]
     },
     "metadata": {},
     "output_type": "display_data"
    },
    {
     "name": "stdout",
     "output_type": "stream",
     "text": [
      "{'loss': 0.03361808883782167, 'mloss': tensor(0.0578), 'val_loss': 0.04377561550371789, 'val_mloss_tot': tensor(0.0760)}\n"
     ]
    },
    {
     "data": {
      "application/vnd.jupyter.widget-view+json": {
       "model_id": "6e533d5a860040cab5bbdff86ec3ae95",
       "version_major": 2,
       "version_minor": 0
      },
      "text/plain": [
       "HBox(children=(IntProgress(value=0, max=816), HTML(value='')))"
      ]
     },
     "metadata": {},
     "output_type": "display_data"
    },
    {
     "data": {
      "application/vnd.jupyter.widget-view+json": {
       "model_id": "f57130d113754102934ebda01cad392e",
       "version_major": 2,
       "version_minor": 0
      },
      "text/plain": [
       "HBox(children=(IntProgress(value=0, max=406), HTML(value='')))"
      ]
     },
     "metadata": {},
     "output_type": "display_data"
    },
    {
     "name": "stdout",
     "output_type": "stream",
     "text": [
      "{'loss': 0.034609590880388716, 'mloss': tensor(0.0589), 'val_loss': 0.044171261227244664, 'val_mloss_tot': tensor(0.0767)}\n"
     ]
    },
    {
     "data": {
      "application/vnd.jupyter.widget-view+json": {
       "model_id": "eea01f77454e4e488301399d201b4c15",
       "version_major": 2,
       "version_minor": 0
      },
      "text/plain": [
       "HBox(children=(IntProgress(value=0, max=816), HTML(value='')))"
      ]
     },
     "metadata": {},
     "output_type": "display_data"
    },
    {
     "data": {
      "application/vnd.jupyter.widget-view+json": {
       "model_id": "4961dbbd34764ea783b3b19f30e0f8f6",
       "version_major": 2,
       "version_minor": 0
      },
      "text/plain": [
       "HBox(children=(IntProgress(value=0, max=406), HTML(value='')))"
      ]
     },
     "metadata": {},
     "output_type": "display_data"
    },
    {
     "name": "stdout",
     "output_type": "stream",
     "text": [
      "{'loss': 0.035126038660491875, 'mloss': tensor(0.0626), 'val_loss': 0.04491483148421376, 'val_mloss_tot': tensor(0.0780)}\n"
     ]
    },
    {
     "data": {
      "application/vnd.jupyter.widget-view+json": {
       "model_id": "fbf0520f59eb48169918237df761935b",
       "version_major": 2,
       "version_minor": 0
      },
      "text/plain": [
       "HBox(children=(IntProgress(value=0, max=816), HTML(value='')))"
      ]
     },
     "metadata": {},
     "output_type": "display_data"
    },
    {
     "data": {
      "application/vnd.jupyter.widget-view+json": {
       "model_id": "f02532132f414330bb0fed1621dcb791",
       "version_major": 2,
       "version_minor": 0
      },
      "text/plain": [
       "HBox(children=(IntProgress(value=0, max=406), HTML(value='')))"
      ]
     },
     "metadata": {},
     "output_type": "display_data"
    },
    {
     "name": "stdout",
     "output_type": "stream",
     "text": [
      "{'loss': 0.0315288329791351, 'mloss': tensor(0.0519), 'val_loss': 0.04433411568875787, 'val_mloss_tot': tensor(0.0770)}\n"
     ]
    },
    {
     "data": {
      "application/vnd.jupyter.widget-view+json": {
       "model_id": "e2bd28da90ab4a31bb15901da9c1f9c4",
       "version_major": 2,
       "version_minor": 0
      },
      "text/plain": [
       "HBox(children=(IntProgress(value=0, max=816), HTML(value='')))"
      ]
     },
     "metadata": {},
     "output_type": "display_data"
    },
    {
     "data": {
      "application/vnd.jupyter.widget-view+json": {
       "model_id": "286db2ac7b7a4f4582d09402413241bc",
       "version_major": 2,
       "version_minor": 0
      },
      "text/plain": [
       "HBox(children=(IntProgress(value=0, max=406), HTML(value='')))"
      ]
     },
     "metadata": {},
     "output_type": "display_data"
    },
    {
     "name": "stdout",
     "output_type": "stream",
     "text": [
      "{'loss': 0.03152678205105637, 'mloss': tensor(0.0562), 'val_loss': 0.04306698100311049, 'val_mloss_tot': tensor(0.0748)}\n"
     ]
    },
    {
     "data": {
      "application/vnd.jupyter.widget-view+json": {
       "model_id": "9395b028decf422189b0982b1d200eda",
       "version_major": 2,
       "version_minor": 0
      },
      "text/plain": [
       "HBox(children=(IntProgress(value=0, max=816), HTML(value='')))"
      ]
     },
     "metadata": {},
     "output_type": "display_data"
    },
    {
     "data": {
      "application/vnd.jupyter.widget-view+json": {
       "model_id": "71e68a530dde45e8a9cee11f42d6b15f",
       "version_major": 2,
       "version_minor": 0
      },
      "text/plain": [
       "HBox(children=(IntProgress(value=0, max=406), HTML(value='')))"
      ]
     },
     "metadata": {},
     "output_type": "display_data"
    },
    {
     "name": "stdout",
     "output_type": "stream",
     "text": [
      "{'loss': 0.030361746621584668, 'mloss': tensor(0.0502), 'val_loss': 0.04958959986006135, 'val_mloss_tot': tensor(0.0861)}\n"
     ]
    },
    {
     "data": {
      "application/vnd.jupyter.widget-view+json": {
       "model_id": "dcb166fbe0984aecab149f9738aefc49",
       "version_major": 2,
       "version_minor": 0
      },
      "text/plain": [
       "HBox(children=(IntProgress(value=0, max=816), HTML(value='')))"
      ]
     },
     "metadata": {},
     "output_type": "display_data"
    },
    {
     "data": {
      "application/vnd.jupyter.widget-view+json": {
       "model_id": "9a5eb8535743484d89ec7953080fc60c",
       "version_major": 2,
       "version_minor": 0
      },
      "text/plain": [
       "HBox(children=(IntProgress(value=0, max=406), HTML(value='')))"
      ]
     },
     "metadata": {},
     "output_type": "display_data"
    },
    {
     "name": "stdout",
     "output_type": "stream",
     "text": [
      "{'loss': 0.029869236809107004, 'mloss': tensor(0.0492), 'val_loss': 0.043013612970278545, 'val_mloss_tot': tensor(0.0747)}\n"
     ]
    },
    {
     "data": {
      "application/vnd.jupyter.widget-view+json": {
       "model_id": "23cb2c7a84e748829e4649bbb8cda674",
       "version_major": 2,
       "version_minor": 0
      },
      "text/plain": [
       "HBox(children=(IntProgress(value=0, max=816), HTML(value='')))"
      ]
     },
     "metadata": {},
     "output_type": "display_data"
    },
    {
     "data": {
      "application/vnd.jupyter.widget-view+json": {
       "model_id": "81573e542546478aa6ed8fd5407792e4",
       "version_major": 2,
       "version_minor": 0
      },
      "text/plain": [
       "HBox(children=(IntProgress(value=0, max=406), HTML(value='')))"
      ]
     },
     "metadata": {},
     "output_type": "display_data"
    },
    {
     "name": "stdout",
     "output_type": "stream",
     "text": [
      "{'loss': 0.033209777757520195, 'mloss': tensor(0.0569), 'val_loss': 0.04366485486460822, 'val_mloss_tot': tensor(0.0758)}\n"
     ]
    },
    {
     "data": {
      "application/vnd.jupyter.widget-view+json": {
       "model_id": "dd2c050795884de694c1f914569b2d58",
       "version_major": 2,
       "version_minor": 0
      },
      "text/plain": [
       "HBox(children=(IntProgress(value=0, max=816), HTML(value='')))"
      ]
     },
     "metadata": {},
     "output_type": "display_data"
    },
    {
     "data": {
      "application/vnd.jupyter.widget-view+json": {
       "model_id": "ba26e6a5186543f5bc4a8810f4a21d6a",
       "version_major": 2,
       "version_minor": 0
      },
      "text/plain": [
       "HBox(children=(IntProgress(value=0, max=406), HTML(value='')))"
      ]
     },
     "metadata": {},
     "output_type": "display_data"
    },
    {
     "name": "stdout",
     "output_type": "stream",
     "text": [
      "{'loss': 0.033623629733739974, 'mloss': tensor(0.0639), 'val_loss': 0.042719581969577834, 'val_mloss_tot': tensor(0.0742)}\n"
     ]
    },
    {
     "data": {
      "application/vnd.jupyter.widget-view+json": {
       "model_id": "d8312236accc425db0aa8a655b621120",
       "version_major": 2,
       "version_minor": 0
      },
      "text/plain": [
       "HBox(children=(IntProgress(value=0, max=816), HTML(value='')))"
      ]
     },
     "metadata": {},
     "output_type": "display_data"
    },
    {
     "data": {
      "application/vnd.jupyter.widget-view+json": {
       "model_id": "eed40fad35f54ee8a3f70662b07a8b0f",
       "version_major": 2,
       "version_minor": 0
      },
      "text/plain": [
       "HBox(children=(IntProgress(value=0, max=406), HTML(value='')))"
      ]
     },
     "metadata": {},
     "output_type": "display_data"
    },
    {
     "name": "stdout",
     "output_type": "stream",
     "text": [
      "{'loss': 0.03334074160011046, 'mloss': tensor(0.0603), 'val_loss': 0.050120192284012224, 'val_mloss_tot': tensor(0.0870)}\n"
     ]
    },
    {
     "data": {
      "application/vnd.jupyter.widget-view+json": {
       "model_id": "2de19cbf5c3644329d25814702ef4fdc",
       "version_major": 2,
       "version_minor": 0
      },
      "text/plain": [
       "HBox(children=(IntProgress(value=0, max=816), HTML(value='')))"
      ]
     },
     "metadata": {},
     "output_type": "display_data"
    },
    {
     "data": {
      "application/vnd.jupyter.widget-view+json": {
       "model_id": "eb488a06240647d5b0684974f0aad27c",
       "version_major": 2,
       "version_minor": 0
      },
      "text/plain": [
       "HBox(children=(IntProgress(value=0, max=406), HTML(value='')))"
      ]
     },
     "metadata": {},
     "output_type": "display_data"
    },
    {
     "name": "stdout",
     "output_type": "stream",
     "text": [
      "{'loss': 0.03264786546649227, 'mloss': tensor(0.0608), 'val_loss': 0.04381069853234339, 'val_mloss_tot': tensor(0.0761)}\n",
      "\n"
     ]
    },
    {
     "data": {
      "application/vnd.jupyter.widget-view+json": {
       "model_id": "1aca6c1024cb4333ba9c406d34c89bd2",
       "version_major": 2,
       "version_minor": 0
      },
      "text/plain": [
       "HBox(children=(IntProgress(value=0, max=406), HTML(value='')))"
      ]
     },
     "metadata": {},
     "output_type": "display_data"
    },
    {
     "name": "stdout",
     "output_type": "stream",
     "text": [
      "\n",
      "0.042719581969577834\n"
     ]
    }
   ],
   "source": [
    "%matplotlib nbagg\n",
    "model_name,version, num_split = 'Densenet161_3' , 'classifier_splits',0\n",
    "pickle_file=open(outputs_dir+outputs_format.format(model_name,version,'features_train_tta',num_split),'rb')\n",
    "features=pickle.load(pickle_file)\n",
    "pickle_file.close()\n",
    "features.shape\n",
    "\n",
    "features=features.reshape(features.shape[0]//4,4,-1)\n",
    "features.shape\n",
    "split_train = train_df[train_df.PID.isin(set(split_sid[splits[num_split][0]]))].SeriesI.unique()\n",
    "split_validate =  train_df[train_df.PID.isin(set(split_sid[splits[num_split][1]]))].SeriesI.unique()\n",
    "\n",
    "np.random.seed(SEED+num_split)\n",
    "torch.manual_seed(SEED+num_split)\n",
    "torch.cuda.manual_seed(SEED+num_split)\n",
    "torch.backends.cudnn.deterministic = True\n",
    "batch_size=16\n",
    "num_workers=18\n",
    "num_epochs=16\n",
    "klr=1\n",
    "weights = torch.tensor([1.,1.,1.,1.,1.,2.],device=device)\n",
    "train_dataset=FullHeadDataset(train_df,\n",
    "                              split_train,\n",
    "                              features,\n",
    "                              'SeriesI',\n",
    "                              'ImagePositionZ',\n",
    "                              hemorrhage_types)                \n",
    "validate_dataset=FullHeadDataset(train_df,\n",
    "                                 split_validate,\n",
    "                                 features[:,0,:],\n",
    "                                 'SeriesI',\n",
    "                                 'ImagePositionZ',\n",
    "                                 hemorrhage_types)                \n",
    "\n",
    "model=ResModel(features.shape[-1])\n",
    "version=version+'_fullhead_resmodel'\n",
    "_=model.to(device)\n",
    "\n",
    "loss_func=my_loss\n",
    "fig,ax = plt.subplots(figsize=(10,7))\n",
    "gr=loss_graph(fig,ax,num_epochs,len(train_dataset)//batch_size+1,limits=[0.02,0.06])\n",
    "num_train_optimization_steps = num_epochs*(len(train_dataset)//batch_size+int(len(train_dataset)%batch_size>0))\n",
    "sched=WarmupExpCosineWithWarmupRestartsSchedule( t_total=num_train_optimization_steps, cycles=num_epochs//4,tau=0)\n",
    "optimizer = BertAdam(model.parameters(),lr=klr*1e-3,schedule=sched)\n",
    "history,best_model= model_train(model,\n",
    "                                optimizer,\n",
    "                                train_dataset,\n",
    "                                batch_size,\n",
    "                                num_epochs,\n",
    "                                loss_func,\n",
    "                                weights=weights,\n",
    "                                do_apex=False,\n",
    "                                validate_dataset=validate_dataset,\n",
    "                                param_schedualer=None,\n",
    "                                weights_data=None,\n",
    "                                metric=Metric(torch.tensor([1.,1.,1.,1.,1.,2.])),\n",
    "                                return_model=True,\n",
    "                                best_average=3,\n",
    "                                num_workers=num_workers,\n",
    "                                sampler=None,\n",
    "                                graph=gr)\n",
    "torch.save(best_model.state_dict(), models_dir+models_format.format(model_name,version,num_split))"
   ]
  },
  {
   "cell_type": "code",
   "execution_count": 20,
   "metadata": {
    "scrolled": true
   },
   "outputs": [
    {
     "data": {
      "text/plain": [
       "torch.Size([2697008, 552])"
      ]
     },
     "execution_count": 20,
     "metadata": {},
     "output_type": "execute_result"
    },
    {
     "data": {
      "text/plain": [
       "torch.Size([674252, 4, 552])"
      ]
     },
     "execution_count": 20,
     "metadata": {},
     "output_type": "execute_result"
    },
    {
     "data": {
      "text/plain": [
       "<torch._C.Generator at 0x7f56eb479790>"
      ]
     },
     "execution_count": 20,
     "metadata": {},
     "output_type": "execute_result"
    },
    {
     "data": {
      "application/javascript": [
       "/* Put everything inside the global mpl namespace */\n",
       "window.mpl = {};\n",
       "\n",
       "\n",
       "mpl.get_websocket_type = function() {\n",
       "    if (typeof(WebSocket) !== 'undefined') {\n",
       "        return WebSocket;\n",
       "    } else if (typeof(MozWebSocket) !== 'undefined') {\n",
       "        return MozWebSocket;\n",
       "    } else {\n",
       "        alert('Your browser does not have WebSocket support.' +\n",
       "              'Please try Chrome, Safari or Firefox ≥ 6. ' +\n",
       "              'Firefox 4 and 5 are also supported but you ' +\n",
       "              'have to enable WebSockets in about:config.');\n",
       "    };\n",
       "}\n",
       "\n",
       "mpl.figure = function(figure_id, websocket, ondownload, parent_element) {\n",
       "    this.id = figure_id;\n",
       "\n",
       "    this.ws = websocket;\n",
       "\n",
       "    this.supports_binary = (this.ws.binaryType != undefined);\n",
       "\n",
       "    if (!this.supports_binary) {\n",
       "        var warnings = document.getElementById(\"mpl-warnings\");\n",
       "        if (warnings) {\n",
       "            warnings.style.display = 'block';\n",
       "            warnings.textContent = (\n",
       "                \"This browser does not support binary websocket messages. \" +\n",
       "                    \"Performance may be slow.\");\n",
       "        }\n",
       "    }\n",
       "\n",
       "    this.imageObj = new Image();\n",
       "\n",
       "    this.context = undefined;\n",
       "    this.message = undefined;\n",
       "    this.canvas = undefined;\n",
       "    this.rubberband_canvas = undefined;\n",
       "    this.rubberband_context = undefined;\n",
       "    this.format_dropdown = undefined;\n",
       "\n",
       "    this.image_mode = 'full';\n",
       "\n",
       "    this.root = $('<div/>');\n",
       "    this._root_extra_style(this.root)\n",
       "    this.root.attr('style', 'display: inline-block');\n",
       "\n",
       "    $(parent_element).append(this.root);\n",
       "\n",
       "    this._init_header(this);\n",
       "    this._init_canvas(this);\n",
       "    this._init_toolbar(this);\n",
       "\n",
       "    var fig = this;\n",
       "\n",
       "    this.waiting = false;\n",
       "\n",
       "    this.ws.onopen =  function () {\n",
       "            fig.send_message(\"supports_binary\", {value: fig.supports_binary});\n",
       "            fig.send_message(\"send_image_mode\", {});\n",
       "            if (mpl.ratio != 1) {\n",
       "                fig.send_message(\"set_dpi_ratio\", {'dpi_ratio': mpl.ratio});\n",
       "            }\n",
       "            fig.send_message(\"refresh\", {});\n",
       "        }\n",
       "\n",
       "    this.imageObj.onload = function() {\n",
       "            if (fig.image_mode == 'full') {\n",
       "                // Full images could contain transparency (where diff images\n",
       "                // almost always do), so we need to clear the canvas so that\n",
       "                // there is no ghosting.\n",
       "                fig.context.clearRect(0, 0, fig.canvas.width, fig.canvas.height);\n",
       "            }\n",
       "            fig.context.drawImage(fig.imageObj, 0, 0);\n",
       "        };\n",
       "\n",
       "    this.imageObj.onunload = function() {\n",
       "        fig.ws.close();\n",
       "    }\n",
       "\n",
       "    this.ws.onmessage = this._make_on_message_function(this);\n",
       "\n",
       "    this.ondownload = ondownload;\n",
       "}\n",
       "\n",
       "mpl.figure.prototype._init_header = function() {\n",
       "    var titlebar = $(\n",
       "        '<div class=\"ui-dialog-titlebar ui-widget-header ui-corner-all ' +\n",
       "        'ui-helper-clearfix\"/>');\n",
       "    var titletext = $(\n",
       "        '<div class=\"ui-dialog-title\" style=\"width: 100%; ' +\n",
       "        'text-align: center; padding: 3px;\"/>');\n",
       "    titlebar.append(titletext)\n",
       "    this.root.append(titlebar);\n",
       "    this.header = titletext[0];\n",
       "}\n",
       "\n",
       "\n",
       "\n",
       "mpl.figure.prototype._canvas_extra_style = function(canvas_div) {\n",
       "\n",
       "}\n",
       "\n",
       "\n",
       "mpl.figure.prototype._root_extra_style = function(canvas_div) {\n",
       "\n",
       "}\n",
       "\n",
       "mpl.figure.prototype._init_canvas = function() {\n",
       "    var fig = this;\n",
       "\n",
       "    var canvas_div = $('<div/>');\n",
       "\n",
       "    canvas_div.attr('style', 'position: relative; clear: both; outline: 0');\n",
       "\n",
       "    function canvas_keyboard_event(event) {\n",
       "        return fig.key_event(event, event['data']);\n",
       "    }\n",
       "\n",
       "    canvas_div.keydown('key_press', canvas_keyboard_event);\n",
       "    canvas_div.keyup('key_release', canvas_keyboard_event);\n",
       "    this.canvas_div = canvas_div\n",
       "    this._canvas_extra_style(canvas_div)\n",
       "    this.root.append(canvas_div);\n",
       "\n",
       "    var canvas = $('<canvas/>');\n",
       "    canvas.addClass('mpl-canvas');\n",
       "    canvas.attr('style', \"left: 0; top: 0; z-index: 0; outline: 0\")\n",
       "\n",
       "    this.canvas = canvas[0];\n",
       "    this.context = canvas[0].getContext(\"2d\");\n",
       "\n",
       "    var backingStore = this.context.backingStorePixelRatio ||\n",
       "\tthis.context.webkitBackingStorePixelRatio ||\n",
       "\tthis.context.mozBackingStorePixelRatio ||\n",
       "\tthis.context.msBackingStorePixelRatio ||\n",
       "\tthis.context.oBackingStorePixelRatio ||\n",
       "\tthis.context.backingStorePixelRatio || 1;\n",
       "\n",
       "    mpl.ratio = (window.devicePixelRatio || 1) / backingStore;\n",
       "\n",
       "    var rubberband = $('<canvas/>');\n",
       "    rubberband.attr('style', \"position: absolute; left: 0; top: 0; z-index: 1;\")\n",
       "\n",
       "    var pass_mouse_events = true;\n",
       "\n",
       "    canvas_div.resizable({\n",
       "        start: function(event, ui) {\n",
       "            pass_mouse_events = false;\n",
       "        },\n",
       "        resize: function(event, ui) {\n",
       "            fig.request_resize(ui.size.width, ui.size.height);\n",
       "        },\n",
       "        stop: function(event, ui) {\n",
       "            pass_mouse_events = true;\n",
       "            fig.request_resize(ui.size.width, ui.size.height);\n",
       "        },\n",
       "    });\n",
       "\n",
       "    function mouse_event_fn(event) {\n",
       "        if (pass_mouse_events)\n",
       "            return fig.mouse_event(event, event['data']);\n",
       "    }\n",
       "\n",
       "    rubberband.mousedown('button_press', mouse_event_fn);\n",
       "    rubberband.mouseup('button_release', mouse_event_fn);\n",
       "    // Throttle sequential mouse events to 1 every 20ms.\n",
       "    rubberband.mousemove('motion_notify', mouse_event_fn);\n",
       "\n",
       "    rubberband.mouseenter('figure_enter', mouse_event_fn);\n",
       "    rubberband.mouseleave('figure_leave', mouse_event_fn);\n",
       "\n",
       "    canvas_div.on(\"wheel\", function (event) {\n",
       "        event = event.originalEvent;\n",
       "        event['data'] = 'scroll'\n",
       "        if (event.deltaY < 0) {\n",
       "            event.step = 1;\n",
       "        } else {\n",
       "            event.step = -1;\n",
       "        }\n",
       "        mouse_event_fn(event);\n",
       "    });\n",
       "\n",
       "    canvas_div.append(canvas);\n",
       "    canvas_div.append(rubberband);\n",
       "\n",
       "    this.rubberband = rubberband;\n",
       "    this.rubberband_canvas = rubberband[0];\n",
       "    this.rubberband_context = rubberband[0].getContext(\"2d\");\n",
       "    this.rubberband_context.strokeStyle = \"#000000\";\n",
       "\n",
       "    this._resize_canvas = function(width, height) {\n",
       "        // Keep the size of the canvas, canvas container, and rubber band\n",
       "        // canvas in synch.\n",
       "        canvas_div.css('width', width)\n",
       "        canvas_div.css('height', height)\n",
       "\n",
       "        canvas.attr('width', width * mpl.ratio);\n",
       "        canvas.attr('height', height * mpl.ratio);\n",
       "        canvas.attr('style', 'width: ' + width + 'px; height: ' + height + 'px;');\n",
       "\n",
       "        rubberband.attr('width', width);\n",
       "        rubberband.attr('height', height);\n",
       "    }\n",
       "\n",
       "    // Set the figure to an initial 600x600px, this will subsequently be updated\n",
       "    // upon first draw.\n",
       "    this._resize_canvas(600, 600);\n",
       "\n",
       "    // Disable right mouse context menu.\n",
       "    $(this.rubberband_canvas).bind(\"contextmenu\",function(e){\n",
       "        return false;\n",
       "    });\n",
       "\n",
       "    function set_focus () {\n",
       "        canvas.focus();\n",
       "        canvas_div.focus();\n",
       "    }\n",
       "\n",
       "    window.setTimeout(set_focus, 100);\n",
       "}\n",
       "\n",
       "mpl.figure.prototype._init_toolbar = function() {\n",
       "    var fig = this;\n",
       "\n",
       "    var nav_element = $('<div/>')\n",
       "    nav_element.attr('style', 'width: 100%');\n",
       "    this.root.append(nav_element);\n",
       "\n",
       "    // Define a callback function for later on.\n",
       "    function toolbar_event(event) {\n",
       "        return fig.toolbar_button_onclick(event['data']);\n",
       "    }\n",
       "    function toolbar_mouse_event(event) {\n",
       "        return fig.toolbar_button_onmouseover(event['data']);\n",
       "    }\n",
       "\n",
       "    for(var toolbar_ind in mpl.toolbar_items) {\n",
       "        var name = mpl.toolbar_items[toolbar_ind][0];\n",
       "        var tooltip = mpl.toolbar_items[toolbar_ind][1];\n",
       "        var image = mpl.toolbar_items[toolbar_ind][2];\n",
       "        var method_name = mpl.toolbar_items[toolbar_ind][3];\n",
       "\n",
       "        if (!name) {\n",
       "            // put a spacer in here.\n",
       "            continue;\n",
       "        }\n",
       "        var button = $('<button/>');\n",
       "        button.addClass('ui-button ui-widget ui-state-default ui-corner-all ' +\n",
       "                        'ui-button-icon-only');\n",
       "        button.attr('role', 'button');\n",
       "        button.attr('aria-disabled', 'false');\n",
       "        button.click(method_name, toolbar_event);\n",
       "        button.mouseover(tooltip, toolbar_mouse_event);\n",
       "\n",
       "        var icon_img = $('<span/>');\n",
       "        icon_img.addClass('ui-button-icon-primary ui-icon');\n",
       "        icon_img.addClass(image);\n",
       "        icon_img.addClass('ui-corner-all');\n",
       "\n",
       "        var tooltip_span = $('<span/>');\n",
       "        tooltip_span.addClass('ui-button-text');\n",
       "        tooltip_span.html(tooltip);\n",
       "\n",
       "        button.append(icon_img);\n",
       "        button.append(tooltip_span);\n",
       "\n",
       "        nav_element.append(button);\n",
       "    }\n",
       "\n",
       "    var fmt_picker_span = $('<span/>');\n",
       "\n",
       "    var fmt_picker = $('<select/>');\n",
       "    fmt_picker.addClass('mpl-toolbar-option ui-widget ui-widget-content');\n",
       "    fmt_picker_span.append(fmt_picker);\n",
       "    nav_element.append(fmt_picker_span);\n",
       "    this.format_dropdown = fmt_picker[0];\n",
       "\n",
       "    for (var ind in mpl.extensions) {\n",
       "        var fmt = mpl.extensions[ind];\n",
       "        var option = $(\n",
       "            '<option/>', {selected: fmt === mpl.default_extension}).html(fmt);\n",
       "        fmt_picker.append(option)\n",
       "    }\n",
       "\n",
       "    // Add hover states to the ui-buttons\n",
       "    $( \".ui-button\" ).hover(\n",
       "        function() { $(this).addClass(\"ui-state-hover\");},\n",
       "        function() { $(this).removeClass(\"ui-state-hover\");}\n",
       "    );\n",
       "\n",
       "    var status_bar = $('<span class=\"mpl-message\"/>');\n",
       "    nav_element.append(status_bar);\n",
       "    this.message = status_bar[0];\n",
       "}\n",
       "\n",
       "mpl.figure.prototype.request_resize = function(x_pixels, y_pixels) {\n",
       "    // Request matplotlib to resize the figure. Matplotlib will then trigger a resize in the client,\n",
       "    // which will in turn request a refresh of the image.\n",
       "    this.send_message('resize', {'width': x_pixels, 'height': y_pixels});\n",
       "}\n",
       "\n",
       "mpl.figure.prototype.send_message = function(type, properties) {\n",
       "    properties['type'] = type;\n",
       "    properties['figure_id'] = this.id;\n",
       "    this.ws.send(JSON.stringify(properties));\n",
       "}\n",
       "\n",
       "mpl.figure.prototype.send_draw_message = function() {\n",
       "    if (!this.waiting) {\n",
       "        this.waiting = true;\n",
       "        this.ws.send(JSON.stringify({type: \"draw\", figure_id: this.id}));\n",
       "    }\n",
       "}\n",
       "\n",
       "\n",
       "mpl.figure.prototype.handle_save = function(fig, msg) {\n",
       "    var format_dropdown = fig.format_dropdown;\n",
       "    var format = format_dropdown.options[format_dropdown.selectedIndex].value;\n",
       "    fig.ondownload(fig, format);\n",
       "}\n",
       "\n",
       "\n",
       "mpl.figure.prototype.handle_resize = function(fig, msg) {\n",
       "    var size = msg['size'];\n",
       "    if (size[0] != fig.canvas.width || size[1] != fig.canvas.height) {\n",
       "        fig._resize_canvas(size[0], size[1]);\n",
       "        fig.send_message(\"refresh\", {});\n",
       "    };\n",
       "}\n",
       "\n",
       "mpl.figure.prototype.handle_rubberband = function(fig, msg) {\n",
       "    var x0 = msg['x0'] / mpl.ratio;\n",
       "    var y0 = (fig.canvas.height - msg['y0']) / mpl.ratio;\n",
       "    var x1 = msg['x1'] / mpl.ratio;\n",
       "    var y1 = (fig.canvas.height - msg['y1']) / mpl.ratio;\n",
       "    x0 = Math.floor(x0) + 0.5;\n",
       "    y0 = Math.floor(y0) + 0.5;\n",
       "    x1 = Math.floor(x1) + 0.5;\n",
       "    y1 = Math.floor(y1) + 0.5;\n",
       "    var min_x = Math.min(x0, x1);\n",
       "    var min_y = Math.min(y0, y1);\n",
       "    var width = Math.abs(x1 - x0);\n",
       "    var height = Math.abs(y1 - y0);\n",
       "\n",
       "    fig.rubberband_context.clearRect(\n",
       "        0, 0, fig.canvas.width, fig.canvas.height);\n",
       "\n",
       "    fig.rubberband_context.strokeRect(min_x, min_y, width, height);\n",
       "}\n",
       "\n",
       "mpl.figure.prototype.handle_figure_label = function(fig, msg) {\n",
       "    // Updates the figure title.\n",
       "    fig.header.textContent = msg['label'];\n",
       "}\n",
       "\n",
       "mpl.figure.prototype.handle_cursor = function(fig, msg) {\n",
       "    var cursor = msg['cursor'];\n",
       "    switch(cursor)\n",
       "    {\n",
       "    case 0:\n",
       "        cursor = 'pointer';\n",
       "        break;\n",
       "    case 1:\n",
       "        cursor = 'default';\n",
       "        break;\n",
       "    case 2:\n",
       "        cursor = 'crosshair';\n",
       "        break;\n",
       "    case 3:\n",
       "        cursor = 'move';\n",
       "        break;\n",
       "    }\n",
       "    fig.rubberband_canvas.style.cursor = cursor;\n",
       "}\n",
       "\n",
       "mpl.figure.prototype.handle_message = function(fig, msg) {\n",
       "    fig.message.textContent = msg['message'];\n",
       "}\n",
       "\n",
       "mpl.figure.prototype.handle_draw = function(fig, msg) {\n",
       "    // Request the server to send over a new figure.\n",
       "    fig.send_draw_message();\n",
       "}\n",
       "\n",
       "mpl.figure.prototype.handle_image_mode = function(fig, msg) {\n",
       "    fig.image_mode = msg['mode'];\n",
       "}\n",
       "\n",
       "mpl.figure.prototype.updated_canvas_event = function() {\n",
       "    // Called whenever the canvas gets updated.\n",
       "    this.send_message(\"ack\", {});\n",
       "}\n",
       "\n",
       "// A function to construct a web socket function for onmessage handling.\n",
       "// Called in the figure constructor.\n",
       "mpl.figure.prototype._make_on_message_function = function(fig) {\n",
       "    return function socket_on_message(evt) {\n",
       "        if (evt.data instanceof Blob) {\n",
       "            /* FIXME: We get \"Resource interpreted as Image but\n",
       "             * transferred with MIME type text/plain:\" errors on\n",
       "             * Chrome.  But how to set the MIME type?  It doesn't seem\n",
       "             * to be part of the websocket stream */\n",
       "            evt.data.type = \"image/png\";\n",
       "\n",
       "            /* Free the memory for the previous frames */\n",
       "            if (fig.imageObj.src) {\n",
       "                (window.URL || window.webkitURL).revokeObjectURL(\n",
       "                    fig.imageObj.src);\n",
       "            }\n",
       "\n",
       "            fig.imageObj.src = (window.URL || window.webkitURL).createObjectURL(\n",
       "                evt.data);\n",
       "            fig.updated_canvas_event();\n",
       "            fig.waiting = false;\n",
       "            return;\n",
       "        }\n",
       "        else if (typeof evt.data === 'string' && evt.data.slice(0, 21) == \"data:image/png;base64\") {\n",
       "            fig.imageObj.src = evt.data;\n",
       "            fig.updated_canvas_event();\n",
       "            fig.waiting = false;\n",
       "            return;\n",
       "        }\n",
       "\n",
       "        var msg = JSON.parse(evt.data);\n",
       "        var msg_type = msg['type'];\n",
       "\n",
       "        // Call the  \"handle_{type}\" callback, which takes\n",
       "        // the figure and JSON message as its only arguments.\n",
       "        try {\n",
       "            var callback = fig[\"handle_\" + msg_type];\n",
       "        } catch (e) {\n",
       "            console.log(\"No handler for the '\" + msg_type + \"' message type: \", msg);\n",
       "            return;\n",
       "        }\n",
       "\n",
       "        if (callback) {\n",
       "            try {\n",
       "                // console.log(\"Handling '\" + msg_type + \"' message: \", msg);\n",
       "                callback(fig, msg);\n",
       "            } catch (e) {\n",
       "                console.log(\"Exception inside the 'handler_\" + msg_type + \"' callback:\", e, e.stack, msg);\n",
       "            }\n",
       "        }\n",
       "    };\n",
       "}\n",
       "\n",
       "// from http://stackoverflow.com/questions/1114465/getting-mouse-location-in-canvas\n",
       "mpl.findpos = function(e) {\n",
       "    //this section is from http://www.quirksmode.org/js/events_properties.html\n",
       "    var targ;\n",
       "    if (!e)\n",
       "        e = window.event;\n",
       "    if (e.target)\n",
       "        targ = e.target;\n",
       "    else if (e.srcElement)\n",
       "        targ = e.srcElement;\n",
       "    if (targ.nodeType == 3) // defeat Safari bug\n",
       "        targ = targ.parentNode;\n",
       "\n",
       "    // jQuery normalizes the pageX and pageY\n",
       "    // pageX,Y are the mouse positions relative to the document\n",
       "    // offset() returns the position of the element relative to the document\n",
       "    var x = e.pageX - $(targ).offset().left;\n",
       "    var y = e.pageY - $(targ).offset().top;\n",
       "\n",
       "    return {\"x\": x, \"y\": y};\n",
       "};\n",
       "\n",
       "/*\n",
       " * return a copy of an object with only non-object keys\n",
       " * we need this to avoid circular references\n",
       " * http://stackoverflow.com/a/24161582/3208463\n",
       " */\n",
       "function simpleKeys (original) {\n",
       "  return Object.keys(original).reduce(function (obj, key) {\n",
       "    if (typeof original[key] !== 'object')\n",
       "        obj[key] = original[key]\n",
       "    return obj;\n",
       "  }, {});\n",
       "}\n",
       "\n",
       "mpl.figure.prototype.mouse_event = function(event, name) {\n",
       "    var canvas_pos = mpl.findpos(event)\n",
       "\n",
       "    if (name === 'button_press')\n",
       "    {\n",
       "        this.canvas.focus();\n",
       "        this.canvas_div.focus();\n",
       "    }\n",
       "\n",
       "    var x = canvas_pos.x * mpl.ratio;\n",
       "    var y = canvas_pos.y * mpl.ratio;\n",
       "\n",
       "    this.send_message(name, {x: x, y: y, button: event.button,\n",
       "                             step: event.step,\n",
       "                             guiEvent: simpleKeys(event)});\n",
       "\n",
       "    /* This prevents the web browser from automatically changing to\n",
       "     * the text insertion cursor when the button is pressed.  We want\n",
       "     * to control all of the cursor setting manually through the\n",
       "     * 'cursor' event from matplotlib */\n",
       "    event.preventDefault();\n",
       "    return false;\n",
       "}\n",
       "\n",
       "mpl.figure.prototype._key_event_extra = function(event, name) {\n",
       "    // Handle any extra behaviour associated with a key event\n",
       "}\n",
       "\n",
       "mpl.figure.prototype.key_event = function(event, name) {\n",
       "\n",
       "    // Prevent repeat events\n",
       "    if (name == 'key_press')\n",
       "    {\n",
       "        if (event.which === this._key)\n",
       "            return;\n",
       "        else\n",
       "            this._key = event.which;\n",
       "    }\n",
       "    if (name == 'key_release')\n",
       "        this._key = null;\n",
       "\n",
       "    var value = '';\n",
       "    if (event.ctrlKey && event.which != 17)\n",
       "        value += \"ctrl+\";\n",
       "    if (event.altKey && event.which != 18)\n",
       "        value += \"alt+\";\n",
       "    if (event.shiftKey && event.which != 16)\n",
       "        value += \"shift+\";\n",
       "\n",
       "    value += 'k';\n",
       "    value += event.which.toString();\n",
       "\n",
       "    this._key_event_extra(event, name);\n",
       "\n",
       "    this.send_message(name, {key: value,\n",
       "                             guiEvent: simpleKeys(event)});\n",
       "    return false;\n",
       "}\n",
       "\n",
       "mpl.figure.prototype.toolbar_button_onclick = function(name) {\n",
       "    if (name == 'download') {\n",
       "        this.handle_save(this, null);\n",
       "    } else {\n",
       "        this.send_message(\"toolbar_button\", {name: name});\n",
       "    }\n",
       "};\n",
       "\n",
       "mpl.figure.prototype.toolbar_button_onmouseover = function(tooltip) {\n",
       "    this.message.textContent = tooltip;\n",
       "};\n",
       "mpl.toolbar_items = [[\"Home\", \"Reset original view\", \"fa fa-home icon-home\", \"home\"], [\"Back\", \"Back to  previous view\", \"fa fa-arrow-left icon-arrow-left\", \"back\"], [\"Forward\", \"Forward to next view\", \"fa fa-arrow-right icon-arrow-right\", \"forward\"], [\"\", \"\", \"\", \"\"], [\"Pan\", \"Pan axes with left mouse, zoom with right\", \"fa fa-arrows icon-move\", \"pan\"], [\"Zoom\", \"Zoom to rectangle\", \"fa fa-square-o icon-check-empty\", \"zoom\"], [\"\", \"\", \"\", \"\"], [\"Download\", \"Download plot\", \"fa fa-floppy-o icon-save\", \"download\"]];\n",
       "\n",
       "mpl.extensions = [\"eps\", \"jpeg\", \"pdf\", \"png\", \"ps\", \"raw\", \"svg\", \"tif\"];\n",
       "\n",
       "mpl.default_extension = \"png\";var comm_websocket_adapter = function(comm) {\n",
       "    // Create a \"websocket\"-like object which calls the given IPython comm\n",
       "    // object with the appropriate methods. Currently this is a non binary\n",
       "    // socket, so there is still some room for performance tuning.\n",
       "    var ws = {};\n",
       "\n",
       "    ws.close = function() {\n",
       "        comm.close()\n",
       "    };\n",
       "    ws.send = function(m) {\n",
       "        //console.log('sending', m);\n",
       "        comm.send(m);\n",
       "    };\n",
       "    // Register the callback with on_msg.\n",
       "    comm.on_msg(function(msg) {\n",
       "        //console.log('receiving', msg['content']['data'], msg);\n",
       "        // Pass the mpl event to the overridden (by mpl) onmessage function.\n",
       "        ws.onmessage(msg['content']['data'])\n",
       "    });\n",
       "    return ws;\n",
       "}\n",
       "\n",
       "mpl.mpl_figure_comm = function(comm, msg) {\n",
       "    // This is the function which gets called when the mpl process\n",
       "    // starts-up an IPython Comm through the \"matplotlib\" channel.\n",
       "\n",
       "    var id = msg.content.data.id;\n",
       "    // Get hold of the div created by the display call when the Comm\n",
       "    // socket was opened in Python.\n",
       "    var element = $(\"#\" + id);\n",
       "    var ws_proxy = comm_websocket_adapter(comm)\n",
       "\n",
       "    function ondownload(figure, format) {\n",
       "        window.open(figure.imageObj.src);\n",
       "    }\n",
       "\n",
       "    var fig = new mpl.figure(id, ws_proxy,\n",
       "                           ondownload,\n",
       "                           element.get(0));\n",
       "\n",
       "    // Call onopen now - mpl needs it, as it is assuming we've passed it a real\n",
       "    // web socket which is closed, not our websocket->open comm proxy.\n",
       "    ws_proxy.onopen();\n",
       "\n",
       "    fig.parent_element = element.get(0);\n",
       "    fig.cell_info = mpl.find_output_cell(\"<div id='\" + id + \"'></div>\");\n",
       "    if (!fig.cell_info) {\n",
       "        console.error(\"Failed to find cell for figure\", id, fig);\n",
       "        return;\n",
       "    }\n",
       "\n",
       "    var output_index = fig.cell_info[2]\n",
       "    var cell = fig.cell_info[0];\n",
       "\n",
       "};\n",
       "\n",
       "mpl.figure.prototype.handle_close = function(fig, msg) {\n",
       "    var width = fig.canvas.width/mpl.ratio\n",
       "    fig.root.unbind('remove')\n",
       "\n",
       "    // Update the output cell to use the data from the current canvas.\n",
       "    fig.push_to_output();\n",
       "    var dataURL = fig.canvas.toDataURL();\n",
       "    // Re-enable the keyboard manager in IPython - without this line, in FF,\n",
       "    // the notebook keyboard shortcuts fail.\n",
       "    IPython.keyboard_manager.enable()\n",
       "    $(fig.parent_element).html('<img src=\"' + dataURL + '\" width=\"' + width + '\">');\n",
       "    fig.close_ws(fig, msg);\n",
       "}\n",
       "\n",
       "mpl.figure.prototype.close_ws = function(fig, msg){\n",
       "    fig.send_message('closing', msg);\n",
       "    // fig.ws.close()\n",
       "}\n",
       "\n",
       "mpl.figure.prototype.push_to_output = function(remove_interactive) {\n",
       "    // Turn the data on the canvas into data in the output cell.\n",
       "    var width = this.canvas.width/mpl.ratio\n",
       "    var dataURL = this.canvas.toDataURL();\n",
       "    this.cell_info[1]['text/html'] = '<img src=\"' + dataURL + '\" width=\"' + width + '\">';\n",
       "}\n",
       "\n",
       "mpl.figure.prototype.updated_canvas_event = function() {\n",
       "    // Tell IPython that the notebook contents must change.\n",
       "    IPython.notebook.set_dirty(true);\n",
       "    this.send_message(\"ack\", {});\n",
       "    var fig = this;\n",
       "    // Wait a second, then push the new image to the DOM so\n",
       "    // that it is saved nicely (might be nice to debounce this).\n",
       "    setTimeout(function () { fig.push_to_output() }, 1000);\n",
       "}\n",
       "\n",
       "mpl.figure.prototype._init_toolbar = function() {\n",
       "    var fig = this;\n",
       "\n",
       "    var nav_element = $('<div/>')\n",
       "    nav_element.attr('style', 'width: 100%');\n",
       "    this.root.append(nav_element);\n",
       "\n",
       "    // Define a callback function for later on.\n",
       "    function toolbar_event(event) {\n",
       "        return fig.toolbar_button_onclick(event['data']);\n",
       "    }\n",
       "    function toolbar_mouse_event(event) {\n",
       "        return fig.toolbar_button_onmouseover(event['data']);\n",
       "    }\n",
       "\n",
       "    for(var toolbar_ind in mpl.toolbar_items){\n",
       "        var name = mpl.toolbar_items[toolbar_ind][0];\n",
       "        var tooltip = mpl.toolbar_items[toolbar_ind][1];\n",
       "        var image = mpl.toolbar_items[toolbar_ind][2];\n",
       "        var method_name = mpl.toolbar_items[toolbar_ind][3];\n",
       "\n",
       "        if (!name) { continue; };\n",
       "\n",
       "        var button = $('<button class=\"btn btn-default\" href=\"#\" title=\"' + name + '\"><i class=\"fa ' + image + ' fa-lg\"></i></button>');\n",
       "        button.click(method_name, toolbar_event);\n",
       "        button.mouseover(tooltip, toolbar_mouse_event);\n",
       "        nav_element.append(button);\n",
       "    }\n",
       "\n",
       "    // Add the status bar.\n",
       "    var status_bar = $('<span class=\"mpl-message\" style=\"text-align:right; float: right;\"/>');\n",
       "    nav_element.append(status_bar);\n",
       "    this.message = status_bar[0];\n",
       "\n",
       "    // Add the close button to the window.\n",
       "    var buttongrp = $('<div class=\"btn-group inline pull-right\"></div>');\n",
       "    var button = $('<button class=\"btn btn-mini btn-primary\" href=\"#\" title=\"Stop Interaction\"><i class=\"fa fa-power-off icon-remove icon-large\"></i></button>');\n",
       "    button.click(function (evt) { fig.handle_close(fig, {}); } );\n",
       "    button.mouseover('Stop Interaction', toolbar_mouse_event);\n",
       "    buttongrp.append(button);\n",
       "    var titlebar = this.root.find($('.ui-dialog-titlebar'));\n",
       "    titlebar.prepend(buttongrp);\n",
       "}\n",
       "\n",
       "mpl.figure.prototype._root_extra_style = function(el){\n",
       "    var fig = this\n",
       "    el.on(\"remove\", function(){\n",
       "\tfig.close_ws(fig, {});\n",
       "    });\n",
       "}\n",
       "\n",
       "mpl.figure.prototype._canvas_extra_style = function(el){\n",
       "    // this is important to make the div 'focusable\n",
       "    el.attr('tabindex', 0)\n",
       "    // reach out to IPython and tell the keyboard manager to turn it's self\n",
       "    // off when our div gets focus\n",
       "\n",
       "    // location in version 3\n",
       "    if (IPython.notebook.keyboard_manager) {\n",
       "        IPython.notebook.keyboard_manager.register_events(el);\n",
       "    }\n",
       "    else {\n",
       "        // location in version 2\n",
       "        IPython.keyboard_manager.register_events(el);\n",
       "    }\n",
       "\n",
       "}\n",
       "\n",
       "mpl.figure.prototype._key_event_extra = function(event, name) {\n",
       "    var manager = IPython.notebook.keyboard_manager;\n",
       "    if (!manager)\n",
       "        manager = IPython.keyboard_manager;\n",
       "\n",
       "    // Check for shift+enter\n",
       "    if (event.shiftKey && event.which == 13) {\n",
       "        this.canvas_div.blur();\n",
       "        event.shiftKey = false;\n",
       "        // Send a \"J\" for go to next cell\n",
       "        event.which = 74;\n",
       "        event.keyCode = 74;\n",
       "        manager.command_mode();\n",
       "        manager.handle_keydown(event);\n",
       "    }\n",
       "}\n",
       "\n",
       "mpl.figure.prototype.handle_save = function(fig, msg) {\n",
       "    fig.ondownload(fig, null);\n",
       "}\n",
       "\n",
       "\n",
       "mpl.find_output_cell = function(html_output) {\n",
       "    // Return the cell and output element which can be found *uniquely* in the notebook.\n",
       "    // Note - this is a bit hacky, but it is done because the \"notebook_saving.Notebook\"\n",
       "    // IPython event is triggered only after the cells have been serialised, which for\n",
       "    // our purposes (turning an active figure into a static one), is too late.\n",
       "    var cells = IPython.notebook.get_cells();\n",
       "    var ncells = cells.length;\n",
       "    for (var i=0; i<ncells; i++) {\n",
       "        var cell = cells[i];\n",
       "        if (cell.cell_type === 'code'){\n",
       "            for (var j=0; j<cell.output_area.outputs.length; j++) {\n",
       "                var data = cell.output_area.outputs[j];\n",
       "                if (data.data) {\n",
       "                    // IPython >= 3 moved mimebundle to data attribute of output\n",
       "                    data = data.data;\n",
       "                }\n",
       "                if (data['text/html'] == html_output) {\n",
       "                    return [cell, data, j];\n",
       "                }\n",
       "            }\n",
       "        }\n",
       "    }\n",
       "}\n",
       "\n",
       "// Register the function which deals with the matplotlib target/channel.\n",
       "// The kernel may be null if the page has been refreshed.\n",
       "if (IPython.notebook.kernel != null) {\n",
       "    IPython.notebook.kernel.comm_manager.register_target('matplotlib', mpl.mpl_figure_comm);\n",
       "}\n"
      ],
      "text/plain": [
       "<IPython.core.display.Javascript object>"
      ]
     },
     "metadata": {},
     "output_type": "display_data"
    },
    {
     "data": {
      "text/html": [
       "<img src=\"data:image/png;base64,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\" width=\"720\">"
      ],
      "text/plain": [
       "<IPython.core.display.HTML object>"
      ]
     },
     "metadata": {},
     "output_type": "display_data"
    },
    {
     "data": {
      "application/vnd.jupyter.widget-view+json": {
       "model_id": "",
       "version_major": 2,
       "version_minor": 0
      },
      "text/plain": [
       "HBox(children=(IntProgress(value=0, max=16), HTML(value='')))"
      ]
     },
     "metadata": {},
     "output_type": "display_data"
    },
    {
     "data": {
      "application/vnd.jupyter.widget-view+json": {
       "model_id": "",
       "version_major": 2,
       "version_minor": 0
      },
      "text/plain": [
       "HBox(children=(IntProgress(value=0, max=812), HTML(value='')))"
      ]
     },
     "metadata": {},
     "output_type": "display_data"
    },
    {
     "data": {
      "application/vnd.jupyter.widget-view+json": {
       "model_id": "",
       "version_major": 2,
       "version_minor": 0
      },
      "text/plain": [
       "HBox(children=(IntProgress(value=0, max=410), HTML(value='')))"
      ]
     },
     "metadata": {},
     "output_type": "display_data"
    },
    {
     "name": "stdout",
     "output_type": "stream",
     "text": [
      "{'loss': 0.038714805346466735, 'mloss': tensor(0.0709), 'val_loss': 0.045096054492609165, 'val_mloss_tot': tensor(0.0787)}\n"
     ]
    },
    {
     "data": {
      "application/vnd.jupyter.widget-view+json": {
       "model_id": "",
       "version_major": 2,
       "version_minor": 0
      },
      "text/plain": [
       "HBox(children=(IntProgress(value=0, max=812), HTML(value='')))"
      ]
     },
     "metadata": {},
     "output_type": "display_data"
    },
    {
     "data": {
      "application/vnd.jupyter.widget-view+json": {
       "model_id": "",
       "version_major": 2,
       "version_minor": 0
      },
      "text/plain": [
       "HBox(children=(IntProgress(value=0, max=410), HTML(value='')))"
      ]
     },
     "metadata": {},
     "output_type": "display_data"
    },
    {
     "name": "stdout",
     "output_type": "stream",
     "text": [
      "{'loss': 0.03363656240554088, 'mloss': tensor(0.0546), 'val_loss': 0.043573513878055095, 'val_mloss_tot': tensor(0.0761)}\n"
     ]
    },
    {
     "data": {
      "application/vnd.jupyter.widget-view+json": {
       "model_id": "",
       "version_major": 2,
       "version_minor": 0
      },
      "text/plain": [
       "HBox(children=(IntProgress(value=0, max=812), HTML(value='')))"
      ]
     },
     "metadata": {},
     "output_type": "display_data"
    },
    {
     "data": {
      "application/vnd.jupyter.widget-view+json": {
       "model_id": "",
       "version_major": 2,
       "version_minor": 0
      },
      "text/plain": [
       "HBox(children=(IntProgress(value=0, max=410), HTML(value='')))"
      ]
     },
     "metadata": {},
     "output_type": "display_data"
    },
    {
     "name": "stdout",
     "output_type": "stream",
     "text": [
      "{'loss': 0.03312544503789337, 'mloss': tensor(0.0594), 'val_loss': 0.04322016567514255, 'val_mloss_tot': tensor(0.0754)}\n"
     ]
    },
    {
     "data": {
      "application/vnd.jupyter.widget-view+json": {
       "model_id": "",
       "version_major": 2,
       "version_minor": 0
      },
      "text/plain": [
       "HBox(children=(IntProgress(value=0, max=812), HTML(value='')))"
      ]
     },
     "metadata": {},
     "output_type": "display_data"
    },
    {
     "data": {
      "application/vnd.jupyter.widget-view+json": {
       "model_id": "",
       "version_major": 2,
       "version_minor": 0
      },
      "text/plain": [
       "HBox(children=(IntProgress(value=0, max=410), HTML(value='')))"
      ]
     },
     "metadata": {},
     "output_type": "display_data"
    },
    {
     "name": "stdout",
     "output_type": "stream",
     "text": [
      "{'loss': 0.03353480621519787, 'mloss': tensor(0.0571), 'val_loss': 0.04230061982440331, 'val_mloss_tot': tensor(0.0738)}\n"
     ]
    },
    {
     "data": {
      "application/vnd.jupyter.widget-view+json": {
       "model_id": "",
       "version_major": 2,
       "version_minor": 0
      },
      "text/plain": [
       "HBox(children=(IntProgress(value=0, max=812), HTML(value='')))"
      ]
     },
     "metadata": {},
     "output_type": "display_data"
    },
    {
     "data": {
      "application/vnd.jupyter.widget-view+json": {
       "model_id": "",
       "version_major": 2,
       "version_minor": 0
      },
      "text/plain": [
       "HBox(children=(IntProgress(value=0, max=410), HTML(value='')))"
      ]
     },
     "metadata": {},
     "output_type": "display_data"
    },
    {
     "name": "stdout",
     "output_type": "stream",
     "text": [
      "{'loss': 0.03543000511928441, 'mloss': tensor(0.0581), 'val_loss': 0.04334412531631931, 'val_mloss_tot': tensor(0.0757)}\n"
     ]
    },
    {
     "data": {
      "application/vnd.jupyter.widget-view+json": {
       "model_id": "",
       "version_major": 2,
       "version_minor": 0
      },
      "text/plain": [
       "HBox(children=(IntProgress(value=0, max=812), HTML(value='')))"
      ]
     },
     "metadata": {},
     "output_type": "display_data"
    },
    {
     "data": {
      "application/vnd.jupyter.widget-view+json": {
       "model_id": "",
       "version_major": 2,
       "version_minor": 0
      },
      "text/plain": [
       "HBox(children=(IntProgress(value=0, max=410), HTML(value='')))"
      ]
     },
     "metadata": {},
     "output_type": "display_data"
    },
    {
     "name": "stdout",
     "output_type": "stream",
     "text": [
      "{'loss': 0.03324061060581472, 'mloss': tensor(0.0559), 'val_loss': 0.04237787972386109, 'val_mloss_tot': tensor(0.0740)}\n"
     ]
    },
    {
     "data": {
      "application/vnd.jupyter.widget-view+json": {
       "model_id": "",
       "version_major": 2,
       "version_minor": 0
      },
      "text/plain": [
       "HBox(children=(IntProgress(value=0, max=812), HTML(value='')))"
      ]
     },
     "metadata": {},
     "output_type": "display_data"
    },
    {
     "data": {
      "application/vnd.jupyter.widget-view+json": {
       "model_id": "",
       "version_major": 2,
       "version_minor": 0
      },
      "text/plain": [
       "HBox(children=(IntProgress(value=0, max=410), HTML(value='')))"
      ]
     },
     "metadata": {},
     "output_type": "display_data"
    },
    {
     "name": "stdout",
     "output_type": "stream",
     "text": [
      "{'loss': 0.03296664527017772, 'mloss': tensor(0.0609), 'val_loss': 0.04205274767719391, 'val_mloss_tot': tensor(0.0734)}\n"
     ]
    },
    {
     "data": {
      "application/vnd.jupyter.widget-view+json": {
       "model_id": "",
       "version_major": 2,
       "version_minor": 0
      },
      "text/plain": [
       "HBox(children=(IntProgress(value=0, max=812), HTML(value='')))"
      ]
     },
     "metadata": {},
     "output_type": "display_data"
    },
    {
     "data": {
      "application/vnd.jupyter.widget-view+json": {
       "model_id": "",
       "version_major": 2,
       "version_minor": 0
      },
      "text/plain": [
       "HBox(children=(IntProgress(value=0, max=410), HTML(value='')))"
      ]
     },
     "metadata": {},
     "output_type": "display_data"
    },
    {
     "name": "stdout",
     "output_type": "stream",
     "text": [
      "{'loss': 0.031957432061373935, 'mloss': tensor(0.0550), 'val_loss': 0.04221124858822583, 'val_mloss_tot': tensor(0.0737)}\n"
     ]
    },
    {
     "data": {
      "application/vnd.jupyter.widget-view+json": {
       "model_id": "",
       "version_major": 2,
       "version_minor": 0
      },
      "text/plain": [
       "HBox(children=(IntProgress(value=0, max=812), HTML(value='')))"
      ]
     },
     "metadata": {},
     "output_type": "display_data"
    },
    {
     "data": {
      "application/vnd.jupyter.widget-view+json": {
       "model_id": "",
       "version_major": 2,
       "version_minor": 0
      },
      "text/plain": [
       "HBox(children=(IntProgress(value=0, max=410), HTML(value='')))"
      ]
     },
     "metadata": {},
     "output_type": "display_data"
    },
    {
     "name": "stdout",
     "output_type": "stream",
     "text": [
      "{'loss': 0.03409656263737818, 'mloss': tensor(0.0569), 'val_loss': 0.04333871334177874, 'val_mloss_tot': tensor(0.0757)}\n"
     ]
    },
    {
     "data": {
      "application/vnd.jupyter.widget-view+json": {
       "model_id": "",
       "version_major": 2,
       "version_minor": 0
      },
      "text/plain": [
       "HBox(children=(IntProgress(value=0, max=812), HTML(value='')))"
      ]
     },
     "metadata": {},
     "output_type": "display_data"
    },
    {
     "data": {
      "application/vnd.jupyter.widget-view+json": {
       "model_id": "",
       "version_major": 2,
       "version_minor": 0
      },
      "text/plain": [
       "HBox(children=(IntProgress(value=0, max=410), HTML(value='')))"
      ]
     },
     "metadata": {},
     "output_type": "display_data"
    },
    {
     "name": "stdout",
     "output_type": "stream",
     "text": [
      "{'loss': 0.03418446031372028, 'mloss': tensor(0.0596), 'val_loss': 0.0423685237186075, 'val_mloss_tot': tensor(0.0739)}\n"
     ]
    },
    {
     "data": {
      "application/vnd.jupyter.widget-view+json": {
       "model_id": "",
       "version_major": 2,
       "version_minor": 0
      },
      "text/plain": [
       "HBox(children=(IntProgress(value=0, max=812), HTML(value='')))"
      ]
     },
     "metadata": {},
     "output_type": "display_data"
    },
    {
     "data": {
      "application/vnd.jupyter.widget-view+json": {
       "model_id": "",
       "version_major": 2,
       "version_minor": 0
      },
      "text/plain": [
       "HBox(children=(IntProgress(value=0, max=410), HTML(value='')))"
      ]
     },
     "metadata": {},
     "output_type": "display_data"
    },
    {
     "name": "stdout",
     "output_type": "stream",
     "text": [
      "{'loss': 0.03324898171819445, 'mloss': tensor(0.0592), 'val_loss': 0.04222645787862925, 'val_mloss_tot': tensor(0.0737)}\n"
     ]
    },
    {
     "data": {
      "application/vnd.jupyter.widget-view+json": {
       "model_id": "",
       "version_major": 2,
       "version_minor": 0
      },
      "text/plain": [
       "HBox(children=(IntProgress(value=0, max=812), HTML(value='')))"
      ]
     },
     "metadata": {},
     "output_type": "display_data"
    },
    {
     "data": {
      "application/vnd.jupyter.widget-view+json": {
       "model_id": "",
       "version_major": 2,
       "version_minor": 0
      },
      "text/plain": [
       "HBox(children=(IntProgress(value=0, max=410), HTML(value='')))"
      ]
     },
     "metadata": {},
     "output_type": "display_data"
    },
    {
     "name": "stdout",
     "output_type": "stream",
     "text": [
      "{'loss': 0.030795853139567418, 'mloss': tensor(0.0528), 'val_loss': 0.04218511927259586, 'val_mloss_tot': tensor(0.0736)}\n"
     ]
    },
    {
     "data": {
      "application/vnd.jupyter.widget-view+json": {
       "model_id": "",
       "version_major": 2,
       "version_minor": 0
      },
      "text/plain": [
       "HBox(children=(IntProgress(value=0, max=812), HTML(value='')))"
      ]
     },
     "metadata": {},
     "output_type": "display_data"
    },
    {
     "data": {
      "application/vnd.jupyter.widget-view+json": {
       "model_id": "",
       "version_major": 2,
       "version_minor": 0
      },
      "text/plain": [
       "HBox(children=(IntProgress(value=0, max=410), HTML(value='')))"
      ]
     },
     "metadata": {},
     "output_type": "display_data"
    },
    {
     "name": "stdout",
     "output_type": "stream",
     "text": [
      "{'loss': 0.03384207928767631, 'mloss': tensor(0.0619), 'val_loss': 0.04254329730529429, 'val_mloss_tot': tensor(0.0743)}\n"
     ]
    },
    {
     "data": {
      "application/vnd.jupyter.widget-view+json": {
       "model_id": "",
       "version_major": 2,
       "version_minor": 0
      },
      "text/plain": [
       "HBox(children=(IntProgress(value=0, max=812), HTML(value='')))"
      ]
     },
     "metadata": {},
     "output_type": "display_data"
    },
    {
     "data": {
      "application/vnd.jupyter.widget-view+json": {
       "model_id": "",
       "version_major": 2,
       "version_minor": 0
      },
      "text/plain": [
       "HBox(children=(IntProgress(value=0, max=410), HTML(value='')))"
      ]
     },
     "metadata": {},
     "output_type": "display_data"
    },
    {
     "name": "stdout",
     "output_type": "stream",
     "text": [
      "{'loss': 0.031895458146896316, 'mloss': tensor(0.0550), 'val_loss': 0.04314424389428118, 'val_mloss_tot': tensor(0.0753)}\n"
     ]
    },
    {
     "data": {
      "application/vnd.jupyter.widget-view+json": {
       "model_id": "",
       "version_major": 2,
       "version_minor": 0
      },
      "text/plain": [
       "HBox(children=(IntProgress(value=0, max=812), HTML(value='')))"
      ]
     },
     "metadata": {},
     "output_type": "display_data"
    },
    {
     "data": {
      "application/vnd.jupyter.widget-view+json": {
       "model_id": "",
       "version_major": 2,
       "version_minor": 0
      },
      "text/plain": [
       "HBox(children=(IntProgress(value=0, max=410), HTML(value='')))"
      ]
     },
     "metadata": {},
     "output_type": "display_data"
    },
    {
     "name": "stdout",
     "output_type": "stream",
     "text": [
      "{'loss': 0.03242389315325314, 'mloss': tensor(0.0555), 'val_loss': 0.04222744109177189, 'val_mloss_tot': tensor(0.0737)}\n"
     ]
    },
    {
     "data": {
      "application/vnd.jupyter.widget-view+json": {
       "model_id": "",
       "version_major": 2,
       "version_minor": 0
      },
      "text/plain": [
       "HBox(children=(IntProgress(value=0, max=812), HTML(value='')))"
      ]
     },
     "metadata": {},
     "output_type": "display_data"
    },
    {
     "data": {
      "application/vnd.jupyter.widget-view+json": {
       "model_id": "",
       "version_major": 2,
       "version_minor": 0
      },
      "text/plain": [
       "HBox(children=(IntProgress(value=0, max=410), HTML(value='')))"
      ]
     },
     "metadata": {},
     "output_type": "display_data"
    },
    {
     "name": "stdout",
     "output_type": "stream",
     "text": [
      "{'loss': 0.03092485247409137, 'mloss': tensor(0.0531), 'val_loss': 0.0422731090615299, 'val_mloss_tot': tensor(0.0738)}\n",
      "\n"
     ]
    },
    {
     "data": {
      "application/vnd.jupyter.widget-view+json": {
       "model_id": "",
       "version_major": 2,
       "version_minor": 0
      },
      "text/plain": [
       "HBox(children=(IntProgress(value=0, max=410), HTML(value='')))"
      ]
     },
     "metadata": {},
     "output_type": "display_data"
    },
    {
     "name": "stdout",
     "output_type": "stream",
     "text": [
      "\n",
      "0.04205274767719391\n"
     ]
    }
   ],
   "source": [
    "%matplotlib nbagg\n",
    "model_name,version, num_split = 'Densenet161_3' , 'classifier_splits',1\n",
    "pickle_file=open(outputs_dir+outputs_format.format(model_name,version,'features_train_tta',num_split),'rb')\n",
    "features=pickle.load(pickle_file)\n",
    "pickle_file.close()\n",
    "features.shape\n",
    "\n",
    "features=features.reshape(features.shape[0]//4,4,-1)\n",
    "features.shape\n",
    "split_train = train_df[train_df.PID.isin(set(split_sid[splits[num_split][0]]))].SeriesI.unique()\n",
    "split_validate =  train_df[train_df.PID.isin(set(split_sid[splits[num_split][1]]))].SeriesI.unique()\n",
    "\n",
    "np.random.seed(SEED+num_split)\n",
    "torch.manual_seed(SEED+num_split)\n",
    "torch.cuda.manual_seed(SEED+num_split)\n",
    "torch.backends.cudnn.deterministic = True\n",
    "batch_size=16\n",
    "num_workers=18\n",
    "num_epochs=16\n",
    "klr=1\n",
    "weights = torch.tensor([1.,1.,1.,1.,1.,2.],device=device)\n",
    "train_dataset=FullHeadDataset(train_df,\n",
    "                              split_train,\n",
    "                              features,\n",
    "                              'SeriesI',\n",
    "                              'ImagePositionZ',\n",
    "                              hemorrhage_types)                \n",
    "validate_dataset=FullHeadDataset(train_df,\n",
    "                                 split_validate,\n",
    "                                 features[:,0,:],\n",
    "                                 'SeriesI',\n",
    "                                 'ImagePositionZ',\n",
    "                                 hemorrhage_types)                \n",
    "\n",
    "model=ResModel(features.shape[-1])\n",
    "version=version+'_fullhead_resmodel'\n",
    "_=model.to(device)\n",
    "\n",
    "loss_func=my_loss\n",
    "fig,ax = plt.subplots(figsize=(10,7))\n",
    "gr=loss_graph(fig,ax,num_epochs,len(train_dataset)//batch_size+1,limits=[0.02,0.06])\n",
    "num_train_optimization_steps = num_epochs*(len(train_dataset)//batch_size+int(len(train_dataset)%batch_size>0))\n",
    "sched=WarmupExpCosineWithWarmupRestartsSchedule( t_total=num_train_optimization_steps, cycles=num_epochs//4,tau=0)\n",
    "optimizer = BertAdam(model.parameters(),lr=klr*1e-3,schedule=sched)\n",
    "history,best_model= model_train(model,\n",
    "                                optimizer,\n",
    "                                train_dataset,\n",
    "                                batch_size,\n",
    "                                num_epochs,\n",
    "                                loss_func,\n",
    "                                weights=weights,\n",
    "                                do_apex=False,\n",
    "                                validate_dataset=validate_dataset,\n",
    "                                param_schedualer=None,\n",
    "                                weights_data=None,\n",
    "                                metric=Metric(torch.tensor([1.,1.,1.,1.,1.,2.])),\n",
    "                                return_model=True,\n",
    "                                best_average=3,\n",
    "                                num_workers=num_workers,\n",
    "                                sampler=None,\n",
    "                                graph=gr)\n",
    "torch.save(best_model.state_dict(), models_dir+models_format.format(model_name,version,num_split))"
   ]
  },
  {
   "cell_type": "code",
   "execution_count": 22,
   "metadata": {
    "scrolled": false
   },
   "outputs": [
    {
     "data": {
      "text/plain": [
       "torch.Size([2697008, 208])"
      ]
     },
     "execution_count": 22,
     "metadata": {},
     "output_type": "execute_result"
    },
    {
     "data": {
      "text/plain": [
       "torch.Size([674252, 4, 208])"
      ]
     },
     "execution_count": 22,
     "metadata": {},
     "output_type": "execute_result"
    },
    {
     "data": {
      "text/plain": [
       "<torch._C.Generator at 0x7f56eb479790>"
      ]
     },
     "execution_count": 22,
     "metadata": {},
     "output_type": "execute_result"
    },
    {
     "data": {
      "application/javascript": [
       "/* Put everything inside the global mpl namespace */\n",
       "window.mpl = {};\n",
       "\n",
       "\n",
       "mpl.get_websocket_type = function() {\n",
       "    if (typeof(WebSocket) !== 'undefined') {\n",
       "        return WebSocket;\n",
       "    } else if (typeof(MozWebSocket) !== 'undefined') {\n",
       "        return MozWebSocket;\n",
       "    } else {\n",
       "        alert('Your browser does not have WebSocket support.' +\n",
       "              'Please try Chrome, Safari or Firefox ≥ 6. ' +\n",
       "              'Firefox 4 and 5 are also supported but you ' +\n",
       "              'have to enable WebSockets in about:config.');\n",
       "    };\n",
       "}\n",
       "\n",
       "mpl.figure = function(figure_id, websocket, ondownload, parent_element) {\n",
       "    this.id = figure_id;\n",
       "\n",
       "    this.ws = websocket;\n",
       "\n",
       "    this.supports_binary = (this.ws.binaryType != undefined);\n",
       "\n",
       "    if (!this.supports_binary) {\n",
       "        var warnings = document.getElementById(\"mpl-warnings\");\n",
       "        if (warnings) {\n",
       "            warnings.style.display = 'block';\n",
       "            warnings.textContent = (\n",
       "                \"This browser does not support binary websocket messages. \" +\n",
       "                    \"Performance may be slow.\");\n",
       "        }\n",
       "    }\n",
       "\n",
       "    this.imageObj = new Image();\n",
       "\n",
       "    this.context = undefined;\n",
       "    this.message = undefined;\n",
       "    this.canvas = undefined;\n",
       "    this.rubberband_canvas = undefined;\n",
       "    this.rubberband_context = undefined;\n",
       "    this.format_dropdown = undefined;\n",
       "\n",
       "    this.image_mode = 'full';\n",
       "\n",
       "    this.root = $('<div/>');\n",
       "    this._root_extra_style(this.root)\n",
       "    this.root.attr('style', 'display: inline-block');\n",
       "\n",
       "    $(parent_element).append(this.root);\n",
       "\n",
       "    this._init_header(this);\n",
       "    this._init_canvas(this);\n",
       "    this._init_toolbar(this);\n",
       "\n",
       "    var fig = this;\n",
       "\n",
       "    this.waiting = false;\n",
       "\n",
       "    this.ws.onopen =  function () {\n",
       "            fig.send_message(\"supports_binary\", {value: fig.supports_binary});\n",
       "            fig.send_message(\"send_image_mode\", {});\n",
       "            if (mpl.ratio != 1) {\n",
       "                fig.send_message(\"set_dpi_ratio\", {'dpi_ratio': mpl.ratio});\n",
       "            }\n",
       "            fig.send_message(\"refresh\", {});\n",
       "        }\n",
       "\n",
       "    this.imageObj.onload = function() {\n",
       "            if (fig.image_mode == 'full') {\n",
       "                // Full images could contain transparency (where diff images\n",
       "                // almost always do), so we need to clear the canvas so that\n",
       "                // there is no ghosting.\n",
       "                fig.context.clearRect(0, 0, fig.canvas.width, fig.canvas.height);\n",
       "            }\n",
       "            fig.context.drawImage(fig.imageObj, 0, 0);\n",
       "        };\n",
       "\n",
       "    this.imageObj.onunload = function() {\n",
       "        fig.ws.close();\n",
       "    }\n",
       "\n",
       "    this.ws.onmessage = this._make_on_message_function(this);\n",
       "\n",
       "    this.ondownload = ondownload;\n",
       "}\n",
       "\n",
       "mpl.figure.prototype._init_header = function() {\n",
       "    var titlebar = $(\n",
       "        '<div class=\"ui-dialog-titlebar ui-widget-header ui-corner-all ' +\n",
       "        'ui-helper-clearfix\"/>');\n",
       "    var titletext = $(\n",
       "        '<div class=\"ui-dialog-title\" style=\"width: 100%; ' +\n",
       "        'text-align: center; padding: 3px;\"/>');\n",
       "    titlebar.append(titletext)\n",
       "    this.root.append(titlebar);\n",
       "    this.header = titletext[0];\n",
       "}\n",
       "\n",
       "\n",
       "\n",
       "mpl.figure.prototype._canvas_extra_style = function(canvas_div) {\n",
       "\n",
       "}\n",
       "\n",
       "\n",
       "mpl.figure.prototype._root_extra_style = function(canvas_div) {\n",
       "\n",
       "}\n",
       "\n",
       "mpl.figure.prototype._init_canvas = function() {\n",
       "    var fig = this;\n",
       "\n",
       "    var canvas_div = $('<div/>');\n",
       "\n",
       "    canvas_div.attr('style', 'position: relative; clear: both; outline: 0');\n",
       "\n",
       "    function canvas_keyboard_event(event) {\n",
       "        return fig.key_event(event, event['data']);\n",
       "    }\n",
       "\n",
       "    canvas_div.keydown('key_press', canvas_keyboard_event);\n",
       "    canvas_div.keyup('key_release', canvas_keyboard_event);\n",
       "    this.canvas_div = canvas_div\n",
       "    this._canvas_extra_style(canvas_div)\n",
       "    this.root.append(canvas_div);\n",
       "\n",
       "    var canvas = $('<canvas/>');\n",
       "    canvas.addClass('mpl-canvas');\n",
       "    canvas.attr('style', \"left: 0; top: 0; z-index: 0; outline: 0\")\n",
       "\n",
       "    this.canvas = canvas[0];\n",
       "    this.context = canvas[0].getContext(\"2d\");\n",
       "\n",
       "    var backingStore = this.context.backingStorePixelRatio ||\n",
       "\tthis.context.webkitBackingStorePixelRatio ||\n",
       "\tthis.context.mozBackingStorePixelRatio ||\n",
       "\tthis.context.msBackingStorePixelRatio ||\n",
       "\tthis.context.oBackingStorePixelRatio ||\n",
       "\tthis.context.backingStorePixelRatio || 1;\n",
       "\n",
       "    mpl.ratio = (window.devicePixelRatio || 1) / backingStore;\n",
       "\n",
       "    var rubberband = $('<canvas/>');\n",
       "    rubberband.attr('style', \"position: absolute; left: 0; top: 0; z-index: 1;\")\n",
       "\n",
       "    var pass_mouse_events = true;\n",
       "\n",
       "    canvas_div.resizable({\n",
       "        start: function(event, ui) {\n",
       "            pass_mouse_events = false;\n",
       "        },\n",
       "        resize: function(event, ui) {\n",
       "            fig.request_resize(ui.size.width, ui.size.height);\n",
       "        },\n",
       "        stop: function(event, ui) {\n",
       "            pass_mouse_events = true;\n",
       "            fig.request_resize(ui.size.width, ui.size.height);\n",
       "        },\n",
       "    });\n",
       "\n",
       "    function mouse_event_fn(event) {\n",
       "        if (pass_mouse_events)\n",
       "            return fig.mouse_event(event, event['data']);\n",
       "    }\n",
       "\n",
       "    rubberband.mousedown('button_press', mouse_event_fn);\n",
       "    rubberband.mouseup('button_release', mouse_event_fn);\n",
       "    // Throttle sequential mouse events to 1 every 20ms.\n",
       "    rubberband.mousemove('motion_notify', mouse_event_fn);\n",
       "\n",
       "    rubberband.mouseenter('figure_enter', mouse_event_fn);\n",
       "    rubberband.mouseleave('figure_leave', mouse_event_fn);\n",
       "\n",
       "    canvas_div.on(\"wheel\", function (event) {\n",
       "        event = event.originalEvent;\n",
       "        event['data'] = 'scroll'\n",
       "        if (event.deltaY < 0) {\n",
       "            event.step = 1;\n",
       "        } else {\n",
       "            event.step = -1;\n",
       "        }\n",
       "        mouse_event_fn(event);\n",
       "    });\n",
       "\n",
       "    canvas_div.append(canvas);\n",
       "    canvas_div.append(rubberband);\n",
       "\n",
       "    this.rubberband = rubberband;\n",
       "    this.rubberband_canvas = rubberband[0];\n",
       "    this.rubberband_context = rubberband[0].getContext(\"2d\");\n",
       "    this.rubberband_context.strokeStyle = \"#000000\";\n",
       "\n",
       "    this._resize_canvas = function(width, height) {\n",
       "        // Keep the size of the canvas, canvas container, and rubber band\n",
       "        // canvas in synch.\n",
       "        canvas_div.css('width', width)\n",
       "        canvas_div.css('height', height)\n",
       "\n",
       "        canvas.attr('width', width * mpl.ratio);\n",
       "        canvas.attr('height', height * mpl.ratio);\n",
       "        canvas.attr('style', 'width: ' + width + 'px; height: ' + height + 'px;');\n",
       "\n",
       "        rubberband.attr('width', width);\n",
       "        rubberband.attr('height', height);\n",
       "    }\n",
       "\n",
       "    // Set the figure to an initial 600x600px, this will subsequently be updated\n",
       "    // upon first draw.\n",
       "    this._resize_canvas(600, 600);\n",
       "\n",
       "    // Disable right mouse context menu.\n",
       "    $(this.rubberband_canvas).bind(\"contextmenu\",function(e){\n",
       "        return false;\n",
       "    });\n",
       "\n",
       "    function set_focus () {\n",
       "        canvas.focus();\n",
       "        canvas_div.focus();\n",
       "    }\n",
       "\n",
       "    window.setTimeout(set_focus, 100);\n",
       "}\n",
       "\n",
       "mpl.figure.prototype._init_toolbar = function() {\n",
       "    var fig = this;\n",
       "\n",
       "    var nav_element = $('<div/>')\n",
       "    nav_element.attr('style', 'width: 100%');\n",
       "    this.root.append(nav_element);\n",
       "\n",
       "    // Define a callback function for later on.\n",
       "    function toolbar_event(event) {\n",
       "        return fig.toolbar_button_onclick(event['data']);\n",
       "    }\n",
       "    function toolbar_mouse_event(event) {\n",
       "        return fig.toolbar_button_onmouseover(event['data']);\n",
       "    }\n",
       "\n",
       "    for(var toolbar_ind in mpl.toolbar_items) {\n",
       "        var name = mpl.toolbar_items[toolbar_ind][0];\n",
       "        var tooltip = mpl.toolbar_items[toolbar_ind][1];\n",
       "        var image = mpl.toolbar_items[toolbar_ind][2];\n",
       "        var method_name = mpl.toolbar_items[toolbar_ind][3];\n",
       "\n",
       "        if (!name) {\n",
       "            // put a spacer in here.\n",
       "            continue;\n",
       "        }\n",
       "        var button = $('<button/>');\n",
       "        button.addClass('ui-button ui-widget ui-state-default ui-corner-all ' +\n",
       "                        'ui-button-icon-only');\n",
       "        button.attr('role', 'button');\n",
       "        button.attr('aria-disabled', 'false');\n",
       "        button.click(method_name, toolbar_event);\n",
       "        button.mouseover(tooltip, toolbar_mouse_event);\n",
       "\n",
       "        var icon_img = $('<span/>');\n",
       "        icon_img.addClass('ui-button-icon-primary ui-icon');\n",
       "        icon_img.addClass(image);\n",
       "        icon_img.addClass('ui-corner-all');\n",
       "\n",
       "        var tooltip_span = $('<span/>');\n",
       "        tooltip_span.addClass('ui-button-text');\n",
       "        tooltip_span.html(tooltip);\n",
       "\n",
       "        button.append(icon_img);\n",
       "        button.append(tooltip_span);\n",
       "\n",
       "        nav_element.append(button);\n",
       "    }\n",
       "\n",
       "    var fmt_picker_span = $('<span/>');\n",
       "\n",
       "    var fmt_picker = $('<select/>');\n",
       "    fmt_picker.addClass('mpl-toolbar-option ui-widget ui-widget-content');\n",
       "    fmt_picker_span.append(fmt_picker);\n",
       "    nav_element.append(fmt_picker_span);\n",
       "    this.format_dropdown = fmt_picker[0];\n",
       "\n",
       "    for (var ind in mpl.extensions) {\n",
       "        var fmt = mpl.extensions[ind];\n",
       "        var option = $(\n",
       "            '<option/>', {selected: fmt === mpl.default_extension}).html(fmt);\n",
       "        fmt_picker.append(option)\n",
       "    }\n",
       "\n",
       "    // Add hover states to the ui-buttons\n",
       "    $( \".ui-button\" ).hover(\n",
       "        function() { $(this).addClass(\"ui-state-hover\");},\n",
       "        function() { $(this).removeClass(\"ui-state-hover\");}\n",
       "    );\n",
       "\n",
       "    var status_bar = $('<span class=\"mpl-message\"/>');\n",
       "    nav_element.append(status_bar);\n",
       "    this.message = status_bar[0];\n",
       "}\n",
       "\n",
       "mpl.figure.prototype.request_resize = function(x_pixels, y_pixels) {\n",
       "    // Request matplotlib to resize the figure. Matplotlib will then trigger a resize in the client,\n",
       "    // which will in turn request a refresh of the image.\n",
       "    this.send_message('resize', {'width': x_pixels, 'height': y_pixels});\n",
       "}\n",
       "\n",
       "mpl.figure.prototype.send_message = function(type, properties) {\n",
       "    properties['type'] = type;\n",
       "    properties['figure_id'] = this.id;\n",
       "    this.ws.send(JSON.stringify(properties));\n",
       "}\n",
       "\n",
       "mpl.figure.prototype.send_draw_message = function() {\n",
       "    if (!this.waiting) {\n",
       "        this.waiting = true;\n",
       "        this.ws.send(JSON.stringify({type: \"draw\", figure_id: this.id}));\n",
       "    }\n",
       "}\n",
       "\n",
       "\n",
       "mpl.figure.prototype.handle_save = function(fig, msg) {\n",
       "    var format_dropdown = fig.format_dropdown;\n",
       "    var format = format_dropdown.options[format_dropdown.selectedIndex].value;\n",
       "    fig.ondownload(fig, format);\n",
       "}\n",
       "\n",
       "\n",
       "mpl.figure.prototype.handle_resize = function(fig, msg) {\n",
       "    var size = msg['size'];\n",
       "    if (size[0] != fig.canvas.width || size[1] != fig.canvas.height) {\n",
       "        fig._resize_canvas(size[0], size[1]);\n",
       "        fig.send_message(\"refresh\", {});\n",
       "    };\n",
       "}\n",
       "\n",
       "mpl.figure.prototype.handle_rubberband = function(fig, msg) {\n",
       "    var x0 = msg['x0'] / mpl.ratio;\n",
       "    var y0 = (fig.canvas.height - msg['y0']) / mpl.ratio;\n",
       "    var x1 = msg['x1'] / mpl.ratio;\n",
       "    var y1 = (fig.canvas.height - msg['y1']) / mpl.ratio;\n",
       "    x0 = Math.floor(x0) + 0.5;\n",
       "    y0 = Math.floor(y0) + 0.5;\n",
       "    x1 = Math.floor(x1) + 0.5;\n",
       "    y1 = Math.floor(y1) + 0.5;\n",
       "    var min_x = Math.min(x0, x1);\n",
       "    var min_y = Math.min(y0, y1);\n",
       "    var width = Math.abs(x1 - x0);\n",
       "    var height = Math.abs(y1 - y0);\n",
       "\n",
       "    fig.rubberband_context.clearRect(\n",
       "        0, 0, fig.canvas.width, fig.canvas.height);\n",
       "\n",
       "    fig.rubberband_context.strokeRect(min_x, min_y, width, height);\n",
       "}\n",
       "\n",
       "mpl.figure.prototype.handle_figure_label = function(fig, msg) {\n",
       "    // Updates the figure title.\n",
       "    fig.header.textContent = msg['label'];\n",
       "}\n",
       "\n",
       "mpl.figure.prototype.handle_cursor = function(fig, msg) {\n",
       "    var cursor = msg['cursor'];\n",
       "    switch(cursor)\n",
       "    {\n",
       "    case 0:\n",
       "        cursor = 'pointer';\n",
       "        break;\n",
       "    case 1:\n",
       "        cursor = 'default';\n",
       "        break;\n",
       "    case 2:\n",
       "        cursor = 'crosshair';\n",
       "        break;\n",
       "    case 3:\n",
       "        cursor = 'move';\n",
       "        break;\n",
       "    }\n",
       "    fig.rubberband_canvas.style.cursor = cursor;\n",
       "}\n",
       "\n",
       "mpl.figure.prototype.handle_message = function(fig, msg) {\n",
       "    fig.message.textContent = msg['message'];\n",
       "}\n",
       "\n",
       "mpl.figure.prototype.handle_draw = function(fig, msg) {\n",
       "    // Request the server to send over a new figure.\n",
       "    fig.send_draw_message();\n",
       "}\n",
       "\n",
       "mpl.figure.prototype.handle_image_mode = function(fig, msg) {\n",
       "    fig.image_mode = msg['mode'];\n",
       "}\n",
       "\n",
       "mpl.figure.prototype.updated_canvas_event = function() {\n",
       "    // Called whenever the canvas gets updated.\n",
       "    this.send_message(\"ack\", {});\n",
       "}\n",
       "\n",
       "// A function to construct a web socket function for onmessage handling.\n",
       "// Called in the figure constructor.\n",
       "mpl.figure.prototype._make_on_message_function = function(fig) {\n",
       "    return function socket_on_message(evt) {\n",
       "        if (evt.data instanceof Blob) {\n",
       "            /* FIXME: We get \"Resource interpreted as Image but\n",
       "             * transferred with MIME type text/plain:\" errors on\n",
       "             * Chrome.  But how to set the MIME type?  It doesn't seem\n",
       "             * to be part of the websocket stream */\n",
       "            evt.data.type = \"image/png\";\n",
       "\n",
       "            /* Free the memory for the previous frames */\n",
       "            if (fig.imageObj.src) {\n",
       "                (window.URL || window.webkitURL).revokeObjectURL(\n",
       "                    fig.imageObj.src);\n",
       "            }\n",
       "\n",
       "            fig.imageObj.src = (window.URL || window.webkitURL).createObjectURL(\n",
       "                evt.data);\n",
       "            fig.updated_canvas_event();\n",
       "            fig.waiting = false;\n",
       "            return;\n",
       "        }\n",
       "        else if (typeof evt.data === 'string' && evt.data.slice(0, 21) == \"data:image/png;base64\") {\n",
       "            fig.imageObj.src = evt.data;\n",
       "            fig.updated_canvas_event();\n",
       "            fig.waiting = false;\n",
       "            return;\n",
       "        }\n",
       "\n",
       "        var msg = JSON.parse(evt.data);\n",
       "        var msg_type = msg['type'];\n",
       "\n",
       "        // Call the  \"handle_{type}\" callback, which takes\n",
       "        // the figure and JSON message as its only arguments.\n",
       "        try {\n",
       "            var callback = fig[\"handle_\" + msg_type];\n",
       "        } catch (e) {\n",
       "            console.log(\"No handler for the '\" + msg_type + \"' message type: \", msg);\n",
       "            return;\n",
       "        }\n",
       "\n",
       "        if (callback) {\n",
       "            try {\n",
       "                // console.log(\"Handling '\" + msg_type + \"' message: \", msg);\n",
       "                callback(fig, msg);\n",
       "            } catch (e) {\n",
       "                console.log(\"Exception inside the 'handler_\" + msg_type + \"' callback:\", e, e.stack, msg);\n",
       "            }\n",
       "        }\n",
       "    };\n",
       "}\n",
       "\n",
       "// from http://stackoverflow.com/questions/1114465/getting-mouse-location-in-canvas\n",
       "mpl.findpos = function(e) {\n",
       "    //this section is from http://www.quirksmode.org/js/events_properties.html\n",
       "    var targ;\n",
       "    if (!e)\n",
       "        e = window.event;\n",
       "    if (e.target)\n",
       "        targ = e.target;\n",
       "    else if (e.srcElement)\n",
       "        targ = e.srcElement;\n",
       "    if (targ.nodeType == 3) // defeat Safari bug\n",
       "        targ = targ.parentNode;\n",
       "\n",
       "    // jQuery normalizes the pageX and pageY\n",
       "    // pageX,Y are the mouse positions relative to the document\n",
       "    // offset() returns the position of the element relative to the document\n",
       "    var x = e.pageX - $(targ).offset().left;\n",
       "    var y = e.pageY - $(targ).offset().top;\n",
       "\n",
       "    return {\"x\": x, \"y\": y};\n",
       "};\n",
       "\n",
       "/*\n",
       " * return a copy of an object with only non-object keys\n",
       " * we need this to avoid circular references\n",
       " * http://stackoverflow.com/a/24161582/3208463\n",
       " */\n",
       "function simpleKeys (original) {\n",
       "  return Object.keys(original).reduce(function (obj, key) {\n",
       "    if (typeof original[key] !== 'object')\n",
       "        obj[key] = original[key]\n",
       "    return obj;\n",
       "  }, {});\n",
       "}\n",
       "\n",
       "mpl.figure.prototype.mouse_event = function(event, name) {\n",
       "    var canvas_pos = mpl.findpos(event)\n",
       "\n",
       "    if (name === 'button_press')\n",
       "    {\n",
       "        this.canvas.focus();\n",
       "        this.canvas_div.focus();\n",
       "    }\n",
       "\n",
       "    var x = canvas_pos.x * mpl.ratio;\n",
       "    var y = canvas_pos.y * mpl.ratio;\n",
       "\n",
       "    this.send_message(name, {x: x, y: y, button: event.button,\n",
       "                             step: event.step,\n",
       "                             guiEvent: simpleKeys(event)});\n",
       "\n",
       "    /* This prevents the web browser from automatically changing to\n",
       "     * the text insertion cursor when the button is pressed.  We want\n",
       "     * to control all of the cursor setting manually through the\n",
       "     * 'cursor' event from matplotlib */\n",
       "    event.preventDefault();\n",
       "    return false;\n",
       "}\n",
       "\n",
       "mpl.figure.prototype._key_event_extra = function(event, name) {\n",
       "    // Handle any extra behaviour associated with a key event\n",
       "}\n",
       "\n",
       "mpl.figure.prototype.key_event = function(event, name) {\n",
       "\n",
       "    // Prevent repeat events\n",
       "    if (name == 'key_press')\n",
       "    {\n",
       "        if (event.which === this._key)\n",
       "            return;\n",
       "        else\n",
       "            this._key = event.which;\n",
       "    }\n",
       "    if (name == 'key_release')\n",
       "        this._key = null;\n",
       "\n",
       "    var value = '';\n",
       "    if (event.ctrlKey && event.which != 17)\n",
       "        value += \"ctrl+\";\n",
       "    if (event.altKey && event.which != 18)\n",
       "        value += \"alt+\";\n",
       "    if (event.shiftKey && event.which != 16)\n",
       "        value += \"shift+\";\n",
       "\n",
       "    value += 'k';\n",
       "    value += event.which.toString();\n",
       "\n",
       "    this._key_event_extra(event, name);\n",
       "\n",
       "    this.send_message(name, {key: value,\n",
       "                             guiEvent: simpleKeys(event)});\n",
       "    return false;\n",
       "}\n",
       "\n",
       "mpl.figure.prototype.toolbar_button_onclick = function(name) {\n",
       "    if (name == 'download') {\n",
       "        this.handle_save(this, null);\n",
       "    } else {\n",
       "        this.send_message(\"toolbar_button\", {name: name});\n",
       "    }\n",
       "};\n",
       "\n",
       "mpl.figure.prototype.toolbar_button_onmouseover = function(tooltip) {\n",
       "    this.message.textContent = tooltip;\n",
       "};\n",
       "mpl.toolbar_items = [[\"Home\", \"Reset original view\", \"fa fa-home icon-home\", \"home\"], [\"Back\", \"Back to  previous view\", \"fa fa-arrow-left icon-arrow-left\", \"back\"], [\"Forward\", \"Forward to next view\", \"fa fa-arrow-right icon-arrow-right\", \"forward\"], [\"\", \"\", \"\", \"\"], [\"Pan\", \"Pan axes with left mouse, zoom with right\", \"fa fa-arrows icon-move\", \"pan\"], [\"Zoom\", \"Zoom to rectangle\", \"fa fa-square-o icon-check-empty\", \"zoom\"], [\"\", \"\", \"\", \"\"], [\"Download\", \"Download plot\", \"fa fa-floppy-o icon-save\", \"download\"]];\n",
       "\n",
       "mpl.extensions = [\"eps\", \"jpeg\", \"pdf\", \"png\", \"ps\", \"raw\", \"svg\", \"tif\"];\n",
       "\n",
       "mpl.default_extension = \"png\";var comm_websocket_adapter = function(comm) {\n",
       "    // Create a \"websocket\"-like object which calls the given IPython comm\n",
       "    // object with the appropriate methods. Currently this is a non binary\n",
       "    // socket, so there is still some room for performance tuning.\n",
       "    var ws = {};\n",
       "\n",
       "    ws.close = function() {\n",
       "        comm.close()\n",
       "    };\n",
       "    ws.send = function(m) {\n",
       "        //console.log('sending', m);\n",
       "        comm.send(m);\n",
       "    };\n",
       "    // Register the callback with on_msg.\n",
       "    comm.on_msg(function(msg) {\n",
       "        //console.log('receiving', msg['content']['data'], msg);\n",
       "        // Pass the mpl event to the overridden (by mpl) onmessage function.\n",
       "        ws.onmessage(msg['content']['data'])\n",
       "    });\n",
       "    return ws;\n",
       "}\n",
       "\n",
       "mpl.mpl_figure_comm = function(comm, msg) {\n",
       "    // This is the function which gets called when the mpl process\n",
       "    // starts-up an IPython Comm through the \"matplotlib\" channel.\n",
       "\n",
       "    var id = msg.content.data.id;\n",
       "    // Get hold of the div created by the display call when the Comm\n",
       "    // socket was opened in Python.\n",
       "    var element = $(\"#\" + id);\n",
       "    var ws_proxy = comm_websocket_adapter(comm)\n",
       "\n",
       "    function ondownload(figure, format) {\n",
       "        window.open(figure.imageObj.src);\n",
       "    }\n",
       "\n",
       "    var fig = new mpl.figure(id, ws_proxy,\n",
       "                           ondownload,\n",
       "                           element.get(0));\n",
       "\n",
       "    // Call onopen now - mpl needs it, as it is assuming we've passed it a real\n",
       "    // web socket which is closed, not our websocket->open comm proxy.\n",
       "    ws_proxy.onopen();\n",
       "\n",
       "    fig.parent_element = element.get(0);\n",
       "    fig.cell_info = mpl.find_output_cell(\"<div id='\" + id + \"'></div>\");\n",
       "    if (!fig.cell_info) {\n",
       "        console.error(\"Failed to find cell for figure\", id, fig);\n",
       "        return;\n",
       "    }\n",
       "\n",
       "    var output_index = fig.cell_info[2]\n",
       "    var cell = fig.cell_info[0];\n",
       "\n",
       "};\n",
       "\n",
       "mpl.figure.prototype.handle_close = function(fig, msg) {\n",
       "    var width = fig.canvas.width/mpl.ratio\n",
       "    fig.root.unbind('remove')\n",
       "\n",
       "    // Update the output cell to use the data from the current canvas.\n",
       "    fig.push_to_output();\n",
       "    var dataURL = fig.canvas.toDataURL();\n",
       "    // Re-enable the keyboard manager in IPython - without this line, in FF,\n",
       "    // the notebook keyboard shortcuts fail.\n",
       "    IPython.keyboard_manager.enable()\n",
       "    $(fig.parent_element).html('<img src=\"' + dataURL + '\" width=\"' + width + '\">');\n",
       "    fig.close_ws(fig, msg);\n",
       "}\n",
       "\n",
       "mpl.figure.prototype.close_ws = function(fig, msg){\n",
       "    fig.send_message('closing', msg);\n",
       "    // fig.ws.close()\n",
       "}\n",
       "\n",
       "mpl.figure.prototype.push_to_output = function(remove_interactive) {\n",
       "    // Turn the data on the canvas into data in the output cell.\n",
       "    var width = this.canvas.width/mpl.ratio\n",
       "    var dataURL = this.canvas.toDataURL();\n",
       "    this.cell_info[1]['text/html'] = '<img src=\"' + dataURL + '\" width=\"' + width + '\">';\n",
       "}\n",
       "\n",
       "mpl.figure.prototype.updated_canvas_event = function() {\n",
       "    // Tell IPython that the notebook contents must change.\n",
       "    IPython.notebook.set_dirty(true);\n",
       "    this.send_message(\"ack\", {});\n",
       "    var fig = this;\n",
       "    // Wait a second, then push the new image to the DOM so\n",
       "    // that it is saved nicely (might be nice to debounce this).\n",
       "    setTimeout(function () { fig.push_to_output() }, 1000);\n",
       "}\n",
       "\n",
       "mpl.figure.prototype._init_toolbar = function() {\n",
       "    var fig = this;\n",
       "\n",
       "    var nav_element = $('<div/>')\n",
       "    nav_element.attr('style', 'width: 100%');\n",
       "    this.root.append(nav_element);\n",
       "\n",
       "    // Define a callback function for later on.\n",
       "    function toolbar_event(event) {\n",
       "        return fig.toolbar_button_onclick(event['data']);\n",
       "    }\n",
       "    function toolbar_mouse_event(event) {\n",
       "        return fig.toolbar_button_onmouseover(event['data']);\n",
       "    }\n",
       "\n",
       "    for(var toolbar_ind in mpl.toolbar_items){\n",
       "        var name = mpl.toolbar_items[toolbar_ind][0];\n",
       "        var tooltip = mpl.toolbar_items[toolbar_ind][1];\n",
       "        var image = mpl.toolbar_items[toolbar_ind][2];\n",
       "        var method_name = mpl.toolbar_items[toolbar_ind][3];\n",
       "\n",
       "        if (!name) { continue; };\n",
       "\n",
       "        var button = $('<button class=\"btn btn-default\" href=\"#\" title=\"' + name + '\"><i class=\"fa ' + image + ' fa-lg\"></i></button>');\n",
       "        button.click(method_name, toolbar_event);\n",
       "        button.mouseover(tooltip, toolbar_mouse_event);\n",
       "        nav_element.append(button);\n",
       "    }\n",
       "\n",
       "    // Add the status bar.\n",
       "    var status_bar = $('<span class=\"mpl-message\" style=\"text-align:right; float: right;\"/>');\n",
       "    nav_element.append(status_bar);\n",
       "    this.message = status_bar[0];\n",
       "\n",
       "    // Add the close button to the window.\n",
       "    var buttongrp = $('<div class=\"btn-group inline pull-right\"></div>');\n",
       "    var button = $('<button class=\"btn btn-mini btn-primary\" href=\"#\" title=\"Stop Interaction\"><i class=\"fa fa-power-off icon-remove icon-large\"></i></button>');\n",
       "    button.click(function (evt) { fig.handle_close(fig, {}); } );\n",
       "    button.mouseover('Stop Interaction', toolbar_mouse_event);\n",
       "    buttongrp.append(button);\n",
       "    var titlebar = this.root.find($('.ui-dialog-titlebar'));\n",
       "    titlebar.prepend(buttongrp);\n",
       "}\n",
       "\n",
       "mpl.figure.prototype._root_extra_style = function(el){\n",
       "    var fig = this\n",
       "    el.on(\"remove\", function(){\n",
       "\tfig.close_ws(fig, {});\n",
       "    });\n",
       "}\n",
       "\n",
       "mpl.figure.prototype._canvas_extra_style = function(el){\n",
       "    // this is important to make the div 'focusable\n",
       "    el.attr('tabindex', 0)\n",
       "    // reach out to IPython and tell the keyboard manager to turn it's self\n",
       "    // off when our div gets focus\n",
       "\n",
       "    // location in version 3\n",
       "    if (IPython.notebook.keyboard_manager) {\n",
       "        IPython.notebook.keyboard_manager.register_events(el);\n",
       "    }\n",
       "    else {\n",
       "        // location in version 2\n",
       "        IPython.keyboard_manager.register_events(el);\n",
       "    }\n",
       "\n",
       "}\n",
       "\n",
       "mpl.figure.prototype._key_event_extra = function(event, name) {\n",
       "    var manager = IPython.notebook.keyboard_manager;\n",
       "    if (!manager)\n",
       "        manager = IPython.keyboard_manager;\n",
       "\n",
       "    // Check for shift+enter\n",
       "    if (event.shiftKey && event.which == 13) {\n",
       "        this.canvas_div.blur();\n",
       "        event.shiftKey = false;\n",
       "        // Send a \"J\" for go to next cell\n",
       "        event.which = 74;\n",
       "        event.keyCode = 74;\n",
       "        manager.command_mode();\n",
       "        manager.handle_keydown(event);\n",
       "    }\n",
       "}\n",
       "\n",
       "mpl.figure.prototype.handle_save = function(fig, msg) {\n",
       "    fig.ondownload(fig, null);\n",
       "}\n",
       "\n",
       "\n",
       "mpl.find_output_cell = function(html_output) {\n",
       "    // Return the cell and output element which can be found *uniquely* in the notebook.\n",
       "    // Note - this is a bit hacky, but it is done because the \"notebook_saving.Notebook\"\n",
       "    // IPython event is triggered only after the cells have been serialised, which for\n",
       "    // our purposes (turning an active figure into a static one), is too late.\n",
       "    var cells = IPython.notebook.get_cells();\n",
       "    var ncells = cells.length;\n",
       "    for (var i=0; i<ncells; i++) {\n",
       "        var cell = cells[i];\n",
       "        if (cell.cell_type === 'code'){\n",
       "            for (var j=0; j<cell.output_area.outputs.length; j++) {\n",
       "                var data = cell.output_area.outputs[j];\n",
       "                if (data.data) {\n",
       "                    // IPython >= 3 moved mimebundle to data attribute of output\n",
       "                    data = data.data;\n",
       "                }\n",
       "                if (data['text/html'] == html_output) {\n",
       "                    return [cell, data, j];\n",
       "                }\n",
       "            }\n",
       "        }\n",
       "    }\n",
       "}\n",
       "\n",
       "// Register the function which deals with the matplotlib target/channel.\n",
       "// The kernel may be null if the page has been refreshed.\n",
       "if (IPython.notebook.kernel != null) {\n",
       "    IPython.notebook.kernel.comm_manager.register_target('matplotlib', mpl.mpl_figure_comm);\n",
       "}\n"
      ],
      "text/plain": [
       "<IPython.core.display.Javascript object>"
      ]
     },
     "metadata": {},
     "output_type": "display_data"
    },
    {
     "data": {
      "text/html": [
       "<img src=\"data:image/png;base64,iVBORw0KGgoAAAANSUhEUgAABaAAAAPwCAYAAADH/tkFAAAAAXNSR0IArs4c6QAAAARnQU1BAACxjwv8YQUAAP+6SURBVHhe7N0HnFxV9cDxm2xJD6nUBEIIvRMg9N4EVAQVRVFpNhSs/BFEQKqKIAhY6NIFBEQ6hBYgQBISSCeNNNL7brYm/3tm7jB33r4382bmzezOu7+vns/cmcy+hGR3Zt55556jAAAAAAAAAAAAAAAAAAAAAAAAAAAAAAAAAAAAAAAAAAAAAAAAAAAAAAAAAAAAAAAAAAAAAAAAAAAAAAAAAAAAAAAAAAAAAAAAAAAAAAAAAAAAAAAAAAAAAAAAAAAAAAAAAAAAAAAAAAAAAAAAAAAAAAAAAAAAAAAAAAAAAAAAAAAAAAAAAAAAAAAAAAAAAAAAAAAAAAAAAAAAAAAAAAAAAAAAAAAAAAAAAAAAAAAAAAAAAAAAAAAAAAAAAAAAAAAAAAAAAAAAAAAAAAAAAAAAAAAAAAAAAAAAAAAAAAAAAAAAAAAAAAAAAAAAAAAAAAAAAAAAAAAAAAAAAAAAAAAAAAAAAAAAAAAAAAAAAAAAAAAAAAAAAAAAAAAAAAAAAAAAAAAAAAAAAAAAAAAAAAAAAAAAAAAAAAAAAAAAAAAAAAAAAAAAAAAAAAAAAAAAAAAAAAAAAAAAAAAAAAAAAAAAAAAAAAAAAAAAAAAAAAAAAAAAAAAAAAAAAAAAAAAAAAAAAAAAAAAAAAAAAAAAAAAAAAAAAAAAAAAAAAAAAAAAAAAAAAAAAAAAAAAAAAAAAAAAAAAAAAAAAAAAAAAAAAAAAAAAAAAAAAAAAAAAAAAAAAAAAAAAAAAAAAAAAAAAAAAAAAAAAAAAAAAAAAAAAAAAAAAAAAAAAAAAAAAAAAAAAAAAAAAAAAAAAAAAAAAAAAAAAAAAAAAAAAAAAAAAAAAAAAAAAAAAAAAAAAAAAAAAAAAAAAAAAAAAAAAAAAAAAAAAAAAAAAAAAAAAAAAAAAAAAAAAAAAAAAAAAAAAAAAAAAAAAAAAAAAAAAAAAAAAAAAAAAAAAAAAAAAAAAAAAAAAAAAAAAAAAAAAAAAAAAAAAAAAAAAAAAAAAAAAAAAAAAAAAAAAAAAAAAAAAAAAAAAAAAAAAAAAAAAAAAAAAAAAAAAAAAAAAAAAAAAAAAAAAAAAAAAAAAAAAAAAAAAAAAAAAAAAAAAAAAAAAAAAAAAAAAAAAAAAAAAAAAAAAAAAAAAAAAAAAAAAAAAAAAAAAAAAAAAAAAAAAAAAAAAAAAAAAAAAAAAAAAAAAAAAAAAAAAAAAAAAAAAAAAAAAAAAAAAAAAAAAAAAAAAAAAAAAAAAAAAAAAAAAAAAAAAAAAAAAAAAAAAAAAAAAAAAAAAAAAAAAAAAAAAAAAAAAAAAAAAAAAAAAAAAAAAAAAAAAAAAAAAAAAAAAAAAAAAAAAAAAAAAAAAAAAAAAAAAAAAAAAAAAAAAAAAAAAAAAAAAAAAAAAAAAAAAAAAAAAAAAAAAAAAAAAAAAAAAAAAAAAAAAAAAAAAAAAAAAAAAAAAAAABAh9HJ3AJxMFtHbx1zEvcAAAAAAABQrCE61ujYNnEPyBMJaMTJ8m7duvXbeeedzV0AAAAAAAAUY8qUKWr9+vUr9LJ/8hEgPySgESdj99HGjh1r7gIAAAAAAKAYw4cPV+M0WSYfAfLT2dwCAAAAAAAAABApEtAAAAAAAAAAgJIgAQ0AAAAAAAAAKAkS0AAAAAAAAACAkiABDQAAAAAAAAAoCRLQAAAAAAAAAICSIAENAAAAAAAAACgJEtAAAAAAAAAAgJIgAQ0AAAAAAAAAKAkS0AAAAAAAAACAkiABDQAAAAAAAAAoCRLQAAAAAAAAAICSIAENAAAAAAAAACgJEtAAAAAAAAAAgJIgAQ0AAAAAAAAAKAkS0AAAAAAAAACAkiABDQAAAAAAAAAoCRLQAAAAAAAAAICSIAENAAAAAAAAACgJEtAAAAAAAAAAgJIgAQ0AAAAAAAAAKAkS0AAAAAAAAACAkiABDQAAAAAAAAAoCRLQAAAAAAAAAICSIAENAAAAAAAAACgJEtAAAAAAAAAAgJIgAV35Bum4W8dCHY065uj4i46+OvLRT4d8nXy9HEeOJ8eV42dzqI4ndHymQ75Obl/ScaIOPwfpeE7HCh31Oj7S8TMdVToAAAAAAAAAxAgJ6Mq2nY6xOs7S8b6Om3TM0nGhjnd19NcRhjxPni9fN1OHHEeOJ8eV4w/V4ee3Ot7UcZiOF3T8WcczOiT5fYQOry/rSD3/SR236ajVIb/fIzoAAAAAAAAAxAgJ6Mp2u45NdVyg4xQdF+s4SockdHfUcY2OMK7VsYMO+bqjdchx5HiSkJbjy+/j9TUdV+l4RYckqCVZfYmO7+vYT8elOmy9ddyho1WHJKfP0fFrHXvpkOT3V3V8QwcAAAAAAACAmCABXbkk6XucDmmZIZXEtst11Ok4U0cPeSAL+XV5njxfvs52qw45/vE67Cpo+b75gw5poXGGjrU6vJrNbYokmAfqkErnMfKA0aBDKqnFj8wtAAAAAAAAgBggAV25pNJZSL/lDcnl5yQh/LaO7joOkAeyOFBHNx3yfG8iWY4rxxdHmlshfZy31SG9nFfqOEnH/+mQimk5np/Un1dadXhJWw5JZstxu8gDAAAAAAAAACpfJ3OLyvMnHb8yIb2XvaR6+XwdP9bxN3kggDxHnivxU3nAQ44vv9cfdUiSWfxcx406pPJa+jnvrsMmCWWpeF6auJf0gY59TUhfaa+JOnbVsYuOKfJAAcbuo40d63f4yvGtO0er8XNXmXult1nvrurqr+ymDtpugHkEAAAAAAAgafjw4WqcJsvkI0B+qICuXJuY29Xm1iv1eB9zG6SQ40hfaPFDHVI9fYyOXjp20/GiDklKP6bDFtWfV0iG2S920lHx1je1qroyxqxlderWkTPM7w4AAAAAAABEhwR0fKWq2zea20L5HafK3MqvSaXzqzrW6Zik4ys65us4XEdQOw4/Uf15UYBFa6QVNwAAAAAAABAtWnBUrvZswfEbHdfqkLLZ7eUBjzt1nKPjZzpulgc0WnCEVN/UojaUIQ0/b0W9+sLNbyXWg/p2U6P+L9WmGwAAAAAAIIkWHCgWFdCVa5q53cHceqUSw9PNbZBCjpP6mqBGxTKYUEh7jpRsv0+1Dhlq2KJjljzgsu611apnl9JHn+415ndUqrnVO8cSAAAAAAAAKB4J6Mr1mrk9Tof331H6MR+sY72O0fJAFvLr8jx5vnydTY4rxxep30/IkEFJFktyulYe8JBe0GKOuRUjze0J5tYmPaO763hHR6M8gNKr7pz+tmlppfMJAAAAAAAAokcCunLN1PGSjiE6pI2G7UodPXT8S0edPGDIkD7voD7p3Xy/Dnn+FfKA5Sc65PgyWNCuTF6m41EdMljwd/KA5Vgdx+uQoYIvyAPG4zrk676hQ9pwpHTVcXVymbVVCCJWW5X+8acCGgAAAAAAAKVAArqySX/nJTpu0fGUjut0SKXxz3VIy4xLddikt7Jff+VLdMjzf6FDBgrKceR40r9Zju9NcAt5rvSAlt9DKqJv0PGYjud1tOo4T4fdomONDnlMBhi+rkP6REtf6fE6ZFihJKglqY0yqa5Kt4BvKUfTaQAAAAAAADiHBHRlkypoqSa+V8cIHb/UsZ0OSUhLUne5jjDkefJ8+bphOuQ4crx7dEiDefl9vCQxLc+5ScdgHRfokCl2z+o4VIcko70kqX24DklYn6ZDhh4265BktlRGkwUtIzsBTQU0AAAAAAAASiGdgQIq39h9tLFjx5q7yGbDho1q6CXPmXtKzb7uRNWpEy8JAAAAAAAgbfjw4WqcJsvkI0B+qIAGHNW5cydVpSOllTYcAAAAAAAAiBgJaMBh1VYCmj7QAAAAAAAAiBoJaMBhNVXpl4Am+kADAAAAAAAgYiSgAYfZgwhbWqmABgAAAAAAQLRIQAMOq+6cfglooQIaAAAAAAAAESMBDTis1qqAbqYHNAAAAAAAACJGAhpwWLXVA7q5hQpoAAAAAAAARIsENOCwjB7QG0hAAwAAAAAAIFokoAGH1Vg9oJsZQggAAAAAAICIkYAGHFZTbVVAk4AGAAAAAABAxEhAAw5rsvo+r21oNisAAAAAAAAgGiSgAYdNX7zOrJS67fUZZgUAAAAAAABEgwQ0gIS3Zyw3KwAAAAAAACAaJKABAAAAAAAAACVBAhoAAAAAAAAAUBIkoAEAAAAAAAAAJUECGgAAAAAAAABQEiSgAQAAAAAAAAAlQQIaAAAAAAAAAFASJKABAAAAAAAAACVBAhpw2A8P386slDph183NCgAAAAAAAIgGCWjAYTtt3suslKqt5uUAAAAAAAAA0SLjBDisuqqTWSnVumGjWQEAAAAAAADRIAENOKy6czoB3bJhg1kBAAAAAAAA0SABDTisqnP6JYAKaAAAAAAAAESNBDTgMLsCurmVBDQAAAAAAACiRQIacBg9oAEAAAAAAFBKJKABh1XRAxoAAAAAAAAlRAIacFg1PaABAAAAAABQQiSgAYfZLTjoAQ0AAAAAAICokYAGHGYPIaQCGgAAAAAAAFEjAQ04LLMHNAloAAAAAAAARIsENOCwmqr0S0BLK0MIAQAAAAAAEC0S0IDD7ApoWnAAAAAAAAAgaiSgAYfZPaCbN1ABDQAAAAAAgGiRgAYc1rtrjVkptbKu2awAAAAAAACAaJCABhzWvUuVWSnV1EIFNAAAAAAAAKJFAhpwWE3n9EtAU+sGtXEjfaABAAAAAAAQHRLQgMM6d+6U2Qe6lQQ0AAAAAAAAokMCGnBcbXX6ZaC5lTYcAAAAAAAAiA4JaMBxNVUkoAEAAAAAAFAaJKABx9kJaOkDDQAAAAAAAESFBDTguNoqekADAAAAAACgNEhAA45buLrBrJSqb2wxKwAAAAAAAKB4JKABfO6Ot2aZFQAAAAAAAFA8EtAAPvfurOVmBQAAAAAAABSPBDSAzzW30AMaAAAAAAAA0SEBDeBzza0bzAoAAAAAAAAoHgloAJ/be+s+ZgUAAAAAAAAUjwQ04LgR2/YzK6UOGNrfrAAAAAAAAIDikYAGHLfn4HTVc8sGekADAAAAAAAgOiSgAcfVVHUyK6Va6AENAAAAAACACJGABhxX3Tn9MtDcSgU0AAAAAAAAokMCGnBcded0BXQrLTgAAAAAAAAQIRLQgOOq7BYcJKABAAAAAAAQIRLQgONqrBYcrRvoAQ0AAAAAAIDokIAGHFdlteCgBzQAAAAAAACiRAIacFy11YKDHtAAAAAAAACIEglowHHVVgsOekADAAAAAAAgSiSgAcdVWy046AENAAAAAACAKJGABhxn94BuoQc0AAAAAAAAIkQCGnCc3QOaFhwAAAAAAACIEglowHF2D2iGEAIAAAAAACBKJKABx2W04KAHNAAAAAAAACJEAhpwnD2EkB7QAAAAAAAAiBIJaMBx9IAGAAAAAABAqZCABhxHD2gAAAAAAACUCglowHF2D+jmVnpAAwAAAAAAIDokoAHH2S04qIAGAAAAAABAlEhAA47LGEJIAhoAAAAAAAARIgENOI4e0AAAAAAAACgVEtCA4+gBDQAAAAAAgFIhAV35Bum4W8dCHY065uj4i46+OvLRT4d8nXy9HEeOJ8eV4/uR50m5rF8s0uE1RIffc1PxiA60A3pAAwAAAAAAoFRIQFe27XSM1XGWjvd13KRjlo4Ldbyro7+OMOR58nz5upk65DhyPDmuHH+oDj+rdVzpEzfoCDJBh9/XPK4D7cDuAU0CGgAAAAAAAFEiAV3ZbtexqY4LdJyi42IdR+mQBPKOOq7REca1OnbQIV93tA45jhxPEtJyfPl9/KzScYVPZEtAj9fh9zUkoNuJ3QO6eQMtOAAAAAAAABAdEtCVS6qSj9MhrTBukwcsl+uo03Gmjh7yQBby6/I8eb58ne1WHXL843UEVUGjwlXZLThaqYAGAAAAAABAdEhAVy6pdBYv6fCWra7V8baO7joOkAeyOFBHNx3yfPk6mxxXji+ONLe2Ljq+reMSHVItLc+p0pHNljp+oEO+Rm730IF2VGO14GihBQcAAAAAAAAiRAK6ckmLDTHd3Hp9Ym6ltUY2xRxncx3365BWHzLAcKQOef7hOoIcq+PvOuRr5FZ6Qr+mY2sdYUlfar/YSQfyVEUPaAAAAAAAAJQICejKtYm5lUGAflKP9zG3QQo9zj06pF+0JKGljcfuOv6hY4iO53XsqcNWr+MqHcN19DUhiWpJPh+h41UdudqFoAQyekC30gMaAAAAAAAA0SEBHV+pstZiS1qDjnOlDql4XqxDkssTdfxQx406pKWHDBa0LdHxOx3jdMjwQok3dUgf6/d0DNNxro4wJIntF1N1IE8ZPaCpgAYAAAAAAECESEBXrlRlcqqC2au3uQ2qbE6J6jgp0lZDHGZuc2nRcWdyGfprEKFqqwVHMwloAAAAAAAARIgEdOWaZm6Dejxvb26DejunRHWcFKl0Fvm001hqbmnB0Q5qqtIvAy204AAAAAAAAECESEBXLumdLKSFhfffsZeOg3Ws1zFaHshCfl2eJ8+Xr7PJceX4IvX75XKguZ1lbsM4wNzm8zWIiAwhTBVBSwE0bTgAAAAAAAAQFRLQlWumjpd0yNC/8+UBi/Rnlmrif+mokweMnUzY1um4X4c839u3+Sc65Pgv6rCTw7vq6JdcZthGx63JpXrA3KaM0FGbXGY4SsfPk8s2X4MyqbaqoBlECAAAAAAAgKiQgK5sP9YhLS9u0fGUjut0yGBASehKy4xLddimmPC6RIc8/xc6XtUhx5Hj3axDju9NcH9Nx0Idz+u4XccfdDyuQ4YAyjDB53TcoMMmz1mg4zEdN5mQ30uii47LdLyjA+2glgQ0AAAAAAAASoAEdGWTKuh9ddyrQyqMf6ljOx2SkJZWGMt1hCHPk+fL10kCWY4jx7tHx3Ad8vvYpB3Hkzq21XGGDklcH65jlI7v6jhZR5MOm1RZv6djPx3n6ZDkufSX/rcOGT54tQ60k5oqaxBhKy04AAAAAAAAEI101gmofGP30caOHWvuIqz9rnlFLV3bmFi/f8nRatPeXRNrAAAAAADgtuHDh6txmiyTjwD5oQIaQEYLjiZacAAAAAAAACAiJKABqGqrBUcLLTgAAAAAAAAQERLQAFQNQwgBAAAAAABQAiSgAajqzukKaFpwAAAAAAAAICokoAGo2ur0SwEtOAAAAAAAABAVEtAAMiqgacEBAAAAAACAqJCABuDpAU0FNAAAAAAAAKJBAhpARgsOKqABAAAAAAAQFRLQAGjBAQAAAAAAgJIgAQ2AFhwAAAAAAAAoCRLQADwJaCqgAQAAAAAAEA0S0ABUTVW6BUfLBhLQAAAAAAAAiAYJaACq2q6AbqEFBwAAAAAAAKJBAhpARguOJlpwAAAAAAAAICIkoAFktOCgBzQAAAAAAACiQgIagKrunH4paN1ACw4AAAAAAABEgwQ0AM8QQhLQAAAAAAAAiAYJaACqqrOVgKYFBwAAAAAAACJCAhqAqraGEFIBDQAAAAAAgKiQgAagqjMqoElAAwAAAAAAIBokoAGoanpAAwAAAAAAoARIQAPwVEDTAxoAAAAAAADRIAENQFV1pgc0AAAAAAAAokcCGoCqyWjBQQU0AAAAAAAAokECGoCqslpwtFIBDQAAAAAAgIiQgAagaqwWHM2tJKABAAAAAAAQDRLQAKiABgAAAAAAQEmQgAagqjN6QJOABgAAAAAAQDRIQANQ1VYLjkkLVpsVAAAAAAAAUBwS0ABUc+sGs1Jq1rI6swIAAAAAAACKQwIagPpsdYNZAQAAAAAAANEhAQ1A1Vg9oMX6plazAgAAAAAAAApHAhqA6tml2qySVtQ3mRUAAAAAAABQOBLQANQpe29lVklUQAMAAAAAACAKJKABqK41VWpI/+7mnlJNLemhhAAAAAAAAEChSEADSOjdrcaslGpqJQENAAAAAACA4pGABpBQW5V+OaACGgAAAAAAAFEgAQ0gobaaBDQAAAAAAACiRQIaQEJGArqVIYQAAAAAAAAoHgloAAm04AAAAAAAAEDUSEADSLAroBtJQAMAAAAAACACJKABJNADGgAAAAAAAFEjAQ0goQsV0AAAAAAAAIgYCWgACfSABgAAAAAAQNRIQANIyGjB0UoCGgAAAAAAAMUjAQ0ggR7QAAAAAAAAiBoJaAAJtVVVZkUCGgAAAAAAANEgAQ0ggRYcAAAAAAAAiBoJaAAJtOAAAAAAAABA1EhAA0iwE9CNJKABAAAAAAAQARLQABK6VFEBDQAAAAAAgGiRgAaQQA9oAAAAAAAARI0ENICEzB7QrWYFAAAAAAAAFI4ENICEWlpwAAAAAAAAIGIkoAEk0IIDAAAAAAAAUSMBDSAhswUHCWgAQGmtXt+s/v3BPDVnWZ15BAAAAEAckYAGkEACGgBQTr/5z0fqoic+Uqf/813edwAAAIAYIwENIMHuAd1IIgAAUGLPfbwocbt4TaN6b/byxBoAAABA/JCABpDQxaqAXrO+2awAACi99U2tZgUAAAAgbkhAA0iwW3AsXN1gVgAAlF5z60azAgAAABA3JKABJGz0nPtv2EAyAABQHi0baP0EAAAAxBUJaAAJ/XvWmlVSUyvJAABAebRQAQ0AAADEFgloAAm9utaYVVIzCWgAQJm0susGAAAAiC0S0AA+16d7OglNP04AQLk004IDAAAAiC0S0AA+V1uVfkmgAhoAUC5UQAMAAADxRQIawOdqrAR0UwsJaABAedADGgAAAIgvEtAAPldbbSWgqYAGAJQJu24AAACA+CIBDeBztOAAALSHV6cuMSsAAAAAcUMCGsDnaqo7mRUtOACgHOS1dunaRnPPXesaWswKQJw1NLeqGUvWmnsAAMAVJKABfM7uAU0FNACU1vqmVnXkDa+rEde+op4ev8A86qY9B/cxKwBxJRfcjv7zG+qYG99Uf39jpnkUAAC4gAQ0gM/ZLTiaWhgIBQCldM87s9WCVevVBv1ye+Ej482jbmpsaTUrAHH13wkLE6954vrnpyZuAQCAG0hAV75BOu7WsVCH7OGdo+MvOvrqyEc/HfJ18vVyHDmeHFeO70eeJxlKv1ikI8hBOp7TsUJHvY6PdPxMR5UOtDN7CCEV0ABQWrTeSPvPOLcrwAEX1DfRagcAAFeRgK5s2+kYq+MsHe/ruEnHLB0X6nhXR38dYcjz5PnydbIfTo4jx5PjyvGH6vCzWseVPnGDDj9f1vGmjsN0PKnjNh21OuT3e0QH2pndgoMe0ABQWtWd0333ASDuPlvdYFYAAMA1JKAr2+06NtVxgY5TdFys4ygdktDdUcc1OsK4VscOOuTrjtYhx5HjSUJaji+/j59VOq7wCb8EdG8dd+iQPbZH6DhHx6917KVDkt9f1fENHWhHNVXpZAgV0ABQWtXWRT8AiLuu1Wx4BADAVZz5VC6pSj5Oh7TCkEpi2+U66nScqaOHPJCF/Lo8T54vX2e7VYcc/3gdQVXQYUmCeaAOqXQeIw8YUgrx2+RS/cjcop3UWicGTSSgAaCkqIAG4JL9huTbIRAAAMQFCejKJZXO4iUd3kzhWh1v6+iu4wB5IIsDdXTTIc+Xr7PJceX44khza+ui49s6LtEh1dLynKDShtSf9wVza5O2HNIPWvpDyzHRTuwKaFpwAEBpVXfmYxgAd7DrAwAAd/EpoHJJiw0x3dx6fWJupbVGNsUcZ3Md9+uQVh8ywHCkDnn+4Tq8sv0+MpFkto5qHcVWWqMItdaJQXOrzJMEAJRKtXXRz3UDe3H9GYg7b/5540Y+awIA4AoS0JVrE3MrgwD9pB7vY26DFHqce3RIv2hJQksbj911/EPHEB3P69hThy2qP6+QwYh+sZMOFKG2Ov2SMGlh0D8VACAK9q4T123YQCIKiL/M17xWfu4BAHAGCej4Sn3CK/aTXdBxrtQhFc+LdUj7jIk6fqjjRh3S0kOGEeYjqj8virBmfbNZKfXge3PNCgBQCrTgSGshEQU4h597AADcwZlP5UqVp6Yqi716m9tcZaxRHSfl7+b2MHObEuXvMzwgpupAESZ/tsasAAClRgV0GpWQgHv4uQcAwB0koCvXNHMb1ON5e3Mb1Ns5JarjpCwxt9KWw5bt95Hez9vqkF7Qs+QBtI8qqvEAoGwYyJW2rlE+AgBwSSs9oAEAcAZnPpXrNXN7nA7vv2MvHQfrWK9jtDyQhfy6PE+eL19nk+PK8UXq98vlQHPrTSRLuw5xgrm1SbV0dx3v6GiUB9A+GAYDAOVT3ZkKaADuamXgNQAAziABXblm6nhJhwz9O18esEh/ZqlA/peOOnnAkCF93kF963Tcr0Oe7+3b/BMdcvwXddgJ5V119EsuM2yj49bkUj1gblMe17FMxzd07CsPGF11XJ1cqr+ZWwAAYq+GCugMbMcH3EIPaAAA3MGZT2X7sQ5peXGLjqd0XKdDKo1/rkNaZlyqwzbFhNclOuT5v9Dxqg45jhzvZh1yfG+C+2s6Fup4XsftOv6gQxLM0oN5mI7ndNygwybNhc/TUaXjdR136vijjvE6pGpavv5RHWhHvzlxZ7NKIhkAAKVTRQV0hqaWDWYFIJ4yP1fyORMAAHeQgK5sUgUt1cT36hih45c6ttMhCWlJ6i7XEYY8T54vXycJZDmOHO8eHTLcT34fm7TjeFKH9G0+Q4ckrg/XMUrHd3WcrKNJh5ckteV5b+o4TcdPdTTrkK+Xymg+hbazw7YfYFZJza0kAwCgVGjBkamJ9xzAKS0b+JkHAMAVJKAr3zwdZ+nYQketDmmDcaGOFTq85Ew36GxXni9fJ18vx5Hjna1jvg6vN3R8U4e08+ijo0bHQB3H6pC2H9kSyW/rOFFHXx3ddOyu4yYdrTrQzjp16qR61EqRehIJaAAoHe8QQtf68G+xiXThSuM9B3AL+WcAANxBAhpAhprq9MtCM8NhAKBkvAXQrvdDJQENuIUKaAAA3EECGkAGeygWyQAAKB/X+6HSAxpwCz2gAQBwBwloABlqrQQ0yQAAKB/XL/px0RNwi+u7PgAAcAkJaAAZaqrSe8JJBgBA+bQ43vaoqYVkFOASKqABAHAHCWgAGTJbcHBiAADl0ux4P1QuegJuIQENAIA7SEADyEAPaABoH85XQPOeAziFFhwAALiDBDSADDXV6ZcFkgEAUD6uJ6CbmTsAOIUKaAAA3EECGkCGWqsHtOvJEAAoJ9dbcHDRE3BLi+OveQAAuIQENIAMtOAAgPbh+kW/huZWswLgAiqgAQBwBwloABnsBDTVaABQPq5f9KtrJAENuIQENAAA7iABDSBDRgU0/TgBoGQ2enIvrg/kYjs+EG/e1zwS0AAAuIMENIAMtdXpHtDN9IAGgLJpcawC2puM4j0HcIvrF90AAHAJCWgAGegBDQDtw/UELNWQgFsYdg0AgDtIQAPIQA9oAGgfS9Y2mJWbqIYE3ELbHQAA3EECGkAGOwHdSA9oACib3z09yazc5FoLEsB1tN0BAMAdJKABZOhWU2VWSs1eWmdWAIBSW72+2azcRAU04BYuOgEA4A4S0AAydK1Jvyzc/fZsswIAoLToAQ24pZmfeQAAnEECGkCG+qZWswIAoHyogAbc0kyrNwAAnEECGkCGXl2rzSppPQlpAEAZsB0fcAtDCAEAcAcJaAAZulo9oMWydY1mBQBA6dCCA3ALQwgBAHAHCWgAGWqrMl8WGtkeCQAoA1pwAG5pIQENAIAzSEADyNDFGkIoGltowQEA5eC9AOgaKqABtzTTdgcAAGeQgAaQoU/3WrNKogIaAMrj0O0HmJWbSEYBbmmmBzQAAM4gAQ0gw6C+3cwqqbGZkwMAKAVvvW+z4xXAbMcH3MLPPAAA7iABDSDD3oP7mFUSLTgAoDyaHH+9pRoSiLc2F93Y9QAAgDNIQAPI0KlTJ3XMzpuZe7TgAIByaXasGnCjJx3VxPsN4BTXXvMAAHAZCWgAbXS1BhGSgAaA8mhodrsCmgQ04JYpn60xKwAAEHckoAG00aW6yqxIiABAuXy2usGs3MR2fMAt4+et4sITAACOIAENoI0uVEADQNmtqm9SGze6uyW9iQQ04Jxpi9aaFQAAiDMS0ADa6FJtJaCpgAaAstiw0e2Lfs0t9IMFXFNT3cmsAABAnJGABtCG3YKDCmgAKB+X2x41UgENOKeT/h8AAIg/EtAA2siogC5jAloSL2fcMVoddcPratLC1eZRAHBHfZO7CWh6wQLu4eceAAA3kIAG0IbdA3ru8jqzKr1735mj3pm5XM1aVqe+ded75lEAcIfLCWiGEALuofc7AABuIAENoI2uVguOp8YvNKvSmzBvlVnJMK5mswIAd6ynAhqAQ/i5BwDADSSgAbSxeG2DWZVX15p04hsAXLTe4R7QVEAD7uHnHgAAN5CABtDGXoP6mFV51VQxiAaA2+qbWszKPVRCAu4hAQ0AgBtIQANo49AdBppVeVVX8ZIEwB0bN240q7RFq9tnB0pHsLyuyffvBEB8ceEJAAA3kO0B0EY3TyuMGUvWmVVp1ZKABuC4a56dYlZu+mj+arMCEDd+15cYQggAgBvI9gBoo6pzZiuMK/47yaxKq9rz+wKAa9Y2utuCQ6xz/L8fcA0V0AAAuIEENICclpRpKCEtOADAHX7VkD26VJsVABc0t9J2BwAAF5DtAZDT9MXlacHBEEIAcBsDyQC3NLW0mhUAAIgzEtAAOozqzrwkAYDL2I4PuIUKaAAA3EC2B0BOp+6zlVmVVk01FdAA0OJwFTAJaMAtDCEEAMANJKAB+Prq8EFmpdR2A3uaVWnVUAENAOpf735qVu4hGQW4hYtOAAC4gWwPAF9bbtLVrMrXk5Me0ACg1OTP1piVe0hGAW6h7zsAAG4gAQ3AV01V+uWhpUz9+aqt3xMAXLXR4ZaoJKMAt3DRCQAAN5DtAeDLTgZTAQ0A5bNR/89VJKMAt3DRCQAAN5CABuDLTgaXqydnlacHdOsGJqMDcM8+W/c1K/eQjALcMnNpnVkBAIA4IwENwJfdguPh9+eaVXmRiADgos6d3N0N0kgFNOCUUTOWmRUAAIgzEtAAfL0xfalZKdXQ3D4JgRYqoAHEWNArnMsX35rLNHMAAAAAQPmQgAbga+TUJWbVflqogAbgIJcT0PSABuJro8sTVgEAcBwJaAC+Rmzbz6zaT7l6TwNAR+JyFTCtlwC3DB3Qw6wAAECckYAG4OvonTc1q/bTwlZsAA5yJQnr9wrPhUfALfVNrWYFAADijAQ0AF/fPmAbs2o/VMIBcBEtOAC4or6pxawAAECckYAG4KtLdZVZKdWpk1mUmLc3IMOoALjI5dc+KqABt6xvpgIaAAAXkIAG4KuzlXSWvHDrhvInRCYuWG1WAOAOKqABuEIuuLHjDQCA+CMBDcBXJ0/Z84dzV5pV+Vz3/BSzAgB3tJCABuCQBqqgAQCIPRLQAEJZWd9sVuVz4ND+ZgUA7mhyuQUHCWjAObRcAwAg/khAAwilX49asyqfYZv2NCsAcIfTLTjYig84hxYcAADEHwloAIG616YHESpV/uoUKuEAuMjlFhyNLWzFB1zD5z0AAOKPBDSAQLtvtYlZKdXYXP6Tg0YqYgA4yOXt6CSiAPdQAQ0AQPyRgAYQqEtNugK6PZLBzS30BATgHpfbUJCABtxDD2gAAOKPBDSAQLVV6ZeIciQFvKcfTa1sxQYQXxutF72qzp3MSqnWDe4mYxpJQAPOoQIaAID4IwENIFCX6vRLRHskBaiEA+CKaisB7fQQQl73Aed8OHelWQEAgLgiAQ0gkJ2Abo+kAIkIAK6osXactDi8Hb2hmZ0vQFwFvbJd9vQkswIAAHFFAhpAoNr2TkCzJROAI6qr0hXQLRvcfe1bTwIaAAAAiB0S0AACZSagy58UaGIIIQBHVHdOv966MpDL7oGd0tDMhUcAAAAgbkhAAwhkDyF885NlZlU+VEADcEUNFdAJUgG90S8zDQAAAKBikYAGEGjC/FVmpdTIqUvMqnwamtiKDcANVdYQQpd7QIv2GHoLAAAAoHRIQAMItGDlerMqE0/OZV1ji1kBQLzZQwibHd/9sZ6LjwAAAECskIAGEKhn12qzah+uJ2EAuKPaqoBu3eB2BXRdExcfAZd8ea8tzQoAAMQVCejKN0jH3ToW6mjUMUfHX3T01ZGPfjrk6+Tr5ThyPDmuHD+MM3XIGbPEufKAxxE6Ur/uF9frQAdTZQ3Fag8koAG4ojqjAlreFt01qh1mDgBoP7R9BwAg/khAV7btdIzVcZaO93XcpGOWjgt1vKujv44w5HnyfPm6mTrkOHI8Oa4cf6iObAbr+KuOdYl72b2h40qfeEUHOpit+3Uzq6SJC1abVXm4noQB4A6GEKb17lZjVgBc8N8JUvcCAADijAR0Zbtdx6Y6LtBxio6LdRylQxLIO+q4RkcY1+rYQYd83dE65DhyPElIy/Hl9wkiZ8z36Fiu4+/yQA6v67jCJ0hAd0CXnriLWSW9VuZBhAyiAuAKuwWHixfftt+0p1kp1aWaj6cAAABAnPAJv3JJVfJxOqRlxm3ygOVyHXU6pC1GD3kgC/l1eZ48X77OdqsOOf7xOoKqoCX5LUlvqZaWYyBGBnsqoOubyzsYihYcAFzRpbrKrJRqcvDiWy9r5gCv/QAAAEC8kICuXJL0FS/p8J6prdXxto7uOg6QB7I4UIdkGeX58nU2Oa4cXxxpbm0765DezTfreFMeCGGYjp/ouETH2Tq214EOqlOndEWeWN9EAhoAopOudO5Sk/5I1thS3tfajqDG6oHdRPslIPa616YvugEAgPgjAV25pMWGmG5uvT4xt9JaI5tCjyOlSvfrmKtDkslhfUuH9IuW9iB36ZDf93Ed+Q5NRDu49x0piC+djVYyRpCABuCKWs8QwtYNbiVha622G820XwJib/PeXc1KqZ5d0jsgAABAPJGArlybmNugqXCpx/uY2yCFHud3OvbW8T0d6+WBHJbqkN7Su+vopWOgji/o+FDHaTqe0RH2+1EGI/rFTjoQI5KE2chodAAOkA0ndu9j19pw2BXQXHwE4sn+SGdfdPJsuAMAADFEAjq+Uh/lis3e+R1nfx1S9fxnHe/KAyFM0vEHHRN1rNOxTMcLOo7QMVvHwTq+qAPI4OIwLgBushPQrrXhqKlKZ6CaSEADsZex64GfeQAAYo8EdOVKVSanKpi9epvboMrmlHyPk2q9Ia0zLpMHirRGx0PJpTrM3OYyPCCm6kDMcFICwBVdatI9URsdroB2cQgj4Bq77RA/8wAAxB8J6Mo1zdwG9XhODfcL6u2cku9xeuqQ58oAwgYdUp6aist1iDt0yP2/JO7lJu05RA9zC3yOBDQAV2RUQDe78NqX3uHi7YENIN6qOndS+v8J0vK+hc97AADEGgnoyvWauT1Oh/ffUXosS0sL6c08Wh7IQn5dnifPl6+zyXHl+CL1+zXqkOGBfiH9nMUoHXI/bHuOA8ztLHMLfI6t2ABc4XILDrbjA+7J2PnAzz0AALHmTVyicszU8ZKOITrOlwcsV+qQauJ/6aiTBwwZ0ucd1Cf9mKWlhjz/CnnA8hMdcvwXdaSSw5KsPjcg/qtD3KdD7j+auJckCW6/77dv6zhdR5OOf8sDgI1KOACu6FLtbgsOEtCAezJ+7lv4vAcAQJyRgK5sP9axRMctOp7ScZ2OkTp+rkNaZlyqwzbFhJcMFJTn/0LHqzrkOHK8m3XI8b0J7kI8qGOOjkd03KDjVh3v6ZDkt5R5/UCH/Do6mKu+vKtZJU1eKG27y6eZvoAAHNGtNp2Arm9yqwJ6RZ1ch056fuIiswIQZxm7Plrdes0DAMA1JKArm1RB76vjXh0jdPxSx3Y6JCF9oI7lOsKQ58nz5euG6ZDjyPHu0SHD/eT3KdbfdEi/aamEloS2VEgP0CF/9tR/Azqgr+wzyKySZi6VovnS2OhT/EIlHABXbNKtxqyUWr2+2azcMHtZesPWjCWle58B0HEwiBAAAHeQgK5883ScpWMLHbU6ttFxoY4VOrxk1IcZ99GGPF++Tr5ejiPHO1vHfB1hSQsPOf6diXuZ/qDjWB2DdXTT0VWHJMvlzz5BBzqorlZ1itjglyUuIXoCAnCFXQ3o2sW3Edv2NysArrBbcJCABgAg3khAA8iq2qpOEeU+QWhoZksmADfYA7lcS0B/MMfvujmAOMt8zaMHNAAAcUYCGkBe1pc5IVzXSAIagBvsZIxr1YBDB8osZAAuoQIaAAB3kIAGkBe7R2k51DW2mBUAxIu3o1FtdbpLVssGt6oBT99XOnSlzV9Zb1YA4iojAc0QQgAAYo0ENICcqjunkyLda6vNqjzWkYAG4IBO+n8ut+DoWltlVkmL1zSaFYC4yhxCSAsOAADijAQ0gJyO3WUzsyp/UoQKaACucLkFh52IEhvLPPAWQOlt1P+zZVZA04IDAIA4IwENIKdyVeX5pRvqmtiSCcAN1VXp3SauDeSy32dEq2MtSADXdNIvd5kV0CSgAQCIMxLQAHJqz6QILTgAuMJOxrjWgqPGep8R5J+B+GMIIQAA7iABDSAnOynS0FzeimRacABwhWs9oO0uG94KaFpwAPFnJ6Bdu+gGAIBrSEADyMlODPz2qYlmVR71tOAA4Aj7tda1fqh2IkpQAQ3EHy04AABwBwloADmt91Q9l7M3Z30TFdAA3GC3oWhucSsD21kawlqaN5CMAuKuxrrw1EgFNAAAsUYCGkBO3p3Q5UwKUwENwBUub0f35J9VlfcBALFDBTQAAO4gAQ0gb96K6FKqbyQBDcANrvWABuC2LvSABgDAGSSgAeS0Uf/Ptr6MVcl1tOAA4AiXe0CLw3cYaFblbfUEoH3Yuz6ogAYAIN5IQAPIzZMH+Ne7n5pVtLytPkQ5k90A0J4yekC3upeAzfzvJxkFxB0tOAAAcAcJaAC5eVpx3jVqtlmVHhXQAFxhJ2OaHUzGVHdO//dTAQ3Enz2E0MVdHwAAuIQENICc2nMYVCMVMQBiyptidb0HdENLesfLa9OWmBWAuLIvtP3zzVlmBQAA4ogENICcqq1t0SnzV9abVWmxJROAC+Q6n+vVgK9PW2pWSv17zHyzQhytaWhWT4ydrxasWm8egYvenrnMrAAAQNyRgAaQU2efCuj5K8tz0kgCGoAr6IEMV5x8yyj1y8cmqIOvH5lIRsNNp+4zyKwAAEDckYAGkNPp+w02q7RytcZo2bBRbaAXKAAHZPSAdnAIoddaEpOxtHHjRjV3RXoX1fkPjjMrxJ7nZW2vwX3MSqntBvYwKwAAEEckoAHktMeg9AlCyuVPTzSr0vsxJ6cAHOB6D2ivK/472awQJyvqmswq6a1PaMPgok76f12rq8w9LroBABB3JKABhPLWRUeaVdKc5dH3gN7YZiRX0guTFpkVAMSXnYCm/ZBST4yjD3QcVXfm9ANJXWrS3wt2VTwAAIgfPgECCGVwv+5m1T7mcWICIOZqq93qAU29o5u8+eeDtutvVnBNF2vwqliytsGsAABA3JCABlAR6ptazQoA4qm2Kr0dvVx99jsKSb3XepJRiKdOnsHGw7fpa1ZwTRerBYdYtjazPQsAAIgPPukDKJgMEiqXVgYRAoi5rtZ2dNcS0KKc7ynoODp7EtJwh/eiE98KAADEFwloAKE98aMDzSqpnANjNpCYABBzXWrS1YANze7t+rjx63uZFVzCBWZ3VXXOzDi3MIgQAIDYIgENILTh2/Qzq6SmMvYobeEEFUDM2f1QG5vdq4A+YbfN1U+OHGbuKbVVn25mhTjj/d1te2/dx6zK+7kSAACUFwloAHnZpFuNWSn1yeK1ZlV6rRs4KQEQb5KATm1Bl0SMa5WhNVWd1XcO2sbcIxkVV95WKy38OztNfu5TXBi+CgCAq0hAA8jL6vXNZqXUef8aY1bR23/bzGprF/uhAnCLDGezc3Nj5qwwK3fUWsmoJl73nUAFtNvsnR/8zAMAEF8koAEUbNm6aKeV24mX7Qb2NKukt2csMysAiIdcre2vfW6KWbmDakj30APabfzMAwDgBhLQADok7yT0+9/91KwAIH68r3liwvzVZuUOklHuoQLabTVV6Rc/fuYBAIgvEtAAOqy+3dP9ps89dKhZAQDiKjMZtbFNv2DEDzMe3GZfdGrSP/MAACCeSEAD6LD69+xiVkq9NHmRWQEA4kr6YHuT0Ig3KqDd4fcvXd/UalZKzV5aZ1YAACBuSEAD6LBmLFlnVkpNXLDGrAAAcZYxiJAt+bFHD2g3pdoOjZy6JLnQbnplulkBAIC4IQENoMM6ZudNzUqpnTbvZVYAEF9DB/YwK3d1rakyK6UamtPVkYgHb7q5hSp3AACA2CMBDaDDOn7Xzc1KqV226G1WABBfl3xhZ7NyV7fadAK6vpEEdNy10AMaAAAg9khAA+gwvDVQdhXcy5MXqw1s0wUQcwcN629W8hoY749pQQMGe9RWm5VSdU0tZoW4ogWH2zqnW74DAIAYIwENIC9D+nc3q6QT/vKmWUVLzke6VKdfotY2tqhnP/7M3IunBavWq2uenaxenMTARcBVNVb/Y5daE8jwwZTuXawKaBLQsccQQrddf9oeZqXU3lv3MSsAABA3JKAB5OWGr+1pVklTF61VM5emhwVGya6AFj99+EOziqdfPzZB3fHWbPWD+8eqeSvqzaMAXFJtlQNKYi6oSjjO7Aro+iZacMTdpIUMGXbZoD7dzEp/7qvO/NwHAADigwQ0gLwMGdB2QNaMJaVJQNsV0C54Z+Zys1LqpcmLzQqAS6QSuKYqnYRudnBAm90Duo4e0LG3dG2jWtPQbO7BNTXWZ73mVvqBAwAQVySgAeSlf49as0qrtbaMC+nV/OB7n6rbX59R1PbpLp4KaJe0cBIGOMtOOrs4oK2HlYBe10gLDhec/+A4s4Jr7M+QTXz2AQAgtkhAA8iL3aczpcozQeblKYvVpU9OVH98YZr6xxuzzKP5W7KmwazcQxUQALGy3r3K0Pkr15uVUve/O8esEGdvfbLMrOAau+99UwuffQAAiCsS0ACK1urpUXrDi9PMSqmbX/3ErPI3dGDbdh9SXe2CufSABmJvo/5fLm9OX2pW7hjz6UqzUmrC/NVmhbhwsK05sqitThcxUAENAEB8kYAGULTG5swTBp8i6XA8Z6XbDexpVmmLHKmKdrHqEXBZJ/0/P8M2bfs66JrZy+rMCkDc1FalW+6w+wsAgPgiAQ0gb96ez40tmUOiothCKUlsv3YfjY5sz9x5i95mBcA1u26Z/vl3ZdeH7cwDtjGrpJ88RH9gIK5q7ApoWnAAABBbJKAB5M+TF/YmhecsL137iIbmzGR3XG1kjzLgrL7d08NeXdySfvp+g80qadLCNWYFoJL5fbSxixrsAawAACBeSEADyJu3QqWcVcmuVECvb3Ij0Q6grdrq9MczFysCe3SpNisAcZXa5FZjvd41O/h6BwCAK0hAAyhargRJlFvIXamAbvC0NQHgjpoqt7ek2wl4uIOdP26yK6Ab6QENAEBs8QkfQN5+ffyOZpXk7QHtVUzV8habdDWrJGcS0J7BjgDcUVudHsrlYguOLiSgnUT7BTfVZLTg2MCFCAAAYopP+ADydt6hQ9XW/bqbe0otXt1gVv7qm1rMKn/3nb2/WSW5kphd70iiHUBbGRWBMa6ADkoz9aQFR7wF/MO7eLEFSlV17pQIIbnnFgcHrwIA4AIS0ADyJtujvzp8kLmn1H3vfpq1YmX1+mazyt8Om/VSX9xzS3Mve7X1zKXr1PkPjVP/fHOmeaRyNdADGnCW3YJCKgJdYM+2pQLaTS62m0FS5iBCvg8AAIgjPuEDKMjjY+ebVVKdlTD1ts1YWR8uAR2Uwg7bD/UXj45Xz370mbr2ualq7KcrzKOViR7QgLtqHe8B3Sk1ncwyb0W9WSGuSDy6y/W+9wAAuIAENICCzPUkA1rNlsnFaxrUZ56WHIWcTHSy6uHsarhsPSInzF9tVkq9NGmxWVWm9VRAA86yK6BJxiT9/NHxZoW44nvdXa73vQcAwAUkoAEUZHC/bmaV1GJOGC5/elLi1lbsyYS9NbMpZGXw8xMXmVVlYggh4K4uVjLG3l3isjGfrjQrxFWc+50jO9d3fQAA4AIS0AAKcvEJO5tVUmpozAuT2iZ+m4s8mbArql+bttSsstuqT2aCvNLQggNwV98etWal1Kr6JrNyy0s/P8ys4Iola7IPNEZ81YTc6QYAACoXCWgABenfM50gEbeOnBE4IHDa4rVmVZiXJqfbabwxPVwCulfXarOqTAwhBOIvaHZrt5p0BbSryRgZQAu3/P5/k80KrmEIIQAA8UcCGkBBOnuGRN0/+lP10Htzzb1Mf3pxmlkVZq/BfcwqPDtpXYka2IIKuMV6Sa22tqOTjIErpi4q7mI1KldNRqs1XvMAAIgjEtAACtI5M/+ccOUzpaleOmPE1maVn3meQYmVhCGEgLvsasDHx85Xq9c3m3tA5duo/wfYMgavctENAIBYIgENoCCdPBXQUQjajj5/5Xqzys/Nr35iVpWHHtAAUq6mNUFCq5k1gHga0r+7WcE1mcOmSUADABBHJKABFGRjULY4InZ+u3ttuh9qkLnL21Y777BZT7OqDNVWWbn89Zb67xhAx/TEuPlmlfSiz3BXFzU0c2Euzr6w+xZmhbgKqn63K6BpOwQAQDyRgAZQkK7WkKxSG7FtP7MKduGjH5pVWo8ulTWI0O77KtiGCripi5WMEWsaWszKLVOvOsGskkhAx1szla9O6WQ1vq+xPv9QAQ0AQDyRgAZQkF237G1WpbfnoMwhhH6VwR/OXWVWaS9MrOyqwYYmTsIAF1136h5m5Ta50LlVn27mnlL19MaPNVpPucseQkgFNAAA8UQCGkBB8u0BXUw7ic6dO2X2Bwx5cvLWJ8vMqjKtp9oPcNLAXl3MCj26pHfbrHW0EtwVDc0kHl1lt+BopAIaAIBYIgENoGAPnDPCrHIrtoepvSU9ricn3hz99MVrzQoA4ifMdcku1ekENJWR8Ubi0V12kUFza+EFCwAAoOMiAV1+O+n4uY4f6NhEHgAq1SHbDzCr3G57baZZFaZLjZWApkoKgGNW1jWZVTwFbaqxe8OSgI6HoAsP9Ph2F0MIAQCIPxLQpfM7HZ/psKenHaNDJqXdoON2HeN09NcBxN5JexQ33d6ugmt0pE/klM/WmBUA11z+xV3MKumKZyaZlVvs3rAMZo03EtDuyvg5pxIeAIBYIgFdOl/QMVXHisS9pOt0SN3H5Tr+pmNbHRfqACrWAUPtayyZ9h+S/rV+PWrNKli2PtF+LThmL6tTq+ubE+s4uu75qUX1zgZQuXbeInPQ69PjF5qVWzIrI3k9jDNacLiLCmgAAOKPBHTpDNExJblM2ErHcB1S+Xy1jp/oGKnjFB1Axfrz1/cyq7a2HdDDrKRtRn6VTd7d2BkDapo3qN8+9bE68obX1Z6/f0nNWVZnfiV+OCEH3GRfdHNZi5V0vvft2WaFOMr3cwLiw66A5nMPAADxxNlN6fTVYVc/H6xDzqL+l7iXNFbH1sklUJm26tPNrNrq0aXarIo/oViwcr1ZKfX0hAXqgdFzzT2ljrjhdbOqbH61fZyIAfGVrZ7XvujmsndnLTcrpV6bttSsEEcNzHdwVi293gEAiD3ObkpHzpKk6jnlSB3SK+C9xL0k6UnAvwEq3qPfP8CsMnW1BgcW29txbWOLWSn1jzdmmVV2fbrXmFXlWhHzwWMAkry7Puy+94ALXJnvgLbsC270gAYAIJ5IfpbOeB1f0rGbjmE6TtcxSke6jDPZpkMGFQIVbcRQ/1madgLFTiCXS107/J5R+9OL0koegHvodwy3UAHtLrsFx6gZy8wKAADECQno0vmjjk10TNAxzaz/rCOlq44jdIxJ3ANiqEeXdAJaqpaLqWoZsW16oOFOm/cyK381ZiunDKyq9IqqN9hyDjhpYE/5mADET9CllQYqoJ21zioY+Gj+arWmIb4DpgEAcBUJ6NJ5S8fJOp7S8aSOr+p4XkfKQTrm6JBfAyre7lvJNZZM/XtKl5m0x8bOM6v8nXPItmalVK+u6d7SfrrWpBPfDU2VXVFV19SqNm6kEhJwzSY+LYRaHOyNummvLmaV9Ony+A6ddZF3wDDiLejjzL1vyylR2odzV5kVAACICxLQpfWCjtN0SPLZm2geqWNvHY8n7hVukI67dSzU0ahDPsH9RYcMQcyHlJfK18nXy3HkeHJcOX4YZ+qQj5US58oDASQpLxPjVutYp0N6Yn9XByrcLd+Ub+c0qVju1SUzgbIyRz/jbGnWbrXppPIHc1aalb8u9glta+VXVL0xnSpowEWdPY2hmxxMQP/563uaVdIrU5aYFeKgq/V+LRXQXHB1Ryfr9a1lQ+a/e433xQ8AAFQ8EtDtQ5LDPZLLomynY6yOs3S8r+MmHTKd7UId7+rwb8zbljxPni9fN1OHHEeOJ8eV4w/Vkc1gHX/VIQnlbH6i4xkd0hf7AR136NhSx706btCBCrbFJpnbxf9w2h6qR5fMSmXP+cXn7h/9qTr3vjHq4/lyXSKpk31mouUzkKvW6iUobTgqRsAfdc4yKv4AFz1wzgizSnJxOFf/HpkV0IiXqs6dPm+bJblnFy+yQKlLT9rZrAzyzwAAxA4J6NI5Wof0gbYrkTfV8YYOma6xQseNOopxuw455gU6TtFxsY6jdEgCeUcd1+gI41odO+iQr5M/txxHjicJaTm+/D5B5CPiPTqW6/i7PBBABi5Kkln+u/fVcb6On+vYQ4ckvX+p40AdqFD2ABmxZZ9ubVpl+BU2LVy1Xl321ET1ypTF6j8fLjCPtmVXNedSE7Np6iPpAw046aBhA9QAq5WRiwloe/eLMLlKxIh9gbnRwe9x6JMWz2yPtxlECABA7JCALp2f6jhVh90rQBKwh+qYoUMStpLg/bqOQkhV8nE6pGXGbfKA5XIdUjIpbTFyVVrLr8vz5PnydbZbdcjxj9cRVAUtyW9Jeku1dLYyzbN1SBlT6pgp8vcjCXDxQ3OLCiRVTDapaOrpqYCe49O7c9qitWaVXZea8C9XmRXQlX8y+yYtOABn2a9nLibnth2Q+TGmkja1IJyu1vt7QzODCF3U6tkid9trUpsCAADihAR06UjTwlHJZUI3HdIL+mUdUp0sIRPZCk26StJXvKTDe0YqGb23dXTXcYA8kIVUHcufTZ7vzQTKceX44khza5P9ctfruFnHm/JAFqk/r/TF9koNZ0w9BxXqke8foE7dZyv10HkjEi00enoqoJ80Fc7S4/Gcez9Qe//+JTUrZHuJ7jXZBw/a7KFGLlYMAoiPjNezmLUnKKTfbw9PRTQqX0YFNIMInTSor5yKAACAOCMBXTrSukIG+aVII0dpkiv9joUke/+nQxLRhUh93XRz6/WJuZXWGtkUehzJBt6vY66OS+SBHLL9Pp/pkCykDDyUpHku0pfaL3bSgXZ0wND+6sav76UO2m5A4r63Ajrlhw+MVa9OXaJW1jerq/432TyanXcbdpCTdt8iox0I23kBVDJXLqh1ytL0dZ+t+5hV8CwBVC57h1NjCxXQLhrUN/Pj/7G7bGZWAAAgLkhAl06jDvtyvrTekNMmu1J4jY5+yWXeNjG36altmVKPp8/a/BV6nN/p2FvH93SslwdyCPv7pJ6HGPDr2ywVby9OWmzuhRc2AX3QsP4ZCZtKasGxMWgKIQBnsaNDqV23TH80uO8du4sXKpG38r2rVQHdQAW0sy46IV2Ts1UfKqIBAIgbEtClM1uH3VLiNB1STWxPWRuso1RTNlKlRMVmtPyOs78OqXr+s4535YEI5PPnHR4QU3WgA5E2HF6L1jSYVX661YRLQHfWv6ed+K7UhM0d35FZnWkr6prMCoBLGNCm1Li56XEa0xaHmxuAyiCfE+gBDdG3e3rg6vomvg8AAIgbEtClc5+O3XW8p+Mts35Ih20fHdOSy7zlqhjubW6DKo5T8j1OqvWGtNK4TB4IKezvI1XhiLGP5uf6lvTnHXIYpEqfzNotOCo1Ab3bVqkfiaRTb5c27QDiJEwPZJJz+gPE+mazQhxxkQWiu7XTrZ4LEQAAxA4J6NL5m45HdEgZ48E6pN/zH3SkSBWxDPF7PXEvf6nEdVCP5+3NbVBv55R8j9NThzxX/uxSyipnz6m4XIe4Q4fc/0viXlK232cLHTLmfr6OenkA8fWD+6Vdd+l07txJ1VoJ6EpqwWGr7pz58jxnOT8aQJz57RgRme0J3EzKhN0Bg8rERRaIrtbPORXQAADEDwno0pFynTN09NUhVb9f1iF9oVNm6ZAeyn9N3Mvfa+b2OB3ef8deOiTpLb2ZR8sDWcivy/Pk+fJ1NjmuHF+kfj/5b7grID7UIUbpkPt2e46R5vYEc2v7grlNPQcomBRK2z1T1za0mFVl6dGFhAuAzKRMg6PVofaQOrGqnpZEcZLxPU4PaGfZFdDrmyvzsxsAAAhGArr0pKWEX8NC6f08QUdh/QiUmqnjJR1DdJwvD1iu1CEVxf/SUScPGDuZsK3TIS015PlXyAOWn+iQ47+oQxLmQpLV5wbEf3UIaT8i9x9N3Eu6R4ckr1PHTJEEvfSTFn83t0DBpFXH1EXpTi4XPfGR2rAh9zb3jsDeje+tgAbgJjv56mp1qPf1cNSMUo3PQHuwE9CNLVS+uiqjBQcV0AAAxA4ZjtLrruPbOmRgn1QF32juS8K3WD/WsUTHLTqe0nGdDqki/rkOaZlxqQ7bFBNekgCW5/9Cx6s65DhyvJt1yPG9Ce5CyFDGX+vop2OMjtt03KTjIx3b6YhyoCE6kKtP2c2sykO2sU9fLNdV0t6ZudysKod3Nz5b0AE31VjJ19YKuZgWtZYNmVWxK+vpCR0n9uBgKqDjLdsrmH0h4sO5q1RLhbZQAwAA/khAl9aJOj7VIRXBkhQ+S8fPzP05Ok7WUQypgpYe0/fqGKHjlzokmSsJ6QN1hM26yfPk+fJ1w3TIceR4UrU8XIf8PlGQdiNf0jFJx3d0fF/HIh3f0/ErHYihI3YcaFb5CTOcy48MIfRats7uflM5zj54W7NSaq/BfcwKgEuqq9KvaS2OJqAvO2kXs0q67KmJZoVK5P0uzmzBQeWrq3rUypzztAffm2tWAAAgDkhAl84+Ov6jQ7JGD+o4W4f0OpZbuS+PP65DErzFmKdDEtsyyK9WxzY6LtSxQoeXnMW2zc4lyfPl6+Tr5ThyPPmzymDAsKSFhxz/zsQ9f8/oOFyH9JuWKvD9dEhCHjFl92POx6I1MuMy07Vf2d2sks49JJ2gTZEe0AcMlUL7tJ89Ol6N/dTvR6JjO2G3zc2qcocpAiiOtBVKaXQ0Obf/tpmv6YgP+e6228w0OtrnHJktOMSYT1eaFQAAiAMS0KUj7S+kyONQHVLtK1XK0ktZbuX+ITrk11P9j4FYsiub8vHipMVmlfblvbY0q6QLjtnerNI6d+6kvnOg3WY86bS/VV6HFzt530QCGnDSJ1ZLoX+PkWvO7pHWSoivLtVUQEOp7l0yK6DHzyMBDQBAnJCALh1JPD+mY3TiXlvv6ZAKaHkeEFu9u9aYVfHsPpGilz5ZueAo6RqTVlvVWfXpnvv3LLTFRznJf0tKE1VhgJPs3SCbdIvu9bTS1FitSBAvXe1BmwwhdJZ31sW8FTL3HAAAxAUJ6NLZREeuUiVpbtY7uQSQS3VVZ3XwsP6J9aHbD0hUxfXsmlkxs1H/L1fV9ahPlqmDrh+pfnj/2A6ViPb+STIqoElAA0765v6DzUqpT5fXm1U85PPqe/M39jYrxE1XqwK6kSGEzrLbDaXMXlZnVgAAoNKRgC6dhTr2Ty4DyQDBz5JLAGHc9d391EPnjVB3fld+fJTq001alqdJPtmuHLZtMAO8vn3Xe+qz1Q3qhUmL1P8+6pg/gom+mFYCmr6YgJuW1zWZlVJL1lbmQNVQchQ477CZjI5IGjpARkggLjJ7QFMBjbSr/jfZrAAAQKUjAV06z+k4SsfFOrzlmPL3/ksdx+iQ5wGxdt6hbYcFFkqqmw/absDnPSMH9u6SuE0ZtmlPFdQudNritWaVNuWzNWbV8dRYiXSGEAJuWmkloEXqQppruCAXX3YFdAMV0E7bqk83s0pas77ZrAAAQKUjAV06V+lYpOMaHTN0/EvHH3Tcp+MTHX/UIb9+tQ4g1vyGAnrtskVvNaBnZjVzGL09LTikTUfngAz0+7NXmFXarKUdd3snQwgBbL5JZkKm3tEhbSSg48tum0UFtNu+c+A2ZpW0YBV9oAEAiAsS0KUjyeWDdbyiQz5NfVvHr3WcqUPKQeXxQ3TQggOxF9ST+bKTd1EDe3VRJ+2xhXrw3BG+/f9y6eUZclijj9HTM0k9Rfooz1uR2UO1tQMPI6QHNIBzDsncQfLMBOnw5Z7M10OSlJXM+7abMYSQCminSRGBTdqlAQCAeCABXVpzdByvQyYIfUmHJJ/lVu7L47N1ALFn93e0nbLXluqDS49Rt52xj+rbo1YN6JnZTiMM79R0SSgP7tddnbj75uaRNCmM9vYT3G9IX7Nqf96BiHYvaxLQQLwFXX7bpFvmRTZXt6SzIySe5H051VJLNDha4Y+kmqr8CxEAAEBlIAFdHgt0/E/Hg+ZW7gPOsLdOpxy+w0DV35Nwvun0vVSqCPres/ZLLnLw9gvs2z3ZxuP2bw1P3NokMV3X1GLuJXXUPEYnfVZun4i1bNj4ee/XWUvXqfvfnaOWrYvxQDIAvgq5UBcH9gU5qZL1XrBD5bIroGmv4rbqzpmfF4/eaVOzAgAAlY4EdHTuLjDu0gHEmp04SLn6lN3MKm2HzXqpt/7vKPXKLw5TR+wY7qSjc+dO6qFzR6gtNumq7vjOvhntPrz9oaWy6tidNzP3kjZ04CSGJKEzqqBbNySGEX7zjtHqsqcnqYse/8j8CoA4O2PE1mal2lxEc4V3a/6sZR23fz/yY79vUwHttk+WZA6LlsIBAAAQDySgo/O9IgKINUmkevlVRQupaB62aS9zL5yDhg1Q7/7maHXsLpnJZW+lYGPzBtXT0zO61VQVd1T2tvO5K+rVpIVr1OI1ycrnkVOXJG4BxFsv62La2gY3E9Be0xdlJqpQuezPAySg3XbP29K9MI2dDgAAxAcJ6OjIlKBCYqgOwDk1PlXRUZOWHraGltZEBbGto5/s2gno4256U7VuyPzzL6cNBxB7vazBqrTeSert6Y2NymX3gKYFR7zlSihv1juzcKC5gxcJAACA8EhAR+fTIgJwjp1YLZU9B/dRBw7tb+4lk83eBHRHOtn1O83yti857W/vmlWSVEQDiLd+PdJJmWXrmszKbd7hjKhc9ucB73s04stvd9zt39rHrJJa+H4AACA2SEADaBflqIAW+2zTx6wkAb1BNXkSzuPmrjSrjiV1WpYrUe/97wEQPwN7pRPQdY204BAr6kjEV6qNnsut9vsc72luG75NP7W11fe5uZUKaAAA4oIENIB2UVPVtvKlFGqr0lt7562oVy2e7Zwfzl1lVh3TwlXrzcqftBUBEG89uqRfx0hAJ33n7vfNCpWtU0YCmh7n+OVxO5gVFfEAAMQJCWgA7cJv62UpzFq2zqyUemzsfN/tnB254sqbMPfqVpNOTAGVikFT2fW0ekBP/oy2O4gXu9WUvOfxeuA2+/uBBDQAAPFBAhpArD0/cZFZJflt55y/st6sKk99ExXQqGzvzlyuRlz7qvr2ne/R7zNA99p0AloqRNfH5eeePCM0746o+Suz7/xBvFXbFyRowQEAQGyQgAYQawN61JpV0h1vzTKrtCuemWxWlWd9MwloVLYz7hytlqxtVKNmLFP3j2Yurx+7Alq8NDnzwlocFLIphurIePDuiOrcuTw7pNAx2RckmvgZBwAgNkhAAyiLp88/2KzKa5A1zEb4VQy/OX2pWbWvQnYdN5KARoWzv+8nzOvYPdnbi90DWrg6mOvMA7Yxq6TtL31erW1oNvdQybbq082spOqVpKPL7CHVVEADABAfJKABlMWeg/uor+y9VaKy5bcn7WweLb0BPTMroCtF2GpAKqARJ3WOtZQJe9Gph9WCQ7ha+XvRCTuaVRpV8/HQpSZ9SuLqBRYk2QlodjkAABAfJKABlM1Np++lPr7ieHXuoUPNI6X3my+UL9ldCnZVmJ+GZk7OEB+x6W1cgGwXnbwtCdY1tJiVW7yJeDFt0VqzQsXwyS8zeA4ptdXp7wVacAAAEB8koAGUVdeazK3kpTbY04Kj0mzau4tZ+WugAhoxIn2gkVtXq1rUJX69gdmiX9lSF16qrb6//Ju6rYuVgG7kIjsAALFBAhoAOrCaztlfpqmABtzTu1uNWaGxhYtwcVBtvdc1b+B9zWVUQAMAEE8koAFA66iVxEMGZK/gHjd3pVkBiLOvDh9kVlQF2uiDHw8yHyKluYXvb5dlVkDz8w0AQFyQgAYAbWoH6yPayexL/u5BQxK3QcbPW2VWAOIsIylD1e/n1jXyd1EKC1atV6f97R015OJn1Q/uH6MWrW4wv1Ia9uC5lg204IirMP+yXarTrdoauRgBAEBskIAGEHs3fn1PswpWlW0CWDvadctN1H9/crC67+z9zSNtbeBkHWX07EefqS/c/Ja65+3Z5pFo8f3sj6RM0un7DjarpG6O9sMutS/9dZQa+2lyh82LkxarA657VbWUsB3C3BX1ZqXU6vXNZoU4C/rUldGCgwQ0AACxwad2ALF36j6D1BM/Osjc81ff1GJWHc8eg/qow3cYaO619dGC1WYFlN75D41TUz5bo658ZrJaVd9kHi3cTpv3Mquk3/9vslnBZg8edDkBfd5hQ80qafSsFWrW0nXmHqLwwsRFanld25/tS5+caFbRm79yvVkp9deRM8wKLsrc7UECGgCAuCABDcAJw7fpa1b+6psqdxv3X16ZblZAeS1bV3wCehPPQL1735ljVrDZFdAdtWd9OQzbtKf69w8ONPeSTrzlLbNCFH74wFizyvTomHlmVVrTFq0xK7io1mrHIkMIN25kVwwAAHFAAhoANL8E9Oxldep/Hy0sONnz+rQl6uePjldjP11hHglWzAnWPltnT64DpdKyofjqNLv3K4J1oQL6c0P6Zw5nbWAoY0Xxe7fba3Afs1JKuvCQdHRX586dMpLQVEEDABAPnPUBgFbnacHxwOhP1ZE3vK5+8tCH6vrnp5pHw5MhYd+75wP15IcL1Gl/e9c8WpwR2/Yzq0z2dlWgnFpaSRKVS8a29JhUQBf63dOra2bVPMrjC7ttblbRSfUBPnaXzcwqadJCqqBdltEHuoS9xwEAQPmQtQDgrG416S3t6z0V0L99Kt3rspCWAGsbMhPaUVRz3fA1/2GKVP+hvTRHkBjYWHAa0i2ZLTji9zOfzxhYux82yieKn/cgXa33Y9HKMFKnrWtMf4Zq5DMOAACxwCd4AM7q16PWrNpWQHu9M3OZWYXTuVNmOiWKLaSD+3VXFx69vbmX1tDibj9Y5G/Dho3q2uemqHPvG6Pmrag3jxamuUQV0KVMdFUquwK6XL14O6pOntdXlEcpL3ysXt9sVknrHe5zjkzTF681KwAAUMlIQANwxsHD+ptV0gnWdmK7AnrZukazSnt35nKzCsfbN9pbYV2oHxw+VP3gsKEZyfOojg03vDxlsfrnm7PUK/r2rHs/MI+G463kj6IHtN/mAFeG7OVT/e39u6ZHLsrNbosQtaVrM993H3xvrlnBdWPmrDQrAABQyUhAA3DGn76abmFx3am7q817dzX3lKprTCe8Rs9qm2zON9fz3MefmVVSrgrrsLrXVqvfnLiz+sWxO5hHkv2mgTAmLlitfnD/WHNPqRlL1plVOHe/ndmOZvqitWrSwtWJauq7Rs02jxbPxerHXDW93mGNDObK5MpFi/ZUyr/jPt0z+3qvbcisiIa79hi8iVkBAIBKRgIagDO27NNNzbz2RDXt6hPUN/ffWnXvYvWAbk4niB/9oO329pYNGzN6Euayqt6znThHlXK+CW67X+a4T1eZFZDdyX8dZVaFuep/k80q6YpnJqtz7h2TqKaWX5MEd778vvfp+dlWtScBTcI1k7fvPqL3zszlJau87+tJQO+7TV+zgouO2Tk9lLKJi20AAMQCCWgATqnq3OnzYV7da9NJ3HorQfzWJ237Pf/9jZlqv6tfUa9NW2IeyW7vrfuYVZJ9/FzCtDedu7zOrJSaRn9EtJOhA3qoRWsazL38W9UEof9rWzX6tcvm+vDRP3uGstKKqDye+Shzd08h/HLY3gr/Ta0dSnBPF2vQ6Jr1zQylBAAgBkhAA3CWtLNIsVtwBJGk2Fn3hOuZ6z1XiqoFR8rOW/Q2q+jJid6MJWuLqnSTr/33mHmJxH19xP/t6DiaPMMCr3luilmF59cHmeretrwJOtf/jk4bPiijbcMxN76R1y4V+JPX7mwXQS94+EOzikbq9zpyx02TC6OR1wCn2UNXf/34R+rQP4z0nc8BAAAqBwloAM6yK6Cj7jfpPVFaF/H28N22Kl1PxO/d87465sY3Eyd9hXpj+lJ1kf7665+fqv7+xizzKOJm/sr1ZhWtfHYMuKK6KjMrSA9opbbp192skhdDbh05w9xDoZpbN/pWKJfakAE91MBeXcw9dkHEVsjvrdROtZSFqxvUlc9ktoACAACVhQQ0AGf175E+2V0acWXN7z0nSt+/f6x6dcpic6949vZUsWBVNInA1eubP29B8vjY+QVve73hpWlmpdQtr35iVig3uRDy5VtHqS/c/FbB3yP5tjbIdyimX7JrsdXWA0m1VEC30c26iCjGz1tpViiUd1fDnd/Z16xK7+v7DjIrWsy4IFulvV0BnTJ2zgqzQqmUqsc7AACCBDQAZ/Xqmm7BMXd5vdoQUY/Bm16e7lu9dc59Y8yqrXx/527WEEJx8PUjzao43mE/hVahTVywxqzQnq55doqaMH+1mvLZGnXR4xMyqv5Tgr7v5UR0yMXPqp1/94LaVYdUtYexZn2LWl7kBR3vEM9SWq1/r3yT5u1h+JDMoWyn//Pdivhzl5LdRklMX7zOrFAou/WFDAY8Zpf0MDivTxavVb/49/jExcoo9OqabqkifX/hLr8EtFRBozSk+EDe77f9zXPqxUmLzKMAAESLBDQAZ3W1krgtGzaqoZc8F6qqsMVTIeZ1c5EVv1mKgj7nTUBHxZvQYrBXZXt5crrq/u0Zy30r2hsCkpivT0snnOv098F3737f3MtOWrgMv/oV9aMHxppHsvNLf5dr+/2oT5apPX//ktrxty+o92d37Oo62ZK+xSbpwWxSISp/bvmZXVXfZB51i/f7eUWdm38PUbJbu3jbIKRI4vmfb85UX7x1lPrPuAXqV49NULOXpQfjFqpHl/QFhfoyvQagY/JLQKN09rzyJbNS6gf3h3vvBgAgX7y7A3BWV08bC3HizW+ZVbC1EfdzLkS1Zzu+iCL54q2Azneb/5qGZvWnF6eae2hv3qFscqHFa8pna80q0+hZy80qP5MWJqvfn5+4KFxi1CcD/VlELWVy+fZd75mVUl//x7tm1XFtO6CHWaVJEnqv37+sRk6NrsVPpQhblY/wMhLQ5j3yspN3SdymHHvTm+ra56ZmtMl4fdoSsypcF+t9zfteBLd0KdFFdoTz68cmOL/DBgAQPRLQAJxlV0CnzApRxZU6QS+0P3KpXPfcFLPKX11jS6KK7ccPjjOPJIWpRJ26aI26+ImP1EuTFqk735qtbnttpvkVtKd3ZiR7edv8vmefmbAwcSuDOP+r10tM/+W6puIvtNw1arZZ5ee+dz+ld7iPd2YGXxQ4+97gFj9AWHbSKVWFevbBQxK32dz9dvif9Y0BTadqrarXKBPQsmvp3PvGqKP//Lr6aP4q8yg6Mm/Pe5TXY2Pnq7tHzTH3AACIBu/uAJxVU+AJjlQFf/9fYxJbFp/6cIF5NJyohgX6kROGfDXrE3Pp9SvJPunjOXVRZjVsmApoSVo/8sG8xKBFkoYdxxl3pqt7s9lx816J2wsfGa8uePhD9Y07Rif6QkcxiyhMH9egZNSNL083q/KJqg98qQzu182s/HW0i2K5MPCq47ETv6kWHJ06dVJVnbM3h5q3orD3tk5W0ylvAloSx1F8jzys359embJYzVxap74V8nUR7cs7aBml1dNqf5PyhxfYzQYAiBbv7gCQp/dmL1cvTV6caG/ws0fHm0fDOefeD8wqUyEn2fYQxZTFpno1jHdnLlf7X/OK+tKtb6t/vjXLPJopTA/oWfqkHpVLLkKIkVOTW+jl33PWsnVqj0GbJO4Xw96iXwnGzV1pVh3T707e1az8FTv8sT1JkjNfQ31akqA4dgsOOyGc6+JGFK8XdtXrC5MWqWGXPp8Yiia92ovxwsTPzKpjtNBCbuUcRAuVMV8AAIBSIQENAHmSoUtBclVQeiuM/YRNxLz+qyPMKu3/nvjIrHL75h2j1Up9kvfxgtWB1a6PjplnVoXLUTiHdua31X1904ZItsCHGSTWkYpg3yxzT+F8/9t326q3Wfnz9vyOu+qqti8uVFUXp9G6aJTPILgoBuPaCW+b9Gq/f/Sn5l5+ZBePDGBFZZlsZgl48fNdGn5zRcTdBbbRAgDADwloAMjTe7NXmFWSnXT2G/LmFdUJVP+eXcwq7fVp0SbQJNm+rMiqys17U1nTkTWZCmhbfVNLRiVkoZqKHGL0YZkrkm8ZOcOsyi/MhadcSb76EDsW4uRrwwebVVoU37cukvelZz/6TE1auNo8kl8COoqK1aAEtLjsqYlmlZ+9f/+yWaGStGzw/znm57s0qgMqBX7/v8mRDBgFAECQgAaAIj1p9YEOOmmySeuL8x8cp54en/66jlzTM2PJOrNqa/ri3BXdnDB2bFLp7K3cX72+WTW3Fv9dGeJ6TNbv/a/c/o668JEPzb3y6MhtLPwGp9qmfOZfNRhX3zt4iOrTvcbcSwrTtx5tbXfJc+r8h8ap655P931N9YAOY+Hq4ucbZEtAFyrMIN1ymLOsTh11w+vq3jyGNbrs7EO2NatMz32cbqeC6PjtJkn53j3+reMAAMgXCWgAKNKYT9MV0WEqoGU43LP6JEqGvkl1sfTg/crtb5tf7Xg2ZKnY/ssruQfFLa9rMit0RJKAbvX8Gzfox6JowbH9pj3NqnBPj1+ozvvXmLJtvT7+L2+qxiIrt0slV0Xqrx8P34InDmSQ7PjfHae6WgPLuOCVP7kA5ffWlU9CeKs+2QdkhmH3gC6lMXMydzGVwxE3vK5mLatTVzwzWU0L0YrLdQdtN8CsMs3Wf4eIXk1nUgIAgNLj3QaA07Ltej9tn0FmlV1dYzpZ1Zpn1ahUFz85boGauCC6ysUhFz+rfvzg2MgSdtkO00n/L4z3ZtGDs5yW5DGMMpGA9mSfpIq0qbX4JGyYZGCY79OXJy+OvI/rhHmrzCrTsnVN6oWJi8y96Px7zDx1+j/eVSOnLjaP5K+QQX2FkopNqYSvBPawy/kr680KYQVdOLUveAzulz3BHEXleVWZBgZ89e/vmlX7+OnD48wK2fgNxmOIZGl8uiJ7Yj81rBgAgGKQgAbgtB8dvp1ZtVVbHe5keJGV7AtTAW2TyrPHx84396Lz3MeL1CMfBA8QXJxHgjJbBfTGkM1DTv/naLNCOeRTdd7Q0trm+7ZREtARVJJGuf39swi2+NsWrgo+nj2ILQoyHPCixz9K9I8/+94x5tHCjNi2n1mVzjMTFiYqNg++fqRatDr8a0VHMH1xcMsg+At6je9iVZZ//7Dg90pRl0f/8aC3FFeSXHyPhjPAZ87FgJ61ZoWoyEXgxWuyt546577i3rcAABAkoAE47aITdlJTrzrB3Ms0f2W4hNf71lBCbyVpLnNX1Kv3PduB86kBu+7U3c2qrd/852Ozautvr880q9z++easwOo2SXSj48ln67xUj3or9+WxKBLQDSGSUmF/YqLuD1uuaksxcmp0Q5we/cGB6hfH7mDutbVkbfEJY0mWC0mcX/Xs5MS6I+tRm+5VvFnvtkkrZBf0vmX3gD5qp03Nyl+d/l4phF3Uv03/HmYVjY6S0PZ7/3xxkpvvnWEvWgu/1+hcffCRvzCFE29OX5r4PpYe5ne+NavDtqkCAHRsJKABOC/ohKZP9/wrbfLdhnyxT5I4nyrqQnvs5nNi/tYny9RNIXo95+IddIfSyedCiFQpe3tAj5qxTDVlaSdzyDD//pxeUVZAR90ftn8ZK+luefUTs0rK90KV19CBwYm65yO4KGT/u81a2vF7rh66/UCzSl48QTjyPvCLR8erXS9/0TySyW7BkavHc31Ta9EJ30261aju1sUEW7cCEo/Z3o/L1VNeEs07XfaCuZf2g/vHmpW7cl0CrPEZjLeGFhyRC/t+9Mj7cxM9zK9+dop6NMsOOwAAgpCABoAAu23Z26zCeXr8gsS29XLae+u+gYmBk3bfwqwyyYn3g+/NNffCufOt4if3S6sHlMe978wxq9yk3UbLhszE0RvTl6qH9clmkINDJqCfD9FLOWweaGHErSDKeT1Eer3bik3MH73TZmbVVtSVaeubOn7CZ+bS9N/vjx+kv25YUtX4nw8XmHtthdl10Ld7jVkptaq++J7hew7qY1aZvK9RYUxaGDxbId92WYWQi64kmgvXrbbarNLWNlRGX/pKEjYBLcnnlN89PYkqaABA3khAA0CA7x08RP0wS49orwsfGW9WaV/ZeyuzKg3ZovrsBYeYe5mCtrqe96/8e/kVW7Eplq9rSiS/JZ4YO1/d/vqMxBZ/REtaZzyUxwWGhasafP99s1U8HjC09H2Iva76X2GtIFbWJb/vvFryHBhqW9PQHLqi3+95788ubqBit9oqtedg/0SdVKJGKcoqdiFVdFfrf8ula7P3HM3HJ54EP8LJ1RrGbsERpHe3dAI6itfzoKR3s/55zXcXzTeyzB6IosVQLtMWrzUrFOJ3J+9iVmkMIYxeoRdj8vmcAQCAIAENANq/zt7frNLk5PvCo7dXx+y8qdp/SD/Vx6r08grqu3rNV3ZTd3xnX3OvNKRViN9gnqAT7FemZE86HDysv1lF69A/vqZOvGVUor3DLx+boP74wjR168gZ5lcRlfV5JiAnf7bGt23BgoAhfecesq3aafPwuwNybcsv5Vb43z09Ue191cvqZ4+2vTiUraLS7kvr9d8JC9VwfcwTbn4zVBLLb8Db/z0R3J89rKfPP1hd9eVd1RE7pttPCEm4RynXcKp8SL98aTt056jZ6or/TjKPFm/LTbqaVVIUF8xcUJOjrY3dgiOI/ZwokrrZWm0051EFnet1pRwJ6BK+tDlh2KY91VP6de7Le21pHlElGdrsulX1hb1nXGlVRAMAEAYJaADQDtshM4mTqi6USsM7v7uf+vcPD1SP//CgxGN+pi9qW4E3fJu+qnttdSKBLetSWrau7QlErkRzkNvO2Mesctu0V/DAr18fv6NZpU35bI068673zT2l/v5G+GGICCdMkubQ7TNbaLw+Ldz3yrcP2Fr99uRdEj8Xt39rH7X31smfk2zf37kqcku5Ff5f736auH16/MI2FbfZft9siaMLHv4wUY05ffG6RNudXPwOFVX175kHDlH3npV58cxv23qxorpIYLd1efbjz8yqeCfsltlu6JkJC80KNrkA8OXb3lZ/fGFq4n6uBHPPrtm/l+TCp12xnG1LftjvoWqfvr8p+SSN37OGA/tpLEMCOtt/C8LZS38WO22fQeZe0uhZxe0gQaYnPW14/nL6XmYFAEC0SEADgI/vHriNWaVlG4LW1Nr2xHvspysTt506dWqXlgV+Ji1cbVbB8hm+mK269ev7DjYrlFOY1hLnHznMrJKkGj2Xnbfora744q7mnlIn7r6FevLHB6s515+knvhR8MWZXIM582mFke+QT1vqa5eta1Rn3vWeOuueDxL3/TSFHKYWpuetXwV01AZaF4L8dkPkQ5KUXlG14fAmIaP6m7H7EAu/info1+R/vKsmzFulbn99ZuK9IFcCuo/VXsPPVV/eLbFTKMUvqSvV6Ofc+4E66PqR6t2ZycRhtn/3w6yBkl75JKB//fgEs/JHBXTl6OW5EBLFTAqk7b7VJmaVJBXnp5a4fVylKeVOLQBwCQloADDsal6/is5s2/JzVTTWVuU/wT8fj37/ALPK9PaMZeqYG99Qv/nPx4n+mfflGE73zzOHJ273HJR5QhJEKkGDSFIsWx/hjkhOMmQ76vh5q9RX//aOuva5KeZXKkeulhc7bd7r88rllFwJRukz/uxPD1HVObbs+8lVAW33Sf3inumt1n6mLQrfU9XbL/aZj5JVsfJv+tYnyxLrIEHJKe8xU4nfJWsaVEvA33u289aozmm/vm+6QjDfFixekqT0iqrvapaic1VMrejwIaXdYRJH781akbOdgex0yOa4XTfP2YLjvxMWqFenLlGfrW5Q37yjbU9m77/7sbsED9jM9n7j5fdn2bpfd7PSv+5z0ThquV6L5WIAcuvVNfNCyJr1DCKMkt2KZx/92UCKJm7Mowpa3v/i3PZIZhYMv/qVxPwCAEBxSEADgHH/OSPUl/bcUv3htN3VNv17mEfTtsySTM2VSOqe40S+WCOG9le3fHNvcy/t5lc+UTOWrEtsfX9h0iI1Z3m9+RV/g/omT9AnzM+slO4dsBU7V6Xo0IFt/x47MhnQuNfvX1an3Pa2GvPpSvXPN2epD+cmK9krhfdE8KTdM9sTXPmlXTOqFsMY0LOL6ty5sBRhXZbBZCs8/Yp/fsz26vVfHaEmXnm8mnXtiYmfRduE+eETNq2eH8qPzff0f8blbpshiSO/P7e3wlMu8MhJ6YjrXlXH3uTfEzqoAtr7315MAlZa/aT8+eXpZhWdXO0MwpL+2aVw0HaZLWUEFWvZ/f5/k9XC1f6zC1K6evoxDx2Q+XouQ3BzteCYmsdFI9G3R6166eeHJdbH7bJZ4rUnJZ+qZb/e5fb7sF/f+6jlSkDf9hozEMLwfv7oKDvK4sJ+j+rRJXvbHa+7Rs1W+1/7qjrplrdimYRepF8jZWaBvF/L/ALZSXXdc1MSUcyOLABwFQloADB23LxXIol7+n5bm0cyycl2kKufbVspa580fX2/0rejkOT5j4/YztxLen9OOnEkPVf9ttfbgnpWrgmogAyq+kwJM8Sqo3hn5jLfvtkfL8jdtqQjsYfryQWAzT0D2iTBk69cw8qyOfmvowKTgdOt6mchidQhA3qonvokWBLe8rMo65QtNsldUS8V7Kf97R11+2uZ/cUlGVTfFK6S97rnp6pdL3+xzY4Bb6X4Y2PnJ05K5T9v9rI69bfXM39POSG/6PGPzL1MB1z3qlkVL6qe0kGk73Wl+d9H0fWYdlVXz4UqO9mcYr/GN/okdbO1rgqyw2a9Eq19/vmdfVXXmvTXh61anujzmi07nOyXoftNf/hSylWx/dLkxWaFbLy9yHvnaA2D/NgJ6Gyfc/1c9b/kIEK50PT8xPi95q5pyKy2v/rZyeofb85KxAOjS/8aAgBxU/gZJQDgc+t8qiW/ZE1u3ySPE6ZvFJGsvvCY7c2qrWdDJGSqzcmHt2pWLFmbWS0nybWggpcfmUR4oYMQ28MZd7xnVpmqO1fWW6Wd9KjRf/ZunirG1L9xPsIM0/rjaXuYVVup3q9eqarklD6eXr7isB3S1a3ZhpzJr0mi+7A/vpbov37TK5mVwEMH9lQrQ/Rstl3+30lmlZSrVYn39/zPuPmBidB8qjnjqpQVc/m85sJft9rM177OPn2o7N0UfjtivAnoB9/LL2kzf+V6s1JqVI7WOSlvTF9qVml3fnffjHY/j46ZZ1alk+sCLcKxd3iIcgyQdIn9bVqVrddcDst9hmFXOu/npQdGp9twSOFJHKu+AaCUSEADQIl876AhZpXUP0fl6Su/OEyN/s3R6vosibxcCqk2s6UqXXfZsnfi1ubtuzh/ZWY7jyN3TA6Pkr7Pvzx2h8Q6DgrI17Yre6ifVDPZFYQilVC/5MSdErdh9AqxLfekPdpetEg5/6FxZpW8WPPE2PlqzrI6dY2nx7Z3y7+wCrrVOwGJbElM7fjbF9S2v3kusFp/m/7p/q+Fyre/8qtlugDjbfFTaOLL2+O61EqZSCrkQgsyeVv1fGP/9MXR1EXKjBYcPhXQskvAdumTE9XqPC8EpVzxTLLaMpc/vdh2qOqmvTJ3gohcLTKKFWaYKa1iwvmZdXGdBHS07CRqoa22RDkG7pZbrgtVN76ce4AzACCtuEwFACCQ9+Q91wf7YZv2atMuIV8yPKYYqe2XZx+8rRrUN7PdQYsnOXXHW7PMKumes/ZXH11xnBr1f0fmNaxu8ZrsfUjbm1/VX0dmt+CoqZIEdOb3YZWpZt55i7YXGYKE+b6S3pF///Y+6vhd2w4Rs4fYXfzER+qXj01ItMkIY+TUdBL3off8hwB9+y7/6nWbJI+zJVh/e9LOZhUs3wR0uYrnvdum6wocRLg6y3CvKBJlew7OHH5ZSo1UnxbNO4TwjP23Vucesq06dZ+t1BVf2jXxWEYLDs8OBfmembui7dwBb+udfMgxZUhsvm1n/AYqZutPHwX7YmAQkqnh2Bc62D0SHblYuXp9unKZC3eZ/vFG5udcr9s8rb4AANmRgAaAEvH2zf3ynumWHB1VqtWCnKyP/OURiXWK92TaL5fXu2tN3knwx8qwFboY2arYJKEprU0eHzu/5NV0YdkXCuRCgDcBnTrBzHcQYRgn7LaF+seZ+5p7aak/0/J1jZ+3pFjuGcIXJFcV4S/+Pd6sspNET7Z/o6DkayppLb0gz/3XB4l1WM99vMis/Ek/ySh4k2v5JtbmrahXf3pxqvrevcH/fbnaj4TRWMahTX7VuMiPt4e/vJ789uRd1I1f30sN7JUcDmi/jqSSqamfmaDkapiWPn627tdd3TpyRmJI7BdufiuvJLTfIF2/SumoyIDBc/81xtwL5tr3aaHXsezdXYtWp9uyoHBr9Xva4X96Xf3fEx+bR/IfQmjza33T0ckFraCLq+XeEQQALiABDQAl4j3J/vmxOySm+h8ybEDOdhzl8MSPDjSrNOkZnOIdOOVNBBaWQmjLb7BVewgavvPbpyaaVVtvzViWaC/xq8cmqCc/XGAebV92klWSzd4EdCqpFPbv/YsRXTiRk93hV79i7kVDksb/GRfu712GJB315zfMvbYeft//QsiCVclkxx+en6oWr4l22J/dk7q5iJPdb43YxqySwg5bTPmJ/h6WSq4J81aZR9p6bWrxyQX5NyiXbP3CEY63964f+3VEfh4lOXzQ9SMTVcp+sxFEPhWsB23X36xUopr6zy8n+6wvW9eo9rvmFfXWJ0sTFdUyEGzSQv+BsSfvsYXvhdGJC9eYVbSSF3T8k9u7b7WJWSW5/H2az8VquzL3uYnZL+whHLmYk3p/S7GH/v78mPxaqb0+rbIS0HIBSy5kHXPjG4mfWZvMkRh6yXPmXnb0gYZt6qI1ifclLmAA/jrGWT8AxJC3H55UlshU/wfOHaEe/cEB5tH2M2xgL/WbL2T2AfaeD+5itWlo8GzrD9NT168dg5df39/2MKSAHsE/fmCsWSl10eMfmZU/Sbo89eEC9WYJq4TkZPKut2abe8mLIN4e0Km/b291Y5C9C2ib8MA5I8wqbfcrXjKr6Dzyvn9LDj/PTFhoVv4O3yHZw9wrldB/MKD9R1Tqi2gHIAP3+lkXtdY15pfUmuAZBunHO5Cuo3nsh5kX1GYuWWdWEJ/k0fbi9H0Hq4fPOyDwopzNfh3568gZicTzojUN6jt3vRdYiX/razPMKncS8uids7+HnHnX++q4m95MXCg86ZZR6hqfXQWHmZ/tLTwtrk6xBgVHyZvMst1/zv6fV4+LBir1Q1lv/T31KfGA0cv099KIa18JNbi5kj03se1/n52A/v5hQ9tcMImT656fkrgoOnNpXZudVGFbhIntLnkuUf095OJn1bWeuRZwi+zoPOEvbyXel2RnJIC2SEADQB5e+cXhiVupYL7jO21bDaTIh/aBPdMnmV7S71lORFPCJGqjJgny73oGJXq3X85alk7ifOipjuzfI/3fZ59Q2y48OncFzUuTFptV+2rO0q/zjjdnqYOue1Xd/Mon5pGkfHrt/lt/MP3Zo+PVd+5+Xz36wVw1etbywK2fhZBjnXPvB+pVq2eyDBz0ttrIVgF9xoitzSrtlL23MqvwDtl+gFmFd2jA1/zl9L3Mqq1/6n+XqJx32LZmlakuz2Ruoex/t0Ksqk+3NJkcUWXnXtbFh46eKNtvSD/1TWtI3i0jZ+S86OCSm15JVg7ncusZe6s/fHUPdaBVeZyNdwBmigwDDaqAnrW0zqxy815Ay+UO6wJcyqnmNUxah9hKVaDml9gT4y47VvXpXpvRDoRK/XB2tQYjL1nbmPF6FyWppr9/9KeJ3S728NxKI58HXpu2RI2cujjwc8a8FW1bmdifAaW107mH+r8vxsGb05eZlVIfzFlpVoX5rv5cJ+QzycQFuS/oIn7en71C/doqRLnoiexFKYCrSEADQB6GbdpTzbn+JDVWn0j26BJcufvI9w/IWdl16PYD1aUn7qy+NnyQ+t0XkwOdykmqJqUa9j8/PijxZ3jw3BFt+lbbPTy9H6rf/CRdyRtUPWpXZQYZNSN9EtCesvUHvua5KWrh6oZEEmdlyN7FtiVrGjJaeUjPxW/8c7T6b4QJMtkG6m1xIBXR3u/C1PelXwW035bbMFWQUbj7e/uZVaYv7L65WSXZ213D9pEOQ/qX+6nLs52FnOxLUunc+/LrF10sO5kmFahR6GbtTvhgzgqzKpzdx7UUvBdbfvrwh2aFNevDfR+fvEd+VcG9s1Sjyo4PP9sO6GFWuRXbq36z3l0SvauFJNW/uX/6Ilupkr+pPvdeqfdDe9cPFdDheHeUSeuEUsxdWKTf523SyzvKC8Xl8vr0peqsez5QZ987Rr00OfxF/p6eXulyETsfldSOQtr4lMKVz0wyK7jk6/9416wAZFPaMwEAiLG1Df4n9JJUDjvI5bzDhqo/fW1PtVWfbuaR4t12xj5mFezP+vfsbBKL+2zdN/FnOHhY2wrU43dJJ/8Wr2nIOBF7enw6efpiQE/GXj6Dn/xMK2Nv2CBhT2ZvND1I8xmAdUXACcmFj4QboBeGXwX3jCXr2rRVSfGrgParZiw0Ab3HoPBbd2Xbr/fiR4o3aVmKCxY3f2OvjKSQLd+BfpJQumvUbPXKlOIqmvN18LB0xarfwLV8XfuV3dW7s5abe0rd8/YcsyqNKNIWHaWffEeU6+fm9m/tk7i4mq+gCzfCrxpZzF4WvgLavghSCG/fdrnwmjLu0+KqHoOssnq7+7Ev/lEBHY53CPJnqxvUlM+i7eEtbbJkh5JNenm/+Un495yOkqz+7ZPpC94/uD/dKiwX73tHvt+fC1ZWxoDIbInyYv8No5qbAQBxxCd1AChQ0IfUHTfvZVbt44TdNle3fHNvc89f2D/j7lYScdzcVYk2En7WBiTpgrZne70xvbzJOj9hB2PJcBFJMMoArLCe+zh4aJJUR0fBOyQyJSgB7VdZ6JfssYc/5SOfAUbZ+oDnM6iqUIdtPzBwq38+bVaEDAAsZZ/vIHsOsttlFJ/U2rRXF7VTxK9l3ipGW3Meg+mChO1rjrYK/bvr3a34ix3ZzFkePlkdxn3vpC+klPMi0ZkHpAeFUgGdP79XDnuHVhSCeram2itkI58H9/r9S2rb3zzXIVr/FFqJLC1ibPkMDK0k67O8R7YE/N3ZA1Gz6VyGzywAUKn4pF75Bum4W4d82pEyD/lk/RcdfXXko58O+Tr5ejmOHE+OK8f38wcdr+qQbJRc7pa9ubLX9XIdfu/Q0mhW3tGD4hEdQEU5YsdNzSpTUC/bcpGK1S/lqMDIlvCzeZMS0jrilcmL1S8eDVe5K8nDXxybOxG5MkfFWCnJiaNUuWbrAW2bs7xe/cVUQUfh6mejGVrTEpCA3rqf/3Z3v4STVMUP6puuxv/18TuG/l7xyiehlc+AOzshHvaEMBepnA3a6n/Bwx/mNc1cTmw3tMM5u32xpz7PpLkf2Yo9pH/m906xF0uyJaD7dC9+sBgJ6MIVWj1uVxSXgt/OnGLYF1XL6dR90r307d0epWgjEUd+n6uiTvQF7WoaGqJlzCVPTvy88r29W//M1Z9RCm3D5N1x1JxnIjuq9k+lJheKgwRd2Djr4HD9sKO+MAIAccIn9cq2nQ7ZV3WWDrk8f5MOmch0oQ5pRBT2zFyeJ8+Xr5upQ44jx5PjyvGH6vD6uQ75RPayjpt1PKhD3s2v0CFd99OTgDJN0HGlTzyuA6goQYm5clRshnHsLsGDDWW4TBh+CZ1z/zVG/Segt6efC47ePjHYKpug9gulJlVCX7n9HbX371/OWhHjFVTx7SdX8nLiwmgG1gQl0KVv+Q8P304N6d9d/f3bw82jbU80d9isZ+L2vrP3Vz87Znv14s8OU+cfOSzxWCHySWgtX5e9l7PdY9yuyLIn9vs56+DMIZtBpGVOtlYjo2enW1Hksr6pNTDRunnvrmYVvW616b+LfBLQQTs55O/W20rIHrCTL/l9sv0oRPG6SQuOwhXan7vYFhm57LJFevhcIbzb4c+2kkgyLLhc7IGeLhdIFnpxzO/zVtBrV6Gqq/z/YWaFaBnz8PtzzSrpqD+/3m7tVcIOHPWb0VFbnfl30M9TEZ3LTRFenC8l7/Br+715bEBrnrCvdXGtGgeAKPBJvbLdrkNKMC/QcYqOi3UcpUMSyDvquEZHGNfqkBJF+bqjdchx5HiSkJbjy+/jJWcEB+g4W4c8/6c6ZIKUHEs+7f9Ghx8pm5QktTdIQKMihamMaS+SRAzSPeQH6WIHQKUcv2vmIDmvPiWuogvyv48WqvHzVgW2r4hCroqgpZ4epYXyq6R77oJDE7cXf2En9fqvj0y0Z0lJ9QBP+f5hck1Tqe0G9tTfOzsU3UomNfgrjFwVQ3Zi0T6pzzVc6fKIhnuOnhk+AS0JlqAtvCOGymYjf8UmpewKaO8grWyCtmpL8tnbXuGNIlqLZMsVbTcwmtdRv9erShqKVUq7bZU9kZvPz6ut0K8LqyYgKRjWdafublZJdsX2x57BuqUiie6OcmG6vf3jTalzSZqTRy9wP97+3sWKsqJ61tI69b27yzuINuXJkAUCfhdKa6syX0OP3zW4kMHP4rWVUQHtTRL375lOtJ99r/+/W9idWh2xr/u6xhb19PgFeX02QHGKfe8C4qq0nxpRSlKVfJwOaZlxmzxgkTYY8qnuTB25zurk1+V58nz5OtutOuT4x+vwVkEHvYP929wGZ76AGFlaoinaUdh1y03UP88c7tvDN3QFdEBfXK9cW9+lwjlbsl4+HLcHGWTkJ8ret394YapZ+cunmjobvyT6LluGrx6Meit9PtVpuSqZ7e+vVLI6bFuMwf2yD/jsYf0sPPGjAzO2yqfcMnKGWeUmlfTL69q+LmzWu4v6SZaK8prOxX0kswefvTApuOe41+vT/JPKPbpUtRn8JT4tsCfva9OC++2euk9Qt6/8+FVAr17ffu19OpLmluw/L1k2AGRVaI/4sIpJ3A7s1aXNa4v3va8ULTC8iYdV67Pv8HDJxAXpwYFhKouzuehx2VQZDXm/+mCOdBOMjj3EtSNq9Xl9r/FUQMsFpsu/uIu5l9sOm7bvDJSwZGeYzZ6b4HfR8sdHbBe6HVlHHMQofcxl6PVpf3snsF0bohW2rR/gmuLOdtCepNJZvKTD+06yVsfbOrrrkCrlbA7UIWfn8nz5OpscV44vjjS3uXzR3Abt05Xq6B/ouMTc7qEDqFhrG9oncRrWcbturr5tDT9KCdsrNey27L+cvpdZBct2sjlz6TqzKq+g1MYLPztM/eq48EP0snl6fHkGEhWSSPneQckWFZKoibp3eT7bUHPlmOxEqJxE/eShcWroJc+ZR7L727fSbUf8DNssfcI8fJt+6sav71XU34W04Nh2QObJrXj9V0eq/j27mHttfWH37LsEcim0/YS01PEjiTvvSboYN9d/e3I2S9Y2qHPu8/99RD4XSrLxe13riNVo7aEuS8/TYoRtn3S9pxK5HPyS495hoyvro00OS3LHm3jwu5CD4uU7IDabB0Z/qkZO9b9Itt+QfMfqtB+pcvUjF+J+/OBYNeTiZ9WEeasSj3X1KUTw+3nO9d6yVZ/0Rd6wg6fbmzfJLBe25aK2zAPx+vYBW6uLTtjJd4eNn8fG+g+zbC8r65o+byuyYNX6su38QPBsFsBl4T41oiOSFhsiqNnWJ+Y2Vwal2OP8Soe00JD2HW/puEqHJJ+v1+HnWB1/1yHtQeRWyhde07G1DgAl8KZn27z0sQtbVRa2ArrYBFK5krRe2bbcFrK1vJDt/lFVW3srHO/5nnRFyu7Sk3ZWD547ItHvudBhg0G22CR75bHNrt71463o/d9Hn5lVbn7/XTJcMeWPp7W9Dprr72La1SeYVVvSgmOAtZ03RU7ipao4SLHtQk7eYwuzioa8Tnxz/7ZvzYUMWHw2x79XVFvf/RIljc2cAAo7sfLTo4YlwlZopXFQ31yvU/Zuu7MgrJN2L+x726+vuzcpHXW/1gaf4zFosOO77OlJZtVWtu8RGVz4/YCLeKLc/YDlAq2fP704VT33cfJ99Mu3vZ1IjPkNXfTrc1yV47VhyACpd0rKZz5Ie/LO/JBdeHJRe9fLXzSPpF19SvLiWaW2VHj248z3Xypzy+esgHYugMtIQFeu1OSUoMuYqcfTU0/8FXscSUBL646f6ThExws6pDWId09vvQ5JTkspmpQSSByuQ5LPR+h4VUfYJpAyGNEvdtIBlNWmvTIrGv/9A9lU0LGc6Dl536j/F5a3H2CQbAPcOrKXs/QQLmRr+boCKuL9BgEVoqk1fUIlFUlH7iQt/LOTaqeDhw2I7M9g27p/+qS0HIIS+X5J3y/tuaX6308PUa//6gjfXteXnrizWfnLVgl1w0vTMrbzpsjPiHzd7d/axzySqdh/g15d060GihkM9/NjdlAjf3l4IiEpCd2HzhthfiWppYAMdK5uLFFVCfnt2Chlf/dKYleLynDRXx63o+pltafYtsB5BmFbxxRzgev603ZX13xlN3MvPL/E76C+ma9L1z43JVGhHxXZAeFV7iRkR1VsP3bvQMlyyTaj4Ir/Tso6iyDqCvtCPTA6c0jinwOGBfq9D3nnRXh5W5nJv3PUAyKj9q93pcNkWq6L4CKqmSjl5q1Kj3NVrnzvvTNjmVreQdojvvXJMlVfot1HQKUiAR1fqU8LxX4CyHUc2TMsz5HbU3VIr+gPdXjPsGVf2+90jNMhe78k3tQhyer3dEgpzrk6gIriPanuiFs1d/VUJzfkUREYtgI6TAL6h4cnh9x1JO9n6flYSFXmmE/z7yHprcQp1MPvzzOr7CfMcSVtU+zK5LMOTrYX6V7btr+0/NzuttUmakhA0k0ez5WE3rqff4J99rK6zyvN/HgvCEWlq3VyLN9TYRIAfn20LzxmezV0YLr1hrcNRyGVsrleR6KqEPWr7KICOnlSnkqCyj9fqlXJw98/QH1t+CB153f2LbgHfFWIqsATi2wv06trjfrGfvlvlPMbUud9z5af1d8/M9ncK57fxScugiQtXFVcb9zLTto5owp1aETDS3Mlxqcu8nYoTPNWl3o9M6F9dnfl8rfX08MgUw4c2j/UhSLvxd5+3TOT1if/dZQ69qY32621WhjjPk22IcmHzHFIfZ4+aqdN1e+/7L9rqdCLeaXi/SgQ58+Hf3xxqjrjzvcS339+r8Wlku3zFhXnQCYS0JUrVZmcqmD2SmWcgiqbU6I6jlz+f1KHJJT76/iXjjDksuCdyaU6zNzmIlXUfpF90hdQAt5+ksUMTOqIwlSFiIFZetumbK4/vAeR/HVHq5gpoAA6dD9UWz4XBLJ53Oo7uKwDD8dM6W1V7OYaQphLqjJOKpQ+vOxY9dC5I9RvT0oOTvLrSRlmCGeutjJ//ebeZpW/L++VWcl3ziHbmlXhpErNbkER5iRzfohhSZv26mpWSf0LqNTOVTkW1QnxBp/XEHpAy/b7aWaV2YJJLsL86Wt7qmN22SxxvxBhdop0qynu51tEuctmUN/M9kD5tPTJxS/pcdPXc89IcEGxifhNe3dV9529v7nXdgdaoVbU5a5SDvMcP35tLjoiGVj9j+/IqVRb+2ydWVghu3iuOiW9I8E7Z2TKZ2vUjCXr1I8ekM2pSfL5rtgK+CjJLpB8yevmQ+cdkLhgd9sZ+wRehO5oFa/e98WYnaZk+McbsxK38vP63zK29sv2rc0OGCATCejKlTqbCOrNvL25DertnBLVcVI+1SGlJHJZOOwUp1S7jo51yRgIoZhtxeUiPWkLFTafGqZfcj+fJHWqmkk+vHWUqgypbBGFXEwopJq5nFUaHck9Z6UTCW9elH3O7XmHZk/Q3vKNdIKnb49addCwAZ8nrPwuCnT16RXs5b24lJJqBbDn4D5q761zdbnyd/M39lYHDO1n7mX2pC6G3XrDrxVAyvh5qxLDqg77k3TByu34XdMJykKqlf0qrW39e0STSPJPQLt98vf+7BXq72+kqx2Lac/iJ8yg2my9z2UoVqkEDU/zu/Byz9uz1a8fm6AmLlit/vrqJ+olT9/5sLwXFP/8tT0Tw4CD5NMSq9Ld905m24NCKuPtz1ylvHDltc9VL6uP5udfNZurfUVHId+jvbv674KQXTBXfHEXdewum6lnLzgksUPmzAO2UWN+e4ya8vsTVJ/u/l83fXGyAlpaPnzzjtFq79+/pF4LGPRYbmF393mrvWWniFywk4vYQd82y9Z1jLYrKd7v70kL15hVvK31GShZKtkurrADBsgU7tUXHVHqrFEqjr3/jvJuebAO+YQ9Wh7IQn5dnifP9zbClOPK8UW4s9SkVGlX2KzKAeY2edkSqCCHDEtfZ+lo2+5SikmSb2dtxS+WPSk9xW6PkC1h5kcSt+/NWp731+WS+jctpErEm0wOU9Ud9Z+/Ugzfpq+ade2Jas71J+Xsf/zTo1PXQv3le7EgzAWTPp5txSn7D0knjqUa78av72nu5eeR7x+oJl15fOLvIKoLWanWCmJtQD/yeSvq1VdufztwWJUfO4lfSNKn0ecE7PpTd08kLw8e1j8RUfD7PnK9AvrCR6QrWtryAis5g4RJsIXZcVAKF+VxYefKZyarx8bOT7QPkP64379/rJqxJLj1QpAG6/tNXuNOGz6oTfV2ZaQkozf205VmlVRIWxX7NS6q3UNhKxS/dOvbZhVefRmTYKX0vYO3VXd8Z1+165bpDbMDenZJ/Gznalf2xvSlavSsFWqNfk/qKEPZwvZBll75QYIuHkkycsma/PrKy2fFFyYuUg+/PzfyogRvbtTeERNnr08r38WOrAloxy+CA165z8DQUUk5y0s6pMnl+fKA5UodkgmTNhh18oAhQ/q8g/rk8vT9OuT5V8gDlp/okOPLSGA7OSzH8CtbkO+na3RI+eA7OuxPmjLFyO9s/igdP08u1QPmFqgYPz1q+0RCapv+3dWtZxS+Jb+UQuTaAm3Tv4f6vxOyz/cMW8Uk/fO87PYI9Xl+6P72ne+p0/85Wv3owfQ2zyikquYKqoD2JJN/aG1BDWInLFwTtjosqDJLPP7D0gz+3GKTzNYTKXYyTf5cp+4zyNwLdvIe/n2fe3SpjrRCbom13ds7ZClFqmFDXBfJYFe5FtLPsNnnBOwb+2+txl9+rHrgnBEF/az5kYtH3qrXQk/+5q+sV9c9PyWRPKlk3gFh5XDEjgPNKql7BC04RL6DYQcHbJEP6563/X+GsrHfA6KuNq908jnJduj2YTdKptntfKK6uOTXm/qkiHr13/eubAwtn0Ja1Ug7iWLkuoA6bXH+F3JKLez7WLbe+MO3SV+M9npgdLh/d3l/kqTzH1+clvi8+Jv/fKwefC9zYGSxOlLrk1KRBP6cZXbKIzkAsFxas3yoIgENZCoiLYEO4Mc65PLeLTqe0nGdjpE6JKErLTMu1WGbYsLrEh3y/F/oeFWHHEeOd7MOOb43wS1TnmTalTz3nzrk+Xfr+ESHHEv2LZ6nw/YHHQt0PKbjJhPy9RKSlbpMhyStgYoiyah///BA9fqvjsioDOlIChmmZ/vREcHDA786fJC64ov+g1i8ttykbQV0xnbaPBLQkhQaY6qpXp+2NOOkX6bSH/Gn19TIqcGT6bNJtQXx9gkNY9zczAqvFyfl/jNIn+2O1v+6kuxrVSQHuezkZD/ofPgNLxR+LQeCtvoLGVT0p68WViVdjDtHzTarTPkm8YRdAV1ICw7vFtTzj0y+psjfcVTJZyHHmnbVCRkJ0EK36R/yh9cS/SS/e/f7asna8idxo7L/trl/PqL2/cNkHnVa6kKjbOMvxj/OHK4G9KxVJ+y6eeAAMNuxOxfe21oU8t5pVy8GtfFx1fFWKxJJlBbys29XQK9ZH0118UifthA/O8Z/142drO5I7bMkyTXk4mcLSjZuvklxLZD23Sb78G39L21WHYP0qL75VTllzc0eeuklyemHzhuR+Iz8lqeNmFR7h7Hz715IJJ3toZBX/S+6oajC+/nS/hnKh/S2Hj1reejq8XL6vf47O+KG18298mvNckGDBDSQiU9GlU3erfbVca8OqTD+pQ45q5OEtJSELdcRhjxPni9fJ1MZ5DhyvHt0yEQK76jkV3RI4ln2zJ6q49c6TtOxQodUX8tZgffdU6qs39Oxnw5JTkvyXD7d/VuHDB+8WgdQsaJMokTNWxHz2q+OMKvi3fC1PRODgcLwVnre9d19Mz4I55MokqSQ7Qs3v6mmL16rJsxbpe59Z46as7xenX3vGPOrwfxOLlL/lkfsMFAduePARPLkZqvHcDb/HpMeBOhNRmcTJlGdj15FDvWLip2AKSDvGRkZ8idVXlLV9sSPwldM9/XpbenXU/rkLNVyX9xjy3ZrQeB3opit/chjAdXkdoK9oAS052f7R0fkPwAqLPn5la3hKTKcM1cPavl7+sWj49U3/vmumr2srs3zX5ncMfqW5uuxMfMSPaBLzR6q+dwFh7bp6Z16HTjZDAst1NE7b6Y+uPQY9fczh6tDt8+ssvbadcveRe8uuH/0p+r5j/MbUGjPAehCBXSgEwusMLZ798qw3SiqO/0uNgZ9ppPXh5S6DtRe46H3Cq+0ruoc/J4QhvycXZCjTVZH8oWb3zKr3HINlj5ouwGJXYKy28Kulh7oGZC5sq4pcYFAYrLpwSwXM8pRnez9PQq5KClJ7FNue1u/R45WF//nY/Nox1HIbpUoZa2Abu04F6qAjqC4dxx0BFKJfJYO+SQnLS5kFPGFOvzOOOTTVNCncXm+fJ18vRxHjne2jnQ2JW2iDqmKloyM7J+TT25S+inJZWnj4fd736XjZB3S0kOayso7szR/O11H+E8CAPJmTzAfOqBHQb2q7b63UdljUJ+MD/fFDBSShPOXbh2VGK5mC2pDkOK3DTP1IiknoDIob/zvjlNf3msr82gmSXIEeTiPbZQvFjjwKsjt3y5uS21UpL2CJMO33KSrGn3J0YmBPpL0v+n0/CuC/aqsrvxSuOp7cdIeW6jbvrVP1m2zXivrm80qrcaneug3J+5sVm35Pb9c6nz6i0sPaD/ScmS/gJ9z++e0kGoeO2n9i2N3UD1LfIHEvrAl23BfnpL9Ao/0/v3PhwsSfUovePhDtWp95r97tpPLjkraE/z68Y/MvbRCKuBzufyLuyYSUH/95t5qF/2a6B16lRrK1S+gr3o+UonBoBY5KZdm+ZmUP2dYP3pwnJq5NDlMLYxGqy8xLTgyfarfp1M+KbAtg92CQ+RzoTeIX45RLtz79aa3LyaGfV0oRx/6O97y3/ESRhQVmgdvF9zH3/uS056V4/lekGvJI0H8nQPlFDqpxfPZcr9rpHYr6cRbkqe9x930ZuLWT5RVs97/hHUFXDiZ/Nmaz4dKykXdjmRVffBcgw8jeH0II9uFhKiGpQJx0X5nRQCAsujbozYxLO3sg7dVd31PrhPl76yD5dpR8VLtPL6055aJCpGPF6xO3BdvzyiuX5sMJHr0A7kml/a7pyeZVVtB2+q9lU+p6s+rTtktcWuT1goBhVJtkljZRHGCag9g6yjtYKQ9xvuXHqPevOhItWmvronqyDGXHqu+snfuvsleUvWY+rv+rj7Rm3rVCeq7B0XzfZkPvxYc/bMMUcy2hbfUPpqfeUFGvDTZPxn78HmpecBt1VSn/xsKmehun0xna1cSFW+S6mc5Bi6+bP2dyGvSUquXttiqT7hdHh3J/tdIh7O28kmohCWvPXJh4Yumwtn785DaheNXkXx5gW05cvWdlf7qQU7YbXPfobhBnh6/0Kxye/iD9IXHuLfgmKh/Vp4evyD0rogbX5Zuf0lTFxWagM78O5XK0mwk2Sn9eLMN+23yuRAt36r/OFM2mWayj+OXdLr4Czu16XW92udCZkeyMksCL6wts/w8eT8jtWcC+spngj8T+tlhs/CDuKutSvKWDZk/E36vu9kSwVFW13svCNY35v/37/nP6VD8LrSnfOX28nT3zJaAnr+ybY95wGXx/mQEAEg4fIeB6nf6RL+Q6mfR3edk/owR+U+wl62K4393rLrFpwIt7GTubNVo+bQHqAv4EN42RZL0jf0Gqx8entkPe+jAHuq6r+xu7iXJVsW5y+szklq5PPfxIvWaTx/KfNiD3toz6eklFWOptg+SgNrEp61FGNJW4T8/OihxIeBXx++YMwFVKn5/t9m2+tcUub25GD9+cJxZZSfJuCFZXhvspHshlVmjrItLpajA9bK36YtclYreHrDe6flNLdm/viNanccFsKh52zJl28a+0+bBu0hykR0VttPMQFB5n9t9q+CLcPLneeT7B6ifHhWuFcwHIasm5aLmh3PTF33iXAG9eE2DOvmvo9SFj4xXB17nf7GjFLwJ6GwXVCTRudNlL6jfPjUx0Ws3aNaC3+cGearfTo1v3fne58kmv6TTMTtvpt74dWY/4NQOgFJa4DNIce+t+5hVdkfuKLPji5NtULC3l3opLoKFNcm0vwhD3veCZkH4qbY+G+SqepWWcdkUUqUcxJuA9jv2I+/PVV//+7tqVsDna28rv397ij3aU0eYoZLtM8Z1z/mN3wLc1X5nRQCAitHVp2rxl8fuYFb56VPENmzp1Xr0n98w99r6ZEn4rdJByYGgimZJWnxht/QQJSFJ0F6eE68laxvVYX96zdwL7+z7PlDzV/q3RwjDrkzNlvCpZHtv3VedecA2bf7OS+W4XdoOMQvqDRqk2D60+fBO7F/rGYQUVHm21+DsiQr7+8m7tTgM+6Q/qAI7Sm2SVPpnI+i/ffm6zGpnkRqal1JI3+v29PH89M6SjiDbQNdChr2mfH3fwWal1LH6Z/W6U3dX95+zv3r6Jwfn/LmTnq2/PG5Hcy+7d2eFG6nywLuZfXjj+josRn2SvqgkCdZybXX3vv5myz3Zg91EUNW1t1f+Llv0Tnx/CJkb4PWe+X647CnpSJgpdbHuIKslxTszi9vdFcYhw6QjYqZcwwFTotiV0rNrcKJWhkbb7O+djkyGnuZDepKn/PPNWYnbOcvq1LU+Cchs7TdElAlo79tXXVP62DKQ8YM5KxJ9nd/Xt0cFfL62k+vioic+arNTqL10hOrsbEMI7TaIAEhAAwBC8Bui1t8a9BUVv6FpNunRmq+gD8kb9f/8ZMsvSs9n6WcsUoO3vFst67NsB/ztScF9SeVE+omxC8y9/NlJsjgnPsopnxYfjwcM8Cunv+QYljk3oP/zszkGra2ytpA/Nb7w71ExrcCt9/nwJlSk4G7Xy19s0+ZHdlMc8ae2k/O9Sa4o+3GWmrTz+eKto8y99iMDaiUZJ1WYfkm8lGIS0GceuI369gFbqxN331xd9eXdEv/uMpwwWzVmFKTirt5K4qQ86On7H6basgMU7xVkeV3m++pFPv3G5e9JLoZka39RCLt9yvkPjQtsYXXzq5+YVdLdo/z7JNuzIGTw8EPnjfi84vP60zJ3OInZy5ODCF+blplYFandF3YC0W/WRNQ27Z35eUx2B3hbEfnpnSVxnA9vhaxN+vDbgtqflVq+u0LyTcx7B+HJ9/9Z937weTI6H1KNHFVlr7cCOtXe4863ZiUGMn5N/165+P37XvPsZLNqXx1hyN9Nr6TbC3nJXAQAaZyhAgByKkffVpHrBKGQD5pBlSRBn+07BTbhkCqQzurpnxySqIyRajsh1VK2P7041awyzbr2xETC5KITdkz0iTzdqt5L6VZb2N+zbAVO7WqVE4VsJ4MIz9vDNdvQyeE+1WZSrV1OflupN+hvjEWrkyf8l2fpiZ7N3W+nEzfF9jMsx/emX+JFfkZk+7ztjy9MVWt9Xh9ky76tIUSPdnntenP60nZPVuezxbyUvjp8kBr3u2MTbXPsamQZVpgiu2jy3VFgkwttV5+yu7r9W8PV5jmGEgY5/8jMtkpBUu0W5EKfJPj3uepl9bznws2p+2QOq7X78tuK+W/Ol/RI3umy59WQi59NtM2IircXvt/uI6n8lL8rGbomf3/59N3Oxjsc8BZPojmIDBv1Y+8eOnrnzTJ2afnttnlj2tLE66qf1C4UuwXMep+LFVGzh1+KU/beKlQPcr82IoU6YGjbIbZ+u0eCLoSW2sPvhx8MLbyJ23wNveQ5NXtZ8mJFvuR96XVP5XihvN+rckFELtpc/ax/a4glPq8Tfn8V9gyX9tQRWmQ9+WHwhflsRSmAi8qTUQAAVLRCtt2H4U3C5hqGU8j5QNAJVtChdtsqe7WCDE88ftfNP+8NuP1mmX1IpZ+zH0nCSGLsx0cMS/SSnmOqqGxzlhd2YpZZ/UzyOSr9emRWlT2WpcpZkko/OHyouZckvarb21f+9o464LpX1aVPfhzYSiBXouKkPYIrWPP13QNLPzjS24LDZlffhU0O3PdOZmWbl5zgn3Lb2+o7d7+vLn6ibSVoOb01Pfv29j+etodZlZ700PUmW3+kX/uk97IMLfyBp6d+e5CE+M6ei4h+UskrGXQ7ccEaJUNvf+Tpse6tdC1jnjnQef8ak/izihHXRteruTZEde0dbyUvXMnP2RvTl3w+pFKcc8i2ZpW/j/Xfv81bYZsve36CN7HuR1obBQ1jTc0m2Mqq7Pcbchg1uwq8l/65k7/fMHMSsg1wy5ffDrW7fKrOHxidXyI4KpPzvDiXb27e27KryPy1uvGl4KrafPj9dwTNQBE//3fbob1+1djZjlFOuQYjR1VJno8T9DlCit9uGcBlJKABADl5Kz+/l0drgmwG9MqsEFtRl70CupBK7KDer96qEOnZeMmJO6lhm2YmlKPglxR+z2ewlbeiLiwX+j+3Bxlm9rXhgxIJzSu+uEvOgUR7bJXZS9nbk7kctvBUgk6YlxyK5m0PYNu0V/bq0W1MP9SUYnqV9+iSOylSrGwJ6FSSRCqVpy8O1zM+1/OkEiyVzP7PhwsyXlsk4f1/j3+kbnx5emDVZJSybQUWUhnZnqSdk/RelsRvuXbWZCMXBZ+74JBEG49sXpyUvLB4/fP+O1zEvZ4LFdl205TLmE9L05s5340MK/V7u932qn/PwmdBeKtq89l14JeMyriAW932P2z7TXuaVdI+2/TJOUjPTmT7VQFHzR56d+u39kl8DvC+Dtq7D8ol6OclysrrsIIutL7+qyPMKnPwZNghjik/O6awuShBgtrE5cuvkjvVhsPP2zPaXqie5jM0cVGEOyqKkevn69KnJkbeBiiX43dLX4ygAhrI1P6f/AAAHZ63im2PQentpcXYYpPMLbm5KqC920zDWB+QgLbJ1uCHzjtAff+w0lTkhamqEn0Dtmznstrq0VvI3xGC/elre6qJVx6vvndw7oo9SWLJMLQBPWvV3d/b1zxaXgf7DKMq1jGeyq7zPZWf2diDmcRxu2RP9EWhS5bKv35me/1jY6Ob4u89wR9tVZpf+cxk9eiYeYk2Ac98tNA82j5+/+VdO0TSt6OR97dcr/1SZfvOjGV5DQeL826UZk8CcejAHmblb97K+oyK0KoiysO9Ced8Erx+iU/7v8XvAu7fvp05jO7vb8zKqJpOkfZaKfbPmVQBP1fgxeWw7Pf9VOLZ+zoYVb/nIL86LnwCNqhvdyn5VYRf+aVd1ZABPdTs605UM675gnr+wkMTOzQe/f4BefeSL+aiip/UzoVi+SWggwozgjwzobj3LmlPJS2vFq4qroWXH7+fRdtD783VP7OZA0lLrVtN+meto1SKAx0Fn0IBAHmLqnjl694WHHXZE9DegX/H75qZGPPzowfGqVU+iW37M3nnEr8b+g1xvP1b+5hV2t6DC5uWbQ9byrUdEfkLW1Uuiaw7vrOv+uDSY9RRO+X+3iyFS08MHnRZqM17e6qq54fr/XjryE/Uvle/Yu4l9SpxEkRku+DTbF5DwvaNDcP7/WFf9Hr2o3Ti6cJH2m5tjtKahuAdJDLsr9w9ySvJXoP7qD99dQ/1g8My2+jYzvD0EM/l/COHmVX8eJM+3tcIL0kA2UksmadQKG8f+Xkr/JNaMojPy69yefTM9AUjv9f6YZv2VHtaF90liZ16HbFJe60U73F+/OC4vJN++bATuqkEdGdPkl9aoJzraX3y1kVHmlXxZACoV1D7pqiSq/mwX4vFR1cc9/mgYXnvlu/Jwf26J3ZojBia2Wc8jB5W9XS+nj7/YLNKi6pXtt9FlzCFGbb9t83/7yNFdgFJe6rbX5+pfvOfj82j0WkM8Zn3r/qzSKmM8rQAkpcne6fX+mZacAC2wt/9AQDOKnY4S4pUCdm9IFfkqID2fs688ku7mVUwqcCUKkQv+7+h1Ful/U5M+lqDjlIKTR4/PtZ/uBLah3fHQDkVUkUvyclsqvPdb2/c4NPD0h5IVypdsvS0TlVPLl6TWZmdS0seP5vZqoxL2Y9y7Bz/dgtzrj9Jjfq/o9r1+7ISfG3fweo3EV3AkYSsJLPiylt1bLcu8HPUTpuqz8wwVDH207YtqMJq9CTPgt43vQOCxXSfVgLLrQvfQZXZ8zzDV3P1E/7UZ57D0rX5vebkw27BkRrC6t19Ip859vEMy43ye3Sb/m2P5f23SillMj6I/e8s8q1wzqV7iJ7bQfYc3EcdvkNmAr+YXQI2v4su+VTlfjR/lbrqf20/Q+fa9ZAycsoSs1LqjYgGK9pyVUAL+SvwK0SJwrfvyrwwucNmvVR3q+gkV2tBwDUkoAEAeRvYM3M4WzEGWMdaZbWS8GNXQJ+8xxZq8026ql+HGPTmN6Ha/khe6ryMt2JL+G3Pbo+TMrhNvg+vO3V3c8+f3/dvoQpNZucjWw/ofPrF2qSNRhBvMu7SJyea1f+3dx9wclXlw8dPsi29kkJ6J5WanhBCCb0JgljoCEoVEQSkCgiKCiiWvyCCBRHlBVSQ3ruELj0ECC0QQhLSs0ne55k5lzlz994pu7O7M/f8vvk8nzkzmZ1kdsq997nPeU5DbqKo1Ep1YhBNp614WtJHS1c3y/T2OOHP0V0vL7SjtHCytVvohGt1E6Yd9c5TbR2I+jRceudrdhRtfcxnaPKQHnaUdtgf/mtH0XpGnAgsdd/jO176yPzx8bdT/W2zEtD2BNzMUDsmPTGmi6NpolPXJ/jdwdmtRZoq/BqruIVeS7mvo2sSvPJhcQsMNoemnlydPDT7PVZslXKc3z30lh1lXHZ34Qsc/ur+N+0o2/LVDSt79T1+87PvmXvk+yA42bp0VfMmYMOLv8a58LZX7Ciavic/zzGLqFA688BtwaHvzXD1PeAzEtAAgIJcst+EVLJKD8Rmb9ZwqmVjde+QqUJZnKcFh5tgCZJijZ3m7FYiNndK7MJ9GlZqR1Uj3h06iC+U9rAGinXvKduZx07f0QzumbuSKeq92tgF9QptZ9IUQQVglCBxVmyu4O2YRIoKV5jp1Ol3Pk3fP7yAWXMuhtTcJ9J8EW5TUIhwZfvB01qu3clL7y81Uy++10y/5D7z9NvxlcWFrkVQiHx9l699bL4dpYXfmk1pT6JtjgoRdUImXBVd6IyEYhekmzikYTutUrbH+vcLH5hv/XmuOefW/5lf3PdGVnVnUI0+vn9Xc8Zuo83OY/uYu06elbpNk6TXHTHZPHP2HLPzuObvxz/vk7gEdNN/F/raXXTby2bmj+83u13xsNn5sgdLnuQvVq/OxRdn6EkB5c4GDBT6/oxz6t+ft6NsT+X4nhjfP/szErVgtvo8IgF9/VPvmpP/9rw56o9Pm6fsz12cY+HWUli7vrBtqvbwj6Mn8KbJd+jki+5t0uwMpb3Aw4stH3d94etmAElHAhoAUJCDJg8yz56zs/nbMVMjE1KN5bYMyJeAdo/fmjo90T0YfDtiumwx4ipEL9hnXKrX87ThDfvnlbJacRfnQHKPmJ6L8Ee4kiqKJp+H9+pU0AFz1Gftzv99ZEfFaYlF8HJVQAeVgsX2oA3njrQlR5DsiJoCvN2lD5hXP1pm3vh4ub0l7bA/PGWGnH6b+dPjb9tbSqex1d3Idsi0IVlTqHMJTsTc40wzV/laUpTSiTc8a0fGfPm3j9tRw7YxpfzsrY2oOnST0u1CJ4H+8uS7dpTWlAXb9DurkJPgUZvYcPV0OGEZl/DrWeSsr6gTbUFCrhSOvz7zmv/mgXnmM2f2mFt9fcx2w83vDpmYagvgKuWsFpcudFqI1U1chFBft6Fn3G6uejhzouP1hcvNbQUu9njSjiPtqLSKrSq/8mtbmcsP2jI1jlok8dkFS+yocf7eiPZs7UP/j/BnOaAV2uHvmLNvycz++XYRixU3xWcFtrj4wGkBFKYtRvQzpM9p/9883qTE/7dnD49c9wVAWvMfBQAAEkMPqkvdR3QT50BUp1Lmst5pwdHUA6gb/1u6vsmbOwsUBZ4/Z2dz8LQhZvcJm0b+zuojDuDDO/6FcluThKcKwz+7jc9d2da7c10q+Vyorh1qzMRQ71A9uCy2p2K4x2Vzyd2CI534KDZZq5+xINmoieUtf3i32ebCu1MLLC2LqARTB/3uCTvKCBZwPPvW/5W8ZcKp/3jBjtAUg3p2MHPPmmPO3zt/Mk1PaOj7QquQXbneg658eQ7tv7r7FQ+bk254NnbWwVuhKtNgynu44raUJyiiKqBXOtX9uRbEVIUm+ONoT+l8ok7yhls/hGcvRDytlH227GdHhYnqP32Wk5xrLrqP1pQFHptKT9789hv5k7BNbcGhFeBRzrgp/jtQt3uBL23V345Kq0v74vpK77l5v6zE86On72BHaasjZsxocvT3j8w33/zj0+bZd6P7/uczrl/D92cgXJ3eLseaCrl6SWtBSdT3RKmr1Feubfoif+GK8IdCCwsWY9qwnqZjbcudgAQqDQloAECr6ts10z4iX6849+/dBPSoPoUn0wKaOCqVi/Zt2ENXk3a5bDGwYdK60EVdwtweeNURvaXhl855Flcqdjq5+uvRU+0oQxNjeoCpybezbnnR3PdqpoVMVAVRS1Q/q1xtPjQp96JNAhfjj4+/Y4adebt5bN4is8+Vj5rla+pTPet1yu51j0VXM+fraa9JxVKKmhKNxtEKtkKqmHe5/CEz4ge3m18/kN0ntS7HycRivqG11/DLHy4ztz73gbnpmcJOmh513X9TyeZwwlnf+41tnROm/58wTYoF3MrUKHFVlYX66uRBdpQWlVyPWigwvCheOEkdd+Kg2NZBcf2AtW9zcyrlSYbGKmQ/ptDvqrhkZdxidrn6MLuPFFVtXArhEyuHFtmKJ9xOLWpBXa301opdbdn2vZgWG/nk2jatCVWna0/jOMud5G/U/vvXrmp4ErYUCWNX1LoKxbYbCvesv/W5huvGFOLJM3dMFZxEFZPE9UMHfFPcpxMAgBLr0i5zkB+1qEng+QVLzI9uz/SScw9Mbvr2dDsqXCl70Y4NVZNELTAY1qGEFRLuNMiaJizuhGRwP1NRGrMAWNTnRae03vvKx2bPXz5i/vzEu+aIa59OtZfQ5HNUv9OWSkDnSrG999kq8+XfPmavFe+o655ucMD7+Fuf2lFx/vt246rX0DIKmeyj/b51UxReCKvQCuh83LZU1zwafaKjb6ithL6vrnl0fmQy8qd35V6EL0w/y1ELcy1anp2wUb+49w3zWZ42WoGmLtim30cdnWRfVEuHtyISPuHPbjjB2dj1Lc7da6wd5aZ9m0txEsB97q6o792WlithGXhfvofzOflvz5nhZ95ubvxvwwVg4xaz7ZzjpNGnznu2ubZFHZzF51Rj3uduC6219Q3fK+8vycwU1B7bjWkX8X6O2Tfhz0iuYgp3nz1qscKobdzcd0q73YtKQJ+y8yg7Kkz4O7RNEacJ3fdccGIj6nU/4trcC5cCvmiZIwEAAGK4U9VWrF0fW/FybKif3M3PZioU8lV8qvDj6jS55rLlwMIqTHNNbSyG2+ePCmh0zFO5eUcj+zdH+SQiEfXAa5+Ytxc1bKdTykXQcunh9EAN+9fzH0QesBbKbTOAZLtf3seNFZcga4pXPlwWmVSeOXITO8r4z0sfRb7Pf/3AvFTrl0ISxbrN3PfXj5mtL7jb3FRgL9nG9oZvDLfVxPrQCYC4pFy49YPTvSr1mjW2fcVh04fYUYbbi9nVlO+fShC3D+fSGSS5PPT6J1/s450W0VZjweLoBGrc66cn6d3/VnMloMO9f3MtiBvH3U5GtbB4M7SuQLiNTJxC29aFPyMDunewo4bc1/FvEScKonxWZOuufML/38u/smXswsoPvJbdqz+w24TstmU620RPFGnVcr4E/zrnSyRX8QkV0EBa83z7AgBQIK0UcKc6r4iZnheu2AjvdM9y+stG7WeHH/c6ZxGwxra+iFNohekVB21lR2nFFrLojrdWnLo+zLHQCvyQ7+C6kARBoX4dUfV0+T2vR/ZfbakEdNf2NakFQLcY0NV8f9fR9tY0d7GusKnDKrd/etRBshYinjKnuEowZLRrQpKq1GslBKKSGFFJaZ0xFFcNO/2S+8zEi+4xf386d8JIF3TTx9Hq7lOcqf65KniD5OpOY/L3aG4qN/k1+6cPmHmfZBJzmoCPsjzUs3a987npnGfmSJyXf7hL5Ot93RGT7ShbU/sfKz1ZX64KObGui73lcsJfs9sThd/jxc46eWxe9v2ba1sUte3tlqcdW5ibxIxKQLszAVWutiu6LQx8c9thdpTbwmVrzMfLMvuR4bY1mzkLWrqfwai+51E61xX3+8hnjdOz+uL9Jph9t+of2bpEaUujKFELLR/1x6fN9vK9csb/e9Heku2u/31kfnbXa/J5zvz7jZldBviGTwkAoNW5CehcbThyueqQbcz04T3NoB4dIhfBufK+TKJMd9j/5/SHDC/i1FRd2hd2ILvz2D7myJlD7bXiXRvRezZX9Sf80FKJXhV1wkMX2otKctdUN09SLoouAHrr8TNTK9L//tCJ9tZ4+23d3/zyq1vba5Vn6sX32lHaA9+bbZ49e445YceR9hYU6+hZhSVsWlI42fTupyvlMxhdDZqrylk/n/kWrXzLSei63KRtWJDHKbQqsync7xjtP7vjzx5MJezeWPh5gxlTgXAfbfcxGruwcVw7rfH9u5oXz9vZXsuIahdSjNfl+ZWzuOpTV66T7fq+C/cTLvR3FpWwVeG+w4W0SSuVY2YNt6PCuEnsuOfjynUf9/eY6wTLvadsZ0dpf30qc3JqtfOdo4UeQzfJvL7u/rqb7M6l1N8Nf3NOpAUnP+JaIMUlyZ9/b4kdZdz3arpa+oaIyu7Nz7vTHP2nueaXznGFasn3FVCpSEADAFpdx7rMNMWoqZlRFUPHbz/CjtJ0quP135xqHjx1tpk2vGF7jd899JYd6Y5lZrG0Urlg3/GpSz2GPXP3MalxPlo11ZTV2G974UM7ythpTB87gq/yJVIa+547qoiTJVEJ6Nqq4qcjl0IhB8Zf3maA6dW5zvzm65kk9D++Nc2OytuCxStTVWuugT06mG4dOBnVFL07Z/cFbWlRlcZu5ei9ryw0sy69P7aX+Jk3R1fuubRv86qYatrwyeAldup81Gc7ECQW60MtMVrKP+a+Zx5+Y5G9Fs1N2LszNfL1Lo76Xs13AtltMRZwKyYbQ59jJRrYI7PA3sYcnfp3+NmDdpRRaNV43Ayw7qHvwuaaoRDWo2ONOXzGkMgWLXHc9RbWFvA5iuvrHu7d3qtTnR1l09Yzg2V74brsntftKLsC+tvbDTednET2Cmd/vdATOLm+P5oq2MeIOymkC7q63vtsZepEXbHrMSyLKZTJ9b7SAhkAJKABAGWgk9PDOWp19KsfziSPA8fvkJ2ADugOYL6e0A++nn2AuvcW/eyo8b4+eZD505GTzR3fmVVQBVAptGabA5SvfAd4+fpvxjlGDj4LFVXl1Fx9N/PpUkACOkiY7TKur/nzkVNSyedtBndP3VbuovpSN7aaExntalv3u3RlRNLNTfgced3TdhTt9YXRFcyun9/9uvntg/PstWzh93/QBivX90tQjdlai+Fd/+S75tMVDfvSu9Y5C7u5zyXfZ+b/RSx23K9bJqkaJWoxsnc+bdqMq1yJ8nL5zoqqBC1k4cE4r3yYXfXdP8/vPZdcCxWWwnHbp7eT+u8cOHFgamG6H+zRsCjhkv0m2FE2dx9uXY72GgFdADhKeB2G3Tff1I6y3X7Stjl7n7sV1rXV2S3zPne+jwpdcLHebbzeROGTdMHTCCfUo+h338wf32+2uuBue0u8xiwceuDEAXaU1tj9LiBpWnfPCgAA4R4QuAfYgdtfbNjPMVhtujHCU5a/tHXjq5ADuvO97cheZpTTH6+5RbXbCC+CA//kW4jy7pcbNwPAPfDMJ6ovZW0rTU/N14Ozu/z95KHp/s/6OdZF3SYO6dEiVXL5FjgqBOecmkdrn8yLaqGxLFTVWApX3PuGHWULvzODyt1cU+iDv3tq/uLUZZTnz2nYlqJUXnx/aVZP2ChuIqiYBPQWA7uZuWftZK+lFZhzy3LKjZl+2o2R6215xIzGt/QqpajfZVZ/3CK/9ua+k12h2qdLdDWvinrvaR/zwIQBXe2oeZy80yhz7eGTzB0nz/piFkrUSYOvTBpoR9myK6Abn6wNty1pH7PPnK9tm/t519fQTSBf8O+X7ciYTyMWJI4SVTjRWOF2QItXpL8f8+0H63ZXZ38UqjHfu7r+xOzNMmvTLMmx/gTgE3ZZAQCtLqsHdEQCOlxxtW3Eqv/57DA6syhSeP93XL/CFk9pbsXslmtVStRU49aqMkX5yLcYUN8ujWstUMjiUoE7XmrYHqa13pv5Win89eipsSe0jmnmPsBuYqSxWPioeTT2BMSP94+ubIyS69X/1wsf2FFG1Ayh5hLuLRtMxXerAbW9zcjeney1dHVv1EnkwOsX7ma6FrkoW5y4nrbDemX+P1HcfsDFJKBVz1Abg1zV4HE+zdGbuxBRC6YFWuCcWUF0LY4GmvB/C++j5fraPPD/Hm/w3v3AKTpwE7zNQauJZ2/WO6tKO+qpx32/uGslhJ9H1AlLXUQ7anHSK+7JTrDGvb1rYrYfr9h2Fe42Sk9u3/h0dguYhctWp/bbwws9xilh/rnB529Iz/T7LtfJw10vf8gMPeN2e60w7nFJ3Enj8H6XfldcduCW9lqmhRHgO/ZYAQCtrqObgI44wNYdbNfuE6KnEuYSLCiiwpWcrdnrs7EHjFH9n0k+Q+mBrSZ6rjpkonn5h7vYWzN++bWt7Kg4xSTkrnv8HTvKKHSKbnPYf+vs6bCu0X3jE/ZBZXShTtt1MzsqzJomLkimSllRhqb7yqRBdhSt0I/RkIhWToX2wi2F3zyQ3ZpDKyr133erDjVp626PdfGycefeaa9l0164pdxGxSWM4xYgC2RVQLvPpREb40K+E7W3fFhTZj50yDETpdQLvDXW5V/ZqsHr414t9n8Zft+7J0F2n9DXjjJG/uA/Zsjpt6UWpNReyKc5C26GeyO3hGLeWm6C/ONQb/95EQuD6iLa2//0AXPRbZlqZN2uPPJmdoGCvlc3i5ihF8yYmhhq37LbFQ+bx+d9mvVv6v9t1shMVa+afekD5r9vx894CCvl5iqceA/Wf8m1r/HqR8Uv4ukm4eM+Y1EnXdz2X9o3ujEnrICk4UgVANDqdBGUQFQyZcuB3eworbEHWcGB5wBnMZxi2gqUk88iqil+uPc4O4LvNNEzZ2yfyMV4Jg0pLqlaKvmmxjenTs5Cp8XQVf+Lccys4eaF8wpvMfDie0vtqPFIQJePuKrcUlljW9ssKnC6e1OEEzVHXPu0GX32HWbihffYW9JJ4Kh+v67BPTuYn3x5c3PuXqXdPsW97Vc4Fc4Btzey2zPdTWQWeoJsP7uIa4faKrPPlvnXj3AXNg1oYq+x3P2lsPUl7K/bFGP7dTGPnb6DvZY2eWj+RdhuillgMbxQppvIy9V2ZM5lD5kJ591lr6U98+4SO2o5xZy8dat3r7z/zdTnbc7PHzT/9+A8c/Oz79u/aeiqh+ebD2yf9vBMiZkj0rMGo9ZOCU4UfHfnUalL11eveiKrnZYmoKeETsrqwqi6IGqhSrm1OirUB9/9PesJeJ0tec6eY+0tjedWosctsBp1Qkxvc7cJS1fRhgMgAQ0AKHvhPm+9OuXuWaf+cPgkO8r465PpxVr+78HMoobf2WmkHVWW8MJjmkjXBW+AXHpHVOO1lHAfz5aUq2owFz3gfvG8nWMXjHJpdZkecHaJWAT161Oiq2IvL6IPZZzQLG1z2PQhdoSmuvqQiWaMM7U63wJmd508y46aLpx0U0El6OX3vJ66LJTbi7SUtGo41wJmShf1bI5tkya2o4TbeF3/zSlZ3z03/HeBHaWTZ4E3P86/aKM6e8+x5qw9xpg/yfPaJNSSI4r2kw871anILVautj1xybHW0KdLO/Ov42emEpbHbDfMzLDVqXG0fcspf4/ujx3e33FPukWdZC1335gaP0si/PrqyaY35L158X9eNQO6515c7/s3pd9XU350b+oyEPRt3iNi9mBwQqNXAe9lve8BocX11J3/y05AD9skfiHuUqx7EAgWRo2iJ+D1M7pfCdZ4CRL7al3MSZ6oBLRye2xHFY4AviEBDQAoe+EVqHce23DKZdj2m/U2L52f3X7gb08vSE1VdL3zafZK4ZViQPfsVeD/eOTkVm1xgMoQVFA2VtQBbKHyLXbUnBYuXW1HxevcrsYcNDk+YaCJZ02wXHtE5qTX1GHZSacf7jPe3HvKdubfJ8y0t6TpgllNbasQntarCTKUxk5j+5j/nLSteerMHVPtVa6T79kofzlqipl/8e5m067Z38tNEV5ETP2/Z9IVkH9+In0ytVDh7UXY1hfcbX557xuRCx/mokmXXD2f1cCofsAlEHfyeNmqzP/nq/K5nT48e82Ih17/xI6Mufaxt+2ocN3le+yobYdlVVUXK9cievm41ZjhBHi5tOAI6IJ/fztmmjljtzH2lrSoJOQTb8VXhf/QWexOvy/d6vy4xF+cfl1br+VaIKq9TqBjjtk68/KcJNF1QR6bt6jBNiG4HrWPGPz+ClnYW0/IBgsruj75PHtGhrae0BNPUVr6HdqUBcsDl/znVTuS32URFdDKXfyxNWeBAeWCBDQAoKxE7dq5FX7Hbz+i4ERruL2GVjiFe8aFF3mpFOEDkVyLrgCBpk4BvXj/CebgqYNTVbbf23lUzkqnsNZsFVGKqa9Ri5++fcke5s6TZ6USLG7yMbwwoB6cDu/VyYzv39XekvH3pzMVmY3h/l51IaRiEzLIr3eXdubY2SPM1oO6m199rWFLBa32LGaafSFWRyQrtOKvMT1s87XdWbxirfnZ3a+bc//5v9T1QqsU9b32bCu0NFB6kjnKzc9m2jjEtavQhNyrHy37IqHf3C7cd7wdpUVVRRfK7cn7tSmDUq1AAuF2ZeUk38cj31suqFDf9if3py4Dxe76/CqiJUo5iVzA0br6kfl2FO+5BQ0/j+6JiQtC78Xge8t9H8UJ+kW7bSW6RSwqqp+vGSNiKt6baTfggn2iW/zk6wnvituP/mhZ5gR2sRXQdU4COuqkIuAbjlYBAK0u34FJeNGjUloRMc25tRQzNfEX971pR0DL0fYSegB73t7jzPE7jExV9eqBZq6+pAFNlrSWngW07cnnG1MH21F+uU6SdQwd6C9a3rRpuW61G8nn5rdZ3052lNG3Gaoq4yrjt/rh3XbUkLaGCNMq2a7OYli5/PP5D1KX4QrKOPp+e3J+4/sZN4UmznSx1XA7g4XOwm1xn4df3f+m2fXyh+215hc+edXYcxVapX7rc+nXSP3j6QXmhqOnmu1G9TJn7DY6q11MOYva1clXDHD7i+mFl8PVtm2L/GU2x2e1WP+OWEQ6UOhnL06PiApl93c7NKb6upBWJsECiafukllsd9qwhonmXcf3TX0+deHRsI0lykAvWJw9e3FQzPMq5sTgOXtFzx5asnLdF6/LP53PnytuEdN2TgK8qbOdgCQgAQ0AKGsr19abp50VtotNsAyJ6RMZ0D5xramN/CmFQhMMQCnpwZ1OtX32nDn2loaG9eqYqk4KT4VvSTptPopWDBdKF3Ys1IheDZOUgWO2G25HaU2tDHdP0NGGp/lFTelujsVsL73zNTvKFtdmQVvBHDKtYcJHt4HhivxctCL/kGuestdy0xlFN317ur3W8vQzec6e8YsbBi2Hwid9fn53cT20mypc1eou7FaoVz5clqpSd2kl9eYDupnrjpjc4Hul3OTb1+nXLXebmI4xnzFNQJ8XkziMUmzCujnsNj6+jdy7ocRqsa55tGGVtPt+izsZ264m/3dEsOCo207rQaelTeDImemFIXXh0efP3dkc6PSNbuLm7gvhdmLFVDrHGSXfoXFueiY9s+LC215JXYZVxSzGutZJ/j/TiutgAOWCBDQAoKy4O6fa+3mvXz5iHnNWjC82Af31KbmrFvdsQk/b1jSwR/bBWnP12UTl6+kcLGqSqtQ0Ca19kuPc+93tzMERibGW1C+mN++P99/cjvIrJln9nTkjU71G9aBYk0OuQqY6F8PtkR9zDIwSCiegf/Sl/AtUtgTNq2lC9iib/AnotO9itpu6QJ67zc1HE6CtSZ9zXG96XcBNXX7QVqnLXLSKuLnod6TbIqAxvfhfen+pHWXsPK51T6A3VlQOMl8FdP9u7czSlQ3bz6xYW28OmzHUfGmrwhabK4cE9Nh+8duSpn6eXl/YsE+0m4DuHlEhrQqpFA4qoOuqM9+B4QUilfsdqcUR7smHEuWfv0iGB4L/W1MELUainJZn4dC4Cuj3PsssYPjTu1r2xBdQjkhAAwBaXdx+71m3vmTmfZLds7nYg4d8VYuVWjG4YHFmp/YnXy48iQb/XPaVLeVzk+6Hqj2cm0vvztELaxUzBba5fGXSQDvK+NfxM1OLZBVK+/xG9YGOoq1KHjpte/Pfs3ZqkNgKV/LpfRtDpwTrlF5acLQsd1Ep1T2iB2qhimm7lE+wrQsnyF96f1lZtB1oTmM2jT6xFnwcRvaOn5EQePbd5q1OdHvBlmoxskpaRDnfZiBfUl7/XpPNYUPtOgRf3iZTZZtLGWyOclaD79zEWXmDI2b9uQlo/S7YZ8t+qd/DiTuMsLemHT1rmB1FyySgi0shub/zEn7lZWnMrIKwppwcjtv21rBNBrKQgAYAlKWPlq421z/ZcKX/YoscKnWRwWK85qwID4TNGtXLPPC97c3935udWkStuQzonnsKdWvSpNwvvppdBVlXwJTjsOsOn2x2GtPH9O3SzvzlqOhV/gPV8mUVlVwOJzAbkxDRRRW3/+kDZtKF95ibn80spNaYykoUJ/z6Fb+wVPMkJII2TFHJoSBJl1Rxaznc+b+FqcshBTz/5WsaJjdLyX1d1pRoMbIDnNYGlSQqCZkvgbhw2Woz5+cP2mtpfzpy8he9i9sXmDwsh33CXDnJQosi4ra3USclwtuFKw7aKtUa47s7Z3o5q6j2QoFrD59kR8Z8tjJ+3YJwT3bVHEn/cCuixmzPw4b07Jjzu/L+1z62o4biimN0PwBABp8IAEBZen1hdFL1gyWZ1agLkeugZPrwmFW6K4wukALkMqhnh2Zv0zJzZPNNYS8FdzEg1ZiekZocuPrQiebxM3YwM0Y0rqd1+Dg1rqdvLroYmfYK/XxNvbnhvwvsrcZ0i5lejdLR94CbI5rQv/Aq+uai1Xe6MKiKS8RcmuCZMu46Ea7+Tl/hK7+Wuw1HIz6GRcnXtiCfqArLXp2iZ51UIrdXrtov1FLjR7e/2uBEw7bONid8YihOIYvtNbsSJGTd1g75RK0zEHVyNOIt9oVZzu8614ns03druBCqq1SLEIYXa9xqYNNbAWkS+c7vzEq1VZq9WcP9mcP/8F87aijoER2Wq60H4CMS0ACAshLsnMb1c1u2qrhka65FBg+b3rp9aVUpKkPytRkBWsKXt25YjXfGbqPtqPW5U+BVUyqTmtJWpKktSbTtxtWPNFxoSs37uGH/T5Te7w+blEo8n7rLZmZE79L3VVduQi3X1HD9jD182vZmuF34Mq6KMW7xsVL47pxRdmTMt5zF8HZpoR7FW8Ykn/7fsZkFElt7oV73hNd9r8ZXUsaJel3Lob1RY0QlIcMV0Kfn2XaM6pPdVqWQhUD1s1IOCzbnW5BRW2SUUr4FHgO52mO4ldlxJ7MP2GZAzOuQ+dlSteCoX595IF3boqmfBX0/aV9p3Z/+2pRB5uhtc7cjCdNZSVG09RmADI5YAQBlIHsHbfGKteZHt0evNN2pXXHVK707R/e+1IXZtouocKhEo/s2TwIEKIZWWR86bXCqJ+6xs4ebG4+ZlrenZEvaNlSxrIsEtoamHI7Wr99gRp99h73W0MQhzddiBRnbb9bb/OuEmea47bN7qJZS/YZMQu7eU7azo4aO2W54VoIprhdp3OJjTfH3b01LXZ6wwwhz87HTzXPnzDHf33Uz84Pdx5ivTh5kfrjP+NTfNzf9t6Jo3/ZAY3utl8rLHy6zo9KYMrSHHVWGfAlCNwGtC2n2lteuT5f4Cu/wYnuF9O/Vz0o5yJeTPHvPsXYUL27hzTD9tf/0gC3stdzi2tDcl+P7xxVX7eu+9CXKP2dVQNdU5/mF5vCHwyaZs/YYY64+ZFLWe1Tff6UQtSgk4DMS0ACAsnPVw2+ZFyNWfFelWMFcpyL/56Rts6bEVrK9tyhttQzQWOfvM948c/Ycc9quo83koT3yJh1aklZwzb94d3P7iduaNy/ardX+b01JHD30xid2FO2Olz6yI1QyXZxwnVPh16dzO7PruL72Wm5PvJXdjiKoTh5mK6QDk4c0PYG5uV3EUz9LWw3qnmoBo+NvzhpmLt5vQlYCuDkV0v83X+XrJmXeziLcu7jQnsflKKoK1n1+wayuAyc2XDw2Tnhx17CrDploR60v37ZH34sHTx1sr0WbVMDJxp/sv7l55Ps7mDGbdrG35LZ8dXQCOuq9FnUC99WY9Uiynm0BJdAr1tSbd20va/0u/OTzNamxyz1BV9W28SktnTly1LbDUifQXSMKWLgUQPFIQAMAys5vHphnRw11KbICOsoBclBTquqG1uJW+9TQggNlpJySzmH6fxvbr0urLgyk3z2DGtmP++m3P7OjaFsNanofTLQ+t7pPqyX15Em7AhfZcvseq93GpxPX4QRsr851Znz/whJTccrlJG5Uy65wz+eoBOWwXpkFx/581GQ7ah7B69BY4RYVhfY8Lhf5tgru8wsS0MX0x8/X07+QCumWUsgmMt9ClfqdcIrT+ibKyD6dGnwf5BJXAa2L7ob1jUhAbzUwOinuPt98r+jHn682486908y69H7z5yfeMYdc85SZdNE95rK7X7f3SHO/I5vS5iJXj+YHvjfbjvKLW7zwthNn2pExPyuwEh1Istbb+wYAIEK+4ogjZxY/pf/fJ2R2ALUipFwVUBjyBbdaSPvWAagcjU1GDcmxQr/atGvhyQaUrzecXt5BnmVNKAGppg1ruJCutsNwdXASr24lpC60VVXGJ4uKEU5Aa/XonptnzwzShLtL14DQ2RA6Bf/W42aY0X2blozPp6mLwLoV8Squ13elWhNRAX3dY2+nLguR78RnOa2VUUi+9Manoxe1C+hCgCfsONK8esGusYnSuLVU4mw7suHCun/95tTI3+2KNQ0T5NuOil6Y1+15nW8/d9rF99mRMWfd8pJ5+I1FqfEV976Rugy89ckKOzJm7ju5T8zmkit53SXPrAltM6b01/OLg6IXOR3Xr6t55Pvbp16j/bdpuE4G4BsS0ACAVlfoMbBWDXbtUHwfx/H9u6YWI/r9oRPLbgewMcf/4enZNU2YfgigguQ5eP/+ruWz6CMa79i/PGNHGf8JtVfR7eFvv7GNvZahlb5b2NYYWpXnVi/efuJMc8txM8zcs3ZKbUsHdM+fFI1b4K+cdAxVt8ZNn9der0pnCpy719hUEnf70b3NFi3wHDXR5ea6tJ97MV79KLuHdNIS0FkV0DZxunJt7irgsOD1jZKvQrplFb/jp2t9BMnSvbbol9qvVfo+0BOTw51q/kCu6t4oun+8c2jh7qnDolv1dKhr+P7rFpOwdfdzdf81F7eyOZffPBg/UzLsioO2tCNj/nLUFDNrVHr9l7GbdmlwYsqVb5aBthl76NTtU4vATrDfuVH0ezbfyWPAFxyxAgAqxjWHNb6Hn1aL7DimT+wCTZXEnZaqz8ddnRxAcq1z+l6GHbDNgMhp0ShfcamW+Ysy1X1xHjpt+9gTsr87ZKK5YN/x5o9HTM7a5mkloyaUe9p+x2fuMSZna4Izdx9tTtk5epp/oS1BWkK4pU5c4k17vWry/aZvTU/9LlqS/ntuFe7aIhPQf3z8HTtK27WJLT1aWr5ft5uADpLFB04srmBAX9+3L9kjlWQMq7QK6LCPlq02b/5o99Tz++VXG1bbznMqggPFtqbQimn97gj6S8/erFfs5ySqR3VcxbD7CIWll/NzE+X59ut1NsRvvr61+cPhk8z04T3Nr2X8229sba7/5pSc3wOFnLTQ3tGFnMgDkFY+38QAAIi4nVNtnTGid2d7zW/1TvVzU3rfAags7mc/jIPgZCumb7gu/qcJonxtH7Q/7BNn7phKNEc5etZwM3NE9LT61euKS6A2t53G9LYjY+aEqjhdmnxvrZO2bs/sNU38/W1nqzgrkVsFu2HDRvPmx59ntZgJWkccOn1I6rJYGyKqbMtp0elCTn6472eVbwHuqAR7vnYXcf505JRUcvb/Dm44wyLwpa36m86hNVm6tIurgM783xv7f1Lu+0YXPA0cNXOoHUXTBPVuEzY122/WO/V/6VRXbXYdv2nWY0Qppvc+gMLwiQIAtLpCDgUPKLISJsncyqlgqiqAylTMAbnb+z2sjgPlilBA7ilSsdWghdKkUf9uDRPVmqRRmrC5cN/xDaajHz2r+PUYmtNFX5pgTtpxpPnzkVNM787lORPAraiM6umdZHFv++P/+ozZ6ecPmX/MzfQ8DpKp3XMkCI/ZLv79F5VsrrQK6K9MGmRHaStiFggMaGVvWLFV9gFt6zF9+CY5k/b6vfC7g7NnJYYT0lGakH/Oaj0XtWhlc4g70dajY+7kNYBo7KkCAMrePlv2y6qg8J3bO7LYHn8AykAjP7Zu+52w8upxisaKO8mwiW2b0Ryi3jv3fW87OzLmG1MHm5fO38U8d86c1PXBPTvkrTpsaVr1ffKcUWZmxEJq5cKdsbS+CaWg2kKgkgXPXPv93v5idm9zFSQUcy0Cd8IOI+2ooYmD0y0kXOV0sr5ft/yLxYZb4+Q7YXHxfhPsKKNjbf6EcFOsWpedFI/rS16q3ffV9Zme4GvXZ8Yt/drqbJRrD59krwEoBnuqAICy50uV78YCa0OyFiCkAhrwRq6Fy5o72YCW8fHna+wo205j+3yRmDt0WsP+q02xSWghrtcu3LVBFbFOY9cp69qD9sFTtze9ncUN0fy0XUpggl2ArpJEFREsXx1d1Rvs84UXlwyM69fliwr9KNo6YZNO2RWqrT1DRCvzpw3rmUoUF3IyKbxvl6/Kd9Ou7c22oZMvzb3wnf6bxcq1COETb31qR9HctjUtVQEddsSMofL9N9tsPqD8F2cFylHrfhMDABAWsXPaEivUt5Y2jSiFdCvkSEAD/nBPPoXRgiMZ7nipYUWo0qTVP4+fYa44aEtzxu5j7K2loQnN0X3TayzsMq5Pzqn3aB3udr/SZzsEu3lX3PtGehASJBTjZr71LeDkx6Lla+0orbULGbQy/69HTzVfnZzdWiNOTWh225URCw+G/WCPMalFRncb39e8cdFu9tbmM2bTLuaw6UNSFcFXHRK/SHih+7nzPlluR9FWr0tXPT/z7mfmqofnp8aqJRPQ5+w1lhmZQBOwpwoAaHX59uUOmjTQjqCyE9DsCAO+qN+Q+eyHp2jP+2SFHaGSBYngwGm7bmZH+nddzD5b9o+d6t5YWt18w9FTzXVHTDa/KCDRhZZz49MLzOk3vZBVGV+JJ56j9vOueTSTRHTlSxafu9c4Oypcpc2k6xxa0C/XwpoB/X645bgZ5jff2KbF3iPn7T3OPHTa9jn/f+5rH64x+dX9b5odfvaAOemGZ80Pbn7J3hpN25AsXbnOfPV3T9hb0ijEACoHn1YAQFnTqcbV7FxmoQUH4Kd657O//9bZi9LRAzoZ2oYydUe2UK9lba+x3aheVD+XkVc+XGZO+8cL5ob/LrC3pFX62g/52o3lqmi98ZhpZlDPhotm5qNtOSrJiN6dzIwR6YUFtd96JVfduv9z97X/9wsfmEvvfM289ckKc+tzH9hb42kF9N2vLGzQD9uXNn1AEvBpBQCUlVtCO6Gn7TrajhC4R3bAA6vslEQAyeeefOoaWqAr3PMUlemul7NbcJAQTqZcvXADN819z46ylboCviUUkz7NlYDefEBh/a+7dYhfwLBS/OmIKebh07Y3Z+051t5SmeIqoI+//lk7KsyXf/tY1kKegQ0FfJZKYfLQHnYEoLFIQAMAysrcdz6zo7SW7O3W2grdh/7lfZm+ie99tsqOACSd24Kje8fshPMem/ezI1SyVz/83I6QNMVWsYY/44FKn/mk+zraxzdOrv2+QpPvSZgRolXbA3sUX+1dbtz3fVNSxavXbUhVTYetb6EEdI8OnOQFmooENACg1eVaoCSq2iFJGjOrUnfCAfjHrYDWBEuwoJX23+xUV50ao3JE5U2mDktPu1c7ju5tR/BRVLI1PPOhYoR2dt7PcfLcbanQ2H1A2pOVD/cVLCZXrIsbht3zysd2lLF+Q/MloH92wBapS+2Tr4s8AmgavpkBAGWN1aYBIK3eWYBUEzMX7zfBPHHGjuZ3B29jb0W5y7dF+5dT4TdteCYZDf9EVfFuaMZkW0vRlgnf+dtz9lpDbgV0Y9uNJL14oaI4L0W+/t+BbUduYm47caa9ltvEwc3XGmO/rfubW4+bYR48dXYiqtGB1kYCGgCACrLOSUCpCf0L64cIoDwVekCu6p3kU7A4a9+u7ThRlyBvfrzcjozp3I6qdp/VRCw26H4HVBL3mTz77pKcVatuBbQ7s6OYPveV+ntKIneWY6EV0GP7dZHvv8Kq/fW+zUW3rVsM7GYGdCf5DJQCCWgAQKsjd1K4Pz3+jh2lHTBxgB0BqBS52g7l4p6AikpOIVloI5BchSTiQuebU5qz3UBLefWj3H3O3QroSw/Y3I6MOWmnUXaUXxIqxZMiah/fnc0TZcmKdXaUjcJ2oLKxVwMAQJko5HDph/9+2Y7SenassyMASVfv9ICubstufNJsDGUlSUD7bb2z6GjAXYi0UuUrOnAT0NuO7GWuOWxiqhfvQZMG2lvzO3rWMDsy5tBpg+0I5eLDpavtKFow+yP8XuG8AlDZ2KsBAJStWaN62VFyNbWYY9fxfe0IQNK5yadqKqATJ1zdqn1Q4a+oNhKVmoBzE4ld8rRWaFed3fd5h9F9zP7bDCjqhMzXpw42R80cmkpanzyn8MpplJ67pdKTbPe8vNBs+5P77S253XLsDDuK9q3thtsRgEpAAhoAUJba11SlFthCbroyNwA/rHMqoGnBkTzhhGO3DoX3vEXyJKHdRpSlq6LbKwTalmC/RpPVZ+051lyy/+Z8jlqZe/JBJ3kc9cen7bV4mw/slrrU/stb2nGUb5OABioKCWgAQKuLOtR46fxdTP9u7e01AEBWBTQtOBLn9hc/tCMgugK6Uj342id2BN9kLUJoL3PZc/NNzZ4TNrXXjDl9t9F2lO2IGUNN1w6FLVQIoDyw5woAKDuDenSgsjdEpy1e9dBb9hoAH2X1gKYCOnE+WLLKjoBkVUC/+P5SO4Jv3Aron9/9uh1Fu/6oKebKr22dVQUfV4yy8PPcfaQBlB8S0ACAslNN8rmBu15eaC66/RV7Le3PR06xIwA+cCsiWaAuCbITjOsrf3055JBv8b0w94RTpUtSNTeKU8zbfuKQHnaUMaB7dAL6theYMQJUGvZcAQBlpxT9/yqRVjnH+cfc9+woY8qwhjvqAJJp5dp686FTIcuJusqUKwk5sk8nOwK053tyzkhMHsr+ircKPPMyY0RPU1vdMD3VptgzNwDKFgloAECrC+9cVnm0s1noU62NqHakAhLww/tLVpmx59xpPliamXLM5z/ZpnKC0XvXP/WuHVW+Y2YNsyP4ZlmeRSenD+9p/nb0VHPNYZPsLYWZ0L+rHQGoFOy5AgDKjq8V0LlEVYUAqHw5Jj58YcYl99lRBj2gk2f+ohV2ZEyvzu3sCL5avGKtHWWcvNMoO6os3TvU2lG2/bbqb0dIqo/z9GrW/dspw3qauuoqe0thDp0+xI4AVAqOZgEAZYep5Q1FHYgCqEylmORR3Zbd+CQ5+PdPmkvvfM1ei571guQo5MRTp7pqOzJmry36mVuOm2FO3HGEvaWyxJ0wW7t+gzlw4gB7zZivTRlkR0iKfC00Grst239rTl4AlYY9GwBA2aECuqEHX//EjgD4pluHGjvKqKECOjE+XLrKPPzGInstjVkvyVPsiSe3Dcuem29qthzYLW8yr1zFnVA5bPoQc9quo832m/UyO43pY07fbbT9GyTF2vrcvcy/v+tmdhQv6m1Pb2ig8rBnAwAoO77mVeIKonItTggg+ZasbNhDs5oK2cR45p0ldpRRywkG761xEnd1FX5CokfH6BYcPTvVmU0k/nD4ZHP1oRNNl3YNT7ahssWt63LEjKHmxmOmmZF9Ottb4p26S/4kNYDyx54rAKDsVHlVAZ3/ua7fQAIaQLYaZookxnHXP2NHGVRAw60crfT3Q1y1Ki3Xku8He4yxo2xfnTzQTB5a2GKrx84eYTrWZnpE//1b0+wIQCVhzwYAUHbIt2arj/iF/OWoKXYEIMnmfbLcjrJRAZ1sJKD99oObXzRPzl9sr1V+BXQcWq4l38AeHewo2/BeneyoME/+YCdzzp5jzTWHTTSThhSWuAZQXtizAQC0unBhzNx3PrMjKF2kx/X2JXuYGSM2sdcAJNmjb2b3Bg74NVMkmXJ1V6rhBEOibYxtumXMcwuWmL88+a69llZblan+TBIW2/RD/27t7ShN1zAo9uSDLsp5xMyhZofRfewtACoN3/gAAJS5+vWZA9WoxcgAJFdckpJFCCtTm4i2S/ts2c+OMlauXW9H8M3DEYsO19Uk87C9Y10yE+vItqY++/vs0GlD7AiAT0hAAwBQLmISTfVOBTRVcYBf4qrEqtvyXZAUUX3+P1iyyo6QFFEnH6L87O7X7SgjCZXCe2y+qR1ltK8hAe2DRcvX2lHairX1dgTAJ+y5AgDKzrdnD7ej5ItZlyeL24KDhccAv8Qt0kUFdHJEJaBfeG+pHQHJ6Al+/t7jzLYjM+3DJg3pHrs4IZJt3scr7AiAT0hAV74BEtdIfCCxRuJticsluksUQzv568/pz+vj6OPp4+rjR/mxxL0SCyS0RENXyXhW4lyJnhJxpkvcLqH3XynxgsR3JDj9DXgsXBWU1MV2GsttwcHCY0DlKybl4s6AcJG4SY6ohWYPn8EUdWRUJ+CE0yad6syfjpxiHjp1e/PDfcaZK7+2tf0b+ObHX97cjgD4hKPYyqYlgnMlDpd4SuIyibckTpJ4XCJXItil99P768/Nk9DH0cfTx9XHHyYRdrJER4m7Ja6Q+IuEzqU5T0KTygMlwvaReEhilsTNEr+SqJXQf+8GCQBIaUtiJUv9BrcFB78bwCdrnRNQSKZwBfQmnWrNN6YOttfgk40xTd+7d9BDpmQY1LODOWTaENOnSzt7C3wzdBNNIwDwDQnoyvZrid4SJ0rsK3G6xA4SmtDdTOIiiUL8SGKUhP7cjhL6OPp4mpDWx9d/J6yLxFSJIyT0/idITJLQx9KVVM6QcOn9r5LQFQhmSxwpcarElhKa/P6yxEESAGCeX7DEjqDW1mcOSOkBDfhDk1H/fF4npSHJ3Aro646YbJ4+aw7f9QkXt7jo8jUNe+NqqwreD6hkt504046M2W18XzsC4Bu2ZJVLq5J3ltCWGVpJ7NI2GNpY6WCJfKcX9e/1fnp//TnXlRL6+LtIhKugV9vLsBvt5Uh7GdAEcy8JrXR+Wm+w9HHOSg/Nt+0lAM+98fFyO4JyK6CTMA0XQGGeXbCEE3IeeOj1T+wovuc3Kl8hk7ve+VQ7FGa7eL8JdgRUpnH9upoHvjfb3HzsdPPrr9N6BfAVCejKpZXO6i6JcHPAzyUeleggoVXKuUyTaC+h99efc+nj6uOr7e1lPnvZS23D4Qr+v3fYS5e25dC9Le0PXac3APDLhlAp0J+PnGJHfokpiDLr3B7Qbdl0A7645PZX7QhJFe7xvXjFWjuCj+55ZaEdpV2w73gzondnew2oXEM26Wi2GsTCk4DPOIqtXNpiQ71uL8PesJfaWiOXpj7O9yS077O273hY4gIJTT5fIuHK9e/oXLP5EtUSUf2mw7QvdVSMlgBQgcI9D7U/oC8K2Q2f+46u25r2HNWQgDfqathVT7o19dkJ6JVrG7ZggD/C/cAPphc4ACAh2KutXF3t5VJ7GRbc3s1exmnq42gCWlt3fEdCmztphbO2BsnMJUwr1f8XQALFVf4i7UdUQQJeiuv7qlWRqHy67asPLTLp9oOGf3qzMB8AIKFIQCdXUFTX1L3YfI+jqwjoffRyPwmtYH5WotjmTsX8f7eJCTI0QIWKW4wHAHx236sf21HaTd+ebv7+rWnm65MH2VtQacKzz9c5Pf7VTmP62BGSLG63p09nuhECAJKJBHTlCiqGg8risC72Mq7iOFCqx9GGZTdLaPVzT4k/SrhK9e8ASKCNTT5XBgDJN2bTzmbSkB6mLQvVJUa4AroPFbCJVcin1m3JsseETe0IAIDKRwK6cr1mL+N6M4+0l3G9nQOlepzAOxIvS4yT2ERvsHL9O9r7eaiENr17S28A4BdmHKeFe2FHGexRf2zAB4V87gPtqqvsCEmxzlmEsH83XRccPnt3sa7LnrZs9To7AgCg8pGArlz320utOA6/jrpU8gyJVRJP6A056N/r/fT+4SWW9XH18VXw7xWin71cby/VffZyV3vpmiWhGZXHJNboDQD84nMLjmJXAx/TN5gwAqBSFfmx/wKVz8nj9nyuqeL19d2ldwY1O8Y8/MYiOwIAoPKRgK5c8yTukhgicZze4DhfoqOEtsFYoTdYo224lkv8SULvf57e4DheQh//Tgm3MlkfQ3s+h+n76SKJ3hKaTP5MIvAPCd2LOkhiot5g6TzDC9ND8xt7CcA7lEDHeX3h53aUtmTVWjsCAFS6NfWZeo3qmEUnAQAAKh17OZXtWAldneYXErdIXCyhlcYnS2jLjB9IuF6xEXamhN7/uxL3Sujj6ONdIaGPH05waxXzAgm97+8k9P7XSLwhoY/1kcQ3JVzLJPQ2nTv6gMTVEj+ReE5imoQmqP8mAcBDoTWY4Hhy/mI7SqtlCj7ghY+XrbajtG0Gd7cjJMknn2cm/3Ws06508EFc652ZIzIdDDcfELd0DgAAlYcEdGXTKmitJr5WYorEKRLDJTQhrUndTyUKoffT++vPjZDQx9HH+4PENhL677jukdDEsy42uJ/EqRL7S2iWRKuvtf+z9oEO06T2dhIPSej9T5DQ5maa+NbKaEogAU+t97kHRx49O9baUdohUwfbEYAkO/9f2btSl39lSztCkrzyodZopPXuXGdHSKJCWm6N7Zdps7U7ixACABKEBHTl00rkwyV0D0WzFJqZOEkiu2QuTfd64vZ89P76c/rz+jj6eEdIvCcR9pKEVkXrkZCeptdyDT1FP0lC23hE/duBRyV2l9AyHl1pZYLEZRJuv2gAnql3FmHyWVQaviY0JXvHMdrlCEDS3fbih3aURv/nZPrR7a/akTFPhWa8wD/rnZ7gVY1tFg8AQBkiAQ0AaHXrnAMu3+Q7vFxbn0nOzxrVq+hFCwEkA/nn5AlP/lm6SicGwmcLFq+0I046AQCShQQ0AKDVvftp5oAL2dauz0wQ6d6hxo4A+IZqyGRwX8Y3P9a1wDO+MXWQHcFXd7280I6MWbqSRYcBAMlBAhoA0OpWr6MLT5x19ZkSuXA7DgD+YPZD8sx99zM7Stt1HD1/fRGe96XV70NOv81eS/vFfW/aEQAAlY8jWQBAq1u+pt6OELbG6Y9dW81mG0iaQtdgZTZ+8oRPvvIdn2y5PsLbXXq/HQEAkEzs5QAAWt2SlfS9jOP2gK6lAhpIhDZ5u7831JYK6MRZE0pAuwvQwS9R+0FPnrmjHQEAUPk4kgUAtLpVtOBIiaqEXOdUQNdRHQd4i+rY5BnVp7MdpW3atZ0dAcb06cL7AQCQHOzJAgDKim/TzPMVNboV0PSABvzVsa7ajpAUdTXZ3+lDNuloRwAAAMnCkSwAoKxUk2TN8vyCJXZEBSTgi40bN5oq52wcU/GT6bF5n9qRMdOG9bQjAACA5OFIFgBQVmpYaSvLva9+bEfGvPzBMjsCkGQ7/OzBrH7A7Wur7AhJ8tYnK+zImMffyiSjkXz5Fh8d16+LHQEAkAwkoAEArW7WqF52ZMycsX3sCGvqs3tjf7hstR0BSKpXP1pm5i/KJCYVC5ACCZDj/HqH0EmmHcewLwQASBb2ZgEAre6S/SaYLQZ0NZOGdDfn7DXO3uqfjfLHtWDxSjtK23/r/nYEIKkWfb7WjjLo/54cbXJlIeGtft3a21Eak8EAAEnD3iwAoNXpgdetx880f//WdNOjY6291Q+5khG1VdkVUaP6dLYjAEl187Pv21GG2w8aQPK4LXdU23wrFAMAUGFIQAMAUKbWbdhgR2mbdPIrOQ/46MHXP7Ej+GTLgd3sCD5atz57e7/VIN4PAIBkIQENAECZmu8sUKVG9KYCGkia8FpkB04cYEfwyYX7jrcj+CH7k+9WQOtaGDNHbGKvAQCQDCSgAQAoUyfe8KwdAUiSXLPrq0P9nv/+rWl2hCTrH+oBjOTJ1VRj3fpMAvqifcfLdwQtOAAAyUICGgCAMrExVAq5cu16OwLgi7X1man4k4f2MBMHd7fXkGR1NRyW+Wy903KLnu8AgCRiTwcAgFZEkRMA128fnGdHxswZ04dKSE/Uhirf4Zd6pwI6PAsCAIAkYOsGAAAAlIHwAoQ1VSSffVDdtg1JR8/VOz2g9f0AAEDSsKcDAAAAlIFDr3nKjtJISvqhtprX2TfhllvuIoTVnHgCACQQezsAAFSAncb0sSMAvli0fI0dIcm6ta+xIyRZrnY665we0NVtOUQHACQPWzcAAMpUx9oqOzLmOzuNtCMAvvjPix/ZERIjIgfZ3vmuh382bNj4RUW05qhZhBAAkEQkoAEAKBPulFw9IF2xdr29ZkzvznV2BMAXX5k00I6QZDW0WvHaKx8tsyNjqlh0FACQUOztAABQht5dvNKO0ugRCvilZ8dac/C0wfYakowEtN++dtWTdpS9GCEAAEnC3g4AAGUofAjauR09QoEkCmY+uIuQqblnzyEx6YkX319qR/CF+2lfumqdHQEAkFzs1QIAUIbW1mcWJFL0hASSI+rT7H7m65jxACQOW3EAgM/YuwUAoAy5yahx/brYEYCkWrs+85mn5Q4AAACShL1bAADK0Nr1mQUIqYYEko8KaAAAACQVe7cAALSiuAXv1zjJKKohgeRb51RA0/sZAAAAScLeLQAAZcithqytrrIjAEmV/ZlnF90nu47ra0fwRbD4qOrduc6OjDljt9F2BABAsrB3CwBAGcpKRlENCSSe2wO6Km5qBCpe1Cu71xb97AhJFvex7tkpk4CeOXITOwIAIFk4ogUAoAy5ySj6wQLJ99yCJXZkzFuLVtgRfNC+lu94n63fkNneV7flvQAASCa2cAAAlImNzpxcpuMDfrnmkfl2BN+0q6HNks/Wb8hs+5nwBABIKjZxAAC0ojYxc3JpwQH4YaP8UTuN6ZO6hH/q6PPvtXmfZGY8VFEBDQBIKLZwAACUIbcFBxXQQMJEnHjq3K7ajoz5+pRBdgQf0GbJX+7MJ1Xdlv7vAIBkYm8HAIAyNO/j5XZEAhrwwb9f+NCOjOneodaO4AO+4/0TzHxYuXZ96jLgnogCACBJ2NsBAKAMXff4O3ZkzEvvL7UjAEn1ovM5f/qdxXYEH9BmyQ9t5E/YGqfdlurGyScAQEKxtwMAQJl7cj7JKMAnny5fa0fwARXQ/lpTn6mA7tulnR0BAJA87O0AAFAmsjtBAvBV+1oWpfMJCWh/rVmXqYCuq+F9AABILrZyAAC0IpYbAhB27OwRdoSkaROxACUJaH+tdiqg21Vz4gkAkFzs7QAAUOaOnT3cjgAk0YYN2fMfdh7bx47gA3pA+2ej/chTAQ0A8AVbOQAAyswdL31oR2kHThxoRwCSaN2GTBJKk5Ft2zI3wickoP0QUfyetQhhHZXwAIAEYysHAEAZWbB4pfnWn5+x19I60A8WSLR16zMV0DVVJJ99oq83Jxz85S5CWEcLDgBAgpGABgCgTOiU3Ptf+9hey+CgFEgu/dyvdaoga6iC9ArVz35b7bTgaEcLDgBAgrGVAwCgFYWn5LJAFZB84U/5uvXZLTjgD77f/UYFNADAF+zxAABQRlavzRyMBkhQAMmWVQFNAtorfL/7KXIRQt4LAIAEYysHAEAZGdC9vR1lVNEfFEi0rApoklBe4fX2W9YihLTgAAAkGFs5AADKSJf2NXYEwBduEooWHH7pVMd3vs9Wr6MFBwDAD+zhAgBQJjbKn7VOJSQAP6x0Wu+0ryUJlWTh+Sxd21fbEXxEBTQAwBds5QAAaEVtQumIu/630I4A+GL5mno70hNR8Ak9v/3GIoQAAF+wxwMAQBn561Pv2lHaIdMG2xGApLrvlcyJp/c/W2lH8EE1Pf69pDOeVFYFNP3AAQAJxlYOAIAyctj0IXaUdv7e4+wIQFJVtc3ski9avtaO4INXP/rcjpB0bdpkn2zYuHGj+c0D8+w1Y9rVUAENAEguEtAAAJQRdyr+KXNGNThgBZA8GzZmGm+cvttoO4IPPly62o7gmwdf/8SO0qiABgAkGVs5AADKyD/mvmdHxixgKj6QeJp6fn1hpgq2Ux2L0gE+uPrh+XaUphXRAAAkFQloAADKRPjY85bnPrAjAEkSntjw2LxP7ciYj6iIBbzwyJuL7CiN9DMAIMlIQAMA0IpyddjYYkBXOwLgi6feXmxH8MGXtupvR/CJnnAe2buTvZb2/mer7AgAgOQhAQ0AQJk6YYeRdgTAFyxE5pfwwrNIrvD55g612Z/1Xp3r7AgAgOQhAQ0AQBkZu2kXOzKmR8daOwLgi4mDu9sRfFBdxUKzvhrWK7sC+utTBtsRAADJQwIaAIAysWGjMS9/uMxek410rv4cABLpq5MH2RGSKPy1zve8v9au32BHxvz0gC1M+1BFNAAASUICGgCAMrFo+Ro7SqtqS2IC8IE7FT88LR/JRgLaX+vqMwnozu2q7QgAgGQiAQ0AQCvKlXro2YkWHEDibdxoVq9bb68YU1fN7rlPOM/or3VOBXRtFZ97AECysaUDAKBMbdKJBYmApKvfsDHVfkdVt21jqklEeYUCaH+tW28/+KKGzz0AIOHY0gEAAACtZPW6TBVkuxrab/imDRlob4RfarcHNItRAgCSjgQ0AABlaM7YPnYEIGnaOM13XluYWXh0+Zp6O4Iv6AHtL7cFBxXQAICkY0sHAEAZqqUPLOCFR9/81I7gI3pA+4se0AAAn7ClAwCgNcUkH2rISgBA4lEB7a919U4P6GreBwCAZCMBDQBAGWI6LgAkH/lnP23cSAsOAIBf2NIBAFCGqjkYBbzzvZ1H2RGSKpxvpgLaH7kWIaQFBwAg6djSAQBQhmpZER/wzkGTB9kRfEH+2V/vfbbKjvSkM28EAECykYAGAKAMMR0X8E9NWz73vqEC2k/zP11hR2nta6rsCACAZGIvFwCAMkQLDsA/LETmH/LPfjrxr8/aUVo7EtAAgITj6BYAgFbUpkFH0DRacAD+qaYC2jtUQEPVVfPZBwAkG1u6yjdA4hqJDyTWSLwtcblEd4li9JDQn9Of18fRx9PH1ccP6ylxlMTNEm9KaAOzpRKPSBwpEfW+GiKxMUfcIAEAsGjBAfinhhNP3iEB7Q/3hPOQnh3sKK0N7wMAQMJxdFvZhkvMlThc4imJyyTekjhJ4nEJTRQXQu+n99efmyehj6OPp4+rjz9MwnWAxFUSUySelNDE9U0S4yWulrhRIm4v6nmJ8yPiHxIAAKuGaiggsaJyTdVt25CE8hCvuJ8G9+xoRwAA+IGj28r2a4neEidK7CtxusQOEppA3kziIolC/EhilIT+3I4S+jj6eJqQ1sfXf8f1usTeElod/XWJMySOkBgtsUBif4n9JKI8J3FeRJCABgDHpl3b2REAH1RT/ewlev/6afmaejsy5rtz9DAMAIBkIwFdubQqeWcJbZnxK73Bca6ELq18sES+0+v693o/vb/+nOtKCX38XSTcKuj7JP4lsSF1LeMjid+mh2a2vQQANELX9jV2BMAHtbTd8cK69dp5LqNdDa+7j1Y4CegeHWvtCACA5GKPp3JppbO6SyKcCP5c4lEJbS42VW/IYZpEewm9v/6cSx9XH19tby/zWWcvM3tV2fpJHCNxpr3cXAIAvBU3476WFhyAV+qohPWCW/mqaLvip/oNmRMRVMEDAHzA0W3l0hYbStthRHnDXuab01Wqx1HVEoekh+YOexk2R0KrpLU9iF5qT+j7JQZJAAAsqiEBv/CZ98OSlWvtCL5xzzWsdxLQ2v8dAICkY0+3cnW1l0vtZVhwezd7GadUj6MukdCFCG+XuFNvcKyUuEBiG4nuNraT0OSztuu4V6LQ1Th0YcSo0B7UAJAINSSjAK/U0YrBC8+/F7fLDZ/Ub8hMYK0iAQ0A8AB7uskV7MlkN5orXqGPowshniLxqoT2lA77WOIciWcklth4SEL7WD8pMULiKAkAgKAFB+AXKqABf6x3eoFTAQ0A8AF7upUrKJ8IKpjDutjLfGUWpXic4ySukHhZQntFL5YolDbCuzo9NLPsZT5aRR0VmvwGgESgAhrwCz2gAX+4PaCpgAYA+ICj28r1mr2M68080l7G9XYONPVxviNxpcRLEpp8/kiiWJ/Yy0JbcABAYsQddtZRAQ14pY6TToA3snpAV5GABgAkH3u6lUt7JyttYRF+HTtLzJBYJfGE3pCD/r3eT++vP+fSx9XHV8G/5/q+xGUSz0lo8lnbbDTGVHv5lr0EAO9REQX4hR7Q/hndN7zrDV+sW+/2gOazDwBIPrZ2lWuexF0SQyS0BYbrfAmtJv6jxAq9wdJF+sIL9S2X+JOE3v88vcFxvIQ+vi4oGE4Ony2hiw7q4n87SiySyGWKRG16mGUHiZPTQ/NnewkA3tuwsakt/AGUq6jTS/SA9k/X9jV2BB+4n/usCmhOOAMAPMCebmU7VkKrjn8hcYvExRL3SWhCV1tm/EDC9YqNsDMl9P7flbhXQh9HH0/7OuvjhxPch0r8UGK9xMMSugChJq/dOEzC9WOJ9yX+LqFV0xr6b2nUSWhC+zEJAIDo3629HQHwARXQ/mGmi7/oAQ0A8A17upVNq6AnSlwroRXGp0gMl9CE9DSJTyUKoffT++vPjZDQx9HH+4OELu6n/45rqL3U1XK0B/S5ERFOQGuV9ZMSkyS+KaHJc+0vfaOELj54oQQAQPTr2s60acMBKeATKqD98JWJA+3ImCNmBLvU8A0V0AAA37CnW/kWSBwusamEtrgYLHGSxGKJMN27idvD0fvrz+nP6+Po4x0h8Z5EmFY4B48VF7MlXL+X2FNCW3p0ktCq50ESX5HQKmoAgNW3azs7AuCLumo9r4+kO2P30ebbs4eb8/ceZ3Yc09veCt9QAQ0A8A0JaAAAWlFUpXM1lZCAd2qr+dz7oFuHWvP9XUebQ6cPYaYLUqpZhBAA4AG2dgAAlJmaKpISgG/qSEADyRZzwoEKaACAD9jTBQCgzFRRDQV4hwpowE/VnHQGAHiAPV0AAMoMCxIB/qEHNOCndnz2AQAeIAENAECZYTou4B8qoAE/detYY0cAACQXe7oAALSiqFQzFdBAskW1gqUHNOAfPeHcua7aXgMAILnY0wUAoMxQAQ34hwpoINmituyd6qpNm5jFCQEASBL2dAEAKDNUQAP+oQIa8A/bewCAL9jTBQCgzFS1ZfMM+IYKaMA/bUlAAwA8wZ4uAABlhooowD9UQAP+qaL9BgDAE+zpAgDQiqKOPauqOCAFfEMFNOAf1nwAAPiCPV0AAMoMFdCAf2qrquwIQBJFnXCm4xYAwBds8gAAKDNURAH+oQIa8A8tOAAAvmBPFwCAMlNTxeYZ8A0JaMA/LEIIAPAFe7oAAJQZKqAB/9Ry4gnwDhXQAABfsKcLAECZoQc0kGxtIpJOVEAD/uGEMwDAF+zpAgDQitrInzAOSAH/1JGABhItasvelgpoAIAn2NMFAKDMUAEN+IcENOAfTjgDAHzBni4AAGWmqi2bZ8A3tOAA/MMihAAAX7CnCwBAmaECGvAPCWjAP1Vs7gEAnmBPFwCAMsOUXMA/tVXslgO+YXsPAPAFe7oAALSmiGPPakqiAK9oDqqaBDTgHRYhBAD4gj1dAADKDBVRgF9ovwEkX5uIZDPbewCAL9jbBQCgzCxYvMqOAPiA9huAn0hAAwB8wd4uAABl5r5XF9oRAB/UVlfZEQCf0IIDAOALEtAAAJSZqw6ZaEcAfFBHCw7AS1RAAwB8wd4uAACtKKr4aXDPjnYEwAf0gAb8RP4ZAOAL9nYBACgjHWqZig/4hh7QQPJF5ZppwQEA8AV7uwAAlBGm4gP+eW3h53YEwCe04AAA+IKjXAAAykgdi5EBAOCFtiSgAQCeIAENAEAZqath0wwAgA+qaMEBAPAER7kAAJQRWnAA/hmzaRc7AuATWnAAAHzBUS4AAK0ofOhJCw7APxfuO86OACRVVLEzixACAHxBAhoAgDJCBTTgn67ta+wIgE9q2eYDADzBFg8AgDJSU8WmGUi6cNFjdVs+94CPOtUx6wkA4Af2dgEAKCM1VEMB3qmuYho+4KOOddV2BABAsnGUCwBAGalhQSLAO8x8APzUiQQ0AMAT7O0CANCK2oTm4lMJCfinmhNPQOK1abDsMAloAIA/SEADAFBGqqmEBLzD5x7wEy04AAC+YG8XAIAyUksiCvBODTMfAC9RAQ0A8AVHuQAAlBGm4gP+oQc04Kc19evtCACAZGNvFwCAMsJUfCD56tdvtKM0TjwBftqQ/VUAAEBicZQLAEArCqedmIoPJN+KNfV2lBZejBRAAkV8zLce1N2OAABINhLQAACUkeq2bJqBpHti/mI7AuCzvl3b2REAAMnGUS4AAGWECmgg+fiUA+javsaOAABIPhLQAACUkfeWrLIjAEnVqa7ajgD4qraaQ3EAgD/Y6gEAUEYeeWORHQFIqnXrN9gRAF9V0fsdAOAREtAAAJSRk3YcaUcAkqp+w0Y7AuCrqrYkoAEA/iABDQBAKwoXQA3q0cGOACTVyrXr7QiAL8Lp5mrWfAAAeIQENAAAZYQDUiD5Vq8jAQ34jgpoAIBPSEADAFBGOtSyOBmQdGvr6QEN+K6aBDQAwCMkoAEAKCM9OtbaEYCkYhFCAFVtORQHAPiDrR4AAK0oPAV3eK+OdgQgqTrWMdMB8B0V0AAAn5CABgCgFdVVV5mz9xxrhm3S0fxk/81Nm/CqhAAS5+cHbmFHxvzhsEl2BCDJwpv3tiSgAQAeIQENAEArO3LmUHPf92abAycNtLcASLKtBnU3d3xnW3PrcTPM7M162VsB+IQKaACAT0hAAwAAAC1sdN8uZouB3Zj1AHiKBDQAwCckoAEAAAAAaEEdaqvsCACA5CMBDQAAAABAC+pQy2KkAAB/kIAGAAAAAKAZtZE/LiqgAQA+IQENAAAAAEALIgENAPAJCWgAAAAAAFpQe1pwAAA8QgIaAAAAAIAW1JEKaACAR0hAAwAAAADQgtqTgAYAeIQENAAAAAAAzahN9hqEpq6aQ3EAgD/Y6gEAAAAA0IJqqjgUBwD4g60eAAAAAAAtqJYKaACAR9jqAQAAAADQgkhAAwB8wlYPAAAAAIAWVEsLDgCAR9jqAQAAAADQjMKLEFIBDQDwCVs9AAAAAABaEBXQAACfsNUDAAAAAKAFUQENAPAJWz0AAAAAAFpQu5oqOwIAIPlIQFe+ARLXSHwgsUbibYnLJbpLFKOHhP6c/rw+jj6ePq4+flhPiaMkbpZ4U2KVxFKJRySOlMj1vpoucbvEYomVEi9IfEeCPTAAAAAAXujesdaOAABIPhLQlW24xFyJwyWekrhM4i2JkyQel9BEcSH0fnp//bl5Evo4+nj6uPr4wyRcB0hcJTFF4kkJTVzfJDFe4mqJGyVCy2yk7CPxkMQsCU1e/0pC97z037tBAgAAAAASrwMV0AAAj5CArmy/lugtcaLEvhKnS+wgoQndzSQukijEjyRGSejP7Sihj6OPpwlpfXz9d1yvS+wtodXRX5c4Q+IIidESCyT2l9hPwtVFQpPW6yVmS2il9KkSW0po8vvLEgdJAAAAAECitAnV57SvJQENAPAHCejKpVXJO0toywytJHadK7FC4mCJjnpDDvr3ej+9v/6c60oJffxdJNwq6Psk/iWxIXUt4yOJ36aHqSSzSxPMvSS00vlpvcFaLXFWemi+bS8BAAAAIDFWrdM6nIw6FiEEAHiErV7l0kpndZdEOBH8ucSjEh0kpuoNOUyTaC+h99efc+nj6uOr7e1lPuvsZb29DAT/3zvspUvbcmg/aO0PXac3AAAAAEBSzH3nMztKa9MmqmMhAADJRAK6cmmLDaXtMKK8YS+1tUYupXocVS1xSHrYINGc69/RZPV8Cf35cL/pKNqXOiq0BQgAAAAAAACAMkECunJ1tZdL7WVYcHs3exmnVI+jLpHQhQhvl7hTb3CU8t8BAAAAgIoxZ2wfOwIAwD8koJMrmNO10V42VqGPowshniLxqoT2lC5WMf/fbWJC/20AAAAAKCsn7jDSbDGwm9lqUDfzzNlz7K0AAPiBBHTlCiqGg8risC72Mq7iOFCKxzlO4gqJlyW0V/RiibBS/X8BAAAAoKJMGNDV3HrcDHPzsTNMj4619lYAAPxAArpyvWYv43ozj7SXcb2dA019nO9IXCnxkoQmnz+SiJLr39Hez0MltBf0W3oDAAAAAAAAgMpHArpy3W8vd5YIv46dJWZIrJJ4Qm/IQf9e76f3159z6ePq46vg33N9X+IyieckNPn8sUSc++zlrvbSNUuig8RjEmv0BgAAAAAAAACVjwR05ZoncZfEEAltgeE6X6KjxB8lVugN1mgbruUSf5LQ+5+nNziOl9DH1wUFw5XJZ0voooNzJXaUWCSRyz8k9D4HSUzUG6x2Ehemh+Y39hIAAAAAAABAAgQLv6EyDZfQquHeErdKvCIxRUKrkbVlxnSJTyUCwQJ/4de9p4Q+jrbH0ErlpyTGSOwjoVXN+jia8A4cKnGtxHqJX0pE9W1+W0Lv49pXQhPRqyVukNBe0XtLbCahtx8o0ZRFE+duLebO1Zw4AAAAAAAAmmqbbbYxzwgdpm8BikMFdGXTpLBWE2uiVxPPp0hoUvoXEtMk3ORzLno/vb/+3AgJfRx9vD9I6JeLm3xW2q9ZVUloD+hzI+IwibBbJLaTeEhif4kTJNZJfFdCK6ObknwGAAAAAAAAUGaogEaSUAENAAAAAABQQlRAo6mogAYAAAAAAAAANAsS0AAAAAAAAACAZkECGgAAAAAAAADQLEhAAwAAAAAAAACaBQloAAAAAAAAAECzIAENAAAAAAAAAGgWJKABAAAAAAAAAM2CBDQAAAAAAAAAoFmQgAYAAAAAAAAANAsS0AAAAAAAAACAZkECGgAAAAAAAADQLEhAAwAAAAAAAACaBQloAAAAAAAAAECzIAENAAAAAAAAAGgWJKABAAAAAAAAAM2CBDQAAAAAAAAAoFmQgAYAAAAAAAAANAsS0AAAAAAAAACAZkECGgAAAAAAAADQLEhAAwAAAAAAAACaBQloAAAAAAAAAECzIAENAAAAAAAAAGgWJKABAAAAAAAAAM2CBDQAAAAAAAAAoFmQgAYAAAAAAAAANIs29hJIgk/bt2/fY8yYMfYqAAAAAAAAmuKVV14xq1atWizDnulbgOKQgEaSzJfoIvF26lplG20vX7WXPvH5uStee567j3jtee157f3C+z6N194/vPa89rz2fknScx8isUxiaOoaACAR5trwkc/PXfHa+8nn56547f3Fa+8nn5+74rX3F6+9v3jt/eTzcwey0AMaAAAAAAAAANAsSEADAAAAAAAAAJoFCWgAAAAAAAAAQLMgAQ0AAAAAAAAAaBYkoAEAAAAAAAAAAAAAAAAAAAAAAAAAAAAAAAAAAAAAAAAAAAAAAAAAAAAAAAAAAAAAAAAAAAAAAAAAAAAAAAAAAAAAAAAAAAAAAAAAAACUhQES10h8ILFG4m2JyyW6SyTZlyV+KfGwxDKJjRJ/lvBBT4mjJG6WeFNilcRSiUckjpRoK5FkP5a4V2KBhD73xRLPSpwrob8b3xwsoe9/DX1fJJl+vwXPNRwfSfhgW4mbJD6U0O98vbxLYneJpDpMIuo1d2O9RJLtIaGv83sS+r33lsTfJaZJJFkbiSMknpD4XGKlhH7fnyhRJZEEjdmfmS5xu4Ru//R38oLEdyQq8XdSzPOvkThJ4g8Sz0msldD7V+q2r0sZmsUAABOpSURBVJjnPlLi+xL3Sej+jz73hRK3SmwvUYmKef4DJX4t8aSEbu91+6fHPvqzh0voe6OSNPU45vcS+jMaI/SGClLMcx8iETzPqLhBotI05rXXbeGhEg9I6Pe+7gfMl7hRYpQEAADNbriE7nzqhusWiUskdMdUr78qkeRknB546PPUA9JX7LiYHbdK9i0Jfb664/0XiYsl9CTEEgm9/R8SuqOSVHrQpckIfc76nteduP9K6HN/X0IPUnyhz1Vfd/0c6PP3IQGtz/e8iPieRNKdJaGv8ycSmoD5kcTvJPT9/xOJpNpSIuo119CTUfo7+bdEUulJN32OiySultDvPf2e1+/CDRLfkEiqP0roc9d9HX3uV0j8z96WlG1dsfsz+0jUSyyX0CTUpRK6z6c/pyclKk0xz7+bhP69hiYh37XjSt32FfPcNdGmf6/v//+T0H2//yeh7wW9XU/KVJpinv9sCS220BNxv5XQ7Z/+HoL3wP0S1RKVoinHMXtJBD+rl5WWgC7muQcJaP2ZqH0ATeZWmmJf+3YS/5LQ++l3/ZUS+vm/TkJPRu8pAQBAs7tTQjdGJ6SuZfxcQm/XHbSk0moPrQbRg0/dKc238U6SHSR05zNc6dxXItgR319vSCjdEYtykYQ+d62Q8YG+9++RmCehCQh97j4koDV8dICEvsZ3S3TWG0IqrfqrVB6X0N/L3qlryaPf61rdrcm23nqDQ7eD+tz1ADSJ9pUInt8meoOl73WdAaR/p9Xxla6Y/ZkuEh9LaPXnRL3B0u3iYxL6swfpDRWkmOdfK7GbxKapa+kElN6/Urd9xTx3fa9vlR5m2U5CT0bpeyL4vVSKYl/7qBl++n2gyWf92QP1hgpRzHN39ZLQ7YGekNBqWP25SktAF/PcgwT0talryVDsa/8rCb2PnnSJ+wwAANCshknoxkin34Q3Rpqc0MqYFRId9YaEK2bHLenOlNDfhVYF+2YLCX3umqDzgU5D1urHWRKVfhBeKF8T0Podr0k4/U7Xg0+kjZfQ9722pUhKO4awKRL6HHWafRSdvqtVVEkUVD8fl7qWLXjt56auJUe+/RltR6J/r5VvYXpyWv/uwdS1ylTs/lyStn1N2ZfVqmD92UouPmjK89f9If3ZH6SuVZ5inruefNMEtM5yrdQEtCvfc09iAtqV7/nrbGc9Cf2UhCasAe9EnXUB0PL0QEPpTqcmoVx6MPqoRAeJqXoDvLHOXuqUTN9oVbjSXphJN0ZCp+HrdPSH9AaP1EloywE92aIHnVpJktTkY0D7vQ6V0J6vn0loP2DtBarPP+k9gHM5xl5qG4Kk9oB+Q0KrGydLuFXASk8+6QlnnQmRRFr9raIqvIPbtpbQtgy+CPb97rCXLt0WaD9o/b7Q70n4w+d9P93+B2sgJH3/T6vgdWaItuL7VG/wSD8J3ebrvp9ebi7hg69KaP5NTzrqDBjd/z1D4miJSj7xAACoMMGU+1NS1xrS/lD6999OXUu2plRNJIn2vntRQn8Xu+gNCac9f7X66TIJXchDn/fzEkmvENXX+WmJ1yTa6w3CpwpofZ7h0GSUTkNOqpMl9Hnq97oeYIefv1Y8+lYZre99TcZr4jnpfd91cTk90aytF7Tnt/Z+1IWHVkvoSehwa46kuF5C39/Hpq5lCyqgNZJ0oj3f/kyw3sE2qWsNvSShf68nKStRsftzVEAbM1hCvwt0hkwlL0Be6PPXE3H6up8voS3X9CSd/pyuiVKpFaKFPHd9nbUH9p9S19J8qoCOCm29MkiikuV7/jr7Sf9eE++6DoT7/HW/QNtzJL0IA56jAhooD13tpe6MRAlu96kyyHdaEasH5Volqf3Bk04T0OdKaHJmpoRWhO0soQu0Jdk5EtoHUithdBVsn+jCeztKaGWktheaIKGLEOkByn8ktA1LEgUJRq160sTrThJa+aqfd/2sayVsJS4+1hTa61O3b/q6L9AbEuxyif0k9OTTNyVOl9Ce4Pq8dVqyJqaTKFhY8rsSPdLDFP09aPIpUMlJt2Kx7weXVrpr4lUvNSmrJ+WSThPQuu+n+0JaZKMtCn4qoftEmpRLoqACVtsrVuJik02hszoukNCTbvpdr6EFB5p81uStLkSc5HaTwf7fDyW0+ET3e3X/T/eFdQ0YPUF7tgSQWCSggcoQVAEkdWcM2XSHVKvhdXXkg/UGD2gSUt/neqnJGe2L/qyETslOKp2Gr1UQP5PQxdd8o0mn+yQWSuhBiVb7aVJWF17VxKwegCdRUN2i73dd8V0PuPRA9H8SX5LQHsh6QOZTOw6dfqr0BETSnSbxDwlNNmuyRQ+29WBcK/81+fQTiSTSRbb0BIM+55cltPpbk/HPSeiUe618VEltv9IY7Pv5Q7cLWg07Q+JvEpqE9YHu5+r7XE9EaVWwzhDS7YG2oHFPVCWJPkfdxusJSB9OMrj0BKuebHhGYokNfa214ORJCa3+TvLsv2D/70MJ3d/T/V7d/9N9Yd0f1CpoPUmri3QCiUQCGigPQZVLUA0Tpn2iVFyVDJJDF2jSXsB6gK79cBdL+ESTkbooi+6M6qIsunBVEunBlh5svi5BtUO239pLrQROouCAUxOO2mbGpVXwwYwHPUHhg7ES2udWE+864yPJtMLrxxL/lNCDTH0P6MkXPRjXg9H3JfTko56ASxo9sN5bQme76KJbenJVF+HT111nvQQ9UJNaAR6FfT8oTUrplH2dCaHteLQvrG8nHfTE07sSuv+rPYG1FY9WiSbNSImLJHQGWNK3d8XQfudXp4eJ3fdTwf6fzvIMz3rU/cH5EloRXaltl4C8SEAD5UH7v6pR9jJMd1iUJquQXNp+QvvC6hlxTT7rQbqv3pHQJPw4ifBiXUnQSUI/77qTqf0e9WAzCJ2Oqq6S0OtaJeiTIAGV1GmYwfe9Vv5ECQ5Qgp7gSefD4oOBPe2lTjcO00S0royv++balieJNMmgMz62lND3tyZYd5XQ73q9TQ/IdSaAL3Lt++lJSl2sVH9nwSKNSB59nf8qcZCE9kn/moSPiw+6dKaE0hN2SaP7tNpi5XAJd79PI1j7IuiDrQsU+iRouZfkFhzs/8F7JKCB8hAcjGrVZ/hzqWdCdUqeHpg9oTcgkb4voQvw6XRkTT77VAUWR1fJVklMSq2R0IRbVGjrEfWIhF73rT1H0HoiqUkXnW6qCQY9sRg1zVJ7QStdpDHp2kloJaxWx+p7Pek08aDiFpkMbl9rL32h7wF9L2j15zq9wRM67VppEj5MqwA7SDwmodsLJI9+/2s7Hq181tle+jmgBY0x/e1lEhPxul139/fcCIpOdA0Ive7DPoArWIA2ySfctOWaCvbzXLp/EBSc+fbaAwBagU671jPeJ6SuZWg/VL09mJaedPlWEE4ibcGgz1kXpEhqz7sooyW053OYnoTRKYr6O3lUb/CM9j7W557kPnhaBRT1XtcekEH1j/bHTir9ftPneGHqWsYcCU3GanWMDwuPacJFfw//Sl1LPl1sUZ+vJhqCJEtgNwl97fVks7YfSqKgpYRrkoS2mvpcImmtR/Ltz+jvQ6v+NME8UW+wNBmviWf9Wa2MrVTF7s8laduX77lrsuk2Cb2Pth5IWlFYvuc/RUJPsITp7LC7JfRndT+wEjX2OOYBCf057YNcqQp53aNOvO8gEcwG1JZclSrf89fnrosN6rZe9/dcuj+oP6vvAyCxgsUtALQ+XZhHDzh0hdxbJV6R0A21VsNq6w3dIAc9EpNGp5kFU800IbmLhJ4Bf1hvEIsktG9kEh0qoYtRadXLLyWiej3qmXC9T9Joy5FLJbQiVHfI9P3dR0KnIWoiQpM0ujK0Ts/2iR6EaxsOXaAm6ImXNPocT5fQ2R/a806TT/oduIeEJl+0N6L2xE1qJah+z+vJFT3Q1O85bb2gyXd9znoAotOwtQoq6fS5a/9f7Q3sQxJak0x6snknCX3Pa797/Z7TVjzankP3y/V7UfugJpEuMqUJdm0zpc9fT0TpAoSagNXFZ4P+55Ws2P0Zva9WwWryRRdq1GS8fh42k9Dbg5MWlaLY56/bAT0ZrbQNyxYSui8cLEqpM4EqZTtYzHPXHsCHSehtv5aIeo01EVVJyahinv8tEpqse1BCez9rC6KBEnoiTk++6ntAf14XaKsExTz3OPpa6/6vVsG+qTdUiGKeuz5H/d7XS+3/rzaX0AS00oKc8In5clfsa6/7PHdJaDJa9wG05aCeiNVZL3pCUv+elpsAgBahO1+6U6qr42riRTdKeiCa9KrYoOolLpI8FSnfc9eopAOQYugUtF9JaNsR3UHT6ZaagP+vhP5efKoGdwXviSRXQOtBlva91BXwtdpXp93rjrdWPh0i4cMJcn1/6wwXTcDr972egNGTj8E01KTTpKu+zxdIBCvD+6BGQpPM2lJrmYR+72nLpX9LaBuuJDtVYq6EfuY16azvfZ3dNUQiKRqzP6Nt1vSkm/b/1AT9ixInS1Ti56LY56/7N1H3C6KSTr4X89zzPW8NfbxKUszz15PNf5HQRJvu9+k+gH4P3iNxtIT2xq4kjfnchwXviUqrgC7muR8pods6vU1PLuh2QE9A/E1iW4lK1JjXXhdf1ues73nd/9P9oP+TGCABAAAAAAAAAAAAAAAAAAAAAAAAAAAAAAAAAAAAAAAAAAAAAAAAAAAAAAAAAAAAAAAAAAAAAAAAAAAAAAAAAAAAAAAAAAAAAAAAAAAAAAAAAAAAAAAAAAAAAAAAAAAAAAAAAAAAAAAAAACAhBsisVHi2tS18lZJ/1cAAAB4qK29BAAAANByNGn8QHoIAAAAJBcJaAAAAAAAAABAsyABDQAAAAAAAABoFiSgAQAAgHijJW6RWCyxQuIRiZ0lXF0lTpW4T+I9ibUSn0j8U2KqhOswCW2/obaT0HEQ50m4Jkv8TeJ9iTUSH0rcJXGgRBTtB32DxCKJ1RJPS+wpAQAAALSaNvYSAAAAQJomcudLPCSxucRLEpp43lTiKxK1El+T0OSw0iSz3ldjnsRnEoMk9paok9hL4g4JtaXEvhLnSrwj4S4eqD2hg77Q35T4jcR6CU1kvyHRW2KixBKJ2RIq+L/qz42TeEvicYkeEvp/rZHYSeJ+CQAAAAAAAABAK9OkblCVfKne4NAE8DoJTTJ30RuEVkBvkh5mGSDxgcQrqWvZ9LHjFiEcK6H/hlZda1I5TB834P5fNant2kVCb789dQ0AAAAAAAAA0OqCpK5WGnfWG0K0aln//tDUtdx+IaH31Ypol94Wl4D+pYT+/cmpa7kF/9e3Jar0hhCtstaWHAAAAECroAc0AAAAEO0Zic/TwyxB4ngre6lmSNwosUBC+zVrUljjBAnV314WIugb/R97WYjnJLRdR5j+f7qnhwAAAEDLIwENAAAARFtoL8M+spfaekN9SUL7P+8hMVfiSokLJM6XeFBCaS/oQnWzl7r4YKG0WjtKvQT7/AAAAGg17IwCAAAA0frYy7C+9nKpvdRk81oJ7Q+tCwyeInGOxHkSr0kUK0gmF1M1DQAAAJQlEtAAAABAtK0lonpAz7aXz9rLERIvS4QXG9R97ZnpYQMbJKJ6Nqsn7OVu9hIAAAAAAAAAkBDBwn4al+oNDq1yXiehVcpd9AbxqsQyiX6pa2ltJLQFR/A4QdI68LGELhwYZayE/huL7ThsgL1Uwf9VF0aMov2q9e8BAAAAAAAAAGUgSOpq/+bPJLS/88USmuRdJaGL/X1FInCMhN5fe0b/WuIKiaclVkr8UyIqAf1XCb39XxLaquMsiVkSgW9K6L+jCxrq4oYXSfxWQh/3fokACWgAAAAAAAAAqCBuUneMxK0SmojWhPKjErtIhB0m8ZzEColFEjdLTJDQ5HJUArq3xPUSmrTWRLPeR+/rmiZxk4RWS2uP6Q8k7pD4skSABDQAAAAAAAAAAAAAAAAAAAAAAAAAAAAAAAAAAAAAAAAAAAAAAAAAAAAAAAAAAAAAAAAAAAAAAAAAAAAAAAAAAAAAAAAAAAAAAAAAAAAAAAAAAAAAAAAAAAAAAAAAAAAAAAAAAAAAAAAAAAAAAAAAAAAAAAAAAAAAAAAAAAAAAAAAAAAAAAAAAAAAAAAAAAAAAAAAAAAAAAAAAAAAAAAAAAAAAAAAAAAAAAAAAAAAAAAAAAAAAAAAAAAAAAAAAAAAAAAAAAAAAAAAAAAAAAAAAAAAAAAAAAAAAAAAAAAAAAAAAAAAAAAAAAAAAAAAAAAAAAAAAAAAAAAAAAAAAAAAAAAAAAAAAAAAAAAAAAAAAAAAAAAAAAAAAAAAAAAAAAAAAAAAAAAAAAAAAAAAAAAAAAAAAAAAAAAAAAAAAAAAAAAAAAAAAAAAAAAAAAAAAAAAAAAAAAAAAAAAAAAAAAAAAAAAAAAAAAAAAAAAAAAAAAAAAAAAAAAAAAAAAAAAAAAAAAAAAAAAAAAAAAAAAAAAAAAAAAAAAAAAAAAAAAAAAAAAAAAAAAAAAAAAAAAAAAAAAAAAAAAAAAAAAAAAAAAAAAAAAAAAAAAAAAAAAAAAAAAAAAAAAAAAAAAAAAAAAAAAAAAAAAAAAAAAAAAAAAAAAAAAAAAAAAAAAAAAAAAAAAAAAAAAAAAAAAAAAAAAAAAAAAAAAAAAAAAAAAAAAAAAAAAAAAAAAAAAAAAAAAAAAAAAAAAAAAAAAAAAAAAAAAAAAAAAAAAAAAAAAAAAAAAAVBBj/j/nsAmHF8K1gAAAAABJRU5ErkJggg==\" width=\"NaN\">"
      ],
      "text/plain": [
       "<IPython.core.display.HTML object>"
      ]
     },
     "metadata": {},
     "output_type": "display_data"
    },
    {
     "data": {
      "application/vnd.jupyter.widget-view+json": {
       "model_id": "4cfb44cbc7aa4ec1bb8f19307ff337de",
       "version_major": 2,
       "version_minor": 0
      },
      "text/plain": [
       "HBox(children=(IntProgress(value=0, max=16), HTML(value='')))"
      ]
     },
     "metadata": {},
     "output_type": "display_data"
    },
    {
     "data": {
      "application/vnd.jupyter.widget-view+json": {
       "model_id": "c4f75d91cdb84a1bb5d27c9d9c5ec822",
       "version_major": 2,
       "version_minor": 0
      },
      "text/plain": [
       "HBox(children=(IntProgress(value=0, max=812), HTML(value='')))"
      ]
     },
     "metadata": {},
     "output_type": "display_data"
    },
    {
     "data": {
      "application/vnd.jupyter.widget-view+json": {
       "model_id": "13ea9c64d5d84d539bb9b31788f3f8e0",
       "version_major": 2,
       "version_minor": 0
      },
      "text/plain": [
       "HBox(children=(IntProgress(value=0, max=410), HTML(value='')))"
      ]
     },
     "metadata": {},
     "output_type": "display_data"
    },
    {
     "name": "stdout",
     "output_type": "stream",
     "text": [
      "{'loss': 0.03905433233726299, 'mloss': tensor(0.0666), 'val_loss': 0.043858949497069526, 'val_mloss_tot': tensor(0.0766)}\n"
     ]
    },
    {
     "data": {
      "application/vnd.jupyter.widget-view+json": {
       "model_id": "1d0d6e0bad27430b9822178f35e8c655",
       "version_major": 2,
       "version_minor": 0
      },
      "text/plain": [
       "HBox(children=(IntProgress(value=0, max=812), HTML(value='')))"
      ]
     },
     "metadata": {},
     "output_type": "display_data"
    },
    {
     "data": {
      "application/vnd.jupyter.widget-view+json": {
       "model_id": "fc22fa9b9a2844fc821dca4a6c387f37",
       "version_major": 2,
       "version_minor": 0
      },
      "text/plain": [
       "HBox(children=(IntProgress(value=0, max=410), HTML(value='')))"
      ]
     },
     "metadata": {},
     "output_type": "display_data"
    },
    {
     "name": "stdout",
     "output_type": "stream",
     "text": [
      "{'loss': 0.0360009106195948, 'mloss': tensor(0.0619), 'val_loss': 0.04279235221627282, 'val_mloss_tot': tensor(0.0747)}\n"
     ]
    },
    {
     "data": {
      "application/vnd.jupyter.widget-view+json": {
       "model_id": "9f39aab578fe4be9b5a7b18c9a379ab5",
       "version_major": 2,
       "version_minor": 0
      },
      "text/plain": [
       "HBox(children=(IntProgress(value=0, max=812), HTML(value='')))"
      ]
     },
     "metadata": {},
     "output_type": "display_data"
    },
    {
     "data": {
      "application/vnd.jupyter.widget-view+json": {
       "model_id": "4e753409a3ca4cfa968fae6e03407ccb",
       "version_major": 2,
       "version_minor": 0
      },
      "text/plain": [
       "HBox(children=(IntProgress(value=0, max=410), HTML(value='')))"
      ]
     },
     "metadata": {},
     "output_type": "display_data"
    },
    {
     "name": "stdout",
     "output_type": "stream",
     "text": [
      "{'loss': 0.03316826980073802, 'mloss': tensor(0.0531), 'val_loss': 0.04249205189393606, 'val_mloss_tot': tensor(0.0742)}\n"
     ]
    },
    {
     "data": {
      "application/vnd.jupyter.widget-view+json": {
       "model_id": "38b239bf6b7e4acebb83091d8f352235",
       "version_major": 2,
       "version_minor": 0
      },
      "text/plain": [
       "HBox(children=(IntProgress(value=0, max=812), HTML(value='')))"
      ]
     },
     "metadata": {},
     "output_type": "display_data"
    },
    {
     "data": {
      "application/vnd.jupyter.widget-view+json": {
       "model_id": "a0893321172144e88f08486f861ac90f",
       "version_major": 2,
       "version_minor": 0
      },
      "text/plain": [
       "HBox(children=(IntProgress(value=0, max=410), HTML(value='')))"
      ]
     },
     "metadata": {},
     "output_type": "display_data"
    },
    {
     "name": "stdout",
     "output_type": "stream",
     "text": [
      "{'loss': 0.033834061485788, 'mloss': tensor(0.0567), 'val_loss': 0.0422168392381381, 'val_mloss_tot': tensor(0.0737)}\n"
     ]
    },
    {
     "data": {
      "application/vnd.jupyter.widget-view+json": {
       "model_id": "d1242754e1f14066b396d1d94e4e1eb8",
       "version_major": 2,
       "version_minor": 0
      },
      "text/plain": [
       "HBox(children=(IntProgress(value=0, max=812), HTML(value='')))"
      ]
     },
     "metadata": {},
     "output_type": "display_data"
    },
    {
     "data": {
      "application/vnd.jupyter.widget-view+json": {
       "model_id": "a4eb35ce389f469c8e93cf4063f7146c",
       "version_major": 2,
       "version_minor": 0
      },
      "text/plain": [
       "HBox(children=(IntProgress(value=0, max=410), HTML(value='')))"
      ]
     },
     "metadata": {},
     "output_type": "display_data"
    },
    {
     "name": "stdout",
     "output_type": "stream",
     "text": [
      "{'loss': 0.03631912719128076, 'mloss': tensor(0.0661), 'val_loss': 0.04238555332782065, 'val_mloss_tot': tensor(0.0740)}\n"
     ]
    },
    {
     "data": {
      "application/vnd.jupyter.widget-view+json": {
       "model_id": "bd13deaaa1be43358c84291cdeec8173",
       "version_major": 2,
       "version_minor": 0
      },
      "text/plain": [
       "HBox(children=(IntProgress(value=0, max=812), HTML(value='')))"
      ]
     },
     "metadata": {},
     "output_type": "display_data"
    },
    {
     "data": {
      "application/vnd.jupyter.widget-view+json": {
       "model_id": "57599bb831be43c8bd92471228c01211",
       "version_major": 2,
       "version_minor": 0
      },
      "text/plain": [
       "HBox(children=(IntProgress(value=0, max=410), HTML(value='')))"
      ]
     },
     "metadata": {},
     "output_type": "display_data"
    },
    {
     "name": "stdout",
     "output_type": "stream",
     "text": [
      "{'loss': 0.03537440934504035, 'mloss': tensor(0.0616), 'val_loss': 0.04200664952556353, 'val_mloss_tot': tensor(0.0733)}\n"
     ]
    },
    {
     "data": {
      "application/vnd.jupyter.widget-view+json": {
       "model_id": "0b5d707aeb76460aa068df2a1dbc8bd7",
       "version_major": 2,
       "version_minor": 0
      },
      "text/plain": [
       "HBox(children=(IntProgress(value=0, max=812), HTML(value='')))"
      ]
     },
     "metadata": {},
     "output_type": "display_data"
    },
    {
     "data": {
      "application/vnd.jupyter.widget-view+json": {
       "model_id": "1df0f3ea81754d6c82631d5af9bbd416",
       "version_major": 2,
       "version_minor": 0
      },
      "text/plain": [
       "HBox(children=(IntProgress(value=0, max=410), HTML(value='')))"
      ]
     },
     "metadata": {},
     "output_type": "display_data"
    },
    {
     "name": "stdout",
     "output_type": "stream",
     "text": [
      "{'loss': 0.03540672800592649, 'mloss': tensor(0.0620), 'val_loss': 0.04191385311324422, 'val_mloss_tot': tensor(0.0732)}\n"
     ]
    },
    {
     "data": {
      "application/vnd.jupyter.widget-view+json": {
       "model_id": "820d2f75e26b4293b7310dbddc5bbb9b",
       "version_major": 2,
       "version_minor": 0
      },
      "text/plain": [
       "HBox(children=(IntProgress(value=0, max=812), HTML(value='')))"
      ]
     },
     "metadata": {},
     "output_type": "display_data"
    },
    {
     "data": {
      "application/vnd.jupyter.widget-view+json": {
       "model_id": "b2f5bdc086344beb873374ac4f35dc6e",
       "version_major": 2,
       "version_minor": 0
      },
      "text/plain": [
       "HBox(children=(IntProgress(value=0, max=410), HTML(value='')))"
      ]
     },
     "metadata": {},
     "output_type": "display_data"
    },
    {
     "name": "stdout",
     "output_type": "stream",
     "text": [
      "{'loss': 0.03262027509826248, 'mloss': tensor(0.0546), 'val_loss': 0.04210202767877135, 'val_mloss_tot': tensor(0.0735)}\n"
     ]
    },
    {
     "data": {
      "application/vnd.jupyter.widget-view+json": {
       "model_id": "511746e5f66a41cea413b244a93be1b0",
       "version_major": 2,
       "version_minor": 0
      },
      "text/plain": [
       "HBox(children=(IntProgress(value=0, max=812), HTML(value='')))"
      ]
     },
     "metadata": {},
     "output_type": "display_data"
    },
    {
     "data": {
      "application/vnd.jupyter.widget-view+json": {
       "model_id": "bb0bd8e9c92542178b322daea2253d4f",
       "version_major": 2,
       "version_minor": 0
      },
      "text/plain": [
       "HBox(children=(IntProgress(value=0, max=410), HTML(value='')))"
      ]
     },
     "metadata": {},
     "output_type": "display_data"
    },
    {
     "name": "stdout",
     "output_type": "stream",
     "text": [
      "{'loss': 0.0348861593442544, 'mloss': tensor(0.0605), 'val_loss': 0.04372608801122846, 'val_mloss_tot': tensor(0.0763)}\n"
     ]
    },
    {
     "data": {
      "application/vnd.jupyter.widget-view+json": {
       "model_id": "807870daec9f4f4c829f710c92a29da0",
       "version_major": 2,
       "version_minor": 0
      },
      "text/plain": [
       "HBox(children=(IntProgress(value=0, max=812), HTML(value='')))"
      ]
     },
     "metadata": {},
     "output_type": "display_data"
    },
    {
     "data": {
      "application/vnd.jupyter.widget-view+json": {
       "model_id": "e86b1d1db28c46aeb9a10b84bbed92e3",
       "version_major": 2,
       "version_minor": 0
      },
      "text/plain": [
       "HBox(children=(IntProgress(value=0, max=410), HTML(value='')))"
      ]
     },
     "metadata": {},
     "output_type": "display_data"
    },
    {
     "name": "stdout",
     "output_type": "stream",
     "text": [
      "{'loss': 0.035389432054320866, 'mloss': tensor(0.0601), 'val_loss': 0.042202868291017846, 'val_mloss_tot': tensor(0.0737)}\n"
     ]
    },
    {
     "data": {
      "application/vnd.jupyter.widget-view+json": {
       "model_id": "769e6e77553d4f8dba5ec624e0bc9f95",
       "version_major": 2,
       "version_minor": 0
      },
      "text/plain": [
       "HBox(children=(IntProgress(value=0, max=812), HTML(value='')))"
      ]
     },
     "metadata": {},
     "output_type": "display_data"
    },
    {
     "data": {
      "application/vnd.jupyter.widget-view+json": {
       "model_id": "8307c2894d99499baf0e3825ed77ed55",
       "version_major": 2,
       "version_minor": 0
      },
      "text/plain": [
       "HBox(children=(IntProgress(value=0, max=410), HTML(value='')))"
      ]
     },
     "metadata": {},
     "output_type": "display_data"
    },
    {
     "name": "stdout",
     "output_type": "stream",
     "text": [
      "{'loss': 0.035006254844227425, 'mloss': tensor(0.0648), 'val_loss': 0.042179281645022874, 'val_mloss_tot': tensor(0.0736)}\n"
     ]
    },
    {
     "data": {
      "application/vnd.jupyter.widget-view+json": {
       "model_id": "dd8fea7c97fa4c4b9f91c4c648426d89",
       "version_major": 2,
       "version_minor": 0
      },
      "text/plain": [
       "HBox(children=(IntProgress(value=0, max=812), HTML(value='')))"
      ]
     },
     "metadata": {},
     "output_type": "display_data"
    },
    {
     "data": {
      "application/vnd.jupyter.widget-view+json": {
       "model_id": "50a5e0d3710546269edb208069c4cf3d",
       "version_major": 2,
       "version_minor": 0
      },
      "text/plain": [
       "HBox(children=(IntProgress(value=0, max=410), HTML(value='')))"
      ]
     },
     "metadata": {},
     "output_type": "display_data"
    },
    {
     "name": "stdout",
     "output_type": "stream",
     "text": [
      "{'loss': 0.0320511460981923, 'mloss': tensor(0.0513), 'val_loss': 0.04188214870078898, 'val_mloss_tot': tensor(0.0731)}\n"
     ]
    },
    {
     "data": {
      "application/vnd.jupyter.widget-view+json": {
       "model_id": "5c69f77cbae54652b763cf662905d270",
       "version_major": 2,
       "version_minor": 0
      },
      "text/plain": [
       "HBox(children=(IntProgress(value=0, max=812), HTML(value='')))"
      ]
     },
     "metadata": {},
     "output_type": "display_data"
    },
    {
     "data": {
      "application/vnd.jupyter.widget-view+json": {
       "model_id": "d61afe9707c7441ea61826ba71a644f0",
       "version_major": 2,
       "version_minor": 0
      },
      "text/plain": [
       "HBox(children=(IntProgress(value=0, max=410), HTML(value='')))"
      ]
     },
     "metadata": {},
     "output_type": "display_data"
    },
    {
     "name": "stdout",
     "output_type": "stream",
     "text": [
      "{'loss': 0.03352312963074439, 'mloss': tensor(0.0564), 'val_loss': 0.04323192452216839, 'val_mloss_tot': tensor(0.0755)}\n"
     ]
    },
    {
     "data": {
      "application/vnd.jupyter.widget-view+json": {
       "model_id": "3aaf25f86b754973874c9f1dd3cf59fa",
       "version_major": 2,
       "version_minor": 0
      },
      "text/plain": [
       "HBox(children=(IntProgress(value=0, max=812), HTML(value='')))"
      ]
     },
     "metadata": {},
     "output_type": "display_data"
    },
    {
     "data": {
      "application/vnd.jupyter.widget-view+json": {
       "model_id": "b3fe7f63ba3145d890fa4daa3ae0536f",
       "version_major": 2,
       "version_minor": 0
      },
      "text/plain": [
       "HBox(children=(IntProgress(value=0, max=410), HTML(value='')))"
      ]
     },
     "metadata": {},
     "output_type": "display_data"
    },
    {
     "name": "stdout",
     "output_type": "stream",
     "text": [
      "{'loss': 0.033805822057436465, 'mloss': tensor(0.0578), 'val_loss': 0.04252767427881225, 'val_mloss_tot': tensor(0.0742)}\n"
     ]
    },
    {
     "data": {
      "application/vnd.jupyter.widget-view+json": {
       "model_id": "f2211c3b72cf4ffd8a7662c3b0a66c44",
       "version_major": 2,
       "version_minor": 0
      },
      "text/plain": [
       "HBox(children=(IntProgress(value=0, max=812), HTML(value='')))"
      ]
     },
     "metadata": {},
     "output_type": "display_data"
    },
    {
     "data": {
      "application/vnd.jupyter.widget-view+json": {
       "model_id": "e8a7d441fcc14daaa73fb90d60a9a995",
       "version_major": 2,
       "version_minor": 0
      },
      "text/plain": [
       "HBox(children=(IntProgress(value=0, max=410), HTML(value='')))"
      ]
     },
     "metadata": {},
     "output_type": "display_data"
    },
    {
     "name": "stdout",
     "output_type": "stream",
     "text": [
      "{'loss': 0.033324809130247414, 'mloss': tensor(0.0571), 'val_loss': 0.042113713817898094, 'val_mloss_tot': tensor(0.0735)}\n"
     ]
    },
    {
     "data": {
      "application/vnd.jupyter.widget-view+json": {
       "model_id": "6a914c7ea3a74214b0e1a58255facffa",
       "version_major": 2,
       "version_minor": 0
      },
      "text/plain": [
       "HBox(children=(IntProgress(value=0, max=812), HTML(value='')))"
      ]
     },
     "metadata": {},
     "output_type": "display_data"
    },
    {
     "data": {
      "application/vnd.jupyter.widget-view+json": {
       "model_id": "b50b887037ab44c49855c0227fdccebe",
       "version_major": 2,
       "version_minor": 0
      },
      "text/plain": [
       "HBox(children=(IntProgress(value=0, max=410), HTML(value='')))"
      ]
     },
     "metadata": {},
     "output_type": "display_data"
    },
    {
     "name": "stdout",
     "output_type": "stream",
     "text": [
      "{'loss': 0.032728920556688385, 'mloss': tensor(0.0535), 'val_loss': 0.042146337612691084, 'val_mloss_tot': tensor(0.0736)}\n",
      "\n"
     ]
    },
    {
     "data": {
      "application/vnd.jupyter.widget-view+json": {
       "model_id": "dab22630977c49919d6a10b94ed66618",
       "version_major": 2,
       "version_minor": 0
      },
      "text/plain": [
       "HBox(children=(IntProgress(value=0, max=410), HTML(value='')))"
      ]
     },
     "metadata": {},
     "output_type": "display_data"
    },
    {
     "name": "stdout",
     "output_type": "stream",
     "text": [
      "\n",
      "0.04188214870078898\n"
     ]
    }
   ],
   "source": [
    "%matplotlib nbagg\n",
    "model_name,version, num_split = 'Densenet169_3' , 'classifier_splits',1\n",
    "pickle_file=open(outputs_dir+outputs_format.format(model_name,version,'features_train_tta',num_split),'rb')\n",
    "features=pickle.load(pickle_file)\n",
    "pickle_file.close()\n",
    "features.shape\n",
    "\n",
    "features=features.reshape(features.shape[0]//4,4,-1)\n",
    "features.shape\n",
    "split_train = train_df[train_df.PID.isin(set(split_sid[splits[num_split][0]]))].SeriesI.unique()\n",
    "split_validate =  train_df[train_df.PID.isin(set(split_sid[splits[num_split][1]]))].SeriesI.unique()\n",
    "\n",
    "np.random.seed(SEED+num_split)\n",
    "torch.manual_seed(SEED+num_split)\n",
    "torch.cuda.manual_seed(SEED+num_split)\n",
    "torch.backends.cudnn.deterministic = True\n",
    "batch_size=16\n",
    "num_workers=18\n",
    "num_epochs=16\n",
    "klr=1\n",
    "weights = torch.tensor([1.,1.,1.,1.,1.,2.],device=device)\n",
    "train_dataset=FullHeadDataset(train_df,\n",
    "                              split_train,\n",
    "                              features,\n",
    "                              'SeriesI',\n",
    "                              'ImagePositionZ',\n",
    "                              hemorrhage_types)                \n",
    "validate_dataset=FullHeadDataset(train_df,\n",
    "                                 split_validate,\n",
    "                                 features[:,0,:],\n",
    "                                 'SeriesI',\n",
    "                                 'ImagePositionZ',\n",
    "                                 hemorrhage_types)                \n",
    "\n",
    "model=ResModel(features.shape[-1])\n",
    "version=version+'_fullhead_resmodel'\n",
    "_=model.to(device)\n",
    "\n",
    "loss_func=my_loss\n",
    "fig,ax = plt.subplots(figsize=(10,7))\n",
    "gr=loss_graph(fig,ax,num_epochs,len(train_dataset)//batch_size+1,limits=[0.02,0.06])\n",
    "num_train_optimization_steps = num_epochs*(len(train_dataset)//batch_size+int(len(train_dataset)%batch_size>0))\n",
    "sched=WarmupExpCosineWithWarmupRestartsSchedule( t_total=num_train_optimization_steps, cycles=num_epochs//4,tau=0)\n",
    "optimizer = BertAdam(model.parameters(),lr=klr*1e-3,schedule=sched)\n",
    "history,best_model= model_train(model,\n",
    "                                optimizer,\n",
    "                                train_dataset,\n",
    "                                batch_size,\n",
    "                                num_epochs,\n",
    "                                loss_func,\n",
    "                                weights=weights,\n",
    "                                do_apex=False,\n",
    "                                validate_dataset=validate_dataset,\n",
    "                                param_schedualer=None,\n",
    "                                weights_data=None,\n",
    "                                metric=Metric(torch.tensor([1.,1.,1.,1.,1.,2.])),\n",
    "                                return_model=True,\n",
    "                                best_average=3,\n",
    "                                num_workers=num_workers,\n",
    "                                sampler=None,\n",
    "                                graph=gr)\n",
    "torch.save(best_model.state_dict(), models_dir+models_format.format(model_name,version,num_split))"
   ]
  },
  {
   "cell_type": "code",
   "execution_count": 23,
   "metadata": {
    "scrolled": true
   },
   "outputs": [
    {
     "data": {
      "text/plain": [
       "torch.Size([2697008, 240])"
      ]
     },
     "execution_count": 23,
     "metadata": {},
     "output_type": "execute_result"
    },
    {
     "data": {
      "text/plain": [
       "torch.Size([674252, 4, 240])"
      ]
     },
     "execution_count": 23,
     "metadata": {},
     "output_type": "execute_result"
    },
    {
     "data": {
      "text/plain": [
       "<torch._C.Generator at 0x7f56eb479790>"
      ]
     },
     "execution_count": 23,
     "metadata": {},
     "output_type": "execute_result"
    },
    {
     "data": {
      "application/javascript": [
       "/* Put everything inside the global mpl namespace */\n",
       "window.mpl = {};\n",
       "\n",
       "\n",
       "mpl.get_websocket_type = function() {\n",
       "    if (typeof(WebSocket) !== 'undefined') {\n",
       "        return WebSocket;\n",
       "    } else if (typeof(MozWebSocket) !== 'undefined') {\n",
       "        return MozWebSocket;\n",
       "    } else {\n",
       "        alert('Your browser does not have WebSocket support.' +\n",
       "              'Please try Chrome, Safari or Firefox ≥ 6. ' +\n",
       "              'Firefox 4 and 5 are also supported but you ' +\n",
       "              'have to enable WebSockets in about:config.');\n",
       "    };\n",
       "}\n",
       "\n",
       "mpl.figure = function(figure_id, websocket, ondownload, parent_element) {\n",
       "    this.id = figure_id;\n",
       "\n",
       "    this.ws = websocket;\n",
       "\n",
       "    this.supports_binary = (this.ws.binaryType != undefined);\n",
       "\n",
       "    if (!this.supports_binary) {\n",
       "        var warnings = document.getElementById(\"mpl-warnings\");\n",
       "        if (warnings) {\n",
       "            warnings.style.display = 'block';\n",
       "            warnings.textContent = (\n",
       "                \"This browser does not support binary websocket messages. \" +\n",
       "                    \"Performance may be slow.\");\n",
       "        }\n",
       "    }\n",
       "\n",
       "    this.imageObj = new Image();\n",
       "\n",
       "    this.context = undefined;\n",
       "    this.message = undefined;\n",
       "    this.canvas = undefined;\n",
       "    this.rubberband_canvas = undefined;\n",
       "    this.rubberband_context = undefined;\n",
       "    this.format_dropdown = undefined;\n",
       "\n",
       "    this.image_mode = 'full';\n",
       "\n",
       "    this.root = $('<div/>');\n",
       "    this._root_extra_style(this.root)\n",
       "    this.root.attr('style', 'display: inline-block');\n",
       "\n",
       "    $(parent_element).append(this.root);\n",
       "\n",
       "    this._init_header(this);\n",
       "    this._init_canvas(this);\n",
       "    this._init_toolbar(this);\n",
       "\n",
       "    var fig = this;\n",
       "\n",
       "    this.waiting = false;\n",
       "\n",
       "    this.ws.onopen =  function () {\n",
       "            fig.send_message(\"supports_binary\", {value: fig.supports_binary});\n",
       "            fig.send_message(\"send_image_mode\", {});\n",
       "            if (mpl.ratio != 1) {\n",
       "                fig.send_message(\"set_dpi_ratio\", {'dpi_ratio': mpl.ratio});\n",
       "            }\n",
       "            fig.send_message(\"refresh\", {});\n",
       "        }\n",
       "\n",
       "    this.imageObj.onload = function() {\n",
       "            if (fig.image_mode == 'full') {\n",
       "                // Full images could contain transparency (where diff images\n",
       "                // almost always do), so we need to clear the canvas so that\n",
       "                // there is no ghosting.\n",
       "                fig.context.clearRect(0, 0, fig.canvas.width, fig.canvas.height);\n",
       "            }\n",
       "            fig.context.drawImage(fig.imageObj, 0, 0);\n",
       "        };\n",
       "\n",
       "    this.imageObj.onunload = function() {\n",
       "        fig.ws.close();\n",
       "    }\n",
       "\n",
       "    this.ws.onmessage = this._make_on_message_function(this);\n",
       "\n",
       "    this.ondownload = ondownload;\n",
       "}\n",
       "\n",
       "mpl.figure.prototype._init_header = function() {\n",
       "    var titlebar = $(\n",
       "        '<div class=\"ui-dialog-titlebar ui-widget-header ui-corner-all ' +\n",
       "        'ui-helper-clearfix\"/>');\n",
       "    var titletext = $(\n",
       "        '<div class=\"ui-dialog-title\" style=\"width: 100%; ' +\n",
       "        'text-align: center; padding: 3px;\"/>');\n",
       "    titlebar.append(titletext)\n",
       "    this.root.append(titlebar);\n",
       "    this.header = titletext[0];\n",
       "}\n",
       "\n",
       "\n",
       "\n",
       "mpl.figure.prototype._canvas_extra_style = function(canvas_div) {\n",
       "\n",
       "}\n",
       "\n",
       "\n",
       "mpl.figure.prototype._root_extra_style = function(canvas_div) {\n",
       "\n",
       "}\n",
       "\n",
       "mpl.figure.prototype._init_canvas = function() {\n",
       "    var fig = this;\n",
       "\n",
       "    var canvas_div = $('<div/>');\n",
       "\n",
       "    canvas_div.attr('style', 'position: relative; clear: both; outline: 0');\n",
       "\n",
       "    function canvas_keyboard_event(event) {\n",
       "        return fig.key_event(event, event['data']);\n",
       "    }\n",
       "\n",
       "    canvas_div.keydown('key_press', canvas_keyboard_event);\n",
       "    canvas_div.keyup('key_release', canvas_keyboard_event);\n",
       "    this.canvas_div = canvas_div\n",
       "    this._canvas_extra_style(canvas_div)\n",
       "    this.root.append(canvas_div);\n",
       "\n",
       "    var canvas = $('<canvas/>');\n",
       "    canvas.addClass('mpl-canvas');\n",
       "    canvas.attr('style', \"left: 0; top: 0; z-index: 0; outline: 0\")\n",
       "\n",
       "    this.canvas = canvas[0];\n",
       "    this.context = canvas[0].getContext(\"2d\");\n",
       "\n",
       "    var backingStore = this.context.backingStorePixelRatio ||\n",
       "\tthis.context.webkitBackingStorePixelRatio ||\n",
       "\tthis.context.mozBackingStorePixelRatio ||\n",
       "\tthis.context.msBackingStorePixelRatio ||\n",
       "\tthis.context.oBackingStorePixelRatio ||\n",
       "\tthis.context.backingStorePixelRatio || 1;\n",
       "\n",
       "    mpl.ratio = (window.devicePixelRatio || 1) / backingStore;\n",
       "\n",
       "    var rubberband = $('<canvas/>');\n",
       "    rubberband.attr('style', \"position: absolute; left: 0; top: 0; z-index: 1;\")\n",
       "\n",
       "    var pass_mouse_events = true;\n",
       "\n",
       "    canvas_div.resizable({\n",
       "        start: function(event, ui) {\n",
       "            pass_mouse_events = false;\n",
       "        },\n",
       "        resize: function(event, ui) {\n",
       "            fig.request_resize(ui.size.width, ui.size.height);\n",
       "        },\n",
       "        stop: function(event, ui) {\n",
       "            pass_mouse_events = true;\n",
       "            fig.request_resize(ui.size.width, ui.size.height);\n",
       "        },\n",
       "    });\n",
       "\n",
       "    function mouse_event_fn(event) {\n",
       "        if (pass_mouse_events)\n",
       "            return fig.mouse_event(event, event['data']);\n",
       "    }\n",
       "\n",
       "    rubberband.mousedown('button_press', mouse_event_fn);\n",
       "    rubberband.mouseup('button_release', mouse_event_fn);\n",
       "    // Throttle sequential mouse events to 1 every 20ms.\n",
       "    rubberband.mousemove('motion_notify', mouse_event_fn);\n",
       "\n",
       "    rubberband.mouseenter('figure_enter', mouse_event_fn);\n",
       "    rubberband.mouseleave('figure_leave', mouse_event_fn);\n",
       "\n",
       "    canvas_div.on(\"wheel\", function (event) {\n",
       "        event = event.originalEvent;\n",
       "        event['data'] = 'scroll'\n",
       "        if (event.deltaY < 0) {\n",
       "            event.step = 1;\n",
       "        } else {\n",
       "            event.step = -1;\n",
       "        }\n",
       "        mouse_event_fn(event);\n",
       "    });\n",
       "\n",
       "    canvas_div.append(canvas);\n",
       "    canvas_div.append(rubberband);\n",
       "\n",
       "    this.rubberband = rubberband;\n",
       "    this.rubberband_canvas = rubberband[0];\n",
       "    this.rubberband_context = rubberband[0].getContext(\"2d\");\n",
       "    this.rubberband_context.strokeStyle = \"#000000\";\n",
       "\n",
       "    this._resize_canvas = function(width, height) {\n",
       "        // Keep the size of the canvas, canvas container, and rubber band\n",
       "        // canvas in synch.\n",
       "        canvas_div.css('width', width)\n",
       "        canvas_div.css('height', height)\n",
       "\n",
       "        canvas.attr('width', width * mpl.ratio);\n",
       "        canvas.attr('height', height * mpl.ratio);\n",
       "        canvas.attr('style', 'width: ' + width + 'px; height: ' + height + 'px;');\n",
       "\n",
       "        rubberband.attr('width', width);\n",
       "        rubberband.attr('height', height);\n",
       "    }\n",
       "\n",
       "    // Set the figure to an initial 600x600px, this will subsequently be updated\n",
       "    // upon first draw.\n",
       "    this._resize_canvas(600, 600);\n",
       "\n",
       "    // Disable right mouse context menu.\n",
       "    $(this.rubberband_canvas).bind(\"contextmenu\",function(e){\n",
       "        return false;\n",
       "    });\n",
       "\n",
       "    function set_focus () {\n",
       "        canvas.focus();\n",
       "        canvas_div.focus();\n",
       "    }\n",
       "\n",
       "    window.setTimeout(set_focus, 100);\n",
       "}\n",
       "\n",
       "mpl.figure.prototype._init_toolbar = function() {\n",
       "    var fig = this;\n",
       "\n",
       "    var nav_element = $('<div/>')\n",
       "    nav_element.attr('style', 'width: 100%');\n",
       "    this.root.append(nav_element);\n",
       "\n",
       "    // Define a callback function for later on.\n",
       "    function toolbar_event(event) {\n",
       "        return fig.toolbar_button_onclick(event['data']);\n",
       "    }\n",
       "    function toolbar_mouse_event(event) {\n",
       "        return fig.toolbar_button_onmouseover(event['data']);\n",
       "    }\n",
       "\n",
       "    for(var toolbar_ind in mpl.toolbar_items) {\n",
       "        var name = mpl.toolbar_items[toolbar_ind][0];\n",
       "        var tooltip = mpl.toolbar_items[toolbar_ind][1];\n",
       "        var image = mpl.toolbar_items[toolbar_ind][2];\n",
       "        var method_name = mpl.toolbar_items[toolbar_ind][3];\n",
       "\n",
       "        if (!name) {\n",
       "            // put a spacer in here.\n",
       "            continue;\n",
       "        }\n",
       "        var button = $('<button/>');\n",
       "        button.addClass('ui-button ui-widget ui-state-default ui-corner-all ' +\n",
       "                        'ui-button-icon-only');\n",
       "        button.attr('role', 'button');\n",
       "        button.attr('aria-disabled', 'false');\n",
       "        button.click(method_name, toolbar_event);\n",
       "        button.mouseover(tooltip, toolbar_mouse_event);\n",
       "\n",
       "        var icon_img = $('<span/>');\n",
       "        icon_img.addClass('ui-button-icon-primary ui-icon');\n",
       "        icon_img.addClass(image);\n",
       "        icon_img.addClass('ui-corner-all');\n",
       "\n",
       "        var tooltip_span = $('<span/>');\n",
       "        tooltip_span.addClass('ui-button-text');\n",
       "        tooltip_span.html(tooltip);\n",
       "\n",
       "        button.append(icon_img);\n",
       "        button.append(tooltip_span);\n",
       "\n",
       "        nav_element.append(button);\n",
       "    }\n",
       "\n",
       "    var fmt_picker_span = $('<span/>');\n",
       "\n",
       "    var fmt_picker = $('<select/>');\n",
       "    fmt_picker.addClass('mpl-toolbar-option ui-widget ui-widget-content');\n",
       "    fmt_picker_span.append(fmt_picker);\n",
       "    nav_element.append(fmt_picker_span);\n",
       "    this.format_dropdown = fmt_picker[0];\n",
       "\n",
       "    for (var ind in mpl.extensions) {\n",
       "        var fmt = mpl.extensions[ind];\n",
       "        var option = $(\n",
       "            '<option/>', {selected: fmt === mpl.default_extension}).html(fmt);\n",
       "        fmt_picker.append(option)\n",
       "    }\n",
       "\n",
       "    // Add hover states to the ui-buttons\n",
       "    $( \".ui-button\" ).hover(\n",
       "        function() { $(this).addClass(\"ui-state-hover\");},\n",
       "        function() { $(this).removeClass(\"ui-state-hover\");}\n",
       "    );\n",
       "\n",
       "    var status_bar = $('<span class=\"mpl-message\"/>');\n",
       "    nav_element.append(status_bar);\n",
       "    this.message = status_bar[0];\n",
       "}\n",
       "\n",
       "mpl.figure.prototype.request_resize = function(x_pixels, y_pixels) {\n",
       "    // Request matplotlib to resize the figure. Matplotlib will then trigger a resize in the client,\n",
       "    // which will in turn request a refresh of the image.\n",
       "    this.send_message('resize', {'width': x_pixels, 'height': y_pixels});\n",
       "}\n",
       "\n",
       "mpl.figure.prototype.send_message = function(type, properties) {\n",
       "    properties['type'] = type;\n",
       "    properties['figure_id'] = this.id;\n",
       "    this.ws.send(JSON.stringify(properties));\n",
       "}\n",
       "\n",
       "mpl.figure.prototype.send_draw_message = function() {\n",
       "    if (!this.waiting) {\n",
       "        this.waiting = true;\n",
       "        this.ws.send(JSON.stringify({type: \"draw\", figure_id: this.id}));\n",
       "    }\n",
       "}\n",
       "\n",
       "\n",
       "mpl.figure.prototype.handle_save = function(fig, msg) {\n",
       "    var format_dropdown = fig.format_dropdown;\n",
       "    var format = format_dropdown.options[format_dropdown.selectedIndex].value;\n",
       "    fig.ondownload(fig, format);\n",
       "}\n",
       "\n",
       "\n",
       "mpl.figure.prototype.handle_resize = function(fig, msg) {\n",
       "    var size = msg['size'];\n",
       "    if (size[0] != fig.canvas.width || size[1] != fig.canvas.height) {\n",
       "        fig._resize_canvas(size[0], size[1]);\n",
       "        fig.send_message(\"refresh\", {});\n",
       "    };\n",
       "}\n",
       "\n",
       "mpl.figure.prototype.handle_rubberband = function(fig, msg) {\n",
       "    var x0 = msg['x0'] / mpl.ratio;\n",
       "    var y0 = (fig.canvas.height - msg['y0']) / mpl.ratio;\n",
       "    var x1 = msg['x1'] / mpl.ratio;\n",
       "    var y1 = (fig.canvas.height - msg['y1']) / mpl.ratio;\n",
       "    x0 = Math.floor(x0) + 0.5;\n",
       "    y0 = Math.floor(y0) + 0.5;\n",
       "    x1 = Math.floor(x1) + 0.5;\n",
       "    y1 = Math.floor(y1) + 0.5;\n",
       "    var min_x = Math.min(x0, x1);\n",
       "    var min_y = Math.min(y0, y1);\n",
       "    var width = Math.abs(x1 - x0);\n",
       "    var height = Math.abs(y1 - y0);\n",
       "\n",
       "    fig.rubberband_context.clearRect(\n",
       "        0, 0, fig.canvas.width, fig.canvas.height);\n",
       "\n",
       "    fig.rubberband_context.strokeRect(min_x, min_y, width, height);\n",
       "}\n",
       "\n",
       "mpl.figure.prototype.handle_figure_label = function(fig, msg) {\n",
       "    // Updates the figure title.\n",
       "    fig.header.textContent = msg['label'];\n",
       "}\n",
       "\n",
       "mpl.figure.prototype.handle_cursor = function(fig, msg) {\n",
       "    var cursor = msg['cursor'];\n",
       "    switch(cursor)\n",
       "    {\n",
       "    case 0:\n",
       "        cursor = 'pointer';\n",
       "        break;\n",
       "    case 1:\n",
       "        cursor = 'default';\n",
       "        break;\n",
       "    case 2:\n",
       "        cursor = 'crosshair';\n",
       "        break;\n",
       "    case 3:\n",
       "        cursor = 'move';\n",
       "        break;\n",
       "    }\n",
       "    fig.rubberband_canvas.style.cursor = cursor;\n",
       "}\n",
       "\n",
       "mpl.figure.prototype.handle_message = function(fig, msg) {\n",
       "    fig.message.textContent = msg['message'];\n",
       "}\n",
       "\n",
       "mpl.figure.prototype.handle_draw = function(fig, msg) {\n",
       "    // Request the server to send over a new figure.\n",
       "    fig.send_draw_message();\n",
       "}\n",
       "\n",
       "mpl.figure.prototype.handle_image_mode = function(fig, msg) {\n",
       "    fig.image_mode = msg['mode'];\n",
       "}\n",
       "\n",
       "mpl.figure.prototype.updated_canvas_event = function() {\n",
       "    // Called whenever the canvas gets updated.\n",
       "    this.send_message(\"ack\", {});\n",
       "}\n",
       "\n",
       "// A function to construct a web socket function for onmessage handling.\n",
       "// Called in the figure constructor.\n",
       "mpl.figure.prototype._make_on_message_function = function(fig) {\n",
       "    return function socket_on_message(evt) {\n",
       "        if (evt.data instanceof Blob) {\n",
       "            /* FIXME: We get \"Resource interpreted as Image but\n",
       "             * transferred with MIME type text/plain:\" errors on\n",
       "             * Chrome.  But how to set the MIME type?  It doesn't seem\n",
       "             * to be part of the websocket stream */\n",
       "            evt.data.type = \"image/png\";\n",
       "\n",
       "            /* Free the memory for the previous frames */\n",
       "            if (fig.imageObj.src) {\n",
       "                (window.URL || window.webkitURL).revokeObjectURL(\n",
       "                    fig.imageObj.src);\n",
       "            }\n",
       "\n",
       "            fig.imageObj.src = (window.URL || window.webkitURL).createObjectURL(\n",
       "                evt.data);\n",
       "            fig.updated_canvas_event();\n",
       "            fig.waiting = false;\n",
       "            return;\n",
       "        }\n",
       "        else if (typeof evt.data === 'string' && evt.data.slice(0, 21) == \"data:image/png;base64\") {\n",
       "            fig.imageObj.src = evt.data;\n",
       "            fig.updated_canvas_event();\n",
       "            fig.waiting = false;\n",
       "            return;\n",
       "        }\n",
       "\n",
       "        var msg = JSON.parse(evt.data);\n",
       "        var msg_type = msg['type'];\n",
       "\n",
       "        // Call the  \"handle_{type}\" callback, which takes\n",
       "        // the figure and JSON message as its only arguments.\n",
       "        try {\n",
       "            var callback = fig[\"handle_\" + msg_type];\n",
       "        } catch (e) {\n",
       "            console.log(\"No handler for the '\" + msg_type + \"' message type: \", msg);\n",
       "            return;\n",
       "        }\n",
       "\n",
       "        if (callback) {\n",
       "            try {\n",
       "                // console.log(\"Handling '\" + msg_type + \"' message: \", msg);\n",
       "                callback(fig, msg);\n",
       "            } catch (e) {\n",
       "                console.log(\"Exception inside the 'handler_\" + msg_type + \"' callback:\", e, e.stack, msg);\n",
       "            }\n",
       "        }\n",
       "    };\n",
       "}\n",
       "\n",
       "// from http://stackoverflow.com/questions/1114465/getting-mouse-location-in-canvas\n",
       "mpl.findpos = function(e) {\n",
       "    //this section is from http://www.quirksmode.org/js/events_properties.html\n",
       "    var targ;\n",
       "    if (!e)\n",
       "        e = window.event;\n",
       "    if (e.target)\n",
       "        targ = e.target;\n",
       "    else if (e.srcElement)\n",
       "        targ = e.srcElement;\n",
       "    if (targ.nodeType == 3) // defeat Safari bug\n",
       "        targ = targ.parentNode;\n",
       "\n",
       "    // jQuery normalizes the pageX and pageY\n",
       "    // pageX,Y are the mouse positions relative to the document\n",
       "    // offset() returns the position of the element relative to the document\n",
       "    var x = e.pageX - $(targ).offset().left;\n",
       "    var y = e.pageY - $(targ).offset().top;\n",
       "\n",
       "    return {\"x\": x, \"y\": y};\n",
       "};\n",
       "\n",
       "/*\n",
       " * return a copy of an object with only non-object keys\n",
       " * we need this to avoid circular references\n",
       " * http://stackoverflow.com/a/24161582/3208463\n",
       " */\n",
       "function simpleKeys (original) {\n",
       "  return Object.keys(original).reduce(function (obj, key) {\n",
       "    if (typeof original[key] !== 'object')\n",
       "        obj[key] = original[key]\n",
       "    return obj;\n",
       "  }, {});\n",
       "}\n",
       "\n",
       "mpl.figure.prototype.mouse_event = function(event, name) {\n",
       "    var canvas_pos = mpl.findpos(event)\n",
       "\n",
       "    if (name === 'button_press')\n",
       "    {\n",
       "        this.canvas.focus();\n",
       "        this.canvas_div.focus();\n",
       "    }\n",
       "\n",
       "    var x = canvas_pos.x * mpl.ratio;\n",
       "    var y = canvas_pos.y * mpl.ratio;\n",
       "\n",
       "    this.send_message(name, {x: x, y: y, button: event.button,\n",
       "                             step: event.step,\n",
       "                             guiEvent: simpleKeys(event)});\n",
       "\n",
       "    /* This prevents the web browser from automatically changing to\n",
       "     * the text insertion cursor when the button is pressed.  We want\n",
       "     * to control all of the cursor setting manually through the\n",
       "     * 'cursor' event from matplotlib */\n",
       "    event.preventDefault();\n",
       "    return false;\n",
       "}\n",
       "\n",
       "mpl.figure.prototype._key_event_extra = function(event, name) {\n",
       "    // Handle any extra behaviour associated with a key event\n",
       "}\n",
       "\n",
       "mpl.figure.prototype.key_event = function(event, name) {\n",
       "\n",
       "    // Prevent repeat events\n",
       "    if (name == 'key_press')\n",
       "    {\n",
       "        if (event.which === this._key)\n",
       "            return;\n",
       "        else\n",
       "            this._key = event.which;\n",
       "    }\n",
       "    if (name == 'key_release')\n",
       "        this._key = null;\n",
       "\n",
       "    var value = '';\n",
       "    if (event.ctrlKey && event.which != 17)\n",
       "        value += \"ctrl+\";\n",
       "    if (event.altKey && event.which != 18)\n",
       "        value += \"alt+\";\n",
       "    if (event.shiftKey && event.which != 16)\n",
       "        value += \"shift+\";\n",
       "\n",
       "    value += 'k';\n",
       "    value += event.which.toString();\n",
       "\n",
       "    this._key_event_extra(event, name);\n",
       "\n",
       "    this.send_message(name, {key: value,\n",
       "                             guiEvent: simpleKeys(event)});\n",
       "    return false;\n",
       "}\n",
       "\n",
       "mpl.figure.prototype.toolbar_button_onclick = function(name) {\n",
       "    if (name == 'download') {\n",
       "        this.handle_save(this, null);\n",
       "    } else {\n",
       "        this.send_message(\"toolbar_button\", {name: name});\n",
       "    }\n",
       "};\n",
       "\n",
       "mpl.figure.prototype.toolbar_button_onmouseover = function(tooltip) {\n",
       "    this.message.textContent = tooltip;\n",
       "};\n",
       "mpl.toolbar_items = [[\"Home\", \"Reset original view\", \"fa fa-home icon-home\", \"home\"], [\"Back\", \"Back to  previous view\", \"fa fa-arrow-left icon-arrow-left\", \"back\"], [\"Forward\", \"Forward to next view\", \"fa fa-arrow-right icon-arrow-right\", \"forward\"], [\"\", \"\", \"\", \"\"], [\"Pan\", \"Pan axes with left mouse, zoom with right\", \"fa fa-arrows icon-move\", \"pan\"], [\"Zoom\", \"Zoom to rectangle\", \"fa fa-square-o icon-check-empty\", \"zoom\"], [\"\", \"\", \"\", \"\"], [\"Download\", \"Download plot\", \"fa fa-floppy-o icon-save\", \"download\"]];\n",
       "\n",
       "mpl.extensions = [\"eps\", \"jpeg\", \"pdf\", \"png\", \"ps\", \"raw\", \"svg\", \"tif\"];\n",
       "\n",
       "mpl.default_extension = \"png\";var comm_websocket_adapter = function(comm) {\n",
       "    // Create a \"websocket\"-like object which calls the given IPython comm\n",
       "    // object with the appropriate methods. Currently this is a non binary\n",
       "    // socket, so there is still some room for performance tuning.\n",
       "    var ws = {};\n",
       "\n",
       "    ws.close = function() {\n",
       "        comm.close()\n",
       "    };\n",
       "    ws.send = function(m) {\n",
       "        //console.log('sending', m);\n",
       "        comm.send(m);\n",
       "    };\n",
       "    // Register the callback with on_msg.\n",
       "    comm.on_msg(function(msg) {\n",
       "        //console.log('receiving', msg['content']['data'], msg);\n",
       "        // Pass the mpl event to the overridden (by mpl) onmessage function.\n",
       "        ws.onmessage(msg['content']['data'])\n",
       "    });\n",
       "    return ws;\n",
       "}\n",
       "\n",
       "mpl.mpl_figure_comm = function(comm, msg) {\n",
       "    // This is the function which gets called when the mpl process\n",
       "    // starts-up an IPython Comm through the \"matplotlib\" channel.\n",
       "\n",
       "    var id = msg.content.data.id;\n",
       "    // Get hold of the div created by the display call when the Comm\n",
       "    // socket was opened in Python.\n",
       "    var element = $(\"#\" + id);\n",
       "    var ws_proxy = comm_websocket_adapter(comm)\n",
       "\n",
       "    function ondownload(figure, format) {\n",
       "        window.open(figure.imageObj.src);\n",
       "    }\n",
       "\n",
       "    var fig = new mpl.figure(id, ws_proxy,\n",
       "                           ondownload,\n",
       "                           element.get(0));\n",
       "\n",
       "    // Call onopen now - mpl needs it, as it is assuming we've passed it a real\n",
       "    // web socket which is closed, not our websocket->open comm proxy.\n",
       "    ws_proxy.onopen();\n",
       "\n",
       "    fig.parent_element = element.get(0);\n",
       "    fig.cell_info = mpl.find_output_cell(\"<div id='\" + id + \"'></div>\");\n",
       "    if (!fig.cell_info) {\n",
       "        console.error(\"Failed to find cell for figure\", id, fig);\n",
       "        return;\n",
       "    }\n",
       "\n",
       "    var output_index = fig.cell_info[2]\n",
       "    var cell = fig.cell_info[0];\n",
       "\n",
       "};\n",
       "\n",
       "mpl.figure.prototype.handle_close = function(fig, msg) {\n",
       "    var width = fig.canvas.width/mpl.ratio\n",
       "    fig.root.unbind('remove')\n",
       "\n",
       "    // Update the output cell to use the data from the current canvas.\n",
       "    fig.push_to_output();\n",
       "    var dataURL = fig.canvas.toDataURL();\n",
       "    // Re-enable the keyboard manager in IPython - without this line, in FF,\n",
       "    // the notebook keyboard shortcuts fail.\n",
       "    IPython.keyboard_manager.enable()\n",
       "    $(fig.parent_element).html('<img src=\"' + dataURL + '\" width=\"' + width + '\">');\n",
       "    fig.close_ws(fig, msg);\n",
       "}\n",
       "\n",
       "mpl.figure.prototype.close_ws = function(fig, msg){\n",
       "    fig.send_message('closing', msg);\n",
       "    // fig.ws.close()\n",
       "}\n",
       "\n",
       "mpl.figure.prototype.push_to_output = function(remove_interactive) {\n",
       "    // Turn the data on the canvas into data in the output cell.\n",
       "    var width = this.canvas.width/mpl.ratio\n",
       "    var dataURL = this.canvas.toDataURL();\n",
       "    this.cell_info[1]['text/html'] = '<img src=\"' + dataURL + '\" width=\"' + width + '\">';\n",
       "}\n",
       "\n",
       "mpl.figure.prototype.updated_canvas_event = function() {\n",
       "    // Tell IPython that the notebook contents must change.\n",
       "    IPython.notebook.set_dirty(true);\n",
       "    this.send_message(\"ack\", {});\n",
       "    var fig = this;\n",
       "    // Wait a second, then push the new image to the DOM so\n",
       "    // that it is saved nicely (might be nice to debounce this).\n",
       "    setTimeout(function () { fig.push_to_output() }, 1000);\n",
       "}\n",
       "\n",
       "mpl.figure.prototype._init_toolbar = function() {\n",
       "    var fig = this;\n",
       "\n",
       "    var nav_element = $('<div/>')\n",
       "    nav_element.attr('style', 'width: 100%');\n",
       "    this.root.append(nav_element);\n",
       "\n",
       "    // Define a callback function for later on.\n",
       "    function toolbar_event(event) {\n",
       "        return fig.toolbar_button_onclick(event['data']);\n",
       "    }\n",
       "    function toolbar_mouse_event(event) {\n",
       "        return fig.toolbar_button_onmouseover(event['data']);\n",
       "    }\n",
       "\n",
       "    for(var toolbar_ind in mpl.toolbar_items){\n",
       "        var name = mpl.toolbar_items[toolbar_ind][0];\n",
       "        var tooltip = mpl.toolbar_items[toolbar_ind][1];\n",
       "        var image = mpl.toolbar_items[toolbar_ind][2];\n",
       "        var method_name = mpl.toolbar_items[toolbar_ind][3];\n",
       "\n",
       "        if (!name) { continue; };\n",
       "\n",
       "        var button = $('<button class=\"btn btn-default\" href=\"#\" title=\"' + name + '\"><i class=\"fa ' + image + ' fa-lg\"></i></button>');\n",
       "        button.click(method_name, toolbar_event);\n",
       "        button.mouseover(tooltip, toolbar_mouse_event);\n",
       "        nav_element.append(button);\n",
       "    }\n",
       "\n",
       "    // Add the status bar.\n",
       "    var status_bar = $('<span class=\"mpl-message\" style=\"text-align:right; float: right;\"/>');\n",
       "    nav_element.append(status_bar);\n",
       "    this.message = status_bar[0];\n",
       "\n",
       "    // Add the close button to the window.\n",
       "    var buttongrp = $('<div class=\"btn-group inline pull-right\"></div>');\n",
       "    var button = $('<button class=\"btn btn-mini btn-primary\" href=\"#\" title=\"Stop Interaction\"><i class=\"fa fa-power-off icon-remove icon-large\"></i></button>');\n",
       "    button.click(function (evt) { fig.handle_close(fig, {}); } );\n",
       "    button.mouseover('Stop Interaction', toolbar_mouse_event);\n",
       "    buttongrp.append(button);\n",
       "    var titlebar = this.root.find($('.ui-dialog-titlebar'));\n",
       "    titlebar.prepend(buttongrp);\n",
       "}\n",
       "\n",
       "mpl.figure.prototype._root_extra_style = function(el){\n",
       "    var fig = this\n",
       "    el.on(\"remove\", function(){\n",
       "\tfig.close_ws(fig, {});\n",
       "    });\n",
       "}\n",
       "\n",
       "mpl.figure.prototype._canvas_extra_style = function(el){\n",
       "    // this is important to make the div 'focusable\n",
       "    el.attr('tabindex', 0)\n",
       "    // reach out to IPython and tell the keyboard manager to turn it's self\n",
       "    // off when our div gets focus\n",
       "\n",
       "    // location in version 3\n",
       "    if (IPython.notebook.keyboard_manager) {\n",
       "        IPython.notebook.keyboard_manager.register_events(el);\n",
       "    }\n",
       "    else {\n",
       "        // location in version 2\n",
       "        IPython.keyboard_manager.register_events(el);\n",
       "    }\n",
       "\n",
       "}\n",
       "\n",
       "mpl.figure.prototype._key_event_extra = function(event, name) {\n",
       "    var manager = IPython.notebook.keyboard_manager;\n",
       "    if (!manager)\n",
       "        manager = IPython.keyboard_manager;\n",
       "\n",
       "    // Check for shift+enter\n",
       "    if (event.shiftKey && event.which == 13) {\n",
       "        this.canvas_div.blur();\n",
       "        event.shiftKey = false;\n",
       "        // Send a \"J\" for go to next cell\n",
       "        event.which = 74;\n",
       "        event.keyCode = 74;\n",
       "        manager.command_mode();\n",
       "        manager.handle_keydown(event);\n",
       "    }\n",
       "}\n",
       "\n",
       "mpl.figure.prototype.handle_save = function(fig, msg) {\n",
       "    fig.ondownload(fig, null);\n",
       "}\n",
       "\n",
       "\n",
       "mpl.find_output_cell = function(html_output) {\n",
       "    // Return the cell and output element which can be found *uniquely* in the notebook.\n",
       "    // Note - this is a bit hacky, but it is done because the \"notebook_saving.Notebook\"\n",
       "    // IPython event is triggered only after the cells have been serialised, which for\n",
       "    // our purposes (turning an active figure into a static one), is too late.\n",
       "    var cells = IPython.notebook.get_cells();\n",
       "    var ncells = cells.length;\n",
       "    for (var i=0; i<ncells; i++) {\n",
       "        var cell = cells[i];\n",
       "        if (cell.cell_type === 'code'){\n",
       "            for (var j=0; j<cell.output_area.outputs.length; j++) {\n",
       "                var data = cell.output_area.outputs[j];\n",
       "                if (data.data) {\n",
       "                    // IPython >= 3 moved mimebundle to data attribute of output\n",
       "                    data = data.data;\n",
       "                }\n",
       "                if (data['text/html'] == html_output) {\n",
       "                    return [cell, data, j];\n",
       "                }\n",
       "            }\n",
       "        }\n",
       "    }\n",
       "}\n",
       "\n",
       "// Register the function which deals with the matplotlib target/channel.\n",
       "// The kernel may be null if the page has been refreshed.\n",
       "if (IPython.notebook.kernel != null) {\n",
       "    IPython.notebook.kernel.comm_manager.register_target('matplotlib', mpl.mpl_figure_comm);\n",
       "}\n"
      ],
      "text/plain": [
       "<IPython.core.display.Javascript object>"
      ]
     },
     "metadata": {},
     "output_type": "display_data"
    },
    {
     "data": {
      "text/html": [
       "<img src=\"data:image/png;base64,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\" width=\"720\">"
      ],
      "text/plain": [
       "<IPython.core.display.HTML object>"
      ]
     },
     "metadata": {},
     "output_type": "display_data"
    },
    {
     "data": {
      "application/vnd.jupyter.widget-view+json": {
       "model_id": "ed4ef02fbbc048f1abd0918a7789424b",
       "version_major": 2,
       "version_minor": 0
      },
      "text/plain": [
       "HBox(children=(IntProgress(value=0, max=16), HTML(value='')))"
      ]
     },
     "metadata": {},
     "output_type": "display_data"
    },
    {
     "data": {
      "application/vnd.jupyter.widget-view+json": {
       "model_id": "395433d1c3ee4389910049972931361a",
       "version_major": 2,
       "version_minor": 0
      },
      "text/plain": [
       "HBox(children=(IntProgress(value=0, max=816), HTML(value='')))"
      ]
     },
     "metadata": {},
     "output_type": "display_data"
    },
    {
     "data": {
      "application/vnd.jupyter.widget-view+json": {
       "model_id": "08b077d2f9f140878888a1b36dbcd517",
       "version_major": 2,
       "version_minor": 0
      },
      "text/plain": [
       "HBox(children=(IntProgress(value=0, max=406), HTML(value='')))"
      ]
     },
     "metadata": {},
     "output_type": "display_data"
    },
    {
     "name": "stdout",
     "output_type": "stream",
     "text": [
      "{'loss': 0.038859921326575814, 'mloss': tensor(0.0688), 'val_loss': 0.04626369767414011, 'val_mloss_tot': tensor(0.0803)}\n"
     ]
    },
    {
     "data": {
      "application/vnd.jupyter.widget-view+json": {
       "model_id": "98b644b2e5b341d6ad794566e4aa8390",
       "version_major": 2,
       "version_minor": 0
      },
      "text/plain": [
       "HBox(children=(IntProgress(value=0, max=816), HTML(value='')))"
      ]
     },
     "metadata": {},
     "output_type": "display_data"
    },
    {
     "data": {
      "application/vnd.jupyter.widget-view+json": {
       "model_id": "698ba3ed33f34faf8f2236a7155d11d9",
       "version_major": 2,
       "version_minor": 0
      },
      "text/plain": [
       "HBox(children=(IntProgress(value=0, max=406), HTML(value='')))"
      ]
     },
     "metadata": {},
     "output_type": "display_data"
    },
    {
     "name": "stdout",
     "output_type": "stream",
     "text": [
      "{'loss': 0.038162344728192965, 'mloss': tensor(0.0711), 'val_loss': 0.04369450832850167, 'val_mloss_tot': tensor(0.0759)}\n"
     ]
    },
    {
     "data": {
      "application/vnd.jupyter.widget-view+json": {
       "model_id": "83d87f1a00b742f8a385a27b5dee71bd",
       "version_major": 2,
       "version_minor": 0
      },
      "text/plain": [
       "HBox(children=(IntProgress(value=0, max=816), HTML(value='')))"
      ]
     },
     "metadata": {},
     "output_type": "display_data"
    },
    {
     "data": {
      "application/vnd.jupyter.widget-view+json": {
       "model_id": "1815275942cb469aa510047c3afd4c9e",
       "version_major": 2,
       "version_minor": 0
      },
      "text/plain": [
       "HBox(children=(IntProgress(value=0, max=406), HTML(value='')))"
      ]
     },
     "metadata": {},
     "output_type": "display_data"
    },
    {
     "name": "stdout",
     "output_type": "stream",
     "text": [
      "{'loss': 0.03639597625649562, 'mloss': tensor(0.0664), 'val_loss': 0.043223883651582334, 'val_mloss_tot': tensor(0.0750)}\n"
     ]
    },
    {
     "data": {
      "application/vnd.jupyter.widget-view+json": {
       "model_id": "3df40b9e71f24a66a49a8f8e2127b0c3",
       "version_major": 2,
       "version_minor": 0
      },
      "text/plain": [
       "HBox(children=(IntProgress(value=0, max=816), HTML(value='')))"
      ]
     },
     "metadata": {},
     "output_type": "display_data"
    },
    {
     "data": {
      "application/vnd.jupyter.widget-view+json": {
       "model_id": "d5d6e06705fa4ca7ad50c8a068877e58",
       "version_major": 2,
       "version_minor": 0
      },
      "text/plain": [
       "HBox(children=(IntProgress(value=0, max=406), HTML(value='')))"
      ]
     },
     "metadata": {},
     "output_type": "display_data"
    },
    {
     "name": "stdout",
     "output_type": "stream",
     "text": [
      "{'loss': 0.0367543412272333, 'mloss': tensor(0.0626), 'val_loss': 0.04324113856656982, 'val_mloss_tot': tensor(0.0751)}\n"
     ]
    },
    {
     "data": {
      "application/vnd.jupyter.widget-view+json": {
       "model_id": "02cbb30f1fb94c4d85f77915d9da99c5",
       "version_major": 2,
       "version_minor": 0
      },
      "text/plain": [
       "HBox(children=(IntProgress(value=0, max=816), HTML(value='')))"
      ]
     },
     "metadata": {},
     "output_type": "display_data"
    },
    {
     "data": {
      "application/vnd.jupyter.widget-view+json": {
       "model_id": "18be2553403c4694b07d80db6c1c22fb",
       "version_major": 2,
       "version_minor": 0
      },
      "text/plain": [
       "HBox(children=(IntProgress(value=0, max=406), HTML(value='')))"
      ]
     },
     "metadata": {},
     "output_type": "display_data"
    },
    {
     "name": "stdout",
     "output_type": "stream",
     "text": [
      "{'loss': 0.03642151815246103, 'mloss': tensor(0.0639), 'val_loss': 0.04367242765778061, 'val_mloss_tot': tensor(0.0758)}\n"
     ]
    },
    {
     "data": {
      "application/vnd.jupyter.widget-view+json": {
       "model_id": "2e222074276c4ef3a639c2503518184e",
       "version_major": 2,
       "version_minor": 0
      },
      "text/plain": [
       "HBox(children=(IntProgress(value=0, max=816), HTML(value='')))"
      ]
     },
     "metadata": {},
     "output_type": "display_data"
    },
    {
     "data": {
      "application/vnd.jupyter.widget-view+json": {
       "model_id": "8ae01b2e017747c1b8827b040db1170a",
       "version_major": 2,
       "version_minor": 0
      },
      "text/plain": [
       "HBox(children=(IntProgress(value=0, max=406), HTML(value='')))"
      ]
     },
     "metadata": {},
     "output_type": "display_data"
    },
    {
     "name": "stdout",
     "output_type": "stream",
     "text": [
      "{'loss': 0.03416251832174848, 'mloss': tensor(0.0612), 'val_loss': 0.043285821583993696, 'val_mloss_tot': tensor(0.0751)}\n"
     ]
    },
    {
     "data": {
      "application/vnd.jupyter.widget-view+json": {
       "model_id": "ed52c60212be4eac9762d622b3b3ae16",
       "version_major": 2,
       "version_minor": 0
      },
      "text/plain": [
       "HBox(children=(IntProgress(value=0, max=816), HTML(value='')))"
      ]
     },
     "metadata": {},
     "output_type": "display_data"
    },
    {
     "data": {
      "application/vnd.jupyter.widget-view+json": {
       "model_id": "08bb4479a4fe48bab4640db54dbb1852",
       "version_major": 2,
       "version_minor": 0
      },
      "text/plain": [
       "HBox(children=(IntProgress(value=0, max=406), HTML(value='')))"
      ]
     },
     "metadata": {},
     "output_type": "display_data"
    },
    {
     "name": "stdout",
     "output_type": "stream",
     "text": [
      "{'loss': 0.0328912585077691, 'mloss': tensor(0.0557), 'val_loss': 0.04319522321439839, 'val_mloss_tot': tensor(0.0750)}\n"
     ]
    },
    {
     "data": {
      "application/vnd.jupyter.widget-view+json": {
       "model_id": "d2375e3430e643b99b14b4a9e8a1a205",
       "version_major": 2,
       "version_minor": 0
      },
      "text/plain": [
       "HBox(children=(IntProgress(value=0, max=816), HTML(value='')))"
      ]
     },
     "metadata": {},
     "output_type": "display_data"
    },
    {
     "data": {
      "application/vnd.jupyter.widget-view+json": {
       "model_id": "8c1613d0683f490f9e70f2d2a7853162",
       "version_major": 2,
       "version_minor": 0
      },
      "text/plain": [
       "HBox(children=(IntProgress(value=0, max=406), HTML(value='')))"
      ]
     },
     "metadata": {},
     "output_type": "display_data"
    },
    {
     "name": "stdout",
     "output_type": "stream",
     "text": [
      "{'loss': 0.032506232609781235, 'mloss': tensor(0.0554), 'val_loss': 0.04294171487669383, 'val_mloss_tot': tensor(0.0746)}\n"
     ]
    },
    {
     "data": {
      "application/vnd.jupyter.widget-view+json": {
       "model_id": "df6085de258846feb60d022c2f1f5b35",
       "version_major": 2,
       "version_minor": 0
      },
      "text/plain": [
       "HBox(children=(IntProgress(value=0, max=816), HTML(value='')))"
      ]
     },
     "metadata": {},
     "output_type": "display_data"
    },
    {
     "data": {
      "application/vnd.jupyter.widget-view+json": {
       "model_id": "29cb573e2e654c0b9a3637bd998063a2",
       "version_major": 2,
       "version_minor": 0
      },
      "text/plain": [
       "HBox(children=(IntProgress(value=0, max=406), HTML(value='')))"
      ]
     },
     "metadata": {},
     "output_type": "display_data"
    },
    {
     "name": "stdout",
     "output_type": "stream",
     "text": [
      "{'loss': 0.03606212879481145, 'mloss': tensor(0.0617), 'val_loss': 0.043725709856391466, 'val_mloss_tot': tensor(0.0759)}\n"
     ]
    },
    {
     "data": {
      "application/vnd.jupyter.widget-view+json": {
       "model_id": "5ff98a176d264857b79ce0b6a65ead0c",
       "version_major": 2,
       "version_minor": 0
      },
      "text/plain": [
       "HBox(children=(IntProgress(value=0, max=816), HTML(value='')))"
      ]
     },
     "metadata": {},
     "output_type": "display_data"
    },
    {
     "data": {
      "application/vnd.jupyter.widget-view+json": {
       "model_id": "3f526ca8ee77480293c47bc6809e2bc1",
       "version_major": 2,
       "version_minor": 0
      },
      "text/plain": [
       "HBox(children=(IntProgress(value=0, max=406), HTML(value='')))"
      ]
     },
     "metadata": {},
     "output_type": "display_data"
    },
    {
     "name": "stdout",
     "output_type": "stream",
     "text": [
      "{'loss': 0.03542246104700155, 'mloss': tensor(0.0640), 'val_loss': 0.04280878373953913, 'val_mloss_tot': tensor(0.0743)}\n"
     ]
    },
    {
     "data": {
      "application/vnd.jupyter.widget-view+json": {
       "model_id": "57559943b3a24eca941939d6096fbd49",
       "version_major": 2,
       "version_minor": 0
      },
      "text/plain": [
       "HBox(children=(IntProgress(value=0, max=816), HTML(value='')))"
      ]
     },
     "metadata": {},
     "output_type": "display_data"
    },
    {
     "data": {
      "application/vnd.jupyter.widget-view+json": {
       "model_id": "6edc0f11d9bd41ceb18155eb3cd38af3",
       "version_major": 2,
       "version_minor": 0
      },
      "text/plain": [
       "HBox(children=(IntProgress(value=0, max=406), HTML(value='')))"
      ]
     },
     "metadata": {},
     "output_type": "display_data"
    },
    {
     "name": "stdout",
     "output_type": "stream",
     "text": [
      "{'loss': 0.03439772234552472, 'mloss': tensor(0.0640), 'val_loss': 0.042687425861281936, 'val_mloss_tot': tensor(0.0741)}\n"
     ]
    },
    {
     "data": {
      "application/vnd.jupyter.widget-view+json": {
       "model_id": "db0f7f2d35dc4978a92a615afc1938ea",
       "version_major": 2,
       "version_minor": 0
      },
      "text/plain": [
       "HBox(children=(IntProgress(value=0, max=816), HTML(value='')))"
      ]
     },
     "metadata": {},
     "output_type": "display_data"
    },
    {
     "data": {
      "application/vnd.jupyter.widget-view+json": {
       "model_id": "c8bacb12cf8b434ca91ff48d33459252",
       "version_major": 2,
       "version_minor": 0
      },
      "text/plain": [
       "HBox(children=(IntProgress(value=0, max=406), HTML(value='')))"
      ]
     },
     "metadata": {},
     "output_type": "display_data"
    },
    {
     "name": "stdout",
     "output_type": "stream",
     "text": [
      "{'loss': 0.03280222298758221, 'mloss': tensor(0.0563), 'val_loss': 0.042755331833768874, 'val_mloss_tot': tensor(0.0742)}\n"
     ]
    },
    {
     "data": {
      "application/vnd.jupyter.widget-view+json": {
       "model_id": "f22f6b2a8ce742da9257174d3ff07c60",
       "version_major": 2,
       "version_minor": 0
      },
      "text/plain": [
       "HBox(children=(IntProgress(value=0, max=816), HTML(value='')))"
      ]
     },
     "metadata": {},
     "output_type": "display_data"
    },
    {
     "data": {
      "application/vnd.jupyter.widget-view+json": {
       "model_id": "6f84831725354bf5a0781e62448b7502",
       "version_major": 2,
       "version_minor": 0
      },
      "text/plain": [
       "HBox(children=(IntProgress(value=0, max=406), HTML(value='')))"
      ]
     },
     "metadata": {},
     "output_type": "display_data"
    },
    {
     "name": "stdout",
     "output_type": "stream",
     "text": [
      "{'loss': 0.03296866824016371, 'mloss': tensor(0.0550), 'val_loss': 0.04426294222320407, 'val_mloss_tot': tensor(0.0769)}\n"
     ]
    },
    {
     "data": {
      "application/vnd.jupyter.widget-view+json": {
       "model_id": "c7e739f1b3ef42f889a20e38778f24a8",
       "version_major": 2,
       "version_minor": 0
      },
      "text/plain": [
       "HBox(children=(IntProgress(value=0, max=816), HTML(value='')))"
      ]
     },
     "metadata": {},
     "output_type": "display_data"
    },
    {
     "data": {
      "application/vnd.jupyter.widget-view+json": {
       "model_id": "d5dd0f0d7a704e54845814240dd8fec8",
       "version_major": 2,
       "version_minor": 0
      },
      "text/plain": [
       "HBox(children=(IntProgress(value=0, max=406), HTML(value='')))"
      ]
     },
     "metadata": {},
     "output_type": "display_data"
    },
    {
     "name": "stdout",
     "output_type": "stream",
     "text": [
      "{'loss': 0.03457979648201321, 'mloss': tensor(0.0624), 'val_loss': 0.042586660848728614, 'val_mloss_tot': tensor(0.0739)}\n"
     ]
    },
    {
     "data": {
      "application/vnd.jupyter.widget-view+json": {
       "model_id": "90ae34f52848424d91b75fe7c0721f16",
       "version_major": 2,
       "version_minor": 0
      },
      "text/plain": [
       "HBox(children=(IntProgress(value=0, max=816), HTML(value='')))"
      ]
     },
     "metadata": {},
     "output_type": "display_data"
    },
    {
     "data": {
      "application/vnd.jupyter.widget-view+json": {
       "model_id": "cd72e34301bf48ec974c349f6d544730",
       "version_major": 2,
       "version_minor": 0
      },
      "text/plain": [
       "HBox(children=(IntProgress(value=0, max=406), HTML(value='')))"
      ]
     },
     "metadata": {},
     "output_type": "display_data"
    },
    {
     "name": "stdout",
     "output_type": "stream",
     "text": [
      "{'loss': 0.031243936197512423, 'mloss': tensor(0.0500), 'val_loss': 0.04327675345149625, 'val_mloss_tot': tensor(0.0751)}\n"
     ]
    },
    {
     "data": {
      "application/vnd.jupyter.widget-view+json": {
       "model_id": "93d77ee6fa1f4d169c1788304d401fc3",
       "version_major": 2,
       "version_minor": 0
      },
      "text/plain": [
       "HBox(children=(IntProgress(value=0, max=816), HTML(value='')))"
      ]
     },
     "metadata": {},
     "output_type": "display_data"
    },
    {
     "data": {
      "application/vnd.jupyter.widget-view+json": {
       "model_id": "62c7eb90aba54208b3826dc509440bf8",
       "version_major": 2,
       "version_minor": 0
      },
      "text/plain": [
       "HBox(children=(IntProgress(value=0, max=406), HTML(value='')))"
      ]
     },
     "metadata": {},
     "output_type": "display_data"
    },
    {
     "name": "stdout",
     "output_type": "stream",
     "text": [
      "{'loss': 0.031818152969584027, 'mloss': tensor(0.0536), 'val_loss': 0.04284109750400146, 'val_mloss_tot': tensor(0.0744)}\n",
      "\n"
     ]
    },
    {
     "data": {
      "application/vnd.jupyter.widget-view+json": {
       "model_id": "7055b36b57734d13899611d52aea04d1",
       "version_major": 2,
       "version_minor": 0
      },
      "text/plain": [
       "HBox(children=(IntProgress(value=0, max=406), HTML(value='')))"
      ]
     },
     "metadata": {},
     "output_type": "display_data"
    },
    {
     "name": "stdout",
     "output_type": "stream",
     "text": [
      "\n",
      "(0.0424090467939346, {'val_loss': 0.0424090467939346, 'val_mloss_tot': tensor(0.0736)})\n"
     ]
    }
   ],
   "source": [
    "%matplotlib nbagg\n",
    "model_name,version, num_split = 'Densenet201_3' , 'classifier_splits',0\n",
    "pickle_file=open(outputs_dir+outputs_format.format(model_name,version,'features_train_tta',num_split),'rb')\n",
    "features=pickle.load(pickle_file)\n",
    "pickle_file.close()\n",
    "features.shape\n",
    "\n",
    "features=features.reshape(features.shape[0]//4,4,-1)\n",
    "features.shape\n",
    "split_train = train_df[train_df.PID.isin(set(split_sid[splits[num_split][0]]))].SeriesI.unique()\n",
    "split_validate =  train_df[train_df.PID.isin(set(split_sid[splits[num_split][1]]))].SeriesI.unique()\n",
    "\n",
    "np.random.seed(SEED+num_split)\n",
    "torch.manual_seed(SEED+num_split)\n",
    "torch.cuda.manual_seed(SEED+num_split)\n",
    "torch.backends.cudnn.deterministic = True\n",
    "batch_size=16\n",
    "num_workers=18\n",
    "num_epochs=16\n",
    "klr=1\n",
    "weights = torch.tensor([1.,1.,1.,1.,1.,2.],device=device)\n",
    "train_dataset=FullHeadDataset(train_df,\n",
    "                              split_train,\n",
    "                              features,\n",
    "                              'SeriesI',\n",
    "                              'ImagePositionZ',\n",
    "                              hemorrhage_types)                \n",
    "validate_dataset=FullHeadDataset(train_df,\n",
    "                                 split_validate,\n",
    "                                 features[:,0,:],\n",
    "                                 'SeriesI',\n",
    "                                 'ImagePositionZ',\n",
    "                                 hemorrhage_types)                \n",
    "\n",
    "model=ResModel(features.shape[-1])\n",
    "version=version+'_fullhead_resmodel'\n",
    "_=model.to(device)\n",
    "\n",
    "loss_func=my_loss\n",
    "fig,ax = plt.subplots(figsize=(10,7))\n",
    "gr=loss_graph(fig,ax,num_epochs,len(train_dataset)//batch_size+1,limits=[0.02,0.06])\n",
    "num_train_optimization_steps = num_epochs*(len(train_dataset)//batch_size+int(len(train_dataset)%batch_size>0))\n",
    "sched=WarmupExpCosineWithWarmupRestartsSchedule( t_total=num_train_optimization_steps, cycles=num_epochs//4,tau=0)\n",
    "optimizer = BertAdam(model.parameters(),lr=klr*1e-3,schedule=sched)\n",
    "history,best_model= model_train(model,\n",
    "                                optimizer,\n",
    "                                train_dataset,\n",
    "                                batch_size,\n",
    "                                num_epochs,\n",
    "                                loss_func,\n",
    "                                weights=weights,\n",
    "                                do_apex=False,\n",
    "                                validate_dataset=validate_dataset,\n",
    "                                param_schedualer=None,\n",
    "                                weights_data=None,\n",
    "                                metric=Metric(torch.tensor([1.,1.,1.,1.,1.,2.])),\n",
    "                                return_model=True,\n",
    "                                best_average=3,\n",
    "                                num_workers=num_workers,\n",
    "                                sampler=None,\n",
    "                                graph=gr)\n",
    "torch.save(best_model.state_dict(), models_dir+models_format.format(model_name,version,num_split))"
   ]
  },
  {
   "cell_type": "code",
   "execution_count": 24,
   "metadata": {
    "scrolled": true
   },
   "outputs": [
    {
     "data": {
      "text/plain": [
       "torch.Size([2697008, 240])"
      ]
     },
     "execution_count": 24,
     "metadata": {},
     "output_type": "execute_result"
    },
    {
     "data": {
      "text/plain": [
       "torch.Size([674252, 4, 240])"
      ]
     },
     "execution_count": 24,
     "metadata": {},
     "output_type": "execute_result"
    },
    {
     "data": {
      "text/plain": [
       "<torch._C.Generator at 0x7f56eb479790>"
      ]
     },
     "execution_count": 24,
     "metadata": {},
     "output_type": "execute_result"
    },
    {
     "data": {
      "application/javascript": [
       "/* Put everything inside the global mpl namespace */\n",
       "window.mpl = {};\n",
       "\n",
       "\n",
       "mpl.get_websocket_type = function() {\n",
       "    if (typeof(WebSocket) !== 'undefined') {\n",
       "        return WebSocket;\n",
       "    } else if (typeof(MozWebSocket) !== 'undefined') {\n",
       "        return MozWebSocket;\n",
       "    } else {\n",
       "        alert('Your browser does not have WebSocket support.' +\n",
       "              'Please try Chrome, Safari or Firefox ≥ 6. ' +\n",
       "              'Firefox 4 and 5 are also supported but you ' +\n",
       "              'have to enable WebSockets in about:config.');\n",
       "    };\n",
       "}\n",
       "\n",
       "mpl.figure = function(figure_id, websocket, ondownload, parent_element) {\n",
       "    this.id = figure_id;\n",
       "\n",
       "    this.ws = websocket;\n",
       "\n",
       "    this.supports_binary = (this.ws.binaryType != undefined);\n",
       "\n",
       "    if (!this.supports_binary) {\n",
       "        var warnings = document.getElementById(\"mpl-warnings\");\n",
       "        if (warnings) {\n",
       "            warnings.style.display = 'block';\n",
       "            warnings.textContent = (\n",
       "                \"This browser does not support binary websocket messages. \" +\n",
       "                    \"Performance may be slow.\");\n",
       "        }\n",
       "    }\n",
       "\n",
       "    this.imageObj = new Image();\n",
       "\n",
       "    this.context = undefined;\n",
       "    this.message = undefined;\n",
       "    this.canvas = undefined;\n",
       "    this.rubberband_canvas = undefined;\n",
       "    this.rubberband_context = undefined;\n",
       "    this.format_dropdown = undefined;\n",
       "\n",
       "    this.image_mode = 'full';\n",
       "\n",
       "    this.root = $('<div/>');\n",
       "    this._root_extra_style(this.root)\n",
       "    this.root.attr('style', 'display: inline-block');\n",
       "\n",
       "    $(parent_element).append(this.root);\n",
       "\n",
       "    this._init_header(this);\n",
       "    this._init_canvas(this);\n",
       "    this._init_toolbar(this);\n",
       "\n",
       "    var fig = this;\n",
       "\n",
       "    this.waiting = false;\n",
       "\n",
       "    this.ws.onopen =  function () {\n",
       "            fig.send_message(\"supports_binary\", {value: fig.supports_binary});\n",
       "            fig.send_message(\"send_image_mode\", {});\n",
       "            if (mpl.ratio != 1) {\n",
       "                fig.send_message(\"set_dpi_ratio\", {'dpi_ratio': mpl.ratio});\n",
       "            }\n",
       "            fig.send_message(\"refresh\", {});\n",
       "        }\n",
       "\n",
       "    this.imageObj.onload = function() {\n",
       "            if (fig.image_mode == 'full') {\n",
       "                // Full images could contain transparency (where diff images\n",
       "                // almost always do), so we need to clear the canvas so that\n",
       "                // there is no ghosting.\n",
       "                fig.context.clearRect(0, 0, fig.canvas.width, fig.canvas.height);\n",
       "            }\n",
       "            fig.context.drawImage(fig.imageObj, 0, 0);\n",
       "        };\n",
       "\n",
       "    this.imageObj.onunload = function() {\n",
       "        fig.ws.close();\n",
       "    }\n",
       "\n",
       "    this.ws.onmessage = this._make_on_message_function(this);\n",
       "\n",
       "    this.ondownload = ondownload;\n",
       "}\n",
       "\n",
       "mpl.figure.prototype._init_header = function() {\n",
       "    var titlebar = $(\n",
       "        '<div class=\"ui-dialog-titlebar ui-widget-header ui-corner-all ' +\n",
       "        'ui-helper-clearfix\"/>');\n",
       "    var titletext = $(\n",
       "        '<div class=\"ui-dialog-title\" style=\"width: 100%; ' +\n",
       "        'text-align: center; padding: 3px;\"/>');\n",
       "    titlebar.append(titletext)\n",
       "    this.root.append(titlebar);\n",
       "    this.header = titletext[0];\n",
       "}\n",
       "\n",
       "\n",
       "\n",
       "mpl.figure.prototype._canvas_extra_style = function(canvas_div) {\n",
       "\n",
       "}\n",
       "\n",
       "\n",
       "mpl.figure.prototype._root_extra_style = function(canvas_div) {\n",
       "\n",
       "}\n",
       "\n",
       "mpl.figure.prototype._init_canvas = function() {\n",
       "    var fig = this;\n",
       "\n",
       "    var canvas_div = $('<div/>');\n",
       "\n",
       "    canvas_div.attr('style', 'position: relative; clear: both; outline: 0');\n",
       "\n",
       "    function canvas_keyboard_event(event) {\n",
       "        return fig.key_event(event, event['data']);\n",
       "    }\n",
       "\n",
       "    canvas_div.keydown('key_press', canvas_keyboard_event);\n",
       "    canvas_div.keyup('key_release', canvas_keyboard_event);\n",
       "    this.canvas_div = canvas_div\n",
       "    this._canvas_extra_style(canvas_div)\n",
       "    this.root.append(canvas_div);\n",
       "\n",
       "    var canvas = $('<canvas/>');\n",
       "    canvas.addClass('mpl-canvas');\n",
       "    canvas.attr('style', \"left: 0; top: 0; z-index: 0; outline: 0\")\n",
       "\n",
       "    this.canvas = canvas[0];\n",
       "    this.context = canvas[0].getContext(\"2d\");\n",
       "\n",
       "    var backingStore = this.context.backingStorePixelRatio ||\n",
       "\tthis.context.webkitBackingStorePixelRatio ||\n",
       "\tthis.context.mozBackingStorePixelRatio ||\n",
       "\tthis.context.msBackingStorePixelRatio ||\n",
       "\tthis.context.oBackingStorePixelRatio ||\n",
       "\tthis.context.backingStorePixelRatio || 1;\n",
       "\n",
       "    mpl.ratio = (window.devicePixelRatio || 1) / backingStore;\n",
       "\n",
       "    var rubberband = $('<canvas/>');\n",
       "    rubberband.attr('style', \"position: absolute; left: 0; top: 0; z-index: 1;\")\n",
       "\n",
       "    var pass_mouse_events = true;\n",
       "\n",
       "    canvas_div.resizable({\n",
       "        start: function(event, ui) {\n",
       "            pass_mouse_events = false;\n",
       "        },\n",
       "        resize: function(event, ui) {\n",
       "            fig.request_resize(ui.size.width, ui.size.height);\n",
       "        },\n",
       "        stop: function(event, ui) {\n",
       "            pass_mouse_events = true;\n",
       "            fig.request_resize(ui.size.width, ui.size.height);\n",
       "        },\n",
       "    });\n",
       "\n",
       "    function mouse_event_fn(event) {\n",
       "        if (pass_mouse_events)\n",
       "            return fig.mouse_event(event, event['data']);\n",
       "    }\n",
       "\n",
       "    rubberband.mousedown('button_press', mouse_event_fn);\n",
       "    rubberband.mouseup('button_release', mouse_event_fn);\n",
       "    // Throttle sequential mouse events to 1 every 20ms.\n",
       "    rubberband.mousemove('motion_notify', mouse_event_fn);\n",
       "\n",
       "    rubberband.mouseenter('figure_enter', mouse_event_fn);\n",
       "    rubberband.mouseleave('figure_leave', mouse_event_fn);\n",
       "\n",
       "    canvas_div.on(\"wheel\", function (event) {\n",
       "        event = event.originalEvent;\n",
       "        event['data'] = 'scroll'\n",
       "        if (event.deltaY < 0) {\n",
       "            event.step = 1;\n",
       "        } else {\n",
       "            event.step = -1;\n",
       "        }\n",
       "        mouse_event_fn(event);\n",
       "    });\n",
       "\n",
       "    canvas_div.append(canvas);\n",
       "    canvas_div.append(rubberband);\n",
       "\n",
       "    this.rubberband = rubberband;\n",
       "    this.rubberband_canvas = rubberband[0];\n",
       "    this.rubberband_context = rubberband[0].getContext(\"2d\");\n",
       "    this.rubberband_context.strokeStyle = \"#000000\";\n",
       "\n",
       "    this._resize_canvas = function(width, height) {\n",
       "        // Keep the size of the canvas, canvas container, and rubber band\n",
       "        // canvas in synch.\n",
       "        canvas_div.css('width', width)\n",
       "        canvas_div.css('height', height)\n",
       "\n",
       "        canvas.attr('width', width * mpl.ratio);\n",
       "        canvas.attr('height', height * mpl.ratio);\n",
       "        canvas.attr('style', 'width: ' + width + 'px; height: ' + height + 'px;');\n",
       "\n",
       "        rubberband.attr('width', width);\n",
       "        rubberband.attr('height', height);\n",
       "    }\n",
       "\n",
       "    // Set the figure to an initial 600x600px, this will subsequently be updated\n",
       "    // upon first draw.\n",
       "    this._resize_canvas(600, 600);\n",
       "\n",
       "    // Disable right mouse context menu.\n",
       "    $(this.rubberband_canvas).bind(\"contextmenu\",function(e){\n",
       "        return false;\n",
       "    });\n",
       "\n",
       "    function set_focus () {\n",
       "        canvas.focus();\n",
       "        canvas_div.focus();\n",
       "    }\n",
       "\n",
       "    window.setTimeout(set_focus, 100);\n",
       "}\n",
       "\n",
       "mpl.figure.prototype._init_toolbar = function() {\n",
       "    var fig = this;\n",
       "\n",
       "    var nav_element = $('<div/>')\n",
       "    nav_element.attr('style', 'width: 100%');\n",
       "    this.root.append(nav_element);\n",
       "\n",
       "    // Define a callback function for later on.\n",
       "    function toolbar_event(event) {\n",
       "        return fig.toolbar_button_onclick(event['data']);\n",
       "    }\n",
       "    function toolbar_mouse_event(event) {\n",
       "        return fig.toolbar_button_onmouseover(event['data']);\n",
       "    }\n",
       "\n",
       "    for(var toolbar_ind in mpl.toolbar_items) {\n",
       "        var name = mpl.toolbar_items[toolbar_ind][0];\n",
       "        var tooltip = mpl.toolbar_items[toolbar_ind][1];\n",
       "        var image = mpl.toolbar_items[toolbar_ind][2];\n",
       "        var method_name = mpl.toolbar_items[toolbar_ind][3];\n",
       "\n",
       "        if (!name) {\n",
       "            // put a spacer in here.\n",
       "            continue;\n",
       "        }\n",
       "        var button = $('<button/>');\n",
       "        button.addClass('ui-button ui-widget ui-state-default ui-corner-all ' +\n",
       "                        'ui-button-icon-only');\n",
       "        button.attr('role', 'button');\n",
       "        button.attr('aria-disabled', 'false');\n",
       "        button.click(method_name, toolbar_event);\n",
       "        button.mouseover(tooltip, toolbar_mouse_event);\n",
       "\n",
       "        var icon_img = $('<span/>');\n",
       "        icon_img.addClass('ui-button-icon-primary ui-icon');\n",
       "        icon_img.addClass(image);\n",
       "        icon_img.addClass('ui-corner-all');\n",
       "\n",
       "        var tooltip_span = $('<span/>');\n",
       "        tooltip_span.addClass('ui-button-text');\n",
       "        tooltip_span.html(tooltip);\n",
       "\n",
       "        button.append(icon_img);\n",
       "        button.append(tooltip_span);\n",
       "\n",
       "        nav_element.append(button);\n",
       "    }\n",
       "\n",
       "    var fmt_picker_span = $('<span/>');\n",
       "\n",
       "    var fmt_picker = $('<select/>');\n",
       "    fmt_picker.addClass('mpl-toolbar-option ui-widget ui-widget-content');\n",
       "    fmt_picker_span.append(fmt_picker);\n",
       "    nav_element.append(fmt_picker_span);\n",
       "    this.format_dropdown = fmt_picker[0];\n",
       "\n",
       "    for (var ind in mpl.extensions) {\n",
       "        var fmt = mpl.extensions[ind];\n",
       "        var option = $(\n",
       "            '<option/>', {selected: fmt === mpl.default_extension}).html(fmt);\n",
       "        fmt_picker.append(option)\n",
       "    }\n",
       "\n",
       "    // Add hover states to the ui-buttons\n",
       "    $( \".ui-button\" ).hover(\n",
       "        function() { $(this).addClass(\"ui-state-hover\");},\n",
       "        function() { $(this).removeClass(\"ui-state-hover\");}\n",
       "    );\n",
       "\n",
       "    var status_bar = $('<span class=\"mpl-message\"/>');\n",
       "    nav_element.append(status_bar);\n",
       "    this.message = status_bar[0];\n",
       "}\n",
       "\n",
       "mpl.figure.prototype.request_resize = function(x_pixels, y_pixels) {\n",
       "    // Request matplotlib to resize the figure. Matplotlib will then trigger a resize in the client,\n",
       "    // which will in turn request a refresh of the image.\n",
       "    this.send_message('resize', {'width': x_pixels, 'height': y_pixels});\n",
       "}\n",
       "\n",
       "mpl.figure.prototype.send_message = function(type, properties) {\n",
       "    properties['type'] = type;\n",
       "    properties['figure_id'] = this.id;\n",
       "    this.ws.send(JSON.stringify(properties));\n",
       "}\n",
       "\n",
       "mpl.figure.prototype.send_draw_message = function() {\n",
       "    if (!this.waiting) {\n",
       "        this.waiting = true;\n",
       "        this.ws.send(JSON.stringify({type: \"draw\", figure_id: this.id}));\n",
       "    }\n",
       "}\n",
       "\n",
       "\n",
       "mpl.figure.prototype.handle_save = function(fig, msg) {\n",
       "    var format_dropdown = fig.format_dropdown;\n",
       "    var format = format_dropdown.options[format_dropdown.selectedIndex].value;\n",
       "    fig.ondownload(fig, format);\n",
       "}\n",
       "\n",
       "\n",
       "mpl.figure.prototype.handle_resize = function(fig, msg) {\n",
       "    var size = msg['size'];\n",
       "    if (size[0] != fig.canvas.width || size[1] != fig.canvas.height) {\n",
       "        fig._resize_canvas(size[0], size[1]);\n",
       "        fig.send_message(\"refresh\", {});\n",
       "    };\n",
       "}\n",
       "\n",
       "mpl.figure.prototype.handle_rubberband = function(fig, msg) {\n",
       "    var x0 = msg['x0'] / mpl.ratio;\n",
       "    var y0 = (fig.canvas.height - msg['y0']) / mpl.ratio;\n",
       "    var x1 = msg['x1'] / mpl.ratio;\n",
       "    var y1 = (fig.canvas.height - msg['y1']) / mpl.ratio;\n",
       "    x0 = Math.floor(x0) + 0.5;\n",
       "    y0 = Math.floor(y0) + 0.5;\n",
       "    x1 = Math.floor(x1) + 0.5;\n",
       "    y1 = Math.floor(y1) + 0.5;\n",
       "    var min_x = Math.min(x0, x1);\n",
       "    var min_y = Math.min(y0, y1);\n",
       "    var width = Math.abs(x1 - x0);\n",
       "    var height = Math.abs(y1 - y0);\n",
       "\n",
       "    fig.rubberband_context.clearRect(\n",
       "        0, 0, fig.canvas.width, fig.canvas.height);\n",
       "\n",
       "    fig.rubberband_context.strokeRect(min_x, min_y, width, height);\n",
       "}\n",
       "\n",
       "mpl.figure.prototype.handle_figure_label = function(fig, msg) {\n",
       "    // Updates the figure title.\n",
       "    fig.header.textContent = msg['label'];\n",
       "}\n",
       "\n",
       "mpl.figure.prototype.handle_cursor = function(fig, msg) {\n",
       "    var cursor = msg['cursor'];\n",
       "    switch(cursor)\n",
       "    {\n",
       "    case 0:\n",
       "        cursor = 'pointer';\n",
       "        break;\n",
       "    case 1:\n",
       "        cursor = 'default';\n",
       "        break;\n",
       "    case 2:\n",
       "        cursor = 'crosshair';\n",
       "        break;\n",
       "    case 3:\n",
       "        cursor = 'move';\n",
       "        break;\n",
       "    }\n",
       "    fig.rubberband_canvas.style.cursor = cursor;\n",
       "}\n",
       "\n",
       "mpl.figure.prototype.handle_message = function(fig, msg) {\n",
       "    fig.message.textContent = msg['message'];\n",
       "}\n",
       "\n",
       "mpl.figure.prototype.handle_draw = function(fig, msg) {\n",
       "    // Request the server to send over a new figure.\n",
       "    fig.send_draw_message();\n",
       "}\n",
       "\n",
       "mpl.figure.prototype.handle_image_mode = function(fig, msg) {\n",
       "    fig.image_mode = msg['mode'];\n",
       "}\n",
       "\n",
       "mpl.figure.prototype.updated_canvas_event = function() {\n",
       "    // Called whenever the canvas gets updated.\n",
       "    this.send_message(\"ack\", {});\n",
       "}\n",
       "\n",
       "// A function to construct a web socket function for onmessage handling.\n",
       "// Called in the figure constructor.\n",
       "mpl.figure.prototype._make_on_message_function = function(fig) {\n",
       "    return function socket_on_message(evt) {\n",
       "        if (evt.data instanceof Blob) {\n",
       "            /* FIXME: We get \"Resource interpreted as Image but\n",
       "             * transferred with MIME type text/plain:\" errors on\n",
       "             * Chrome.  But how to set the MIME type?  It doesn't seem\n",
       "             * to be part of the websocket stream */\n",
       "            evt.data.type = \"image/png\";\n",
       "\n",
       "            /* Free the memory for the previous frames */\n",
       "            if (fig.imageObj.src) {\n",
       "                (window.URL || window.webkitURL).revokeObjectURL(\n",
       "                    fig.imageObj.src);\n",
       "            }\n",
       "\n",
       "            fig.imageObj.src = (window.URL || window.webkitURL).createObjectURL(\n",
       "                evt.data);\n",
       "            fig.updated_canvas_event();\n",
       "            fig.waiting = false;\n",
       "            return;\n",
       "        }\n",
       "        else if (typeof evt.data === 'string' && evt.data.slice(0, 21) == \"data:image/png;base64\") {\n",
       "            fig.imageObj.src = evt.data;\n",
       "            fig.updated_canvas_event();\n",
       "            fig.waiting = false;\n",
       "            return;\n",
       "        }\n",
       "\n",
       "        var msg = JSON.parse(evt.data);\n",
       "        var msg_type = msg['type'];\n",
       "\n",
       "        // Call the  \"handle_{type}\" callback, which takes\n",
       "        // the figure and JSON message as its only arguments.\n",
       "        try {\n",
       "            var callback = fig[\"handle_\" + msg_type];\n",
       "        } catch (e) {\n",
       "            console.log(\"No handler for the '\" + msg_type + \"' message type: \", msg);\n",
       "            return;\n",
       "        }\n",
       "\n",
       "        if (callback) {\n",
       "            try {\n",
       "                // console.log(\"Handling '\" + msg_type + \"' message: \", msg);\n",
       "                callback(fig, msg);\n",
       "            } catch (e) {\n",
       "                console.log(\"Exception inside the 'handler_\" + msg_type + \"' callback:\", e, e.stack, msg);\n",
       "            }\n",
       "        }\n",
       "    };\n",
       "}\n",
       "\n",
       "// from http://stackoverflow.com/questions/1114465/getting-mouse-location-in-canvas\n",
       "mpl.findpos = function(e) {\n",
       "    //this section is from http://www.quirksmode.org/js/events_properties.html\n",
       "    var targ;\n",
       "    if (!e)\n",
       "        e = window.event;\n",
       "    if (e.target)\n",
       "        targ = e.target;\n",
       "    else if (e.srcElement)\n",
       "        targ = e.srcElement;\n",
       "    if (targ.nodeType == 3) // defeat Safari bug\n",
       "        targ = targ.parentNode;\n",
       "\n",
       "    // jQuery normalizes the pageX and pageY\n",
       "    // pageX,Y are the mouse positions relative to the document\n",
       "    // offset() returns the position of the element relative to the document\n",
       "    var x = e.pageX - $(targ).offset().left;\n",
       "    var y = e.pageY - $(targ).offset().top;\n",
       "\n",
       "    return {\"x\": x, \"y\": y};\n",
       "};\n",
       "\n",
       "/*\n",
       " * return a copy of an object with only non-object keys\n",
       " * we need this to avoid circular references\n",
       " * http://stackoverflow.com/a/24161582/3208463\n",
       " */\n",
       "function simpleKeys (original) {\n",
       "  return Object.keys(original).reduce(function (obj, key) {\n",
       "    if (typeof original[key] !== 'object')\n",
       "        obj[key] = original[key]\n",
       "    return obj;\n",
       "  }, {});\n",
       "}\n",
       "\n",
       "mpl.figure.prototype.mouse_event = function(event, name) {\n",
       "    var canvas_pos = mpl.findpos(event)\n",
       "\n",
       "    if (name === 'button_press')\n",
       "    {\n",
       "        this.canvas.focus();\n",
       "        this.canvas_div.focus();\n",
       "    }\n",
       "\n",
       "    var x = canvas_pos.x * mpl.ratio;\n",
       "    var y = canvas_pos.y * mpl.ratio;\n",
       "\n",
       "    this.send_message(name, {x: x, y: y, button: event.button,\n",
       "                             step: event.step,\n",
       "                             guiEvent: simpleKeys(event)});\n",
       "\n",
       "    /* This prevents the web browser from automatically changing to\n",
       "     * the text insertion cursor when the button is pressed.  We want\n",
       "     * to control all of the cursor setting manually through the\n",
       "     * 'cursor' event from matplotlib */\n",
       "    event.preventDefault();\n",
       "    return false;\n",
       "}\n",
       "\n",
       "mpl.figure.prototype._key_event_extra = function(event, name) {\n",
       "    // Handle any extra behaviour associated with a key event\n",
       "}\n",
       "\n",
       "mpl.figure.prototype.key_event = function(event, name) {\n",
       "\n",
       "    // Prevent repeat events\n",
       "    if (name == 'key_press')\n",
       "    {\n",
       "        if (event.which === this._key)\n",
       "            return;\n",
       "        else\n",
       "            this._key = event.which;\n",
       "    }\n",
       "    if (name == 'key_release')\n",
       "        this._key = null;\n",
       "\n",
       "    var value = '';\n",
       "    if (event.ctrlKey && event.which != 17)\n",
       "        value += \"ctrl+\";\n",
       "    if (event.altKey && event.which != 18)\n",
       "        value += \"alt+\";\n",
       "    if (event.shiftKey && event.which != 16)\n",
       "        value += \"shift+\";\n",
       "\n",
       "    value += 'k';\n",
       "    value += event.which.toString();\n",
       "\n",
       "    this._key_event_extra(event, name);\n",
       "\n",
       "    this.send_message(name, {key: value,\n",
       "                             guiEvent: simpleKeys(event)});\n",
       "    return false;\n",
       "}\n",
       "\n",
       "mpl.figure.prototype.toolbar_button_onclick = function(name) {\n",
       "    if (name == 'download') {\n",
       "        this.handle_save(this, null);\n",
       "    } else {\n",
       "        this.send_message(\"toolbar_button\", {name: name});\n",
       "    }\n",
       "};\n",
       "\n",
       "mpl.figure.prototype.toolbar_button_onmouseover = function(tooltip) {\n",
       "    this.message.textContent = tooltip;\n",
       "};\n",
       "mpl.toolbar_items = [[\"Home\", \"Reset original view\", \"fa fa-home icon-home\", \"home\"], [\"Back\", \"Back to  previous view\", \"fa fa-arrow-left icon-arrow-left\", \"back\"], [\"Forward\", \"Forward to next view\", \"fa fa-arrow-right icon-arrow-right\", \"forward\"], [\"\", \"\", \"\", \"\"], [\"Pan\", \"Pan axes with left mouse, zoom with right\", \"fa fa-arrows icon-move\", \"pan\"], [\"Zoom\", \"Zoom to rectangle\", \"fa fa-square-o icon-check-empty\", \"zoom\"], [\"\", \"\", \"\", \"\"], [\"Download\", \"Download plot\", \"fa fa-floppy-o icon-save\", \"download\"]];\n",
       "\n",
       "mpl.extensions = [\"eps\", \"jpeg\", \"pdf\", \"png\", \"ps\", \"raw\", \"svg\", \"tif\"];\n",
       "\n",
       "mpl.default_extension = \"png\";var comm_websocket_adapter = function(comm) {\n",
       "    // Create a \"websocket\"-like object which calls the given IPython comm\n",
       "    // object with the appropriate methods. Currently this is a non binary\n",
       "    // socket, so there is still some room for performance tuning.\n",
       "    var ws = {};\n",
       "\n",
       "    ws.close = function() {\n",
       "        comm.close()\n",
       "    };\n",
       "    ws.send = function(m) {\n",
       "        //console.log('sending', m);\n",
       "        comm.send(m);\n",
       "    };\n",
       "    // Register the callback with on_msg.\n",
       "    comm.on_msg(function(msg) {\n",
       "        //console.log('receiving', msg['content']['data'], msg);\n",
       "        // Pass the mpl event to the overridden (by mpl) onmessage function.\n",
       "        ws.onmessage(msg['content']['data'])\n",
       "    });\n",
       "    return ws;\n",
       "}\n",
       "\n",
       "mpl.mpl_figure_comm = function(comm, msg) {\n",
       "    // This is the function which gets called when the mpl process\n",
       "    // starts-up an IPython Comm through the \"matplotlib\" channel.\n",
       "\n",
       "    var id = msg.content.data.id;\n",
       "    // Get hold of the div created by the display call when the Comm\n",
       "    // socket was opened in Python.\n",
       "    var element = $(\"#\" + id);\n",
       "    var ws_proxy = comm_websocket_adapter(comm)\n",
       "\n",
       "    function ondownload(figure, format) {\n",
       "        window.open(figure.imageObj.src);\n",
       "    }\n",
       "\n",
       "    var fig = new mpl.figure(id, ws_proxy,\n",
       "                           ondownload,\n",
       "                           element.get(0));\n",
       "\n",
       "    // Call onopen now - mpl needs it, as it is assuming we've passed it a real\n",
       "    // web socket which is closed, not our websocket->open comm proxy.\n",
       "    ws_proxy.onopen();\n",
       "\n",
       "    fig.parent_element = element.get(0);\n",
       "    fig.cell_info = mpl.find_output_cell(\"<div id='\" + id + \"'></div>\");\n",
       "    if (!fig.cell_info) {\n",
       "        console.error(\"Failed to find cell for figure\", id, fig);\n",
       "        return;\n",
       "    }\n",
       "\n",
       "    var output_index = fig.cell_info[2]\n",
       "    var cell = fig.cell_info[0];\n",
       "\n",
       "};\n",
       "\n",
       "mpl.figure.prototype.handle_close = function(fig, msg) {\n",
       "    var width = fig.canvas.width/mpl.ratio\n",
       "    fig.root.unbind('remove')\n",
       "\n",
       "    // Update the output cell to use the data from the current canvas.\n",
       "    fig.push_to_output();\n",
       "    var dataURL = fig.canvas.toDataURL();\n",
       "    // Re-enable the keyboard manager in IPython - without this line, in FF,\n",
       "    // the notebook keyboard shortcuts fail.\n",
       "    IPython.keyboard_manager.enable()\n",
       "    $(fig.parent_element).html('<img src=\"' + dataURL + '\" width=\"' + width + '\">');\n",
       "    fig.close_ws(fig, msg);\n",
       "}\n",
       "\n",
       "mpl.figure.prototype.close_ws = function(fig, msg){\n",
       "    fig.send_message('closing', msg);\n",
       "    // fig.ws.close()\n",
       "}\n",
       "\n",
       "mpl.figure.prototype.push_to_output = function(remove_interactive) {\n",
       "    // Turn the data on the canvas into data in the output cell.\n",
       "    var width = this.canvas.width/mpl.ratio\n",
       "    var dataURL = this.canvas.toDataURL();\n",
       "    this.cell_info[1]['text/html'] = '<img src=\"' + dataURL + '\" width=\"' + width + '\">';\n",
       "}\n",
       "\n",
       "mpl.figure.prototype.updated_canvas_event = function() {\n",
       "    // Tell IPython that the notebook contents must change.\n",
       "    IPython.notebook.set_dirty(true);\n",
       "    this.send_message(\"ack\", {});\n",
       "    var fig = this;\n",
       "    // Wait a second, then push the new image to the DOM so\n",
       "    // that it is saved nicely (might be nice to debounce this).\n",
       "    setTimeout(function () { fig.push_to_output() }, 1000);\n",
       "}\n",
       "\n",
       "mpl.figure.prototype._init_toolbar = function() {\n",
       "    var fig = this;\n",
       "\n",
       "    var nav_element = $('<div/>')\n",
       "    nav_element.attr('style', 'width: 100%');\n",
       "    this.root.append(nav_element);\n",
       "\n",
       "    // Define a callback function for later on.\n",
       "    function toolbar_event(event) {\n",
       "        return fig.toolbar_button_onclick(event['data']);\n",
       "    }\n",
       "    function toolbar_mouse_event(event) {\n",
       "        return fig.toolbar_button_onmouseover(event['data']);\n",
       "    }\n",
       "\n",
       "    for(var toolbar_ind in mpl.toolbar_items){\n",
       "        var name = mpl.toolbar_items[toolbar_ind][0];\n",
       "        var tooltip = mpl.toolbar_items[toolbar_ind][1];\n",
       "        var image = mpl.toolbar_items[toolbar_ind][2];\n",
       "        var method_name = mpl.toolbar_items[toolbar_ind][3];\n",
       "\n",
       "        if (!name) { continue; };\n",
       "\n",
       "        var button = $('<button class=\"btn btn-default\" href=\"#\" title=\"' + name + '\"><i class=\"fa ' + image + ' fa-lg\"></i></button>');\n",
       "        button.click(method_name, toolbar_event);\n",
       "        button.mouseover(tooltip, toolbar_mouse_event);\n",
       "        nav_element.append(button);\n",
       "    }\n",
       "\n",
       "    // Add the status bar.\n",
       "    var status_bar = $('<span class=\"mpl-message\" style=\"text-align:right; float: right;\"/>');\n",
       "    nav_element.append(status_bar);\n",
       "    this.message = status_bar[0];\n",
       "\n",
       "    // Add the close button to the window.\n",
       "    var buttongrp = $('<div class=\"btn-group inline pull-right\"></div>');\n",
       "    var button = $('<button class=\"btn btn-mini btn-primary\" href=\"#\" title=\"Stop Interaction\"><i class=\"fa fa-power-off icon-remove icon-large\"></i></button>');\n",
       "    button.click(function (evt) { fig.handle_close(fig, {}); } );\n",
       "    button.mouseover('Stop Interaction', toolbar_mouse_event);\n",
       "    buttongrp.append(button);\n",
       "    var titlebar = this.root.find($('.ui-dialog-titlebar'));\n",
       "    titlebar.prepend(buttongrp);\n",
       "}\n",
       "\n",
       "mpl.figure.prototype._root_extra_style = function(el){\n",
       "    var fig = this\n",
       "    el.on(\"remove\", function(){\n",
       "\tfig.close_ws(fig, {});\n",
       "    });\n",
       "}\n",
       "\n",
       "mpl.figure.prototype._canvas_extra_style = function(el){\n",
       "    // this is important to make the div 'focusable\n",
       "    el.attr('tabindex', 0)\n",
       "    // reach out to IPython and tell the keyboard manager to turn it's self\n",
       "    // off when our div gets focus\n",
       "\n",
       "    // location in version 3\n",
       "    if (IPython.notebook.keyboard_manager) {\n",
       "        IPython.notebook.keyboard_manager.register_events(el);\n",
       "    }\n",
       "    else {\n",
       "        // location in version 2\n",
       "        IPython.keyboard_manager.register_events(el);\n",
       "    }\n",
       "\n",
       "}\n",
       "\n",
       "mpl.figure.prototype._key_event_extra = function(event, name) {\n",
       "    var manager = IPython.notebook.keyboard_manager;\n",
       "    if (!manager)\n",
       "        manager = IPython.keyboard_manager;\n",
       "\n",
       "    // Check for shift+enter\n",
       "    if (event.shiftKey && event.which == 13) {\n",
       "        this.canvas_div.blur();\n",
       "        event.shiftKey = false;\n",
       "        // Send a \"J\" for go to next cell\n",
       "        event.which = 74;\n",
       "        event.keyCode = 74;\n",
       "        manager.command_mode();\n",
       "        manager.handle_keydown(event);\n",
       "    }\n",
       "}\n",
       "\n",
       "mpl.figure.prototype.handle_save = function(fig, msg) {\n",
       "    fig.ondownload(fig, null);\n",
       "}\n",
       "\n",
       "\n",
       "mpl.find_output_cell = function(html_output) {\n",
       "    // Return the cell and output element which can be found *uniquely* in the notebook.\n",
       "    // Note - this is a bit hacky, but it is done because the \"notebook_saving.Notebook\"\n",
       "    // IPython event is triggered only after the cells have been serialised, which for\n",
       "    // our purposes (turning an active figure into a static one), is too late.\n",
       "    var cells = IPython.notebook.get_cells();\n",
       "    var ncells = cells.length;\n",
       "    for (var i=0; i<ncells; i++) {\n",
       "        var cell = cells[i];\n",
       "        if (cell.cell_type === 'code'){\n",
       "            for (var j=0; j<cell.output_area.outputs.length; j++) {\n",
       "                var data = cell.output_area.outputs[j];\n",
       "                if (data.data) {\n",
       "                    // IPython >= 3 moved mimebundle to data attribute of output\n",
       "                    data = data.data;\n",
       "                }\n",
       "                if (data['text/html'] == html_output) {\n",
       "                    return [cell, data, j];\n",
       "                }\n",
       "            }\n",
       "        }\n",
       "    }\n",
       "}\n",
       "\n",
       "// Register the function which deals with the matplotlib target/channel.\n",
       "// The kernel may be null if the page has been refreshed.\n",
       "if (IPython.notebook.kernel != null) {\n",
       "    IPython.notebook.kernel.comm_manager.register_target('matplotlib', mpl.mpl_figure_comm);\n",
       "}\n"
      ],
      "text/plain": [
       "<IPython.core.display.Javascript object>"
      ]
     },
     "metadata": {},
     "output_type": "display_data"
    },
    {
     "data": {
      "text/html": [
       "<img src=\"data:image/png;base64,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\" width=\"720\">"
      ],
      "text/plain": [
       "<IPython.core.display.HTML object>"
      ]
     },
     "metadata": {},
     "output_type": "display_data"
    },
    {
     "data": {
      "application/vnd.jupyter.widget-view+json": {
       "model_id": "5d4548f6c024409599ce3c9f5eddd2f4",
       "version_major": 2,
       "version_minor": 0
      },
      "text/plain": [
       "HBox(children=(IntProgress(value=0, max=16), HTML(value='')))"
      ]
     },
     "metadata": {},
     "output_type": "display_data"
    },
    {
     "data": {
      "application/vnd.jupyter.widget-view+json": {
       "model_id": "9bdfab88956d405bb47f8506ac982816",
       "version_major": 2,
       "version_minor": 0
      },
      "text/plain": [
       "HBox(children=(IntProgress(value=0, max=812), HTML(value='')))"
      ]
     },
     "metadata": {},
     "output_type": "display_data"
    },
    {
     "data": {
      "application/vnd.jupyter.widget-view+json": {
       "model_id": "9969e8ef8caf4baf8c4af6df69f08dbb",
       "version_major": 2,
       "version_minor": 0
      },
      "text/plain": [
       "HBox(children=(IntProgress(value=0, max=410), HTML(value='')))"
      ]
     },
     "metadata": {},
     "output_type": "display_data"
    },
    {
     "name": "stdout",
     "output_type": "stream",
     "text": [
      "{'loss': 0.037240860337385606, 'mloss': tensor(0.0634), 'val_loss': 0.04368565802848557, 'val_mloss_tot': tensor(0.0762)}\n"
     ]
    },
    {
     "data": {
      "application/vnd.jupyter.widget-view+json": {
       "model_id": "6faa8ad480e745fba911d60fa6f3cc82",
       "version_major": 2,
       "version_minor": 0
      },
      "text/plain": [
       "HBox(children=(IntProgress(value=0, max=812), HTML(value='')))"
      ]
     },
     "metadata": {},
     "output_type": "display_data"
    },
    {
     "data": {
      "application/vnd.jupyter.widget-view+json": {
       "model_id": "0c4f328717bb477fb1ef517de4aceeaa",
       "version_major": 2,
       "version_minor": 0
      },
      "text/plain": [
       "HBox(children=(IntProgress(value=0, max=410), HTML(value='')))"
      ]
     },
     "metadata": {},
     "output_type": "display_data"
    },
    {
     "name": "stdout",
     "output_type": "stream",
     "text": [
      "{'loss': 0.03582790881991568, 'mloss': tensor(0.0619), 'val_loss': 0.04351817122547001, 'val_mloss_tot': tensor(0.0760)}\n"
     ]
    },
    {
     "data": {
      "application/vnd.jupyter.widget-view+json": {
       "model_id": "f5c972dc67784af1b37b18b10d759a9d",
       "version_major": 2,
       "version_minor": 0
      },
      "text/plain": [
       "HBox(children=(IntProgress(value=0, max=812), HTML(value='')))"
      ]
     },
     "metadata": {},
     "output_type": "display_data"
    },
    {
     "data": {
      "application/vnd.jupyter.widget-view+json": {
       "model_id": "cb63040eb00945299084aea1eef434ce",
       "version_major": 2,
       "version_minor": 0
      },
      "text/plain": [
       "HBox(children=(IntProgress(value=0, max=410), HTML(value='')))"
      ]
     },
     "metadata": {},
     "output_type": "display_data"
    },
    {
     "name": "stdout",
     "output_type": "stream",
     "text": [
      "{'loss': 0.033728079310718584, 'mloss': tensor(0.0552), 'val_loss': 0.04225344883346158, 'val_mloss_tot': tensor(0.0737)}\n"
     ]
    },
    {
     "data": {
      "application/vnd.jupyter.widget-view+json": {
       "model_id": "5e23225f06e04286926235100a0fb88e",
       "version_major": 2,
       "version_minor": 0
      },
      "text/plain": [
       "HBox(children=(IntProgress(value=0, max=812), HTML(value='')))"
      ]
     },
     "metadata": {},
     "output_type": "display_data"
    },
    {
     "data": {
      "application/vnd.jupyter.widget-view+json": {
       "model_id": "15d81d67460c4fdea11caab23aaa8f6a",
       "version_major": 2,
       "version_minor": 0
      },
      "text/plain": [
       "HBox(children=(IntProgress(value=0, max=410), HTML(value='')))"
      ]
     },
     "metadata": {},
     "output_type": "display_data"
    },
    {
     "name": "stdout",
     "output_type": "stream",
     "text": [
      "{'loss': 0.03143706021953008, 'mloss': tensor(0.0513), 'val_loss': 0.04222139647434943, 'val_mloss_tot': tensor(0.0737)}\n"
     ]
    },
    {
     "data": {
      "application/vnd.jupyter.widget-view+json": {
       "model_id": "82c05ab826ce43c08e6a95ce30d59e2d",
       "version_major": 2,
       "version_minor": 0
      },
      "text/plain": [
       "HBox(children=(IntProgress(value=0, max=812), HTML(value='')))"
      ]
     },
     "metadata": {},
     "output_type": "display_data"
    },
    {
     "data": {
      "application/vnd.jupyter.widget-view+json": {
       "model_id": "8d8448a45d6a4fec9632d8ff7054fdc0",
       "version_major": 2,
       "version_minor": 0
      },
      "text/plain": [
       "HBox(children=(IntProgress(value=0, max=410), HTML(value='')))"
      ]
     },
     "metadata": {},
     "output_type": "display_data"
    },
    {
     "name": "stdout",
     "output_type": "stream",
     "text": [
      "{'loss': 0.03539086122234837, 'mloss': tensor(0.0581), 'val_loss': 0.04337291130114619, 'val_mloss_tot': tensor(0.0757)}\n"
     ]
    },
    {
     "data": {
      "application/vnd.jupyter.widget-view+json": {
       "model_id": "64f587c1cbb94be6872161dd2a1a1605",
       "version_major": 2,
       "version_minor": 0
      },
      "text/plain": [
       "HBox(children=(IntProgress(value=0, max=812), HTML(value='')))"
      ]
     },
     "metadata": {},
     "output_type": "display_data"
    },
    {
     "data": {
      "application/vnd.jupyter.widget-view+json": {
       "model_id": "32f85ff61cee4e4880598526cefbd275",
       "version_major": 2,
       "version_minor": 0
      },
      "text/plain": [
       "HBox(children=(IntProgress(value=0, max=410), HTML(value='')))"
      ]
     },
     "metadata": {},
     "output_type": "display_data"
    },
    {
     "name": "stdout",
     "output_type": "stream",
     "text": [
      "{'loss': 0.03495973243966455, 'mloss': tensor(0.0631), 'val_loss': 0.04247056451149103, 'val_mloss_tot': tensor(0.0741)}\n"
     ]
    },
    {
     "data": {
      "application/vnd.jupyter.widget-view+json": {
       "model_id": "e9c7b305a5674489a4699a233e73da03",
       "version_major": 2,
       "version_minor": 0
      },
      "text/plain": [
       "HBox(children=(IntProgress(value=0, max=812), HTML(value='')))"
      ]
     },
     "metadata": {},
     "output_type": "display_data"
    },
    {
     "data": {
      "application/vnd.jupyter.widget-view+json": {
       "model_id": "60e2c15068f5408db8387726d54dca4e",
       "version_major": 2,
       "version_minor": 0
      },
      "text/plain": [
       "HBox(children=(IntProgress(value=0, max=410), HTML(value='')))"
      ]
     },
     "metadata": {},
     "output_type": "display_data"
    },
    {
     "name": "stdout",
     "output_type": "stream",
     "text": [
      "{'loss': 0.032931653250453594, 'mloss': tensor(0.0557), 'val_loss': 0.04281518328253452, 'val_mloss_tot': tensor(0.0747)}\n"
     ]
    },
    {
     "data": {
      "application/vnd.jupyter.widget-view+json": {
       "model_id": "5f290febf91843a982d7177018a0c650",
       "version_major": 2,
       "version_minor": 0
      },
      "text/plain": [
       "HBox(children=(IntProgress(value=0, max=812), HTML(value='')))"
      ]
     },
     "metadata": {},
     "output_type": "display_data"
    },
    {
     "data": {
      "application/vnd.jupyter.widget-view+json": {
       "model_id": "7da5bb8db4dd4afbaa79c706951d90dc",
       "version_major": 2,
       "version_minor": 0
      },
      "text/plain": [
       "HBox(children=(IntProgress(value=0, max=410), HTML(value='')))"
      ]
     },
     "metadata": {},
     "output_type": "display_data"
    },
    {
     "name": "stdout",
     "output_type": "stream",
     "text": [
      "{'loss': 0.03171383297045466, 'mloss': tensor(0.0528), 'val_loss': 0.04215376693073933, 'val_mloss_tot': tensor(0.0736)}\n"
     ]
    },
    {
     "data": {
      "application/vnd.jupyter.widget-view+json": {
       "model_id": "8a14ad3c0ac64e00a60f4fe0a621dc68",
       "version_major": 2,
       "version_minor": 0
      },
      "text/plain": [
       "HBox(children=(IntProgress(value=0, max=812), HTML(value='')))"
      ]
     },
     "metadata": {},
     "output_type": "display_data"
    },
    {
     "data": {
      "application/vnd.jupyter.widget-view+json": {
       "model_id": "769ad754942c4da389d0ef3eeb7977a5",
       "version_major": 2,
       "version_minor": 0
      },
      "text/plain": [
       "HBox(children=(IntProgress(value=0, max=410), HTML(value='')))"
      ]
     },
     "metadata": {},
     "output_type": "display_data"
    },
    {
     "name": "stdout",
     "output_type": "stream",
     "text": [
      "{'loss': 0.03415696261155764, 'mloss': tensor(0.0593), 'val_loss': 0.04347936893904173, 'val_mloss_tot': tensor(0.0759)}\n"
     ]
    },
    {
     "data": {
      "application/vnd.jupyter.widget-view+json": {
       "model_id": "fa36a827c28741fe9f27b00386ae3d30",
       "version_major": 2,
       "version_minor": 0
      },
      "text/plain": [
       "HBox(children=(IntProgress(value=0, max=812), HTML(value='')))"
      ]
     },
     "metadata": {},
     "output_type": "display_data"
    },
    {
     "data": {
      "application/vnd.jupyter.widget-view+json": {
       "model_id": "568cebbe398a4e86a29fd7b259ab78be",
       "version_major": 2,
       "version_minor": 0
      },
      "text/plain": [
       "HBox(children=(IntProgress(value=0, max=410), HTML(value='')))"
      ]
     },
     "metadata": {},
     "output_type": "display_data"
    },
    {
     "name": "stdout",
     "output_type": "stream",
     "text": [
      "{'loss': 0.035134454020093214, 'mloss': tensor(0.0632), 'val_loss': 0.04253129531379517, 'val_mloss_tot': tensor(0.0742)}\n"
     ]
    },
    {
     "data": {
      "application/vnd.jupyter.widget-view+json": {
       "model_id": "d870d0d0ecbe44be9738fe95d128e8d1",
       "version_major": 2,
       "version_minor": 0
      },
      "text/plain": [
       "HBox(children=(IntProgress(value=0, max=812), HTML(value='')))"
      ]
     },
     "metadata": {},
     "output_type": "display_data"
    },
    {
     "data": {
      "application/vnd.jupyter.widget-view+json": {
       "model_id": "0091b100a427485d8e0cc4e0484237b6",
       "version_major": 2,
       "version_minor": 0
      },
      "text/plain": [
       "HBox(children=(IntProgress(value=0, max=410), HTML(value='')))"
      ]
     },
     "metadata": {},
     "output_type": "display_data"
    },
    {
     "name": "stdout",
     "output_type": "stream",
     "text": [
      "{'loss': 0.03317408291560055, 'mloss': tensor(0.0597), 'val_loss': 0.04224145162918764, 'val_mloss_tot': tensor(0.0737)}\n"
     ]
    },
    {
     "data": {
      "application/vnd.jupyter.widget-view+json": {
       "model_id": "7f01e99bb3514edcac72a5c19ef03e9d",
       "version_major": 2,
       "version_minor": 0
      },
      "text/plain": [
       "HBox(children=(IntProgress(value=0, max=812), HTML(value='')))"
      ]
     },
     "metadata": {},
     "output_type": "display_data"
    },
    {
     "data": {
      "application/vnd.jupyter.widget-view+json": {
       "model_id": "a79c79d79e8649e3b0d1e449e4ab26ca",
       "version_major": 2,
       "version_minor": 0
      },
      "text/plain": [
       "HBox(children=(IntProgress(value=0, max=410), HTML(value='')))"
      ]
     },
     "metadata": {},
     "output_type": "display_data"
    },
    {
     "name": "stdout",
     "output_type": "stream",
     "text": [
      "{'loss': 0.03242212891901487, 'mloss': tensor(0.0547), 'val_loss': 0.04221961973689315, 'val_mloss_tot': tensor(0.0737)}\n"
     ]
    },
    {
     "data": {
      "application/vnd.jupyter.widget-view+json": {
       "model_id": "a771fc6a86274750a3656c2c8dbf37fe",
       "version_major": 2,
       "version_minor": 0
      },
      "text/plain": [
       "HBox(children=(IntProgress(value=0, max=812), HTML(value='')))"
      ]
     },
     "metadata": {},
     "output_type": "display_data"
    },
    {
     "data": {
      "application/vnd.jupyter.widget-view+json": {
       "model_id": "f6314561ad8742bb9ec2a41bb4f4eac3",
       "version_major": 2,
       "version_minor": 0
      },
      "text/plain": [
       "HBox(children=(IntProgress(value=0, max=410), HTML(value='')))"
      ]
     },
     "metadata": {},
     "output_type": "display_data"
    },
    {
     "name": "stdout",
     "output_type": "stream",
     "text": [
      "{'loss': 0.034995150872342694, 'mloss': tensor(0.0620), 'val_loss': 0.04203325960012834, 'val_mloss_tot': tensor(0.0734)}\n"
     ]
    },
    {
     "data": {
      "application/vnd.jupyter.widget-view+json": {
       "model_id": "c523fde71aed43e4b3cd7013b67bc1a3",
       "version_major": 2,
       "version_minor": 0
      },
      "text/plain": [
       "HBox(children=(IntProgress(value=0, max=812), HTML(value='')))"
      ]
     },
     "metadata": {},
     "output_type": "display_data"
    },
    {
     "data": {
      "application/vnd.jupyter.widget-view+json": {
       "model_id": "9a3ad313ad5541fea15a80f0813ca3d8",
       "version_major": 2,
       "version_minor": 0
      },
      "text/plain": [
       "HBox(children=(IntProgress(value=0, max=410), HTML(value='')))"
      ]
     },
     "metadata": {},
     "output_type": "display_data"
    },
    {
     "name": "stdout",
     "output_type": "stream",
     "text": [
      "{'loss': 0.03461694118375926, 'mloss': tensor(0.0647), 'val_loss': 0.04207639492162299, 'val_mloss_tot': tensor(0.0734)}\n"
     ]
    },
    {
     "data": {
      "application/vnd.jupyter.widget-view+json": {
       "model_id": "9e3b22ad53c5419a891579dc0cc517fa",
       "version_major": 2,
       "version_minor": 0
      },
      "text/plain": [
       "HBox(children=(IntProgress(value=0, max=812), HTML(value='')))"
      ]
     },
     "metadata": {},
     "output_type": "display_data"
    },
    {
     "data": {
      "application/vnd.jupyter.widget-view+json": {
       "model_id": "20e87640a02b46b08f4754b17ce32c91",
       "version_major": 2,
       "version_minor": 0
      },
      "text/plain": [
       "HBox(children=(IntProgress(value=0, max=410), HTML(value='')))"
      ]
     },
     "metadata": {},
     "output_type": "display_data"
    },
    {
     "name": "stdout",
     "output_type": "stream",
     "text": [
      "{'loss': 0.03231621115188533, 'mloss': tensor(0.0538), 'val_loss': 0.04262997533944322, 'val_mloss_tot': tensor(0.0744)}\n"
     ]
    },
    {
     "data": {
      "application/vnd.jupyter.widget-view+json": {
       "model_id": "ec97bc5c87074ce0ac16c3d0a37f98ed",
       "version_major": 2,
       "version_minor": 0
      },
      "text/plain": [
       "HBox(children=(IntProgress(value=0, max=812), HTML(value='')))"
      ]
     },
     "metadata": {},
     "output_type": "display_data"
    },
    {
     "data": {
      "application/vnd.jupyter.widget-view+json": {
       "model_id": "eea92b8eb8534debb30ad4601481db54",
       "version_major": 2,
       "version_minor": 0
      },
      "text/plain": [
       "HBox(children=(IntProgress(value=0, max=410), HTML(value='')))"
      ]
     },
     "metadata": {},
     "output_type": "display_data"
    },
    {
     "name": "stdout",
     "output_type": "stream",
     "text": [
      "{'loss': 0.03159527346589534, 'mloss': tensor(0.0548), 'val_loss': 0.04216668739710457, 'val_mloss_tot': tensor(0.0736)}\n",
      "\n"
     ]
    },
    {
     "data": {
      "application/vnd.jupyter.widget-view+json": {
       "model_id": "d32b303f76d945768e539cb8e2714b3e",
       "version_major": 2,
       "version_minor": 0
      },
      "text/plain": [
       "HBox(children=(IntProgress(value=0, max=410), HTML(value='')))"
      ]
     },
     "metadata": {},
     "output_type": "display_data"
    },
    {
     "name": "stdout",
     "output_type": "stream",
     "text": [
      "\n",
      "(0.04187546223742751, {'val_loss': 0.04187546223742751, 'val_mloss_tot': tensor(0.0731)})\n"
     ]
    }
   ],
   "source": [
    "%matplotlib nbagg\n",
    "model_name,version, num_split = 'Densenet201_3' , 'classifier_splits',1\n",
    "pickle_file=open(outputs_dir+outputs_format.format(model_name,version,'features_train_tta',num_split),'rb')\n",
    "features=pickle.load(pickle_file)\n",
    "pickle_file.close()\n",
    "features.shape\n",
    "\n",
    "features=features.reshape(features.shape[0]//4,4,-1)\n",
    "features.shape\n",
    "split_train = train_df[train_df.PID.isin(set(split_sid[splits[num_split][0]]))].SeriesI.unique()\n",
    "split_validate =  train_df[train_df.PID.isin(set(split_sid[splits[num_split][1]]))].SeriesI.unique()\n",
    "\n",
    "np.random.seed(SEED+num_split)\n",
    "torch.manual_seed(SEED+num_split)\n",
    "torch.cuda.manual_seed(SEED+num_split)\n",
    "torch.backends.cudnn.deterministic = True\n",
    "batch_size=16\n",
    "num_workers=18\n",
    "num_epochs=16\n",
    "klr=1\n",
    "weights = torch.tensor([1.,1.,1.,1.,1.,2.],device=device)\n",
    "train_dataset=FullHeadDataset(train_df,\n",
    "                              split_train,\n",
    "                              features,\n",
    "                              'SeriesI',\n",
    "                              'ImagePositionZ',\n",
    "                              hemorrhage_types)                \n",
    "validate_dataset=FullHeadDataset(train_df,\n",
    "                                 split_validate,\n",
    "                                 features[:,0,:],\n",
    "                                 'SeriesI',\n",
    "                                 'ImagePositionZ',\n",
    "                                 hemorrhage_types)                \n",
    "\n",
    "model=ResModel(features.shape[-1])\n",
    "version=version+'_fullhead_resmodel'\n",
    "_=model.to(device)\n",
    "\n",
    "loss_func=my_loss\n",
    "fig,ax = plt.subplots(figsize=(10,7))\n",
    "gr=loss_graph(fig,ax,num_epochs,len(train_dataset)//batch_size+1,limits=[0.02,0.06])\n",
    "num_train_optimization_steps = num_epochs*(len(train_dataset)//batch_size+int(len(train_dataset)%batch_size>0))\n",
    "sched=WarmupExpCosineWithWarmupRestartsSchedule( t_total=num_train_optimization_steps, cycles=num_epochs//4,tau=0)\n",
    "optimizer = BertAdam(model.parameters(),lr=klr*1e-3,schedule=sched)\n",
    "history,best_model= model_train(model,\n",
    "                                optimizer,\n",
    "                                train_dataset,\n",
    "                                batch_size,\n",
    "                                num_epochs,\n",
    "                                loss_func,\n",
    "                                weights=weights,\n",
    "                                do_apex=False,\n",
    "                                validate_dataset=validate_dataset,\n",
    "                                param_schedualer=None,\n",
    "                                weights_data=None,\n",
    "                                metric=Metric(torch.tensor([1.,1.,1.,1.,1.,2.])),\n",
    "                                return_model=True,\n",
    "                                best_average=3,\n",
    "                                num_workers=num_workers,\n",
    "                                sampler=None,\n",
    "                                graph=gr)\n",
    "torch.save(best_model.state_dict(), models_dir+models_format.format(model_name,version,num_split))"
   ]
  },
  {
   "cell_type": "code",
   "execution_count": 25,
   "metadata": {
    "scrolled": true
   },
   "outputs": [
    {
     "data": {
      "text/plain": [
       "torch.Size([2697008, 240])"
      ]
     },
     "execution_count": 25,
     "metadata": {},
     "output_type": "execute_result"
    },
    {
     "data": {
      "text/plain": [
       "torch.Size([674252, 4, 240])"
      ]
     },
     "execution_count": 25,
     "metadata": {},
     "output_type": "execute_result"
    },
    {
     "data": {
      "text/plain": [
       "<torch._C.Generator at 0x7f56eb479790>"
      ]
     },
     "execution_count": 25,
     "metadata": {},
     "output_type": "execute_result"
    },
    {
     "data": {
      "application/javascript": [
       "/* Put everything inside the global mpl namespace */\n",
       "window.mpl = {};\n",
       "\n",
       "\n",
       "mpl.get_websocket_type = function() {\n",
       "    if (typeof(WebSocket) !== 'undefined') {\n",
       "        return WebSocket;\n",
       "    } else if (typeof(MozWebSocket) !== 'undefined') {\n",
       "        return MozWebSocket;\n",
       "    } else {\n",
       "        alert('Your browser does not have WebSocket support.' +\n",
       "              'Please try Chrome, Safari or Firefox ≥ 6. ' +\n",
       "              'Firefox 4 and 5 are also supported but you ' +\n",
       "              'have to enable WebSockets in about:config.');\n",
       "    };\n",
       "}\n",
       "\n",
       "mpl.figure = function(figure_id, websocket, ondownload, parent_element) {\n",
       "    this.id = figure_id;\n",
       "\n",
       "    this.ws = websocket;\n",
       "\n",
       "    this.supports_binary = (this.ws.binaryType != undefined);\n",
       "\n",
       "    if (!this.supports_binary) {\n",
       "        var warnings = document.getElementById(\"mpl-warnings\");\n",
       "        if (warnings) {\n",
       "            warnings.style.display = 'block';\n",
       "            warnings.textContent = (\n",
       "                \"This browser does not support binary websocket messages. \" +\n",
       "                    \"Performance may be slow.\");\n",
       "        }\n",
       "    }\n",
       "\n",
       "    this.imageObj = new Image();\n",
       "\n",
       "    this.context = undefined;\n",
       "    this.message = undefined;\n",
       "    this.canvas = undefined;\n",
       "    this.rubberband_canvas = undefined;\n",
       "    this.rubberband_context = undefined;\n",
       "    this.format_dropdown = undefined;\n",
       "\n",
       "    this.image_mode = 'full';\n",
       "\n",
       "    this.root = $('<div/>');\n",
       "    this._root_extra_style(this.root)\n",
       "    this.root.attr('style', 'display: inline-block');\n",
       "\n",
       "    $(parent_element).append(this.root);\n",
       "\n",
       "    this._init_header(this);\n",
       "    this._init_canvas(this);\n",
       "    this._init_toolbar(this);\n",
       "\n",
       "    var fig = this;\n",
       "\n",
       "    this.waiting = false;\n",
       "\n",
       "    this.ws.onopen =  function () {\n",
       "            fig.send_message(\"supports_binary\", {value: fig.supports_binary});\n",
       "            fig.send_message(\"send_image_mode\", {});\n",
       "            if (mpl.ratio != 1) {\n",
       "                fig.send_message(\"set_dpi_ratio\", {'dpi_ratio': mpl.ratio});\n",
       "            }\n",
       "            fig.send_message(\"refresh\", {});\n",
       "        }\n",
       "\n",
       "    this.imageObj.onload = function() {\n",
       "            if (fig.image_mode == 'full') {\n",
       "                // Full images could contain transparency (where diff images\n",
       "                // almost always do), so we need to clear the canvas so that\n",
       "                // there is no ghosting.\n",
       "                fig.context.clearRect(0, 0, fig.canvas.width, fig.canvas.height);\n",
       "            }\n",
       "            fig.context.drawImage(fig.imageObj, 0, 0);\n",
       "        };\n",
       "\n",
       "    this.imageObj.onunload = function() {\n",
       "        fig.ws.close();\n",
       "    }\n",
       "\n",
       "    this.ws.onmessage = this._make_on_message_function(this);\n",
       "\n",
       "    this.ondownload = ondownload;\n",
       "}\n",
       "\n",
       "mpl.figure.prototype._init_header = function() {\n",
       "    var titlebar = $(\n",
       "        '<div class=\"ui-dialog-titlebar ui-widget-header ui-corner-all ' +\n",
       "        'ui-helper-clearfix\"/>');\n",
       "    var titletext = $(\n",
       "        '<div class=\"ui-dialog-title\" style=\"width: 100%; ' +\n",
       "        'text-align: center; padding: 3px;\"/>');\n",
       "    titlebar.append(titletext)\n",
       "    this.root.append(titlebar);\n",
       "    this.header = titletext[0];\n",
       "}\n",
       "\n",
       "\n",
       "\n",
       "mpl.figure.prototype._canvas_extra_style = function(canvas_div) {\n",
       "\n",
       "}\n",
       "\n",
       "\n",
       "mpl.figure.prototype._root_extra_style = function(canvas_div) {\n",
       "\n",
       "}\n",
       "\n",
       "mpl.figure.prototype._init_canvas = function() {\n",
       "    var fig = this;\n",
       "\n",
       "    var canvas_div = $('<div/>');\n",
       "\n",
       "    canvas_div.attr('style', 'position: relative; clear: both; outline: 0');\n",
       "\n",
       "    function canvas_keyboard_event(event) {\n",
       "        return fig.key_event(event, event['data']);\n",
       "    }\n",
       "\n",
       "    canvas_div.keydown('key_press', canvas_keyboard_event);\n",
       "    canvas_div.keyup('key_release', canvas_keyboard_event);\n",
       "    this.canvas_div = canvas_div\n",
       "    this._canvas_extra_style(canvas_div)\n",
       "    this.root.append(canvas_div);\n",
       "\n",
       "    var canvas = $('<canvas/>');\n",
       "    canvas.addClass('mpl-canvas');\n",
       "    canvas.attr('style', \"left: 0; top: 0; z-index: 0; outline: 0\")\n",
       "\n",
       "    this.canvas = canvas[0];\n",
       "    this.context = canvas[0].getContext(\"2d\");\n",
       "\n",
       "    var backingStore = this.context.backingStorePixelRatio ||\n",
       "\tthis.context.webkitBackingStorePixelRatio ||\n",
       "\tthis.context.mozBackingStorePixelRatio ||\n",
       "\tthis.context.msBackingStorePixelRatio ||\n",
       "\tthis.context.oBackingStorePixelRatio ||\n",
       "\tthis.context.backingStorePixelRatio || 1;\n",
       "\n",
       "    mpl.ratio = (window.devicePixelRatio || 1) / backingStore;\n",
       "\n",
       "    var rubberband = $('<canvas/>');\n",
       "    rubberband.attr('style', \"position: absolute; left: 0; top: 0; z-index: 1;\")\n",
       "\n",
       "    var pass_mouse_events = true;\n",
       "\n",
       "    canvas_div.resizable({\n",
       "        start: function(event, ui) {\n",
       "            pass_mouse_events = false;\n",
       "        },\n",
       "        resize: function(event, ui) {\n",
       "            fig.request_resize(ui.size.width, ui.size.height);\n",
       "        },\n",
       "        stop: function(event, ui) {\n",
       "            pass_mouse_events = true;\n",
       "            fig.request_resize(ui.size.width, ui.size.height);\n",
       "        },\n",
       "    });\n",
       "\n",
       "    function mouse_event_fn(event) {\n",
       "        if (pass_mouse_events)\n",
       "            return fig.mouse_event(event, event['data']);\n",
       "    }\n",
       "\n",
       "    rubberband.mousedown('button_press', mouse_event_fn);\n",
       "    rubberband.mouseup('button_release', mouse_event_fn);\n",
       "    // Throttle sequential mouse events to 1 every 20ms.\n",
       "    rubberband.mousemove('motion_notify', mouse_event_fn);\n",
       "\n",
       "    rubberband.mouseenter('figure_enter', mouse_event_fn);\n",
       "    rubberband.mouseleave('figure_leave', mouse_event_fn);\n",
       "\n",
       "    canvas_div.on(\"wheel\", function (event) {\n",
       "        event = event.originalEvent;\n",
       "        event['data'] = 'scroll'\n",
       "        if (event.deltaY < 0) {\n",
       "            event.step = 1;\n",
       "        } else {\n",
       "            event.step = -1;\n",
       "        }\n",
       "        mouse_event_fn(event);\n",
       "    });\n",
       "\n",
       "    canvas_div.append(canvas);\n",
       "    canvas_div.append(rubberband);\n",
       "\n",
       "    this.rubberband = rubberband;\n",
       "    this.rubberband_canvas = rubberband[0];\n",
       "    this.rubberband_context = rubberband[0].getContext(\"2d\");\n",
       "    this.rubberband_context.strokeStyle = \"#000000\";\n",
       "\n",
       "    this._resize_canvas = function(width, height) {\n",
       "        // Keep the size of the canvas, canvas container, and rubber band\n",
       "        // canvas in synch.\n",
       "        canvas_div.css('width', width)\n",
       "        canvas_div.css('height', height)\n",
       "\n",
       "        canvas.attr('width', width * mpl.ratio);\n",
       "        canvas.attr('height', height * mpl.ratio);\n",
       "        canvas.attr('style', 'width: ' + width + 'px; height: ' + height + 'px;');\n",
       "\n",
       "        rubberband.attr('width', width);\n",
       "        rubberband.attr('height', height);\n",
       "    }\n",
       "\n",
       "    // Set the figure to an initial 600x600px, this will subsequently be updated\n",
       "    // upon first draw.\n",
       "    this._resize_canvas(600, 600);\n",
       "\n",
       "    // Disable right mouse context menu.\n",
       "    $(this.rubberband_canvas).bind(\"contextmenu\",function(e){\n",
       "        return false;\n",
       "    });\n",
       "\n",
       "    function set_focus () {\n",
       "        canvas.focus();\n",
       "        canvas_div.focus();\n",
       "    }\n",
       "\n",
       "    window.setTimeout(set_focus, 100);\n",
       "}\n",
       "\n",
       "mpl.figure.prototype._init_toolbar = function() {\n",
       "    var fig = this;\n",
       "\n",
       "    var nav_element = $('<div/>')\n",
       "    nav_element.attr('style', 'width: 100%');\n",
       "    this.root.append(nav_element);\n",
       "\n",
       "    // Define a callback function for later on.\n",
       "    function toolbar_event(event) {\n",
       "        return fig.toolbar_button_onclick(event['data']);\n",
       "    }\n",
       "    function toolbar_mouse_event(event) {\n",
       "        return fig.toolbar_button_onmouseover(event['data']);\n",
       "    }\n",
       "\n",
       "    for(var toolbar_ind in mpl.toolbar_items) {\n",
       "        var name = mpl.toolbar_items[toolbar_ind][0];\n",
       "        var tooltip = mpl.toolbar_items[toolbar_ind][1];\n",
       "        var image = mpl.toolbar_items[toolbar_ind][2];\n",
       "        var method_name = mpl.toolbar_items[toolbar_ind][3];\n",
       "\n",
       "        if (!name) {\n",
       "            // put a spacer in here.\n",
       "            continue;\n",
       "        }\n",
       "        var button = $('<button/>');\n",
       "        button.addClass('ui-button ui-widget ui-state-default ui-corner-all ' +\n",
       "                        'ui-button-icon-only');\n",
       "        button.attr('role', 'button');\n",
       "        button.attr('aria-disabled', 'false');\n",
       "        button.click(method_name, toolbar_event);\n",
       "        button.mouseover(tooltip, toolbar_mouse_event);\n",
       "\n",
       "        var icon_img = $('<span/>');\n",
       "        icon_img.addClass('ui-button-icon-primary ui-icon');\n",
       "        icon_img.addClass(image);\n",
       "        icon_img.addClass('ui-corner-all');\n",
       "\n",
       "        var tooltip_span = $('<span/>');\n",
       "        tooltip_span.addClass('ui-button-text');\n",
       "        tooltip_span.html(tooltip);\n",
       "\n",
       "        button.append(icon_img);\n",
       "        button.append(tooltip_span);\n",
       "\n",
       "        nav_element.append(button);\n",
       "    }\n",
       "\n",
       "    var fmt_picker_span = $('<span/>');\n",
       "\n",
       "    var fmt_picker = $('<select/>');\n",
       "    fmt_picker.addClass('mpl-toolbar-option ui-widget ui-widget-content');\n",
       "    fmt_picker_span.append(fmt_picker);\n",
       "    nav_element.append(fmt_picker_span);\n",
       "    this.format_dropdown = fmt_picker[0];\n",
       "\n",
       "    for (var ind in mpl.extensions) {\n",
       "        var fmt = mpl.extensions[ind];\n",
       "        var option = $(\n",
       "            '<option/>', {selected: fmt === mpl.default_extension}).html(fmt);\n",
       "        fmt_picker.append(option)\n",
       "    }\n",
       "\n",
       "    // Add hover states to the ui-buttons\n",
       "    $( \".ui-button\" ).hover(\n",
       "        function() { $(this).addClass(\"ui-state-hover\");},\n",
       "        function() { $(this).removeClass(\"ui-state-hover\");}\n",
       "    );\n",
       "\n",
       "    var status_bar = $('<span class=\"mpl-message\"/>');\n",
       "    nav_element.append(status_bar);\n",
       "    this.message = status_bar[0];\n",
       "}\n",
       "\n",
       "mpl.figure.prototype.request_resize = function(x_pixels, y_pixels) {\n",
       "    // Request matplotlib to resize the figure. Matplotlib will then trigger a resize in the client,\n",
       "    // which will in turn request a refresh of the image.\n",
       "    this.send_message('resize', {'width': x_pixels, 'height': y_pixels});\n",
       "}\n",
       "\n",
       "mpl.figure.prototype.send_message = function(type, properties) {\n",
       "    properties['type'] = type;\n",
       "    properties['figure_id'] = this.id;\n",
       "    this.ws.send(JSON.stringify(properties));\n",
       "}\n",
       "\n",
       "mpl.figure.prototype.send_draw_message = function() {\n",
       "    if (!this.waiting) {\n",
       "        this.waiting = true;\n",
       "        this.ws.send(JSON.stringify({type: \"draw\", figure_id: this.id}));\n",
       "    }\n",
       "}\n",
       "\n",
       "\n",
       "mpl.figure.prototype.handle_save = function(fig, msg) {\n",
       "    var format_dropdown = fig.format_dropdown;\n",
       "    var format = format_dropdown.options[format_dropdown.selectedIndex].value;\n",
       "    fig.ondownload(fig, format);\n",
       "}\n",
       "\n",
       "\n",
       "mpl.figure.prototype.handle_resize = function(fig, msg) {\n",
       "    var size = msg['size'];\n",
       "    if (size[0] != fig.canvas.width || size[1] != fig.canvas.height) {\n",
       "        fig._resize_canvas(size[0], size[1]);\n",
       "        fig.send_message(\"refresh\", {});\n",
       "    };\n",
       "}\n",
       "\n",
       "mpl.figure.prototype.handle_rubberband = function(fig, msg) {\n",
       "    var x0 = msg['x0'] / mpl.ratio;\n",
       "    var y0 = (fig.canvas.height - msg['y0']) / mpl.ratio;\n",
       "    var x1 = msg['x1'] / mpl.ratio;\n",
       "    var y1 = (fig.canvas.height - msg['y1']) / mpl.ratio;\n",
       "    x0 = Math.floor(x0) + 0.5;\n",
       "    y0 = Math.floor(y0) + 0.5;\n",
       "    x1 = Math.floor(x1) + 0.5;\n",
       "    y1 = Math.floor(y1) + 0.5;\n",
       "    var min_x = Math.min(x0, x1);\n",
       "    var min_y = Math.min(y0, y1);\n",
       "    var width = Math.abs(x1 - x0);\n",
       "    var height = Math.abs(y1 - y0);\n",
       "\n",
       "    fig.rubberband_context.clearRect(\n",
       "        0, 0, fig.canvas.width, fig.canvas.height);\n",
       "\n",
       "    fig.rubberband_context.strokeRect(min_x, min_y, width, height);\n",
       "}\n",
       "\n",
       "mpl.figure.prototype.handle_figure_label = function(fig, msg) {\n",
       "    // Updates the figure title.\n",
       "    fig.header.textContent = msg['label'];\n",
       "}\n",
       "\n",
       "mpl.figure.prototype.handle_cursor = function(fig, msg) {\n",
       "    var cursor = msg['cursor'];\n",
       "    switch(cursor)\n",
       "    {\n",
       "    case 0:\n",
       "        cursor = 'pointer';\n",
       "        break;\n",
       "    case 1:\n",
       "        cursor = 'default';\n",
       "        break;\n",
       "    case 2:\n",
       "        cursor = 'crosshair';\n",
       "        break;\n",
       "    case 3:\n",
       "        cursor = 'move';\n",
       "        break;\n",
       "    }\n",
       "    fig.rubberband_canvas.style.cursor = cursor;\n",
       "}\n",
       "\n",
       "mpl.figure.prototype.handle_message = function(fig, msg) {\n",
       "    fig.message.textContent = msg['message'];\n",
       "}\n",
       "\n",
       "mpl.figure.prototype.handle_draw = function(fig, msg) {\n",
       "    // Request the server to send over a new figure.\n",
       "    fig.send_draw_message();\n",
       "}\n",
       "\n",
       "mpl.figure.prototype.handle_image_mode = function(fig, msg) {\n",
       "    fig.image_mode = msg['mode'];\n",
       "}\n",
       "\n",
       "mpl.figure.prototype.updated_canvas_event = function() {\n",
       "    // Called whenever the canvas gets updated.\n",
       "    this.send_message(\"ack\", {});\n",
       "}\n",
       "\n",
       "// A function to construct a web socket function for onmessage handling.\n",
       "// Called in the figure constructor.\n",
       "mpl.figure.prototype._make_on_message_function = function(fig) {\n",
       "    return function socket_on_message(evt) {\n",
       "        if (evt.data instanceof Blob) {\n",
       "            /* FIXME: We get \"Resource interpreted as Image but\n",
       "             * transferred with MIME type text/plain:\" errors on\n",
       "             * Chrome.  But how to set the MIME type?  It doesn't seem\n",
       "             * to be part of the websocket stream */\n",
       "            evt.data.type = \"image/png\";\n",
       "\n",
       "            /* Free the memory for the previous frames */\n",
       "            if (fig.imageObj.src) {\n",
       "                (window.URL || window.webkitURL).revokeObjectURL(\n",
       "                    fig.imageObj.src);\n",
       "            }\n",
       "\n",
       "            fig.imageObj.src = (window.URL || window.webkitURL).createObjectURL(\n",
       "                evt.data);\n",
       "            fig.updated_canvas_event();\n",
       "            fig.waiting = false;\n",
       "            return;\n",
       "        }\n",
       "        else if (typeof evt.data === 'string' && evt.data.slice(0, 21) == \"data:image/png;base64\") {\n",
       "            fig.imageObj.src = evt.data;\n",
       "            fig.updated_canvas_event();\n",
       "            fig.waiting = false;\n",
       "            return;\n",
       "        }\n",
       "\n",
       "        var msg = JSON.parse(evt.data);\n",
       "        var msg_type = msg['type'];\n",
       "\n",
       "        // Call the  \"handle_{type}\" callback, which takes\n",
       "        // the figure and JSON message as its only arguments.\n",
       "        try {\n",
       "            var callback = fig[\"handle_\" + msg_type];\n",
       "        } catch (e) {\n",
       "            console.log(\"No handler for the '\" + msg_type + \"' message type: \", msg);\n",
       "            return;\n",
       "        }\n",
       "\n",
       "        if (callback) {\n",
       "            try {\n",
       "                // console.log(\"Handling '\" + msg_type + \"' message: \", msg);\n",
       "                callback(fig, msg);\n",
       "            } catch (e) {\n",
       "                console.log(\"Exception inside the 'handler_\" + msg_type + \"' callback:\", e, e.stack, msg);\n",
       "            }\n",
       "        }\n",
       "    };\n",
       "}\n",
       "\n",
       "// from http://stackoverflow.com/questions/1114465/getting-mouse-location-in-canvas\n",
       "mpl.findpos = function(e) {\n",
       "    //this section is from http://www.quirksmode.org/js/events_properties.html\n",
       "    var targ;\n",
       "    if (!e)\n",
       "        e = window.event;\n",
       "    if (e.target)\n",
       "        targ = e.target;\n",
       "    else if (e.srcElement)\n",
       "        targ = e.srcElement;\n",
       "    if (targ.nodeType == 3) // defeat Safari bug\n",
       "        targ = targ.parentNode;\n",
       "\n",
       "    // jQuery normalizes the pageX and pageY\n",
       "    // pageX,Y are the mouse positions relative to the document\n",
       "    // offset() returns the position of the element relative to the document\n",
       "    var x = e.pageX - $(targ).offset().left;\n",
       "    var y = e.pageY - $(targ).offset().top;\n",
       "\n",
       "    return {\"x\": x, \"y\": y};\n",
       "};\n",
       "\n",
       "/*\n",
       " * return a copy of an object with only non-object keys\n",
       " * we need this to avoid circular references\n",
       " * http://stackoverflow.com/a/24161582/3208463\n",
       " */\n",
       "function simpleKeys (original) {\n",
       "  return Object.keys(original).reduce(function (obj, key) {\n",
       "    if (typeof original[key] !== 'object')\n",
       "        obj[key] = original[key]\n",
       "    return obj;\n",
       "  }, {});\n",
       "}\n",
       "\n",
       "mpl.figure.prototype.mouse_event = function(event, name) {\n",
       "    var canvas_pos = mpl.findpos(event)\n",
       "\n",
       "    if (name === 'button_press')\n",
       "    {\n",
       "        this.canvas.focus();\n",
       "        this.canvas_div.focus();\n",
       "    }\n",
       "\n",
       "    var x = canvas_pos.x * mpl.ratio;\n",
       "    var y = canvas_pos.y * mpl.ratio;\n",
       "\n",
       "    this.send_message(name, {x: x, y: y, button: event.button,\n",
       "                             step: event.step,\n",
       "                             guiEvent: simpleKeys(event)});\n",
       "\n",
       "    /* This prevents the web browser from automatically changing to\n",
       "     * the text insertion cursor when the button is pressed.  We want\n",
       "     * to control all of the cursor setting manually through the\n",
       "     * 'cursor' event from matplotlib */\n",
       "    event.preventDefault();\n",
       "    return false;\n",
       "}\n",
       "\n",
       "mpl.figure.prototype._key_event_extra = function(event, name) {\n",
       "    // Handle any extra behaviour associated with a key event\n",
       "}\n",
       "\n",
       "mpl.figure.prototype.key_event = function(event, name) {\n",
       "\n",
       "    // Prevent repeat events\n",
       "    if (name == 'key_press')\n",
       "    {\n",
       "        if (event.which === this._key)\n",
       "            return;\n",
       "        else\n",
       "            this._key = event.which;\n",
       "    }\n",
       "    if (name == 'key_release')\n",
       "        this._key = null;\n",
       "\n",
       "    var value = '';\n",
       "    if (event.ctrlKey && event.which != 17)\n",
       "        value += \"ctrl+\";\n",
       "    if (event.altKey && event.which != 18)\n",
       "        value += \"alt+\";\n",
       "    if (event.shiftKey && event.which != 16)\n",
       "        value += \"shift+\";\n",
       "\n",
       "    value += 'k';\n",
       "    value += event.which.toString();\n",
       "\n",
       "    this._key_event_extra(event, name);\n",
       "\n",
       "    this.send_message(name, {key: value,\n",
       "                             guiEvent: simpleKeys(event)});\n",
       "    return false;\n",
       "}\n",
       "\n",
       "mpl.figure.prototype.toolbar_button_onclick = function(name) {\n",
       "    if (name == 'download') {\n",
       "        this.handle_save(this, null);\n",
       "    } else {\n",
       "        this.send_message(\"toolbar_button\", {name: name});\n",
       "    }\n",
       "};\n",
       "\n",
       "mpl.figure.prototype.toolbar_button_onmouseover = function(tooltip) {\n",
       "    this.message.textContent = tooltip;\n",
       "};\n",
       "mpl.toolbar_items = [[\"Home\", \"Reset original view\", \"fa fa-home icon-home\", \"home\"], [\"Back\", \"Back to  previous view\", \"fa fa-arrow-left icon-arrow-left\", \"back\"], [\"Forward\", \"Forward to next view\", \"fa fa-arrow-right icon-arrow-right\", \"forward\"], [\"\", \"\", \"\", \"\"], [\"Pan\", \"Pan axes with left mouse, zoom with right\", \"fa fa-arrows icon-move\", \"pan\"], [\"Zoom\", \"Zoom to rectangle\", \"fa fa-square-o icon-check-empty\", \"zoom\"], [\"\", \"\", \"\", \"\"], [\"Download\", \"Download plot\", \"fa fa-floppy-o icon-save\", \"download\"]];\n",
       "\n",
       "mpl.extensions = [\"eps\", \"jpeg\", \"pdf\", \"png\", \"ps\", \"raw\", \"svg\", \"tif\"];\n",
       "\n",
       "mpl.default_extension = \"png\";var comm_websocket_adapter = function(comm) {\n",
       "    // Create a \"websocket\"-like object which calls the given IPython comm\n",
       "    // object with the appropriate methods. Currently this is a non binary\n",
       "    // socket, so there is still some room for performance tuning.\n",
       "    var ws = {};\n",
       "\n",
       "    ws.close = function() {\n",
       "        comm.close()\n",
       "    };\n",
       "    ws.send = function(m) {\n",
       "        //console.log('sending', m);\n",
       "        comm.send(m);\n",
       "    };\n",
       "    // Register the callback with on_msg.\n",
       "    comm.on_msg(function(msg) {\n",
       "        //console.log('receiving', msg['content']['data'], msg);\n",
       "        // Pass the mpl event to the overridden (by mpl) onmessage function.\n",
       "        ws.onmessage(msg['content']['data'])\n",
       "    });\n",
       "    return ws;\n",
       "}\n",
       "\n",
       "mpl.mpl_figure_comm = function(comm, msg) {\n",
       "    // This is the function which gets called when the mpl process\n",
       "    // starts-up an IPython Comm through the \"matplotlib\" channel.\n",
       "\n",
       "    var id = msg.content.data.id;\n",
       "    // Get hold of the div created by the display call when the Comm\n",
       "    // socket was opened in Python.\n",
       "    var element = $(\"#\" + id);\n",
       "    var ws_proxy = comm_websocket_adapter(comm)\n",
       "\n",
       "    function ondownload(figure, format) {\n",
       "        window.open(figure.imageObj.src);\n",
       "    }\n",
       "\n",
       "    var fig = new mpl.figure(id, ws_proxy,\n",
       "                           ondownload,\n",
       "                           element.get(0));\n",
       "\n",
       "    // Call onopen now - mpl needs it, as it is assuming we've passed it a real\n",
       "    // web socket which is closed, not our websocket->open comm proxy.\n",
       "    ws_proxy.onopen();\n",
       "\n",
       "    fig.parent_element = element.get(0);\n",
       "    fig.cell_info = mpl.find_output_cell(\"<div id='\" + id + \"'></div>\");\n",
       "    if (!fig.cell_info) {\n",
       "        console.error(\"Failed to find cell for figure\", id, fig);\n",
       "        return;\n",
       "    }\n",
       "\n",
       "    var output_index = fig.cell_info[2]\n",
       "    var cell = fig.cell_info[0];\n",
       "\n",
       "};\n",
       "\n",
       "mpl.figure.prototype.handle_close = function(fig, msg) {\n",
       "    var width = fig.canvas.width/mpl.ratio\n",
       "    fig.root.unbind('remove')\n",
       "\n",
       "    // Update the output cell to use the data from the current canvas.\n",
       "    fig.push_to_output();\n",
       "    var dataURL = fig.canvas.toDataURL();\n",
       "    // Re-enable the keyboard manager in IPython - without this line, in FF,\n",
       "    // the notebook keyboard shortcuts fail.\n",
       "    IPython.keyboard_manager.enable()\n",
       "    $(fig.parent_element).html('<img src=\"' + dataURL + '\" width=\"' + width + '\">');\n",
       "    fig.close_ws(fig, msg);\n",
       "}\n",
       "\n",
       "mpl.figure.prototype.close_ws = function(fig, msg){\n",
       "    fig.send_message('closing', msg);\n",
       "    // fig.ws.close()\n",
       "}\n",
       "\n",
       "mpl.figure.prototype.push_to_output = function(remove_interactive) {\n",
       "    // Turn the data on the canvas into data in the output cell.\n",
       "    var width = this.canvas.width/mpl.ratio\n",
       "    var dataURL = this.canvas.toDataURL();\n",
       "    this.cell_info[1]['text/html'] = '<img src=\"' + dataURL + '\" width=\"' + width + '\">';\n",
       "}\n",
       "\n",
       "mpl.figure.prototype.updated_canvas_event = function() {\n",
       "    // Tell IPython that the notebook contents must change.\n",
       "    IPython.notebook.set_dirty(true);\n",
       "    this.send_message(\"ack\", {});\n",
       "    var fig = this;\n",
       "    // Wait a second, then push the new image to the DOM so\n",
       "    // that it is saved nicely (might be nice to debounce this).\n",
       "    setTimeout(function () { fig.push_to_output() }, 1000);\n",
       "}\n",
       "\n",
       "mpl.figure.prototype._init_toolbar = function() {\n",
       "    var fig = this;\n",
       "\n",
       "    var nav_element = $('<div/>')\n",
       "    nav_element.attr('style', 'width: 100%');\n",
       "    this.root.append(nav_element);\n",
       "\n",
       "    // Define a callback function for later on.\n",
       "    function toolbar_event(event) {\n",
       "        return fig.toolbar_button_onclick(event['data']);\n",
       "    }\n",
       "    function toolbar_mouse_event(event) {\n",
       "        return fig.toolbar_button_onmouseover(event['data']);\n",
       "    }\n",
       "\n",
       "    for(var toolbar_ind in mpl.toolbar_items){\n",
       "        var name = mpl.toolbar_items[toolbar_ind][0];\n",
       "        var tooltip = mpl.toolbar_items[toolbar_ind][1];\n",
       "        var image = mpl.toolbar_items[toolbar_ind][2];\n",
       "        var method_name = mpl.toolbar_items[toolbar_ind][3];\n",
       "\n",
       "        if (!name) { continue; };\n",
       "\n",
       "        var button = $('<button class=\"btn btn-default\" href=\"#\" title=\"' + name + '\"><i class=\"fa ' + image + ' fa-lg\"></i></button>');\n",
       "        button.click(method_name, toolbar_event);\n",
       "        button.mouseover(tooltip, toolbar_mouse_event);\n",
       "        nav_element.append(button);\n",
       "    }\n",
       "\n",
       "    // Add the status bar.\n",
       "    var status_bar = $('<span class=\"mpl-message\" style=\"text-align:right; float: right;\"/>');\n",
       "    nav_element.append(status_bar);\n",
       "    this.message = status_bar[0];\n",
       "\n",
       "    // Add the close button to the window.\n",
       "    var buttongrp = $('<div class=\"btn-group inline pull-right\"></div>');\n",
       "    var button = $('<button class=\"btn btn-mini btn-primary\" href=\"#\" title=\"Stop Interaction\"><i class=\"fa fa-power-off icon-remove icon-large\"></i></button>');\n",
       "    button.click(function (evt) { fig.handle_close(fig, {}); } );\n",
       "    button.mouseover('Stop Interaction', toolbar_mouse_event);\n",
       "    buttongrp.append(button);\n",
       "    var titlebar = this.root.find($('.ui-dialog-titlebar'));\n",
       "    titlebar.prepend(buttongrp);\n",
       "}\n",
       "\n",
       "mpl.figure.prototype._root_extra_style = function(el){\n",
       "    var fig = this\n",
       "    el.on(\"remove\", function(){\n",
       "\tfig.close_ws(fig, {});\n",
       "    });\n",
       "}\n",
       "\n",
       "mpl.figure.prototype._canvas_extra_style = function(el){\n",
       "    // this is important to make the div 'focusable\n",
       "    el.attr('tabindex', 0)\n",
       "    // reach out to IPython and tell the keyboard manager to turn it's self\n",
       "    // off when our div gets focus\n",
       "\n",
       "    // location in version 3\n",
       "    if (IPython.notebook.keyboard_manager) {\n",
       "        IPython.notebook.keyboard_manager.register_events(el);\n",
       "    }\n",
       "    else {\n",
       "        // location in version 2\n",
       "        IPython.keyboard_manager.register_events(el);\n",
       "    }\n",
       "\n",
       "}\n",
       "\n",
       "mpl.figure.prototype._key_event_extra = function(event, name) {\n",
       "    var manager = IPython.notebook.keyboard_manager;\n",
       "    if (!manager)\n",
       "        manager = IPython.keyboard_manager;\n",
       "\n",
       "    // Check for shift+enter\n",
       "    if (event.shiftKey && event.which == 13) {\n",
       "        this.canvas_div.blur();\n",
       "        event.shiftKey = false;\n",
       "        // Send a \"J\" for go to next cell\n",
       "        event.which = 74;\n",
       "        event.keyCode = 74;\n",
       "        manager.command_mode();\n",
       "        manager.handle_keydown(event);\n",
       "    }\n",
       "}\n",
       "\n",
       "mpl.figure.prototype.handle_save = function(fig, msg) {\n",
       "    fig.ondownload(fig, null);\n",
       "}\n",
       "\n",
       "\n",
       "mpl.find_output_cell = function(html_output) {\n",
       "    // Return the cell and output element which can be found *uniquely* in the notebook.\n",
       "    // Note - this is a bit hacky, but it is done because the \"notebook_saving.Notebook\"\n",
       "    // IPython event is triggered only after the cells have been serialised, which for\n",
       "    // our purposes (turning an active figure into a static one), is too late.\n",
       "    var cells = IPython.notebook.get_cells();\n",
       "    var ncells = cells.length;\n",
       "    for (var i=0; i<ncells; i++) {\n",
       "        var cell = cells[i];\n",
       "        if (cell.cell_type === 'code'){\n",
       "            for (var j=0; j<cell.output_area.outputs.length; j++) {\n",
       "                var data = cell.output_area.outputs[j];\n",
       "                if (data.data) {\n",
       "                    // IPython >= 3 moved mimebundle to data attribute of output\n",
       "                    data = data.data;\n",
       "                }\n",
       "                if (data['text/html'] == html_output) {\n",
       "                    return [cell, data, j];\n",
       "                }\n",
       "            }\n",
       "        }\n",
       "    }\n",
       "}\n",
       "\n",
       "// Register the function which deals with the matplotlib target/channel.\n",
       "// The kernel may be null if the page has been refreshed.\n",
       "if (IPython.notebook.kernel != null) {\n",
       "    IPython.notebook.kernel.comm_manager.register_target('matplotlib', mpl.mpl_figure_comm);\n",
       "}\n"
      ],
      "text/plain": [
       "<IPython.core.display.Javascript object>"
      ]
     },
     "metadata": {},
     "output_type": "display_data"
    },
    {
     "data": {
      "text/html": [
       "<img src=\"data:image/png;base64,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\" width=\"720\">"
      ],
      "text/plain": [
       "<IPython.core.display.HTML object>"
      ]
     },
     "metadata": {},
     "output_type": "display_data"
    },
    {
     "data": {
      "application/vnd.jupyter.widget-view+json": {
       "model_id": "d7481dcfde524cc8b31c57acb29016b3",
       "version_major": 2,
       "version_minor": 0
      },
      "text/plain": [
       "HBox(children=(IntProgress(value=0, max=16), HTML(value='')))"
      ]
     },
     "metadata": {},
     "output_type": "display_data"
    },
    {
     "data": {
      "application/vnd.jupyter.widget-view+json": {
       "model_id": "044b61e308554da292830dc47d387732",
       "version_major": 2,
       "version_minor": 0
      },
      "text/plain": [
       "HBox(children=(IntProgress(value=0, max=815), HTML(value='')))"
      ]
     },
     "metadata": {},
     "output_type": "display_data"
    },
    {
     "data": {
      "application/vnd.jupyter.widget-view+json": {
       "model_id": "2c7ac8af6474499989262ccf27c32062",
       "version_major": 2,
       "version_minor": 0
      },
      "text/plain": [
       "HBox(children=(IntProgress(value=0, max=406), HTML(value='')))"
      ]
     },
     "metadata": {},
     "output_type": "display_data"
    },
    {
     "name": "stdout",
     "output_type": "stream",
     "text": [
      "{'loss': 0.03635415313506277, 'mloss': tensor(0.0605), 'val_loss': 0.04349200989766588, 'val_mloss_tot': tensor(0.0754)}\n"
     ]
    },
    {
     "data": {
      "application/vnd.jupyter.widget-view+json": {
       "model_id": "98c73701f18a4bbcbbc40459661a2d8c",
       "version_major": 2,
       "version_minor": 0
      },
      "text/plain": [
       "HBox(children=(IntProgress(value=0, max=815), HTML(value='')))"
      ]
     },
     "metadata": {},
     "output_type": "display_data"
    },
    {
     "data": {
      "application/vnd.jupyter.widget-view+json": {
       "model_id": "ec4721362b1b486992b647416863c3f6",
       "version_major": 2,
       "version_minor": 0
      },
      "text/plain": [
       "HBox(children=(IntProgress(value=0, max=406), HTML(value='')))"
      ]
     },
     "metadata": {},
     "output_type": "display_data"
    },
    {
     "name": "stdout",
     "output_type": "stream",
     "text": [
      "{'loss': 0.03431799845710916, 'mloss': tensor(0.0591), 'val_loss': 0.04160740688842322, 'val_mloss_tot': tensor(0.0721)}\n"
     ]
    },
    {
     "data": {
      "application/vnd.jupyter.widget-view+json": {
       "model_id": "e617921832544a8a8ae3083078a67dc4",
       "version_major": 2,
       "version_minor": 0
      },
      "text/plain": [
       "HBox(children=(IntProgress(value=0, max=815), HTML(value='')))"
      ]
     },
     "metadata": {},
     "output_type": "display_data"
    },
    {
     "data": {
      "application/vnd.jupyter.widget-view+json": {
       "model_id": "dbcb68763e8e4d7da4b1a66e0c3fbb77",
       "version_major": 2,
       "version_minor": 0
      },
      "text/plain": [
       "HBox(children=(IntProgress(value=0, max=406), HTML(value='')))"
      ]
     },
     "metadata": {},
     "output_type": "display_data"
    },
    {
     "name": "stdout",
     "output_type": "stream",
     "text": [
      "{'loss': 0.03554305141188108, 'mloss': tensor(0.0630), 'val_loss': 0.04115358079792794, 'val_mloss_tot': tensor(0.0713)}\n"
     ]
    },
    {
     "data": {
      "application/vnd.jupyter.widget-view+json": {
       "model_id": "21a01ecc8a414880ab18cdd94b896756",
       "version_major": 2,
       "version_minor": 0
      },
      "text/plain": [
       "HBox(children=(IntProgress(value=0, max=815), HTML(value='')))"
      ]
     },
     "metadata": {},
     "output_type": "display_data"
    },
    {
     "data": {
      "application/vnd.jupyter.widget-view+json": {
       "model_id": "7e522648d3454b2ca039e5cebd088176",
       "version_major": 2,
       "version_minor": 0
      },
      "text/plain": [
       "HBox(children=(IntProgress(value=0, max=406), HTML(value='')))"
      ]
     },
     "metadata": {},
     "output_type": "display_data"
    },
    {
     "name": "stdout",
     "output_type": "stream",
     "text": [
      "{'loss': 0.03335093301609355, 'mloss': tensor(0.0556), 'val_loss': 0.041215710309815815, 'val_mloss_tot': tensor(0.0715)}\n"
     ]
    },
    {
     "data": {
      "application/vnd.jupyter.widget-view+json": {
       "model_id": "4ed9f6af083e4324ba1dbd16724bc44b",
       "version_major": 2,
       "version_minor": 0
      },
      "text/plain": [
       "HBox(children=(IntProgress(value=0, max=815), HTML(value='')))"
      ]
     },
     "metadata": {},
     "output_type": "display_data"
    },
    {
     "data": {
      "application/vnd.jupyter.widget-view+json": {
       "model_id": "49b853c71dff481b88bf0d61224c66ea",
       "version_major": 2,
       "version_minor": 0
      },
      "text/plain": [
       "HBox(children=(IntProgress(value=0, max=406), HTML(value='')))"
      ]
     },
     "metadata": {},
     "output_type": "display_data"
    },
    {
     "name": "stdout",
     "output_type": "stream",
     "text": [
      "{'loss': 0.0359669382844029, 'mloss': tensor(0.0651), 'val_loss': 0.04243735637254279, 'val_mloss_tot': tensor(0.0736)}\n"
     ]
    },
    {
     "data": {
      "application/vnd.jupyter.widget-view+json": {
       "model_id": "608115247f9547a4ac8e8b4461948398",
       "version_major": 2,
       "version_minor": 0
      },
      "text/plain": [
       "HBox(children=(IntProgress(value=0, max=815), HTML(value='')))"
      ]
     },
     "metadata": {},
     "output_type": "display_data"
    },
    {
     "data": {
      "application/vnd.jupyter.widget-view+json": {
       "model_id": "54f5a1f82f4f4eac820fb7d746887ac5",
       "version_major": 2,
       "version_minor": 0
      },
      "text/plain": [
       "HBox(children=(IntProgress(value=0, max=406), HTML(value='')))"
      ]
     },
     "metadata": {},
     "output_type": "display_data"
    },
    {
     "name": "stdout",
     "output_type": "stream",
     "text": [
      "{'loss': 0.033720373926601745, 'mloss': tensor(0.0583), 'val_loss': 0.04130904066142411, 'val_mloss_tot': tensor(0.0716)}\n"
     ]
    },
    {
     "data": {
      "application/vnd.jupyter.widget-view+json": {
       "model_id": "4fd4414a0a944315952af72eb768ae61",
       "version_major": 2,
       "version_minor": 0
      },
      "text/plain": [
       "HBox(children=(IntProgress(value=0, max=815), HTML(value='')))"
      ]
     },
     "metadata": {},
     "output_type": "display_data"
    },
    {
     "data": {
      "application/vnd.jupyter.widget-view+json": {
       "model_id": "12420e8e91b54e3c90670c12f5d094e6",
       "version_major": 2,
       "version_minor": 0
      },
      "text/plain": [
       "HBox(children=(IntProgress(value=0, max=406), HTML(value='')))"
      ]
     },
     "metadata": {},
     "output_type": "display_data"
    },
    {
     "name": "stdout",
     "output_type": "stream",
     "text": [
      "{'loss': 0.03447375348036154, 'mloss': tensor(0.0617), 'val_loss': 0.04110039636295454, 'val_mloss_tot': tensor(0.0713)}\n"
     ]
    },
    {
     "data": {
      "application/vnd.jupyter.widget-view+json": {
       "model_id": "cc6cde4977554e4b90d36ccde501cfef",
       "version_major": 2,
       "version_minor": 0
      },
      "text/plain": [
       "HBox(children=(IntProgress(value=0, max=815), HTML(value='')))"
      ]
     },
     "metadata": {},
     "output_type": "display_data"
    },
    {
     "data": {
      "application/vnd.jupyter.widget-view+json": {
       "model_id": "0c426562c751495dbaa16b3b25a34f00",
       "version_major": 2,
       "version_minor": 0
      },
      "text/plain": [
       "HBox(children=(IntProgress(value=0, max=406), HTML(value='')))"
      ]
     },
     "metadata": {},
     "output_type": "display_data"
    },
    {
     "name": "stdout",
     "output_type": "stream",
     "text": [
      "{'loss': 0.033394811862625544, 'mloss': tensor(0.0590), 'val_loss': 0.04102570798794, 'val_mloss_tot': tensor(0.0711)}\n"
     ]
    },
    {
     "data": {
      "application/vnd.jupyter.widget-view+json": {
       "model_id": "dce4d02c728b4fd192d9e7cdcf0de2ca",
       "version_major": 2,
       "version_minor": 0
      },
      "text/plain": [
       "HBox(children=(IntProgress(value=0, max=815), HTML(value='')))"
      ]
     },
     "metadata": {},
     "output_type": "display_data"
    },
    {
     "data": {
      "application/vnd.jupyter.widget-view+json": {
       "model_id": "0c3fa911041946e68df226a9dfa98e9e",
       "version_major": 2,
       "version_minor": 0
      },
      "text/plain": [
       "HBox(children=(IntProgress(value=0, max=406), HTML(value='')))"
      ]
     },
     "metadata": {},
     "output_type": "display_data"
    },
    {
     "name": "stdout",
     "output_type": "stream",
     "text": [
      "{'loss': 0.034096198459671725, 'mloss': tensor(0.0596), 'val_loss': 0.04228010309717889, 'val_mloss_tot': tensor(0.0733)}\n"
     ]
    },
    {
     "data": {
      "application/vnd.jupyter.widget-view+json": {
       "model_id": "90a9b0b789764edb84f8e54b2c12351f",
       "version_major": 2,
       "version_minor": 0
      },
      "text/plain": [
       "HBox(children=(IntProgress(value=0, max=815), HTML(value='')))"
      ]
     },
     "metadata": {},
     "output_type": "display_data"
    },
    {
     "data": {
      "application/vnd.jupyter.widget-view+json": {
       "model_id": "bb988479890f4c3da8ea6f49654e9480",
       "version_major": 2,
       "version_minor": 0
      },
      "text/plain": [
       "HBox(children=(IntProgress(value=0, max=406), HTML(value='')))"
      ]
     },
     "metadata": {},
     "output_type": "display_data"
    },
    {
     "name": "stdout",
     "output_type": "stream",
     "text": [
      "{'loss': 0.03390912650577671, 'mloss': tensor(0.0623), 'val_loss': 0.04164212059087391, 'val_mloss_tot': tensor(0.0722)}\n"
     ]
    },
    {
     "data": {
      "application/vnd.jupyter.widget-view+json": {
       "model_id": "2c8c26b9e4374428840b25d649bb7132",
       "version_major": 2,
       "version_minor": 0
      },
      "text/plain": [
       "HBox(children=(IntProgress(value=0, max=815), HTML(value='')))"
      ]
     },
     "metadata": {},
     "output_type": "display_data"
    },
    {
     "data": {
      "application/vnd.jupyter.widget-view+json": {
       "model_id": "84f202a6e71f4ff693961f03edb09570",
       "version_major": 2,
       "version_minor": 0
      },
      "text/plain": [
       "HBox(children=(IntProgress(value=0, max=406), HTML(value='')))"
      ]
     },
     "metadata": {},
     "output_type": "display_data"
    },
    {
     "name": "stdout",
     "output_type": "stream",
     "text": [
      "{'loss': 0.03288706184612296, 'mloss': tensor(0.0572), 'val_loss': 0.04087763877351553, 'val_mloss_tot': tensor(0.0709)}\n"
     ]
    },
    {
     "data": {
      "application/vnd.jupyter.widget-view+json": {
       "model_id": "3a8fb929fa204ef5aa64453e370b60f3",
       "version_major": 2,
       "version_minor": 0
      },
      "text/plain": [
       "HBox(children=(IntProgress(value=0, max=815), HTML(value='')))"
      ]
     },
     "metadata": {},
     "output_type": "display_data"
    },
    {
     "data": {
      "application/vnd.jupyter.widget-view+json": {
       "model_id": "72b5325b63594dcf9c1a1c076e5c0417",
       "version_major": 2,
       "version_minor": 0
      },
      "text/plain": [
       "HBox(children=(IntProgress(value=0, max=406), HTML(value='')))"
      ]
     },
     "metadata": {},
     "output_type": "display_data"
    },
    {
     "name": "stdout",
     "output_type": "stream",
     "text": [
      "{'loss': 0.033502706377514874, 'mloss': tensor(0.0574), 'val_loss': 0.041198845903430446, 'val_mloss_tot': tensor(0.0714)}\n"
     ]
    },
    {
     "data": {
      "application/vnd.jupyter.widget-view+json": {
       "model_id": "dccbec98b8ce405bb85f929c7c70ab0f",
       "version_major": 2,
       "version_minor": 0
      },
      "text/plain": [
       "HBox(children=(IntProgress(value=0, max=815), HTML(value='')))"
      ]
     },
     "metadata": {},
     "output_type": "display_data"
    },
    {
     "data": {
      "application/vnd.jupyter.widget-view+json": {
       "model_id": "6e6c8250ec2347d5bb6db24245a9078f",
       "version_major": 2,
       "version_minor": 0
      },
      "text/plain": [
       "HBox(children=(IntProgress(value=0, max=406), HTML(value='')))"
      ]
     },
     "metadata": {},
     "output_type": "display_data"
    },
    {
     "name": "stdout",
     "output_type": "stream",
     "text": [
      "{'loss': 0.03507642447069395, 'mloss': tensor(0.0630), 'val_loss': 0.04169940488101006, 'val_mloss_tot': tensor(0.0723)}\n"
     ]
    },
    {
     "data": {
      "application/vnd.jupyter.widget-view+json": {
       "model_id": "fe81676545f0467d94382b6ec25eb378",
       "version_major": 2,
       "version_minor": 0
      },
      "text/plain": [
       "HBox(children=(IntProgress(value=0, max=815), HTML(value='')))"
      ]
     },
     "metadata": {},
     "output_type": "display_data"
    },
    {
     "data": {
      "application/vnd.jupyter.widget-view+json": {
       "model_id": "50c73bb106314f9199f0a242aaff3e62",
       "version_major": 2,
       "version_minor": 0
      },
      "text/plain": [
       "HBox(children=(IntProgress(value=0, max=406), HTML(value='')))"
      ]
     },
     "metadata": {},
     "output_type": "display_data"
    },
    {
     "name": "stdout",
     "output_type": "stream",
     "text": [
      "{'loss': 0.033892259277553745, 'mloss': tensor(0.0601), 'val_loss': 0.04111255915018872, 'val_mloss_tot': tensor(0.0713)}\n"
     ]
    },
    {
     "data": {
      "application/vnd.jupyter.widget-view+json": {
       "model_id": "59d8a7180c5a4f508f118d8b0c30be1e",
       "version_major": 2,
       "version_minor": 0
      },
      "text/plain": [
       "HBox(children=(IntProgress(value=0, max=815), HTML(value='')))"
      ]
     },
     "metadata": {},
     "output_type": "display_data"
    },
    {
     "data": {
      "application/vnd.jupyter.widget-view+json": {
       "model_id": "2de58bec9ed34a1bb7c6e31890e7b8c2",
       "version_major": 2,
       "version_minor": 0
      },
      "text/plain": [
       "HBox(children=(IntProgress(value=0, max=406), HTML(value='')))"
      ]
     },
     "metadata": {},
     "output_type": "display_data"
    },
    {
     "name": "stdout",
     "output_type": "stream",
     "text": [
      "{'loss': 0.03212732172041066, 'mloss': tensor(0.0542), 'val_loss': 0.04114859897455228, 'val_mloss_tot': tensor(0.0713)}\n"
     ]
    },
    {
     "data": {
      "application/vnd.jupyter.widget-view+json": {
       "model_id": "faad08e1983f465e885b84e59be9a3fa",
       "version_major": 2,
       "version_minor": 0
      },
      "text/plain": [
       "HBox(children=(IntProgress(value=0, max=815), HTML(value='')))"
      ]
     },
     "metadata": {},
     "output_type": "display_data"
    },
    {
     "data": {
      "application/vnd.jupyter.widget-view+json": {
       "model_id": "61f96324a0a54a1aa4cd2f51bf22b524",
       "version_major": 2,
       "version_minor": 0
      },
      "text/plain": [
       "HBox(children=(IntProgress(value=0, max=406), HTML(value='')))"
      ]
     },
     "metadata": {},
     "output_type": "display_data"
    },
    {
     "name": "stdout",
     "output_type": "stream",
     "text": [
      "{'loss': 0.03096630701943566, 'mloss': tensor(0.0518), 'val_loss': 0.040959791913445065, 'val_mloss_tot': tensor(0.0710)}\n",
      "\n"
     ]
    },
    {
     "data": {
      "application/vnd.jupyter.widget-view+json": {
       "model_id": "078a7a4cebbc4ca1a1bd7f9280e05ecc",
       "version_major": 2,
       "version_minor": 0
      },
      "text/plain": [
       "HBox(children=(IntProgress(value=0, max=406), HTML(value='')))"
      ]
     },
     "metadata": {},
     "output_type": "display_data"
    },
    {
     "name": "stdout",
     "output_type": "stream",
     "text": [
      "\n",
      "(0.040747087600232636, {'val_loss': 0.040747087600232636, 'val_mloss_tot': tensor(0.0706)})\n"
     ]
    }
   ],
   "source": [
    "%matplotlib nbagg\n",
    "model_name,version, num_split = 'Densenet201_3' , 'classifier_splits',2\n",
    "pickle_file=open(outputs_dir+outputs_format.format(model_name,version,'features_train_tta',num_split),'rb')\n",
    "features=pickle.load(pickle_file)\n",
    "pickle_file.close()\n",
    "features.shape\n",
    "\n",
    "features=features.reshape(features.shape[0]//4,4,-1)\n",
    "features.shape\n",
    "split_train = train_df[train_df.PID.isin(set(split_sid[splits[num_split][0]]))].SeriesI.unique()\n",
    "split_validate =  train_df[train_df.PID.isin(set(split_sid[splits[num_split][1]]))].SeriesI.unique()\n",
    "\n",
    "np.random.seed(SEED+num_split)\n",
    "torch.manual_seed(SEED+num_split)\n",
    "torch.cuda.manual_seed(SEED+num_split)\n",
    "torch.backends.cudnn.deterministic = True\n",
    "batch_size=16\n",
    "num_workers=18\n",
    "num_epochs=16\n",
    "klr=1\n",
    "weights = torch.tensor([1.,1.,1.,1.,1.,2.],device=device)\n",
    "train_dataset=FullHeadDataset(train_df,\n",
    "                              split_train,\n",
    "                              features,\n",
    "                              'SeriesI',\n",
    "                              'ImagePositionZ',\n",
    "                              hemorrhage_types)                \n",
    "validate_dataset=FullHeadDataset(train_df,\n",
    "                                 split_validate,\n",
    "                                 features[:,0,:],\n",
    "                                 'SeriesI',\n",
    "                                 'ImagePositionZ',\n",
    "                                 hemorrhage_types)                \n",
    "\n",
    "model=ResModel(features.shape[-1])\n",
    "version=version+'_fullhead_resmodel'\n",
    "_=model.to(device)\n",
    "\n",
    "loss_func=my_loss\n",
    "fig,ax = plt.subplots(figsize=(10,7))\n",
    "gr=loss_graph(fig,ax,num_epochs,len(train_dataset)//batch_size+1,limits=[0.02,0.06])\n",
    "num_train_optimization_steps = num_epochs*(len(train_dataset)//batch_size+int(len(train_dataset)%batch_size>0))\n",
    "sched=WarmupExpCosineWithWarmupRestartsSchedule( t_total=num_train_optimization_steps, cycles=num_epochs//4,tau=0)\n",
    "optimizer = BertAdam(model.parameters(),lr=klr*1e-3,schedule=sched)\n",
    "history,best_model= model_train(model,\n",
    "                                optimizer,\n",
    "                                train_dataset,\n",
    "                                batch_size,\n",
    "                                num_epochs,\n",
    "                                loss_func,\n",
    "                                weights=weights,\n",
    "                                do_apex=False,\n",
    "                                validate_dataset=validate_dataset,\n",
    "                                param_schedualer=None,\n",
    "                                weights_data=None,\n",
    "                                metric=Metric(torch.tensor([1.,1.,1.,1.,1.,2.])),\n",
    "                                return_model=True,\n",
    "                                best_average=3,\n",
    "                                num_workers=num_workers,\n",
    "                                sampler=None,\n",
    "                                graph=gr)\n",
    "torch.save(best_model.state_dict(), models_dir+models_format.format(model_name,version,num_split))"
   ]
  },
  {
   "cell_type": "code",
   "execution_count": 26,
   "metadata": {},
   "outputs": [
    {
     "data": {
      "application/vnd.jupyter.widget-view+json": {
       "model_id": "f8aea6abd5ee4400bc8f5e35ebf42b3a",
       "version_major": 2,
       "version_minor": 0
      },
      "text/plain": [
       "HBox(children=(IntProgress(value=0, max=3), HTML(value='')))"
      ]
     },
     "metadata": {},
     "output_type": "display_data"
    },
    {
     "data": {
      "text/plain": [
       "<All keys matched successfully>"
      ]
     },
     "execution_count": 26,
     "metadata": {},
     "output_type": "execute_result"
    },
    {
     "data": {
      "application/vnd.jupyter.widget-view+json": {
       "model_id": "",
       "version_major": 2,
       "version_minor": 0
      },
      "text/plain": [
       "HBox(children=(IntProgress(value=0, max=32), HTML(value='')))"
      ]
     },
     "metadata": {},
     "output_type": "display_data"
    },
    {
     "data": {
      "application/vnd.jupyter.widget-view+json": {
       "model_id": "714965c015ef47faa579e7392a83abb9",
       "version_major": 2,
       "version_minor": 0
      },
      "text/plain": [
       "HBox(children=(IntProgress(value=0, max=18), HTML(value='')))"
      ]
     },
     "metadata": {},
     "output_type": "display_data"
    },
    {
     "data": {
      "application/vnd.jupyter.widget-view+json": {
       "model_id": "4611b236ae194d66a911905d1a81dd96",
       "version_major": 2,
       "version_minor": 0
      },
      "text/plain": [
       "HBox(children=(IntProgress(value=0, max=18), HTML(value='')))"
      ]
     },
     "metadata": {},
     "output_type": "display_data"
    },
    {
     "data": {
      "application/vnd.jupyter.widget-view+json": {
       "model_id": "88deed062154446295c66272018f2272",
       "version_major": 2,
       "version_minor": 0
      },
      "text/plain": [
       "HBox(children=(IntProgress(value=0, max=18), HTML(value='')))"
      ]
     },
     "metadata": {},
     "output_type": "display_data"
    },
    {
     "data": {
      "application/vnd.jupyter.widget-view+json": {
       "model_id": "150552985d384d08a24af1d162afe78f",
       "version_major": 2,
       "version_minor": 0
      },
      "text/plain": [
       "HBox(children=(IntProgress(value=0, max=18), HTML(value='')))"
      ]
     },
     "metadata": {},
     "output_type": "display_data"
    },
    {
     "data": {
      "application/vnd.jupyter.widget-view+json": {
       "model_id": "6489509aa9714fa78dcbdad826d8a8aa",
       "version_major": 2,
       "version_minor": 0
      },
      "text/plain": [
       "HBox(children=(IntProgress(value=0, max=18), HTML(value='')))"
      ]
     },
     "metadata": {},
     "output_type": "display_data"
    },
    {
     "data": {
      "application/vnd.jupyter.widget-view+json": {
       "model_id": "c1b0d553706f455bb27726f8209a223c",
       "version_major": 2,
       "version_minor": 0
      },
      "text/plain": [
       "HBox(children=(IntProgress(value=0, max=18), HTML(value='')))"
      ]
     },
     "metadata": {},
     "output_type": "display_data"
    },
    {
     "data": {
      "application/vnd.jupyter.widget-view+json": {
       "model_id": "9ceee89d6fdd44f8b76830ba582fa78a",
       "version_major": 2,
       "version_minor": 0
      },
      "text/plain": [
       "HBox(children=(IntProgress(value=0, max=18), HTML(value='')))"
      ]
     },
     "metadata": {},
     "output_type": "display_data"
    },
    {
     "data": {
      "application/vnd.jupyter.widget-view+json": {
       "model_id": "e044c123aae34953bcb2ab7d3c98642a",
       "version_major": 2,
       "version_minor": 0
      },
      "text/plain": [
       "HBox(children=(IntProgress(value=0, max=18), HTML(value='')))"
      ]
     },
     "metadata": {},
     "output_type": "display_data"
    },
    {
     "data": {
      "application/vnd.jupyter.widget-view+json": {
       "model_id": "4ff2b54b8ab14d2e98b5098771b527a6",
       "version_major": 2,
       "version_minor": 0
      },
      "text/plain": [
       "HBox(children=(IntProgress(value=0, max=18), HTML(value='')))"
      ]
     },
     "metadata": {},
     "output_type": "display_data"
    },
    {
     "data": {
      "application/vnd.jupyter.widget-view+json": {
       "model_id": "fb2a28ec1fcb47ce9acd315bb17479db",
       "version_major": 2,
       "version_minor": 0
      },
      "text/plain": [
       "HBox(children=(IntProgress(value=0, max=18), HTML(value='')))"
      ]
     },
     "metadata": {},
     "output_type": "display_data"
    },
    {
     "data": {
      "application/vnd.jupyter.widget-view+json": {
       "model_id": "375fd93d437a4c05ae6bee89521d3203",
       "version_major": 2,
       "version_minor": 0
      },
      "text/plain": [
       "HBox(children=(IntProgress(value=0, max=18), HTML(value='')))"
      ]
     },
     "metadata": {},
     "output_type": "display_data"
    },
    {
     "data": {
      "application/vnd.jupyter.widget-view+json": {
       "model_id": "def07b0af2324a68b439a8cc8189f3e7",
       "version_major": 2,
       "version_minor": 0
      },
      "text/plain": [
       "HBox(children=(IntProgress(value=0, max=18), HTML(value='')))"
      ]
     },
     "metadata": {},
     "output_type": "display_data"
    },
    {
     "data": {
      "application/vnd.jupyter.widget-view+json": {
       "model_id": "d4ad58ccc3234394bb187719c443cfe1",
       "version_major": 2,
       "version_minor": 0
      },
      "text/plain": [
       "HBox(children=(IntProgress(value=0, max=18), HTML(value='')))"
      ]
     },
     "metadata": {},
     "output_type": "display_data"
    },
    {
     "data": {
      "application/vnd.jupyter.widget-view+json": {
       "model_id": "7b698c1a37624064bea45d9dffbf972e",
       "version_major": 2,
       "version_minor": 0
      },
      "text/plain": [
       "HBox(children=(IntProgress(value=0, max=18), HTML(value='')))"
      ]
     },
     "metadata": {},
     "output_type": "display_data"
    },
    {
     "data": {
      "application/vnd.jupyter.widget-view+json": {
       "model_id": "ecdbab4cbe76471b80b095ef3c2591ad",
       "version_major": 2,
       "version_minor": 0
      },
      "text/plain": [
       "HBox(children=(IntProgress(value=0, max=18), HTML(value='')))"
      ]
     },
     "metadata": {},
     "output_type": "display_data"
    },
    {
     "data": {
      "application/vnd.jupyter.widget-view+json": {
       "model_id": "f208da31a3f14fb5be0dc7151f33e9b2",
       "version_major": 2,
       "version_minor": 0
      },
      "text/plain": [
       "HBox(children=(IntProgress(value=0, max=18), HTML(value='')))"
      ]
     },
     "metadata": {},
     "output_type": "display_data"
    },
    {
     "data": {
      "application/vnd.jupyter.widget-view+json": {
       "model_id": "181ecd0e30624ef692efd9c3b5fd49e8",
       "version_major": 2,
       "version_minor": 0
      },
      "text/plain": [
       "HBox(children=(IntProgress(value=0, max=18), HTML(value='')))"
      ]
     },
     "metadata": {},
     "output_type": "display_data"
    },
    {
     "data": {
      "application/vnd.jupyter.widget-view+json": {
       "model_id": "050cb1b969da45ec858ebdf366999cd0",
       "version_major": 2,
       "version_minor": 0
      },
      "text/plain": [
       "HBox(children=(IntProgress(value=0, max=18), HTML(value='')))"
      ]
     },
     "metadata": {},
     "output_type": "display_data"
    },
    {
     "data": {
      "application/vnd.jupyter.widget-view+json": {
       "model_id": "568f7f0822414996ad793ff5ab034c05",
       "version_major": 2,
       "version_minor": 0
      },
      "text/plain": [
       "HBox(children=(IntProgress(value=0, max=18), HTML(value='')))"
      ]
     },
     "metadata": {},
     "output_type": "display_data"
    },
    {
     "data": {
      "application/vnd.jupyter.widget-view+json": {
       "model_id": "7a03203ce2ba4694bdc63f40e9ed7603",
       "version_major": 2,
       "version_minor": 0
      },
      "text/plain": [
       "HBox(children=(IntProgress(value=0, max=18), HTML(value='')))"
      ]
     },
     "metadata": {},
     "output_type": "display_data"
    },
    {
     "data": {
      "application/vnd.jupyter.widget-view+json": {
       "model_id": "8be177592701496b9612b71cd75db6a6",
       "version_major": 2,
       "version_minor": 0
      },
      "text/plain": [
       "HBox(children=(IntProgress(value=0, max=18), HTML(value='')))"
      ]
     },
     "metadata": {},
     "output_type": "display_data"
    },
    {
     "data": {
      "application/vnd.jupyter.widget-view+json": {
       "model_id": "514bd7f1596b43978fd27ca20fce283a",
       "version_major": 2,
       "version_minor": 0
      },
      "text/plain": [
       "HBox(children=(IntProgress(value=0, max=18), HTML(value='')))"
      ]
     },
     "metadata": {},
     "output_type": "display_data"
    },
    {
     "data": {
      "application/vnd.jupyter.widget-view+json": {
       "model_id": "d4f170f494be489c8d78f7df4558067c",
       "version_major": 2,
       "version_minor": 0
      },
      "text/plain": [
       "HBox(children=(IntProgress(value=0, max=18), HTML(value='')))"
      ]
     },
     "metadata": {},
     "output_type": "display_data"
    },
    {
     "data": {
      "application/vnd.jupyter.widget-view+json": {
       "model_id": "cfd439dc425a448a877e1da62f020eab",
       "version_major": 2,
       "version_minor": 0
      },
      "text/plain": [
       "HBox(children=(IntProgress(value=0, max=18), HTML(value='')))"
      ]
     },
     "metadata": {},
     "output_type": "display_data"
    },
    {
     "data": {
      "application/vnd.jupyter.widget-view+json": {
       "model_id": "f39614124e0d4d65a3960d348732abbb",
       "version_major": 2,
       "version_minor": 0
      },
      "text/plain": [
       "HBox(children=(IntProgress(value=0, max=18), HTML(value='')))"
      ]
     },
     "metadata": {},
     "output_type": "display_data"
    },
    {
     "data": {
      "application/vnd.jupyter.widget-view+json": {
       "model_id": "b27ed43c1e1e4b3b9050f74172280809",
       "version_major": 2,
       "version_minor": 0
      },
      "text/plain": [
       "HBox(children=(IntProgress(value=0, max=18), HTML(value='')))"
      ]
     },
     "metadata": {},
     "output_type": "display_data"
    },
    {
     "data": {
      "application/vnd.jupyter.widget-view+json": {
       "model_id": "0871ac7c861c4967bd90b621a4cb31de",
       "version_major": 2,
       "version_minor": 0
      },
      "text/plain": [
       "HBox(children=(IntProgress(value=0, max=18), HTML(value='')))"
      ]
     },
     "metadata": {},
     "output_type": "display_data"
    },
    {
     "data": {
      "application/vnd.jupyter.widget-view+json": {
       "model_id": "54130842612a4d938362c6074b2ac157",
       "version_major": 2,
       "version_minor": 0
      },
      "text/plain": [
       "HBox(children=(IntProgress(value=0, max=18), HTML(value='')))"
      ]
     },
     "metadata": {},
     "output_type": "display_data"
    },
    {
     "data": {
      "application/vnd.jupyter.widget-view+json": {
       "model_id": "27e85013121d4631bc72050ee5993ea9",
       "version_major": 2,
       "version_minor": 0
      },
      "text/plain": [
       "HBox(children=(IntProgress(value=0, max=18), HTML(value='')))"
      ]
     },
     "metadata": {},
     "output_type": "display_data"
    },
    {
     "data": {
      "application/vnd.jupyter.widget-view+json": {
       "model_id": "85158a1a202a4876b96985c7fa3e4769",
       "version_major": 2,
       "version_minor": 0
      },
      "text/plain": [
       "HBox(children=(IntProgress(value=0, max=18), HTML(value='')))"
      ]
     },
     "metadata": {},
     "output_type": "display_data"
    },
    {
     "data": {
      "application/vnd.jupyter.widget-view+json": {
       "model_id": "0883c577617044a094b281471f9c9a8e",
       "version_major": 2,
       "version_minor": 0
      },
      "text/plain": [
       "HBox(children=(IntProgress(value=0, max=18), HTML(value='')))"
      ]
     },
     "metadata": {},
     "output_type": "display_data"
    },
    {
     "data": {
      "application/vnd.jupyter.widget-view+json": {
       "model_id": "f2c49905c0ec42718a76a741413eed20",
       "version_major": 2,
       "version_minor": 0
      },
      "text/plain": [
       "HBox(children=(IntProgress(value=0, max=18), HTML(value='')))"
      ]
     },
     "metadata": {},
     "output_type": "display_data"
    },
    {
     "data": {
      "text/plain": [
       "<All keys matched successfully>"
      ]
     },
     "execution_count": 26,
     "metadata": {},
     "output_type": "execute_result"
    },
    {
     "data": {
      "application/vnd.jupyter.widget-view+json": {
       "model_id": "",
       "version_major": 2,
       "version_minor": 0
      },
      "text/plain": [
       "HBox(children=(IntProgress(value=0, max=32), HTML(value='')))"
      ]
     },
     "metadata": {},
     "output_type": "display_data"
    },
    {
     "data": {
      "application/vnd.jupyter.widget-view+json": {
       "model_id": "43e875c2283345a0802ab6a302d789ca",
       "version_major": 2,
       "version_minor": 0
      },
      "text/plain": [
       "HBox(children=(IntProgress(value=0, max=18), HTML(value='')))"
      ]
     },
     "metadata": {},
     "output_type": "display_data"
    },
    {
     "data": {
      "application/vnd.jupyter.widget-view+json": {
       "model_id": "fda7926a4e57424caf752638ac3e3c6d",
       "version_major": 2,
       "version_minor": 0
      },
      "text/plain": [
       "HBox(children=(IntProgress(value=0, max=18), HTML(value='')))"
      ]
     },
     "metadata": {},
     "output_type": "display_data"
    },
    {
     "data": {
      "application/vnd.jupyter.widget-view+json": {
       "model_id": "f017a1b38a254ddd8ce86aeae410602d",
       "version_major": 2,
       "version_minor": 0
      },
      "text/plain": [
       "HBox(children=(IntProgress(value=0, max=18), HTML(value='')))"
      ]
     },
     "metadata": {},
     "output_type": "display_data"
    },
    {
     "data": {
      "application/vnd.jupyter.widget-view+json": {
       "model_id": "4717a42e7b584d37a5748664cf92e5a3",
       "version_major": 2,
       "version_minor": 0
      },
      "text/plain": [
       "HBox(children=(IntProgress(value=0, max=18), HTML(value='')))"
      ]
     },
     "metadata": {},
     "output_type": "display_data"
    },
    {
     "data": {
      "application/vnd.jupyter.widget-view+json": {
       "model_id": "31738a42b06743f484667e241892c471",
       "version_major": 2,
       "version_minor": 0
      },
      "text/plain": [
       "HBox(children=(IntProgress(value=0, max=18), HTML(value='')))"
      ]
     },
     "metadata": {},
     "output_type": "display_data"
    },
    {
     "data": {
      "application/vnd.jupyter.widget-view+json": {
       "model_id": "e070eb1ec255458e960cb5480e230a37",
       "version_major": 2,
       "version_minor": 0
      },
      "text/plain": [
       "HBox(children=(IntProgress(value=0, max=18), HTML(value='')))"
      ]
     },
     "metadata": {},
     "output_type": "display_data"
    },
    {
     "data": {
      "application/vnd.jupyter.widget-view+json": {
       "model_id": "79fdadf5674d4f3c9735df71c34eaeae",
       "version_major": 2,
       "version_minor": 0
      },
      "text/plain": [
       "HBox(children=(IntProgress(value=0, max=18), HTML(value='')))"
      ]
     },
     "metadata": {},
     "output_type": "display_data"
    },
    {
     "data": {
      "application/vnd.jupyter.widget-view+json": {
       "model_id": "d3193286f1ff4c4ca0609b2be77247c1",
       "version_major": 2,
       "version_minor": 0
      },
      "text/plain": [
       "HBox(children=(IntProgress(value=0, max=18), HTML(value='')))"
      ]
     },
     "metadata": {},
     "output_type": "display_data"
    },
    {
     "data": {
      "application/vnd.jupyter.widget-view+json": {
       "model_id": "dbd87d36cbf0441dbfa22ac441897189",
       "version_major": 2,
       "version_minor": 0
      },
      "text/plain": [
       "HBox(children=(IntProgress(value=0, max=18), HTML(value='')))"
      ]
     },
     "metadata": {},
     "output_type": "display_data"
    },
    {
     "data": {
      "application/vnd.jupyter.widget-view+json": {
       "model_id": "2f59167cf2f74708baba19a98deadde6",
       "version_major": 2,
       "version_minor": 0
      },
      "text/plain": [
       "HBox(children=(IntProgress(value=0, max=18), HTML(value='')))"
      ]
     },
     "metadata": {},
     "output_type": "display_data"
    },
    {
     "data": {
      "application/vnd.jupyter.widget-view+json": {
       "model_id": "8b23c71a7a844c0eb4442f611aaf6bf2",
       "version_major": 2,
       "version_minor": 0
      },
      "text/plain": [
       "HBox(children=(IntProgress(value=0, max=18), HTML(value='')))"
      ]
     },
     "metadata": {},
     "output_type": "display_data"
    },
    {
     "data": {
      "application/vnd.jupyter.widget-view+json": {
       "model_id": "ab0c19d01992474dbef62eb8d56cbf96",
       "version_major": 2,
       "version_minor": 0
      },
      "text/plain": [
       "HBox(children=(IntProgress(value=0, max=18), HTML(value='')))"
      ]
     },
     "metadata": {},
     "output_type": "display_data"
    },
    {
     "data": {
      "application/vnd.jupyter.widget-view+json": {
       "model_id": "2ea68a9337af4f4ea2921685b01b7850",
       "version_major": 2,
       "version_minor": 0
      },
      "text/plain": [
       "HBox(children=(IntProgress(value=0, max=18), HTML(value='')))"
      ]
     },
     "metadata": {},
     "output_type": "display_data"
    },
    {
     "data": {
      "application/vnd.jupyter.widget-view+json": {
       "model_id": "22031bab2f404f8c85ccc320c386a047",
       "version_major": 2,
       "version_minor": 0
      },
      "text/plain": [
       "HBox(children=(IntProgress(value=0, max=18), HTML(value='')))"
      ]
     },
     "metadata": {},
     "output_type": "display_data"
    },
    {
     "data": {
      "application/vnd.jupyter.widget-view+json": {
       "model_id": "46f769e78a814e56a3991c091cf8528c",
       "version_major": 2,
       "version_minor": 0
      },
      "text/plain": [
       "HBox(children=(IntProgress(value=0, max=18), HTML(value='')))"
      ]
     },
     "metadata": {},
     "output_type": "display_data"
    },
    {
     "data": {
      "application/vnd.jupyter.widget-view+json": {
       "model_id": "78fec46a74154c2ba81775e943bfb807",
       "version_major": 2,
       "version_minor": 0
      },
      "text/plain": [
       "HBox(children=(IntProgress(value=0, max=18), HTML(value='')))"
      ]
     },
     "metadata": {},
     "output_type": "display_data"
    },
    {
     "data": {
      "application/vnd.jupyter.widget-view+json": {
       "model_id": "a71d5a0d837d44e7aaef1100c3cbeb11",
       "version_major": 2,
       "version_minor": 0
      },
      "text/plain": [
       "HBox(children=(IntProgress(value=0, max=18), HTML(value='')))"
      ]
     },
     "metadata": {},
     "output_type": "display_data"
    },
    {
     "data": {
      "application/vnd.jupyter.widget-view+json": {
       "model_id": "dbd255332d6a4d70bf000412744c263f",
       "version_major": 2,
       "version_minor": 0
      },
      "text/plain": [
       "HBox(children=(IntProgress(value=0, max=18), HTML(value='')))"
      ]
     },
     "metadata": {},
     "output_type": "display_data"
    },
    {
     "data": {
      "application/vnd.jupyter.widget-view+json": {
       "model_id": "5e127ecc85914aa1908900249a154d9d",
       "version_major": 2,
       "version_minor": 0
      },
      "text/plain": [
       "HBox(children=(IntProgress(value=0, max=18), HTML(value='')))"
      ]
     },
     "metadata": {},
     "output_type": "display_data"
    },
    {
     "data": {
      "application/vnd.jupyter.widget-view+json": {
       "model_id": "2f81d774bef04d1ca1b7676e5d26c7f6",
       "version_major": 2,
       "version_minor": 0
      },
      "text/plain": [
       "HBox(children=(IntProgress(value=0, max=18), HTML(value='')))"
      ]
     },
     "metadata": {},
     "output_type": "display_data"
    },
    {
     "data": {
      "application/vnd.jupyter.widget-view+json": {
       "model_id": "d9c2d9a37c6445eea87bade746ce7bba",
       "version_major": 2,
       "version_minor": 0
      },
      "text/plain": [
       "HBox(children=(IntProgress(value=0, max=18), HTML(value='')))"
      ]
     },
     "metadata": {},
     "output_type": "display_data"
    },
    {
     "data": {
      "application/vnd.jupyter.widget-view+json": {
       "model_id": "a3b8f7d8122e4649ab03eeace42ff60b",
       "version_major": 2,
       "version_minor": 0
      },
      "text/plain": [
       "HBox(children=(IntProgress(value=0, max=18), HTML(value='')))"
      ]
     },
     "metadata": {},
     "output_type": "display_data"
    },
    {
     "data": {
      "application/vnd.jupyter.widget-view+json": {
       "model_id": "6b324817bea34193b8ed1f55042daea5",
       "version_major": 2,
       "version_minor": 0
      },
      "text/plain": [
       "HBox(children=(IntProgress(value=0, max=18), HTML(value='')))"
      ]
     },
     "metadata": {},
     "output_type": "display_data"
    },
    {
     "data": {
      "application/vnd.jupyter.widget-view+json": {
       "model_id": "326410e190c844be9e2fc6b2485f287a",
       "version_major": 2,
       "version_minor": 0
      },
      "text/plain": [
       "HBox(children=(IntProgress(value=0, max=18), HTML(value='')))"
      ]
     },
     "metadata": {},
     "output_type": "display_data"
    },
    {
     "data": {
      "application/vnd.jupyter.widget-view+json": {
       "model_id": "f65cdfe54ccb42f4a779777f3bbcb38b",
       "version_major": 2,
       "version_minor": 0
      },
      "text/plain": [
       "HBox(children=(IntProgress(value=0, max=18), HTML(value='')))"
      ]
     },
     "metadata": {},
     "output_type": "display_data"
    },
    {
     "data": {
      "application/vnd.jupyter.widget-view+json": {
       "model_id": "44535ea8359a4483a34b8dea04e22f81",
       "version_major": 2,
       "version_minor": 0
      },
      "text/plain": [
       "HBox(children=(IntProgress(value=0, max=18), HTML(value='')))"
      ]
     },
     "metadata": {},
     "output_type": "display_data"
    },
    {
     "data": {
      "application/vnd.jupyter.widget-view+json": {
       "model_id": "9220449a1d4846f099340a5537e70eba",
       "version_major": 2,
       "version_minor": 0
      },
      "text/plain": [
       "HBox(children=(IntProgress(value=0, max=18), HTML(value='')))"
      ]
     },
     "metadata": {},
     "output_type": "display_data"
    },
    {
     "data": {
      "application/vnd.jupyter.widget-view+json": {
       "model_id": "dd0344fcdca6456a924f829ebb2a6cc5",
       "version_major": 2,
       "version_minor": 0
      },
      "text/plain": [
       "HBox(children=(IntProgress(value=0, max=18), HTML(value='')))"
      ]
     },
     "metadata": {},
     "output_type": "display_data"
    },
    {
     "data": {
      "application/vnd.jupyter.widget-view+json": {
       "model_id": "7a11b9efa35f4bde89feb3f6c9efae11",
       "version_major": 2,
       "version_minor": 0
      },
      "text/plain": [
       "HBox(children=(IntProgress(value=0, max=18), HTML(value='')))"
      ]
     },
     "metadata": {},
     "output_type": "display_data"
    },
    {
     "data": {
      "application/vnd.jupyter.widget-view+json": {
       "model_id": "a16e533226e4410b9fad289b87dd18fd",
       "version_major": 2,
       "version_minor": 0
      },
      "text/plain": [
       "HBox(children=(IntProgress(value=0, max=18), HTML(value='')))"
      ]
     },
     "metadata": {},
     "output_type": "display_data"
    },
    {
     "data": {
      "application/vnd.jupyter.widget-view+json": {
       "model_id": "014b5d0cd16748af86951c27ef21ecdb",
       "version_major": 2,
       "version_minor": 0
      },
      "text/plain": [
       "HBox(children=(IntProgress(value=0, max=18), HTML(value='')))"
      ]
     },
     "metadata": {},
     "output_type": "display_data"
    },
    {
     "data": {
      "application/vnd.jupyter.widget-view+json": {
       "model_id": "5de57088d7244801a6218a66d7ca6162",
       "version_major": 2,
       "version_minor": 0
      },
      "text/plain": [
       "HBox(children=(IntProgress(value=0, max=18), HTML(value='')))"
      ]
     },
     "metadata": {},
     "output_type": "display_data"
    },
    {
     "data": {
      "text/plain": [
       "<All keys matched successfully>"
      ]
     },
     "execution_count": 26,
     "metadata": {},
     "output_type": "execute_result"
    },
    {
     "data": {
      "application/vnd.jupyter.widget-view+json": {
       "model_id": "",
       "version_major": 2,
       "version_minor": 0
      },
      "text/plain": [
       "HBox(children=(IntProgress(value=0, max=32), HTML(value='')))"
      ]
     },
     "metadata": {},
     "output_type": "display_data"
    },
    {
     "data": {
      "application/vnd.jupyter.widget-view+json": {
       "model_id": "d3995fe0bfe647458371e872fd327f00",
       "version_major": 2,
       "version_minor": 0
      },
      "text/plain": [
       "HBox(children=(IntProgress(value=0, max=18), HTML(value='')))"
      ]
     },
     "metadata": {},
     "output_type": "display_data"
    },
    {
     "data": {
      "application/vnd.jupyter.widget-view+json": {
       "model_id": "030d1a0ad7c649ed9e71db3b9d17185a",
       "version_major": 2,
       "version_minor": 0
      },
      "text/plain": [
       "HBox(children=(IntProgress(value=0, max=18), HTML(value='')))"
      ]
     },
     "metadata": {},
     "output_type": "display_data"
    },
    {
     "data": {
      "application/vnd.jupyter.widget-view+json": {
       "model_id": "4abd07d60cee458786eb8d724bac3a61",
       "version_major": 2,
       "version_minor": 0
      },
      "text/plain": [
       "HBox(children=(IntProgress(value=0, max=18), HTML(value='')))"
      ]
     },
     "metadata": {},
     "output_type": "display_data"
    },
    {
     "data": {
      "application/vnd.jupyter.widget-view+json": {
       "model_id": "8445ce1933eb4ac5b5fcae5e4c6e45c9",
       "version_major": 2,
       "version_minor": 0
      },
      "text/plain": [
       "HBox(children=(IntProgress(value=0, max=18), HTML(value='')))"
      ]
     },
     "metadata": {},
     "output_type": "display_data"
    },
    {
     "data": {
      "application/vnd.jupyter.widget-view+json": {
       "model_id": "a55bf3742c084a35bdc55bb872df14d9",
       "version_major": 2,
       "version_minor": 0
      },
      "text/plain": [
       "HBox(children=(IntProgress(value=0, max=18), HTML(value='')))"
      ]
     },
     "metadata": {},
     "output_type": "display_data"
    },
    {
     "data": {
      "application/vnd.jupyter.widget-view+json": {
       "model_id": "19be99ed230c48f6a578366f53ea905e",
       "version_major": 2,
       "version_minor": 0
      },
      "text/plain": [
       "HBox(children=(IntProgress(value=0, max=18), HTML(value='')))"
      ]
     },
     "metadata": {},
     "output_type": "display_data"
    },
    {
     "data": {
      "application/vnd.jupyter.widget-view+json": {
       "model_id": "0c2249ccc1b14442891164bed1e64dd9",
       "version_major": 2,
       "version_minor": 0
      },
      "text/plain": [
       "HBox(children=(IntProgress(value=0, max=18), HTML(value='')))"
      ]
     },
     "metadata": {},
     "output_type": "display_data"
    },
    {
     "data": {
      "application/vnd.jupyter.widget-view+json": {
       "model_id": "fe40a7996bb94dd4b51a6f3f3acb9add",
       "version_major": 2,
       "version_minor": 0
      },
      "text/plain": [
       "HBox(children=(IntProgress(value=0, max=18), HTML(value='')))"
      ]
     },
     "metadata": {},
     "output_type": "display_data"
    },
    {
     "data": {
      "application/vnd.jupyter.widget-view+json": {
       "model_id": "a167c497d3534b12aede6ccfb4bb27a3",
       "version_major": 2,
       "version_minor": 0
      },
      "text/plain": [
       "HBox(children=(IntProgress(value=0, max=18), HTML(value='')))"
      ]
     },
     "metadata": {},
     "output_type": "display_data"
    },
    {
     "data": {
      "application/vnd.jupyter.widget-view+json": {
       "model_id": "a48ebbe48e6b4714adadab932d11c7f6",
       "version_major": 2,
       "version_minor": 0
      },
      "text/plain": [
       "HBox(children=(IntProgress(value=0, max=18), HTML(value='')))"
      ]
     },
     "metadata": {},
     "output_type": "display_data"
    },
    {
     "data": {
      "application/vnd.jupyter.widget-view+json": {
       "model_id": "c9b258e679234a4e9af50ae5b6b52ed2",
       "version_major": 2,
       "version_minor": 0
      },
      "text/plain": [
       "HBox(children=(IntProgress(value=0, max=18), HTML(value='')))"
      ]
     },
     "metadata": {},
     "output_type": "display_data"
    },
    {
     "data": {
      "application/vnd.jupyter.widget-view+json": {
       "model_id": "b6fbbb33310e491e86d526f55938177e",
       "version_major": 2,
       "version_minor": 0
      },
      "text/plain": [
       "HBox(children=(IntProgress(value=0, max=18), HTML(value='')))"
      ]
     },
     "metadata": {},
     "output_type": "display_data"
    },
    {
     "data": {
      "application/vnd.jupyter.widget-view+json": {
       "model_id": "d76c39e91e0646b8a8569be02e64751d",
       "version_major": 2,
       "version_minor": 0
      },
      "text/plain": [
       "HBox(children=(IntProgress(value=0, max=18), HTML(value='')))"
      ]
     },
     "metadata": {},
     "output_type": "display_data"
    },
    {
     "data": {
      "application/vnd.jupyter.widget-view+json": {
       "model_id": "e6cc596fbe634872a930dc14aa1f7cbb",
       "version_major": 2,
       "version_minor": 0
      },
      "text/plain": [
       "HBox(children=(IntProgress(value=0, max=18), HTML(value='')))"
      ]
     },
     "metadata": {},
     "output_type": "display_data"
    },
    {
     "data": {
      "application/vnd.jupyter.widget-view+json": {
       "model_id": "e948c5a068da444285f9705fa9d4d6b0",
       "version_major": 2,
       "version_minor": 0
      },
      "text/plain": [
       "HBox(children=(IntProgress(value=0, max=18), HTML(value='')))"
      ]
     },
     "metadata": {},
     "output_type": "display_data"
    },
    {
     "data": {
      "application/vnd.jupyter.widget-view+json": {
       "model_id": "3110c5f3b6cb4f6195fabeac5976288c",
       "version_major": 2,
       "version_minor": 0
      },
      "text/plain": [
       "HBox(children=(IntProgress(value=0, max=18), HTML(value='')))"
      ]
     },
     "metadata": {},
     "output_type": "display_data"
    },
    {
     "data": {
      "application/vnd.jupyter.widget-view+json": {
       "model_id": "1071ce1d877d46a388c6424264605786",
       "version_major": 2,
       "version_minor": 0
      },
      "text/plain": [
       "HBox(children=(IntProgress(value=0, max=18), HTML(value='')))"
      ]
     },
     "metadata": {},
     "output_type": "display_data"
    },
    {
     "data": {
      "application/vnd.jupyter.widget-view+json": {
       "model_id": "701734a18182410ea0e0249ebe1e4a86",
       "version_major": 2,
       "version_minor": 0
      },
      "text/plain": [
       "HBox(children=(IntProgress(value=0, max=18), HTML(value='')))"
      ]
     },
     "metadata": {},
     "output_type": "display_data"
    },
    {
     "data": {
      "application/vnd.jupyter.widget-view+json": {
       "model_id": "324526b666b34ecab7a287f976621c27",
       "version_major": 2,
       "version_minor": 0
      },
      "text/plain": [
       "HBox(children=(IntProgress(value=0, max=18), HTML(value='')))"
      ]
     },
     "metadata": {},
     "output_type": "display_data"
    },
    {
     "data": {
      "application/vnd.jupyter.widget-view+json": {
       "model_id": "84d0d5e71e49425381c0ce16938392fd",
       "version_major": 2,
       "version_minor": 0
      },
      "text/plain": [
       "HBox(children=(IntProgress(value=0, max=18), HTML(value='')))"
      ]
     },
     "metadata": {},
     "output_type": "display_data"
    },
    {
     "data": {
      "application/vnd.jupyter.widget-view+json": {
       "model_id": "6b7b13ea38e9476d8ff1c025368a789d",
       "version_major": 2,
       "version_minor": 0
      },
      "text/plain": [
       "HBox(children=(IntProgress(value=0, max=18), HTML(value='')))"
      ]
     },
     "metadata": {},
     "output_type": "display_data"
    },
    {
     "data": {
      "application/vnd.jupyter.widget-view+json": {
       "model_id": "4fdb5f5946174b708891692d3931b107",
       "version_major": 2,
       "version_minor": 0
      },
      "text/plain": [
       "HBox(children=(IntProgress(value=0, max=18), HTML(value='')))"
      ]
     },
     "metadata": {},
     "output_type": "display_data"
    },
    {
     "data": {
      "application/vnd.jupyter.widget-view+json": {
       "model_id": "e16dc7e6bb7e458da95665a64af67aeb",
       "version_major": 2,
       "version_minor": 0
      },
      "text/plain": [
       "HBox(children=(IntProgress(value=0, max=18), HTML(value='')))"
      ]
     },
     "metadata": {},
     "output_type": "display_data"
    },
    {
     "data": {
      "application/vnd.jupyter.widget-view+json": {
       "model_id": "f596a92450c94226a72031bdc991810c",
       "version_major": 2,
       "version_minor": 0
      },
      "text/plain": [
       "HBox(children=(IntProgress(value=0, max=18), HTML(value='')))"
      ]
     },
     "metadata": {},
     "output_type": "display_data"
    },
    {
     "data": {
      "application/vnd.jupyter.widget-view+json": {
       "model_id": "c16653f96f724c35bc8fc471c0ad0908",
       "version_major": 2,
       "version_minor": 0
      },
      "text/plain": [
       "HBox(children=(IntProgress(value=0, max=18), HTML(value='')))"
      ]
     },
     "metadata": {},
     "output_type": "display_data"
    },
    {
     "data": {
      "application/vnd.jupyter.widget-view+json": {
       "model_id": "d484c44c1cf74105b30e1d4b455c622e",
       "version_major": 2,
       "version_minor": 0
      },
      "text/plain": [
       "HBox(children=(IntProgress(value=0, max=18), HTML(value='')))"
      ]
     },
     "metadata": {},
     "output_type": "display_data"
    },
    {
     "data": {
      "application/vnd.jupyter.widget-view+json": {
       "model_id": "7b532e3f50e642d48e59396e01000ed0",
       "version_major": 2,
       "version_minor": 0
      },
      "text/plain": [
       "HBox(children=(IntProgress(value=0, max=18), HTML(value='')))"
      ]
     },
     "metadata": {},
     "output_type": "display_data"
    },
    {
     "data": {
      "application/vnd.jupyter.widget-view+json": {
       "model_id": "a8953b3b14ea47d89befddffbf437788",
       "version_major": 2,
       "version_minor": 0
      },
      "text/plain": [
       "HBox(children=(IntProgress(value=0, max=18), HTML(value='')))"
      ]
     },
     "metadata": {},
     "output_type": "display_data"
    },
    {
     "data": {
      "application/vnd.jupyter.widget-view+json": {
       "model_id": "3d558c414c2349aab852ef7172d08634",
       "version_major": 2,
       "version_minor": 0
      },
      "text/plain": [
       "HBox(children=(IntProgress(value=0, max=18), HTML(value='')))"
      ]
     },
     "metadata": {},
     "output_type": "display_data"
    },
    {
     "data": {
      "application/vnd.jupyter.widget-view+json": {
       "model_id": "2d4f3be7517041f1b6945ff422d37ad8",
       "version_major": 2,
       "version_minor": 0
      },
      "text/plain": [
       "HBox(children=(IntProgress(value=0, max=18), HTML(value='')))"
      ]
     },
     "metadata": {},
     "output_type": "display_data"
    },
    {
     "data": {
      "application/vnd.jupyter.widget-view+json": {
       "model_id": "c47990092eaa4d9ba5f4e02d9f2da2be",
       "version_major": 2,
       "version_minor": 0
      },
      "text/plain": [
       "HBox(children=(IntProgress(value=0, max=18), HTML(value='')))"
      ]
     },
     "metadata": {},
     "output_type": "display_data"
    },
    {
     "data": {
      "application/vnd.jupyter.widget-view+json": {
       "model_id": "f4a818d90e2d4a2c9e47553f6cc54a0a",
       "version_major": 2,
       "version_minor": 0
      },
      "text/plain": [
       "HBox(children=(IntProgress(value=0, max=18), HTML(value='')))"
      ]
     },
     "metadata": {},
     "output_type": "display_data"
    },
    {
     "name": "stdout",
     "output_type": "stream",
     "text": [
      "\n"
     ]
    }
   ],
   "source": [
    "pred_list=[]\n",
    "pred_list_tmp=[]\n",
    "for num_split in tqdm_notebook(range(3)):\n",
    "    model_name,version = 'Densenet169_3' , 'classifier_splits'\n",
    "    pickle_file=open(outputs_dir+outputs_format.format(model_name,version,'features_test',num_split),'rb')\n",
    "    features=pickle.load(pickle_file)\n",
    "    pickle_file.close()\n",
    "    features=features.reshape(features.shape[0]//8,8,-1)\n",
    "\n",
    "    model=ResModel(features.shape[-1])\n",
    "    version=version+'_fullhead_resmodel'\n",
    "\n",
    "    model.load_state_dict(torch.load(models_dir+models_format.format(model_name,version,num_split),map_location=torch.device(device)))\n",
    "    test_dataset=train_dataset=FullHeadDataset(test_df,\n",
    "                                  test_df.SeriesI.unique(),\n",
    "                                  features,\n",
    "                                  'SeriesI',\n",
    "                                  'ImagePositionZ')\n",
    "    for i in tqdm_notebook(range(32),leave=False):\n",
    "        pred_list.append(model_run(model,test_dataset,do_apex=False,batch_size=128)[...,None])\n",
    "        pred_list_tmp.append(pred_list[-1])\n",
    "pred169=torch.cat(pred_list_tmp,-1).mean(-1)"
   ]
  },
  {
   "cell_type": "code",
   "execution_count": 27,
   "metadata": {},
   "outputs": [
    {
     "data": {
      "application/vnd.jupyter.widget-view+json": {
       "model_id": "908dfa2ba52548018416d876fa50996b",
       "version_major": 2,
       "version_minor": 0
      },
      "text/plain": [
       "HBox(children=(IntProgress(value=0, max=3), HTML(value='')))"
      ]
     },
     "metadata": {},
     "output_type": "display_data"
    },
    {
     "data": {
      "text/plain": [
       "<All keys matched successfully>"
      ]
     },
     "execution_count": 27,
     "metadata": {},
     "output_type": "execute_result"
    },
    {
     "data": {
      "application/vnd.jupyter.widget-view+json": {
       "model_id": "",
       "version_major": 2,
       "version_minor": 0
      },
      "text/plain": [
       "HBox(children=(IntProgress(value=0, max=32), HTML(value='')))"
      ]
     },
     "metadata": {},
     "output_type": "display_data"
    },
    {
     "data": {
      "application/vnd.jupyter.widget-view+json": {
       "model_id": "9e010cd85f9d4f5e91fc1f4d02627948",
       "version_major": 2,
       "version_minor": 0
      },
      "text/plain": [
       "HBox(children=(IntProgress(value=0, max=18), HTML(value='')))"
      ]
     },
     "metadata": {},
     "output_type": "display_data"
    },
    {
     "data": {
      "application/vnd.jupyter.widget-view+json": {
       "model_id": "01bb80b54a5b41f0bf3648b8fd16210c",
       "version_major": 2,
       "version_minor": 0
      },
      "text/plain": [
       "HBox(children=(IntProgress(value=0, max=18), HTML(value='')))"
      ]
     },
     "metadata": {},
     "output_type": "display_data"
    },
    {
     "data": {
      "application/vnd.jupyter.widget-view+json": {
       "model_id": "01f87ad6f38a4eb5b0d3f7feb230b919",
       "version_major": 2,
       "version_minor": 0
      },
      "text/plain": [
       "HBox(children=(IntProgress(value=0, max=18), HTML(value='')))"
      ]
     },
     "metadata": {},
     "output_type": "display_data"
    },
    {
     "data": {
      "application/vnd.jupyter.widget-view+json": {
       "model_id": "2a37ffe825b74ffebec03516b8350182",
       "version_major": 2,
       "version_minor": 0
      },
      "text/plain": [
       "HBox(children=(IntProgress(value=0, max=18), HTML(value='')))"
      ]
     },
     "metadata": {},
     "output_type": "display_data"
    },
    {
     "data": {
      "application/vnd.jupyter.widget-view+json": {
       "model_id": "3186f8db8c2048f9995977f38e3563b9",
       "version_major": 2,
       "version_minor": 0
      },
      "text/plain": [
       "HBox(children=(IntProgress(value=0, max=18), HTML(value='')))"
      ]
     },
     "metadata": {},
     "output_type": "display_data"
    },
    {
     "data": {
      "application/vnd.jupyter.widget-view+json": {
       "model_id": "73f09cc739a9448fb16719c1092dc8b5",
       "version_major": 2,
       "version_minor": 0
      },
      "text/plain": [
       "HBox(children=(IntProgress(value=0, max=18), HTML(value='')))"
      ]
     },
     "metadata": {},
     "output_type": "display_data"
    },
    {
     "data": {
      "application/vnd.jupyter.widget-view+json": {
       "model_id": "a77753ac7bc446409f02b81363ac7156",
       "version_major": 2,
       "version_minor": 0
      },
      "text/plain": [
       "HBox(children=(IntProgress(value=0, max=18), HTML(value='')))"
      ]
     },
     "metadata": {},
     "output_type": "display_data"
    },
    {
     "data": {
      "application/vnd.jupyter.widget-view+json": {
       "model_id": "1c33feed07ab46b5bfcdac09841adfdd",
       "version_major": 2,
       "version_minor": 0
      },
      "text/plain": [
       "HBox(children=(IntProgress(value=0, max=18), HTML(value='')))"
      ]
     },
     "metadata": {},
     "output_type": "display_data"
    },
    {
     "data": {
      "application/vnd.jupyter.widget-view+json": {
       "model_id": "62ae18db69ad47dfa5a2e3236975905c",
       "version_major": 2,
       "version_minor": 0
      },
      "text/plain": [
       "HBox(children=(IntProgress(value=0, max=18), HTML(value='')))"
      ]
     },
     "metadata": {},
     "output_type": "display_data"
    },
    {
     "data": {
      "application/vnd.jupyter.widget-view+json": {
       "model_id": "ac69663626114aacab60ef3060567d49",
       "version_major": 2,
       "version_minor": 0
      },
      "text/plain": [
       "HBox(children=(IntProgress(value=0, max=18), HTML(value='')))"
      ]
     },
     "metadata": {},
     "output_type": "display_data"
    },
    {
     "data": {
      "application/vnd.jupyter.widget-view+json": {
       "model_id": "4869d492c56e46a1bbec20ee249ff6f3",
       "version_major": 2,
       "version_minor": 0
      },
      "text/plain": [
       "HBox(children=(IntProgress(value=0, max=18), HTML(value='')))"
      ]
     },
     "metadata": {},
     "output_type": "display_data"
    },
    {
     "data": {
      "application/vnd.jupyter.widget-view+json": {
       "model_id": "32d0c5182b9a4966aa46b8418054edd2",
       "version_major": 2,
       "version_minor": 0
      },
      "text/plain": [
       "HBox(children=(IntProgress(value=0, max=18), HTML(value='')))"
      ]
     },
     "metadata": {},
     "output_type": "display_data"
    },
    {
     "data": {
      "application/vnd.jupyter.widget-view+json": {
       "model_id": "55c44ce3e5184eb1a7af333791cef2c1",
       "version_major": 2,
       "version_minor": 0
      },
      "text/plain": [
       "HBox(children=(IntProgress(value=0, max=18), HTML(value='')))"
      ]
     },
     "metadata": {},
     "output_type": "display_data"
    },
    {
     "data": {
      "application/vnd.jupyter.widget-view+json": {
       "model_id": "cd32ba40efd947c889e3a20a9cd9d926",
       "version_major": 2,
       "version_minor": 0
      },
      "text/plain": [
       "HBox(children=(IntProgress(value=0, max=18), HTML(value='')))"
      ]
     },
     "metadata": {},
     "output_type": "display_data"
    },
    {
     "data": {
      "application/vnd.jupyter.widget-view+json": {
       "model_id": "6b3edcc25b2147a7be065e047e826ffe",
       "version_major": 2,
       "version_minor": 0
      },
      "text/plain": [
       "HBox(children=(IntProgress(value=0, max=18), HTML(value='')))"
      ]
     },
     "metadata": {},
     "output_type": "display_data"
    },
    {
     "data": {
      "application/vnd.jupyter.widget-view+json": {
       "model_id": "257ca29b2c0c432cac8a1d233668de3e",
       "version_major": 2,
       "version_minor": 0
      },
      "text/plain": [
       "HBox(children=(IntProgress(value=0, max=18), HTML(value='')))"
      ]
     },
     "metadata": {},
     "output_type": "display_data"
    },
    {
     "data": {
      "application/vnd.jupyter.widget-view+json": {
       "model_id": "adeaf009fd374161ab338fbc80aab97d",
       "version_major": 2,
       "version_minor": 0
      },
      "text/plain": [
       "HBox(children=(IntProgress(value=0, max=18), HTML(value='')))"
      ]
     },
     "metadata": {},
     "output_type": "display_data"
    },
    {
     "data": {
      "application/vnd.jupyter.widget-view+json": {
       "model_id": "6865b5908c79442abb37f81539b29e01",
       "version_major": 2,
       "version_minor": 0
      },
      "text/plain": [
       "HBox(children=(IntProgress(value=0, max=18), HTML(value='')))"
      ]
     },
     "metadata": {},
     "output_type": "display_data"
    },
    {
     "data": {
      "application/vnd.jupyter.widget-view+json": {
       "model_id": "0a643bd3a8e747b2874bd553dbe463b6",
       "version_major": 2,
       "version_minor": 0
      },
      "text/plain": [
       "HBox(children=(IntProgress(value=0, max=18), HTML(value='')))"
      ]
     },
     "metadata": {},
     "output_type": "display_data"
    },
    {
     "data": {
      "application/vnd.jupyter.widget-view+json": {
       "model_id": "e5da6e57fbe44d978055bc6a92f63e65",
       "version_major": 2,
       "version_minor": 0
      },
      "text/plain": [
       "HBox(children=(IntProgress(value=0, max=18), HTML(value='')))"
      ]
     },
     "metadata": {},
     "output_type": "display_data"
    },
    {
     "data": {
      "application/vnd.jupyter.widget-view+json": {
       "model_id": "53aa6c8c1d43496096278fecba936be5",
       "version_major": 2,
       "version_minor": 0
      },
      "text/plain": [
       "HBox(children=(IntProgress(value=0, max=18), HTML(value='')))"
      ]
     },
     "metadata": {},
     "output_type": "display_data"
    },
    {
     "data": {
      "application/vnd.jupyter.widget-view+json": {
       "model_id": "1fc31bebfaeb4b9b9ebf7e320c7d5e7d",
       "version_major": 2,
       "version_minor": 0
      },
      "text/plain": [
       "HBox(children=(IntProgress(value=0, max=18), HTML(value='')))"
      ]
     },
     "metadata": {},
     "output_type": "display_data"
    },
    {
     "data": {
      "application/vnd.jupyter.widget-view+json": {
       "model_id": "381a5c7895f646779e2fa8478c930d07",
       "version_major": 2,
       "version_minor": 0
      },
      "text/plain": [
       "HBox(children=(IntProgress(value=0, max=18), HTML(value='')))"
      ]
     },
     "metadata": {},
     "output_type": "display_data"
    },
    {
     "data": {
      "application/vnd.jupyter.widget-view+json": {
       "model_id": "76f8383dce8847dc85b87c850ae02f8f",
       "version_major": 2,
       "version_minor": 0
      },
      "text/plain": [
       "HBox(children=(IntProgress(value=0, max=18), HTML(value='')))"
      ]
     },
     "metadata": {},
     "output_type": "display_data"
    },
    {
     "data": {
      "application/vnd.jupyter.widget-view+json": {
       "model_id": "60dd3316ae884700ac048597f792107c",
       "version_major": 2,
       "version_minor": 0
      },
      "text/plain": [
       "HBox(children=(IntProgress(value=0, max=18), HTML(value='')))"
      ]
     },
     "metadata": {},
     "output_type": "display_data"
    },
    {
     "data": {
      "application/vnd.jupyter.widget-view+json": {
       "model_id": "12a8e103e3e145a1a0b9f5b58f30aa0d",
       "version_major": 2,
       "version_minor": 0
      },
      "text/plain": [
       "HBox(children=(IntProgress(value=0, max=18), HTML(value='')))"
      ]
     },
     "metadata": {},
     "output_type": "display_data"
    },
    {
     "data": {
      "application/vnd.jupyter.widget-view+json": {
       "model_id": "41980a1d498b4c8ca74a355fcb1a3bd4",
       "version_major": 2,
       "version_minor": 0
      },
      "text/plain": [
       "HBox(children=(IntProgress(value=0, max=18), HTML(value='')))"
      ]
     },
     "metadata": {},
     "output_type": "display_data"
    },
    {
     "data": {
      "application/vnd.jupyter.widget-view+json": {
       "model_id": "6083cba173504cc9b5d204934cff2a80",
       "version_major": 2,
       "version_minor": 0
      },
      "text/plain": [
       "HBox(children=(IntProgress(value=0, max=18), HTML(value='')))"
      ]
     },
     "metadata": {},
     "output_type": "display_data"
    },
    {
     "data": {
      "application/vnd.jupyter.widget-view+json": {
       "model_id": "0ebc50f70da6444795164367712534de",
       "version_major": 2,
       "version_minor": 0
      },
      "text/plain": [
       "HBox(children=(IntProgress(value=0, max=18), HTML(value='')))"
      ]
     },
     "metadata": {},
     "output_type": "display_data"
    },
    {
     "data": {
      "application/vnd.jupyter.widget-view+json": {
       "model_id": "e4810be939594a269a6926959e1a8003",
       "version_major": 2,
       "version_minor": 0
      },
      "text/plain": [
       "HBox(children=(IntProgress(value=0, max=18), HTML(value='')))"
      ]
     },
     "metadata": {},
     "output_type": "display_data"
    },
    {
     "data": {
      "application/vnd.jupyter.widget-view+json": {
       "model_id": "fb8df024fdd9465a9e77f6b76dd7b3a6",
       "version_major": 2,
       "version_minor": 0
      },
      "text/plain": [
       "HBox(children=(IntProgress(value=0, max=18), HTML(value='')))"
      ]
     },
     "metadata": {},
     "output_type": "display_data"
    },
    {
     "data": {
      "application/vnd.jupyter.widget-view+json": {
       "model_id": "4b985cdabfde49ff91f9578dfb557613",
       "version_major": 2,
       "version_minor": 0
      },
      "text/plain": [
       "HBox(children=(IntProgress(value=0, max=18), HTML(value='')))"
      ]
     },
     "metadata": {},
     "output_type": "display_data"
    },
    {
     "data": {
      "text/plain": [
       "<All keys matched successfully>"
      ]
     },
     "execution_count": 27,
     "metadata": {},
     "output_type": "execute_result"
    },
    {
     "data": {
      "application/vnd.jupyter.widget-view+json": {
       "model_id": "",
       "version_major": 2,
       "version_minor": 0
      },
      "text/plain": [
       "HBox(children=(IntProgress(value=0, max=32), HTML(value='')))"
      ]
     },
     "metadata": {},
     "output_type": "display_data"
    },
    {
     "data": {
      "application/vnd.jupyter.widget-view+json": {
       "model_id": "e52298d7b41e445ca49c5862120041ac",
       "version_major": 2,
       "version_minor": 0
      },
      "text/plain": [
       "HBox(children=(IntProgress(value=0, max=18), HTML(value='')))"
      ]
     },
     "metadata": {},
     "output_type": "display_data"
    },
    {
     "data": {
      "application/vnd.jupyter.widget-view+json": {
       "model_id": "29c1a48151c74a0f8c2ed70b6583688b",
       "version_major": 2,
       "version_minor": 0
      },
      "text/plain": [
       "HBox(children=(IntProgress(value=0, max=18), HTML(value='')))"
      ]
     },
     "metadata": {},
     "output_type": "display_data"
    },
    {
     "data": {
      "application/vnd.jupyter.widget-view+json": {
       "model_id": "f5e6d24feb4c4d528e9b6f96a88fc0e4",
       "version_major": 2,
       "version_minor": 0
      },
      "text/plain": [
       "HBox(children=(IntProgress(value=0, max=18), HTML(value='')))"
      ]
     },
     "metadata": {},
     "output_type": "display_data"
    },
    {
     "data": {
      "application/vnd.jupyter.widget-view+json": {
       "model_id": "e325b4a721c449e1b4d103c03632dc19",
       "version_major": 2,
       "version_minor": 0
      },
      "text/plain": [
       "HBox(children=(IntProgress(value=0, max=18), HTML(value='')))"
      ]
     },
     "metadata": {},
     "output_type": "display_data"
    },
    {
     "data": {
      "application/vnd.jupyter.widget-view+json": {
       "model_id": "2583348615a4444ba12724cdfb097e1d",
       "version_major": 2,
       "version_minor": 0
      },
      "text/plain": [
       "HBox(children=(IntProgress(value=0, max=18), HTML(value='')))"
      ]
     },
     "metadata": {},
     "output_type": "display_data"
    },
    {
     "data": {
      "application/vnd.jupyter.widget-view+json": {
       "model_id": "ffa2f7ea3a514d11916150a7871cc265",
       "version_major": 2,
       "version_minor": 0
      },
      "text/plain": [
       "HBox(children=(IntProgress(value=0, max=18), HTML(value='')))"
      ]
     },
     "metadata": {},
     "output_type": "display_data"
    },
    {
     "data": {
      "application/vnd.jupyter.widget-view+json": {
       "model_id": "9c9bf55d1f30460c84aac979fb21e935",
       "version_major": 2,
       "version_minor": 0
      },
      "text/plain": [
       "HBox(children=(IntProgress(value=0, max=18), HTML(value='')))"
      ]
     },
     "metadata": {},
     "output_type": "display_data"
    },
    {
     "data": {
      "application/vnd.jupyter.widget-view+json": {
       "model_id": "de7298a7ed5d408ebb0dc2947bdd3585",
       "version_major": 2,
       "version_minor": 0
      },
      "text/plain": [
       "HBox(children=(IntProgress(value=0, max=18), HTML(value='')))"
      ]
     },
     "metadata": {},
     "output_type": "display_data"
    },
    {
     "data": {
      "application/vnd.jupyter.widget-view+json": {
       "model_id": "6256ab664cbd43198431767f28546f80",
       "version_major": 2,
       "version_minor": 0
      },
      "text/plain": [
       "HBox(children=(IntProgress(value=0, max=18), HTML(value='')))"
      ]
     },
     "metadata": {},
     "output_type": "display_data"
    },
    {
     "data": {
      "application/vnd.jupyter.widget-view+json": {
       "model_id": "fca8ab6eb33946128c49552eb7973095",
       "version_major": 2,
       "version_minor": 0
      },
      "text/plain": [
       "HBox(children=(IntProgress(value=0, max=18), HTML(value='')))"
      ]
     },
     "metadata": {},
     "output_type": "display_data"
    },
    {
     "data": {
      "application/vnd.jupyter.widget-view+json": {
       "model_id": "fd39433122ec4e99a1ac087cbd776043",
       "version_major": 2,
       "version_minor": 0
      },
      "text/plain": [
       "HBox(children=(IntProgress(value=0, max=18), HTML(value='')))"
      ]
     },
     "metadata": {},
     "output_type": "display_data"
    },
    {
     "data": {
      "application/vnd.jupyter.widget-view+json": {
       "model_id": "195372c783204e789a5c1080e8f60ce5",
       "version_major": 2,
       "version_minor": 0
      },
      "text/plain": [
       "HBox(children=(IntProgress(value=0, max=18), HTML(value='')))"
      ]
     },
     "metadata": {},
     "output_type": "display_data"
    },
    {
     "data": {
      "application/vnd.jupyter.widget-view+json": {
       "model_id": "c67fb4f21d2c481cb99971b16862eabc",
       "version_major": 2,
       "version_minor": 0
      },
      "text/plain": [
       "HBox(children=(IntProgress(value=0, max=18), HTML(value='')))"
      ]
     },
     "metadata": {},
     "output_type": "display_data"
    },
    {
     "data": {
      "application/vnd.jupyter.widget-view+json": {
       "model_id": "390c147a0fb14d9eb51edb1633b39da1",
       "version_major": 2,
       "version_minor": 0
      },
      "text/plain": [
       "HBox(children=(IntProgress(value=0, max=18), HTML(value='')))"
      ]
     },
     "metadata": {},
     "output_type": "display_data"
    },
    {
     "data": {
      "application/vnd.jupyter.widget-view+json": {
       "model_id": "5993fa1016a048959373e345a95168e9",
       "version_major": 2,
       "version_minor": 0
      },
      "text/plain": [
       "HBox(children=(IntProgress(value=0, max=18), HTML(value='')))"
      ]
     },
     "metadata": {},
     "output_type": "display_data"
    },
    {
     "data": {
      "application/vnd.jupyter.widget-view+json": {
       "model_id": "76fc2e2573d840c885eb8232b3135de3",
       "version_major": 2,
       "version_minor": 0
      },
      "text/plain": [
       "HBox(children=(IntProgress(value=0, max=18), HTML(value='')))"
      ]
     },
     "metadata": {},
     "output_type": "display_data"
    },
    {
     "data": {
      "application/vnd.jupyter.widget-view+json": {
       "model_id": "58b9890cb56a41a395bd4b154fef9054",
       "version_major": 2,
       "version_minor": 0
      },
      "text/plain": [
       "HBox(children=(IntProgress(value=0, max=18), HTML(value='')))"
      ]
     },
     "metadata": {},
     "output_type": "display_data"
    },
    {
     "data": {
      "application/vnd.jupyter.widget-view+json": {
       "model_id": "d162462f84924bf38c6bea99b881b8e4",
       "version_major": 2,
       "version_minor": 0
      },
      "text/plain": [
       "HBox(children=(IntProgress(value=0, max=18), HTML(value='')))"
      ]
     },
     "metadata": {},
     "output_type": "display_data"
    },
    {
     "data": {
      "application/vnd.jupyter.widget-view+json": {
       "model_id": "3c79e7995fe84eb8b4d690781fbdc7c9",
       "version_major": 2,
       "version_minor": 0
      },
      "text/plain": [
       "HBox(children=(IntProgress(value=0, max=18), HTML(value='')))"
      ]
     },
     "metadata": {},
     "output_type": "display_data"
    },
    {
     "data": {
      "application/vnd.jupyter.widget-view+json": {
       "model_id": "49fc82e4973149ce8816e65193f55bed",
       "version_major": 2,
       "version_minor": 0
      },
      "text/plain": [
       "HBox(children=(IntProgress(value=0, max=18), HTML(value='')))"
      ]
     },
     "metadata": {},
     "output_type": "display_data"
    },
    {
     "data": {
      "application/vnd.jupyter.widget-view+json": {
       "model_id": "cec1b4ebc0a949ee9f44ec3f6193f4ab",
       "version_major": 2,
       "version_minor": 0
      },
      "text/plain": [
       "HBox(children=(IntProgress(value=0, max=18), HTML(value='')))"
      ]
     },
     "metadata": {},
     "output_type": "display_data"
    },
    {
     "data": {
      "application/vnd.jupyter.widget-view+json": {
       "model_id": "55c79c197ce04ba68fcb78366a934d68",
       "version_major": 2,
       "version_minor": 0
      },
      "text/plain": [
       "HBox(children=(IntProgress(value=0, max=18), HTML(value='')))"
      ]
     },
     "metadata": {},
     "output_type": "display_data"
    },
    {
     "data": {
      "application/vnd.jupyter.widget-view+json": {
       "model_id": "04659acc82d9404097f887288e7d1813",
       "version_major": 2,
       "version_minor": 0
      },
      "text/plain": [
       "HBox(children=(IntProgress(value=0, max=18), HTML(value='')))"
      ]
     },
     "metadata": {},
     "output_type": "display_data"
    },
    {
     "data": {
      "application/vnd.jupyter.widget-view+json": {
       "model_id": "60a71af3147e4c3ebce0e0707d71a43f",
       "version_major": 2,
       "version_minor": 0
      },
      "text/plain": [
       "HBox(children=(IntProgress(value=0, max=18), HTML(value='')))"
      ]
     },
     "metadata": {},
     "output_type": "display_data"
    },
    {
     "data": {
      "application/vnd.jupyter.widget-view+json": {
       "model_id": "36448a049cd34118891218dea3f04c11",
       "version_major": 2,
       "version_minor": 0
      },
      "text/plain": [
       "HBox(children=(IntProgress(value=0, max=18), HTML(value='')))"
      ]
     },
     "metadata": {},
     "output_type": "display_data"
    },
    {
     "data": {
      "application/vnd.jupyter.widget-view+json": {
       "model_id": "d5a57307a18b475895c053d0483d02d6",
       "version_major": 2,
       "version_minor": 0
      },
      "text/plain": [
       "HBox(children=(IntProgress(value=0, max=18), HTML(value='')))"
      ]
     },
     "metadata": {},
     "output_type": "display_data"
    },
    {
     "data": {
      "application/vnd.jupyter.widget-view+json": {
       "model_id": "47ea2c5002dc43b8a7f31fc88971aba9",
       "version_major": 2,
       "version_minor": 0
      },
      "text/plain": [
       "HBox(children=(IntProgress(value=0, max=18), HTML(value='')))"
      ]
     },
     "metadata": {},
     "output_type": "display_data"
    },
    {
     "data": {
      "application/vnd.jupyter.widget-view+json": {
       "model_id": "f18a37715a9741ae95484c1b7c51cca3",
       "version_major": 2,
       "version_minor": 0
      },
      "text/plain": [
       "HBox(children=(IntProgress(value=0, max=18), HTML(value='')))"
      ]
     },
     "metadata": {},
     "output_type": "display_data"
    },
    {
     "data": {
      "application/vnd.jupyter.widget-view+json": {
       "model_id": "cbc9f7598ca84bf7bc1bd04cff13bdd6",
       "version_major": 2,
       "version_minor": 0
      },
      "text/plain": [
       "HBox(children=(IntProgress(value=0, max=18), HTML(value='')))"
      ]
     },
     "metadata": {},
     "output_type": "display_data"
    },
    {
     "data": {
      "application/vnd.jupyter.widget-view+json": {
       "model_id": "cdf0dc0e58054858a9671308ef467b77",
       "version_major": 2,
       "version_minor": 0
      },
      "text/plain": [
       "HBox(children=(IntProgress(value=0, max=18), HTML(value='')))"
      ]
     },
     "metadata": {},
     "output_type": "display_data"
    },
    {
     "data": {
      "application/vnd.jupyter.widget-view+json": {
       "model_id": "b6b00eff51df48c2921f81f948517f1a",
       "version_major": 2,
       "version_minor": 0
      },
      "text/plain": [
       "HBox(children=(IntProgress(value=0, max=18), HTML(value='')))"
      ]
     },
     "metadata": {},
     "output_type": "display_data"
    },
    {
     "data": {
      "application/vnd.jupyter.widget-view+json": {
       "model_id": "03c683e8dc0c48489e1a363ff6818aa1",
       "version_major": 2,
       "version_minor": 0
      },
      "text/plain": [
       "HBox(children=(IntProgress(value=0, max=18), HTML(value='')))"
      ]
     },
     "metadata": {},
     "output_type": "display_data"
    },
    {
     "data": {
      "text/plain": [
       "<All keys matched successfully>"
      ]
     },
     "execution_count": 27,
     "metadata": {},
     "output_type": "execute_result"
    },
    {
     "data": {
      "application/vnd.jupyter.widget-view+json": {
       "model_id": "",
       "version_major": 2,
       "version_minor": 0
      },
      "text/plain": [
       "HBox(children=(IntProgress(value=0, max=32), HTML(value='')))"
      ]
     },
     "metadata": {},
     "output_type": "display_data"
    },
    {
     "data": {
      "application/vnd.jupyter.widget-view+json": {
       "model_id": "c431a91437584b2382b2902dba06d744",
       "version_major": 2,
       "version_minor": 0
      },
      "text/plain": [
       "HBox(children=(IntProgress(value=0, max=18), HTML(value='')))"
      ]
     },
     "metadata": {},
     "output_type": "display_data"
    },
    {
     "data": {
      "application/vnd.jupyter.widget-view+json": {
       "model_id": "c7695c0719174231a1a516e9bb8868fa",
       "version_major": 2,
       "version_minor": 0
      },
      "text/plain": [
       "HBox(children=(IntProgress(value=0, max=18), HTML(value='')))"
      ]
     },
     "metadata": {},
     "output_type": "display_data"
    },
    {
     "data": {
      "application/vnd.jupyter.widget-view+json": {
       "model_id": "dbc1e132aa084ca093e0e54552cf9240",
       "version_major": 2,
       "version_minor": 0
      },
      "text/plain": [
       "HBox(children=(IntProgress(value=0, max=18), HTML(value='')))"
      ]
     },
     "metadata": {},
     "output_type": "display_data"
    },
    {
     "data": {
      "application/vnd.jupyter.widget-view+json": {
       "model_id": "71229388cbc348c9b266a445214247b1",
       "version_major": 2,
       "version_minor": 0
      },
      "text/plain": [
       "HBox(children=(IntProgress(value=0, max=18), HTML(value='')))"
      ]
     },
     "metadata": {},
     "output_type": "display_data"
    },
    {
     "data": {
      "application/vnd.jupyter.widget-view+json": {
       "model_id": "0af09ffcb0304795b16880b461673ad0",
       "version_major": 2,
       "version_minor": 0
      },
      "text/plain": [
       "HBox(children=(IntProgress(value=0, max=18), HTML(value='')))"
      ]
     },
     "metadata": {},
     "output_type": "display_data"
    },
    {
     "data": {
      "application/vnd.jupyter.widget-view+json": {
       "model_id": "0901033d69fc434799fe16ee1f773a47",
       "version_major": 2,
       "version_minor": 0
      },
      "text/plain": [
       "HBox(children=(IntProgress(value=0, max=18), HTML(value='')))"
      ]
     },
     "metadata": {},
     "output_type": "display_data"
    },
    {
     "data": {
      "application/vnd.jupyter.widget-view+json": {
       "model_id": "76a3f04dae7f410f8e682fdb7c54e40b",
       "version_major": 2,
       "version_minor": 0
      },
      "text/plain": [
       "HBox(children=(IntProgress(value=0, max=18), HTML(value='')))"
      ]
     },
     "metadata": {},
     "output_type": "display_data"
    },
    {
     "data": {
      "application/vnd.jupyter.widget-view+json": {
       "model_id": "31d3b1952a2b49fcaad3e290d5a3e8b3",
       "version_major": 2,
       "version_minor": 0
      },
      "text/plain": [
       "HBox(children=(IntProgress(value=0, max=18), HTML(value='')))"
      ]
     },
     "metadata": {},
     "output_type": "display_data"
    },
    {
     "data": {
      "application/vnd.jupyter.widget-view+json": {
       "model_id": "00b2b0a05be64438a179045866912746",
       "version_major": 2,
       "version_minor": 0
      },
      "text/plain": [
       "HBox(children=(IntProgress(value=0, max=18), HTML(value='')))"
      ]
     },
     "metadata": {},
     "output_type": "display_data"
    },
    {
     "data": {
      "application/vnd.jupyter.widget-view+json": {
       "model_id": "32b09c668dd24c86af41565a9dd5e40c",
       "version_major": 2,
       "version_minor": 0
      },
      "text/plain": [
       "HBox(children=(IntProgress(value=0, max=18), HTML(value='')))"
      ]
     },
     "metadata": {},
     "output_type": "display_data"
    },
    {
     "data": {
      "application/vnd.jupyter.widget-view+json": {
       "model_id": "3b98914e51e1466bb03dd4c0a8cfa4d2",
       "version_major": 2,
       "version_minor": 0
      },
      "text/plain": [
       "HBox(children=(IntProgress(value=0, max=18), HTML(value='')))"
      ]
     },
     "metadata": {},
     "output_type": "display_data"
    },
    {
     "data": {
      "application/vnd.jupyter.widget-view+json": {
       "model_id": "64d3a11f42c249ea8b9e32bec1d48334",
       "version_major": 2,
       "version_minor": 0
      },
      "text/plain": [
       "HBox(children=(IntProgress(value=0, max=18), HTML(value='')))"
      ]
     },
     "metadata": {},
     "output_type": "display_data"
    },
    {
     "data": {
      "application/vnd.jupyter.widget-view+json": {
       "model_id": "6d1e101458f94ddeaaa8a154ddb32747",
       "version_major": 2,
       "version_minor": 0
      },
      "text/plain": [
       "HBox(children=(IntProgress(value=0, max=18), HTML(value='')))"
      ]
     },
     "metadata": {},
     "output_type": "display_data"
    },
    {
     "data": {
      "application/vnd.jupyter.widget-view+json": {
       "model_id": "4469506b15024fbf8f7077035b8c5483",
       "version_major": 2,
       "version_minor": 0
      },
      "text/plain": [
       "HBox(children=(IntProgress(value=0, max=18), HTML(value='')))"
      ]
     },
     "metadata": {},
     "output_type": "display_data"
    },
    {
     "data": {
      "application/vnd.jupyter.widget-view+json": {
       "model_id": "88b2841051504f138ff0bea7616aed70",
       "version_major": 2,
       "version_minor": 0
      },
      "text/plain": [
       "HBox(children=(IntProgress(value=0, max=18), HTML(value='')))"
      ]
     },
     "metadata": {},
     "output_type": "display_data"
    },
    {
     "data": {
      "application/vnd.jupyter.widget-view+json": {
       "model_id": "98955198d3d54187860735469aa09da6",
       "version_major": 2,
       "version_minor": 0
      },
      "text/plain": [
       "HBox(children=(IntProgress(value=0, max=18), HTML(value='')))"
      ]
     },
     "metadata": {},
     "output_type": "display_data"
    },
    {
     "data": {
      "application/vnd.jupyter.widget-view+json": {
       "model_id": "4ae8258a57264ad58b925916caf1e7d1",
       "version_major": 2,
       "version_minor": 0
      },
      "text/plain": [
       "HBox(children=(IntProgress(value=0, max=18), HTML(value='')))"
      ]
     },
     "metadata": {},
     "output_type": "display_data"
    },
    {
     "data": {
      "application/vnd.jupyter.widget-view+json": {
       "model_id": "eb0fcf0d17964af4b388822bcd0e2e02",
       "version_major": 2,
       "version_minor": 0
      },
      "text/plain": [
       "HBox(children=(IntProgress(value=0, max=18), HTML(value='')))"
      ]
     },
     "metadata": {},
     "output_type": "display_data"
    },
    {
     "data": {
      "application/vnd.jupyter.widget-view+json": {
       "model_id": "57a40b36be4641f89977d7fb33b38272",
       "version_major": 2,
       "version_minor": 0
      },
      "text/plain": [
       "HBox(children=(IntProgress(value=0, max=18), HTML(value='')))"
      ]
     },
     "metadata": {},
     "output_type": "display_data"
    },
    {
     "data": {
      "application/vnd.jupyter.widget-view+json": {
       "model_id": "1fa4a4614aac463a8fef2eda51d85e00",
       "version_major": 2,
       "version_minor": 0
      },
      "text/plain": [
       "HBox(children=(IntProgress(value=0, max=18), HTML(value='')))"
      ]
     },
     "metadata": {},
     "output_type": "display_data"
    },
    {
     "data": {
      "application/vnd.jupyter.widget-view+json": {
       "model_id": "3665dab6d9fb483db46e9aca81fbf1da",
       "version_major": 2,
       "version_minor": 0
      },
      "text/plain": [
       "HBox(children=(IntProgress(value=0, max=18), HTML(value='')))"
      ]
     },
     "metadata": {},
     "output_type": "display_data"
    },
    {
     "data": {
      "application/vnd.jupyter.widget-view+json": {
       "model_id": "d4cca403d46545e580f30175a09d9c6f",
       "version_major": 2,
       "version_minor": 0
      },
      "text/plain": [
       "HBox(children=(IntProgress(value=0, max=18), HTML(value='')))"
      ]
     },
     "metadata": {},
     "output_type": "display_data"
    },
    {
     "data": {
      "application/vnd.jupyter.widget-view+json": {
       "model_id": "7d8106f79354426196699c85acc9d8a2",
       "version_major": 2,
       "version_minor": 0
      },
      "text/plain": [
       "HBox(children=(IntProgress(value=0, max=18), HTML(value='')))"
      ]
     },
     "metadata": {},
     "output_type": "display_data"
    },
    {
     "data": {
      "application/vnd.jupyter.widget-view+json": {
       "model_id": "f2823a66f9724515aa777a2a2ec789d5",
       "version_major": 2,
       "version_minor": 0
      },
      "text/plain": [
       "HBox(children=(IntProgress(value=0, max=18), HTML(value='')))"
      ]
     },
     "metadata": {},
     "output_type": "display_data"
    },
    {
     "data": {
      "application/vnd.jupyter.widget-view+json": {
       "model_id": "8102a6e93c8d406994d2172c621a4759",
       "version_major": 2,
       "version_minor": 0
      },
      "text/plain": [
       "HBox(children=(IntProgress(value=0, max=18), HTML(value='')))"
      ]
     },
     "metadata": {},
     "output_type": "display_data"
    },
    {
     "data": {
      "application/vnd.jupyter.widget-view+json": {
       "model_id": "0049b75ab803405bb84ebf2d23e87d5c",
       "version_major": 2,
       "version_minor": 0
      },
      "text/plain": [
       "HBox(children=(IntProgress(value=0, max=18), HTML(value='')))"
      ]
     },
     "metadata": {},
     "output_type": "display_data"
    },
    {
     "data": {
      "application/vnd.jupyter.widget-view+json": {
       "model_id": "527f12c47baa4095984bd7a55537a168",
       "version_major": 2,
       "version_minor": 0
      },
      "text/plain": [
       "HBox(children=(IntProgress(value=0, max=18), HTML(value='')))"
      ]
     },
     "metadata": {},
     "output_type": "display_data"
    },
    {
     "data": {
      "application/vnd.jupyter.widget-view+json": {
       "model_id": "78d591c5ac1d485ba2a3bae73de29fb3",
       "version_major": 2,
       "version_minor": 0
      },
      "text/plain": [
       "HBox(children=(IntProgress(value=0, max=18), HTML(value='')))"
      ]
     },
     "metadata": {},
     "output_type": "display_data"
    },
    {
     "data": {
      "application/vnd.jupyter.widget-view+json": {
       "model_id": "f6dcf3dbcd4e4e3987a7375ea054cb7a",
       "version_major": 2,
       "version_minor": 0
      },
      "text/plain": [
       "HBox(children=(IntProgress(value=0, max=18), HTML(value='')))"
      ]
     },
     "metadata": {},
     "output_type": "display_data"
    },
    {
     "data": {
      "application/vnd.jupyter.widget-view+json": {
       "model_id": "ec3eb0ae0ab94ca89e8874f2d28abf7c",
       "version_major": 2,
       "version_minor": 0
      },
      "text/plain": [
       "HBox(children=(IntProgress(value=0, max=18), HTML(value='')))"
      ]
     },
     "metadata": {},
     "output_type": "display_data"
    },
    {
     "data": {
      "application/vnd.jupyter.widget-view+json": {
       "model_id": "abb5b015b9c04ca69493b414a120d90a",
       "version_major": 2,
       "version_minor": 0
      },
      "text/plain": [
       "HBox(children=(IntProgress(value=0, max=18), HTML(value='')))"
      ]
     },
     "metadata": {},
     "output_type": "display_data"
    },
    {
     "data": {
      "application/vnd.jupyter.widget-view+json": {
       "model_id": "880193bd48744b04b04d0bc340a687ee",
       "version_major": 2,
       "version_minor": 0
      },
      "text/plain": [
       "HBox(children=(IntProgress(value=0, max=18), HTML(value='')))"
      ]
     },
     "metadata": {},
     "output_type": "display_data"
    },
    {
     "name": "stdout",
     "output_type": "stream",
     "text": [
      "\n"
     ]
    }
   ],
   "source": [
    "pred_list_tmp=[]\n",
    "for num_split in tqdm_notebook(range(3)):\n",
    "    model_name,version = 'Densenet161_3' , 'classifier_splits'\n",
    "    pickle_file=open(outputs_dir+outputs_format.format(model_name,version,'features_test',num_split),'rb')\n",
    "    features=pickle.load(pickle_file)\n",
    "    pickle_file.close()\n",
    "    features=features.reshape(features.shape[0]//8,8,-1)\n",
    "\n",
    "    model=ResModel(features.shape[-1])\n",
    "    version=version+'_fullhead_resmodel'\n",
    "\n",
    "    model.load_state_dict(torch.load(models_dir+models_format.format(model_name,version,num_split),map_location=torch.device(device)))\n",
    "    test_dataset=train_dataset=FullHeadDataset(test_df,\n",
    "                                  test_df.SeriesI.unique(),\n",
    "                                  features,\n",
    "                                  'SeriesI',\n",
    "                                  'ImagePositionZ')\n",
    "    for i in tqdm_notebook(range(32),leave=False):\n",
    "        pred_list.append(model_run(model,test_dataset,do_apex=False,batch_size=128)[...,None])\n",
    "        pred_list_tmp.append(pred_list[-1])\n",
    "pred161=torch.cat(pred_list_tmp,-1).mean(-1)"
   ]
  },
  {
   "cell_type": "code",
   "execution_count": 28,
   "metadata": {},
   "outputs": [
    {
     "data": {
      "application/vnd.jupyter.widget-view+json": {
       "model_id": "8ec02594e65044c3a9dfd87372ce9755",
       "version_major": 2,
       "version_minor": 0
      },
      "text/plain": [
       "HBox(children=(IntProgress(value=0, max=3), HTML(value='')))"
      ]
     },
     "metadata": {},
     "output_type": "display_data"
    },
    {
     "data": {
      "text/plain": [
       "<All keys matched successfully>"
      ]
     },
     "execution_count": 28,
     "metadata": {},
     "output_type": "execute_result"
    },
    {
     "data": {
      "application/vnd.jupyter.widget-view+json": {
       "model_id": "",
       "version_major": 2,
       "version_minor": 0
      },
      "text/plain": [
       "HBox(children=(IntProgress(value=0, max=32), HTML(value='')))"
      ]
     },
     "metadata": {},
     "output_type": "display_data"
    },
    {
     "data": {
      "application/vnd.jupyter.widget-view+json": {
       "model_id": "04bb87a2a87c4070a1785a23de0d68eb",
       "version_major": 2,
       "version_minor": 0
      },
      "text/plain": [
       "HBox(children=(IntProgress(value=0, max=18), HTML(value='')))"
      ]
     },
     "metadata": {},
     "output_type": "display_data"
    },
    {
     "data": {
      "application/vnd.jupyter.widget-view+json": {
       "model_id": "2ca2023a826d46e79208ec16f7f13407",
       "version_major": 2,
       "version_minor": 0
      },
      "text/plain": [
       "HBox(children=(IntProgress(value=0, max=18), HTML(value='')))"
      ]
     },
     "metadata": {},
     "output_type": "display_data"
    },
    {
     "data": {
      "application/vnd.jupyter.widget-view+json": {
       "model_id": "40600483709546529e5f94c69a4ca896",
       "version_major": 2,
       "version_minor": 0
      },
      "text/plain": [
       "HBox(children=(IntProgress(value=0, max=18), HTML(value='')))"
      ]
     },
     "metadata": {},
     "output_type": "display_data"
    },
    {
     "data": {
      "application/vnd.jupyter.widget-view+json": {
       "model_id": "fa2bfc2493a8465da76c38e2219a2540",
       "version_major": 2,
       "version_minor": 0
      },
      "text/plain": [
       "HBox(children=(IntProgress(value=0, max=18), HTML(value='')))"
      ]
     },
     "metadata": {},
     "output_type": "display_data"
    },
    {
     "data": {
      "application/vnd.jupyter.widget-view+json": {
       "model_id": "621c5081b7df45c483278ecb20886c6e",
       "version_major": 2,
       "version_minor": 0
      },
      "text/plain": [
       "HBox(children=(IntProgress(value=0, max=18), HTML(value='')))"
      ]
     },
     "metadata": {},
     "output_type": "display_data"
    },
    {
     "data": {
      "application/vnd.jupyter.widget-view+json": {
       "model_id": "7b025fae09f44081a7a6eb7268ce6682",
       "version_major": 2,
       "version_minor": 0
      },
      "text/plain": [
       "HBox(children=(IntProgress(value=0, max=18), HTML(value='')))"
      ]
     },
     "metadata": {},
     "output_type": "display_data"
    },
    {
     "data": {
      "application/vnd.jupyter.widget-view+json": {
       "model_id": "81a2536822f04eab96183224f84fe0df",
       "version_major": 2,
       "version_minor": 0
      },
      "text/plain": [
       "HBox(children=(IntProgress(value=0, max=18), HTML(value='')))"
      ]
     },
     "metadata": {},
     "output_type": "display_data"
    },
    {
     "data": {
      "application/vnd.jupyter.widget-view+json": {
       "model_id": "c4af0af0e7534ceaa8dc4e85c0a701e1",
       "version_major": 2,
       "version_minor": 0
      },
      "text/plain": [
       "HBox(children=(IntProgress(value=0, max=18), HTML(value='')))"
      ]
     },
     "metadata": {},
     "output_type": "display_data"
    },
    {
     "data": {
      "application/vnd.jupyter.widget-view+json": {
       "model_id": "295b695122da49329da85bb874e2e82a",
       "version_major": 2,
       "version_minor": 0
      },
      "text/plain": [
       "HBox(children=(IntProgress(value=0, max=18), HTML(value='')))"
      ]
     },
     "metadata": {},
     "output_type": "display_data"
    },
    {
     "data": {
      "application/vnd.jupyter.widget-view+json": {
       "model_id": "b6124354442546eeaa991c4b4b525dc0",
       "version_major": 2,
       "version_minor": 0
      },
      "text/plain": [
       "HBox(children=(IntProgress(value=0, max=18), HTML(value='')))"
      ]
     },
     "metadata": {},
     "output_type": "display_data"
    },
    {
     "data": {
      "application/vnd.jupyter.widget-view+json": {
       "model_id": "24134865d0ea40d7b51df6e0d873b3d0",
       "version_major": 2,
       "version_minor": 0
      },
      "text/plain": [
       "HBox(children=(IntProgress(value=0, max=18), HTML(value='')))"
      ]
     },
     "metadata": {},
     "output_type": "display_data"
    },
    {
     "data": {
      "application/vnd.jupyter.widget-view+json": {
       "model_id": "976a7a498c674ba2b2fa8f5710094818",
       "version_major": 2,
       "version_minor": 0
      },
      "text/plain": [
       "HBox(children=(IntProgress(value=0, max=18), HTML(value='')))"
      ]
     },
     "metadata": {},
     "output_type": "display_data"
    },
    {
     "data": {
      "application/vnd.jupyter.widget-view+json": {
       "model_id": "d9347bc565aa4efda47f6c65899a3337",
       "version_major": 2,
       "version_minor": 0
      },
      "text/plain": [
       "HBox(children=(IntProgress(value=0, max=18), HTML(value='')))"
      ]
     },
     "metadata": {},
     "output_type": "display_data"
    },
    {
     "data": {
      "application/vnd.jupyter.widget-view+json": {
       "model_id": "8c6f4c98e5a34df998b737a0720b32c3",
       "version_major": 2,
       "version_minor": 0
      },
      "text/plain": [
       "HBox(children=(IntProgress(value=0, max=18), HTML(value='')))"
      ]
     },
     "metadata": {},
     "output_type": "display_data"
    },
    {
     "data": {
      "application/vnd.jupyter.widget-view+json": {
       "model_id": "7422bb5519ed403fbfb0ac1981d8850c",
       "version_major": 2,
       "version_minor": 0
      },
      "text/plain": [
       "HBox(children=(IntProgress(value=0, max=18), HTML(value='')))"
      ]
     },
     "metadata": {},
     "output_type": "display_data"
    },
    {
     "data": {
      "application/vnd.jupyter.widget-view+json": {
       "model_id": "588d7877bbe1482688309d34524bf2f2",
       "version_major": 2,
       "version_minor": 0
      },
      "text/plain": [
       "HBox(children=(IntProgress(value=0, max=18), HTML(value='')))"
      ]
     },
     "metadata": {},
     "output_type": "display_data"
    },
    {
     "data": {
      "application/vnd.jupyter.widget-view+json": {
       "model_id": "8a31d2a147bb42119e8c032a184608df",
       "version_major": 2,
       "version_minor": 0
      },
      "text/plain": [
       "HBox(children=(IntProgress(value=0, max=18), HTML(value='')))"
      ]
     },
     "metadata": {},
     "output_type": "display_data"
    },
    {
     "data": {
      "application/vnd.jupyter.widget-view+json": {
       "model_id": "9a6d9038ea5d4675998ee7dfcda07de2",
       "version_major": 2,
       "version_minor": 0
      },
      "text/plain": [
       "HBox(children=(IntProgress(value=0, max=18), HTML(value='')))"
      ]
     },
     "metadata": {},
     "output_type": "display_data"
    },
    {
     "data": {
      "application/vnd.jupyter.widget-view+json": {
       "model_id": "b48d9720c8384879ab1c936e33995064",
       "version_major": 2,
       "version_minor": 0
      },
      "text/plain": [
       "HBox(children=(IntProgress(value=0, max=18), HTML(value='')))"
      ]
     },
     "metadata": {},
     "output_type": "display_data"
    },
    {
     "data": {
      "application/vnd.jupyter.widget-view+json": {
       "model_id": "2edb8eff7ad24eff936838cec83e9439",
       "version_major": 2,
       "version_minor": 0
      },
      "text/plain": [
       "HBox(children=(IntProgress(value=0, max=18), HTML(value='')))"
      ]
     },
     "metadata": {},
     "output_type": "display_data"
    },
    {
     "data": {
      "application/vnd.jupyter.widget-view+json": {
       "model_id": "e4ac8edc02aa481f8d2d605e1b410f05",
       "version_major": 2,
       "version_minor": 0
      },
      "text/plain": [
       "HBox(children=(IntProgress(value=0, max=18), HTML(value='')))"
      ]
     },
     "metadata": {},
     "output_type": "display_data"
    },
    {
     "data": {
      "application/vnd.jupyter.widget-view+json": {
       "model_id": "25888bdc15b544fbbe8e0e9d8c21b79c",
       "version_major": 2,
       "version_minor": 0
      },
      "text/plain": [
       "HBox(children=(IntProgress(value=0, max=18), HTML(value='')))"
      ]
     },
     "metadata": {},
     "output_type": "display_data"
    },
    {
     "data": {
      "application/vnd.jupyter.widget-view+json": {
       "model_id": "b8f32bef5d3e4a9c8ea4cd859492bc8f",
       "version_major": 2,
       "version_minor": 0
      },
      "text/plain": [
       "HBox(children=(IntProgress(value=0, max=18), HTML(value='')))"
      ]
     },
     "metadata": {},
     "output_type": "display_data"
    },
    {
     "data": {
      "application/vnd.jupyter.widget-view+json": {
       "model_id": "72f79e6acf94429a8abeb4db2f55934f",
       "version_major": 2,
       "version_minor": 0
      },
      "text/plain": [
       "HBox(children=(IntProgress(value=0, max=18), HTML(value='')))"
      ]
     },
     "metadata": {},
     "output_type": "display_data"
    },
    {
     "data": {
      "application/vnd.jupyter.widget-view+json": {
       "model_id": "5ecd274816fc4c4d88174d0cc5748e56",
       "version_major": 2,
       "version_minor": 0
      },
      "text/plain": [
       "HBox(children=(IntProgress(value=0, max=18), HTML(value='')))"
      ]
     },
     "metadata": {},
     "output_type": "display_data"
    },
    {
     "data": {
      "application/vnd.jupyter.widget-view+json": {
       "model_id": "d7cffa0f964940c2bdcbebdf15d9f43b",
       "version_major": 2,
       "version_minor": 0
      },
      "text/plain": [
       "HBox(children=(IntProgress(value=0, max=18), HTML(value='')))"
      ]
     },
     "metadata": {},
     "output_type": "display_data"
    },
    {
     "data": {
      "application/vnd.jupyter.widget-view+json": {
       "model_id": "69d754882e824d7d9a4c0385aa936c0f",
       "version_major": 2,
       "version_minor": 0
      },
      "text/plain": [
       "HBox(children=(IntProgress(value=0, max=18), HTML(value='')))"
      ]
     },
     "metadata": {},
     "output_type": "display_data"
    },
    {
     "data": {
      "application/vnd.jupyter.widget-view+json": {
       "model_id": "8ca3af81f5ff45d78e14fd1aa8e18534",
       "version_major": 2,
       "version_minor": 0
      },
      "text/plain": [
       "HBox(children=(IntProgress(value=0, max=18), HTML(value='')))"
      ]
     },
     "metadata": {},
     "output_type": "display_data"
    },
    {
     "data": {
      "application/vnd.jupyter.widget-view+json": {
       "model_id": "527138e6ce934ca59a13ce9f3e78d902",
       "version_major": 2,
       "version_minor": 0
      },
      "text/plain": [
       "HBox(children=(IntProgress(value=0, max=18), HTML(value='')))"
      ]
     },
     "metadata": {},
     "output_type": "display_data"
    },
    {
     "data": {
      "application/vnd.jupyter.widget-view+json": {
       "model_id": "c2e8ef01eac7497e8a4b9d72f2fb2a15",
       "version_major": 2,
       "version_minor": 0
      },
      "text/plain": [
       "HBox(children=(IntProgress(value=0, max=18), HTML(value='')))"
      ]
     },
     "metadata": {},
     "output_type": "display_data"
    },
    {
     "data": {
      "application/vnd.jupyter.widget-view+json": {
       "model_id": "3d9c9e303cb1405b845e397b22102d1d",
       "version_major": 2,
       "version_minor": 0
      },
      "text/plain": [
       "HBox(children=(IntProgress(value=0, max=18), HTML(value='')))"
      ]
     },
     "metadata": {},
     "output_type": "display_data"
    },
    {
     "data": {
      "application/vnd.jupyter.widget-view+json": {
       "model_id": "ad3e8665709c4d57a9b5e6c5d9aa1c7e",
       "version_major": 2,
       "version_minor": 0
      },
      "text/plain": [
       "HBox(children=(IntProgress(value=0, max=18), HTML(value='')))"
      ]
     },
     "metadata": {},
     "output_type": "display_data"
    },
    {
     "data": {
      "text/plain": [
       "<All keys matched successfully>"
      ]
     },
     "execution_count": 28,
     "metadata": {},
     "output_type": "execute_result"
    },
    {
     "data": {
      "application/vnd.jupyter.widget-view+json": {
       "model_id": "",
       "version_major": 2,
       "version_minor": 0
      },
      "text/plain": [
       "HBox(children=(IntProgress(value=0, max=32), HTML(value='')))"
      ]
     },
     "metadata": {},
     "output_type": "display_data"
    },
    {
     "data": {
      "application/vnd.jupyter.widget-view+json": {
       "model_id": "8fab92c8a0914eb3a2987786a6fa1212",
       "version_major": 2,
       "version_minor": 0
      },
      "text/plain": [
       "HBox(children=(IntProgress(value=0, max=18), HTML(value='')))"
      ]
     },
     "metadata": {},
     "output_type": "display_data"
    },
    {
     "data": {
      "application/vnd.jupyter.widget-view+json": {
       "model_id": "cdff6bd571714269bbc7e063986c4792",
       "version_major": 2,
       "version_minor": 0
      },
      "text/plain": [
       "HBox(children=(IntProgress(value=0, max=18), HTML(value='')))"
      ]
     },
     "metadata": {},
     "output_type": "display_data"
    },
    {
     "data": {
      "application/vnd.jupyter.widget-view+json": {
       "model_id": "da0b0359b6ac442c9ea8a18a5acaf3fd",
       "version_major": 2,
       "version_minor": 0
      },
      "text/plain": [
       "HBox(children=(IntProgress(value=0, max=18), HTML(value='')))"
      ]
     },
     "metadata": {},
     "output_type": "display_data"
    },
    {
     "data": {
      "application/vnd.jupyter.widget-view+json": {
       "model_id": "270434810d4948e5925e5ac078724ed2",
       "version_major": 2,
       "version_minor": 0
      },
      "text/plain": [
       "HBox(children=(IntProgress(value=0, max=18), HTML(value='')))"
      ]
     },
     "metadata": {},
     "output_type": "display_data"
    },
    {
     "data": {
      "application/vnd.jupyter.widget-view+json": {
       "model_id": "7a35eff684c54443a42759d29c2fe371",
       "version_major": 2,
       "version_minor": 0
      },
      "text/plain": [
       "HBox(children=(IntProgress(value=0, max=18), HTML(value='')))"
      ]
     },
     "metadata": {},
     "output_type": "display_data"
    },
    {
     "data": {
      "application/vnd.jupyter.widget-view+json": {
       "model_id": "c168458feb514ee38ea7b2a387839bf2",
       "version_major": 2,
       "version_minor": 0
      },
      "text/plain": [
       "HBox(children=(IntProgress(value=0, max=18), HTML(value='')))"
      ]
     },
     "metadata": {},
     "output_type": "display_data"
    },
    {
     "data": {
      "application/vnd.jupyter.widget-view+json": {
       "model_id": "60884c7ed04a4af9bc56450748694268",
       "version_major": 2,
       "version_minor": 0
      },
      "text/plain": [
       "HBox(children=(IntProgress(value=0, max=18), HTML(value='')))"
      ]
     },
     "metadata": {},
     "output_type": "display_data"
    },
    {
     "data": {
      "application/vnd.jupyter.widget-view+json": {
       "model_id": "1a75cc1a941c424593a04f8049c043fd",
       "version_major": 2,
       "version_minor": 0
      },
      "text/plain": [
       "HBox(children=(IntProgress(value=0, max=18), HTML(value='')))"
      ]
     },
     "metadata": {},
     "output_type": "display_data"
    },
    {
     "data": {
      "application/vnd.jupyter.widget-view+json": {
       "model_id": "22a815e0cdb14aa287b38c02cfa4af10",
       "version_major": 2,
       "version_minor": 0
      },
      "text/plain": [
       "HBox(children=(IntProgress(value=0, max=18), HTML(value='')))"
      ]
     },
     "metadata": {},
     "output_type": "display_data"
    },
    {
     "data": {
      "application/vnd.jupyter.widget-view+json": {
       "model_id": "e56c6be08ec64a39bcd34c6be3df2208",
       "version_major": 2,
       "version_minor": 0
      },
      "text/plain": [
       "HBox(children=(IntProgress(value=0, max=18), HTML(value='')))"
      ]
     },
     "metadata": {},
     "output_type": "display_data"
    },
    {
     "data": {
      "application/vnd.jupyter.widget-view+json": {
       "model_id": "e43065af48ce4e97a38bac8de6cb5a76",
       "version_major": 2,
       "version_minor": 0
      },
      "text/plain": [
       "HBox(children=(IntProgress(value=0, max=18), HTML(value='')))"
      ]
     },
     "metadata": {},
     "output_type": "display_data"
    },
    {
     "data": {
      "application/vnd.jupyter.widget-view+json": {
       "model_id": "74fee05c61d543edadc2345202133e3d",
       "version_major": 2,
       "version_minor": 0
      },
      "text/plain": [
       "HBox(children=(IntProgress(value=0, max=18), HTML(value='')))"
      ]
     },
     "metadata": {},
     "output_type": "display_data"
    },
    {
     "data": {
      "application/vnd.jupyter.widget-view+json": {
       "model_id": "a08055f7f17e469a91268047abb9e97d",
       "version_major": 2,
       "version_minor": 0
      },
      "text/plain": [
       "HBox(children=(IntProgress(value=0, max=18), HTML(value='')))"
      ]
     },
     "metadata": {},
     "output_type": "display_data"
    },
    {
     "data": {
      "application/vnd.jupyter.widget-view+json": {
       "model_id": "05830ddbd1d04b779124c926bd1e66c7",
       "version_major": 2,
       "version_minor": 0
      },
      "text/plain": [
       "HBox(children=(IntProgress(value=0, max=18), HTML(value='')))"
      ]
     },
     "metadata": {},
     "output_type": "display_data"
    },
    {
     "data": {
      "application/vnd.jupyter.widget-view+json": {
       "model_id": "ffba2f69f2bd4985a702145e5374a623",
       "version_major": 2,
       "version_minor": 0
      },
      "text/plain": [
       "HBox(children=(IntProgress(value=0, max=18), HTML(value='')))"
      ]
     },
     "metadata": {},
     "output_type": "display_data"
    },
    {
     "data": {
      "application/vnd.jupyter.widget-view+json": {
       "model_id": "b561334740564a68b2abde24672d1a32",
       "version_major": 2,
       "version_minor": 0
      },
      "text/plain": [
       "HBox(children=(IntProgress(value=0, max=18), HTML(value='')))"
      ]
     },
     "metadata": {},
     "output_type": "display_data"
    },
    {
     "data": {
      "application/vnd.jupyter.widget-view+json": {
       "model_id": "efcb530ea91040138dc30de0c0abac7f",
       "version_major": 2,
       "version_minor": 0
      },
      "text/plain": [
       "HBox(children=(IntProgress(value=0, max=18), HTML(value='')))"
      ]
     },
     "metadata": {},
     "output_type": "display_data"
    },
    {
     "data": {
      "application/vnd.jupyter.widget-view+json": {
       "model_id": "214d08d5cfe7479483ebff74b93778c5",
       "version_major": 2,
       "version_minor": 0
      },
      "text/plain": [
       "HBox(children=(IntProgress(value=0, max=18), HTML(value='')))"
      ]
     },
     "metadata": {},
     "output_type": "display_data"
    },
    {
     "data": {
      "application/vnd.jupyter.widget-view+json": {
       "model_id": "788bf50345da4850aff48d00a57bd54f",
       "version_major": 2,
       "version_minor": 0
      },
      "text/plain": [
       "HBox(children=(IntProgress(value=0, max=18), HTML(value='')))"
      ]
     },
     "metadata": {},
     "output_type": "display_data"
    },
    {
     "data": {
      "application/vnd.jupyter.widget-view+json": {
       "model_id": "13e5c47e1c974f469f0ab1d32badf974",
       "version_major": 2,
       "version_minor": 0
      },
      "text/plain": [
       "HBox(children=(IntProgress(value=0, max=18), HTML(value='')))"
      ]
     },
     "metadata": {},
     "output_type": "display_data"
    },
    {
     "data": {
      "application/vnd.jupyter.widget-view+json": {
       "model_id": "7f520bf09e954fbc8059c972dc856c98",
       "version_major": 2,
       "version_minor": 0
      },
      "text/plain": [
       "HBox(children=(IntProgress(value=0, max=18), HTML(value='')))"
      ]
     },
     "metadata": {},
     "output_type": "display_data"
    },
    {
     "data": {
      "application/vnd.jupyter.widget-view+json": {
       "model_id": "5d2f3ce18fc043ed9ffc9bc1ff2ce70d",
       "version_major": 2,
       "version_minor": 0
      },
      "text/plain": [
       "HBox(children=(IntProgress(value=0, max=18), HTML(value='')))"
      ]
     },
     "metadata": {},
     "output_type": "display_data"
    },
    {
     "data": {
      "application/vnd.jupyter.widget-view+json": {
       "model_id": "b90aac6f499e482197f7eade4320690f",
       "version_major": 2,
       "version_minor": 0
      },
      "text/plain": [
       "HBox(children=(IntProgress(value=0, max=18), HTML(value='')))"
      ]
     },
     "metadata": {},
     "output_type": "display_data"
    },
    {
     "data": {
      "application/vnd.jupyter.widget-view+json": {
       "model_id": "965f19fca77a48208ff6cadce4085023",
       "version_major": 2,
       "version_minor": 0
      },
      "text/plain": [
       "HBox(children=(IntProgress(value=0, max=18), HTML(value='')))"
      ]
     },
     "metadata": {},
     "output_type": "display_data"
    },
    {
     "data": {
      "application/vnd.jupyter.widget-view+json": {
       "model_id": "844e5640bc9b4bc88318781dc07e58a3",
       "version_major": 2,
       "version_minor": 0
      },
      "text/plain": [
       "HBox(children=(IntProgress(value=0, max=18), HTML(value='')))"
      ]
     },
     "metadata": {},
     "output_type": "display_data"
    },
    {
     "data": {
      "application/vnd.jupyter.widget-view+json": {
       "model_id": "14013a86c45044bf9a64612579c2dace",
       "version_major": 2,
       "version_minor": 0
      },
      "text/plain": [
       "HBox(children=(IntProgress(value=0, max=18), HTML(value='')))"
      ]
     },
     "metadata": {},
     "output_type": "display_data"
    },
    {
     "data": {
      "application/vnd.jupyter.widget-view+json": {
       "model_id": "592cc25f6b974161b779c4d54ee731e4",
       "version_major": 2,
       "version_minor": 0
      },
      "text/plain": [
       "HBox(children=(IntProgress(value=0, max=18), HTML(value='')))"
      ]
     },
     "metadata": {},
     "output_type": "display_data"
    },
    {
     "data": {
      "application/vnd.jupyter.widget-view+json": {
       "model_id": "3b0284b10cae40e698f93ab06831f8aa",
       "version_major": 2,
       "version_minor": 0
      },
      "text/plain": [
       "HBox(children=(IntProgress(value=0, max=18), HTML(value='')))"
      ]
     },
     "metadata": {},
     "output_type": "display_data"
    },
    {
     "data": {
      "application/vnd.jupyter.widget-view+json": {
       "model_id": "f5c7be29ce9b4c06a1286fac16aa6635",
       "version_major": 2,
       "version_minor": 0
      },
      "text/plain": [
       "HBox(children=(IntProgress(value=0, max=18), HTML(value='')))"
      ]
     },
     "metadata": {},
     "output_type": "display_data"
    },
    {
     "data": {
      "application/vnd.jupyter.widget-view+json": {
       "model_id": "c68efa7996864e7f85250f13003ff161",
       "version_major": 2,
       "version_minor": 0
      },
      "text/plain": [
       "HBox(children=(IntProgress(value=0, max=18), HTML(value='')))"
      ]
     },
     "metadata": {},
     "output_type": "display_data"
    },
    {
     "data": {
      "application/vnd.jupyter.widget-view+json": {
       "model_id": "a4445d0ab91946a3b65ccf9c2c4be538",
       "version_major": 2,
       "version_minor": 0
      },
      "text/plain": [
       "HBox(children=(IntProgress(value=0, max=18), HTML(value='')))"
      ]
     },
     "metadata": {},
     "output_type": "display_data"
    },
    {
     "data": {
      "application/vnd.jupyter.widget-view+json": {
       "model_id": "3d89f5c931f2415f899973165ef3b4c2",
       "version_major": 2,
       "version_minor": 0
      },
      "text/plain": [
       "HBox(children=(IntProgress(value=0, max=18), HTML(value='')))"
      ]
     },
     "metadata": {},
     "output_type": "display_data"
    },
    {
     "data": {
      "text/plain": [
       "<All keys matched successfully>"
      ]
     },
     "execution_count": 28,
     "metadata": {},
     "output_type": "execute_result"
    },
    {
     "data": {
      "application/vnd.jupyter.widget-view+json": {
       "model_id": "",
       "version_major": 2,
       "version_minor": 0
      },
      "text/plain": [
       "HBox(children=(IntProgress(value=0, max=32), HTML(value='')))"
      ]
     },
     "metadata": {},
     "output_type": "display_data"
    },
    {
     "data": {
      "application/vnd.jupyter.widget-view+json": {
       "model_id": "c508e850746447688db29c88cb3b54f8",
       "version_major": 2,
       "version_minor": 0
      },
      "text/plain": [
       "HBox(children=(IntProgress(value=0, max=18), HTML(value='')))"
      ]
     },
     "metadata": {},
     "output_type": "display_data"
    },
    {
     "data": {
      "application/vnd.jupyter.widget-view+json": {
       "model_id": "ca1a8537bf8d4fc7b146cea7553e3b9d",
       "version_major": 2,
       "version_minor": 0
      },
      "text/plain": [
       "HBox(children=(IntProgress(value=0, max=18), HTML(value='')))"
      ]
     },
     "metadata": {},
     "output_type": "display_data"
    },
    {
     "data": {
      "application/vnd.jupyter.widget-view+json": {
       "model_id": "9b0b913289eb4e8e8bfb17400501cabe",
       "version_major": 2,
       "version_minor": 0
      },
      "text/plain": [
       "HBox(children=(IntProgress(value=0, max=18), HTML(value='')))"
      ]
     },
     "metadata": {},
     "output_type": "display_data"
    },
    {
     "data": {
      "application/vnd.jupyter.widget-view+json": {
       "model_id": "eef171e293c847cfaec52b2d3fe1288e",
       "version_major": 2,
       "version_minor": 0
      },
      "text/plain": [
       "HBox(children=(IntProgress(value=0, max=18), HTML(value='')))"
      ]
     },
     "metadata": {},
     "output_type": "display_data"
    },
    {
     "data": {
      "application/vnd.jupyter.widget-view+json": {
       "model_id": "ab2b8d6ba0c74375b187b8110a41bc1b",
       "version_major": 2,
       "version_minor": 0
      },
      "text/plain": [
       "HBox(children=(IntProgress(value=0, max=18), HTML(value='')))"
      ]
     },
     "metadata": {},
     "output_type": "display_data"
    },
    {
     "data": {
      "application/vnd.jupyter.widget-view+json": {
       "model_id": "4035b82aefd1441cbc02e87f2802483b",
       "version_major": 2,
       "version_minor": 0
      },
      "text/plain": [
       "HBox(children=(IntProgress(value=0, max=18), HTML(value='')))"
      ]
     },
     "metadata": {},
     "output_type": "display_data"
    },
    {
     "data": {
      "application/vnd.jupyter.widget-view+json": {
       "model_id": "8733b3c4c2d64b85b86f9ff2cb8e921d",
       "version_major": 2,
       "version_minor": 0
      },
      "text/plain": [
       "HBox(children=(IntProgress(value=0, max=18), HTML(value='')))"
      ]
     },
     "metadata": {},
     "output_type": "display_data"
    },
    {
     "data": {
      "application/vnd.jupyter.widget-view+json": {
       "model_id": "ff6637e5b18b467aae4b3f3b72a6a188",
       "version_major": 2,
       "version_minor": 0
      },
      "text/plain": [
       "HBox(children=(IntProgress(value=0, max=18), HTML(value='')))"
      ]
     },
     "metadata": {},
     "output_type": "display_data"
    },
    {
     "data": {
      "application/vnd.jupyter.widget-view+json": {
       "model_id": "d04c16b034d046c39215b316abafa3fa",
       "version_major": 2,
       "version_minor": 0
      },
      "text/plain": [
       "HBox(children=(IntProgress(value=0, max=18), HTML(value='')))"
      ]
     },
     "metadata": {},
     "output_type": "display_data"
    },
    {
     "data": {
      "application/vnd.jupyter.widget-view+json": {
       "model_id": "2d147ad93c1c4207abd94369c91db7d0",
       "version_major": 2,
       "version_minor": 0
      },
      "text/plain": [
       "HBox(children=(IntProgress(value=0, max=18), HTML(value='')))"
      ]
     },
     "metadata": {},
     "output_type": "display_data"
    },
    {
     "data": {
      "application/vnd.jupyter.widget-view+json": {
       "model_id": "61010bdf071a49118661c9b37a9c5ce0",
       "version_major": 2,
       "version_minor": 0
      },
      "text/plain": [
       "HBox(children=(IntProgress(value=0, max=18), HTML(value='')))"
      ]
     },
     "metadata": {},
     "output_type": "display_data"
    },
    {
     "data": {
      "application/vnd.jupyter.widget-view+json": {
       "model_id": "4dccaa2531d54c64b9795ac8db2ab423",
       "version_major": 2,
       "version_minor": 0
      },
      "text/plain": [
       "HBox(children=(IntProgress(value=0, max=18), HTML(value='')))"
      ]
     },
     "metadata": {},
     "output_type": "display_data"
    },
    {
     "data": {
      "application/vnd.jupyter.widget-view+json": {
       "model_id": "e6398cfe74954e6f97837c5592db1827",
       "version_major": 2,
       "version_minor": 0
      },
      "text/plain": [
       "HBox(children=(IntProgress(value=0, max=18), HTML(value='')))"
      ]
     },
     "metadata": {},
     "output_type": "display_data"
    },
    {
     "data": {
      "application/vnd.jupyter.widget-view+json": {
       "model_id": "9f6d467295584d3fae116fd147fb6fcf",
       "version_major": 2,
       "version_minor": 0
      },
      "text/plain": [
       "HBox(children=(IntProgress(value=0, max=18), HTML(value='')))"
      ]
     },
     "metadata": {},
     "output_type": "display_data"
    },
    {
     "data": {
      "application/vnd.jupyter.widget-view+json": {
       "model_id": "192b54383ece447eb7c0fcfc25804331",
       "version_major": 2,
       "version_minor": 0
      },
      "text/plain": [
       "HBox(children=(IntProgress(value=0, max=18), HTML(value='')))"
      ]
     },
     "metadata": {},
     "output_type": "display_data"
    },
    {
     "data": {
      "application/vnd.jupyter.widget-view+json": {
       "model_id": "5d8cb9a5743e4e4c946bbc7a5d543d20",
       "version_major": 2,
       "version_minor": 0
      },
      "text/plain": [
       "HBox(children=(IntProgress(value=0, max=18), HTML(value='')))"
      ]
     },
     "metadata": {},
     "output_type": "display_data"
    },
    {
     "data": {
      "application/vnd.jupyter.widget-view+json": {
       "model_id": "bfdc570a171f497fa5a5cd7fe7ba7bd5",
       "version_major": 2,
       "version_minor": 0
      },
      "text/plain": [
       "HBox(children=(IntProgress(value=0, max=18), HTML(value='')))"
      ]
     },
     "metadata": {},
     "output_type": "display_data"
    },
    {
     "data": {
      "application/vnd.jupyter.widget-view+json": {
       "model_id": "e48c7ca6d65e44468df21ef290ebe98a",
       "version_major": 2,
       "version_minor": 0
      },
      "text/plain": [
       "HBox(children=(IntProgress(value=0, max=18), HTML(value='')))"
      ]
     },
     "metadata": {},
     "output_type": "display_data"
    },
    {
     "data": {
      "application/vnd.jupyter.widget-view+json": {
       "model_id": "0da5160342084883b8ea92dd78a04766",
       "version_major": 2,
       "version_minor": 0
      },
      "text/plain": [
       "HBox(children=(IntProgress(value=0, max=18), HTML(value='')))"
      ]
     },
     "metadata": {},
     "output_type": "display_data"
    },
    {
     "data": {
      "application/vnd.jupyter.widget-view+json": {
       "model_id": "60c56c8c116e4364af4f73f8c9f1c59b",
       "version_major": 2,
       "version_minor": 0
      },
      "text/plain": [
       "HBox(children=(IntProgress(value=0, max=18), HTML(value='')))"
      ]
     },
     "metadata": {},
     "output_type": "display_data"
    },
    {
     "data": {
      "application/vnd.jupyter.widget-view+json": {
       "model_id": "e522e1753bd84e65b749d2d8780da2a4",
       "version_major": 2,
       "version_minor": 0
      },
      "text/plain": [
       "HBox(children=(IntProgress(value=0, max=18), HTML(value='')))"
      ]
     },
     "metadata": {},
     "output_type": "display_data"
    },
    {
     "data": {
      "application/vnd.jupyter.widget-view+json": {
       "model_id": "fd962d223b7942bfb81d04102cb9022c",
       "version_major": 2,
       "version_minor": 0
      },
      "text/plain": [
       "HBox(children=(IntProgress(value=0, max=18), HTML(value='')))"
      ]
     },
     "metadata": {},
     "output_type": "display_data"
    },
    {
     "data": {
      "application/vnd.jupyter.widget-view+json": {
       "model_id": "c618e584d6e048b19b32b8089171e273",
       "version_major": 2,
       "version_minor": 0
      },
      "text/plain": [
       "HBox(children=(IntProgress(value=0, max=18), HTML(value='')))"
      ]
     },
     "metadata": {},
     "output_type": "display_data"
    },
    {
     "data": {
      "application/vnd.jupyter.widget-view+json": {
       "model_id": "aee1cffbda69420184efbd8386d31d62",
       "version_major": 2,
       "version_minor": 0
      },
      "text/plain": [
       "HBox(children=(IntProgress(value=0, max=18), HTML(value='')))"
      ]
     },
     "metadata": {},
     "output_type": "display_data"
    },
    {
     "data": {
      "application/vnd.jupyter.widget-view+json": {
       "model_id": "f16094dc4c9e45f49aedf26c1a0e5f35",
       "version_major": 2,
       "version_minor": 0
      },
      "text/plain": [
       "HBox(children=(IntProgress(value=0, max=18), HTML(value='')))"
      ]
     },
     "metadata": {},
     "output_type": "display_data"
    },
    {
     "data": {
      "application/vnd.jupyter.widget-view+json": {
       "model_id": "19bcde53575046ce9fb24507503a326c",
       "version_major": 2,
       "version_minor": 0
      },
      "text/plain": [
       "HBox(children=(IntProgress(value=0, max=18), HTML(value='')))"
      ]
     },
     "metadata": {},
     "output_type": "display_data"
    },
    {
     "data": {
      "application/vnd.jupyter.widget-view+json": {
       "model_id": "c98fdd814c2245688aa682236524673f",
       "version_major": 2,
       "version_minor": 0
      },
      "text/plain": [
       "HBox(children=(IntProgress(value=0, max=18), HTML(value='')))"
      ]
     },
     "metadata": {},
     "output_type": "display_data"
    },
    {
     "data": {
      "application/vnd.jupyter.widget-view+json": {
       "model_id": "8909263cf875437e9e2a29fc12d72283",
       "version_major": 2,
       "version_minor": 0
      },
      "text/plain": [
       "HBox(children=(IntProgress(value=0, max=18), HTML(value='')))"
      ]
     },
     "metadata": {},
     "output_type": "display_data"
    },
    {
     "data": {
      "application/vnd.jupyter.widget-view+json": {
       "model_id": "a453d9f28796493f90e23496164db6a8",
       "version_major": 2,
       "version_minor": 0
      },
      "text/plain": [
       "HBox(children=(IntProgress(value=0, max=18), HTML(value='')))"
      ]
     },
     "metadata": {},
     "output_type": "display_data"
    },
    {
     "data": {
      "application/vnd.jupyter.widget-view+json": {
       "model_id": "46107755faae46c686a35ed3cd4baa2e",
       "version_major": 2,
       "version_minor": 0
      },
      "text/plain": [
       "HBox(children=(IntProgress(value=0, max=18), HTML(value='')))"
      ]
     },
     "metadata": {},
     "output_type": "display_data"
    },
    {
     "data": {
      "application/vnd.jupyter.widget-view+json": {
       "model_id": "fd281c9ea5334a73ada8ba439a0d71cc",
       "version_major": 2,
       "version_minor": 0
      },
      "text/plain": [
       "HBox(children=(IntProgress(value=0, max=18), HTML(value='')))"
      ]
     },
     "metadata": {},
     "output_type": "display_data"
    },
    {
     "data": {
      "application/vnd.jupyter.widget-view+json": {
       "model_id": "6522cd4b6b72494d977f1f45505838b7",
       "version_major": 2,
       "version_minor": 0
      },
      "text/plain": [
       "HBox(children=(IntProgress(value=0, max=18), HTML(value='')))"
      ]
     },
     "metadata": {},
     "output_type": "display_data"
    },
    {
     "name": "stdout",
     "output_type": "stream",
     "text": [
      "\n"
     ]
    }
   ],
   "source": [
    "pred_list_tmp=[]\n",
    "for num_split in tqdm_notebook(range(3)):\n",
    "    model_name,version = 'Densenet201_3' , 'classifier_splits'\n",
    "    pickle_file=open(outputs_dir+outputs_format.format(model_name,version,'features_test',num_split),'rb')\n",
    "    features=pickle.load(pickle_file)\n",
    "    pickle_file.close()\n",
    "    features=features.reshape(features.shape[0]//8,8,-1)\n",
    "\n",
    "    model=ResModel(features.shape[-1])\n",
    "    version=version+'_fullhead_resmodel'\n",
    "\n",
    "    model.load_state_dict(torch.load(models_dir+models_format.format(model_name,version,num_split),map_location=torch.device(device)))\n",
    "    test_dataset=train_dataset=FullHeadDataset(test_df,\n",
    "                                  test_df.SeriesI.unique(),\n",
    "                                  features,\n",
    "                                  'SeriesI',\n",
    "                                  'ImagePositionZ')\n",
    "    for i in tqdm_notebook(range(32),leave=False):\n",
    "        pred_list.append(model_run(model,test_dataset,do_apex=False,batch_size=128)[...,None])\n",
    "        pred_list_tmp.append(pred_list[-1])\n",
    "pred201=torch.cat(pred_list_tmp,-1).mean(-1)"
   ]
  },
  {
   "cell_type": "code",
   "execution_count": 29,
   "metadata": {},
   "outputs": [],
   "source": [
    "pred = torch.cat(pred_list,-1).mean(-1)"
   ]
  },
  {
   "cell_type": "code",
   "execution_count": 30,
   "metadata": {},
   "outputs": [
    {
     "data": {
      "text/plain": [
       "288"
      ]
     },
     "execution_count": 30,
     "metadata": {},
     "output_type": "execute_result"
    }
   ],
   "source": [
    "len(pred_list)"
   ]
  },
  {
   "cell_type": "code",
   "execution_count": 31,
   "metadata": {},
   "outputs": [
    {
     "data": {
      "application/vnd.jupyter.widget-view+json": {
       "model_id": "8350f90568ed4be1aba13e3e0d594ad8",
       "version_major": 2,
       "version_minor": 0
      },
      "text/plain": [
       "HBox(children=(IntProgress(value=0, max=2214), HTML(value='')))"
      ]
     },
     "metadata": {},
     "output_type": "display_data"
    },
    {
     "name": "stdout",
     "output_type": "stream",
     "text": [
      "\n"
     ]
    },
    {
     "data": {
      "text/plain": [
       "(78545,)"
      ]
     },
     "execution_count": 31,
     "metadata": {},
     "output_type": "execute_result"
    },
    {
     "data": {
      "text/plain": [
       "(78545, 6)"
      ]
     },
     "execution_count": 31,
     "metadata": {},
     "output_type": "execute_result"
    }
   ],
   "source": [
    "images_id_list=[]\n",
    "dummeys=[]\n",
    "image_arr=test_df.PatientID.values\n",
    "ref_arr=test_df.SeriesI.values\n",
    "order_arr=test_df.ImagePositionZ.values\n",
    "for s in tqdm_notebook(test_df.SeriesI.unique()):\n",
    "    dumm=np.zeros(60)\n",
    "    head_idx = np.where(ref_arr==s)[0]\n",
    "    sorted_head_idx=head_idx[np.argsort(order_arr[head_idx])]\n",
    "    images_id_list.append(image_arr[sorted_head_idx])\n",
    "    dumm[0:head_idx.shape[0]]=1\n",
    "    dummeys.append(dumm)\n",
    "image_ids=np.concatenate(images_id_list)\n",
    "preds=pred.reshape(pred.shape[0]*pred.shape[1],6).numpy()[np.concatenate(dummeys)==1]\n",
    "\n",
    "image_ids.shape\n",
    "\n",
    "preds.shape"
   ]
  },
  {
   "cell_type": "code",
   "execution_count": null,
   "metadata": {},
   "outputs": [],
   "source": [
    "len(pred_list)"
   ]
  },
  {
   "cell_type": "code",
   "execution_count": null,
   "metadata": {},
   "outputs": [],
   "source": [
    "preds2=preds"
   ]
  },
  {
   "cell_type": "code",
   "execution_count": null,
   "metadata": {},
   "outputs": [],
   "source": [
    "%matplotlib nbagg\n",
    "num_neighbors=2\n",
    "model_name,version, num_split = 'Densenet169_3' , 'basic_classifier_wso',2\n",
    "pickle_file=open(outputs_dir+outputs_format.format(model_name,version,'features_train_tta',num_split),'rb')\n",
    "features=pickle.load(pickle_file)\n",
    "pickle_file.close()\n",
    "features.shape\n",
    "\n",
    "features=features.reshape(features.shape[0]//4,4,-1)\n",
    "features.shape\n",
    "\n",
    "features=features[np.where(~dup)]\n",
    "features.shape[0]\n",
    "\n",
    "np.random.seed(SEED+num_split)\n",
    "torch.manual_seed(SEED+num_split)\n",
    "torch.cuda.manual_seed(SEED+num_split)\n",
    "torch.backends.cudnn.deterministic = True\n",
    "batch_size=16\n",
    "num_workers=4\n",
    "\n",
    "#model0 = MyDenseNet(models.densenet161(pretrained=True),len(hemorrhage_types),num_channels=3)\n",
    "#model0.load_state_dict(torch.load(models_dir+models_format.format(model_name,version,num_split),map_location=torch.device(device)))\n",
    "#_=model0.to('cpu')\n",
    "weights = torch.tensor([1.,1.,1.,1.,1.,2.],device=device)\n",
    "train_dataset=FullHeadDataset(train_df,\n",
    "                              split_train,\n",
    "                              features,\n",
    "                              'SeriesI',\n",
    "                              'ImagePositionZ',\n",
    "                              hemorrhage_types)                \n",
    "validate_dataset=FullHeadDataset(train_df,\n",
    "                                 split_val,\n",
    "                                 features[:,0,:],\n",
    "                                 'SeriesI',\n",
    "                                 'ImagePositionZ',\n",
    "                                 hemorrhage_types)                \n",
    "\n",
    "model=SimpleModel2(features.shape[-1])\n",
    "num_epochs=13\n",
    "version='basic_classifier_wso_tta'+'_fullhead_SimpleModel2'\n",
    "_=model.to(device)\n",
    "\n",
    "loss_func=my_loss\n",
    "fig,ax = plt.subplots(figsize=(10,7))\n",
    "gr=loss_graph(fig,ax,num_epochs,len(train_dataset)//batch_size+1)\n",
    "#num_train_optimization_steps = num_epochs*(sample_ratio*len(train_dataset)//batch_size+int(len(train_dataset)%batch_size>0))\n",
    "#sched=WarmupExpCosineWithWarmupRestartsSchedule( t_total=num_train_optimization_steps, cycles=num_epochs,tau=0)\n",
    "param_optimizer = model.parameters()\n",
    "optimizer = torch.optim.Adam(param_optimizer, lr=0.0005)\n",
    "history,best_model= model_train(model,\n",
    "                                optimizer,\n",
    "                                train_dataset,\n",
    "                                batch_size,\n",
    "                                num_epochs,\n",
    "                                loss_func,\n",
    "                                weights=weights,\n",
    "                                do_apex=False,\n",
    "                                validate_dataset=validate_dataset,\n",
    "                                param_schedualer=None,\n",
    "                                weights_data=None,\n",
    "                                metric=Metric(torch.tensor([1.,1.,1.,1.,1.,2.])),\n",
    "                                return_model=True,\n",
    "                                num_workers=num_workers,\n",
    "                                sampler=None,\n",
    "                                graph=gr)\n",
    "torch.save(best_model.state_dict(), models_dir+models_format.format(model_name,version,num_split))"
   ]
  },
  {
   "cell_type": "code",
   "execution_count": null,
   "metadata": {},
   "outputs": [],
   "source": [
    "\n",
    "model_name,version, num_split = 'Densenet169_3' , 'basic_classifier_wso',2\n",
    "pickle_file=open(outputs_dir+outputs_format.format(model_name,version,'features_test_tta',num_split),'rb')\n",
    "features=pickle.load(pickle_file)\n",
    "pickle_file.close()\n",
    "features=features.reshape(features.shape[0]//8,8,-1)\n",
    "version=version+'_tta_fullhead_SimpleModel2'\n",
    "model=SimpleModel2(features.shape[-1])\n",
    "\n",
    "model.load_state_dict(torch.load(models_dir+models_format.format(model_name,version,num_split),map_location=torch.device(device)))\n",
    "test_dataset=train_dataset=FullHeadDataset(test_df,\n",
    "                              test_df.SeriesI.unique(),\n",
    "                              features,\n",
    "                              'SeriesI',\n",
    "                              'ImagePositionZ')\n",
    "pred_list=[]\n",
    "for i in tqdm_notebook(range(32)):\n",
    "    pred_list.append(model_run(model,test_dataset,do_apex=False,batch_size=128)[...,None])\n",
    "pred=torch.cat(pred_list,-1).mean(-1)"
   ]
  },
  {
   "cell_type": "code",
   "execution_count": null,
   "metadata": {},
   "outputs": [],
   "source": [
    "images_id_list=[]\n",
    "dummeys=[]\n",
    "image_arr=test_df.PatientID.values\n",
    "ref_arr=test_df.SeriesI.values\n",
    "order_arr=test_df.ImagePositionZ.values\n",
    "for s in tqdm_notebook(test_df.SeriesI.unique()):\n",
    "    dumm=np.zeros(60)\n",
    "    head_idx = np.where(ref_arr==s)[0]\n",
    "    sorted_head_idx=head_idx[np.argsort(order_arr[head_idx])]\n",
    "    images_id_list.append(image_arr[sorted_head_idx])\n",
    "    dumm[0:head_idx.shape[0]]=1\n",
    "    dummeys.append(dumm)\n",
    "image_ids=np.concatenate(images_id_list)\n",
    "preds=pred.reshape(pred.shape[0]*pred.shape[1],6).numpy()[np.concatenate(dummeys)==1]\n",
    "\n",
    "image_ids.shape\n",
    "\n",
    "preds.shape"
   ]
  },
  {
   "cell_type": "code",
   "execution_count": null,
   "metadata": {
    "scrolled": false
   },
   "outputs": [],
   "source": [
    "%matplotlib nbagg\n",
    "num_neighbors=2\n",
    "model_name,version, num_split = 'Densenet169_3' , 'basic_classifier_wso',2\n",
    "pickle_file=open(outputs_dir+outputs_format.format(model_name,version,'features_train_tta',num_split),'rb')\n",
    "features=pickle.load(pickle_file)\n",
    "pickle_file.close()\n",
    "features.shape\n",
    "\n",
    "features=features.reshape(features.shape[0]//4,4,-1)\n",
    "features.shape\n",
    "\n",
    "features=features[np.where(~dup)]\n",
    "features.shape[0]\n",
    "\n",
    "np.random.seed(SEED+num_split)\n",
    "torch.manual_seed(SEED+num_split)\n",
    "torch.cuda.manual_seed(SEED+num_split)\n",
    "torch.backends.cudnn.deterministic = True\n",
    "batch_size=16\n",
    "num_workers=2\n",
    "\n",
    "#model0 = MyDenseNet(models.densenet161(pretrained=True),len(hemorrhage_types),num_channels=3)\n",
    "#model0.load_state_dict(torch.load(models_dir+models_format.format(model_name,version,num_split),map_location=torch.device(device)))\n",
    "#_=model0.to('cpu')\n",
    "weights = torch.tensor([1.,1.,1.,1.,1.,2.],device=device)\n",
    "train_dataset=FullHeadDataset(train_df,\n",
    "                              split_train,\n",
    "                              features,\n",
    "                              'SeriesI',\n",
    "                              'ImagePositionZ',\n",
    "                              hemorrhage_types)                \n",
    "validate_dataset=FullHeadDataset(train_df,\n",
    "                                 split_val,\n",
    "                                 features[:,0,:],\n",
    "                                 'SeriesI',\n",
    "                                 'ImagePositionZ',\n",
    "                                 hemorrhage_types)                \n",
    "\n",
    "model=ResModel(features.shape[-1])\n",
    "num_epochs=13\n",
    "version='basic_classifier_wso_tta'+'_fullhead_ResModel'\n",
    "_=model.to(device)\n",
    "\n",
    "loss_func=my_loss\n",
    "fig,ax = plt.subplots(figsize=(10,7))\n",
    "gr=loss_graph(fig,ax,num_epochs,len(train_dataset)//batch_size+1)\n",
    "#num_train_optimization_steps = num_epochs*(sample_ratio*len(train_dataset)//batch_size+int(len(train_dataset)%batch_size>0))\n",
    "#sched=WarmupExpCosineWithWarmupRestartsSchedule( t_total=num_train_optimization_steps, cycles=num_epochs,tau=0)\n",
    "param_optimizer = model.parameters()\n",
    "optimizer = torch.optim.Adam(param_optimizer, lr=0.0005)\n",
    "history,best_model= model_train(model,\n",
    "                                optimizer,\n",
    "                                train_dataset,\n",
    "                                batch_size,\n",
    "                                num_epochs,\n",
    "                                loss_func,\n",
    "                                weights=weights,\n",
    "                                do_apex=False,\n",
    "                                validate_dataset=validate_dataset,\n",
    "                                param_schedualer=None,\n",
    "                                weights_data=None,\n",
    "                                metric=Metric(torch.tensor([1.,1.,1.,1.,1.,2.])),\n",
    "                                return_model=True,\n",
    "                                num_workers=num_workers,\n",
    "                                sampler=None,\n",
    "                                graph=gr)\n",
    "torch.save(best_model.state_dict(), models_dir+models_format.format(model_name,version,num_split))"
   ]
  },
  {
   "cell_type": "code",
   "execution_count": null,
   "metadata": {},
   "outputs": [],
   "source": [
    "\n",
    "model_name,version, num_split = 'Densenet169_3' , 'basic_classifier_wso',2\n",
    "pickle_file=open(outputs_dir+outputs_format.format(model_name,version,'features_test_tta',num_split),'rb')\n",
    "features=pickle.load(pickle_file)\n",
    "pickle_file.close()\n",
    "features=features.reshape(features.shape[0]//8,8,-1)\n",
    "version=version+'_tta_fullhead_ResModel'\n",
    "model=ResModel(features.shape[-1])\n",
    "\n",
    "model.load_state_dict(torch.load(models_dir+models_format.format(model_name,version,num_split),map_location=torch.device(device)))\n",
    "test_dataset=train_dataset=FullHeadDataset(test_df,\n",
    "                              test_df.SeriesI.unique(),\n",
    "                              features,\n",
    "                              'SeriesI',\n",
    "                              'ImagePositionZ')\n",
    "pred_list=[]\n",
    "for i in tqdm_notebook(range(32)):\n",
    "    pred_list.append(model_run(model,test_dataset,do_apex=False,batch_size=128)[...,None])\n",
    "pred=torch.cat(pred_list,-1).mean(-1)"
   ]
  },
  {
   "cell_type": "code",
   "execution_count": null,
   "metadata": {},
   "outputs": [],
   "source": [
    "images_id_list=[]\n",
    "dummeys=[]\n",
    "image_arr=test_df.PatientID.values\n",
    "ref_arr=test_df.SeriesI.values\n",
    "order_arr=test_df.ImagePositionZ.values\n",
    "for s in tqdm_notebook(test_df.SeriesI.unique()):\n",
    "    dumm=np.zeros(60)\n",
    "    head_idx = np.where(ref_arr==s)[0]\n",
    "    sorted_head_idx=head_idx[np.argsort(order_arr[head_idx])]\n",
    "    images_id_list.append(image_arr[sorted_head_idx])\n",
    "    dumm[0:head_idx.shape[0]]=1\n",
    "    dummeys.append(dumm)\n",
    "image_ids=np.concatenate(images_id_list)\n",
    "preds=pred.reshape(pred.shape[0]*pred.shape[1],6).numpy()[np.concatenate(dummeys)==1]\n",
    "\n",
    "image_ids.shape\n",
    "\n",
    "preds.shape"
   ]
  },
  {
   "cell_type": "code",
   "execution_count": null,
   "metadata": {},
   "outputs": [],
   "source": [
    "preds1=preds"
   ]
  },
  {
   "cell_type": "code",
   "execution_count": null,
   "metadata": {},
   "outputs": [],
   "source": [
    "preds=(preds1+preds2)/2"
   ]
  },
  {
   "cell_type": "code",
   "execution_count": null,
   "metadata": {},
   "outputs": [],
   "source": [
    "submission_df=get_submission_ids(image_ids,torch.tensor(preds))\n",
    "\n",
    "submission_df.head(12)\n",
    "submission_df.shape\n",
    "sub_num=37\n",
    "submission_df.to_csv('/media/hd/notebooks/data/RSNA/submissions/submission{}.csv'.format(sub_num),\n",
    "                                                                  index=False, columns=['ID','Label'])"
   ]
  },
  {
   "cell_type": "code",
   "execution_count": null,
   "metadata": {},
   "outputs": [],
   "source": [
    "num_neighbors=2\n",
    "model_name,version, num_split = 'Densenet161_3' , 'basic_classifier',2\n",
    "pickle_file=open(outputs_dir+outputs_format.format(model_name,version,'features_test',num_split),'rb')\n",
    "features=pickle.load(pickle_file)\n",
    "pickle_file.close()\n",
    "version=version+'_fullhead'\n",
    "model=SimpleModel(features.shape[-1])\n",
    "\n",
    "model.load_state_dict(torch.load(models_dir+models_format.format(model_name,version,num_split),map_location=torch.device(device)))\n",
    "test_dataset=train_dataset=FullHeadDataset(test_df,\n",
    "                              test_df.SeriesI.unique(),\n",
    "                              features,\n",
    "                              'SeriesI',\n",
    "                              'ImagePositionZ')\n",
    "pred = model_run(model,test_dataset,do_apex=False,batch_size=64)"
   ]
  },
  {
   "cell_type": "code",
   "execution_count": null,
   "metadata": {},
   "outputs": [],
   "source": [
    "images_id_list=[]\n",
    "dummeys=[]\n",
    "image_arr=test_df.PatientID.values\n",
    "ref_arr=test_df.SeriesI.values\n",
    "order_arr=test_df.ImagePositionZ.values\n",
    "for s in tqdm_notebook(test_df.SeriesI.unique()):\n",
    "    dumm=np.zeros(60)\n",
    "    head_idx = np.where(ref_arr==s)[0]\n",
    "    sorted_head_idx=head_idx[np.argsort(order_arr[head_idx])]\n",
    "    images_id_list.append(image_arr[sorted_head_idx])\n",
    "    dumm[0:head_idx.shape[0]]=1\n",
    "    dummeys.append(dumm)\n",
    "image_ids=np.concatenate(images_id_list)\n",
    "preds1=pred.reshape(pred.shape[0]*pred.shape[1],6).numpy()[np.concatenate(dummeys)==1]"
   ]
  },
  {
   "cell_type": "code",
   "execution_count": null,
   "metadata": {},
   "outputs": [],
   "source": [
    "preds0=preds\n"
   ]
  },
  {
   "cell_type": "code",
   "execution_count": null,
   "metadata": {},
   "outputs": [],
   "source": [
    "preds=(preds0+preds1)/2"
   ]
  },
  {
   "cell_type": "code",
   "execution_count": 33,
   "metadata": {},
   "outputs": [
    {
     "data": {
      "text/html": [
       "<div>\n",
       "<style scoped>\n",
       "    .dataframe tbody tr th:only-of-type {\n",
       "        vertical-align: middle;\n",
       "    }\n",
       "\n",
       "    .dataframe tbody tr th {\n",
       "        vertical-align: top;\n",
       "    }\n",
       "\n",
       "    .dataframe thead th {\n",
       "        text-align: right;\n",
       "    }\n",
       "</style>\n",
       "<table border=\"1\" class=\"dataframe\">\n",
       "  <thead>\n",
       "    <tr style=\"text-align: right;\">\n",
       "      <th></th>\n",
       "      <th>ID</th>\n",
       "      <th>Label</th>\n",
       "    </tr>\n",
       "  </thead>\n",
       "  <tbody>\n",
       "    <tr>\n",
       "      <th>0</th>\n",
       "      <td>ID_000012eaf_any</td>\n",
       "      <td>0.002140</td>\n",
       "    </tr>\n",
       "    <tr>\n",
       "      <th>1</th>\n",
       "      <td>ID_000012eaf_epidural</td>\n",
       "      <td>0.000062</td>\n",
       "    </tr>\n",
       "    <tr>\n",
       "      <th>2</th>\n",
       "      <td>ID_000012eaf_intraparenchymal</td>\n",
       "      <td>0.000272</td>\n",
       "    </tr>\n",
       "    <tr>\n",
       "      <th>3</th>\n",
       "      <td>ID_000012eaf_intraventricular</td>\n",
       "      <td>0.000039</td>\n",
       "    </tr>\n",
       "    <tr>\n",
       "      <th>4</th>\n",
       "      <td>ID_000012eaf_subarachnoid</td>\n",
       "      <td>0.000246</td>\n",
       "    </tr>\n",
       "    <tr>\n",
       "      <th>5</th>\n",
       "      <td>ID_000012eaf_subdural</td>\n",
       "      <td>0.001569</td>\n",
       "    </tr>\n",
       "    <tr>\n",
       "      <th>6</th>\n",
       "      <td>ID_0000ca2f6_any</td>\n",
       "      <td>0.001333</td>\n",
       "    </tr>\n",
       "    <tr>\n",
       "      <th>7</th>\n",
       "      <td>ID_0000ca2f6_epidural</td>\n",
       "      <td>0.000028</td>\n",
       "    </tr>\n",
       "    <tr>\n",
       "      <th>8</th>\n",
       "      <td>ID_0000ca2f6_intraparenchymal</td>\n",
       "      <td>0.000305</td>\n",
       "    </tr>\n",
       "    <tr>\n",
       "      <th>9</th>\n",
       "      <td>ID_0000ca2f6_intraventricular</td>\n",
       "      <td>0.000020</td>\n",
       "    </tr>\n",
       "    <tr>\n",
       "      <th>10</th>\n",
       "      <td>ID_0000ca2f6_subarachnoid</td>\n",
       "      <td>0.000152</td>\n",
       "    </tr>\n",
       "    <tr>\n",
       "      <th>11</th>\n",
       "      <td>ID_0000ca2f6_subdural</td>\n",
       "      <td>0.000767</td>\n",
       "    </tr>\n",
       "  </tbody>\n",
       "</table>\n",
       "</div>"
      ],
      "text/plain": [
       "                               ID     Label\n",
       "0                ID_000012eaf_any  0.002140\n",
       "1           ID_000012eaf_epidural  0.000062\n",
       "2   ID_000012eaf_intraparenchymal  0.000272\n",
       "3   ID_000012eaf_intraventricular  0.000039\n",
       "4       ID_000012eaf_subarachnoid  0.000246\n",
       "5           ID_000012eaf_subdural  0.001569\n",
       "6                ID_0000ca2f6_any  0.001333\n",
       "7           ID_0000ca2f6_epidural  0.000028\n",
       "8   ID_0000ca2f6_intraparenchymal  0.000305\n",
       "9   ID_0000ca2f6_intraventricular  0.000020\n",
       "10      ID_0000ca2f6_subarachnoid  0.000152\n",
       "11          ID_0000ca2f6_subdural  0.000767"
      ]
     },
     "execution_count": 33,
     "metadata": {},
     "output_type": "execute_result"
    },
    {
     "data": {
      "text/plain": [
       "(471270, 2)"
      ]
     },
     "execution_count": 33,
     "metadata": {},
     "output_type": "execute_result"
    }
   ],
   "source": [
    "submission_df=get_submission_ids(image_ids,torch.tensor(preds))\n",
    "submission_df.head(12)\n",
    "submission_df.shape\n",
    "sub_num=38\n",
    "submission_df.to_csv('/media/hd/notebooks/data/RSNA/submissions/submission{}.csv'.format(sub_num),\n",
    "                                                                  index=False, columns=['ID','Label'])\n"
   ]
  },
  {
   "cell_type": "code",
   "execution_count": null,
   "metadata": {},
   "outputs": [],
   "source": [
    "%matplotlib nbagg\n",
    "num_neighbors=3\n",
    "model_name,version, num_split = 'Densenet161_3' , 'basic_classifier',2\n",
    "pickle_file=open(outputs_dir+outputs_format.format(model_name,version,'features_train',num_split),'rb')\n",
    "features=pickle.load(pickle_file)\n",
    "pickle_file.close()\n",
    "np.random.seed(SEED+num_split)\n",
    "torch.manual_seed(SEED+num_split)\n",
    "torch.cuda.manual_seed(SEED+num_split)\n",
    "torch.backends.cudnn.deterministic = True\n",
    "klr=1\n",
    "batch_size=64\n",
    "num_workers=1\n",
    "num_epochs=1\n",
    "model0 = MyDenseNet(models.densenet161(pretrained=True),len(hemorrhage_types),num_channels=3)\n",
    "model0.load_state_dict(torch.load(models_dir+models_format.format(model_name,version,num_split),map_location=torch.device(device)))\n",
    "_=model0.to('cpu')\n",
    "model=NeighborsNet(len(hemorrhage_types),\n",
    "                   num_neighbors=num_neighbors,\n",
    "                   num_features=model0.classifier.in_features,\n",
    "                   intermidiate=128, \n",
    "                   dropout=0.5)\n",
    "\n",
    "\n",
    "version=version+'_neighbors{}cor'.format(num_neighbors)\n",
    "_=model.to(device)\n",
    "weights = torch.tensor([1.,1.,1.,1.,1.,2.],device=device)\n",
    "loss_func=my_loss\n",
    "param_optimizer = model.parameters()\n",
    "features_dataset=FeatursDatasetCor(train_df,features,num_neighbors,'SeriesI',hemorrhage_types)\n",
    "train_dataset=D.Subset(features_dataset,idx_train)\n",
    "validate_dataset=D.Subset(features_dataset,idx_validate)\n",
    "fig,ax = plt.subplots(figsize=(10,7))\n",
    "gr=loss_graph(fig,ax,num_epochs,len(train_dataset)//batch_size+1)\n",
    "#num_train_optimization_steps = num_epochs*(sample_ratio*len(train_dataset)//batch_size+int(len(train_dataset)%batch_size>0))\n",
    "#sched=WarmupExpCosineWithWarmupRestartsSchedule( t_total=num_train_optimization_steps, cycles=num_epochs,tau=0)\n",
    "optimizer = torch.optim.Adam(param_optimizer, lr=0.001)\n",
    "history,best_model= model_train(model,\n",
    "                                optimizer,\n",
    "                                train_dataset,\n",
    "                                batch_size,\n",
    "                                num_epochs,\n",
    "                                loss_func,\n",
    "                                weights=weights,\n",
    "                                do_apex=False,\n",
    "                                validate_dataset=validate_dataset,\n",
    "                                param_schedualer=None,\n",
    "                                weights_data=None,\n",
    "                                metric=None,\n",
    "                                return_model=True,\n",
    "                                num_workers=num_workers,\n",
    "                                sampler=None,\n",
    "                                graph=gr)\n",
    "torch.save(best_model.state_dict(), models_dir+models_format.format(model_name,version,num_split))"
   ]
  },
  {
   "cell_type": "code",
   "execution_count": null,
   "metadata": {},
   "outputs": [],
   "source": []
  }
 ],
 "metadata": {
  "kernelspec": {
   "display_name": "Python 3",
   "language": "python",
   "name": "python3"
  },
  "language_info": {
   "codemirror_mode": {
    "name": "ipython",
    "version": 3
   },
   "file_extension": ".py",
   "mimetype": "text/x-python",
   "name": "python",
   "nbconvert_exporter": "python",
   "pygments_lexer": "ipython3",
   "version": "3.6.6"
  }
 },
 "nbformat": 4,
 "nbformat_minor": 2
}
