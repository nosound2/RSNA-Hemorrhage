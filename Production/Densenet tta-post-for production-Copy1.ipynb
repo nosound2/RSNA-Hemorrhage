{
 "cells": [
  {
   "cell_type": "code",
   "execution_count": 1,
   "metadata": {},
   "outputs": [
    {
     "name": "stderr",
     "output_type": "stream",
     "text": [
      "/home/reina/anaconda3/envs/RSNA/lib/python3.6/importlib/_bootstrap.py:219: ImportWarning: can't resolve package from __spec__ or __package__, falling back on __name__ and __path__\n",
      "  return f(*args, **kwds)\n",
      "/home/reina/anaconda3/envs/RSNA/lib/python3.6/importlib/_bootstrap.py:219: ImportWarning: can't resolve package from __spec__ or __package__, falling back on __name__ and __path__\n",
      "  return f(*args, **kwds)\n"
     ]
    }
   ],
   "source": [
    "from __future__ import absolute_import\n",
    "from __future__ import division\n",
    "from __future__ import print_function\n",
    "\n",
    "\n",
    "import numpy as np # linear algebra\n",
    "import pandas as pd # data processing, CSV file I/O (e.g. pd.read_csv)\n",
    "import os\n",
    "import datetime\n",
    "import seaborn as sns\n",
    "\n",
    "#import pydicom\n",
    "import time\n",
    "import gc\n",
    "import operator \n",
    "import matplotlib.pyplot as plt\n",
    "import torch\n",
    "import torch.nn as nn\n",
    "import torch.utils.data as D\n",
    "import torch.nn.functional as F\n",
    "from sklearn.model_selection import KFold\n",
    "from tqdm import tqdm, tqdm_notebook\n",
    "from IPython.core.interactiveshell import InteractiveShell\n",
    "InteractiveShell.ast_node_interactivity = \"all\"\n",
    "import warnings\n",
    "warnings.filterwarnings(action='once')\n",
    "import pickle\n",
    "%load_ext autoreload\n",
    "%autoreload 2\n",
    "%matplotlib inline\n",
    "from skimage.io import imread,imshow\n",
    "from helper import *\n",
    "import helper\n",
    "import torchvision.models as models\n",
    "from torch.optim import Adam\n",
    "from defenitions import *"
   ]
  },
  {
   "cell_type": "code",
   "execution_count": 2,
   "metadata": {},
   "outputs": [],
   "source": [
    "SEED = 8153\n",
    "#device=device_by_name(\"Tesla\")\n",
    "device=device_by_name(\"RTX\")\n",
    "#device=device_by_name(\"1060\")\n",
    "torch.cuda.set_device(device)\n",
    "#device = \"cpu\"\n",
    "sendmeemail=Email_Progress(my_gmail,my_pass,to_email,'Densenet161-Copy2-2 results')"
   ]
  },
  {
   "cell_type": "code",
   "execution_count": 3,
   "metadata": {},
   "outputs": [],
   "source": [
    "def get_submission(test_df,pred):\n",
    "    epidural_df=pd.DataFrame(data={'ID':'ID_'+test_df.PatientID.values+'_epidural','Label':torch.sigmoid(pred[:,0])})\n",
    "    intraparenchymal_df=pd.DataFrame(data={'ID':'ID_'+test_df.PatientID.values+'_intraparenchymal','Label':torch.sigmoid(pred[:,1])})\n",
    "    intraventricular_df=pd.DataFrame(data={'ID':'ID_'+test_df.PatientID.values+'_intraventricular','Label':torch.sigmoid(pred[:,2])})\n",
    "    subarachnoid_df=pd.DataFrame(data={'ID':'ID_'+test_df.PatientID.values+'_subarachnoid','Label':torch.sigmoid(pred[:,3])})\n",
    "    subdural_df=pd.DataFrame(data={'ID':'ID_'+test_df.PatientID.values+'_subdural','Label':torch.sigmoid(pred[:,4])})\n",
    "    any_df=pd.DataFrame(data={'ID':'ID_'+test_df.PatientID.values+'_any','Label':torch.sigmoid(pred[:,5])}) \n",
    "    return pd.concat([epidural_df,\n",
    "                        intraparenchymal_df,\n",
    "                        intraventricular_df,\n",
    "                        subarachnoid_df,\n",
    "                        subdural_df,\n",
    "                        any_df]).sort_values('ID').reset_index(drop=True)"
   ]
  },
  {
   "cell_type": "code",
   "execution_count": 4,
   "metadata": {},
   "outputs": [],
   "source": [
    "def get_submission_ids(image_ids,pred):\n",
    "    epidural_df=pd.DataFrame(data={'ID':'ID_'+image_ids+'_epidural','Label':torch.sigmoid(pred[:,0])})\n",
    "    intraparenchymal_df=pd.DataFrame(data={'ID':'ID_'+image_ids+'_intraparenchymal','Label':torch.sigmoid(pred[:,1])})\n",
    "    intraventricular_df=pd.DataFrame(data={'ID':'ID_'+image_ids+'_intraventricular','Label':torch.sigmoid(pred[:,2])})\n",
    "    subarachnoid_df=pd.DataFrame(data={'ID':'ID_'+image_ids+'_subarachnoid','Label':torch.sigmoid(pred[:,3])})\n",
    "    subdural_df=pd.DataFrame(data={'ID':'ID_'+image_ids+'_subdural','Label':torch.sigmoid(pred[:,4])})\n",
    "    any_df=pd.DataFrame(data={'ID':'ID_'+image_ids+'_any','Label':torch.sigmoid(pred[:,5])}) \n",
    "    return pd.concat([epidural_df,\n",
    "                        intraparenchymal_df,\n",
    "                        intraventricular_df,\n",
    "                        subarachnoid_df,\n",
    "                        subdural_df,\n",
    "                        any_df]).sort_values('ID').reset_index(drop=True)"
   ]
  },
  {
   "cell_type": "code",
   "execution_count": 5,
   "metadata": {},
   "outputs": [
    {
     "data": {
      "text/plain": [
       "(674510, 15)"
      ]
     },
     "execution_count": 5,
     "metadata": {},
     "output_type": "execute_result"
    },
    {
     "data": {
      "text/plain": [
       "(674252, 15)"
      ]
     },
     "execution_count": 5,
     "metadata": {},
     "output_type": "execute_result"
    },
    {
     "data": {
      "text/html": [
       "<div>\n",
       "<style scoped>\n",
       "    .dataframe tbody tr th:only-of-type {\n",
       "        vertical-align: middle;\n",
       "    }\n",
       "\n",
       "    .dataframe tbody tr th {\n",
       "        vertical-align: top;\n",
       "    }\n",
       "\n",
       "    .dataframe thead th {\n",
       "        text-align: right;\n",
       "    }\n",
       "</style>\n",
       "<table border=\"1\" class=\"dataframe\">\n",
       "  <thead>\n",
       "    <tr style=\"text-align: right;\">\n",
       "      <th></th>\n",
       "      <th>PatientID</th>\n",
       "      <th>epidural</th>\n",
       "      <th>intraparenchymal</th>\n",
       "      <th>intraventricular</th>\n",
       "      <th>subarachnoid</th>\n",
       "      <th>subdural</th>\n",
       "      <th>any</th>\n",
       "      <th>PID</th>\n",
       "      <th>StudyI</th>\n",
       "      <th>SeriesI</th>\n",
       "      <th>WindowCenter</th>\n",
       "      <th>WindowWidth</th>\n",
       "      <th>ImagePositionZ</th>\n",
       "      <th>ImagePositionX</th>\n",
       "      <th>ImagePositionY</th>\n",
       "    </tr>\n",
       "  </thead>\n",
       "  <tbody>\n",
       "    <tr>\n",
       "      <th>0</th>\n",
       "      <td>63eb1e259</td>\n",
       "      <td>0</td>\n",
       "      <td>0</td>\n",
       "      <td>0</td>\n",
       "      <td>0</td>\n",
       "      <td>0</td>\n",
       "      <td>0</td>\n",
       "      <td>a449357f</td>\n",
       "      <td>62d125e5b2</td>\n",
       "      <td>0be5c0d1b3</td>\n",
       "      <td>['00036', '00036']</td>\n",
       "      <td>['00080', '00080']</td>\n",
       "      <td>180.199951</td>\n",
       "      <td>-125.0</td>\n",
       "      <td>-8.000000</td>\n",
       "    </tr>\n",
       "    <tr>\n",
       "      <th>1</th>\n",
       "      <td>2669954a7</td>\n",
       "      <td>0</td>\n",
       "      <td>0</td>\n",
       "      <td>0</td>\n",
       "      <td>0</td>\n",
       "      <td>0</td>\n",
       "      <td>0</td>\n",
       "      <td>363d5865</td>\n",
       "      <td>a20b80c7bf</td>\n",
       "      <td>3564d584db</td>\n",
       "      <td>['00047', '00047']</td>\n",
       "      <td>['00080', '00080']</td>\n",
       "      <td>922.530821</td>\n",
       "      <td>-156.0</td>\n",
       "      <td>45.572849</td>\n",
       "    </tr>\n",
       "    <tr>\n",
       "      <th>2</th>\n",
       "      <td>52c9913b1</td>\n",
       "      <td>0</td>\n",
       "      <td>0</td>\n",
       "      <td>0</td>\n",
       "      <td>0</td>\n",
       "      <td>0</td>\n",
       "      <td>0</td>\n",
       "      <td>9c2b4bd7</td>\n",
       "      <td>3e3634f8cf</td>\n",
       "      <td>973274ffc9</td>\n",
       "      <td>40</td>\n",
       "      <td>150</td>\n",
       "      <td>4.455000</td>\n",
       "      <td>-125.0</td>\n",
       "      <td>-115.063000</td>\n",
       "    </tr>\n",
       "    <tr>\n",
       "      <th>3</th>\n",
       "      <td>4e6ff6126</td>\n",
       "      <td>0</td>\n",
       "      <td>0</td>\n",
       "      <td>0</td>\n",
       "      <td>0</td>\n",
       "      <td>0</td>\n",
       "      <td>0</td>\n",
       "      <td>3ae81c2d</td>\n",
       "      <td>a1390c15c2</td>\n",
       "      <td>e5ccad8244</td>\n",
       "      <td>['00036', '00036']</td>\n",
       "      <td>['00080', '00080']</td>\n",
       "      <td>100.000000</td>\n",
       "      <td>-99.5</td>\n",
       "      <td>28.500000</td>\n",
       "    </tr>\n",
       "    <tr>\n",
       "      <th>4</th>\n",
       "      <td>7858edd88</td>\n",
       "      <td>0</td>\n",
       "      <td>0</td>\n",
       "      <td>0</td>\n",
       "      <td>0</td>\n",
       "      <td>0</td>\n",
       "      <td>0</td>\n",
       "      <td>c1867feb</td>\n",
       "      <td>c73e81ed3a</td>\n",
       "      <td>28e0531b3a</td>\n",
       "      <td>40</td>\n",
       "      <td>100</td>\n",
       "      <td>145.793000</td>\n",
       "      <td>-125.0</td>\n",
       "      <td>-132.190000</td>\n",
       "    </tr>\n",
       "  </tbody>\n",
       "</table>\n",
       "</div>"
      ],
      "text/plain": [
       "   PatientID  epidural  intraparenchymal  intraventricular  subarachnoid  \\\n",
       "0  63eb1e259         0                 0                 0             0   \n",
       "1  2669954a7         0                 0                 0             0   \n",
       "2  52c9913b1         0                 0                 0             0   \n",
       "3  4e6ff6126         0                 0                 0             0   \n",
       "4  7858edd88         0                 0                 0             0   \n",
       "\n",
       "   subdural  any       PID      StudyI     SeriesI        WindowCenter  \\\n",
       "0         0    0  a449357f  62d125e5b2  0be5c0d1b3  ['00036', '00036']   \n",
       "1         0    0  363d5865  a20b80c7bf  3564d584db  ['00047', '00047']   \n",
       "2         0    0  9c2b4bd7  3e3634f8cf  973274ffc9                  40   \n",
       "3         0    0  3ae81c2d  a1390c15c2  e5ccad8244  ['00036', '00036']   \n",
       "4         0    0  c1867feb  c73e81ed3a  28e0531b3a                  40   \n",
       "\n",
       "          WindowWidth  ImagePositionZ  ImagePositionX  ImagePositionY  \n",
       "0  ['00080', '00080']      180.199951          -125.0       -8.000000  \n",
       "1  ['00080', '00080']      922.530821          -156.0       45.572849  \n",
       "2                 150        4.455000          -125.0     -115.063000  \n",
       "3  ['00080', '00080']      100.000000           -99.5       28.500000  \n",
       "4                 100      145.793000          -125.0     -132.190000  "
      ]
     },
     "execution_count": 5,
     "metadata": {},
     "output_type": "execute_result"
    }
   ],
   "source": [
    "train_df = pd.read_csv(data_dir+'train.csv')\n",
    "train_df.shape\n",
    "train_df=train_df[~train_df.PatientID.isin(bad_images)].reset_index(drop=True)\n",
    "train_df=train_df.drop_duplicates().reset_index(drop=True)\n",
    "train_df.shape\n",
    "train_df.head()"
   ]
  },
  {
   "cell_type": "code",
   "execution_count": 6,
   "metadata": {},
   "outputs": [
    {
     "data": {
      "text/html": [
       "<div>\n",
       "<style scoped>\n",
       "    .dataframe tbody tr th:only-of-type {\n",
       "        vertical-align: middle;\n",
       "    }\n",
       "\n",
       "    .dataframe tbody tr th {\n",
       "        vertical-align: top;\n",
       "    }\n",
       "\n",
       "    .dataframe thead th {\n",
       "        text-align: right;\n",
       "    }\n",
       "</style>\n",
       "<table border=\"1\" class=\"dataframe\">\n",
       "  <thead>\n",
       "    <tr style=\"text-align: right;\">\n",
       "      <th></th>\n",
       "      <th>PatientID</th>\n",
       "      <th>epidural</th>\n",
       "      <th>intraparenchymal</th>\n",
       "      <th>intraventricular</th>\n",
       "      <th>subarachnoid</th>\n",
       "      <th>subdural</th>\n",
       "      <th>any</th>\n",
       "      <th>SeriesI</th>\n",
       "      <th>PID</th>\n",
       "      <th>StudyI</th>\n",
       "      <th>WindowCenter</th>\n",
       "      <th>WindowWidth</th>\n",
       "      <th>ImagePositionZ</th>\n",
       "      <th>ImagePositionX</th>\n",
       "      <th>ImagePositionY</th>\n",
       "    </tr>\n",
       "  </thead>\n",
       "  <tbody>\n",
       "    <tr>\n",
       "      <th>0</th>\n",
       "      <td>28fbab7eb</td>\n",
       "      <td>0.5</td>\n",
       "      <td>0.5</td>\n",
       "      <td>0.5</td>\n",
       "      <td>0.5</td>\n",
       "      <td>0.5</td>\n",
       "      <td>0.5</td>\n",
       "      <td>ebfd7e4506</td>\n",
       "      <td>cf1b6b11</td>\n",
       "      <td>93407cadbb</td>\n",
       "      <td>30</td>\n",
       "      <td>80</td>\n",
       "      <td>158.458000</td>\n",
       "      <td>-125.0</td>\n",
       "      <td>-135.598000</td>\n",
       "    </tr>\n",
       "    <tr>\n",
       "      <th>1</th>\n",
       "      <td>877923b8b</td>\n",
       "      <td>0.5</td>\n",
       "      <td>0.5</td>\n",
       "      <td>0.5</td>\n",
       "      <td>0.5</td>\n",
       "      <td>0.5</td>\n",
       "      <td>0.5</td>\n",
       "      <td>6d95084e15</td>\n",
       "      <td>ad8ea58f</td>\n",
       "      <td>a337baa067</td>\n",
       "      <td>30</td>\n",
       "      <td>80</td>\n",
       "      <td>138.729050</td>\n",
       "      <td>-125.0</td>\n",
       "      <td>-101.797981</td>\n",
       "    </tr>\n",
       "    <tr>\n",
       "      <th>2</th>\n",
       "      <td>a591477cb</td>\n",
       "      <td>0.5</td>\n",
       "      <td>0.5</td>\n",
       "      <td>0.5</td>\n",
       "      <td>0.5</td>\n",
       "      <td>0.5</td>\n",
       "      <td>0.5</td>\n",
       "      <td>8e06b2c9e0</td>\n",
       "      <td>ecfb278b</td>\n",
       "      <td>0cfe838d54</td>\n",
       "      <td>30</td>\n",
       "      <td>80</td>\n",
       "      <td>60.830002</td>\n",
       "      <td>-125.0</td>\n",
       "      <td>-133.300003</td>\n",
       "    </tr>\n",
       "    <tr>\n",
       "      <th>3</th>\n",
       "      <td>42217c898</td>\n",
       "      <td>0.5</td>\n",
       "      <td>0.5</td>\n",
       "      <td>0.5</td>\n",
       "      <td>0.5</td>\n",
       "      <td>0.5</td>\n",
       "      <td>0.5</td>\n",
       "      <td>e800f419cf</td>\n",
       "      <td>e96e31f4</td>\n",
       "      <td>c497ac5bad</td>\n",
       "      <td>30</td>\n",
       "      <td>80</td>\n",
       "      <td>55.388000</td>\n",
       "      <td>-125.0</td>\n",
       "      <td>-146.081000</td>\n",
       "    </tr>\n",
       "    <tr>\n",
       "      <th>4</th>\n",
       "      <td>a130c4d2f</td>\n",
       "      <td>0.5</td>\n",
       "      <td>0.5</td>\n",
       "      <td>0.5</td>\n",
       "      <td>0.5</td>\n",
       "      <td>0.5</td>\n",
       "      <td>0.5</td>\n",
       "      <td>faeb7454f3</td>\n",
       "      <td>69affa42</td>\n",
       "      <td>854e4fbc01</td>\n",
       "      <td>30</td>\n",
       "      <td>80</td>\n",
       "      <td>33.516888</td>\n",
       "      <td>-125.0</td>\n",
       "      <td>-118.689819</td>\n",
       "    </tr>\n",
       "  </tbody>\n",
       "</table>\n",
       "</div>"
      ],
      "text/plain": [
       "   PatientID  epidural  intraparenchymal  intraventricular  subarachnoid  \\\n",
       "0  28fbab7eb       0.5               0.5               0.5           0.5   \n",
       "1  877923b8b       0.5               0.5               0.5           0.5   \n",
       "2  a591477cb       0.5               0.5               0.5           0.5   \n",
       "3  42217c898       0.5               0.5               0.5           0.5   \n",
       "4  a130c4d2f       0.5               0.5               0.5           0.5   \n",
       "\n",
       "   subdural  any     SeriesI       PID      StudyI WindowCenter WindowWidth  \\\n",
       "0       0.5  0.5  ebfd7e4506  cf1b6b11  93407cadbb           30          80   \n",
       "1       0.5  0.5  6d95084e15  ad8ea58f  a337baa067           30          80   \n",
       "2       0.5  0.5  8e06b2c9e0  ecfb278b  0cfe838d54           30          80   \n",
       "3       0.5  0.5  e800f419cf  e96e31f4  c497ac5bad           30          80   \n",
       "4       0.5  0.5  faeb7454f3  69affa42  854e4fbc01           30          80   \n",
       "\n",
       "   ImagePositionZ  ImagePositionX  ImagePositionY  \n",
       "0      158.458000          -125.0     -135.598000  \n",
       "1      138.729050          -125.0     -101.797981  \n",
       "2       60.830002          -125.0     -133.300003  \n",
       "3       55.388000          -125.0     -146.081000  \n",
       "4       33.516888          -125.0     -118.689819  "
      ]
     },
     "execution_count": 6,
     "metadata": {},
     "output_type": "execute_result"
    }
   ],
   "source": [
    "test_df = pd.read_csv(data_dir+'test.csv')\n",
    "test_df.head()"
   ]
  },
  {
   "cell_type": "code",
   "execution_count": 7,
   "metadata": {},
   "outputs": [],
   "source": [
    "split_sid = train_df.PID.unique()\n",
    "splits=list(KFold(n_splits=3,shuffle=True, random_state=SEED).split(split_sid))\n"
   ]
  },
  {
   "cell_type": "code",
   "execution_count": 8,
   "metadata": {},
   "outputs": [],
   "source": [
    "def my_loss(y_pred,y_true,weights):\n",
    "    window=(y_true>=0).to(torch.float)\n",
    "    loss = (F.binary_cross_entropy_with_logits(y_pred,y_true,reduction='none')*window*weights.expand_as(y_true)).mean()\n",
    "    return loss"
   ]
  },
  {
   "cell_type": "code",
   "execution_count": 9,
   "metadata": {},
   "outputs": [],
   "source": [
    "class Metric():\n",
    "    def __init__(self,weights,k=0.03):\n",
    "        self.weights=weights\n",
    "        self.k=k\n",
    "        self.zero()\n",
    "        \n",
    "    def zero(self):\n",
    "        self.loss_sum=0.\n",
    "        self.loss_count=0.\n",
    "        self.lossf=0.\n",
    "        \n",
    "    def calc(self,y_pred,y_true,prefix=\"\"):\n",
    "        window=(y_true>=0).to(torch.float)\n",
    "        loss = (F.binary_cross_entropy_with_logits(y_pred,y_true,reduction='none')*window*self.weights.expand_as(y_true)).mean()/(window.mean()+1e-5)\n",
    "        self.lossf=self.lossf*(1-self.k)+loss*self.k\n",
    "        self.loss_sum=self.loss_sum+loss*window.sum()\n",
    "        self.loss_count=self.loss_count+window.sum()\n",
    "        return({prefix+'mloss':self.lossf})    \n",
    "        \n",
    "    def calc_sums(self,prefix=\"\"):\n",
    "        return({prefix+'mloss_tot':self.loss_sum/self.loss_count})    \n",
    "\n"
   ]
  },
  {
   "cell_type": "code",
   "execution_count": 10,
   "metadata": {},
   "outputs": [],
   "source": [
    "#features=(features-features.mean())/features.std()"
   ]
  },
  {
   "cell_type": "code",
   "execution_count": 11,
   "metadata": {},
   "outputs": [],
   "source": [
    "class SimpleModel(nn.Module):\n",
    "    def __init__(self,in_size):\n",
    "        super(SimpleModel, self).__init__()\n",
    "        self.dont_do_grad=[]\n",
    "        self.conv2d1=torch.nn.Conv2d(1, 128, (7,in_size), padding=(3,0))\n",
    "        self.bn0=torch.nn.BatchNorm1d(128)\n",
    "        self.relu0=torch.nn.ReLU()\n",
    "        self.conv1d1=torch.nn.Conv1d(128, 128, 5, padding=2)\n",
    "        self.bn1=torch.nn.BatchNorm1d(128)\n",
    "        self.relu1=torch.nn.ReLU()\n",
    "        self.conv1d2=torch.nn.Conv1d(128, 64, 3, padding=1)\n",
    "        self.bn2=torch.nn.BatchNorm1d(64)\n",
    "        self.relu2=torch.nn.ReLU()\n",
    "        self.conv1d3=torch.nn.Conv1d(64, 6, 3, padding=1)\n",
    "        \n",
    "        \n",
    "    def forward(self, x):\n",
    "        x = self.conv2d1(x.unsqueeze(1)).squeeze(-1)\n",
    "        x = self.bn0(x)\n",
    "        x = self.relu0(x)\n",
    "        x = self.conv1d1(x)\n",
    "        x = self.bn1(x)\n",
    "        x = self.relu1(x)\n",
    "        x = self.conv1d2(x)\n",
    "        x = self.bn2(x)\n",
    "        x = self.relu2(x)\n",
    "        out = self.conv1d3(x).transpose(-1,-2)\n",
    "        return out \n",
    "                    \n",
    "    def no_grad(self):\n",
    "        for param in self.parameters():\n",
    "            param.requires_grad=False\n",
    "\n",
    "    def do_grad(self):\n",
    "        for n,p in self.named_parameters():\n",
    "            p.requires_grad=  not any(nd in n for nd in self.dont_do_grad)\n"
   ]
  },
  {
   "cell_type": "code",
   "execution_count": 12,
   "metadata": {},
   "outputs": [],
   "source": [
    "class SimpleModel2(nn.Module):\n",
    "    def __init__(self,in_size):\n",
    "        super(SimpleModel2, self).__init__()\n",
    "        self.dont_do_grad=[]\n",
    "        self.conv2d1=torch.nn.Conv2d(1, 128, (9,in_size), padding=(4,0))\n",
    "        self.bn0=torch.nn.BatchNorm1d(128)\n",
    "        self.relu0=torch.nn.ReLU()\n",
    "        self.conv1d1=torch.nn.Conv1d(128, 128, 7, padding=3)\n",
    "        self.bn1=torch.nn.BatchNorm1d(128)\n",
    "        self.relu1=torch.nn.ReLU()\n",
    "        self.conv1d2=torch.nn.Conv1d(128, 64, 5, padding=2)\n",
    "        self.bn2=torch.nn.BatchNorm1d(64)\n",
    "        self.relu2=torch.nn.ReLU()\n",
    "        self.conv1d3=torch.nn.Conv1d(64, 6, 3, padding=1)\n",
    "        \n",
    "        \n",
    "    def forward(self, x):\n",
    "        x = self.conv2d1(x.unsqueeze(1)).squeeze(-1)\n",
    "        x = self.bn0(x)\n",
    "        x = self.relu0(x)\n",
    "        x = self.conv1d1(x)\n",
    "        x = self.bn1(x)\n",
    "        x = self.relu1(x)\n",
    "        x = self.conv1d2(x)\n",
    "        x = self.bn2(x)\n",
    "        x = self.relu2(x)\n",
    "        out = self.conv1d3(x).transpose(-1,-2)\n",
    "        return out \n",
    "                    \n",
    "    def no_grad(self):\n",
    "        for param in self.parameters():\n",
    "            param.requires_grad=False\n",
    "\n",
    "    def do_grad(self):\n",
    "        for n,p in self.named_parameters():\n",
    "            p.requires_grad=  not any(nd in n for nd in self.dont_do_grad)\n"
   ]
  },
  {
   "cell_type": "code",
   "execution_count": 13,
   "metadata": {},
   "outputs": [],
   "source": [
    "class ClassModel(nn.Module):\n",
    "    def __init__(self,in_size):\n",
    "        super(ClassModel, self).__init__()\n",
    "        self.dont_do_grad=[]\n",
    "        self.conv2d1=torch.nn.Conv2d(1, 128, (9,in_size), padding=(4,0))\n",
    "        self.bn0=torch.nn.BatchNorm1d(128)\n",
    "        self.relu0=torch.nn.ReLU()\n",
    "        self.conv1d1=torch.nn.Conv1d(128, 128, 7, padding=3)\n",
    "        self.bn1=torch.nn.BatchNorm1d(128)\n",
    "        self.relu1=torch.nn.ReLU()\n",
    "        self.conv1d2=torch.nn.Conv1d(128, 64, 5, padding=2)\n",
    "        self.bn2=torch.nn.BatchNorm1d(64)\n",
    "        self.relu2=torch.nn.ReLU()\n",
    "        self.conv1d3=torch.nn.Conv1d(128, 6, 3, padding=1)\n",
    "        \n",
    "        self.conv2d1class=torch.nn.Conv2d(1, 128, (9,in_size), padding=(4,0))\n",
    "        self.bn0class=torch.nn.BatchNorm1d(128)\n",
    "        self.maxpool1class=torch.nn.MaxPool1d(3)\n",
    "        self.conv1d1class=torch.nn.Conv1d(128, 128, 3, padding=1)\n",
    "        self.bn1class=torch.nn.BatchNorm1d(128)\n",
    "        self.maxpool2class=torch.nn.MaxPool1d(3)\n",
    "        self.conv1d2class=torch.nn.Conv1d(128, 64, 2, padding=1)\n",
    "        self.bn2class=torch.nn.BatchNorm1d(64)\n",
    "\n",
    "        \n",
    "        \n",
    "    def forward(self, x):\n",
    "        z=x\n",
    "        x = self.conv2d1(x.unsqueeze(1)).squeeze(-1)\n",
    "        x = self.bn0(x)\n",
    "        x = self.relu0(x)\n",
    "        x = self.conv1d1(x)\n",
    "        x = self.bn1(x)\n",
    "        x = self.relu1(x)\n",
    "        x = self.conv1d2(x)\n",
    "        x = self.bn2(x)\n",
    "        x = self.relu2(x)\n",
    "        z=self.conv2d1class(z.unsqueeze(1)).squeeze(-1)\n",
    "        z=self.bn0class(z)\n",
    "        z=self.maxpool1class(z)\n",
    "        z=self.conv1d1class(z)\n",
    "        z=self.maxpool2class(z)\n",
    "        z=self.conv1d2class(z)\n",
    "        z=self.bn2class(z)\n",
    "        z=F.max_pool1d(z,kernel_size=z.shape[-1])\n",
    "        z=z.expand_as(x)\n",
    "        x=torch.cat([x,z],1)\n",
    "        out = self.conv1d3(x).transpose(-1,-2)\n",
    "        return out \n",
    "                    \n",
    "    def no_grad(self):\n",
    "        for param in self.parameters():\n",
    "            param.requires_grad=False\n",
    "\n",
    "    def do_grad(self):\n",
    "        for n,p in self.named_parameters():\n",
    "            p.requires_grad=  not any(nd in n for nd in self.dont_do_grad)\n"
   ]
  },
  {
   "cell_type": "code",
   "execution_count": 14,
   "metadata": {},
   "outputs": [],
   "source": [
    "class ResModel(nn.Module):\n",
    "    def __init__(self,in_size):\n",
    "        super(ResModel, self).__init__()\n",
    "        self.dont_do_grad=[]\n",
    "        self.conv2d1=torch.nn.Conv2d(1, 64, (9,in_size), padding=(4,0))\n",
    "        self.bn0=torch.nn.BatchNorm1d(64)\n",
    "        self.relu0=torch.nn.ReLU()\n",
    "        self.conv1d1=torch.nn.Conv1d(64, 64, 7, padding=3)\n",
    "        self.bn1=torch.nn.BatchNorm1d(64)\n",
    "        self.relu1=torch.nn.ReLU()\n",
    "        self.conv1d2=torch.nn.Conv1d(128, 64, 5, padding=2)\n",
    "        self.bn2=torch.nn.BatchNorm1d(64)\n",
    "        self.relu2=torch.nn.ReLU()\n",
    "        self.conv1d3=torch.nn.Conv1d(192, 6, 3, padding=1)\n",
    "        \n",
    "        \n",
    "    def forward(self, x):\n",
    "        x = self.conv2d1(x.unsqueeze(1)).squeeze(-1)\n",
    "        x = self.bn0(x)\n",
    "        x0 = self.relu0(x)\n",
    "        x = self.conv1d1(x0)\n",
    "        x = self.bn1(x)\n",
    "        x1 = self.relu1(x)\n",
    "        x = torch.cat([x0,x1],1)\n",
    "        x = self.conv1d2(x)\n",
    "        x = self.bn2(x)\n",
    "        x2 = self.relu2(x)\n",
    "        x = torch.cat([x0,x1,x2],1)\n",
    "        out = self.conv1d3(x).transpose(-1,-2)\n",
    "        return out \n",
    "                    \n",
    "    def no_grad(self):\n",
    "        for param in self.parameters():\n",
    "            param.requires_grad=False\n",
    "\n",
    "    def do_grad(self):\n",
    "        for n,p in self.named_parameters():\n",
    "            p.requires_grad=  not any(nd in n for nd in self.dont_do_grad)\n"
   ]
  },
  {
   "cell_type": "code",
   "execution_count": 15,
   "metadata": {},
   "outputs": [],
   "source": [
    "class ResDropModel(nn.Module):\n",
    "    def __init__(self,in_size,dropout=0.2):\n",
    "        super(ResDropModel, self).__init__()\n",
    "        self.dont_do_grad=[]\n",
    "        self.conv2d1=torch.nn.Conv2d(1, 64, (9,in_size), padding=(4,0))\n",
    "        self.bn0=torch.nn.BatchNorm1d(64)\n",
    "        self.relu0=torch.nn.ReLU()\n",
    "        self.conv1d1=torch.nn.Conv1d(64, 64, 7, padding=3)\n",
    "        self.bn1=torch.nn.BatchNorm1d(64)\n",
    "        self.relu1=torch.nn.ReLU()\n",
    "        self.conv1d2=torch.nn.Conv1d(128, 64, 5, padding=2)\n",
    "        self.bn2=torch.nn.BatchNorm1d(64)\n",
    "        self.relu2=torch.nn.ReLU()\n",
    "        self.conv1d3=torch.nn.Conv1d(192, 6, 3, padding=1)\n",
    "        self.dropout=dropout\n",
    "        \n",
    "    def forward(self, x):\n",
    "        x = self.conv2d1(x.unsqueeze(1)).squeeze(-1)\n",
    "        x = self.bn0(x)\n",
    "        x = F.dropout(x,self.dropout)\n",
    "        x0 = self.relu0(x) \n",
    "        x = self.conv1d1(x0)\n",
    "#        x = self.bn1(x)\n",
    "        x = F.dropout(x,self.dropout)\n",
    "        x1 = self.relu1(x)\n",
    "        x = torch.cat([x0,x1],1)\n",
    "        x = self.conv1d2(x)\n",
    "#        x = self.bn2(x)\n",
    "        x = F.dropout(x,self.dropout)\n",
    "        x2 = self.relu2(x)\n",
    "        x = torch.cat([x0,x1,x2],1)\n",
    "        x = F.dropout(x,self.dropout)\n",
    "        out = self.conv1d3(x).transpose(-1,-2)\n",
    "        return out \n",
    "                    \n",
    "    def no_grad(self):\n",
    "        for param in self.parameters():\n",
    "            param.requires_grad=False\n",
    "\n",
    "    def do_grad(self):\n",
    "        for n,p in self.named_parameters():\n",
    "            p.requires_grad=  not any(nd in n for nd in self.dont_do_grad)\n"
   ]
  },
  {
   "cell_type": "code",
   "execution_count": 21,
   "metadata": {},
   "outputs": [],
   "source": [
    "\n",
    "class ResModelIn(nn.Module):\n",
    "    def __init__(self,in_size):\n",
    "        super(ResModelIn, self).__init__()\n",
    "        self.dont_do_grad=[]\n",
    "        self.conv2d1=torch.nn.Conv2d(1, 64, (9,in_size), padding=(4,0))\n",
    "        self.bn0=torch.nn.BatchNorm1d(64)\n",
    "        self.relu0=torch.nn.ReLU()\n",
    "        self.conv1d1=torch.nn.Conv1d(64, 64, 3, padding=1)\n",
    "        self.bn1=torch.nn.BatchNorm1d(64)\n",
    "        self.relu1=torch.nn.ReLU()\n",
    "        self.conv1d2=torch.nn.Conv1d(128, 64, 3, padding=1)\n",
    "        self.bn2=torch.nn.BatchNorm1d(64)\n",
    "        self.relu2=torch.nn.ReLU()\n",
    "        self.conv1d3=torch.nn.Conv1d(192, 6, 3, padding=1)\n",
    "\n",
    "        \n",
    "        \n",
    "    def forward(self, x):\n",
    "        x = x.unsqueeze(1)\n",
    "        x = self.conv2d1(x).squeeze(-1)\n",
    "        x = self.bn0(x)\n",
    "        x0 = self.relu0(x)\n",
    "        x = self.conv1d1(x0)\n",
    "        x = self.bn1(x)\n",
    "        x1 = self.relu1(x)\n",
    "        x = torch.cat([x0,x1],1)\n",
    "        x = self.conv1d2(x)\n",
    "        x = self.bn2(x)\n",
    "        x2 = self.relu2(x)\n",
    "        x = torch.cat([x0,x1,x2],1)\n",
    "        x = self.conv1d3(x)\n",
    "        out = x.transpose(-1,-2)\n",
    "        return out \n",
    "                    \n",
    "    def no_grad(self):\n",
    "        for param in self.parameters():\n",
    "            param.requires_grad=False\n",
    "\n",
    "    def do_grad(self):\n",
    "        for n,p in self.named_parameters():\n",
    "            p.requires_grad=  not any(nd in n for nd in self.dont_do_grad)\n"
   ]
  },
  {
   "cell_type": "code",
   "execution_count": 17,
   "metadata": {},
   "outputs": [],
   "source": [
    "class BaseModel(nn.Module):\n",
    "    def __init__(self):\n",
    "        super(BaseModel, self).__init__()\n",
    "        self.dont_do_grad=[]\n",
    "        self.conv2d1=torch.nn.Conv2d(1, 128, (5,2208), padding=(2,0))\n",
    "        self.relu0=torch.nn.ReLU()\n",
    "        self.conv1d1=torch.nn.Conv1d(128, 6, 1)\n",
    "\n",
    "        \n",
    "        \n",
    "    def forward(self, x):\n",
    "        x = self.conv2d1(x.unsqueeze(1)).squeeze(-1)\n",
    "        x = self.relu0(x)\n",
    "        out = self.conv1d1(x).transpose(-1,-2)\n",
    "        return out \n",
    "                    \n",
    "    def no_grad(self):\n",
    "        for param in self.parameters():\n",
    "            param.requires_grad=False\n",
    "\n",
    "    def do_grad(self):\n",
    "        for n,p in self.named_parameters():\n",
    "            p.requires_grad=  not any(nd in n for nd in self.dont_do_grad)\n"
   ]
  },
  {
   "cell_type": "code",
   "execution_count": 22,
   "metadata": {
    "scrolled": true
   },
   "outputs": [
    {
     "data": {
      "text/plain": [
       "torch.Size([2697008, 552])"
      ]
     },
     "execution_count": 22,
     "metadata": {},
     "output_type": "execute_result"
    },
    {
     "data": {
      "text/plain": [
       "torch.Size([674252, 4, 552])"
      ]
     },
     "execution_count": 22,
     "metadata": {},
     "output_type": "execute_result"
    },
    {
     "data": {
      "text/plain": [
       "<torch._C.Generator at 0x7f597c49f770>"
      ]
     },
     "execution_count": 22,
     "metadata": {},
     "output_type": "execute_result"
    },
    {
     "data": {
      "application/javascript": [
       "/* Put everything inside the global mpl namespace */\n",
       "window.mpl = {};\n",
       "\n",
       "\n",
       "mpl.get_websocket_type = function() {\n",
       "    if (typeof(WebSocket) !== 'undefined') {\n",
       "        return WebSocket;\n",
       "    } else if (typeof(MozWebSocket) !== 'undefined') {\n",
       "        return MozWebSocket;\n",
       "    } else {\n",
       "        alert('Your browser does not have WebSocket support.' +\n",
       "              'Please try Chrome, Safari or Firefox ≥ 6. ' +\n",
       "              'Firefox 4 and 5 are also supported but you ' +\n",
       "              'have to enable WebSockets in about:config.');\n",
       "    };\n",
       "}\n",
       "\n",
       "mpl.figure = function(figure_id, websocket, ondownload, parent_element) {\n",
       "    this.id = figure_id;\n",
       "\n",
       "    this.ws = websocket;\n",
       "\n",
       "    this.supports_binary = (this.ws.binaryType != undefined);\n",
       "\n",
       "    if (!this.supports_binary) {\n",
       "        var warnings = document.getElementById(\"mpl-warnings\");\n",
       "        if (warnings) {\n",
       "            warnings.style.display = 'block';\n",
       "            warnings.textContent = (\n",
       "                \"This browser does not support binary websocket messages. \" +\n",
       "                    \"Performance may be slow.\");\n",
       "        }\n",
       "    }\n",
       "\n",
       "    this.imageObj = new Image();\n",
       "\n",
       "    this.context = undefined;\n",
       "    this.message = undefined;\n",
       "    this.canvas = undefined;\n",
       "    this.rubberband_canvas = undefined;\n",
       "    this.rubberband_context = undefined;\n",
       "    this.format_dropdown = undefined;\n",
       "\n",
       "    this.image_mode = 'full';\n",
       "\n",
       "    this.root = $('<div/>');\n",
       "    this._root_extra_style(this.root)\n",
       "    this.root.attr('style', 'display: inline-block');\n",
       "\n",
       "    $(parent_element).append(this.root);\n",
       "\n",
       "    this._init_header(this);\n",
       "    this._init_canvas(this);\n",
       "    this._init_toolbar(this);\n",
       "\n",
       "    var fig = this;\n",
       "\n",
       "    this.waiting = false;\n",
       "\n",
       "    this.ws.onopen =  function () {\n",
       "            fig.send_message(\"supports_binary\", {value: fig.supports_binary});\n",
       "            fig.send_message(\"send_image_mode\", {});\n",
       "            if (mpl.ratio != 1) {\n",
       "                fig.send_message(\"set_dpi_ratio\", {'dpi_ratio': mpl.ratio});\n",
       "            }\n",
       "            fig.send_message(\"refresh\", {});\n",
       "        }\n",
       "\n",
       "    this.imageObj.onload = function() {\n",
       "            if (fig.image_mode == 'full') {\n",
       "                // Full images could contain transparency (where diff images\n",
       "                // almost always do), so we need to clear the canvas so that\n",
       "                // there is no ghosting.\n",
       "                fig.context.clearRect(0, 0, fig.canvas.width, fig.canvas.height);\n",
       "            }\n",
       "            fig.context.drawImage(fig.imageObj, 0, 0);\n",
       "        };\n",
       "\n",
       "    this.imageObj.onunload = function() {\n",
       "        fig.ws.close();\n",
       "    }\n",
       "\n",
       "    this.ws.onmessage = this._make_on_message_function(this);\n",
       "\n",
       "    this.ondownload = ondownload;\n",
       "}\n",
       "\n",
       "mpl.figure.prototype._init_header = function() {\n",
       "    var titlebar = $(\n",
       "        '<div class=\"ui-dialog-titlebar ui-widget-header ui-corner-all ' +\n",
       "        'ui-helper-clearfix\"/>');\n",
       "    var titletext = $(\n",
       "        '<div class=\"ui-dialog-title\" style=\"width: 100%; ' +\n",
       "        'text-align: center; padding: 3px;\"/>');\n",
       "    titlebar.append(titletext)\n",
       "    this.root.append(titlebar);\n",
       "    this.header = titletext[0];\n",
       "}\n",
       "\n",
       "\n",
       "\n",
       "mpl.figure.prototype._canvas_extra_style = function(canvas_div) {\n",
       "\n",
       "}\n",
       "\n",
       "\n",
       "mpl.figure.prototype._root_extra_style = function(canvas_div) {\n",
       "\n",
       "}\n",
       "\n",
       "mpl.figure.prototype._init_canvas = function() {\n",
       "    var fig = this;\n",
       "\n",
       "    var canvas_div = $('<div/>');\n",
       "\n",
       "    canvas_div.attr('style', 'position: relative; clear: both; outline: 0');\n",
       "\n",
       "    function canvas_keyboard_event(event) {\n",
       "        return fig.key_event(event, event['data']);\n",
       "    }\n",
       "\n",
       "    canvas_div.keydown('key_press', canvas_keyboard_event);\n",
       "    canvas_div.keyup('key_release', canvas_keyboard_event);\n",
       "    this.canvas_div = canvas_div\n",
       "    this._canvas_extra_style(canvas_div)\n",
       "    this.root.append(canvas_div);\n",
       "\n",
       "    var canvas = $('<canvas/>');\n",
       "    canvas.addClass('mpl-canvas');\n",
       "    canvas.attr('style', \"left: 0; top: 0; z-index: 0; outline: 0\")\n",
       "\n",
       "    this.canvas = canvas[0];\n",
       "    this.context = canvas[0].getContext(\"2d\");\n",
       "\n",
       "    var backingStore = this.context.backingStorePixelRatio ||\n",
       "\tthis.context.webkitBackingStorePixelRatio ||\n",
       "\tthis.context.mozBackingStorePixelRatio ||\n",
       "\tthis.context.msBackingStorePixelRatio ||\n",
       "\tthis.context.oBackingStorePixelRatio ||\n",
       "\tthis.context.backingStorePixelRatio || 1;\n",
       "\n",
       "    mpl.ratio = (window.devicePixelRatio || 1) / backingStore;\n",
       "\n",
       "    var rubberband = $('<canvas/>');\n",
       "    rubberband.attr('style', \"position: absolute; left: 0; top: 0; z-index: 1;\")\n",
       "\n",
       "    var pass_mouse_events = true;\n",
       "\n",
       "    canvas_div.resizable({\n",
       "        start: function(event, ui) {\n",
       "            pass_mouse_events = false;\n",
       "        },\n",
       "        resize: function(event, ui) {\n",
       "            fig.request_resize(ui.size.width, ui.size.height);\n",
       "        },\n",
       "        stop: function(event, ui) {\n",
       "            pass_mouse_events = true;\n",
       "            fig.request_resize(ui.size.width, ui.size.height);\n",
       "        },\n",
       "    });\n",
       "\n",
       "    function mouse_event_fn(event) {\n",
       "        if (pass_mouse_events)\n",
       "            return fig.mouse_event(event, event['data']);\n",
       "    }\n",
       "\n",
       "    rubberband.mousedown('button_press', mouse_event_fn);\n",
       "    rubberband.mouseup('button_release', mouse_event_fn);\n",
       "    // Throttle sequential mouse events to 1 every 20ms.\n",
       "    rubberband.mousemove('motion_notify', mouse_event_fn);\n",
       "\n",
       "    rubberband.mouseenter('figure_enter', mouse_event_fn);\n",
       "    rubberband.mouseleave('figure_leave', mouse_event_fn);\n",
       "\n",
       "    canvas_div.on(\"wheel\", function (event) {\n",
       "        event = event.originalEvent;\n",
       "        event['data'] = 'scroll'\n",
       "        if (event.deltaY < 0) {\n",
       "            event.step = 1;\n",
       "        } else {\n",
       "            event.step = -1;\n",
       "        }\n",
       "        mouse_event_fn(event);\n",
       "    });\n",
       "\n",
       "    canvas_div.append(canvas);\n",
       "    canvas_div.append(rubberband);\n",
       "\n",
       "    this.rubberband = rubberband;\n",
       "    this.rubberband_canvas = rubberband[0];\n",
       "    this.rubberband_context = rubberband[0].getContext(\"2d\");\n",
       "    this.rubberband_context.strokeStyle = \"#000000\";\n",
       "\n",
       "    this._resize_canvas = function(width, height) {\n",
       "        // Keep the size of the canvas, canvas container, and rubber band\n",
       "        // canvas in synch.\n",
       "        canvas_div.css('width', width)\n",
       "        canvas_div.css('height', height)\n",
       "\n",
       "        canvas.attr('width', width * mpl.ratio);\n",
       "        canvas.attr('height', height * mpl.ratio);\n",
       "        canvas.attr('style', 'width: ' + width + 'px; height: ' + height + 'px;');\n",
       "\n",
       "        rubberband.attr('width', width);\n",
       "        rubberband.attr('height', height);\n",
       "    }\n",
       "\n",
       "    // Set the figure to an initial 600x600px, this will subsequently be updated\n",
       "    // upon first draw.\n",
       "    this._resize_canvas(600, 600);\n",
       "\n",
       "    // Disable right mouse context menu.\n",
       "    $(this.rubberband_canvas).bind(\"contextmenu\",function(e){\n",
       "        return false;\n",
       "    });\n",
       "\n",
       "    function set_focus () {\n",
       "        canvas.focus();\n",
       "        canvas_div.focus();\n",
       "    }\n",
       "\n",
       "    window.setTimeout(set_focus, 100);\n",
       "}\n",
       "\n",
       "mpl.figure.prototype._init_toolbar = function() {\n",
       "    var fig = this;\n",
       "\n",
       "    var nav_element = $('<div/>')\n",
       "    nav_element.attr('style', 'width: 100%');\n",
       "    this.root.append(nav_element);\n",
       "\n",
       "    // Define a callback function for later on.\n",
       "    function toolbar_event(event) {\n",
       "        return fig.toolbar_button_onclick(event['data']);\n",
       "    }\n",
       "    function toolbar_mouse_event(event) {\n",
       "        return fig.toolbar_button_onmouseover(event['data']);\n",
       "    }\n",
       "\n",
       "    for(var toolbar_ind in mpl.toolbar_items) {\n",
       "        var name = mpl.toolbar_items[toolbar_ind][0];\n",
       "        var tooltip = mpl.toolbar_items[toolbar_ind][1];\n",
       "        var image = mpl.toolbar_items[toolbar_ind][2];\n",
       "        var method_name = mpl.toolbar_items[toolbar_ind][3];\n",
       "\n",
       "        if (!name) {\n",
       "            // put a spacer in here.\n",
       "            continue;\n",
       "        }\n",
       "        var button = $('<button/>');\n",
       "        button.addClass('ui-button ui-widget ui-state-default ui-corner-all ' +\n",
       "                        'ui-button-icon-only');\n",
       "        button.attr('role', 'button');\n",
       "        button.attr('aria-disabled', 'false');\n",
       "        button.click(method_name, toolbar_event);\n",
       "        button.mouseover(tooltip, toolbar_mouse_event);\n",
       "\n",
       "        var icon_img = $('<span/>');\n",
       "        icon_img.addClass('ui-button-icon-primary ui-icon');\n",
       "        icon_img.addClass(image);\n",
       "        icon_img.addClass('ui-corner-all');\n",
       "\n",
       "        var tooltip_span = $('<span/>');\n",
       "        tooltip_span.addClass('ui-button-text');\n",
       "        tooltip_span.html(tooltip);\n",
       "\n",
       "        button.append(icon_img);\n",
       "        button.append(tooltip_span);\n",
       "\n",
       "        nav_element.append(button);\n",
       "    }\n",
       "\n",
       "    var fmt_picker_span = $('<span/>');\n",
       "\n",
       "    var fmt_picker = $('<select/>');\n",
       "    fmt_picker.addClass('mpl-toolbar-option ui-widget ui-widget-content');\n",
       "    fmt_picker_span.append(fmt_picker);\n",
       "    nav_element.append(fmt_picker_span);\n",
       "    this.format_dropdown = fmt_picker[0];\n",
       "\n",
       "    for (var ind in mpl.extensions) {\n",
       "        var fmt = mpl.extensions[ind];\n",
       "        var option = $(\n",
       "            '<option/>', {selected: fmt === mpl.default_extension}).html(fmt);\n",
       "        fmt_picker.append(option)\n",
       "    }\n",
       "\n",
       "    // Add hover states to the ui-buttons\n",
       "    $( \".ui-button\" ).hover(\n",
       "        function() { $(this).addClass(\"ui-state-hover\");},\n",
       "        function() { $(this).removeClass(\"ui-state-hover\");}\n",
       "    );\n",
       "\n",
       "    var status_bar = $('<span class=\"mpl-message\"/>');\n",
       "    nav_element.append(status_bar);\n",
       "    this.message = status_bar[0];\n",
       "}\n",
       "\n",
       "mpl.figure.prototype.request_resize = function(x_pixels, y_pixels) {\n",
       "    // Request matplotlib to resize the figure. Matplotlib will then trigger a resize in the client,\n",
       "    // which will in turn request a refresh of the image.\n",
       "    this.send_message('resize', {'width': x_pixels, 'height': y_pixels});\n",
       "}\n",
       "\n",
       "mpl.figure.prototype.send_message = function(type, properties) {\n",
       "    properties['type'] = type;\n",
       "    properties['figure_id'] = this.id;\n",
       "    this.ws.send(JSON.stringify(properties));\n",
       "}\n",
       "\n",
       "mpl.figure.prototype.send_draw_message = function() {\n",
       "    if (!this.waiting) {\n",
       "        this.waiting = true;\n",
       "        this.ws.send(JSON.stringify({type: \"draw\", figure_id: this.id}));\n",
       "    }\n",
       "}\n",
       "\n",
       "\n",
       "mpl.figure.prototype.handle_save = function(fig, msg) {\n",
       "    var format_dropdown = fig.format_dropdown;\n",
       "    var format = format_dropdown.options[format_dropdown.selectedIndex].value;\n",
       "    fig.ondownload(fig, format);\n",
       "}\n",
       "\n",
       "\n",
       "mpl.figure.prototype.handle_resize = function(fig, msg) {\n",
       "    var size = msg['size'];\n",
       "    if (size[0] != fig.canvas.width || size[1] != fig.canvas.height) {\n",
       "        fig._resize_canvas(size[0], size[1]);\n",
       "        fig.send_message(\"refresh\", {});\n",
       "    };\n",
       "}\n",
       "\n",
       "mpl.figure.prototype.handle_rubberband = function(fig, msg) {\n",
       "    var x0 = msg['x0'] / mpl.ratio;\n",
       "    var y0 = (fig.canvas.height - msg['y0']) / mpl.ratio;\n",
       "    var x1 = msg['x1'] / mpl.ratio;\n",
       "    var y1 = (fig.canvas.height - msg['y1']) / mpl.ratio;\n",
       "    x0 = Math.floor(x0) + 0.5;\n",
       "    y0 = Math.floor(y0) + 0.5;\n",
       "    x1 = Math.floor(x1) + 0.5;\n",
       "    y1 = Math.floor(y1) + 0.5;\n",
       "    var min_x = Math.min(x0, x1);\n",
       "    var min_y = Math.min(y0, y1);\n",
       "    var width = Math.abs(x1 - x0);\n",
       "    var height = Math.abs(y1 - y0);\n",
       "\n",
       "    fig.rubberband_context.clearRect(\n",
       "        0, 0, fig.canvas.width, fig.canvas.height);\n",
       "\n",
       "    fig.rubberband_context.strokeRect(min_x, min_y, width, height);\n",
       "}\n",
       "\n",
       "mpl.figure.prototype.handle_figure_label = function(fig, msg) {\n",
       "    // Updates the figure title.\n",
       "    fig.header.textContent = msg['label'];\n",
       "}\n",
       "\n",
       "mpl.figure.prototype.handle_cursor = function(fig, msg) {\n",
       "    var cursor = msg['cursor'];\n",
       "    switch(cursor)\n",
       "    {\n",
       "    case 0:\n",
       "        cursor = 'pointer';\n",
       "        break;\n",
       "    case 1:\n",
       "        cursor = 'default';\n",
       "        break;\n",
       "    case 2:\n",
       "        cursor = 'crosshair';\n",
       "        break;\n",
       "    case 3:\n",
       "        cursor = 'move';\n",
       "        break;\n",
       "    }\n",
       "    fig.rubberband_canvas.style.cursor = cursor;\n",
       "}\n",
       "\n",
       "mpl.figure.prototype.handle_message = function(fig, msg) {\n",
       "    fig.message.textContent = msg['message'];\n",
       "}\n",
       "\n",
       "mpl.figure.prototype.handle_draw = function(fig, msg) {\n",
       "    // Request the server to send over a new figure.\n",
       "    fig.send_draw_message();\n",
       "}\n",
       "\n",
       "mpl.figure.prototype.handle_image_mode = function(fig, msg) {\n",
       "    fig.image_mode = msg['mode'];\n",
       "}\n",
       "\n",
       "mpl.figure.prototype.updated_canvas_event = function() {\n",
       "    // Called whenever the canvas gets updated.\n",
       "    this.send_message(\"ack\", {});\n",
       "}\n",
       "\n",
       "// A function to construct a web socket function for onmessage handling.\n",
       "// Called in the figure constructor.\n",
       "mpl.figure.prototype._make_on_message_function = function(fig) {\n",
       "    return function socket_on_message(evt) {\n",
       "        if (evt.data instanceof Blob) {\n",
       "            /* FIXME: We get \"Resource interpreted as Image but\n",
       "             * transferred with MIME type text/plain:\" errors on\n",
       "             * Chrome.  But how to set the MIME type?  It doesn't seem\n",
       "             * to be part of the websocket stream */\n",
       "            evt.data.type = \"image/png\";\n",
       "\n",
       "            /* Free the memory for the previous frames */\n",
       "            if (fig.imageObj.src) {\n",
       "                (window.URL || window.webkitURL).revokeObjectURL(\n",
       "                    fig.imageObj.src);\n",
       "            }\n",
       "\n",
       "            fig.imageObj.src = (window.URL || window.webkitURL).createObjectURL(\n",
       "                evt.data);\n",
       "            fig.updated_canvas_event();\n",
       "            fig.waiting = false;\n",
       "            return;\n",
       "        }\n",
       "        else if (typeof evt.data === 'string' && evt.data.slice(0, 21) == \"data:image/png;base64\") {\n",
       "            fig.imageObj.src = evt.data;\n",
       "            fig.updated_canvas_event();\n",
       "            fig.waiting = false;\n",
       "            return;\n",
       "        }\n",
       "\n",
       "        var msg = JSON.parse(evt.data);\n",
       "        var msg_type = msg['type'];\n",
       "\n",
       "        // Call the  \"handle_{type}\" callback, which takes\n",
       "        // the figure and JSON message as its only arguments.\n",
       "        try {\n",
       "            var callback = fig[\"handle_\" + msg_type];\n",
       "        } catch (e) {\n",
       "            console.log(\"No handler for the '\" + msg_type + \"' message type: \", msg);\n",
       "            return;\n",
       "        }\n",
       "\n",
       "        if (callback) {\n",
       "            try {\n",
       "                // console.log(\"Handling '\" + msg_type + \"' message: \", msg);\n",
       "                callback(fig, msg);\n",
       "            } catch (e) {\n",
       "                console.log(\"Exception inside the 'handler_\" + msg_type + \"' callback:\", e, e.stack, msg);\n",
       "            }\n",
       "        }\n",
       "    };\n",
       "}\n",
       "\n",
       "// from http://stackoverflow.com/questions/1114465/getting-mouse-location-in-canvas\n",
       "mpl.findpos = function(e) {\n",
       "    //this section is from http://www.quirksmode.org/js/events_properties.html\n",
       "    var targ;\n",
       "    if (!e)\n",
       "        e = window.event;\n",
       "    if (e.target)\n",
       "        targ = e.target;\n",
       "    else if (e.srcElement)\n",
       "        targ = e.srcElement;\n",
       "    if (targ.nodeType == 3) // defeat Safari bug\n",
       "        targ = targ.parentNode;\n",
       "\n",
       "    // jQuery normalizes the pageX and pageY\n",
       "    // pageX,Y are the mouse positions relative to the document\n",
       "    // offset() returns the position of the element relative to the document\n",
       "    var x = e.pageX - $(targ).offset().left;\n",
       "    var y = e.pageY - $(targ).offset().top;\n",
       "\n",
       "    return {\"x\": x, \"y\": y};\n",
       "};\n",
       "\n",
       "/*\n",
       " * return a copy of an object with only non-object keys\n",
       " * we need this to avoid circular references\n",
       " * http://stackoverflow.com/a/24161582/3208463\n",
       " */\n",
       "function simpleKeys (original) {\n",
       "  return Object.keys(original).reduce(function (obj, key) {\n",
       "    if (typeof original[key] !== 'object')\n",
       "        obj[key] = original[key]\n",
       "    return obj;\n",
       "  }, {});\n",
       "}\n",
       "\n",
       "mpl.figure.prototype.mouse_event = function(event, name) {\n",
       "    var canvas_pos = mpl.findpos(event)\n",
       "\n",
       "    if (name === 'button_press')\n",
       "    {\n",
       "        this.canvas.focus();\n",
       "        this.canvas_div.focus();\n",
       "    }\n",
       "\n",
       "    var x = canvas_pos.x * mpl.ratio;\n",
       "    var y = canvas_pos.y * mpl.ratio;\n",
       "\n",
       "    this.send_message(name, {x: x, y: y, button: event.button,\n",
       "                             step: event.step,\n",
       "                             guiEvent: simpleKeys(event)});\n",
       "\n",
       "    /* This prevents the web browser from automatically changing to\n",
       "     * the text insertion cursor when the button is pressed.  We want\n",
       "     * to control all of the cursor setting manually through the\n",
       "     * 'cursor' event from matplotlib */\n",
       "    event.preventDefault();\n",
       "    return false;\n",
       "}\n",
       "\n",
       "mpl.figure.prototype._key_event_extra = function(event, name) {\n",
       "    // Handle any extra behaviour associated with a key event\n",
       "}\n",
       "\n",
       "mpl.figure.prototype.key_event = function(event, name) {\n",
       "\n",
       "    // Prevent repeat events\n",
       "    if (name == 'key_press')\n",
       "    {\n",
       "        if (event.which === this._key)\n",
       "            return;\n",
       "        else\n",
       "            this._key = event.which;\n",
       "    }\n",
       "    if (name == 'key_release')\n",
       "        this._key = null;\n",
       "\n",
       "    var value = '';\n",
       "    if (event.ctrlKey && event.which != 17)\n",
       "        value += \"ctrl+\";\n",
       "    if (event.altKey && event.which != 18)\n",
       "        value += \"alt+\";\n",
       "    if (event.shiftKey && event.which != 16)\n",
       "        value += \"shift+\";\n",
       "\n",
       "    value += 'k';\n",
       "    value += event.which.toString();\n",
       "\n",
       "    this._key_event_extra(event, name);\n",
       "\n",
       "    this.send_message(name, {key: value,\n",
       "                             guiEvent: simpleKeys(event)});\n",
       "    return false;\n",
       "}\n",
       "\n",
       "mpl.figure.prototype.toolbar_button_onclick = function(name) {\n",
       "    if (name == 'download') {\n",
       "        this.handle_save(this, null);\n",
       "    } else {\n",
       "        this.send_message(\"toolbar_button\", {name: name});\n",
       "    }\n",
       "};\n",
       "\n",
       "mpl.figure.prototype.toolbar_button_onmouseover = function(tooltip) {\n",
       "    this.message.textContent = tooltip;\n",
       "};\n",
       "mpl.toolbar_items = [[\"Home\", \"Reset original view\", \"fa fa-home icon-home\", \"home\"], [\"Back\", \"Back to  previous view\", \"fa fa-arrow-left icon-arrow-left\", \"back\"], [\"Forward\", \"Forward to next view\", \"fa fa-arrow-right icon-arrow-right\", \"forward\"], [\"\", \"\", \"\", \"\"], [\"Pan\", \"Pan axes with left mouse, zoom with right\", \"fa fa-arrows icon-move\", \"pan\"], [\"Zoom\", \"Zoom to rectangle\", \"fa fa-square-o icon-check-empty\", \"zoom\"], [\"\", \"\", \"\", \"\"], [\"Download\", \"Download plot\", \"fa fa-floppy-o icon-save\", \"download\"]];\n",
       "\n",
       "mpl.extensions = [\"eps\", \"jpeg\", \"pdf\", \"png\", \"ps\", \"raw\", \"svg\", \"tif\"];\n",
       "\n",
       "mpl.default_extension = \"png\";var comm_websocket_adapter = function(comm) {\n",
       "    // Create a \"websocket\"-like object which calls the given IPython comm\n",
       "    // object with the appropriate methods. Currently this is a non binary\n",
       "    // socket, so there is still some room for performance tuning.\n",
       "    var ws = {};\n",
       "\n",
       "    ws.close = function() {\n",
       "        comm.close()\n",
       "    };\n",
       "    ws.send = function(m) {\n",
       "        //console.log('sending', m);\n",
       "        comm.send(m);\n",
       "    };\n",
       "    // Register the callback with on_msg.\n",
       "    comm.on_msg(function(msg) {\n",
       "        //console.log('receiving', msg['content']['data'], msg);\n",
       "        // Pass the mpl event to the overridden (by mpl) onmessage function.\n",
       "        ws.onmessage(msg['content']['data'])\n",
       "    });\n",
       "    return ws;\n",
       "}\n",
       "\n",
       "mpl.mpl_figure_comm = function(comm, msg) {\n",
       "    // This is the function which gets called when the mpl process\n",
       "    // starts-up an IPython Comm through the \"matplotlib\" channel.\n",
       "\n",
       "    var id = msg.content.data.id;\n",
       "    // Get hold of the div created by the display call when the Comm\n",
       "    // socket was opened in Python.\n",
       "    var element = $(\"#\" + id);\n",
       "    var ws_proxy = comm_websocket_adapter(comm)\n",
       "\n",
       "    function ondownload(figure, format) {\n",
       "        window.open(figure.imageObj.src);\n",
       "    }\n",
       "\n",
       "    var fig = new mpl.figure(id, ws_proxy,\n",
       "                           ondownload,\n",
       "                           element.get(0));\n",
       "\n",
       "    // Call onopen now - mpl needs it, as it is assuming we've passed it a real\n",
       "    // web socket which is closed, not our websocket->open comm proxy.\n",
       "    ws_proxy.onopen();\n",
       "\n",
       "    fig.parent_element = element.get(0);\n",
       "    fig.cell_info = mpl.find_output_cell(\"<div id='\" + id + \"'></div>\");\n",
       "    if (!fig.cell_info) {\n",
       "        console.error(\"Failed to find cell for figure\", id, fig);\n",
       "        return;\n",
       "    }\n",
       "\n",
       "    var output_index = fig.cell_info[2]\n",
       "    var cell = fig.cell_info[0];\n",
       "\n",
       "};\n",
       "\n",
       "mpl.figure.prototype.handle_close = function(fig, msg) {\n",
       "    var width = fig.canvas.width/mpl.ratio\n",
       "    fig.root.unbind('remove')\n",
       "\n",
       "    // Update the output cell to use the data from the current canvas.\n",
       "    fig.push_to_output();\n",
       "    var dataURL = fig.canvas.toDataURL();\n",
       "    // Re-enable the keyboard manager in IPython - without this line, in FF,\n",
       "    // the notebook keyboard shortcuts fail.\n",
       "    IPython.keyboard_manager.enable()\n",
       "    $(fig.parent_element).html('<img src=\"' + dataURL + '\" width=\"' + width + '\">');\n",
       "    fig.close_ws(fig, msg);\n",
       "}\n",
       "\n",
       "mpl.figure.prototype.close_ws = function(fig, msg){\n",
       "    fig.send_message('closing', msg);\n",
       "    // fig.ws.close()\n",
       "}\n",
       "\n",
       "mpl.figure.prototype.push_to_output = function(remove_interactive) {\n",
       "    // Turn the data on the canvas into data in the output cell.\n",
       "    var width = this.canvas.width/mpl.ratio\n",
       "    var dataURL = this.canvas.toDataURL();\n",
       "    this.cell_info[1]['text/html'] = '<img src=\"' + dataURL + '\" width=\"' + width + '\">';\n",
       "}\n",
       "\n",
       "mpl.figure.prototype.updated_canvas_event = function() {\n",
       "    // Tell IPython that the notebook contents must change.\n",
       "    IPython.notebook.set_dirty(true);\n",
       "    this.send_message(\"ack\", {});\n",
       "    var fig = this;\n",
       "    // Wait a second, then push the new image to the DOM so\n",
       "    // that it is saved nicely (might be nice to debounce this).\n",
       "    setTimeout(function () { fig.push_to_output() }, 1000);\n",
       "}\n",
       "\n",
       "mpl.figure.prototype._init_toolbar = function() {\n",
       "    var fig = this;\n",
       "\n",
       "    var nav_element = $('<div/>')\n",
       "    nav_element.attr('style', 'width: 100%');\n",
       "    this.root.append(nav_element);\n",
       "\n",
       "    // Define a callback function for later on.\n",
       "    function toolbar_event(event) {\n",
       "        return fig.toolbar_button_onclick(event['data']);\n",
       "    }\n",
       "    function toolbar_mouse_event(event) {\n",
       "        return fig.toolbar_button_onmouseover(event['data']);\n",
       "    }\n",
       "\n",
       "    for(var toolbar_ind in mpl.toolbar_items){\n",
       "        var name = mpl.toolbar_items[toolbar_ind][0];\n",
       "        var tooltip = mpl.toolbar_items[toolbar_ind][1];\n",
       "        var image = mpl.toolbar_items[toolbar_ind][2];\n",
       "        var method_name = mpl.toolbar_items[toolbar_ind][3];\n",
       "\n",
       "        if (!name) { continue; };\n",
       "\n",
       "        var button = $('<button class=\"btn btn-default\" href=\"#\" title=\"' + name + '\"><i class=\"fa ' + image + ' fa-lg\"></i></button>');\n",
       "        button.click(method_name, toolbar_event);\n",
       "        button.mouseover(tooltip, toolbar_mouse_event);\n",
       "        nav_element.append(button);\n",
       "    }\n",
       "\n",
       "    // Add the status bar.\n",
       "    var status_bar = $('<span class=\"mpl-message\" style=\"text-align:right; float: right;\"/>');\n",
       "    nav_element.append(status_bar);\n",
       "    this.message = status_bar[0];\n",
       "\n",
       "    // Add the close button to the window.\n",
       "    var buttongrp = $('<div class=\"btn-group inline pull-right\"></div>');\n",
       "    var button = $('<button class=\"btn btn-mini btn-primary\" href=\"#\" title=\"Stop Interaction\"><i class=\"fa fa-power-off icon-remove icon-large\"></i></button>');\n",
       "    button.click(function (evt) { fig.handle_close(fig, {}); } );\n",
       "    button.mouseover('Stop Interaction', toolbar_mouse_event);\n",
       "    buttongrp.append(button);\n",
       "    var titlebar = this.root.find($('.ui-dialog-titlebar'));\n",
       "    titlebar.prepend(buttongrp);\n",
       "}\n",
       "\n",
       "mpl.figure.prototype._root_extra_style = function(el){\n",
       "    var fig = this\n",
       "    el.on(\"remove\", function(){\n",
       "\tfig.close_ws(fig, {});\n",
       "    });\n",
       "}\n",
       "\n",
       "mpl.figure.prototype._canvas_extra_style = function(el){\n",
       "    // this is important to make the div 'focusable\n",
       "    el.attr('tabindex', 0)\n",
       "    // reach out to IPython and tell the keyboard manager to turn it's self\n",
       "    // off when our div gets focus\n",
       "\n",
       "    // location in version 3\n",
       "    if (IPython.notebook.keyboard_manager) {\n",
       "        IPython.notebook.keyboard_manager.register_events(el);\n",
       "    }\n",
       "    else {\n",
       "        // location in version 2\n",
       "        IPython.keyboard_manager.register_events(el);\n",
       "    }\n",
       "\n",
       "}\n",
       "\n",
       "mpl.figure.prototype._key_event_extra = function(event, name) {\n",
       "    var manager = IPython.notebook.keyboard_manager;\n",
       "    if (!manager)\n",
       "        manager = IPython.keyboard_manager;\n",
       "\n",
       "    // Check for shift+enter\n",
       "    if (event.shiftKey && event.which == 13) {\n",
       "        this.canvas_div.blur();\n",
       "        event.shiftKey = false;\n",
       "        // Send a \"J\" for go to next cell\n",
       "        event.which = 74;\n",
       "        event.keyCode = 74;\n",
       "        manager.command_mode();\n",
       "        manager.handle_keydown(event);\n",
       "    }\n",
       "}\n",
       "\n",
       "mpl.figure.prototype.handle_save = function(fig, msg) {\n",
       "    fig.ondownload(fig, null);\n",
       "}\n",
       "\n",
       "\n",
       "mpl.find_output_cell = function(html_output) {\n",
       "    // Return the cell and output element which can be found *uniquely* in the notebook.\n",
       "    // Note - this is a bit hacky, but it is done because the \"notebook_saving.Notebook\"\n",
       "    // IPython event is triggered only after the cells have been serialised, which for\n",
       "    // our purposes (turning an active figure into a static one), is too late.\n",
       "    var cells = IPython.notebook.get_cells();\n",
       "    var ncells = cells.length;\n",
       "    for (var i=0; i<ncells; i++) {\n",
       "        var cell = cells[i];\n",
       "        if (cell.cell_type === 'code'){\n",
       "            for (var j=0; j<cell.output_area.outputs.length; j++) {\n",
       "                var data = cell.output_area.outputs[j];\n",
       "                if (data.data) {\n",
       "                    // IPython >= 3 moved mimebundle to data attribute of output\n",
       "                    data = data.data;\n",
       "                }\n",
       "                if (data['text/html'] == html_output) {\n",
       "                    return [cell, data, j];\n",
       "                }\n",
       "            }\n",
       "        }\n",
       "    }\n",
       "}\n",
       "\n",
       "// Register the function which deals with the matplotlib target/channel.\n",
       "// The kernel may be null if the page has been refreshed.\n",
       "if (IPython.notebook.kernel != null) {\n",
       "    IPython.notebook.kernel.comm_manager.register_target('matplotlib', mpl.mpl_figure_comm);\n",
       "}\n"
      ],
      "text/plain": [
       "<IPython.core.display.Javascript object>"
      ]
     },
     "metadata": {},
     "output_type": "display_data"
    },
    {
     "data": {
      "text/html": [
       "<img src=\"data:image/png;base64,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\" width=\"NaN\">"
      ],
      "text/plain": [
       "<IPython.core.display.HTML object>"
      ]
     },
     "metadata": {},
     "output_type": "display_data"
    },
    {
     "data": {
      "application/vnd.jupyter.widget-view+json": {
       "model_id": "",
       "version_major": 2,
       "version_minor": 0
      },
      "text/plain": [
       "HBox(children=(IntProgress(value=0, max=16), HTML(value='')))"
      ]
     },
     "metadata": {},
     "output_type": "display_data"
    },
    {
     "data": {
      "application/vnd.jupyter.widget-view+json": {
       "model_id": "",
       "version_major": 2,
       "version_minor": 0
      },
      "text/plain": [
       "HBox(children=(IntProgress(value=0, max=816), HTML(value='')))"
      ]
     },
     "metadata": {},
     "output_type": "display_data"
    },
    {
     "data": {
      "application/vnd.jupyter.widget-view+json": {
       "model_id": "",
       "version_major": 2,
       "version_minor": 0
      },
      "text/plain": [
       "HBox(children=(IntProgress(value=0, max=406), HTML(value='')))"
      ]
     },
     "metadata": {},
     "output_type": "display_data"
    },
    {
     "name": "stdout",
     "output_type": "stream",
     "text": [
      "{'loss': 0.04167706402258471, 'mloss': tensor(0.0742), 'val_loss': 0.05590808883268074, 'val_mloss_tot': tensor(0.0971)}\n"
     ]
    },
    {
     "data": {
      "application/vnd.jupyter.widget-view+json": {
       "model_id": "",
       "version_major": 2,
       "version_minor": 0
      },
      "text/plain": [
       "HBox(children=(IntProgress(value=0, max=816), HTML(value='')))"
      ]
     },
     "metadata": {},
     "output_type": "display_data"
    },
    {
     "data": {
      "application/vnd.jupyter.widget-view+json": {
       "model_id": "",
       "version_major": 2,
       "version_minor": 0
      },
      "text/plain": [
       "HBox(children=(IntProgress(value=0, max=406), HTML(value='')))"
      ]
     },
     "metadata": {},
     "output_type": "display_data"
    },
    {
     "name": "stdout",
     "output_type": "stream",
     "text": [
      "{'loss': 0.036256391311289195, 'mloss': tensor(0.0631), 'val_loss': 0.043848537436223085, 'val_mloss_tot': tensor(0.0761)}\n"
     ]
    },
    {
     "data": {
      "application/vnd.jupyter.widget-view+json": {
       "model_id": "",
       "version_major": 2,
       "version_minor": 0
      },
      "text/plain": [
       "HBox(children=(IntProgress(value=0, max=816), HTML(value='')))"
      ]
     },
     "metadata": {},
     "output_type": "display_data"
    },
    {
     "data": {
      "application/vnd.jupyter.widget-view+json": {
       "model_id": "",
       "version_major": 2,
       "version_minor": 0
      },
      "text/plain": [
       "HBox(children=(IntProgress(value=0, max=406), HTML(value='')))"
      ]
     },
     "metadata": {},
     "output_type": "display_data"
    },
    {
     "name": "stdout",
     "output_type": "stream",
     "text": [
      "{'loss': 0.03480906351941554, 'mloss': tensor(0.0624), 'val_loss': 0.04348259478958846, 'val_mloss_tot': tensor(0.0755)}\n"
     ]
    },
    {
     "data": {
      "application/vnd.jupyter.widget-view+json": {
       "model_id": "",
       "version_major": 2,
       "version_minor": 0
      },
      "text/plain": [
       "HBox(children=(IntProgress(value=0, max=816), HTML(value='')))"
      ]
     },
     "metadata": {},
     "output_type": "display_data"
    },
    {
     "data": {
      "application/vnd.jupyter.widget-view+json": {
       "model_id": "",
       "version_major": 2,
       "version_minor": 0
      },
      "text/plain": [
       "HBox(children=(IntProgress(value=0, max=406), HTML(value='')))"
      ]
     },
     "metadata": {},
     "output_type": "display_data"
    },
    {
     "name": "stdout",
     "output_type": "stream",
     "text": [
      "{'loss': 0.03371652065768481, 'mloss': tensor(0.0579), 'val_loss': 0.046524087373130574, 'val_mloss_tot': tensor(0.0808)}\n"
     ]
    },
    {
     "data": {
      "application/vnd.jupyter.widget-view+json": {
       "model_id": "",
       "version_major": 2,
       "version_minor": 0
      },
      "text/plain": [
       "HBox(children=(IntProgress(value=0, max=816), HTML(value='')))"
      ]
     },
     "metadata": {},
     "output_type": "display_data"
    },
    {
     "data": {
      "application/vnd.jupyter.widget-view+json": {
       "model_id": "",
       "version_major": 2,
       "version_minor": 0
      },
      "text/plain": [
       "HBox(children=(IntProgress(value=0, max=406), HTML(value='')))"
      ]
     },
     "metadata": {},
     "output_type": "display_data"
    },
    {
     "name": "stdout",
     "output_type": "stream",
     "text": [
      "{'loss': 0.03661780575075163, 'mloss': tensor(0.0681), 'val_loss': 0.04373670440153425, 'val_mloss_tot': tensor(0.0759)}\n"
     ]
    },
    {
     "data": {
      "application/vnd.jupyter.widget-view+json": {
       "model_id": "",
       "version_major": 2,
       "version_minor": 0
      },
      "text/plain": [
       "HBox(children=(IntProgress(value=0, max=816), HTML(value='')))"
      ]
     },
     "metadata": {},
     "output_type": "display_data"
    },
    {
     "data": {
      "application/vnd.jupyter.widget-view+json": {
       "model_id": "",
       "version_major": 2,
       "version_minor": 0
      },
      "text/plain": [
       "HBox(children=(IntProgress(value=0, max=406), HTML(value='')))"
      ]
     },
     "metadata": {},
     "output_type": "display_data"
    },
    {
     "name": "stdout",
     "output_type": "stream",
     "text": [
      "{'loss': 0.033936010950701576, 'mloss': tensor(0.0643), 'val_loss': 0.04348231445690571, 'val_mloss_tot': tensor(0.0755)}\n"
     ]
    },
    {
     "data": {
      "application/vnd.jupyter.widget-view+json": {
       "model_id": "",
       "version_major": 2,
       "version_minor": 0
      },
      "text/plain": [
       "HBox(children=(IntProgress(value=0, max=816), HTML(value='')))"
      ]
     },
     "metadata": {},
     "output_type": "display_data"
    },
    {
     "data": {
      "application/vnd.jupyter.widget-view+json": {
       "model_id": "",
       "version_major": 2,
       "version_minor": 0
      },
      "text/plain": [
       "HBox(children=(IntProgress(value=0, max=406), HTML(value='')))"
      ]
     },
     "metadata": {},
     "output_type": "display_data"
    },
    {
     "name": "stdout",
     "output_type": "stream",
     "text": [
      "{'loss': 0.035261638974505294, 'mloss': tensor(0.0661), 'val_loss': 0.04288420084464763, 'val_mloss_tot': tensor(0.0745)}\n"
     ]
    },
    {
     "data": {
      "application/vnd.jupyter.widget-view+json": {
       "model_id": "",
       "version_major": 2,
       "version_minor": 0
      },
      "text/plain": [
       "HBox(children=(IntProgress(value=0, max=816), HTML(value='')))"
      ]
     },
     "metadata": {},
     "output_type": "display_data"
    },
    {
     "data": {
      "application/vnd.jupyter.widget-view+json": {
       "model_id": "",
       "version_major": 2,
       "version_minor": 0
      },
      "text/plain": [
       "HBox(children=(IntProgress(value=0, max=406), HTML(value='')))"
      ]
     },
     "metadata": {},
     "output_type": "display_data"
    },
    {
     "name": "stdout",
     "output_type": "stream",
     "text": [
      "{'loss': 0.032110283646654574, 'mloss': tensor(0.0548), 'val_loss': 0.0428769022600239, 'val_mloss_tot': tensor(0.0744)}\n"
     ]
    },
    {
     "data": {
      "application/vnd.jupyter.widget-view+json": {
       "model_id": "",
       "version_major": 2,
       "version_minor": 0
      },
      "text/plain": [
       "HBox(children=(IntProgress(value=0, max=816), HTML(value='')))"
      ]
     },
     "metadata": {},
     "output_type": "display_data"
    },
    {
     "data": {
      "application/vnd.jupyter.widget-view+json": {
       "model_id": "",
       "version_major": 2,
       "version_minor": 0
      },
      "text/plain": [
       "HBox(children=(IntProgress(value=0, max=406), HTML(value='')))"
      ]
     },
     "metadata": {},
     "output_type": "display_data"
    },
    {
     "name": "stdout",
     "output_type": "stream",
     "text": [
      "{'loss': 0.033144072714455124, 'mloss': tensor(0.0547), 'val_loss': 0.044331535924079235, 'val_mloss_tot': tensor(0.0770)}\n"
     ]
    },
    {
     "data": {
      "application/vnd.jupyter.widget-view+json": {
       "model_id": "",
       "version_major": 2,
       "version_minor": 0
      },
      "text/plain": [
       "HBox(children=(IntProgress(value=0, max=816), HTML(value='')))"
      ]
     },
     "metadata": {},
     "output_type": "display_data"
    },
    {
     "data": {
      "application/vnd.jupyter.widget-view+json": {
       "model_id": "",
       "version_major": 2,
       "version_minor": 0
      },
      "text/plain": [
       "HBox(children=(IntProgress(value=0, max=406), HTML(value='')))"
      ]
     },
     "metadata": {},
     "output_type": "display_data"
    },
    {
     "name": "stdout",
     "output_type": "stream",
     "text": [
      "{'loss': 0.03339732859745005, 'mloss': tensor(0.0588), 'val_loss': 0.04270774712946651, 'val_mloss_tot': tensor(0.0741)}\n"
     ]
    },
    {
     "data": {
      "application/vnd.jupyter.widget-view+json": {
       "model_id": "",
       "version_major": 2,
       "version_minor": 0
      },
      "text/plain": [
       "HBox(children=(IntProgress(value=0, max=816), HTML(value='')))"
      ]
     },
     "metadata": {},
     "output_type": "display_data"
    },
    {
     "data": {
      "application/vnd.jupyter.widget-view+json": {
       "model_id": "",
       "version_major": 2,
       "version_minor": 0
      },
      "text/plain": [
       "HBox(children=(IntProgress(value=0, max=406), HTML(value='')))"
      ]
     },
     "metadata": {},
     "output_type": "display_data"
    },
    {
     "name": "stdout",
     "output_type": "stream",
     "text": [
      "{'loss': 0.03158736167138343, 'mloss': tensor(0.0530), 'val_loss': 0.04287465912716582, 'val_mloss_tot': tensor(0.0744)}\n"
     ]
    },
    {
     "data": {
      "application/vnd.jupyter.widget-view+json": {
       "model_id": "",
       "version_major": 2,
       "version_minor": 0
      },
      "text/plain": [
       "HBox(children=(IntProgress(value=0, max=816), HTML(value='')))"
      ]
     },
     "metadata": {},
     "output_type": "display_data"
    },
    {
     "data": {
      "application/vnd.jupyter.widget-view+json": {
       "model_id": "",
       "version_major": 2,
       "version_minor": 0
      },
      "text/plain": [
       "HBox(children=(IntProgress(value=0, max=406), HTML(value='')))"
      ]
     },
     "metadata": {},
     "output_type": "display_data"
    },
    {
     "name": "stdout",
     "output_type": "stream",
     "text": [
      "{'loss': 0.031929068904715814, 'mloss': tensor(0.0557), 'val_loss': 0.042910007584445506, 'val_mloss_tot': tensor(0.0745)}\n"
     ]
    },
    {
     "data": {
      "application/vnd.jupyter.widget-view+json": {
       "model_id": "",
       "version_major": 2,
       "version_minor": 0
      },
      "text/plain": [
       "HBox(children=(IntProgress(value=0, max=816), HTML(value='')))"
      ]
     },
     "metadata": {},
     "output_type": "display_data"
    },
    {
     "data": {
      "application/vnd.jupyter.widget-view+json": {
       "model_id": "",
       "version_major": 2,
       "version_minor": 0
      },
      "text/plain": [
       "HBox(children=(IntProgress(value=0, max=406), HTML(value='')))"
      ]
     },
     "metadata": {},
     "output_type": "display_data"
    },
    {
     "name": "stdout",
     "output_type": "stream",
     "text": [
      "{'loss': 0.03409919834492402, 'mloss': tensor(0.0603), 'val_loss': 0.045566824903674974, 'val_mloss_tot': tensor(0.0791)}\n"
     ]
    },
    {
     "data": {
      "application/vnd.jupyter.widget-view+json": {
       "model_id": "",
       "version_major": 2,
       "version_minor": 0
      },
      "text/plain": [
       "HBox(children=(IntProgress(value=0, max=816), HTML(value='')))"
      ]
     },
     "metadata": {},
     "output_type": "display_data"
    },
    {
     "data": {
      "application/vnd.jupyter.widget-view+json": {
       "model_id": "",
       "version_major": 2,
       "version_minor": 0
      },
      "text/plain": [
       "HBox(children=(IntProgress(value=0, max=406), HTML(value='')))"
      ]
     },
     "metadata": {},
     "output_type": "display_data"
    },
    {
     "name": "stdout",
     "output_type": "stream",
     "text": [
      "{'loss': 0.03245112796302723, 'mloss': tensor(0.0552), 'val_loss': 0.04351676362417547, 'val_mloss_tot': tensor(0.0756)}\n"
     ]
    },
    {
     "data": {
      "application/vnd.jupyter.widget-view+json": {
       "model_id": "",
       "version_major": 2,
       "version_minor": 0
      },
      "text/plain": [
       "HBox(children=(IntProgress(value=0, max=816), HTML(value='')))"
      ]
     },
     "metadata": {},
     "output_type": "display_data"
    },
    {
     "data": {
      "application/vnd.jupyter.widget-view+json": {
       "model_id": "",
       "version_major": 2,
       "version_minor": 0
      },
      "text/plain": [
       "HBox(children=(IntProgress(value=0, max=406), HTML(value='')))"
      ]
     },
     "metadata": {},
     "output_type": "display_data"
    },
    {
     "name": "stdout",
     "output_type": "stream",
     "text": [
      "{'loss': 0.03135519440078807, 'mloss': tensor(0.0535), 'val_loss': 0.04255671212289097, 'val_mloss_tot': tensor(0.0739)}\n"
     ]
    },
    {
     "data": {
      "application/vnd.jupyter.widget-view+json": {
       "model_id": "",
       "version_major": 2,
       "version_minor": 0
      },
      "text/plain": [
       "HBox(children=(IntProgress(value=0, max=816), HTML(value='')))"
      ]
     },
     "metadata": {},
     "output_type": "display_data"
    },
    {
     "data": {
      "application/vnd.jupyter.widget-view+json": {
       "model_id": "",
       "version_major": 2,
       "version_minor": 0
      },
      "text/plain": [
       "HBox(children=(IntProgress(value=0, max=406), HTML(value='')))"
      ]
     },
     "metadata": {},
     "output_type": "display_data"
    },
    {
     "name": "stdout",
     "output_type": "stream",
     "text": [
      "{'loss': 0.03116147908961984, 'mloss': tensor(0.0532), 'val_loss': 0.0428219933666087, 'val_mloss_tot': tensor(0.0743)}\n",
      "\n"
     ]
    },
    {
     "data": {
      "application/vnd.jupyter.widget-view+json": {
       "model_id": "",
       "version_major": 2,
       "version_minor": 0
      },
      "text/plain": [
       "HBox(children=(IntProgress(value=0, max=406), HTML(value='')))"
      ]
     },
     "metadata": {},
     "output_type": "display_data"
    },
    {
     "name": "stdout",
     "output_type": "stream",
     "text": [
      "\n",
      "(0.04237929877958128, {'val_loss': 0.04237929877958128, 'val_mloss_tot': tensor(0.0736)})\n"
     ]
    }
   ],
   "source": [
    "%matplotlib nbagg\n",
    "model_name,version, num_split = 'Densenet161_3' , 'classifier_splits',0\n",
    "pickle_file=open(outputs_dir+outputs_format.format(model_name,version,'features_train_tta',num_split),'rb')\n",
    "features=pickle.load(pickle_file)\n",
    "pickle_file.close()\n",
    "features.shape\n",
    "\n",
    "features=features.reshape(features.shape[0]//4,4,-1)\n",
    "features.shape\n",
    "split_train = train_df[train_df.PID.isin(set(split_sid[splits[num_split][0]]))].SeriesI.unique()\n",
    "split_validate =  train_df[train_df.PID.isin(set(split_sid[splits[num_split][1]]))].SeriesI.unique()\n",
    "\n",
    "np.random.seed(SEED+num_split)\n",
    "torch.manual_seed(SEED+num_split)\n",
    "torch.cuda.manual_seed(SEED+num_split)\n",
    "torch.backends.cudnn.deterministic = True\n",
    "batch_size=16\n",
    "num_workers=18\n",
    "num_epochs=16\n",
    "klr=1\n",
    "weights = torch.tensor([1.,1.,1.,1.,1.,2.],device=device)\n",
    "train_dataset=FullHeadDataset(train_df,\n",
    "                              split_train,\n",
    "                              features,\n",
    "                              'SeriesI',\n",
    "                              'ImagePositionZ',\n",
    "                              hemorrhage_types)                \n",
    "validate_dataset=FullHeadDataset(train_df,\n",
    "                                 split_validate,\n",
    "                                 features[:,0,:],\n",
    "                                 'SeriesI',\n",
    "                                 'ImagePositionZ',\n",
    "                                 hemorrhage_types)                \n",
    "\n",
    "model=ResModelIn(features.shape[-1])\n",
    "version=version+'_fullhead_resmodelin'\n",
    "_=model.to(device)\n",
    "\n",
    "loss_func=my_loss\n",
    "#fig,ax = plt.subplots(figsize=(10,7))\n",
    "#gr=loss_graph(fig,ax,num_epochs,len(train_dataset)//batch_size+1,limits=[0.02,0.06])\n",
    "num_train_optimization_steps = num_epochs*(len(train_dataset)//batch_size+int(len(train_dataset)%batch_size>0))\n",
    "sched=WarmupExpCosineWithWarmupRestartsSchedule( t_total=num_train_optimization_steps, cycles=num_epochs//4,tau=0)\n",
    "optimizer = BertAdam(model.parameters(),lr=klr*1e-3,schedule=sched)\n",
    "history,best_model= model_train(model,\n",
    "                                optimizer,\n",
    "                                train_dataset,\n",
    "                                batch_size,\n",
    "                                num_epochs,\n",
    "                                loss_func,\n",
    "                                weights=weights,\n",
    "                                do_apex=False,\n",
    "                                validate_dataset=validate_dataset,\n",
    "                                param_schedualer=None,\n",
    "                                weights_data=None,\n",
    "                                metric=Metric(torch.tensor([1.,1.,1.,1.,1.,2.])),\n",
    "                                return_model=True,\n",
    "                                best_average=3,\n",
    "                                num_workers=num_workers,\n",
    "                                sampler=None,\n",
    "                                graph=None)\n",
    "torch.save(best_model.state_dict(), models_dir+models_format.format(model_name,version,num_split))"
   ]
  },
  {
   "cell_type": "code",
   "execution_count": 23,
   "metadata": {
    "scrolled": true
   },
   "outputs": [
    {
     "data": {
      "text/plain": [
       "torch.Size([2697008, 552])"
      ]
     },
     "execution_count": 23,
     "metadata": {},
     "output_type": "execute_result"
    },
    {
     "data": {
      "text/plain": [
       "torch.Size([674252, 4, 552])"
      ]
     },
     "execution_count": 23,
     "metadata": {},
     "output_type": "execute_result"
    },
    {
     "data": {
      "text/plain": [
       "<torch._C.Generator at 0x7f597c49f770>"
      ]
     },
     "execution_count": 23,
     "metadata": {},
     "output_type": "execute_result"
    },
    {
     "data": {
      "application/vnd.jupyter.widget-view+json": {
       "model_id": "e350768d7bfb4a598d57a3f2f7cac38c",
       "version_major": 2,
       "version_minor": 0
      },
      "text/plain": [
       "HBox(children=(IntProgress(value=0, max=16), HTML(value='')))"
      ]
     },
     "metadata": {},
     "output_type": "display_data"
    },
    {
     "data": {
      "application/vnd.jupyter.widget-view+json": {
       "model_id": "93756217addb4fd681a2b0eb372c08a7",
       "version_major": 2,
       "version_minor": 0
      },
      "text/plain": [
       "HBox(children=(IntProgress(value=0, max=812), HTML(value='')))"
      ]
     },
     "metadata": {},
     "output_type": "display_data"
    },
    {
     "data": {
      "application/vnd.jupyter.widget-view+json": {
       "model_id": "99f564fbc0aa4f058ac4fbce49f23e08",
       "version_major": 2,
       "version_minor": 0
      },
      "text/plain": [
       "HBox(children=(IntProgress(value=0, max=410), HTML(value='')))"
      ]
     },
     "metadata": {},
     "output_type": "display_data"
    },
    {
     "name": "stdout",
     "output_type": "stream",
     "text": [
      "{'loss': 0.0387265727219696, 'mloss': tensor(0.0678), 'val_loss': 0.044838193961896186, 'val_mloss_tot': tensor(0.0783)}\n"
     ]
    },
    {
     "data": {
      "application/vnd.jupyter.widget-view+json": {
       "model_id": "0b0303279b2c46128c5ac598297d6c90",
       "version_major": 2,
       "version_minor": 0
      },
      "text/plain": [
       "HBox(children=(IntProgress(value=0, max=812), HTML(value='')))"
      ]
     },
     "metadata": {},
     "output_type": "display_data"
    },
    {
     "data": {
      "application/vnd.jupyter.widget-view+json": {
       "model_id": "abe00d799c304c7e9126a817ae23efc2",
       "version_major": 2,
       "version_minor": 0
      },
      "text/plain": [
       "HBox(children=(IntProgress(value=0, max=410), HTML(value='')))"
      ]
     },
     "metadata": {},
     "output_type": "display_data"
    },
    {
     "name": "stdout",
     "output_type": "stream",
     "text": [
      "{'loss': 0.034466003122766, 'mloss': tensor(0.0585), 'val_loss': 0.0430770354674811, 'val_mloss_tot': tensor(0.0752)}\n"
     ]
    },
    {
     "data": {
      "application/vnd.jupyter.widget-view+json": {
       "model_id": "ed01134bd07e454f8bb0a19d01f0596c",
       "version_major": 2,
       "version_minor": 0
      },
      "text/plain": [
       "HBox(children=(IntProgress(value=0, max=812), HTML(value='')))"
      ]
     },
     "metadata": {},
     "output_type": "display_data"
    },
    {
     "data": {
      "application/vnd.jupyter.widget-view+json": {
       "model_id": "58cfb0820bf7497f835115ef0d650284",
       "version_major": 2,
       "version_minor": 0
      },
      "text/plain": [
       "HBox(children=(IntProgress(value=0, max=410), HTML(value='')))"
      ]
     },
     "metadata": {},
     "output_type": "display_data"
    },
    {
     "name": "stdout",
     "output_type": "stream",
     "text": [
      "{'loss': 0.03434242195058409, 'mloss': tensor(0.0563), 'val_loss': 0.04258446187326094, 'val_mloss_tot': tensor(0.0743)}\n"
     ]
    },
    {
     "data": {
      "application/vnd.jupyter.widget-view+json": {
       "model_id": "f257385d391b46cc846d54ce826d1114",
       "version_major": 2,
       "version_minor": 0
      },
      "text/plain": [
       "HBox(children=(IntProgress(value=0, max=812), HTML(value='')))"
      ]
     },
     "metadata": {},
     "output_type": "display_data"
    },
    {
     "data": {
      "application/vnd.jupyter.widget-view+json": {
       "model_id": "1717d5745c374f58b603098f7da083ae",
       "version_major": 2,
       "version_minor": 0
      },
      "text/plain": [
       "HBox(children=(IntProgress(value=0, max=410), HTML(value='')))"
      ]
     },
     "metadata": {},
     "output_type": "display_data"
    },
    {
     "name": "stdout",
     "output_type": "stream",
     "text": [
      "{'loss': 0.033181906740464416, 'mloss': tensor(0.0568), 'val_loss': 0.04246339086534046, 'val_mloss_tot': tensor(0.0741)}\n"
     ]
    },
    {
     "data": {
      "application/vnd.jupyter.widget-view+json": {
       "model_id": "f855ffcd61344f4c9c438b616452b135",
       "version_major": 2,
       "version_minor": 0
      },
      "text/plain": [
       "HBox(children=(IntProgress(value=0, max=812), HTML(value='')))"
      ]
     },
     "metadata": {},
     "output_type": "display_data"
    },
    {
     "data": {
      "application/vnd.jupyter.widget-view+json": {
       "model_id": "4e88f57301e645fb9e6f39eb677936cf",
       "version_major": 2,
       "version_minor": 0
      },
      "text/plain": [
       "HBox(children=(IntProgress(value=0, max=410), HTML(value='')))"
      ]
     },
     "metadata": {},
     "output_type": "display_data"
    },
    {
     "name": "stdout",
     "output_type": "stream",
     "text": [
      "{'loss': 0.03494524290186681, 'mloss': tensor(0.0606), 'val_loss': 0.04330588759649999, 'val_mloss_tot': tensor(0.0756)}\n"
     ]
    },
    {
     "data": {
      "application/vnd.jupyter.widget-view+json": {
       "model_id": "c42773fd5b8e48f9b906ef1d78f1c1e3",
       "version_major": 2,
       "version_minor": 0
      },
      "text/plain": [
       "HBox(children=(IntProgress(value=0, max=812), HTML(value='')))"
      ]
     },
     "metadata": {},
     "output_type": "display_data"
    },
    {
     "data": {
      "application/vnd.jupyter.widget-view+json": {
       "model_id": "1039c57890a54e058f37b476e2a93594",
       "version_major": 2,
       "version_minor": 0
      },
      "text/plain": [
       "HBox(children=(IntProgress(value=0, max=410), HTML(value='')))"
      ]
     },
     "metadata": {},
     "output_type": "display_data"
    },
    {
     "name": "stdout",
     "output_type": "stream",
     "text": [
      "{'loss': 0.032521048857145636, 'mloss': tensor(0.0527), 'val_loss': 0.04381274448639554, 'val_mloss_tot': tensor(0.0765)}\n"
     ]
    },
    {
     "data": {
      "application/vnd.jupyter.widget-view+json": {
       "model_id": "94132321bf20416882f7752d287aff50",
       "version_major": 2,
       "version_minor": 0
      },
      "text/plain": [
       "HBox(children=(IntProgress(value=0, max=812), HTML(value='')))"
      ]
     },
     "metadata": {},
     "output_type": "display_data"
    },
    {
     "data": {
      "application/vnd.jupyter.widget-view+json": {
       "model_id": "1a3892496cff4dc5a8cea5f27da393a1",
       "version_major": 2,
       "version_minor": 0
      },
      "text/plain": [
       "HBox(children=(IntProgress(value=0, max=410), HTML(value='')))"
      ]
     },
     "metadata": {},
     "output_type": "display_data"
    },
    {
     "name": "stdout",
     "output_type": "stream",
     "text": [
      "{'loss': 0.03287978087883796, 'mloss': tensor(0.0572), 'val_loss': 0.04250730006024241, 'val_mloss_tot': tensor(0.0742)}\n"
     ]
    },
    {
     "data": {
      "application/vnd.jupyter.widget-view+json": {
       "model_id": "1291c88284ab462faa6433e98eb41034",
       "version_major": 2,
       "version_minor": 0
      },
      "text/plain": [
       "HBox(children=(IntProgress(value=0, max=812), HTML(value='')))"
      ]
     },
     "metadata": {},
     "output_type": "display_data"
    },
    {
     "data": {
      "application/vnd.jupyter.widget-view+json": {
       "model_id": "7c1d2e4439bf4d64948d70861240d86e",
       "version_major": 2,
       "version_minor": 0
      },
      "text/plain": [
       "HBox(children=(IntProgress(value=0, max=410), HTML(value='')))"
      ]
     },
     "metadata": {},
     "output_type": "display_data"
    },
    {
     "name": "stdout",
     "output_type": "stream",
     "text": [
      "{'loss': 0.032985312013320806, 'mloss': tensor(0.0567), 'val_loss': 0.042289436982217724, 'val_mloss_tot': tensor(0.0738)}\n"
     ]
    },
    {
     "data": {
      "application/vnd.jupyter.widget-view+json": {
       "model_id": "c5eaaa70312f41d5ae00e4add8e1c551",
       "version_major": 2,
       "version_minor": 0
      },
      "text/plain": [
       "HBox(children=(IntProgress(value=0, max=812), HTML(value='')))"
      ]
     },
     "metadata": {},
     "output_type": "display_data"
    },
    {
     "data": {
      "application/vnd.jupyter.widget-view+json": {
       "model_id": "8c3318e60d144b6891256603ae49d1c7",
       "version_major": 2,
       "version_minor": 0
      },
      "text/plain": [
       "HBox(children=(IntProgress(value=0, max=410), HTML(value='')))"
      ]
     },
     "metadata": {},
     "output_type": "display_data"
    },
    {
     "name": "stdout",
     "output_type": "stream",
     "text": [
      "{'loss': 0.033667893145663805, 'mloss': tensor(0.0578), 'val_loss': 0.04240204673601178, 'val_mloss_tot': tensor(0.0740)}\n"
     ]
    },
    {
     "data": {
      "application/vnd.jupyter.widget-view+json": {
       "model_id": "745297454a1b44cf8d017c09d745a73b",
       "version_major": 2,
       "version_minor": 0
      },
      "text/plain": [
       "HBox(children=(IntProgress(value=0, max=812), HTML(value='')))"
      ]
     },
     "metadata": {},
     "output_type": "display_data"
    },
    {
     "data": {
      "application/vnd.jupyter.widget-view+json": {
       "model_id": "464aa3f1c3484a4dadf3ca1180bfef9c",
       "version_major": 2,
       "version_minor": 0
      },
      "text/plain": [
       "HBox(children=(IntProgress(value=0, max=410), HTML(value='')))"
      ]
     },
     "metadata": {},
     "output_type": "display_data"
    },
    {
     "name": "stdout",
     "output_type": "stream",
     "text": [
      "{'loss': 0.03210040122757251, 'mloss': tensor(0.0546), 'val_loss': 0.043695122689553875, 'val_mloss_tot': tensor(0.0763)}\n"
     ]
    },
    {
     "data": {
      "application/vnd.jupyter.widget-view+json": {
       "model_id": "806465a6f1c44f1ea3caf032720c01ed",
       "version_major": 2,
       "version_minor": 0
      },
      "text/plain": [
       "HBox(children=(IntProgress(value=0, max=812), HTML(value='')))"
      ]
     },
     "metadata": {},
     "output_type": "display_data"
    },
    {
     "data": {
      "application/vnd.jupyter.widget-view+json": {
       "model_id": "65fb8cd3b8094441a6dfe190476204d6",
       "version_major": 2,
       "version_minor": 0
      },
      "text/plain": [
       "HBox(children=(IntProgress(value=0, max=410), HTML(value='')))"
      ]
     },
     "metadata": {},
     "output_type": "display_data"
    },
    {
     "name": "stdout",
     "output_type": "stream",
     "text": [
      "{'loss': 0.03323020796512741, 'mloss': tensor(0.0582), 'val_loss': 0.042599714002231275, 'val_mloss_tot': tensor(0.0744)}\n"
     ]
    },
    {
     "data": {
      "application/vnd.jupyter.widget-view+json": {
       "model_id": "8afb5072dcba4bbba1d9921ebe174e68",
       "version_major": 2,
       "version_minor": 0
      },
      "text/plain": [
       "HBox(children=(IntProgress(value=0, max=812), HTML(value='')))"
      ]
     },
     "metadata": {},
     "output_type": "display_data"
    },
    {
     "data": {
      "application/vnd.jupyter.widget-view+json": {
       "model_id": "d5602562595e4c71a36f107f5e2a6b68",
       "version_major": 2,
       "version_minor": 0
      },
      "text/plain": [
       "HBox(children=(IntProgress(value=0, max=410), HTML(value='')))"
      ]
     },
     "metadata": {},
     "output_type": "display_data"
    },
    {
     "name": "stdout",
     "output_type": "stream",
     "text": [
      "{'loss': 0.03205078641404307, 'mloss': tensor(0.0536), 'val_loss': 0.04233182380543794, 'val_mloss_tot': tensor(0.0739)}\n"
     ]
    },
    {
     "data": {
      "application/vnd.jupyter.widget-view+json": {
       "model_id": "35b58258b11544df926ade8f44570273",
       "version_major": 2,
       "version_minor": 0
      },
      "text/plain": [
       "HBox(children=(IntProgress(value=0, max=812), HTML(value='')))"
      ]
     },
     "metadata": {},
     "output_type": "display_data"
    },
    {
     "data": {
      "application/vnd.jupyter.widget-view+json": {
       "model_id": "4396b4b0daa54132bbf0d6347895d435",
       "version_major": 2,
       "version_minor": 0
      },
      "text/plain": [
       "HBox(children=(IntProgress(value=0, max=410), HTML(value='')))"
      ]
     },
     "metadata": {},
     "output_type": "display_data"
    },
    {
     "name": "stdout",
     "output_type": "stream",
     "text": [
      "{'loss': 0.03454181979603452, 'mloss': tensor(0.0628), 'val_loss': 0.043219027450171914, 'val_mloss_tot': tensor(0.0754)}\n"
     ]
    },
    {
     "data": {
      "application/vnd.jupyter.widget-view+json": {
       "model_id": "c5d512514bda497996d211c7657ebda5",
       "version_major": 2,
       "version_minor": 0
      },
      "text/plain": [
       "HBox(children=(IntProgress(value=0, max=812), HTML(value='')))"
      ]
     },
     "metadata": {},
     "output_type": "display_data"
    },
    {
     "data": {
      "application/vnd.jupyter.widget-view+json": {
       "model_id": "c36e9f23bb914c9287af6a5dd4f3d0e8",
       "version_major": 2,
       "version_minor": 0
      },
      "text/plain": [
       "HBox(children=(IntProgress(value=0, max=410), HTML(value='')))"
      ]
     },
     "metadata": {},
     "output_type": "display_data"
    },
    {
     "name": "stdout",
     "output_type": "stream",
     "text": [
      "{'loss': 0.032781654362266745, 'mloss': tensor(0.0560), 'val_loss': 0.0427882642411377, 'val_mloss_tot': tensor(0.0747)}\n"
     ]
    },
    {
     "data": {
      "application/vnd.jupyter.widget-view+json": {
       "model_id": "3dc018a3ed8c49f7a72d8fdb60c01fb0",
       "version_major": 2,
       "version_minor": 0
      },
      "text/plain": [
       "HBox(children=(IntProgress(value=0, max=812), HTML(value='')))"
      ]
     },
     "metadata": {},
     "output_type": "display_data"
    },
    {
     "data": {
      "application/vnd.jupyter.widget-view+json": {
       "model_id": "03accd62e2544a8b96bd6a92d78b5433",
       "version_major": 2,
       "version_minor": 0
      },
      "text/plain": [
       "HBox(children=(IntProgress(value=0, max=410), HTML(value='')))"
      ]
     },
     "metadata": {},
     "output_type": "display_data"
    },
    {
     "name": "stdout",
     "output_type": "stream",
     "text": [
      "{'loss': 0.03212186620043692, 'mloss': tensor(0.0548), 'val_loss': 0.04182602144300756, 'val_mloss_tot': tensor(0.0730)}\n"
     ]
    },
    {
     "data": {
      "application/vnd.jupyter.widget-view+json": {
       "model_id": "5ec63cb8f42a4df09e0f5ad8dc9b1370",
       "version_major": 2,
       "version_minor": 0
      },
      "text/plain": [
       "HBox(children=(IntProgress(value=0, max=812), HTML(value='')))"
      ]
     },
     "metadata": {},
     "output_type": "display_data"
    },
    {
     "data": {
      "application/vnd.jupyter.widget-view+json": {
       "model_id": "7efc2dbc464f496fb40099f359154a47",
       "version_major": 2,
       "version_minor": 0
      },
      "text/plain": [
       "HBox(children=(IntProgress(value=0, max=410), HTML(value='')))"
      ]
     },
     "metadata": {},
     "output_type": "display_data"
    },
    {
     "name": "stdout",
     "output_type": "stream",
     "text": [
      "{'loss': 0.030734876378474576, 'mloss': tensor(0.0509), 'val_loss': 0.0422608604313942, 'val_mloss_tot': tensor(0.0738)}\n",
      "\n"
     ]
    },
    {
     "data": {
      "application/vnd.jupyter.widget-view+json": {
       "model_id": "512c8e89a0674156b7c1c9462b32f404",
       "version_major": 2,
       "version_minor": 0
      },
      "text/plain": [
       "HBox(children=(IntProgress(value=0, max=410), HTML(value='')))"
      ]
     },
     "metadata": {},
     "output_type": "display_data"
    },
    {
     "name": "stdout",
     "output_type": "stream",
     "text": [
      "\n",
      "0.04182602144300756\n"
     ]
    }
   ],
   "source": [
    "%matplotlib nbagg\n",
    "model_name,version, num_split = 'Densenet161_3' , 'classifier_splits',1\n",
    "pickle_file=open(outputs_dir+outputs_format.format(model_name,version,'features_train_tta',num_split),'rb')\n",
    "features=pickle.load(pickle_file)\n",
    "pickle_file.close()\n",
    "features.shape\n",
    "\n",
    "features=features.reshape(features.shape[0]//4,4,-1)\n",
    "features.shape\n",
    "split_train = train_df[train_df.PID.isin(set(split_sid[splits[num_split][0]]))].SeriesI.unique()\n",
    "split_validate =  train_df[train_df.PID.isin(set(split_sid[splits[num_split][1]]))].SeriesI.unique()\n",
    "\n",
    "np.random.seed(SEED+num_split)\n",
    "torch.manual_seed(SEED+num_split)\n",
    "torch.cuda.manual_seed(SEED+num_split)\n",
    "torch.backends.cudnn.deterministic = True\n",
    "batch_size=16\n",
    "num_workers=18\n",
    "num_epochs=16\n",
    "klr=1\n",
    "weights = torch.tensor([1.,1.,1.,1.,1.,2.],device=device)\n",
    "train_dataset=FullHeadDataset(train_df,\n",
    "                              split_train,\n",
    "                              features,\n",
    "                              'SeriesI',\n",
    "                              'ImagePositionZ',\n",
    "                              hemorrhage_types)                \n",
    "validate_dataset=FullHeadDataset(train_df,\n",
    "                                 split_validate,\n",
    "                                 features[:,0,:],\n",
    "                                 'SeriesI',\n",
    "                                 'ImagePositionZ',\n",
    "                                 hemorrhage_types)                \n",
    "\n",
    "model=ResModelIn(features.shape[-1])\n",
    "version=version+'_fullhead_resmodelin'\n",
    "_=model.to(device)\n",
    "\n",
    "loss_func=my_loss\n",
    "#fig,ax = plt.subplots(figsize=(10,7))\n",
    "#gr=loss_graph(fig,ax,num_epochs,len(train_dataset)//batch_size+1,limits=[0.02,0.06])\n",
    "num_train_optimization_steps = num_epochs*(len(train_dataset)//batch_size+int(len(train_dataset)%batch_size>0))\n",
    "sched=WarmupExpCosineWithWarmupRestartsSchedule( t_total=num_train_optimization_steps, cycles=num_epochs//4,tau=0)\n",
    "optimizer = BertAdam(model.parameters(),lr=klr*1e-3,schedule=sched)\n",
    "history,best_model= model_train(model,\n",
    "                                optimizer,\n",
    "                                train_dataset,\n",
    "                                batch_size,\n",
    "                                num_epochs,\n",
    "                                loss_func,\n",
    "                                weights=weights,\n",
    "                                do_apex=False,\n",
    "                                validate_dataset=validate_dataset,\n",
    "                                param_schedualer=None,\n",
    "                                weights_data=None,\n",
    "                                metric=Metric(torch.tensor([1.,1.,1.,1.,1.,2.])),\n",
    "                                return_model=True,\n",
    "                                best_average=3,\n",
    "                                num_workers=num_workers,\n",
    "                                sampler=None,\n",
    "                                graph=None)\n",
    "torch.save(best_model.state_dict(), models_dir+models_format.format(model_name,version,num_split))"
   ]
  },
  {
   "cell_type": "code",
   "execution_count": 24,
   "metadata": {
    "scrolled": true
   },
   "outputs": [
    {
     "data": {
      "text/plain": [
       "torch.Size([2697008, 552])"
      ]
     },
     "execution_count": 24,
     "metadata": {},
     "output_type": "execute_result"
    },
    {
     "data": {
      "text/plain": [
       "torch.Size([674252, 4, 552])"
      ]
     },
     "execution_count": 24,
     "metadata": {},
     "output_type": "execute_result"
    },
    {
     "data": {
      "text/plain": [
       "<torch._C.Generator at 0x7f597c49f770>"
      ]
     },
     "execution_count": 24,
     "metadata": {},
     "output_type": "execute_result"
    },
    {
     "data": {
      "application/vnd.jupyter.widget-view+json": {
       "model_id": "5d5e2639e9114947930cc2325c73e47e",
       "version_major": 2,
       "version_minor": 0
      },
      "text/plain": [
       "HBox(children=(IntProgress(value=0, max=16), HTML(value='')))"
      ]
     },
     "metadata": {},
     "output_type": "display_data"
    },
    {
     "data": {
      "application/vnd.jupyter.widget-view+json": {
       "model_id": "4662bacfa58c4c84ba94f38da7228ebd",
       "version_major": 2,
       "version_minor": 0
      },
      "text/plain": [
       "HBox(children=(IntProgress(value=0, max=815), HTML(value='')))"
      ]
     },
     "metadata": {},
     "output_type": "display_data"
    },
    {
     "data": {
      "application/vnd.jupyter.widget-view+json": {
       "model_id": "8ae707c074034593808824224d2ade2e",
       "version_major": 2,
       "version_minor": 0
      },
      "text/plain": [
       "HBox(children=(IntProgress(value=0, max=406), HTML(value='')))"
      ]
     },
     "metadata": {},
     "output_type": "display_data"
    },
    {
     "name": "stdout",
     "output_type": "stream",
     "text": [
      "{'loss': 0.04073539882877707, 'mloss': tensor(0.0717), 'val_loss': 0.04281019055390079, 'val_mloss_tot': tensor(0.0742)}\n"
     ]
    },
    {
     "data": {
      "application/vnd.jupyter.widget-view+json": {
       "model_id": "bdca238d042b4ea8a92b8e63b3811984",
       "version_major": 2,
       "version_minor": 0
      },
      "text/plain": [
       "HBox(children=(IntProgress(value=0, max=815), HTML(value='')))"
      ]
     },
     "metadata": {},
     "output_type": "display_data"
    },
    {
     "data": {
      "application/vnd.jupyter.widget-view+json": {
       "model_id": "0e7ca82446184bd2ab0d4c06c89906f4",
       "version_major": 2,
       "version_minor": 0
      },
      "text/plain": [
       "HBox(children=(IntProgress(value=0, max=406), HTML(value='')))"
      ]
     },
     "metadata": {},
     "output_type": "display_data"
    },
    {
     "name": "stdout",
     "output_type": "stream",
     "text": [
      "{'loss': 0.03406582058648925, 'mloss': tensor(0.0598), 'val_loss': 0.041701706447478, 'val_mloss_tot': tensor(0.0723)}\n"
     ]
    },
    {
     "data": {
      "application/vnd.jupyter.widget-view+json": {
       "model_id": "1f9c2f9777684da3a2ad7c84798ec859",
       "version_major": 2,
       "version_minor": 0
      },
      "text/plain": [
       "HBox(children=(IntProgress(value=0, max=815), HTML(value='')))"
      ]
     },
     "metadata": {},
     "output_type": "display_data"
    },
    {
     "data": {
      "application/vnd.jupyter.widget-view+json": {
       "model_id": "8ace587ea51144e2a81556c17655ca50",
       "version_major": 2,
       "version_minor": 0
      },
      "text/plain": [
       "HBox(children=(IntProgress(value=0, max=406), HTML(value='')))"
      ]
     },
     "metadata": {},
     "output_type": "display_data"
    },
    {
     "name": "stdout",
     "output_type": "stream",
     "text": [
      "{'loss': 0.03490280856452313, 'mloss': tensor(0.0583), 'val_loss': 0.0411136549670396, 'val_mloss_tot': tensor(0.0713)}\n"
     ]
    },
    {
     "data": {
      "application/vnd.jupyter.widget-view+json": {
       "model_id": "6a0d1e2bb1834cb39a6c8374f25e222d",
       "version_major": 2,
       "version_minor": 0
      },
      "text/plain": [
       "HBox(children=(IntProgress(value=0, max=815), HTML(value='')))"
      ]
     },
     "metadata": {},
     "output_type": "display_data"
    },
    {
     "data": {
      "application/vnd.jupyter.widget-view+json": {
       "model_id": "785ba3dc64f741bbaef4e208aea334a1",
       "version_major": 2,
       "version_minor": 0
      },
      "text/plain": [
       "HBox(children=(IntProgress(value=0, max=406), HTML(value='')))"
      ]
     },
     "metadata": {},
     "output_type": "display_data"
    },
    {
     "name": "stdout",
     "output_type": "stream",
     "text": [
      "{'loss': 0.032886987446781035, 'mloss': tensor(0.0573), 'val_loss': 0.04107625645773458, 'val_mloss_tot': tensor(0.0712)}\n"
     ]
    },
    {
     "data": {
      "application/vnd.jupyter.widget-view+json": {
       "model_id": "4f5744b4899548ff97540408cfaaafbd",
       "version_major": 2,
       "version_minor": 0
      },
      "text/plain": [
       "HBox(children=(IntProgress(value=0, max=815), HTML(value='')))"
      ]
     },
     "metadata": {},
     "output_type": "display_data"
    },
    {
     "data": {
      "application/vnd.jupyter.widget-view+json": {
       "model_id": "84487781334c469abcde6a8d827c33a5",
       "version_major": 2,
       "version_minor": 0
      },
      "text/plain": [
       "HBox(children=(IntProgress(value=0, max=406), HTML(value='')))"
      ]
     },
     "metadata": {},
     "output_type": "display_data"
    },
    {
     "name": "stdout",
     "output_type": "stream",
     "text": [
      "{'loss': 0.03389548136728074, 'mloss': tensor(0.0578), 'val_loss': 0.04162528278452936, 'val_mloss_tot': tensor(0.0722)}\n"
     ]
    },
    {
     "data": {
      "application/vnd.jupyter.widget-view+json": {
       "model_id": "ba41338f4a8b4a129f41f788ac552ff3",
       "version_major": 2,
       "version_minor": 0
      },
      "text/plain": [
       "HBox(children=(IntProgress(value=0, max=815), HTML(value='')))"
      ]
     },
     "metadata": {},
     "output_type": "display_data"
    },
    {
     "data": {
      "application/vnd.jupyter.widget-view+json": {
       "model_id": "14d45ce632af4b92947a273de834b932",
       "version_major": 2,
       "version_minor": 0
      },
      "text/plain": [
       "HBox(children=(IntProgress(value=0, max=406), HTML(value='')))"
      ]
     },
     "metadata": {},
     "output_type": "display_data"
    },
    {
     "name": "stdout",
     "output_type": "stream",
     "text": [
      "{'loss': 0.033918124941244195, 'mloss': tensor(0.0579), 'val_loss': 0.04175184694293134, 'val_mloss_tot': tensor(0.0724)}\n"
     ]
    },
    {
     "data": {
      "application/vnd.jupyter.widget-view+json": {
       "model_id": "4f375e49be0540f2937fed755f569972",
       "version_major": 2,
       "version_minor": 0
      },
      "text/plain": [
       "HBox(children=(IntProgress(value=0, max=815), HTML(value='')))"
      ]
     },
     "metadata": {},
     "output_type": "display_data"
    },
    {
     "data": {
      "application/vnd.jupyter.widget-view+json": {
       "model_id": "60b1af6168e64bdeb0aade21146202fe",
       "version_major": 2,
       "version_minor": 0
      },
      "text/plain": [
       "HBox(children=(IntProgress(value=0, max=406), HTML(value='')))"
      ]
     },
     "metadata": {},
     "output_type": "display_data"
    },
    {
     "name": "stdout",
     "output_type": "stream",
     "text": [
      "{'loss': 0.03388255233204087, 'mloss': tensor(0.0583), 'val_loss': 0.041060569869317665, 'val_mloss_tot': tensor(0.0712)}\n"
     ]
    },
    {
     "data": {
      "application/vnd.jupyter.widget-view+json": {
       "model_id": "4aa2941242c1406eaa823ebeed587b36",
       "version_major": 2,
       "version_minor": 0
      },
      "text/plain": [
       "HBox(children=(IntProgress(value=0, max=815), HTML(value='')))"
      ]
     },
     "metadata": {},
     "output_type": "display_data"
    },
    {
     "data": {
      "application/vnd.jupyter.widget-view+json": {
       "model_id": "372489b5087344ee93069d45af94fac0",
       "version_major": 2,
       "version_minor": 0
      },
      "text/plain": [
       "HBox(children=(IntProgress(value=0, max=406), HTML(value='')))"
      ]
     },
     "metadata": {},
     "output_type": "display_data"
    },
    {
     "name": "stdout",
     "output_type": "stream",
     "text": [
      "{'loss': 0.03253072022737952, 'mloss': tensor(0.0565), 'val_loss': 0.041044457847702095, 'val_mloss_tot': tensor(0.0712)}\n"
     ]
    },
    {
     "data": {
      "application/vnd.jupyter.widget-view+json": {
       "model_id": "9f9a7469fa364aeebd5ea8e099d0caf8",
       "version_major": 2,
       "version_minor": 0
      },
      "text/plain": [
       "HBox(children=(IntProgress(value=0, max=815), HTML(value='')))"
      ]
     },
     "metadata": {},
     "output_type": "display_data"
    },
    {
     "data": {
      "application/vnd.jupyter.widget-view+json": {
       "model_id": "e84266957484499d9ccc7f4d729c1c69",
       "version_major": 2,
       "version_minor": 0
      },
      "text/plain": [
       "HBox(children=(IntProgress(value=0, max=406), HTML(value='')))"
      ]
     },
     "metadata": {},
     "output_type": "display_data"
    },
    {
     "name": "stdout",
     "output_type": "stream",
     "text": [
      "{'loss': 0.03309435873029265, 'mloss': tensor(0.0582), 'val_loss': 0.040895693461763964, 'val_mloss_tot': tensor(0.0709)}\n"
     ]
    },
    {
     "data": {
      "application/vnd.jupyter.widget-view+json": {
       "model_id": "590a76463d4c423a80cff115ba9ea781",
       "version_major": 2,
       "version_minor": 0
      },
      "text/plain": [
       "HBox(children=(IntProgress(value=0, max=815), HTML(value='')))"
      ]
     },
     "metadata": {},
     "output_type": "display_data"
    },
    {
     "data": {
      "application/vnd.jupyter.widget-view+json": {
       "model_id": "af7e6548ba4b4f9c8fefb7342b18eca4",
       "version_major": 2,
       "version_minor": 0
      },
      "text/plain": [
       "HBox(children=(IntProgress(value=0, max=406), HTML(value='')))"
      ]
     },
     "metadata": {},
     "output_type": "display_data"
    },
    {
     "name": "stdout",
     "output_type": "stream",
     "text": [
      "{'loss': 0.03482424947104899, 'mloss': tensor(0.0612), 'val_loss': 0.04160044846019428, 'val_mloss_tot': tensor(0.0721)}\n"
     ]
    },
    {
     "data": {
      "application/vnd.jupyter.widget-view+json": {
       "model_id": "f1535ab29e144eec9168b5bff4d2593f",
       "version_major": 2,
       "version_minor": 0
      },
      "text/plain": [
       "HBox(children=(IntProgress(value=0, max=815), HTML(value='')))"
      ]
     },
     "metadata": {},
     "output_type": "display_data"
    },
    {
     "data": {
      "application/vnd.jupyter.widget-view+json": {
       "model_id": "837263c3a00c4154a28543849dccccd1",
       "version_major": 2,
       "version_minor": 0
      },
      "text/plain": [
       "HBox(children=(IntProgress(value=0, max=406), HTML(value='')))"
      ]
     },
     "metadata": {},
     "output_type": "display_data"
    },
    {
     "name": "stdout",
     "output_type": "stream",
     "text": [
      "{'loss': 0.03244430588824685, 'mloss': tensor(0.0568), 'val_loss': 0.040756313820722805, 'val_mloss_tot': tensor(0.0707)}\n"
     ]
    },
    {
     "data": {
      "application/vnd.jupyter.widget-view+json": {
       "model_id": "8a684ce72e8c49f9990b595191cfef5a",
       "version_major": 2,
       "version_minor": 0
      },
      "text/plain": [
       "HBox(children=(IntProgress(value=0, max=815), HTML(value='')))"
      ]
     },
     "metadata": {},
     "output_type": "display_data"
    },
    {
     "data": {
      "application/vnd.jupyter.widget-view+json": {
       "model_id": "dde5dc52731943fe8e18d11f1e6df907",
       "version_major": 2,
       "version_minor": 0
      },
      "text/plain": [
       "HBox(children=(IntProgress(value=0, max=406), HTML(value='')))"
      ]
     },
     "metadata": {},
     "output_type": "display_data"
    },
    {
     "name": "stdout",
     "output_type": "stream",
     "text": [
      "{'loss': 0.034333043081841534, 'mloss': tensor(0.0632), 'val_loss': 0.040878147942018626, 'val_mloss_tot': tensor(0.0709)}\n"
     ]
    },
    {
     "data": {
      "application/vnd.jupyter.widget-view+json": {
       "model_id": "62bc08ea8cc54c979cadbe2bdb8b0d9b",
       "version_major": 2,
       "version_minor": 0
      },
      "text/plain": [
       "HBox(children=(IntProgress(value=0, max=815), HTML(value='')))"
      ]
     },
     "metadata": {},
     "output_type": "display_data"
    },
    {
     "data": {
      "application/vnd.jupyter.widget-view+json": {
       "model_id": "695b6078ff0349bca9d42d872e8b88ee",
       "version_major": 2,
       "version_minor": 0
      },
      "text/plain": [
       "HBox(children=(IntProgress(value=0, max=406), HTML(value='')))"
      ]
     },
     "metadata": {},
     "output_type": "display_data"
    },
    {
     "name": "stdout",
     "output_type": "stream",
     "text": [
      "{'loss': 0.03303467254795116, 'mloss': tensor(0.0574), 'val_loss': 0.04168235944822577, 'val_mloss_tot': tensor(0.0723)}\n"
     ]
    },
    {
     "data": {
      "application/vnd.jupyter.widget-view+json": {
       "model_id": "ec12507f305f431c8b4c211e5359e5f2",
       "version_major": 2,
       "version_minor": 0
      },
      "text/plain": [
       "HBox(children=(IntProgress(value=0, max=815), HTML(value='')))"
      ]
     },
     "metadata": {},
     "output_type": "display_data"
    },
    {
     "data": {
      "application/vnd.jupyter.widget-view+json": {
       "model_id": "f44a4f5e6aad440fb1527f2ec2f75aee",
       "version_major": 2,
       "version_minor": 0
      },
      "text/plain": [
       "HBox(children=(IntProgress(value=0, max=406), HTML(value='')))"
      ]
     },
     "metadata": {},
     "output_type": "display_data"
    },
    {
     "name": "stdout",
     "output_type": "stream",
     "text": [
      "{'loss': 0.03300164717549735, 'mloss': tensor(0.0587), 'val_loss': 0.040926441561724314, 'val_mloss_tot': tensor(0.0710)}\n"
     ]
    },
    {
     "data": {
      "application/vnd.jupyter.widget-view+json": {
       "model_id": "1f11e4ef7dea41a69e82753e6443803f",
       "version_major": 2,
       "version_minor": 0
      },
      "text/plain": [
       "HBox(children=(IntProgress(value=0, max=815), HTML(value='')))"
      ]
     },
     "metadata": {},
     "output_type": "display_data"
    },
    {
     "data": {
      "application/vnd.jupyter.widget-view+json": {
       "model_id": "10d8703171434da386faaccab13cdb40",
       "version_major": 2,
       "version_minor": 0
      },
      "text/plain": [
       "HBox(children=(IntProgress(value=0, max=406), HTML(value='')))"
      ]
     },
     "metadata": {},
     "output_type": "display_data"
    },
    {
     "name": "stdout",
     "output_type": "stream",
     "text": [
      "{'loss': 0.03186864834671021, 'mloss': tensor(0.0556), 'val_loss': 0.0412252998332782, 'val_mloss_tot': tensor(0.0715)}\n"
     ]
    },
    {
     "data": {
      "application/vnd.jupyter.widget-view+json": {
       "model_id": "48743d87bd8448e9ac06b11dec4dadbc",
       "version_major": 2,
       "version_minor": 0
      },
      "text/plain": [
       "HBox(children=(IntProgress(value=0, max=815), HTML(value='')))"
      ]
     },
     "metadata": {},
     "output_type": "display_data"
    },
    {
     "data": {
      "application/vnd.jupyter.widget-view+json": {
       "model_id": "a696b0b2e91a43309812e79111cf7d22",
       "version_major": 2,
       "version_minor": 0
      },
      "text/plain": [
       "HBox(children=(IntProgress(value=0, max=406), HTML(value='')))"
      ]
     },
     "metadata": {},
     "output_type": "display_data"
    },
    {
     "name": "stdout",
     "output_type": "stream",
     "text": [
      "{'loss': 0.032076405272649475, 'mloss': tensor(0.0568), 'val_loss': 0.04079597407098621, 'val_mloss_tot': tensor(0.0707)}\n",
      "\n"
     ]
    },
    {
     "data": {
      "application/vnd.jupyter.widget-view+json": {
       "model_id": "f047c0e15c09402298e11758b78f1ff0",
       "version_major": 2,
       "version_minor": 0
      },
      "text/plain": [
       "HBox(children=(IntProgress(value=0, max=406), HTML(value='')))"
      ]
     },
     "metadata": {},
     "output_type": "display_data"
    },
    {
     "name": "stdout",
     "output_type": "stream",
     "text": [
      "\n",
      "0.040756313820722805\n"
     ]
    }
   ],
   "source": [
    "%matplotlib nbagg\n",
    "model_name,version, num_split = 'Densenet161_3' , 'classifier_splits',2\n",
    "pickle_file=open(outputs_dir+outputs_format.format(model_name,version,'features_train_tta',num_split),'rb')\n",
    "features=pickle.load(pickle_file)\n",
    "pickle_file.close()\n",
    "features.shape\n",
    "\n",
    "features=features.reshape(features.shape[0]//4,4,-1)\n",
    "features.shape\n",
    "split_train = train_df[train_df.PID.isin(set(split_sid[splits[num_split][0]]))].SeriesI.unique()\n",
    "split_validate =  train_df[train_df.PID.isin(set(split_sid[splits[num_split][1]]))].SeriesI.unique()\n",
    "\n",
    "np.random.seed(SEED+num_split)\n",
    "torch.manual_seed(SEED+num_split)\n",
    "torch.cuda.manual_seed(SEED+num_split)\n",
    "torch.backends.cudnn.deterministic = True\n",
    "batch_size=16\n",
    "num_workers=18\n",
    "num_epochs=16\n",
    "klr=1\n",
    "weights = torch.tensor([1.,1.,1.,1.,1.,2.],device=device)\n",
    "train_dataset=FullHeadDataset(train_df,\n",
    "                              split_train,\n",
    "                              features,\n",
    "                              'SeriesI',\n",
    "                              'ImagePositionZ',\n",
    "                              hemorrhage_types)                \n",
    "validate_dataset=FullHeadDataset(train_df,\n",
    "                                 split_validate,\n",
    "                                 features[:,0,:],\n",
    "                                 'SeriesI',\n",
    "                                 'ImagePositionZ',\n",
    "                                 hemorrhage_types)                \n",
    "\n",
    "model=ResModelIn(features.shape[-1])\n",
    "version=version+'_fullhead_resmodelin'\n",
    "_=model.to(device)\n",
    "\n",
    "loss_func=my_loss\n",
    "#fig,ax = plt.subplots(figsize=(10,7))\n",
    "#gr=loss_graph(fig,ax,num_epochs,len(train_dataset)//batch_size+1,limits=[0.02,0.06])\n",
    "num_train_optimization_steps = num_epochs*(len(train_dataset)//batch_size+int(len(train_dataset)%batch_size>0))\n",
    "sched=WarmupExpCosineWithWarmupRestartsSchedule( t_total=num_train_optimization_steps, cycles=num_epochs//4,tau=0)\n",
    "optimizer = BertAdam(model.parameters(),lr=klr*1e-3,schedule=sched)\n",
    "history,best_model= model_train(model,\n",
    "                                optimizer,\n",
    "                                train_dataset,\n",
    "                                batch_size,\n",
    "                                num_epochs,\n",
    "                                loss_func,\n",
    "                                weights=weights,\n",
    "                                do_apex=False,\n",
    "                                validate_dataset=validate_dataset,\n",
    "                                param_schedualer=None,\n",
    "                                weights_data=None,\n",
    "                                metric=Metric(torch.tensor([1.,1.,1.,1.,1.,2.])),\n",
    "                                return_model=True,\n",
    "                                best_average=3,\n",
    "                                num_workers=num_workers,\n",
    "                                sampler=None,\n",
    "                                graph=None)\n",
    "torch.save(best_model.state_dict(), models_dir+models_format.format(model_name,version,num_split))"
   ]
  },
  {
   "cell_type": "code",
   "execution_count": 25,
   "metadata": {
    "scrolled": true
   },
   "outputs": [
    {
     "data": {
      "text/plain": [
       "torch.Size([2697008, 208])"
      ]
     },
     "execution_count": 25,
     "metadata": {},
     "output_type": "execute_result"
    },
    {
     "data": {
      "text/plain": [
       "torch.Size([674252, 4, 208])"
      ]
     },
     "execution_count": 25,
     "metadata": {},
     "output_type": "execute_result"
    },
    {
     "data": {
      "text/plain": [
       "<torch._C.Generator at 0x7f597c49f770>"
      ]
     },
     "execution_count": 25,
     "metadata": {},
     "output_type": "execute_result"
    },
    {
     "data": {
      "application/vnd.jupyter.widget-view+json": {
       "model_id": "9d0a052ff04944569d7b303ea1ce255d",
       "version_major": 2,
       "version_minor": 0
      },
      "text/plain": [
       "HBox(children=(IntProgress(value=0, max=16), HTML(value='')))"
      ]
     },
     "metadata": {},
     "output_type": "display_data"
    },
    {
     "data": {
      "application/vnd.jupyter.widget-view+json": {
       "model_id": "d074c25a0555416981ab3c8e33f39810",
       "version_major": 2,
       "version_minor": 0
      },
      "text/plain": [
       "HBox(children=(IntProgress(value=0, max=816), HTML(value='')))"
      ]
     },
     "metadata": {},
     "output_type": "display_data"
    },
    {
     "data": {
      "application/vnd.jupyter.widget-view+json": {
       "model_id": "7b18e88ddc574e858694e53420288bf3",
       "version_major": 2,
       "version_minor": 0
      },
      "text/plain": [
       "HBox(children=(IntProgress(value=0, max=406), HTML(value='')))"
      ]
     },
     "metadata": {},
     "output_type": "display_data"
    },
    {
     "name": "stdout",
     "output_type": "stream",
     "text": [
      "{'loss': 0.037539493131038285, 'mloss': tensor(0.0640), 'val_loss': 0.045838898307015305, 'val_mloss_tot': tensor(0.0796)}\n"
     ]
    },
    {
     "data": {
      "application/vnd.jupyter.widget-view+json": {
       "model_id": "ea2eca6939304911bc298a3da771f3ca",
       "version_major": 2,
       "version_minor": 0
      },
      "text/plain": [
       "HBox(children=(IntProgress(value=0, max=816), HTML(value='')))"
      ]
     },
     "metadata": {},
     "output_type": "display_data"
    },
    {
     "data": {
      "application/vnd.jupyter.widget-view+json": {
       "model_id": "05a6060c7cb749e29a75a12fb42498a2",
       "version_major": 2,
       "version_minor": 0
      },
      "text/plain": [
       "HBox(children=(IntProgress(value=0, max=406), HTML(value='')))"
      ]
     },
     "metadata": {},
     "output_type": "display_data"
    },
    {
     "name": "stdout",
     "output_type": "stream",
     "text": [
      "{'loss': 0.03600192408071844, 'mloss': tensor(0.0654), 'val_loss': 0.0433007774064822, 'val_mloss_tot': tensor(0.0752)}\n"
     ]
    },
    {
     "data": {
      "application/vnd.jupyter.widget-view+json": {
       "model_id": "ef43e35d1f5b4a548cae85a7ace0964b",
       "version_major": 2,
       "version_minor": 0
      },
      "text/plain": [
       "HBox(children=(IntProgress(value=0, max=816), HTML(value='')))"
      ]
     },
     "metadata": {},
     "output_type": "display_data"
    },
    {
     "data": {
      "application/vnd.jupyter.widget-view+json": {
       "model_id": "20263926e0244e648f4d3e25b4dcfb11",
       "version_major": 2,
       "version_minor": 0
      },
      "text/plain": [
       "HBox(children=(IntProgress(value=0, max=406), HTML(value='')))"
      ]
     },
     "metadata": {},
     "output_type": "display_data"
    },
    {
     "name": "stdout",
     "output_type": "stream",
     "text": [
      "{'loss': 0.033823077865254, 'mloss': tensor(0.0566), 'val_loss': 0.04329341885592476, 'val_mloss_tot': tensor(0.0752)}\n"
     ]
    },
    {
     "data": {
      "application/vnd.jupyter.widget-view+json": {
       "model_id": "af4aeda9c74440efa8ccf9df643fadc1",
       "version_major": 2,
       "version_minor": 0
      },
      "text/plain": [
       "HBox(children=(IntProgress(value=0, max=816), HTML(value='')))"
      ]
     },
     "metadata": {},
     "output_type": "display_data"
    },
    {
     "data": {
      "application/vnd.jupyter.widget-view+json": {
       "model_id": "26fc25bd31e44044b4b8f59ddccbe54b",
       "version_major": 2,
       "version_minor": 0
      },
      "text/plain": [
       "HBox(children=(IntProgress(value=0, max=406), HTML(value='')))"
      ]
     },
     "metadata": {},
     "output_type": "display_data"
    },
    {
     "name": "stdout",
     "output_type": "stream",
     "text": [
      "{'loss': 0.03326308322811354, 'mloss': tensor(0.0558), 'val_loss': 0.04344624691135869, 'val_mloss_tot': tensor(0.0754)}\n"
     ]
    },
    {
     "data": {
      "application/vnd.jupyter.widget-view+json": {
       "model_id": "e43aa71c49e34c4ea5d9357853902453",
       "version_major": 2,
       "version_minor": 0
      },
      "text/plain": [
       "HBox(children=(IntProgress(value=0, max=816), HTML(value='')))"
      ]
     },
     "metadata": {},
     "output_type": "display_data"
    },
    {
     "data": {
      "application/vnd.jupyter.widget-view+json": {
       "model_id": "cdbc123b554c46c6ade607b5287916f8",
       "version_major": 2,
       "version_minor": 0
      },
      "text/plain": [
       "HBox(children=(IntProgress(value=0, max=406), HTML(value='')))"
      ]
     },
     "metadata": {},
     "output_type": "display_data"
    },
    {
     "name": "stdout",
     "output_type": "stream",
     "text": [
      "{'loss': 0.03258287574550202, 'mloss': tensor(0.0523), 'val_loss': 0.04403883105962826, 'val_mloss_tot': tensor(0.0765)}\n"
     ]
    },
    {
     "data": {
      "application/vnd.jupyter.widget-view+json": {
       "model_id": "5a9542d809d64c558d1996bd2b80468a",
       "version_major": 2,
       "version_minor": 0
      },
      "text/plain": [
       "HBox(children=(IntProgress(value=0, max=816), HTML(value='')))"
      ]
     },
     "metadata": {},
     "output_type": "display_data"
    },
    {
     "data": {
      "application/vnd.jupyter.widget-view+json": {
       "model_id": "925c228a6cbc4090bad747c8d03baa32",
       "version_major": 2,
       "version_minor": 0
      },
      "text/plain": [
       "HBox(children=(IntProgress(value=0, max=406), HTML(value='')))"
      ]
     },
     "metadata": {},
     "output_type": "display_data"
    },
    {
     "name": "stdout",
     "output_type": "stream",
     "text": [
      "{'loss': 0.03376653673532168, 'mloss': tensor(0.0566), 'val_loss': 0.04423192330278236, 'val_mloss_tot': tensor(0.0768)}\n"
     ]
    },
    {
     "data": {
      "application/vnd.jupyter.widget-view+json": {
       "model_id": "fae55072870d4271878a4e866773bc11",
       "version_major": 2,
       "version_minor": 0
      },
      "text/plain": [
       "HBox(children=(IntProgress(value=0, max=816), HTML(value='')))"
      ]
     },
     "metadata": {},
     "output_type": "display_data"
    },
    {
     "data": {
      "application/vnd.jupyter.widget-view+json": {
       "model_id": "bfc18c93a88a4fba906254cea328aa90",
       "version_major": 2,
       "version_minor": 0
      },
      "text/plain": [
       "HBox(children=(IntProgress(value=0, max=406), HTML(value='')))"
      ]
     },
     "metadata": {},
     "output_type": "display_data"
    },
    {
     "name": "stdout",
     "output_type": "stream",
     "text": [
      "{'loss': 0.0319929820247773, 'mloss': tensor(0.0527), 'val_loss': 0.042960380384092924, 'val_mloss_tot': tensor(0.0746)}\n"
     ]
    },
    {
     "data": {
      "application/vnd.jupyter.widget-view+json": {
       "model_id": "a67566da9f5d402e81f96761bb54d57f",
       "version_major": 2,
       "version_minor": 0
      },
      "text/plain": [
       "HBox(children=(IntProgress(value=0, max=816), HTML(value='')))"
      ]
     },
     "metadata": {},
     "output_type": "display_data"
    },
    {
     "data": {
      "application/vnd.jupyter.widget-view+json": {
       "model_id": "c73ea421893b4b3c835e46c7436ba880",
       "version_major": 2,
       "version_minor": 0
      },
      "text/plain": [
       "HBox(children=(IntProgress(value=0, max=406), HTML(value='')))"
      ]
     },
     "metadata": {},
     "output_type": "display_data"
    },
    {
     "name": "stdout",
     "output_type": "stream",
     "text": [
      "{'loss': 0.03319707640883184, 'mloss': tensor(0.0554), 'val_loss': 0.04313173177514427, 'val_mloss_tot': tensor(0.0749)}\n"
     ]
    },
    {
     "data": {
      "application/vnd.jupyter.widget-view+json": {
       "model_id": "56227bfbb16d4eb2a80d9949c7077d2c",
       "version_major": 2,
       "version_minor": 0
      },
      "text/plain": [
       "HBox(children=(IntProgress(value=0, max=816), HTML(value='')))"
      ]
     },
     "metadata": {},
     "output_type": "display_data"
    },
    {
     "data": {
      "application/vnd.jupyter.widget-view+json": {
       "model_id": "01e0bd9365fd4c6487c8301ef4fcf6e9",
       "version_major": 2,
       "version_minor": 0
      },
      "text/plain": [
       "HBox(children=(IntProgress(value=0, max=406), HTML(value='')))"
      ]
     },
     "metadata": {},
     "output_type": "display_data"
    },
    {
     "name": "stdout",
     "output_type": "stream",
     "text": [
      "{'loss': 0.03378131093102307, 'mloss': tensor(0.0600), 'val_loss': 0.04426626028009034, 'val_mloss_tot': tensor(0.0769)}\n"
     ]
    },
    {
     "data": {
      "application/vnd.jupyter.widget-view+json": {
       "model_id": "c18560bb014a456d9d3c995970004def",
       "version_major": 2,
       "version_minor": 0
      },
      "text/plain": [
       "HBox(children=(IntProgress(value=0, max=816), HTML(value='')))"
      ]
     },
     "metadata": {},
     "output_type": "display_data"
    },
    {
     "data": {
      "application/vnd.jupyter.widget-view+json": {
       "model_id": "cec72aa2c4f848b39847908c22bd008b",
       "version_major": 2,
       "version_minor": 0
      },
      "text/plain": [
       "HBox(children=(IntProgress(value=0, max=406), HTML(value='')))"
      ]
     },
     "metadata": {},
     "output_type": "display_data"
    },
    {
     "name": "stdout",
     "output_type": "stream",
     "text": [
      "{'loss': 0.0339850716046941, 'mloss': tensor(0.0601), 'val_loss': 0.04323946534004521, 'val_mloss_tot': tensor(0.0751)}\n"
     ]
    },
    {
     "data": {
      "application/vnd.jupyter.widget-view+json": {
       "model_id": "8af3a9b948c7483ebc47753a210e5f4f",
       "version_major": 2,
       "version_minor": 0
      },
      "text/plain": [
       "HBox(children=(IntProgress(value=0, max=816), HTML(value='')))"
      ]
     },
     "metadata": {},
     "output_type": "display_data"
    },
    {
     "data": {
      "application/vnd.jupyter.widget-view+json": {
       "model_id": "088912769ce54e3495c86956bc678241",
       "version_major": 2,
       "version_minor": 0
      },
      "text/plain": [
       "HBox(children=(IntProgress(value=0, max=406), HTML(value='')))"
      ]
     },
     "metadata": {},
     "output_type": "display_data"
    },
    {
     "name": "stdout",
     "output_type": "stream",
     "text": [
      "{'loss': 0.03197806483560676, 'mloss': tensor(0.0517), 'val_loss': 0.04327446104972417, 'val_mloss_tot': tensor(0.0751)}\n"
     ]
    },
    {
     "data": {
      "application/vnd.jupyter.widget-view+json": {
       "model_id": "22cde9813a2c411783ea3b4d8640a39e",
       "version_major": 2,
       "version_minor": 0
      },
      "text/plain": [
       "HBox(children=(IntProgress(value=0, max=816), HTML(value='')))"
      ]
     },
     "metadata": {},
     "output_type": "display_data"
    },
    {
     "data": {
      "application/vnd.jupyter.widget-view+json": {
       "model_id": "78f0c67abade4d9b8cbd1058621f8193",
       "version_major": 2,
       "version_minor": 0
      },
      "text/plain": [
       "HBox(children=(IntProgress(value=0, max=406), HTML(value='')))"
      ]
     },
     "metadata": {},
     "output_type": "display_data"
    },
    {
     "name": "stdout",
     "output_type": "stream",
     "text": [
      "{'loss': 0.032023074212498115, 'mloss': tensor(0.0542), 'val_loss': 0.043165114571184396, 'val_mloss_tot': tensor(0.0749)}\n"
     ]
    },
    {
     "data": {
      "application/vnd.jupyter.widget-view+json": {
       "model_id": "fac47b46f7974f3d8b9521027aa4945b",
       "version_major": 2,
       "version_minor": 0
      },
      "text/plain": [
       "HBox(children=(IntProgress(value=0, max=816), HTML(value='')))"
      ]
     },
     "metadata": {},
     "output_type": "display_data"
    },
    {
     "data": {
      "application/vnd.jupyter.widget-view+json": {
       "model_id": "1ae8aa1e55c04641950481fabe265f08",
       "version_major": 2,
       "version_minor": 0
      },
      "text/plain": [
       "HBox(children=(IntProgress(value=0, max=406), HTML(value='')))"
      ]
     },
     "metadata": {},
     "output_type": "display_data"
    },
    {
     "name": "stdout",
     "output_type": "stream",
     "text": [
      "{'loss': 0.03439757852202632, 'mloss': tensor(0.0615), 'val_loss': 0.043784952961055223, 'val_mloss_tot': tensor(0.0760)}\n"
     ]
    },
    {
     "data": {
      "application/vnd.jupyter.widget-view+json": {
       "model_id": "4f8ab8d0ab1e4c1da4442826ddad4d18",
       "version_major": 2,
       "version_minor": 0
      },
      "text/plain": [
       "HBox(children=(IntProgress(value=0, max=816), HTML(value='')))"
      ]
     },
     "metadata": {},
     "output_type": "display_data"
    },
    {
     "data": {
      "application/vnd.jupyter.widget-view+json": {
       "model_id": "45ef781b8c624da4a4f9da9a659a54be",
       "version_major": 2,
       "version_minor": 0
      },
      "text/plain": [
       "HBox(children=(IntProgress(value=0, max=406), HTML(value='')))"
      ]
     },
     "metadata": {},
     "output_type": "display_data"
    },
    {
     "name": "stdout",
     "output_type": "stream",
     "text": [
      "{'loss': 0.03271123613727149, 'mloss': tensor(0.0561), 'val_loss': 0.04395230886414005, 'val_mloss_tot': tensor(0.0763)}\n"
     ]
    },
    {
     "data": {
      "application/vnd.jupyter.widget-view+json": {
       "model_id": "935f436ac385435e8acc39e7c73e017d",
       "version_major": 2,
       "version_minor": 0
      },
      "text/plain": [
       "HBox(children=(IntProgress(value=0, max=816), HTML(value='')))"
      ]
     },
     "metadata": {},
     "output_type": "display_data"
    },
    {
     "data": {
      "application/vnd.jupyter.widget-view+json": {
       "model_id": "e2a1368a30a942e3a0196c0a8e281cda",
       "version_major": 2,
       "version_minor": 0
      },
      "text/plain": [
       "HBox(children=(IntProgress(value=0, max=406), HTML(value='')))"
      ]
     },
     "metadata": {},
     "output_type": "display_data"
    },
    {
     "name": "stdout",
     "output_type": "stream",
     "text": [
      "{'loss': 0.03216968509987529, 'mloss': tensor(0.0555), 'val_loss': 0.0431863771908655, 'val_mloss_tot': tensor(0.0750)}\n"
     ]
    },
    {
     "data": {
      "application/vnd.jupyter.widget-view+json": {
       "model_id": "021c6911012143e5b8811954b76ddb4f",
       "version_major": 2,
       "version_minor": 0
      },
      "text/plain": [
       "HBox(children=(IntProgress(value=0, max=816), HTML(value='')))"
      ]
     },
     "metadata": {},
     "output_type": "display_data"
    },
    {
     "data": {
      "application/vnd.jupyter.widget-view+json": {
       "model_id": "7dd25486b565451f99c0332186cb304d",
       "version_major": 2,
       "version_minor": 0
      },
      "text/plain": [
       "HBox(children=(IntProgress(value=0, max=406), HTML(value='')))"
      ]
     },
     "metadata": {},
     "output_type": "display_data"
    },
    {
     "name": "stdout",
     "output_type": "stream",
     "text": [
      "{'loss': 0.033486763714719266, 'mloss': tensor(0.0612), 'val_loss': 0.04332060701950118, 'val_mloss_tot': tensor(0.0752)}\n",
      "\n"
     ]
    },
    {
     "data": {
      "application/vnd.jupyter.widget-view+json": {
       "model_id": "b15843c4f985488eafc2bbab398d967e",
       "version_major": 2,
       "version_minor": 0
      },
      "text/plain": [
       "HBox(children=(IntProgress(value=0, max=406), HTML(value='')))"
      ]
     },
     "metadata": {},
     "output_type": "display_data"
    },
    {
     "name": "stdout",
     "output_type": "stream",
     "text": [
      "\n",
      "0.042960380384092924\n"
     ]
    }
   ],
   "source": [
    "%matplotlib nbagg\n",
    "model_name,version, num_split = 'Densenet169_3' , 'classifier_splits',0\n",
    "pickle_file=open(outputs_dir+outputs_format.format(model_name,version,'features_train_tta',num_split),'rb')\n",
    "features=pickle.load(pickle_file)\n",
    "pickle_file.close()\n",
    "features.shape\n",
    "\n",
    "features=features.reshape(features.shape[0]//4,4,-1)\n",
    "features.shape\n",
    "split_train = train_df[train_df.PID.isin(set(split_sid[splits[num_split][0]]))].SeriesI.unique()\n",
    "split_validate =  train_df[train_df.PID.isin(set(split_sid[splits[num_split][1]]))].SeriesI.unique()\n",
    "\n",
    "np.random.seed(SEED+num_split)\n",
    "torch.manual_seed(SEED+num_split)\n",
    "torch.cuda.manual_seed(SEED+num_split)\n",
    "torch.backends.cudnn.deterministic = True\n",
    "batch_size=16\n",
    "num_workers=18\n",
    "num_epochs=16\n",
    "klr=1\n",
    "weights = torch.tensor([1.,1.,1.,1.,1.,2.],device=device)\n",
    "train_dataset=FullHeadDataset(train_df,\n",
    "                              split_train,\n",
    "                              features,\n",
    "                              'SeriesI',\n",
    "                              'ImagePositionZ',\n",
    "                              hemorrhage_types)                \n",
    "validate_dataset=FullHeadDataset(train_df,\n",
    "                                 split_validate,\n",
    "                                 features[:,0,:],\n",
    "                                 'SeriesI',\n",
    "                                 'ImagePositionZ',\n",
    "                                 hemorrhage_types)                \n",
    "\n",
    "model=ResModelIn(features.shape[-1])\n",
    "version=version+'_fullhead_resmodelin'\n",
    "_=model.to(device)\n",
    "\n",
    "loss_func=my_loss\n",
    "#fig,ax = plt.subplots(figsize=(10,7))\n",
    "#gr=loss_graph(fig,ax,num_epochs,len(train_dataset)//batch_size+1,limits=[0.02,0.06])\n",
    "num_train_optimization_steps = num_epochs*(len(train_dataset)//batch_size+int(len(train_dataset)%batch_size>0))\n",
    "sched=WarmupExpCosineWithWarmupRestartsSchedule( t_total=num_train_optimization_steps, cycles=num_epochs//4,tau=0)\n",
    "optimizer = BertAdam(model.parameters(),lr=klr*1e-3,schedule=sched)\n",
    "history,best_model= model_train(model,\n",
    "                                optimizer,\n",
    "                                train_dataset,\n",
    "                                batch_size,\n",
    "                                num_epochs,\n",
    "                                loss_func,\n",
    "                                weights=weights,\n",
    "                                do_apex=False,\n",
    "                                validate_dataset=validate_dataset,\n",
    "                                param_schedualer=None,\n",
    "                                weights_data=None,\n",
    "                                metric=Metric(torch.tensor([1.,1.,1.,1.,1.,2.])),\n",
    "                                return_model=True,\n",
    "                                best_average=3,\n",
    "                                num_workers=num_workers,\n",
    "                                sampler=None,\n",
    "                                graph=None)\n",
    "torch.save(best_model.state_dict(), models_dir+models_format.format(model_name,version,num_split))"
   ]
  },
  {
   "cell_type": "code",
   "execution_count": 26,
   "metadata": {
    "scrolled": true
   },
   "outputs": [
    {
     "data": {
      "text/plain": [
       "torch.Size([2697008, 208])"
      ]
     },
     "execution_count": 26,
     "metadata": {},
     "output_type": "execute_result"
    },
    {
     "data": {
      "text/plain": [
       "torch.Size([674252, 4, 208])"
      ]
     },
     "execution_count": 26,
     "metadata": {},
     "output_type": "execute_result"
    },
    {
     "data": {
      "text/plain": [
       "<torch._C.Generator at 0x7f597c49f770>"
      ]
     },
     "execution_count": 26,
     "metadata": {},
     "output_type": "execute_result"
    },
    {
     "data": {
      "application/vnd.jupyter.widget-view+json": {
       "model_id": "4b472c5c781a4a4bb7929749b024494c",
       "version_major": 2,
       "version_minor": 0
      },
      "text/plain": [
       "HBox(children=(IntProgress(value=0, max=16), HTML(value='')))"
      ]
     },
     "metadata": {},
     "output_type": "display_data"
    },
    {
     "data": {
      "application/vnd.jupyter.widget-view+json": {
       "model_id": "413abc3a22db410ba91b8eb5bb89e6b0",
       "version_major": 2,
       "version_minor": 0
      },
      "text/plain": [
       "HBox(children=(IntProgress(value=0, max=812), HTML(value='')))"
      ]
     },
     "metadata": {},
     "output_type": "display_data"
    },
    {
     "data": {
      "application/vnd.jupyter.widget-view+json": {
       "model_id": "5888c8ee705149a98cc7e32a98be7186",
       "version_major": 2,
       "version_minor": 0
      },
      "text/plain": [
       "HBox(children=(IntProgress(value=0, max=410), HTML(value='')))"
      ]
     },
     "metadata": {},
     "output_type": "display_data"
    },
    {
     "name": "stdout",
     "output_type": "stream",
     "text": [
      "{'loss': 0.03849257902821731, 'mloss': tensor(0.0654), 'val_loss': 0.043494956268043054, 'val_mloss_tot': tensor(0.0759)}\n"
     ]
    },
    {
     "data": {
      "application/vnd.jupyter.widget-view+json": {
       "model_id": "616f3cca59434a409a10acd59210450a",
       "version_major": 2,
       "version_minor": 0
      },
      "text/plain": [
       "HBox(children=(IntProgress(value=0, max=812), HTML(value='')))"
      ]
     },
     "metadata": {},
     "output_type": "display_data"
    },
    {
     "data": {
      "application/vnd.jupyter.widget-view+json": {
       "model_id": "ea42d85c4ac7406695deba0f431b0c75",
       "version_major": 2,
       "version_minor": 0
      },
      "text/plain": [
       "HBox(children=(IntProgress(value=0, max=410), HTML(value='')))"
      ]
     },
     "metadata": {},
     "output_type": "display_data"
    },
    {
     "name": "stdout",
     "output_type": "stream",
     "text": [
      "{'loss': 0.03415831878646108, 'mloss': tensor(0.0580), 'val_loss': 0.04287243678189087, 'val_mloss_tot': tensor(0.0748)}\n"
     ]
    },
    {
     "data": {
      "application/vnd.jupyter.widget-view+json": {
       "model_id": "74f33ef101ae467bbd6b9bf50b938114",
       "version_major": 2,
       "version_minor": 0
      },
      "text/plain": [
       "HBox(children=(IntProgress(value=0, max=812), HTML(value='')))"
      ]
     },
     "metadata": {},
     "output_type": "display_data"
    },
    {
     "data": {
      "application/vnd.jupyter.widget-view+json": {
       "model_id": "8347f85cc9264013a00c4a60017c89be",
       "version_major": 2,
       "version_minor": 0
      },
      "text/plain": [
       "HBox(children=(IntProgress(value=0, max=410), HTML(value='')))"
      ]
     },
     "metadata": {},
     "output_type": "display_data"
    },
    {
     "name": "stdout",
     "output_type": "stream",
     "text": [
      "{'loss': 0.0355496313077802, 'mloss': tensor(0.0652), 'val_loss': 0.04211631037703738, 'val_mloss_tot': tensor(0.0735)}\n"
     ]
    },
    {
     "data": {
      "application/vnd.jupyter.widget-view+json": {
       "model_id": "38268ab1a5c6400180dfe80ffa82dac2",
       "version_major": 2,
       "version_minor": 0
      },
      "text/plain": [
       "HBox(children=(IntProgress(value=0, max=812), HTML(value='')))"
      ]
     },
     "metadata": {},
     "output_type": "display_data"
    },
    {
     "data": {
      "application/vnd.jupyter.widget-view+json": {
       "model_id": "9e4475f8b3fa408bbacacae2f7220f73",
       "version_major": 2,
       "version_minor": 0
      },
      "text/plain": [
       "HBox(children=(IntProgress(value=0, max=410), HTML(value='')))"
      ]
     },
     "metadata": {},
     "output_type": "display_data"
    },
    {
     "name": "stdout",
     "output_type": "stream",
     "text": [
      "{'loss': 0.03429856706574426, 'mloss': tensor(0.0604), 'val_loss': 0.04243326060496634, 'val_mloss_tot': tensor(0.0741)}\n"
     ]
    },
    {
     "data": {
      "application/vnd.jupyter.widget-view+json": {
       "model_id": "43cbe93d266c4fabaf6e305237a2888a",
       "version_major": 2,
       "version_minor": 0
      },
      "text/plain": [
       "HBox(children=(IntProgress(value=0, max=812), HTML(value='')))"
      ]
     },
     "metadata": {},
     "output_type": "display_data"
    },
    {
     "data": {
      "application/vnd.jupyter.widget-view+json": {
       "model_id": "967668b8612f49b38c78592a24ae4422",
       "version_major": 2,
       "version_minor": 0
      },
      "text/plain": [
       "HBox(children=(IntProgress(value=0, max=410), HTML(value='')))"
      ]
     },
     "metadata": {},
     "output_type": "display_data"
    },
    {
     "name": "stdout",
     "output_type": "stream",
     "text": [
      "{'loss': 0.036112788853069636, 'mloss': tensor(0.0657), 'val_loss': 0.042650102609314205, 'val_mloss_tot': tensor(0.0744)}\n"
     ]
    },
    {
     "data": {
      "application/vnd.jupyter.widget-view+json": {
       "model_id": "6367f527baa94ec69b4bdaf1e4312067",
       "version_major": 2,
       "version_minor": 0
      },
      "text/plain": [
       "HBox(children=(IntProgress(value=0, max=812), HTML(value='')))"
      ]
     },
     "metadata": {},
     "output_type": "display_data"
    },
    {
     "data": {
      "application/vnd.jupyter.widget-view+json": {
       "model_id": "9a8aadb5c3f1413188efae49160d7992",
       "version_major": 2,
       "version_minor": 0
      },
      "text/plain": [
       "HBox(children=(IntProgress(value=0, max=410), HTML(value='')))"
      ]
     },
     "metadata": {},
     "output_type": "display_data"
    },
    {
     "name": "stdout",
     "output_type": "stream",
     "text": [
      "{'loss': 0.03446846913167554, 'mloss': tensor(0.0575), 'val_loss': 0.0431575855819463, 'val_mloss_tot': tensor(0.0753)}\n"
     ]
    },
    {
     "data": {
      "application/vnd.jupyter.widget-view+json": {
       "model_id": "c8c1b9d503844f8983b274fd46de8c4b",
       "version_major": 2,
       "version_minor": 0
      },
      "text/plain": [
       "HBox(children=(IntProgress(value=0, max=812), HTML(value='')))"
      ]
     },
     "metadata": {},
     "output_type": "display_data"
    },
    {
     "data": {
      "application/vnd.jupyter.widget-view+json": {
       "model_id": "24a7f66bc4794cdc9c8bd544feb7540b",
       "version_major": 2,
       "version_minor": 0
      },
      "text/plain": [
       "HBox(children=(IntProgress(value=0, max=410), HTML(value='')))"
      ]
     },
     "metadata": {},
     "output_type": "display_data"
    },
    {
     "name": "stdout",
     "output_type": "stream",
     "text": [
      "{'loss': 0.03334594779703006, 'mloss': tensor(0.0556), 'val_loss': 0.042385484539426685, 'val_mloss_tot': tensor(0.0740)}\n"
     ]
    },
    {
     "data": {
      "application/vnd.jupyter.widget-view+json": {
       "model_id": "4c278ebb673449cc9a88293710e3bb95",
       "version_major": 2,
       "version_minor": 0
      },
      "text/plain": [
       "HBox(children=(IntProgress(value=0, max=812), HTML(value='')))"
      ]
     },
     "metadata": {},
     "output_type": "display_data"
    },
    {
     "data": {
      "application/vnd.jupyter.widget-view+json": {
       "model_id": "38ee63aaf28348a89a92ba8928cbfafc",
       "version_major": 2,
       "version_minor": 0
      },
      "text/plain": [
       "HBox(children=(IntProgress(value=0, max=410), HTML(value='')))"
      ]
     },
     "metadata": {},
     "output_type": "display_data"
    },
    {
     "name": "stdout",
     "output_type": "stream",
     "text": [
      "{'loss': 0.03252855210880968, 'mloss': tensor(0.0558), 'val_loss': 0.042083544732730196, 'val_mloss_tot': tensor(0.0735)}\n"
     ]
    },
    {
     "data": {
      "application/vnd.jupyter.widget-view+json": {
       "model_id": "7450800a33f542989096330824ceeba3",
       "version_major": 2,
       "version_minor": 0
      },
      "text/plain": [
       "HBox(children=(IntProgress(value=0, max=812), HTML(value='')))"
      ]
     },
     "metadata": {},
     "output_type": "display_data"
    },
    {
     "data": {
      "application/vnd.jupyter.widget-view+json": {
       "model_id": "dd0d9b78e6934ecc8661897dcd5bd5c5",
       "version_major": 2,
       "version_minor": 0
      },
      "text/plain": [
       "HBox(children=(IntProgress(value=0, max=410), HTML(value='')))"
      ]
     },
     "metadata": {},
     "output_type": "display_data"
    },
    {
     "name": "stdout",
     "output_type": "stream",
     "text": [
      "{'loss': 0.03400772250513949, 'mloss': tensor(0.0593), 'val_loss': 0.04335703963595556, 'val_mloss_tot': tensor(0.0757)}\n"
     ]
    },
    {
     "data": {
      "application/vnd.jupyter.widget-view+json": {
       "model_id": "e84da587a71443eaae1db5edc1756067",
       "version_major": 2,
       "version_minor": 0
      },
      "text/plain": [
       "HBox(children=(IntProgress(value=0, max=812), HTML(value='')))"
      ]
     },
     "metadata": {},
     "output_type": "display_data"
    },
    {
     "data": {
      "application/vnd.jupyter.widget-view+json": {
       "model_id": "212de64df46d4b45a34894006552a50f",
       "version_major": 2,
       "version_minor": 0
      },
      "text/plain": [
       "HBox(children=(IntProgress(value=0, max=410), HTML(value='')))"
      ]
     },
     "metadata": {},
     "output_type": "display_data"
    },
    {
     "name": "stdout",
     "output_type": "stream",
     "text": [
      "{'loss': 0.03313569605610544, 'mloss': tensor(0.0542), 'val_loss': 0.04235471432642421, 'val_mloss_tot': tensor(0.0739)}\n"
     ]
    },
    {
     "data": {
      "application/vnd.jupyter.widget-view+json": {
       "model_id": "7adde69f16a240879c52e3c9a80aa2b2",
       "version_major": 2,
       "version_minor": 0
      },
      "text/plain": [
       "HBox(children=(IntProgress(value=0, max=812), HTML(value='')))"
      ]
     },
     "metadata": {},
     "output_type": "display_data"
    },
    {
     "data": {
      "application/vnd.jupyter.widget-view+json": {
       "model_id": "5dd7edf7c3ce4449add2f3f17054cc03",
       "version_major": 2,
       "version_minor": 0
      },
      "text/plain": [
       "HBox(children=(IntProgress(value=0, max=410), HTML(value='')))"
      ]
     },
     "metadata": {},
     "output_type": "display_data"
    },
    {
     "name": "stdout",
     "output_type": "stream",
     "text": [
      "{'loss': 0.03244256377754201, 'mloss': tensor(0.0537), 'val_loss': 0.0422337812621419, 'val_mloss_tot': tensor(0.0737)}\n"
     ]
    },
    {
     "data": {
      "application/vnd.jupyter.widget-view+json": {
       "model_id": "d5a5cf207b5645a8b32e2550356b4c35",
       "version_major": 2,
       "version_minor": 0
      },
      "text/plain": [
       "HBox(children=(IntProgress(value=0, max=812), HTML(value='')))"
      ]
     },
     "metadata": {},
     "output_type": "display_data"
    },
    {
     "data": {
      "application/vnd.jupyter.widget-view+json": {
       "model_id": "6a0955fd61914ed49873f07b589093b8",
       "version_major": 2,
       "version_minor": 0
      },
      "text/plain": [
       "HBox(children=(IntProgress(value=0, max=410), HTML(value='')))"
      ]
     },
     "metadata": {},
     "output_type": "display_data"
    },
    {
     "name": "stdout",
     "output_type": "stream",
     "text": [
      "{'loss': 0.03316348099965779, 'mloss': tensor(0.0602), 'val_loss': 0.0423759501734067, 'val_mloss_tot': tensor(0.0740)}\n"
     ]
    },
    {
     "data": {
      "application/vnd.jupyter.widget-view+json": {
       "model_id": "d3c63b5b2e9f413aafb04e2773b1b750",
       "version_major": 2,
       "version_minor": 0
      },
      "text/plain": [
       "HBox(children=(IntProgress(value=0, max=812), HTML(value='')))"
      ]
     },
     "metadata": {},
     "output_type": "display_data"
    },
    {
     "data": {
      "application/vnd.jupyter.widget-view+json": {
       "model_id": "73b62fa0721e47b79a709d1b7ffd8f58",
       "version_major": 2,
       "version_minor": 0
      },
      "text/plain": [
       "HBox(children=(IntProgress(value=0, max=410), HTML(value='')))"
      ]
     },
     "metadata": {},
     "output_type": "display_data"
    },
    {
     "name": "stdout",
     "output_type": "stream",
     "text": [
      "{'loss': 0.03382189209107739, 'mloss': tensor(0.0580), 'val_loss': 0.0427149345257842, 'val_mloss_tot': tensor(0.0746)}\n"
     ]
    },
    {
     "data": {
      "application/vnd.jupyter.widget-view+json": {
       "model_id": "9e97a9f4923c4c2ebdca0390c272dc63",
       "version_major": 2,
       "version_minor": 0
      },
      "text/plain": [
       "HBox(children=(IntProgress(value=0, max=812), HTML(value='')))"
      ]
     },
     "metadata": {},
     "output_type": "display_data"
    },
    {
     "data": {
      "application/vnd.jupyter.widget-view+json": {
       "model_id": "417edb91eadb43e4941499bdda136ed4",
       "version_major": 2,
       "version_minor": 0
      },
      "text/plain": [
       "HBox(children=(IntProgress(value=0, max=410), HTML(value='')))"
      ]
     },
     "metadata": {},
     "output_type": "display_data"
    },
    {
     "name": "stdout",
     "output_type": "stream",
     "text": [
      "{'loss': 0.03347832594908626, 'mloss': tensor(0.0576), 'val_loss': 0.042302389729132014, 'val_mloss_tot': tensor(0.0738)}\n"
     ]
    },
    {
     "data": {
      "application/vnd.jupyter.widget-view+json": {
       "model_id": "b5cd051c5341405c81d93e43a4e171e4",
       "version_major": 2,
       "version_minor": 0
      },
      "text/plain": [
       "HBox(children=(IntProgress(value=0, max=812), HTML(value='')))"
      ]
     },
     "metadata": {},
     "output_type": "display_data"
    },
    {
     "data": {
      "application/vnd.jupyter.widget-view+json": {
       "model_id": "caf010174eaf451281b9e0955f3d208c",
       "version_major": 2,
       "version_minor": 0
      },
      "text/plain": [
       "HBox(children=(IntProgress(value=0, max=410), HTML(value='')))"
      ]
     },
     "metadata": {},
     "output_type": "display_data"
    },
    {
     "name": "stdout",
     "output_type": "stream",
     "text": [
      "{'loss': 0.03359656280229718, 'mloss': tensor(0.0579), 'val_loss': 0.04215017299326818, 'val_mloss_tot': tensor(0.0736)}\n"
     ]
    },
    {
     "data": {
      "application/vnd.jupyter.widget-view+json": {
       "model_id": "30c7a49fab764e46bf3c16fb7ed6f70a",
       "version_major": 2,
       "version_minor": 0
      },
      "text/plain": [
       "HBox(children=(IntProgress(value=0, max=812), HTML(value='')))"
      ]
     },
     "metadata": {},
     "output_type": "display_data"
    },
    {
     "data": {
      "application/vnd.jupyter.widget-view+json": {
       "model_id": "c0006928ef5f4251884329e47afd700a",
       "version_major": 2,
       "version_minor": 0
      },
      "text/plain": [
       "HBox(children=(IntProgress(value=0, max=410), HTML(value='')))"
      ]
     },
     "metadata": {},
     "output_type": "display_data"
    },
    {
     "name": "stdout",
     "output_type": "stream",
     "text": [
      "{'loss': 0.034744892641138274, 'mloss': tensor(0.0634), 'val_loss': 0.04239256744750026, 'val_mloss_tot': tensor(0.0740)}\n",
      "\n"
     ]
    },
    {
     "data": {
      "application/vnd.jupyter.widget-view+json": {
       "model_id": "9ce6fbb6a7aa4dd293ae7a0cea166029",
       "version_major": 2,
       "version_minor": 0
      },
      "text/plain": [
       "HBox(children=(IntProgress(value=0, max=410), HTML(value='')))"
      ]
     },
     "metadata": {},
     "output_type": "display_data"
    },
    {
     "name": "stdout",
     "output_type": "stream",
     "text": [
      "\n",
      "0.042083544732730196\n"
     ]
    }
   ],
   "source": [
    "%matplotlib nbagg\n",
    "model_name,version, num_split = 'Densenet169_3' , 'classifier_splits',1\n",
    "pickle_file=open(outputs_dir+outputs_format.format(model_name,version,'features_train_tta',num_split),'rb')\n",
    "features=pickle.load(pickle_file)\n",
    "pickle_file.close()\n",
    "features.shape\n",
    "\n",
    "features=features.reshape(features.shape[0]//4,4,-1)\n",
    "features.shape\n",
    "split_train = train_df[train_df.PID.isin(set(split_sid[splits[num_split][0]]))].SeriesI.unique()\n",
    "split_validate =  train_df[train_df.PID.isin(set(split_sid[splits[num_split][1]]))].SeriesI.unique()\n",
    "\n",
    "np.random.seed(SEED+num_split)\n",
    "torch.manual_seed(SEED+num_split)\n",
    "torch.cuda.manual_seed(SEED+num_split)\n",
    "torch.backends.cudnn.deterministic = True\n",
    "batch_size=16\n",
    "num_workers=18\n",
    "num_epochs=16\n",
    "klr=1\n",
    "weights = torch.tensor([1.,1.,1.,1.,1.,2.],device=device)\n",
    "train_dataset=FullHeadDataset(train_df,\n",
    "                              split_train,\n",
    "                              features,\n",
    "                              'SeriesI',\n",
    "                              'ImagePositionZ',\n",
    "                              hemorrhage_types)                \n",
    "validate_dataset=FullHeadDataset(train_df,\n",
    "                                 split_validate,\n",
    "                                 features[:,0,:],\n",
    "                                 'SeriesI',\n",
    "                                 'ImagePositionZ',\n",
    "                                 hemorrhage_types)                \n",
    "\n",
    "model=ResModelIn(features.shape[-1])\n",
    "version=version+'_fullhead_resmodelin'\n",
    "_=model.to(device)\n",
    "\n",
    "loss_func=my_loss\n",
    "#fig,ax = plt.subplots(figsize=(10,7))\n",
    "#gr=loss_graph(fig,ax,num_epochs,len(train_dataset)//batch_size+1,limits=[0.02,0.06])\n",
    "num_train_optimization_steps = num_epochs*(len(train_dataset)//batch_size+int(len(train_dataset)%batch_size>0))\n",
    "sched=WarmupExpCosineWithWarmupRestartsSchedule( t_total=num_train_optimization_steps, cycles=num_epochs//4,tau=0)\n",
    "optimizer = BertAdam(model.parameters(),lr=klr*1e-3,schedule=sched)\n",
    "history,best_model= model_train(model,\n",
    "                                optimizer,\n",
    "                                train_dataset,\n",
    "                                batch_size,\n",
    "                                num_epochs,\n",
    "                                loss_func,\n",
    "                                weights=weights,\n",
    "                                do_apex=False,\n",
    "                                validate_dataset=validate_dataset,\n",
    "                                param_schedualer=None,\n",
    "                                weights_data=None,\n",
    "                                metric=Metric(torch.tensor([1.,1.,1.,1.,1.,2.])),\n",
    "                                return_model=True,\n",
    "                                best_average=3,\n",
    "                                num_workers=num_workers,\n",
    "                                sampler=None,\n",
    "                                graph=None)\n",
    "torch.save(best_model.state_dict(), models_dir+models_format.format(model_name,version,num_split))"
   ]
  },
  {
   "cell_type": "code",
   "execution_count": 27,
   "metadata": {
    "scrolled": true
   },
   "outputs": [
    {
     "data": {
      "text/plain": [
       "torch.Size([2697008, 208])"
      ]
     },
     "execution_count": 27,
     "metadata": {},
     "output_type": "execute_result"
    },
    {
     "data": {
      "text/plain": [
       "torch.Size([674252, 4, 208])"
      ]
     },
     "execution_count": 27,
     "metadata": {},
     "output_type": "execute_result"
    },
    {
     "data": {
      "text/plain": [
       "<torch._C.Generator at 0x7f597c49f770>"
      ]
     },
     "execution_count": 27,
     "metadata": {},
     "output_type": "execute_result"
    },
    {
     "data": {
      "application/vnd.jupyter.widget-view+json": {
       "model_id": "9c44eacf31344f898a90e4a4cc301267",
       "version_major": 2,
       "version_minor": 0
      },
      "text/plain": [
       "HBox(children=(IntProgress(value=0, max=16), HTML(value='')))"
      ]
     },
     "metadata": {},
     "output_type": "display_data"
    },
    {
     "data": {
      "application/vnd.jupyter.widget-view+json": {
       "model_id": "a90f05f2ae6e48be848e6e6d1d818ad4",
       "version_major": 2,
       "version_minor": 0
      },
      "text/plain": [
       "HBox(children=(IntProgress(value=0, max=815), HTML(value='')))"
      ]
     },
     "metadata": {},
     "output_type": "display_data"
    },
    {
     "data": {
      "application/vnd.jupyter.widget-view+json": {
       "model_id": "31e0eea233174bd6b0219c3c9e5d6cf5",
       "version_major": 2,
       "version_minor": 0
      },
      "text/plain": [
       "HBox(children=(IntProgress(value=0, max=406), HTML(value='')))"
      ]
     },
     "metadata": {},
     "output_type": "display_data"
    },
    {
     "name": "stdout",
     "output_type": "stream",
     "text": [
      "{'loss': 0.04012623265427795, 'mloss': tensor(0.0707), 'val_loss': 0.04320993522879452, 'val_mloss_tot': tensor(0.0749)}\n"
     ]
    },
    {
     "data": {
      "application/vnd.jupyter.widget-view+json": {
       "model_id": "3f0cee1a60e649dc8e47d84f9594b83f",
       "version_major": 2,
       "version_minor": 0
      },
      "text/plain": [
       "HBox(children=(IntProgress(value=0, max=815), HTML(value='')))"
      ]
     },
     "metadata": {},
     "output_type": "display_data"
    },
    {
     "data": {
      "application/vnd.jupyter.widget-view+json": {
       "model_id": "83aa3a97acfd457181bb8461da81c393",
       "version_major": 2,
       "version_minor": 0
      },
      "text/plain": [
       "HBox(children=(IntProgress(value=0, max=406), HTML(value='')))"
      ]
     },
     "metadata": {},
     "output_type": "display_data"
    },
    {
     "name": "stdout",
     "output_type": "stream",
     "text": [
      "{'loss': 0.03613981602455292, 'mloss': tensor(0.0652), 'val_loss': 0.04216829231903507, 'val_mloss_tot': tensor(0.0731)}\n"
     ]
    },
    {
     "data": {
      "application/vnd.jupyter.widget-view+json": {
       "model_id": "a0d4b5aabacf4f61937beef1b3a04dc3",
       "version_major": 2,
       "version_minor": 0
      },
      "text/plain": [
       "HBox(children=(IntProgress(value=0, max=815), HTML(value='')))"
      ]
     },
     "metadata": {},
     "output_type": "display_data"
    },
    {
     "data": {
      "application/vnd.jupyter.widget-view+json": {
       "model_id": "0057294640a04accbb3a4c9d7f4f30e1",
       "version_major": 2,
       "version_minor": 0
      },
      "text/plain": [
       "HBox(children=(IntProgress(value=0, max=406), HTML(value='')))"
      ]
     },
     "metadata": {},
     "output_type": "display_data"
    },
    {
     "name": "stdout",
     "output_type": "stream",
     "text": [
      "{'loss': 0.03537313725671305, 'mloss': tensor(0.0601), 'val_loss': 0.04156312505310869, 'val_mloss_tot': tensor(0.0721)}\n"
     ]
    },
    {
     "data": {
      "application/vnd.jupyter.widget-view+json": {
       "model_id": "3c0281bd21c74b1b8e588eccaff8d41f",
       "version_major": 2,
       "version_minor": 0
      },
      "text/plain": [
       "HBox(children=(IntProgress(value=0, max=815), HTML(value='')))"
      ]
     },
     "metadata": {},
     "output_type": "display_data"
    },
    {
     "data": {
      "application/vnd.jupyter.widget-view+json": {
       "model_id": "522a33f6386a468a810381cc8c1b66a3",
       "version_major": 2,
       "version_minor": 0
      },
      "text/plain": [
       "HBox(children=(IntProgress(value=0, max=406), HTML(value='')))"
      ]
     },
     "metadata": {},
     "output_type": "display_data"
    },
    {
     "name": "stdout",
     "output_type": "stream",
     "text": [
      "{'loss': 0.033966707746071044, 'mloss': tensor(0.0581), 'val_loss': 0.04128027338594235, 'val_mloss_tot': tensor(0.0716)}\n"
     ]
    },
    {
     "data": {
      "application/vnd.jupyter.widget-view+json": {
       "model_id": "267a715c97794935862082b29924e516",
       "version_major": 2,
       "version_minor": 0
      },
      "text/plain": [
       "HBox(children=(IntProgress(value=0, max=815), HTML(value='')))"
      ]
     },
     "metadata": {},
     "output_type": "display_data"
    },
    {
     "data": {
      "application/vnd.jupyter.widget-view+json": {
       "model_id": "0ac5b50c428f4a70804c28fef894ae7d",
       "version_major": 2,
       "version_minor": 0
      },
      "text/plain": [
       "HBox(children=(IntProgress(value=0, max=406), HTML(value='')))"
      ]
     },
     "metadata": {},
     "output_type": "display_data"
    },
    {
     "name": "stdout",
     "output_type": "stream",
     "text": [
      "{'loss': 0.037536217508421274, 'mloss': tensor(0.0661), 'val_loss': 0.043027594192366445, 'val_mloss_tot': tensor(0.0746)}\n"
     ]
    },
    {
     "data": {
      "application/vnd.jupyter.widget-view+json": {
       "model_id": "e5b96ff9917d4274a2ee91085ab97a7d",
       "version_major": 2,
       "version_minor": 0
      },
      "text/plain": [
       "HBox(children=(IntProgress(value=0, max=815), HTML(value='')))"
      ]
     },
     "metadata": {},
     "output_type": "display_data"
    },
    {
     "data": {
      "application/vnd.jupyter.widget-view+json": {
       "model_id": "6678c830e78448d2b5c3d005aeac1b0f",
       "version_major": 2,
       "version_minor": 0
      },
      "text/plain": [
       "HBox(children=(IntProgress(value=0, max=406), HTML(value='')))"
      ]
     },
     "metadata": {},
     "output_type": "display_data"
    },
    {
     "name": "stdout",
     "output_type": "stream",
     "text": [
      "{'loss': 0.03457227327925857, 'mloss': tensor(0.0591), 'val_loss': 0.04279562010168295, 'val_mloss_tot': tensor(0.0742)}\n"
     ]
    },
    {
     "data": {
      "application/vnd.jupyter.widget-view+json": {
       "model_id": "77e5208dbb264f8d8177b439babbcf7e",
       "version_major": 2,
       "version_minor": 0
      },
      "text/plain": [
       "HBox(children=(IntProgress(value=0, max=815), HTML(value='')))"
      ]
     },
     "metadata": {},
     "output_type": "display_data"
    },
    {
     "data": {
      "application/vnd.jupyter.widget-view+json": {
       "model_id": "ab82fe4ecfd04551ad061b86e2e422c0",
       "version_major": 2,
       "version_minor": 0
      },
      "text/plain": [
       "HBox(children=(IntProgress(value=0, max=406), HTML(value='')))"
      ]
     },
     "metadata": {},
     "output_type": "display_data"
    },
    {
     "name": "stdout",
     "output_type": "stream",
     "text": [
      "{'loss': 0.033718726464694655, 'mloss': tensor(0.0552), 'val_loss': 0.04153316746135541, 'val_mloss_tot': tensor(0.0720)}\n"
     ]
    },
    {
     "data": {
      "application/vnd.jupyter.widget-view+json": {
       "model_id": "b217e5c8fece462eb29b7aa9e101fe43",
       "version_major": 2,
       "version_minor": 0
      },
      "text/plain": [
       "HBox(children=(IntProgress(value=0, max=815), HTML(value='')))"
      ]
     },
     "metadata": {},
     "output_type": "display_data"
    },
    {
     "data": {
      "application/vnd.jupyter.widget-view+json": {
       "model_id": "0be60a15de2a4ee392eb9bdcdc5d7d48",
       "version_major": 2,
       "version_minor": 0
      },
      "text/plain": [
       "HBox(children=(IntProgress(value=0, max=406), HTML(value='')))"
      ]
     },
     "metadata": {},
     "output_type": "display_data"
    },
    {
     "name": "stdout",
     "output_type": "stream",
     "text": [
      "{'loss': 0.03434841516792772, 'mloss': tensor(0.0609), 'val_loss': 0.04113389785961234, 'val_mloss_tot': tensor(0.0713)}\n"
     ]
    },
    {
     "data": {
      "application/vnd.jupyter.widget-view+json": {
       "model_id": "cdaaebe3dd224ba8a1725c5df9db5922",
       "version_major": 2,
       "version_minor": 0
      },
      "text/plain": [
       "HBox(children=(IntProgress(value=0, max=815), HTML(value='')))"
      ]
     },
     "metadata": {},
     "output_type": "display_data"
    },
    {
     "data": {
      "application/vnd.jupyter.widget-view+json": {
       "model_id": "617d215181e14fa4875c15d10ffff96f",
       "version_major": 2,
       "version_minor": 0
      },
      "text/plain": [
       "HBox(children=(IntProgress(value=0, max=406), HTML(value='')))"
      ]
     },
     "metadata": {},
     "output_type": "display_data"
    },
    {
     "name": "stdout",
     "output_type": "stream",
     "text": [
      "{'loss': 0.0344257942932218, 'mloss': tensor(0.0585), 'val_loss': 0.04217123835613685, 'val_mloss_tot': tensor(0.0731)}\n"
     ]
    },
    {
     "data": {
      "application/vnd.jupyter.widget-view+json": {
       "model_id": "49fd9cb032ab4d8e9d421f5c1cd3f83a",
       "version_major": 2,
       "version_minor": 0
      },
      "text/plain": [
       "HBox(children=(IntProgress(value=0, max=815), HTML(value='')))"
      ]
     },
     "metadata": {},
     "output_type": "display_data"
    },
    {
     "data": {
      "application/vnd.jupyter.widget-view+json": {
       "model_id": "1083a68012ee4e6d9ee3a7bafac24213",
       "version_major": 2,
       "version_minor": 0
      },
      "text/plain": [
       "HBox(children=(IntProgress(value=0, max=406), HTML(value='')))"
      ]
     },
     "metadata": {},
     "output_type": "display_data"
    },
    {
     "name": "stdout",
     "output_type": "stream",
     "text": [
      "{'loss': 0.034373567662240756, 'mloss': tensor(0.0610), 'val_loss': 0.041285459026740176, 'val_mloss_tot': tensor(0.0716)}\n"
     ]
    },
    {
     "data": {
      "application/vnd.jupyter.widget-view+json": {
       "model_id": "8861f7ac87c647a4b982c985dbf2caca",
       "version_major": 2,
       "version_minor": 0
      },
      "text/plain": [
       "HBox(children=(IntProgress(value=0, max=815), HTML(value='')))"
      ]
     },
     "metadata": {},
     "output_type": "display_data"
    },
    {
     "data": {
      "application/vnd.jupyter.widget-view+json": {
       "model_id": "66044ad938b744d4b30a5376dd12ca3f",
       "version_major": 2,
       "version_minor": 0
      },
      "text/plain": [
       "HBox(children=(IntProgress(value=0, max=406), HTML(value='')))"
      ]
     },
     "metadata": {},
     "output_type": "display_data"
    },
    {
     "name": "stdout",
     "output_type": "stream",
     "text": [
      "{'loss': 0.03319522920385918, 'mloss': tensor(0.0568), 'val_loss': 0.041145565592697615, 'val_mloss_tot': tensor(0.0713)}\n"
     ]
    },
    {
     "data": {
      "application/vnd.jupyter.widget-view+json": {
       "model_id": "02f45da9994442df9e01c9d90ce36e88",
       "version_major": 2,
       "version_minor": 0
      },
      "text/plain": [
       "HBox(children=(IntProgress(value=0, max=815), HTML(value='')))"
      ]
     },
     "metadata": {},
     "output_type": "display_data"
    },
    {
     "data": {
      "application/vnd.jupyter.widget-view+json": {
       "model_id": "cf3ae9cab8374e62baa09ad90f86618b",
       "version_major": 2,
       "version_minor": 0
      },
      "text/plain": [
       "HBox(children=(IntProgress(value=0, max=406), HTML(value='')))"
      ]
     },
     "metadata": {},
     "output_type": "display_data"
    },
    {
     "name": "stdout",
     "output_type": "stream",
     "text": [
      "{'loss': 0.03269792939032811, 'mloss': tensor(0.0554), 'val_loss': 0.041036104825852904, 'val_mloss_tot': tensor(0.0711)}\n"
     ]
    },
    {
     "data": {
      "application/vnd.jupyter.widget-view+json": {
       "model_id": "1824b09d4b0d4df19175e50197e8ef25",
       "version_major": 2,
       "version_minor": 0
      },
      "text/plain": [
       "HBox(children=(IntProgress(value=0, max=815), HTML(value='')))"
      ]
     },
     "metadata": {},
     "output_type": "display_data"
    },
    {
     "data": {
      "application/vnd.jupyter.widget-view+json": {
       "model_id": "69bb5bd868c84139823515969d812c76",
       "version_major": 2,
       "version_minor": 0
      },
      "text/plain": [
       "HBox(children=(IntProgress(value=0, max=406), HTML(value='')))"
      ]
     },
     "metadata": {},
     "output_type": "display_data"
    },
    {
     "name": "stdout",
     "output_type": "stream",
     "text": [
      "{'loss': 0.033396672099071746, 'mloss': tensor(0.0563), 'val_loss': 0.041227284656020956, 'val_mloss_tot': tensor(0.0715)}\n"
     ]
    },
    {
     "data": {
      "application/vnd.jupyter.widget-view+json": {
       "model_id": "58ec21dfcac64cbf9e5bf1f1c604dc4f",
       "version_major": 2,
       "version_minor": 0
      },
      "text/plain": [
       "HBox(children=(IntProgress(value=0, max=815), HTML(value='')))"
      ]
     },
     "metadata": {},
     "output_type": "display_data"
    },
    {
     "data": {
      "application/vnd.jupyter.widget-view+json": {
       "model_id": "af83915aa80d472b8ad8fb2905149e95",
       "version_major": 2,
       "version_minor": 0
      },
      "text/plain": [
       "HBox(children=(IntProgress(value=0, max=406), HTML(value='')))"
      ]
     },
     "metadata": {},
     "output_type": "display_data"
    },
    {
     "name": "stdout",
     "output_type": "stream",
     "text": [
      "{'loss': 0.0342792690253823, 'mloss': tensor(0.0596), 'val_loss': 0.04139529411873684, 'val_mloss_tot': tensor(0.0718)}\n"
     ]
    },
    {
     "data": {
      "application/vnd.jupyter.widget-view+json": {
       "model_id": "aafb552033b24b999df8ffdff9ec3c48",
       "version_major": 2,
       "version_minor": 0
      },
      "text/plain": [
       "HBox(children=(IntProgress(value=0, max=815), HTML(value='')))"
      ]
     },
     "metadata": {},
     "output_type": "display_data"
    },
    {
     "data": {
      "application/vnd.jupyter.widget-view+json": {
       "model_id": "a106794d3371473c9d3b6280d3e52e7f",
       "version_major": 2,
       "version_minor": 0
      },
      "text/plain": [
       "HBox(children=(IntProgress(value=0, max=406), HTML(value='')))"
      ]
     },
     "metadata": {},
     "output_type": "display_data"
    },
    {
     "name": "stdout",
     "output_type": "stream",
     "text": [
      "{'loss': 0.033230531793840445, 'mloss': tensor(0.0585), 'val_loss': 0.040954256682597064, 'val_mloss_tot': tensor(0.0710)}\n"
     ]
    },
    {
     "data": {
      "application/vnd.jupyter.widget-view+json": {
       "model_id": "ffac154ddef5436ea895f54d40bc50e2",
       "version_major": 2,
       "version_minor": 0
      },
      "text/plain": [
       "HBox(children=(IntProgress(value=0, max=815), HTML(value='')))"
      ]
     },
     "metadata": {},
     "output_type": "display_data"
    },
    {
     "data": {
      "application/vnd.jupyter.widget-view+json": {
       "model_id": "f1b512c6ba5c4b45abd704af7eb8c443",
       "version_major": 2,
       "version_minor": 0
      },
      "text/plain": [
       "HBox(children=(IntProgress(value=0, max=406), HTML(value='')))"
      ]
     },
     "metadata": {},
     "output_type": "display_data"
    },
    {
     "name": "stdout",
     "output_type": "stream",
     "text": [
      "{'loss': 0.03333873331711547, 'mloss': tensor(0.0574), 'val_loss': 0.04095312928909372, 'val_mloss_tot': tensor(0.0710)}\n",
      "\n"
     ]
    },
    {
     "data": {
      "application/vnd.jupyter.widget-view+json": {
       "model_id": "9b7310cb6c3e43b6bbd47df1ead30209",
       "version_major": 2,
       "version_minor": 0
      },
      "text/plain": [
       "HBox(children=(IntProgress(value=0, max=406), HTML(value='')))"
      ]
     },
     "metadata": {},
     "output_type": "display_data"
    },
    {
     "name": "stdout",
     "output_type": "stream",
     "text": [
      "\n",
      "(0.040845940620156715, {'val_loss': 0.040845940620156715, 'val_mloss_tot': tensor(0.0708)})\n"
     ]
    }
   ],
   "source": [
    "%matplotlib nbagg\n",
    "model_name,version, num_split = 'Densenet169_3' , 'classifier_splits',2\n",
    "pickle_file=open(outputs_dir+outputs_format.format(model_name,version,'features_train_tta',num_split),'rb')\n",
    "features=pickle.load(pickle_file)\n",
    "pickle_file.close()\n",
    "features.shape\n",
    "\n",
    "features=features.reshape(features.shape[0]//4,4,-1)\n",
    "features.shape\n",
    "split_train = train_df[train_df.PID.isin(set(split_sid[splits[num_split][0]]))].SeriesI.unique()\n",
    "split_validate =  train_df[train_df.PID.isin(set(split_sid[splits[num_split][1]]))].SeriesI.unique()\n",
    "\n",
    "np.random.seed(SEED+num_split)\n",
    "torch.manual_seed(SEED+num_split)\n",
    "torch.cuda.manual_seed(SEED+num_split)\n",
    "torch.backends.cudnn.deterministic = True\n",
    "batch_size=16\n",
    "num_workers=18\n",
    "num_epochs=16\n",
    "klr=1\n",
    "weights = torch.tensor([1.,1.,1.,1.,1.,2.],device=device)\n",
    "train_dataset=FullHeadDataset(train_df,\n",
    "                              split_train,\n",
    "                              features,\n",
    "                              'SeriesI',\n",
    "                              'ImagePositionZ',\n",
    "                              hemorrhage_types)                \n",
    "validate_dataset=FullHeadDataset(train_df,\n",
    "                                 split_validate,\n",
    "                                 features[:,0,:],\n",
    "                                 'SeriesI',\n",
    "                                 'ImagePositionZ',\n",
    "                                 hemorrhage_types)                \n",
    "\n",
    "model=ResModelIn(features.shape[-1])\n",
    "version=version+'_fullhead_resmodelin'\n",
    "_=model.to(device)\n",
    "\n",
    "loss_func=my_loss\n",
    "#fig,ax = plt.subplots(figsize=(10,7))\n",
    "#gr=loss_graph(fig,ax,num_epochs,len(train_dataset)//batch_size+1,limits=[0.02,0.06])\n",
    "num_train_optimization_steps = num_epochs*(len(train_dataset)//batch_size+int(len(train_dataset)%batch_size>0))\n",
    "sched=WarmupExpCosineWithWarmupRestartsSchedule( t_total=num_train_optimization_steps, cycles=num_epochs//4,tau=0)\n",
    "optimizer = BertAdam(model.parameters(),lr=klr*1e-3,schedule=sched)\n",
    "history,best_model= model_train(model,\n",
    "                                optimizer,\n",
    "                                train_dataset,\n",
    "                                batch_size,\n",
    "                                num_epochs,\n",
    "                                loss_func,\n",
    "                                weights=weights,\n",
    "                                do_apex=False,\n",
    "                                validate_dataset=validate_dataset,\n",
    "                                param_schedualer=None,\n",
    "                                weights_data=None,\n",
    "                                metric=Metric(torch.tensor([1.,1.,1.,1.,1.,2.])),\n",
    "                                return_model=True,\n",
    "                                best_average=3,\n",
    "                                num_workers=num_workers,\n",
    "                                sampler=None,\n",
    "                                graph=None)\n",
    "torch.save(best_model.state_dict(), models_dir+models_format.format(model_name,version,num_split))"
   ]
  },
  {
   "cell_type": "code",
   "execution_count": 28,
   "metadata": {
    "scrolled": true
   },
   "outputs": [
    {
     "data": {
      "text/plain": [
       "torch.Size([2697008, 240])"
      ]
     },
     "execution_count": 28,
     "metadata": {},
     "output_type": "execute_result"
    },
    {
     "data": {
      "text/plain": [
       "torch.Size([674252, 4, 240])"
      ]
     },
     "execution_count": 28,
     "metadata": {},
     "output_type": "execute_result"
    },
    {
     "data": {
      "text/plain": [
       "<torch._C.Generator at 0x7f597c49f770>"
      ]
     },
     "execution_count": 28,
     "metadata": {},
     "output_type": "execute_result"
    },
    {
     "data": {
      "application/vnd.jupyter.widget-view+json": {
       "model_id": "0f97639716f5488e9e34d3be112e0604",
       "version_major": 2,
       "version_minor": 0
      },
      "text/plain": [
       "HBox(children=(IntProgress(value=0, max=16), HTML(value='')))"
      ]
     },
     "metadata": {},
     "output_type": "display_data"
    },
    {
     "data": {
      "application/vnd.jupyter.widget-view+json": {
       "model_id": "f54eb1c7c6744eaba98ebdbf97f6e0eb",
       "version_major": 2,
       "version_minor": 0
      },
      "text/plain": [
       "HBox(children=(IntProgress(value=0, max=816), HTML(value='')))"
      ]
     },
     "metadata": {},
     "output_type": "display_data"
    },
    {
     "data": {
      "application/vnd.jupyter.widget-view+json": {
       "model_id": "9fa6fc09b57d4537bc10d1b680913f5a",
       "version_major": 2,
       "version_minor": 0
      },
      "text/plain": [
       "HBox(children=(IntProgress(value=0, max=406), HTML(value='')))"
      ]
     },
     "metadata": {},
     "output_type": "display_data"
    },
    {
     "name": "stdout",
     "output_type": "stream",
     "text": [
      "{'loss': 0.039764723982040194, 'mloss': tensor(0.0714), 'val_loss': 0.044894292772853096, 'val_mloss_tot': tensor(0.0779)}\n"
     ]
    },
    {
     "data": {
      "application/vnd.jupyter.widget-view+json": {
       "model_id": "877237d3272b4280a463831400d659ea",
       "version_major": 2,
       "version_minor": 0
      },
      "text/plain": [
       "HBox(children=(IntProgress(value=0, max=816), HTML(value='')))"
      ]
     },
     "metadata": {},
     "output_type": "display_data"
    },
    {
     "data": {
      "application/vnd.jupyter.widget-view+json": {
       "model_id": "9ef08131358643d3beb5f36d6e00e8cd",
       "version_major": 2,
       "version_minor": 0
      },
      "text/plain": [
       "HBox(children=(IntProgress(value=0, max=406), HTML(value='')))"
      ]
     },
     "metadata": {},
     "output_type": "display_data"
    },
    {
     "name": "stdout",
     "output_type": "stream",
     "text": [
      "{'loss': 0.03835775130204654, 'mloss': tensor(0.0719), 'val_loss': 0.04427089181549737, 'val_mloss_tot': tensor(0.0769)}\n"
     ]
    },
    {
     "data": {
      "application/vnd.jupyter.widget-view+json": {
       "model_id": "99bf9e6f070b40cbaa57b00458d0d069",
       "version_major": 2,
       "version_minor": 0
      },
      "text/plain": [
       "HBox(children=(IntProgress(value=0, max=816), HTML(value='')))"
      ]
     },
     "metadata": {},
     "output_type": "display_data"
    },
    {
     "data": {
      "application/vnd.jupyter.widget-view+json": {
       "model_id": "3b7785576a804c7695ef91c976e659bc",
       "version_major": 2,
       "version_minor": 0
      },
      "text/plain": [
       "HBox(children=(IntProgress(value=0, max=406), HTML(value='')))"
      ]
     },
     "metadata": {},
     "output_type": "display_data"
    },
    {
     "name": "stdout",
     "output_type": "stream",
     "text": [
      "{'loss': 0.035141041337971225, 'mloss': tensor(0.0610), 'val_loss': 0.04320066419815452, 'val_mloss_tot': tensor(0.0750)}\n"
     ]
    },
    {
     "data": {
      "application/vnd.jupyter.widget-view+json": {
       "model_id": "fdebf18442404dbfad6f8fdc12667ba1",
       "version_major": 2,
       "version_minor": 0
      },
      "text/plain": [
       "HBox(children=(IntProgress(value=0, max=816), HTML(value='')))"
      ]
     },
     "metadata": {},
     "output_type": "display_data"
    },
    {
     "data": {
      "application/vnd.jupyter.widget-view+json": {
       "model_id": "3305f5367cb4410195c26c04992f4406",
       "version_major": 2,
       "version_minor": 0
      },
      "text/plain": [
       "HBox(children=(IntProgress(value=0, max=406), HTML(value='')))"
      ]
     },
     "metadata": {},
     "output_type": "display_data"
    },
    {
     "name": "stdout",
     "output_type": "stream",
     "text": [
      "{'loss': 0.034359307082842384, 'mloss': tensor(0.0582), 'val_loss': 0.04312964030449724, 'val_mloss_tot': tensor(0.0749)}\n"
     ]
    },
    {
     "data": {
      "application/vnd.jupyter.widget-view+json": {
       "model_id": "ede45165f5cd4ec1b5279063ce90218a",
       "version_major": 2,
       "version_minor": 0
      },
      "text/plain": [
       "HBox(children=(IntProgress(value=0, max=816), HTML(value='')))"
      ]
     },
     "metadata": {},
     "output_type": "display_data"
    },
    {
     "data": {
      "application/vnd.jupyter.widget-view+json": {
       "model_id": "dad02fb6cdcc41b390d9a3f256e0fe3c",
       "version_major": 2,
       "version_minor": 0
      },
      "text/plain": [
       "HBox(children=(IntProgress(value=0, max=406), HTML(value='')))"
      ]
     },
     "metadata": {},
     "output_type": "display_data"
    },
    {
     "name": "stdout",
     "output_type": "stream",
     "text": [
      "{'loss': 0.03685427219358404, 'mloss': tensor(0.0680), 'val_loss': 0.044405551732797637, 'val_mloss_tot': tensor(0.0771)}\n"
     ]
    },
    {
     "data": {
      "application/vnd.jupyter.widget-view+json": {
       "model_id": "bd16d93c4d854ae8b108987345a29fec",
       "version_major": 2,
       "version_minor": 0
      },
      "text/plain": [
       "HBox(children=(IntProgress(value=0, max=816), HTML(value='')))"
      ]
     },
     "metadata": {},
     "output_type": "display_data"
    },
    {
     "data": {
      "application/vnd.jupyter.widget-view+json": {
       "model_id": "f7d6e132e2ee4b488e523df7d74bce87",
       "version_major": 2,
       "version_minor": 0
      },
      "text/plain": [
       "HBox(children=(IntProgress(value=0, max=406), HTML(value='')))"
      ]
     },
     "metadata": {},
     "output_type": "display_data"
    },
    {
     "name": "stdout",
     "output_type": "stream",
     "text": [
      "{'loss': 0.03479677390615877, 'mloss': tensor(0.0616), 'val_loss': 0.04348299072211232, 'val_mloss_tot': tensor(0.0755)}\n"
     ]
    },
    {
     "data": {
      "application/vnd.jupyter.widget-view+json": {
       "model_id": "9ec7ffc3435041f58ef26401b9735c8c",
       "version_major": 2,
       "version_minor": 0
      },
      "text/plain": [
       "HBox(children=(IntProgress(value=0, max=816), HTML(value='')))"
      ]
     },
     "metadata": {},
     "output_type": "display_data"
    },
    {
     "data": {
      "application/vnd.jupyter.widget-view+json": {
       "model_id": "557bf9e5ce334d5da45e255a0ce31c3a",
       "version_major": 2,
       "version_minor": 0
      },
      "text/plain": [
       "HBox(children=(IntProgress(value=0, max=406), HTML(value='')))"
      ]
     },
     "metadata": {},
     "output_type": "display_data"
    },
    {
     "name": "stdout",
     "output_type": "stream",
     "text": [
      "{'loss': 0.03607972521946341, 'mloss': tensor(0.0659), 'val_loss': 0.04292204492642852, 'val_mloss_tot': tensor(0.0745)}\n"
     ]
    },
    {
     "data": {
      "application/vnd.jupyter.widget-view+json": {
       "model_id": "591771e189264b8788501f5cce3f43f6",
       "version_major": 2,
       "version_minor": 0
      },
      "text/plain": [
       "HBox(children=(IntProgress(value=0, max=816), HTML(value='')))"
      ]
     },
     "metadata": {},
     "output_type": "display_data"
    },
    {
     "data": {
      "application/vnd.jupyter.widget-view+json": {
       "model_id": "64c107c69cb44958b191ab7f982c8c79",
       "version_major": 2,
       "version_minor": 0
      },
      "text/plain": [
       "HBox(children=(IntProgress(value=0, max=406), HTML(value='')))"
      ]
     },
     "metadata": {},
     "output_type": "display_data"
    },
    {
     "name": "stdout",
     "output_type": "stream",
     "text": [
      "{'loss': 0.034288864056904345, 'mloss': tensor(0.0622), 'val_loss': 0.04289080399395944, 'val_mloss_tot': tensor(0.0745)}\n"
     ]
    },
    {
     "data": {
      "application/vnd.jupyter.widget-view+json": {
       "model_id": "85fb1812ee044cdb802d14f458f1cc60",
       "version_major": 2,
       "version_minor": 0
      },
      "text/plain": [
       "HBox(children=(IntProgress(value=0, max=816), HTML(value='')))"
      ]
     },
     "metadata": {},
     "output_type": "display_data"
    },
    {
     "data": {
      "application/vnd.jupyter.widget-view+json": {
       "model_id": "ba216f4a23704b75a09e29217ba63af5",
       "version_major": 2,
       "version_minor": 0
      },
      "text/plain": [
       "HBox(children=(IntProgress(value=0, max=406), HTML(value='')))"
      ]
     },
     "metadata": {},
     "output_type": "display_data"
    },
    {
     "name": "stdout",
     "output_type": "stream",
     "text": [
      "{'loss': 0.03557981483371707, 'mloss': tensor(0.0611), 'val_loss': 0.04327118190078826, 'val_mloss_tot': tensor(0.0751)}\n"
     ]
    },
    {
     "data": {
      "application/vnd.jupyter.widget-view+json": {
       "model_id": "4644bce1416a4d16af76b61182465fe6",
       "version_major": 2,
       "version_minor": 0
      },
      "text/plain": [
       "HBox(children=(IntProgress(value=0, max=816), HTML(value='')))"
      ]
     },
     "metadata": {},
     "output_type": "display_data"
    },
    {
     "data": {
      "application/vnd.jupyter.widget-view+json": {
       "model_id": "0d59c1ebd35247ce9dfa0c0730891d9a",
       "version_major": 2,
       "version_minor": 0
      },
      "text/plain": [
       "HBox(children=(IntProgress(value=0, max=406), HTML(value='')))"
      ]
     },
     "metadata": {},
     "output_type": "display_data"
    },
    {
     "name": "stdout",
     "output_type": "stream",
     "text": [
      "{'loss': 0.03464851290774139, 'mloss': tensor(0.0595), 'val_loss': 0.04287544033017578, 'val_mloss_tot': tensor(0.0744)}\n"
     ]
    },
    {
     "data": {
      "application/vnd.jupyter.widget-view+json": {
       "model_id": "5f0ecac71f1542b0a0042e7f9d7be68e",
       "version_major": 2,
       "version_minor": 0
      },
      "text/plain": [
       "HBox(children=(IntProgress(value=0, max=816), HTML(value='')))"
      ]
     },
     "metadata": {},
     "output_type": "display_data"
    },
    {
     "data": {
      "application/vnd.jupyter.widget-view+json": {
       "model_id": "7081e1196db04a31ad64b8a18c8f5cb4",
       "version_major": 2,
       "version_minor": 0
      },
      "text/plain": [
       "HBox(children=(IntProgress(value=0, max=406), HTML(value='')))"
      ]
     },
     "metadata": {},
     "output_type": "display_data"
    },
    {
     "name": "stdout",
     "output_type": "stream",
     "text": [
      "{'loss': 0.03442252916010414, 'mloss': tensor(0.0624), 'val_loss': 0.04323059978913241, 'val_mloss_tot': tensor(0.0751)}\n"
     ]
    },
    {
     "data": {
      "application/vnd.jupyter.widget-view+json": {
       "model_id": "feb13e8434cf436ca76363f10796a670",
       "version_major": 2,
       "version_minor": 0
      },
      "text/plain": [
       "HBox(children=(IntProgress(value=0, max=816), HTML(value='')))"
      ]
     },
     "metadata": {},
     "output_type": "display_data"
    },
    {
     "data": {
      "application/vnd.jupyter.widget-view+json": {
       "model_id": "64396197c38345fd820607dd2207e800",
       "version_major": 2,
       "version_minor": 0
      },
      "text/plain": [
       "HBox(children=(IntProgress(value=0, max=406), HTML(value='')))"
      ]
     },
     "metadata": {},
     "output_type": "display_data"
    },
    {
     "name": "stdout",
     "output_type": "stream",
     "text": [
      "{'loss': 0.03224836766600221, 'mloss': tensor(0.0563), 'val_loss': 0.04268991309241048, 'val_mloss_tot': tensor(0.0741)}\n"
     ]
    },
    {
     "data": {
      "application/vnd.jupyter.widget-view+json": {
       "model_id": "7a5b43ece028481494b3ed3a6498784b",
       "version_major": 2,
       "version_minor": 0
      },
      "text/plain": [
       "HBox(children=(IntProgress(value=0, max=816), HTML(value='')))"
      ]
     },
     "metadata": {},
     "output_type": "display_data"
    },
    {
     "data": {
      "application/vnd.jupyter.widget-view+json": {
       "model_id": "d02124d795f643a981f8a36317db4aed",
       "version_major": 2,
       "version_minor": 0
      },
      "text/plain": [
       "HBox(children=(IntProgress(value=0, max=406), HTML(value='')))"
      ]
     },
     "metadata": {},
     "output_type": "display_data"
    },
    {
     "name": "stdout",
     "output_type": "stream",
     "text": [
      "{'loss': 0.03494698344984765, 'mloss': tensor(0.0623), 'val_loss': 0.04332712383280173, 'val_mloss_tot': tensor(0.0752)}\n"
     ]
    },
    {
     "data": {
      "application/vnd.jupyter.widget-view+json": {
       "model_id": "09badc45f6f3458f9945f4758759cd41",
       "version_major": 2,
       "version_minor": 0
      },
      "text/plain": [
       "HBox(children=(IntProgress(value=0, max=816), HTML(value='')))"
      ]
     },
     "metadata": {},
     "output_type": "display_data"
    },
    {
     "data": {
      "application/vnd.jupyter.widget-view+json": {
       "model_id": "59fff79e705a4e5d83106afe714737f8",
       "version_major": 2,
       "version_minor": 0
      },
      "text/plain": [
       "HBox(children=(IntProgress(value=0, max=406), HTML(value='')))"
      ]
     },
     "metadata": {},
     "output_type": "display_data"
    },
    {
     "name": "stdout",
     "output_type": "stream",
     "text": [
      "{'loss': 0.03322310206591019, 'mloss': tensor(0.0561), 'val_loss': 0.0428789083001759, 'val_mloss_tot': tensor(0.0744)}\n"
     ]
    },
    {
     "data": {
      "application/vnd.jupyter.widget-view+json": {
       "model_id": "47a0f01513d64b28aa8342095521521a",
       "version_major": 2,
       "version_minor": 0
      },
      "text/plain": [
       "HBox(children=(IntProgress(value=0, max=816), HTML(value='')))"
      ]
     },
     "metadata": {},
     "output_type": "display_data"
    },
    {
     "data": {
      "application/vnd.jupyter.widget-view+json": {
       "model_id": "bd479b201e6d442f8b9907809d745a7f",
       "version_major": 2,
       "version_minor": 0
      },
      "text/plain": [
       "HBox(children=(IntProgress(value=0, max=406), HTML(value='')))"
      ]
     },
     "metadata": {},
     "output_type": "display_data"
    },
    {
     "name": "stdout",
     "output_type": "stream",
     "text": [
      "{'loss': 0.03332472471453514, 'mloss': tensor(0.0570), 'val_loss': 0.04285133275285987, 'val_mloss_tot': tensor(0.0744)}\n"
     ]
    },
    {
     "data": {
      "application/vnd.jupyter.widget-view+json": {
       "model_id": "76bd8fb9b5de4cdd99a3aa046964ea70",
       "version_major": 2,
       "version_minor": 0
      },
      "text/plain": [
       "HBox(children=(IntProgress(value=0, max=816), HTML(value='')))"
      ]
     },
     "metadata": {},
     "output_type": "display_data"
    },
    {
     "data": {
      "application/vnd.jupyter.widget-view+json": {
       "model_id": "98e668359d4c4c9fa1dda56b37f21986",
       "version_major": 2,
       "version_minor": 0
      },
      "text/plain": [
       "HBox(children=(IntProgress(value=0, max=406), HTML(value='')))"
      ]
     },
     "metadata": {},
     "output_type": "display_data"
    },
    {
     "name": "stdout",
     "output_type": "stream",
     "text": [
      "{'loss': 0.03273017802128206, 'mloss': tensor(0.0574), 'val_loss': 0.042764421422814426, 'val_mloss_tot': tensor(0.0742)}\n",
      "\n"
     ]
    },
    {
     "data": {
      "application/vnd.jupyter.widget-view+json": {
       "model_id": "87ed8efbabb44698bfba3b026b239f70",
       "version_major": 2,
       "version_minor": 0
      },
      "text/plain": [
       "HBox(children=(IntProgress(value=0, max=406), HTML(value='')))"
      ]
     },
     "metadata": {},
     "output_type": "display_data"
    },
    {
     "name": "stdout",
     "output_type": "stream",
     "text": [
      "\n",
      "0.04268991309241048\n"
     ]
    }
   ],
   "source": [
    "%matplotlib nbagg\n",
    "model_name,version, num_split = 'Densenet201_3' , 'classifier_splits',0\n",
    "pickle_file=open(outputs_dir+outputs_format.format(model_name,version,'features_train_tta',num_split),'rb')\n",
    "features=pickle.load(pickle_file)\n",
    "pickle_file.close()\n",
    "features.shape\n",
    "\n",
    "features=features.reshape(features.shape[0]//4,4,-1)\n",
    "features.shape\n",
    "split_train = train_df[train_df.PID.isin(set(split_sid[splits[num_split][0]]))].SeriesI.unique()\n",
    "split_validate =  train_df[train_df.PID.isin(set(split_sid[splits[num_split][1]]))].SeriesI.unique()\n",
    "\n",
    "np.random.seed(SEED+num_split)\n",
    "torch.manual_seed(SEED+num_split)\n",
    "torch.cuda.manual_seed(SEED+num_split)\n",
    "torch.backends.cudnn.deterministic = True\n",
    "batch_size=16\n",
    "num_workers=18\n",
    "num_epochs=16\n",
    "klr=1\n",
    "weights = torch.tensor([1.,1.,1.,1.,1.,2.],device=device)\n",
    "train_dataset=FullHeadDataset(train_df,\n",
    "                              split_train,\n",
    "                              features,\n",
    "                              'SeriesI',\n",
    "                              'ImagePositionZ',\n",
    "                              hemorrhage_types)                \n",
    "validate_dataset=FullHeadDataset(train_df,\n",
    "                                 split_validate,\n",
    "                                 features[:,0,:],\n",
    "                                 'SeriesI',\n",
    "                                 'ImagePositionZ',\n",
    "                                 hemorrhage_types)                \n",
    "\n",
    "model=ResModelIn(features.shape[-1])\n",
    "version=version+'_fullhead_resmodelin'\n",
    "_=model.to(device)\n",
    "\n",
    "loss_func=my_loss\n",
    "#fig,ax = plt.subplots(figsize=(10,7))\n",
    "#gr=loss_graph(fig,ax,num_epochs,len(train_dataset)//batch_size+1,limits=[0.02,0.06])\n",
    "num_train_optimization_steps = num_epochs*(len(train_dataset)//batch_size+int(len(train_dataset)%batch_size>0))\n",
    "sched=WarmupExpCosineWithWarmupRestartsSchedule( t_total=num_train_optimization_steps, cycles=num_epochs//4,tau=0)\n",
    "optimizer = BertAdam(model.parameters(),lr=klr*1e-3,schedule=sched)\n",
    "history,best_model= model_train(model,\n",
    "                                optimizer,\n",
    "                                train_dataset,\n",
    "                                batch_size,\n",
    "                                num_epochs,\n",
    "                                loss_func,\n",
    "                                weights=weights,\n",
    "                                do_apex=False,\n",
    "                                validate_dataset=validate_dataset,\n",
    "                                param_schedualer=None,\n",
    "                                weights_data=None,\n",
    "                                metric=Metric(torch.tensor([1.,1.,1.,1.,1.,2.])),\n",
    "                                return_model=True,\n",
    "                                best_average=3,\n",
    "                                num_workers=num_workers,\n",
    "                                sampler=None,\n",
    "                                graph=None)\n",
    "torch.save(best_model.state_dict(), models_dir+models_format.format(model_name,version,num_split))"
   ]
  },
  {
   "cell_type": "code",
   "execution_count": 29,
   "metadata": {
    "scrolled": true
   },
   "outputs": [
    {
     "data": {
      "text/plain": [
       "torch.Size([2697008, 240])"
      ]
     },
     "execution_count": 29,
     "metadata": {},
     "output_type": "execute_result"
    },
    {
     "data": {
      "text/plain": [
       "torch.Size([674252, 4, 240])"
      ]
     },
     "execution_count": 29,
     "metadata": {},
     "output_type": "execute_result"
    },
    {
     "data": {
      "text/plain": [
       "<torch._C.Generator at 0x7f597c49f770>"
      ]
     },
     "execution_count": 29,
     "metadata": {},
     "output_type": "execute_result"
    },
    {
     "data": {
      "application/vnd.jupyter.widget-view+json": {
       "model_id": "fb384889a819400aa2717b9e5ddbf229",
       "version_major": 2,
       "version_minor": 0
      },
      "text/plain": [
       "HBox(children=(IntProgress(value=0, max=16), HTML(value='')))"
      ]
     },
     "metadata": {},
     "output_type": "display_data"
    },
    {
     "data": {
      "application/vnd.jupyter.widget-view+json": {
       "model_id": "31fad294ed9f4fff856b2556e79ac701",
       "version_major": 2,
       "version_minor": 0
      },
      "text/plain": [
       "HBox(children=(IntProgress(value=0, max=812), HTML(value='')))"
      ]
     },
     "metadata": {},
     "output_type": "display_data"
    },
    {
     "data": {
      "application/vnd.jupyter.widget-view+json": {
       "model_id": "59db8dea6b874db9b703f7d33e706089",
       "version_major": 2,
       "version_minor": 0
      },
      "text/plain": [
       "HBox(children=(IntProgress(value=0, max=410), HTML(value='')))"
      ]
     },
     "metadata": {},
     "output_type": "display_data"
    },
    {
     "name": "stdout",
     "output_type": "stream",
     "text": [
      "{'loss': 0.039442787547604996, 'mloss': tensor(0.0712), 'val_loss': 0.04309742703761269, 'val_mloss_tot': tensor(0.0752)}\n"
     ]
    },
    {
     "data": {
      "application/vnd.jupyter.widget-view+json": {
       "model_id": "80c11c7157bf42c3b3947c31211b595e",
       "version_major": 2,
       "version_minor": 0
      },
      "text/plain": [
       "HBox(children=(IntProgress(value=0, max=812), HTML(value='')))"
      ]
     },
     "metadata": {},
     "output_type": "display_data"
    },
    {
     "data": {
      "application/vnd.jupyter.widget-view+json": {
       "model_id": "e788ba59ecb549d394f92867c1ea7f17",
       "version_major": 2,
       "version_minor": 0
      },
      "text/plain": [
       "HBox(children=(IntProgress(value=0, max=410), HTML(value='')))"
      ]
     },
     "metadata": {},
     "output_type": "display_data"
    },
    {
     "name": "stdout",
     "output_type": "stream",
     "text": [
      "{'loss': 0.03570648855671449, 'mloss': tensor(0.0636), 'val_loss': 0.04365104069683428, 'val_mloss_tot': tensor(0.0762)}\n"
     ]
    },
    {
     "data": {
      "application/vnd.jupyter.widget-view+json": {
       "model_id": "e288fa317e7641b38617f94c38e5271b",
       "version_major": 2,
       "version_minor": 0
      },
      "text/plain": [
       "HBox(children=(IntProgress(value=0, max=812), HTML(value='')))"
      ]
     },
     "metadata": {},
     "output_type": "display_data"
    },
    {
     "data": {
      "application/vnd.jupyter.widget-view+json": {
       "model_id": "c25bbc528e5749c190b54fadd13a9815",
       "version_major": 2,
       "version_minor": 0
      },
      "text/plain": [
       "HBox(children=(IntProgress(value=0, max=410), HTML(value='')))"
      ]
     },
     "metadata": {},
     "output_type": "display_data"
    },
    {
     "name": "stdout",
     "output_type": "stream",
     "text": [
      "{'loss': 0.03457874173117134, 'mloss': tensor(0.0606), 'val_loss': 0.04234834254106007, 'val_mloss_tot': tensor(0.0739)}\n"
     ]
    },
    {
     "data": {
      "application/vnd.jupyter.widget-view+json": {
       "model_id": "b5a77c1b14084004b9b0d78595c46aa7",
       "version_major": 2,
       "version_minor": 0
      },
      "text/plain": [
       "HBox(children=(IntProgress(value=0, max=812), HTML(value='')))"
      ]
     },
     "metadata": {},
     "output_type": "display_data"
    },
    {
     "data": {
      "application/vnd.jupyter.widget-view+json": {
       "model_id": "108a7dff18cd47eca9727493fcd2c915",
       "version_major": 2,
       "version_minor": 0
      },
      "text/plain": [
       "HBox(children=(IntProgress(value=0, max=410), HTML(value='')))"
      ]
     },
     "metadata": {},
     "output_type": "display_data"
    },
    {
     "name": "stdout",
     "output_type": "stream",
     "text": [
      "{'loss': 0.03429821977844839, 'mloss': tensor(0.0632), 'val_loss': 0.04253766033912032, 'val_mloss_tot': tensor(0.0742)}\n"
     ]
    },
    {
     "data": {
      "application/vnd.jupyter.widget-view+json": {
       "model_id": "9a49bcb93c8d4e1c8faa2cda076281da",
       "version_major": 2,
       "version_minor": 0
      },
      "text/plain": [
       "HBox(children=(IntProgress(value=0, max=812), HTML(value='')))"
      ]
     },
     "metadata": {},
     "output_type": "display_data"
    },
    {
     "data": {
      "application/vnd.jupyter.widget-view+json": {
       "model_id": "59ff9440ef154cce91c805d01ce5297e",
       "version_major": 2,
       "version_minor": 0
      },
      "text/plain": [
       "HBox(children=(IntProgress(value=0, max=410), HTML(value='')))"
      ]
     },
     "metadata": {},
     "output_type": "display_data"
    },
    {
     "name": "stdout",
     "output_type": "stream",
     "text": [
      "{'loss': 0.03553914649557721, 'mloss': tensor(0.0625), 'val_loss': 0.04312436075812978, 'val_mloss_tot': tensor(0.0753)}\n"
     ]
    },
    {
     "data": {
      "application/vnd.jupyter.widget-view+json": {
       "model_id": "48b4512b0d4d4710b3406c45364fa7d9",
       "version_major": 2,
       "version_minor": 0
      },
      "text/plain": [
       "HBox(children=(IntProgress(value=0, max=812), HTML(value='')))"
      ]
     },
     "metadata": {},
     "output_type": "display_data"
    },
    {
     "data": {
      "application/vnd.jupyter.widget-view+json": {
       "model_id": "731642665dba468b913bef04f97aecbf",
       "version_major": 2,
       "version_minor": 0
      },
      "text/plain": [
       "HBox(children=(IntProgress(value=0, max=410), HTML(value='')))"
      ]
     },
     "metadata": {},
     "output_type": "display_data"
    },
    {
     "name": "stdout",
     "output_type": "stream",
     "text": [
      "{'loss': 0.03338398876652952, 'mloss': tensor(0.0544), 'val_loss': 0.04293780306740323, 'val_mloss_tot': tensor(0.0749)}\n"
     ]
    },
    {
     "data": {
      "application/vnd.jupyter.widget-view+json": {
       "model_id": "8273f056b6a34b7bbc23662490fe1eaf",
       "version_major": 2,
       "version_minor": 0
      },
      "text/plain": [
       "HBox(children=(IntProgress(value=0, max=812), HTML(value='')))"
      ]
     },
     "metadata": {},
     "output_type": "display_data"
    },
    {
     "data": {
      "application/vnd.jupyter.widget-view+json": {
       "model_id": "d91f30be0dbb4ee5ac330c3a623b016b",
       "version_major": 2,
       "version_minor": 0
      },
      "text/plain": [
       "HBox(children=(IntProgress(value=0, max=410), HTML(value='')))"
      ]
     },
     "metadata": {},
     "output_type": "display_data"
    },
    {
     "name": "stdout",
     "output_type": "stream",
     "text": [
      "{'loss': 0.033893801807394805, 'mloss': tensor(0.0597), 'val_loss': 0.042302889682397975, 'val_mloss_tot': tensor(0.0738)}\n"
     ]
    },
    {
     "data": {
      "application/vnd.jupyter.widget-view+json": {
       "model_id": "5a51de7c2c9a4d56b8e1a3935e9aa2d8",
       "version_major": 2,
       "version_minor": 0
      },
      "text/plain": [
       "HBox(children=(IntProgress(value=0, max=812), HTML(value='')))"
      ]
     },
     "metadata": {},
     "output_type": "display_data"
    },
    {
     "data": {
      "application/vnd.jupyter.widget-view+json": {
       "model_id": "963abb8f2f434842b92f09f859db8154",
       "version_major": 2,
       "version_minor": 0
      },
      "text/plain": [
       "HBox(children=(IntProgress(value=0, max=410), HTML(value='')))"
      ]
     },
     "metadata": {},
     "output_type": "display_data"
    },
    {
     "name": "stdout",
     "output_type": "stream",
     "text": [
      "{'loss': 0.03380017258293661, 'mloss': tensor(0.0599), 'val_loss': 0.04230497664453962, 'val_mloss_tot': tensor(0.0738)}\n"
     ]
    },
    {
     "data": {
      "application/vnd.jupyter.widget-view+json": {
       "model_id": "2fb9198db6bf49559ea25a009ce6a694",
       "version_major": 2,
       "version_minor": 0
      },
      "text/plain": [
       "HBox(children=(IntProgress(value=0, max=812), HTML(value='')))"
      ]
     },
     "metadata": {},
     "output_type": "display_data"
    },
    {
     "data": {
      "application/vnd.jupyter.widget-view+json": {
       "model_id": "abe0c26aa89c4e7aa26054c449f4a74b",
       "version_major": 2,
       "version_minor": 0
      },
      "text/plain": [
       "HBox(children=(IntProgress(value=0, max=410), HTML(value='')))"
      ]
     },
     "metadata": {},
     "output_type": "display_data"
    },
    {
     "name": "stdout",
     "output_type": "stream",
     "text": [
      "{'loss': 0.03353890177189612, 'mloss': tensor(0.0561), 'val_loss': 0.044276647394659314, 'val_mloss_tot': tensor(0.0773)}\n"
     ]
    },
    {
     "data": {
      "application/vnd.jupyter.widget-view+json": {
       "model_id": "860c2ef45b8b4f01861db88b4b8ebe36",
       "version_major": 2,
       "version_minor": 0
      },
      "text/plain": [
       "HBox(children=(IntProgress(value=0, max=812), HTML(value='')))"
      ]
     },
     "metadata": {},
     "output_type": "display_data"
    },
    {
     "data": {
      "application/vnd.jupyter.widget-view+json": {
       "model_id": "12709d441d9149e9b13e66707f3cb507",
       "version_major": 2,
       "version_minor": 0
      },
      "text/plain": [
       "HBox(children=(IntProgress(value=0, max=410), HTML(value='')))"
      ]
     },
     "metadata": {},
     "output_type": "display_data"
    },
    {
     "name": "stdout",
     "output_type": "stream",
     "text": [
      "{'loss': 0.03321063922953563, 'mloss': tensor(0.0553), 'val_loss': 0.04256088630546157, 'val_mloss_tot': tensor(0.0743)}\n"
     ]
    },
    {
     "data": {
      "application/vnd.jupyter.widget-view+json": {
       "model_id": "cfc096ec04c246199aaf6d808e12c547",
       "version_major": 2,
       "version_minor": 0
      },
      "text/plain": [
       "HBox(children=(IntProgress(value=0, max=812), HTML(value='')))"
      ]
     },
     "metadata": {},
     "output_type": "display_data"
    },
    {
     "data": {
      "application/vnd.jupyter.widget-view+json": {
       "model_id": "b90cd279919647e681ad7dd228553381",
       "version_major": 2,
       "version_minor": 0
      },
      "text/plain": [
       "HBox(children=(IntProgress(value=0, max=410), HTML(value='')))"
      ]
     },
     "metadata": {},
     "output_type": "display_data"
    },
    {
     "name": "stdout",
     "output_type": "stream",
     "text": [
      "{'loss': 0.033768575453433626, 'mloss': tensor(0.0545), 'val_loss': 0.042077437350980754, 'val_mloss_tot': tensor(0.0734)}\n"
     ]
    },
    {
     "data": {
      "application/vnd.jupyter.widget-view+json": {
       "model_id": "30c16cdce71646e69d469b6d1276c7d9",
       "version_major": 2,
       "version_minor": 0
      },
      "text/plain": [
       "HBox(children=(IntProgress(value=0, max=812), HTML(value='')))"
      ]
     },
     "metadata": {},
     "output_type": "display_data"
    },
    {
     "data": {
      "application/vnd.jupyter.widget-view+json": {
       "model_id": "b00920f876a64a5fbd21e853c339789f",
       "version_major": 2,
       "version_minor": 0
      },
      "text/plain": [
       "HBox(children=(IntProgress(value=0, max=410), HTML(value='')))"
      ]
     },
     "metadata": {},
     "output_type": "display_data"
    },
    {
     "name": "stdout",
     "output_type": "stream",
     "text": [
      "{'loss': 0.03368124768523619, 'mloss': tensor(0.0594), 'val_loss': 0.04211264846551164, 'val_mloss_tot': tensor(0.0735)}\n"
     ]
    },
    {
     "data": {
      "application/vnd.jupyter.widget-view+json": {
       "model_id": "0bd38c53271947858a5a56caacd6d3ff",
       "version_major": 2,
       "version_minor": 0
      },
      "text/plain": [
       "HBox(children=(IntProgress(value=0, max=812), HTML(value='')))"
      ]
     },
     "metadata": {},
     "output_type": "display_data"
    },
    {
     "data": {
      "application/vnd.jupyter.widget-view+json": {
       "model_id": "3dfe29e2b6b4483da5833aabe3d85f31",
       "version_major": 2,
       "version_minor": 0
      },
      "text/plain": [
       "HBox(children=(IntProgress(value=0, max=410), HTML(value='')))"
      ]
     },
     "metadata": {},
     "output_type": "display_data"
    },
    {
     "name": "stdout",
     "output_type": "stream",
     "text": [
      "{'loss': 0.03567064783609676, 'mloss': tensor(0.0626), 'val_loss': 0.042724035232804894, 'val_mloss_tot': tensor(0.0746)}\n"
     ]
    },
    {
     "data": {
      "application/vnd.jupyter.widget-view+json": {
       "model_id": "eb2f7203f6f7480fbac1a022122e8b44",
       "version_major": 2,
       "version_minor": 0
      },
      "text/plain": [
       "HBox(children=(IntProgress(value=0, max=812), HTML(value='')))"
      ]
     },
     "metadata": {},
     "output_type": "display_data"
    },
    {
     "data": {
      "application/vnd.jupyter.widget-view+json": {
       "model_id": "7e8ed21a494d472592f9417dc9152bca",
       "version_major": 2,
       "version_minor": 0
      },
      "text/plain": [
       "HBox(children=(IntProgress(value=0, max=410), HTML(value='')))"
      ]
     },
     "metadata": {},
     "output_type": "display_data"
    },
    {
     "name": "stdout",
     "output_type": "stream",
     "text": [
      "{'loss': 0.033155001264561425, 'mloss': tensor(0.0550), 'val_loss': 0.042187325439484016, 'val_mloss_tot': tensor(0.0736)}\n"
     ]
    },
    {
     "data": {
      "application/vnd.jupyter.widget-view+json": {
       "model_id": "f9c6b012ee824d34b8899f683fc959bb",
       "version_major": 2,
       "version_minor": 0
      },
      "text/plain": [
       "HBox(children=(IntProgress(value=0, max=812), HTML(value='')))"
      ]
     },
     "metadata": {},
     "output_type": "display_data"
    },
    {
     "data": {
      "application/vnd.jupyter.widget-view+json": {
       "model_id": "eb3e5fec36674048b6ea784a72e35c89",
       "version_major": 2,
       "version_minor": 0
      },
      "text/plain": [
       "HBox(children=(IntProgress(value=0, max=410), HTML(value='')))"
      ]
     },
     "metadata": {},
     "output_type": "display_data"
    },
    {
     "name": "stdout",
     "output_type": "stream",
     "text": [
      "{'loss': 0.032244878915403764, 'mloss': tensor(0.0559), 'val_loss': 0.04243998259260524, 'val_mloss_tot': tensor(0.0741)}\n"
     ]
    },
    {
     "data": {
      "application/vnd.jupyter.widget-view+json": {
       "model_id": "fb6bbcea48ca49638b52bd5118e1c25a",
       "version_major": 2,
       "version_minor": 0
      },
      "text/plain": [
       "HBox(children=(IntProgress(value=0, max=812), HTML(value='')))"
      ]
     },
     "metadata": {},
     "output_type": "display_data"
    },
    {
     "data": {
      "application/vnd.jupyter.widget-view+json": {
       "model_id": "35f98b527fd94c6b8f6bc024f9ae665e",
       "version_major": 2,
       "version_minor": 0
      },
      "text/plain": [
       "HBox(children=(IntProgress(value=0, max=410), HTML(value='')))"
      ]
     },
     "metadata": {},
     "output_type": "display_data"
    },
    {
     "name": "stdout",
     "output_type": "stream",
     "text": [
      "{'loss': 0.0311923550840585, 'mloss': tensor(0.0516), 'val_loss': 0.04222416143818963, 'val_mloss_tot': tensor(0.0737)}\n",
      "\n"
     ]
    },
    {
     "data": {
      "application/vnd.jupyter.widget-view+json": {
       "model_id": "2840703580aa4a138308ae155702ca9e",
       "version_major": 2,
       "version_minor": 0
      },
      "text/plain": [
       "HBox(children=(IntProgress(value=0, max=410), HTML(value='')))"
      ]
     },
     "metadata": {},
     "output_type": "display_data"
    },
    {
     "name": "stdout",
     "output_type": "stream",
     "text": [
      "\n",
      "(0.041985440994726446, {'val_loss': 0.041985440994726446, 'val_mloss_tot': tensor(0.0733)})\n"
     ]
    }
   ],
   "source": [
    "%matplotlib nbagg\n",
    "model_name,version, num_split = 'Densenet201_3' , 'classifier_splits',1\n",
    "pickle_file=open(outputs_dir+outputs_format.format(model_name,version,'features_train_tta',num_split),'rb')\n",
    "features=pickle.load(pickle_file)\n",
    "pickle_file.close()\n",
    "features.shape\n",
    "\n",
    "features=features.reshape(features.shape[0]//4,4,-1)\n",
    "features.shape\n",
    "split_train = train_df[train_df.PID.isin(set(split_sid[splits[num_split][0]]))].SeriesI.unique()\n",
    "split_validate =  train_df[train_df.PID.isin(set(split_sid[splits[num_split][1]]))].SeriesI.unique()\n",
    "\n",
    "np.random.seed(SEED+num_split)\n",
    "torch.manual_seed(SEED+num_split)\n",
    "torch.cuda.manual_seed(SEED+num_split)\n",
    "torch.backends.cudnn.deterministic = True\n",
    "batch_size=16\n",
    "num_workers=18\n",
    "num_epochs=16\n",
    "klr=1\n",
    "weights = torch.tensor([1.,1.,1.,1.,1.,2.],device=device)\n",
    "train_dataset=FullHeadDataset(train_df,\n",
    "                              split_train,\n",
    "                              features,\n",
    "                              'SeriesI',\n",
    "                              'ImagePositionZ',\n",
    "                              hemorrhage_types)                \n",
    "validate_dataset=FullHeadDataset(train_df,\n",
    "                                 split_validate,\n",
    "                                 features[:,0,:],\n",
    "                                 'SeriesI',\n",
    "                                 'ImagePositionZ',\n",
    "                                 hemorrhage_types)                \n",
    "\n",
    "model=ResModelIn(features.shape[-1])\n",
    "version=version+'_fullhead_resmodelin'\n",
    "_=model.to(device)\n",
    "\n",
    "loss_func=my_loss\n",
    "#fig,ax = plt.subplots(figsize=(10,7))\n",
    "#gr=loss_graph(fig,ax,num_epochs,len(train_dataset)//batch_size+1,limits=[0.02,0.06])\n",
    "num_train_optimization_steps = num_epochs*(len(train_dataset)//batch_size+int(len(train_dataset)%batch_size>0))\n",
    "sched=WarmupExpCosineWithWarmupRestartsSchedule( t_total=num_train_optimization_steps, cycles=num_epochs//4,tau=0)\n",
    "optimizer = BertAdam(model.parameters(),lr=klr*1e-3,schedule=sched)\n",
    "history,best_model= model_train(model,\n",
    "                                optimizer,\n",
    "                                train_dataset,\n",
    "                                batch_size,\n",
    "                                num_epochs,\n",
    "                                loss_func,\n",
    "                                weights=weights,\n",
    "                                do_apex=False,\n",
    "                                validate_dataset=validate_dataset,\n",
    "                                param_schedualer=None,\n",
    "                                weights_data=None,\n",
    "                                metric=Metric(torch.tensor([1.,1.,1.,1.,1.,2.])),\n",
    "                                return_model=True,\n",
    "                                best_average=3,\n",
    "                                num_workers=num_workers,\n",
    "                                sampler=None,\n",
    "                                graph=None)\n",
    "torch.save(best_model.state_dict(), models_dir+models_format.format(model_name,version,num_split))"
   ]
  },
  {
   "cell_type": "code",
   "execution_count": 30,
   "metadata": {
    "scrolled": true
   },
   "outputs": [
    {
     "data": {
      "text/plain": [
       "torch.Size([2697008, 240])"
      ]
     },
     "execution_count": 30,
     "metadata": {},
     "output_type": "execute_result"
    },
    {
     "data": {
      "text/plain": [
       "torch.Size([674252, 4, 240])"
      ]
     },
     "execution_count": 30,
     "metadata": {},
     "output_type": "execute_result"
    },
    {
     "data": {
      "text/plain": [
       "<torch._C.Generator at 0x7f597c49f770>"
      ]
     },
     "execution_count": 30,
     "metadata": {},
     "output_type": "execute_result"
    },
    {
     "data": {
      "application/vnd.jupyter.widget-view+json": {
       "model_id": "49f1266d96664e13828853aeb6c80bda",
       "version_major": 2,
       "version_minor": 0
      },
      "text/plain": [
       "HBox(children=(IntProgress(value=0, max=16), HTML(value='')))"
      ]
     },
     "metadata": {},
     "output_type": "display_data"
    },
    {
     "data": {
      "application/vnd.jupyter.widget-view+json": {
       "model_id": "3bc323b2c60940c3a6eca806a754614a",
       "version_major": 2,
       "version_minor": 0
      },
      "text/plain": [
       "HBox(children=(IntProgress(value=0, max=815), HTML(value='')))"
      ]
     },
     "metadata": {},
     "output_type": "display_data"
    },
    {
     "data": {
      "application/vnd.jupyter.widget-view+json": {
       "model_id": "e0332a2477764f7f8b4be60184f41e56",
       "version_major": 2,
       "version_minor": 0
      },
      "text/plain": [
       "HBox(children=(IntProgress(value=0, max=406), HTML(value='')))"
      ]
     },
     "metadata": {},
     "output_type": "display_data"
    },
    {
     "name": "stdout",
     "output_type": "stream",
     "text": [
      "{'loss': 0.03750202917414093, 'mloss': tensor(0.0667), 'val_loss': 0.042417800090656495, 'val_mloss_tot': tensor(0.0735)}\n"
     ]
    },
    {
     "data": {
      "application/vnd.jupyter.widget-view+json": {
       "model_id": "9ddf20fbdb4b4f4db44a3da7517df26d",
       "version_major": 2,
       "version_minor": 0
      },
      "text/plain": [
       "HBox(children=(IntProgress(value=0, max=815), HTML(value='')))"
      ]
     },
     "metadata": {},
     "output_type": "display_data"
    },
    {
     "data": {
      "application/vnd.jupyter.widget-view+json": {
       "model_id": "315326ab13d641298e96a700908398bb",
       "version_major": 2,
       "version_minor": 0
      },
      "text/plain": [
       "HBox(children=(IntProgress(value=0, max=406), HTML(value='')))"
      ]
     },
     "metadata": {},
     "output_type": "display_data"
    },
    {
     "name": "stdout",
     "output_type": "stream",
     "text": [
      "{'loss': 0.03675899816758786, 'mloss': tensor(0.0651), 'val_loss': 0.04181985430456148, 'val_mloss_tot': tensor(0.0725)}\n"
     ]
    },
    {
     "data": {
      "application/vnd.jupyter.widget-view+json": {
       "model_id": "53a22577bfef4f789f7050253269705b",
       "version_major": 2,
       "version_minor": 0
      },
      "text/plain": [
       "HBox(children=(IntProgress(value=0, max=815), HTML(value='')))"
      ]
     },
     "metadata": {},
     "output_type": "display_data"
    },
    {
     "data": {
      "application/vnd.jupyter.widget-view+json": {
       "model_id": "e91056da6a7741d99a742d8b091dc4f7",
       "version_major": 2,
       "version_minor": 0
      },
      "text/plain": [
       "HBox(children=(IntProgress(value=0, max=406), HTML(value='')))"
      ]
     },
     "metadata": {},
     "output_type": "display_data"
    },
    {
     "name": "stdout",
     "output_type": "stream",
     "text": [
      "{'loss': 0.033895101288791814, 'mloss': tensor(0.0579), 'val_loss': 0.04150738292993069, 'val_mloss_tot': tensor(0.0720)}\n"
     ]
    },
    {
     "data": {
      "application/vnd.jupyter.widget-view+json": {
       "model_id": "d77ed3252fb348e9b432a7c022a142b4",
       "version_major": 2,
       "version_minor": 0
      },
      "text/plain": [
       "HBox(children=(IntProgress(value=0, max=815), HTML(value='')))"
      ]
     },
     "metadata": {},
     "output_type": "display_data"
    },
    {
     "data": {
      "application/vnd.jupyter.widget-view+json": {
       "model_id": "fc53b1a13edf499294fa438683cd564c",
       "version_major": 2,
       "version_minor": 0
      },
      "text/plain": [
       "HBox(children=(IntProgress(value=0, max=406), HTML(value='')))"
      ]
     },
     "metadata": {},
     "output_type": "display_data"
    },
    {
     "name": "stdout",
     "output_type": "stream",
     "text": [
      "{'loss': 0.03387878537351306, 'mloss': tensor(0.0561), 'val_loss': 0.04135231425173654, 'val_mloss_tot': tensor(0.0717)}\n"
     ]
    },
    {
     "data": {
      "application/vnd.jupyter.widget-view+json": {
       "model_id": "4e82616a1b4f472f867a5349f7217ff9",
       "version_major": 2,
       "version_minor": 0
      },
      "text/plain": [
       "HBox(children=(IntProgress(value=0, max=815), HTML(value='')))"
      ]
     },
     "metadata": {},
     "output_type": "display_data"
    },
    {
     "data": {
      "application/vnd.jupyter.widget-view+json": {
       "model_id": "2a4b59b358ab4f8ca2c3a47f6ba48f6e",
       "version_major": 2,
       "version_minor": 0
      },
      "text/plain": [
       "HBox(children=(IntProgress(value=0, max=406), HTML(value='')))"
      ]
     },
     "metadata": {},
     "output_type": "display_data"
    },
    {
     "name": "stdout",
     "output_type": "stream",
     "text": [
      "{'loss': 0.03463798510512306, 'mloss': tensor(0.0572), 'val_loss': 0.042111083948892986, 'val_mloss_tot': tensor(0.0730)}\n"
     ]
    },
    {
     "data": {
      "application/vnd.jupyter.widget-view+json": {
       "model_id": "c709faef5b2542c0abd856c37b024663",
       "version_major": 2,
       "version_minor": 0
      },
      "text/plain": [
       "HBox(children=(IntProgress(value=0, max=815), HTML(value='')))"
      ]
     },
     "metadata": {},
     "output_type": "display_data"
    },
    {
     "data": {
      "application/vnd.jupyter.widget-view+json": {
       "model_id": "7d271c1a5fc94b99aa12a1a5a63927a6",
       "version_major": 2,
       "version_minor": 0
      },
      "text/plain": [
       "HBox(children=(IntProgress(value=0, max=406), HTML(value='')))"
      ]
     },
     "metadata": {},
     "output_type": "display_data"
    },
    {
     "name": "stdout",
     "output_type": "stream",
     "text": [
      "{'loss': 0.03502527276408124, 'mloss': tensor(0.0601), 'val_loss': 0.041856269732925104, 'val_mloss_tot': tensor(0.0726)}\n"
     ]
    },
    {
     "data": {
      "application/vnd.jupyter.widget-view+json": {
       "model_id": "3b1176ba50214251b9a5977ad38a9ebd",
       "version_major": 2,
       "version_minor": 0
      },
      "text/plain": [
       "HBox(children=(IntProgress(value=0, max=815), HTML(value='')))"
      ]
     },
     "metadata": {},
     "output_type": "display_data"
    },
    {
     "data": {
      "application/vnd.jupyter.widget-view+json": {
       "model_id": "ab764fc0d82c414494c484c8d8ef6242",
       "version_major": 2,
       "version_minor": 0
      },
      "text/plain": [
       "HBox(children=(IntProgress(value=0, max=406), HTML(value='')))"
      ]
     },
     "metadata": {},
     "output_type": "display_data"
    },
    {
     "name": "stdout",
     "output_type": "stream",
     "text": [
      "{'loss': 0.03334939728186067, 'mloss': tensor(0.0566), 'val_loss': 0.041405701556752245, 'val_mloss_tot': tensor(0.0718)}\n"
     ]
    },
    {
     "data": {
      "application/vnd.jupyter.widget-view+json": {
       "model_id": "d4a554e8b016492999d3669fdac14d2a",
       "version_major": 2,
       "version_minor": 0
      },
      "text/plain": [
       "HBox(children=(IntProgress(value=0, max=815), HTML(value='')))"
      ]
     },
     "metadata": {},
     "output_type": "display_data"
    },
    {
     "data": {
      "application/vnd.jupyter.widget-view+json": {
       "model_id": "bfbc8fb435a9415eb9b3d3a7c310017b",
       "version_major": 2,
       "version_minor": 0
      },
      "text/plain": [
       "HBox(children=(IntProgress(value=0, max=406), HTML(value='')))"
      ]
     },
     "metadata": {},
     "output_type": "display_data"
    },
    {
     "name": "stdout",
     "output_type": "stream",
     "text": [
      "{'loss': 0.03446678333583154, 'mloss': tensor(0.0611), 'val_loss': 0.0411008474637245, 'val_mloss_tot': tensor(0.0713)}\n"
     ]
    },
    {
     "data": {
      "application/vnd.jupyter.widget-view+json": {
       "model_id": "bdbe0e50122741a99219b645f9e56f08",
       "version_major": 2,
       "version_minor": 0
      },
      "text/plain": [
       "HBox(children=(IntProgress(value=0, max=815), HTML(value='')))"
      ]
     },
     "metadata": {},
     "output_type": "display_data"
    },
    {
     "data": {
      "application/vnd.jupyter.widget-view+json": {
       "model_id": "416b660166774d4685992733cc727ebf",
       "version_major": 2,
       "version_minor": 0
      },
      "text/plain": [
       "HBox(children=(IntProgress(value=0, max=406), HTML(value='')))"
      ]
     },
     "metadata": {},
     "output_type": "display_data"
    },
    {
     "name": "stdout",
     "output_type": "stream",
     "text": [
      "{'loss': 0.03446215759257943, 'mloss': tensor(0.0615), 'val_loss': 0.041479332504445326, 'val_mloss_tot': tensor(0.0719)}\n"
     ]
    },
    {
     "data": {
      "application/vnd.jupyter.widget-view+json": {
       "model_id": "67a40ee5917647d781f3a4e424ac48c5",
       "version_major": 2,
       "version_minor": 0
      },
      "text/plain": [
       "HBox(children=(IntProgress(value=0, max=815), HTML(value='')))"
      ]
     },
     "metadata": {},
     "output_type": "display_data"
    },
    {
     "data": {
      "application/vnd.jupyter.widget-view+json": {
       "model_id": "c0a41ff923d94f1b8ae03d788e2fb46d",
       "version_major": 2,
       "version_minor": 0
      },
      "text/plain": [
       "HBox(children=(IntProgress(value=0, max=406), HTML(value='')))"
      ]
     },
     "metadata": {},
     "output_type": "display_data"
    },
    {
     "name": "stdout",
     "output_type": "stream",
     "text": [
      "{'loss': 0.03339673546783279, 'mloss': tensor(0.0559), 'val_loss': 0.041708311622301715, 'val_mloss_tot': tensor(0.0723)}\n"
     ]
    },
    {
     "data": {
      "application/vnd.jupyter.widget-view+json": {
       "model_id": "5a97700266384b579640d780df0177e4",
       "version_major": 2,
       "version_minor": 0
      },
      "text/plain": [
       "HBox(children=(IntProgress(value=0, max=815), HTML(value='')))"
      ]
     },
     "metadata": {},
     "output_type": "display_data"
    },
    {
     "data": {
      "application/vnd.jupyter.widget-view+json": {
       "model_id": "74709a74a86a4351980bf5f63519a32d",
       "version_major": 2,
       "version_minor": 0
      },
      "text/plain": [
       "HBox(children=(IntProgress(value=0, max=406), HTML(value='')))"
      ]
     },
     "metadata": {},
     "output_type": "display_data"
    },
    {
     "name": "stdout",
     "output_type": "stream",
     "text": [
      "{'loss': 0.03450384137803052, 'mloss': tensor(0.0605), 'val_loss': 0.0411337310221193, 'val_mloss_tot': tensor(0.0713)}\n"
     ]
    },
    {
     "data": {
      "application/vnd.jupyter.widget-view+json": {
       "model_id": "63ea97f9aa3f4e1fa9abe5269e215441",
       "version_major": 2,
       "version_minor": 0
      },
      "text/plain": [
       "HBox(children=(IntProgress(value=0, max=815), HTML(value='')))"
      ]
     },
     "metadata": {},
     "output_type": "display_data"
    },
    {
     "data": {
      "application/vnd.jupyter.widget-view+json": {
       "model_id": "a728af1c56e94359ab04e6289c8dea08",
       "version_major": 2,
       "version_minor": 0
      },
      "text/plain": [
       "HBox(children=(IntProgress(value=0, max=406), HTML(value='')))"
      ]
     },
     "metadata": {},
     "output_type": "display_data"
    },
    {
     "name": "stdout",
     "output_type": "stream",
     "text": [
      "{'loss': 0.03337072220356077, 'mloss': tensor(0.0583), 'val_loss': 0.041190464828356074, 'val_mloss_tot': tensor(0.0714)}\n"
     ]
    },
    {
     "data": {
      "application/vnd.jupyter.widget-view+json": {
       "model_id": "b2863d9d75aa4e04b962c53478d42b71",
       "version_major": 2,
       "version_minor": 0
      },
      "text/plain": [
       "HBox(children=(IntProgress(value=0, max=815), HTML(value='')))"
      ]
     },
     "metadata": {},
     "output_type": "display_data"
    },
    {
     "data": {
      "application/vnd.jupyter.widget-view+json": {
       "model_id": "bd26d08efec742c88554f507d841f7ac",
       "version_major": 2,
       "version_minor": 0
      },
      "text/plain": [
       "HBox(children=(IntProgress(value=0, max=406), HTML(value='')))"
      ]
     },
     "metadata": {},
     "output_type": "display_data"
    },
    {
     "name": "stdout",
     "output_type": "stream",
     "text": [
      "{'loss': 0.03285504964241579, 'mloss': tensor(0.0550), 'val_loss': 0.042271458955591756, 'val_mloss_tot': tensor(0.0733)}\n"
     ]
    },
    {
     "data": {
      "application/vnd.jupyter.widget-view+json": {
       "model_id": "c6e6fa0c24594739a9d85775c770169e",
       "version_major": 2,
       "version_minor": 0
      },
      "text/plain": [
       "HBox(children=(IntProgress(value=0, max=815), HTML(value='')))"
      ]
     },
     "metadata": {},
     "output_type": "display_data"
    },
    {
     "data": {
      "application/vnd.jupyter.widget-view+json": {
       "model_id": "53b61cc330e54f7aa756791741f0a97f",
       "version_major": 2,
       "version_minor": 0
      },
      "text/plain": [
       "HBox(children=(IntProgress(value=0, max=406), HTML(value='')))"
      ]
     },
     "metadata": {},
     "output_type": "display_data"
    },
    {
     "name": "stdout",
     "output_type": "stream",
     "text": [
      "{'loss': 0.03428747967369515, 'mloss': tensor(0.0594), 'val_loss': 0.041508146721108134, 'val_mloss_tot': tensor(0.0720)}\n"
     ]
    },
    {
     "data": {
      "application/vnd.jupyter.widget-view+json": {
       "model_id": "11f6893900f2402cb6df33f1f72b577f",
       "version_major": 2,
       "version_minor": 0
      },
      "text/plain": [
       "HBox(children=(IntProgress(value=0, max=815), HTML(value='')))"
      ]
     },
     "metadata": {},
     "output_type": "display_data"
    },
    {
     "data": {
      "application/vnd.jupyter.widget-view+json": {
       "model_id": "c2abf6583c8a460d9e4bd21a14a86066",
       "version_major": 2,
       "version_minor": 0
      },
      "text/plain": [
       "HBox(children=(IntProgress(value=0, max=406), HTML(value='')))"
      ]
     },
     "metadata": {},
     "output_type": "display_data"
    },
    {
     "name": "stdout",
     "output_type": "stream",
     "text": [
      "{'loss': 0.034522563460436875, 'mloss': tensor(0.0598), 'val_loss': 0.04109694118602339, 'val_mloss_tot': tensor(0.0712)}\n"
     ]
    },
    {
     "data": {
      "application/vnd.jupyter.widget-view+json": {
       "model_id": "4393d147cd834722b6f9e18b2886eff3",
       "version_major": 2,
       "version_minor": 0
      },
      "text/plain": [
       "HBox(children=(IntProgress(value=0, max=815), HTML(value='')))"
      ]
     },
     "metadata": {},
     "output_type": "display_data"
    },
    {
     "data": {
      "application/vnd.jupyter.widget-view+json": {
       "model_id": "c0156e4e42c248d788969ff9645ce1c7",
       "version_major": 2,
       "version_minor": 0
      },
      "text/plain": [
       "HBox(children=(IntProgress(value=0, max=406), HTML(value='')))"
      ]
     },
     "metadata": {},
     "output_type": "display_data"
    },
    {
     "name": "stdout",
     "output_type": "stream",
     "text": [
      "{'loss': 0.033436960099065896, 'mloss': tensor(0.0584), 'val_loss': 0.04113032949602075, 'val_mloss_tot': tensor(0.0713)}\n",
      "\n"
     ]
    },
    {
     "data": {
      "application/vnd.jupyter.widget-view+json": {
       "model_id": "635f0260557f4180b8cbef0b0cf9649b",
       "version_major": 2,
       "version_minor": 0
      },
      "text/plain": [
       "HBox(children=(IntProgress(value=0, max=406), HTML(value='')))"
      ]
     },
     "metadata": {},
     "output_type": "display_data"
    },
    {
     "name": "stdout",
     "output_type": "stream",
     "text": [
      "\n",
      "0.04109694118602339\n"
     ]
    }
   ],
   "source": [
    "%matplotlib nbagg\n",
    "model_name,version, num_split = 'Densenet201_3' , 'classifier_splits',2\n",
    "pickle_file=open(outputs_dir+outputs_format.format(model_name,version,'features_train_tta',num_split),'rb')\n",
    "features=pickle.load(pickle_file)\n",
    "pickle_file.close()\n",
    "features.shape\n",
    "\n",
    "features=features.reshape(features.shape[0]//4,4,-1)\n",
    "features.shape\n",
    "split_train = train_df[train_df.PID.isin(set(split_sid[splits[num_split][0]]))].SeriesI.unique()\n",
    "split_validate =  train_df[train_df.PID.isin(set(split_sid[splits[num_split][1]]))].SeriesI.unique()\n",
    "\n",
    "np.random.seed(SEED+num_split)\n",
    "torch.manual_seed(SEED+num_split)\n",
    "torch.cuda.manual_seed(SEED+num_split)\n",
    "torch.backends.cudnn.deterministic = True\n",
    "batch_size=16\n",
    "num_workers=18\n",
    "num_epochs=16\n",
    "klr=1\n",
    "weights = torch.tensor([1.,1.,1.,1.,1.,2.],device=device)\n",
    "train_dataset=FullHeadDataset(train_df,\n",
    "                              split_train,\n",
    "                              features,\n",
    "                              'SeriesI',\n",
    "                              'ImagePositionZ',\n",
    "                              hemorrhage_types)                \n",
    "validate_dataset=FullHeadDataset(train_df,\n",
    "                                 split_validate,\n",
    "                                 features[:,0,:],\n",
    "                                 'SeriesI',\n",
    "                                 'ImagePositionZ',\n",
    "                                 hemorrhage_types)                \n",
    "\n",
    "model=ResModelIn(features.shape[-1])\n",
    "version=version+'_fullhead_resmodelin'\n",
    "_=model.to(device)\n",
    "\n",
    "loss_func=my_loss\n",
    "#fig,ax = plt.subplots(figsize=(10,7))\n",
    "#gr=loss_graph(fig,ax,num_epochs,len(train_dataset)//batch_size+1,limits=[0.02,0.06])\n",
    "num_train_optimization_steps = num_epochs*(len(train_dataset)//batch_size+int(len(train_dataset)%batch_size>0))\n",
    "sched=WarmupExpCosineWithWarmupRestartsSchedule( t_total=num_train_optimization_steps, cycles=num_epochs//4,tau=0)\n",
    "optimizer = BertAdam(model.parameters(),lr=klr*1e-3,schedule=sched)\n",
    "history,best_model= model_train(model,\n",
    "                                optimizer,\n",
    "                                train_dataset,\n",
    "                                batch_size,\n",
    "                                num_epochs,\n",
    "                                loss_func,\n",
    "                                weights=weights,\n",
    "                                do_apex=False,\n",
    "                                validate_dataset=validate_dataset,\n",
    "                                param_schedualer=None,\n",
    "                                weights_data=None,\n",
    "                                metric=Metric(torch.tensor([1.,1.,1.,1.,1.,2.])),\n",
    "                                return_model=True,\n",
    "                                best_average=3,\n",
    "                                num_workers=num_workers,\n",
    "                                sampler=None,\n",
    "                                graph=None)\n",
    "torch.save(best_model.state_dict(), models_dir+models_format.format(model_name,version,num_split))"
   ]
  },
  {
   "cell_type": "code",
   "execution_count": 26,
   "metadata": {},
   "outputs": [
    {
     "data": {
      "application/vnd.jupyter.widget-view+json": {
       "model_id": "f8aea6abd5ee4400bc8f5e35ebf42b3a",
       "version_major": 2,
       "version_minor": 0
      },
      "text/plain": [
       "HBox(children=(IntProgress(value=0, max=3), HTML(value='')))"
      ]
     },
     "metadata": {},
     "output_type": "display_data"
    },
    {
     "data": {
      "text/plain": [
       "<All keys matched successfully>"
      ]
     },
     "execution_count": 26,
     "metadata": {},
     "output_type": "execute_result"
    },
    {
     "data": {
      "application/vnd.jupyter.widget-view+json": {
       "model_id": "",
       "version_major": 2,
       "version_minor": 0
      },
      "text/plain": [
       "HBox(children=(IntProgress(value=0, max=32), HTML(value='')))"
      ]
     },
     "metadata": {},
     "output_type": "display_data"
    },
    {
     "data": {
      "application/vnd.jupyter.widget-view+json": {
       "model_id": "714965c015ef47faa579e7392a83abb9",
       "version_major": 2,
       "version_minor": 0
      },
      "text/plain": [
       "HBox(children=(IntProgress(value=0, max=18), HTML(value='')))"
      ]
     },
     "metadata": {},
     "output_type": "display_data"
    },
    {
     "data": {
      "application/vnd.jupyter.widget-view+json": {
       "model_id": "4611b236ae194d66a911905d1a81dd96",
       "version_major": 2,
       "version_minor": 0
      },
      "text/plain": [
       "HBox(children=(IntProgress(value=0, max=18), HTML(value='')))"
      ]
     },
     "metadata": {},
     "output_type": "display_data"
    },
    {
     "data": {
      "application/vnd.jupyter.widget-view+json": {
       "model_id": "88deed062154446295c66272018f2272",
       "version_major": 2,
       "version_minor": 0
      },
      "text/plain": [
       "HBox(children=(IntProgress(value=0, max=18), HTML(value='')))"
      ]
     },
     "metadata": {},
     "output_type": "display_data"
    },
    {
     "data": {
      "application/vnd.jupyter.widget-view+json": {
       "model_id": "150552985d384d08a24af1d162afe78f",
       "version_major": 2,
       "version_minor": 0
      },
      "text/plain": [
       "HBox(children=(IntProgress(value=0, max=18), HTML(value='')))"
      ]
     },
     "metadata": {},
     "output_type": "display_data"
    },
    {
     "data": {
      "application/vnd.jupyter.widget-view+json": {
       "model_id": "6489509aa9714fa78dcbdad826d8a8aa",
       "version_major": 2,
       "version_minor": 0
      },
      "text/plain": [
       "HBox(children=(IntProgress(value=0, max=18), HTML(value='')))"
      ]
     },
     "metadata": {},
     "output_type": "display_data"
    },
    {
     "data": {
      "application/vnd.jupyter.widget-view+json": {
       "model_id": "c1b0d553706f455bb27726f8209a223c",
       "version_major": 2,
       "version_minor": 0
      },
      "text/plain": [
       "HBox(children=(IntProgress(value=0, max=18), HTML(value='')))"
      ]
     },
     "metadata": {},
     "output_type": "display_data"
    },
    {
     "data": {
      "application/vnd.jupyter.widget-view+json": {
       "model_id": "9ceee89d6fdd44f8b76830ba582fa78a",
       "version_major": 2,
       "version_minor": 0
      },
      "text/plain": [
       "HBox(children=(IntProgress(value=0, max=18), HTML(value='')))"
      ]
     },
     "metadata": {},
     "output_type": "display_data"
    },
    {
     "data": {
      "application/vnd.jupyter.widget-view+json": {
       "model_id": "e044c123aae34953bcb2ab7d3c98642a",
       "version_major": 2,
       "version_minor": 0
      },
      "text/plain": [
       "HBox(children=(IntProgress(value=0, max=18), HTML(value='')))"
      ]
     },
     "metadata": {},
     "output_type": "display_data"
    },
    {
     "data": {
      "application/vnd.jupyter.widget-view+json": {
       "model_id": "4ff2b54b8ab14d2e98b5098771b527a6",
       "version_major": 2,
       "version_minor": 0
      },
      "text/plain": [
       "HBox(children=(IntProgress(value=0, max=18), HTML(value='')))"
      ]
     },
     "metadata": {},
     "output_type": "display_data"
    },
    {
     "data": {
      "application/vnd.jupyter.widget-view+json": {
       "model_id": "fb2a28ec1fcb47ce9acd315bb17479db",
       "version_major": 2,
       "version_minor": 0
      },
      "text/plain": [
       "HBox(children=(IntProgress(value=0, max=18), HTML(value='')))"
      ]
     },
     "metadata": {},
     "output_type": "display_data"
    },
    {
     "data": {
      "application/vnd.jupyter.widget-view+json": {
       "model_id": "375fd93d437a4c05ae6bee89521d3203",
       "version_major": 2,
       "version_minor": 0
      },
      "text/plain": [
       "HBox(children=(IntProgress(value=0, max=18), HTML(value='')))"
      ]
     },
     "metadata": {},
     "output_type": "display_data"
    },
    {
     "data": {
      "application/vnd.jupyter.widget-view+json": {
       "model_id": "def07b0af2324a68b439a8cc8189f3e7",
       "version_major": 2,
       "version_minor": 0
      },
      "text/plain": [
       "HBox(children=(IntProgress(value=0, max=18), HTML(value='')))"
      ]
     },
     "metadata": {},
     "output_type": "display_data"
    },
    {
     "data": {
      "application/vnd.jupyter.widget-view+json": {
       "model_id": "d4ad58ccc3234394bb187719c443cfe1",
       "version_major": 2,
       "version_minor": 0
      },
      "text/plain": [
       "HBox(children=(IntProgress(value=0, max=18), HTML(value='')))"
      ]
     },
     "metadata": {},
     "output_type": "display_data"
    },
    {
     "data": {
      "application/vnd.jupyter.widget-view+json": {
       "model_id": "7b698c1a37624064bea45d9dffbf972e",
       "version_major": 2,
       "version_minor": 0
      },
      "text/plain": [
       "HBox(children=(IntProgress(value=0, max=18), HTML(value='')))"
      ]
     },
     "metadata": {},
     "output_type": "display_data"
    },
    {
     "data": {
      "application/vnd.jupyter.widget-view+json": {
       "model_id": "ecdbab4cbe76471b80b095ef3c2591ad",
       "version_major": 2,
       "version_minor": 0
      },
      "text/plain": [
       "HBox(children=(IntProgress(value=0, max=18), HTML(value='')))"
      ]
     },
     "metadata": {},
     "output_type": "display_data"
    },
    {
     "data": {
      "application/vnd.jupyter.widget-view+json": {
       "model_id": "f208da31a3f14fb5be0dc7151f33e9b2",
       "version_major": 2,
       "version_minor": 0
      },
      "text/plain": [
       "HBox(children=(IntProgress(value=0, max=18), HTML(value='')))"
      ]
     },
     "metadata": {},
     "output_type": "display_data"
    },
    {
     "data": {
      "application/vnd.jupyter.widget-view+json": {
       "model_id": "181ecd0e30624ef692efd9c3b5fd49e8",
       "version_major": 2,
       "version_minor": 0
      },
      "text/plain": [
       "HBox(children=(IntProgress(value=0, max=18), HTML(value='')))"
      ]
     },
     "metadata": {},
     "output_type": "display_data"
    },
    {
     "data": {
      "application/vnd.jupyter.widget-view+json": {
       "model_id": "050cb1b969da45ec858ebdf366999cd0",
       "version_major": 2,
       "version_minor": 0
      },
      "text/plain": [
       "HBox(children=(IntProgress(value=0, max=18), HTML(value='')))"
      ]
     },
     "metadata": {},
     "output_type": "display_data"
    },
    {
     "data": {
      "application/vnd.jupyter.widget-view+json": {
       "model_id": "568f7f0822414996ad793ff5ab034c05",
       "version_major": 2,
       "version_minor": 0
      },
      "text/plain": [
       "HBox(children=(IntProgress(value=0, max=18), HTML(value='')))"
      ]
     },
     "metadata": {},
     "output_type": "display_data"
    },
    {
     "data": {
      "application/vnd.jupyter.widget-view+json": {
       "model_id": "7a03203ce2ba4694bdc63f40e9ed7603",
       "version_major": 2,
       "version_minor": 0
      },
      "text/plain": [
       "HBox(children=(IntProgress(value=0, max=18), HTML(value='')))"
      ]
     },
     "metadata": {},
     "output_type": "display_data"
    },
    {
     "data": {
      "application/vnd.jupyter.widget-view+json": {
       "model_id": "8be177592701496b9612b71cd75db6a6",
       "version_major": 2,
       "version_minor": 0
      },
      "text/plain": [
       "HBox(children=(IntProgress(value=0, max=18), HTML(value='')))"
      ]
     },
     "metadata": {},
     "output_type": "display_data"
    },
    {
     "data": {
      "application/vnd.jupyter.widget-view+json": {
       "model_id": "514bd7f1596b43978fd27ca20fce283a",
       "version_major": 2,
       "version_minor": 0
      },
      "text/plain": [
       "HBox(children=(IntProgress(value=0, max=18), HTML(value='')))"
      ]
     },
     "metadata": {},
     "output_type": "display_data"
    },
    {
     "data": {
      "application/vnd.jupyter.widget-view+json": {
       "model_id": "d4f170f494be489c8d78f7df4558067c",
       "version_major": 2,
       "version_minor": 0
      },
      "text/plain": [
       "HBox(children=(IntProgress(value=0, max=18), HTML(value='')))"
      ]
     },
     "metadata": {},
     "output_type": "display_data"
    },
    {
     "data": {
      "application/vnd.jupyter.widget-view+json": {
       "model_id": "cfd439dc425a448a877e1da62f020eab",
       "version_major": 2,
       "version_minor": 0
      },
      "text/plain": [
       "HBox(children=(IntProgress(value=0, max=18), HTML(value='')))"
      ]
     },
     "metadata": {},
     "output_type": "display_data"
    },
    {
     "data": {
      "application/vnd.jupyter.widget-view+json": {
       "model_id": "f39614124e0d4d65a3960d348732abbb",
       "version_major": 2,
       "version_minor": 0
      },
      "text/plain": [
       "HBox(children=(IntProgress(value=0, max=18), HTML(value='')))"
      ]
     },
     "metadata": {},
     "output_type": "display_data"
    },
    {
     "data": {
      "application/vnd.jupyter.widget-view+json": {
       "model_id": "b27ed43c1e1e4b3b9050f74172280809",
       "version_major": 2,
       "version_minor": 0
      },
      "text/plain": [
       "HBox(children=(IntProgress(value=0, max=18), HTML(value='')))"
      ]
     },
     "metadata": {},
     "output_type": "display_data"
    },
    {
     "data": {
      "application/vnd.jupyter.widget-view+json": {
       "model_id": "0871ac7c861c4967bd90b621a4cb31de",
       "version_major": 2,
       "version_minor": 0
      },
      "text/plain": [
       "HBox(children=(IntProgress(value=0, max=18), HTML(value='')))"
      ]
     },
     "metadata": {},
     "output_type": "display_data"
    },
    {
     "data": {
      "application/vnd.jupyter.widget-view+json": {
       "model_id": "54130842612a4d938362c6074b2ac157",
       "version_major": 2,
       "version_minor": 0
      },
      "text/plain": [
       "HBox(children=(IntProgress(value=0, max=18), HTML(value='')))"
      ]
     },
     "metadata": {},
     "output_type": "display_data"
    },
    {
     "data": {
      "application/vnd.jupyter.widget-view+json": {
       "model_id": "27e85013121d4631bc72050ee5993ea9",
       "version_major": 2,
       "version_minor": 0
      },
      "text/plain": [
       "HBox(children=(IntProgress(value=0, max=18), HTML(value='')))"
      ]
     },
     "metadata": {},
     "output_type": "display_data"
    },
    {
     "data": {
      "application/vnd.jupyter.widget-view+json": {
       "model_id": "85158a1a202a4876b96985c7fa3e4769",
       "version_major": 2,
       "version_minor": 0
      },
      "text/plain": [
       "HBox(children=(IntProgress(value=0, max=18), HTML(value='')))"
      ]
     },
     "metadata": {},
     "output_type": "display_data"
    },
    {
     "data": {
      "application/vnd.jupyter.widget-view+json": {
       "model_id": "0883c577617044a094b281471f9c9a8e",
       "version_major": 2,
       "version_minor": 0
      },
      "text/plain": [
       "HBox(children=(IntProgress(value=0, max=18), HTML(value='')))"
      ]
     },
     "metadata": {},
     "output_type": "display_data"
    },
    {
     "data": {
      "application/vnd.jupyter.widget-view+json": {
       "model_id": "f2c49905c0ec42718a76a741413eed20",
       "version_major": 2,
       "version_minor": 0
      },
      "text/plain": [
       "HBox(children=(IntProgress(value=0, max=18), HTML(value='')))"
      ]
     },
     "metadata": {},
     "output_type": "display_data"
    },
    {
     "data": {
      "text/plain": [
       "<All keys matched successfully>"
      ]
     },
     "execution_count": 26,
     "metadata": {},
     "output_type": "execute_result"
    },
    {
     "data": {
      "application/vnd.jupyter.widget-view+json": {
       "model_id": "",
       "version_major": 2,
       "version_minor": 0
      },
      "text/plain": [
       "HBox(children=(IntProgress(value=0, max=32), HTML(value='')))"
      ]
     },
     "metadata": {},
     "output_type": "display_data"
    },
    {
     "data": {
      "application/vnd.jupyter.widget-view+json": {
       "model_id": "43e875c2283345a0802ab6a302d789ca",
       "version_major": 2,
       "version_minor": 0
      },
      "text/plain": [
       "HBox(children=(IntProgress(value=0, max=18), HTML(value='')))"
      ]
     },
     "metadata": {},
     "output_type": "display_data"
    },
    {
     "data": {
      "application/vnd.jupyter.widget-view+json": {
       "model_id": "fda7926a4e57424caf752638ac3e3c6d",
       "version_major": 2,
       "version_minor": 0
      },
      "text/plain": [
       "HBox(children=(IntProgress(value=0, max=18), HTML(value='')))"
      ]
     },
     "metadata": {},
     "output_type": "display_data"
    },
    {
     "data": {
      "application/vnd.jupyter.widget-view+json": {
       "model_id": "f017a1b38a254ddd8ce86aeae410602d",
       "version_major": 2,
       "version_minor": 0
      },
      "text/plain": [
       "HBox(children=(IntProgress(value=0, max=18), HTML(value='')))"
      ]
     },
     "metadata": {},
     "output_type": "display_data"
    },
    {
     "data": {
      "application/vnd.jupyter.widget-view+json": {
       "model_id": "4717a42e7b584d37a5748664cf92e5a3",
       "version_major": 2,
       "version_minor": 0
      },
      "text/plain": [
       "HBox(children=(IntProgress(value=0, max=18), HTML(value='')))"
      ]
     },
     "metadata": {},
     "output_type": "display_data"
    },
    {
     "data": {
      "application/vnd.jupyter.widget-view+json": {
       "model_id": "31738a42b06743f484667e241892c471",
       "version_major": 2,
       "version_minor": 0
      },
      "text/plain": [
       "HBox(children=(IntProgress(value=0, max=18), HTML(value='')))"
      ]
     },
     "metadata": {},
     "output_type": "display_data"
    },
    {
     "data": {
      "application/vnd.jupyter.widget-view+json": {
       "model_id": "e070eb1ec255458e960cb5480e230a37",
       "version_major": 2,
       "version_minor": 0
      },
      "text/plain": [
       "HBox(children=(IntProgress(value=0, max=18), HTML(value='')))"
      ]
     },
     "metadata": {},
     "output_type": "display_data"
    },
    {
     "data": {
      "application/vnd.jupyter.widget-view+json": {
       "model_id": "79fdadf5674d4f3c9735df71c34eaeae",
       "version_major": 2,
       "version_minor": 0
      },
      "text/plain": [
       "HBox(children=(IntProgress(value=0, max=18), HTML(value='')))"
      ]
     },
     "metadata": {},
     "output_type": "display_data"
    },
    {
     "data": {
      "application/vnd.jupyter.widget-view+json": {
       "model_id": "d3193286f1ff4c4ca0609b2be77247c1",
       "version_major": 2,
       "version_minor": 0
      },
      "text/plain": [
       "HBox(children=(IntProgress(value=0, max=18), HTML(value='')))"
      ]
     },
     "metadata": {},
     "output_type": "display_data"
    },
    {
     "data": {
      "application/vnd.jupyter.widget-view+json": {
       "model_id": "dbd87d36cbf0441dbfa22ac441897189",
       "version_major": 2,
       "version_minor": 0
      },
      "text/plain": [
       "HBox(children=(IntProgress(value=0, max=18), HTML(value='')))"
      ]
     },
     "metadata": {},
     "output_type": "display_data"
    },
    {
     "data": {
      "application/vnd.jupyter.widget-view+json": {
       "model_id": "2f59167cf2f74708baba19a98deadde6",
       "version_major": 2,
       "version_minor": 0
      },
      "text/plain": [
       "HBox(children=(IntProgress(value=0, max=18), HTML(value='')))"
      ]
     },
     "metadata": {},
     "output_type": "display_data"
    },
    {
     "data": {
      "application/vnd.jupyter.widget-view+json": {
       "model_id": "8b23c71a7a844c0eb4442f611aaf6bf2",
       "version_major": 2,
       "version_minor": 0
      },
      "text/plain": [
       "HBox(children=(IntProgress(value=0, max=18), HTML(value='')))"
      ]
     },
     "metadata": {},
     "output_type": "display_data"
    },
    {
     "data": {
      "application/vnd.jupyter.widget-view+json": {
       "model_id": "ab0c19d01992474dbef62eb8d56cbf96",
       "version_major": 2,
       "version_minor": 0
      },
      "text/plain": [
       "HBox(children=(IntProgress(value=0, max=18), HTML(value='')))"
      ]
     },
     "metadata": {},
     "output_type": "display_data"
    },
    {
     "data": {
      "application/vnd.jupyter.widget-view+json": {
       "model_id": "2ea68a9337af4f4ea2921685b01b7850",
       "version_major": 2,
       "version_minor": 0
      },
      "text/plain": [
       "HBox(children=(IntProgress(value=0, max=18), HTML(value='')))"
      ]
     },
     "metadata": {},
     "output_type": "display_data"
    },
    {
     "data": {
      "application/vnd.jupyter.widget-view+json": {
       "model_id": "22031bab2f404f8c85ccc320c386a047",
       "version_major": 2,
       "version_minor": 0
      },
      "text/plain": [
       "HBox(children=(IntProgress(value=0, max=18), HTML(value='')))"
      ]
     },
     "metadata": {},
     "output_type": "display_data"
    },
    {
     "data": {
      "application/vnd.jupyter.widget-view+json": {
       "model_id": "46f769e78a814e56a3991c091cf8528c",
       "version_major": 2,
       "version_minor": 0
      },
      "text/plain": [
       "HBox(children=(IntProgress(value=0, max=18), HTML(value='')))"
      ]
     },
     "metadata": {},
     "output_type": "display_data"
    },
    {
     "data": {
      "application/vnd.jupyter.widget-view+json": {
       "model_id": "78fec46a74154c2ba81775e943bfb807",
       "version_major": 2,
       "version_minor": 0
      },
      "text/plain": [
       "HBox(children=(IntProgress(value=0, max=18), HTML(value='')))"
      ]
     },
     "metadata": {},
     "output_type": "display_data"
    },
    {
     "data": {
      "application/vnd.jupyter.widget-view+json": {
       "model_id": "a71d5a0d837d44e7aaef1100c3cbeb11",
       "version_major": 2,
       "version_minor": 0
      },
      "text/plain": [
       "HBox(children=(IntProgress(value=0, max=18), HTML(value='')))"
      ]
     },
     "metadata": {},
     "output_type": "display_data"
    },
    {
     "data": {
      "application/vnd.jupyter.widget-view+json": {
       "model_id": "dbd255332d6a4d70bf000412744c263f",
       "version_major": 2,
       "version_minor": 0
      },
      "text/plain": [
       "HBox(children=(IntProgress(value=0, max=18), HTML(value='')))"
      ]
     },
     "metadata": {},
     "output_type": "display_data"
    },
    {
     "data": {
      "application/vnd.jupyter.widget-view+json": {
       "model_id": "5e127ecc85914aa1908900249a154d9d",
       "version_major": 2,
       "version_minor": 0
      },
      "text/plain": [
       "HBox(children=(IntProgress(value=0, max=18), HTML(value='')))"
      ]
     },
     "metadata": {},
     "output_type": "display_data"
    },
    {
     "data": {
      "application/vnd.jupyter.widget-view+json": {
       "model_id": "2f81d774bef04d1ca1b7676e5d26c7f6",
       "version_major": 2,
       "version_minor": 0
      },
      "text/plain": [
       "HBox(children=(IntProgress(value=0, max=18), HTML(value='')))"
      ]
     },
     "metadata": {},
     "output_type": "display_data"
    },
    {
     "data": {
      "application/vnd.jupyter.widget-view+json": {
       "model_id": "d9c2d9a37c6445eea87bade746ce7bba",
       "version_major": 2,
       "version_minor": 0
      },
      "text/plain": [
       "HBox(children=(IntProgress(value=0, max=18), HTML(value='')))"
      ]
     },
     "metadata": {},
     "output_type": "display_data"
    },
    {
     "data": {
      "application/vnd.jupyter.widget-view+json": {
       "model_id": "a3b8f7d8122e4649ab03eeace42ff60b",
       "version_major": 2,
       "version_minor": 0
      },
      "text/plain": [
       "HBox(children=(IntProgress(value=0, max=18), HTML(value='')))"
      ]
     },
     "metadata": {},
     "output_type": "display_data"
    },
    {
     "data": {
      "application/vnd.jupyter.widget-view+json": {
       "model_id": "6b324817bea34193b8ed1f55042daea5",
       "version_major": 2,
       "version_minor": 0
      },
      "text/plain": [
       "HBox(children=(IntProgress(value=0, max=18), HTML(value='')))"
      ]
     },
     "metadata": {},
     "output_type": "display_data"
    },
    {
     "data": {
      "application/vnd.jupyter.widget-view+json": {
       "model_id": "326410e190c844be9e2fc6b2485f287a",
       "version_major": 2,
       "version_minor": 0
      },
      "text/plain": [
       "HBox(children=(IntProgress(value=0, max=18), HTML(value='')))"
      ]
     },
     "metadata": {},
     "output_type": "display_data"
    },
    {
     "data": {
      "application/vnd.jupyter.widget-view+json": {
       "model_id": "f65cdfe54ccb42f4a779777f3bbcb38b",
       "version_major": 2,
       "version_minor": 0
      },
      "text/plain": [
       "HBox(children=(IntProgress(value=0, max=18), HTML(value='')))"
      ]
     },
     "metadata": {},
     "output_type": "display_data"
    },
    {
     "data": {
      "application/vnd.jupyter.widget-view+json": {
       "model_id": "44535ea8359a4483a34b8dea04e22f81",
       "version_major": 2,
       "version_minor": 0
      },
      "text/plain": [
       "HBox(children=(IntProgress(value=0, max=18), HTML(value='')))"
      ]
     },
     "metadata": {},
     "output_type": "display_data"
    },
    {
     "data": {
      "application/vnd.jupyter.widget-view+json": {
       "model_id": "9220449a1d4846f099340a5537e70eba",
       "version_major": 2,
       "version_minor": 0
      },
      "text/plain": [
       "HBox(children=(IntProgress(value=0, max=18), HTML(value='')))"
      ]
     },
     "metadata": {},
     "output_type": "display_data"
    },
    {
     "data": {
      "application/vnd.jupyter.widget-view+json": {
       "model_id": "dd0344fcdca6456a924f829ebb2a6cc5",
       "version_major": 2,
       "version_minor": 0
      },
      "text/plain": [
       "HBox(children=(IntProgress(value=0, max=18), HTML(value='')))"
      ]
     },
     "metadata": {},
     "output_type": "display_data"
    },
    {
     "data": {
      "application/vnd.jupyter.widget-view+json": {
       "model_id": "7a11b9efa35f4bde89feb3f6c9efae11",
       "version_major": 2,
       "version_minor": 0
      },
      "text/plain": [
       "HBox(children=(IntProgress(value=0, max=18), HTML(value='')))"
      ]
     },
     "metadata": {},
     "output_type": "display_data"
    },
    {
     "data": {
      "application/vnd.jupyter.widget-view+json": {
       "model_id": "a16e533226e4410b9fad289b87dd18fd",
       "version_major": 2,
       "version_minor": 0
      },
      "text/plain": [
       "HBox(children=(IntProgress(value=0, max=18), HTML(value='')))"
      ]
     },
     "metadata": {},
     "output_type": "display_data"
    },
    {
     "data": {
      "application/vnd.jupyter.widget-view+json": {
       "model_id": "014b5d0cd16748af86951c27ef21ecdb",
       "version_major": 2,
       "version_minor": 0
      },
      "text/plain": [
       "HBox(children=(IntProgress(value=0, max=18), HTML(value='')))"
      ]
     },
     "metadata": {},
     "output_type": "display_data"
    },
    {
     "data": {
      "application/vnd.jupyter.widget-view+json": {
       "model_id": "5de57088d7244801a6218a66d7ca6162",
       "version_major": 2,
       "version_minor": 0
      },
      "text/plain": [
       "HBox(children=(IntProgress(value=0, max=18), HTML(value='')))"
      ]
     },
     "metadata": {},
     "output_type": "display_data"
    },
    {
     "data": {
      "text/plain": [
       "<All keys matched successfully>"
      ]
     },
     "execution_count": 26,
     "metadata": {},
     "output_type": "execute_result"
    },
    {
     "data": {
      "application/vnd.jupyter.widget-view+json": {
       "model_id": "",
       "version_major": 2,
       "version_minor": 0
      },
      "text/plain": [
       "HBox(children=(IntProgress(value=0, max=32), HTML(value='')))"
      ]
     },
     "metadata": {},
     "output_type": "display_data"
    },
    {
     "data": {
      "application/vnd.jupyter.widget-view+json": {
       "model_id": "d3995fe0bfe647458371e872fd327f00",
       "version_major": 2,
       "version_minor": 0
      },
      "text/plain": [
       "HBox(children=(IntProgress(value=0, max=18), HTML(value='')))"
      ]
     },
     "metadata": {},
     "output_type": "display_data"
    },
    {
     "data": {
      "application/vnd.jupyter.widget-view+json": {
       "model_id": "030d1a0ad7c649ed9e71db3b9d17185a",
       "version_major": 2,
       "version_minor": 0
      },
      "text/plain": [
       "HBox(children=(IntProgress(value=0, max=18), HTML(value='')))"
      ]
     },
     "metadata": {},
     "output_type": "display_data"
    },
    {
     "data": {
      "application/vnd.jupyter.widget-view+json": {
       "model_id": "4abd07d60cee458786eb8d724bac3a61",
       "version_major": 2,
       "version_minor": 0
      },
      "text/plain": [
       "HBox(children=(IntProgress(value=0, max=18), HTML(value='')))"
      ]
     },
     "metadata": {},
     "output_type": "display_data"
    },
    {
     "data": {
      "application/vnd.jupyter.widget-view+json": {
       "model_id": "8445ce1933eb4ac5b5fcae5e4c6e45c9",
       "version_major": 2,
       "version_minor": 0
      },
      "text/plain": [
       "HBox(children=(IntProgress(value=0, max=18), HTML(value='')))"
      ]
     },
     "metadata": {},
     "output_type": "display_data"
    },
    {
     "data": {
      "application/vnd.jupyter.widget-view+json": {
       "model_id": "a55bf3742c084a35bdc55bb872df14d9",
       "version_major": 2,
       "version_minor": 0
      },
      "text/plain": [
       "HBox(children=(IntProgress(value=0, max=18), HTML(value='')))"
      ]
     },
     "metadata": {},
     "output_type": "display_data"
    },
    {
     "data": {
      "application/vnd.jupyter.widget-view+json": {
       "model_id": "19be99ed230c48f6a578366f53ea905e",
       "version_major": 2,
       "version_minor": 0
      },
      "text/plain": [
       "HBox(children=(IntProgress(value=0, max=18), HTML(value='')))"
      ]
     },
     "metadata": {},
     "output_type": "display_data"
    },
    {
     "data": {
      "application/vnd.jupyter.widget-view+json": {
       "model_id": "0c2249ccc1b14442891164bed1e64dd9",
       "version_major": 2,
       "version_minor": 0
      },
      "text/plain": [
       "HBox(children=(IntProgress(value=0, max=18), HTML(value='')))"
      ]
     },
     "metadata": {},
     "output_type": "display_data"
    },
    {
     "data": {
      "application/vnd.jupyter.widget-view+json": {
       "model_id": "fe40a7996bb94dd4b51a6f3f3acb9add",
       "version_major": 2,
       "version_minor": 0
      },
      "text/plain": [
       "HBox(children=(IntProgress(value=0, max=18), HTML(value='')))"
      ]
     },
     "metadata": {},
     "output_type": "display_data"
    },
    {
     "data": {
      "application/vnd.jupyter.widget-view+json": {
       "model_id": "a167c497d3534b12aede6ccfb4bb27a3",
       "version_major": 2,
       "version_minor": 0
      },
      "text/plain": [
       "HBox(children=(IntProgress(value=0, max=18), HTML(value='')))"
      ]
     },
     "metadata": {},
     "output_type": "display_data"
    },
    {
     "data": {
      "application/vnd.jupyter.widget-view+json": {
       "model_id": "a48ebbe48e6b4714adadab932d11c7f6",
       "version_major": 2,
       "version_minor": 0
      },
      "text/plain": [
       "HBox(children=(IntProgress(value=0, max=18), HTML(value='')))"
      ]
     },
     "metadata": {},
     "output_type": "display_data"
    },
    {
     "data": {
      "application/vnd.jupyter.widget-view+json": {
       "model_id": "c9b258e679234a4e9af50ae5b6b52ed2",
       "version_major": 2,
       "version_minor": 0
      },
      "text/plain": [
       "HBox(children=(IntProgress(value=0, max=18), HTML(value='')))"
      ]
     },
     "metadata": {},
     "output_type": "display_data"
    },
    {
     "data": {
      "application/vnd.jupyter.widget-view+json": {
       "model_id": "b6fbbb33310e491e86d526f55938177e",
       "version_major": 2,
       "version_minor": 0
      },
      "text/plain": [
       "HBox(children=(IntProgress(value=0, max=18), HTML(value='')))"
      ]
     },
     "metadata": {},
     "output_type": "display_data"
    },
    {
     "data": {
      "application/vnd.jupyter.widget-view+json": {
       "model_id": "d76c39e91e0646b8a8569be02e64751d",
       "version_major": 2,
       "version_minor": 0
      },
      "text/plain": [
       "HBox(children=(IntProgress(value=0, max=18), HTML(value='')))"
      ]
     },
     "metadata": {},
     "output_type": "display_data"
    },
    {
     "data": {
      "application/vnd.jupyter.widget-view+json": {
       "model_id": "e6cc596fbe634872a930dc14aa1f7cbb",
       "version_major": 2,
       "version_minor": 0
      },
      "text/plain": [
       "HBox(children=(IntProgress(value=0, max=18), HTML(value='')))"
      ]
     },
     "metadata": {},
     "output_type": "display_data"
    },
    {
     "data": {
      "application/vnd.jupyter.widget-view+json": {
       "model_id": "e948c5a068da444285f9705fa9d4d6b0",
       "version_major": 2,
       "version_minor": 0
      },
      "text/plain": [
       "HBox(children=(IntProgress(value=0, max=18), HTML(value='')))"
      ]
     },
     "metadata": {},
     "output_type": "display_data"
    },
    {
     "data": {
      "application/vnd.jupyter.widget-view+json": {
       "model_id": "3110c5f3b6cb4f6195fabeac5976288c",
       "version_major": 2,
       "version_minor": 0
      },
      "text/plain": [
       "HBox(children=(IntProgress(value=0, max=18), HTML(value='')))"
      ]
     },
     "metadata": {},
     "output_type": "display_data"
    },
    {
     "data": {
      "application/vnd.jupyter.widget-view+json": {
       "model_id": "1071ce1d877d46a388c6424264605786",
       "version_major": 2,
       "version_minor": 0
      },
      "text/plain": [
       "HBox(children=(IntProgress(value=0, max=18), HTML(value='')))"
      ]
     },
     "metadata": {},
     "output_type": "display_data"
    },
    {
     "data": {
      "application/vnd.jupyter.widget-view+json": {
       "model_id": "701734a18182410ea0e0249ebe1e4a86",
       "version_major": 2,
       "version_minor": 0
      },
      "text/plain": [
       "HBox(children=(IntProgress(value=0, max=18), HTML(value='')))"
      ]
     },
     "metadata": {},
     "output_type": "display_data"
    },
    {
     "data": {
      "application/vnd.jupyter.widget-view+json": {
       "model_id": "324526b666b34ecab7a287f976621c27",
       "version_major": 2,
       "version_minor": 0
      },
      "text/plain": [
       "HBox(children=(IntProgress(value=0, max=18), HTML(value='')))"
      ]
     },
     "metadata": {},
     "output_type": "display_data"
    },
    {
     "data": {
      "application/vnd.jupyter.widget-view+json": {
       "model_id": "84d0d5e71e49425381c0ce16938392fd",
       "version_major": 2,
       "version_minor": 0
      },
      "text/plain": [
       "HBox(children=(IntProgress(value=0, max=18), HTML(value='')))"
      ]
     },
     "metadata": {},
     "output_type": "display_data"
    },
    {
     "data": {
      "application/vnd.jupyter.widget-view+json": {
       "model_id": "6b7b13ea38e9476d8ff1c025368a789d",
       "version_major": 2,
       "version_minor": 0
      },
      "text/plain": [
       "HBox(children=(IntProgress(value=0, max=18), HTML(value='')))"
      ]
     },
     "metadata": {},
     "output_type": "display_data"
    },
    {
     "data": {
      "application/vnd.jupyter.widget-view+json": {
       "model_id": "4fdb5f5946174b708891692d3931b107",
       "version_major": 2,
       "version_minor": 0
      },
      "text/plain": [
       "HBox(children=(IntProgress(value=0, max=18), HTML(value='')))"
      ]
     },
     "metadata": {},
     "output_type": "display_data"
    },
    {
     "data": {
      "application/vnd.jupyter.widget-view+json": {
       "model_id": "e16dc7e6bb7e458da95665a64af67aeb",
       "version_major": 2,
       "version_minor": 0
      },
      "text/plain": [
       "HBox(children=(IntProgress(value=0, max=18), HTML(value='')))"
      ]
     },
     "metadata": {},
     "output_type": "display_data"
    },
    {
     "data": {
      "application/vnd.jupyter.widget-view+json": {
       "model_id": "f596a92450c94226a72031bdc991810c",
       "version_major": 2,
       "version_minor": 0
      },
      "text/plain": [
       "HBox(children=(IntProgress(value=0, max=18), HTML(value='')))"
      ]
     },
     "metadata": {},
     "output_type": "display_data"
    },
    {
     "data": {
      "application/vnd.jupyter.widget-view+json": {
       "model_id": "c16653f96f724c35bc8fc471c0ad0908",
       "version_major": 2,
       "version_minor": 0
      },
      "text/plain": [
       "HBox(children=(IntProgress(value=0, max=18), HTML(value='')))"
      ]
     },
     "metadata": {},
     "output_type": "display_data"
    },
    {
     "data": {
      "application/vnd.jupyter.widget-view+json": {
       "model_id": "d484c44c1cf74105b30e1d4b455c622e",
       "version_major": 2,
       "version_minor": 0
      },
      "text/plain": [
       "HBox(children=(IntProgress(value=0, max=18), HTML(value='')))"
      ]
     },
     "metadata": {},
     "output_type": "display_data"
    },
    {
     "data": {
      "application/vnd.jupyter.widget-view+json": {
       "model_id": "7b532e3f50e642d48e59396e01000ed0",
       "version_major": 2,
       "version_minor": 0
      },
      "text/plain": [
       "HBox(children=(IntProgress(value=0, max=18), HTML(value='')))"
      ]
     },
     "metadata": {},
     "output_type": "display_data"
    },
    {
     "data": {
      "application/vnd.jupyter.widget-view+json": {
       "model_id": "a8953b3b14ea47d89befddffbf437788",
       "version_major": 2,
       "version_minor": 0
      },
      "text/plain": [
       "HBox(children=(IntProgress(value=0, max=18), HTML(value='')))"
      ]
     },
     "metadata": {},
     "output_type": "display_data"
    },
    {
     "data": {
      "application/vnd.jupyter.widget-view+json": {
       "model_id": "3d558c414c2349aab852ef7172d08634",
       "version_major": 2,
       "version_minor": 0
      },
      "text/plain": [
       "HBox(children=(IntProgress(value=0, max=18), HTML(value='')))"
      ]
     },
     "metadata": {},
     "output_type": "display_data"
    },
    {
     "data": {
      "application/vnd.jupyter.widget-view+json": {
       "model_id": "2d4f3be7517041f1b6945ff422d37ad8",
       "version_major": 2,
       "version_minor": 0
      },
      "text/plain": [
       "HBox(children=(IntProgress(value=0, max=18), HTML(value='')))"
      ]
     },
     "metadata": {},
     "output_type": "display_data"
    },
    {
     "data": {
      "application/vnd.jupyter.widget-view+json": {
       "model_id": "c47990092eaa4d9ba5f4e02d9f2da2be",
       "version_major": 2,
       "version_minor": 0
      },
      "text/plain": [
       "HBox(children=(IntProgress(value=0, max=18), HTML(value='')))"
      ]
     },
     "metadata": {},
     "output_type": "display_data"
    },
    {
     "data": {
      "application/vnd.jupyter.widget-view+json": {
       "model_id": "f4a818d90e2d4a2c9e47553f6cc54a0a",
       "version_major": 2,
       "version_minor": 0
      },
      "text/plain": [
       "HBox(children=(IntProgress(value=0, max=18), HTML(value='')))"
      ]
     },
     "metadata": {},
     "output_type": "display_data"
    },
    {
     "name": "stdout",
     "output_type": "stream",
     "text": [
      "\n"
     ]
    }
   ],
   "source": [
    "pred_list=[]\n",
    "pred_list_tmp=[]\n",
    "for num_split in tqdm_notebook(range(3)):\n",
    "    model_name,version = 'Densenet169_3' , 'classifier_splits'\n",
    "    pickle_file=open(outputs_dir+outputs_format.format(model_name,version,'features_test',num_split),'rb')\n",
    "    features=pickle.load(pickle_file)\n",
    "    pickle_file.close()\n",
    "    features=features.reshape(features.shape[0]//8,8,-1)\n",
    "\n",
    "    model=ResModel(features.shape[-1])\n",
    "    version=version+'_fullhead_resmodel'\n",
    "\n",
    "    model.load_state_dict(torch.load(models_dir+models_format.format(model_name,version,num_split),map_location=torch.device(device)))\n",
    "    test_dataset=train_dataset=FullHeadDataset(test_df,\n",
    "                                  test_df.SeriesI.unique(),\n",
    "                                  features,\n",
    "                                  'SeriesI',\n",
    "                                  'ImagePositionZ')\n",
    "    for i in tqdm_notebook(range(32),leave=False):\n",
    "        pred_list.append(model_run(model,test_dataset,do_apex=False,batch_size=128)[...,None])\n",
    "        pred_list_tmp.append(pred_list[-1])\n",
    "pred169=torch.cat(pred_list_tmp,-1).mean(-1)"
   ]
  },
  {
   "cell_type": "code",
   "execution_count": 27,
   "metadata": {},
   "outputs": [
    {
     "data": {
      "application/vnd.jupyter.widget-view+json": {
       "model_id": "908dfa2ba52548018416d876fa50996b",
       "version_major": 2,
       "version_minor": 0
      },
      "text/plain": [
       "HBox(children=(IntProgress(value=0, max=3), HTML(value='')))"
      ]
     },
     "metadata": {},
     "output_type": "display_data"
    },
    {
     "data": {
      "text/plain": [
       "<All keys matched successfully>"
      ]
     },
     "execution_count": 27,
     "metadata": {},
     "output_type": "execute_result"
    },
    {
     "data": {
      "application/vnd.jupyter.widget-view+json": {
       "model_id": "",
       "version_major": 2,
       "version_minor": 0
      },
      "text/plain": [
       "HBox(children=(IntProgress(value=0, max=32), HTML(value='')))"
      ]
     },
     "metadata": {},
     "output_type": "display_data"
    },
    {
     "data": {
      "application/vnd.jupyter.widget-view+json": {
       "model_id": "9e010cd85f9d4f5e91fc1f4d02627948",
       "version_major": 2,
       "version_minor": 0
      },
      "text/plain": [
       "HBox(children=(IntProgress(value=0, max=18), HTML(value='')))"
      ]
     },
     "metadata": {},
     "output_type": "display_data"
    },
    {
     "data": {
      "application/vnd.jupyter.widget-view+json": {
       "model_id": "01bb80b54a5b41f0bf3648b8fd16210c",
       "version_major": 2,
       "version_minor": 0
      },
      "text/plain": [
       "HBox(children=(IntProgress(value=0, max=18), HTML(value='')))"
      ]
     },
     "metadata": {},
     "output_type": "display_data"
    },
    {
     "data": {
      "application/vnd.jupyter.widget-view+json": {
       "model_id": "01f87ad6f38a4eb5b0d3f7feb230b919",
       "version_major": 2,
       "version_minor": 0
      },
      "text/plain": [
       "HBox(children=(IntProgress(value=0, max=18), HTML(value='')))"
      ]
     },
     "metadata": {},
     "output_type": "display_data"
    },
    {
     "data": {
      "application/vnd.jupyter.widget-view+json": {
       "model_id": "2a37ffe825b74ffebec03516b8350182",
       "version_major": 2,
       "version_minor": 0
      },
      "text/plain": [
       "HBox(children=(IntProgress(value=0, max=18), HTML(value='')))"
      ]
     },
     "metadata": {},
     "output_type": "display_data"
    },
    {
     "data": {
      "application/vnd.jupyter.widget-view+json": {
       "model_id": "3186f8db8c2048f9995977f38e3563b9",
       "version_major": 2,
       "version_minor": 0
      },
      "text/plain": [
       "HBox(children=(IntProgress(value=0, max=18), HTML(value='')))"
      ]
     },
     "metadata": {},
     "output_type": "display_data"
    },
    {
     "data": {
      "application/vnd.jupyter.widget-view+json": {
       "model_id": "73f09cc739a9448fb16719c1092dc8b5",
       "version_major": 2,
       "version_minor": 0
      },
      "text/plain": [
       "HBox(children=(IntProgress(value=0, max=18), HTML(value='')))"
      ]
     },
     "metadata": {},
     "output_type": "display_data"
    },
    {
     "data": {
      "application/vnd.jupyter.widget-view+json": {
       "model_id": "a77753ac7bc446409f02b81363ac7156",
       "version_major": 2,
       "version_minor": 0
      },
      "text/plain": [
       "HBox(children=(IntProgress(value=0, max=18), HTML(value='')))"
      ]
     },
     "metadata": {},
     "output_type": "display_data"
    },
    {
     "data": {
      "application/vnd.jupyter.widget-view+json": {
       "model_id": "1c33feed07ab46b5bfcdac09841adfdd",
       "version_major": 2,
       "version_minor": 0
      },
      "text/plain": [
       "HBox(children=(IntProgress(value=0, max=18), HTML(value='')))"
      ]
     },
     "metadata": {},
     "output_type": "display_data"
    },
    {
     "data": {
      "application/vnd.jupyter.widget-view+json": {
       "model_id": "62ae18db69ad47dfa5a2e3236975905c",
       "version_major": 2,
       "version_minor": 0
      },
      "text/plain": [
       "HBox(children=(IntProgress(value=0, max=18), HTML(value='')))"
      ]
     },
     "metadata": {},
     "output_type": "display_data"
    },
    {
     "data": {
      "application/vnd.jupyter.widget-view+json": {
       "model_id": "ac69663626114aacab60ef3060567d49",
       "version_major": 2,
       "version_minor": 0
      },
      "text/plain": [
       "HBox(children=(IntProgress(value=0, max=18), HTML(value='')))"
      ]
     },
     "metadata": {},
     "output_type": "display_data"
    },
    {
     "data": {
      "application/vnd.jupyter.widget-view+json": {
       "model_id": "4869d492c56e46a1bbec20ee249ff6f3",
       "version_major": 2,
       "version_minor": 0
      },
      "text/plain": [
       "HBox(children=(IntProgress(value=0, max=18), HTML(value='')))"
      ]
     },
     "metadata": {},
     "output_type": "display_data"
    },
    {
     "data": {
      "application/vnd.jupyter.widget-view+json": {
       "model_id": "32d0c5182b9a4966aa46b8418054edd2",
       "version_major": 2,
       "version_minor": 0
      },
      "text/plain": [
       "HBox(children=(IntProgress(value=0, max=18), HTML(value='')))"
      ]
     },
     "metadata": {},
     "output_type": "display_data"
    },
    {
     "data": {
      "application/vnd.jupyter.widget-view+json": {
       "model_id": "55c44ce3e5184eb1a7af333791cef2c1",
       "version_major": 2,
       "version_minor": 0
      },
      "text/plain": [
       "HBox(children=(IntProgress(value=0, max=18), HTML(value='')))"
      ]
     },
     "metadata": {},
     "output_type": "display_data"
    },
    {
     "data": {
      "application/vnd.jupyter.widget-view+json": {
       "model_id": "cd32ba40efd947c889e3a20a9cd9d926",
       "version_major": 2,
       "version_minor": 0
      },
      "text/plain": [
       "HBox(children=(IntProgress(value=0, max=18), HTML(value='')))"
      ]
     },
     "metadata": {},
     "output_type": "display_data"
    },
    {
     "data": {
      "application/vnd.jupyter.widget-view+json": {
       "model_id": "6b3edcc25b2147a7be065e047e826ffe",
       "version_major": 2,
       "version_minor": 0
      },
      "text/plain": [
       "HBox(children=(IntProgress(value=0, max=18), HTML(value='')))"
      ]
     },
     "metadata": {},
     "output_type": "display_data"
    },
    {
     "data": {
      "application/vnd.jupyter.widget-view+json": {
       "model_id": "257ca29b2c0c432cac8a1d233668de3e",
       "version_major": 2,
       "version_minor": 0
      },
      "text/plain": [
       "HBox(children=(IntProgress(value=0, max=18), HTML(value='')))"
      ]
     },
     "metadata": {},
     "output_type": "display_data"
    },
    {
     "data": {
      "application/vnd.jupyter.widget-view+json": {
       "model_id": "adeaf009fd374161ab338fbc80aab97d",
       "version_major": 2,
       "version_minor": 0
      },
      "text/plain": [
       "HBox(children=(IntProgress(value=0, max=18), HTML(value='')))"
      ]
     },
     "metadata": {},
     "output_type": "display_data"
    },
    {
     "data": {
      "application/vnd.jupyter.widget-view+json": {
       "model_id": "6865b5908c79442abb37f81539b29e01",
       "version_major": 2,
       "version_minor": 0
      },
      "text/plain": [
       "HBox(children=(IntProgress(value=0, max=18), HTML(value='')))"
      ]
     },
     "metadata": {},
     "output_type": "display_data"
    },
    {
     "data": {
      "application/vnd.jupyter.widget-view+json": {
       "model_id": "0a643bd3a8e747b2874bd553dbe463b6",
       "version_major": 2,
       "version_minor": 0
      },
      "text/plain": [
       "HBox(children=(IntProgress(value=0, max=18), HTML(value='')))"
      ]
     },
     "metadata": {},
     "output_type": "display_data"
    },
    {
     "data": {
      "application/vnd.jupyter.widget-view+json": {
       "model_id": "e5da6e57fbe44d978055bc6a92f63e65",
       "version_major": 2,
       "version_minor": 0
      },
      "text/plain": [
       "HBox(children=(IntProgress(value=0, max=18), HTML(value='')))"
      ]
     },
     "metadata": {},
     "output_type": "display_data"
    },
    {
     "data": {
      "application/vnd.jupyter.widget-view+json": {
       "model_id": "53aa6c8c1d43496096278fecba936be5",
       "version_major": 2,
       "version_minor": 0
      },
      "text/plain": [
       "HBox(children=(IntProgress(value=0, max=18), HTML(value='')))"
      ]
     },
     "metadata": {},
     "output_type": "display_data"
    },
    {
     "data": {
      "application/vnd.jupyter.widget-view+json": {
       "model_id": "1fc31bebfaeb4b9b9ebf7e320c7d5e7d",
       "version_major": 2,
       "version_minor": 0
      },
      "text/plain": [
       "HBox(children=(IntProgress(value=0, max=18), HTML(value='')))"
      ]
     },
     "metadata": {},
     "output_type": "display_data"
    },
    {
     "data": {
      "application/vnd.jupyter.widget-view+json": {
       "model_id": "381a5c7895f646779e2fa8478c930d07",
       "version_major": 2,
       "version_minor": 0
      },
      "text/plain": [
       "HBox(children=(IntProgress(value=0, max=18), HTML(value='')))"
      ]
     },
     "metadata": {},
     "output_type": "display_data"
    },
    {
     "data": {
      "application/vnd.jupyter.widget-view+json": {
       "model_id": "76f8383dce8847dc85b87c850ae02f8f",
       "version_major": 2,
       "version_minor": 0
      },
      "text/plain": [
       "HBox(children=(IntProgress(value=0, max=18), HTML(value='')))"
      ]
     },
     "metadata": {},
     "output_type": "display_data"
    },
    {
     "data": {
      "application/vnd.jupyter.widget-view+json": {
       "model_id": "60dd3316ae884700ac048597f792107c",
       "version_major": 2,
       "version_minor": 0
      },
      "text/plain": [
       "HBox(children=(IntProgress(value=0, max=18), HTML(value='')))"
      ]
     },
     "metadata": {},
     "output_type": "display_data"
    },
    {
     "data": {
      "application/vnd.jupyter.widget-view+json": {
       "model_id": "12a8e103e3e145a1a0b9f5b58f30aa0d",
       "version_major": 2,
       "version_minor": 0
      },
      "text/plain": [
       "HBox(children=(IntProgress(value=0, max=18), HTML(value='')))"
      ]
     },
     "metadata": {},
     "output_type": "display_data"
    },
    {
     "data": {
      "application/vnd.jupyter.widget-view+json": {
       "model_id": "41980a1d498b4c8ca74a355fcb1a3bd4",
       "version_major": 2,
       "version_minor": 0
      },
      "text/plain": [
       "HBox(children=(IntProgress(value=0, max=18), HTML(value='')))"
      ]
     },
     "metadata": {},
     "output_type": "display_data"
    },
    {
     "data": {
      "application/vnd.jupyter.widget-view+json": {
       "model_id": "6083cba173504cc9b5d204934cff2a80",
       "version_major": 2,
       "version_minor": 0
      },
      "text/plain": [
       "HBox(children=(IntProgress(value=0, max=18), HTML(value='')))"
      ]
     },
     "metadata": {},
     "output_type": "display_data"
    },
    {
     "data": {
      "application/vnd.jupyter.widget-view+json": {
       "model_id": "0ebc50f70da6444795164367712534de",
       "version_major": 2,
       "version_minor": 0
      },
      "text/plain": [
       "HBox(children=(IntProgress(value=0, max=18), HTML(value='')))"
      ]
     },
     "metadata": {},
     "output_type": "display_data"
    },
    {
     "data": {
      "application/vnd.jupyter.widget-view+json": {
       "model_id": "e4810be939594a269a6926959e1a8003",
       "version_major": 2,
       "version_minor": 0
      },
      "text/plain": [
       "HBox(children=(IntProgress(value=0, max=18), HTML(value='')))"
      ]
     },
     "metadata": {},
     "output_type": "display_data"
    },
    {
     "data": {
      "application/vnd.jupyter.widget-view+json": {
       "model_id": "fb8df024fdd9465a9e77f6b76dd7b3a6",
       "version_major": 2,
       "version_minor": 0
      },
      "text/plain": [
       "HBox(children=(IntProgress(value=0, max=18), HTML(value='')))"
      ]
     },
     "metadata": {},
     "output_type": "display_data"
    },
    {
     "data": {
      "application/vnd.jupyter.widget-view+json": {
       "model_id": "4b985cdabfde49ff91f9578dfb557613",
       "version_major": 2,
       "version_minor": 0
      },
      "text/plain": [
       "HBox(children=(IntProgress(value=0, max=18), HTML(value='')))"
      ]
     },
     "metadata": {},
     "output_type": "display_data"
    },
    {
     "data": {
      "text/plain": [
       "<All keys matched successfully>"
      ]
     },
     "execution_count": 27,
     "metadata": {},
     "output_type": "execute_result"
    },
    {
     "data": {
      "application/vnd.jupyter.widget-view+json": {
       "model_id": "",
       "version_major": 2,
       "version_minor": 0
      },
      "text/plain": [
       "HBox(children=(IntProgress(value=0, max=32), HTML(value='')))"
      ]
     },
     "metadata": {},
     "output_type": "display_data"
    },
    {
     "data": {
      "application/vnd.jupyter.widget-view+json": {
       "model_id": "e52298d7b41e445ca49c5862120041ac",
       "version_major": 2,
       "version_minor": 0
      },
      "text/plain": [
       "HBox(children=(IntProgress(value=0, max=18), HTML(value='')))"
      ]
     },
     "metadata": {},
     "output_type": "display_data"
    },
    {
     "data": {
      "application/vnd.jupyter.widget-view+json": {
       "model_id": "29c1a48151c74a0f8c2ed70b6583688b",
       "version_major": 2,
       "version_minor": 0
      },
      "text/plain": [
       "HBox(children=(IntProgress(value=0, max=18), HTML(value='')))"
      ]
     },
     "metadata": {},
     "output_type": "display_data"
    },
    {
     "data": {
      "application/vnd.jupyter.widget-view+json": {
       "model_id": "f5e6d24feb4c4d528e9b6f96a88fc0e4",
       "version_major": 2,
       "version_minor": 0
      },
      "text/plain": [
       "HBox(children=(IntProgress(value=0, max=18), HTML(value='')))"
      ]
     },
     "metadata": {},
     "output_type": "display_data"
    },
    {
     "data": {
      "application/vnd.jupyter.widget-view+json": {
       "model_id": "e325b4a721c449e1b4d103c03632dc19",
       "version_major": 2,
       "version_minor": 0
      },
      "text/plain": [
       "HBox(children=(IntProgress(value=0, max=18), HTML(value='')))"
      ]
     },
     "metadata": {},
     "output_type": "display_data"
    },
    {
     "data": {
      "application/vnd.jupyter.widget-view+json": {
       "model_id": "2583348615a4444ba12724cdfb097e1d",
       "version_major": 2,
       "version_minor": 0
      },
      "text/plain": [
       "HBox(children=(IntProgress(value=0, max=18), HTML(value='')))"
      ]
     },
     "metadata": {},
     "output_type": "display_data"
    },
    {
     "data": {
      "application/vnd.jupyter.widget-view+json": {
       "model_id": "ffa2f7ea3a514d11916150a7871cc265",
       "version_major": 2,
       "version_minor": 0
      },
      "text/plain": [
       "HBox(children=(IntProgress(value=0, max=18), HTML(value='')))"
      ]
     },
     "metadata": {},
     "output_type": "display_data"
    },
    {
     "data": {
      "application/vnd.jupyter.widget-view+json": {
       "model_id": "9c9bf55d1f30460c84aac979fb21e935",
       "version_major": 2,
       "version_minor": 0
      },
      "text/plain": [
       "HBox(children=(IntProgress(value=0, max=18), HTML(value='')))"
      ]
     },
     "metadata": {},
     "output_type": "display_data"
    },
    {
     "data": {
      "application/vnd.jupyter.widget-view+json": {
       "model_id": "de7298a7ed5d408ebb0dc2947bdd3585",
       "version_major": 2,
       "version_minor": 0
      },
      "text/plain": [
       "HBox(children=(IntProgress(value=0, max=18), HTML(value='')))"
      ]
     },
     "metadata": {},
     "output_type": "display_data"
    },
    {
     "data": {
      "application/vnd.jupyter.widget-view+json": {
       "model_id": "6256ab664cbd43198431767f28546f80",
       "version_major": 2,
       "version_minor": 0
      },
      "text/plain": [
       "HBox(children=(IntProgress(value=0, max=18), HTML(value='')))"
      ]
     },
     "metadata": {},
     "output_type": "display_data"
    },
    {
     "data": {
      "application/vnd.jupyter.widget-view+json": {
       "model_id": "fca8ab6eb33946128c49552eb7973095",
       "version_major": 2,
       "version_minor": 0
      },
      "text/plain": [
       "HBox(children=(IntProgress(value=0, max=18), HTML(value='')))"
      ]
     },
     "metadata": {},
     "output_type": "display_data"
    },
    {
     "data": {
      "application/vnd.jupyter.widget-view+json": {
       "model_id": "fd39433122ec4e99a1ac087cbd776043",
       "version_major": 2,
       "version_minor": 0
      },
      "text/plain": [
       "HBox(children=(IntProgress(value=0, max=18), HTML(value='')))"
      ]
     },
     "metadata": {},
     "output_type": "display_data"
    },
    {
     "data": {
      "application/vnd.jupyter.widget-view+json": {
       "model_id": "195372c783204e789a5c1080e8f60ce5",
       "version_major": 2,
       "version_minor": 0
      },
      "text/plain": [
       "HBox(children=(IntProgress(value=0, max=18), HTML(value='')))"
      ]
     },
     "metadata": {},
     "output_type": "display_data"
    },
    {
     "data": {
      "application/vnd.jupyter.widget-view+json": {
       "model_id": "c67fb4f21d2c481cb99971b16862eabc",
       "version_major": 2,
       "version_minor": 0
      },
      "text/plain": [
       "HBox(children=(IntProgress(value=0, max=18), HTML(value='')))"
      ]
     },
     "metadata": {},
     "output_type": "display_data"
    },
    {
     "data": {
      "application/vnd.jupyter.widget-view+json": {
       "model_id": "390c147a0fb14d9eb51edb1633b39da1",
       "version_major": 2,
       "version_minor": 0
      },
      "text/plain": [
       "HBox(children=(IntProgress(value=0, max=18), HTML(value='')))"
      ]
     },
     "metadata": {},
     "output_type": "display_data"
    },
    {
     "data": {
      "application/vnd.jupyter.widget-view+json": {
       "model_id": "5993fa1016a048959373e345a95168e9",
       "version_major": 2,
       "version_minor": 0
      },
      "text/plain": [
       "HBox(children=(IntProgress(value=0, max=18), HTML(value='')))"
      ]
     },
     "metadata": {},
     "output_type": "display_data"
    },
    {
     "data": {
      "application/vnd.jupyter.widget-view+json": {
       "model_id": "76fc2e2573d840c885eb8232b3135de3",
       "version_major": 2,
       "version_minor": 0
      },
      "text/plain": [
       "HBox(children=(IntProgress(value=0, max=18), HTML(value='')))"
      ]
     },
     "metadata": {},
     "output_type": "display_data"
    },
    {
     "data": {
      "application/vnd.jupyter.widget-view+json": {
       "model_id": "58b9890cb56a41a395bd4b154fef9054",
       "version_major": 2,
       "version_minor": 0
      },
      "text/plain": [
       "HBox(children=(IntProgress(value=0, max=18), HTML(value='')))"
      ]
     },
     "metadata": {},
     "output_type": "display_data"
    },
    {
     "data": {
      "application/vnd.jupyter.widget-view+json": {
       "model_id": "d162462f84924bf38c6bea99b881b8e4",
       "version_major": 2,
       "version_minor": 0
      },
      "text/plain": [
       "HBox(children=(IntProgress(value=0, max=18), HTML(value='')))"
      ]
     },
     "metadata": {},
     "output_type": "display_data"
    },
    {
     "data": {
      "application/vnd.jupyter.widget-view+json": {
       "model_id": "3c79e7995fe84eb8b4d690781fbdc7c9",
       "version_major": 2,
       "version_minor": 0
      },
      "text/plain": [
       "HBox(children=(IntProgress(value=0, max=18), HTML(value='')))"
      ]
     },
     "metadata": {},
     "output_type": "display_data"
    },
    {
     "data": {
      "application/vnd.jupyter.widget-view+json": {
       "model_id": "49fc82e4973149ce8816e65193f55bed",
       "version_major": 2,
       "version_minor": 0
      },
      "text/plain": [
       "HBox(children=(IntProgress(value=0, max=18), HTML(value='')))"
      ]
     },
     "metadata": {},
     "output_type": "display_data"
    },
    {
     "data": {
      "application/vnd.jupyter.widget-view+json": {
       "model_id": "cec1b4ebc0a949ee9f44ec3f6193f4ab",
       "version_major": 2,
       "version_minor": 0
      },
      "text/plain": [
       "HBox(children=(IntProgress(value=0, max=18), HTML(value='')))"
      ]
     },
     "metadata": {},
     "output_type": "display_data"
    },
    {
     "data": {
      "application/vnd.jupyter.widget-view+json": {
       "model_id": "55c79c197ce04ba68fcb78366a934d68",
       "version_major": 2,
       "version_minor": 0
      },
      "text/plain": [
       "HBox(children=(IntProgress(value=0, max=18), HTML(value='')))"
      ]
     },
     "metadata": {},
     "output_type": "display_data"
    },
    {
     "data": {
      "application/vnd.jupyter.widget-view+json": {
       "model_id": "04659acc82d9404097f887288e7d1813",
       "version_major": 2,
       "version_minor": 0
      },
      "text/plain": [
       "HBox(children=(IntProgress(value=0, max=18), HTML(value='')))"
      ]
     },
     "metadata": {},
     "output_type": "display_data"
    },
    {
     "data": {
      "application/vnd.jupyter.widget-view+json": {
       "model_id": "60a71af3147e4c3ebce0e0707d71a43f",
       "version_major": 2,
       "version_minor": 0
      },
      "text/plain": [
       "HBox(children=(IntProgress(value=0, max=18), HTML(value='')))"
      ]
     },
     "metadata": {},
     "output_type": "display_data"
    },
    {
     "data": {
      "application/vnd.jupyter.widget-view+json": {
       "model_id": "36448a049cd34118891218dea3f04c11",
       "version_major": 2,
       "version_minor": 0
      },
      "text/plain": [
       "HBox(children=(IntProgress(value=0, max=18), HTML(value='')))"
      ]
     },
     "metadata": {},
     "output_type": "display_data"
    },
    {
     "data": {
      "application/vnd.jupyter.widget-view+json": {
       "model_id": "d5a57307a18b475895c053d0483d02d6",
       "version_major": 2,
       "version_minor": 0
      },
      "text/plain": [
       "HBox(children=(IntProgress(value=0, max=18), HTML(value='')))"
      ]
     },
     "metadata": {},
     "output_type": "display_data"
    },
    {
     "data": {
      "application/vnd.jupyter.widget-view+json": {
       "model_id": "47ea2c5002dc43b8a7f31fc88971aba9",
       "version_major": 2,
       "version_minor": 0
      },
      "text/plain": [
       "HBox(children=(IntProgress(value=0, max=18), HTML(value='')))"
      ]
     },
     "metadata": {},
     "output_type": "display_data"
    },
    {
     "data": {
      "application/vnd.jupyter.widget-view+json": {
       "model_id": "f18a37715a9741ae95484c1b7c51cca3",
       "version_major": 2,
       "version_minor": 0
      },
      "text/plain": [
       "HBox(children=(IntProgress(value=0, max=18), HTML(value='')))"
      ]
     },
     "metadata": {},
     "output_type": "display_data"
    },
    {
     "data": {
      "application/vnd.jupyter.widget-view+json": {
       "model_id": "cbc9f7598ca84bf7bc1bd04cff13bdd6",
       "version_major": 2,
       "version_minor": 0
      },
      "text/plain": [
       "HBox(children=(IntProgress(value=0, max=18), HTML(value='')))"
      ]
     },
     "metadata": {},
     "output_type": "display_data"
    },
    {
     "data": {
      "application/vnd.jupyter.widget-view+json": {
       "model_id": "cdf0dc0e58054858a9671308ef467b77",
       "version_major": 2,
       "version_minor": 0
      },
      "text/plain": [
       "HBox(children=(IntProgress(value=0, max=18), HTML(value='')))"
      ]
     },
     "metadata": {},
     "output_type": "display_data"
    },
    {
     "data": {
      "application/vnd.jupyter.widget-view+json": {
       "model_id": "b6b00eff51df48c2921f81f948517f1a",
       "version_major": 2,
       "version_minor": 0
      },
      "text/plain": [
       "HBox(children=(IntProgress(value=0, max=18), HTML(value='')))"
      ]
     },
     "metadata": {},
     "output_type": "display_data"
    },
    {
     "data": {
      "application/vnd.jupyter.widget-view+json": {
       "model_id": "03c683e8dc0c48489e1a363ff6818aa1",
       "version_major": 2,
       "version_minor": 0
      },
      "text/plain": [
       "HBox(children=(IntProgress(value=0, max=18), HTML(value='')))"
      ]
     },
     "metadata": {},
     "output_type": "display_data"
    },
    {
     "data": {
      "text/plain": [
       "<All keys matched successfully>"
      ]
     },
     "execution_count": 27,
     "metadata": {},
     "output_type": "execute_result"
    },
    {
     "data": {
      "application/vnd.jupyter.widget-view+json": {
       "model_id": "",
       "version_major": 2,
       "version_minor": 0
      },
      "text/plain": [
       "HBox(children=(IntProgress(value=0, max=32), HTML(value='')))"
      ]
     },
     "metadata": {},
     "output_type": "display_data"
    },
    {
     "data": {
      "application/vnd.jupyter.widget-view+json": {
       "model_id": "c431a91437584b2382b2902dba06d744",
       "version_major": 2,
       "version_minor": 0
      },
      "text/plain": [
       "HBox(children=(IntProgress(value=0, max=18), HTML(value='')))"
      ]
     },
     "metadata": {},
     "output_type": "display_data"
    },
    {
     "data": {
      "application/vnd.jupyter.widget-view+json": {
       "model_id": "c7695c0719174231a1a516e9bb8868fa",
       "version_major": 2,
       "version_minor": 0
      },
      "text/plain": [
       "HBox(children=(IntProgress(value=0, max=18), HTML(value='')))"
      ]
     },
     "metadata": {},
     "output_type": "display_data"
    },
    {
     "data": {
      "application/vnd.jupyter.widget-view+json": {
       "model_id": "dbc1e132aa084ca093e0e54552cf9240",
       "version_major": 2,
       "version_minor": 0
      },
      "text/plain": [
       "HBox(children=(IntProgress(value=0, max=18), HTML(value='')))"
      ]
     },
     "metadata": {},
     "output_type": "display_data"
    },
    {
     "data": {
      "application/vnd.jupyter.widget-view+json": {
       "model_id": "71229388cbc348c9b266a445214247b1",
       "version_major": 2,
       "version_minor": 0
      },
      "text/plain": [
       "HBox(children=(IntProgress(value=0, max=18), HTML(value='')))"
      ]
     },
     "metadata": {},
     "output_type": "display_data"
    },
    {
     "data": {
      "application/vnd.jupyter.widget-view+json": {
       "model_id": "0af09ffcb0304795b16880b461673ad0",
       "version_major": 2,
       "version_minor": 0
      },
      "text/plain": [
       "HBox(children=(IntProgress(value=0, max=18), HTML(value='')))"
      ]
     },
     "metadata": {},
     "output_type": "display_data"
    },
    {
     "data": {
      "application/vnd.jupyter.widget-view+json": {
       "model_id": "0901033d69fc434799fe16ee1f773a47",
       "version_major": 2,
       "version_minor": 0
      },
      "text/plain": [
       "HBox(children=(IntProgress(value=0, max=18), HTML(value='')))"
      ]
     },
     "metadata": {},
     "output_type": "display_data"
    },
    {
     "data": {
      "application/vnd.jupyter.widget-view+json": {
       "model_id": "76a3f04dae7f410f8e682fdb7c54e40b",
       "version_major": 2,
       "version_minor": 0
      },
      "text/plain": [
       "HBox(children=(IntProgress(value=0, max=18), HTML(value='')))"
      ]
     },
     "metadata": {},
     "output_type": "display_data"
    },
    {
     "data": {
      "application/vnd.jupyter.widget-view+json": {
       "model_id": "31d3b1952a2b49fcaad3e290d5a3e8b3",
       "version_major": 2,
       "version_minor": 0
      },
      "text/plain": [
       "HBox(children=(IntProgress(value=0, max=18), HTML(value='')))"
      ]
     },
     "metadata": {},
     "output_type": "display_data"
    },
    {
     "data": {
      "application/vnd.jupyter.widget-view+json": {
       "model_id": "00b2b0a05be64438a179045866912746",
       "version_major": 2,
       "version_minor": 0
      },
      "text/plain": [
       "HBox(children=(IntProgress(value=0, max=18), HTML(value='')))"
      ]
     },
     "metadata": {},
     "output_type": "display_data"
    },
    {
     "data": {
      "application/vnd.jupyter.widget-view+json": {
       "model_id": "32b09c668dd24c86af41565a9dd5e40c",
       "version_major": 2,
       "version_minor": 0
      },
      "text/plain": [
       "HBox(children=(IntProgress(value=0, max=18), HTML(value='')))"
      ]
     },
     "metadata": {},
     "output_type": "display_data"
    },
    {
     "data": {
      "application/vnd.jupyter.widget-view+json": {
       "model_id": "3b98914e51e1466bb03dd4c0a8cfa4d2",
       "version_major": 2,
       "version_minor": 0
      },
      "text/plain": [
       "HBox(children=(IntProgress(value=0, max=18), HTML(value='')))"
      ]
     },
     "metadata": {},
     "output_type": "display_data"
    },
    {
     "data": {
      "application/vnd.jupyter.widget-view+json": {
       "model_id": "64d3a11f42c249ea8b9e32bec1d48334",
       "version_major": 2,
       "version_minor": 0
      },
      "text/plain": [
       "HBox(children=(IntProgress(value=0, max=18), HTML(value='')))"
      ]
     },
     "metadata": {},
     "output_type": "display_data"
    },
    {
     "data": {
      "application/vnd.jupyter.widget-view+json": {
       "model_id": "6d1e101458f94ddeaaa8a154ddb32747",
       "version_major": 2,
       "version_minor": 0
      },
      "text/plain": [
       "HBox(children=(IntProgress(value=0, max=18), HTML(value='')))"
      ]
     },
     "metadata": {},
     "output_type": "display_data"
    },
    {
     "data": {
      "application/vnd.jupyter.widget-view+json": {
       "model_id": "4469506b15024fbf8f7077035b8c5483",
       "version_major": 2,
       "version_minor": 0
      },
      "text/plain": [
       "HBox(children=(IntProgress(value=0, max=18), HTML(value='')))"
      ]
     },
     "metadata": {},
     "output_type": "display_data"
    },
    {
     "data": {
      "application/vnd.jupyter.widget-view+json": {
       "model_id": "88b2841051504f138ff0bea7616aed70",
       "version_major": 2,
       "version_minor": 0
      },
      "text/plain": [
       "HBox(children=(IntProgress(value=0, max=18), HTML(value='')))"
      ]
     },
     "metadata": {},
     "output_type": "display_data"
    },
    {
     "data": {
      "application/vnd.jupyter.widget-view+json": {
       "model_id": "98955198d3d54187860735469aa09da6",
       "version_major": 2,
       "version_minor": 0
      },
      "text/plain": [
       "HBox(children=(IntProgress(value=0, max=18), HTML(value='')))"
      ]
     },
     "metadata": {},
     "output_type": "display_data"
    },
    {
     "data": {
      "application/vnd.jupyter.widget-view+json": {
       "model_id": "4ae8258a57264ad58b925916caf1e7d1",
       "version_major": 2,
       "version_minor": 0
      },
      "text/plain": [
       "HBox(children=(IntProgress(value=0, max=18), HTML(value='')))"
      ]
     },
     "metadata": {},
     "output_type": "display_data"
    },
    {
     "data": {
      "application/vnd.jupyter.widget-view+json": {
       "model_id": "eb0fcf0d17964af4b388822bcd0e2e02",
       "version_major": 2,
       "version_minor": 0
      },
      "text/plain": [
       "HBox(children=(IntProgress(value=0, max=18), HTML(value='')))"
      ]
     },
     "metadata": {},
     "output_type": "display_data"
    },
    {
     "data": {
      "application/vnd.jupyter.widget-view+json": {
       "model_id": "57a40b36be4641f89977d7fb33b38272",
       "version_major": 2,
       "version_minor": 0
      },
      "text/plain": [
       "HBox(children=(IntProgress(value=0, max=18), HTML(value='')))"
      ]
     },
     "metadata": {},
     "output_type": "display_data"
    },
    {
     "data": {
      "application/vnd.jupyter.widget-view+json": {
       "model_id": "1fa4a4614aac463a8fef2eda51d85e00",
       "version_major": 2,
       "version_minor": 0
      },
      "text/plain": [
       "HBox(children=(IntProgress(value=0, max=18), HTML(value='')))"
      ]
     },
     "metadata": {},
     "output_type": "display_data"
    },
    {
     "data": {
      "application/vnd.jupyter.widget-view+json": {
       "model_id": "3665dab6d9fb483db46e9aca81fbf1da",
       "version_major": 2,
       "version_minor": 0
      },
      "text/plain": [
       "HBox(children=(IntProgress(value=0, max=18), HTML(value='')))"
      ]
     },
     "metadata": {},
     "output_type": "display_data"
    },
    {
     "data": {
      "application/vnd.jupyter.widget-view+json": {
       "model_id": "d4cca403d46545e580f30175a09d9c6f",
       "version_major": 2,
       "version_minor": 0
      },
      "text/plain": [
       "HBox(children=(IntProgress(value=0, max=18), HTML(value='')))"
      ]
     },
     "metadata": {},
     "output_type": "display_data"
    },
    {
     "data": {
      "application/vnd.jupyter.widget-view+json": {
       "model_id": "7d8106f79354426196699c85acc9d8a2",
       "version_major": 2,
       "version_minor": 0
      },
      "text/plain": [
       "HBox(children=(IntProgress(value=0, max=18), HTML(value='')))"
      ]
     },
     "metadata": {},
     "output_type": "display_data"
    },
    {
     "data": {
      "application/vnd.jupyter.widget-view+json": {
       "model_id": "f2823a66f9724515aa777a2a2ec789d5",
       "version_major": 2,
       "version_minor": 0
      },
      "text/plain": [
       "HBox(children=(IntProgress(value=0, max=18), HTML(value='')))"
      ]
     },
     "metadata": {},
     "output_type": "display_data"
    },
    {
     "data": {
      "application/vnd.jupyter.widget-view+json": {
       "model_id": "8102a6e93c8d406994d2172c621a4759",
       "version_major": 2,
       "version_minor": 0
      },
      "text/plain": [
       "HBox(children=(IntProgress(value=0, max=18), HTML(value='')))"
      ]
     },
     "metadata": {},
     "output_type": "display_data"
    },
    {
     "data": {
      "application/vnd.jupyter.widget-view+json": {
       "model_id": "0049b75ab803405bb84ebf2d23e87d5c",
       "version_major": 2,
       "version_minor": 0
      },
      "text/plain": [
       "HBox(children=(IntProgress(value=0, max=18), HTML(value='')))"
      ]
     },
     "metadata": {},
     "output_type": "display_data"
    },
    {
     "data": {
      "application/vnd.jupyter.widget-view+json": {
       "model_id": "527f12c47baa4095984bd7a55537a168",
       "version_major": 2,
       "version_minor": 0
      },
      "text/plain": [
       "HBox(children=(IntProgress(value=0, max=18), HTML(value='')))"
      ]
     },
     "metadata": {},
     "output_type": "display_data"
    },
    {
     "data": {
      "application/vnd.jupyter.widget-view+json": {
       "model_id": "78d591c5ac1d485ba2a3bae73de29fb3",
       "version_major": 2,
       "version_minor": 0
      },
      "text/plain": [
       "HBox(children=(IntProgress(value=0, max=18), HTML(value='')))"
      ]
     },
     "metadata": {},
     "output_type": "display_data"
    },
    {
     "data": {
      "application/vnd.jupyter.widget-view+json": {
       "model_id": "f6dcf3dbcd4e4e3987a7375ea054cb7a",
       "version_major": 2,
       "version_minor": 0
      },
      "text/plain": [
       "HBox(children=(IntProgress(value=0, max=18), HTML(value='')))"
      ]
     },
     "metadata": {},
     "output_type": "display_data"
    },
    {
     "data": {
      "application/vnd.jupyter.widget-view+json": {
       "model_id": "ec3eb0ae0ab94ca89e8874f2d28abf7c",
       "version_major": 2,
       "version_minor": 0
      },
      "text/plain": [
       "HBox(children=(IntProgress(value=0, max=18), HTML(value='')))"
      ]
     },
     "metadata": {},
     "output_type": "display_data"
    },
    {
     "data": {
      "application/vnd.jupyter.widget-view+json": {
       "model_id": "abb5b015b9c04ca69493b414a120d90a",
       "version_major": 2,
       "version_minor": 0
      },
      "text/plain": [
       "HBox(children=(IntProgress(value=0, max=18), HTML(value='')))"
      ]
     },
     "metadata": {},
     "output_type": "display_data"
    },
    {
     "data": {
      "application/vnd.jupyter.widget-view+json": {
       "model_id": "880193bd48744b04b04d0bc340a687ee",
       "version_major": 2,
       "version_minor": 0
      },
      "text/plain": [
       "HBox(children=(IntProgress(value=0, max=18), HTML(value='')))"
      ]
     },
     "metadata": {},
     "output_type": "display_data"
    },
    {
     "name": "stdout",
     "output_type": "stream",
     "text": [
      "\n"
     ]
    }
   ],
   "source": [
    "pred_list_tmp=[]\n",
    "for num_split in tqdm_notebook(range(3)):\n",
    "    model_name,version = 'Densenet161_3' , 'classifier_splits'\n",
    "    pickle_file=open(outputs_dir+outputs_format.format(model_name,version,'features_test',num_split),'rb')\n",
    "    features=pickle.load(pickle_file)\n",
    "    pickle_file.close()\n",
    "    features=features.reshape(features.shape[0]//8,8,-1)\n",
    "\n",
    "    model=ResModel(features.shape[-1])\n",
    "    version=version+'_fullhead_resmodel'\n",
    "\n",
    "    model.load_state_dict(torch.load(models_dir+models_format.format(model_name,version,num_split),map_location=torch.device(device)))\n",
    "    test_dataset=train_dataset=FullHeadDataset(test_df,\n",
    "                                  test_df.SeriesI.unique(),\n",
    "                                  features,\n",
    "                                  'SeriesI',\n",
    "                                  'ImagePositionZ')\n",
    "    for i in tqdm_notebook(range(32),leave=False):\n",
    "        pred_list.append(model_run(model,test_dataset,do_apex=False,batch_size=128)[...,None])\n",
    "        pred_list_tmp.append(pred_list[-1])\n",
    "pred161=torch.cat(pred_list_tmp,-1).mean(-1)"
   ]
  },
  {
   "cell_type": "code",
   "execution_count": 28,
   "metadata": {},
   "outputs": [
    {
     "data": {
      "application/vnd.jupyter.widget-view+json": {
       "model_id": "8ec02594e65044c3a9dfd87372ce9755",
       "version_major": 2,
       "version_minor": 0
      },
      "text/plain": [
       "HBox(children=(IntProgress(value=0, max=3), HTML(value='')))"
      ]
     },
     "metadata": {},
     "output_type": "display_data"
    },
    {
     "data": {
      "text/plain": [
       "<All keys matched successfully>"
      ]
     },
     "execution_count": 28,
     "metadata": {},
     "output_type": "execute_result"
    },
    {
     "data": {
      "application/vnd.jupyter.widget-view+json": {
       "model_id": "",
       "version_major": 2,
       "version_minor": 0
      },
      "text/plain": [
       "HBox(children=(IntProgress(value=0, max=32), HTML(value='')))"
      ]
     },
     "metadata": {},
     "output_type": "display_data"
    },
    {
     "data": {
      "application/vnd.jupyter.widget-view+json": {
       "model_id": "04bb87a2a87c4070a1785a23de0d68eb",
       "version_major": 2,
       "version_minor": 0
      },
      "text/plain": [
       "HBox(children=(IntProgress(value=0, max=18), HTML(value='')))"
      ]
     },
     "metadata": {},
     "output_type": "display_data"
    },
    {
     "data": {
      "application/vnd.jupyter.widget-view+json": {
       "model_id": "2ca2023a826d46e79208ec16f7f13407",
       "version_major": 2,
       "version_minor": 0
      },
      "text/plain": [
       "HBox(children=(IntProgress(value=0, max=18), HTML(value='')))"
      ]
     },
     "metadata": {},
     "output_type": "display_data"
    },
    {
     "data": {
      "application/vnd.jupyter.widget-view+json": {
       "model_id": "40600483709546529e5f94c69a4ca896",
       "version_major": 2,
       "version_minor": 0
      },
      "text/plain": [
       "HBox(children=(IntProgress(value=0, max=18), HTML(value='')))"
      ]
     },
     "metadata": {},
     "output_type": "display_data"
    },
    {
     "data": {
      "application/vnd.jupyter.widget-view+json": {
       "model_id": "fa2bfc2493a8465da76c38e2219a2540",
       "version_major": 2,
       "version_minor": 0
      },
      "text/plain": [
       "HBox(children=(IntProgress(value=0, max=18), HTML(value='')))"
      ]
     },
     "metadata": {},
     "output_type": "display_data"
    },
    {
     "data": {
      "application/vnd.jupyter.widget-view+json": {
       "model_id": "621c5081b7df45c483278ecb20886c6e",
       "version_major": 2,
       "version_minor": 0
      },
      "text/plain": [
       "HBox(children=(IntProgress(value=0, max=18), HTML(value='')))"
      ]
     },
     "metadata": {},
     "output_type": "display_data"
    },
    {
     "data": {
      "application/vnd.jupyter.widget-view+json": {
       "model_id": "7b025fae09f44081a7a6eb7268ce6682",
       "version_major": 2,
       "version_minor": 0
      },
      "text/plain": [
       "HBox(children=(IntProgress(value=0, max=18), HTML(value='')))"
      ]
     },
     "metadata": {},
     "output_type": "display_data"
    },
    {
     "data": {
      "application/vnd.jupyter.widget-view+json": {
       "model_id": "81a2536822f04eab96183224f84fe0df",
       "version_major": 2,
       "version_minor": 0
      },
      "text/plain": [
       "HBox(children=(IntProgress(value=0, max=18), HTML(value='')))"
      ]
     },
     "metadata": {},
     "output_type": "display_data"
    },
    {
     "data": {
      "application/vnd.jupyter.widget-view+json": {
       "model_id": "c4af0af0e7534ceaa8dc4e85c0a701e1",
       "version_major": 2,
       "version_minor": 0
      },
      "text/plain": [
       "HBox(children=(IntProgress(value=0, max=18), HTML(value='')))"
      ]
     },
     "metadata": {},
     "output_type": "display_data"
    },
    {
     "data": {
      "application/vnd.jupyter.widget-view+json": {
       "model_id": "295b695122da49329da85bb874e2e82a",
       "version_major": 2,
       "version_minor": 0
      },
      "text/plain": [
       "HBox(children=(IntProgress(value=0, max=18), HTML(value='')))"
      ]
     },
     "metadata": {},
     "output_type": "display_data"
    },
    {
     "data": {
      "application/vnd.jupyter.widget-view+json": {
       "model_id": "b6124354442546eeaa991c4b4b525dc0",
       "version_major": 2,
       "version_minor": 0
      },
      "text/plain": [
       "HBox(children=(IntProgress(value=0, max=18), HTML(value='')))"
      ]
     },
     "metadata": {},
     "output_type": "display_data"
    },
    {
     "data": {
      "application/vnd.jupyter.widget-view+json": {
       "model_id": "24134865d0ea40d7b51df6e0d873b3d0",
       "version_major": 2,
       "version_minor": 0
      },
      "text/plain": [
       "HBox(children=(IntProgress(value=0, max=18), HTML(value='')))"
      ]
     },
     "metadata": {},
     "output_type": "display_data"
    },
    {
     "data": {
      "application/vnd.jupyter.widget-view+json": {
       "model_id": "976a7a498c674ba2b2fa8f5710094818",
       "version_major": 2,
       "version_minor": 0
      },
      "text/plain": [
       "HBox(children=(IntProgress(value=0, max=18), HTML(value='')))"
      ]
     },
     "metadata": {},
     "output_type": "display_data"
    },
    {
     "data": {
      "application/vnd.jupyter.widget-view+json": {
       "model_id": "d9347bc565aa4efda47f6c65899a3337",
       "version_major": 2,
       "version_minor": 0
      },
      "text/plain": [
       "HBox(children=(IntProgress(value=0, max=18), HTML(value='')))"
      ]
     },
     "metadata": {},
     "output_type": "display_data"
    },
    {
     "data": {
      "application/vnd.jupyter.widget-view+json": {
       "model_id": "8c6f4c98e5a34df998b737a0720b32c3",
       "version_major": 2,
       "version_minor": 0
      },
      "text/plain": [
       "HBox(children=(IntProgress(value=0, max=18), HTML(value='')))"
      ]
     },
     "metadata": {},
     "output_type": "display_data"
    },
    {
     "data": {
      "application/vnd.jupyter.widget-view+json": {
       "model_id": "7422bb5519ed403fbfb0ac1981d8850c",
       "version_major": 2,
       "version_minor": 0
      },
      "text/plain": [
       "HBox(children=(IntProgress(value=0, max=18), HTML(value='')))"
      ]
     },
     "metadata": {},
     "output_type": "display_data"
    },
    {
     "data": {
      "application/vnd.jupyter.widget-view+json": {
       "model_id": "588d7877bbe1482688309d34524bf2f2",
       "version_major": 2,
       "version_minor": 0
      },
      "text/plain": [
       "HBox(children=(IntProgress(value=0, max=18), HTML(value='')))"
      ]
     },
     "metadata": {},
     "output_type": "display_data"
    },
    {
     "data": {
      "application/vnd.jupyter.widget-view+json": {
       "model_id": "8a31d2a147bb42119e8c032a184608df",
       "version_major": 2,
       "version_minor": 0
      },
      "text/plain": [
       "HBox(children=(IntProgress(value=0, max=18), HTML(value='')))"
      ]
     },
     "metadata": {},
     "output_type": "display_data"
    },
    {
     "data": {
      "application/vnd.jupyter.widget-view+json": {
       "model_id": "9a6d9038ea5d4675998ee7dfcda07de2",
       "version_major": 2,
       "version_minor": 0
      },
      "text/plain": [
       "HBox(children=(IntProgress(value=0, max=18), HTML(value='')))"
      ]
     },
     "metadata": {},
     "output_type": "display_data"
    },
    {
     "data": {
      "application/vnd.jupyter.widget-view+json": {
       "model_id": "b48d9720c8384879ab1c936e33995064",
       "version_major": 2,
       "version_minor": 0
      },
      "text/plain": [
       "HBox(children=(IntProgress(value=0, max=18), HTML(value='')))"
      ]
     },
     "metadata": {},
     "output_type": "display_data"
    },
    {
     "data": {
      "application/vnd.jupyter.widget-view+json": {
       "model_id": "2edb8eff7ad24eff936838cec83e9439",
       "version_major": 2,
       "version_minor": 0
      },
      "text/plain": [
       "HBox(children=(IntProgress(value=0, max=18), HTML(value='')))"
      ]
     },
     "metadata": {},
     "output_type": "display_data"
    },
    {
     "data": {
      "application/vnd.jupyter.widget-view+json": {
       "model_id": "e4ac8edc02aa481f8d2d605e1b410f05",
       "version_major": 2,
       "version_minor": 0
      },
      "text/plain": [
       "HBox(children=(IntProgress(value=0, max=18), HTML(value='')))"
      ]
     },
     "metadata": {},
     "output_type": "display_data"
    },
    {
     "data": {
      "application/vnd.jupyter.widget-view+json": {
       "model_id": "25888bdc15b544fbbe8e0e9d8c21b79c",
       "version_major": 2,
       "version_minor": 0
      },
      "text/plain": [
       "HBox(children=(IntProgress(value=0, max=18), HTML(value='')))"
      ]
     },
     "metadata": {},
     "output_type": "display_data"
    },
    {
     "data": {
      "application/vnd.jupyter.widget-view+json": {
       "model_id": "b8f32bef5d3e4a9c8ea4cd859492bc8f",
       "version_major": 2,
       "version_minor": 0
      },
      "text/plain": [
       "HBox(children=(IntProgress(value=0, max=18), HTML(value='')))"
      ]
     },
     "metadata": {},
     "output_type": "display_data"
    },
    {
     "data": {
      "application/vnd.jupyter.widget-view+json": {
       "model_id": "72f79e6acf94429a8abeb4db2f55934f",
       "version_major": 2,
       "version_minor": 0
      },
      "text/plain": [
       "HBox(children=(IntProgress(value=0, max=18), HTML(value='')))"
      ]
     },
     "metadata": {},
     "output_type": "display_data"
    },
    {
     "data": {
      "application/vnd.jupyter.widget-view+json": {
       "model_id": "5ecd274816fc4c4d88174d0cc5748e56",
       "version_major": 2,
       "version_minor": 0
      },
      "text/plain": [
       "HBox(children=(IntProgress(value=0, max=18), HTML(value='')))"
      ]
     },
     "metadata": {},
     "output_type": "display_data"
    },
    {
     "data": {
      "application/vnd.jupyter.widget-view+json": {
       "model_id": "d7cffa0f964940c2bdcbebdf15d9f43b",
       "version_major": 2,
       "version_minor": 0
      },
      "text/plain": [
       "HBox(children=(IntProgress(value=0, max=18), HTML(value='')))"
      ]
     },
     "metadata": {},
     "output_type": "display_data"
    },
    {
     "data": {
      "application/vnd.jupyter.widget-view+json": {
       "model_id": "69d754882e824d7d9a4c0385aa936c0f",
       "version_major": 2,
       "version_minor": 0
      },
      "text/plain": [
       "HBox(children=(IntProgress(value=0, max=18), HTML(value='')))"
      ]
     },
     "metadata": {},
     "output_type": "display_data"
    },
    {
     "data": {
      "application/vnd.jupyter.widget-view+json": {
       "model_id": "8ca3af81f5ff45d78e14fd1aa8e18534",
       "version_major": 2,
       "version_minor": 0
      },
      "text/plain": [
       "HBox(children=(IntProgress(value=0, max=18), HTML(value='')))"
      ]
     },
     "metadata": {},
     "output_type": "display_data"
    },
    {
     "data": {
      "application/vnd.jupyter.widget-view+json": {
       "model_id": "527138e6ce934ca59a13ce9f3e78d902",
       "version_major": 2,
       "version_minor": 0
      },
      "text/plain": [
       "HBox(children=(IntProgress(value=0, max=18), HTML(value='')))"
      ]
     },
     "metadata": {},
     "output_type": "display_data"
    },
    {
     "data": {
      "application/vnd.jupyter.widget-view+json": {
       "model_id": "c2e8ef01eac7497e8a4b9d72f2fb2a15",
       "version_major": 2,
       "version_minor": 0
      },
      "text/plain": [
       "HBox(children=(IntProgress(value=0, max=18), HTML(value='')))"
      ]
     },
     "metadata": {},
     "output_type": "display_data"
    },
    {
     "data": {
      "application/vnd.jupyter.widget-view+json": {
       "model_id": "3d9c9e303cb1405b845e397b22102d1d",
       "version_major": 2,
       "version_minor": 0
      },
      "text/plain": [
       "HBox(children=(IntProgress(value=0, max=18), HTML(value='')))"
      ]
     },
     "metadata": {},
     "output_type": "display_data"
    },
    {
     "data": {
      "application/vnd.jupyter.widget-view+json": {
       "model_id": "ad3e8665709c4d57a9b5e6c5d9aa1c7e",
       "version_major": 2,
       "version_minor": 0
      },
      "text/plain": [
       "HBox(children=(IntProgress(value=0, max=18), HTML(value='')))"
      ]
     },
     "metadata": {},
     "output_type": "display_data"
    },
    {
     "data": {
      "text/plain": [
       "<All keys matched successfully>"
      ]
     },
     "execution_count": 28,
     "metadata": {},
     "output_type": "execute_result"
    },
    {
     "data": {
      "application/vnd.jupyter.widget-view+json": {
       "model_id": "",
       "version_major": 2,
       "version_minor": 0
      },
      "text/plain": [
       "HBox(children=(IntProgress(value=0, max=32), HTML(value='')))"
      ]
     },
     "metadata": {},
     "output_type": "display_data"
    },
    {
     "data": {
      "application/vnd.jupyter.widget-view+json": {
       "model_id": "8fab92c8a0914eb3a2987786a6fa1212",
       "version_major": 2,
       "version_minor": 0
      },
      "text/plain": [
       "HBox(children=(IntProgress(value=0, max=18), HTML(value='')))"
      ]
     },
     "metadata": {},
     "output_type": "display_data"
    },
    {
     "data": {
      "application/vnd.jupyter.widget-view+json": {
       "model_id": "cdff6bd571714269bbc7e063986c4792",
       "version_major": 2,
       "version_minor": 0
      },
      "text/plain": [
       "HBox(children=(IntProgress(value=0, max=18), HTML(value='')))"
      ]
     },
     "metadata": {},
     "output_type": "display_data"
    },
    {
     "data": {
      "application/vnd.jupyter.widget-view+json": {
       "model_id": "da0b0359b6ac442c9ea8a18a5acaf3fd",
       "version_major": 2,
       "version_minor": 0
      },
      "text/plain": [
       "HBox(children=(IntProgress(value=0, max=18), HTML(value='')))"
      ]
     },
     "metadata": {},
     "output_type": "display_data"
    },
    {
     "data": {
      "application/vnd.jupyter.widget-view+json": {
       "model_id": "270434810d4948e5925e5ac078724ed2",
       "version_major": 2,
       "version_minor": 0
      },
      "text/plain": [
       "HBox(children=(IntProgress(value=0, max=18), HTML(value='')))"
      ]
     },
     "metadata": {},
     "output_type": "display_data"
    },
    {
     "data": {
      "application/vnd.jupyter.widget-view+json": {
       "model_id": "7a35eff684c54443a42759d29c2fe371",
       "version_major": 2,
       "version_minor": 0
      },
      "text/plain": [
       "HBox(children=(IntProgress(value=0, max=18), HTML(value='')))"
      ]
     },
     "metadata": {},
     "output_type": "display_data"
    },
    {
     "data": {
      "application/vnd.jupyter.widget-view+json": {
       "model_id": "c168458feb514ee38ea7b2a387839bf2",
       "version_major": 2,
       "version_minor": 0
      },
      "text/plain": [
       "HBox(children=(IntProgress(value=0, max=18), HTML(value='')))"
      ]
     },
     "metadata": {},
     "output_type": "display_data"
    },
    {
     "data": {
      "application/vnd.jupyter.widget-view+json": {
       "model_id": "60884c7ed04a4af9bc56450748694268",
       "version_major": 2,
       "version_minor": 0
      },
      "text/plain": [
       "HBox(children=(IntProgress(value=0, max=18), HTML(value='')))"
      ]
     },
     "metadata": {},
     "output_type": "display_data"
    },
    {
     "data": {
      "application/vnd.jupyter.widget-view+json": {
       "model_id": "1a75cc1a941c424593a04f8049c043fd",
       "version_major": 2,
       "version_minor": 0
      },
      "text/plain": [
       "HBox(children=(IntProgress(value=0, max=18), HTML(value='')))"
      ]
     },
     "metadata": {},
     "output_type": "display_data"
    },
    {
     "data": {
      "application/vnd.jupyter.widget-view+json": {
       "model_id": "22a815e0cdb14aa287b38c02cfa4af10",
       "version_major": 2,
       "version_minor": 0
      },
      "text/plain": [
       "HBox(children=(IntProgress(value=0, max=18), HTML(value='')))"
      ]
     },
     "metadata": {},
     "output_type": "display_data"
    },
    {
     "data": {
      "application/vnd.jupyter.widget-view+json": {
       "model_id": "e56c6be08ec64a39bcd34c6be3df2208",
       "version_major": 2,
       "version_minor": 0
      },
      "text/plain": [
       "HBox(children=(IntProgress(value=0, max=18), HTML(value='')))"
      ]
     },
     "metadata": {},
     "output_type": "display_data"
    },
    {
     "data": {
      "application/vnd.jupyter.widget-view+json": {
       "model_id": "e43065af48ce4e97a38bac8de6cb5a76",
       "version_major": 2,
       "version_minor": 0
      },
      "text/plain": [
       "HBox(children=(IntProgress(value=0, max=18), HTML(value='')))"
      ]
     },
     "metadata": {},
     "output_type": "display_data"
    },
    {
     "data": {
      "application/vnd.jupyter.widget-view+json": {
       "model_id": "74fee05c61d543edadc2345202133e3d",
       "version_major": 2,
       "version_minor": 0
      },
      "text/plain": [
       "HBox(children=(IntProgress(value=0, max=18), HTML(value='')))"
      ]
     },
     "metadata": {},
     "output_type": "display_data"
    },
    {
     "data": {
      "application/vnd.jupyter.widget-view+json": {
       "model_id": "a08055f7f17e469a91268047abb9e97d",
       "version_major": 2,
       "version_minor": 0
      },
      "text/plain": [
       "HBox(children=(IntProgress(value=0, max=18), HTML(value='')))"
      ]
     },
     "metadata": {},
     "output_type": "display_data"
    },
    {
     "data": {
      "application/vnd.jupyter.widget-view+json": {
       "model_id": "05830ddbd1d04b779124c926bd1e66c7",
       "version_major": 2,
       "version_minor": 0
      },
      "text/plain": [
       "HBox(children=(IntProgress(value=0, max=18), HTML(value='')))"
      ]
     },
     "metadata": {},
     "output_type": "display_data"
    },
    {
     "data": {
      "application/vnd.jupyter.widget-view+json": {
       "model_id": "ffba2f69f2bd4985a702145e5374a623",
       "version_major": 2,
       "version_minor": 0
      },
      "text/plain": [
       "HBox(children=(IntProgress(value=0, max=18), HTML(value='')))"
      ]
     },
     "metadata": {},
     "output_type": "display_data"
    },
    {
     "data": {
      "application/vnd.jupyter.widget-view+json": {
       "model_id": "b561334740564a68b2abde24672d1a32",
       "version_major": 2,
       "version_minor": 0
      },
      "text/plain": [
       "HBox(children=(IntProgress(value=0, max=18), HTML(value='')))"
      ]
     },
     "metadata": {},
     "output_type": "display_data"
    },
    {
     "data": {
      "application/vnd.jupyter.widget-view+json": {
       "model_id": "efcb530ea91040138dc30de0c0abac7f",
       "version_major": 2,
       "version_minor": 0
      },
      "text/plain": [
       "HBox(children=(IntProgress(value=0, max=18), HTML(value='')))"
      ]
     },
     "metadata": {},
     "output_type": "display_data"
    },
    {
     "data": {
      "application/vnd.jupyter.widget-view+json": {
       "model_id": "214d08d5cfe7479483ebff74b93778c5",
       "version_major": 2,
       "version_minor": 0
      },
      "text/plain": [
       "HBox(children=(IntProgress(value=0, max=18), HTML(value='')))"
      ]
     },
     "metadata": {},
     "output_type": "display_data"
    },
    {
     "data": {
      "application/vnd.jupyter.widget-view+json": {
       "model_id": "788bf50345da4850aff48d00a57bd54f",
       "version_major": 2,
       "version_minor": 0
      },
      "text/plain": [
       "HBox(children=(IntProgress(value=0, max=18), HTML(value='')))"
      ]
     },
     "metadata": {},
     "output_type": "display_data"
    },
    {
     "data": {
      "application/vnd.jupyter.widget-view+json": {
       "model_id": "13e5c47e1c974f469f0ab1d32badf974",
       "version_major": 2,
       "version_minor": 0
      },
      "text/plain": [
       "HBox(children=(IntProgress(value=0, max=18), HTML(value='')))"
      ]
     },
     "metadata": {},
     "output_type": "display_data"
    },
    {
     "data": {
      "application/vnd.jupyter.widget-view+json": {
       "model_id": "7f520bf09e954fbc8059c972dc856c98",
       "version_major": 2,
       "version_minor": 0
      },
      "text/plain": [
       "HBox(children=(IntProgress(value=0, max=18), HTML(value='')))"
      ]
     },
     "metadata": {},
     "output_type": "display_data"
    },
    {
     "data": {
      "application/vnd.jupyter.widget-view+json": {
       "model_id": "5d2f3ce18fc043ed9ffc9bc1ff2ce70d",
       "version_major": 2,
       "version_minor": 0
      },
      "text/plain": [
       "HBox(children=(IntProgress(value=0, max=18), HTML(value='')))"
      ]
     },
     "metadata": {},
     "output_type": "display_data"
    },
    {
     "data": {
      "application/vnd.jupyter.widget-view+json": {
       "model_id": "b90aac6f499e482197f7eade4320690f",
       "version_major": 2,
       "version_minor": 0
      },
      "text/plain": [
       "HBox(children=(IntProgress(value=0, max=18), HTML(value='')))"
      ]
     },
     "metadata": {},
     "output_type": "display_data"
    },
    {
     "data": {
      "application/vnd.jupyter.widget-view+json": {
       "model_id": "965f19fca77a48208ff6cadce4085023",
       "version_major": 2,
       "version_minor": 0
      },
      "text/plain": [
       "HBox(children=(IntProgress(value=0, max=18), HTML(value='')))"
      ]
     },
     "metadata": {},
     "output_type": "display_data"
    },
    {
     "data": {
      "application/vnd.jupyter.widget-view+json": {
       "model_id": "844e5640bc9b4bc88318781dc07e58a3",
       "version_major": 2,
       "version_minor": 0
      },
      "text/plain": [
       "HBox(children=(IntProgress(value=0, max=18), HTML(value='')))"
      ]
     },
     "metadata": {},
     "output_type": "display_data"
    },
    {
     "data": {
      "application/vnd.jupyter.widget-view+json": {
       "model_id": "14013a86c45044bf9a64612579c2dace",
       "version_major": 2,
       "version_minor": 0
      },
      "text/plain": [
       "HBox(children=(IntProgress(value=0, max=18), HTML(value='')))"
      ]
     },
     "metadata": {},
     "output_type": "display_data"
    },
    {
     "data": {
      "application/vnd.jupyter.widget-view+json": {
       "model_id": "592cc25f6b974161b779c4d54ee731e4",
       "version_major": 2,
       "version_minor": 0
      },
      "text/plain": [
       "HBox(children=(IntProgress(value=0, max=18), HTML(value='')))"
      ]
     },
     "metadata": {},
     "output_type": "display_data"
    },
    {
     "data": {
      "application/vnd.jupyter.widget-view+json": {
       "model_id": "3b0284b10cae40e698f93ab06831f8aa",
       "version_major": 2,
       "version_minor": 0
      },
      "text/plain": [
       "HBox(children=(IntProgress(value=0, max=18), HTML(value='')))"
      ]
     },
     "metadata": {},
     "output_type": "display_data"
    },
    {
     "data": {
      "application/vnd.jupyter.widget-view+json": {
       "model_id": "f5c7be29ce9b4c06a1286fac16aa6635",
       "version_major": 2,
       "version_minor": 0
      },
      "text/plain": [
       "HBox(children=(IntProgress(value=0, max=18), HTML(value='')))"
      ]
     },
     "metadata": {},
     "output_type": "display_data"
    },
    {
     "data": {
      "application/vnd.jupyter.widget-view+json": {
       "model_id": "c68efa7996864e7f85250f13003ff161",
       "version_major": 2,
       "version_minor": 0
      },
      "text/plain": [
       "HBox(children=(IntProgress(value=0, max=18), HTML(value='')))"
      ]
     },
     "metadata": {},
     "output_type": "display_data"
    },
    {
     "data": {
      "application/vnd.jupyter.widget-view+json": {
       "model_id": "a4445d0ab91946a3b65ccf9c2c4be538",
       "version_major": 2,
       "version_minor": 0
      },
      "text/plain": [
       "HBox(children=(IntProgress(value=0, max=18), HTML(value='')))"
      ]
     },
     "metadata": {},
     "output_type": "display_data"
    },
    {
     "data": {
      "application/vnd.jupyter.widget-view+json": {
       "model_id": "3d89f5c931f2415f899973165ef3b4c2",
       "version_major": 2,
       "version_minor": 0
      },
      "text/plain": [
       "HBox(children=(IntProgress(value=0, max=18), HTML(value='')))"
      ]
     },
     "metadata": {},
     "output_type": "display_data"
    },
    {
     "data": {
      "text/plain": [
       "<All keys matched successfully>"
      ]
     },
     "execution_count": 28,
     "metadata": {},
     "output_type": "execute_result"
    },
    {
     "data": {
      "application/vnd.jupyter.widget-view+json": {
       "model_id": "",
       "version_major": 2,
       "version_minor": 0
      },
      "text/plain": [
       "HBox(children=(IntProgress(value=0, max=32), HTML(value='')))"
      ]
     },
     "metadata": {},
     "output_type": "display_data"
    },
    {
     "data": {
      "application/vnd.jupyter.widget-view+json": {
       "model_id": "c508e850746447688db29c88cb3b54f8",
       "version_major": 2,
       "version_minor": 0
      },
      "text/plain": [
       "HBox(children=(IntProgress(value=0, max=18), HTML(value='')))"
      ]
     },
     "metadata": {},
     "output_type": "display_data"
    },
    {
     "data": {
      "application/vnd.jupyter.widget-view+json": {
       "model_id": "ca1a8537bf8d4fc7b146cea7553e3b9d",
       "version_major": 2,
       "version_minor": 0
      },
      "text/plain": [
       "HBox(children=(IntProgress(value=0, max=18), HTML(value='')))"
      ]
     },
     "metadata": {},
     "output_type": "display_data"
    },
    {
     "data": {
      "application/vnd.jupyter.widget-view+json": {
       "model_id": "9b0b913289eb4e8e8bfb17400501cabe",
       "version_major": 2,
       "version_minor": 0
      },
      "text/plain": [
       "HBox(children=(IntProgress(value=0, max=18), HTML(value='')))"
      ]
     },
     "metadata": {},
     "output_type": "display_data"
    },
    {
     "data": {
      "application/vnd.jupyter.widget-view+json": {
       "model_id": "eef171e293c847cfaec52b2d3fe1288e",
       "version_major": 2,
       "version_minor": 0
      },
      "text/plain": [
       "HBox(children=(IntProgress(value=0, max=18), HTML(value='')))"
      ]
     },
     "metadata": {},
     "output_type": "display_data"
    },
    {
     "data": {
      "application/vnd.jupyter.widget-view+json": {
       "model_id": "ab2b8d6ba0c74375b187b8110a41bc1b",
       "version_major": 2,
       "version_minor": 0
      },
      "text/plain": [
       "HBox(children=(IntProgress(value=0, max=18), HTML(value='')))"
      ]
     },
     "metadata": {},
     "output_type": "display_data"
    },
    {
     "data": {
      "application/vnd.jupyter.widget-view+json": {
       "model_id": "4035b82aefd1441cbc02e87f2802483b",
       "version_major": 2,
       "version_minor": 0
      },
      "text/plain": [
       "HBox(children=(IntProgress(value=0, max=18), HTML(value='')))"
      ]
     },
     "metadata": {},
     "output_type": "display_data"
    },
    {
     "data": {
      "application/vnd.jupyter.widget-view+json": {
       "model_id": "8733b3c4c2d64b85b86f9ff2cb8e921d",
       "version_major": 2,
       "version_minor": 0
      },
      "text/plain": [
       "HBox(children=(IntProgress(value=0, max=18), HTML(value='')))"
      ]
     },
     "metadata": {},
     "output_type": "display_data"
    },
    {
     "data": {
      "application/vnd.jupyter.widget-view+json": {
       "model_id": "ff6637e5b18b467aae4b3f3b72a6a188",
       "version_major": 2,
       "version_minor": 0
      },
      "text/plain": [
       "HBox(children=(IntProgress(value=0, max=18), HTML(value='')))"
      ]
     },
     "metadata": {},
     "output_type": "display_data"
    },
    {
     "data": {
      "application/vnd.jupyter.widget-view+json": {
       "model_id": "d04c16b034d046c39215b316abafa3fa",
       "version_major": 2,
       "version_minor": 0
      },
      "text/plain": [
       "HBox(children=(IntProgress(value=0, max=18), HTML(value='')))"
      ]
     },
     "metadata": {},
     "output_type": "display_data"
    },
    {
     "data": {
      "application/vnd.jupyter.widget-view+json": {
       "model_id": "2d147ad93c1c4207abd94369c91db7d0",
       "version_major": 2,
       "version_minor": 0
      },
      "text/plain": [
       "HBox(children=(IntProgress(value=0, max=18), HTML(value='')))"
      ]
     },
     "metadata": {},
     "output_type": "display_data"
    },
    {
     "data": {
      "application/vnd.jupyter.widget-view+json": {
       "model_id": "61010bdf071a49118661c9b37a9c5ce0",
       "version_major": 2,
       "version_minor": 0
      },
      "text/plain": [
       "HBox(children=(IntProgress(value=0, max=18), HTML(value='')))"
      ]
     },
     "metadata": {},
     "output_type": "display_data"
    },
    {
     "data": {
      "application/vnd.jupyter.widget-view+json": {
       "model_id": "4dccaa2531d54c64b9795ac8db2ab423",
       "version_major": 2,
       "version_minor": 0
      },
      "text/plain": [
       "HBox(children=(IntProgress(value=0, max=18), HTML(value='')))"
      ]
     },
     "metadata": {},
     "output_type": "display_data"
    },
    {
     "data": {
      "application/vnd.jupyter.widget-view+json": {
       "model_id": "e6398cfe74954e6f97837c5592db1827",
       "version_major": 2,
       "version_minor": 0
      },
      "text/plain": [
       "HBox(children=(IntProgress(value=0, max=18), HTML(value='')))"
      ]
     },
     "metadata": {},
     "output_type": "display_data"
    },
    {
     "data": {
      "application/vnd.jupyter.widget-view+json": {
       "model_id": "9f6d467295584d3fae116fd147fb6fcf",
       "version_major": 2,
       "version_minor": 0
      },
      "text/plain": [
       "HBox(children=(IntProgress(value=0, max=18), HTML(value='')))"
      ]
     },
     "metadata": {},
     "output_type": "display_data"
    },
    {
     "data": {
      "application/vnd.jupyter.widget-view+json": {
       "model_id": "192b54383ece447eb7c0fcfc25804331",
       "version_major": 2,
       "version_minor": 0
      },
      "text/plain": [
       "HBox(children=(IntProgress(value=0, max=18), HTML(value='')))"
      ]
     },
     "metadata": {},
     "output_type": "display_data"
    },
    {
     "data": {
      "application/vnd.jupyter.widget-view+json": {
       "model_id": "5d8cb9a5743e4e4c946bbc7a5d543d20",
       "version_major": 2,
       "version_minor": 0
      },
      "text/plain": [
       "HBox(children=(IntProgress(value=0, max=18), HTML(value='')))"
      ]
     },
     "metadata": {},
     "output_type": "display_data"
    },
    {
     "data": {
      "application/vnd.jupyter.widget-view+json": {
       "model_id": "bfdc570a171f497fa5a5cd7fe7ba7bd5",
       "version_major": 2,
       "version_minor": 0
      },
      "text/plain": [
       "HBox(children=(IntProgress(value=0, max=18), HTML(value='')))"
      ]
     },
     "metadata": {},
     "output_type": "display_data"
    },
    {
     "data": {
      "application/vnd.jupyter.widget-view+json": {
       "model_id": "e48c7ca6d65e44468df21ef290ebe98a",
       "version_major": 2,
       "version_minor": 0
      },
      "text/plain": [
       "HBox(children=(IntProgress(value=0, max=18), HTML(value='')))"
      ]
     },
     "metadata": {},
     "output_type": "display_data"
    },
    {
     "data": {
      "application/vnd.jupyter.widget-view+json": {
       "model_id": "0da5160342084883b8ea92dd78a04766",
       "version_major": 2,
       "version_minor": 0
      },
      "text/plain": [
       "HBox(children=(IntProgress(value=0, max=18), HTML(value='')))"
      ]
     },
     "metadata": {},
     "output_type": "display_data"
    },
    {
     "data": {
      "application/vnd.jupyter.widget-view+json": {
       "model_id": "60c56c8c116e4364af4f73f8c9f1c59b",
       "version_major": 2,
       "version_minor": 0
      },
      "text/plain": [
       "HBox(children=(IntProgress(value=0, max=18), HTML(value='')))"
      ]
     },
     "metadata": {},
     "output_type": "display_data"
    },
    {
     "data": {
      "application/vnd.jupyter.widget-view+json": {
       "model_id": "e522e1753bd84e65b749d2d8780da2a4",
       "version_major": 2,
       "version_minor": 0
      },
      "text/plain": [
       "HBox(children=(IntProgress(value=0, max=18), HTML(value='')))"
      ]
     },
     "metadata": {},
     "output_type": "display_data"
    },
    {
     "data": {
      "application/vnd.jupyter.widget-view+json": {
       "model_id": "fd962d223b7942bfb81d04102cb9022c",
       "version_major": 2,
       "version_minor": 0
      },
      "text/plain": [
       "HBox(children=(IntProgress(value=0, max=18), HTML(value='')))"
      ]
     },
     "metadata": {},
     "output_type": "display_data"
    },
    {
     "data": {
      "application/vnd.jupyter.widget-view+json": {
       "model_id": "c618e584d6e048b19b32b8089171e273",
       "version_major": 2,
       "version_minor": 0
      },
      "text/plain": [
       "HBox(children=(IntProgress(value=0, max=18), HTML(value='')))"
      ]
     },
     "metadata": {},
     "output_type": "display_data"
    },
    {
     "data": {
      "application/vnd.jupyter.widget-view+json": {
       "model_id": "aee1cffbda69420184efbd8386d31d62",
       "version_major": 2,
       "version_minor": 0
      },
      "text/plain": [
       "HBox(children=(IntProgress(value=0, max=18), HTML(value='')))"
      ]
     },
     "metadata": {},
     "output_type": "display_data"
    },
    {
     "data": {
      "application/vnd.jupyter.widget-view+json": {
       "model_id": "f16094dc4c9e45f49aedf26c1a0e5f35",
       "version_major": 2,
       "version_minor": 0
      },
      "text/plain": [
       "HBox(children=(IntProgress(value=0, max=18), HTML(value='')))"
      ]
     },
     "metadata": {},
     "output_type": "display_data"
    },
    {
     "data": {
      "application/vnd.jupyter.widget-view+json": {
       "model_id": "19bcde53575046ce9fb24507503a326c",
       "version_major": 2,
       "version_minor": 0
      },
      "text/plain": [
       "HBox(children=(IntProgress(value=0, max=18), HTML(value='')))"
      ]
     },
     "metadata": {},
     "output_type": "display_data"
    },
    {
     "data": {
      "application/vnd.jupyter.widget-view+json": {
       "model_id": "c98fdd814c2245688aa682236524673f",
       "version_major": 2,
       "version_minor": 0
      },
      "text/plain": [
       "HBox(children=(IntProgress(value=0, max=18), HTML(value='')))"
      ]
     },
     "metadata": {},
     "output_type": "display_data"
    },
    {
     "data": {
      "application/vnd.jupyter.widget-view+json": {
       "model_id": "8909263cf875437e9e2a29fc12d72283",
       "version_major": 2,
       "version_minor": 0
      },
      "text/plain": [
       "HBox(children=(IntProgress(value=0, max=18), HTML(value='')))"
      ]
     },
     "metadata": {},
     "output_type": "display_data"
    },
    {
     "data": {
      "application/vnd.jupyter.widget-view+json": {
       "model_id": "a453d9f28796493f90e23496164db6a8",
       "version_major": 2,
       "version_minor": 0
      },
      "text/plain": [
       "HBox(children=(IntProgress(value=0, max=18), HTML(value='')))"
      ]
     },
     "metadata": {},
     "output_type": "display_data"
    },
    {
     "data": {
      "application/vnd.jupyter.widget-view+json": {
       "model_id": "46107755faae46c686a35ed3cd4baa2e",
       "version_major": 2,
       "version_minor": 0
      },
      "text/plain": [
       "HBox(children=(IntProgress(value=0, max=18), HTML(value='')))"
      ]
     },
     "metadata": {},
     "output_type": "display_data"
    },
    {
     "data": {
      "application/vnd.jupyter.widget-view+json": {
       "model_id": "fd281c9ea5334a73ada8ba439a0d71cc",
       "version_major": 2,
       "version_minor": 0
      },
      "text/plain": [
       "HBox(children=(IntProgress(value=0, max=18), HTML(value='')))"
      ]
     },
     "metadata": {},
     "output_type": "display_data"
    },
    {
     "data": {
      "application/vnd.jupyter.widget-view+json": {
       "model_id": "6522cd4b6b72494d977f1f45505838b7",
       "version_major": 2,
       "version_minor": 0
      },
      "text/plain": [
       "HBox(children=(IntProgress(value=0, max=18), HTML(value='')))"
      ]
     },
     "metadata": {},
     "output_type": "display_data"
    },
    {
     "name": "stdout",
     "output_type": "stream",
     "text": [
      "\n"
     ]
    }
   ],
   "source": [
    "pred_list_tmp=[]\n",
    "for num_split in tqdm_notebook(range(3)):\n",
    "    model_name,version = 'Densenet201_3' , 'classifier_splits'\n",
    "    pickle_file=open(outputs_dir+outputs_format.format(model_name,version,'features_test',num_split),'rb')\n",
    "    features=pickle.load(pickle_file)\n",
    "    pickle_file.close()\n",
    "    features=features.reshape(features.shape[0]//8,8,-1)\n",
    "\n",
    "    model=ResModel(features.shape[-1])\n",
    "    version=version+'_fullhead_resmodel'\n",
    "\n",
    "    model.load_state_dict(torch.load(models_dir+models_format.format(model_name,version,num_split),map_location=torch.device(device)))\n",
    "    test_dataset=train_dataset=FullHeadDataset(test_df,\n",
    "                                  test_df.SeriesI.unique(),\n",
    "                                  features,\n",
    "                                  'SeriesI',\n",
    "                                  'ImagePositionZ')\n",
    "    for i in tqdm_notebook(range(32),leave=False):\n",
    "        pred_list.append(model_run(model,test_dataset,do_apex=False,batch_size=128)[...,None])\n",
    "        pred_list_tmp.append(pred_list[-1])\n",
    "pred201=torch.cat(pred_list_tmp,-1).mean(-1)"
   ]
  },
  {
   "cell_type": "code",
   "execution_count": 29,
   "metadata": {},
   "outputs": [],
   "source": [
    "pred = torch.cat(pred_list,-1).mean(-1)"
   ]
  },
  {
   "cell_type": "code",
   "execution_count": 30,
   "metadata": {},
   "outputs": [
    {
     "data": {
      "text/plain": [
       "288"
      ]
     },
     "execution_count": 30,
     "metadata": {},
     "output_type": "execute_result"
    }
   ],
   "source": [
    "len(pred_list)"
   ]
  },
  {
   "cell_type": "code",
   "execution_count": 31,
   "metadata": {},
   "outputs": [
    {
     "data": {
      "application/vnd.jupyter.widget-view+json": {
       "model_id": "8350f90568ed4be1aba13e3e0d594ad8",
       "version_major": 2,
       "version_minor": 0
      },
      "text/plain": [
       "HBox(children=(IntProgress(value=0, max=2214), HTML(value='')))"
      ]
     },
     "metadata": {},
     "output_type": "display_data"
    },
    {
     "name": "stdout",
     "output_type": "stream",
     "text": [
      "\n"
     ]
    },
    {
     "data": {
      "text/plain": [
       "(78545,)"
      ]
     },
     "execution_count": 31,
     "metadata": {},
     "output_type": "execute_result"
    },
    {
     "data": {
      "text/plain": [
       "(78545, 6)"
      ]
     },
     "execution_count": 31,
     "metadata": {},
     "output_type": "execute_result"
    }
   ],
   "source": [
    "images_id_list=[]\n",
    "dummeys=[]\n",
    "image_arr=test_df.PatientID.values\n",
    "ref_arr=test_df.SeriesI.values\n",
    "order_arr=test_df.ImagePositionZ.values\n",
    "for s in tqdm_notebook(test_df.SeriesI.unique()):\n",
    "    dumm=np.zeros(60)\n",
    "    head_idx = np.where(ref_arr==s)[0]\n",
    "    sorted_head_idx=head_idx[np.argsort(order_arr[head_idx])]\n",
    "    images_id_list.append(image_arr[sorted_head_idx])\n",
    "    dumm[0:head_idx.shape[0]]=1\n",
    "    dummeys.append(dumm)\n",
    "image_ids=np.concatenate(images_id_list)\n",
    "preds=pred.reshape(pred.shape[0]*pred.shape[1],6).numpy()[np.concatenate(dummeys)==1]\n",
    "\n",
    "image_ids.shape\n",
    "\n",
    "preds.shape"
   ]
  },
  {
   "cell_type": "code",
   "execution_count": null,
   "metadata": {},
   "outputs": [],
   "source": [
    "len(pred_list)"
   ]
  },
  {
   "cell_type": "code",
   "execution_count": null,
   "metadata": {},
   "outputs": [],
   "source": [
    "preds2=preds"
   ]
  },
  {
   "cell_type": "code",
   "execution_count": null,
   "metadata": {},
   "outputs": [],
   "source": [
    "%matplotlib nbagg\n",
    "num_neighbors=2\n",
    "model_name,version, num_split = 'Densenet169_3' , 'basic_classifier_wso',2\n",
    "pickle_file=open(outputs_dir+outputs_format.format(model_name,version,'features_train_tta',num_split),'rb')\n",
    "features=pickle.load(pickle_file)\n",
    "pickle_file.close()\n",
    "features.shape\n",
    "\n",
    "features=features.reshape(features.shape[0]//4,4,-1)\n",
    "features.shape\n",
    "\n",
    "features=features[np.where(~dup)]\n",
    "features.shape[0]\n",
    "\n",
    "np.random.seed(SEED+num_split)\n",
    "torch.manual_seed(SEED+num_split)\n",
    "torch.cuda.manual_seed(SEED+num_split)\n",
    "torch.backends.cudnn.deterministic = True\n",
    "batch_size=16\n",
    "num_workers=4\n",
    "\n",
    "#model0 = MyDenseNet(models.densenet161(pretrained=True),len(hemorrhage_types),num_channels=3)\n",
    "#model0.load_state_dict(torch.load(models_dir+models_format.format(model_name,version,num_split),map_location=torch.device(device)))\n",
    "#_=model0.to('cpu')\n",
    "weights = torch.tensor([1.,1.,1.,1.,1.,2.],device=device)\n",
    "train_dataset=FullHeadDataset(train_df,\n",
    "                              split_train,\n",
    "                              features,\n",
    "                              'SeriesI',\n",
    "                              'ImagePositionZ',\n",
    "                              hemorrhage_types)                \n",
    "validate_dataset=FullHeadDataset(train_df,\n",
    "                                 split_val,\n",
    "                                 features[:,0,:],\n",
    "                                 'SeriesI',\n",
    "                                 'ImagePositionZ',\n",
    "                                 hemorrhage_types)                \n",
    "\n",
    "model=SimpleModel2(features.shape[-1])\n",
    "num_epochs=13\n",
    "version='basic_classifier_wso_tta'+'_fullhead_SimpleModel2'\n",
    "_=model.to(device)\n",
    "\n",
    "loss_func=my_loss\n",
    "fig,ax = plt.subplots(figsize=(10,7))\n",
    "gr=loss_graph(fig,ax,num_epochs,len(train_dataset)//batch_size+1)\n",
    "#num_train_optimization_steps = num_epochs*(sample_ratio*len(train_dataset)//batch_size+int(len(train_dataset)%batch_size>0))\n",
    "#sched=WarmupExpCosineWithWarmupRestartsSchedule( t_total=num_train_optimization_steps, cycles=num_epochs,tau=0)\n",
    "param_optimizer = model.parameters()\n",
    "optimizer = torch.optim.Adam(param_optimizer, lr=0.0005)\n",
    "history,best_model= model_train(model,\n",
    "                                optimizer,\n",
    "                                train_dataset,\n",
    "                                batch_size,\n",
    "                                num_epochs,\n",
    "                                loss_func,\n",
    "                                weights=weights,\n",
    "                                do_apex=False,\n",
    "                                validate_dataset=validate_dataset,\n",
    "                                param_schedualer=None,\n",
    "                                weights_data=None,\n",
    "                                metric=Metric(torch.tensor([1.,1.,1.,1.,1.,2.])),\n",
    "                                return_model=True,\n",
    "                                num_workers=num_workers,\n",
    "                                sampler=None,\n",
    "                                graph=gr)\n",
    "torch.save(best_model.state_dict(), models_dir+models_format.format(model_name,version,num_split))"
   ]
  },
  {
   "cell_type": "code",
   "execution_count": null,
   "metadata": {},
   "outputs": [],
   "source": [
    "\n",
    "model_name,version, num_split = 'Densenet169_3' , 'basic_classifier_wso',2\n",
    "pickle_file=open(outputs_dir+outputs_format.format(model_name,version,'features_test_tta',num_split),'rb')\n",
    "features=pickle.load(pickle_file)\n",
    "pickle_file.close()\n",
    "features=features.reshape(features.shape[0]//8,8,-1)\n",
    "version=version+'_tta_fullhead_SimpleModel2'\n",
    "model=SimpleModel2(features.shape[-1])\n",
    "\n",
    "model.load_state_dict(torch.load(models_dir+models_format.format(model_name,version,num_split),map_location=torch.device(device)))\n",
    "test_dataset=train_dataset=FullHeadDataset(test_df,\n",
    "                              test_df.SeriesI.unique(),\n",
    "                              features,\n",
    "                              'SeriesI',\n",
    "                              'ImagePositionZ')\n",
    "pred_list=[]\n",
    "for i in tqdm_notebook(range(32)):\n",
    "    pred_list.append(model_run(model,test_dataset,do_apex=False,batch_size=128)[...,None])\n",
    "pred=torch.cat(pred_list,-1).mean(-1)"
   ]
  },
  {
   "cell_type": "code",
   "execution_count": null,
   "metadata": {},
   "outputs": [],
   "source": [
    "images_id_list=[]\n",
    "dummeys=[]\n",
    "image_arr=test_df.PatientID.values\n",
    "ref_arr=test_df.SeriesI.values\n",
    "order_arr=test_df.ImagePositionZ.values\n",
    "for s in tqdm_notebook(test_df.SeriesI.unique()):\n",
    "    dumm=np.zeros(60)\n",
    "    head_idx = np.where(ref_arr==s)[0]\n",
    "    sorted_head_idx=head_idx[np.argsort(order_arr[head_idx])]\n",
    "    images_id_list.append(image_arr[sorted_head_idx])\n",
    "    dumm[0:head_idx.shape[0]]=1\n",
    "    dummeys.append(dumm)\n",
    "image_ids=np.concatenate(images_id_list)\n",
    "preds=pred.reshape(pred.shape[0]*pred.shape[1],6).numpy()[np.concatenate(dummeys)==1]\n",
    "\n",
    "image_ids.shape\n",
    "\n",
    "preds.shape"
   ]
  },
  {
   "cell_type": "code",
   "execution_count": null,
   "metadata": {
    "scrolled": false
   },
   "outputs": [],
   "source": [
    "%matplotlib nbagg\n",
    "num_neighbors=2\n",
    "model_name,version, num_split = 'Densenet169_3' , 'basic_classifier_wso',2\n",
    "pickle_file=open(outputs_dir+outputs_format.format(model_name,version,'features_train_tta',num_split),'rb')\n",
    "features=pickle.load(pickle_file)\n",
    "pickle_file.close()\n",
    "features.shape\n",
    "\n",
    "features=features.reshape(features.shape[0]//4,4,-1)\n",
    "features.shape\n",
    "\n",
    "features=features[np.where(~dup)]\n",
    "features.shape[0]\n",
    "\n",
    "np.random.seed(SEED+num_split)\n",
    "torch.manual_seed(SEED+num_split)\n",
    "torch.cuda.manual_seed(SEED+num_split)\n",
    "torch.backends.cudnn.deterministic = True\n",
    "batch_size=16\n",
    "num_workers=2\n",
    "\n",
    "#model0 = MyDenseNet(models.densenet161(pretrained=True),len(hemorrhage_types),num_channels=3)\n",
    "#model0.load_state_dict(torch.load(models_dir+models_format.format(model_name,version,num_split),map_location=torch.device(device)))\n",
    "#_=model0.to('cpu')\n",
    "weights = torch.tensor([1.,1.,1.,1.,1.,2.],device=device)\n",
    "train_dataset=FullHeadDataset(train_df,\n",
    "                              split_train,\n",
    "                              features,\n",
    "                              'SeriesI',\n",
    "                              'ImagePositionZ',\n",
    "                              hemorrhage_types)                \n",
    "validate_dataset=FullHeadDataset(train_df,\n",
    "                                 split_val,\n",
    "                                 features[:,0,:],\n",
    "                                 'SeriesI',\n",
    "                                 'ImagePositionZ',\n",
    "                                 hemorrhage_types)                \n",
    "\n",
    "model=ResModel(features.shape[-1])\n",
    "num_epochs=13\n",
    "version='basic_classifier_wso_tta'+'_fullhead_ResModel'\n",
    "_=model.to(device)\n",
    "\n",
    "loss_func=my_loss\n",
    "fig,ax = plt.subplots(figsize=(10,7))\n",
    "gr=loss_graph(fig,ax,num_epochs,len(train_dataset)//batch_size+1)\n",
    "#num_train_optimization_steps = num_epochs*(sample_ratio*len(train_dataset)//batch_size+int(len(train_dataset)%batch_size>0))\n",
    "#sched=WarmupExpCosineWithWarmupRestartsSchedule( t_total=num_train_optimization_steps, cycles=num_epochs,tau=0)\n",
    "param_optimizer = model.parameters()\n",
    "optimizer = torch.optim.Adam(param_optimizer, lr=0.0005)\n",
    "history,best_model= model_train(model,\n",
    "                                optimizer,\n",
    "                                train_dataset,\n",
    "                                batch_size,\n",
    "                                num_epochs,\n",
    "                                loss_func,\n",
    "                                weights=weights,\n",
    "                                do_apex=False,\n",
    "                                validate_dataset=validate_dataset,\n",
    "                                param_schedualer=None,\n",
    "                                weights_data=None,\n",
    "                                metric=Metric(torch.tensor([1.,1.,1.,1.,1.,2.])),\n",
    "                                return_model=True,\n",
    "                                num_workers=num_workers,\n",
    "                                sampler=None,\n",
    "                                graph=gr)\n",
    "torch.save(best_model.state_dict(), models_dir+models_format.format(model_name,version,num_split))"
   ]
  },
  {
   "cell_type": "code",
   "execution_count": null,
   "metadata": {},
   "outputs": [],
   "source": [
    "\n",
    "model_name,version, num_split = 'Densenet169_3' , 'basic_classifier_wso',2\n",
    "pickle_file=open(outputs_dir+outputs_format.format(model_name,version,'features_test_tta',num_split),'rb')\n",
    "features=pickle.load(pickle_file)\n",
    "pickle_file.close()\n",
    "features=features.reshape(features.shape[0]//8,8,-1)\n",
    "version=version+'_tta_fullhead_ResModel'\n",
    "model=ResModel(features.shape[-1])\n",
    "\n",
    "model.load_state_dict(torch.load(models_dir+models_format.format(model_name,version,num_split),map_location=torch.device(device)))\n",
    "test_dataset=train_dataset=FullHeadDataset(test_df,\n",
    "                              test_df.SeriesI.unique(),\n",
    "                              features,\n",
    "                              'SeriesI',\n",
    "                              'ImagePositionZ')\n",
    "pred_list=[]\n",
    "for i in tqdm_notebook(range(32)):\n",
    "    pred_list.append(model_run(model,test_dataset,do_apex=False,batch_size=128)[...,None])\n",
    "pred=torch.cat(pred_list,-1).mean(-1)"
   ]
  },
  {
   "cell_type": "code",
   "execution_count": null,
   "metadata": {},
   "outputs": [],
   "source": [
    "images_id_list=[]\n",
    "dummeys=[]\n",
    "image_arr=test_df.PatientID.values\n",
    "ref_arr=test_df.SeriesI.values\n",
    "order_arr=test_df.ImagePositionZ.values\n",
    "for s in tqdm_notebook(test_df.SeriesI.unique()):\n",
    "    dumm=np.zeros(60)\n",
    "    head_idx = np.where(ref_arr==s)[0]\n",
    "    sorted_head_idx=head_idx[np.argsort(order_arr[head_idx])]\n",
    "    images_id_list.append(image_arr[sorted_head_idx])\n",
    "    dumm[0:head_idx.shape[0]]=1\n",
    "    dummeys.append(dumm)\n",
    "image_ids=np.concatenate(images_id_list)\n",
    "preds=pred.reshape(pred.shape[0]*pred.shape[1],6).numpy()[np.concatenate(dummeys)==1]\n",
    "\n",
    "image_ids.shape\n",
    "\n",
    "preds.shape"
   ]
  },
  {
   "cell_type": "code",
   "execution_count": null,
   "metadata": {},
   "outputs": [],
   "source": [
    "preds1=preds"
   ]
  },
  {
   "cell_type": "code",
   "execution_count": null,
   "metadata": {},
   "outputs": [],
   "source": [
    "preds=(preds1+preds2)/2"
   ]
  },
  {
   "cell_type": "code",
   "execution_count": null,
   "metadata": {},
   "outputs": [],
   "source": [
    "submission_df=get_submission_ids(image_ids,torch.tensor(preds))\n",
    "\n",
    "submission_df.head(12)\n",
    "submission_df.shape\n",
    "sub_num=37\n",
    "submission_df.to_csv('/media/hd/notebooks/data/RSNA/submissions/submission{}.csv'.format(sub_num),\n",
    "                                                                  index=False, columns=['ID','Label'])"
   ]
  },
  {
   "cell_type": "code",
   "execution_count": null,
   "metadata": {},
   "outputs": [],
   "source": [
    "num_neighbors=2\n",
    "model_name,version, num_split = 'Densenet161_3' , 'basic_classifier',2\n",
    "pickle_file=open(outputs_dir+outputs_format.format(model_name,version,'features_test',num_split),'rb')\n",
    "features=pickle.load(pickle_file)\n",
    "pickle_file.close()\n",
    "version=version+'_fullhead'\n",
    "model=SimpleModel(features.shape[-1])\n",
    "\n",
    "model.load_state_dict(torch.load(models_dir+models_format.format(model_name,version,num_split),map_location=torch.device(device)))\n",
    "test_dataset=train_dataset=FullHeadDataset(test_df,\n",
    "                              test_df.SeriesI.unique(),\n",
    "                              features,\n",
    "                              'SeriesI',\n",
    "                              'ImagePositionZ')\n",
    "pred = model_run(model,test_dataset,do_apex=False,batch_size=64)"
   ]
  },
  {
   "cell_type": "code",
   "execution_count": null,
   "metadata": {},
   "outputs": [],
   "source": [
    "images_id_list=[]\n",
    "dummeys=[]\n",
    "image_arr=test_df.PatientID.values\n",
    "ref_arr=test_df.SeriesI.values\n",
    "order_arr=test_df.ImagePositionZ.values\n",
    "for s in tqdm_notebook(test_df.SeriesI.unique()):\n",
    "    dumm=np.zeros(60)\n",
    "    head_idx = np.where(ref_arr==s)[0]\n",
    "    sorted_head_idx=head_idx[np.argsort(order_arr[head_idx])]\n",
    "    images_id_list.append(image_arr[sorted_head_idx])\n",
    "    dumm[0:head_idx.shape[0]]=1\n",
    "    dummeys.append(dumm)\n",
    "image_ids=np.concatenate(images_id_list)\n",
    "preds1=pred.reshape(pred.shape[0]*pred.shape[1],6).numpy()[np.concatenate(dummeys)==1]"
   ]
  },
  {
   "cell_type": "code",
   "execution_count": null,
   "metadata": {},
   "outputs": [],
   "source": [
    "preds0=preds\n"
   ]
  },
  {
   "cell_type": "code",
   "execution_count": null,
   "metadata": {},
   "outputs": [],
   "source": [
    "preds=(preds0+preds1)/2"
   ]
  },
  {
   "cell_type": "code",
   "execution_count": 33,
   "metadata": {},
   "outputs": [
    {
     "data": {
      "text/html": [
       "<div>\n",
       "<style scoped>\n",
       "    .dataframe tbody tr th:only-of-type {\n",
       "        vertical-align: middle;\n",
       "    }\n",
       "\n",
       "    .dataframe tbody tr th {\n",
       "        vertical-align: top;\n",
       "    }\n",
       "\n",
       "    .dataframe thead th {\n",
       "        text-align: right;\n",
       "    }\n",
       "</style>\n",
       "<table border=\"1\" class=\"dataframe\">\n",
       "  <thead>\n",
       "    <tr style=\"text-align: right;\">\n",
       "      <th></th>\n",
       "      <th>ID</th>\n",
       "      <th>Label</th>\n",
       "    </tr>\n",
       "  </thead>\n",
       "  <tbody>\n",
       "    <tr>\n",
       "      <th>0</th>\n",
       "      <td>ID_000012eaf_any</td>\n",
       "      <td>0.002140</td>\n",
       "    </tr>\n",
       "    <tr>\n",
       "      <th>1</th>\n",
       "      <td>ID_000012eaf_epidural</td>\n",
       "      <td>0.000062</td>\n",
       "    </tr>\n",
       "    <tr>\n",
       "      <th>2</th>\n",
       "      <td>ID_000012eaf_intraparenchymal</td>\n",
       "      <td>0.000272</td>\n",
       "    </tr>\n",
       "    <tr>\n",
       "      <th>3</th>\n",
       "      <td>ID_000012eaf_intraventricular</td>\n",
       "      <td>0.000039</td>\n",
       "    </tr>\n",
       "    <tr>\n",
       "      <th>4</th>\n",
       "      <td>ID_000012eaf_subarachnoid</td>\n",
       "      <td>0.000246</td>\n",
       "    </tr>\n",
       "    <tr>\n",
       "      <th>5</th>\n",
       "      <td>ID_000012eaf_subdural</td>\n",
       "      <td>0.001569</td>\n",
       "    </tr>\n",
       "    <tr>\n",
       "      <th>6</th>\n",
       "      <td>ID_0000ca2f6_any</td>\n",
       "      <td>0.001333</td>\n",
       "    </tr>\n",
       "    <tr>\n",
       "      <th>7</th>\n",
       "      <td>ID_0000ca2f6_epidural</td>\n",
       "      <td>0.000028</td>\n",
       "    </tr>\n",
       "    <tr>\n",
       "      <th>8</th>\n",
       "      <td>ID_0000ca2f6_intraparenchymal</td>\n",
       "      <td>0.000305</td>\n",
       "    </tr>\n",
       "    <tr>\n",
       "      <th>9</th>\n",
       "      <td>ID_0000ca2f6_intraventricular</td>\n",
       "      <td>0.000020</td>\n",
       "    </tr>\n",
       "    <tr>\n",
       "      <th>10</th>\n",
       "      <td>ID_0000ca2f6_subarachnoid</td>\n",
       "      <td>0.000152</td>\n",
       "    </tr>\n",
       "    <tr>\n",
       "      <th>11</th>\n",
       "      <td>ID_0000ca2f6_subdural</td>\n",
       "      <td>0.000767</td>\n",
       "    </tr>\n",
       "  </tbody>\n",
       "</table>\n",
       "</div>"
      ],
      "text/plain": [
       "                               ID     Label\n",
       "0                ID_000012eaf_any  0.002140\n",
       "1           ID_000012eaf_epidural  0.000062\n",
       "2   ID_000012eaf_intraparenchymal  0.000272\n",
       "3   ID_000012eaf_intraventricular  0.000039\n",
       "4       ID_000012eaf_subarachnoid  0.000246\n",
       "5           ID_000012eaf_subdural  0.001569\n",
       "6                ID_0000ca2f6_any  0.001333\n",
       "7           ID_0000ca2f6_epidural  0.000028\n",
       "8   ID_0000ca2f6_intraparenchymal  0.000305\n",
       "9   ID_0000ca2f6_intraventricular  0.000020\n",
       "10      ID_0000ca2f6_subarachnoid  0.000152\n",
       "11          ID_0000ca2f6_subdural  0.000767"
      ]
     },
     "execution_count": 33,
     "metadata": {},
     "output_type": "execute_result"
    },
    {
     "data": {
      "text/plain": [
       "(471270, 2)"
      ]
     },
     "execution_count": 33,
     "metadata": {},
     "output_type": "execute_result"
    }
   ],
   "source": [
    "submission_df=get_submission_ids(image_ids,torch.tensor(preds))\n",
    "submission_df.head(12)\n",
    "submission_df.shape\n",
    "sub_num=38\n",
    "submission_df.to_csv('/media/hd/notebooks/data/RSNA/submissions/submission{}.csv'.format(sub_num),\n",
    "                                                                  index=False, columns=['ID','Label'])\n"
   ]
  },
  {
   "cell_type": "code",
   "execution_count": null,
   "metadata": {},
   "outputs": [],
   "source": [
    "%matplotlib nbagg\n",
    "num_neighbors=3\n",
    "model_name,version, num_split = 'Densenet161_3' , 'basic_classifier',2\n",
    "pickle_file=open(outputs_dir+outputs_format.format(model_name,version,'features_train',num_split),'rb')\n",
    "features=pickle.load(pickle_file)\n",
    "pickle_file.close()\n",
    "np.random.seed(SEED+num_split)\n",
    "torch.manual_seed(SEED+num_split)\n",
    "torch.cuda.manual_seed(SEED+num_split)\n",
    "torch.backends.cudnn.deterministic = True\n",
    "klr=1\n",
    "batch_size=64\n",
    "num_workers=1\n",
    "num_epochs=1\n",
    "model0 = MyDenseNet(models.densenet161(pretrained=True),len(hemorrhage_types),num_channels=3)\n",
    "model0.load_state_dict(torch.load(models_dir+models_format.format(model_name,version,num_split),map_location=torch.device(device)))\n",
    "_=model0.to('cpu')\n",
    "model=NeighborsNet(len(hemorrhage_types),\n",
    "                   num_neighbors=num_neighbors,\n",
    "                   num_features=model0.classifier.in_features,\n",
    "                   intermidiate=128, \n",
    "                   dropout=0.5)\n",
    "\n",
    "\n",
    "version=version+'_neighbors{}cor'.format(num_neighbors)\n",
    "_=model.to(device)\n",
    "weights = torch.tensor([1.,1.,1.,1.,1.,2.],device=device)\n",
    "loss_func=my_loss\n",
    "param_optimizer = model.parameters()\n",
    "features_dataset=FeatursDatasetCor(train_df,features,num_neighbors,'SeriesI',hemorrhage_types)\n",
    "train_dataset=D.Subset(features_dataset,idx_train)\n",
    "validate_dataset=D.Subset(features_dataset,idx_validate)\n",
    "fig,ax = plt.subplots(figsize=(10,7))\n",
    "gr=loss_graph(fig,ax,num_epochs,len(train_dataset)//batch_size+1)\n",
    "#num_train_optimization_steps = num_epochs*(sample_ratio*len(train_dataset)//batch_size+int(len(train_dataset)%batch_size>0))\n",
    "#sched=WarmupExpCosineWithWarmupRestartsSchedule( t_total=num_train_optimization_steps, cycles=num_epochs,tau=0)\n",
    "optimizer = torch.optim.Adam(param_optimizer, lr=0.001)\n",
    "history,best_model= model_train(model,\n",
    "                                optimizer,\n",
    "                                train_dataset,\n",
    "                                batch_size,\n",
    "                                num_epochs,\n",
    "                                loss_func,\n",
    "                                weights=weights,\n",
    "                                do_apex=False,\n",
    "                                validate_dataset=validate_dataset,\n",
    "                                param_schedualer=None,\n",
    "                                weights_data=None,\n",
    "                                metric=None,\n",
    "                                return_model=True,\n",
    "                                num_workers=num_workers,\n",
    "                                sampler=None,\n",
    "                                graph=gr)\n",
    "torch.save(best_model.state_dict(), models_dir+models_format.format(model_name,version,num_split))"
   ]
  },
  {
   "cell_type": "code",
   "execution_count": null,
   "metadata": {},
   "outputs": [],
   "source": []
  }
 ],
 "metadata": {
  "kernelspec": {
   "display_name": "Python 3",
   "language": "python",
   "name": "python3"
  }
 },
 "nbformat": 4,
 "nbformat_minor": 2
}
