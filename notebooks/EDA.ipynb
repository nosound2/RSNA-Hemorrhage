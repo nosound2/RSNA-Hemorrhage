{
 "cells": [
  {
   "cell_type": "code",
   "execution_count": 29,
   "metadata": {},
   "outputs": [],
   "source": [
    "import sys\n",
    "\n",
    "from pathlib import Path\n",
    "from PIL import ImageDraw, ImageFont, Image\n",
    "from matplotlib import patches, patheffects\n",
    "import time\n",
    "from random import randint\n",
    "import numpy as np\n",
    "import pandas as pd\n",
    "import pickle\n",
    "\n",
    "from sklearn.model_selection import KFold, StratifiedKFold, GroupKFold\n",
    "from sklearn.preprocessing import LabelEncoder, OneHotEncoder, LabelBinarizer\n",
    "from sklearn.preprocessing import StandardScaler\n",
    "from sklearn.metrics import mean_squared_error,log_loss\n",
    "from scipy.stats import ks_2samp\n",
    "\n",
    "import pdb\n",
    "\n",
    "import scipy as sp\n",
    "from tqdm import tqdm, tqdm_notebook\n",
    "\n",
    "import os\n",
    "import glob\n",
    "\n",
    "import torch\n",
    "import torch.nn as nn\n",
    "import torch.utils.data as D\n",
    "import torch.nn.functional as F\n",
    "import torch.utils as U\n",
    "\n",
    "import torchvision\n",
    "from torchvision import transforms as T\n",
    "from torchvision import models as M\n",
    "\n",
    "import matplotlib.pyplot as plt\n",
    "\n",
    "PATH = Path('C:/StudioProjects/Hemorrhage')\n",
    "PATH_WORK = Path('C:/StudioProjects/Hemorrhage/running')\n",
    "\n",
    "import lightgbm as lgb\n",
    "from collections import defaultdict, Counter\n",
    "import random\n",
    "import seaborn as sn\n",
    "from eli5.permutation_importance import get_score_importances\n",
    "\n",
    "pd.set_option(\"display.max_columns\", 100)\n",
    "\n",
    "all_ich = ['any','epidural','intraparenchymal','intraventricular','subarachnoid','subdural']"
   ]
  },
  {
   "cell_type": "raw",
   "metadata": {},
   "source": [
    "Duplicated patient IDs, all labels zeros:\n",
    "['ID_a64d5deed','ID_921490062','ID_489ae4179','ID_854fba667']"
   ]
  },
  {
   "cell_type": "code",
   "execution_count": 96,
   "metadata": {},
   "outputs": [
    {
     "data": {
      "text/html": [
       "<div>\n",
       "<style scoped>\n",
       "    .dataframe tbody tr th:only-of-type {\n",
       "        vertical-align: middle;\n",
       "    }\n",
       "\n",
       "    .dataframe tbody tr th {\n",
       "        vertical-align: top;\n",
       "    }\n",
       "\n",
       "    .dataframe thead th {\n",
       "        text-align: right;\n",
       "    }\n",
       "</style>\n",
       "<table border=\"1\" class=\"dataframe\">\n",
       "  <thead>\n",
       "    <tr style=\"text-align: right;\">\n",
       "      <th></th>\n",
       "      <th>BitsAllocated</th>\n",
       "      <th>BitsStored</th>\n",
       "      <th>HighBit</th>\n",
       "      <th>ImageOrientationPatient</th>\n",
       "      <th>ImagePositionPatient</th>\n",
       "      <th>Modality</th>\n",
       "      <th>PatientID</th>\n",
       "      <th>PhotometricInterpretation</th>\n",
       "      <th>PixelRepresentation</th>\n",
       "      <th>PixelSpacing</th>\n",
       "      <th>RescaleIntercept</th>\n",
       "      <th>RescaleSlope</th>\n",
       "      <th>SOPInstanceUID</th>\n",
       "      <th>SamplesPerPixel</th>\n",
       "      <th>SeriesInstanceUID</th>\n",
       "      <th>StudyID</th>\n",
       "      <th>StudyInstanceUID</th>\n",
       "      <th>WindowCenter</th>\n",
       "      <th>WindowWidth</th>\n",
       "      <th>ImageOrientationPatient_0</th>\n",
       "      <th>ImageOrientationPatient_1</th>\n",
       "      <th>ImageOrientationPatient_2</th>\n",
       "      <th>ImageOrientationPatient_3</th>\n",
       "      <th>ImageOrientationPatient_4</th>\n",
       "      <th>ImageOrientationPatient_5</th>\n",
       "      <th>ImagePositionPatient_0</th>\n",
       "      <th>ImagePositionPatient_1</th>\n",
       "      <th>ImagePositionPatient_2</th>\n",
       "      <th>PixelSpacing_0</th>\n",
       "      <th>PixelSpacing_1</th>\n",
       "      <th>WindowCenter_0</th>\n",
       "      <th>WindowCenter_1</th>\n",
       "      <th>WindowCenter_1_NAN</th>\n",
       "      <th>any</th>\n",
       "      <th>epidural</th>\n",
       "      <th>intraparenchymal</th>\n",
       "      <th>intraventricular</th>\n",
       "      <th>subarachnoid</th>\n",
       "      <th>subdural</th>\n",
       "      <th>weight</th>\n",
       "      <th>grp_weight</th>\n",
       "    </tr>\n",
       "  </thead>\n",
       "  <tbody>\n",
       "    <tr>\n",
       "      <th>0</th>\n",
       "      <td>16</td>\n",
       "      <td>0</td>\n",
       "      <td>15</td>\n",
       "      <td>['1.000000', '0.000000', '0.000000', '0.000000...</td>\n",
       "      <td>['-125.000', '-123.101', '104.307']</td>\n",
       "      <td>CT</td>\n",
       "      <td>ID_b81a287f</td>\n",
       "      <td>MONOCHROME2</td>\n",
       "      <td>0</td>\n",
       "      <td>['0.488281', '0.488281']</td>\n",
       "      <td>0</td>\n",
       "      <td>1.0</td>\n",
       "      <td>ID_231d901c1</td>\n",
       "      <td>1</td>\n",
       "      <td>ID_15dcd6057a</td>\n",
       "      <td>NaN</td>\n",
       "      <td>ID_dd37ba3adb</td>\n",
       "      <td>40</td>\n",
       "      <td>100</td>\n",
       "      <td>1.0</td>\n",
       "      <td>0.0</td>\n",
       "      <td>0.0</td>\n",
       "      <td>0.0</td>\n",
       "      <td>0.984808</td>\n",
       "      <td>-0.173648</td>\n",
       "      <td>-125.0</td>\n",
       "      <td>-123.101000</td>\n",
       "      <td>104.307000</td>\n",
       "      <td>0.488281</td>\n",
       "      <td>0.488281</td>\n",
       "      <td>40.0</td>\n",
       "      <td>38.015255</td>\n",
       "      <td>0</td>\n",
       "      <td>1</td>\n",
       "      <td>0</td>\n",
       "      <td>0</td>\n",
       "      <td>0</td>\n",
       "      <td>1</td>\n",
       "      <td>0</td>\n",
       "      <td>0.015365</td>\n",
       "      <td>40.0</td>\n",
       "    </tr>\n",
       "    <tr>\n",
       "      <th>1</th>\n",
       "      <td>16</td>\n",
       "      <td>1</td>\n",
       "      <td>11</td>\n",
       "      <td>['1', '0', '0', '0', '0.933580426', '-0.358367...</td>\n",
       "      <td>['-125', '53.6282216', '223.572015']</td>\n",
       "      <td>CT</td>\n",
       "      <td>ID_400facde</td>\n",
       "      <td>MONOCHROME2</td>\n",
       "      <td>1</td>\n",
       "      <td>['0.48828125', '0.48828125']</td>\n",
       "      <td>0</td>\n",
       "      <td>1.0</td>\n",
       "      <td>ID_994bc0470</td>\n",
       "      <td>1</td>\n",
       "      <td>ID_4ba12c2161</td>\n",
       "      <td>NaN</td>\n",
       "      <td>ID_c5277f0c63</td>\n",
       "      <td>['00047', '00047']</td>\n",
       "      <td>['00080', '00080']</td>\n",
       "      <td>1.0</td>\n",
       "      <td>0.0</td>\n",
       "      <td>0.0</td>\n",
       "      <td>0.0</td>\n",
       "      <td>0.933580</td>\n",
       "      <td>-0.358368</td>\n",
       "      <td>-125.0</td>\n",
       "      <td>53.628222</td>\n",
       "      <td>223.572015</td>\n",
       "      <td>0.488281</td>\n",
       "      <td>0.488281</td>\n",
       "      <td>47.0</td>\n",
       "      <td>47.000000</td>\n",
       "      <td>1</td>\n",
       "      <td>0</td>\n",
       "      <td>0</td>\n",
       "      <td>0</td>\n",
       "      <td>0</td>\n",
       "      <td>0</td>\n",
       "      <td>0</td>\n",
       "      <td>0.001997</td>\n",
       "      <td>47.0</td>\n",
       "    </tr>\n",
       "    <tr>\n",
       "      <th>2</th>\n",
       "      <td>16</td>\n",
       "      <td>0</td>\n",
       "      <td>15</td>\n",
       "      <td>['1.000000', '0.000000', '0.000000', '0.000000...</td>\n",
       "      <td>['-125.000000', '-123.646240', '124.321068']</td>\n",
       "      <td>CT</td>\n",
       "      <td>ID_42910d3d</td>\n",
       "      <td>MONOCHROME2</td>\n",
       "      <td>0</td>\n",
       "      <td>['0.488281', '0.488281']</td>\n",
       "      <td>0</td>\n",
       "      <td>1.0</td>\n",
       "      <td>ID_127689cce</td>\n",
       "      <td>1</td>\n",
       "      <td>ID_c4b4931314</td>\n",
       "      <td>NaN</td>\n",
       "      <td>ID_db93ade25b</td>\n",
       "      <td>30</td>\n",
       "      <td>80</td>\n",
       "      <td>1.0</td>\n",
       "      <td>0.0</td>\n",
       "      <td>0.0</td>\n",
       "      <td>0.0</td>\n",
       "      <td>0.972370</td>\n",
       "      <td>-0.233445</td>\n",
       "      <td>-125.0</td>\n",
       "      <td>-123.646240</td>\n",
       "      <td>124.321068</td>\n",
       "      <td>0.488281</td>\n",
       "      <td>0.488281</td>\n",
       "      <td>30.0</td>\n",
       "      <td>38.015255</td>\n",
       "      <td>0</td>\n",
       "      <td>0</td>\n",
       "      <td>0</td>\n",
       "      <td>0</td>\n",
       "      <td>0</td>\n",
       "      <td>0</td>\n",
       "      <td>0</td>\n",
       "      <td>0.269672</td>\n",
       "      <td>30.0</td>\n",
       "    </tr>\n",
       "    <tr>\n",
       "      <th>3</th>\n",
       "      <td>16</td>\n",
       "      <td>1</td>\n",
       "      <td>11</td>\n",
       "      <td>['1', '0', '0', '0', '1', '0']</td>\n",
       "      <td>['-114', '-6', '171.999939']</td>\n",
       "      <td>CT</td>\n",
       "      <td>ID_329aafa7</td>\n",
       "      <td>MONOCHROME2</td>\n",
       "      <td>1</td>\n",
       "      <td>['0.4453125', '0.4453125']</td>\n",
       "      <td>0</td>\n",
       "      <td>1.0</td>\n",
       "      <td>ID_25457734a</td>\n",
       "      <td>1</td>\n",
       "      <td>ID_116558f409</td>\n",
       "      <td>NaN</td>\n",
       "      <td>ID_8dd6d32f3b</td>\n",
       "      <td>['00036', '00036']</td>\n",
       "      <td>['00080', '00080']</td>\n",
       "      <td>1.0</td>\n",
       "      <td>0.0</td>\n",
       "      <td>0.0</td>\n",
       "      <td>0.0</td>\n",
       "      <td>1.000000</td>\n",
       "      <td>0.000000</td>\n",
       "      <td>-114.0</td>\n",
       "      <td>-6.000000</td>\n",
       "      <td>171.999939</td>\n",
       "      <td>0.445312</td>\n",
       "      <td>0.445312</td>\n",
       "      <td>36.0</td>\n",
       "      <td>36.000000</td>\n",
       "      <td>1</td>\n",
       "      <td>0</td>\n",
       "      <td>0</td>\n",
       "      <td>0</td>\n",
       "      <td>0</td>\n",
       "      <td>0</td>\n",
       "      <td>0</td>\n",
       "      <td>0.003259</td>\n",
       "      <td>36.0</td>\n",
       "    </tr>\n",
       "    <tr>\n",
       "      <th>4</th>\n",
       "      <td>16</td>\n",
       "      <td>1</td>\n",
       "      <td>11</td>\n",
       "      <td>['1', '0', '0', '0', '1', '0']</td>\n",
       "      <td>['-115', '-1', '230.5']</td>\n",
       "      <td>CT</td>\n",
       "      <td>ID_6b544c3c</td>\n",
       "      <td>MONOCHROME2</td>\n",
       "      <td>1</td>\n",
       "      <td>['0.44921875', '0.44921875']</td>\n",
       "      <td>0</td>\n",
       "      <td>1.0</td>\n",
       "      <td>ID_81c9aa125</td>\n",
       "      <td>1</td>\n",
       "      <td>ID_f56d7bd0f9</td>\n",
       "      <td>NaN</td>\n",
       "      <td>ID_2685c5d5c0</td>\n",
       "      <td>['00036', '00036']</td>\n",
       "      <td>['00080', '00080']</td>\n",
       "      <td>1.0</td>\n",
       "      <td>0.0</td>\n",
       "      <td>0.0</td>\n",
       "      <td>0.0</td>\n",
       "      <td>1.000000</td>\n",
       "      <td>0.000000</td>\n",
       "      <td>-115.0</td>\n",
       "      <td>-1.000000</td>\n",
       "      <td>230.500000</td>\n",
       "      <td>0.449219</td>\n",
       "      <td>0.449219</td>\n",
       "      <td>36.0</td>\n",
       "      <td>36.000000</td>\n",
       "      <td>1</td>\n",
       "      <td>0</td>\n",
       "      <td>0</td>\n",
       "      <td>0</td>\n",
       "      <td>0</td>\n",
       "      <td>0</td>\n",
       "      <td>0</td>\n",
       "      <td>0.005538</td>\n",
       "      <td>36.0</td>\n",
       "    </tr>\n",
       "  </tbody>\n",
       "</table>\n",
       "</div>"
      ],
      "text/plain": [
       "   BitsAllocated BitsStored  HighBit  \\\n",
       "0             16          0       15   \n",
       "1             16          1       11   \n",
       "2             16          0       15   \n",
       "3             16          1       11   \n",
       "4             16          1       11   \n",
       "\n",
       "                             ImageOrientationPatient  \\\n",
       "0  ['1.000000', '0.000000', '0.000000', '0.000000...   \n",
       "1  ['1', '0', '0', '0', '0.933580426', '-0.358367...   \n",
       "2  ['1.000000', '0.000000', '0.000000', '0.000000...   \n",
       "3                     ['1', '0', '0', '0', '1', '0']   \n",
       "4                     ['1', '0', '0', '0', '1', '0']   \n",
       "\n",
       "                           ImagePositionPatient Modality    PatientID  \\\n",
       "0           ['-125.000', '-123.101', '104.307']       CT  ID_b81a287f   \n",
       "1          ['-125', '53.6282216', '223.572015']       CT  ID_400facde   \n",
       "2  ['-125.000000', '-123.646240', '124.321068']       CT  ID_42910d3d   \n",
       "3                  ['-114', '-6', '171.999939']       CT  ID_329aafa7   \n",
       "4                       ['-115', '-1', '230.5']       CT  ID_6b544c3c   \n",
       "\n",
       "  PhotometricInterpretation PixelRepresentation                  PixelSpacing  \\\n",
       "0               MONOCHROME2                   0      ['0.488281', '0.488281']   \n",
       "1               MONOCHROME2                   1  ['0.48828125', '0.48828125']   \n",
       "2               MONOCHROME2                   0      ['0.488281', '0.488281']   \n",
       "3               MONOCHROME2                   1    ['0.4453125', '0.4453125']   \n",
       "4               MONOCHROME2                   1  ['0.44921875', '0.44921875']   \n",
       "\n",
       "  RescaleIntercept  RescaleSlope SOPInstanceUID  SamplesPerPixel  \\\n",
       "0                0           1.0   ID_231d901c1                1   \n",
       "1                0           1.0   ID_994bc0470                1   \n",
       "2                0           1.0   ID_127689cce                1   \n",
       "3                0           1.0   ID_25457734a                1   \n",
       "4                0           1.0   ID_81c9aa125                1   \n",
       "\n",
       "  SeriesInstanceUID  StudyID StudyInstanceUID        WindowCenter  \\\n",
       "0     ID_15dcd6057a      NaN    ID_dd37ba3adb                  40   \n",
       "1     ID_4ba12c2161      NaN    ID_c5277f0c63  ['00047', '00047']   \n",
       "2     ID_c4b4931314      NaN    ID_db93ade25b                  30   \n",
       "3     ID_116558f409      NaN    ID_8dd6d32f3b  ['00036', '00036']   \n",
       "4     ID_f56d7bd0f9      NaN    ID_2685c5d5c0  ['00036', '00036']   \n",
       "\n",
       "          WindowWidth  ImageOrientationPatient_0  ImageOrientationPatient_1  \\\n",
       "0                 100                        1.0                        0.0   \n",
       "1  ['00080', '00080']                        1.0                        0.0   \n",
       "2                  80                        1.0                        0.0   \n",
       "3  ['00080', '00080']                        1.0                        0.0   \n",
       "4  ['00080', '00080']                        1.0                        0.0   \n",
       "\n",
       "   ImageOrientationPatient_2  ImageOrientationPatient_3  \\\n",
       "0                        0.0                        0.0   \n",
       "1                        0.0                        0.0   \n",
       "2                        0.0                        0.0   \n",
       "3                        0.0                        0.0   \n",
       "4                        0.0                        0.0   \n",
       "\n",
       "   ImageOrientationPatient_4  ImageOrientationPatient_5  \\\n",
       "0                   0.984808                  -0.173648   \n",
       "1                   0.933580                  -0.358368   \n",
       "2                   0.972370                  -0.233445   \n",
       "3                   1.000000                   0.000000   \n",
       "4                   1.000000                   0.000000   \n",
       "\n",
       "   ImagePositionPatient_0  ImagePositionPatient_1  ImagePositionPatient_2  \\\n",
       "0                  -125.0             -123.101000              104.307000   \n",
       "1                  -125.0               53.628222              223.572015   \n",
       "2                  -125.0             -123.646240              124.321068   \n",
       "3                  -114.0               -6.000000              171.999939   \n",
       "4                  -115.0               -1.000000              230.500000   \n",
       "\n",
       "   PixelSpacing_0  PixelSpacing_1  WindowCenter_0  WindowCenter_1  \\\n",
       "0        0.488281        0.488281            40.0       38.015255   \n",
       "1        0.488281        0.488281            47.0       47.000000   \n",
       "2        0.488281        0.488281            30.0       38.015255   \n",
       "3        0.445312        0.445312            36.0       36.000000   \n",
       "4        0.449219        0.449219            36.0       36.000000   \n",
       "\n",
       "  WindowCenter_1_NAN  any  epidural  intraparenchymal  intraventricular  \\\n",
       "0                  0    1         0                 0                 0   \n",
       "1                  1    0         0                 0                 0   \n",
       "2                  0    0         0                 0                 0   \n",
       "3                  1    0         0                 0                 0   \n",
       "4                  1    0         0                 0                 0   \n",
       "\n",
       "   subarachnoid  subdural    weight  grp_weight  \n",
       "0             1         0  0.015365        40.0  \n",
       "1             0         0  0.001997        47.0  \n",
       "2             0         0  0.269672        30.0  \n",
       "3             0         0  0.003259        36.0  \n",
       "4             0         0  0.005538        36.0  "
      ]
     },
     "execution_count": 96,
     "metadata": {},
     "output_type": "execute_result"
    }
   ],
   "source": [
    "train_md.head()"
   ]
  },
  {
   "cell_type": "code",
   "execution_count": 95,
   "metadata": {},
   "outputs": [
    {
     "data": {
      "text/plain": [
       "674262.0"
      ]
     },
     "execution_count": 95,
     "metadata": {},
     "output_type": "execute_result"
    }
   ],
   "source": [
    "pd.read_csv(PATH/'stage_1_train.csv').shape[0]/6"
   ]
  },
  {
   "cell_type": "code",
   "execution_count": 2,
   "metadata": {},
   "outputs": [],
   "source": [
    "train_df = pd.read_csv(PATH_WORK/'train_df.csv')\n",
    "train_md = pd.read_csv(PATH_WORK/'train_md.csv')\n",
    "test_md = pd.read_csv(PATH_WORK/'test_md.csv')"
   ]
  },
  {
   "cell_type": "markdown",
   "metadata": {},
   "source": [
    "# Prepare meta data"
   ]
  },
  {
   "cell_type": "code",
   "execution_count": 77,
   "metadata": {},
   "outputs": [],
   "source": [
    "train_csv = pd.read_csv(PATH/'stage_1_train.csv')\n",
    "\n",
    "train_csv = train_csv.loc[~train_csv.ID.duplicated()].sort_values('ID').reset_index(drop=True)\n",
    "all_sop_ids = train_csv.ID.str.split('_').apply(lambda x: x[0]+'_'+x[1]).unique()\n",
    "train_df = pd.DataFrame(train_csv.Label.values.reshape((-1,6)), columns = all_ich)\n",
    "train_df['sop_id'] = all_sop_ids\n",
    "\n",
    "train_df.to_csv(PATH_WORK/'train_df.csv', index=False)"
   ]
  },
  {
   "cell_type": "code",
   "execution_count": 4,
   "metadata": {},
   "outputs": [],
   "source": [
    "train_md = pd.read_csv(PATH/'train_metadata.csv')\n",
    "test_md = pd.read_csv(PATH/'test_metadata.csv')\n",
    "test_md = test_md.sort_values('SOPInstanceUID')\n",
    "data_md = pd.concat([train_md, test_md], axis=0, sort=False).reset_index(drop=True)"
   ]
  },
  {
   "cell_type": "code",
   "execution_count": 5,
   "metadata": {},
   "outputs": [],
   "source": [
    "del data_md['Unnamed: 0']\n",
    "\n",
    "for i in range(6):\n",
    "    data_md['ImageOrientationPatient_{}'.format(i)] \\\n",
    "        = data_md['ImageOrientationPatient'].str.split('\\'').apply(lambda x: x[1+2*i])\n",
    "\n",
    "for i in range(3):\n",
    "    data_md['ImagePositionPatient_{}'.format(i)] \\\n",
    "        = data_md['ImagePositionPatient'].str.split('\\'').apply(lambda x: x[1+2*i])\n",
    "\n",
    "for i in range(2):\n",
    "    data_md['PixelSpacing_{}'.format(i)] \\\n",
    "        = data_md['PixelSpacing'].str.split('\\'').apply(lambda x: x[1+2*i])\n",
    "\n",
    "data_md['WindowCenter_0'] \\\n",
    "    = data_md['WindowCenter'].str.split('\\'').apply(lambda x: float(x[1]) if len(x) > 1 else float(x[0]))\n",
    "\n",
    "data_md['WindowCenter_1'] \\\n",
    "    = data_md['WindowCenter'].str.split('\\'').apply(lambda x: float(x[3]) if len(x) > 1 else np.nan)\n",
    "\n",
    "data_md['WindowCenter_1_NAN'] = data_md.WindowCenter_1.isnull()\n",
    "\n",
    "data_md.loc[data_md.WindowCenter_1.isnull(), 'WindowCenter_1'] \\\n",
    "    = data_md.loc[~data_md.WindowCenter_1.isnull(), 'WindowCenter_1'].mean()"
   ]
  },
  {
   "cell_type": "code",
   "execution_count": 6,
   "metadata": {},
   "outputs": [],
   "source": [
    "cols_cat = ['BitsStored','PixelRepresentation','RescaleIntercept','WindowCenter_1_NAN']\n",
    "cols_float = ['ImageOrientationPatient_0', 'ImageOrientationPatient_1',\n",
    "       'ImageOrientationPatient_2', 'ImageOrientationPatient_3',\n",
    "       'ImageOrientationPatient_4', 'ImageOrientationPatient_5',\n",
    "       'ImagePositionPatient_0', 'ImagePositionPatient_1','ImagePositionPatient_2',\n",
    "        'PixelSpacing_0', 'PixelSpacing_1', 'WindowCenter_0', 'WindowCenter_1']\n",
    "\n",
    "for col in cols_float:\n",
    "    data_md[col] = data_md[col].astype(float)\n",
    "\n",
    "for col in cols_cat:\n",
    "    data_md[col] = pd.factorize(data_md[col])[0]\n",
    "    data_md[col] = data_md[col].astype('category')"
   ]
  },
  {
   "cell_type": "code",
   "execution_count": 7,
   "metadata": {},
   "outputs": [],
   "source": [
    "data_md = data_md.join(train_df.set_index('sop_id'), on = 'SOPInstanceUID')"
   ]
  },
  {
   "cell_type": "code",
   "execution_count": 8,
   "metadata": {},
   "outputs": [
    {
     "name": "stdout",
     "output_type": "stream",
     "text": [
      "any          False  True \n",
      "BitsStored               \n",
      "0           341679  75369\n",
      "1           332579   3176\n",
      "any                   False  True \n",
      "PixelRepresentation               \n",
      "0                    343931  75429\n",
      "1                    330327   3116\n",
      "any                False  True \n",
      "RescaleIntercept               \n",
      "0                 662279  78457\n",
      "1                   5276     60\n",
      "2                   6653     28\n",
      "3                     50      0\n",
      "any                  False  True \n",
      "WindowCenter_1_NAN               \n",
      "0                   341679  75369\n",
      "1                   332579   3176\n"
     ]
    }
   ],
   "source": [
    "for col in cols_cat:\n",
    "    print(pd.crosstab(data_md[col], data_md['any'].isnull()))"
   ]
  },
  {
   "cell_type": "code",
   "execution_count": 9,
   "metadata": {},
   "outputs": [],
   "source": [
    "train_md = data_md.loc[~data_md['any'].isnull()].copy()\n",
    "for col in all_ich:\n",
    "    train_md[col] = train_md[col].astype(int)\n",
    "train_md.to_csv(PATH_WORK/'train_md.csv', index=False)\n",
    "\n",
    "test_md = data_md.loc[data_md['any'].isnull()].copy()\n",
    "test_md.to_csv(PATH_WORK/'test_md.csv', index=False)"
   ]
  },
  {
   "cell_type": "code",
   "execution_count": 434,
   "metadata": {},
   "outputs": [
    {
     "data": {
      "image/png": "[encoded data removed]",
      "text/plain": [
       "<Figure size 1728x1152 with 12 Axes>"
      ]
     },
     "metadata": {
      "needs_background": "light"
     },
     "output_type": "display_data"
    }
   ],
   "source": [
    "fig, axes = plt.subplots(3, 4, figsize=(24, 16))\n",
    "\n",
    "for i, ax in enumerate(axes.flatten()):\n",
    "    if i == len(cols_float): continue\n",
    "    col = cols_float[i]\n",
    "    a = ax.hist(train_md[col], bins=100, density=True, alpha=0.5)\n",
    "    a = ax.hist(test_md[col], bins=100, density=True, alpha=0.5)\n",
    "    ks = ks_2samp(train_md[col].values, test_md[col].values)\n",
    "    ax.set_title(col + (' IMPORTANT' if col in significant_cols else '') + ' ks {:.4f}'.format(ks.statistic))"
   ]
  },
  {
   "cell_type": "markdown",
   "metadata": {},
   "source": [
    "# Matching weights"
   ]
  },
  {
   "cell_type": "code",
   "execution_count": 97,
   "metadata": {},
   "outputs": [
    {
     "name": "stdout",
     "output_type": "stream",
     "text": [
      "            weight_fac\n",
      "grp_weight            \n",
      "0             0.219314\n",
      "1             0.009433\n",
      "                      weight_fac\n",
      "grp_weight                      \n",
      "(-1e-07, 0.882948]      1.052483\n",
      "(0.882948, 0.898794]    1.078284\n",
      "(0.898794, 0.906308]    0.877193\n",
      "(0.906308, 0.913545]    1.193759\n",
      "(0.913545, 0.91706]     0.765272\n",
      "                    weight_fac\n",
      "grp_weight                    \n",
      "(-250.001, -155.0]    0.978966\n",
      "(-155.0, -146.0]      1.154209\n",
      "(-146.0, -139.5]      1.297924\n",
      "(-139.5, -135.9]      1.856063\n",
      "(-135.9, -133.0]      1.321971\n",
      "                        weight_fac\n",
      "grp_weight                        \n",
      "(-253.40001, -153.887]    1.351667\n",
      "(-153.887, -147.3]        1.419645\n",
      "(-147.3, -143.661]        1.037324\n",
      "(-143.661, -141.03061]    0.921146\n",
      "(-141.03061, -138.637]    1.184098\n",
      "                      weight_fac\n",
      "grp_weight                      \n",
      "(-998.401, -227.348]    1.229897\n",
      "(-227.348, -162.8]      1.347740\n",
      "(-162.8, -114.8]        1.156776\n",
      "(-114.8, -71.0]         0.949772\n",
      "(-71.0, -36.069]        0.462347\n",
      "                                  weight_fac\n",
      "grp_weight                                  \n",
      "(0.29296869999999997, 0.3984375]    1.561431\n",
      "(0.3984375, 0.4082031]              1.129684\n",
      "(0.4082031, 0.4140625]              0.830332\n",
      "(0.4140625, 0.4179688]              1.003078\n",
      "(0.4179688, 0.421875]               0.154844\n",
      "                                  weight_fac\n",
      "grp_weight                                  \n",
      "(0.29296869999999997, 0.3984375]         1.0\n",
      "(0.3984375, 0.4082031]                   1.0\n",
      "(0.4082031, 0.4140625]                   1.0\n",
      "(0.4140625, 0.4179688]                   1.0\n",
      "(0.4179688, 0.421875]                    1.0\n",
      "            weight_fac\n",
      "grp_weight            \n",
      "25.0          0.000000\n",
      "27.0          0.000000\n",
      "28.0          0.000000\n",
      "29.0          0.000000\n",
      "30.0          1.238124\n",
      "            weight_fac\n",
      "grp_weight            \n",
      "0             0.988998\n",
      "1             1.368522\n",
      "                      weight_fac\n",
      "grp_weight                      \n",
      "(-1e-07, 0.882948]      1.107472\n",
      "(0.882948, 0.898794]    1.179553\n",
      "(0.898794, 0.906308]    1.181516\n",
      "(0.906308, 0.913545]    1.020033\n",
      "(0.913545, 0.91706]     1.313356\n",
      "                    weight_fac\n",
      "grp_weight                    \n",
      "(-250.001, -155.0]    1.668324\n",
      "(-155.0, -146.0]      1.446363\n",
      "(-146.0, -139.5]      1.070031\n",
      "(-139.5, -135.9]      0.838587\n",
      "(-135.9, -133.0]      0.806982\n",
      "                        weight_fac\n",
      "grp_weight                        \n",
      "(-253.40001, -153.887]    0.945511\n",
      "(-153.887, -147.3]        0.851976\n",
      "(-147.3, -143.661]        0.925547\n",
      "(-143.661, -141.03061]    0.977919\n",
      "(-141.03061, -138.637]    0.924049\n",
      "                      weight_fac\n",
      "grp_weight                      \n",
      "(-998.401, -227.348]    1.096054\n",
      "(-227.348, -162.8]      0.755053\n",
      "(-162.8, -114.8]        0.695246\n",
      "(-114.8, -71.0]         0.964876\n",
      "(-71.0, -36.069]        1.871778\n",
      "                                  weight_fac\n",
      "grp_weight                                  \n",
      "(0.29296869999999997, 0.3984375]    0.665484\n",
      "(0.3984375, 0.4082031]              1.219236\n",
      "(0.4082031, 0.4140625]              0.764196\n",
      "(0.4140625, 0.4179688]              0.837622\n",
      "(0.4179688, 0.421875]               0.707854\n",
      "                                  weight_fac\n",
      "grp_weight                                  \n",
      "(0.29296869999999997, 0.3984375]         1.0\n",
      "(0.3984375, 0.4082031]                   1.0\n",
      "(0.4082031, 0.4140625]                   1.0\n",
      "(0.4140625, 0.4179688]                   1.0\n",
      "(0.4179688, 0.421875]                    1.0\n",
      "            weight_fac\n",
      "grp_weight            \n",
      "25.0          0.000000\n",
      "27.0          0.000000\n",
      "28.0          0.000000\n",
      "29.0          0.000000\n",
      "30.0          1.012422\n",
      "            weight_fac\n",
      "grp_weight            \n",
      "0             0.990496\n",
      "1             1.302559\n",
      "                      weight_fac\n",
      "grp_weight                      \n",
      "(-1e-07, 0.882948]      0.969862\n",
      "(0.882948, 0.898794]    1.013329\n",
      "(0.898794, 0.906308]    0.991174\n",
      "(0.906308, 0.913545]    0.994177\n",
      "(0.913545, 0.91706]     0.976688\n",
      "                    weight_fac\n",
      "grp_weight                    \n",
      "(-250.001, -155.0]    0.828108\n",
      "(-155.0, -146.0]      0.952019\n",
      "(-146.0, -139.5]      0.949487\n",
      "(-139.5, -135.9]      0.931154\n",
      "(-135.9, -133.0]      0.924256\n",
      "                        weight_fac\n",
      "grp_weight                        \n",
      "(-253.40001, -153.887]    0.987310\n",
      "(-153.887, -147.3]        0.978198\n",
      "(-147.3, -143.661]        0.999554\n",
      "(-143.661, -141.03061]    0.996731\n",
      "(-141.03061, -138.637]    0.984523\n",
      "                      weight_fac\n",
      "grp_weight                      \n",
      "(-998.401, -227.348]    1.039799\n",
      "(-227.348, -162.8]      0.962967\n",
      "(-162.8, -114.8]        0.954196\n",
      "(-114.8, -71.0]         0.968376\n",
      "(-71.0, -36.069]        1.015694\n",
      "                                  weight_fac\n",
      "grp_weight                                  \n",
      "(0.29296869999999997, 0.3984375]    0.972046\n",
      "(0.3984375, 0.4082031]              1.052153\n",
      "(0.4082031, 0.4140625]              0.885734\n",
      "(0.4140625, 0.4179688]              0.867524\n",
      "(0.4179688, 0.421875]               0.839903\n",
      "                                  weight_fac\n",
      "grp_weight                                  \n",
      "(0.29296869999999997, 0.3984375]         1.0\n",
      "(0.3984375, 0.4082031]                   1.0\n",
      "(0.4082031, 0.4140625]                   1.0\n",
      "(0.4140625, 0.4179688]                   1.0\n",
      "(0.4179688, 0.421875]                    1.0\n",
      "            weight_fac\n",
      "grp_weight            \n",
      "25.0          0.000000\n",
      "27.0          0.000000\n",
      "28.0          0.000000\n",
      "29.0          0.000000\n",
      "30.0          1.006616\n"
     ]
    }
   ],
   "source": [
    "data_md['weight'] = 1\n",
    "\n",
    "for k in range(3):\n",
    "    #for col in ['PixelSpacing_0']:\n",
    "    for col in significant_cols:\n",
    "\n",
    "        if len(data_md[col].unique()) <= 100:\n",
    "            data_md['grp_weight'] = data_md[col]\n",
    "        else:\n",
    "            data_md['grp_weight'] = pd.qcut(data_md[col],100,duplicates='drop')\n",
    "\n",
    "        ww = data_md[['grp_weight','any','weight']].groupby('grp_weight')\\\n",
    "            .apply(lambda x: x['any'].isnull().sum()/((x.weight[~x['any'].isnull()]).sum() + 1e-6))\n",
    "        ww = pd.DataFrame(ww, columns = ['weight_fac'])\n",
    "        print(ww.head())\n",
    "        \n",
    "        data_md = data_md.join(ww, on = 'grp_weight')\n",
    "        data_md.loc[~data_md['any'].isnull(),'weight'] *= data_md.loc[~data_md['any'].isnull(),'weight_fac']\n",
    "\n",
    "        del data_md['weight_fac']\n",
    "        del data_md['grp_weight']"
   ]
  },
  {
   "cell_type": "code",
   "execution_count": 98,
   "metadata": {},
   "outputs": [],
   "source": [
    "train_md = data_md.loc[~data_md['any'].isnull()].copy()\n",
    "for col in all_ich:\n",
    "    train_md[col] = train_md[col].astype(int)\n",
    "\n",
    "test_md = data_md.loc[data_md['any'].isnull()].copy()"
   ]
  },
  {
   "cell_type": "code",
   "execution_count": 99,
   "metadata": {},
   "outputs": [],
   "source": [
    "train_md.to_csv(PATH_WORK/'train_md.csv', index=False)\n",
    "test_md.to_csv(PATH_WORK/'test_md.csv', index=False)"
   ]
  },
  {
   "cell_type": "code",
   "execution_count": 52,
   "metadata": {},
   "outputs": [
    {
     "data": {
      "image/png": "[encoded data removed]",
      "text/plain": [
       "<Figure size 1728x1152 with 12 Axes>"
      ]
     },
     "metadata": {
      "needs_background": "light"
     },
     "output_type": "display_data"
    }
   ],
   "source": [
    "fig, axes = plt.subplots(3, 4, figsize=(24, 16))\n",
    "\n",
    "for i, ax in enumerate(axes.flatten()):\n",
    "    if i == len(cols_float): continue\n",
    "    col = cols_float[i]\n",
    "    a = ax.hist(train_md[col], bins=100, density=True, alpha=0.5, weights = train_md.weight)\n",
    "    a = ax.hist(test_md[col], bins=100, density=True, alpha=0.5, weights = test_md.weight)\n",
    "    sampled = np.random.choice(train_md[col].values,10000,p=train_md.weight/train_md.weight.sum())\n",
    "    ks = ks_2samp(sampled, test_md[col].values)\n",
    "    ax.set_title(col + (' IMPORTANT' if col in significant_cols else '') + ' ks {:.4f}'.format(ks.statistic))"
   ]
  },
  {
   "cell_type": "code",
   "execution_count": 102,
   "metadata": {},
   "outputs": [
    {
     "data": {
      "text/plain": [
       "0.33415102230896776"
      ]
     },
     "execution_count": 102,
     "metadata": {},
     "output_type": "execute_result"
    }
   ],
   "source": [
    "(train_md.weight > 0.1).mean()"
   ]
  },
  {
   "cell_type": "code",
   "execution_count": 101,
   "metadata": {},
   "outputs": [
    {
     "data": {
      "image/png": "[encoded data removed]",
      "text/plain": [
       "<Figure size 432x288 with 1 Axes>"
      ]
     },
     "metadata": {
      "needs_background": "light"
     },
     "output_type": "display_data"
    }
   ],
   "source": [
    "a = plt.hist(train_md.weight, bins=100)"
   ]
  },
  {
   "cell_type": "markdown",
   "metadata": {},
   "source": [
    "# LightGBM"
   ]
  },
  {
   "cell_type": "markdown",
   "metadata": {},
   "source": [
    "https://dicom.innolitics.com/ciods/ct-image/image-plane/00200037\n",
    "\n",
    "Bits Allocated Attribute\n",
    "Tag\t(0028,0100)\n",
    "Type\tRequired (1)\n",
    "Keyword\tBitsAllocated\n",
    "Value Multiplicity\t1\n",
    "Value Representation\tUnsigned Short (US)\n",
    "Number of bits allocated for each pixel sample. Each sample shall have the same number of bits allocated. Bits Allocated (0028,0100) shall be either 1, or a multiple of 8. See PS3.5 for further explanation.\n",
    "\n",
    "Bits Stored Attribute\n",
    "Tag\t(0028,0101)\n",
    "Type\tRequired (1)\n",
    "Keyword\tBitsStored\n",
    "Value Multiplicity\t1\n",
    "Value Representation\tUnsigned Short (US)\n",
    "Number of bits stored for each pixel sample. Each sample shall have the same number of bits stored. See PS3.5 for further explanation.\n",
    "\n",
    "High Bit Attribute\n",
    "Tag\t(0028,0102)\n",
    "Type\tRequired (1)\n",
    "Keyword\tHighBit\n",
    "Value Multiplicity\t1\n",
    "Value Representation\tUnsigned Short (US)\n",
    "Most significant bit for pixel sample data. Each sample shall have the same high bit. High Bit (0028,0102) shall be one less than Bits Stored (0028,0101). See PS3.5 for further explanation.\n",
    "\n",
    "--- STRONG (4) ---\n",
    "Image Orientation (Patient) Attribute\n",
    "Tag\t(0020,0037)\n",
    "Type\tRequired (1)\n",
    "Keyword\tImageOrientationPatient\n",
    "Value Multiplicity\t6\n",
    "Value Representation\tDecimal String (DS)\n",
    "The direction cosines of the first row and the first column with respect to the patient. See Section C.7.6.2.1.1 for further explanation.\n",
    "\n",
    "--- STRONG (0,1,2) ---\n",
    "Image Position (Patient) Attribute\n",
    "Tag\t(0020,0032)\n",
    "Type\tRequired (1)\n",
    "Keyword\tImagePositionPatient\n",
    "Value Multiplicity\t3\n",
    "Value Representation\tDecimal String (DS)\n",
    "The x, y, and z coordinates of the upper left hand corner (center of the first voxel transmitted) of the image, in mm. See Section C.7.6.2.1.1 for further explanation.\n",
    "\n",
    "--- STRONG ---\n",
    "Pixel Representation Attribute\n",
    "Tag\t(0028,0103)\n",
    "Type\tRequired (1)\n",
    "Keyword\tPixelRepresentation\n",
    "Value Multiplicity\t1\n",
    "Value Representation\tUnsigned Short (US)\n",
    "Data representation of the pixel samples. Each sample shall have the same pixel representation.\n",
    "\n",
    "--- STRONG (0,1) ---\n",
    "Pixel Spacing Attribute\n",
    "Tag\t(0028,0030)\n",
    "Type\tRequired (1)\n",
    "Keyword\tPixelSpacing\n",
    "Value Multiplicity\t2\n",
    "Value Representation\tDecimal String (DS)\n",
    "Physical distance in the patient between the center of each pixel, specified by a numeric pair - adjacent row spacing (delimiter) adjacent column spacing in mm. See Section 10.7.1.3 for further explanation.\n",
    "\n",
    "Rescale Intercept Attribute\n",
    "Tag\t(0028,1052)\n",
    "Type\tRequired (1)\n",
    "Keyword\tRescaleIntercept\n",
    "Value Multiplicity\t1\n",
    "Value Representation\tDecimal String (DS)\n",
    "The value b in relationship between stored values (SV) and the output units.\n",
    "Output units = m*SV+b\n",
    "If Image Type (0008,0008) Value 1 is ORIGINAL and Value 3 is not LOCALIZER, output units shall be Hounsfield Units (HU).\n",
    "\n",
    "--- STRONG (0) ---\n",
    "Window Center Attribute\n",
    "Tag\t(0028,1050)\n",
    "Type\tConditionally Required (1C)\n",
    "Keyword\tWindowCenter\n",
    "Value Multiplicity\t1-n\n",
    "Value Representation\tDecimal String (DS)\n",
    "Window Center for display.\n",
    "See Section C.11.2.1.2 for further explanation.\n",
    "Required if VOI LUT Sequence (0028,3010) is not present. May be present otherwise.\n",
    "\n",
    "Window Width Attribute\n",
    "Tag\t(0028,1051)\n",
    "Type\tConditionally Required (1C)\n",
    "Keyword\tWindowWidth\n",
    "Value Multiplicity\t1-n\n",
    "Value Representation\tDecimal String (DS)\n",
    "Window Width for display. See Section C.11.2.1.2 for further explanation.\n",
    "Required if Window Center (0028,1050) is present."
   ]
  },
  {
   "cell_type": "code",
   "execution_count": null,
   "metadata": {},
   "outputs": [],
   "source": []
  },
  {
   "cell_type": "code",
   "execution_count": 53,
   "metadata": {},
   "outputs": [],
   "source": [
    "def stratified_group_k_fold(X, y, groups, k, seed=42):\n",
    "    labels_num = np.max(y) + 1\n",
    "    y_counts_per_group = defaultdict(lambda: np.zeros(labels_num))\n",
    "    y_distr = Counter()\n",
    "    for label, g in zip(y, groups):\n",
    "        y_counts_per_group[g][label] += 1\n",
    "        y_distr[label] += 1\n",
    "\n",
    "    y_counts_per_fold = defaultdict(lambda: np.zeros(labels_num))\n",
    "    groups_per_fold = defaultdict(set)\n",
    "\n",
    "    def eval_y_counts_per_fold(y_counts, fold):\n",
    "        y_counts_per_fold[fold] += y_counts\n",
    "        std_per_label = []\n",
    "        for label in range(labels_num):\n",
    "            label_std = np.std([y_counts_per_fold[i][label] / y_distr[label] for i in range(k)])\n",
    "            std_per_label.append(label_std)\n",
    "        y_counts_per_fold[fold] -= y_counts\n",
    "        return np.mean(std_per_label)\n",
    "    \n",
    "    groups_and_y_counts = list(y_counts_per_group.items())\n",
    "    random.Random(seed).shuffle(groups_and_y_counts)\n",
    "\n",
    "    for g, y_counts in sorted(groups_and_y_counts, key=lambda x: -np.std(x[1])):\n",
    "        best_fold = None\n",
    "        min_eval = None\n",
    "        for i in range(k):\n",
    "            fold_eval = eval_y_counts_per_fold(y_counts, i)\n",
    "            if min_eval is None or fold_eval < min_eval:\n",
    "                min_eval = fold_eval\n",
    "                best_fold = i\n",
    "        y_counts_per_fold[best_fold] += y_counts\n",
    "        groups_per_fold[best_fold].add(g)\n",
    "\n",
    "    all_groups = set(groups)\n",
    "    for i in range(k):\n",
    "        train_groups = all_groups - groups_per_fold[i]\n",
    "        test_groups = groups_per_fold[i]\n",
    "\n",
    "        train_indices = [i for i, g in enumerate(groups) if g in train_groups]\n",
    "        test_indices = [i for i, g in enumerate(groups) if g in test_groups]\n",
    "\n",
    "        yield train_indices, test_indices"
   ]
  },
  {
   "cell_type": "code",
   "execution_count": 54,
   "metadata": {},
   "outputs": [],
   "source": [
    "params_lgb = {\n",
    "    'boosting_type': 'gbdt',\n",
    "    'objective': 'binary',\n",
    "    'metric': {'binary_logloss'},\n",
    "    'num_leaves': 96,\n",
    "    'max_depth': 7,\n",
    "    'feature_fraction': 0.9,\n",
    "    'bagging_fraction': 0.6,\n",
    "    'bagging_freq': 1,\n",
    "    'learning_rate': 0.05\n",
    "}"
   ]
  },
  {
   "cell_type": "code",
   "execution_count": 55,
   "metadata": {},
   "outputs": [],
   "source": [
    "FOLDS = 3\n",
    "\n",
    "def train_one(data = None, run_perm = False, target = 'qt', weight = None, group_col = None):\n",
    "    \n",
    "    fi = pd.DataFrame()\n",
    "    models = []\n",
    "    \n",
    "    my_seed = 1235\n",
    "    random.seed(my_seed)\n",
    "    np.random.seed(my_seed)\n",
    "    \n",
    "    for i, (dev_index, val_index) in enumerate(stratified_group_k_fold(\n",
    "                data,data[target],groups=group_col,k=FOLDS,seed=my_seed)):\n",
    "        data.loc[val_index,'fold'] = i\n",
    "    \n",
    "    data_filt = data.copy()\n",
    "    del data_filt[target]\n",
    "    \n",
    "    predictions = np.zeros(len(data_filt))\n",
    "    \n",
    "    for i in range(FOLDS):\n",
    "        \n",
    "        Xt, Xv = data_filt.loc[data_filt['fold'] != i, :], data_filt.loc[data_filt['fold'] == i, :]\n",
    "        yt, yv = data.loc[data_filt['fold'] != i, target], data.loc[data_filt['fold'] == i, target]\n",
    "        Xt = Xt.drop('fold', axis=1)\n",
    "        Xv = Xv.drop('fold', axis=1)\n",
    "        \n",
    "        wt = None\n",
    "        wv = None\n",
    "        if weight is not None:\n",
    "            wt = weight[data_filt['fold'] != i]\n",
    "            wv = weight[data_filt['fold'] == i]\n",
    "        \n",
    "        print('Fold', i, 'weight', np.sum(wt))\n",
    "        \n",
    "        d_train = lgb.Dataset(Xt, yt, weight = wt)\n",
    "        d_valid = lgb.Dataset(Xv, yv, weight = wv)\n",
    "\n",
    "        watchlist = [d_train, d_valid]\n",
    "        model = lgb.train(params_lgb,\n",
    "                          train_set=d_train,\n",
    "                          num_boost_round=200,\n",
    "                          valid_sets=watchlist,\n",
    "                          verbose_eval=10,\n",
    "                          early_stopping_rounds=20)\n",
    "\n",
    "        predictions[data_filt['fold'] == i] = model.predict(Xv, num_iteration=model.best_iteration)\n",
    "\n",
    "        if run_perm:\n",
    "            def eli_score(X, y):\n",
    "                y_pred = model.predict(X, num_iteration=model.best_iteration)\n",
    "                return np.abs(np.clip(y_pred,0,14) - y).mean()\n",
    "\n",
    "            base_score, score_decreases = get_score_importances(eli_score, np.array(Xv), yv.values, \n",
    "                                                                random_state=1000+10*i)\n",
    "            fi = pd.concat([fi, pd.DataFrame(np.array(score_decreases), columns = Xt.columns)], axis=0)\n",
    "        else:\n",
    "            fold_importance = pd.DataFrame()\n",
    "            fold_importance[\"feature\"] = Xt.columns\n",
    "            fold_importance[\"importance\"] = model.feature_importance()\n",
    "            fold_importance[\"fold\"] = i\n",
    "            fi = pd.concat([fi, fold_importance], axis=0)\n",
    "\n",
    "        models.append(model)\n",
    "    \n",
    "    print('Log-loss', log_loss(data[target],predictions))\n",
    "    print('correlation', np.corrcoef(data[target],predictions)[0,1])\n",
    "    \n",
    "    return predictions, models, fi"
   ]
  },
  {
   "cell_type": "code",
   "execution_count": 56,
   "metadata": {},
   "outputs": [],
   "source": [
    "#['any','epidural','intraparenchymal','intraventricular','subarachnoid','subdural']\n",
    "target = 'any'\n",
    "train_md_filt = train_md.loc[:,cols_cat + cols_float + [target]]\n",
    "#train_md_filt = train_md.loc[:,significant_cols + [target]]"
   ]
  },
  {
   "cell_type": "code",
   "execution_count": 259,
   "metadata": {},
   "outputs": [],
   "source": [
    "weights = None"
   ]
  },
  {
   "cell_type": "code",
   "execution_count": 383,
   "metadata": {},
   "outputs": [],
   "source": [
    "weights = np.zeros(len(train_md))\n",
    "weights[train_md[target] == 1] = 1/train_md[target].mean()\n",
    "weights[train_md[target] == 0] = 1/(1-train_md[target].mean())"
   ]
  },
  {
   "cell_type": "code",
   "execution_count": 57,
   "metadata": {},
   "outputs": [],
   "source": [
    "weights = train_md.weight"
   ]
  },
  {
   "cell_type": "code",
   "execution_count": 58,
   "metadata": {},
   "outputs": [
    {
     "name": "stdout",
     "output_type": "stream",
     "text": [
      "Fold 0 weight 52085.24332544031\n"
     ]
    },
    {
     "name": "stderr",
     "output_type": "stream",
     "text": [
      "C:\\Users\\nosou\\Anaconda3\\envs\\fastai\\lib\\site-packages\\lightgbm\\basic.py:762: UserWarning: categorical_feature in param dict is overridden.\n",
      "  warnings.warn('categorical_feature in param dict is overridden.')\n"
     ]
    },
    {
     "name": "stdout",
     "output_type": "stream",
     "text": [
      "Training until validation scores don't improve for 20 rounds.\n",
      "[10]\ttraining's binary_logloss: 0.24315\tvalid_1's binary_logloss: 0.253397\n",
      "[20]\ttraining's binary_logloss: 0.233951\tvalid_1's binary_logloss: 0.246845\n",
      "[30]\ttraining's binary_logloss: 0.227142\tvalid_1's binary_logloss: 0.244899\n",
      "[40]\ttraining's binary_logloss: 0.222373\tvalid_1's binary_logloss: 0.244304\n",
      "[50]\ttraining's binary_logloss: 0.218732\tvalid_1's binary_logloss: 0.244317\n",
      "[60]\ttraining's binary_logloss: 0.216361\tvalid_1's binary_logloss: 0.244488\n",
      "[70]\ttraining's binary_logloss: 0.213373\tvalid_1's binary_logloss: 0.24503\n",
      "Early stopping, best iteration is:\n",
      "[52]\ttraining's binary_logloss: 0.218255\tvalid_1's binary_logloss: 0.244214\n",
      "Fold 1 weight 52651.63260312157\n",
      "Training until validation scores don't improve for 20 rounds.\n",
      "[10]\ttraining's binary_logloss: 0.249686\tvalid_1's binary_logloss: 0.241597\n",
      "[20]\ttraining's binary_logloss: 0.2385\tvalid_1's binary_logloss: 0.235433\n",
      "[30]\ttraining's binary_logloss: 0.232087\tvalid_1's binary_logloss: 0.233377\n",
      "[40]\ttraining's binary_logloss: 0.227482\tvalid_1's binary_logloss: 0.232743\n",
      "[50]\ttraining's binary_logloss: 0.223465\tvalid_1's binary_logloss: 0.232815\n",
      "[60]\ttraining's binary_logloss: 0.220078\tvalid_1's binary_logloss: 0.232938\n",
      "Early stopping, best iteration is:\n",
      "[43]\ttraining's binary_logloss: 0.226175\tvalid_1's binary_logloss: 0.232676\n",
      "Fold 2 weight 52353.12406197598\n",
      "Training until validation scores don't improve for 20 rounds.\n",
      "[10]\ttraining's binary_logloss: 0.24309\tvalid_1's binary_logloss: 0.252557\n",
      "[20]\ttraining's binary_logloss: 0.232982\tvalid_1's binary_logloss: 0.246189\n",
      "[30]\ttraining's binary_logloss: 0.226321\tvalid_1's binary_logloss: 0.243855\n",
      "[40]\ttraining's binary_logloss: 0.22203\tvalid_1's binary_logloss: 0.242848\n",
      "[50]\ttraining's binary_logloss: 0.218363\tvalid_1's binary_logloss: 0.243012\n",
      "[60]\ttraining's binary_logloss: 0.214355\tvalid_1's binary_logloss: 0.243762\n",
      "Early stopping, best iteration is:\n",
      "[42]\ttraining's binary_logloss: 0.221194\tvalid_1's binary_logloss: 0.242732\n",
      "Log-loss 0.3239098097054782\n",
      "correlation 0.45916872573240947\n"
     ]
    }
   ],
   "source": [
    "predictions, models, fi = train_one(data = train_md_filt, target = target, weight = weights,\n",
    "                                    group_col = train_md['PatientID'].values, run_perm = False)"
   ]
  },
  {
   "cell_type": "code",
   "execution_count": null,
   "metadata": {},
   "outputs": [],
   "source": [
    "# Log-loss 0.3199663177316350\n",
    "# Log-loss 0.3199656382395672 - seed 1235\n",
    "# Log-loss 0.3199215860958348 - seed 1235 / only significant\n",
    "# Log-loss 0.3193615167492591 - only significant\n",
    "# Log-loss 0.3195333145247021\n",
    "# Log-loss 0.3197181080279387\n",
    "# Log-loss 0.319863484530601\n",
    "# Log-loss 0.3200582941680835"
   ]
  },
  {
   "cell_type": "code",
   "execution_count": 59,
   "metadata": {
    "scrolled": true
   },
   "outputs": [
    {
     "data": {
      "text/plain": [
       "0.7978670348307371"
      ]
     },
     "execution_count": 59,
     "metadata": {},
     "output_type": "execute_result"
    }
   ],
   "source": [
    "predictions.max()"
   ]
  },
  {
   "cell_type": "code",
   "execution_count": 60,
   "metadata": {},
   "outputs": [
    {
     "data": {
      "text/plain": [
       "0.007832802543123706"
      ]
     },
     "execution_count": 60,
     "metadata": {},
     "output_type": "execute_result"
    }
   ],
   "source": [
    "predictions.min()"
   ]
  },
  {
   "cell_type": "code",
   "execution_count": 61,
   "metadata": {},
   "outputs": [
    {
     "data": {
      "image/png": "[encoded data removed]",
      "text/plain": [
       "<Figure size 432x288 with 1 Axes>"
      ]
     },
     "metadata": {
      "needs_background": "light"
     },
     "output_type": "display_data"
    }
   ],
   "source": [
    "a = plt.hist(predictions[train_md['any'].values == 0], bins=100, density=True, alpha=0.5)\n",
    "a = plt.hist(predictions[train_md['any'].values == 1], bins=100, density=True, alpha=0.5)"
   ]
  },
  {
   "cell_type": "code",
   "execution_count": 202,
   "metadata": {},
   "outputs": [
    {
     "data": {
      "text/plain": [
       "array(['PixelRepresentation', 'ImageOrientationPatient_4',\n",
       "       'ImagePositionPatient_0', 'ImagePositionPatient_1',\n",
       "       'ImagePositionPatient_2', 'PixelSpacing_0', 'PixelSpacing_1',\n",
       "       'WindowCenter_0'], dtype=object)"
      ]
     },
     "execution_count": 202,
     "metadata": {},
     "output_type": "execute_result"
    }
   ],
   "source": [
    "scores = fi.max(0)\n",
    "significant_cols = scores[scores < 0].index.values\n",
    "significant_cols"
   ]
  },
  {
   "cell_type": "code",
   "execution_count": 11,
   "metadata": {},
   "outputs": [],
   "source": [
    "significant_cols = ['PixelRepresentation', 'ImageOrientationPatient_4',\n",
    "       'ImagePositionPatient_0', 'ImagePositionPatient_1',\n",
    "       'ImagePositionPatient_2', 'PixelSpacing_0', 'PixelSpacing_1',\n",
    "       'WindowCenter_0']"
   ]
  },
  {
   "cell_type": "code",
   "execution_count": 62,
   "metadata": {},
   "outputs": [
    {
     "data": {
      "image/png": "[encoded data removed]",
      "text/plain": [
       "<Figure size 1152x864 with 1 Axes>"
      ]
     },
     "metadata": {
      "needs_background": "light"
     },
     "output_type": "display_data"
    }
   ],
   "source": [
    "fi['score'] = fi[[\"feature\", \"importance\"]].groupby('feature').transform('mean')\n",
    "\n",
    "cols = fi[[\"feature\", \"importance\"]].groupby(\"feature\").mean().sort_values(\n",
    "    by=\"importance\", ascending=False)[:50].index\n",
    "best_features = fi.loc[fi.feature.isin(cols)]\n",
    "\n",
    "plt.figure(figsize=(16, 12));\n",
    "sn.barplot(x=\"importance\", y=\"feature\", data=best_features.sort_values(by=\"score\", ascending=False));\n",
    "plt.title('LGB Features (avg over folds)');"
   ]
  },
  {
   "cell_type": "markdown",
   "metadata": {},
   "source": [
    "# Prediction"
   ]
  },
  {
   "cell_type": "code",
   "execution_count": 86,
   "metadata": {},
   "outputs": [],
   "source": [
    "test_md_filt = test_md.loc[:,cols_cat + cols_float]\n",
    "preds = np.zeros((FOLDS,len(test_md)))\n",
    "for i in range(FOLDS):\n",
    "    preds[i,:] = models[i].predict(test_md_filt, num_iteration=models[i].best_iteration)"
   ]
  },
  {
   "cell_type": "code",
   "execution_count": 87,
   "metadata": {},
   "outputs": [],
   "source": [
    "preds = preds.mean(0)"
   ]
  },
  {
   "cell_type": "code",
   "execution_count": 64,
   "metadata": {},
   "outputs": [],
   "source": [
    "#preds = preds.mean(0)\n",
    "preds = np.exp(np.log(preds).mean(0))"
   ]
  },
  {
   "cell_type": "code",
   "execution_count": 80,
   "metadata": {},
   "outputs": [
    {
     "data": {
      "text/plain": [
       "0.07437373434186983"
      ]
     },
     "execution_count": 80,
     "metadata": {},
     "output_type": "execute_result"
    }
   ],
   "source": [
    "preds.mean()"
   ]
  },
  {
   "cell_type": "code",
   "execution_count": 81,
   "metadata": {},
   "outputs": [
    {
     "data": {
      "image/png": "[encoded data removed]",
      "text/plain": [
       "<Figure size 432x288 with 1 Axes>"
      ]
     },
     "metadata": {
      "needs_background": "light"
     },
     "output_type": "display_data"
    }
   ],
   "source": [
    "a = plt.hist(preds,bins=100)"
   ]
  },
  {
   "cell_type": "code",
   "execution_count": 67,
   "metadata": {},
   "outputs": [
    {
     "data": {
      "text/plain": [
       "0.13847677632686278"
      ]
     },
     "execution_count": 67,
     "metadata": {},
     "output_type": "execute_result"
    }
   ],
   "source": [
    "predictions.mean()"
   ]
  },
  {
   "cell_type": "code",
   "execution_count": 68,
   "metadata": {},
   "outputs": [
    {
     "data": {
      "text/plain": [
       "0.13847677632686278"
      ]
     },
     "execution_count": 68,
     "metadata": {},
     "output_type": "execute_result"
    }
   ],
   "source": [
    "predictions.mean()"
   ]
  },
  {
   "cell_type": "code",
   "execution_count": 69,
   "metadata": {},
   "outputs": [
    {
     "data": {
      "text/plain": [
       "0.07589208670021227"
      ]
     },
     "execution_count": 69,
     "metadata": {},
     "output_type": "execute_result"
    }
   ],
   "source": [
    "(predictions*weights).mean()/weights.mean()"
   ]
  },
  {
   "cell_type": "code",
   "execution_count": 70,
   "metadata": {},
   "outputs": [
    {
     "data": {
      "image/png": "[encoded data removed]",
      "text/plain": [
       "<Figure size 432x288 with 1 Axes>"
      ]
     },
     "metadata": {
      "needs_background": "light"
     },
     "output_type": "display_data"
    }
   ],
   "source": [
    "a = plt.hist(predictions,bins=100)"
   ]
  },
  {
   "cell_type": "code",
   "execution_count": 71,
   "metadata": {},
   "outputs": [
    {
     "data": {
      "image/png": "[encoded data removed]",
      "text/plain": [
       "<Figure size 432x288 with 1 Axes>"
      ]
     },
     "metadata": {
      "needs_background": "light"
     },
     "output_type": "display_data"
    }
   ],
   "source": [
    "a = plt.hist(predictions,bins=100,weights=weights)"
   ]
  },
  {
   "cell_type": "code",
   "execution_count": 88,
   "metadata": {},
   "outputs": [],
   "source": [
    "sub = pd.read_csv(PATH/'submission20.csv')"
   ]
  },
  {
   "cell_type": "code",
   "execution_count": 73,
   "metadata": {},
   "outputs": [
    {
     "data": {
      "text/plain": [
       "0.1255341744607709"
      ]
     },
     "execution_count": 73,
     "metadata": {},
     "output_type": "execute_result"
    }
   ],
   "source": [
    "sub.loc[range(0,len(sub),6), 'Label'].mean()"
   ]
  },
  {
   "cell_type": "code",
   "execution_count": 74,
   "metadata": {},
   "outputs": [],
   "source": [
    "assert np.all(test_md.SOPInstanceUID.apply(lambda x: x + '_any').values == sub.loc[range(0,len(sub),6)].ID.values)"
   ]
  },
  {
   "cell_type": "code",
   "execution_count": 82,
   "metadata": {
    "scrolled": true
   },
   "outputs": [
    {
     "data": {
      "text/plain": [
       "0.30144820570391995"
      ]
     },
     "execution_count": 82,
     "metadata": {},
     "output_type": "execute_result"
    }
   ],
   "source": [
    "np.corrcoef(sub.loc[range(0,len(sub),6), 'Label'], preds)[0,1]"
   ]
  },
  {
   "cell_type": "code",
   "execution_count": 83,
   "metadata": {},
   "outputs": [],
   "source": [
    "sub.loc[range(0,len(sub),6), 'Label'] = np.exp(0.95*np.log(sub.loc[range(0,len(sub),6), 'Label']) + 0.05*np.log(preds))"
   ]
  },
  {
   "cell_type": "code",
   "execution_count": 89,
   "metadata": {},
   "outputs": [],
   "source": [
    "sub.loc[range(0,len(sub),6), 'Label'] = 0.95*sub.loc[range(0,len(sub),6), 'Label'] + 0.05*preds"
   ]
  },
  {
   "cell_type": "code",
   "execution_count": 363,
   "metadata": {},
   "outputs": [],
   "source": [
    "sub.Label *= 0.98"
   ]
  },
  {
   "cell_type": "code",
   "execution_count": 90,
   "metadata": {},
   "outputs": [],
   "source": [
    "sub.to_csv(PATH/'submission.csv', index=False)"
   ]
  },
  {
   "cell_type": "markdown",
   "metadata": {},
   "source": [
    "# Confusion matrix"
   ]
  },
  {
   "cell_type": "code",
   "execution_count": 5,
   "metadata": {},
   "outputs": [
    {
     "data": {
      "text/plain": [
       "array([[97103.,  2761., 32564., 23766., 32122., 42496.],\n",
       "       [ 2761.,  2761.,   556.,   216.,   484.,   645.],\n",
       "       [32564.,   556., 32564.,  9616.,  8321.,  6541.],\n",
       "       [23766.,   216.,  9616., 23766.,  6735.,  3404.],\n",
       "       [32122.,   484.,  8321.,  6735., 32122.,  8505.],\n",
       "       [42496.,   645.,  6541.,  3404.,  8505., 42496.]])"
      ]
     },
     "execution_count": 5,
     "metadata": {},
     "output_type": "execute_result"
    }
   ],
   "source": [
    "mat = np.array(train_df.loc[:,train_df.columns[:6]].values, dtype=float)\n",
    "np.matmul(mat.transpose(),mat)"
   ]
  },
  {
   "cell_type": "code",
   "execution_count": 6,
   "metadata": {},
   "outputs": [
    {
     "data": {
      "text/plain": [
       "array([0.144 , 0.0041, 0.0483, 0.0352, 0.0476, 0.063 ])"
      ]
     },
     "execution_count": 6,
     "metadata": {},
     "output_type": "execute_result"
    }
   ],
   "source": [
    "mat.mean(0)"
   ]
  },
  {
   "cell_type": "code",
   "execution_count": 348,
   "metadata": {},
   "outputs": [
    {
     "name": "stdout",
     "output_type": "stream",
     "text": [
      "0.12304686302872321\n",
      "0.003958621945498708\n",
      "0.04364857134731329\n",
      "0.0272813377865004\n",
      "0.04397713774839064\n",
      "0.0517257743941261\n"
     ]
    }
   ],
   "source": [
    "for i in range(6):\n",
    "    print(sub.loc[range(i,len(sub),6), 'Label'].mean())"
   ]
  },
  {
   "cell_type": "code",
   "execution_count": 7,
   "metadata": {},
   "outputs": [
    {
     "data": {
      "text/plain": [
       "array([[1.    , 0.1686, 0.5791, 0.4947, 0.5752, 0.6615],\n",
       "       [0.1686, 1.    , 0.0586, 0.0267, 0.0514, 0.0595],\n",
       "       [0.5791, 0.0586, 1.    , 0.3457, 0.2573, 0.1758],\n",
       "       [0.4947, 0.0267, 0.3457, 1.    , 0.2438, 0.1071],\n",
       "       [0.5752, 0.0514, 0.2573, 0.2438, 1.    , 0.2302],\n",
       "       [0.6615, 0.0595, 0.1758, 0.1071, 0.2302, 1.    ]])"
      ]
     },
     "execution_count": 7,
     "metadata": {},
     "output_type": "execute_result"
    }
   ],
   "source": [
    "np.set_printoptions(precision=4)\n",
    "mat /= np.sqrt(mat.sum(0))\n",
    "np.matmul(mat.transpose(),mat)"
   ]
  },
  {
   "cell_type": "code",
   "execution_count": null,
   "metadata": {},
   "outputs": [],
   "source": []
  },
  {
   "cell_type": "code",
   "execution_count": null,
   "metadata": {},
   "outputs": [],
   "source": []
  }
 ],
 "metadata": {
  "kernelspec": {
   "display_name": "Python 3",
   "language": "python",
   "name": "python3"
  },
  "language_info": {
   "codemirror_mode": {
    "name": "ipython",
    "version": 3
   },
   "file_extension": ".py",
   "mimetype": "text/x-python",
   "name": "python",
   "nbconvert_exporter": "python",
   "pygments_lexer": "ipython3",
   "version": "3.6.6"
  }
 },
 "nbformat": 4,
 "nbformat_minor": 2
}
