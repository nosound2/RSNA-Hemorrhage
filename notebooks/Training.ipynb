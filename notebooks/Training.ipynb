{
 "cells": [
  {
   "cell_type": "code",
   "execution_count": 1,
   "metadata": {},
   "outputs": [],
   "source": [
    "VERSION = 33\n",
    "\n",
    "WEIGHTED = False\n",
    "TRAIN_ON_STAGE_1 = True\n",
    "\n",
    "FOCAL_LOSS = 0\n",
    "CLOUD_SINGLE = True\n",
    "MIXUP = False\n",
    "NO_BLACK_LOSS = True\n",
    "DATA_SMALL = False"
   ]
  },
  {
   "cell_type": "code",
   "execution_count": 2,
   "metadata": {},
   "outputs": [],
   "source": [
    "%run ./Code.ipynb"
   ]
  },
  {
   "cell_type": "code",
   "execution_count": 3,
   "metadata": {},
   "outputs": [],
   "source": [
    "if 'train_md' not in globals() or 'test_md' not in globals():\n",
    "    train_md, test_md = loadMetadata()"
   ]
  },
  {
   "cell_type": "code",
   "execution_count": 32,
   "metadata": {},
   "outputs": [],
   "source": [
    "train_md, test_md = loadMetadata()"
   ]
  },
  {
   "cell_type": "code",
   "execution_count": 4,
   "metadata": {},
   "outputs": [],
   "source": []
  },
  {
   "cell_type": "code",
   "execution_count": 3,
   "metadata": {},
   "outputs": [],
   "source": [
    "if 'train_md' not in globals():\n",
    "    train_md = loadMetadata2()"
   ]
  },
  {
   "cell_type": "markdown",
   "metadata": {},
   "source": [
    "# Pre-processing features"
   ]
  },
  {
   "cell_type": "code",
   "execution_count": 8,
   "metadata": {},
   "outputs": [],
   "source": [
    "_,_ = loadMetadata(True)"
   ]
  },
  {
   "cell_type": "code",
   "execution_count": 9,
   "metadata": {},
   "outputs": [],
   "source": [
    "#_ = loadMetadata2(True)"
   ]
  },
  {
   "cell_type": "code",
   "execution_count": 8,
   "metadata": {},
   "outputs": [
    {
     "name": "stdout",
     "output_type": "stream",
     "text": [
      "dataset 7 fold 0 feats size torch.Size([2697008, 552])\n",
      "dataset 7 fold 1 feats size torch.Size([2697008, 552])\n",
      "dataset 7 fold 2 feats size torch.Size([2697008, 552])\n",
      "dataset 9 fold 0 feats size torch.Size([2697008, 256])\n",
      "dataset 9 fold 1 feats size torch.Size([2697008, 256])\n",
      "dataset 9 fold 2 feats size torch.Size([2697008, 256])\n",
      "dataset 11 fold 0 feats size torch.Size([2697008, 256])\n",
      "dataset 11 fold 1 feats size torch.Size([2697008, 256])\n",
      "dataset 11 fold 2 feats size torch.Size([2697008, 256])\n",
      "dataset 11 fold 3 feats size torch.Size([2697008, 256])\n",
      "dataset 11 fold 4 feats size torch.Size([2697008, 256])\n",
      "dataset 12 fold 0 feats size torch.Size([2697008, 256])\n",
      "dataset 12 fold 1 feats size torch.Size([2697008, 256])\n",
      "dataset 12 fold 2 feats size torch.Size([2697008, 256])\n",
      "dataset 12 fold 3 feats size torch.Size([2697008, 256])\n",
      "dataset 12 fold 4 feats size torch.Size([2697008, 256])\n",
      "dataset 13 fold 0 feats size torch.Size([2697008, 256])\n",
      "dataset 13 fold 1 feats size torch.Size([2697008, 256])\n",
      "dataset 13 fold 2 feats size torch.Size([2697008, 256])\n",
      "dataset 13 fold 3 feats size torch.Size([2697008, 256])\n",
      "dataset 13 fold 4 feats size torch.Size([2697008, 256])\n"
     ]
    }
   ],
   "source": [
    "for ds in my_datasets3:\n",
    "    preprocessedData(ds)\n",
    "\n",
    "for ds in my_datasets5:\n",
    "    preprocessedData(ds, folds=range(5))"
   ]
  },
  {
   "cell_type": "code",
   "execution_count": 4,
   "metadata": {},
   "outputs": [
    {
     "name": "stdout",
     "output_type": "stream",
     "text": [
      "dataset 14 fold 0 feats size torch.Size([3011188, 256])\n",
      "dataset 14 fold 1 feats size torch.Size([3011188, 256])\n"
     ]
    }
   ],
   "source": [
    "preprocessedData(14,fold_col='fold5',do_test=False,folds=range(2))"
   ]
  },
  {
   "cell_type": "code",
   "execution_count": null,
   "metadata": {},
   "outputs": [],
   "source": []
  },
  {
   "cell_type": "markdown",
   "metadata": {},
   "source": [
    "# Running"
   ]
  },
  {
   "cell_type": "code",
   "execution_count": null,
   "metadata": {
    "scrolled": true
   },
   "outputs": [
    {
     "name": "stdout",
     "output_type": "stream",
     "text": [
      "completed epochs: 0 starting now: 4\n",
      "DataSet 12 train size 17833 fold 0\n",
      "adding dummy serieses 25\n",
      "DataSet 12 valid size 3936 fold 0\n",
      "setFeats, augmentation 0\n",
      "dataset train: 17833 valid: 3936 loader train: 557 valid: 123\n",
      "starting from scratch\n",
      "setFeats, augmentation -1\n",
      "Batch 50 device: cuda time passed: 12.868 time per batch: 0.257\n",
      "Batch 100 device: cuda time passed: 22.000 time per batch: 0.220\n",
      "Batch 150 device: cuda time passed: 31.766 time per batch: 0.212\n",
      "Batch 200 device: cuda time passed: 42.570 time per batch: 0.213\n",
      "Batch 250 device: cuda time passed: 52.031 time per batch: 0.208\n",
      "Batch 300 device: cuda time passed: 61.171 time per batch: 0.204\n",
      "Batch 350 device: cuda time passed: 70.580 time per batch: 0.202\n"
     ]
    }
   ],
   "source": [
    "weight_decay = 1e-4\n",
    "lrs = np.array([2e-4, 2e-5, 5e-6, 2e-6])\n",
    "epochs = np.array([4, 4, 3, 2])\n",
    "stg = time.time()\n",
    "ds=12\n",
    "folds = 2\n",
    "for f in range(folds):\n",
    "    for i,lr in enumerate(lrs):\n",
    "        learning_rate = lr\n",
    "        model, predictions, val_results = train_one(dataset=ds, epochs=epochs[i], bs=32, fold=f)\n",
    "    print('total time', time.time() - stg)\n",
    "print('total time', time.time() - stg)"
   ]
  },
  {
   "cell_type": "code",
   "execution_count": 15,
   "metadata": {},
   "outputs": [],
   "source": [
    "TRAIN_ON_STAGE_1 = True"
   ]
  },
  {
   "cell_type": "code",
   "execution_count": 6,
   "metadata": {
    "scrolled": true
   },
   "outputs": [
    {
     "name": "stdout",
     "output_type": "stream",
     "text": [
      "completed epochs: 0 starting now: 4\n",
      "DataSet 14 train size 17369 fold 0\n",
      "adding dummy serieses 9\n",
      "DataSet 14 valid size 4384 fold 0\n",
      "setFeats, augmentation 0\n",
      "dataset train: 17369 valid: 4384 loader train: 542 valid: 137\n",
      "starting from scratch\n",
      "setFeats, augmentation -1\n",
      "Batch 50 device: cuda time passed: 11.805 time per batch: 0.236\n",
      "Batch 100 device: cuda time passed: 20.281 time per batch: 0.203\n",
      "Batch 150 device: cuda time passed: 28.928 time per batch: 0.193\n",
      "Batch 200 device: cuda time passed: 37.393 time per batch: 0.187\n",
      "Batch 250 device: cuda time passed: 45.609 time per batch: 0.182\n",
      "Batch 300 device: cuda time passed: 53.913 time per batch: 0.180\n",
      "Batch 350 device: cuda time passed: 62.033 time per batch: 0.177\n",
      "Batch 400 device: cuda time passed: 70.307 time per batch: 0.176\n",
      "Batch 450 device: cuda time passed: 79.923 time per batch: 0.178\n",
      "Batch 500 device: cuda time passed: 87.936 time per batch: 0.176\n",
      "Batch 50 device: cuda time passed: 4.289 time per batch: 0.086\n",
      "Batch 100 device: cuda time passed: 7.491 time per batch: 0.075\n",
      "v31, d14, e1, f0, trn ll: 0.0594, val ll: 0.0698, ll_w: 0.0719, cor: 0.8227, auc: 0.9854, lr: 0.0002\n",
      "setFeats, augmentation -1\n",
      "Batch 50 device: cuda time passed: 11.493 time per batch: 0.230\n",
      "Batch 100 device: cuda time passed: 19.944 time per batch: 0.199\n",
      "Batch 150 device: cuda time passed: 28.122 time per batch: 0.187\n",
      "Batch 200 device: cuda time passed: 36.363 time per batch: 0.182\n",
      "Batch 250 device: cuda time passed: 44.703 time per batch: 0.179\n",
      "Batch 300 device: cuda time passed: 53.144 time per batch: 0.177\n",
      "Batch 350 device: cuda time passed: 61.155 time per batch: 0.175\n",
      "Batch 400 device: cuda time passed: 69.591 time per batch: 0.174\n",
      "Batch 450 device: cuda time passed: 78.882 time per batch: 0.175\n",
      "Batch 500 device: cuda time passed: 87.192 time per batch: 0.174\n",
      "Batch 50 device: cuda time passed: 4.202 time per batch: 0.084\n",
      "Batch 100 device: cuda time passed: 7.591 time per batch: 0.076\n",
      "v31, d14, e2, f0, trn ll: 0.0364, val ll: 0.0660, ll_w: 0.0682, cor: 0.8317, auc: 0.9862, lr: 0.0002\n",
      "setFeats, augmentation -1\n",
      "Batch 50 device: cuda time passed: 11.911 time per batch: 0.238\n",
      "Batch 100 device: cuda time passed: 20.202 time per batch: 0.202\n",
      "Batch 150 device: cuda time passed: 28.722 time per batch: 0.191\n",
      "Batch 200 device: cuda time passed: 36.985 time per batch: 0.185\n",
      "Batch 250 device: cuda time passed: 45.477 time per batch: 0.182\n",
      "Batch 300 device: cuda time passed: 53.849 time per batch: 0.179\n",
      "Batch 350 device: cuda time passed: 61.997 time per batch: 0.177\n",
      "Batch 400 device: cuda time passed: 70.505 time per batch: 0.176\n",
      "Batch 450 device: cuda time passed: 80.223 time per batch: 0.178\n",
      "Batch 500 device: cuda time passed: 88.331 time per batch: 0.177\n",
      "Batch 50 device: cuda time passed: 4.220 time per batch: 0.084\n",
      "Batch 100 device: cuda time passed: 7.406 time per batch: 0.074\n",
      "v31, d14, e3, f0, trn ll: 0.0350, val ll: 0.0633, ll_w: 0.0702, cor: 0.8388, auc: 0.9870, lr: 0.0002\n",
      "setFeats, augmentation -1\n",
      "Batch 50 device: cuda time passed: 11.570 time per batch: 0.231\n",
      "Batch 100 device: cuda time passed: 20.241 time per batch: 0.202\n",
      "Batch 150 device: cuda time passed: 28.451 time per batch: 0.190\n",
      "Batch 200 device: cuda time passed: 37.099 time per batch: 0.185\n",
      "Batch 250 device: cuda time passed: 45.739 time per batch: 0.183\n",
      "Batch 300 device: cuda time passed: 53.932 time per batch: 0.180\n",
      "Batch 350 device: cuda time passed: 62.152 time per batch: 0.178\n",
      "Batch 400 device: cuda time passed: 70.327 time per batch: 0.176\n",
      "Batch 450 device: cuda time passed: 80.083 time per batch: 0.178\n",
      "Batch 500 device: cuda time passed: 88.248 time per batch: 0.176\n",
      "Batch 50 device: cuda time passed: 4.258 time per batch: 0.085\n",
      "Batch 100 device: cuda time passed: 7.669 time per batch: 0.077\n",
      "v31, d14, e4, f0, trn ll: 0.0343, val ll: 0.0631, ll_w: 0.0661, cor: 0.8371, auc: 0.9871, lr: 0.0002\n",
      "total running time 460.6524429321289\n",
      "completed epochs: 4 starting now: 4\n",
      "DataSet 14 train size 17369 fold 0\n",
      "adding dummy serieses 9\n",
      "DataSet 14 valid size 4384 fold 0\n",
      "setFeats, augmentation 0\n",
      "dataset train: 17369 valid: 4384 loader train: 542 valid: 137\n",
      "loading model model.b4.f0.d14.v31\n",
      "setFeats, augmentation -1\n",
      "Batch 50 device: cuda time passed: 11.326 time per batch: 0.227\n",
      "Batch 100 device: cuda time passed: 20.325 time per batch: 0.203\n",
      "Batch 150 device: cuda time passed: 29.148 time per batch: 0.194\n",
      "Batch 200 device: cuda time passed: 37.578 time per batch: 0.188\n",
      "Batch 250 device: cuda time passed: 45.777 time per batch: 0.183\n",
      "Batch 300 device: cuda time passed: 54.033 time per batch: 0.180\n",
      "Batch 350 device: cuda time passed: 62.148 time per batch: 0.178\n",
      "Batch 400 device: cuda time passed: 69.961 time per batch: 0.175\n",
      "Batch 450 device: cuda time passed: 80.018 time per batch: 0.178\n",
      "Batch 500 device: cuda time passed: 88.073 time per batch: 0.176\n",
      "Batch 50 device: cuda time passed: 4.229 time per batch: 0.085\n",
      "Batch 100 device: cuda time passed: 7.462 time per batch: 0.075\n",
      "v31, d14, e5, f0, trn ll: 0.0327, val ll: 0.0598, ll_w: 0.0631, cor: 0.8459, auc: 0.9891, lr: 2e-05\n",
      "setFeats, augmentation -1\n",
      "Batch 50 device: cuda time passed: 11.390 time per batch: 0.228\n",
      "Batch 100 device: cuda time passed: 19.881 time per batch: 0.199\n",
      "Batch 150 device: cuda time passed: 28.217 time per batch: 0.188\n",
      "Batch 200 device: cuda time passed: 36.751 time per batch: 0.184\n",
      "Batch 250 device: cuda time passed: 45.252 time per batch: 0.181\n",
      "Batch 300 device: cuda time passed: 53.962 time per batch: 0.180\n",
      "Batch 350 device: cuda time passed: 62.302 time per batch: 0.178\n",
      "Batch 400 device: cuda time passed: 70.350 time per batch: 0.176\n",
      "Batch 450 device: cuda time passed: 79.998 time per batch: 0.178\n",
      "Batch 500 device: cuda time passed: 88.038 time per batch: 0.176\n",
      "Batch 50 device: cuda time passed: 4.425 time per batch: 0.088\n",
      "Batch 100 device: cuda time passed: 7.635 time per batch: 0.076\n",
      "v31, d14, e6, f0, trn ll: 0.0324, val ll: 0.0595, ll_w: 0.0633, cor: 0.8471, auc: 0.9892, lr: 2e-05\n",
      "setFeats, augmentation -1\n",
      "Batch 50 device: cuda time passed: 11.360 time per batch: 0.227\n",
      "Batch 100 device: cuda time passed: 20.098 time per batch: 0.201\n",
      "Batch 150 device: cuda time passed: 28.572 time per batch: 0.190\n",
      "Batch 200 device: cuda time passed: 37.205 time per batch: 0.186\n",
      "Batch 250 device: cuda time passed: 45.508 time per batch: 0.182\n",
      "Batch 300 device: cuda time passed: 53.687 time per batch: 0.179\n",
      "Batch 350 device: cuda time passed: 61.932 time per batch: 0.177\n",
      "Batch 400 device: cuda time passed: 70.071 time per batch: 0.175\n",
      "Batch 450 device: cuda time passed: 79.860 time per batch: 0.177\n",
      "Batch 500 device: cuda time passed: 87.989 time per batch: 0.176\n",
      "Batch 50 device: cuda time passed: 4.329 time per batch: 0.087\n",
      "Batch 100 device: cuda time passed: 7.588 time per batch: 0.076\n",
      "v31, d14, e7, f0, trn ll: 0.0323, val ll: 0.0596, ll_w: 0.0631, cor: 0.8469, auc: 0.9893, lr: 2e-05\n",
      "setFeats, augmentation -1\n",
      "Batch 50 device: cuda time passed: 10.952 time per batch: 0.219\n",
      "Batch 100 device: cuda time passed: 20.042 time per batch: 0.200\n",
      "Batch 150 device: cuda time passed: 28.599 time per batch: 0.191\n",
      "Batch 200 device: cuda time passed: 36.687 time per batch: 0.183\n",
      "Batch 250 device: cuda time passed: 44.897 time per batch: 0.180\n",
      "Batch 300 device: cuda time passed: 53.261 time per batch: 0.178\n",
      "Batch 350 device: cuda time passed: 61.374 time per batch: 0.175\n",
      "Batch 400 device: cuda time passed: 69.690 time per batch: 0.174\n",
      "Batch 450 device: cuda time passed: 78.223 time per batch: 0.174\n",
      "Batch 500 device: cuda time passed: 87.604 time per batch: 0.175\n",
      "Batch 50 device: cuda time passed: 4.359 time per batch: 0.087\n",
      "Batch 100 device: cuda time passed: 7.620 time per batch: 0.076\n",
      "v31, d14, e8, f0, trn ll: 0.0321, val ll: 0.0594, ll_w: 0.0635, cor: 0.8472, auc: 0.9893, lr: 2e-05\n",
      "total running time 456.3886170387268\n",
      "completed epochs: 8 starting now: 3\n",
      "DataSet 14 train size 17369 fold 0\n",
      "adding dummy serieses 9\n",
      "DataSet 14 valid size 4384 fold 0\n",
      "setFeats, augmentation 0\n",
      "dataset train: 17369 valid: 4384 loader train: 542 valid: 137\n",
      "loading model model.b8.f0.d14.v31\n",
      "setFeats, augmentation -1\n",
      "Batch 50 device: cuda time passed: 11.785 time per batch: 0.236\n",
      "Batch 100 device: cuda time passed: 20.477 time per batch: 0.205\n",
      "Batch 150 device: cuda time passed: 29.281 time per batch: 0.195\n"
     ]
    },
    {
     "name": "stdout",
     "output_type": "stream",
     "text": [
      "Batch 200 device: cuda time passed: 37.464 time per batch: 0.187\n",
      "Batch 250 device: cuda time passed: 45.834 time per batch: 0.183\n",
      "Batch 300 device: cuda time passed: 54.202 time per batch: 0.181\n",
      "Batch 350 device: cuda time passed: 62.546 time per batch: 0.179\n",
      "Batch 400 device: cuda time passed: 70.915 time per batch: 0.177\n",
      "Batch 450 device: cuda time passed: 80.802 time per batch: 0.180\n",
      "Batch 500 device: cuda time passed: 89.131 time per batch: 0.178\n",
      "Batch 50 device: cuda time passed: 4.274 time per batch: 0.085\n",
      "Batch 100 device: cuda time passed: 7.564 time per batch: 0.076\n",
      "v31, d14, e9, f0, trn ll: 0.0319, val ll: 0.0594, ll_w: 0.0636, cor: 0.8474, auc: 0.9893, lr: 5e-06\n",
      "setFeats, augmentation -1\n",
      "Batch 50 device: cuda time passed: 11.278 time per batch: 0.226\n",
      "Batch 100 device: cuda time passed: 20.070 time per batch: 0.201\n",
      "Batch 150 device: cuda time passed: 28.666 time per batch: 0.191\n",
      "Batch 200 device: cuda time passed: 37.490 time per batch: 0.187\n",
      "Batch 250 device: cuda time passed: 45.918 time per batch: 0.184\n",
      "Batch 300 device: cuda time passed: 54.387 time per batch: 0.181\n",
      "Batch 350 device: cuda time passed: 62.635 time per batch: 0.179\n",
      "Batch 400 device: cuda time passed: 70.991 time per batch: 0.177\n",
      "Batch 450 device: cuda time passed: 79.840 time per batch: 0.177\n",
      "Batch 500 device: cuda time passed: 89.288 time per batch: 0.179\n",
      "Batch 50 device: cuda time passed: 4.299 time per batch: 0.086\n",
      "Batch 100 device: cuda time passed: 7.564 time per batch: 0.076\n",
      "v31, d14, e10, f0, trn ll: 0.0317, val ll: 0.0594, ll_w: 0.0634, cor: 0.8474, auc: 0.9893, lr: 5e-06\n",
      "setFeats, augmentation -1\n",
      "Batch 50 device: cuda time passed: 11.295 time per batch: 0.226\n",
      "Batch 100 device: cuda time passed: 19.856 time per batch: 0.199\n",
      "Batch 150 device: cuda time passed: 28.703 time per batch: 0.191\n",
      "Batch 200 device: cuda time passed: 37.415 time per batch: 0.187\n",
      "Batch 250 device: cuda time passed: 45.836 time per batch: 0.183\n",
      "Batch 300 device: cuda time passed: 54.381 time per batch: 0.181\n",
      "Batch 350 device: cuda time passed: 62.707 time per batch: 0.179\n",
      "Batch 400 device: cuda time passed: 71.070 time per batch: 0.178\n",
      "Batch 450 device: cuda time passed: 79.867 time per batch: 0.177\n",
      "Batch 500 device: cuda time passed: 89.575 time per batch: 0.179\n",
      "Batch 50 device: cuda time passed: 4.225 time per batch: 0.085\n",
      "Batch 100 device: cuda time passed: 7.589 time per batch: 0.076\n",
      "v31, d14, e11, f0, trn ll: 0.0317, val ll: 0.0593, ll_w: 0.0637, cor: 0.8477, auc: 0.9893, lr: 5e-06\n",
      "total running time 347.99887204170227\n",
      "completed epochs: 11 starting now: 2\n",
      "DataSet 14 train size 17369 fold 0\n",
      "adding dummy serieses 9\n",
      "DataSet 14 valid size 4384 fold 0\n",
      "setFeats, augmentation 0\n",
      "dataset train: 17369 valid: 4384 loader train: 542 valid: 137\n",
      "loading model model.b11.f0.d14.v31\n",
      "setFeats, augmentation -1\n",
      "Batch 50 device: cuda time passed: 11.211 time per batch: 0.224\n",
      "Batch 100 device: cuda time passed: 19.871 time per batch: 0.199\n",
      "Batch 150 device: cuda time passed: 28.434 time per batch: 0.190\n",
      "Batch 200 device: cuda time passed: 37.070 time per batch: 0.185\n",
      "Batch 250 device: cuda time passed: 45.404 time per batch: 0.182\n",
      "Batch 300 device: cuda time passed: 53.654 time per batch: 0.179\n",
      "Batch 350 device: cuda time passed: 61.949 time per batch: 0.177\n",
      "Batch 400 device: cuda time passed: 70.040 time per batch: 0.175\n",
      "Batch 450 device: cuda time passed: 78.557 time per batch: 0.175\n",
      "Batch 500 device: cuda time passed: 88.186 time per batch: 0.176\n",
      "Batch 50 device: cuda time passed: 4.252 time per batch: 0.085\n",
      "Batch 100 device: cuda time passed: 7.795 time per batch: 0.078\n",
      "v31, d14, e12, f0, trn ll: 0.0316, val ll: 0.0594, ll_w: 0.0635, cor: 0.8475, auc: 0.9893, lr: 2e-06\n",
      "setFeats, augmentation -1\n",
      "Batch 50 device: cuda time passed: 11.511 time per batch: 0.230\n",
      "Batch 100 device: cuda time passed: 19.919 time per batch: 0.199\n",
      "Batch 150 device: cuda time passed: 28.676 time per batch: 0.191\n",
      "Batch 200 device: cuda time passed: 36.919 time per batch: 0.185\n",
      "Batch 250 device: cuda time passed: 45.296 time per batch: 0.181\n",
      "Batch 300 device: cuda time passed: 53.551 time per batch: 0.179\n",
      "Batch 350 device: cuda time passed: 61.689 time per batch: 0.176\n",
      "Batch 400 device: cuda time passed: 69.724 time per batch: 0.174\n",
      "Batch 450 device: cuda time passed: 79.558 time per batch: 0.177\n",
      "Batch 500 device: cuda time passed: 87.809 time per batch: 0.176\n",
      "Batch 50 device: cuda time passed: 4.217 time per batch: 0.084\n",
      "Batch 100 device: cuda time passed: 7.638 time per batch: 0.076\n",
      "v31, d14, e13, f0, trn ll: 0.0317, val ll: 0.0594, ll_w: 0.0631, cor: 0.8474, auc: 0.9893, lr: 2e-06\n",
      "total running time 230.81582069396973\n",
      "total time 1496.6490077972412\n",
      "completed epochs: 0 starting now: 4\n",
      "DataSet 14 train size 17468 fold 1\n",
      "adding dummy serieses 12\n",
      "DataSet 14 valid size 4288 fold 1\n",
      "setFeats, augmentation 0\n",
      "dataset train: 17468 valid: 4288 loader train: 545 valid: 134\n",
      "starting from scratch\n",
      "setFeats, augmentation -1\n",
      "Batch 50 device: cuda time passed: 11.212 time per batch: 0.224\n",
      "Batch 100 device: cuda time passed: 19.795 time per batch: 0.198\n",
      "Batch 150 device: cuda time passed: 28.745 time per batch: 0.192\n",
      "Batch 200 device: cuda time passed: 37.348 time per batch: 0.187\n",
      "Batch 250 device: cuda time passed: 45.647 time per batch: 0.183\n",
      "Batch 300 device: cuda time passed: 53.918 time per batch: 0.180\n",
      "Batch 350 device: cuda time passed: 62.155 time per batch: 0.178\n",
      "Batch 400 device: cuda time passed: 70.300 time per batch: 0.176\n",
      "Batch 450 device: cuda time passed: 80.061 time per batch: 0.178\n",
      "Batch 500 device: cuda time passed: 88.338 time per batch: 0.177\n",
      "Batch 50 device: cuda time passed: 4.370 time per batch: 0.087\n",
      "Batch 100 device: cuda time passed: 7.495 time per batch: 0.075\n",
      "v31, d14, e1, f1, trn ll: 0.0561, val ll: 0.0670, ll_w: 0.0658, cor: 0.8303, auc: 0.9866, lr: 0.0002\n",
      "setFeats, augmentation -1\n",
      "Batch 50 device: cuda time passed: 11.200 time per batch: 0.224\n",
      "Batch 100 device: cuda time passed: 20.251 time per batch: 0.203\n",
      "Batch 150 device: cuda time passed: 28.620 time per batch: 0.191\n",
      "Batch 200 device: cuda time passed: 37.191 time per batch: 0.186\n",
      "Batch 250 device: cuda time passed: 45.679 time per batch: 0.183\n",
      "Batch 300 device: cuda time passed: 54.052 time per batch: 0.180\n",
      "Batch 350 device: cuda time passed: 62.250 time per batch: 0.178\n",
      "Batch 400 device: cuda time passed: 70.241 time per batch: 0.176\n",
      "Batch 450 device: cuda time passed: 78.849 time per batch: 0.175\n",
      "Batch 500 device: cuda time passed: 88.390 time per batch: 0.177\n",
      "Batch 50 device: cuda time passed: 4.370 time per batch: 0.087\n",
      "Batch 100 device: cuda time passed: 7.525 time per batch: 0.075\n",
      "v31, d14, e2, f1, trn ll: 0.0355, val ll: 0.0609, ll_w: 0.0591, cor: 0.8433, auc: 0.9892, lr: 0.0002\n",
      "setFeats, augmentation -1\n",
      "Batch 50 device: cuda time passed: 11.103 time per batch: 0.222\n",
      "Batch 100 device: cuda time passed: 19.616 time per batch: 0.196\n",
      "Batch 150 device: cuda time passed: 28.356 time per batch: 0.189\n",
      "Batch 200 device: cuda time passed: 36.703 time per batch: 0.184\n",
      "Batch 250 device: cuda time passed: 45.182 time per batch: 0.181\n",
      "Batch 300 device: cuda time passed: 53.443 time per batch: 0.178\n",
      "Batch 350 device: cuda time passed: 61.698 time per batch: 0.176\n",
      "Batch 400 device: cuda time passed: 69.918 time per batch: 0.175\n",
      "Batch 450 device: cuda time passed: 79.779 time per batch: 0.177\n",
      "Batch 500 device: cuda time passed: 87.961 time per batch: 0.176\n",
      "Batch 50 device: cuda time passed: 4.291 time per batch: 0.086\n",
      "Batch 100 device: cuda time passed: 7.643 time per batch: 0.076\n",
      "v31, d14, e3, f1, trn ll: 0.0339, val ll: 0.0613, ll_w: 0.0589, cor: 0.8424, auc: 0.9892, lr: 0.0002\n",
      "setFeats, augmentation -1\n",
      "Batch 50 device: cuda time passed: 11.887 time per batch: 0.238\n",
      "Batch 100 device: cuda time passed: 20.384 time per batch: 0.204\n",
      "Batch 150 device: cuda time passed: 29.369 time per batch: 0.196\n",
      "Batch 200 device: cuda time passed: 37.631 time per batch: 0.188\n",
      "Batch 250 device: cuda time passed: 45.516 time per batch: 0.182\n",
      "Batch 300 device: cuda time passed: 53.698 time per batch: 0.179\n",
      "Batch 350 device: cuda time passed: 61.735 time per batch: 0.176\n",
      "Batch 400 device: cuda time passed: 70.063 time per batch: 0.175\n",
      "Batch 450 device: cuda time passed: 79.987 time per batch: 0.178\n"
     ]
    },
    {
     "name": "stdout",
     "output_type": "stream",
     "text": [
      "Batch 500 device: cuda time passed: 88.262 time per batch: 0.177\n",
      "Batch 50 device: cuda time passed: 4.292 time per batch: 0.086\n",
      "Batch 100 device: cuda time passed: 7.540 time per batch: 0.075\n",
      "v31, d14, e4, f1, trn ll: 0.0335, val ll: 0.0608, ll_w: 0.0580, cor: 0.8447, auc: 0.9894, lr: 0.0002\n",
      "total running time 460.02356028556824\n",
      "completed epochs: 4 starting now: 4\n",
      "DataSet 14 train size 17468 fold 1\n",
      "adding dummy serieses 12\n",
      "DataSet 14 valid size 4288 fold 1\n",
      "setFeats, augmentation 0\n",
      "dataset train: 17468 valid: 4288 loader train: 545 valid: 134\n",
      "loading model model.b4.f1.d14.v31\n",
      "setFeats, augmentation -1\n",
      "Batch 50 device: cuda time passed: 11.279 time per batch: 0.226\n",
      "Batch 100 device: cuda time passed: 19.941 time per batch: 0.199\n",
      "Batch 150 device: cuda time passed: 28.919 time per batch: 0.193\n",
      "Batch 200 device: cuda time passed: 37.326 time per batch: 0.187\n",
      "Batch 250 device: cuda time passed: 45.759 time per batch: 0.183\n",
      "Batch 300 device: cuda time passed: 54.133 time per batch: 0.180\n",
      "Batch 350 device: cuda time passed: 62.430 time per batch: 0.178\n",
      "Batch 400 device: cuda time passed: 70.681 time per batch: 0.177\n",
      "Batch 450 device: cuda time passed: 79.258 time per batch: 0.176\n",
      "Batch 500 device: cuda time passed: 88.072 time per batch: 0.176\n",
      "Batch 50 device: cuda time passed: 4.279 time per batch: 0.086\n",
      "Batch 100 device: cuda time passed: 7.612 time per batch: 0.076\n",
      "v31, d14, e5, f1, trn ll: 0.0322, val ll: 0.0595, ll_w: 0.0575, cor: 0.8479, auc: 0.9899, lr: 2e-05\n",
      "setFeats, augmentation -1\n",
      "Batch 50 device: cuda time passed: 11.863 time per batch: 0.237\n",
      "Batch 100 device: cuda time passed: 20.753 time per batch: 0.208\n",
      "Batch 150 device: cuda time passed: 29.429 time per batch: 0.196\n",
      "Batch 200 device: cuda time passed: 37.760 time per batch: 0.189\n",
      "Batch 250 device: cuda time passed: 46.091 time per batch: 0.184\n",
      "Batch 300 device: cuda time passed: 54.417 time per batch: 0.181\n",
      "Batch 350 device: cuda time passed: 62.538 time per batch: 0.179\n",
      "Batch 400 device: cuda time passed: 70.922 time per batch: 0.177\n",
      "Batch 450 device: cuda time passed: 80.663 time per batch: 0.179\n",
      "Batch 500 device: cuda time passed: 89.037 time per batch: 0.178\n",
      "Batch 50 device: cuda time passed: 4.167 time per batch: 0.083\n",
      "Batch 100 device: cuda time passed: 7.294 time per batch: 0.073\n",
      "v31, d14, e6, f1, trn ll: 0.0318, val ll: 0.0599, ll_w: 0.0576, cor: 0.8470, auc: 0.9899, lr: 2e-05\n",
      "setFeats, augmentation -1\n",
      "Batch 50 device: cuda time passed: 11.245 time per batch: 0.225\n",
      "Batch 100 device: cuda time passed: 19.682 time per batch: 0.197\n",
      "Batch 150 device: cuda time passed: 28.881 time per batch: 0.193\n",
      "Batch 200 device: cuda time passed: 37.159 time per batch: 0.186\n",
      "Batch 250 device: cuda time passed: 45.686 time per batch: 0.183\n",
      "Batch 300 device: cuda time passed: 54.062 time per batch: 0.180\n",
      "Batch 350 device: cuda time passed: 62.398 time per batch: 0.178\n",
      "Batch 400 device: cuda time passed: 70.752 time per batch: 0.177\n",
      "Batch 450 device: cuda time passed: 79.330 time per batch: 0.176\n",
      "Batch 500 device: cuda time passed: 87.597 time per batch: 0.175\n",
      "Batch 50 device: cuda time passed: 4.145 time per batch: 0.083\n",
      "Batch 100 device: cuda time passed: 7.644 time per batch: 0.076\n",
      "v31, d14, e7, f1, trn ll: 0.0317, val ll: 0.0593, ll_w: 0.0568, cor: 0.8481, auc: 0.9900, lr: 2e-05\n",
      "setFeats, augmentation -1\n",
      "Batch 50 device: cuda time passed: 11.487 time per batch: 0.230\n",
      "Batch 100 device: cuda time passed: 20.122 time per batch: 0.201\n",
      "Batch 150 device: cuda time passed: 28.493 time per batch: 0.190\n",
      "Batch 200 device: cuda time passed: 37.279 time per batch: 0.186\n",
      "Batch 250 device: cuda time passed: 45.660 time per batch: 0.183\n",
      "Batch 300 device: cuda time passed: 53.955 time per batch: 0.180\n",
      "Batch 350 device: cuda time passed: 62.311 time per batch: 0.178\n",
      "Batch 400 device: cuda time passed: 70.636 time per batch: 0.177\n",
      "Batch 450 device: cuda time passed: 80.721 time per batch: 0.179\n",
      "Batch 500 device: cuda time passed: 88.981 time per batch: 0.178\n",
      "Batch 50 device: cuda time passed: 4.154 time per batch: 0.083\n",
      "Batch 100 device: cuda time passed: 7.646 time per batch: 0.076\n",
      "v31, d14, e8, f1, trn ll: 0.0315, val ll: 0.0595, ll_w: 0.0571, cor: 0.8480, auc: 0.9901, lr: 2e-05\n",
      "total running time 463.1964979171753\n",
      "completed epochs: 8 starting now: 3\n",
      "DataSet 14 train size 17468 fold 1\n",
      "adding dummy serieses 12\n",
      "DataSet 14 valid size 4288 fold 1\n",
      "setFeats, augmentation 0\n",
      "dataset train: 17468 valid: 4288 loader train: 545 valid: 134\n",
      "loading model model.b8.f1.d14.v31\n",
      "setFeats, augmentation -1\n",
      "Batch 50 device: cuda time passed: 11.042 time per batch: 0.221\n",
      "Batch 100 device: cuda time passed: 20.349 time per batch: 0.203\n",
      "Batch 150 device: cuda time passed: 28.767 time per batch: 0.192\n",
      "Batch 200 device: cuda time passed: 37.260 time per batch: 0.186\n",
      "Batch 250 device: cuda time passed: 45.540 time per batch: 0.182\n",
      "Batch 300 device: cuda time passed: 53.761 time per batch: 0.179\n",
      "Batch 350 device: cuda time passed: 61.982 time per batch: 0.177\n",
      "Batch 400 device: cuda time passed: 70.292 time per batch: 0.176\n",
      "Batch 450 device: cuda time passed: 78.701 time per batch: 0.175\n",
      "Batch 500 device: cuda time passed: 87.652 time per batch: 0.175\n",
      "Batch 50 device: cuda time passed: 4.130 time per batch: 0.083\n",
      "Batch 100 device: cuda time passed: 7.441 time per batch: 0.074\n",
      "v31, d14, e9, f1, trn ll: 0.0313, val ll: 0.0593, ll_w: 0.0570, cor: 0.8483, auc: 0.9901, lr: 5e-06\n",
      "setFeats, augmentation -1\n",
      "Batch 50 device: cuda time passed: 11.172 time per batch: 0.223\n",
      "Batch 100 device: cuda time passed: 19.486 time per batch: 0.195\n",
      "Batch 150 device: cuda time passed: 27.750 time per batch: 0.185\n",
      "Batch 200 device: cuda time passed: 36.430 time per batch: 0.182\n",
      "Batch 250 device: cuda time passed: 44.717 time per batch: 0.179\n",
      "Batch 300 device: cuda time passed: 52.842 time per batch: 0.176\n",
      "Batch 350 device: cuda time passed: 61.306 time per batch: 0.175\n",
      "Batch 400 device: cuda time passed: 69.566 time per batch: 0.174\n",
      "Batch 450 device: cuda time passed: 79.278 time per batch: 0.176\n",
      "Batch 500 device: cuda time passed: 87.445 time per batch: 0.175\n",
      "Batch 50 device: cuda time passed: 4.181 time per batch: 0.084\n",
      "Batch 100 device: cuda time passed: 7.412 time per batch: 0.074\n",
      "v31, d14, e10, f1, trn ll: 0.0313, val ll: 0.0593, ll_w: 0.0568, cor: 0.8482, auc: 0.9900, lr: 5e-06\n",
      "setFeats, augmentation -1\n",
      "Batch 50 device: cuda time passed: 11.296 time per batch: 0.226\n",
      "Batch 100 device: cuda time passed: 19.767 time per batch: 0.198\n",
      "Batch 150 device: cuda time passed: 28.852 time per batch: 0.192\n",
      "Batch 200 device: cuda time passed: 37.148 time per batch: 0.186\n",
      "Batch 250 device: cuda time passed: 45.412 time per batch: 0.182\n",
      "Batch 300 device: cuda time passed: 53.544 time per batch: 0.178\n",
      "Batch 350 device: cuda time passed: 61.755 time per batch: 0.176\n",
      "Batch 400 device: cuda time passed: 69.999 time per batch: 0.175\n",
      "Batch 450 device: cuda time passed: 79.889 time per batch: 0.178\n",
      "Batch 500 device: cuda time passed: 88.037 time per batch: 0.176\n",
      "Batch 50 device: cuda time passed: 4.190 time per batch: 0.084\n",
      "Batch 100 device: cuda time passed: 7.429 time per batch: 0.074\n",
      "v31, d14, e11, f1, trn ll: 0.0312, val ll: 0.0592, ll_w: 0.0570, cor: 0.8485, auc: 0.9900, lr: 5e-06\n",
      "total running time 344.99530720710754\n",
      "completed epochs: 11 starting now: 2\n",
      "DataSet 14 train size 17468 fold 1\n",
      "adding dummy serieses 12\n",
      "DataSet 14 valid size 4288 fold 1\n",
      "setFeats, augmentation 0\n",
      "dataset train: 17468 valid: 4288 loader train: 545 valid: 134\n",
      "loading model model.b11.f1.d14.v31\n",
      "setFeats, augmentation -1\n",
      "Batch 50 device: cuda time passed: 11.012 time per batch: 0.220\n",
      "Batch 100 device: cuda time passed: 19.773 time per batch: 0.198\n",
      "Batch 150 device: cuda time passed: 28.199 time per batch: 0.188\n",
      "Batch 200 device: cuda time passed: 36.977 time per batch: 0.185\n",
      "Batch 250 device: cuda time passed: 45.564 time per batch: 0.182\n",
      "Batch 300 device: cuda time passed: 53.622 time per batch: 0.179\n",
      "Batch 350 device: cuda time passed: 62.170 time per batch: 0.178\n",
      "Batch 400 device: cuda time passed: 70.458 time per batch: 0.176\n",
      "Batch 450 device: cuda time passed: 80.450 time per batch: 0.179\n",
      "Batch 500 device: cuda time passed: 88.662 time per batch: 0.177\n",
      "Batch 50 device: cuda time passed: 4.334 time per batch: 0.087\n"
     ]
    },
    {
     "name": "stdout",
     "output_type": "stream",
     "text": [
      "Batch 100 device: cuda time passed: 7.541 time per batch: 0.075\n",
      "v31, d14, e12, f1, trn ll: 0.0312, val ll: 0.0592, ll_w: 0.0569, cor: 0.8485, auc: 0.9901, lr: 2e-06\n",
      "setFeats, augmentation -1\n",
      "Batch 50 device: cuda time passed: 11.028 time per batch: 0.221\n",
      "Batch 100 device: cuda time passed: 19.714 time per batch: 0.197\n",
      "Batch 150 device: cuda time passed: 28.329 time per batch: 0.189\n",
      "Batch 200 device: cuda time passed: 36.987 time per batch: 0.185\n",
      "Batch 250 device: cuda time passed: 45.452 time per batch: 0.182\n",
      "Batch 300 device: cuda time passed: 53.944 time per batch: 0.180\n",
      "Batch 350 device: cuda time passed: 62.311 time per batch: 0.178\n",
      "Batch 400 device: cuda time passed: 70.643 time per batch: 0.177\n",
      "Batch 450 device: cuda time passed: 80.305 time per batch: 0.178\n",
      "Batch 500 device: cuda time passed: 88.659 time per batch: 0.177\n",
      "Batch 50 device: cuda time passed: 4.341 time per batch: 0.087\n",
      "Batch 100 device: cuda time passed: 7.787 time per batch: 0.078\n",
      "v31, d14, e13, f1, trn ll: 0.0312, val ll: 0.0594, ll_w: 0.0570, cor: 0.8482, auc: 0.9901, lr: 2e-06\n",
      "total running time 233.8443796634674\n",
      "total time 2999.504130125046\n",
      "total time 2999.5046939849854\n"
     ]
    }
   ],
   "source": [
    "weight_decay = 1e-4\n",
    "lrs = np.array([2e-4, 2e-5, 5e-6, 2e-6])\n",
    "epochs = np.array([4, 4, 3, 2])\n",
    "stg = time.time()\n",
    "ds=14\n",
    "folds = 2\n",
    "for f in range(folds):\n",
    "    for i,lr in enumerate(lrs):\n",
    "        learning_rate = lr\n",
    "        model, predictions, val_results = train_one(dataset=ds, epochs=epochs[i], bs=32, fold=f)\n",
    "    print('total time', time.time() - stg)\n",
    "print('total time', time.time() - stg)"
   ]
  },
  {
   "cell_type": "code",
   "execution_count": 6,
   "metadata": {},
   "outputs": [
    {
     "data": {
      "text/plain": [
       "0.187007    220677\n",
       "0.016056    217939\n",
       "2.233320    183128\n",
       "1.000000     78545\n",
       "5.343628     41265\n",
       "0.000000     11242\n",
       "0.458805         1\n",
       "Name: weights, dtype: int64"
      ]
     },
     "execution_count": 6,
     "metadata": {},
     "output_type": "execute_result"
    }
   ],
   "source": [
    "train_md.weights.value_counts()"
   ]
  },
  {
   "cell_type": "code",
   "execution_count": 5,
   "metadata": {},
   "outputs": [],
   "source": [
    "train_md.weights = train_md.weights.fillna(1)"
   ]
  },
  {
   "cell_type": "code",
   "execution_count": null,
   "metadata": {},
   "outputs": [],
   "source": []
  },
  {
   "cell_type": "code",
   "execution_count": 11,
   "metadata": {
    "scrolled": true
   },
   "outputs": [
    {
     "name": "stdout",
     "output_type": "stream",
     "text": [
      "completed epochs: 0 starting now: 2\n",
      "DataSet 12 train size 15619 fold 0\n",
      "adding dummy serieses 25\n",
      "DataSet 12 valid size 3936 fold 0\n",
      "setFeats, augmentation 0\n",
      "WeightedRandomSampler\n",
      "dataset train: 15619 valid: 3936 loader train: 488 valid: 123\n",
      "loading model model.b13.f0.d12.v31\n",
      "setFeats, augmentation -1\n",
      "Batch 50 device: cuda time passed: 9.758 time per batch: 0.195\n",
      "Batch 100 device: cuda time passed: 17.077 time per batch: 0.171\n",
      "Batch 150 device: cuda time passed: 24.532 time per batch: 0.164\n",
      "Batch 200 device: cuda time passed: 32.364 time per batch: 0.162\n",
      "Batch 250 device: cuda time passed: 39.801 time per batch: 0.159\n",
      "Batch 300 device: cuda time passed: 47.355 time per batch: 0.158\n",
      "Batch 350 device: cuda time passed: 55.035 time per batch: 0.157\n",
      "Batch 400 device: cuda time passed: 62.515 time per batch: 0.156\n",
      "Batch 450 device: cuda time passed: 70.772 time per batch: 0.157\n",
      "Batch 50 device: cuda time passed: 4.077 time per batch: 0.082\n",
      "Batch 100 device: cuda time passed: 7.169 time per batch: 0.072\n",
      "v32, d12, e1, f0, trn ll: 0.0336, val ll: 0.0599, ll_w: 0.0635, cor: 0.8458, auc: 0.9892, lr: 1e-05\n",
      "setFeats, augmentation -1\n",
      "Batch 50 device: cuda time passed: 10.096 time per batch: 0.202\n",
      "Batch 100 device: cuda time passed: 17.725 time per batch: 0.177\n",
      "Batch 150 device: cuda time passed: 25.337 time per batch: 0.169\n",
      "Batch 200 device: cuda time passed: 32.780 time per batch: 0.164\n",
      "Batch 250 device: cuda time passed: 40.172 time per batch: 0.161\n",
      "Batch 300 device: cuda time passed: 47.656 time per batch: 0.159\n",
      "Batch 350 device: cuda time passed: 54.998 time per batch: 0.157\n",
      "Batch 400 device: cuda time passed: 62.496 time per batch: 0.156\n",
      "Batch 450 device: cuda time passed: 71.020 time per batch: 0.158\n",
      "Batch 50 device: cuda time passed: 3.942 time per batch: 0.079\n",
      "Batch 100 device: cuda time passed: 7.041 time per batch: 0.070\n",
      "v32, d12, e2, f0, trn ll: 0.0331, val ll: 0.0603, ll_w: 0.0633, cor: 0.8452, auc: 0.9893, lr: 1e-05\n",
      "total running time 189.26509952545166\n",
      "completed epochs: 2 starting now: 1\n",
      "DataSet 12 train size 15619 fold 0\n",
      "adding dummy serieses 25\n",
      "DataSet 12 valid size 3936 fold 0\n",
      "setFeats, augmentation 0\n",
      "WeightedRandomSampler\n",
      "dataset train: 15619 valid: 3936 loader train: 488 valid: 123\n",
      "loading model model.b2.f0.d12.v32\n",
      "setFeats, augmentation -1\n",
      "Batch 50 device: cuda time passed: 10.428 time per batch: 0.209\n",
      "Batch 100 device: cuda time passed: 18.182 time per batch: 0.182\n",
      "Batch 150 device: cuda time passed: 25.854 time per batch: 0.172\n",
      "Batch 200 device: cuda time passed: 33.196 time per batch: 0.166\n",
      "Batch 250 device: cuda time passed: 40.589 time per batch: 0.162\n",
      "Batch 300 device: cuda time passed: 47.841 time per batch: 0.159\n",
      "Batch 350 device: cuda time passed: 55.005 time per batch: 0.157\n",
      "Batch 400 device: cuda time passed: 62.632 time per batch: 0.157\n",
      "Batch 450 device: cuda time passed: 71.258 time per batch: 0.158\n",
      "Batch 50 device: cuda time passed: 4.014 time per batch: 0.080\n",
      "Batch 100 device: cuda time passed: 7.011 time per batch: 0.070\n",
      "v32, d12, e3, f0, trn ll: 0.0334, val ll: 0.0604, ll_w: 0.0630, cor: 0.8453, auc: 0.9892, lr: 5e-06\n",
      "total running time 95.69256091117859\n",
      "total time 285.2529604434967\n",
      "completed epochs: 0 starting now: 2\n",
      "DataSet 12 train size 15699 fold 1\n",
      "adding dummy serieses 9\n",
      "DataSet 12 valid size 3840 fold 1\n",
      "setFeats, augmentation 0\n",
      "WeightedRandomSampler\n",
      "dataset train: 15699 valid: 3840 loader train: 490 valid: 120\n",
      "loading model model.b13.f1.d12.v31\n",
      "setFeats, augmentation -1\n",
      "Batch 50 device: cuda time passed: 9.608 time per batch: 0.192\n",
      "Batch 100 device: cuda time passed: 17.339 time per batch: 0.173\n",
      "Batch 150 device: cuda time passed: 25.040 time per batch: 0.167\n",
      "Batch 200 device: cuda time passed: 32.911 time per batch: 0.165\n",
      "Batch 250 device: cuda time passed: 40.291 time per batch: 0.161\n",
      "Batch 300 device: cuda time passed: 47.773 time per batch: 0.159\n",
      "Batch 350 device: cuda time passed: 55.009 time per batch: 0.157\n",
      "Batch 400 device: cuda time passed: 62.686 time per batch: 0.157\n",
      "Batch 450 device: cuda time passed: 70.313 time per batch: 0.156\n",
      "Batch 50 device: cuda time passed: 4.063 time per batch: 0.081\n",
      "Batch 100 device: cuda time passed: 7.129 time per batch: 0.071\n",
      "v32, d12, e1, f1, trn ll: 0.0342, val ll: 0.0611, ll_w: 0.0579, cor: 0.8445, auc: 0.9897, lr: 1e-05\n",
      "setFeats, augmentation -1\n",
      "Batch 50 device: cuda time passed: 9.677 time per batch: 0.194\n",
      "Batch 100 device: cuda time passed: 17.633 time per batch: 0.176\n",
      "Batch 150 device: cuda time passed: 25.348 time per batch: 0.169\n",
      "Batch 200 device: cuda time passed: 33.202 time per batch: 0.166\n",
      "Batch 250 device: cuda time passed: 40.652 time per batch: 0.163\n",
      "Batch 300 device: cuda time passed: 48.131 time per batch: 0.160\n",
      "Batch 350 device: cuda time passed: 55.596 time per batch: 0.159\n",
      "Batch 400 device: cuda time passed: 63.022 time per batch: 0.158\n",
      "Batch 450 device: cuda time passed: 71.863 time per batch: 0.160\n",
      "Batch 50 device: cuda time passed: 3.938 time per batch: 0.079\n",
      "Batch 100 device: cuda time passed: 7.190 time per batch: 0.072\n",
      "v32, d12, e2, f1, trn ll: 0.0345, val ll: 0.0605, ll_w: 0.0575, cor: 0.8449, auc: 0.9896, lr: 1e-05\n",
      "total running time 208.0135200023651\n",
      "completed epochs: 2 starting now: 1\n",
      "DataSet 12 train size 15699 fold 1\n",
      "adding dummy serieses 9\n",
      "DataSet 12 valid size 3840 fold 1\n",
      "setFeats, augmentation 0\n",
      "WeightedRandomSampler\n",
      "dataset train: 15699 valid: 3840 loader train: 490 valid: 120\n",
      "loading model model.b2.f1.d12.v32\n",
      "setFeats, augmentation -1\n",
      "Batch 50 device: cuda time passed: 10.250 time per batch: 0.205\n",
      "Batch 100 device: cuda time passed: 17.733 time per batch: 0.177\n",
      "Batch 150 device: cuda time passed: 25.689 time per batch: 0.171\n",
      "Batch 200 device: cuda time passed: 33.410 time per batch: 0.167\n",
      "Batch 250 device: cuda time passed: 40.818 time per batch: 0.163\n",
      "Batch 300 device: cuda time passed: 48.319 time per batch: 0.161\n",
      "Batch 350 device: cuda time passed: 55.663 time per batch: 0.159\n",
      "Batch 400 device: cuda time passed: 63.183 time per batch: 0.158\n",
      "Batch 450 device: cuda time passed: 72.121 time per batch: 0.160\n",
      "Batch 50 device: cuda time passed: 4.109 time per batch: 0.082\n",
      "Batch 100 device: cuda time passed: 7.062 time per batch: 0.071\n",
      "v32, d12, e3, f1, trn ll: 0.0341, val ll: 0.0607, ll_w: 0.0575, cor: 0.8446, auc: 0.9896, lr: 5e-06\n",
      "total running time 96.74583148956299\n",
      "total time 590.3163545131683\n",
      "total time 590.3166518211365\n",
      "total time 590.3170516490936\n"
     ]
    }
   ],
   "source": [
    "weight_decay = 1e-4\n",
    "lrs = np.array([1e-5, 5e-6])\n",
    "epochs = np.array([2, 1])\n",
    "stg = time.time()\n",
    "WEIGHTED = True\n",
    "for ds in range(12,13):\n",
    "    #folds = getNFolds(ds)\n",
    "    folds = 2\n",
    "    for f in range(folds):\n",
    "        for i,lr in enumerate(lrs):\n",
    "            learning_rate = lr\n",
    "            model, predictions, val_results = train_one(dataset=ds, epochs=epochs[i], bs=32, fold=f, init_ver=31)\n",
    "        print('total time', time.time() - stg)\n",
    "    print('total time', time.time() - stg)\n",
    "print('total time', time.time() - stg)"
   ]
  },
  {
   "cell_type": "code",
   "execution_count": null,
   "metadata": {},
   "outputs": [],
   "source": []
  },
  {
   "cell_type": "code",
   "execution_count": null,
   "metadata": {},
   "outputs": [],
   "source": []
  },
  {
   "cell_type": "code",
   "execution_count": null,
   "metadata": {},
   "outputs": [],
   "source": [
    "old/new\n",
    "2 folds\n",
    "weighted/not"
   ]
  },
  {
   "cell_type": "code",
   "execution_count": 9,
   "metadata": {},
   "outputs": [
    {
     "data": {
      "text/plain": [
       "15.08864489809672"
      ]
     },
     "execution_count": 9,
     "metadata": {},
     "output_type": "execute_result"
    }
   ],
   "source": [
    "(5*3 + 3*3)*(9241.546682834625 + 2074.936990737915)/5/3600"
   ]
  },
  {
   "cell_type": "code",
   "execution_count": 18,
   "metadata": {},
   "outputs": [],
   "source": [
    "stats1 = pd.concat([pd.read_csv(PATH_WORK/'stats.f{}.v{}'.format(0,31)),\n",
    "                    pd.read_csv(PATH_WORK/'stats.f{}.v{}'.format(1,31))], axis=0, sort=False)"
   ]
  },
  {
   "cell_type": "code",
   "execution_count": 19,
   "metadata": {},
   "outputs": [],
   "source": [
    "stats2 = pd.concat([pd.read_csv(PATH_WORK/'stats.f{}.v{}'.format(0,32)),\n",
    "                    pd.read_csv(PATH_WORK/'stats.f{}.v{}'.format(1,32))], axis=0, sort=False)"
   ]
  },
  {
   "cell_type": "code",
   "execution_count": 20,
   "metadata": {},
   "outputs": [],
   "source": [
    "stats = pd.concat([stats1.loc[stats1.epoch == 13], stats2.loc[stats2.epoch == 3]])"
   ]
  },
  {
   "cell_type": "code",
   "execution_count": 26,
   "metadata": {},
   "outputs": [],
   "source": [
    "stats['weighted_training'] = stats.epoch == 3"
   ]
  },
  {
   "cell_type": "code",
   "execution_count": 27,
   "metadata": {},
   "outputs": [
    {
     "data": {
      "text/html": [
       "<div>\n",
       "<style scoped>\n",
       "    .dataframe tbody tr th:only-of-type {\n",
       "        vertical-align: middle;\n",
       "    }\n",
       "\n",
       "    .dataframe tbody tr th {\n",
       "        vertical-align: top;\n",
       "    }\n",
       "\n",
       "    .dataframe thead th {\n",
       "        text-align: right;\n",
       "    }\n",
       "</style>\n",
       "<table border=\"1\" class=\"dataframe\">\n",
       "  <thead>\n",
       "    <tr style=\"text-align: right;\">\n",
       "      <th></th>\n",
       "      <th></th>\n",
       "      <th></th>\n",
       "      <th>val_loss</th>\n",
       "      <th>val_w_loss</th>\n",
       "    </tr>\n",
       "    <tr>\n",
       "      <th>fold</th>\n",
       "      <th>weighted_training</th>\n",
       "      <th>dataset</th>\n",
       "      <th></th>\n",
       "      <th></th>\n",
       "    </tr>\n",
       "  </thead>\n",
       "  <tbody>\n",
       "    <tr>\n",
       "      <td rowspan=\"4\" valign=\"top\">0</td>\n",
       "      <td rowspan=\"2\" valign=\"top\">False</td>\n",
       "      <td>12</td>\n",
       "      <td>0.059201</td>\n",
       "      <td>0.064282</td>\n",
       "    </tr>\n",
       "    <tr>\n",
       "      <td>14</td>\n",
       "      <td>0.059394</td>\n",
       "      <td>0.063065</td>\n",
       "    </tr>\n",
       "    <tr>\n",
       "      <td rowspan=\"2\" valign=\"top\">True</td>\n",
       "      <td>12</td>\n",
       "      <td>0.060360</td>\n",
       "      <td>0.063039</td>\n",
       "    </tr>\n",
       "    <tr>\n",
       "      <td>14</td>\n",
       "      <td>0.061043</td>\n",
       "      <td>0.062914</td>\n",
       "    </tr>\n",
       "    <tr>\n",
       "      <td rowspan=\"4\" valign=\"top\">1</td>\n",
       "      <td rowspan=\"2\" valign=\"top\">False</td>\n",
       "      <td>12</td>\n",
       "      <td>0.059864</td>\n",
       "      <td>0.058066</td>\n",
       "    </tr>\n",
       "    <tr>\n",
       "      <td>14</td>\n",
       "      <td>0.059391</td>\n",
       "      <td>0.057033</td>\n",
       "    </tr>\n",
       "    <tr>\n",
       "      <td rowspan=\"2\" valign=\"top\">True</td>\n",
       "      <td>12</td>\n",
       "      <td>0.060730</td>\n",
       "      <td>0.057532</td>\n",
       "    </tr>\n",
       "    <tr>\n",
       "      <td>14</td>\n",
       "      <td>0.060324</td>\n",
       "      <td>0.056965</td>\n",
       "    </tr>\n",
       "  </tbody>\n",
       "</table>\n",
       "</div>"
      ],
      "text/plain": [
       "                                val_loss  val_w_loss\n",
       "fold weighted_training dataset                      \n",
       "0    False             12       0.059201    0.064282\n",
       "                       14       0.059394    0.063065\n",
       "     True              12       0.060360    0.063039\n",
       "                       14       0.061043    0.062914\n",
       "1    False             12       0.059864    0.058066\n",
       "                       14       0.059391    0.057033\n",
       "     True              12       0.060730    0.057532\n",
       "                       14       0.060324    0.056965"
      ]
     },
     "execution_count": 27,
     "metadata": {},
     "output_type": "execute_result"
    }
   ],
   "source": [
    "stats.groupby(['fold','weighted_training','dataset'])[['val_loss','val_w_loss']].mean()"
   ]
  },
  {
   "cell_type": "code",
   "execution_count": null,
   "metadata": {},
   "outputs": [],
   "source": []
  },
  {
   "cell_type": "markdown",
   "metadata": {},
   "source": [
    "# Analysis"
   ]
  },
  {
   "cell_type": "code",
   "execution_count": 13,
   "metadata": {
    "scrolled": true
   },
   "outputs": [
    {
     "data": {
      "text/html": [
       "<div>\n",
       "<style scoped>\n",
       "    .dataframe tbody tr th:only-of-type {\n",
       "        vertical-align: middle;\n",
       "    }\n",
       "\n",
       "    .dataframe tbody tr th {\n",
       "        vertical-align: top;\n",
       "    }\n",
       "\n",
       "    .dataframe thead th {\n",
       "        text-align: right;\n",
       "    }\n",
       "</style>\n",
       "<table border=\"1\" class=\"dataframe\">\n",
       "  <thead>\n",
       "    <tr style=\"text-align: right;\">\n",
       "      <th></th>\n",
       "      <th>val_loss</th>\n",
       "      <th>val_w_loss</th>\n",
       "    </tr>\n",
       "    <tr>\n",
       "      <th>dataset</th>\n",
       "      <th></th>\n",
       "      <th></th>\n",
       "    </tr>\n",
       "  </thead>\n",
       "  <tbody>\n",
       "    <tr>\n",
       "      <td>6</td>\n",
       "      <td>0.063542</td>\n",
       "      <td>0.069056</td>\n",
       "    </tr>\n",
       "    <tr>\n",
       "      <td>7</td>\n",
       "      <td>0.062726</td>\n",
       "      <td>0.068622</td>\n",
       "    </tr>\n",
       "    <tr>\n",
       "      <td>8</td>\n",
       "      <td>0.064020</td>\n",
       "      <td>0.069777</td>\n",
       "    </tr>\n",
       "    <tr>\n",
       "      <td>9</td>\n",
       "      <td>0.062367</td>\n",
       "      <td>0.067991</td>\n",
       "    </tr>\n",
       "    <tr>\n",
       "      <td>10</td>\n",
       "      <td>0.062012</td>\n",
       "      <td>0.067773</td>\n",
       "    </tr>\n",
       "    <tr>\n",
       "      <td>11</td>\n",
       "      <td>0.061149</td>\n",
       "      <td>0.066677</td>\n",
       "    </tr>\n",
       "    <tr>\n",
       "      <td>12</td>\n",
       "      <td>0.060799</td>\n",
       "      <td>0.066053</td>\n",
       "    </tr>\n",
       "    <tr>\n",
       "      <td>13</td>\n",
       "      <td>0.061087</td>\n",
       "      <td>0.066270</td>\n",
       "    </tr>\n",
       "  </tbody>\n",
       "</table>\n",
       "</div>"
      ],
      "text/plain": [
       "         val_loss  val_w_loss\n",
       "dataset                      \n",
       "6        0.063542    0.069056\n",
       "7        0.062726    0.068622\n",
       "8        0.064020    0.069777\n",
       "9        0.062367    0.067991\n",
       "10       0.062012    0.067773\n",
       "11       0.061149    0.066677\n",
       "12       0.060799    0.066053\n",
       "13       0.061087    0.066270"
      ]
     },
     "execution_count": 13,
     "metadata": {},
     "output_type": "execute_result"
    }
   ],
   "source": [
    "stats = pd.concat([pd.read_csv(PATH_WORK/'stats.f{}.v{}'.format(f,31)) for f in range(5)],axis=0)\n",
    "stats.loc[stats.epoch==13].groupby('dataset')[['val_loss','val_w_loss']].mean()"
   ]
  },
  {
   "cell_type": "code",
   "execution_count": 11,
   "metadata": {
    "scrolled": true
   },
   "outputs": [
    {
     "data": {
      "text/html": [
       "<div>\n",
       "<style scoped>\n",
       "    .dataframe tbody tr th:only-of-type {\n",
       "        vertical-align: middle;\n",
       "    }\n",
       "\n",
       "    .dataframe tbody tr th {\n",
       "        vertical-align: top;\n",
       "    }\n",
       "\n",
       "    .dataframe thead th {\n",
       "        text-align: right;\n",
       "    }\n",
       "</style>\n",
       "<table border=\"1\" class=\"dataframe\">\n",
       "  <thead>\n",
       "    <tr style=\"text-align: right;\">\n",
       "      <th></th>\n",
       "      <th>val_loss</th>\n",
       "      <th>val_w_loss</th>\n",
       "    </tr>\n",
       "    <tr>\n",
       "      <th>dataset</th>\n",
       "      <th></th>\n",
       "      <th></th>\n",
       "    </tr>\n",
       "  </thead>\n",
       "  <tbody>\n",
       "    <tr>\n",
       "      <td>6</td>\n",
       "      <td>0.064378</td>\n",
       "      <td>0.068053</td>\n",
       "    </tr>\n",
       "    <tr>\n",
       "      <td>7</td>\n",
       "      <td>0.063824</td>\n",
       "      <td>0.067963</td>\n",
       "    </tr>\n",
       "    <tr>\n",
       "      <td>8</td>\n",
       "      <td>0.065129</td>\n",
       "      <td>0.068768</td>\n",
       "    </tr>\n",
       "    <tr>\n",
       "      <td>9</td>\n",
       "      <td>0.062979</td>\n",
       "      <td>0.067057</td>\n",
       "    </tr>\n",
       "    <tr>\n",
       "      <td>10</td>\n",
       "      <td>0.062737</td>\n",
       "      <td>0.067054</td>\n",
       "    </tr>\n",
       "    <tr>\n",
       "      <td>11</td>\n",
       "      <td>0.061973</td>\n",
       "      <td>0.065464</td>\n",
       "    </tr>\n",
       "    <tr>\n",
       "      <td>12</td>\n",
       "      <td>0.061613</td>\n",
       "      <td>0.064652</td>\n",
       "    </tr>\n",
       "    <tr>\n",
       "      <td>13</td>\n",
       "      <td>0.061888</td>\n",
       "      <td>0.064962</td>\n",
       "    </tr>\n",
       "  </tbody>\n",
       "</table>\n",
       "</div>"
      ],
      "text/plain": [
       "         val_loss  val_w_loss\n",
       "dataset                      \n",
       "6        0.064378    0.068053\n",
       "7        0.063824    0.067963\n",
       "8        0.065129    0.068768\n",
       "9        0.062979    0.067057\n",
       "10       0.062737    0.067054\n",
       "11       0.061973    0.065464\n",
       "12       0.061613    0.064652\n",
       "13       0.061888    0.064962"
      ]
     },
     "execution_count": 11,
     "metadata": {},
     "output_type": "execute_result"
    }
   ],
   "source": [
    "stats = pd.concat([pd.read_csv(PATH_WORK/'stats.f{}.v{}'.format(f,32)) for f in range(5)],axis=0)\n",
    "stats.loc[stats.epoch==3].groupby('dataset')[['val_loss','val_w_loss']].mean()"
   ]
  },
  {
   "cell_type": "code",
   "execution_count": 14,
   "metadata": {},
   "outputs": [
    {
     "data": {
      "text/plain": [
       "[<matplotlib.lines.Line2D at 0x7efd58fd4b90>]"
      ]
     },
     "execution_count": 14,
     "metadata": {},
     "output_type": "execute_result"
    },
    {
     "data": {
      "image/png": "[encoded data removed]",
      "text/plain": [
       "<Figure size 432x288 with 1 Axes>"
      ]
     },
     "metadata": {
      "needs_background": "light"
     },
     "output_type": "display_data"
    }
   ],
   "source": [
    "plt.plot(stats.groupby('epoch').mean().val_loss)"
   ]
  },
  {
   "cell_type": "code",
   "execution_count": null,
   "metadata": {},
   "outputs": [],
   "source": []
  },
  {
   "cell_type": "code",
   "execution_count": 53,
   "metadata": {
    "scrolled": true
   },
   "outputs": [
    {
     "data": {
      "text/plain": [
       "(3941, 60, 6)"
      ]
     },
     "execution_count": 53,
     "metadata": {},
     "output_type": "execute_result"
    }
   ],
   "source": [
    "predictions.shape"
   ]
  },
  {
   "cell_type": "code",
   "execution_count": 54,
   "metadata": {},
   "outputs": [
    {
     "data": {
      "text/plain": [
       "array([0.360946  , 0.15772094, 0.21251288, 0.22738211, 0.23613851,\n",
       "       0.2085103 ], dtype=float32)"
      ]
     },
     "execution_count": 54,
     "metadata": {},
     "output_type": "execute_result"
    }
   ],
   "source": [
    "predictions.mean((0,1))"
   ]
  },
  {
   "cell_type": "code",
   "execution_count": 55,
   "metadata": {},
   "outputs": [
    {
     "data": {
      "text/plain": [
       "[<matplotlib.lines.Line2D at 0x7f4f9dafcb90>]"
      ]
     },
     "execution_count": 55,
     "metadata": {},
     "output_type": "execute_result"
    },
    {
     "data": {
      "image/png": "[encoded data removed]",
      "text/plain": [
       "<Figure size 432x288 with 1 Axes>"
      ]
     },
     "metadata": {
      "needs_background": "light"
     },
     "output_type": "display_data"
    }
   ],
   "source": [
    "plt.plot(predictions.mean(0)[:,0])"
   ]
  },
  {
   "cell_type": "code",
   "execution_count": 56,
   "metadata": {},
   "outputs": [
    {
     "data": {
      "text/plain": [
       "[<matplotlib.lines.Line2D at 0x7f4f9dadad50>]"
      ]
     },
     "execution_count": 56,
     "metadata": {},
     "output_type": "execute_result"
    },
    {
     "data": {
      "image/png": "[encoded data removed]",
      "text/plain": [
       "<Figure size 432x288 with 1 Axes>"
      ]
     },
     "metadata": {
      "needs_background": "light"
     },
     "output_type": "display_data"
    }
   ],
   "source": [
    "dd = train_md.loc[train_md.fold5==4].copy()\n",
    "dd['res'] = val_results[:,0]\n",
    "\n",
    "plt.plot(dd[['res','pos_idx']].groupby('pos_idx').mean().values)"
   ]
  },
  {
   "cell_type": "code",
   "execution_count": null,
   "metadata": {},
   "outputs": [],
   "source": []
  }
 ],
 "metadata": {
  "kernelspec": {
   "display_name": "Python 3",
   "language": "python",
   "name": "python3"
  },
  "language_info": {
   "codemirror_mode": {
    "name": "ipython",
    "version": 3
   },
   "file_extension": ".py",
   "mimetype": "text/x-python",
   "name": "python",
   "nbconvert_exporter": "python",
   "pygments_lexer": "ipython3",
   "version": "3.6.6"
  }
 },
 "nbformat": 4,
 "nbformat_minor": 2
}
