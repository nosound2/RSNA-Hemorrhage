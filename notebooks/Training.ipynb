{
 "cells": [
  {
   "cell_type": "code",
   "execution_count": 6,
   "metadata": {},
   "outputs": [],
   "source": [
    "VERSION = 31\n",
    "CLOUD_SINGLE = True\n",
    "MIXUP = False\n",
    "NO_BLACK_LOSS = True\n",
    "DATA_SMALL = True\n",
    "WEIGHTED = False\n",
    "FOCAL_LOSS = 0"
   ]
  },
  {
   "cell_type": "code",
   "execution_count": 16,
   "metadata": {},
   "outputs": [],
   "source": [
    "%run ./Code.ipynb"
   ]
  },
  {
   "cell_type": "code",
   "execution_count": 3,
   "metadata": {},
   "outputs": [],
   "source": [
    "#if 'train_md' not in globals() or 'test_md' not in globals():\n",
    "#    train_md, test_md = loadMetadata()"
   ]
  },
  {
   "cell_type": "code",
   "execution_count": 4,
   "metadata": {},
   "outputs": [],
   "source": [
    "if 'train_md' not in globals():\n",
    "    train_md = loadMetadata2()"
   ]
  },
  {
   "cell_type": "code",
   "execution_count": null,
   "metadata": {},
   "outputs": [],
   "source": []
  },
  {
   "cell_type": "markdown",
   "metadata": {},
   "source": [
    "# Pre-processing features"
   ]
  },
  {
   "cell_type": "code",
   "execution_count": 5,
   "metadata": {},
   "outputs": [],
   "source": [
    "#_,_ = loadMetadata(True)"
   ]
  },
  {
   "cell_type": "code",
   "execution_count": 6,
   "metadata": {},
   "outputs": [],
   "source": [
    "#for ds in my_datasets3:\n",
    "#    preprocessedData(ds)\n",
    "\n",
    "#for ds in my_datasets5:\n",
    "#    preprocessedData(11, folds=range(5))"
   ]
  },
  {
   "cell_type": "code",
   "execution_count": 14,
   "metadata": {},
   "outputs": [],
   "source": [
    "#preprocessedData(14,fold_col='fold5',do_test=False,folds=range(2))"
   ]
  },
  {
   "cell_type": "markdown",
   "metadata": {},
   "source": [
    "# Running"
   ]
  },
  {
   "cell_type": "code",
   "execution_count": 17,
   "metadata": {
    "scrolled": true
   },
   "outputs": [
    {
     "name": "stdout",
     "output_type": "stream",
     "text": [
      "completed epochs: 0 starting now: 4\n",
      "DataSet 14 train size 17369 fold 0\n",
      "DataSet 14 valid size 4375 fold 0\n",
      "setFeats, augmentation 0\n",
      "dataset train: 173 valid: 43 loader train: 5 valid: 2\n",
      "starting from scratch\n",
      "setFeats, augmentation -1\n",
      "v31, d14, e1, f0, trn ll: 0.3746, val ll: 0.7042, ll_w: 0.7049, cor: -0.1458, auc: 0.3063, lr: 0.0002\n",
      "setFeats, augmentation -1\n",
      "v31, d14, e2, f0, trn ll: 0.3278, val ll: 0.6967, ll_w: 0.6963, cor: -0.1622, auc: 0.2812, lr: 0.0002\n",
      "setFeats, augmentation -1\n",
      "v31, d14, e3, f0, trn ll: 0.2923, val ll: 0.6767, ll_w: 0.6766, cor: -0.1642, auc: 0.2866, lr: 0.0002\n",
      "setFeats, augmentation -1\n",
      "v31, d14, e4, f0, trn ll: 0.2632, val ll: 0.6460, ll_w: 0.6471, cor: -0.1558, auc: 0.3186, lr: 0.0002\n",
      "total running time 61.93279147148132\n",
      "completed epochs: 0 starting now: 4\n",
      "DataSet 14 train size 17369 fold 0\n",
      "DataSet 14 valid size 4375 fold 0\n",
      "setFeats, augmentation 0\n",
      "dataset train: 173 valid: 43 loader train: 5 valid: 2\n",
      "starting from scratch\n",
      "setFeats, augmentation -1\n",
      "v31, d14, e1, f0, trn ll: 0.4002, val ll: 0.7111, ll_w: 0.7111, cor: -0.1422, auc: 0.3373, lr: 2e-05\n",
      "setFeats, augmentation -1\n",
      "v31, d14, e2, f0, trn ll: 0.3912, val ll: 0.7176, ll_w: 0.7166, cor: -0.1595, auc: 0.2953, lr: 2e-05\n",
      "setFeats, augmentation -1\n",
      "v31, d14, e3, f0, trn ll: 0.3816, val ll: 0.7205, ll_w: 0.7191, cor: -0.1607, auc: 0.2902, lr: 2e-05\n",
      "setFeats, augmentation -1\n",
      "v31, d14, e4, f0, trn ll: 0.3723, val ll: 0.7185, ll_w: 0.7172, cor: -0.1554, auc: 0.2934, lr: 2e-05\n",
      "total running time 59.1597945690155\n",
      "completed epochs: 0 starting now: 3\n",
      "DataSet 14 train size 17369 fold 0\n",
      "DataSet 14 valid size 4375 fold 0\n",
      "setFeats, augmentation 0\n",
      "dataset train: 173 valid: 43 loader train: 5 valid: 2\n",
      "starting from scratch\n",
      "setFeats, augmentation -1\n",
      "v31, d14, e1, f0, trn ll: 0.4034, val ll: 0.7116, ll_w: 0.7115, cor: -0.1411, auc: 0.3415, lr: 5e-06\n",
      "setFeats, augmentation -1\n",
      "v31, d14, e2, f0, trn ll: 0.4014, val ll: 0.7187, ll_w: 0.7172, cor: -0.1595, auc: 0.2977, lr: 5e-06\n",
      "setFeats, augmentation -1\n",
      "v31, d14, e3, f0, trn ll: 0.3986, val ll: 0.7233, ll_w: 0.7210, cor: -0.1632, auc: 0.2874, lr: 5e-06\n",
      "total running time 46.973262786865234\n",
      "completed epochs: 0 starting now: 2\n",
      "DataSet 14 train size 17369 fold 0\n",
      "DataSet 14 valid size 4375 fold 0\n",
      "setFeats, augmentation 0\n",
      "dataset train: 173 valid: 43 loader train: 5 valid: 2\n",
      "starting from scratch\n",
      "setFeats, augmentation -1\n",
      "v31, d14, e1, f0, trn ll: 0.4040, val ll: 0.7117, ll_w: 0.7116, cor: -0.1408, auc: 0.3422, lr: 2e-06\n",
      "setFeats, augmentation -1\n",
      "v31, d14, e2, f0, trn ll: 0.4038, val ll: 0.7191, ll_w: 0.7175, cor: -0.1591, auc: 0.2988, lr: 2e-06\n",
      "total running time 31.738683938980103\n",
      "total time 200.59119272232056\n",
      "completed epochs: 0 starting now: 4\n",
      "DataSet 14 train size 17468 fold 1\n",
      "DataSet 14 valid size 4276 fold 1\n",
      "setFeats, augmentation 0\n",
      "dataset train: 174 valid: 42 loader train: 5 valid: 2\n",
      "starting from scratch\n",
      "setFeats, augmentation -1\n",
      "v31, d14, e1, f1, trn ll: 0.3637, val ll: 0.6924, ll_w: 0.6938, cor: -0.0998, auc: 0.4506, lr: 0.0002\n",
      "setFeats, augmentation -1\n",
      "v31, d14, e2, f1, trn ll: 0.3087, val ll: 0.6674, ll_w: 0.6672, cor: -0.0737, auc: 0.4532, lr: 0.0002\n",
      "setFeats, augmentation -1\n",
      "v31, d14, e3, f1, trn ll: 0.2656, val ll: 0.6381, ll_w: 0.6371, cor: -0.0475, auc: 0.4529, lr: 0.0002\n",
      "setFeats, augmentation -1\n",
      "v31, d14, e4, f1, trn ll: 0.2383, val ll: 0.6030, ll_w: 0.6031, cor: 0.0060, auc: 0.5117, lr: 0.0002\n",
      "total running time 63.339447021484375\n",
      "completed epochs: 0 starting now: 4\n",
      "DataSet 14 train size 17468 fold 1\n",
      "DataSet 14 valid size 4276 fold 1\n",
      "setFeats, augmentation 0\n",
      "dataset train: 174 valid: 42 loader train: 5 valid: 2\n",
      "starting from scratch\n",
      "setFeats, augmentation -1\n",
      "v31, d14, e1, f1, trn ll: 0.3948, val ll: 0.7057, ll_w: 0.7083, cor: -0.0959, auc: 0.4551, lr: 2e-05\n",
      "setFeats, augmentation -1\n",
      "v31, d14, e2, f1, trn ll: 0.3843, val ll: 0.7065, ll_w: 0.7092, cor: -0.0937, auc: 0.4521, lr: 2e-05\n",
      "setFeats, augmentation -1\n",
      "v31, d14, e3, f1, trn ll: 0.3697, val ll: 0.7031, ll_w: 0.7060, cor: -0.0778, auc: 0.4495, lr: 2e-05\n",
      "setFeats, augmentation -1\n"
     ]
    },
    {
     "ename": "KeyboardInterrupt",
     "evalue": "",
     "output_type": "error",
     "traceback": [
      "\u001b[1;31m---------------------------------------------------------------------------\u001b[0m",
      "\u001b[1;31mKeyboardInterrupt\u001b[0m                         Traceback (most recent call last)",
      "\u001b[1;32m<ipython-input-17-d8ef60f6bccc>\u001b[0m in \u001b[0;36m<module>\u001b[1;34m\u001b[0m\n\u001b[0;32m      8\u001b[0m     \u001b[1;32mfor\u001b[0m \u001b[0mi\u001b[0m\u001b[1;33m,\u001b[0m\u001b[0mlr\u001b[0m \u001b[1;32min\u001b[0m \u001b[0menumerate\u001b[0m\u001b[1;33m(\u001b[0m\u001b[0mlrs\u001b[0m\u001b[1;33m)\u001b[0m\u001b[1;33m:\u001b[0m\u001b[1;33m\u001b[0m\u001b[0m\n\u001b[0;32m      9\u001b[0m         \u001b[0mlearning_rate\u001b[0m \u001b[1;33m=\u001b[0m \u001b[0mlr\u001b[0m\u001b[1;33m\u001b[0m\u001b[0m\n\u001b[1;32m---> 10\u001b[1;33m         \u001b[0mmodel\u001b[0m\u001b[1;33m,\u001b[0m \u001b[0mpredictions\u001b[0m\u001b[1;33m,\u001b[0m \u001b[0mval_results\u001b[0m \u001b[1;33m=\u001b[0m \u001b[0mtrain_one\u001b[0m\u001b[1;33m(\u001b[0m\u001b[0mdataset\u001b[0m\u001b[1;33m=\u001b[0m\u001b[0mds\u001b[0m\u001b[1;33m,\u001b[0m \u001b[0mepochs\u001b[0m\u001b[1;33m=\u001b[0m\u001b[0mepochs\u001b[0m\u001b[1;33m[\u001b[0m\u001b[0mi\u001b[0m\u001b[1;33m]\u001b[0m\u001b[1;33m,\u001b[0m \u001b[0mbs\u001b[0m\u001b[1;33m=\u001b[0m\u001b[1;36m32\u001b[0m\u001b[1;33m,\u001b[0m \u001b[0mfold\u001b[0m\u001b[1;33m=\u001b[0m\u001b[0mf\u001b[0m\u001b[1;33m)\u001b[0m\u001b[1;33m\u001b[0m\u001b[0m\n\u001b[0m\u001b[0;32m     11\u001b[0m     \u001b[0mprint\u001b[0m\u001b[1;33m(\u001b[0m\u001b[1;34m'total time'\u001b[0m\u001b[1;33m,\u001b[0m \u001b[0mtime\u001b[0m\u001b[1;33m.\u001b[0m\u001b[0mtime\u001b[0m\u001b[1;33m(\u001b[0m\u001b[1;33m)\u001b[0m \u001b[1;33m-\u001b[0m \u001b[0mstg\u001b[0m\u001b[1;33m)\u001b[0m\u001b[1;33m\u001b[0m\u001b[0m\n\u001b[0;32m     12\u001b[0m \u001b[0mprint\u001b[0m\u001b[1;33m(\u001b[0m\u001b[1;34m'total time'\u001b[0m\u001b[1;33m,\u001b[0m \u001b[0mtime\u001b[0m\u001b[1;33m.\u001b[0m\u001b[0mtime\u001b[0m\u001b[1;33m(\u001b[0m\u001b[1;33m)\u001b[0m \u001b[1;33m-\u001b[0m \u001b[0mstg\u001b[0m\u001b[1;33m)\u001b[0m\u001b[1;33m\u001b[0m\u001b[0m\n",
      "\u001b[1;32m<ipython-input-16-45cf49a502f9>\u001b[0m in \u001b[0;36mtrain_one\u001b[1;34m(dataset, weight, load_model, epochs, bs, fold, init_ver)\u001b[0m\n\u001b[0;32m     68\u001b[0m \u001b[1;33m\u001b[0m\u001b[0m\n\u001b[0;32m     69\u001b[0m         \u001b[1;31m#trn_ds.setFeats((i-1) % 4)\u001b[0m\u001b[1;33m\u001b[0m\u001b[1;33m\u001b[0m\u001b[0m\n\u001b[1;32m---> 70\u001b[1;33m         \u001b[0mtrn_ds\u001b[0m\u001b[1;33m.\u001b[0m\u001b[0msetFeats\u001b[0m\u001b[1;33m(\u001b[0m\u001b[1;33m-\u001b[0m\u001b[1;36m1\u001b[0m\u001b[1;33m,\u001b[0m \u001b[0mepoch\u001b[0m\u001b[1;33m=\u001b[0m\u001b[0mi\u001b[0m\u001b[1;33m)\u001b[0m\u001b[1;33m\u001b[0m\u001b[0m\n\u001b[0m\u001b[0;32m     71\u001b[0m \u001b[1;33m\u001b[0m\u001b[0m\n\u001b[0;32m     72\u001b[0m         \u001b[1;32mif\u001b[0m \u001b[0mCLOUD\u001b[0m \u001b[1;32mand\u001b[0m \u001b[1;33m(\u001b[0m\u001b[1;32mnot\u001b[0m \u001b[0mCLOUD_SINGLE\u001b[0m\u001b[1;33m)\u001b[0m\u001b[1;33m:\u001b[0m\u001b[1;33m\u001b[0m\u001b[0m\n",
      "\u001b[1;32m<ipython-input-16-8262b09b29ac>\u001b[0m in \u001b[0;36msetFeats\u001b[1;34m(self, anum, epoch)\u001b[0m\n\u001b[0;32m     76\u001b[0m             \u001b[0mfeats\u001b[0m \u001b[1;33m=\u001b[0m \u001b[0mpickle\u001b[0m\u001b[1;33m.\u001b[0m\u001b[0mload\u001b[0m\u001b[1;33m(\u001b[0m\u001b[0mopen\u001b[0m\u001b[1;33m(\u001b[0m\u001b[0mgetAPath\u001b[0m\u001b[1;33m(\u001b[0m\u001b[0manum\u001b[0m\u001b[1;33m,\u001b[0m\u001b[0mself\u001b[0m\u001b[1;33m.\u001b[0m\u001b[0mmode\u001b[0m\u001b[1;33m)\u001b[0m\u001b[1;33m,\u001b[0m\u001b[1;34m'rb'\u001b[0m\u001b[1;33m)\u001b[0m\u001b[1;33m)\u001b[0m\u001b[1;33m\u001b[0m\u001b[0m\n\u001b[0;32m     77\u001b[0m \u001b[1;33m\u001b[0m\u001b[0m\n\u001b[1;32m---> 78\u001b[1;33m         \u001b[0mself\u001b[0m\u001b[1;33m.\u001b[0m\u001b[0mfeats\u001b[0m \u001b[1;33m=\u001b[0m \u001b[0mfeats\u001b[0m\u001b[1;33m\u001b[0m\u001b[0m\n\u001b[0m\u001b[0;32m     79\u001b[0m         \u001b[0mself\u001b[0m\u001b[1;33m.\u001b[0m\u001b[0mepoch\u001b[0m \u001b[1;33m=\u001b[0m \u001b[0mepoch\u001b[0m\u001b[1;33m\u001b[0m\u001b[0m\n\u001b[0;32m     80\u001b[0m         \u001b[1;32massert\u001b[0m \u001b[0mlen\u001b[0m\u001b[1;33m(\u001b[0m\u001b[0mfeats\u001b[0m\u001b[1;33m)\u001b[0m \u001b[1;33m==\u001b[0m \u001b[0msz\u001b[0m\u001b[1;33m\u001b[0m\u001b[0m\n",
      "\u001b[1;31mKeyboardInterrupt\u001b[0m: "
     ]
    }
   ],
   "source": [
    "weight_decay = 1e-4\n",
    "lrs = np.array([2e-4, 2e-5, 5e-6, 2e-6])\n",
    "epochs = np.array([4, 4, 3, 2])\n",
    "stg = time.time()\n",
    "ds=14\n",
    "folds = getNFolds(ds)\n",
    "for f in range(folds):\n",
    "    for i,lr in enumerate(lrs):\n",
    "        learning_rate = lr\n",
    "        model, predictions, val_results = train_one(dataset=ds, epochs=epochs[i], bs=32, fold=f)\n",
    "    print('total time', time.time() - stg)\n",
    "print('total time', time.time() - stg)"
   ]
  },
  {
   "cell_type": "code",
   "execution_count": 9,
   "metadata": {},
   "outputs": [
    {
     "name": "stdout",
     "output_type": "stream",
     "text": [
      "> c:\\users\\nosou\\anaconda3\\envs\\fastai\\lib\\site-packages\\sklearn\\utils\\validation.py(230)check_consistent_length()\n",
      "    228     if len(uniques) > 1:\n",
      "    229         raise ValueError(\"Found input variables with inconsistent numbers of\"\n",
      "--> 230                          \" samples: %r\" % [int(l) for l in lengths])\n",
      "    231 \n",
      "    232 \n",
      "\n",
      "ipdb> u\n",
      "> c:\\users\\nosou\\anaconda3\\envs\\fastai\\lib\\site-packages\\sklearn\\metrics\\classification.py(1764)log_loss()\n",
      "   1762     \"\"\"\n",
      "   1763     y_pred = check_array(y_pred, ensure_2d=False)\n",
      "-> 1764     check_consistent_length(y_pred, y_true, sample_weight)\n",
      "   1765 \n",
      "   1766     lb = LabelBinarizer()\n",
      "\n",
      "ipdb> u\n",
      "> <ipython-input-2-9a97cf042158>(120)<listcomp>()\n",
      "    118 \n",
      "    119         lls = [log_loss(loc_data.loc[~loc_data.test, all_ich[k]].values, val_results[:,k], eps=1e-7, labels=[0,1])\\\n",
      "--> 120                for k in range(6)]\n",
      "    121         ll = (class_weights * np.array(lls)).mean()\n",
      "    122         cor = np.corrcoef(loc_data.loc[~loc_data.test,all_ich].values.reshape(-1), val_results.reshape(-1))[0,1]\n",
      "\n",
      "ipdb> u\n",
      "> <ipython-input-2-9a97cf042158>(120)train_one()\n",
      "    118 \n",
      "    119         lls = [log_loss(loc_data.loc[~loc_data.test, all_ich[k]].values, val_results[:,k], eps=1e-7, labels=[0,1])\\\n",
      "--> 120                for k in range(6)]\n",
      "    121         ll = (class_weights * np.array(lls)).mean()\n",
      "    122         cor = np.corrcoef(loc_data.loc[~loc_data.test,all_ich].values.reshape(-1), val_results.reshape(-1))[0,1]\n",
      "\n",
      "ipdb> loc_data.shape\n",
      "(1482, 102)\n",
      "ipdb> loc_data.test.sum()\n",
      "236\n",
      "ipdb> loc_data.test.isnull().sum()\n",
      "0\n",
      "ipdb> val_results.shape\n",
      "(1482, 6)\n",
      "ipdb> q\n"
     ]
    }
   ],
   "source": [
    "%debug"
   ]
  },
  {
   "cell_type": "code",
   "execution_count": null,
   "metadata": {},
   "outputs": [],
   "source": []
  },
  {
   "cell_type": "code",
   "execution_count": null,
   "metadata": {},
   "outputs": [],
   "source": []
  },
  {
   "cell_type": "code",
   "execution_count": 7,
   "metadata": {
    "scrolled": true
   },
   "outputs": [
    {
     "name": "stdout",
     "output_type": "stream",
     "text": [
      "completed epochs: 0 starting now: 2\n",
      "DataSet 13 train size 15619 fold 0\n",
      "adding dummy serieses 25\n",
      "DataSet 13 valid size 3936 fold 0\n",
      "setFeats, augmentation 0\n",
      "WeightedRandomSampler\n",
      "dataset train: 15619 valid: 3936 loader train: 488 valid: 123\n",
      "loading model model.b13.f0.d13.v31\n",
      "setFeats, augmentation -1\n",
      "Batch 50 device: cuda time passed: 12.934 time per batch: 0.259\n",
      "Batch 100 device: cuda time passed: 24.369 time per batch: 0.244\n",
      "Batch 150 device: cuda time passed: 35.998 time per batch: 0.240\n",
      "Batch 200 device: cuda time passed: 47.590 time per batch: 0.238\n",
      "Batch 250 device: cuda time passed: 60.847 time per batch: 0.243\n",
      "Batch 300 device: cuda time passed: 72.590 time per batch: 0.242\n",
      "Batch 350 device: cuda time passed: 84.074 time per batch: 0.240\n",
      "Batch 400 device: cuda time passed: 95.366 time per batch: 0.238\n",
      "Batch 450 device: cuda time passed: 108.312 time per batch: 0.241\n",
      "Batch 50 device: cuda time passed: 4.791 time per batch: 0.096\n",
      "Batch 100 device: cuda time passed: 8.978 time per batch: 0.090\n",
      "v32, d13, e1, f0, trn ll: 0.0332, val ll: 0.0602, ll_w: 0.0642, cor: 0.8442, auc: 0.9892, lr: 1e-05\n",
      "setFeats, augmentation -1\n",
      "Batch 50 device: cuda time passed: 13.083 time per batch: 0.262\n",
      "Batch 100 device: cuda time passed: 24.930 time per batch: 0.249\n",
      "Batch 150 device: cuda time passed: 36.630 time per batch: 0.244\n",
      "Batch 200 device: cuda time passed: 48.073 time per batch: 0.240\n",
      "Batch 250 device: cuda time passed: 60.890 time per batch: 0.244\n",
      "Batch 300 device: cuda time passed: 72.194 time per batch: 0.241\n",
      "Batch 350 device: cuda time passed: 83.610 time per batch: 0.239\n",
      "Batch 400 device: cuda time passed: 95.045 time per batch: 0.238\n",
      "Batch 450 device: cuda time passed: 107.794 time per batch: 0.240\n",
      "Batch 50 device: cuda time passed: 4.632 time per batch: 0.093\n",
      "Batch 100 device: cuda time passed: 8.668 time per batch: 0.087\n",
      "v32, d13, e2, f0, trn ll: 0.0329, val ll: 0.0606, ll_w: 0.0643, cor: 0.8434, auc: 0.9892, lr: 1e-05\n",
      "total running time 277.1149089336395\n",
      "completed epochs: 2 starting now: 1\n",
      "DataSet 13 train size 15619 fold 0\n",
      "adding dummy serieses 25\n",
      "DataSet 13 valid size 3936 fold 0\n",
      "setFeats, augmentation 0\n",
      "WeightedRandomSampler\n",
      "dataset train: 15619 valid: 3936 loader train: 488 valid: 123\n",
      "loading model model.b2.f0.d13.v32\n",
      "setFeats, augmentation -1\n",
      "Batch 50 device: cuda time passed: 12.835 time per batch: 0.257\n",
      "Batch 100 device: cuda time passed: 24.601 time per batch: 0.246\n",
      "Batch 150 device: cuda time passed: 35.823 time per batch: 0.239\n",
      "Batch 200 device: cuda time passed: 47.542 time per batch: 0.238\n",
      "Batch 250 device: cuda time passed: 60.872 time per batch: 0.243\n",
      "Batch 300 device: cuda time passed: 72.548 time per batch: 0.242\n",
      "Batch 350 device: cuda time passed: 84.130 time per batch: 0.240\n",
      "Batch 400 device: cuda time passed: 95.570 time per batch: 0.239\n",
      "Batch 450 device: cuda time passed: 108.659 time per batch: 0.241\n",
      "Batch 50 device: cuda time passed: 4.802 time per batch: 0.096\n",
      "Batch 100 device: cuda time passed: 8.909 time per batch: 0.089\n",
      "v32, d13, e3, f0, trn ll: 0.0334, val ll: 0.0606, ll_w: 0.0642, cor: 0.8435, auc: 0.9891, lr: 5e-06\n",
      "total running time 139.29676628112793\n",
      "total time 416.75732254981995\n",
      "completed epochs: 0 starting now: 2\n",
      "DataSet 13 train size 15699 fold 1\n",
      "adding dummy serieses 9\n",
      "DataSet 13 valid size 3840 fold 1\n",
      "setFeats, augmentation 0\n",
      "WeightedRandomSampler\n",
      "dataset train: 15699 valid: 3840 loader train: 490 valid: 120\n",
      "loading model model.b13.f1.d13.v31\n",
      "setFeats, augmentation -1\n",
      "Batch 50 device: cuda time passed: 12.899 time per batch: 0.258\n",
      "Batch 100 device: cuda time passed: 24.788 time per batch: 0.248\n",
      "Batch 150 device: cuda time passed: 36.743 time per batch: 0.245\n",
      "Batch 200 device: cuda time passed: 48.413 time per batch: 0.242\n",
      "Batch 250 device: cuda time passed: 61.379 time per batch: 0.246\n",
      "Batch 300 device: cuda time passed: 72.822 time per batch: 0.243\n",
      "Batch 350 device: cuda time passed: 84.362 time per batch: 0.241\n",
      "Batch 400 device: cuda time passed: 95.803 time per batch: 0.240\n",
      "Batch 450 device: cuda time passed: 108.762 time per batch: 0.242\n",
      "Batch 50 device: cuda time passed: 4.700 time per batch: 0.094\n",
      "Batch 100 device: cuda time passed: 8.845 time per batch: 0.088\n",
      "v32, d13, e1, f1, trn ll: 0.0340, val ll: 0.0620, ll_w: 0.0587, cor: 0.8424, auc: 0.9894, lr: 1e-05\n",
      "setFeats, augmentation -1\n",
      "Batch 50 device: cuda time passed: 12.857 time per batch: 0.257\n",
      "Batch 100 device: cuda time passed: 24.508 time per batch: 0.245\n",
      "Batch 150 device: cuda time passed: 36.111 time per batch: 0.241\n",
      "Batch 200 device: cuda time passed: 47.783 time per batch: 0.239\n",
      "Batch 250 device: cuda time passed: 60.840 time per batch: 0.243\n",
      "Batch 300 device: cuda time passed: 72.457 time per batch: 0.242\n",
      "Batch 350 device: cuda time passed: 84.189 time per batch: 0.241\n",
      "Batch 400 device: cuda time passed: 95.769 time per batch: 0.239\n",
      "Batch 450 device: cuda time passed: 108.864 time per batch: 0.242\n",
      "Batch 50 device: cuda time passed: 4.869 time per batch: 0.097\n",
      "Batch 100 device: cuda time passed: 8.936 time per batch: 0.089\n",
      "v32, d13, e2, f1, trn ll: 0.0345, val ll: 0.0612, ll_w: 0.0581, cor: 0.8432, auc: 0.9893, lr: 1e-05\n",
      "total running time 276.83801889419556\n",
      "completed epochs: 2 starting now: 1\n",
      "DataSet 13 train size 15699 fold 1\n",
      "adding dummy serieses 9\n",
      "DataSet 13 valid size 3840 fold 1\n",
      "setFeats, augmentation 0\n",
      "WeightedRandomSampler\n",
      "dataset train: 15699 valid: 3840 loader train: 490 valid: 120\n",
      "loading model model.b2.f1.d13.v32\n",
      "setFeats, augmentation -1\n",
      "Batch 50 device: cuda time passed: 13.232 time per batch: 0.265\n",
      "Batch 100 device: cuda time passed: 24.994 time per batch: 0.250\n",
      "Batch 150 device: cuda time passed: 36.673 time per batch: 0.244\n",
      "Batch 200 device: cuda time passed: 48.249 time per batch: 0.241\n",
      "Batch 250 device: cuda time passed: 61.317 time per batch: 0.245\n",
      "Batch 300 device: cuda time passed: 72.842 time per batch: 0.243\n",
      "Batch 350 device: cuda time passed: 84.399 time per batch: 0.241\n",
      "Batch 400 device: cuda time passed: 96.041 time per batch: 0.240\n",
      "Batch 450 device: cuda time passed: 109.026 time per batch: 0.242\n",
      "Batch 50 device: cuda time passed: 4.882 time per batch: 0.098\n",
      "Batch 100 device: cuda time passed: 9.006 time per batch: 0.090\n",
      "v32, d13, e3, f1, trn ll: 0.0340, val ll: 0.0616, ll_w: 0.0583, cor: 0.8428, auc: 0.9893, lr: 5e-06\n",
      "total running time 140.19878363609314\n",
      "total time 834.1475274562836\n",
      "completed epochs: 0 starting now: 2\n",
      "DataSet 13 train size 15583 fold 2\n",
      "adding dummy serieses 21\n",
      "DataSet 13 valid size 3968 fold 2\n",
      "setFeats, augmentation 0\n",
      "WeightedRandomSampler\n",
      "dataset train: 15583 valid: 3968 loader train: 486 valid: 124\n",
      "loading model model.b13.f2.d13.v31\n",
      "setFeats, augmentation -1\n",
      "Batch 50 device: cuda time passed: 13.133 time per batch: 0.263\n",
      "Batch 100 device: cuda time passed: 24.703 time per batch: 0.247\n",
      "Batch 150 device: cuda time passed: 36.423 time per batch: 0.243\n",
      "Batch 200 device: cuda time passed: 47.947 time per batch: 0.240\n",
      "Batch 250 device: cuda time passed: 60.973 time per batch: 0.244\n",
      "Batch 300 device: cuda time passed: 72.429 time per batch: 0.241\n",
      "Batch 350 device: cuda time passed: 83.762 time per batch: 0.239\n",
      "Batch 400 device: cuda time passed: 95.236 time per batch: 0.238\n",
      "Batch 450 device: cuda time passed: 108.161 time per batch: 0.240\n",
      "Batch 50 device: cuda time passed: 4.801 time per batch: 0.096\n",
      "Batch 100 device: cuda time passed: 8.865 time per batch: 0.089\n",
      "v32, d13, e1, f2, trn ll: 0.0336, val ll: 0.0614, ll_w: 0.0694, cor: 0.8407, auc: 0.9888, lr: 1e-05\n",
      "setFeats, augmentation -1\n",
      "Batch 50 device: cuda time passed: 13.049 time per batch: 0.261\n",
      "Batch 100 device: cuda time passed: 24.886 time per batch: 0.249\n",
      "Batch 150 device: cuda time passed: 36.761 time per batch: 0.245\n",
      "Batch 200 device: cuda time passed: 48.313 time per batch: 0.242\n",
      "Batch 250 device: cuda time passed: 61.252 time per batch: 0.245\n",
      "Batch 300 device: cuda time passed: 72.501 time per batch: 0.242\n",
      "Batch 350 device: cuda time passed: 84.169 time per batch: 0.240\n",
      "Batch 400 device: cuda time passed: 95.747 time per batch: 0.239\n",
      "Batch 450 device: cuda time passed: 108.764 time per batch: 0.242\n",
      "Batch 50 device: cuda time passed: 4.767 time per batch: 0.095\n",
      "Batch 100 device: cuda time passed: 8.821 time per batch: 0.088\n",
      "v32, d13, e2, f2, trn ll: 0.0322, val ll: 0.0616, ll_w: 0.0696, cor: 0.8401, auc: 0.9888, lr: 1e-05\n",
      "total running time 274.0854685306549\n",
      "completed epochs: 2 starting now: 1\n"
     ]
    },
    {
     "name": "stdout",
     "output_type": "stream",
     "text": [
      "DataSet 13 train size 15583 fold 2\n",
      "adding dummy serieses 21\n",
      "DataSet 13 valid size 3968 fold 2\n",
      "setFeats, augmentation 0\n",
      "WeightedRandomSampler\n",
      "dataset train: 15583 valid: 3968 loader train: 486 valid: 124\n",
      "loading model model.b2.f2.d13.v32\n",
      "setFeats, augmentation -1\n",
      "Batch 50 device: cuda time passed: 13.135 time per batch: 0.263\n",
      "Batch 100 device: cuda time passed: 24.596 time per batch: 0.246\n",
      "Batch 150 device: cuda time passed: 36.419 time per batch: 0.243\n",
      "Batch 200 device: cuda time passed: 47.964 time per batch: 0.240\n",
      "Batch 250 device: cuda time passed: 60.716 time per batch: 0.243\n",
      "Batch 300 device: cuda time passed: 72.241 time per batch: 0.241\n",
      "Batch 350 device: cuda time passed: 83.980 time per batch: 0.240\n",
      "Batch 400 device: cuda time passed: 95.428 time per batch: 0.239\n",
      "Batch 450 device: cuda time passed: 108.327 time per batch: 0.241\n",
      "Batch 50 device: cuda time passed: 4.663 time per batch: 0.093\n",
      "Batch 100 device: cuda time passed: 8.966 time per batch: 0.090\n",
      "v32, d13, e3, f2, trn ll: 0.0332, val ll: 0.0617, ll_w: 0.0693, cor: 0.8399, auc: 0.9888, lr: 5e-06\n",
      "total running time 138.34442925453186\n",
      "total time 1246.9303941726685\n",
      "completed epochs: 0 starting now: 2\n",
      "DataSet 13 train size 15630 fold 3\n",
      "adding dummy serieses 4\n",
      "DataSet 13 valid size 3904 fold 3\n",
      "setFeats, augmentation 0\n",
      "WeightedRandomSampler\n",
      "dataset train: 15630 valid: 3904 loader train: 488 valid: 122\n",
      "loading model model.b13.f3.d13.v31\n",
      "setFeats, augmentation -1\n",
      "Batch 50 device: cuda time passed: 12.940 time per batch: 0.259\n",
      "Batch 100 device: cuda time passed: 24.727 time per batch: 0.247\n",
      "Batch 150 device: cuda time passed: 36.621 time per batch: 0.244\n",
      "Batch 200 device: cuda time passed: 48.160 time per batch: 0.241\n",
      "Batch 250 device: cuda time passed: 61.066 time per batch: 0.244\n",
      "Batch 300 device: cuda time passed: 72.764 time per batch: 0.243\n",
      "Batch 350 device: cuda time passed: 84.217 time per batch: 0.241\n",
      "Batch 400 device: cuda time passed: 95.611 time per batch: 0.239\n",
      "Batch 450 device: cuda time passed: 108.702 time per batch: 0.242\n",
      "Batch 50 device: cuda time passed: 4.685 time per batch: 0.094\n",
      "Batch 100 device: cuda time passed: 8.849 time per batch: 0.088\n",
      "v32, d13, e1, f3, trn ll: 0.0331, val ll: 0.0629, ll_w: 0.0651, cor: 0.8399, auc: 0.9887, lr: 1e-05\n",
      "setFeats, augmentation -1\n",
      "Batch 50 device: cuda time passed: 13.340 time per batch: 0.267\n",
      "Batch 100 device: cuda time passed: 24.859 time per batch: 0.249\n",
      "Batch 150 device: cuda time passed: 36.734 time per batch: 0.245\n",
      "Batch 200 device: cuda time passed: 48.445 time per batch: 0.242\n",
      "Batch 250 device: cuda time passed: 61.453 time per batch: 0.246\n",
      "Batch 300 device: cuda time passed: 72.743 time per batch: 0.242\n",
      "Batch 350 device: cuda time passed: 84.229 time per batch: 0.241\n",
      "Batch 400 device: cuda time passed: 95.686 time per batch: 0.239\n",
      "Batch 450 device: cuda time passed: 108.525 time per batch: 0.241\n",
      "Batch 50 device: cuda time passed: 4.844 time per batch: 0.097\n",
      "Batch 100 device: cuda time passed: 9.161 time per batch: 0.092\n",
      "v32, d13, e2, f3, trn ll: 0.0325, val ll: 0.0634, ll_w: 0.0646, cor: 0.8391, auc: 0.9885, lr: 1e-05\n",
      "total running time 275.495139837265\n",
      "completed epochs: 2 starting now: 1\n",
      "DataSet 13 train size 15630 fold 3\n",
      "adding dummy serieses 4\n",
      "DataSet 13 valid size 3904 fold 3\n",
      "setFeats, augmentation 0\n",
      "WeightedRandomSampler\n",
      "dataset train: 15630 valid: 3904 loader train: 488 valid: 122\n",
      "loading model model.b2.f3.d13.v32\n",
      "setFeats, augmentation -1\n",
      "Batch 50 device: cuda time passed: 12.572 time per batch: 0.251\n",
      "Batch 100 device: cuda time passed: 24.552 time per batch: 0.246\n",
      "Batch 150 device: cuda time passed: 36.174 time per batch: 0.241\n",
      "Batch 200 device: cuda time passed: 47.703 time per batch: 0.239\n",
      "Batch 250 device: cuda time passed: 59.985 time per batch: 0.240\n",
      "Batch 300 device: cuda time passed: 72.355 time per batch: 0.241\n",
      "Batch 350 device: cuda time passed: 83.953 time per batch: 0.240\n",
      "Batch 400 device: cuda time passed: 95.538 time per batch: 0.239\n",
      "Batch 450 device: cuda time passed: 107.262 time per batch: 0.238\n",
      "Batch 50 device: cuda time passed: 4.778 time per batch: 0.096\n",
      "Batch 100 device: cuda time passed: 8.973 time per batch: 0.090\n",
      "v32, d13, e3, f3, trn ll: 0.0323, val ll: 0.0633, ll_w: 0.0648, cor: 0.8393, auc: 0.9886, lr: 5e-06\n",
      "total running time 139.16068696975708\n",
      "total time 1661.9381234645844\n",
      "completed epochs: 0 starting now: 2\n",
      "DataSet 13 train size 15589 fold 4\n",
      "adding dummy serieses 27\n",
      "DataSet 13 valid size 3968 fold 4\n",
      "setFeats, augmentation 0\n",
      "WeightedRandomSampler\n",
      "dataset train: 15589 valid: 3968 loader train: 487 valid: 124\n",
      "loading model model.b13.f4.d13.v31\n",
      "setFeats, augmentation -1\n",
      "Batch 50 device: cuda time passed: 13.034 time per batch: 0.261\n",
      "Batch 100 device: cuda time passed: 24.530 time per batch: 0.245\n",
      "Batch 150 device: cuda time passed: 36.417 time per batch: 0.243\n",
      "Batch 200 device: cuda time passed: 47.959 time per batch: 0.240\n",
      "Batch 250 device: cuda time passed: 60.837 time per batch: 0.243\n",
      "Batch 300 device: cuda time passed: 72.185 time per batch: 0.241\n",
      "Batch 350 device: cuda time passed: 83.612 time per batch: 0.239\n",
      "Batch 400 device: cuda time passed: 95.168 time per batch: 0.238\n",
      "Batch 450 device: cuda time passed: 108.252 time per batch: 0.241\n",
      "Batch 50 device: cuda time passed: 4.705 time per batch: 0.094\n",
      "Batch 100 device: cuda time passed: 8.761 time per batch: 0.088\n",
      "v32, d13, e1, f4, trn ll: 0.0326, val ll: 0.0623, ll_w: 0.0678, cor: 0.8412, auc: 0.9881, lr: 1e-05\n",
      "setFeats, augmentation -1\n",
      "Batch 50 device: cuda time passed: 12.890 time per batch: 0.258\n",
      "Batch 100 device: cuda time passed: 24.576 time per batch: 0.246\n",
      "Batch 150 device: cuda time passed: 36.251 time per batch: 0.242\n",
      "Batch 200 device: cuda time passed: 47.649 time per batch: 0.238\n",
      "Batch 250 device: cuda time passed: 60.695 time per batch: 0.243\n",
      "Batch 300 device: cuda time passed: 72.161 time per batch: 0.241\n",
      "Batch 350 device: cuda time passed: 83.585 time per batch: 0.239\n",
      "Batch 400 device: cuda time passed: 95.137 time per batch: 0.238\n",
      "Batch 450 device: cuda time passed: 108.100 time per batch: 0.240\n",
      "Batch 50 device: cuda time passed: 4.739 time per batch: 0.095\n",
      "Batch 100 device: cuda time passed: 8.990 time per batch: 0.090\n",
      "v32, d13, e2, f4, trn ll: 0.0327, val ll: 0.0626, ll_w: 0.0683, cor: 0.8406, auc: 0.9878, lr: 1e-05\n",
      "total running time 274.2936873435974\n",
      "completed epochs: 2 starting now: 1\n",
      "DataSet 13 train size 15589 fold 4\n",
      "adding dummy serieses 27\n",
      "DataSet 13 valid size 3968 fold 4\n",
      "setFeats, augmentation 0\n",
      "WeightedRandomSampler\n",
      "dataset train: 15589 valid: 3968 loader train: 487 valid: 124\n",
      "loading model model.b2.f4.d13.v32\n",
      "setFeats, augmentation -1\n",
      "Batch 50 device: cuda time passed: 13.405 time per batch: 0.268\n",
      "Batch 100 device: cuda time passed: 25.050 time per batch: 0.251\n",
      "Batch 150 device: cuda time passed: 36.606 time per batch: 0.244\n",
      "Batch 200 device: cuda time passed: 48.013 time per batch: 0.240\n",
      "Batch 250 device: cuda time passed: 60.975 time per batch: 0.244\n",
      "Batch 300 device: cuda time passed: 72.394 time per batch: 0.241\n",
      "Batch 350 device: cuda time passed: 83.747 time per batch: 0.239\n",
      "Batch 400 device: cuda time passed: 95.168 time per batch: 0.238\n",
      "Batch 450 device: cuda time passed: 108.160 time per batch: 0.240\n",
      "Batch 50 device: cuda time passed: 4.789 time per batch: 0.096\n",
      "Batch 100 device: cuda time passed: 9.004 time per batch: 0.090\n",
      "v32, d13, e3, f4, trn ll: 0.0329, val ll: 0.0623, ll_w: 0.0681, cor: 0.8410, auc: 0.9881, lr: 5e-06\n",
      "total running time 138.34915280342102\n",
      "total time 2074.9364361763\n",
      "total time 2074.936544418335\n",
      "total time 2074.936990737915\n"
     ]
    }
   ],
   "source": [
    "weight_decay = 1e-4\n",
    "lrs = np.array([1e-5, 5e-6])\n",
    "epochs = np.array([2, 1])\n",
    "stg = time.time()\n",
    "WEIGHTED = True\n",
    "for ds in range(13,14):\n",
    "    folds = getNFolds(ds)\n",
    "    for f in range(folds):\n",
    "        for i,lr in enumerate(lrs):\n",
    "            learning_rate = lr\n",
    "            model, predictions, val_results = train_one(dataset=ds, epochs=epochs[i], bs=32, fold=f, init_ver=31)\n",
    "        print('total time', time.time() - stg)\n",
    "    print('total time', time.time() - stg)\n",
    "print('total time', time.time() - stg)"
   ]
  },
  {
   "cell_type": "code",
   "execution_count": null,
   "metadata": {},
   "outputs": [],
   "source": []
  },
  {
   "cell_type": "code",
   "execution_count": 9,
   "metadata": {},
   "outputs": [
    {
     "data": {
      "text/plain": [
       "15.08864489809672"
      ]
     },
     "execution_count": 9,
     "metadata": {},
     "output_type": "execute_result"
    }
   ],
   "source": [
    "(5*3 + 3*3)*(9241.546682834625 + 2074.936990737915)/5/3600"
   ]
  },
  {
   "cell_type": "code",
   "execution_count": null,
   "metadata": {},
   "outputs": [],
   "source": []
  },
  {
   "cell_type": "markdown",
   "metadata": {},
   "source": [
    "# Analysis"
   ]
  },
  {
   "cell_type": "code",
   "execution_count": 13,
   "metadata": {
    "scrolled": true
   },
   "outputs": [
    {
     "data": {
      "text/html": [
       "<div>\n",
       "<style scoped>\n",
       "    .dataframe tbody tr th:only-of-type {\n",
       "        vertical-align: middle;\n",
       "    }\n",
       "\n",
       "    .dataframe tbody tr th {\n",
       "        vertical-align: top;\n",
       "    }\n",
       "\n",
       "    .dataframe thead th {\n",
       "        text-align: right;\n",
       "    }\n",
       "</style>\n",
       "<table border=\"1\" class=\"dataframe\">\n",
       "  <thead>\n",
       "    <tr style=\"text-align: right;\">\n",
       "      <th></th>\n",
       "      <th>val_loss</th>\n",
       "      <th>val_w_loss</th>\n",
       "    </tr>\n",
       "    <tr>\n",
       "      <th>dataset</th>\n",
       "      <th></th>\n",
       "      <th></th>\n",
       "    </tr>\n",
       "  </thead>\n",
       "  <tbody>\n",
       "    <tr>\n",
       "      <td>6</td>\n",
       "      <td>0.063542</td>\n",
       "      <td>0.069056</td>\n",
       "    </tr>\n",
       "    <tr>\n",
       "      <td>7</td>\n",
       "      <td>0.062726</td>\n",
       "      <td>0.068622</td>\n",
       "    </tr>\n",
       "    <tr>\n",
       "      <td>8</td>\n",
       "      <td>0.064020</td>\n",
       "      <td>0.069777</td>\n",
       "    </tr>\n",
       "    <tr>\n",
       "      <td>9</td>\n",
       "      <td>0.062367</td>\n",
       "      <td>0.067991</td>\n",
       "    </tr>\n",
       "    <tr>\n",
       "      <td>10</td>\n",
       "      <td>0.062012</td>\n",
       "      <td>0.067773</td>\n",
       "    </tr>\n",
       "    <tr>\n",
       "      <td>11</td>\n",
       "      <td>0.061149</td>\n",
       "      <td>0.066677</td>\n",
       "    </tr>\n",
       "    <tr>\n",
       "      <td>12</td>\n",
       "      <td>0.060799</td>\n",
       "      <td>0.066053</td>\n",
       "    </tr>\n",
       "    <tr>\n",
       "      <td>13</td>\n",
       "      <td>0.061087</td>\n",
       "      <td>0.066270</td>\n",
       "    </tr>\n",
       "  </tbody>\n",
       "</table>\n",
       "</div>"
      ],
      "text/plain": [
       "         val_loss  val_w_loss\n",
       "dataset                      \n",
       "6        0.063542    0.069056\n",
       "7        0.062726    0.068622\n",
       "8        0.064020    0.069777\n",
       "9        0.062367    0.067991\n",
       "10       0.062012    0.067773\n",
       "11       0.061149    0.066677\n",
       "12       0.060799    0.066053\n",
       "13       0.061087    0.066270"
      ]
     },
     "execution_count": 13,
     "metadata": {},
     "output_type": "execute_result"
    }
   ],
   "source": [
    "stats = pd.concat([pd.read_csv(PATH_WORK/'stats.f{}.v{}'.format(f,31)) for f in range(5)],axis=0)\n",
    "stats.loc[stats.epoch==13].groupby('dataset')[['val_loss','val_w_loss']].mean()"
   ]
  },
  {
   "cell_type": "code",
   "execution_count": 11,
   "metadata": {
    "scrolled": true
   },
   "outputs": [
    {
     "data": {
      "text/html": [
       "<div>\n",
       "<style scoped>\n",
       "    .dataframe tbody tr th:only-of-type {\n",
       "        vertical-align: middle;\n",
       "    }\n",
       "\n",
       "    .dataframe tbody tr th {\n",
       "        vertical-align: top;\n",
       "    }\n",
       "\n",
       "    .dataframe thead th {\n",
       "        text-align: right;\n",
       "    }\n",
       "</style>\n",
       "<table border=\"1\" class=\"dataframe\">\n",
       "  <thead>\n",
       "    <tr style=\"text-align: right;\">\n",
       "      <th></th>\n",
       "      <th>val_loss</th>\n",
       "      <th>val_w_loss</th>\n",
       "    </tr>\n",
       "    <tr>\n",
       "      <th>dataset</th>\n",
       "      <th></th>\n",
       "      <th></th>\n",
       "    </tr>\n",
       "  </thead>\n",
       "  <tbody>\n",
       "    <tr>\n",
       "      <td>6</td>\n",
       "      <td>0.064378</td>\n",
       "      <td>0.068053</td>\n",
       "    </tr>\n",
       "    <tr>\n",
       "      <td>7</td>\n",
       "      <td>0.063824</td>\n",
       "      <td>0.067963</td>\n",
       "    </tr>\n",
       "    <tr>\n",
       "      <td>8</td>\n",
       "      <td>0.065129</td>\n",
       "      <td>0.068768</td>\n",
       "    </tr>\n",
       "    <tr>\n",
       "      <td>9</td>\n",
       "      <td>0.062979</td>\n",
       "      <td>0.067057</td>\n",
       "    </tr>\n",
       "    <tr>\n",
       "      <td>10</td>\n",
       "      <td>0.062737</td>\n",
       "      <td>0.067054</td>\n",
       "    </tr>\n",
       "    <tr>\n",
       "      <td>11</td>\n",
       "      <td>0.061973</td>\n",
       "      <td>0.065464</td>\n",
       "    </tr>\n",
       "    <tr>\n",
       "      <td>12</td>\n",
       "      <td>0.061613</td>\n",
       "      <td>0.064652</td>\n",
       "    </tr>\n",
       "    <tr>\n",
       "      <td>13</td>\n",
       "      <td>0.061888</td>\n",
       "      <td>0.064962</td>\n",
       "    </tr>\n",
       "  </tbody>\n",
       "</table>\n",
       "</div>"
      ],
      "text/plain": [
       "         val_loss  val_w_loss\n",
       "dataset                      \n",
       "6        0.064378    0.068053\n",
       "7        0.063824    0.067963\n",
       "8        0.065129    0.068768\n",
       "9        0.062979    0.067057\n",
       "10       0.062737    0.067054\n",
       "11       0.061973    0.065464\n",
       "12       0.061613    0.064652\n",
       "13       0.061888    0.064962"
      ]
     },
     "execution_count": 11,
     "metadata": {},
     "output_type": "execute_result"
    }
   ],
   "source": [
    "stats = pd.concat([pd.read_csv(PATH_WORK/'stats.f{}.v{}'.format(f,32)) for f in range(5)],axis=0)\n",
    "stats.loc[stats.epoch==3].groupby('dataset')[['val_loss','val_w_loss']].mean()"
   ]
  },
  {
   "cell_type": "code",
   "execution_count": 14,
   "metadata": {},
   "outputs": [
    {
     "data": {
      "text/plain": [
       "[<matplotlib.lines.Line2D at 0x7efd58fd4b90>]"
      ]
     },
     "execution_count": 14,
     "metadata": {},
     "output_type": "execute_result"
    },
    {
     "data": {
      "image/png": "[encoded data removed]",
      "text/plain": [
       "<Figure size 432x288 with 1 Axes>"
      ]
     },
     "metadata": {
      "needs_background": "light"
     },
     "output_type": "display_data"
    }
   ],
   "source": [
    "plt.plot(stats.groupby('epoch').mean().val_loss)"
   ]
  },
  {
   "cell_type": "code",
   "execution_count": null,
   "metadata": {},
   "outputs": [],
   "source": []
  },
  {
   "cell_type": "code",
   "execution_count": 53,
   "metadata": {
    "scrolled": true
   },
   "outputs": [
    {
     "data": {
      "text/plain": [
       "(3941, 60, 6)"
      ]
     },
     "execution_count": 53,
     "metadata": {},
     "output_type": "execute_result"
    }
   ],
   "source": [
    "predictions.shape"
   ]
  },
  {
   "cell_type": "code",
   "execution_count": 54,
   "metadata": {},
   "outputs": [
    {
     "data": {
      "text/plain": [
       "array([0.360946  , 0.15772094, 0.21251288, 0.22738211, 0.23613851,\n",
       "       0.2085103 ], dtype=float32)"
      ]
     },
     "execution_count": 54,
     "metadata": {},
     "output_type": "execute_result"
    }
   ],
   "source": [
    "predictions.mean((0,1))"
   ]
  },
  {
   "cell_type": "code",
   "execution_count": 55,
   "metadata": {},
   "outputs": [
    {
     "data": {
      "text/plain": [
       "[<matplotlib.lines.Line2D at 0x7f4f9dafcb90>]"
      ]
     },
     "execution_count": 55,
     "metadata": {},
     "output_type": "execute_result"
    },
    {
     "data": {
      "image/png": "[encoded data removed]",
      "text/plain": [
       "<Figure size 432x288 with 1 Axes>"
      ]
     },
     "metadata": {
      "needs_background": "light"
     },
     "output_type": "display_data"
    }
   ],
   "source": [
    "plt.plot(predictions.mean(0)[:,0])"
   ]
  },
  {
   "cell_type": "code",
   "execution_count": 56,
   "metadata": {},
   "outputs": [
    {
     "data": {
      "text/plain": [
       "[<matplotlib.lines.Line2D at 0x7f4f9dadad50>]"
      ]
     },
     "execution_count": 56,
     "metadata": {},
     "output_type": "execute_result"
    },
    {
     "data": {
      "image/png": "[encoded data removed]",
      "text/plain": [
       "<Figure size 432x288 with 1 Axes>"
      ]
     },
     "metadata": {
      "needs_background": "light"
     },
     "output_type": "display_data"
    }
   ],
   "source": [
    "dd = train_md.loc[train_md.fold5==4].copy()\n",
    "dd['res'] = val_results[:,0]\n",
    "\n",
    "plt.plot(dd[['res','pos_idx']].groupby('pos_idx').mean().values)"
   ]
  },
  {
   "cell_type": "code",
   "execution_count": null,
   "metadata": {},
   "outputs": [],
   "source": []
  }
 ],
 "metadata": {
  "kernelspec": {
   "display_name": "Python 3",
   "language": "python",
   "name": "python3"
  },
  "language_info": {
   "codemirror_mode": {
    "name": "ipython",
    "version": 3
   },
   "file_extension": ".py",
   "mimetype": "text/x-python",
   "name": "python",
   "nbconvert_exporter": "python",
   "pygments_lexer": "ipython3",
   "version": "3.6.6"
  }
 },
 "nbformat": 4,
 "nbformat_minor": 2
}
