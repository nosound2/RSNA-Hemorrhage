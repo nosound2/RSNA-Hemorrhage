{
 "cells": [
  {
   "cell_type": "code",
   "execution_count": 1,
   "metadata": {},
   "outputs": [],
   "source": [
    "VERSION = 31\n",
    "CLOUD_SINGLE = True\n",
    "DATA_SMALL = False\n",
    "FOCAL_LOSS = False"
   ]
  },
  {
   "cell_type": "code",
   "execution_count": 2,
   "metadata": {},
   "outputs": [],
   "source": [
    "%run ./Code.ipynb"
   ]
  },
  {
   "cell_type": "code",
   "execution_count": null,
   "metadata": {},
   "outputs": [],
   "source": []
  },
  {
   "cell_type": "code",
   "execution_count": null,
   "metadata": {},
   "outputs": [],
   "source": []
  },
  {
   "cell_type": "code",
   "execution_count": 6,
   "metadata": {},
   "outputs": [],
   "source": [
    "train_csv = pd.read_csv(PATH/'stage_2_train.csv')\n",
    "\n",
    "train_csv = train_csv.loc[~train_csv.ID.duplicated()].sort_values('ID').reset_index(drop=True)"
   ]
  },
  {
   "cell_type": "code",
   "execution_count": 19,
   "metadata": {},
   "outputs": [],
   "source": [
    "all_sop_ids = train_csv.ID.str.split('_').apply(lambda x: x[0]+'_'+x[1]).unique()\n",
    "train_df = pd.DataFrame(train_csv.Label.values.reshape((-1,6)), columns = all_ich)\n",
    "train_df['sop_id'] = all_sop_ids"
   ]
  },
  {
   "cell_type": "code",
   "execution_count": 28,
   "metadata": {},
   "outputs": [],
   "source": [
    "train_df = train_df.sort_values('sop_id').reset_index(drop=True)"
   ]
  },
  {
   "cell_type": "code",
   "execution_count": null,
   "metadata": {},
   "outputs": [],
   "source": [
    "train_df_test1 = train_df.loc[train_df.sop_id.isin(sub_df.sop_id)]"
   ]
  },
  {
   "cell_type": "code",
   "execution_count": null,
   "metadata": {},
   "outputs": [],
   "source": [
    "#train_df.to_csv(PATH_WORK/'train_df.csv', index=False)"
   ]
  },
  {
   "cell_type": "code",
   "execution_count": null,
   "metadata": {},
   "outputs": [],
   "source": []
  },
  {
   "cell_type": "code",
   "execution_count": 4,
   "metadata": {},
   "outputs": [],
   "source": [
    "sub = pd.read_csv(PATH/'sub_final2.csv')"
   ]
  },
  {
   "cell_type": "code",
   "execution_count": 33,
   "metadata": {},
   "outputs": [],
   "source": [
    "def getSubScore(sub):\n",
    "\n",
    "    sub_df = pd.DataFrame(sub.Label.values.reshape(-1,6), columns = all_ich)\n",
    "    sub_df['sop_id'] = sub.ID.str.split('_').apply(lambda x: x[0]+'_'+x[1]).values[range(0,len(sub),6)]\n",
    "\n",
    "    sub_df = sub_df.sort_values('sop_id').reset_index(drop=True)\n",
    "\n",
    "    res = np.zeros(6)\n",
    "    for i in range(6):\n",
    "        res[i] = log_loss(train_df_test1[all_ich[i]], sub_df[all_ich[i]])\n",
    "    res0 = (res*class_weights).mean()\n",
    "    print(res0, res)"
   ]
  },
  {
   "cell_type": "code",
   "execution_count": 34,
   "metadata": {},
   "outputs": [
    {
     "name": "stdout",
     "output_type": "stream",
     "text": [
      "0.05860894242655918 [0.0980101  0.01551983 0.0432483  0.02558591 0.0593664  0.07052195]\n"
     ]
    }
   ],
   "source": [
    "getSubScore(pd.read_csv(PATH/'sub_final2.csv'))"
   ]
  },
  {
   "cell_type": "code",
   "execution_count": 35,
   "metadata": {},
   "outputs": [
    {
     "name": "stdout",
     "output_type": "stream",
     "text": [
      "0.05953321451694177 [0.10030618 0.01547134 0.04399654 0.02626147 0.05950722 0.07088357]\n"
     ]
    }
   ],
   "source": [
    "getSubScore(pd.read_csv(PATH/'sub_final1.csv'))"
   ]
  },
  {
   "cell_type": "code",
   "execution_count": 49,
   "metadata": {},
   "outputs": [
    {
     "data": {
      "text/plain": [
       "['any',\n",
       " 'epidural',\n",
       " 'intraparenchymal',\n",
       " 'intraventricular',\n",
       " 'subarachnoid',\n",
       " 'subdural']"
      ]
     },
     "execution_count": 49,
     "metadata": {},
     "output_type": "execute_result"
    }
   ],
   "source": [
    "all_ich"
   ]
  },
  {
   "cell_type": "code",
   "execution_count": null,
   "metadata": {},
   "outputs": [],
   "source": []
  },
  {
   "cell_type": "code",
   "execution_count": 46,
   "metadata": {},
   "outputs": [],
   "source": [
    "sub_paths = glob.glob('C:/Users/nosou/Downloads/*')"
   ]
  },
  {
   "cell_type": "code",
   "execution_count": 48,
   "metadata": {},
   "outputs": [
    {
     "name": "stdout",
     "output_type": "stream",
     "text": [
      "C:/Users/nosou/Downloads\\sub (1).csv\n",
      "0.05862583011626594 [0.09806403 0.0155242  0.04328035 0.02565124 0.05942544 0.07037152]\n",
      "C:/Users/nosou/Downloads\\sub (2).csv\n",
      "0.05902269415298563 [0.09911274 0.01548808 0.04362982 0.0258482  0.05948573 0.07048156]\n",
      "C:/Users/nosou/Downloads\\sub (3).csv\n",
      "0.058644623072359646 [0.09806105 0.01555729 0.04329616 0.02563479 0.0594783  0.07042373]\n",
      "C:/Users/nosou/Downloads\\sub (4).csv\n",
      "0.058805442975568396 [0.09862645 0.0157451  0.04311404 0.02557379 0.05937739 0.07057489]\n",
      "C:/Users/nosou/Downloads\\sub (5).csv\n",
      "0.05955277862367244 [0.09972021 0.01589516 0.04418877 0.02588805 0.05993459 0.07152247]\n",
      "C:/Users/nosou/Downloads\\sub (6).csv\n",
      "0.05999242269279431 [0.10039992 0.01641775 0.04423761 0.02592726 0.06037195 0.07219255]\n",
      "C:/Users/nosou/Downloads\\sub (7).csv\n",
      "0.05978962876912977 [0.10040898 0.01587114 0.04432952 0.02591203 0.05992359 0.07167315]\n",
      "C:/Users/nosou/Downloads\\sub.csv\n",
      "0.05860039586870414 [0.09796517 0.01550915 0.04328584 0.0256077  0.05944687 0.07042287]\n",
      "C:/Users/nosou/Downloads\\submission54.csv\n",
      "0.06036295679988695 [0.10194483 0.01577307 0.04446579 0.02718287 0.05973011 0.0714992 ]\n",
      "C:/Users/nosou/Downloads\\submission55.csv\n",
      "0.06009099156408939 [0.1015796  0.01572934 0.04430268 0.02695831 0.05957683 0.07091059]\n",
      "C:/Users/nosou/Downloads\\submission56.csv\n",
      "0.059360933503813856 [0.0998772  0.01564792 0.04378378 0.02600631 0.05943404 0.07090009]\n",
      "C:/Users/nosou/Downloads\\submission57.csv\n",
      "0.07903648214725287 [0.14444965 0.01599986 0.05962773 0.0341472  0.0682824  0.08629888]\n",
      "C:/Users/nosou/Downloads\\submission58.csv\n",
      "0.05990141240469779 [0.10124234 0.0155872  0.04403897 0.02689015 0.05951533 0.07079355]\n"
     ]
    }
   ],
   "source": [
    "for fn in sub_paths:\n",
    "    print(fn)\n",
    "    getSubScore(pd.read_csv(fn))"
   ]
  },
  {
   "cell_type": "code",
   "execution_count": null,
   "metadata": {},
   "outputs": [],
   "source": []
  },
  {
   "cell_type": "code",
   "execution_count": null,
   "metadata": {},
   "outputs": [],
   "source": []
  },
  {
   "cell_type": "code",
   "execution_count": 96,
   "metadata": {},
   "outputs": [],
   "source": [
    "sub = pd.read_csv(PATH/'submission_stage2_2.csv')"
   ]
  },
  {
   "cell_type": "code",
   "execution_count": 97,
   "metadata": {},
   "outputs": [
    {
     "data": {
      "text/html": [
       "<div>\n",
       "<style scoped>\n",
       "    .dataframe tbody tr th:only-of-type {\n",
       "        vertical-align: middle;\n",
       "    }\n",
       "\n",
       "    .dataframe tbody tr th {\n",
       "        vertical-align: top;\n",
       "    }\n",
       "\n",
       "    .dataframe thead th {\n",
       "        text-align: right;\n",
       "    }\n",
       "</style>\n",
       "<table border=\"1\" class=\"dataframe\">\n",
       "  <thead>\n",
       "    <tr style=\"text-align: right;\">\n",
       "      <th></th>\n",
       "      <th>ID</th>\n",
       "      <th>Label</th>\n",
       "    </tr>\n",
       "  </thead>\n",
       "  <tbody>\n",
       "    <tr>\n",
       "      <th>0</th>\n",
       "      <td>ID_000000e27_any</td>\n",
       "      <td>0.150079</td>\n",
       "    </tr>\n",
       "    <tr>\n",
       "      <th>1</th>\n",
       "      <td>ID_000000e27_epidural</td>\n",
       "      <td>0.001551</td>\n",
       "    </tr>\n",
       "    <tr>\n",
       "      <th>2</th>\n",
       "      <td>ID_000000e27_intraparenchymal</td>\n",
       "      <td>0.011229</td>\n",
       "    </tr>\n",
       "    <tr>\n",
       "      <th>3</th>\n",
       "      <td>ID_000000e27_intraventricular</td>\n",
       "      <td>0.001768</td>\n",
       "    </tr>\n",
       "    <tr>\n",
       "      <th>4</th>\n",
       "      <td>ID_000000e27_subarachnoid</td>\n",
       "      <td>0.112490</td>\n",
       "    </tr>\n",
       "  </tbody>\n",
       "</table>\n",
       "</div>"
      ],
      "text/plain": [
       "                              ID     Label\n",
       "0               ID_000000e27_any  0.150079\n",
       "1          ID_000000e27_epidural  0.001551\n",
       "2  ID_000000e27_intraparenchymal  0.011229\n",
       "3  ID_000000e27_intraventricular  0.001768\n",
       "4      ID_000000e27_subarachnoid  0.112490"
      ]
     },
     "execution_count": 97,
     "metadata": {},
     "output_type": "execute_result"
    }
   ],
   "source": [
    "sub.head()"
   ]
  },
  {
   "cell_type": "code",
   "execution_count": 98,
   "metadata": {},
   "outputs": [],
   "source": [
    "sub.Label = (sub.Label > 0.5).astype(float)"
   ]
  },
  {
   "cell_type": "code",
   "execution_count": 99,
   "metadata": {},
   "outputs": [
    {
     "data": {
      "text/plain": [
       "0.0    690277\n",
       "1.0     37115\n",
       "Name: Label, dtype: int64"
      ]
     },
     "execution_count": 99,
     "metadata": {},
     "output_type": "execute_result"
    }
   ],
   "source": [
    "sub.Label.value_counts()"
   ]
  },
  {
   "cell_type": "code",
   "execution_count": 100,
   "metadata": {},
   "outputs": [],
   "source": [
    "sub.loc[range(1,len(sub),6),'Label'] = 0.0\n",
    "sub.loc[range(2,len(sub),6),'Label'] = 0.0\n",
    "sub.loc[range(3,len(sub),6),'Label'] = 0.0\n",
    "sub.loc[range(4,len(sub),6),'Label'] = 0.0\n",
    "sub.loc[range(5,len(sub),6),'Label'] = 0.0"
   ]
  },
  {
   "cell_type": "code",
   "execution_count": 101,
   "metadata": {},
   "outputs": [
    {
     "data": {
      "text/plain": [
       "0.0    710405\n",
       "1.0     16987\n",
       "Name: Label, dtype: int64"
      ]
     },
     "execution_count": 101,
     "metadata": {},
     "output_type": "execute_result"
    }
   ],
   "source": [
    "sub.Label.value_counts()"
   ]
  },
  {
   "cell_type": "code",
   "execution_count": 102,
   "metadata": {},
   "outputs": [],
   "source": [
    "sub.to_csv(PATH/'sub.csv', index=False)"
   ]
  },
  {
   "cell_type": "code",
   "execution_count": null,
   "metadata": {},
   "outputs": [],
   "source": []
  },
  {
   "cell_type": "code",
   "execution_count": 48,
   "metadata": {},
   "outputs": [],
   "source": [
    "sub_df = pd.DataFrame(sub.Label.values.reshape(-1,6), columns = all_ich)\n",
    "sub_df['sop_id'] = sub.ID.str.split('_').apply(lambda x: x[0]+'_'+x[1]).values[range(0,len(sub),6)]\n",
    "\n",
    "sub_df = sub_df.sort_values('sop_id').reset_index(drop=True)\n"
   ]
  },
  {
   "cell_type": "code",
   "execution_count": 51,
   "metadata": {},
   "outputs": [
    {
     "data": {
      "image/png": "[encoded data removed]",
      "text/plain": [
       "<Figure size 432x288 with 1 Axes>"
      ]
     },
     "metadata": {
      "needs_background": "light"
     },
     "output_type": "display_data"
    }
   ],
   "source": [
    "a = plt.hist(sub_df[all_ich].values.reshape(-1), bins=100)"
   ]
  },
  {
   "cell_type": "code",
   "execution_count": 10,
   "metadata": {},
   "outputs": [
    {
     "data": {
      "text/html": [
       "<div>\n",
       "<style scoped>\n",
       "    .dataframe tbody tr th:only-of-type {\n",
       "        vertical-align: middle;\n",
       "    }\n",
       "\n",
       "    .dataframe tbody tr th {\n",
       "        vertical-align: top;\n",
       "    }\n",
       "\n",
       "    .dataframe thead th {\n",
       "        text-align: right;\n",
       "    }\n",
       "</style>\n",
       "<table border=\"1\" class=\"dataframe\">\n",
       "  <thead>\n",
       "    <tr style=\"text-align: right;\">\n",
       "      <th></th>\n",
       "      <th>any</th>\n",
       "      <th>epidural</th>\n",
       "      <th>intraparenchymal</th>\n",
       "      <th>intraventricular</th>\n",
       "      <th>subarachnoid</th>\n",
       "      <th>subdural</th>\n",
       "    </tr>\n",
       "  </thead>\n",
       "  <tbody>\n",
       "    <tr>\n",
       "      <th>count</th>\n",
       "      <td>1.212320e+05</td>\n",
       "      <td>1.212320e+05</td>\n",
       "      <td>1.212320e+05</td>\n",
       "      <td>1.212320e+05</td>\n",
       "      <td>1.212320e+05</td>\n",
       "      <td>1.212320e+05</td>\n",
       "    </tr>\n",
       "    <tr>\n",
       "      <th>mean</th>\n",
       "      <td>1.560661e-01</td>\n",
       "      <td>3.511702e-03</td>\n",
       "      <td>4.928764e-02</td>\n",
       "      <td>3.992617e-02</td>\n",
       "      <td>5.057000e-02</td>\n",
       "      <td>6.751575e-02</td>\n",
       "    </tr>\n",
       "    <tr>\n",
       "      <th>std</th>\n",
       "      <td>3.155650e-01</td>\n",
       "      <td>2.340146e-02</td>\n",
       "      <td>1.834697e-01</td>\n",
       "      <td>1.717131e-01</td>\n",
       "      <td>1.596374e-01</td>\n",
       "      <td>1.943539e-01</td>\n",
       "    </tr>\n",
       "    <tr>\n",
       "      <th>min</th>\n",
       "      <td>6.395225e-11</td>\n",
       "      <td>2.467410e-30</td>\n",
       "      <td>8.247374e-18</td>\n",
       "      <td>2.860137e-26</td>\n",
       "      <td>1.333942e-17</td>\n",
       "      <td>2.300857e-12</td>\n",
       "    </tr>\n",
       "    <tr>\n",
       "      <th>25%</th>\n",
       "      <td>1.127982e-03</td>\n",
       "      <td>2.080348e-05</td>\n",
       "      <td>1.098149e-04</td>\n",
       "      <td>1.049839e-05</td>\n",
       "      <td>2.775442e-04</td>\n",
       "      <td>4.491036e-04</td>\n",
       "    </tr>\n",
       "    <tr>\n",
       "      <th>50%</th>\n",
       "      <td>7.046436e-03</td>\n",
       "      <td>1.439424e-04</td>\n",
       "      <td>8.773885e-04</td>\n",
       "      <td>1.644268e-04</td>\n",
       "      <td>1.749780e-03</td>\n",
       "      <td>2.900703e-03</td>\n",
       "    </tr>\n",
       "    <tr>\n",
       "      <th>75%</th>\n",
       "      <td>6.932104e-02</td>\n",
       "      <td>8.703309e-04</td>\n",
       "      <td>6.679624e-03</td>\n",
       "      <td>1.949211e-03</td>\n",
       "      <td>1.612395e-02</td>\n",
       "      <td>1.970657e-02</td>\n",
       "    </tr>\n",
       "    <tr>\n",
       "      <th>max</th>\n",
       "      <td>9.999369e-01</td>\n",
       "      <td>9.287832e-01</td>\n",
       "      <td>9.993688e-01</td>\n",
       "      <td>9.990603e-01</td>\n",
       "      <td>9.986540e-01</td>\n",
       "      <td>9.976121e-01</td>\n",
       "    </tr>\n",
       "  </tbody>\n",
       "</table>\n",
       "</div>"
      ],
      "text/plain": [
       "                any      epidural  intraparenchymal  intraventricular  \\\n",
       "count  1.212320e+05  1.212320e+05      1.212320e+05      1.212320e+05   \n",
       "mean   1.560661e-01  3.511702e-03      4.928764e-02      3.992617e-02   \n",
       "std    3.155650e-01  2.340146e-02      1.834697e-01      1.717131e-01   \n",
       "min    6.395225e-11  2.467410e-30      8.247374e-18      2.860137e-26   \n",
       "25%    1.127982e-03  2.080348e-05      1.098149e-04      1.049839e-05   \n",
       "50%    7.046436e-03  1.439424e-04      8.773885e-04      1.644268e-04   \n",
       "75%    6.932104e-02  8.703309e-04      6.679624e-03      1.949211e-03   \n",
       "max    9.999369e-01  9.287832e-01      9.993688e-01      9.990603e-01   \n",
       "\n",
       "       subarachnoid      subdural  \n",
       "count  1.212320e+05  1.212320e+05  \n",
       "mean   5.057000e-02  6.751575e-02  \n",
       "std    1.596374e-01  1.943539e-01  \n",
       "min    1.333942e-17  2.300857e-12  \n",
       "25%    2.775442e-04  4.491036e-04  \n",
       "50%    1.749780e-03  2.900703e-03  \n",
       "75%    1.612395e-02  1.970657e-02  \n",
       "max    9.986540e-01  9.976121e-01  "
      ]
     },
     "execution_count": 10,
     "metadata": {},
     "output_type": "execute_result"
    }
   ],
   "source": [
    "sub_df.describe()"
   ]
  },
  {
   "cell_type": "code",
   "execution_count": null,
   "metadata": {},
   "outputs": [],
   "source": []
  },
  {
   "cell_type": "code",
   "execution_count": 20,
   "metadata": {},
   "outputs": [
    {
     "data": {
      "text/plain": [
       "34538.77639491069"
      ]
     },
     "execution_count": 20,
     "metadata": {},
     "output_type": "execute_result"
    }
   ],
   "source": [
    "M/0.001"
   ]
  },
  {
   "cell_type": "code",
   "execution_count": 21,
   "metadata": {},
   "outputs": [
    {
     "data": {
      "text/plain": [
       "0.4734678441709251"
      ]
     },
     "execution_count": 21,
     "metadata": {},
     "output_type": "execute_result"
    }
   ],
   "source": [
    "16.353/M"
   ]
  },
  {
   "cell_type": "code",
   "execution_count": 22,
   "metadata": {},
   "outputs": [
    {
     "name": "stdout",
     "output_type": "stream",
     "text": [
      "455 13.837 183.0 13.89141995663441\n",
      "455 16.353 216.0 16.39643011274881\n",
      "455 18.185 240.0 18.218255680832016\n"
     ]
    }
   ],
   "source": [
    "N = 455\n",
    "for s in scores:\n",
    "    print(N, s, np.ceil(N*s/M), M*np.ceil(N*s/M)/N)\n"
   ]
  },
  {
   "cell_type": "code",
   "execution_count": null,
   "metadata": {},
   "outputs": [],
   "source": [
    "#18.185 - all ones\n",
    "#16.353 - all zero\n",
    "#13.837 - step towards all zero, th 0.8\n",
    "#0.000  - th 0.5, class 2 to zero"
   ]
  },
  {
   "cell_type": "code",
   "execution_count": 53,
   "metadata": {},
   "outputs": [
    {
     "data": {
      "text/plain": [
       "0.7609018421776189"
      ]
     },
     "execution_count": 53,
     "metadata": {},
     "output_type": "execute_result"
    }
   ],
   "source": [
    "13.837 / 18.185"
   ]
  },
  {
   "cell_type": "code",
   "execution_count": 45,
   "metadata": {},
   "outputs": [
    {
     "data": {
      "text/plain": [
       "2.516000000000002"
      ]
     },
     "execution_count": 45,
     "metadata": {},
     "output_type": "execute_result"
    }
   ],
   "source": [
    "16.353 - 13.837"
   ]
  },
  {
   "cell_type": "code",
   "execution_count": 46,
   "metadata": {},
   "outputs": [
    {
     "data": {
      "text/plain": [
       "1.8319999999999972"
      ]
     },
     "execution_count": 46,
     "metadata": {},
     "output_type": "execute_result"
    }
   ],
   "source": [
    "18.185 - 16.353"
   ]
  },
  {
   "cell_type": "code",
   "execution_count": 63,
   "metadata": {},
   "outputs": [
    {
     "data": {
      "text/plain": [
       "0.23369627345926144"
      ]
     },
     "execution_count": 63,
     "metadata": {},
     "output_type": "execute_result"
    }
   ],
   "source": [
    "(7/12)*(13.837/M)"
   ]
  },
  {
   "cell_type": "code",
   "execution_count": 65,
   "metadata": {},
   "outputs": [
    {
     "data": {
      "text/plain": [
       "0.32818290127287225"
      ]
     },
     "execution_count": 65,
     "metadata": {},
     "output_type": "execute_result"
    }
   ],
   "source": [
    "np.log(2)*16.353/M"
   ]
  },
  {
   "cell_type": "code",
   "execution_count": null,
   "metadata": {},
   "outputs": [],
   "source": [
    "# random weighting per sample?"
   ]
  },
  {
   "cell_type": "code",
   "execution_count": 72,
   "metadata": {},
   "outputs": [
    {
     "data": {
      "text/plain": [
       "array([0.76090184, 0.89925763, 1.        ])"
      ]
     },
     "execution_count": 72,
     "metadata": {},
     "output_type": "execute_result"
    }
   ],
   "source": [
    "scores/scores[2]"
   ]
  },
  {
   "cell_type": "code",
   "execution_count": null,
   "metadata": {},
   "outputs": [],
   "source": [
    "#40% is weight of one image"
   ]
  },
  {
   "cell_type": "code",
   "execution_count": 76,
   "metadata": {},
   "outputs": [
    {
     "data": {
      "text/plain": [
       "0.8992576299147651"
      ]
     },
     "execution_count": 76,
     "metadata": {},
     "output_type": "execute_result"
    }
   ],
   "source": [
    "16.353/18.185 #(9:10)"
   ]
  },
  {
   "cell_type": "code",
   "execution_count": null,
   "metadata": {},
   "outputs": [],
   "source": []
  },
  {
   "cell_type": "code",
   "execution_count": 88,
   "metadata": {},
   "outputs": [
    {
     "name": "stdout",
     "output_type": "stream",
     "text": [
      "6959 13.837 2788.0 13.837348554247882\n",
      "6959 16.353 3295.0 16.353681307836002\n",
      "6959 18.185 3664.0 18.18509508707469\n",
      "6959 0.014 3.0 0.01488954292063976\n",
      "6959 15.164 3056.0 15.167481055158367\n",
      "9240\n"
     ]
    }
   ],
   "source": [
    "0.01*727392\n",
    "\n",
    "M = 15*np.log(10)\n",
    "\n",
    "scores = [13.837, 16.353, 18.185, 0.014, 15.164]\n",
    "#scores = np.array([13.837, 16.353, 18.185])\n",
    "\n",
    "N = 6959\n",
    "for s in scores:\n",
    "    print(N, s, np.ceil(N*s/M), M*np.ceil(N*s/M)/N)\n",
    "\n",
    "for N in range(7,10000,7):\n",
    "    failed = False\n",
    "    for s in scores:\n",
    "        if M*np.ceil(N*s/M)/N - s >= 0.001: failed=True\n",
    "    if not failed:\n",
    "        print(N)"
   ]
  },
  {
   "cell_type": "code",
   "execution_count": null,
   "metadata": {},
   "outputs": [],
   "source": []
  },
  {
   "cell_type": "code",
   "execution_count": 25,
   "metadata": {},
   "outputs": [
    {
     "name": "stdout",
     "output_type": "stream",
     "text": [
      "35 129 116 16.35305331350873\n",
      "70 258 232 16.35305331350873\n",
      "**********\n",
      "35 116 129 18.185723081401953\n",
      "70 232 258 18.185723081401953\n",
      "**********\n",
      "**********\n"
     ]
    }
   ],
   "source": [
    "import numpy as np\n",
    "from math import log\n",
    "\n",
    "def search_num(value):\n",
    "    for i in range(1, 100):\n",
    "        num = i*7\n",
    "        for j in range(num):\n",
    "            corr, error = j, num - j\n",
    "            result = (-log(1-(1e-15))*corr + (-log(1e-15))*error)/(corr + error)\n",
    "            if result >= value and result < value + 0.001:\n",
    "                print(int(num/7), corr, error, result)\n",
    "    print('*'*10)\n",
    "search_num(16.353)\n",
    "search_num(18.185)\n",
    "search_num(13.837)"
   ]
  },
  {
   "cell_type": "code",
   "execution_count": 24,
   "metadata": {},
   "outputs": [
    {
     "data": {
      "text/plain": [
       "245"
      ]
     },
     "execution_count": 24,
     "metadata": {},
     "output_type": "execute_result"
    }
   ],
   "source": [
    "35*7"
   ]
  },
  {
   "cell_type": "code",
   "execution_count": null,
   "metadata": {},
   "outputs": [],
   "source": []
  }
 ],
 "metadata": {
  "kernelspec": {
   "display_name": "Python 3",
   "language": "python",
   "name": "python3"
  },
  "language_info": {
   "codemirror_mode": {
    "name": "ipython",
    "version": 3
   },
   "file_extension": ".py",
   "mimetype": "text/x-python",
   "name": "python",
   "nbconvert_exporter": "python",
   "pygments_lexer": "ipython3",
   "version": "3.6.6"
  }
 },
 "nbformat": 4,
 "nbformat_minor": 2
}
