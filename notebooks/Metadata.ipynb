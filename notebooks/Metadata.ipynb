{
 "cells": [
  {
   "cell_type": "code",
   "execution_count": 1,
   "metadata": {},
   "outputs": [],
   "source": [
    "import sys\n",
    "\n",
    "from pathlib import Path\n",
    "from PIL import ImageDraw, ImageFont, Image\n",
    "from matplotlib import patches, patheffects\n",
    "import time\n",
    "from random import randint\n",
    "import numpy as np\n",
    "import pandas as pd\n",
    "import pickle\n",
    "\n",
    "from sklearn.model_selection import KFold, StratifiedKFold, GroupKFold\n",
    "from sklearn.preprocessing import LabelEncoder, OneHotEncoder, LabelBinarizer\n",
    "from sklearn.preprocessing import StandardScaler\n",
    "from scipy.stats import ks_2samp\n",
    "\n",
    "import scipy as sp\n",
    "from tqdm import tqdm, tqdm_notebook\n",
    "\n",
    "import os\n",
    "import glob\n",
    "import matplotlib.pyplot as plt\n",
    "\n",
    "import torch\n",
    "CLOUD = not torch.cuda.is_available()\n",
    "\n",
    "if CLOUD:\n",
    "    PATH = Path('/home/zahar_chikishev')\n",
    "    PATH_WORK = Path('/home/zahar_chikishev/running')\n",
    "else:\n",
    "    PATH = Path('C:/StudioProjects/Hemorrhage')\n",
    "    PATH_WORK = Path('C:/StudioProjects/Hemorrhage/running')\n",
    "\n",
    "from collections import defaultdict, Counter\n",
    "import random\n",
    "import seaborn as sn\n",
    "\n",
    "pd.set_option(\"display.max_columns\", 100)\n",
    "\n",
    "all_ich = ['any','epidural','intraparenchymal','intraventricular','subarachnoid','subdural']"
   ]
  },
  {
   "cell_type": "code",
   "execution_count": 2,
   "metadata": {},
   "outputs": [],
   "source": [
    "# BitsAllocated - remove only one value\n",
    "# HighBit - remove, same as BitsStored\n",
    "# BitsStored and PixelRepresentation, - switch to 3 booleans. And WindowCenter_1_NAN + RescaleIntercept = 7 OHE\n",
    "# ImageOrientationPatient_0, mostly 1, 157 zeros, rest > 0.8. Do it 1 or not \n",
    "# ImageOrientationPatient_1 zero or not\n",
    "# ImageOrientationPatient_2 zero or not\n",
    "# ImageOrientationPatient_3 zero or not\n",
    "# ImageOrientationPatient_4 one or not, clip 0.85 to 1, between(0.927184,0.927185), push two special grps to 0.7\n",
    "# ImageOrientationPatient_5 zero or not, between(-0.374608,-0.374607), two groups to 0.5\n",
    "# ImagePositionPatient_0 clip -200;-50, -125 category, between(-126.437379,-126.437377)+between(-126.408876,-126.408874)\n",
    "# groups to -250\n",
    "# ImagePositionPatient_1 clip -200 to 100, bool for more than -75\n",
    "# ((train_md.ImagePositionPatient_2 % 0.5) == 0) clip -500,1500\n",
    "# PixelSpacing_1 between(0.488281,0.488282), clip 0.3;0.7, between(0.494750,0.494864)+between(0.494750,0.494864)\n",
    "# PixelSpacing_0 duplicate, drop\n",
    "# WindowCenter_0 group all with less than 1000 app, embedding for 7 groups\n",
    "# WindowCenter_1 all <1000 cat, NaN cat, and 3 more, - into emb of 5\n",
    "# pos_inc clip 0,7. 0 and 5 into cats and val -1. \n",
    "# pos_inc from other side\n",
    "# pos_inc [2.0,3.5,4.5] embedding 4 cat\n",
    "# (((train_md.pos_inc+0.0000001) % 1) < 0.00001).value_counts()\n",
    "# (((train_md.pos_inc+0.0000001) % 0.001) < 0.00001).value_counts()\n",
    "# pos_min, pos_max clip -500;500\n",
    "# pos_size leave as it is, add 10 embedding for the most common\n",
    "# add pos_idx from tail\n",
    "# pos_range clip 100,250\n",
    "# (((train_md.pos_range + 1e-6) % 1) < 1e-3).value_counts()\n",
    "# pos_zeros all <1000 into one and 4 cat embedding\n",
    "# pos_inc_rng clip 1,3"
   ]
  },
  {
   "cell_type": "markdown",
   "metadata": {},
   "source": [
    "# Utility"
   ]
  },
  {
   "cell_type": "code",
   "execution_count": 3,
   "metadata": {},
   "outputs": [],
   "source": [
    "def myLabelEncoder(data, col, vals, remaining_cat = True):\n",
    "    name = col+'_le'\n",
    "    enc_df = pd.DataFrame(np.arange(len(vals)), index=vals, columns = [name])\n",
    "    data = data.join(enc_df, on=col)\n",
    "\n",
    "    if remaining_cat:\n",
    "        data[name] = data[name].fillna(len(vals))\n",
    "    else:\n",
    "        assert data[name].isnull().sum() == 0\n",
    "    \n",
    "    data[name] = data[name].astype(int).astype('category')\n",
    "    assert len(data[name].unique()) == (len(vals) + remaining_cat)\n",
    "    \n",
    "    return data"
   ]
  },
  {
   "cell_type": "code",
   "execution_count": 4,
   "metadata": {},
   "outputs": [],
   "source": [
    "def myRoundEncoder(data, col, rounding, postfix):\n",
    "    name = col+postfix\n",
    "    data[name] = (((data[col]+0.0000001) % rounding) < 0.00001)\n",
    "    data[name] = data[name].astype(bool)\n",
    "    return data"
   ]
  },
  {
   "cell_type": "markdown",
   "metadata": {},
   "source": [
    "# Prepare metadata"
   ]
  },
  {
   "cell_type": "code",
   "execution_count": 5,
   "metadata": {},
   "outputs": [],
   "source": [
    "cols_info = ['PatientID','SOPInstanceUID','SeriesInstanceUID','StudyInstanceUID','pos_idx','Rows','Columns']\n",
    "cols_redundant = ['BitsAllocated','HighBit','WindowCenter_1_NAN','ImageOrientationPatient_0','ImageOrientationPatient_1',\n",
    "                  'ImageOrientationPatient_2','ImageOrientationPatient_3','PixelSpacing_0','Modality',\n",
    "                  'PhotometricInterpretation','SamplesPerPixel','StudyID',\n",
    "                  'ImageOrientationPatient_5_enc_1', # same as ImageOrientationPatient_4_enc_1\n",
    "                  'PixelSpacing_1_enc_1', # same as ImagePositionPatient_0_enc_1\n",
    "                 ]\n",
    "cols_consumed = ['BitsStored','PixelRepresentation','RescaleIntercept','ImageOrientationPatient',\n",
    "                 'ImageOrientationPatient_4','ImageOrientationPatient_5','ImagePositionPatient',\n",
    "                 'ImagePositionPatient_0','ImagePositionPatient_1','ImagePositionPatient_2','PixelSpacing',\n",
    "                 'RescaleSlope','WindowCenter','PixelSpacing_1','WindowCenter_0','WindowCenter_1',\n",
    "                 'WindowWidth','WindowWidth_0','WindowWidth_1']\n",
    "cols_float = ['ImageOrientationPatient_4_f','ImageOrientationPatient_5_f','ImagePositionPatient_0_f',\n",
    "              'ImagePositionPatient_1_f','ImagePositionPatient_2_f','PixelSpacing_1_f',\n",
    "              'pos_max','pos_min','pos_size','pos_idx1','pos_idx2','pos_inc1','pos_inc2',\n",
    "              'pos_range','pos_rel','pos_zeros','pos_inc_rng','PxlMin','PxlMax','PxlStd','PxlMean']\n",
    "cols_bool = ['ImageOrientationPatient_4_enc_0','ImageOrientationPatient_4_enc_1',\n",
    "             'ImageOrientationPatient_5_enc_0',\n",
    "             'ImagePositionPatient_0_enc_0','ImagePositionPatient_0_enc_1',\n",
    "             'ImagePositionPatient_0_f_r1','ImagePositionPatient_0_f_r05','ImagePositionPatient_1_enc_0',\n",
    "             'ImagePositionPatient_2_f_r05','PixelSpacing_1_enc_0',\n",
    "             'pos_inc1_r1','pos_inc1_r0001','pos_inc1_enc_0','pos_inc2_enc_0','pos_inc1_enc_1','pos_inc2_enc_1']\n",
    "cols_le = ['WindowCenter_1_le','BitType_le','WindowCenter_0_le','pos_inc1_grp_le','pos_inc2_grp_le','pos_size_le',\n",
    "           'pos_zeros_le','WindowWidth_0_le','WindowWidth_1_le','PxlMin_grp_le']\n",
    "\n",
    "cols_all = cols_redundant + cols_float + cols_bool + cols_le + cols_consumed + cols_info"
   ]
  },
  {
   "cell_type": "code",
   "execution_count": 6,
   "metadata": {},
   "outputs": [],
   "source": [
    "pickle.dump((cols_le,cols_float,cols_bool), open(PATH_WORK/'covs','wb'))"
   ]
  },
  {
   "cell_type": "code",
   "execution_count": 7,
   "metadata": {},
   "outputs": [],
   "source": [
    "train_csv = pd.read_csv(PATH/'stage_1_train.csv')\n",
    "\n",
    "train_csv = train_csv.loc[~train_csv.ID.duplicated()].sort_values('ID').reset_index(drop=True)\n",
    "all_sop_ids = train_csv.ID.str.split('_').apply(lambda x: x[0]+'_'+x[1]).unique()\n",
    "train_df = pd.DataFrame(train_csv.Label.values.reshape((-1,6)), columns = all_ich)\n",
    "train_df['sop_id'] = all_sop_ids\n",
    "\n",
    "train_df.to_csv(PATH_WORK/'train_df.csv', index=False)"
   ]
  },
  {
   "cell_type": "code",
   "execution_count": 11,
   "metadata": {},
   "outputs": [],
   "source": [
    "train_md = pd.read_csv(PATH/'train_metadata.csv')\n",
    "test_md = pd.read_csv(PATH/'test_metadata.csv')\n",
    "data_md = pd.concat([train_md, test_md], axis=0, sort=False).reset_index(drop=True)"
   ]
  },
  {
   "cell_type": "code",
   "execution_count": 12,
   "metadata": {},
   "outputs": [],
   "source": [
    "data_md.columns = data_md.columns.str.replace('_',' ').str.title().str.replace(' ','').str.replace('Sop','SOP')\\\n",
    "    .str.replace('Uid','UID').str.replace('Id','ID')"
   ]
  },
  {
   "cell_type": "code",
   "execution_count": 14,
   "metadata": {},
   "outputs": [],
   "source": [
    "for i in range(6):\n",
    "    data_md['ImageOrientationPatient_{}'.format(i)] \\\n",
    "        = data_md['ImageOrientationPatient'].str.split('\\'').apply(lambda x: x[1+2*i])\n",
    "\n",
    "for i in range(3):\n",
    "    data_md['ImagePositionPatient_{}'.format(i)] \\\n",
    "        = data_md['ImagePositionPatient'].str.split('\\'').apply(lambda x: x[1+2*i])\n",
    "\n",
    "for i in range(2):\n",
    "    data_md['PixelSpacing_{}'.format(i)] \\\n",
    "        = data_md['PixelSpacing'].str.split('\\'').apply(lambda x: x[1+2*i])\n",
    "\n",
    "data_md['WindowCenter_0'] \\\n",
    "    = data_md['WindowCenter'].str.split('\\'').apply(lambda x: float(x[1]) if len(x) > 1 else float(x[0]))\n",
    "\n",
    "data_md['WindowCenter_1'] \\\n",
    "    = data_md['WindowCenter'].str.split('\\'').apply(lambda x: float(x[3]) if len(x) > 1 else np.nan)\n",
    "\n",
    "data_md['WindowCenter_1_NAN'] = data_md.WindowCenter_1.isnull()"
   ]
  },
  {
   "cell_type": "code",
   "execution_count": 15,
   "metadata": {},
   "outputs": [],
   "source": [
    "data_md['ImagePositionPatient_2'] = data_md['ImagePositionPatient_2'].astype(float)\n",
    "data_md = data_md.sort_values(['SeriesInstanceUID','ImagePositionPatient_2']).reset_index(drop=True)"
   ]
  },
  {
   "cell_type": "code",
   "execution_count": 16,
   "metadata": {},
   "outputs": [],
   "source": [
    "data_md['WindowWidth_0'] \\\n",
    "    = data_md['WindowWidth'].str.split('\\'').apply(lambda x: float(x[1]) if len(x) > 1 else float(x[0]))\n",
    "\n",
    "data_md['WindowWidth_1'] \\\n",
    "    = data_md['WindowWidth'].str.split('\\'').apply(lambda x: float(x[3]) if len(x) > 1 else np.nan)\n",
    "\n",
    "data_md = myLabelEncoder(data_md, 'WindowWidth_0', [80.0,150.0,100.0,135.0,120.0])\n",
    "\n",
    "data_md = myLabelEncoder(data_md, 'WindowWidth_1', [80.0,np.nan])"
   ]
  },
  {
   "cell_type": "code",
   "execution_count": 17,
   "metadata": {},
   "outputs": [],
   "source": [
    "data_md = myLabelEncoder(data_md, 'WindowCenter_1', [36.0,40.0,47.0,np.nan])"
   ]
  },
  {
   "cell_type": "code",
   "execution_count": 18,
   "metadata": {},
   "outputs": [],
   "source": [
    "data_md['BitType'] = data_md.BitsStored.astype(str) + data_md.PixelRepresentation.astype(str) \\\n",
    "    + data_md.RescaleIntercept.astype(str)\n",
    "\n",
    "data_md = myLabelEncoder(data_md, 'BitType', ['161-1024.0','120-1024.0','1210.0','1610.0'])\n",
    "\n",
    "del data_md['BitType']"
   ]
  },
  {
   "cell_type": "code",
   "execution_count": 19,
   "metadata": {},
   "outputs": [],
   "source": [
    "data_md['ImageOrientationPatient_4_f'] = data_md.ImageOrientationPatient_4.astype(float)\n",
    "\n",
    "data_md['ImageOrientationPatient_4_enc_0'] = (data_md.ImageOrientationPatient_4_f == 1)\n",
    "data_md['ImageOrientationPatient_4_enc_1'] = data_md.ImageOrientationPatient_4_f.between(0.927184,0.927185)\n",
    "\n",
    "data_md['ImageOrientationPatient_4_f'] = np.clip(data_md['ImageOrientationPatient_4_f'].values,0.85,1)\n",
    "\n",
    "data_md.loc[data_md.ImageOrientationPatient_4_enc_0 | data_md.ImageOrientationPatient_4_enc_1, \\\n",
    "            'ImageOrientationPatient_4_f'] = 0.7"
   ]
  },
  {
   "cell_type": "code",
   "execution_count": 20,
   "metadata": {},
   "outputs": [],
   "source": [
    "data_md['ImageOrientationPatient_5_f'] = data_md.ImageOrientationPatient_5.astype(float)\n",
    "\n",
    "data_md['ImageOrientationPatient_5_enc_0'] = (data_md.ImageOrientationPatient_5_f == 0)\n",
    "data_md['ImageOrientationPatient_5_enc_1'] = data_md.ImageOrientationPatient_5_f.between(-0.374608,-0.374607)\n",
    "\n",
    "data_md.loc[data_md.ImageOrientationPatient_5_enc_0 | data_md.ImageOrientationPatient_5_enc_1, \\\n",
    "            'ImageOrientationPatient_5_f'] = -0.6\n",
    "\n",
    "data_md['ImageOrientationPatient_5_f'] = np.clip(data_md['ImageOrientationPatient_5_f'].values,-0.7,0)"
   ]
  },
  {
   "cell_type": "code",
   "execution_count": 21,
   "metadata": {},
   "outputs": [],
   "source": [
    "data_md['ImagePositionPatient_0_f'] = data_md.ImagePositionPatient_0.astype(float)\n",
    "\n",
    "data_md['ImagePositionPatient_0_enc_0'] = (data_md.ImagePositionPatient_0_f == -125)\n",
    "data_md['ImagePositionPatient_0_enc_1'] = (data_md.ImagePositionPatient_0_f.between(-126.437379,-126.437377) |\n",
    "                                           data_md.ImagePositionPatient_0_f.between(-126.408876,-126.408874))\n",
    "\n",
    "data_md['ImagePositionPatient_0_f'] = np.clip(data_md['ImagePositionPatient_0_f'].values,-175,-50)\n",
    "\n",
    "data_md.loc[data_md.ImagePositionPatient_0_enc_0 | data_md.ImagePositionPatient_0_enc_1, \\\n",
    "            'ImagePositionPatient_0_f'] = -200"
   ]
  },
  {
   "cell_type": "code",
   "execution_count": 22,
   "metadata": {},
   "outputs": [],
   "source": [
    "data_md = myRoundEncoder(data_md, 'ImagePositionPatient_0_f', 1, '_r1')\n",
    "data_md = myRoundEncoder(data_md, 'ImagePositionPatient_0_f', 0.5, '_r05')"
   ]
  },
  {
   "cell_type": "code",
   "execution_count": 23,
   "metadata": {},
   "outputs": [],
   "source": [
    "data_md['ImagePositionPatient_1_f'] = data_md.ImagePositionPatient_1.astype(float)\n",
    "data_md['ImagePositionPatient_1_f'] = np.clip(data_md['ImagePositionPatient_1_f'].values,-200,100)\n",
    "data_md['ImagePositionPatient_1_enc_0'] = (data_md['ImagePositionPatient_1_f'] > -75)"
   ]
  },
  {
   "cell_type": "code",
   "execution_count": 24,
   "metadata": {},
   "outputs": [],
   "source": [
    "data_md['ImagePositionPatient_2_f'] = data_md.ImagePositionPatient_2.astype(float)\n",
    "data_md = myRoundEncoder(data_md, 'ImagePositionPatient_2_f', 0.5, '_r05')"
   ]
  },
  {
   "cell_type": "code",
   "execution_count": 25,
   "metadata": {},
   "outputs": [],
   "source": [
    "data_md['PixelSpacing_1_f'] = data_md.PixelSpacing_1.astype(float)\n",
    "\n",
    "data_md['PixelSpacing_1_enc_0'] = (data_md.PixelSpacing_1_f.between(0.488281,0.488282))\n",
    "data_md['PixelSpacing_1_enc_1'] = (data_md.PixelSpacing_1_f.between(0.494750,0.494864))\n",
    "\n",
    "data_md['PixelSpacing_1_f'] = np.clip(data_md['PixelSpacing_1_f'].values,0.3,0.7)\n",
    "\n",
    "data_md.loc[data_md.PixelSpacing_1_enc_0 | data_md.PixelSpacing_1_enc_1, 'PixelSpacing_1_f'] = 0.2"
   ]
  },
  {
   "cell_type": "code",
   "execution_count": 26,
   "metadata": {},
   "outputs": [],
   "source": [
    "data_md = myLabelEncoder(data_md, 'WindowCenter_0', [30.0,36.0,40.0,35.0,47.0,50.0])"
   ]
  },
  {
   "cell_type": "code",
   "execution_count": 27,
   "metadata": {},
   "outputs": [],
   "source": [
    "data_md['pos_max'] = data_md[['SeriesInstanceUID','ImagePositionPatient_2']]\\\n",
    "    .groupby('SeriesInstanceUID').transform(lambda x: max(x))\n",
    "data_md['pos_min'] = data_md[['SeriesInstanceUID','ImagePositionPatient_2']]\\\n",
    "    .groupby('SeriesInstanceUID').transform(lambda x: min(x))\n",
    "data_md['pos_size'] = data_md[['SeriesInstanceUID','ImagePositionPatient_2']]\\\n",
    "    .groupby('SeriesInstanceUID').transform(lambda x: len(x))"
   ]
  },
  {
   "cell_type": "code",
   "execution_count": 28,
   "metadata": {},
   "outputs": [],
   "source": [
    "data_md['pos_idx1'] = data_md[['SeriesInstanceUID','ImagePositionPatient_2']]\\\n",
    "    .groupby('SeriesInstanceUID').transform(lambda x: np.arange(len(x)))\n",
    "data_md['pos_idx'] = data_md['pos_idx1']"
   ]
  },
  {
   "cell_type": "code",
   "execution_count": 29,
   "metadata": {},
   "outputs": [],
   "source": [
    "data_md['pos_idx2'] = data_md[['SeriesInstanceUID','ImagePositionPatient_2']]\\\n",
    "    .groupby('SeriesInstanceUID').transform(lambda x: np.arange(len(x))[::-1])"
   ]
  },
  {
   "cell_type": "code",
   "execution_count": 30,
   "metadata": {},
   "outputs": [],
   "source": [
    "data_md['pos_inc1'] = data_md[['SeriesInstanceUID','ImagePositionPatient_2']]\\\n",
    "    .groupby('SeriesInstanceUID').transform(lambda x: np.concatenate([[0],np.diff(x.values)]))\n",
    "data_md['pos_inc2'] = data_md[['SeriesInstanceUID','ImagePositionPatient_2']]\\\n",
    "    .groupby('SeriesInstanceUID').transform(lambda x: np.concatenate([np.diff(x.values),[0]]))"
   ]
  },
  {
   "cell_type": "code",
   "execution_count": 31,
   "metadata": {
    "scrolled": true
   },
   "outputs": [],
   "source": [
    "data_md['pos_inc1_grp'] = pd.cut(data_md.pos_inc1, [-1,2.0,3.5,4.5,1000], labels=np.arange(4))\n",
    "data_md = myLabelEncoder(data_md, 'pos_inc1_grp', [0,1,2,3], remaining_cat=False)\n",
    "\n",
    "del data_md['pos_inc1_grp']\n",
    "\n",
    "data_md['pos_inc2_grp'] = pd.cut(data_md.pos_inc2, [-1,2.0,3.5,4.5,1000], labels=np.arange(4))\n",
    "data_md = myLabelEncoder(data_md, 'pos_inc2_grp', [0,1,2,3], remaining_cat=False)\n",
    "\n",
    "del data_md['pos_inc2_grp']"
   ]
  },
  {
   "cell_type": "code",
   "execution_count": 32,
   "metadata": {},
   "outputs": [],
   "source": [
    "data_md = myRoundEncoder(data_md, 'pos_inc1', 1, '_r1')\n",
    "data_md = myRoundEncoder(data_md, 'pos_inc1', 0.001, '_r0001')"
   ]
  },
  {
   "cell_type": "code",
   "execution_count": 33,
   "metadata": {},
   "outputs": [],
   "source": [
    "data_md['pos_inc1_enc_0'] = (data_md.pos_inc1 == 0)\n",
    "data_md['pos_inc2_enc_0'] = (data_md.pos_inc2 == 0)\n",
    "data_md['pos_inc1_enc_1'] = (data_md.pos_inc1 == 5)\n",
    "data_md['pos_inc2_enc_1'] = (data_md.pos_inc2 == 5)\n",
    "\n",
    "data_md['pos_inc1'] = np.clip(data_md['pos_inc1'].values,0,7)\n",
    "data_md['pos_inc2'] = np.clip(data_md['pos_inc2'].values,0,7)\n",
    "\n",
    "data_md.loc[data_md.pos_inc1_enc_0 | data_md.pos_inc1_enc_1, 'pos_inc1'] = -1\n",
    "data_md.loc[data_md.pos_inc2_enc_0 | data_md.pos_inc2_enc_1, 'pos_inc2'] = -1"
   ]
  },
  {
   "cell_type": "code",
   "execution_count": 34,
   "metadata": {},
   "outputs": [],
   "source": [
    "data_md = myLabelEncoder(data_md, 'pos_size', [32,40,36,28,34,30,35,33,38,44])"
   ]
  },
  {
   "cell_type": "code",
   "execution_count": 35,
   "metadata": {},
   "outputs": [],
   "source": [
    "data_md['pos_range'] = (data_md['pos_max'] - data_md['pos_min'])\n",
    "data_md['pos_rel'] = ((data_md['ImagePositionPatient_2'] - data_md['pos_min'])/data_md['pos_range'])\\\n",
    "    .where(data_md['pos_range'] > 0, 0.5)\n",
    "\n",
    "data_md['pos_zeros'] = data_md[['SeriesInstanceUID','ImagePositionPatient_2']]\\\n",
    "    .groupby('SeriesInstanceUID').transform(lambda x: (np.diff(x.values) <= 0.001).sum())\n",
    "\n",
    "data_md['pos_inc_rng'] = data_md[['SeriesInstanceUID','ImagePositionPatient_2']]\\\n",
    "    .groupby('SeriesInstanceUID').transform(lambda x: np.diff(x.values)[np.diff(x.values) > 0.1].max() /\n",
    "                                                      np.diff(x.values)[np.diff(x.values) > 0.1].min())\n",
    "\n",
    "data_md['pos_inc_rng'] = np.clip(data_md['pos_inc_rng'],0,3)"
   ]
  },
  {
   "cell_type": "code",
   "execution_count": 36,
   "metadata": {},
   "outputs": [],
   "source": [
    "data_md['pos_min'] = np.clip(data_md['pos_min'].values,-500,500)\n",
    "data_md['pos_max'] = np.clip(data_md['pos_max'].values,-500,500)"
   ]
  },
  {
   "cell_type": "code",
   "execution_count": 37,
   "metadata": {},
   "outputs": [],
   "source": [
    "data_md['pos_range'] = np.clip(data_md['pos_range'].values,100,250)\n",
    "\n",
    "data_md = myLabelEncoder(data_md, 'pos_zeros', [0,4,8])"
   ]
  },
  {
   "cell_type": "code",
   "execution_count": 38,
   "metadata": {},
   "outputs": [],
   "source": [
    "data_md['PxlStd'] = np.clip(data_md['PxlStd'].values,0,1500)\n",
    "data_md['PxlMean'] = np.clip(data_md['PxlMean'].values,-1900,-100)\n",
    "data_md['PxlMin'] = np.clip(data_md['PxlMin'].values,-3500,-1000)\n",
    "data_md['PxlMax'] = np.clip(data_md['PxlMax'].values,-1000,3500)"
   ]
  },
  {
   "cell_type": "code",
   "execution_count": 39,
   "metadata": {},
   "outputs": [],
   "source": [
    "data_md['PxlMin_grp'] = pd.cut(data_md.PxlMin, [-5000,-2500,-1500,2000], labels=np.arange(3))\n",
    "data_md = myLabelEncoder(data_md, 'PxlMin_grp', [0,1,2], remaining_cat=False)\n",
    "del data_md['PxlMin_grp']"
   ]
  },
  {
   "cell_type": "code",
   "execution_count": null,
   "metadata": {},
   "outputs": [],
   "source": []
  },
  {
   "cell_type": "code",
   "execution_count": 40,
   "metadata": {},
   "outputs": [],
   "source": [
    "assert len([col for col in cols_all if col not in data_md.columns]) == 0\n",
    "assert len([col for col in data_md.columns if col not in (cols_all + all_ich)]) == 0"
   ]
  },
  {
   "cell_type": "code",
   "execution_count": 41,
   "metadata": {},
   "outputs": [],
   "source": [
    "data_md = data_md.join(train_df.set_index('sop_id'), on = 'SOPInstanceUID')"
   ]
  },
  {
   "cell_type": "code",
   "execution_count": 42,
   "metadata": {},
   "outputs": [],
   "source": [
    "assert data_md['any'].isnull().sum() == 78545\n",
    "assert (~data_md['any'].isnull()).sum() == 674257"
   ]
  },
  {
   "cell_type": "code",
   "execution_count": null,
   "metadata": {},
   "outputs": [],
   "source": []
  },
  {
   "cell_type": "code",
   "execution_count": 43,
   "metadata": {},
   "outputs": [],
   "source": [
    "for col in (cols_float + cols_bool):\n",
    "    data_md[col] = data_md[col].astype(float)\n",
    "\n",
    "#for col in cols_cat:\n",
    "#    data_md[col] = pd.factorize(data_md[col])[0]\n",
    "#    data_md[col] = data_md[col].astype('category')"
   ]
  },
  {
   "cell_type": "code",
   "execution_count": null,
   "metadata": {},
   "outputs": [],
   "source": []
  },
  {
   "cell_type": "code",
   "execution_count": 44,
   "metadata": {},
   "outputs": [],
   "source": [
    "M = 4\n",
    "data_md['ImageOrientationPatient_4_f'] = M*(data_md['ImageOrientationPatient_4_f'] - 0.8)/0.3\n",
    "data_md['ImageOrientationPatient_5_f'] = M*(data_md['ImageOrientationPatient_5_f'] + 0.5)/0.6\n",
    "data_md['ImagePositionPatient_0_f'] =    M*(data_md['ImagePositionPatient_0_f'] + 173)/150\n",
    "data_md['ImagePositionPatient_1_f'] =    M*(data_md['ImagePositionPatient_1_f'] + 65)/300\n",
    "data_md['ImagePositionPatient_2_f'] =    M*(data_md['ImagePositionPatient_2_f'] - 167)/2792\n",
    "data_md['PixelSpacing_1_f'] =            M*(data_md['PixelSpacing_1_f'] - 0.26)/0.5\n",
    "data_md['pos_max'] =                     M*(data_md['pos_max'])/1000\n",
    "data_md['pos_min'] =                     M*(data_md['pos_min'])/1000\n",
    "data_md['pos_size'] =                    M*(data_md['pos_size'] - 35)/40\n",
    "data_md['pos_idx1'] =                    M*(data_md['pos_idx1'] - 17)/59\n",
    "data_md['pos_idx2'] =                    M*(data_md['pos_idx2'] - 17)/59\n",
    "data_md['pos_inc1'] =                    M*(data_md['pos_inc1'] - 2)/8\n",
    "data_md['pos_inc2'] =                    M*(data_md['pos_inc2'] - 2)/8\n",
    "data_md['pos_range'] =                   M*(data_md['pos_range'] - 165)/150\n",
    "data_md['pos_rel'] =                     M*(data_md['pos_rel'] - 0.5)/1.0\n",
    "data_md['pos_zeros'] =                   M*(data_md['pos_zeros'])/10\n",
    "data_md['pos_inc_rng'] =                 M*(data_md['pos_inc_rng'] - 1.3)/2.0\n",
    "\n",
    "data_md['PxlMin'] =                      M*(data_md['PxlMin'] + 2000)/3000\n",
    "data_md['PxlMax'] =                      M*(data_md['PxlMax'] - 1500)/3000\n",
    "data_md['PxlMean'] =                     M*(data_md['PxlMean'] + 800)/1000\n",
    "data_md['PxlStd'] =                      M*(data_md['PxlStd'] - 800)/1000"
   ]
  },
  {
   "cell_type": "code",
   "execution_count": null,
   "metadata": {},
   "outputs": [],
   "source": []
  },
  {
   "cell_type": "code",
   "execution_count": 45,
   "metadata": {},
   "outputs": [],
   "source": [
    "data_md.to_csv(PATH_WORK/'data_md.csv', index=False)"
   ]
  },
  {
   "cell_type": "code",
   "execution_count": 46,
   "metadata": {},
   "outputs": [],
   "source": [
    "train_md = data_md.loc[~data_md['any'].isnull()].copy().reset_index(drop=True)\n",
    "for col in all_ich:\n",
    "    train_md[col] = train_md[col].astype(int)\n",
    "train_md.to_csv(PATH_WORK/'train_md.csv', index=False)\n",
    "\n",
    "test_md = data_md.loc[data_md['any'].isnull()].copy().reset_index(drop=True)\n",
    "test_md.to_csv(PATH_WORK/'test_md.csv', index=False)"
   ]
  },
  {
   "cell_type": "code",
   "execution_count": 47,
   "metadata": {},
   "outputs": [],
   "source": [
    "data_md = pd.read_csv(PATH_WORK/'data_md.csv')"
   ]
  },
  {
   "cell_type": "code",
   "execution_count": 48,
   "metadata": {},
   "outputs": [],
   "source": [
    "test_md = pd.read_csv(PATH_WORK/'test_md.csv')\n",
    "train_md = pd.read_csv(PATH_WORK/'train_md.csv')"
   ]
  },
  {
   "cell_type": "code",
   "execution_count": null,
   "metadata": {},
   "outputs": [],
   "source": []
  },
  {
   "cell_type": "markdown",
   "metadata": {},
   "source": [
    "# Analysis"
   ]
  },
  {
   "cell_type": "code",
   "execution_count": 49,
   "metadata": {},
   "outputs": [
    {
     "name": "stdout",
     "output_type": "stream",
     "text": [
      "WindowCenter_1_le 5\n",
      "BitType_le 5\n",
      "WindowCenter_0_le 7\n",
      "pos_inc1_grp_le 4\n",
      "pos_inc2_grp_le 4\n",
      "pos_size_le 11\n",
      "pos_zeros_le 4\n",
      "WindowWidth_0_le 6\n",
      "WindowWidth_1_le 3\n",
      "PxlMin_grp_le 3\n"
     ]
    }
   ],
   "source": [
    "for col in cols_le:\n",
    "    print(col, len(data_md[col].unique()))"
   ]
  },
  {
   "cell_type": "code",
   "execution_count": null,
   "metadata": {},
   "outputs": [],
   "source": []
  },
  {
   "cell_type": "code",
   "execution_count": 50,
   "metadata": {},
   "outputs": [
    {
     "data": {
      "text/plain": [
       "ImageOrientationPatient_4_f    0.058563\n",
       "ImageOrientationPatient_5_f    0.222398\n",
       "ImagePositionPatient_0_f       0.048668\n",
       "ImagePositionPatient_1_f       0.066942\n",
       "ImagePositionPatient_2_f       0.010251\n",
       "PixelSpacing_1_f               0.069438\n",
       "pos_max                        0.880705\n",
       "pos_min                        0.261473\n",
       "pos_size                       0.024645\n",
       "pos_idx1                       0.008354\n",
       "pos_idx2                       0.008354\n",
       "pos_inc1                       0.030327\n",
       "pos_inc2                       0.030327\n",
       "pos_range                      0.013157\n",
       "pos_rel                       -0.057270\n",
       "pos_zeros                      0.024279\n",
       "pos_inc_rng                   -0.080632\n",
       "PxlMin                         0.236361\n",
       "PxlMax                         0.149736\n",
       "PxlStd                        -0.032196\n",
       "PxlMean                        0.124001\n",
       "dtype: float64"
      ]
     },
     "execution_count": 50,
     "metadata": {},
     "output_type": "execute_result"
    }
   ],
   "source": [
    "train_md[cols_float].mean()"
   ]
  },
  {
   "cell_type": "code",
   "execution_count": 51,
   "metadata": {},
   "outputs": [
    {
     "data": {
      "text/plain": [
       "ImageOrientationPatient_4_f    1.693531\n",
       "ImageOrientationPatient_5_f    1.159401\n",
       "ImagePositionPatient_0_f       1.069924\n",
       "ImagePositionPatient_1_f       0.866594\n",
       "ImagePositionPatient_2_f       0.367141\n",
       "PixelSpacing_1_f               0.915759\n",
       "pos_max                        0.468271\n",
       "pos_min                        0.581765\n",
       "pos_size                       0.536172\n",
       "pos_idx1                       0.720769\n",
       "pos_idx2                       0.720769\n",
       "pos_inc1                       1.502420\n",
       "pos_inc2                       1.502420\n",
       "pos_range                      0.489795\n",
       "pos_rel                        1.198624\n",
       "pos_zeros                      0.361715\n",
       "pos_inc_rng                    1.106501\n",
       "PxlMin                         1.222550\n",
       "PxlMax                         0.713566\n",
       "PxlStd                         1.243883\n",
       "PxlMean                        1.049480\n",
       "dtype: float64"
      ]
     },
     "execution_count": 51,
     "metadata": {},
     "output_type": "execute_result"
    }
   ],
   "source": [
    "train_md[cols_float].std()"
   ]
  },
  {
   "cell_type": "code",
   "execution_count": 52,
   "metadata": {},
   "outputs": [],
   "source": [
    "cnts = data_md[['SeriesInstanceUID'] + cols_bool]\\\n",
    "    .groupby('SeriesInstanceUID').agg(lambda x: len(x.unique()))"
   ]
  },
  {
   "cell_type": "code",
   "execution_count": 53,
   "metadata": {},
   "outputs": [
    {
     "data": {
      "text/plain": [
       "ImageOrientationPatient_4_enc_0    1.000184\n",
       "ImageOrientationPatient_4_enc_1    1.000184\n",
       "ImageOrientationPatient_5_enc_0    1.000184\n",
       "ImagePositionPatient_0_enc_0       1.000046\n",
       "ImagePositionPatient_0_enc_1       1.000000\n",
       "ImagePositionPatient_0_f_r1        1.000046\n",
       "ImagePositionPatient_0_f_r05       1.000092\n",
       "ImagePositionPatient_1_enc_0       1.000092\n",
       "ImagePositionPatient_2_f_r05       1.025570\n",
       "PixelSpacing_1_enc_0               1.000000\n",
       "pos_inc1_r1                        1.671036\n",
       "pos_inc1_r0001                     1.432763\n",
       "pos_inc1_enc_0                     2.000000\n",
       "pos_inc2_enc_0                     2.000000\n",
       "pos_inc1_enc_1                     1.428532\n",
       "pos_inc2_enc_1                     1.428532\n",
       "dtype: float64"
      ]
     },
     "execution_count": 53,
     "metadata": {},
     "output_type": "execute_result"
    }
   ],
   "source": [
    "cnts.sum()/cnts.shape[0]"
   ]
  },
  {
   "cell_type": "code",
   "execution_count": 54,
   "metadata": {},
   "outputs": [],
   "source": [
    "significant_cols = []"
   ]
  },
  {
   "cell_type": "code",
   "execution_count": 55,
   "metadata": {
    "scrolled": true
   },
   "outputs": [
    {
     "data": {
      "image/png": "[encoded data removed]",
      "text/plain": [
       "<Figure size 1728x2160 with 21 Axes>"
      ]
     },
     "metadata": {
      "needs_background": "light"
     },
     "output_type": "display_data"
    }
   ],
   "source": [
    "fig, axes = plt.subplots(7, 3, figsize=(24, 30))\n",
    "\n",
    "for i, ax in enumerate(axes.flatten()):\n",
    "    if i >= len(cols_float): continue\n",
    "    col = cols_float[i]\n",
    "    a = ax.hist(train_md[col], bins=100, density=True, alpha=0.5)\n",
    "    a = ax.hist(test_md[col], bins=100, density=True, alpha=0.5)\n",
    "    ks = ks_2samp(train_md[col].values, test_md[col].values)\n",
    "    ax.set_title(col + (' IMPORTANT' if col in significant_cols else '') + ' ks {:.4f}'.format(ks.statistic))"
   ]
  },
  {
   "cell_type": "code",
   "execution_count": 56,
   "metadata": {
    "scrolled": true
   },
   "outputs": [
    {
     "name": "stdout",
     "output_type": "stream",
     "text": [
      "any                 False  True \n",
      "WindowCenter_1_le               \n",
      "0                  248152   2157\n",
      "1                   70894    985\n",
      "2                   10377     34\n",
      "3                  341678  75369\n",
      "4                    3156      0\n",
      "any          False  True \n",
      "BitType_le               \n",
      "0           338727  75369\n",
      "1           323551   3088\n",
      "2             2252     60\n",
      "3             2951      0\n",
      "4             6776     28\n",
      "any                 False  True \n",
      "WindowCenter_0_le               \n",
      "0                  213404  69272\n",
      "1                  248152   2157\n",
      "2                  151196   2148\n",
      "3                   43652   4934\n",
      "4                   10343     34\n",
      "5                    3957      0\n",
      "6                    3553      0\n",
      "any               False  True \n",
      "pos_inc1_grp_le               \n",
      "0                 25149   3724\n",
      "1                 51896  14995\n",
      "2                  7567    250\n",
      "3                589645  59576\n",
      "any               False  True \n",
      "pos_inc2_grp_le               \n",
      "0                 25149   3724\n",
      "1                 51896  14995\n",
      "2                  7567    250\n",
      "3                589645  59576\n",
      "any           False  True \n",
      "pos_size_le               \n",
      "0            156544  21824\n",
      "1             79040  21840\n",
      "2             78912   9072\n",
      "3             52220   9884\n",
      "4             51510    884\n",
      "5             33180    930\n",
      "6             32270    315\n",
      "7             30393    231\n",
      "8             25270   1596\n",
      "9             21560   4620\n",
      "10           113358   7349\n",
      "any            False  True \n",
      "pos_zeros_le               \n",
      "0             669382  77188\n",
      "1               1078    108\n",
      "2               1132    332\n",
      "3               2665    917\n",
      "any                False  True \n",
      "WindowWidth_0_le               \n",
      "0                 541490  72448\n",
      "1                  63927    921\n",
      "2                  30067   4308\n",
      "3                  31241    762\n",
      "4                   2143     16\n",
      "5                   5389     90\n",
      "any                False  True \n",
      "WindowWidth_1_le               \n",
      "0                 329598   3176\n",
      "1                 341678  75369\n",
      "2                   2981      0\n",
      "any             False  True \n",
      "PxlMin_grp_le               \n",
      "0              227315  73516\n",
      "1               83433   1095\n",
      "2              363509   3934\n"
     ]
    }
   ],
   "source": [
    "for col in cols_le:\n",
    "    print(pd.crosstab(data_md[col], data_md['any'].isnull()))"
   ]
  },
  {
   "cell_type": "code",
   "execution_count": 57,
   "metadata": {
    "scrolled": true
   },
   "outputs": [
    {
     "data": {
      "text/html": [
       "<div>\n",
       "<style scoped>\n",
       "    .dataframe tbody tr th:only-of-type {\n",
       "        vertical-align: middle;\n",
       "    }\n",
       "\n",
       "    .dataframe tbody tr th {\n",
       "        vertical-align: top;\n",
       "    }\n",
       "\n",
       "    .dataframe thead th {\n",
       "        text-align: right;\n",
       "    }\n",
       "</style>\n",
       "<table border=\"1\" class=\"dataframe\">\n",
       "  <thead>\n",
       "    <tr style=\"text-align: right;\">\n",
       "      <th></th>\n",
       "      <th></th>\n",
       "      <th>any</th>\n",
       "      <th>False</th>\n",
       "      <th>True</th>\n",
       "    </tr>\n",
       "    <tr>\n",
       "      <th>BitsStored</th>\n",
       "      <th>PixelRepresentation</th>\n",
       "      <th>RescaleIntercept</th>\n",
       "      <th></th>\n",
       "      <th></th>\n",
       "    </tr>\n",
       "  </thead>\n",
       "  <tbody>\n",
       "    <tr>\n",
       "      <th rowspan=\"5\" valign=\"top\">12</th>\n",
       "      <th rowspan=\"4\" valign=\"top\">0</th>\n",
       "      <th>-1024.0</th>\n",
       "      <td>323551</td>\n",
       "      <td>3088</td>\n",
       "    </tr>\n",
       "    <tr>\n",
       "      <th>-1000.0</th>\n",
       "      <td>6653</td>\n",
       "      <td>28</td>\n",
       "    </tr>\n",
       "    <tr>\n",
       "      <th>0.0</th>\n",
       "      <td>73</td>\n",
       "      <td>0</td>\n",
       "    </tr>\n",
       "    <tr>\n",
       "      <th>1.0</th>\n",
       "      <td>50</td>\n",
       "      <td>0</td>\n",
       "    </tr>\n",
       "    <tr>\n",
       "      <th>1</th>\n",
       "      <th>0.0</th>\n",
       "      <td>2252</td>\n",
       "      <td>60</td>\n",
       "    </tr>\n",
       "    <tr>\n",
       "      <th rowspan=\"2\" valign=\"top\">16</th>\n",
       "      <th rowspan=\"2\" valign=\"top\">1</th>\n",
       "      <th>-1024.0</th>\n",
       "      <td>338727</td>\n",
       "      <td>75369</td>\n",
       "    </tr>\n",
       "    <tr>\n",
       "      <th>0.0</th>\n",
       "      <td>2951</td>\n",
       "      <td>0</td>\n",
       "    </tr>\n",
       "  </tbody>\n",
       "</table>\n",
       "</div>"
      ],
      "text/plain": [
       "any                                               False  True \n",
       "BitsStored PixelRepresentation RescaleIntercept               \n",
       "12         0                   -1024.0           323551   3088\n",
       "                               -1000.0             6653     28\n",
       "                                0.0                  73      0\n",
       "                                1.0                  50      0\n",
       "           1                    0.0                2252     60\n",
       "16         1                   -1024.0           338727  75369\n",
       "                                0.0                2951      0"
      ]
     },
     "execution_count": 57,
     "metadata": {},
     "output_type": "execute_result"
    }
   ],
   "source": [
    "pd.crosstab([data_md.BitsStored, data_md.PixelRepresentation, data_md.RescaleIntercept],\n",
    "             data_md['any'].isnull())"
   ]
  },
  {
   "cell_type": "code",
   "execution_count": 58,
   "metadata": {
    "scrolled": true
   },
   "outputs": [
    {
     "data": {
      "text/html": [
       "<div>\n",
       "<style scoped>\n",
       "    .dataframe tbody tr th:only-of-type {\n",
       "        vertical-align: middle;\n",
       "    }\n",
       "\n",
       "    .dataframe tbody tr th {\n",
       "        vertical-align: top;\n",
       "    }\n",
       "\n",
       "    .dataframe thead th {\n",
       "        text-align: right;\n",
       "    }\n",
       "</style>\n",
       "<table border=\"1\" class=\"dataframe\">\n",
       "  <thead>\n",
       "    <tr style=\"text-align: right;\">\n",
       "      <th>any</th>\n",
       "      <th>0</th>\n",
       "      <th>1</th>\n",
       "    </tr>\n",
       "    <tr>\n",
       "      <th>row_0</th>\n",
       "      <th></th>\n",
       "      <th></th>\n",
       "    </tr>\n",
       "  </thead>\n",
       "  <tbody>\n",
       "    <tr>\n",
       "      <th>0.0</th>\n",
       "      <td>536963</td>\n",
       "      <td>96762</td>\n",
       "    </tr>\n",
       "    <tr>\n",
       "      <th>1.0</th>\n",
       "      <td>40128</td>\n",
       "      <td>340</td>\n",
       "    </tr>\n",
       "    <tr>\n",
       "      <th>2.0</th>\n",
       "      <td>63</td>\n",
       "      <td>1</td>\n",
       "    </tr>\n",
       "  </tbody>\n",
       "</table>\n",
       "</div>"
      ],
      "text/plain": [
       "any         0      1\n",
       "row_0               \n",
       "0.0    536963  96762\n",
       "1.0     40128    340\n",
       "2.0        63      1"
      ]
     },
     "execution_count": 58,
     "metadata": {},
     "output_type": "execute_result"
    }
   ],
   "source": [
    "pd.crosstab([train_md.pos_inc2_enc_0 + train_md.pos_inc1_enc_0],\n",
    "             train_md['any'])"
   ]
  },
  {
   "cell_type": "code",
   "execution_count": 59,
   "metadata": {
    "scrolled": true
   },
   "outputs": [
    {
     "data": {
      "text/plain": [
       "array([[ 1.        , -0.09758383],\n",
       "       [-0.09758383,  1.        ]])"
      ]
     },
     "execution_count": 59,
     "metadata": {},
     "output_type": "execute_result"
    }
   ],
   "source": [
    "np.corrcoef(train_md['any'], train_md.pos_inc2_enc_0 + train_md.pos_inc1_enc_0)"
   ]
  },
  {
   "cell_type": "code",
   "execution_count": 60,
   "metadata": {},
   "outputs": [],
   "source": [
    "bins = data_md.PxlStd.min() + np.arange(301)*(data_md.PxlStd.max() - data_md.PxlStd.min())/300"
   ]
  },
  {
   "cell_type": "code",
   "execution_count": 61,
   "metadata": {},
   "outputs": [
    {
     "data": {
      "image/png": "[encoded data removed]",
      "text/plain": [
       "<Figure size 432x288 with 1 Axes>"
      ]
     },
     "metadata": {
      "needs_background": "light"
     },
     "output_type": "display_data"
    }
   ],
   "source": [
    "a = plt.hist(data_md.loc[((data_md.PixelRepresentation != 0) | (data_md.RescaleIntercept < 0)) & \n",
    "                         (data_md.SOPInstanceUID != 'ID_b79eed528')].PxlStd,\n",
    "             alpha=0.5,bins=bins)\n",
    "a = plt.hist(data_md.loc[((data_md.PixelRepresentation != 0) | (data_md.RescaleIntercept < 0)) & \n",
    "                         (data_md.SOPInstanceUID != 'ID_b79eed528') & \n",
    "                         (data_md.PxlMin > -1500)].PxlStd,\n",
    "             alpha=0.5,bins=bins)\n",
    "a = plt.hist(data_md.loc[((data_md.PixelRepresentation != 0) | (data_md.RescaleIntercept < 0)) & \n",
    "                         (data_md.SOPInstanceUID != 'ID_b79eed528') & \n",
    "                         (data_md.PxlMin < -2500)].PxlStd,\n",
    "             alpha=0.5,bins=bins)\n",
    "a = plt.hist(data_md.loc[((data_md.PixelRepresentation != 0) | (data_md.RescaleIntercept < 0)) & \n",
    "                         (data_md.SOPInstanceUID != 'ID_b79eed528') & \n",
    "                         (data_md.PxlMin.between(-2500,-1500))].PxlStd,\n",
    "             alpha=0.5,bins=bins)"
   ]
  },
  {
   "cell_type": "code",
   "execution_count": 62,
   "metadata": {},
   "outputs": [
    {
     "data": {
      "text/plain": [
       "Series([], Name: any, dtype: int64)"
      ]
     },
     "execution_count": 62,
     "metadata": {},
     "output_type": "execute_result"
    }
   ],
   "source": [
    "data_md.loc[data_md.PxlMin < -3450,'any'].isnull().value_counts()"
   ]
  },
  {
   "cell_type": "markdown",
   "metadata": {},
   "source": [
    "# Weighting"
   ]
  },
  {
   "cell_type": "code",
   "execution_count": 63,
   "metadata": {},
   "outputs": [],
   "source": [
    "weights = np.ones(len(train_md))"
   ]
  },
  {
   "cell_type": "code",
   "execution_count": 64,
   "metadata": {},
   "outputs": [],
   "source": [
    "data_md['test'] = data_md['any'].isnull()"
   ]
  },
  {
   "cell_type": "code",
   "execution_count": 65,
   "metadata": {},
   "outputs": [
    {
     "name": "stdout",
     "output_type": "stream",
     "text": [
      "WindowCenter_1_le [4] 3156\n",
      "BitType_le [3] 2951\n",
      "WindowCenter_0_le [5 6] 7510\n",
      "WindowWidth_1_le [2] 2981\n"
     ]
    }
   ],
   "source": [
    "for col in (cols_le + cols_bool):\n",
    "    tt = data_md[[col,'test']].groupby(col).sum()\n",
    "    empty_categories = tt.index.values[tt['test']==0]\n",
    "    if len(empty_categories) > 0:\n",
    "        print(col, empty_categories, train_md[col].isin(empty_categories).sum())\n",
    "        weights[train_md[col].isin(empty_categories)] = 0"
   ]
  },
  {
   "cell_type": "code",
   "execution_count": 66,
   "metadata": {},
   "outputs": [],
   "source": [
    "data_md.loc[~data_md.test, 'weights'] = weights"
   ]
  },
  {
   "cell_type": "code",
   "execution_count": 67,
   "metadata": {},
   "outputs": [
    {
     "data": {
      "text/plain": [
       "1.0    663139\n",
       "0.0     11118\n",
       "dtype: int64"
      ]
     },
     "execution_count": 67,
     "metadata": {},
     "output_type": "execute_result"
    }
   ],
   "source": [
    "pd.value_counts(weights)"
   ]
  },
  {
   "cell_type": "code",
   "execution_count": null,
   "metadata": {},
   "outputs": [],
   "source": []
  },
  {
   "cell_type": "code",
   "execution_count": 68,
   "metadata": {},
   "outputs": [],
   "source": [
    "if ((test_md.PixelRepresentation == 0) & (test_md.RescaleIntercept >= 0)).sum() == 0:\n",
    "    weights[(train_md.PixelRepresentation == 0) & (train_md.RescaleIntercept >= 0)] = 0"
   ]
  },
  {
   "cell_type": "code",
   "execution_count": 69,
   "metadata": {},
   "outputs": [
    {
     "data": {
      "text/plain": [
       "1.0    663016\n",
       "0.0     11241\n",
       "dtype: int64"
      ]
     },
     "execution_count": 69,
     "metadata": {},
     "output_type": "execute_result"
    }
   ],
   "source": [
    "pd.value_counts(weights)"
   ]
  },
  {
   "cell_type": "code",
   "execution_count": null,
   "metadata": {},
   "outputs": [],
   "source": []
  },
  {
   "cell_type": "code",
   "execution_count": 70,
   "metadata": {},
   "outputs": [],
   "source": [
    "weights[train_md.SOPInstanceUID == 'ID_b79eed528'] = 0"
   ]
  },
  {
   "cell_type": "code",
   "execution_count": 71,
   "metadata": {},
   "outputs": [
    {
     "data": {
      "text/plain": [
       "1.0    663015\n",
       "0.0     11242\n",
       "dtype: int64"
      ]
     },
     "execution_count": 71,
     "metadata": {},
     "output_type": "execute_result"
    }
   ],
   "source": [
    "pd.value_counts(weights)"
   ]
  },
  {
   "cell_type": "code",
   "execution_count": null,
   "metadata": {},
   "outputs": [],
   "source": []
  },
  {
   "cell_type": "code",
   "execution_count": 72,
   "metadata": {},
   "outputs": [],
   "source": [
    "data_filt = data_md.loc[data_md.weights.fillna(-1) != 0]"
   ]
  },
  {
   "cell_type": "code",
   "execution_count": 73,
   "metadata": {},
   "outputs": [],
   "source": [
    "tt = pd.crosstab(data_filt.PxlMin_grp_le == 0, data_filt['any'].isnull())"
   ]
  },
  {
   "cell_type": "code",
   "execution_count": 78,
   "metadata": {},
   "outputs": [
    {
     "data": {
      "text/html": [
       "<div>\n",
       "<style scoped>\n",
       "    .dataframe tbody tr th:only-of-type {\n",
       "        vertical-align: middle;\n",
       "    }\n",
       "\n",
       "    .dataframe tbody tr th {\n",
       "        vertical-align: top;\n",
       "    }\n",
       "\n",
       "    .dataframe thead th {\n",
       "        text-align: right;\n",
       "    }\n",
       "</style>\n",
       "<table border=\"1\" class=\"dataframe\">\n",
       "  <thead>\n",
       "    <tr style=\"text-align: right;\">\n",
       "      <th>any</th>\n",
       "      <th>False</th>\n",
       "      <th>True</th>\n",
       "    </tr>\n",
       "    <tr>\n",
       "      <th>PxlMin_grp_le</th>\n",
       "      <th></th>\n",
       "      <th></th>\n",
       "    </tr>\n",
       "  </thead>\n",
       "  <tbody>\n",
       "    <tr>\n",
       "      <th>False</th>\n",
       "      <td>438744</td>\n",
       "      <td>5029</td>\n",
       "    </tr>\n",
       "    <tr>\n",
       "      <th>True</th>\n",
       "      <td>224395</td>\n",
       "      <td>73516</td>\n",
       "    </tr>\n",
       "  </tbody>\n",
       "</table>\n",
       "</div>"
      ],
      "text/plain": [
       "any             False  True \n",
       "PxlMin_grp_le               \n",
       "False          438744   5029\n",
       "True           224395  73516"
      ]
     },
     "execution_count": 78,
     "metadata": {},
     "output_type": "execute_result"
    }
   ],
   "source": [
    "tt"
   ]
  },
  {
   "cell_type": "code",
   "execution_count": 74,
   "metadata": {},
   "outputs": [],
   "source": [
    "ww = tt.loc[False,True] * tt.loc[True,False] / (tt.loc[True,True] * tt.loc[False,False])"
   ]
  },
  {
   "cell_type": "code",
   "execution_count": 75,
   "metadata": {},
   "outputs": [],
   "source": [
    "weights[(train_md.PxlMin_grp_le != 0) & (weights > 0)] = ww"
   ]
  },
  {
   "cell_type": "code",
   "execution_count": 76,
   "metadata": {},
   "outputs": [
    {
     "data": {
      "text/plain": [
       "0.034987    438621\n",
       "1.000000    224394\n",
       "0.000000     11242\n",
       "dtype: int64"
      ]
     },
     "execution_count": 76,
     "metadata": {},
     "output_type": "execute_result"
    }
   ],
   "source": [
    "pd.value_counts(weights)"
   ]
  },
  {
   "cell_type": "code",
   "execution_count": null,
   "metadata": {},
   "outputs": [],
   "source": []
  },
  {
   "cell_type": "code",
   "execution_count": 77,
   "metadata": {},
   "outputs": [],
   "source": [
    "train_md['weights'] = weights\n",
    "train_md.to_csv(PATH_WORK/'train_md.csv', index=False)\n",
    "\n",
    "pickle.dump(weights, open(PATH_WORK/'weights','wb'))"
   ]
  },
  {
   "cell_type": "code",
   "execution_count": null,
   "metadata": {},
   "outputs": [],
   "source": []
  }
 ],
 "metadata": {
  "kernelspec": {
   "display_name": "Python 3",
   "language": "python",
   "name": "python3"
  },
  "language_info": {
   "codemirror_mode": {
    "name": "ipython",
    "version": 3
   },
   "file_extension": ".py",
   "mimetype": "text/x-python",
   "name": "python",
   "nbconvert_exporter": "python",
   "pygments_lexer": "ipython3",
   "version": "3.6.8"
  }
 },
 "nbformat": 4,
 "nbformat_minor": 2
}
