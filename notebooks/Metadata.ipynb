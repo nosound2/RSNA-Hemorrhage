{
 "cells": [
  {
   "cell_type": "code",
   "execution_count": 1,
   "metadata": {},
   "outputs": [],
   "source": [
    "VERSION = 31\n",
    "CLOUD_SINGLE = True\n",
    "DATA_SMALL = False\n",
    "FOCAL_LOSS = False"
   ]
  },
  {
   "cell_type": "code",
   "execution_count": 5,
   "metadata": {},
   "outputs": [],
   "source": [
    "%run ./Code.ipynb"
   ]
  },
  {
   "cell_type": "markdown",
   "metadata": {},
   "source": [
    "# Utility"
   ]
  },
  {
   "cell_type": "code",
   "execution_count": 6,
   "metadata": {},
   "outputs": [],
   "source": [
    "def myLabelEncoder(data, col, vals, remaining_cat = True):\n",
    "    name = col+'_le'\n",
    "    enc_df = pd.DataFrame(np.arange(len(vals)), index=vals, columns = [name])\n",
    "    data = data.join(enc_df, on=col)\n",
    "\n",
    "    if remaining_cat:\n",
    "        data[name] = data[name].fillna(len(vals))\n",
    "    else:\n",
    "        assert data[name].isnull().sum() == 0\n",
    "    \n",
    "    data[name] = data[name].astype(int).astype('category')\n",
    "    assert len(data[name].unique()) == (len(vals) + remaining_cat)\n",
    "    \n",
    "    return data"
   ]
  },
  {
   "cell_type": "code",
   "execution_count": 7,
   "metadata": {},
   "outputs": [],
   "source": [
    "def myRoundEncoder(data, col, rounding, postfix):\n",
    "    name = col+postfix\n",
    "    data[name] = (((data[col]+0.0000001) % rounding) < 0.00001)\n",
    "    data[name] = data[name].astype(bool)\n",
    "    return data"
   ]
  },
  {
   "cell_type": "markdown",
   "metadata": {},
   "source": [
    "# Prepare metadata"
   ]
  },
  {
   "cell_type": "code",
   "execution_count": 66,
   "metadata": {},
   "outputs": [],
   "source": [
    "cols_info = ['PatientID','SOPInstanceUID','SeriesInstanceUID','StudyInstanceUID','pos_idx','Rows','Columns',\n",
    "             'PxlMin_zero','any_series','test','test2']\n",
    "cols_redundant = ['BitsAllocated','HighBit','WindowCenter_1_NAN','ImageOrientationPatient_0','ImageOrientationPatient_1',\n",
    "                  'ImageOrientationPatient_2','ImageOrientationPatient_3','PixelSpacing_0','Modality',\n",
    "                  'PhotometricInterpretation','SamplesPerPixel','StudyID',\n",
    "                  'ImageOrientationPatient_5_enc_1', # same as ImageOrientationPatient_4_enc_1\n",
    "                  'PixelSpacing_1_enc_1', # same as ImagePositionPatient_0_enc_1\n",
    "                 ]\n",
    "cols_consumed = ['BitsStored','PixelRepresentation','RescaleIntercept','ImageOrientationPatient',\n",
    "                 'ImageOrientationPatient_4','ImageOrientationPatient_5','ImagePositionPatient',\n",
    "                 'ImagePositionPatient_0','ImagePositionPatient_1','ImagePositionPatient_2','PixelSpacing',\n",
    "                 'RescaleSlope','WindowCenter','PixelSpacing_1','WindowCenter_0','WindowCenter_1',\n",
    "                 'WindowWidth','WindowWidth_0','WindowWidth_1']\n",
    "cols_float = ['ImageOrientationPatient_4_f','ImageOrientationPatient_5_f','ImagePositionPatient_0_f',\n",
    "              'ImagePositionPatient_1_f','ImagePositionPatient_2_f','PixelSpacing_1_f',\n",
    "              'pos_max','pos_min','pos_size','pos_idx1','pos_idx2','pos_inc1','pos_inc2',\n",
    "              'pos_range','pos_rel','pos_zeros','pos_inc_rng','PxlMin','PxlMax','PxlStd','PxlMean','SeriesPP']\n",
    "cols_bool = ['ImageOrientationPatient_4_enc_0','ImageOrientationPatient_4_enc_1',\n",
    "             'ImageOrientationPatient_5_enc_0',\n",
    "             'ImagePositionPatient_0_enc_0','ImagePositionPatient_0_enc_1',\n",
    "             'ImagePositionPatient_0_f_r1','ImagePositionPatient_0_f_r05','ImagePositionPatient_1_enc_0',\n",
    "             'ImagePositionPatient_2_f_r05','PixelSpacing_1_enc_0',\n",
    "             'pos_inc1_r1','pos_inc1_r0001','pos_inc1_enc_0','pos_inc2_enc_0','pos_inc1_enc_1','pos_inc2_enc_1']\n",
    "cols_le = ['WindowCenter_1_le','BitType_le','WindowCenter_0_le','pos_inc1_grp_le','pos_inc2_grp_le','pos_size_le',\n",
    "           'pos_zeros_le','WindowWidth_0_le','WindowWidth_1_le','PxlMin_grp_le']\n",
    "\n",
    "cols_all = cols_redundant + cols_float + cols_bool + cols_le + cols_consumed + cols_info"
   ]
  },
  {
   "cell_type": "code",
   "execution_count": 67,
   "metadata": {},
   "outputs": [],
   "source": [
    "pickle.dump((cols_le,cols_float,cols_bool), open(PATH_WORK/'covs','wb'))"
   ]
  },
  {
   "cell_type": "code",
   "execution_count": 10,
   "metadata": {},
   "outputs": [],
   "source": [
    "train_csv = pd.read_csv(PATH/'stage_2_train.csv')\n",
    "\n",
    "train_csv = train_csv.loc[~train_csv.ID.duplicated()].sort_values('ID').reset_index(drop=True)\n",
    "all_sop_ids = train_csv.ID.str.split('_').apply(lambda x: x[0]+'_'+x[1]).unique()\n",
    "train_df = pd.DataFrame(train_csv.Label.values.reshape((-1,6)), columns = all_ich)\n",
    "train_df['sop_id'] = all_sop_ids\n",
    "\n",
    "train_df.to_csv(PATH_WORK/'train_df.csv', index=False)"
   ]
  },
  {
   "cell_type": "code",
   "execution_count": 11,
   "metadata": {},
   "outputs": [],
   "source": [
    "train_md = pd.read_csv(PATH/'train_metadata.csv')\n",
    "train_md['test'] = False\n",
    "test_md = pd.read_csv(PATH/'test_metadata.csv')\n",
    "test_md['test'] = True\n",
    "data_md = pd.concat([train_md, test_md], axis=0, sort=False).reset_index(drop=True)"
   ]
  },
  {
   "cell_type": "code",
   "execution_count": 12,
   "metadata": {},
   "outputs": [],
   "source": [
    "data_md['test2'] = False\n",
    "test2_md = pd.read_csv(PATH/'test2_metadata.csv')\n",
    "test2_md['test'] = False\n",
    "test2_md['test2'] = True\n",
    "data_md = pd.concat([data_md, test2_md], axis=0, sort=False).reset_index(drop=True)"
   ]
  },
  {
   "cell_type": "code",
   "execution_count": 13,
   "metadata": {},
   "outputs": [],
   "source": [
    "data_md.columns = data_md.columns.str.replace('_',' ').str.title().str.replace(' ','').str.replace('Sop','SOP')\\\n",
    "    .str.replace('Uid','UID').str.replace('Id','ID')"
   ]
  },
  {
   "cell_type": "code",
   "execution_count": 52,
   "metadata": {},
   "outputs": [],
   "source": [
    "cc = data_md.columns.values\n",
    "cc[cc == 'Test'] = 'test'\n",
    "cc[cc == 'Test2'] = 'test2'\n",
    "data_md.columns = cc"
   ]
  },
  {
   "cell_type": "code",
   "execution_count": 14,
   "metadata": {},
   "outputs": [],
   "source": [
    "for i in range(6):\n",
    "    data_md['ImageOrientationPatient_{}'.format(i)] \\\n",
    "        = data_md['ImageOrientationPatient'].str.split('\\'').apply(lambda x: x[1+2*i])\n",
    "\n",
    "for i in range(3):\n",
    "    data_md['ImagePositionPatient_{}'.format(i)] \\\n",
    "        = data_md['ImagePositionPatient'].str.split('\\'').apply(lambda x: x[1+2*i])\n",
    "\n",
    "for i in range(2):\n",
    "    data_md['PixelSpacing_{}'.format(i)] \\\n",
    "        = data_md['PixelSpacing'].str.split('\\'').apply(lambda x: x[1+2*i])\n",
    "\n",
    "data_md['WindowCenter_0'] \\\n",
    "    = data_md['WindowCenter'].str.split('\\'').apply(lambda x: float(x[1]) if len(x) > 1 else float(x[0]))\n",
    "\n",
    "data_md['WindowCenter_1'] \\\n",
    "    = data_md['WindowCenter'].str.split('\\'').apply(lambda x: float(x[3]) if len(x) > 1 else np.nan)\n",
    "\n",
    "data_md['WindowCenter_1_NAN'] = data_md.WindowCenter_1.isnull()"
   ]
  },
  {
   "cell_type": "code",
   "execution_count": 16,
   "metadata": {},
   "outputs": [],
   "source": [
    "data_md['ImagePositionPatient_2'] = data_md['ImagePositionPatient_2'].astype(float)\n",
    "data_md = data_md.sort_values(['SeriesInstanceUID','ImagePositionPatient_2']).reset_index(drop=True)"
   ]
  },
  {
   "cell_type": "code",
   "execution_count": 17,
   "metadata": {},
   "outputs": [],
   "source": [
    "data_md['WindowWidth_0'] \\\n",
    "    = data_md['WindowWidth'].str.split('\\'').apply(lambda x: float(x[1]) if len(x) > 1 else float(x[0]))\n",
    "\n",
    "data_md['WindowWidth_1'] \\\n",
    "    = data_md['WindowWidth'].str.split('\\'').apply(lambda x: float(x[3]) if len(x) > 1 else np.nan)\n",
    "\n",
    "data_md = myLabelEncoder(data_md, 'WindowWidth_0', [80.0,150.0,100.0,135.0,120.0])\n",
    "\n",
    "data_md = myLabelEncoder(data_md, 'WindowWidth_1', [80.0,np.nan])"
   ]
  },
  {
   "cell_type": "code",
   "execution_count": 18,
   "metadata": {},
   "outputs": [],
   "source": [
    "data_md = myLabelEncoder(data_md, 'WindowCenter_1', [36.0,40.0,47.0,np.nan])"
   ]
  },
  {
   "cell_type": "code",
   "execution_count": 19,
   "metadata": {},
   "outputs": [],
   "source": [
    "data_md['BitType'] = data_md.BitsStored.astype(str) + data_md.PixelRepresentation.astype(str) \\\n",
    "    + data_md.RescaleIntercept.astype(str)\n",
    "\n",
    "data_md = myLabelEncoder(data_md, 'BitType', ['161-1024.0','120-1024.0','1210.0','1610.0'])\n",
    "\n",
    "del data_md['BitType']"
   ]
  },
  {
   "cell_type": "code",
   "execution_count": 20,
   "metadata": {},
   "outputs": [],
   "source": [
    "data_md['ImageOrientationPatient_4_f'] = data_md.ImageOrientationPatient_4.astype(float)\n",
    "\n",
    "data_md['ImageOrientationPatient_4_enc_0'] = (data_md.ImageOrientationPatient_4_f == 1)\n",
    "data_md['ImageOrientationPatient_4_enc_1'] = data_md.ImageOrientationPatient_4_f.between(0.927184,0.927185)\n",
    "\n",
    "data_md['ImageOrientationPatient_4_f'] = np.clip(data_md['ImageOrientationPatient_4_f'].values,0.85,1)\n",
    "\n",
    "data_md.loc[data_md.ImageOrientationPatient_4_enc_0 | data_md.ImageOrientationPatient_4_enc_1, \\\n",
    "            'ImageOrientationPatient_4_f'] = 0.7"
   ]
  },
  {
   "cell_type": "code",
   "execution_count": 21,
   "metadata": {},
   "outputs": [],
   "source": [
    "data_md['ImageOrientationPatient_5_f'] = data_md.ImageOrientationPatient_5.astype(float)\n",
    "\n",
    "data_md['ImageOrientationPatient_5_enc_0'] = (data_md.ImageOrientationPatient_5_f == 0)\n",
    "data_md['ImageOrientationPatient_5_enc_1'] = data_md.ImageOrientationPatient_5_f.between(-0.374608,-0.374607)\n",
    "\n",
    "data_md.loc[data_md.ImageOrientationPatient_5_enc_0 | data_md.ImageOrientationPatient_5_enc_1, \\\n",
    "            'ImageOrientationPatient_5_f'] = -0.6\n",
    "\n",
    "data_md['ImageOrientationPatient_5_f'] = np.clip(data_md['ImageOrientationPatient_5_f'].values,-0.7,0)"
   ]
  },
  {
   "cell_type": "code",
   "execution_count": 22,
   "metadata": {},
   "outputs": [],
   "source": [
    "data_md['ImagePositionPatient_0_f'] = data_md.ImagePositionPatient_0.astype(float)\n",
    "\n",
    "data_md['ImagePositionPatient_0_enc_0'] = (data_md.ImagePositionPatient_0_f == -125)\n",
    "data_md['ImagePositionPatient_0_enc_1'] = (data_md.ImagePositionPatient_0_f.between(-126.437379,-126.437377) |\n",
    "                                           data_md.ImagePositionPatient_0_f.between(-126.408876,-126.408874))\n",
    "\n",
    "data_md['ImagePositionPatient_0_f'] = np.clip(data_md['ImagePositionPatient_0_f'].values,-175,-50)\n",
    "\n",
    "data_md.loc[data_md.ImagePositionPatient_0_enc_0 | data_md.ImagePositionPatient_0_enc_1, \\\n",
    "            'ImagePositionPatient_0_f'] = -200"
   ]
  },
  {
   "cell_type": "code",
   "execution_count": 23,
   "metadata": {},
   "outputs": [],
   "source": [
    "data_md = myRoundEncoder(data_md, 'ImagePositionPatient_0_f', 1, '_r1')\n",
    "data_md = myRoundEncoder(data_md, 'ImagePositionPatient_0_f', 0.5, '_r05')"
   ]
  },
  {
   "cell_type": "code",
   "execution_count": 24,
   "metadata": {},
   "outputs": [],
   "source": [
    "data_md['ImagePositionPatient_1_f'] = data_md.ImagePositionPatient_1.astype(float)\n",
    "data_md['ImagePositionPatient_1_f'] = np.clip(data_md['ImagePositionPatient_1_f'].values,-200,100)\n",
    "data_md['ImagePositionPatient_1_enc_0'] = (data_md['ImagePositionPatient_1_f'] > -75)"
   ]
  },
  {
   "cell_type": "code",
   "execution_count": 25,
   "metadata": {},
   "outputs": [],
   "source": [
    "data_md['ImagePositionPatient_2_f'] = data_md.ImagePositionPatient_2.astype(float)\n",
    "data_md = myRoundEncoder(data_md, 'ImagePositionPatient_2_f', 0.5, '_r05')"
   ]
  },
  {
   "cell_type": "code",
   "execution_count": 26,
   "metadata": {},
   "outputs": [],
   "source": [
    "data_md['PixelSpacing_1_f'] = data_md.PixelSpacing_1.astype(float)\n",
    "\n",
    "data_md['PixelSpacing_1_enc_0'] = (data_md.PixelSpacing_1_f.between(0.488281,0.488282))\n",
    "data_md['PixelSpacing_1_enc_1'] = (data_md.PixelSpacing_1_f.between(0.494750,0.494864))\n",
    "\n",
    "data_md['PixelSpacing_1_f'] = np.clip(data_md['PixelSpacing_1_f'].values,0.3,0.7)\n",
    "\n",
    "data_md.loc[data_md.PixelSpacing_1_enc_0 | data_md.PixelSpacing_1_enc_1, 'PixelSpacing_1_f'] = 0.2"
   ]
  },
  {
   "cell_type": "code",
   "execution_count": 27,
   "metadata": {},
   "outputs": [],
   "source": [
    "data_md = myLabelEncoder(data_md, 'WindowCenter_0', [30.0,36.0,40.0,35.0,47.0,50.0])"
   ]
  },
  {
   "cell_type": "code",
   "execution_count": 28,
   "metadata": {},
   "outputs": [],
   "source": [
    "data_md['pos_max'] = data_md[['SeriesInstanceUID','ImagePositionPatient_2']]\\\n",
    "    .groupby('SeriesInstanceUID').transform(lambda x: max(x))\n",
    "data_md['pos_min'] = data_md[['SeriesInstanceUID','ImagePositionPatient_2']]\\\n",
    "    .groupby('SeriesInstanceUID').transform(lambda x: min(x))\n",
    "data_md['pos_size'] = data_md[['SeriesInstanceUID','ImagePositionPatient_2']]\\\n",
    "    .groupby('SeriesInstanceUID').transform(lambda x: len(x))"
   ]
  },
  {
   "cell_type": "code",
   "execution_count": 29,
   "metadata": {},
   "outputs": [],
   "source": [
    "data_md['pos_idx1'] = data_md[['SeriesInstanceUID','ImagePositionPatient_2']]\\\n",
    "    .groupby('SeriesInstanceUID').transform(lambda x: np.arange(len(x)))\n",
    "data_md['pos_idx'] = data_md['pos_idx1']"
   ]
  },
  {
   "cell_type": "code",
   "execution_count": 30,
   "metadata": {},
   "outputs": [],
   "source": [
    "data_md['pos_idx2'] = data_md[['SeriesInstanceUID','ImagePositionPatient_2']]\\\n",
    "    .groupby('SeriesInstanceUID').transform(lambda x: np.arange(len(x))[::-1])"
   ]
  },
  {
   "cell_type": "code",
   "execution_count": 31,
   "metadata": {},
   "outputs": [],
   "source": [
    "data_md['pos_inc1'] = data_md[['SeriesInstanceUID','ImagePositionPatient_2']]\\\n",
    "    .groupby('SeriesInstanceUID').transform(lambda x: np.concatenate([[0],np.diff(x.values)]))\n",
    "data_md['pos_inc2'] = data_md[['SeriesInstanceUID','ImagePositionPatient_2']]\\\n",
    "    .groupby('SeriesInstanceUID').transform(lambda x: np.concatenate([np.diff(x.values),[0]]))"
   ]
  },
  {
   "cell_type": "code",
   "execution_count": 32,
   "metadata": {
    "scrolled": true
   },
   "outputs": [],
   "source": [
    "data_md['pos_inc1_grp'] = pd.cut(data_md.pos_inc1, [-1,2.0,3.5,4.5,1000], labels=np.arange(4))\n",
    "data_md = myLabelEncoder(data_md, 'pos_inc1_grp', [0,1,2,3], remaining_cat=False)\n",
    "\n",
    "del data_md['pos_inc1_grp']\n",
    "\n",
    "data_md['pos_inc2_grp'] = pd.cut(data_md.pos_inc2, [-1,2.0,3.5,4.5,1000], labels=np.arange(4))\n",
    "data_md = myLabelEncoder(data_md, 'pos_inc2_grp', [0,1,2,3], remaining_cat=False)\n",
    "\n",
    "del data_md['pos_inc2_grp']"
   ]
  },
  {
   "cell_type": "code",
   "execution_count": 33,
   "metadata": {},
   "outputs": [],
   "source": [
    "data_md = myRoundEncoder(data_md, 'pos_inc1', 1, '_r1')\n",
    "data_md = myRoundEncoder(data_md, 'pos_inc1', 0.001, '_r0001')"
   ]
  },
  {
   "cell_type": "code",
   "execution_count": 34,
   "metadata": {},
   "outputs": [],
   "source": [
    "data_md['pos_inc1_enc_0'] = (data_md.pos_inc1 == 0)\n",
    "data_md['pos_inc2_enc_0'] = (data_md.pos_inc2 == 0)\n",
    "data_md['pos_inc1_enc_1'] = (data_md.pos_inc1 == 5)\n",
    "data_md['pos_inc2_enc_1'] = (data_md.pos_inc2 == 5)\n",
    "\n",
    "data_md['pos_inc1'] = np.clip(data_md['pos_inc1'].values,0,7)\n",
    "data_md['pos_inc2'] = np.clip(data_md['pos_inc2'].values,0,7)\n",
    "\n",
    "data_md.loc[data_md.pos_inc1_enc_0 | data_md.pos_inc1_enc_1, 'pos_inc1'] = -1\n",
    "data_md.loc[data_md.pos_inc2_enc_0 | data_md.pos_inc2_enc_1, 'pos_inc2'] = -1"
   ]
  },
  {
   "cell_type": "code",
   "execution_count": 35,
   "metadata": {},
   "outputs": [],
   "source": [
    "data_md = myLabelEncoder(data_md, 'pos_size', [32,40,36,28,34,30,35,33,38,44])"
   ]
  },
  {
   "cell_type": "code",
   "execution_count": 36,
   "metadata": {},
   "outputs": [],
   "source": [
    "data_md['pos_range'] = (data_md['pos_max'] - data_md['pos_min'])\n",
    "data_md['pos_rel'] = ((data_md['ImagePositionPatient_2'] - data_md['pos_min'])/data_md['pos_range'])\\\n",
    "    .where(data_md['pos_range'] > 0, 0.5)\n",
    "\n",
    "data_md['pos_zeros'] = data_md[['SeriesInstanceUID','ImagePositionPatient_2']]\\\n",
    "    .groupby('SeriesInstanceUID').transform(lambda x: (np.diff(x.values) <= 0.001).sum())\n",
    "\n",
    "data_md['pos_inc_rng'] = data_md[['SeriesInstanceUID','ImagePositionPatient_2']]\\\n",
    "    .groupby('SeriesInstanceUID').transform(lambda x: np.diff(x.values)[np.diff(x.values) > 0.1].max() /\n",
    "                                                      np.diff(x.values)[np.diff(x.values) > 0.1].min())\n",
    "\n",
    "data_md['pos_inc_rng'] = np.clip(data_md['pos_inc_rng'],0,3)"
   ]
  },
  {
   "cell_type": "code",
   "execution_count": 37,
   "metadata": {},
   "outputs": [],
   "source": [
    "data_md['pos_min'] = np.clip(data_md['pos_min'].values,-500,500)\n",
    "data_md['pos_max'] = np.clip(data_md['pos_max'].values,-500,500)"
   ]
  },
  {
   "cell_type": "code",
   "execution_count": 38,
   "metadata": {},
   "outputs": [],
   "source": [
    "data_md['pos_range'] = np.clip(data_md['pos_range'].values,100,250)\n",
    "\n",
    "data_md = myLabelEncoder(data_md, 'pos_zeros', [0,4,8])"
   ]
  },
  {
   "cell_type": "code",
   "execution_count": 39,
   "metadata": {},
   "outputs": [],
   "source": [
    "data_md['PxlStd'] = np.clip(data_md['PxlStd'].values,0,1500)\n",
    "data_md['PxlMean'] = np.clip(data_md['PxlMean'].values,-1900,-100)\n",
    "data_md['PxlMin'] = np.clip(data_md['PxlMin'].values,-3500,-1000)\n",
    "data_md['PxlMax'] = np.clip(data_md['PxlMax'].values,-1000,3500)"
   ]
  },
  {
   "cell_type": "code",
   "execution_count": 40,
   "metadata": {},
   "outputs": [],
   "source": [
    "data_md['PxlMin_grp'] = pd.cut(data_md.PxlMin, [-5000,-2500,-1500,2000], labels=np.arange(3))\n",
    "data_md = myLabelEncoder(data_md, 'PxlMin_grp', [0,1,2], remaining_cat=False)\n",
    "del data_md['PxlMin_grp']"
   ]
  },
  {
   "cell_type": "code",
   "execution_count": null,
   "metadata": {},
   "outputs": [],
   "source": []
  },
  {
   "cell_type": "code",
   "execution_count": 41,
   "metadata": {},
   "outputs": [],
   "source": [
    "cnts = data_md[['SeriesInstanceUID','PxlMin_grp_le']].groupby('SeriesInstanceUID').agg(lambda x: (x == 0).sum() > 10)\n",
    "cnts.columns = ['PxlMin_zero']\n",
    "data_md = data_md.join(cnts, on = 'SeriesInstanceUID')"
   ]
  },
  {
   "cell_type": "code",
   "execution_count": 42,
   "metadata": {},
   "outputs": [],
   "source": [
    "data_md = data_md.join(train_df.set_index('sop_id'), on = 'SOPInstanceUID')"
   ]
  },
  {
   "cell_type": "code",
   "execution_count": 59,
   "metadata": {},
   "outputs": [],
   "source": [
    "assert data_md['any'].isnull().sum() == 121232"
   ]
  },
  {
   "cell_type": "code",
   "execution_count": 61,
   "metadata": {},
   "outputs": [
    {
     "data": {
      "text/html": [
       "<div>\n",
       "<style scoped>\n",
       "    .dataframe tbody tr th:only-of-type {\n",
       "        vertical-align: middle;\n",
       "    }\n",
       "\n",
       "    .dataframe tbody tr th {\n",
       "        vertical-align: top;\n",
       "    }\n",
       "\n",
       "    .dataframe thead tr th {\n",
       "        text-align: left;\n",
       "    }\n",
       "\n",
       "    .dataframe thead tr:last-of-type th {\n",
       "        text-align: right;\n",
       "    }\n",
       "</style>\n",
       "<table border=\"1\" class=\"dataframe\">\n",
       "  <thead>\n",
       "    <tr>\n",
       "      <th></th>\n",
       "      <th>test</th>\n",
       "      <th colspan=\"2\" halign=\"left\">False</th>\n",
       "      <th>True</th>\n",
       "    </tr>\n",
       "    <tr>\n",
       "      <th></th>\n",
       "      <th>test2</th>\n",
       "      <th>False</th>\n",
       "      <th>True</th>\n",
       "      <th>False</th>\n",
       "    </tr>\n",
       "    <tr>\n",
       "      <th>PxlMin_grp_le</th>\n",
       "      <th>PxlMin_zero</th>\n",
       "      <th></th>\n",
       "      <th></th>\n",
       "      <th></th>\n",
       "    </tr>\n",
       "  </thead>\n",
       "  <tbody>\n",
       "    <tr>\n",
       "      <th rowspan=\"2\" valign=\"top\">0</th>\n",
       "      <th>False</th>\n",
       "      <td>126</td>\n",
       "      <td>17</td>\n",
       "      <td>4</td>\n",
       "    </tr>\n",
       "    <tr>\n",
       "      <th>True</th>\n",
       "      <td>227189</td>\n",
       "      <td>37123</td>\n",
       "      <td>73512</td>\n",
       "    </tr>\n",
       "    <tr>\n",
       "      <th>1</th>\n",
       "      <th>False</th>\n",
       "      <td>83433</td>\n",
       "      <td>16840</td>\n",
       "      <td>1095</td>\n",
       "    </tr>\n",
       "    <tr>\n",
       "      <th>2</th>\n",
       "      <th>False</th>\n",
       "      <td>363509</td>\n",
       "      <td>67252</td>\n",
       "      <td>3934</td>\n",
       "    </tr>\n",
       "  </tbody>\n",
       "</table>\n",
       "</div>"
      ],
      "text/plain": [
       "test                        False         True \n",
       "test2                       False  True   False\n",
       "PxlMin_grp_le PxlMin_zero                      \n",
       "0             False           126     17      4\n",
       "              True         227189  37123  73512\n",
       "1             False         83433  16840   1095\n",
       "2             False        363509  67252   3934"
      ]
     },
     "execution_count": 61,
     "metadata": {},
     "output_type": "execute_result"
    }
   ],
   "source": [
    "pd.crosstab([data_md.PxlMin_grp_le, data_md.PxlMin_zero],\n",
    "             [data_md.test, data_md.test2])"
   ]
  },
  {
   "cell_type": "code",
   "execution_count": null,
   "metadata": {},
   "outputs": [],
   "source": []
  },
  {
   "cell_type": "code",
   "execution_count": 62,
   "metadata": {},
   "outputs": [],
   "source": [
    "cnts = data_md[['SeriesInstanceUID','any']].groupby('SeriesInstanceUID').agg(lambda x: x.sum() > 0)\n",
    "cnts.columns = ['any_series']\n",
    "data_md = data_md.join(cnts, on = 'SeriesInstanceUID')"
   ]
  },
  {
   "cell_type": "code",
   "execution_count": 63,
   "metadata": {},
   "outputs": [
    {
     "data": {
      "text/plain": [
       "False    573100\n",
       "True     300934\n",
       "Name: any_series, dtype: int64"
      ]
     },
     "execution_count": 63,
     "metadata": {},
     "output_type": "execute_result"
    }
   ],
   "source": [
    "data_md.any_series.value_counts()"
   ]
  },
  {
   "cell_type": "code",
   "execution_count": null,
   "metadata": {},
   "outputs": [],
   "source": []
  },
  {
   "cell_type": "code",
   "execution_count": 64,
   "metadata": {},
   "outputs": [],
   "source": [
    "cnts = data_md[['SeriesInstanceUID','PatientID']].groupby('PatientID').agg(lambda x: x.nunique())\n",
    "cnts.columns = ['SeriesPP']\n",
    "data_md = data_md.join(cnts, on='PatientID')"
   ]
  },
  {
   "cell_type": "code",
   "execution_count": null,
   "metadata": {},
   "outputs": [],
   "source": []
  },
  {
   "cell_type": "code",
   "execution_count": 68,
   "metadata": {},
   "outputs": [],
   "source": [
    "assert len([col for col in cols_all if col not in data_md.columns]) == 0\n",
    "assert len([col for col in data_md.columns if col not in (cols_all + all_ich)]) == 0"
   ]
  },
  {
   "cell_type": "code",
   "execution_count": null,
   "metadata": {},
   "outputs": [],
   "source": []
  },
  {
   "cell_type": "code",
   "execution_count": 69,
   "metadata": {},
   "outputs": [],
   "source": [
    "data_md.to_csv(PATH_WORK/'data_md.csv', index=False)"
   ]
  },
  {
   "cell_type": "code",
   "execution_count": null,
   "metadata": {},
   "outputs": [],
   "source": []
  },
  {
   "cell_type": "code",
   "execution_count": 70,
   "metadata": {},
   "outputs": [],
   "source": [
    "for col in (cols_float + cols_bool):\n",
    "    data_md[col] = data_md[col].astype(float)\n",
    "\n",
    "#for col in cols_cat:\n",
    "#    data_md[col] = pd.factorize(data_md[col])[0]\n",
    "#    data_md[col] = data_md[col].astype('category')"
   ]
  },
  {
   "cell_type": "code",
   "execution_count": null,
   "metadata": {},
   "outputs": [],
   "source": []
  },
  {
   "cell_type": "code",
   "execution_count": 71,
   "metadata": {},
   "outputs": [],
   "source": [
    "M = 4\n",
    "data_md['ImageOrientationPatient_4_f'] = M*(data_md['ImageOrientationPatient_4_f'] - 0.8)/0.3\n",
    "data_md['ImageOrientationPatient_5_f'] = M*(data_md['ImageOrientationPatient_5_f'] + 0.5)/0.6\n",
    "data_md['ImagePositionPatient_0_f'] =    M*(data_md['ImagePositionPatient_0_f'] + 173)/150\n",
    "data_md['ImagePositionPatient_1_f'] =    M*(data_md['ImagePositionPatient_1_f'] + 65)/300\n",
    "data_md['ImagePositionPatient_2_f'] =    M*(data_md['ImagePositionPatient_2_f'] - 167)/2792\n",
    "data_md['PixelSpacing_1_f'] =            M*(data_md['PixelSpacing_1_f'] - 0.26)/0.5\n",
    "data_md['pos_max'] =                     M*(data_md['pos_max'])/1000\n",
    "data_md['pos_min'] =                     M*(data_md['pos_min'])/1000\n",
    "data_md['pos_size'] =                    M*(data_md['pos_size'] - 35)/40\n",
    "data_md['pos_idx1'] =                    M*(data_md['pos_idx1'] - 17)/59\n",
    "data_md['pos_idx2'] =                    M*(data_md['pos_idx2'] - 17)/59\n",
    "data_md['pos_inc1'] =                    M*(data_md['pos_inc1'] - 2)/8\n",
    "data_md['pos_inc2'] =                    M*(data_md['pos_inc2'] - 2)/8\n",
    "data_md['pos_range'] =                   M*(data_md['pos_range'] - 165)/150\n",
    "data_md['pos_rel'] =                     M*(data_md['pos_rel'] - 0.5)/1.0\n",
    "data_md['pos_zeros'] =                   M*(data_md['pos_zeros'])/10\n",
    "data_md['pos_inc_rng'] =                 M*(data_md['pos_inc_rng'] - 1.3)/2.0\n",
    "\n",
    "data_md['PxlMin'] =                      M*(data_md['PxlMin'] + 2000)/3000\n",
    "data_md['PxlMax'] =                      M*(data_md['PxlMax'] - 1500)/3000\n",
    "data_md['PxlMean'] =                     M*(data_md['PxlMean'] + 800)/1000\n",
    "data_md['PxlStd'] =                      M*(data_md['PxlStd'] - 800)/1000\n",
    "data_md['SeriesPP'] =                    (data_md['SeriesPP'] - 2)/2"
   ]
  },
  {
   "cell_type": "code",
   "execution_count": null,
   "metadata": {},
   "outputs": [],
   "source": []
  },
  {
   "cell_type": "code",
   "execution_count": 72,
   "metadata": {
    "scrolled": true
   },
   "outputs": [
    {
     "data": {
      "text/plain": [
       "False    795489\n",
       "True      78545\n",
       "Name: test, dtype: int64"
      ]
     },
     "execution_count": 72,
     "metadata": {},
     "output_type": "execute_result"
    }
   ],
   "source": [
    "data_md.test.value_counts()"
   ]
  },
  {
   "cell_type": "code",
   "execution_count": 75,
   "metadata": {},
   "outputs": [],
   "source": [
    "train_md = data_md.loc[~data_md.test & ~data_md.test2].copy().reset_index(drop=True)\n",
    "test_md = data_md.loc[data_md.test].copy().reset_index(drop=True)\n",
    "test2_md = data_md.loc[data_md.test2].copy().reset_index(drop=True)\n",
    "\n",
    "for col in all_ich:\n",
    "    train_md[col] = train_md[col].astype(int)\n",
    "    test_md[col] = test_md[col].astype(int)\n",
    "\n",
    "train_md.to_csv(PATH_WORK/'train_md.csv', index=False)\n",
    "test_md.to_csv(PATH_WORK/'test_md.csv', index=False)\n",
    "test2_md.to_csv(PATH_WORK/'test2_md.csv', index=False)"
   ]
  },
  {
   "cell_type": "code",
   "execution_count": 58,
   "metadata": {},
   "outputs": [],
   "source": [
    "test_md = pd.read_csv(PATH_WORK/'test_md.csv')\n",
    "test2_md = pd.read_csv(PATH_WORK/'test2_md.csv')\n",
    "train_md = pd.read_csv(PATH_WORK/'train_md.csv')"
   ]
  },
  {
   "cell_type": "code",
   "execution_count": 76,
   "metadata": {},
   "outputs": [],
   "source": [
    "data_md = pd.read_csv(PATH_WORK/'data_md.csv')"
   ]
  },
  {
   "cell_type": "code",
   "execution_count": null,
   "metadata": {},
   "outputs": [],
   "source": []
  },
  {
   "cell_type": "code",
   "execution_count": null,
   "metadata": {},
   "outputs": [],
   "source": []
  },
  {
   "cell_type": "markdown",
   "metadata": {},
   "source": [
    "# Analysis"
   ]
  },
  {
   "cell_type": "code",
   "execution_count": 77,
   "metadata": {},
   "outputs": [
    {
     "name": "stdout",
     "output_type": "stream",
     "text": [
      "WindowCenter_1_le 5\n",
      "BitType_le 5\n",
      "WindowCenter_0_le 7\n",
      "pos_inc1_grp_le 4\n",
      "pos_inc2_grp_le 4\n",
      "pos_size_le 11\n",
      "pos_zeros_le 4\n",
      "WindowWidth_0_le 6\n",
      "WindowWidth_1_le 3\n",
      "PxlMin_grp_le 3\n"
     ]
    }
   ],
   "source": [
    "for col in cols_le:\n",
    "    print(col, len(data_md[col].unique()))"
   ]
  },
  {
   "cell_type": "code",
   "execution_count": null,
   "metadata": {},
   "outputs": [],
   "source": []
  },
  {
   "cell_type": "code",
   "execution_count": 78,
   "metadata": {},
   "outputs": [
    {
     "data": {
      "text/plain": [
       "ImageOrientationPatient_4_f    0.058563\n",
       "ImageOrientationPatient_5_f    0.222398\n",
       "ImagePositionPatient_0_f       0.048668\n",
       "ImagePositionPatient_1_f       0.066942\n",
       "ImagePositionPatient_2_f       0.010251\n",
       "PixelSpacing_1_f               0.069438\n",
       "pos_max                        0.880705\n",
       "pos_min                        0.261473\n",
       "pos_size                       0.024645\n",
       "pos_idx1                       0.008354\n",
       "pos_idx2                       0.008354\n",
       "pos_inc1                       0.030327\n",
       "pos_inc2                       0.030327\n",
       "pos_range                      0.013157\n",
       "pos_rel                       -0.057270\n",
       "pos_zeros                      0.024279\n",
       "pos_inc_rng                   -0.080632\n",
       "PxlMin                         0.236361\n",
       "PxlMax                         0.149736\n",
       "PxlStd                        -0.032196\n",
       "PxlMean                        0.124001\n",
       "SeriesPP                      -0.250615\n",
       "dtype: float64"
      ]
     },
     "execution_count": 78,
     "metadata": {},
     "output_type": "execute_result"
    }
   ],
   "source": [
    "train_md[cols_float].mean()"
   ]
  },
  {
   "cell_type": "code",
   "execution_count": 79,
   "metadata": {},
   "outputs": [
    {
     "data": {
      "text/plain": [
       "ImageOrientationPatient_4_f    1.693531\n",
       "ImageOrientationPatient_5_f    1.159401\n",
       "ImagePositionPatient_0_f       1.069924\n",
       "ImagePositionPatient_1_f       0.866594\n",
       "ImagePositionPatient_2_f       0.367141\n",
       "PixelSpacing_1_f               0.915759\n",
       "pos_max                        0.468271\n",
       "pos_min                        0.581765\n",
       "pos_size                       0.536172\n",
       "pos_idx1                       0.720769\n",
       "pos_idx2                       0.720769\n",
       "pos_inc1                       1.502420\n",
       "pos_inc2                       1.502420\n",
       "pos_range                      0.489795\n",
       "pos_rel                        1.198624\n",
       "pos_zeros                      0.361715\n",
       "pos_inc_rng                    1.106501\n",
       "PxlMin                         1.222550\n",
       "PxlMax                         0.713566\n",
       "PxlStd                         1.243883\n",
       "PxlMean                        1.049480\n",
       "SeriesPP                       0.680281\n",
       "dtype: float64"
      ]
     },
     "execution_count": 79,
     "metadata": {},
     "output_type": "execute_result"
    }
   ],
   "source": [
    "train_md[cols_float].std()"
   ]
  },
  {
   "cell_type": "code",
   "execution_count": 80,
   "metadata": {},
   "outputs": [],
   "source": [
    "cnts = data_md[['SeriesInstanceUID'] + cols_bool]\\\n",
    "    .groupby('SeriesInstanceUID').agg(lambda x: len(x.unique()))"
   ]
  },
  {
   "cell_type": "code",
   "execution_count": 81,
   "metadata": {},
   "outputs": [
    {
     "data": {
      "text/plain": [
       "ImageOrientationPatient_4_enc_0    1.000158\n",
       "ImageOrientationPatient_4_enc_1    1.000158\n",
       "ImageOrientationPatient_5_enc_0    1.000158\n",
       "ImagePositionPatient_0_enc_0       1.000119\n",
       "ImagePositionPatient_0_enc_1       1.000000\n",
       "ImagePositionPatient_0_f_r1        1.000119\n",
       "ImagePositionPatient_0_f_r05       1.000119\n",
       "ImagePositionPatient_1_enc_0       1.000079\n",
       "ImagePositionPatient_2_f_r05       1.024939\n",
       "PixelSpacing_1_enc_0               1.000040\n",
       "pos_inc1_r1                        1.665268\n",
       "pos_inc1_r0001                     1.428984\n",
       "pos_inc1_enc_0                     2.000000\n",
       "pos_inc2_enc_0                     2.000000\n",
       "pos_inc1_enc_1                     1.435555\n",
       "pos_inc2_enc_1                     1.435555\n",
       "dtype: float64"
      ]
     },
     "execution_count": 81,
     "metadata": {},
     "output_type": "execute_result"
    }
   ],
   "source": [
    "cnts.sum()/cnts.shape[0]"
   ]
  },
  {
   "cell_type": "code",
   "execution_count": 82,
   "metadata": {},
   "outputs": [],
   "source": [
    "cnts = data_md[['SeriesInstanceUID'] + cols_le]\\\n",
    "    .groupby('SeriesInstanceUID').agg(lambda x: len(x.unique()))"
   ]
  },
  {
   "cell_type": "code",
   "execution_count": 83,
   "metadata": {},
   "outputs": [
    {
     "data": {
      "text/plain": [
       "WindowCenter_1_le    1.000000\n",
       "BitType_le           1.000040\n",
       "WindowCenter_0_le    1.001742\n",
       "pos_inc1_grp_le      2.196105\n",
       "pos_inc2_grp_le      2.196105\n",
       "pos_size_le          1.000000\n",
       "pos_zeros_le         1.000000\n",
       "WindowWidth_0_le     1.023276\n",
       "WindowWidth_1_le     1.000000\n",
       "PxlMin_grp_le        1.005621\n",
       "dtype: float64"
      ]
     },
     "execution_count": 83,
     "metadata": {},
     "output_type": "execute_result"
    }
   ],
   "source": [
    "cnts.sum()/cnts.shape[0]"
   ]
  },
  {
   "cell_type": "code",
   "execution_count": 84,
   "metadata": {},
   "outputs": [
    {
     "data": {
      "text/plain": [
       "1    25120\n",
       "2      142\n",
       "Name: PxlMin_grp_le, dtype: int64"
      ]
     },
     "execution_count": 84,
     "metadata": {},
     "output_type": "execute_result"
    }
   ],
   "source": [
    "cnts.PxlMin_grp_le.value_counts()"
   ]
  },
  {
   "cell_type": "code",
   "execution_count": null,
   "metadata": {},
   "outputs": [],
   "source": []
  },
  {
   "cell_type": "code",
   "execution_count": 85,
   "metadata": {},
   "outputs": [],
   "source": [
    "significant_cols = []"
   ]
  },
  {
   "cell_type": "code",
   "execution_count": 86,
   "metadata": {
    "scrolled": true
   },
   "outputs": [
    {
     "data": {
      "image/png": "[encoded data removed]",
      "text/plain": [
       "<Figure size 1728x2160 with 21 Axes>"
      ]
     },
     "metadata": {
      "needs_background": "light"
     },
     "output_type": "display_data"
    }
   ],
   "source": [
    "fig, axes = plt.subplots(7, 3, figsize=(24, 30))\n",
    "\n",
    "for i, ax in enumerate(axes.flatten()):\n",
    "    if i >= len(cols_float): continue\n",
    "    col = cols_float[i]\n",
    "    a = ax.hist(train_md[col], bins=100, density=True, alpha=0.5)\n",
    "    a = ax.hist(test_md[col], bins=100, density=True, alpha=0.5)\n",
    "    ks = ks_2samp(train_md[col].values, test_md[col].values)\n",
    "    ax.set_title(col + (' IMPORTANT' if col in significant_cols else '') + ' ks {:.4f}'.format(ks.statistic))"
   ]
  },
  {
   "cell_type": "code",
   "execution_count": 87,
   "metadata": {
    "scrolled": true
   },
   "outputs": [
    {
     "data": {
      "image/png": "[encoded data removed]",
      "text/plain": [
       "<Figure size 1728x2160 with 21 Axes>"
      ]
     },
     "metadata": {
      "needs_background": "light"
     },
     "output_type": "display_data"
    }
   ],
   "source": [
    "fig, axes = plt.subplots(7, 3, figsize=(24, 30))\n",
    "\n",
    "for i, ax in enumerate(axes.flatten()):\n",
    "    if i >= len(cols_float): continue\n",
    "    col = cols_float[i]\n",
    "    a = ax.hist(train_md[col], bins=100, density=True, alpha=0.5)\n",
    "    a = ax.hist(test2_md[col], bins=100, density=True, alpha=0.5)\n",
    "    ks = ks_2samp(train_md[col].values, test2_md[col].values)\n",
    "    ax.set_title(col + (' IMPORTANT' if col in significant_cols else '') + ' ks {:.4f}'.format(ks.statistic))"
   ]
  },
  {
   "cell_type": "code",
   "execution_count": 88,
   "metadata": {
    "scrolled": true
   },
   "outputs": [
    {
     "name": "stdout",
     "output_type": "stream",
     "text": [
      "any                 False  True \n",
      "WindowCenter_1_le               \n",
      "0                  250309  44497\n",
      "1                   71879  13086\n",
      "2                   10411   2380\n",
      "3                  417047  60554\n",
      "4                    3156    715\n",
      "any          False  True \n",
      "BitType_le               \n",
      "0           414096  59958\n",
      "1           326639  58793\n",
      "2             2312    777\n",
      "3             2951    596\n",
      "4             6804   1108\n",
      "any                 False  True \n",
      "WindowCenter_0_le               \n",
      "0                  282676  35234\n",
      "1                  250309  44497\n",
      "2                  153344  29149\n",
      "3                   48586   8214\n",
      "4                   10377   2380\n",
      "5                    3957    766\n",
      "6                    3553    992\n",
      "any               False   True \n",
      "pos_inc1_grp_le                \n",
      "0                 28873    4410\n",
      "1                 66891    8446\n",
      "2                  7817    1474\n",
      "3                649221  106902\n",
      "any               False   True \n",
      "pos_inc2_grp_le                \n",
      "0                 28873    4410\n",
      "1                 66891    8446\n",
      "2                  7817    1474\n",
      "3                649221  106902\n",
      "any           False  True \n",
      "pos_size_le               \n",
      "0            178368  28800\n",
      "1            100880  14600\n",
      "2             87984  13248\n",
      "3             62104   9184\n",
      "4             52394   9690\n",
      "5             34110   6360\n",
      "6             32585   5915\n",
      "7             30624   5247\n",
      "8             26866   4104\n",
      "9             26180   3520\n",
      "10           120707  20564\n",
      "any            False   True \n",
      "pos_zeros_le                \n",
      "0             746570  120426\n",
      "1               1186     172\n",
      "2               1464      72\n",
      "3               3582     562\n",
      "any                False  True \n",
      "WindowWidth_0_le               \n",
      "0                 613938  94907\n",
      "1                  64848  13244\n",
      "2                  34375   4945\n",
      "3                  32003   6636\n",
      "4                   2159    150\n",
      "5                   5479   1350\n",
      "any                False  True \n",
      "WindowWidth_1_le               \n",
      "0                 332774  59892\n",
      "1                 417047  60554\n",
      "2                   2981    786\n",
      "any             False  True \n",
      "PxlMin_grp_le               \n",
      "0              300831  37140\n",
      "1               84528  16840\n",
      "2              367443  67252\n"
     ]
    }
   ],
   "source": [
    "for col in cols_le:\n",
    "    print(pd.crosstab(data_md[col], data_md['any'].isnull()))"
   ]
  },
  {
   "cell_type": "code",
   "execution_count": 89,
   "metadata": {
    "scrolled": true
   },
   "outputs": [
    {
     "data": {
      "text/html": [
       "<div>\n",
       "<style scoped>\n",
       "    .dataframe tbody tr th:only-of-type {\n",
       "        vertical-align: middle;\n",
       "    }\n",
       "\n",
       "    .dataframe tbody tr th {\n",
       "        vertical-align: top;\n",
       "    }\n",
       "\n",
       "    .dataframe thead th {\n",
       "        text-align: right;\n",
       "    }\n",
       "</style>\n",
       "<table border=\"1\" class=\"dataframe\">\n",
       "  <thead>\n",
       "    <tr style=\"text-align: right;\">\n",
       "      <th></th>\n",
       "      <th></th>\n",
       "      <th>any</th>\n",
       "      <th>False</th>\n",
       "      <th>True</th>\n",
       "    </tr>\n",
       "    <tr>\n",
       "      <th>BitsStored</th>\n",
       "      <th>PixelRepresentation</th>\n",
       "      <th>RescaleIntercept</th>\n",
       "      <th></th>\n",
       "      <th></th>\n",
       "    </tr>\n",
       "  </thead>\n",
       "  <tbody>\n",
       "    <tr>\n",
       "      <th rowspan=\"5\" valign=\"top\">12</th>\n",
       "      <th rowspan=\"4\" valign=\"top\">0</th>\n",
       "      <th>-1024.0</th>\n",
       "      <td>326639</td>\n",
       "      <td>58793</td>\n",
       "    </tr>\n",
       "    <tr>\n",
       "      <th>-1000.0</th>\n",
       "      <td>6681</td>\n",
       "      <td>1108</td>\n",
       "    </tr>\n",
       "    <tr>\n",
       "      <th>0.0</th>\n",
       "      <td>73</td>\n",
       "      <td>0</td>\n",
       "    </tr>\n",
       "    <tr>\n",
       "      <th>1.0</th>\n",
       "      <td>50</td>\n",
       "      <td>0</td>\n",
       "    </tr>\n",
       "    <tr>\n",
       "      <th>1</th>\n",
       "      <th>0.0</th>\n",
       "      <td>2312</td>\n",
       "      <td>777</td>\n",
       "    </tr>\n",
       "    <tr>\n",
       "      <th rowspan=\"2\" valign=\"top\">16</th>\n",
       "      <th rowspan=\"2\" valign=\"top\">1</th>\n",
       "      <th>-1024.0</th>\n",
       "      <td>414096</td>\n",
       "      <td>59958</td>\n",
       "    </tr>\n",
       "    <tr>\n",
       "      <th>0.0</th>\n",
       "      <td>2951</td>\n",
       "      <td>596</td>\n",
       "    </tr>\n",
       "  </tbody>\n",
       "</table>\n",
       "</div>"
      ],
      "text/plain": [
       "any                                               False  True \n",
       "BitsStored PixelRepresentation RescaleIntercept               \n",
       "12         0                   -1024.0           326639  58793\n",
       "                               -1000.0             6681   1108\n",
       "                                0.0                  73      0\n",
       "                                1.0                  50      0\n",
       "           1                    0.0                2312    777\n",
       "16         1                   -1024.0           414096  59958\n",
       "                                0.0                2951    596"
      ]
     },
     "execution_count": 89,
     "metadata": {},
     "output_type": "execute_result"
    }
   ],
   "source": [
    "pd.crosstab([data_md.BitsStored, data_md.PixelRepresentation, data_md.RescaleIntercept],\n",
    "             data_md['any'].isnull())"
   ]
  },
  {
   "cell_type": "code",
   "execution_count": 90,
   "metadata": {
    "scrolled": true
   },
   "outputs": [
    {
     "data": {
      "text/html": [
       "<div>\n",
       "<style scoped>\n",
       "    .dataframe tbody tr th:only-of-type {\n",
       "        vertical-align: middle;\n",
       "    }\n",
       "\n",
       "    .dataframe tbody tr th {\n",
       "        vertical-align: top;\n",
       "    }\n",
       "\n",
       "    .dataframe thead th {\n",
       "        text-align: right;\n",
       "    }\n",
       "</style>\n",
       "<table border=\"1\" class=\"dataframe\">\n",
       "  <thead>\n",
       "    <tr style=\"text-align: right;\">\n",
       "      <th>any</th>\n",
       "      <th>0</th>\n",
       "      <th>1</th>\n",
       "    </tr>\n",
       "    <tr>\n",
       "      <th>row_0</th>\n",
       "      <th></th>\n",
       "      <th></th>\n",
       "    </tr>\n",
       "  </thead>\n",
       "  <tbody>\n",
       "    <tr>\n",
       "      <th>0.0</th>\n",
       "      <td>536963</td>\n",
       "      <td>96762</td>\n",
       "    </tr>\n",
       "    <tr>\n",
       "      <th>1.0</th>\n",
       "      <td>40128</td>\n",
       "      <td>340</td>\n",
       "    </tr>\n",
       "    <tr>\n",
       "      <th>2.0</th>\n",
       "      <td>63</td>\n",
       "      <td>1</td>\n",
       "    </tr>\n",
       "  </tbody>\n",
       "</table>\n",
       "</div>"
      ],
      "text/plain": [
       "any         0      1\n",
       "row_0               \n",
       "0.0    536963  96762\n",
       "1.0     40128    340\n",
       "2.0        63      1"
      ]
     },
     "execution_count": 90,
     "metadata": {},
     "output_type": "execute_result"
    }
   ],
   "source": [
    "pd.crosstab([train_md.pos_inc2_enc_0 + train_md.pos_inc1_enc_0],\n",
    "             train_md['any'])"
   ]
  },
  {
   "cell_type": "code",
   "execution_count": 91,
   "metadata": {
    "scrolled": true
   },
   "outputs": [
    {
     "data": {
      "text/plain": [
       "array([[ 1.        , -0.09758383],\n",
       "       [-0.09758383,  1.        ]])"
      ]
     },
     "execution_count": 91,
     "metadata": {},
     "output_type": "execute_result"
    }
   ],
   "source": [
    "np.corrcoef(train_md['any'], train_md.pos_inc2_enc_0 + train_md.pos_inc1_enc_0)"
   ]
  },
  {
   "cell_type": "code",
   "execution_count": 92,
   "metadata": {},
   "outputs": [],
   "source": [
    "bins = data_md.PxlStd.min() + np.arange(301)*(data_md.PxlStd.max() - data_md.PxlStd.min())/300"
   ]
  },
  {
   "cell_type": "code",
   "execution_count": 93,
   "metadata": {},
   "outputs": [
    {
     "data": {
      "image/png": "[encoded data removed]",
      "text/plain": [
       "<Figure size 432x288 with 1 Axes>"
      ]
     },
     "metadata": {
      "needs_background": "light"
     },
     "output_type": "display_data"
    }
   ],
   "source": [
    "a = plt.hist(data_md.loc[((data_md.PixelRepresentation != 0) | (data_md.RescaleIntercept < 0)) & \n",
    "                         (data_md.SOPInstanceUID != 'ID_b79eed528')].PxlStd,\n",
    "             alpha=0.5,bins=bins)\n",
    "a = plt.hist(data_md.loc[((data_md.PixelRepresentation != 0) | (data_md.RescaleIntercept < 0)) & \n",
    "                         (data_md.SOPInstanceUID != 'ID_b79eed528') & \n",
    "                         (data_md.PxlMin > -1500)].PxlStd,\n",
    "             alpha=0.5,bins=bins)\n",
    "a = plt.hist(data_md.loc[((data_md.PixelRepresentation != 0) | (data_md.RescaleIntercept < 0)) & \n",
    "                         (data_md.SOPInstanceUID != 'ID_b79eed528') & \n",
    "                         (data_md.PxlMin < -2500)].PxlStd,\n",
    "             alpha=0.5,bins=bins)\n",
    "a = plt.hist(data_md.loc[((data_md.PixelRepresentation != 0) | (data_md.RescaleIntercept < 0)) & \n",
    "                         (data_md.SOPInstanceUID != 'ID_b79eed528') & \n",
    "                         (data_md.PxlMin.between(-2500,-1500))].PxlStd,\n",
    "             alpha=0.5,bins=bins)"
   ]
  },
  {
   "cell_type": "code",
   "execution_count": 94,
   "metadata": {},
   "outputs": [
    {
     "data": {
      "text/plain": [
       "False    133\n",
       "True      17\n",
       "Name: any, dtype: int64"
      ]
     },
     "execution_count": 94,
     "metadata": {},
     "output_type": "execute_result"
    }
   ],
   "source": [
    "data_md.loc[data_md.PxlMin < -3450,'any'].isnull().value_counts()"
   ]
  },
  {
   "cell_type": "code",
   "execution_count": 103,
   "metadata": {},
   "outputs": [],
   "source": [
    "train_md.PxlMin_grp_le = train_md.PxlMin_grp_le.astype(int)"
   ]
  },
  {
   "cell_type": "code",
   "execution_count": 105,
   "metadata": {},
   "outputs": [],
   "source": [
    "tt = train_md[['any','SeriesInstanceUID','PxlMin_grp_le']].groupby('SeriesInstanceUID').mean()"
   ]
  },
  {
   "cell_type": "code",
   "execution_count": 107,
   "metadata": {},
   "outputs": [
    {
     "data": {
      "image/png": "[encoded data removed]",
      "text/plain": [
       "<Figure size 432x288 with 1 Axes>"
      ]
     },
     "metadata": {
      "needs_background": "light"
     },
     "output_type": "display_data"
    }
   ],
   "source": [
    "a = plt.hist(tt.loc[(tt.PxlMin_grp_le == 0) & (tt['any'] > 0), 'any'], bins=30, alpha=0.5)\n",
    "a = plt.hist(tt.loc[(tt.PxlMin_grp_le == 1) & (tt['any'] > 0), 'any'], bins=30, alpha=0.5)\n",
    "a = plt.hist(tt.loc[(tt.PxlMin_grp_le == 2) & (tt['any'] > 0), 'any'], bins=30, alpha=0.5)"
   ]
  },
  {
   "cell_type": "code",
   "execution_count": null,
   "metadata": {},
   "outputs": [],
   "source": []
  },
  {
   "cell_type": "code",
   "execution_count": null,
   "metadata": {},
   "outputs": [],
   "source": []
  },
  {
   "cell_type": "markdown",
   "metadata": {},
   "source": [
    "# Weighting"
   ]
  },
  {
   "cell_type": "code",
   "execution_count": 108,
   "metadata": {},
   "outputs": [],
   "source": [
    "train_md = pd.concat([train_md, test_md], axis=0, sort=False).reset_index(drop=True)"
   ]
  },
  {
   "cell_type": "code",
   "execution_count": 126,
   "metadata": {},
   "outputs": [],
   "source": [
    "weights = np.ones(len(train_md))"
   ]
  },
  {
   "cell_type": "code",
   "execution_count": null,
   "metadata": {},
   "outputs": [],
   "source": []
  },
  {
   "cell_type": "code",
   "execution_count": 110,
   "metadata": {},
   "outputs": [],
   "source": [
    "# remove categories which are empty for test"
   ]
  },
  {
   "cell_type": "code",
   "execution_count": 127,
   "metadata": {},
   "outputs": [],
   "source": [
    "for col in (cols_le + cols_bool):\n",
    "    tt = data_md[[col,'test2']].groupby(col).sum()\n",
    "    empty_categories = tt.index.values[tt['test2']==0]\n",
    "    if len(empty_categories) > 0:\n",
    "        print(col, empty_categories, train_md[col].isin(empty_categories).sum())\n",
    "        weights[train_md[col].isin(empty_categories)] = 0"
   ]
  },
  {
   "cell_type": "code",
   "execution_count": 128,
   "metadata": {},
   "outputs": [
    {
     "data": {
      "text/plain": [
       "1.0    752802\n",
       "dtype: int64"
      ]
     },
     "execution_count": 128,
     "metadata": {},
     "output_type": "execute_result"
    }
   ],
   "source": [
    "pd.value_counts(weights)"
   ]
  },
  {
   "cell_type": "code",
   "execution_count": null,
   "metadata": {},
   "outputs": [],
   "source": []
  },
  {
   "cell_type": "code",
   "execution_count": 85,
   "metadata": {},
   "outputs": [],
   "source": [
    "# remove broken intercept values"
   ]
  },
  {
   "cell_type": "code",
   "execution_count": 130,
   "metadata": {},
   "outputs": [],
   "source": [
    "if ((test_md.PixelRepresentation == 0) & (test_md.RescaleIntercept >= 0)).sum() == 0:\n",
    "    weights[(train_md.PixelRepresentation == 0) & (train_md.RescaleIntercept >= 0)] = 0"
   ]
  },
  {
   "cell_type": "code",
   "execution_count": 131,
   "metadata": {},
   "outputs": [
    {
     "data": {
      "text/plain": [
       "1.0    752679\n",
       "0.0       123\n",
       "dtype: int64"
      ]
     },
     "execution_count": 131,
     "metadata": {},
     "output_type": "execute_result"
    }
   ],
   "source": [
    "pd.value_counts(weights)"
   ]
  },
  {
   "cell_type": "code",
   "execution_count": null,
   "metadata": {},
   "outputs": [],
   "source": []
  },
  {
   "cell_type": "code",
   "execution_count": null,
   "metadata": {},
   "outputs": [],
   "source": []
  },
  {
   "cell_type": "code",
   "execution_count": 88,
   "metadata": {},
   "outputs": [],
   "source": [
    "# remove outlier image"
   ]
  },
  {
   "cell_type": "code",
   "execution_count": 132,
   "metadata": {},
   "outputs": [],
   "source": [
    "weights[train_md.SOPInstanceUID == 'ID_b79eed528'] = 0"
   ]
  },
  {
   "cell_type": "code",
   "execution_count": 133,
   "metadata": {},
   "outputs": [
    {
     "data": {
      "text/plain": [
       "1.0    752678\n",
       "0.0       124\n",
       "dtype: int64"
      ]
     },
     "execution_count": 133,
     "metadata": {},
     "output_type": "execute_result"
    }
   ],
   "source": [
    "pd.value_counts(weights)"
   ]
  },
  {
   "cell_type": "code",
   "execution_count": null,
   "metadata": {},
   "outputs": [],
   "source": []
  },
  {
   "cell_type": "code",
   "execution_count": 91,
   "metadata": {},
   "outputs": [],
   "source": [
    "# scale weight according to (PxlMin_grp_le == 0) frequency"
   ]
  },
  {
   "cell_type": "code",
   "execution_count": 134,
   "metadata": {},
   "outputs": [],
   "source": [
    "data_md['weights'] = np.nan\n",
    "data_md.loc[~data_md.test2, 'weights'] = weights"
   ]
  },
  {
   "cell_type": "code",
   "execution_count": 135,
   "metadata": {},
   "outputs": [],
   "source": [
    "data_filt = data_md.loc[data_md.weights.fillna(-1) != 0]"
   ]
  },
  {
   "cell_type": "code",
   "execution_count": 136,
   "metadata": {},
   "outputs": [],
   "source": [
    "tt = pd.crosstab(data_filt.PxlMin_grp_le == 0, data_filt.test2)"
   ]
  },
  {
   "cell_type": "code",
   "execution_count": 138,
   "metadata": {},
   "outputs": [],
   "source": [
    "ww = tt.loc[False,True] * tt.loc[True,False] / (tt.loc[True,True] * tt.loc[False,False])"
   ]
  },
  {
   "cell_type": "code",
   "execution_count": 139,
   "metadata": {},
   "outputs": [],
   "source": [
    "weights[(train_md.PxlMin_grp_le != 0) & (weights > 0)] = ww"
   ]
  },
  {
   "cell_type": "code",
   "execution_count": 140,
   "metadata": {},
   "outputs": [
    {
     "data": {
      "text/plain": [
       "1.50692    451848\n",
       "1.00000    300830\n",
       "0.00000       124\n",
       "dtype: int64"
      ]
     },
     "execution_count": 140,
     "metadata": {},
     "output_type": "execute_result"
    }
   ],
   "source": [
    "pd.value_counts(weights)"
   ]
  },
  {
   "cell_type": "code",
   "execution_count": 141,
   "metadata": {},
   "outputs": [],
   "source": [
    "train_md['weights'] = weights"
   ]
  },
  {
   "cell_type": "code",
   "execution_count": null,
   "metadata": {},
   "outputs": [],
   "source": []
  },
  {
   "cell_type": "code",
   "execution_count": 99,
   "metadata": {},
   "outputs": [],
   "source": [
    "# For each of two groups (PxlMin_grp_le == 0) bring expected 'any' to equality"
   ]
  },
  {
   "cell_type": "code",
   "execution_count": 101,
   "metadata": {},
   "outputs": [],
   "source": [
    "yuval_test = pickle.load(open(PATH_DISK/'yuval/ensemble_test_image_ids.pkl','rb'))\n",
    "assert len(yuval_test) == len(test_md)"
   ]
  },
  {
   "cell_type": "code",
   "execution_count": 102,
   "metadata": {},
   "outputs": [],
   "source": [
    "test_md['img_id'] = test_md.SOPInstanceUID.str.split('_').apply(lambda x: x[1])"
   ]
  },
  {
   "cell_type": "code",
   "execution_count": 103,
   "metadata": {},
   "outputs": [],
   "source": [
    "#del test_md['yuval_idx']"
   ]
  },
  {
   "cell_type": "code",
   "execution_count": 104,
   "metadata": {},
   "outputs": [],
   "source": [
    "df = pd.DataFrame(np.arange(len(yuval_test)), columns=['yuval_idx'])\n",
    "df.index = yuval_test\n",
    "test_md = test_md.join(df, on = 'img_id')"
   ]
  },
  {
   "cell_type": "code",
   "execution_count": null,
   "metadata": {},
   "outputs": [],
   "source": []
  },
  {
   "cell_type": "code",
   "execution_count": 105,
   "metadata": {},
   "outputs": [],
   "source": [
    "names_y = [\n",
    "           'model_se_resnet101_version_new_splits_fullhead_resmodel_pool2_3_type_test_pred_ensamble_split_{}.pkl',\n",
    "           'model_se_resnext101_32x4d_version_new_splits_fullhead_resmodel_pool2_3_type_test_pred_ensamble_split_{}.pkl'\n",
    "           ]"
   ]
  },
  {
   "cell_type": "code",
   "execution_count": 106,
   "metadata": {},
   "outputs": [],
   "source": [
    "preds_y = np.stack([torch.sigmoid(torch.stack([torch.stack(pickle.load(\n",
    "    open(PATH_DISK/'yuval/OOF'/name.format(fold),'rb'))) for fold in range(3)])).numpy() for name in names_y])"
   ]
  },
  {
   "cell_type": "code",
   "execution_count": 107,
   "metadata": {},
   "outputs": [],
   "source": [
    "preds_y = preds_y[:,:,:,test_md.yuval_idx]\n",
    "preds_y = preds_y[:,:,:,:,np.array([5,0,1,2,3,4])]\n",
    "preds_y = preds_y.mean((0,1,2))"
   ]
  },
  {
   "cell_type": "code",
   "execution_count": 110,
   "metadata": {},
   "outputs": [
    {
     "data": {
      "text/plain": [
       "array([[1.        , 0.84122984],\n",
       "       [0.84122984, 1.        ]])"
      ]
     },
     "execution_count": 110,
     "metadata": {},
     "output_type": "execute_result"
    }
   ],
   "source": [
    "np.corrcoef(test_md[all_ich].values.reshape(-1), preds_y.reshape(-1))"
   ]
  },
  {
   "cell_type": "code",
   "execution_count": 111,
   "metadata": {},
   "outputs": [],
   "source": [
    "test_md[all_ich] = preds_y\n",
    "test_md['weights'] = 1"
   ]
  },
  {
   "cell_type": "code",
   "execution_count": 112,
   "metadata": {
    "scrolled": true
   },
   "outputs": [
    {
     "data": {
      "text/html": [
       "<div>\n",
       "<style scoped>\n",
       "    .dataframe tbody tr th:only-of-type {\n",
       "        vertical-align: middle;\n",
       "    }\n",
       "\n",
       "    .dataframe tbody tr th {\n",
       "        vertical-align: top;\n",
       "    }\n",
       "\n",
       "    .dataframe thead th {\n",
       "        text-align: right;\n",
       "    }\n",
       "</style>\n",
       "<table border=\"1\" class=\"dataframe\">\n",
       "  <thead>\n",
       "    <tr style=\"text-align: right;\">\n",
       "      <th></th>\n",
       "      <th></th>\n",
       "      <th>any</th>\n",
       "    </tr>\n",
       "    <tr>\n",
       "      <th>test</th>\n",
       "      <th>PxlMin_zero</th>\n",
       "      <th></th>\n",
       "    </tr>\n",
       "  </thead>\n",
       "  <tbody>\n",
       "    <tr>\n",
       "      <td rowspan=\"2\" valign=\"top\">False</td>\n",
       "      <td>False</td>\n",
       "      <td>0.184171</td>\n",
       "    </tr>\n",
       "    <tr>\n",
       "      <td>True</td>\n",
       "      <td>0.064994</td>\n",
       "    </tr>\n",
       "    <tr>\n",
       "      <td rowspan=\"2\" valign=\"top\">True</td>\n",
       "      <td>False</td>\n",
       "      <td>0.336857</td>\n",
       "    </tr>\n",
       "    <tr>\n",
       "      <td>True</td>\n",
       "      <td>0.117623</td>\n",
       "    </tr>\n",
       "  </tbody>\n",
       "</table>\n",
       "</div>"
      ],
      "text/plain": [
       "                        any\n",
       "test  PxlMin_zero          \n",
       "False False        0.184171\n",
       "      True         0.064994\n",
       "True  False        0.336857\n",
       "      True         0.117623"
      ]
     },
     "execution_count": 112,
     "metadata": {},
     "output_type": "execute_result"
    }
   ],
   "source": [
    "dd = pd.concat([train_md,test_md],axis=0,sort=False)\n",
    "dd[['any','test','PxlMin_zero']].groupby(['test','PxlMin_zero']).mean()"
   ]
  },
  {
   "cell_type": "code",
   "execution_count": 113,
   "metadata": {
    "scrolled": true
   },
   "outputs": [
    {
     "data": {
      "text/html": [
       "<div>\n",
       "<style scoped>\n",
       "    .dataframe tbody tr th:only-of-type {\n",
       "        vertical-align: middle;\n",
       "    }\n",
       "\n",
       "    .dataframe tbody tr th {\n",
       "        vertical-align: top;\n",
       "    }\n",
       "\n",
       "    .dataframe thead th {\n",
       "        text-align: right;\n",
       "    }\n",
       "</style>\n",
       "<table border=\"1\" class=\"dataframe\">\n",
       "  <thead>\n",
       "    <tr style=\"text-align: right;\">\n",
       "      <th></th>\n",
       "      <th></th>\n",
       "      <th></th>\n",
       "      <th>any</th>\n",
       "    </tr>\n",
       "    <tr>\n",
       "      <th>test</th>\n",
       "      <th>PxlMin_zero</th>\n",
       "      <th>any_series</th>\n",
       "      <th></th>\n",
       "    </tr>\n",
       "  </thead>\n",
       "  <tbody>\n",
       "    <tr>\n",
       "      <td rowspan=\"4\" valign=\"top\">False</td>\n",
       "      <td rowspan=\"2\" valign=\"top\">False</td>\n",
       "      <td>False</td>\n",
       "      <td>0.000000</td>\n",
       "    </tr>\n",
       "    <tr>\n",
       "      <td>True</td>\n",
       "      <td>0.364969</td>\n",
       "    </tr>\n",
       "    <tr>\n",
       "      <td rowspan=\"2\" valign=\"top\">True</td>\n",
       "      <td>False</td>\n",
       "      <td>0.000000</td>\n",
       "    </tr>\n",
       "    <tr>\n",
       "      <td>True</td>\n",
       "      <td>0.336447</td>\n",
       "    </tr>\n",
       "    <tr>\n",
       "      <td rowspan=\"3\" valign=\"top\">True</td>\n",
       "      <td>False</td>\n",
       "      <td>True</td>\n",
       "      <td>0.336857</td>\n",
       "    </tr>\n",
       "    <tr>\n",
       "      <td rowspan=\"2\" valign=\"top\">True</td>\n",
       "      <td>False</td>\n",
       "      <td>0.007970</td>\n",
       "    </tr>\n",
       "    <tr>\n",
       "      <td>True</td>\n",
       "      <td>0.313152</td>\n",
       "    </tr>\n",
       "  </tbody>\n",
       "</table>\n",
       "</div>"
      ],
      "text/plain": [
       "                                   any\n",
       "test  PxlMin_zero any_series          \n",
       "False False       False       0.000000\n",
       "                  True        0.364969\n",
       "      True        False       0.000000\n",
       "                  True        0.336447\n",
       "True  False       True        0.336857\n",
       "      True        False       0.007970\n",
       "                  True        0.313152"
      ]
     },
     "execution_count": 113,
     "metadata": {},
     "output_type": "execute_result"
    }
   ],
   "source": [
    "dd[['any','test','PxlMin_zero','any_series']].groupby(['test','PxlMin_zero','any_series']).mean()"
   ]
  },
  {
   "cell_type": "code",
   "execution_count": 114,
   "metadata": {},
   "outputs": [
    {
     "name": "stdout",
     "output_type": "stream",
     "text": [
      "val: True w1: 183128.0 w2: 41140.0 s2: 0.3364473204520598 s_test: 0.11762268658555347 multiplier: 0.4179406855062941\n",
      "val: False w1: 7628.049060015255 w2: 7848.043790520683 s2: 0.3649689716312057 s_test: 0.33685712984314603 multiplier: 0.08586012098398665\n"
     ]
    }
   ],
   "source": [
    "for val in train_md.PxlMin_zero.unique():\n",
    "    w1 = train_md.loc[(train_md.PxlMin_zero == val) & (train_md.any_series == False),'weights'].sum()\n",
    "    w2 = train_md.loc[(train_md.PxlMin_zero == val) & (train_md.any_series == True),'weights'].sum()\n",
    "    s2 = train_md.loc[(train_md.PxlMin_zero == val) & (train_md.any_series == True),'any'].mean()\n",
    "    s_test = test_md.loc[(test_md.PxlMin_zero == val),'any'].mean()\n",
    "    \n",
    "    multiplier = (s2/s_test-1)*w2/w1\n",
    "    if multiplier < 0: multiplier = 0\n",
    "    train_md.loc[(train_md.PxlMin_zero == val) & (train_md.any_series == False),'weights'] *= multiplier\n",
    "    \n",
    "    print('val:',val,'w1:',w1,'w2:',w2,'s2:',s2,'s_test:',s_test,'multiplier:',multiplier)"
   ]
  },
  {
   "cell_type": "code",
   "execution_count": 115,
   "metadata": {},
   "outputs": [
    {
     "name": "stdout",
     "output_type": "stream",
     "text": [
      "0.9326120313741701\n",
      "0.9359220828824241\n",
      "val True train avg 0.11560493047309137\n",
      "val True test avg 0.11762268658555335\n",
      "val False train avg 0.3388041432798556\n",
      "val False test avg 0.33685712984314603\n"
     ]
    }
   ],
   "source": [
    "print(np.average(train_md.PxlMin_zero.values, weights=train_md.weights.values))\n",
    "print(np.average(test_md.PxlMin_zero.values, weights=test_md.weights.values))\n",
    "\n",
    "for val in train_md.PxlMin_zero.unique():\n",
    "    print('val',val,'train avg',np.average(train_md.loc[train_md.PxlMin_zero == val, 'any'].values, \n",
    "                     weights=train_md.loc[train_md.PxlMin_zero == val, 'weights'].values))\n",
    "    print('val',val,'test avg',np.average(test_md.loc[test_md.PxlMin_zero == val, 'any'].values, \n",
    "                     weights=test_md.loc[test_md.PxlMin_zero == val, 'weights'].values))"
   ]
  },
  {
   "cell_type": "code",
   "execution_count": 116,
   "metadata": {},
   "outputs": [],
   "source": [
    "train_md.weights /=  train_md.weights.mean()"
   ]
  },
  {
   "cell_type": "code",
   "execution_count": 117,
   "metadata": {},
   "outputs": [
    {
     "data": {
      "text/plain": [
       "0.187007    220682\n",
       "0.016056    217939\n",
       "2.233320    183128\n",
       "5.343628     41265\n",
       "0.000000     11242\n",
       "0.458805         1\n",
       "Name: weights, dtype: int64"
      ]
     },
     "execution_count": 117,
     "metadata": {},
     "output_type": "execute_result"
    }
   ],
   "source": [
    "train_md.weights.value_counts()"
   ]
  },
  {
   "cell_type": "code",
   "execution_count": null,
   "metadata": {},
   "outputs": [],
   "source": []
  },
  {
   "cell_type": "code",
   "execution_count": 118,
   "metadata": {},
   "outputs": [],
   "source": [
    "test_md = train_md.loc[train_md.test].copy().reset_index(drop=True)\n",
    "train_md = train_md.loc[~train_md.test].copy().reset_index(drop=True)\n",
    "\n",
    "assert len(test_md) == 78545\n",
    "assert len(train_md) == 674257\n",
    "\n",
    "train_md.to_csv(PATH_WORK/'train_md.csv', index=False)\n",
    "test_md.to_csv(PATH_WORK/'test_md.csv', index=False)"
   ]
  },
  {
   "cell_type": "code",
   "execution_count": null,
   "metadata": {},
   "outputs": [],
   "source": []
  }
 ],
 "metadata": {
  "kernelspec": {
   "display_name": "Python 3",
   "language": "python",
   "name": "python3"
  },
  "language_info": {
   "codemirror_mode": {
    "name": "ipython",
    "version": 3
   },
   "file_extension": ".py",
   "mimetype": "text/x-python",
   "name": "python",
   "nbconvert_exporter": "python",
   "pygments_lexer": "ipython3",
   "version": "3.6.6"
  }
 },
 "nbformat": 4,
 "nbformat_minor": 2
}
