{
 "cells": [
  {
   "cell_type": "code",
   "execution_count": 1,
   "metadata": {},
   "outputs": [
    {
     "name": "stderr",
     "output_type": "stream",
     "text": [
      "/home/reina/anaconda3/envs/RSNA/lib/python3.6/importlib/_bootstrap.py:219: ImportWarning: can't resolve package from __spec__ or __package__, falling back on __name__ and __path__\n",
      "  return f(*args, **kwds)\n",
      "/home/reina/anaconda3/envs/RSNA/lib/python3.6/importlib/_bootstrap.py:219: ImportWarning: can't resolve package from __spec__ or __package__, falling back on __name__ and __path__\n",
      "  return f(*args, **kwds)\n"
     ]
    }
   ],
   "source": [
    "from __future__ import absolute_import\n",
    "from __future__ import division\n",
    "from __future__ import print_function\n",
    "\n",
    "\n",
    "import numpy as np # linear algebra\n",
    "import pandas as pd # data processing, CSV file I/O (e.g. pd.read_csv)\n",
    "import os\n",
    "import datetime\n",
    "import seaborn as sns\n",
    "import pydicom\n",
    "import time\n",
    "import gc\n",
    "import operator \n",
    "from apex import amp \n",
    "import matplotlib.pyplot as plt\n",
    "import torch\n",
    "import torch.nn as nn\n",
    "import torch.utils.data as D\n",
    "import torch.nn.functional as F\n",
    "from sklearn.model_selection import KFold\n",
    "from tqdm import tqdm, tqdm_notebook\n",
    "from IPython.core.interactiveshell import InteractiveShell\n",
    "InteractiveShell.ast_node_interactivity = \"all\"\n",
    "import warnings\n",
    "warnings.filterwarnings(action='once')\n",
    "import pickle\n",
    "%load_ext autoreload\n",
    "%autoreload 2\n",
    "#%matplotlib notebook\n",
    "from skimage.io import imread,imshow\n",
    "from helper import *\n",
    "from apex import amp\n",
    "import helper\n",
    "import torchvision.models as models\n",
    "from torch.optim import Adam\n",
    "from defenitions import *\n",
    "import pretrainedmodels\n",
    "from pytorchcv.model_provider import get_model as ptcv_get_model"
   ]
  },
  {
   "cell_type": "code",
   "execution_count": 2,
   "metadata": {},
   "outputs": [],
   "source": [
    "SEED = 43564\n",
    "device=device_by_name(\"Tesla\")\n",
    "#device=device_by_name(\"RTX\")\n",
    "#device = \"cpu\""
   ]
  },
  {
   "cell_type": "code",
   "execution_count": 3,
   "metadata": {},
   "outputs": [
    {
     "data": {
      "text/html": [
       "<div>\n",
       "<style scoped>\n",
       "    .dataframe tbody tr th:only-of-type {\n",
       "        vertical-align: middle;\n",
       "    }\n",
       "\n",
       "    .dataframe tbody tr th {\n",
       "        vertical-align: top;\n",
       "    }\n",
       "\n",
       "    .dataframe thead th {\n",
       "        text-align: right;\n",
       "    }\n",
       "</style>\n",
       "<table border=\"1\" class=\"dataframe\">\n",
       "  <thead>\n",
       "    <tr style=\"text-align: right;\">\n",
       "      <th></th>\n",
       "      <th>PatientID</th>\n",
       "      <th>epidural</th>\n",
       "      <th>intraparenchymal</th>\n",
       "      <th>intraventricular</th>\n",
       "      <th>subarachnoid</th>\n",
       "      <th>subdural</th>\n",
       "      <th>any</th>\n",
       "      <th>PID</th>\n",
       "      <th>StudyI</th>\n",
       "      <th>SeriesI</th>\n",
       "      <th>WindowCenter</th>\n",
       "      <th>WindowWidth</th>\n",
       "      <th>ImagePositionZ</th>\n",
       "      <th>ImagePositionX</th>\n",
       "      <th>ImagePositionY</th>\n",
       "    </tr>\n",
       "  </thead>\n",
       "  <tbody>\n",
       "    <tr>\n",
       "      <th>0</th>\n",
       "      <td>63eb1e259</td>\n",
       "      <td>0</td>\n",
       "      <td>0</td>\n",
       "      <td>0</td>\n",
       "      <td>0</td>\n",
       "      <td>0</td>\n",
       "      <td>0</td>\n",
       "      <td>a449357f</td>\n",
       "      <td>62d125e5b2</td>\n",
       "      <td>0be5c0d1b3</td>\n",
       "      <td>['00036', '00036']</td>\n",
       "      <td>['00080', '00080']</td>\n",
       "      <td>180.199951</td>\n",
       "      <td>-125.0</td>\n",
       "      <td>-8.000000</td>\n",
       "    </tr>\n",
       "    <tr>\n",
       "      <th>1</th>\n",
       "      <td>2669954a7</td>\n",
       "      <td>0</td>\n",
       "      <td>0</td>\n",
       "      <td>0</td>\n",
       "      <td>0</td>\n",
       "      <td>0</td>\n",
       "      <td>0</td>\n",
       "      <td>363d5865</td>\n",
       "      <td>a20b80c7bf</td>\n",
       "      <td>3564d584db</td>\n",
       "      <td>['00047', '00047']</td>\n",
       "      <td>['00080', '00080']</td>\n",
       "      <td>922.530821</td>\n",
       "      <td>-156.0</td>\n",
       "      <td>45.572849</td>\n",
       "    </tr>\n",
       "    <tr>\n",
       "      <th>2</th>\n",
       "      <td>52c9913b1</td>\n",
       "      <td>0</td>\n",
       "      <td>0</td>\n",
       "      <td>0</td>\n",
       "      <td>0</td>\n",
       "      <td>0</td>\n",
       "      <td>0</td>\n",
       "      <td>9c2b4bd7</td>\n",
       "      <td>3e3634f8cf</td>\n",
       "      <td>973274ffc9</td>\n",
       "      <td>40</td>\n",
       "      <td>150</td>\n",
       "      <td>4.455000</td>\n",
       "      <td>-125.0</td>\n",
       "      <td>-115.063000</td>\n",
       "    </tr>\n",
       "    <tr>\n",
       "      <th>3</th>\n",
       "      <td>4e6ff6126</td>\n",
       "      <td>0</td>\n",
       "      <td>0</td>\n",
       "      <td>0</td>\n",
       "      <td>0</td>\n",
       "      <td>0</td>\n",
       "      <td>0</td>\n",
       "      <td>3ae81c2d</td>\n",
       "      <td>a1390c15c2</td>\n",
       "      <td>e5ccad8244</td>\n",
       "      <td>['00036', '00036']</td>\n",
       "      <td>['00080', '00080']</td>\n",
       "      <td>100.000000</td>\n",
       "      <td>-99.5</td>\n",
       "      <td>28.500000</td>\n",
       "    </tr>\n",
       "    <tr>\n",
       "      <th>4</th>\n",
       "      <td>7858edd88</td>\n",
       "      <td>0</td>\n",
       "      <td>0</td>\n",
       "      <td>0</td>\n",
       "      <td>0</td>\n",
       "      <td>0</td>\n",
       "      <td>0</td>\n",
       "      <td>c1867feb</td>\n",
       "      <td>c73e81ed3a</td>\n",
       "      <td>28e0531b3a</td>\n",
       "      <td>40</td>\n",
       "      <td>100</td>\n",
       "      <td>145.793000</td>\n",
       "      <td>-125.0</td>\n",
       "      <td>-132.190000</td>\n",
       "    </tr>\n",
       "  </tbody>\n",
       "</table>\n",
       "</div>"
      ],
      "text/plain": [
       "   PatientID  epidural  intraparenchymal  intraventricular  subarachnoid  \\\n",
       "0  63eb1e259         0                 0                 0             0   \n",
       "1  2669954a7         0                 0                 0             0   \n",
       "2  52c9913b1         0                 0                 0             0   \n",
       "3  4e6ff6126         0                 0                 0             0   \n",
       "4  7858edd88         0                 0                 0             0   \n",
       "\n",
       "   subdural  any       PID      StudyI     SeriesI        WindowCenter  \\\n",
       "0         0    0  a449357f  62d125e5b2  0be5c0d1b3  ['00036', '00036']   \n",
       "1         0    0  363d5865  a20b80c7bf  3564d584db  ['00047', '00047']   \n",
       "2         0    0  9c2b4bd7  3e3634f8cf  973274ffc9                  40   \n",
       "3         0    0  3ae81c2d  a1390c15c2  e5ccad8244  ['00036', '00036']   \n",
       "4         0    0  c1867feb  c73e81ed3a  28e0531b3a                  40   \n",
       "\n",
       "          WindowWidth  ImagePositionZ  ImagePositionX  ImagePositionY  \n",
       "0  ['00080', '00080']      180.199951          -125.0       -8.000000  \n",
       "1  ['00080', '00080']      922.530821          -156.0       45.572849  \n",
       "2                 150        4.455000          -125.0     -115.063000  \n",
       "3  ['00080', '00080']      100.000000           -99.5       28.500000  \n",
       "4                 100      145.793000          -125.0     -132.190000  "
      ]
     },
     "execution_count": 3,
     "metadata": {},
     "output_type": "execute_result"
    }
   ],
   "source": [
    "train_df = pd.read_csv(data_dir+'train.csv')\n",
    "train_df.head()"
   ]
  },
  {
   "cell_type": "code",
   "execution_count": 4,
   "metadata": {},
   "outputs": [],
   "source": [
    "train_df=train_df[~train_df.PatientID.isin(bad_images)].reset_index(drop=True)"
   ]
  },
  {
   "cell_type": "code",
   "execution_count": 5,
   "metadata": {},
   "outputs": [
    {
     "data": {
      "text/plain": [
       "(607241,)"
      ]
     },
     "execution_count": 5,
     "metadata": {},
     "output_type": "execute_result"
    },
    {
     "data": {
      "text/plain": [
       "(67263,)"
      ]
     },
     "execution_count": 5,
     "metadata": {},
     "output_type": "execute_result"
    }
   ],
   "source": [
    "np.random.seed(SEED)\n",
    "split = train_df.SeriesI.unique()\n",
    "np.random.shuffle(split)\n",
    "split_train=split[:int(0.9*split.shape[0])]\n",
    "split_val=split[int(0.9*split.shape[0]):]\n",
    "\n",
    "idx_train = train_df[train_df.SeriesI.isin(set(split_train))].index.values\n",
    "idx_validate = train_df[train_df.SeriesI.isin(set(split_val))].index.values\n",
    "idx_train.shape\n",
    "idx_validate.shape"
   ]
  },
  {
   "cell_type": "code",
   "execution_count": 6,
   "metadata": {},
   "outputs": [],
   "source": [
    "transform=MyTransform(flip=True,zoom=0.05,rotate=15,out_size=384,shift=40)"
   ]
  },
  {
   "cell_type": "code",
   "execution_count": 7,
   "metadata": {},
   "outputs": [],
   "source": [
    "def my_loss(y_pred,y_true,weights):\n",
    "    loss = F.binary_cross_entropy_with_logits(y_pred,y_true,weights.repeat(y_pred.shape[0],1))\n",
    "    if torch.isnan(loss)!=0:\n",
    "        print (y_pred)\n",
    "        print (y_true)\n",
    "        print (weights)\n",
    "        loss = 0\n",
    "    return loss"
   ]
  },
  {
   "cell_type": "code",
   "execution_count": 8,
   "metadata": {},
   "outputs": [],
   "source": [
    "def get_optimizer_parameters(model,klr):\n",
    "    zero_layer=['init_block']\n",
    "    param_optimizer = list(model.named_parameters())\n",
    "    num_blocks=5\n",
    "    no_decay=['bias']\n",
    "    optimizer_grouped_parameters=[\n",
    "        {'params': [p for n, p in param_optimizer if (not any(nd in n for nd in no_decay) and any(nd in n for nd in zero_layer))], 'lr':klr*0.5e-5,'weight_decay': 0.01},\n",
    "        {'params': [p for n, p in param_optimizer if any(nd in n for nd in no_decay)  and any(nd in n for nd in zero_layer)], 'lr':klr*0.5e-5, 'weight_decay': 0.0}\n",
    "        ]\n",
    "    optimizer_grouped_parameters.extend([\n",
    "        {'params': [p for n, p in param_optimizer if (not any(nd in n for nd in no_decay) and ('classifier' in n))], 'lr':klr*1e-3,'weight_decay': 0.01},\n",
    "        {'params': [p for n, p in param_optimizer if any(nd in n for nd in no_decay)  and ('classifier' in n)], 'lr':klr*1e-3, 'weight_decay': 0.0}\n",
    "        ])\n",
    "    for i in range(num_blocks):\n",
    "        optimizer_grouped_parameters.extend([\n",
    "        {'params': [p for n, p in param_optimizer if (not any(nd in n for nd in no_decay) and ('stage{}'.format(i+1) in n))], 'lr':klr*(2.0**i)*0.5e-5,'weight_decay': 0.01},\n",
    "        {'params': [p for n, p in param_optimizer if any(nd in n for nd in no_decay)  and ('stage{}'.format(i+1) in n)], 'lr':klr*(2.0**i)*0.5e-5, 'weight_decay': 0.0}\n",
    "        ])\n",
    "    optimizer_grouped_parameters.extend([\n",
    "        {'params': [p for n, p in param_optimizer if (not any(nd in n for nd in no_decay) and ('final_block' in n))], 'lr':klr*1e-4,'weight_decay': 0.01},\n",
    "        {'params': [p for n, p in param_optimizer if any(nd in n for nd in no_decay)  and ('final_block' in n)], 'lr':klr*1e-4, 'weight_decay': 0.0}\n",
    "        ])\n",
    "    #print (optimizer_grouped_parameters)\n",
    "    return(optimizer_grouped_parameters)"
   ]
  },
  {
   "cell_type": "code",
   "execution_count": 9,
   "metadata": {},
   "outputs": [],
   "source": [
    "class parameter_scheduler():\n",
    "    def __init__(self,model,do_first=['classifier'],num_epoch=1):\n",
    "        self.model=model\n",
    "        self.do_first = do_first\n",
    "        self.num_epoch=num_epoch\n",
    "    def __call__(self,epoch):\n",
    "        if epoch>=self.num_epoch:\n",
    "            for n,p in self.model.named_parameters():\n",
    "                p.requires_grad=True\n",
    "        else:\n",
    "            for n,p in self.model.named_parameters():\n",
    "                p.requires_grad= any(nd in n for nd in self.do_first)\n"
   ]
  },
  {
   "cell_type": "code",
   "execution_count": 10,
   "metadata": {},
   "outputs": [
    {
     "data": {
      "text/plain": [
       "<torch._C.Generator at 0x7fc0394b4150>"
      ]
     },
     "execution_count": 10,
     "metadata": {},
     "output_type": "execute_result"
    },
    {
     "data": {
      "application/vnd.jupyter.widget-view+json": {
       "model_id": "5d84bf9c98944667b13c56492f165246",
       "version_major": 2,
       "version_minor": 0
      },
      "text/plain": [
       "HBox(children=(IntProgress(value=0, max=2), HTML(value='')))"
      ]
     },
     "metadata": {},
     "output_type": "display_data"
    },
    {
     "data": {
      "application/vnd.jupyter.widget-view+json": {
       "model_id": "63784c2c2b8643bfa3a7551a595732d5",
       "version_major": 2,
       "version_minor": 0
      },
      "text/plain": [
       "HBox(children=(IntProgress(value=0, max=10932), HTML(value='')))"
      ]
     },
     "metadata": {},
     "output_type": "display_data"
    },
    {
     "data": {
      "application/vnd.jupyter.widget-view+json": {
       "model_id": "3381d681a9384f85b9ee016bd66a5724",
       "version_major": 2,
       "version_minor": 0
      },
      "text/plain": [
       "HBox(children=(IntProgress(value=0, max=2803), HTML(value='')))"
      ]
     },
     "metadata": {},
     "output_type": "display_data"
    },
    {
     "name": "stdout",
     "output_type": "stream",
     "text": [
      "{'loss': 0.44031238115958815, 'val_loss': 0.2953250281435653}\n"
     ]
    },
    {
     "data": {
      "application/vnd.jupyter.widget-view+json": {
       "model_id": "6b3ae0f8583142579ab89921f4cab5bc",
       "version_major": 2,
       "version_minor": 0
      },
      "text/plain": [
       "HBox(children=(IntProgress(value=0, max=10932), HTML(value='')))"
      ]
     },
     "metadata": {},
     "output_type": "display_data"
    },
    {
     "data": {
      "application/vnd.jupyter.widget-view+json": {
       "model_id": "f85612ff95774bea8c3d7b3fc2ef00b0",
       "version_major": 2,
       "version_minor": 0
      },
      "text/plain": [
       "HBox(children=(IntProgress(value=0, max=2803), HTML(value='')))"
      ]
     },
     "metadata": {},
     "output_type": "display_data"
    },
    {
     "name": "stdout",
     "output_type": "stream",
     "text": [
      "{'loss': 0.14579345114848333, 'val_loss': 0.11582905512776251}\n",
      "\n",
      "0.11582905512776251\n"
     ]
    },
    {
     "data": {
      "text/plain": [
       "[<matplotlib.lines.Line2D at 0x7fc019cb5c50>,\n",
       " <matplotlib.lines.Line2D at 0x7fc019cb5b00>]"
      ]
     },
     "execution_count": 10,
     "metadata": {},
     "output_type": "execute_result"
    },
    {
     "data": {
      "image/png": "[encoded data removed]",
      "text/plain": [
       "<Figure size 432x288 with 1 Axes>"
      ]
     },
     "metadata": {
      "needs_background": "light"
     },
     "output_type": "display_data"
    }
   ],
   "source": [
    "num_split=0\n",
    "np.random.seed(SEED+num_split)\n",
    "torch.manual_seed(SEED+num_split)\n",
    "torch.cuda.manual_seed(SEED+num_split)\n",
    "torch.backends.cudnn.deterministic = True\n",
    "klr=1\n",
    "batch_size=24\n",
    "num_workers=12\n",
    "num_epochs=2\n",
    "model_name,version = 'efficientnet_5b5' , 'basic1'\n",
    "model = MyEfficientNet(ptcv_get_model(\"efficientnet_b5b\", pretrained=True),len(hemorrhage_types))\n",
    "_=model.to(device)\n",
    "weights = torch.tensor([1.,1.,1.,1.,1.,2.],device=device)\n",
    "loss_func=my_loss\n",
    "targets_dataset=D.TensorDataset(torch.tensor(train_df[hemorrhage_types].values,dtype=torch.float))\n",
    "transform=MyTransform(flip=True,zoom=0.05,rotate=15,out_size=384,shift=40)\n",
    "imagedataset = ImageDataset(train_df,transform=transform.random,base_path=train_images_dir,out_shape=(1,384,384))\n",
    "transform_val=MyTransform(out_size=384)\n",
    "imagedataset_val = ImageDataset(train_df,transform=transform_val.random,base_path=train_images_dir,out_shape=(1,384,384))\n",
    "combined_dataset=DatasetCat([imagedataset,targets_dataset])\n",
    "combined_dataset_val=DatasetCat([imagedataset_val,targets_dataset])\n",
    "#param_s=parameter_scheduler(model,num_epoch=0)\n",
    "optimizer_grouped_parameters=get_optimizer_parameters(model,klr)\n",
    "sampling=sampler(train_df[hemorrhage_types].values[idx_train],0.2,[10,1,1,1,1,0])\n",
    "sample_ratio=1.02*float(sampling().shape[0])/idx_train.shape[0]\n",
    "train_dataset=D.Subset(combined_dataset,idx_train)\n",
    "validate_dataset=D.Subset(combined_dataset_val,idx_validate)\n",
    "num_train_optimization_steps = num_epochs*(sample_ratio*len(train_dataset)//batch_size+int(len(train_dataset)%batch_size>0))\n",
    "sched=WarmupExpCosineWithWarmupRestartsSchedule( t_total=num_train_optimization_steps, cycles=num_epochs,tau=1)\n",
    "optimizer = BertAdam(optimizer_grouped_parameters,lr=klr*1e-3,schedule=sched)\n",
    "history,best_model= model_train(model,\n",
    "                                optimizer,\n",
    "                                train_dataset,\n",
    "                                batch_size,\n",
    "                                num_epochs,\n",
    "                                loss_func,\n",
    "                                weights=weights,\n",
    "                                do_apex=False,\n",
    "                                validate_dataset=validate_dataset,\n",
    "                                param_schedualer=model.parameter_scheduler,\n",
    "                                weights_data=None,\n",
    "                                metric=None,\n",
    "                                return_model=True,\n",
    "                                num_workers=num_workers,\n",
    "                                sampler=sampling)\n",
    "\n",
    "plt.plot(np.array([[hist['val_loss'] for hist in history],[hist['loss'] for hist in history]]).transpose())\n",
    "\n",
    "torch.save(best_model.state_dict(), models_dir+models_format.format(model_name,version,num_split))\n"
   ]
  },
  {
   "cell_type": "code",
   "execution_count": 10,
   "metadata": {},
   "outputs": [
    {
     "data": {
      "text/plain": [
       "<torch._C.Generator at 0x7f594d953150>"
      ]
     },
     "execution_count": 10,
     "metadata": {},
     "output_type": "execute_result"
    },
    {
     "data": {
      "application/vnd.jupyter.widget-view+json": {
       "model_id": "",
       "version_major": 2,
       "version_minor": 0
      },
      "text/plain": [
       "HBox(children=(IntProgress(value=0, max=5), HTML(value='')))"
      ]
     },
     "metadata": {},
     "output_type": "display_data"
    },
    {
     "data": {
      "application/vnd.jupyter.widget-view+json": {
       "model_id": "",
       "version_major": 2,
       "version_minor": 0
      },
      "text/plain": [
       "HBox(children=(IntProgress(value=0, max=6059), HTML(value='')))"
      ]
     },
     "metadata": {},
     "output_type": "display_data"
    },
    {
     "data": {
      "application/vnd.jupyter.widget-view+json": {
       "model_id": "",
       "version_major": 2,
       "version_minor": 0
      },
      "text/plain": [
       "HBox(children=(IntProgress(value=0, max=2803), HTML(value='')))"
      ]
     },
     "metadata": {},
     "output_type": "display_data"
    },
    {
     "name": "stdout",
     "output_type": "stream",
     "text": [
      "{'loss': 0.23441222642016246, 'val_loss': 0.21233150810986767}\n"
     ]
    },
    {
     "data": {
      "application/vnd.jupyter.widget-view+json": {
       "model_id": "",
       "version_major": 2,
       "version_minor": 0
      },
      "text/plain": [
       "HBox(children=(IntProgress(value=0, max=6059), HTML(value='')))"
      ]
     },
     "metadata": {},
     "output_type": "display_data"
    },
    {
     "data": {
      "application/vnd.jupyter.widget-view+json": {
       "model_id": "",
       "version_major": 2,
       "version_minor": 0
      },
      "text/plain": [
       "HBox(children=(IntProgress(value=0, max=2803), HTML(value='')))"
      ]
     },
     "metadata": {},
     "output_type": "display_data"
    },
    {
     "name": "stdout",
     "output_type": "stream",
     "text": [
      "{'loss': 0.1141735008609346, 'val_loss': 0.11228354551965292}\n"
     ]
    },
    {
     "data": {
      "application/vnd.jupyter.widget-view+json": {
       "model_id": "",
       "version_major": 2,
       "version_minor": 0
      },
      "text/plain": [
       "HBox(children=(IntProgress(value=0, max=6059), HTML(value='')))"
      ]
     },
     "metadata": {},
     "output_type": "display_data"
    },
    {
     "data": {
      "application/vnd.jupyter.widget-view+json": {
       "model_id": "",
       "version_major": 2,
       "version_minor": 0
      },
      "text/plain": [
       "HBox(children=(IntProgress(value=0, max=2803), HTML(value='')))"
      ]
     },
     "metadata": {},
     "output_type": "display_data"
    },
    {
     "name": "stdout",
     "output_type": "stream",
     "text": [
      "{'loss': 0.09385163455910876, 'val_loss': 0.10149738830628882}\n"
     ]
    },
    {
     "data": {
      "application/vnd.jupyter.widget-view+json": {
       "model_id": "",
       "version_major": 2,
       "version_minor": 0
      },
      "text/plain": [
       "HBox(children=(IntProgress(value=0, max=6059), HTML(value='')))"
      ]
     },
     "metadata": {},
     "output_type": "display_data"
    },
    {
     "data": {
      "application/vnd.jupyter.widget-view+json": {
       "model_id": "",
       "version_major": 2,
       "version_minor": 0
      },
      "text/plain": [
       "HBox(children=(IntProgress(value=0, max=2803), HTML(value='')))"
      ]
     },
     "metadata": {},
     "output_type": "display_data"
    },
    {
     "name": "stdout",
     "output_type": "stream",
     "text": [
      "{'loss': 0.08192155774077196, 'val_loss': 0.09525606077211925}\n"
     ]
    },
    {
     "data": {
      "application/vnd.jupyter.widget-view+json": {
       "model_id": "",
       "version_major": 2,
       "version_minor": 0
      },
      "text/plain": [
       "HBox(children=(IntProgress(value=0, max=6059), HTML(value='')))"
      ]
     },
     "metadata": {},
     "output_type": "display_data"
    },
    {
     "data": {
      "application/vnd.jupyter.widget-view+json": {
       "model_id": "",
       "version_major": 2,
       "version_minor": 0
      },
      "text/plain": [
       "HBox(children=(IntProgress(value=0, max=2803), HTML(value='')))"
      ]
     },
     "metadata": {},
     "output_type": "display_data"
    },
    {
     "name": "stdout",
     "output_type": "stream",
     "text": [
      "{'loss': 0.08243785139628121, 'val_loss': 0.09374659490051254}\n",
      "\n",
      "0.09374659490051254\n"
     ]
    }
   ],
   "source": [
    "num_split=0\n",
    "np.random.seed(SEED+num_split)\n",
    "torch.manual_seed(SEED+num_split)\n",
    "torch.cuda.manual_seed(SEED+num_split)\n",
    "torch.backends.cudnn.deterministic = True\n",
    "klr=1\n",
    "batch_size=24\n",
    "num_workers=12\n",
    "num_epochs=5\n",
    "model_name,version = 'efficientnet_5b5' , 'classifier'\n",
    "model = MyEfficientNet(ptcv_get_model(\"efficientnet_b5b\", pretrained=True),len(hemorrhage_types),dropout=0.5)\n",
    "#model.load_state_dict(torch.load(models_dir+models_format.format(model_name,'basic1',num_split),map_location=torch.device(device)))\n",
    "_=model.to(device)\n",
    "param_s=parameter_scheduler(model,num_epoch=1)        \n",
    "weights = torch.tensor([1.,1.,1.,1.,1.,2.],device=device)\n",
    "loss_func=my_loss\n",
    "targets_dataset=D.TensorDataset(torch.tensor(train_df[hemorrhage_types].values,dtype=torch.float))\n",
    "transform=MyTransform(flip=True,zoom=0.1,rotate=20,out_size=384,shift=40)\n",
    "imagedataset = ImageDataset(train_df,transform=transform.random,base_path=train_images_dir,out_shape=(1,384,384))\n",
    "transform_val=MyTransform(out_size=384)\n",
    "imagedataset_val = ImageDataset(train_df,transform=transform_val.random,base_path=train_images_dir,out_shape=(1,384,384))\n",
    "combined_dataset=DatasetCat([imagedataset,targets_dataset])\n",
    "combined_dataset_val=DatasetCat([imagedataset_val,targets_dataset])\n",
    "optimizer_grouped_parameters=get_optimizer_parameters(model,klr)\n",
    "sampling=sampler(train_df[hemorrhage_types].values[idx_train],0.2,[0.2,0.2,0.2,0.2,0.2,0])\n",
    "sample_ratio=1.0 #1.02*float(sampling().shape[0])/idx_train.shape[0]\n",
    "train_dataset=D.Subset(combined_dataset,idx_train)\n",
    "validate_dataset=D.Subset(combined_dataset_val,idx_validate)\n",
    "num_train_optimization_steps = num_epochs*(sample_ratio*len(train_dataset)//batch_size+int(len(train_dataset)%batch_size>0))\n",
    "sched=WarmupExpCosineWithWarmupRestartsSchedule( t_total=num_train_optimization_steps, cycles=num_epochs,tau=1)\n",
    "optimizer = BertAdam(optimizer_grouped_parameters,lr=klr*1e-3,schedule=sched)\n",
    "history,best_model= model_train(model,\n",
    "                                optimizer,\n",
    "                                train_dataset,\n",
    "                                batch_size,\n",
    "                                num_epochs,\n",
    "                                loss_func,\n",
    "                                weights=weights,\n",
    "                                do_apex=False,\n",
    "                                validate_dataset=validate_dataset,\n",
    "                                param_schedualer=param_s,\n",
    "                                weights_data=None,\n",
    "                                metric=None,\n",
    "                                return_model=True,\n",
    "                                num_workers=num_workers,\n",
    "                                sampler=sampling)\n",
    "torch.save(best_model.state_dict(), models_dir+models_format.format(model_name,version,num_split))"
   ]
  },
  {
   "cell_type": "code",
   "execution_count": 10,
   "metadata": {},
   "outputs": [
    {
     "data": {
      "text/plain": [
       "<torch._C.Generator at 0x7f4befcbc170>"
      ]
     },
     "execution_count": 10,
     "metadata": {},
     "output_type": "execute_result"
    },
    {
     "data": {
      "application/javascript": [
       "/* Put everything inside the global mpl namespace */\n",
       "window.mpl = {};\n",
       "\n",
       "\n",
       "mpl.get_websocket_type = function() {\n",
       "    if (typeof(WebSocket) !== 'undefined') {\n",
       "        return WebSocket;\n",
       "    } else if (typeof(MozWebSocket) !== 'undefined') {\n",
       "        return MozWebSocket;\n",
       "    } else {\n",
       "        alert('Your browser does not have WebSocket support.' +\n",
       "              'Please try Chrome, Safari or Firefox ≥ 6. ' +\n",
       "              'Firefox 4 and 5 are also supported but you ' +\n",
       "              'have to enable WebSockets in about:config.');\n",
       "    };\n",
       "}\n",
       "\n",
       "mpl.figure = function(figure_id, websocket, ondownload, parent_element) {\n",
       "    this.id = figure_id;\n",
       "\n",
       "    this.ws = websocket;\n",
       "\n",
       "    this.supports_binary = (this.ws.binaryType != undefined);\n",
       "\n",
       "    if (!this.supports_binary) {\n",
       "        var warnings = document.getElementById(\"mpl-warnings\");\n",
       "        if (warnings) {\n",
       "            warnings.style.display = 'block';\n",
       "            warnings.textContent = (\n",
       "                \"This browser does not support binary websocket messages. \" +\n",
       "                    \"Performance may be slow.\");\n",
       "        }\n",
       "    }\n",
       "\n",
       "    this.imageObj = new Image();\n",
       "\n",
       "    this.context = undefined;\n",
       "    this.message = undefined;\n",
       "    this.canvas = undefined;\n",
       "    this.rubberband_canvas = undefined;\n",
       "    this.rubberband_context = undefined;\n",
       "    this.format_dropdown = undefined;\n",
       "\n",
       "    this.image_mode = 'full';\n",
       "\n",
       "    this.root = $('<div/>');\n",
       "    this._root_extra_style(this.root)\n",
       "    this.root.attr('style', 'display: inline-block');\n",
       "\n",
       "    $(parent_element).append(this.root);\n",
       "\n",
       "    this._init_header(this);\n",
       "    this._init_canvas(this);\n",
       "    this._init_toolbar(this);\n",
       "\n",
       "    var fig = this;\n",
       "\n",
       "    this.waiting = false;\n",
       "\n",
       "    this.ws.onopen =  function () {\n",
       "            fig.send_message(\"supports_binary\", {value: fig.supports_binary});\n",
       "            fig.send_message(\"send_image_mode\", {});\n",
       "            if (mpl.ratio != 1) {\n",
       "                fig.send_message(\"set_dpi_ratio\", {'dpi_ratio': mpl.ratio});\n",
       "            }\n",
       "            fig.send_message(\"refresh\", {});\n",
       "        }\n",
       "\n",
       "    this.imageObj.onload = function() {\n",
       "            if (fig.image_mode == 'full') {\n",
       "                // Full images could contain transparency (where diff images\n",
       "                // almost always do), so we need to clear the canvas so that\n",
       "                // there is no ghosting.\n",
       "                fig.context.clearRect(0, 0, fig.canvas.width, fig.canvas.height);\n",
       "            }\n",
       "            fig.context.drawImage(fig.imageObj, 0, 0);\n",
       "        };\n",
       "\n",
       "    this.imageObj.onunload = function() {\n",
       "        fig.ws.close();\n",
       "    }\n",
       "\n",
       "    this.ws.onmessage = this._make_on_message_function(this);\n",
       "\n",
       "    this.ondownload = ondownload;\n",
       "}\n",
       "\n",
       "mpl.figure.prototype._init_header = function() {\n",
       "    var titlebar = $(\n",
       "        '<div class=\"ui-dialog-titlebar ui-widget-header ui-corner-all ' +\n",
       "        'ui-helper-clearfix\"/>');\n",
       "    var titletext = $(\n",
       "        '<div class=\"ui-dialog-title\" style=\"width: 100%; ' +\n",
       "        'text-align: center; padding: 3px;\"/>');\n",
       "    titlebar.append(titletext)\n",
       "    this.root.append(titlebar);\n",
       "    this.header = titletext[0];\n",
       "}\n",
       "\n",
       "\n",
       "\n",
       "mpl.figure.prototype._canvas_extra_style = function(canvas_div) {\n",
       "\n",
       "}\n",
       "\n",
       "\n",
       "mpl.figure.prototype._root_extra_style = function(canvas_div) {\n",
       "\n",
       "}\n",
       "\n",
       "mpl.figure.prototype._init_canvas = function() {\n",
       "    var fig = this;\n",
       "\n",
       "    var canvas_div = $('<div/>');\n",
       "\n",
       "    canvas_div.attr('style', 'position: relative; clear: both; outline: 0');\n",
       "\n",
       "    function canvas_keyboard_event(event) {\n",
       "        return fig.key_event(event, event['data']);\n",
       "    }\n",
       "\n",
       "    canvas_div.keydown('key_press', canvas_keyboard_event);\n",
       "    canvas_div.keyup('key_release', canvas_keyboard_event);\n",
       "    this.canvas_div = canvas_div\n",
       "    this._canvas_extra_style(canvas_div)\n",
       "    this.root.append(canvas_div);\n",
       "\n",
       "    var canvas = $('<canvas/>');\n",
       "    canvas.addClass('mpl-canvas');\n",
       "    canvas.attr('style', \"left: 0; top: 0; z-index: 0; outline: 0\")\n",
       "\n",
       "    this.canvas = canvas[0];\n",
       "    this.context = canvas[0].getContext(\"2d\");\n",
       "\n",
       "    var backingStore = this.context.backingStorePixelRatio ||\n",
       "\tthis.context.webkitBackingStorePixelRatio ||\n",
       "\tthis.context.mozBackingStorePixelRatio ||\n",
       "\tthis.context.msBackingStorePixelRatio ||\n",
       "\tthis.context.oBackingStorePixelRatio ||\n",
       "\tthis.context.backingStorePixelRatio || 1;\n",
       "\n",
       "    mpl.ratio = (window.devicePixelRatio || 1) / backingStore;\n",
       "\n",
       "    var rubberband = $('<canvas/>');\n",
       "    rubberband.attr('style', \"position: absolute; left: 0; top: 0; z-index: 1;\")\n",
       "\n",
       "    var pass_mouse_events = true;\n",
       "\n",
       "    canvas_div.resizable({\n",
       "        start: function(event, ui) {\n",
       "            pass_mouse_events = false;\n",
       "        },\n",
       "        resize: function(event, ui) {\n",
       "            fig.request_resize(ui.size.width, ui.size.height);\n",
       "        },\n",
       "        stop: function(event, ui) {\n",
       "            pass_mouse_events = true;\n",
       "            fig.request_resize(ui.size.width, ui.size.height);\n",
       "        },\n",
       "    });\n",
       "\n",
       "    function mouse_event_fn(event) {\n",
       "        if (pass_mouse_events)\n",
       "            return fig.mouse_event(event, event['data']);\n",
       "    }\n",
       "\n",
       "    rubberband.mousedown('button_press', mouse_event_fn);\n",
       "    rubberband.mouseup('button_release', mouse_event_fn);\n",
       "    // Throttle sequential mouse events to 1 every 20ms.\n",
       "    rubberband.mousemove('motion_notify', mouse_event_fn);\n",
       "\n",
       "    rubberband.mouseenter('figure_enter', mouse_event_fn);\n",
       "    rubberband.mouseleave('figure_leave', mouse_event_fn);\n",
       "\n",
       "    canvas_div.on(\"wheel\", function (event) {\n",
       "        event = event.originalEvent;\n",
       "        event['data'] = 'scroll'\n",
       "        if (event.deltaY < 0) {\n",
       "            event.step = 1;\n",
       "        } else {\n",
       "            event.step = -1;\n",
       "        }\n",
       "        mouse_event_fn(event);\n",
       "    });\n",
       "\n",
       "    canvas_div.append(canvas);\n",
       "    canvas_div.append(rubberband);\n",
       "\n",
       "    this.rubberband = rubberband;\n",
       "    this.rubberband_canvas = rubberband[0];\n",
       "    this.rubberband_context = rubberband[0].getContext(\"2d\");\n",
       "    this.rubberband_context.strokeStyle = \"#000000\";\n",
       "\n",
       "    this._resize_canvas = function(width, height) {\n",
       "        // Keep the size of the canvas, canvas container, and rubber band\n",
       "        // canvas in synch.\n",
       "        canvas_div.css('width', width)\n",
       "        canvas_div.css('height', height)\n",
       "\n",
       "        canvas.attr('width', width * mpl.ratio);\n",
       "        canvas.attr('height', height * mpl.ratio);\n",
       "        canvas.attr('style', 'width: ' + width + 'px; height: ' + height + 'px;');\n",
       "\n",
       "        rubberband.attr('width', width);\n",
       "        rubberband.attr('height', height);\n",
       "    }\n",
       "\n",
       "    // Set the figure to an initial 600x600px, this will subsequently be updated\n",
       "    // upon first draw.\n",
       "    this._resize_canvas(600, 600);\n",
       "\n",
       "    // Disable right mouse context menu.\n",
       "    $(this.rubberband_canvas).bind(\"contextmenu\",function(e){\n",
       "        return false;\n",
       "    });\n",
       "\n",
       "    function set_focus () {\n",
       "        canvas.focus();\n",
       "        canvas_div.focus();\n",
       "    }\n",
       "\n",
       "    window.setTimeout(set_focus, 100);\n",
       "}\n",
       "\n",
       "mpl.figure.prototype._init_toolbar = function() {\n",
       "    var fig = this;\n",
       "\n",
       "    var nav_element = $('<div/>')\n",
       "    nav_element.attr('style', 'width: 100%');\n",
       "    this.root.append(nav_element);\n",
       "\n",
       "    // Define a callback function for later on.\n",
       "    function toolbar_event(event) {\n",
       "        return fig.toolbar_button_onclick(event['data']);\n",
       "    }\n",
       "    function toolbar_mouse_event(event) {\n",
       "        return fig.toolbar_button_onmouseover(event['data']);\n",
       "    }\n",
       "\n",
       "    for(var toolbar_ind in mpl.toolbar_items) {\n",
       "        var name = mpl.toolbar_items[toolbar_ind][0];\n",
       "        var tooltip = mpl.toolbar_items[toolbar_ind][1];\n",
       "        var image = mpl.toolbar_items[toolbar_ind][2];\n",
       "        var method_name = mpl.toolbar_items[toolbar_ind][3];\n",
       "\n",
       "        if (!name) {\n",
       "            // put a spacer in here.\n",
       "            continue;\n",
       "        }\n",
       "        var button = $('<button/>');\n",
       "        button.addClass('ui-button ui-widget ui-state-default ui-corner-all ' +\n",
       "                        'ui-button-icon-only');\n",
       "        button.attr('role', 'button');\n",
       "        button.attr('aria-disabled', 'false');\n",
       "        button.click(method_name, toolbar_event);\n",
       "        button.mouseover(tooltip, toolbar_mouse_event);\n",
       "\n",
       "        var icon_img = $('<span/>');\n",
       "        icon_img.addClass('ui-button-icon-primary ui-icon');\n",
       "        icon_img.addClass(image);\n",
       "        icon_img.addClass('ui-corner-all');\n",
       "\n",
       "        var tooltip_span = $('<span/>');\n",
       "        tooltip_span.addClass('ui-button-text');\n",
       "        tooltip_span.html(tooltip);\n",
       "\n",
       "        button.append(icon_img);\n",
       "        button.append(tooltip_span);\n",
       "\n",
       "        nav_element.append(button);\n",
       "    }\n",
       "\n",
       "    var fmt_picker_span = $('<span/>');\n",
       "\n",
       "    var fmt_picker = $('<select/>');\n",
       "    fmt_picker.addClass('mpl-toolbar-option ui-widget ui-widget-content');\n",
       "    fmt_picker_span.append(fmt_picker);\n",
       "    nav_element.append(fmt_picker_span);\n",
       "    this.format_dropdown = fmt_picker[0];\n",
       "\n",
       "    for (var ind in mpl.extensions) {\n",
       "        var fmt = mpl.extensions[ind];\n",
       "        var option = $(\n",
       "            '<option/>', {selected: fmt === mpl.default_extension}).html(fmt);\n",
       "        fmt_picker.append(option)\n",
       "    }\n",
       "\n",
       "    // Add hover states to the ui-buttons\n",
       "    $( \".ui-button\" ).hover(\n",
       "        function() { $(this).addClass(\"ui-state-hover\");},\n",
       "        function() { $(this).removeClass(\"ui-state-hover\");}\n",
       "    );\n",
       "\n",
       "    var status_bar = $('<span class=\"mpl-message\"/>');\n",
       "    nav_element.append(status_bar);\n",
       "    this.message = status_bar[0];\n",
       "}\n",
       "\n",
       "mpl.figure.prototype.request_resize = function(x_pixels, y_pixels) {\n",
       "    // Request matplotlib to resize the figure. Matplotlib will then trigger a resize in the client,\n",
       "    // which will in turn request a refresh of the image.\n",
       "    this.send_message('resize', {'width': x_pixels, 'height': y_pixels});\n",
       "}\n",
       "\n",
       "mpl.figure.prototype.send_message = function(type, properties) {\n",
       "    properties['type'] = type;\n",
       "    properties['figure_id'] = this.id;\n",
       "    this.ws.send(JSON.stringify(properties));\n",
       "}\n",
       "\n",
       "mpl.figure.prototype.send_draw_message = function() {\n",
       "    if (!this.waiting) {\n",
       "        this.waiting = true;\n",
       "        this.ws.send(JSON.stringify({type: \"draw\", figure_id: this.id}));\n",
       "    }\n",
       "}\n",
       "\n",
       "\n",
       "mpl.figure.prototype.handle_save = function(fig, msg) {\n",
       "    var format_dropdown = fig.format_dropdown;\n",
       "    var format = format_dropdown.options[format_dropdown.selectedIndex].value;\n",
       "    fig.ondownload(fig, format);\n",
       "}\n",
       "\n",
       "\n",
       "mpl.figure.prototype.handle_resize = function(fig, msg) {\n",
       "    var size = msg['size'];\n",
       "    if (size[0] != fig.canvas.width || size[1] != fig.canvas.height) {\n",
       "        fig._resize_canvas(size[0], size[1]);\n",
       "        fig.send_message(\"refresh\", {});\n",
       "    };\n",
       "}\n",
       "\n",
       "mpl.figure.prototype.handle_rubberband = function(fig, msg) {\n",
       "    var x0 = msg['x0'] / mpl.ratio;\n",
       "    var y0 = (fig.canvas.height - msg['y0']) / mpl.ratio;\n",
       "    var x1 = msg['x1'] / mpl.ratio;\n",
       "    var y1 = (fig.canvas.height - msg['y1']) / mpl.ratio;\n",
       "    x0 = Math.floor(x0) + 0.5;\n",
       "    y0 = Math.floor(y0) + 0.5;\n",
       "    x1 = Math.floor(x1) + 0.5;\n",
       "    y1 = Math.floor(y1) + 0.5;\n",
       "    var min_x = Math.min(x0, x1);\n",
       "    var min_y = Math.min(y0, y1);\n",
       "    var width = Math.abs(x1 - x0);\n",
       "    var height = Math.abs(y1 - y0);\n",
       "\n",
       "    fig.rubberband_context.clearRect(\n",
       "        0, 0, fig.canvas.width, fig.canvas.height);\n",
       "\n",
       "    fig.rubberband_context.strokeRect(min_x, min_y, width, height);\n",
       "}\n",
       "\n",
       "mpl.figure.prototype.handle_figure_label = function(fig, msg) {\n",
       "    // Updates the figure title.\n",
       "    fig.header.textContent = msg['label'];\n",
       "}\n",
       "\n",
       "mpl.figure.prototype.handle_cursor = function(fig, msg) {\n",
       "    var cursor = msg['cursor'];\n",
       "    switch(cursor)\n",
       "    {\n",
       "    case 0:\n",
       "        cursor = 'pointer';\n",
       "        break;\n",
       "    case 1:\n",
       "        cursor = 'default';\n",
       "        break;\n",
       "    case 2:\n",
       "        cursor = 'crosshair';\n",
       "        break;\n",
       "    case 3:\n",
       "        cursor = 'move';\n",
       "        break;\n",
       "    }\n",
       "    fig.rubberband_canvas.style.cursor = cursor;\n",
       "}\n",
       "\n",
       "mpl.figure.prototype.handle_message = function(fig, msg) {\n",
       "    fig.message.textContent = msg['message'];\n",
       "}\n",
       "\n",
       "mpl.figure.prototype.handle_draw = function(fig, msg) {\n",
       "    // Request the server to send over a new figure.\n",
       "    fig.send_draw_message();\n",
       "}\n",
       "\n",
       "mpl.figure.prototype.handle_image_mode = function(fig, msg) {\n",
       "    fig.image_mode = msg['mode'];\n",
       "}\n",
       "\n",
       "mpl.figure.prototype.updated_canvas_event = function() {\n",
       "    // Called whenever the canvas gets updated.\n",
       "    this.send_message(\"ack\", {});\n",
       "}\n",
       "\n",
       "// A function to construct a web socket function for onmessage handling.\n",
       "// Called in the figure constructor.\n",
       "mpl.figure.prototype._make_on_message_function = function(fig) {\n",
       "    return function socket_on_message(evt) {\n",
       "        if (evt.data instanceof Blob) {\n",
       "            /* FIXME: We get \"Resource interpreted as Image but\n",
       "             * transferred with MIME type text/plain:\" errors on\n",
       "             * Chrome.  But how to set the MIME type?  It doesn't seem\n",
       "             * to be part of the websocket stream */\n",
       "            evt.data.type = \"image/png\";\n",
       "\n",
       "            /* Free the memory for the previous frames */\n",
       "            if (fig.imageObj.src) {\n",
       "                (window.URL || window.webkitURL).revokeObjectURL(\n",
       "                    fig.imageObj.src);\n",
       "            }\n",
       "\n",
       "            fig.imageObj.src = (window.URL || window.webkitURL).createObjectURL(\n",
       "                evt.data);\n",
       "            fig.updated_canvas_event();\n",
       "            fig.waiting = false;\n",
       "            return;\n",
       "        }\n",
       "        else if (typeof evt.data === 'string' && evt.data.slice(0, 21) == \"data:image/png;base64\") {\n",
       "            fig.imageObj.src = evt.data;\n",
       "            fig.updated_canvas_event();\n",
       "            fig.waiting = false;\n",
       "            return;\n",
       "        }\n",
       "\n",
       "        var msg = JSON.parse(evt.data);\n",
       "        var msg_type = msg['type'];\n",
       "\n",
       "        // Call the  \"handle_{type}\" callback, which takes\n",
       "        // the figure and JSON message as its only arguments.\n",
       "        try {\n",
       "            var callback = fig[\"handle_\" + msg_type];\n",
       "        } catch (e) {\n",
       "            console.log(\"No handler for the '\" + msg_type + \"' message type: \", msg);\n",
       "            return;\n",
       "        }\n",
       "\n",
       "        if (callback) {\n",
       "            try {\n",
       "                // console.log(\"Handling '\" + msg_type + \"' message: \", msg);\n",
       "                callback(fig, msg);\n",
       "            } catch (e) {\n",
       "                console.log(\"Exception inside the 'handler_\" + msg_type + \"' callback:\", e, e.stack, msg);\n",
       "            }\n",
       "        }\n",
       "    };\n",
       "}\n",
       "\n",
       "// from http://stackoverflow.com/questions/1114465/getting-mouse-location-in-canvas\n",
       "mpl.findpos = function(e) {\n",
       "    //this section is from http://www.quirksmode.org/js/events_properties.html\n",
       "    var targ;\n",
       "    if (!e)\n",
       "        e = window.event;\n",
       "    if (e.target)\n",
       "        targ = e.target;\n",
       "    else if (e.srcElement)\n",
       "        targ = e.srcElement;\n",
       "    if (targ.nodeType == 3) // defeat Safari bug\n",
       "        targ = targ.parentNode;\n",
       "\n",
       "    // jQuery normalizes the pageX and pageY\n",
       "    // pageX,Y are the mouse positions relative to the document\n",
       "    // offset() returns the position of the element relative to the document\n",
       "    var x = e.pageX - $(targ).offset().left;\n",
       "    var y = e.pageY - $(targ).offset().top;\n",
       "\n",
       "    return {\"x\": x, \"y\": y};\n",
       "};\n",
       "\n",
       "/*\n",
       " * return a copy of an object with only non-object keys\n",
       " * we need this to avoid circular references\n",
       " * http://stackoverflow.com/a/24161582/3208463\n",
       " */\n",
       "function simpleKeys (original) {\n",
       "  return Object.keys(original).reduce(function (obj, key) {\n",
       "    if (typeof original[key] !== 'object')\n",
       "        obj[key] = original[key]\n",
       "    return obj;\n",
       "  }, {});\n",
       "}\n",
       "\n",
       "mpl.figure.prototype.mouse_event = function(event, name) {\n",
       "    var canvas_pos = mpl.findpos(event)\n",
       "\n",
       "    if (name === 'button_press')\n",
       "    {\n",
       "        this.canvas.focus();\n",
       "        this.canvas_div.focus();\n",
       "    }\n",
       "\n",
       "    var x = canvas_pos.x * mpl.ratio;\n",
       "    var y = canvas_pos.y * mpl.ratio;\n",
       "\n",
       "    this.send_message(name, {x: x, y: y, button: event.button,\n",
       "                             step: event.step,\n",
       "                             guiEvent: simpleKeys(event)});\n",
       "\n",
       "    /* This prevents the web browser from automatically changing to\n",
       "     * the text insertion cursor when the button is pressed.  We want\n",
       "     * to control all of the cursor setting manually through the\n",
       "     * 'cursor' event from matplotlib */\n",
       "    event.preventDefault();\n",
       "    return false;\n",
       "}\n",
       "\n",
       "mpl.figure.prototype._key_event_extra = function(event, name) {\n",
       "    // Handle any extra behaviour associated with a key event\n",
       "}\n",
       "\n",
       "mpl.figure.prototype.key_event = function(event, name) {\n",
       "\n",
       "    // Prevent repeat events\n",
       "    if (name == 'key_press')\n",
       "    {\n",
       "        if (event.which === this._key)\n",
       "            return;\n",
       "        else\n",
       "            this._key = event.which;\n",
       "    }\n",
       "    if (name == 'key_release')\n",
       "        this._key = null;\n",
       "\n",
       "    var value = '';\n",
       "    if (event.ctrlKey && event.which != 17)\n",
       "        value += \"ctrl+\";\n",
       "    if (event.altKey && event.which != 18)\n",
       "        value += \"alt+\";\n",
       "    if (event.shiftKey && event.which != 16)\n",
       "        value += \"shift+\";\n",
       "\n",
       "    value += 'k';\n",
       "    value += event.which.toString();\n",
       "\n",
       "    this._key_event_extra(event, name);\n",
       "\n",
       "    this.send_message(name, {key: value,\n",
       "                             guiEvent: simpleKeys(event)});\n",
       "    return false;\n",
       "}\n",
       "\n",
       "mpl.figure.prototype.toolbar_button_onclick = function(name) {\n",
       "    if (name == 'download') {\n",
       "        this.handle_save(this, null);\n",
       "    } else {\n",
       "        this.send_message(\"toolbar_button\", {name: name});\n",
       "    }\n",
       "};\n",
       "\n",
       "mpl.figure.prototype.toolbar_button_onmouseover = function(tooltip) {\n",
       "    this.message.textContent = tooltip;\n",
       "};\n",
       "mpl.toolbar_items = [[\"Home\", \"Reset original view\", \"fa fa-home icon-home\", \"home\"], [\"Back\", \"Back to  previous view\", \"fa fa-arrow-left icon-arrow-left\", \"back\"], [\"Forward\", \"Forward to next view\", \"fa fa-arrow-right icon-arrow-right\", \"forward\"], [\"\", \"\", \"\", \"\"], [\"Pan\", \"Pan axes with left mouse, zoom with right\", \"fa fa-arrows icon-move\", \"pan\"], [\"Zoom\", \"Zoom to rectangle\", \"fa fa-square-o icon-check-empty\", \"zoom\"], [\"\", \"\", \"\", \"\"], [\"Download\", \"Download plot\", \"fa fa-floppy-o icon-save\", \"download\"]];\n",
       "\n",
       "mpl.extensions = [\"eps\", \"jpeg\", \"pdf\", \"png\", \"ps\", \"raw\", \"svg\", \"tif\"];\n",
       "\n",
       "mpl.default_extension = \"png\";var comm_websocket_adapter = function(comm) {\n",
       "    // Create a \"websocket\"-like object which calls the given IPython comm\n",
       "    // object with the appropriate methods. Currently this is a non binary\n",
       "    // socket, so there is still some room for performance tuning.\n",
       "    var ws = {};\n",
       "\n",
       "    ws.close = function() {\n",
       "        comm.close()\n",
       "    };\n",
       "    ws.send = function(m) {\n",
       "        //console.log('sending', m);\n",
       "        comm.send(m);\n",
       "    };\n",
       "    // Register the callback with on_msg.\n",
       "    comm.on_msg(function(msg) {\n",
       "        //console.log('receiving', msg['content']['data'], msg);\n",
       "        // Pass the mpl event to the overridden (by mpl) onmessage function.\n",
       "        ws.onmessage(msg['content']['data'])\n",
       "    });\n",
       "    return ws;\n",
       "}\n",
       "\n",
       "mpl.mpl_figure_comm = function(comm, msg) {\n",
       "    // This is the function which gets called when the mpl process\n",
       "    // starts-up an IPython Comm through the \"matplotlib\" channel.\n",
       "\n",
       "    var id = msg.content.data.id;\n",
       "    // Get hold of the div created by the display call when the Comm\n",
       "    // socket was opened in Python.\n",
       "    var element = $(\"#\" + id);\n",
       "    var ws_proxy = comm_websocket_adapter(comm)\n",
       "\n",
       "    function ondownload(figure, format) {\n",
       "        window.open(figure.imageObj.src);\n",
       "    }\n",
       "\n",
       "    var fig = new mpl.figure(id, ws_proxy,\n",
       "                           ondownload,\n",
       "                           element.get(0));\n",
       "\n",
       "    // Call onopen now - mpl needs it, as it is assuming we've passed it a real\n",
       "    // web socket which is closed, not our websocket->open comm proxy.\n",
       "    ws_proxy.onopen();\n",
       "\n",
       "    fig.parent_element = element.get(0);\n",
       "    fig.cell_info = mpl.find_output_cell(\"<div id='\" + id + \"'></div>\");\n",
       "    if (!fig.cell_info) {\n",
       "        console.error(\"Failed to find cell for figure\", id, fig);\n",
       "        return;\n",
       "    }\n",
       "\n",
       "    var output_index = fig.cell_info[2]\n",
       "    var cell = fig.cell_info[0];\n",
       "\n",
       "};\n",
       "\n",
       "mpl.figure.prototype.handle_close = function(fig, msg) {\n",
       "    var width = fig.canvas.width/mpl.ratio\n",
       "    fig.root.unbind('remove')\n",
       "\n",
       "    // Update the output cell to use the data from the current canvas.\n",
       "    fig.push_to_output();\n",
       "    var dataURL = fig.canvas.toDataURL();\n",
       "    // Re-enable the keyboard manager in IPython - without this line, in FF,\n",
       "    // the notebook keyboard shortcuts fail.\n",
       "    IPython.keyboard_manager.enable()\n",
       "    $(fig.parent_element).html('<img src=\"' + dataURL + '\" width=\"' + width + '\">');\n",
       "    fig.close_ws(fig, msg);\n",
       "}\n",
       "\n",
       "mpl.figure.prototype.close_ws = function(fig, msg){\n",
       "    fig.send_message('closing', msg);\n",
       "    // fig.ws.close()\n",
       "}\n",
       "\n",
       "mpl.figure.prototype.push_to_output = function(remove_interactive) {\n",
       "    // Turn the data on the canvas into data in the output cell.\n",
       "    var width = this.canvas.width/mpl.ratio\n",
       "    var dataURL = this.canvas.toDataURL();\n",
       "    this.cell_info[1]['text/html'] = '<img src=\"' + dataURL + '\" width=\"' + width + '\">';\n",
       "}\n",
       "\n",
       "mpl.figure.prototype.updated_canvas_event = function() {\n",
       "    // Tell IPython that the notebook contents must change.\n",
       "    IPython.notebook.set_dirty(true);\n",
       "    this.send_message(\"ack\", {});\n",
       "    var fig = this;\n",
       "    // Wait a second, then push the new image to the DOM so\n",
       "    // that it is saved nicely (might be nice to debounce this).\n",
       "    setTimeout(function () { fig.push_to_output() }, 1000);\n",
       "}\n",
       "\n",
       "mpl.figure.prototype._init_toolbar = function() {\n",
       "    var fig = this;\n",
       "\n",
       "    var nav_element = $('<div/>')\n",
       "    nav_element.attr('style', 'width: 100%');\n",
       "    this.root.append(nav_element);\n",
       "\n",
       "    // Define a callback function for later on.\n",
       "    function toolbar_event(event) {\n",
       "        return fig.toolbar_button_onclick(event['data']);\n",
       "    }\n",
       "    function toolbar_mouse_event(event) {\n",
       "        return fig.toolbar_button_onmouseover(event['data']);\n",
       "    }\n",
       "\n",
       "    for(var toolbar_ind in mpl.toolbar_items){\n",
       "        var name = mpl.toolbar_items[toolbar_ind][0];\n",
       "        var tooltip = mpl.toolbar_items[toolbar_ind][1];\n",
       "        var image = mpl.toolbar_items[toolbar_ind][2];\n",
       "        var method_name = mpl.toolbar_items[toolbar_ind][3];\n",
       "\n",
       "        if (!name) { continue; };\n",
       "\n",
       "        var button = $('<button class=\"btn btn-default\" href=\"#\" title=\"' + name + '\"><i class=\"fa ' + image + ' fa-lg\"></i></button>');\n",
       "        button.click(method_name, toolbar_event);\n",
       "        button.mouseover(tooltip, toolbar_mouse_event);\n",
       "        nav_element.append(button);\n",
       "    }\n",
       "\n",
       "    // Add the status bar.\n",
       "    var status_bar = $('<span class=\"mpl-message\" style=\"text-align:right; float: right;\"/>');\n",
       "    nav_element.append(status_bar);\n",
       "    this.message = status_bar[0];\n",
       "\n",
       "    // Add the close button to the window.\n",
       "    var buttongrp = $('<div class=\"btn-group inline pull-right\"></div>');\n",
       "    var button = $('<button class=\"btn btn-mini btn-primary\" href=\"#\" title=\"Stop Interaction\"><i class=\"fa fa-power-off icon-remove icon-large\"></i></button>');\n",
       "    button.click(function (evt) { fig.handle_close(fig, {}); } );\n",
       "    button.mouseover('Stop Interaction', toolbar_mouse_event);\n",
       "    buttongrp.append(button);\n",
       "    var titlebar = this.root.find($('.ui-dialog-titlebar'));\n",
       "    titlebar.prepend(buttongrp);\n",
       "}\n",
       "\n",
       "mpl.figure.prototype._root_extra_style = function(el){\n",
       "    var fig = this\n",
       "    el.on(\"remove\", function(){\n",
       "\tfig.close_ws(fig, {});\n",
       "    });\n",
       "}\n",
       "\n",
       "mpl.figure.prototype._canvas_extra_style = function(el){\n",
       "    // this is important to make the div 'focusable\n",
       "    el.attr('tabindex', 0)\n",
       "    // reach out to IPython and tell the keyboard manager to turn it's self\n",
       "    // off when our div gets focus\n",
       "\n",
       "    // location in version 3\n",
       "    if (IPython.notebook.keyboard_manager) {\n",
       "        IPython.notebook.keyboard_manager.register_events(el);\n",
       "    }\n",
       "    else {\n",
       "        // location in version 2\n",
       "        IPython.keyboard_manager.register_events(el);\n",
       "    }\n",
       "\n",
       "}\n",
       "\n",
       "mpl.figure.prototype._key_event_extra = function(event, name) {\n",
       "    var manager = IPython.notebook.keyboard_manager;\n",
       "    if (!manager)\n",
       "        manager = IPython.keyboard_manager;\n",
       "\n",
       "    // Check for shift+enter\n",
       "    if (event.shiftKey && event.which == 13) {\n",
       "        this.canvas_div.blur();\n",
       "        event.shiftKey = false;\n",
       "        // Send a \"J\" for go to next cell\n",
       "        event.which = 74;\n",
       "        event.keyCode = 74;\n",
       "        manager.command_mode();\n",
       "        manager.handle_keydown(event);\n",
       "    }\n",
       "}\n",
       "\n",
       "mpl.figure.prototype.handle_save = function(fig, msg) {\n",
       "    fig.ondownload(fig, null);\n",
       "}\n",
       "\n",
       "\n",
       "mpl.find_output_cell = function(html_output) {\n",
       "    // Return the cell and output element which can be found *uniquely* in the notebook.\n",
       "    // Note - this is a bit hacky, but it is done because the \"notebook_saving.Notebook\"\n",
       "    // IPython event is triggered only after the cells have been serialised, which for\n",
       "    // our purposes (turning an active figure into a static one), is too late.\n",
       "    var cells = IPython.notebook.get_cells();\n",
       "    var ncells = cells.length;\n",
       "    for (var i=0; i<ncells; i++) {\n",
       "        var cell = cells[i];\n",
       "        if (cell.cell_type === 'code'){\n",
       "            for (var j=0; j<cell.output_area.outputs.length; j++) {\n",
       "                var data = cell.output_area.outputs[j];\n",
       "                if (data.data) {\n",
       "                    // IPython >= 3 moved mimebundle to data attribute of output\n",
       "                    data = data.data;\n",
       "                }\n",
       "                if (data['text/html'] == html_output) {\n",
       "                    return [cell, data, j];\n",
       "                }\n",
       "            }\n",
       "        }\n",
       "    }\n",
       "}\n",
       "\n",
       "// Register the function which deals with the matplotlib target/channel.\n",
       "// The kernel may be null if the page has been refreshed.\n",
       "if (IPython.notebook.kernel != null) {\n",
       "    IPython.notebook.kernel.comm_manager.register_target('matplotlib', mpl.mpl_figure_comm);\n",
       "}\n"
      ],
      "text/plain": [
       "<IPython.core.display.Javascript object>"
      ]
     },
     "metadata": {},
     "output_type": "display_data"
    },
    {
     "data": {
      "text/html": [
       "<img src=\"data:image/png;base64,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\" width=\"1000\">"
      ],
      "text/plain": [
       "<IPython.core.display.HTML object>"
      ]
     },
     "metadata": {},
     "output_type": "display_data"
    },
    {
     "data": {
      "application/vnd.jupyter.widget-view+json": {
       "model_id": "2920fc53abdc41a6bfc85a50f7dfc6ea",
       "version_major": 2,
       "version_minor": 0
      },
      "text/plain": [
       "HBox(children=(IntProgress(value=0, max=6), HTML(value='')))"
      ]
     },
     "metadata": {},
     "output_type": "display_data"
    },
    {
     "data": {
      "application/vnd.jupyter.widget-view+json": {
       "model_id": "b911b5b4e1f64d48b21bfdf8e2335874",
       "version_major": 2,
       "version_minor": 0
      },
      "text/plain": [
       "HBox(children=(IntProgress(value=0, max=6059), HTML(value='')))"
      ]
     },
     "metadata": {},
     "output_type": "display_data"
    },
    {
     "data": {
      "application/vnd.jupyter.widget-view+json": {
       "model_id": "aadac5a6213d47b3aec387e215a32484",
       "version_major": 2,
       "version_minor": 0
      },
      "text/plain": [
       "HBox(children=(IntProgress(value=0, max=2803), HTML(value='')))"
      ]
     },
     "metadata": {},
     "output_type": "display_data"
    },
    {
     "name": "stdout",
     "output_type": "stream",
     "text": [
      "{'loss': 0.23853264965691676, 'val_loss': 0.21048164769975236}\n"
     ]
    },
    {
     "data": {
      "application/vnd.jupyter.widget-view+json": {
       "model_id": "644be52f331241fdae0bd4ba6856681d",
       "version_major": 2,
       "version_minor": 0
      },
      "text/plain": [
       "HBox(children=(IntProgress(value=0, max=6059), HTML(value='')))"
      ]
     },
     "metadata": {},
     "output_type": "display_data"
    },
    {
     "data": {
      "application/vnd.jupyter.widget-view+json": {
       "model_id": "aa0353a2370549b08fd4cac89bd71abc",
       "version_major": 2,
       "version_minor": 0
      },
      "text/plain": [
       "HBox(children=(IntProgress(value=0, max=2803), HTML(value='')))"
      ]
     },
     "metadata": {},
     "output_type": "display_data"
    },
    {
     "name": "stdout",
     "output_type": "stream",
     "text": [
      "{'loss': 0.08749159042731146, 'val_loss': 0.10008033753256106}\n",
      "\n",
      "0.10008033753256106\n"
     ]
    }
   ],
   "source": [
    "%matplotlib nbagg\n",
    "num_split=0\n",
    "np.random.seed(SEED+num_split)\n",
    "torch.manual_seed(SEED+num_split)\n",
    "torch.cuda.manual_seed(SEED+num_split)\n",
    "torch.backends.cudnn.deterministic = True\n",
    "klr=1\n",
    "batch_size=24\n",
    "num_workers=12\n",
    "num_epochs=6\n",
    "model_name,version = 'efficientnet_5b5' , 'classifier1'\n",
    "model = MyEfficientNet(ptcv_get_model(\"efficientnet_b5b\", pretrained=True),len(hemorrhage_types),dropout=0.5)\n",
    "#model.load_state_dict(torch.load(models_dir+models_format.format(model_name,'basic1',num_split),map_location=torch.device(device)))\n",
    "_=model.to(device)\n",
    "param_s=parameter_scheduler(model,num_epoch=1)        \n",
    "weights = torch.tensor([1.,1.,1.,1.,1.,2.],device=device)\n",
    "loss_func=my_loss\n",
    "targets_dataset=D.TensorDataset(torch.tensor(train_df[hemorrhage_types].values,dtype=torch.float))\n",
    "transform=MyTransform(flip=True,zoom=0.1,rotate=20,out_size=384,shift=40)\n",
    "imagedataset = ImageDataset(train_df,transform=transform.random,base_path=train_images_dir,out_shape=(1,384,384))\n",
    "transform_val=MyTransform(out_size=384)\n",
    "imagedataset_val = ImageDataset(train_df,transform=transform_val.random,base_path=train_images_dir,out_shape=(1,384,384))\n",
    "combined_dataset=DatasetCat([imagedataset,targets_dataset])\n",
    "combined_dataset_val=DatasetCat([imagedataset_val,targets_dataset])\n",
    "optimizer_grouped_parameters=get_optimizer_parameters(model,klr)\n",
    "sampling=sampler(train_df[hemorrhage_types].values[idx_train],0.2,[0.2,0.2,0.2,0.2,0.2,0])\n",
    "sample_ratio=1.0 #1.02*float(sampling().shape[0])/idx_train.shape[0]\n",
    "train_dataset=D.Subset(combined_dataset,idx_train)\n",
    "validate_dataset=D.Subset(combined_dataset_val,idx_validate)\n",
    "fig,ax = plt.subplots(figsize=(10,7))\n",
    "gr=loss_graph(fig,ax,num_epochs,len(train_dataset)//batch_size+1)\n",
    "num_train_optimization_steps = num_epochs*(sample_ratio*len(train_dataset)//batch_size+int(len(train_dataset)%batch_size>0))\n",
    "sched=WarmupExpCosineWithWarmupRestartsSchedule( t_total=num_train_optimization_steps, cycles=num_epochs//2,tau=1)\n",
    "optimizer = BertAdam(optimizer_grouped_parameters,lr=klr*1e-3,schedule=sched)\n",
    "history,best_model= model_train(model,\n",
    "                                optimizer,\n",
    "                                train_dataset,\n",
    "                                batch_size,\n",
    "                                num_epochs,\n",
    "                                loss_func,\n",
    "                                weights=weights,\n",
    "                                do_apex=False,\n",
    "                                validate_dataset=validate_dataset,\n",
    "                                param_schedualer=param_s,\n",
    "                                weights_data=None,\n",
    "                                metric=None,\n",
    "                                return_model=True,\n",
    "                                num_workers=num_workers,\n",
    "                                sampler=sampling,\n",
    "                                graph=gr)\n",
    "torch.save(best_model.state_dict(), models_dir+models_format.format(model_name,version,num_split))"
   ]
  },
  {
   "cell_type": "code",
   "execution_count": 11,
   "metadata": {},
   "outputs": [
    {
     "data": {
      "text/plain": [
       "[{'loss': 0.23853264965691676, 'val_loss': 0.21048164769975236},\n",
       " {'loss': 0.11714664180128219, 'val_loss': 0.12524312680429017},\n",
       " {'loss': 0.10325279587022022, 'val_loss': 0.11019016826835827},\n",
       " {'loss': 0.09664503987658389, 'val_loss': 0.10511935364008594},\n",
       " {'loss': 0.08281671897778738, 'val_loss': 0.10558856802900653},\n",
       " {'loss': 0.08749159042731146, 'val_loss': 0.10008033753256106}]"
      ]
     },
     "execution_count": 11,
     "metadata": {},
     "output_type": "execute_result"
    }
   ],
   "source": [
    "history"
   ]
  },
  {
   "cell_type": "code",
   "execution_count": 12,
   "metadata": {},
   "outputs": [
    {
     "data": {
      "text/plain": [
       "<torch._C.Generator at 0x7fc0394b4150>"
      ]
     },
     "execution_count": 12,
     "metadata": {},
     "output_type": "execute_result"
    },
    {
     "data": {
      "application/vnd.jupyter.widget-view+json": {
       "model_id": "959e28d97bf8474685e9f5af2872dc52",
       "version_major": 2,
       "version_minor": 0
      },
      "text/plain": [
       "HBox(children=(IntProgress(value=0, max=1), HTML(value='')))"
      ]
     },
     "metadata": {},
     "output_type": "display_data"
    },
    {
     "data": {
      "application/vnd.jupyter.widget-view+json": {
       "model_id": "43be7ce4f6d142e9a53a3c022c86b881",
       "version_major": 2,
       "version_minor": 0
      },
      "text/plain": [
       "HBox(children=(IntProgress(value=0, max=25302), HTML(value='')))"
      ]
     },
     "metadata": {},
     "output_type": "display_data"
    },
    {
     "ename": "KeyboardInterrupt",
     "evalue": "",
     "output_type": "error",
     "traceback": [
      "\u001b[0;31m---------------------------------------------------------------------------\u001b[0m",
      "\u001b[0;31mKeyboardInterrupt\u001b[0m                         Traceback (most recent call last)",
      "\u001b[0;32m<ipython-input-12-ee54f9669664>\u001b[0m in \u001b[0;36m<module>\u001b[0;34m\u001b[0m\n\u001b[1;32m     51\u001b[0m                                 \u001b[0mreturn_model\u001b[0m\u001b[0;34m=\u001b[0m\u001b[0;32mTrue\u001b[0m\u001b[0;34m,\u001b[0m\u001b[0;34m\u001b[0m\u001b[0m\n\u001b[1;32m     52\u001b[0m                                 \u001b[0mnum_workers\u001b[0m\u001b[0;34m=\u001b[0m\u001b[0mnum_workers\u001b[0m\u001b[0;34m,\u001b[0m\u001b[0;34m\u001b[0m\u001b[0m\n\u001b[0;32m---> 53\u001b[0;31m                                 sampler=None)\n\u001b[0m\u001b[1;32m     54\u001b[0m \u001b[0mtorch\u001b[0m\u001b[0;34m.\u001b[0m\u001b[0msave\u001b[0m\u001b[0;34m(\u001b[0m\u001b[0mbest_model\u001b[0m\u001b[0;34m.\u001b[0m\u001b[0mstate_dict\u001b[0m\u001b[0;34m(\u001b[0m\u001b[0;34m)\u001b[0m\u001b[0;34m,\u001b[0m \u001b[0mmodels_dir\u001b[0m\u001b[0;34m+\u001b[0m\u001b[0mmodels_format\u001b[0m\u001b[0;34m.\u001b[0m\u001b[0mformat\u001b[0m\u001b[0;34m(\u001b[0m\u001b[0mmodel_name\u001b[0m\u001b[0;34m,\u001b[0m\u001b[0mversion\u001b[0m\u001b[0;34m,\u001b[0m\u001b[0mnum_split\u001b[0m\u001b[0;34m)\u001b[0m\u001b[0;34m)\u001b[0m\u001b[0;34m\u001b[0m\u001b[0m\n",
      "\u001b[0;32m~/kaggle/RSNA/helper/mytraining.py\u001b[0m in \u001b[0;36mmodel_train\u001b[0;34m(model, optimizer, train_dataset, batch_size, num_epochs, loss_func, weights, accumulation_steps, weights_func, do_apex, validate_dataset, validate_loss, metric, param_schedualer, weights_data, history, return_model, num_workers, sampler)\u001b[0m\n\u001b[1;32m     76\u001b[0m                     \u001b[0mscaled_loss\u001b[0m\u001b[0;34m.\u001b[0m\u001b[0mbackward\u001b[0m\u001b[0;34m(\u001b[0m\u001b[0;34m)\u001b[0m\u001b[0;34m\u001b[0m\u001b[0m\n\u001b[1;32m     77\u001b[0m             \u001b[0;32melse\u001b[0m\u001b[0;34m:\u001b[0m\u001b[0;34m\u001b[0m\u001b[0m\n\u001b[0;32m---> 78\u001b[0;31m                 \u001b[0mloss\u001b[0m\u001b[0;34m.\u001b[0m\u001b[0mbackward\u001b[0m\u001b[0;34m(\u001b[0m\u001b[0;34m)\u001b[0m\u001b[0;34m\u001b[0m\u001b[0m\n\u001b[0m\u001b[1;32m     79\u001b[0m             \u001b[0;32mif\u001b[0m \u001b[0;34m(\u001b[0m\u001b[0mi\u001b[0m\u001b[0;34m+\u001b[0m\u001b[0;36m1\u001b[0m\u001b[0;34m)\u001b[0m \u001b[0;34m%\u001b[0m \u001b[0maccumulation_steps\u001b[0m \u001b[0;34m==\u001b[0m \u001b[0;36m0\u001b[0m\u001b[0;34m:\u001b[0m             \u001b[0;31m# Wait for several backward steps\u001b[0m\u001b[0;34m\u001b[0m\u001b[0m\n\u001b[1;32m     80\u001b[0m                 \u001b[0moptimizer\u001b[0m\u001b[0;34m.\u001b[0m\u001b[0mstep\u001b[0m\u001b[0;34m(\u001b[0m\u001b[0;34m)\u001b[0m                            \u001b[0;31m# Now we can do an optimizer step\u001b[0m\u001b[0;34m\u001b[0m\u001b[0m\n",
      "\u001b[0;32m~/anaconda3/envs/RSNA/lib/python3.6/site-packages/torch/tensor.py\u001b[0m in \u001b[0;36mbackward\u001b[0;34m(self, gradient, retain_graph, create_graph)\u001b[0m\n\u001b[1;32m    100\u001b[0m                 \u001b[0mproducts\u001b[0m\u001b[0;34m.\u001b[0m \u001b[0mDefaults\u001b[0m \u001b[0mto\u001b[0m\u001b[0;31m \u001b[0m\u001b[0;31m`\u001b[0m\u001b[0;31m`\u001b[0m\u001b[0;32mFalse\u001b[0m\u001b[0;31m`\u001b[0m\u001b[0;31m`\u001b[0m\u001b[0;34m.\u001b[0m\u001b[0;34m\u001b[0m\u001b[0m\n\u001b[1;32m    101\u001b[0m         \"\"\"\n\u001b[0;32m--> 102\u001b[0;31m         \u001b[0mtorch\u001b[0m\u001b[0;34m.\u001b[0m\u001b[0mautograd\u001b[0m\u001b[0;34m.\u001b[0m\u001b[0mbackward\u001b[0m\u001b[0;34m(\u001b[0m\u001b[0mself\u001b[0m\u001b[0;34m,\u001b[0m \u001b[0mgradient\u001b[0m\u001b[0;34m,\u001b[0m \u001b[0mretain_graph\u001b[0m\u001b[0;34m,\u001b[0m \u001b[0mcreate_graph\u001b[0m\u001b[0;34m)\u001b[0m\u001b[0;34m\u001b[0m\u001b[0m\n\u001b[0m\u001b[1;32m    103\u001b[0m \u001b[0;34m\u001b[0m\u001b[0m\n\u001b[1;32m    104\u001b[0m     \u001b[0;32mdef\u001b[0m \u001b[0mregister_hook\u001b[0m\u001b[0;34m(\u001b[0m\u001b[0mself\u001b[0m\u001b[0;34m,\u001b[0m \u001b[0mhook\u001b[0m\u001b[0;34m)\u001b[0m\u001b[0;34m:\u001b[0m\u001b[0;34m\u001b[0m\u001b[0m\n",
      "\u001b[0;32m~/anaconda3/envs/RSNA/lib/python3.6/site-packages/torch/autograd/__init__.py\u001b[0m in \u001b[0;36mbackward\u001b[0;34m(tensors, grad_tensors, retain_graph, create_graph, grad_variables)\u001b[0m\n\u001b[1;32m     88\u001b[0m     Variable._execution_engine.run_backward(\n\u001b[1;32m     89\u001b[0m         \u001b[0mtensors\u001b[0m\u001b[0;34m,\u001b[0m \u001b[0mgrad_tensors\u001b[0m\u001b[0;34m,\u001b[0m \u001b[0mretain_graph\u001b[0m\u001b[0;34m,\u001b[0m \u001b[0mcreate_graph\u001b[0m\u001b[0;34m,\u001b[0m\u001b[0;34m\u001b[0m\u001b[0m\n\u001b[0;32m---> 90\u001b[0;31m         allow_unreachable=True)  # allow_unreachable flag\n\u001b[0m\u001b[1;32m     91\u001b[0m \u001b[0;34m\u001b[0m\u001b[0m\n\u001b[1;32m     92\u001b[0m \u001b[0;34m\u001b[0m\u001b[0m\n",
      "\u001b[0;31mKeyboardInterrupt\u001b[0m: "
     ]
    }
   ],
   "source": [
    "num_split=0\n",
    "np.random.seed(SEED+num_split)\n",
    "torch.manual_seed(SEED+num_split)\n",
    "torch.cuda.manual_seed(SEED+num_split)\n",
    "torch.backends.cudnn.deterministic = True\n",
    "klr=1\n",
    "batch_size=24\n",
    "num_workers=12\n",
    "num_epochs=1\n",
    "model_name,version = 'efficientnet_5b5' , 'basic1_classifier'\n",
    "model = MyEfficientNet(ptcv_get_model(\"efficientnet_b5b\", pretrained=True),len(hemorrhage_types))\n",
    "model.load_state_dict(torch.load(models_dir+models_format.format(model_name,'basic1',num_split),map_location=torch.device(device)))\n",
    "_=model.to(device)\n",
    "param_optimizer = list(model.named_parameters())\n",
    "no_decay=['bias']\n",
    "optimizer_grouped_parameters=[\n",
    "    {'params': [p for n, p in param_optimizer if (not any(nd in n for nd in no_decay) and ('classifier' in n))], 'lr':klr*1e-3,'weight_decay': 0.01},\n",
    "    {'params': [p for n, p in param_optimizer if any(nd in n for nd in no_decay)  and ('classifier' in n)], 'lr':klr*1e-3, 'weight_decay': 0.0}\n",
    "    ]\n",
    "        \n",
    "weights = torch.tensor([1.,1.,1.,1.,1.,2.],device=device)\n",
    "loss_func=my_loss\n",
    "targets_dataset=D.TensorDataset(torch.tensor(train_df[hemorrhage_types].values,dtype=torch.float))\n",
    "transform=MyTransform(flip=True,zoom=0.05,rotate=15,out_size=384,shift=40)\n",
    "imagedataset = ImageDataset(train_df,transform=transform.random,base_path=train_images_dir,out_shape=(1,384,384))\n",
    "transform_val=MyTransform(out_size=384)\n",
    "imagedataset_val = ImageDataset(train_df,transform=transform_val.random,base_path=train_images_dir,out_shape=(1,384,384))\n",
    "combined_dataset=DatasetCat([imagedataset,targets_dataset])\n",
    "combined_dataset_val=DatasetCat([imagedataset_val,targets_dataset])\n",
    "#param_s=parameter_scheduler(model,num_epoch=0)\n",
    "optimizer_grouped_parameters=get_optimizer_parameters(model,klr)\n",
    "#sampling=sampler(train_df[hemorrhage_types].values[idx_train],0.2,[10,1,1,1,1,0])\n",
    "sample_ratio=1.0 #1.02*float(sampling().shape[0])/idx_train.shape[0]\n",
    "train_dataset=D.Subset(combined_dataset,idx_train)\n",
    "validate_dataset=D.Subset(combined_dataset_val,idx_validate)\n",
    "num_train_optimization_steps = num_epochs*(sample_ratio*len(train_dataset)//batch_size+int(len(train_dataset)%batch_size>0))\n",
    "sched=WarmupExpCosineWithWarmupRestartsSchedule( t_total=num_train_optimization_steps, cycles=num_epochs,tau=0)\n",
    "optimizer = BertAdam(optimizer_grouped_parameters,lr=klr*1e-3,schedule=sched)\n",
    "history,best_model= model_train(model,\n",
    "                                optimizer,\n",
    "                                train_dataset,\n",
    "                                batch_size,\n",
    "                                num_epochs,\n",
    "                                loss_func,\n",
    "                                weights=weights,\n",
    "                                do_apex=False,\n",
    "                                validate_dataset=validate_dataset,\n",
    "                                param_schedualer=None,\n",
    "                                weights_data=None,\n",
    "                                metric=None,\n",
    "                                return_model=True,\n",
    "                                num_workers=num_workers,\n",
    "                                sampler=None)\n",
    "torch.save(best_model.state_dict(), models_dir+models_format.format(model_name,version,num_split))"
   ]
  },
  {
   "cell_type": "code",
   "execution_count": null,
   "metadata": {},
   "outputs": [],
   "source": [
    "num_split=0\n",
    "np.random.seed(SEED+num_split)\n",
    "torch.manual_seed(SEED+num_split)\n",
    "torch.cuda.manual_seed(SEED+num_split)\n",
    "torch.backends.cudnn.deterministic = True\n",
    "klr=3\n",
    "batch_size=24\n",
    "num_workers=12\n",
    "num_epochs=1\n",
    "model_name,version = 'efficientnet_5b5' , 'basic_classifier1'\n",
    "model = MyEfficientNet(ptcv_get_model(\"efficientnet_b5b\", pretrained=True),len(hemorrhage_types))\n",
    "model.load_state_dict(torch.load(models_dir+models_format.format(model_name,'basic',num_split),map_location=torch.device(device)))\n",
    "_=model.to(device)\n",
    "param_optimizer = list(model.named_parameters())\n",
    "no_decay=['bias']\n",
    "optimizer_grouped_parameters=[\n",
    "    {'params': [p for n, p in param_optimizer if (not any(nd in n for nd in no_decay) and ('classifier' in n))], 'lr':klr*1e-3,'weight_decay': 0.01},\n",
    "    {'params': [p for n, p in param_optimizer if any(nd in n for nd in no_decay)  and ('classifier' in n)], 'lr':klr*1e-3, 'weight_decay': 0.0}\n",
    "    ]\n",
    "        \n",
    "weights = torch.tensor([1.,1.,1.,1.,1.,2.],device=device)\n",
    "loss_func=my_loss\n",
    "targets_dataset=D.TensorDataset(torch.tensor(train_df[hemorrhage_types].values,dtype=torch.float))\n",
    "transform=MyTransform(flip=True,zoom=0.05,rotate=15,out_size=384,shift=40)\n",
    "imagedataset = ImageDataset(train_df,transform=transform.random,base_path=train_images_dir,out_shape=(1,384,384))\n",
    "transform_val=MyTransform(out_size=384)\n",
    "imagedataset_val = ImageDataset(train_df,transform=transform_val.random,base_path=train_images_dir,out_shape=(1,384,384))\n",
    "combined_dataset=DatasetCat([imagedataset,targets_dataset])\n",
    "combined_dataset_val=DatasetCat([imagedataset_val,targets_dataset])\n",
    "#param_s=parameter_scheduler(model,num_epoch=0)\n",
    "optimizer_grouped_parameters=get_optimizer_parameters(model,klr)\n",
    "#sampling=sampler(train_df[hemorrhage_types].values[idx_train],0.2,[10,1,1,1,1,0])\n",
    "sample_ratio=1.0 #1.02*float(sampling().shape[0])/idx_train.shape[0]\n",
    "train_dataset=D.Subset(combined_dataset,idx_train)\n",
    "validate_dataset=D.Subset(combined_dataset_val,idx_validate)\n",
    "num_train_optimization_steps = num_epochs*(sample_ratio*len(train_dataset)//batch_size+int(len(train_dataset)%batch_size>0))\n",
    "sched=WarmupExpCosineWithWarmupRestartsSchedule( t_total=num_train_optimization_steps, cycles=num_epochs,tau=0)\n",
    "optimizer = BertAdam(optimizer_grouped_parameters,lr=klr*1e-3,schedule=sched)\n",
    "history,best_model= model_train(model,\n",
    "                                optimizer,\n",
    "                                train_dataset,\n",
    "                                batch_size,\n",
    "                                num_epochs,\n",
    "                                loss_func,\n",
    "                                weights=weights,\n",
    "                                do_apex=False,\n",
    "                                validate_dataset=validate_dataset,\n",
    "                                param_schedualer=None,\n",
    "                                weights_data=None,\n",
    "                                metric=None,\n",
    "                                return_model=True,\n",
    "                                num_workers=num_workers,\n",
    "                                sampler=None)\n",
    "torch.save(best_model.state_dict(), models_dir+models_format.format(model_name,version,num_split))"
   ]
  },
  {
   "cell_type": "code",
   "execution_count": null,
   "metadata": {},
   "outputs": [],
   "source": [
    "num_split=0\n",
    "np.random.seed(SEED+num_split)\n",
    "torch.manual_seed(SEED+num_split)\n",
    "torch.cuda.manual_seed(SEED+num_split)\n",
    "torch.backends.cudnn.deterministic = True\n",
    "klr=1\n",
    "batch_size=64\n",
    "num_workers=12\n",
    "num_epochs=2\n",
    "model_name,version = 'se_resnext101_32x4d' , 'basic_more'\n",
    "model = MySENet(pretrainedmodels.__dict__['se_resnext101_32x4d'](pretrained='imagenet'),len(hemorrhage_types))\n",
    "model.load_state_dict(torch.load(models_dir+models_format.format(model_name,'basic_classifier',num_split),map_location=torch.device(device)))\n",
    "_=model.to(device)\n",
    "weights = torch.tensor([1.,1.,1.,1.,1.,2.],device=device)\n",
    "loss_func=my_loss\n",
    "targets_dataset=D.TensorDataset(torch.tensor(train_df[hemorrhage_types].values,dtype=torch.float))\n",
    "transform=MyTransform(flip=True,zoom=0.05,rotate=15,out_size=384,shift=40)\n",
    "imagedataset = ImageDataset(train_df,transform=transform.random,base_path=train_images_dir)\n",
    "transform_val=MyTransform(out_size=384)\n",
    "imagedataset_val = ImageDataset(train_df,transform=transform_val.random,base_path=train_images_dir)\n",
    "combined_dataset=DatasetCat([imagedataset,targets_dataset])\n",
    "combined_dataset_val=DatasetCat([imagedataset_val,targets_dataset])\n",
    "#param_s=parameter_scheduler(model,num_epoch=0)\n",
    "optimizer_grouped_parameters=get_optimizer_parameters(model,klr)\n",
    "idx_train = splits[num_split][0]\n",
    "idx_validate = splits[num_split][1]\n",
    "#sampling=sampler(train_df[hemorrhage_types].values[idx_train],0.2,[10,1,1,1,1,0])\n",
    "sample_ratio=1.0 #1.02*float(sampling().shape[0])/idx_train.shape[0]\n",
    "train_dataset=D.Subset(combined_dataset,idx_train)\n",
    "validate_dataset=D.Subset(combined_dataset_val,idx_validate)\n",
    "num_train_optimization_steps = num_epochs*(sample_ratio*len(train_dataset)//batch_size+int(len(train_dataset)%batch_size>0))\n",
    "sched=WarmupExpCosineWithWarmupRestartsSchedule( t_total=num_train_optimization_steps, cycles=num_epochs*2,tau=1)\n",
    "optimizer = BertAdam(optimizer_grouped_parameters,lr=klr*1e-3,schedule=sched)\n",
    "history,best_model= model_train(model,\n",
    "                                optimizer,\n",
    "                                train_dataset,\n",
    "                                batch_size,\n",
    "                                num_epochs,\n",
    "                                loss_func,\n",
    "                                weights=weights,\n",
    "                                do_apex=True,\n",
    "                                validate_dataset=validate_dataset,\n",
    "                                param_schedualer=None,\n",
    "                                weights_data=None,\n",
    "                                metric=None,\n",
    "                                return_model=True,\n",
    "                                num_workers=num_workers,\n",
    "                                sampler=None)\n",
    "\n",
    "torch.save(best_model.state_dict(), models_dir+models_format.format(model_name,version,num_split))"
   ]
  },
  {
   "cell_type": "code",
   "execution_count": 11,
   "metadata": {},
   "outputs": [
    {
     "data": {
      "text/plain": [
       "<torch._C.Generator at 0x7ff9b86a4110>"
      ]
     },
     "execution_count": 11,
     "metadata": {},
     "output_type": "execute_result"
    },
    {
     "data": {
      "application/vnd.jupyter.widget-view+json": {
       "model_id": "",
       "version_major": 2,
       "version_minor": 0
      },
      "text/plain": [
       "HBox(children=(IntProgress(value=0, max=1), HTML(value='')))"
      ]
     },
     "metadata": {},
     "output_type": "display_data"
    },
    {
     "data": {
      "application/vnd.jupyter.widget-view+json": {
       "model_id": "",
       "version_major": 2,
       "version_minor": 0
      },
      "text/plain": [
       "HBox(children=(IntProgress(value=0, max=18971), HTML(value='')))"
      ]
     },
     "metadata": {},
     "output_type": "display_data"
    },
    {
     "name": "stdout",
     "output_type": "stream",
     "text": [
      "got some error with pid {}.format(pid)\n",
      "huston is the an empty picture e20bf3f8a\n",
      "huston is the an empty picture 470e639ae\n",
      "huston is the an empty picture d91d52bdc\n",
      "huston is the an empty picture 0e21abf7a\n",
      "huston is the an empty picture 8da38f2e4\n"
     ]
    },
    {
     "data": {
      "application/vnd.jupyter.widget-view+json": {
       "model_id": "",
       "version_major": 2,
       "version_minor": 0
      },
      "text/plain": [
       "HBox(children=(IntProgress(value=0, max=2108), HTML(value='')))"
      ]
     },
     "metadata": {},
     "output_type": "display_data"
    },
    {
     "name": "stdout",
     "output_type": "stream",
     "text": [
      "got some error with pid {}.format(pid)\n",
      "huston is the an empty picture 6431af929\n",
      "{'loss': 0.011510233211503544, 'val_loss': 0.01142682346834119}\n",
      "\n",
      "0.01142682346834119\n"
     ]
    }
   ],
   "source": [
    "num_split=0\n",
    "np.random.seed(SEED+num_split)\n",
    "torch.manual_seed(SEED+num_split)\n",
    "torch.cuda.manual_seed(SEED+num_split)\n",
    "torch.backends.cudnn.deterministic = True\n",
    "klr=3\n",
    "batch_size=32\n",
    "num_workers=12\n",
    "num_epochs=1\n",
    "model_name,version = 'Densenet161' , 'basic_more'\n",
    "model1 = MyDenseNet(models.densenet161(pretrained=True),len(hemorrhage_types))\n",
    "model1.load_state_dict(torch.load(models_dir+models_format.format(model_name,'basic',num_split),map_location=torch.device(device)))\n",
    "model = MyDenseNet(models.densenet161(pretrained=True),len(hemorrhage_types))\n",
    "model.features = model1.features\n",
    "_=model.to(device)\n",
    "param_optimizer = list(model.named_parameters())\n",
    "no_decay=['bias']\n",
    "optimizer_grouped_parameters=[\n",
    "    {'params': [p for n, p in param_optimizer if (not any(nd in n for nd in no_decay) and ('classifier' in n))], 'lr':klr*1e-3,'weight_decay': 0.01},\n",
    "    {'params': [p for n, p in param_optimizer if any(nd in n for nd in no_decay)  and ('classifier' in n)], 'lr':klr*1e-3, 'weight_decay': 0.0}\n",
    "    ]\n",
    "    \n",
    "weights = torch.tensor([1.,1.,1.,1.,1.,2.],device=device)\n",
    "loss_func=my_loss\n",
    "targets_dataset=D.TensorDataset(torch.tensor(train_df[hemorrhage_types].values,dtype=torch.float))\n",
    "transform=MyTransform(flip=True,zoom=0.05,rotate=15,out_size=384,shift=40)\n",
    "imagedataset = ImageDataset(train_df,transform=transform.random,base_path=train_images_dir)\n",
    "transform_val=MyTransform(out_size=384)\n",
    "imagedataset_val = ImageDataset(train_df,transform=transform_val.random,base_path=train_images_dir)\n",
    "combined_dataset=DatasetCat([imagedataset,targets_dataset])\n",
    "combined_dataset_val=DatasetCat([imagedataset_val,targets_dataset])\n",
    "#param_s=parameter_scheduler(model,num_epoch=0)\n",
    "optimizer_grouped_parameters=get_optimizer_parameters(model,klr)\n",
    "idx_train = splits[num_split][0]\n",
    "idx_validate = splits[num_split][1]\n",
    "#sampling=sampler(train_df[hemorrhage_types].values[idx_train],0.2,[10,1,1,1,1,0])\n",
    "sample_ratio=1.0 #1.02*float(sampling().shape[0])/idx_train.shape[0]\n",
    "train_dataset=D.Subset(combined_dataset,idx_train)\n",
    "validate_dataset=D.Subset(combined_dataset_val,idx_validate)\n",
    "num_train_optimization_steps = num_epochs*(sample_ratio*len(train_dataset)//batch_size+int(len(train_dataset)%batch_size>0))\n",
    "sched=WarmupExpCosineWithWarmupRestartsSchedule( t_total=num_train_optimization_steps, cycles=num_epochs//1,tau=0)\n",
    "optimizer = BertAdam(optimizer_grouped_parameters,lr=klr*1e-3,schedule=sched)\n",
    "history,best_model= model_train(model,\n",
    "                                optimizer,\n",
    "                                train_dataset,\n",
    "                                batch_size,\n",
    "                                num_epochs,\n",
    "                                loss_func,\n",
    "                                weights=weights,\n",
    "                                do_apex=True,\n",
    "                                validate_dataset=validate_dataset,\n",
    "                                param_schedualer=None,\n",
    "                                weights_data=None,\n",
    "                                metric=None,\n",
    "                                return_model=True,\n",
    "                                num_workers=num_workers,\n",
    "                                sampler=None)\n",
    "\n",
    "torch.save(best_model.state_dict(), models_dir+models_format.format(model_name,version,num_split))"
   ]
  },
  {
   "cell_type": "code",
   "execution_count": 11,
   "metadata": {},
   "outputs": [
    {
     "data": {
      "text/plain": [
       "<torch._C.Generator at 0x7ff9b86a4110>"
      ]
     },
     "execution_count": 11,
     "metadata": {},
     "output_type": "execute_result"
    },
    {
     "data": {
      "application/vnd.jupyter.widget-view+json": {
       "model_id": "",
       "version_major": 2,
       "version_minor": 0
      },
      "text/plain": [
       "HBox(children=(IntProgress(value=0, max=1), HTML(value='')))"
      ]
     },
     "metadata": {},
     "output_type": "display_data"
    },
    {
     "data": {
      "application/vnd.jupyter.widget-view+json": {
       "model_id": "",
       "version_major": 2,
       "version_minor": 0
      },
      "text/plain": [
       "HBox(children=(IntProgress(value=0, max=18971), HTML(value='')))"
      ]
     },
     "metadata": {},
     "output_type": "display_data"
    },
    {
     "name": "stdout",
     "output_type": "stream",
     "text": [
      "got some error with pid {}.format(pid)\n",
      "huston is the an empty picture e20bf3f8a\n",
      "huston is the an empty picture 470e639ae\n",
      "huston is the an empty picture d91d52bdc\n",
      "huston is the an empty picture 0e21abf7a\n",
      "huston is the an empty picture 8da38f2e4\n"
     ]
    },
    {
     "data": {
      "application/vnd.jupyter.widget-view+json": {
       "model_id": "",
       "version_major": 2,
       "version_minor": 0
      },
      "text/plain": [
       "HBox(children=(IntProgress(value=0, max=2108), HTML(value='')))"
      ]
     },
     "metadata": {},
     "output_type": "display_data"
    },
    {
     "name": "stdout",
     "output_type": "stream",
     "text": [
      "got some error with pid {}.format(pid)\n",
      "huston is the an empty picture 6431af929\n",
      "{'loss': 0.011510233211503544, 'val_loss': 0.01142682346834119}\n",
      "\n",
      "0.01142682346834119\n"
     ]
    }
   ],
   "source": [
    "num_split=0\n",
    "np.random.seed(SEED+num_split)\n",
    "torch.manual_seed(SEED+num_split)\n",
    "torch.cuda.manual_seed(SEED+num_split)\n",
    "torch.backends.cudnn.deterministic = True\n",
    "klr=3\n",
    "batch_size=32\n",
    "num_workers=12\n",
    "num_epochs=1\n",
    "model_name,version = 'Densenet161' , 'basic_classifier'\n",
    "model1 = MyDenseNet(models.densenet161(pretrained=True),len(hemorrhage_types))\n",
    "model1.load_state_dict(torch.load(models_dir+models_format.format(model_name,'basic',num_split),map_location=torch.device(device)))\n",
    "model = MyDenseNet(models.densenet161(pretrained=True),len(hemorrhage_types))\n",
    "model.features = model1.features\n",
    "_=model.to(device)\n",
    "param_optimizer = list(model.named_parameters())\n",
    "no_decay=['bias']\n",
    "optimizer_grouped_parameters=[\n",
    "    {'params': [p for n, p in param_optimizer if (not any(nd in n for nd in no_decay) and ('classifier' in n))], 'lr':klr*1e-3,'weight_decay': 0.01},\n",
    "    {'params': [p for n, p in param_optimizer if any(nd in n for nd in no_decay)  and ('classifier' in n)], 'lr':klr*1e-3, 'weight_decay': 0.0}\n",
    "    ]\n",
    "    \n",
    "weights = torch.tensor([1.,1.,1.,1.,1.,2.],device=device)\n",
    "loss_func=my_loss\n",
    "targets_dataset=D.TensorDataset(torch.tensor(train_df[hemorrhage_types].values,dtype=torch.float))\n",
    "transform=MyTransform(flip=True,zoom=0.05,rotate=15,out_size=384,shift=40)\n",
    "imagedataset = ImageDataset(train_df,transform=transform.random,base_path=train_images_dir)\n",
    "transform_val=MyTransform(out_size=384)\n",
    "imagedataset_val = ImageDataset(train_df,transform=transform_val.random,base_path=train_images_dir)\n",
    "combined_dataset=DatasetCat([imagedataset,targets_dataset])\n",
    "combined_dataset_val=DatasetCat([imagedataset_val,targets_dataset])\n",
    "#param_s=parameter_scheduler(model,num_epoch=0)\n",
    "optimizer_grouped_parameters=get_optimizer_parameters(model,klr)\n",
    "idx_train = splits[num_split][0]\n",
    "idx_validate = splits[num_split][1]\n",
    "#sampling=sampler(train_df[hemorrhage_types].values[idx_train],0.2,[10,1,1,1,1,0])\n",
    "sample_ratio=1.0 #1.02*float(sampling().shape[0])/idx_train.shape[0]\n",
    "train_dataset=D.Subset(combined_dataset,idx_train)\n",
    "validate_dataset=D.Subset(combined_dataset_val,idx_validate)\n",
    "num_train_optimization_steps = num_epochs*(sample_ratio*len(train_dataset)//batch_size+int(len(train_dataset)%batch_size>0))\n",
    "sched=WarmupExpCosineWithWarmupRestartsSchedule( t_total=num_train_optimization_steps, cycles=num_epochs//1,tau=0)\n",
    "optimizer = BertAdam(optimizer_grouped_parameters,lr=klr*1e-3,schedule=sched)\n",
    "history,best_model= model_train(model,\n",
    "                                optimizer,\n",
    "                                train_dataset,\n",
    "                                batch_size,\n",
    "                                num_epochs,\n",
    "                                loss_func,\n",
    "                                weights=weights,\n",
    "                                do_apex=True,\n",
    "                                validate_dataset=validate_dataset,\n",
    "                                param_schedualer=None,\n",
    "                                weights_data=None,\n",
    "                                metric=None,\n",
    "                                return_model=True,\n",
    "                                num_workers=num_workers,\n",
    "                                sampler=None)\n",
    "\n",
    "torch.save(best_model.state_dict(), models_dir+models_format.format(model_name,version,num_split))"
   ]
  },
  {
   "cell_type": "code",
   "execution_count": null,
   "metadata": {},
   "outputs": [],
   "source": []
  },
  {
   "cell_type": "code",
   "execution_count": 16,
   "metadata": {},
   "outputs": [
    {
     "data": {
      "text/plain": [
       "0.07998776427838833"
      ]
     },
     "execution_count": 16,
     "metadata": {},
     "output_type": "execute_result"
    }
   ],
   "source": []
  },
  {
   "cell_type": "code",
   "execution_count": 10,
   "metadata": {},
   "outputs": [
    {
     "data": {
      "text/html": [
       "<div>\n",
       "<style scoped>\n",
       "    .dataframe tbody tr th:only-of-type {\n",
       "        vertical-align: middle;\n",
       "    }\n",
       "\n",
       "    .dataframe tbody tr th {\n",
       "        vertical-align: top;\n",
       "    }\n",
       "\n",
       "    .dataframe thead th {\n",
       "        text-align: right;\n",
       "    }\n",
       "</style>\n",
       "<table border=\"1\" class=\"dataframe\">\n",
       "  <thead>\n",
       "    <tr style=\"text-align: right;\">\n",
       "      <th></th>\n",
       "      <th>ID</th>\n",
       "      <th>Label</th>\n",
       "    </tr>\n",
       "  </thead>\n",
       "  <tbody>\n",
       "    <tr>\n",
       "      <th>0</th>\n",
       "      <td>ID_28fbab7eb_epidural</td>\n",
       "      <td>0.5</td>\n",
       "    </tr>\n",
       "    <tr>\n",
       "      <th>1</th>\n",
       "      <td>ID_28fbab7eb_intraparenchymal</td>\n",
       "      <td>0.5</td>\n",
       "    </tr>\n",
       "    <tr>\n",
       "      <th>2</th>\n",
       "      <td>ID_28fbab7eb_intraventricular</td>\n",
       "      <td>0.5</td>\n",
       "    </tr>\n",
       "    <tr>\n",
       "      <th>3</th>\n",
       "      <td>ID_28fbab7eb_subarachnoid</td>\n",
       "      <td>0.5</td>\n",
       "    </tr>\n",
       "    <tr>\n",
       "      <th>4</th>\n",
       "      <td>ID_28fbab7eb_subdural</td>\n",
       "      <td>0.5</td>\n",
       "    </tr>\n",
       "  </tbody>\n",
       "</table>\n",
       "</div>"
      ],
      "text/plain": [
       "                              ID  Label\n",
       "0          ID_28fbab7eb_epidural    0.5\n",
       "1  ID_28fbab7eb_intraparenchymal    0.5\n",
       "2  ID_28fbab7eb_intraventricular    0.5\n",
       "3      ID_28fbab7eb_subarachnoid    0.5\n",
       "4          ID_28fbab7eb_subdural    0.5"
      ]
     },
     "execution_count": 10,
     "metadata": {},
     "output_type": "execute_result"
    },
    {
     "data": {
      "text/html": [
       "<div>\n",
       "<style scoped>\n",
       "    .dataframe tbody tr th:only-of-type {\n",
       "        vertical-align: middle;\n",
       "    }\n",
       "\n",
       "    .dataframe tbody tr th {\n",
       "        vertical-align: top;\n",
       "    }\n",
       "\n",
       "    .dataframe thead th {\n",
       "        text-align: right;\n",
       "    }\n",
       "</style>\n",
       "<table border=\"1\" class=\"dataframe\">\n",
       "  <thead>\n",
       "    <tr style=\"text-align: right;\">\n",
       "      <th></th>\n",
       "      <th>ID</th>\n",
       "      <th>Label</th>\n",
       "      <th>Sub_type</th>\n",
       "      <th>PatientID</th>\n",
       "    </tr>\n",
       "  </thead>\n",
       "  <tbody>\n",
       "    <tr>\n",
       "      <th>0</th>\n",
       "      <td>ID_28fbab7eb_epidural</td>\n",
       "      <td>0.5</td>\n",
       "      <td>epidural</td>\n",
       "      <td>28fbab7eb</td>\n",
       "    </tr>\n",
       "    <tr>\n",
       "      <th>1</th>\n",
       "      <td>ID_28fbab7eb_intraparenchymal</td>\n",
       "      <td>0.5</td>\n",
       "      <td>intraparenchymal</td>\n",
       "      <td>28fbab7eb</td>\n",
       "    </tr>\n",
       "    <tr>\n",
       "      <th>2</th>\n",
       "      <td>ID_28fbab7eb_intraventricular</td>\n",
       "      <td>0.5</td>\n",
       "      <td>intraventricular</td>\n",
       "      <td>28fbab7eb</td>\n",
       "    </tr>\n",
       "    <tr>\n",
       "      <th>3</th>\n",
       "      <td>ID_28fbab7eb_subarachnoid</td>\n",
       "      <td>0.5</td>\n",
       "      <td>subarachnoid</td>\n",
       "      <td>28fbab7eb</td>\n",
       "    </tr>\n",
       "    <tr>\n",
       "      <th>4</th>\n",
       "      <td>ID_28fbab7eb_subdural</td>\n",
       "      <td>0.5</td>\n",
       "      <td>subdural</td>\n",
       "      <td>28fbab7eb</td>\n",
       "    </tr>\n",
       "  </tbody>\n",
       "</table>\n",
       "</div>"
      ],
      "text/plain": [
       "                              ID  Label          Sub_type  PatientID\n",
       "0          ID_28fbab7eb_epidural    0.5          epidural  28fbab7eb\n",
       "1  ID_28fbab7eb_intraparenchymal    0.5  intraparenchymal  28fbab7eb\n",
       "2  ID_28fbab7eb_intraventricular    0.5  intraventricular  28fbab7eb\n",
       "3      ID_28fbab7eb_subarachnoid    0.5      subarachnoid  28fbab7eb\n",
       "4          ID_28fbab7eb_subdural    0.5          subdural  28fbab7eb"
      ]
     },
     "execution_count": 10,
     "metadata": {},
     "output_type": "execute_result"
    }
   ],
   "source": [
    "sample_submission=pd.read_csv(data_dir+'stage_1_sample_submission.csv')\n",
    "sample_submission.head()\n",
    "test_df=sample_submission.copy()\n",
    "test_df['Sub_type'] = test_df['ID'].str.split(\"_\", n = 3, expand = True)[2]\n",
    "test_df['PatientID'] = test_df['ID'].str.split(\"_\", n = 3, expand = True)[1]\n",
    "test_df.head()"
   ]
  },
  {
   "cell_type": "code",
   "execution_count": 11,
   "metadata": {},
   "outputs": [
    {
     "data": {
      "text/html": [
       "<div>\n",
       "<style scoped>\n",
       "    .dataframe tbody tr th:only-of-type {\n",
       "        vertical-align: middle;\n",
       "    }\n",
       "\n",
       "    .dataframe tbody tr th {\n",
       "        vertical-align: top;\n",
       "    }\n",
       "\n",
       "    .dataframe thead th {\n",
       "        text-align: right;\n",
       "    }\n",
       "</style>\n",
       "<table border=\"1\" class=\"dataframe\">\n",
       "  <thead>\n",
       "    <tr style=\"text-align: right;\">\n",
       "      <th></th>\n",
       "      <th>PatientID</th>\n",
       "    </tr>\n",
       "  </thead>\n",
       "  <tbody>\n",
       "    <tr>\n",
       "      <th>0</th>\n",
       "      <td>28fbab7eb</td>\n",
       "    </tr>\n",
       "    <tr>\n",
       "      <th>1</th>\n",
       "      <td>877923b8b</td>\n",
       "    </tr>\n",
       "    <tr>\n",
       "      <th>2</th>\n",
       "      <td>a591477cb</td>\n",
       "    </tr>\n",
       "    <tr>\n",
       "      <th>3</th>\n",
       "      <td>42217c898</td>\n",
       "    </tr>\n",
       "    <tr>\n",
       "      <th>4</th>\n",
       "      <td>a130c4d2f</td>\n",
       "    </tr>\n",
       "  </tbody>\n",
       "</table>\n",
       "</div>"
      ],
      "text/plain": [
       "   PatientID\n",
       "0  28fbab7eb\n",
       "1  877923b8b\n",
       "2  a591477cb\n",
       "3  42217c898\n",
       "4  a130c4d2f"
      ]
     },
     "execution_count": 11,
     "metadata": {},
     "output_type": "execute_result"
    }
   ],
   "source": [
    "test_Id_df = pd.DataFrame(data={'PatientID':test_df.PatientID.unique()})\n",
    "test_Id_df.head()"
   ]
  },
  {
   "cell_type": "code",
   "execution_count": 12,
   "metadata": {},
   "outputs": [
    {
     "data": {
      "application/vnd.jupyter.widget-view+json": {
       "model_id": "9d77c5630af1495dbef5594d0e96b7aa",
       "version_major": 2,
       "version_minor": 0
      },
      "text/plain": [
       "HBox(children=(IntProgress(value=0, max=1228), HTML(value='')))"
      ]
     },
     "metadata": {},
     "output_type": "display_data"
    }
   ],
   "source": [
    "model.load_state_dict(torch.load(models_dir+models_format.format(model_name,'basic_more',num_split),map_location=torch.device(device)))\n",
    "_=model.to(device)\n",
    "imagedataset_test=ImageDataset(test_Id_df,transform=transform_val.random,base_path=test_images_dir)\n",
    "pred = model_run(model,imagedataset_test,do_apex=True,batch_size=64,num_workers=12)"
   ]
  },
  {
   "cell_type": "code",
   "execution_count": 14,
   "metadata": {},
   "outputs": [
    {
     "data": {
      "text/html": [
       "<div>\n",
       "<style scoped>\n",
       "    .dataframe tbody tr th:only-of-type {\n",
       "        vertical-align: middle;\n",
       "    }\n",
       "\n",
       "    .dataframe tbody tr th {\n",
       "        vertical-align: top;\n",
       "    }\n",
       "\n",
       "    .dataframe thead th {\n",
       "        text-align: right;\n",
       "    }\n",
       "</style>\n",
       "<table border=\"1\" class=\"dataframe\">\n",
       "  <thead>\n",
       "    <tr style=\"text-align: right;\">\n",
       "      <th></th>\n",
       "      <th>ID</th>\n",
       "      <th>Label</th>\n",
       "    </tr>\n",
       "  </thead>\n",
       "  <tbody>\n",
       "    <tr>\n",
       "      <th>0</th>\n",
       "      <td>ID_28fbab7eb_epidural</td>\n",
       "      <td>3.033406e-11</td>\n",
       "    </tr>\n",
       "    <tr>\n",
       "      <th>1</th>\n",
       "      <td>ID_28fbab7eb_intraparenchymal</td>\n",
       "      <td>6.375548e-07</td>\n",
       "    </tr>\n",
       "    <tr>\n",
       "      <th>2</th>\n",
       "      <td>ID_28fbab7eb_intraventricular</td>\n",
       "      <td>1.966767e-09</td>\n",
       "    </tr>\n",
       "    <tr>\n",
       "      <th>3</th>\n",
       "      <td>ID_28fbab7eb_subarachnoid</td>\n",
       "      <td>5.399497e-08</td>\n",
       "    </tr>\n",
       "    <tr>\n",
       "      <th>4</th>\n",
       "      <td>ID_28fbab7eb_subdural</td>\n",
       "      <td>1.490849e-07</td>\n",
       "    </tr>\n",
       "    <tr>\n",
       "      <th>5</th>\n",
       "      <td>ID_28fbab7eb_any</td>\n",
       "      <td>1.532611e-05</td>\n",
       "    </tr>\n",
       "    <tr>\n",
       "      <th>6</th>\n",
       "      <td>ID_877923b8b_epidural</td>\n",
       "      <td>4.363462e-09</td>\n",
       "    </tr>\n",
       "    <tr>\n",
       "      <th>7</th>\n",
       "      <td>ID_877923b8b_intraparenchymal</td>\n",
       "      <td>1.888572e-06</td>\n",
       "    </tr>\n",
       "    <tr>\n",
       "      <th>8</th>\n",
       "      <td>ID_877923b8b_intraventricular</td>\n",
       "      <td>4.644881e-09</td>\n",
       "    </tr>\n",
       "    <tr>\n",
       "      <th>9</th>\n",
       "      <td>ID_877923b8b_subarachnoid</td>\n",
       "      <td>8.013500e-06</td>\n",
       "    </tr>\n",
       "  </tbody>\n",
       "</table>\n",
       "</div>"
      ],
      "text/plain": [
       "                              ID         Label\n",
       "0          ID_28fbab7eb_epidural  3.033406e-11\n",
       "1  ID_28fbab7eb_intraparenchymal  6.375548e-07\n",
       "2  ID_28fbab7eb_intraventricular  1.966767e-09\n",
       "3      ID_28fbab7eb_subarachnoid  5.399497e-08\n",
       "4          ID_28fbab7eb_subdural  1.490849e-07\n",
       "5               ID_28fbab7eb_any  1.532611e-05\n",
       "6          ID_877923b8b_epidural  4.363462e-09\n",
       "7  ID_877923b8b_intraparenchymal  1.888572e-06\n",
       "8  ID_877923b8b_intraventricular  4.644881e-09\n",
       "9      ID_877923b8b_subarachnoid  8.013500e-06"
      ]
     },
     "execution_count": 14,
     "metadata": {},
     "output_type": "execute_result"
    }
   ],
   "source": [
    "sub_num=5\n",
    "\n",
    "epidural_df=pd.DataFrame(data={'ID':'ID_'+test_Id_df.PatientID.values+'_epidural','Label':torch.sigmoid(pred[:,0])})\n",
    "intraparenchymal_df=pd.DataFrame(data={'ID':'ID_'+test_Id_df.PatientID.values+'_intraparenchymal','Label':torch.sigmoid(pred[:,1])})\n",
    "intraventricular_df=pd.DataFrame(data={'ID':'ID_'+test_Id_df.PatientID.values+'_intraventricular','Label':torch.sigmoid(pred[:,2])})\n",
    "subarachnoid_df=pd.DataFrame(data={'ID':'ID_'+test_Id_df.PatientID.values+'_subarachnoid','Label':torch.sigmoid(pred[:,3])})\n",
    "subdural_df=pd.DataFrame(data={'ID':'ID_'+test_Id_df.PatientID.values+'_subdural','Label':torch.sigmoid(pred[:,4])})\n",
    "any_df=pd.DataFrame(data={'ID':'ID_'+test_Id_df.PatientID.values+'_any','Label':torch.sigmoid(pred[:,5])})\n",
    "\n",
    "test_res_df = pd.concat([epidural_df,\n",
    "                        intraparenchymal_df,\n",
    "                        intraventricular_df,\n",
    "                        subarachnoid_df,\n",
    "                        subdural_df,\n",
    "                        any_df]).reset_index(drop=True)\n",
    "trd=test_res_df.sort_values('ID')\n",
    "sample_submission[['ID','Label']]=trd.values[np.argsort(np.argsort(sample_submission.ID.values))]\n",
    "sample_submission.to_csv('/media/hd/notebooks/data/RSNA/submissions/submission{}.csv'.format(sub_num),\n",
    "                                                                  index=False, columns=['ID','Label'])\n",
    "sample_submission.head(10)"
   ]
  },
  {
   "cell_type": "code",
   "execution_count": 17,
   "metadata": {},
   "outputs": [],
   "source": [
    "submission_121=pd.read_csv('/media/hd/notebooks/data/RSNA/submissions/submission1.csv')"
   ]
  },
  {
   "cell_type": "code",
   "execution_count": 20,
   "metadata": {},
   "outputs": [
    {
     "data": {
      "text/html": [
       "<div>\n",
       "<style scoped>\n",
       "    .dataframe tbody tr th:only-of-type {\n",
       "        vertical-align: middle;\n",
       "    }\n",
       "\n",
       "    .dataframe tbody tr th {\n",
       "        vertical-align: top;\n",
       "    }\n",
       "\n",
       "    .dataframe thead th {\n",
       "        text-align: right;\n",
       "    }\n",
       "</style>\n",
       "<table border=\"1\" class=\"dataframe\">\n",
       "  <thead>\n",
       "    <tr style=\"text-align: right;\">\n",
       "      <th></th>\n",
       "      <th>ID</th>\n",
       "      <th>Label</th>\n",
       "    </tr>\n",
       "  </thead>\n",
       "  <tbody>\n",
       "    <tr>\n",
       "      <th>0</th>\n",
       "      <td>ID_28fbab7eb_epidural</td>\n",
       "      <td>0.000001</td>\n",
       "    </tr>\n",
       "    <tr>\n",
       "      <th>1</th>\n",
       "      <td>ID_28fbab7eb_intraparenchymal</td>\n",
       "      <td>0.000016</td>\n",
       "    </tr>\n",
       "    <tr>\n",
       "      <th>2</th>\n",
       "      <td>ID_28fbab7eb_intraventricular</td>\n",
       "      <td>0.000003</td>\n",
       "    </tr>\n",
       "    <tr>\n",
       "      <th>3</th>\n",
       "      <td>ID_28fbab7eb_subarachnoid</td>\n",
       "      <td>0.000103</td>\n",
       "    </tr>\n",
       "    <tr>\n",
       "      <th>4</th>\n",
       "      <td>ID_28fbab7eb_subdural</td>\n",
       "      <td>0.000105</td>\n",
       "    </tr>\n",
       "  </tbody>\n",
       "</table>\n",
       "</div>"
      ],
      "text/plain": [
       "                              ID     Label\n",
       "0          ID_28fbab7eb_epidural  0.000001\n",
       "1  ID_28fbab7eb_intraparenchymal  0.000016\n",
       "2  ID_28fbab7eb_intraventricular  0.000003\n",
       "3      ID_28fbab7eb_subarachnoid  0.000103\n",
       "4          ID_28fbab7eb_subdural  0.000105"
      ]
     },
     "execution_count": 20,
     "metadata": {},
     "output_type": "execute_result"
    }
   ],
   "source": [
    "sample_submission.Label=(sample_submission.Label+submission_121.Label)/2\n",
    "sample_submission.head()"
   ]
  },
  {
   "cell_type": "code",
   "execution_count": 21,
   "metadata": {},
   "outputs": [],
   "source": [
    "sub_num=4\n",
    "sample_submission.to_csv('/media/hd/notebooks/data/RSNA/submissions/submission{}.csv'.format(sub_num),\n",
    "                                                                  index=False, columns=['ID','Label'])\n"
   ]
  },
  {
   "cell_type": "code",
   "execution_count": null,
   "metadata": {},
   "outputs": [],
   "source": []
  }
 ],
 "metadata": {
  "kernelspec": {
   "display_name": "Python 3",
   "language": "python",
   "name": "python3"
  },
  "language_info": {
   "codemirror_mode": {
    "name": "ipython",
    "version": 3
   },
   "file_extension": ".py",
   "mimetype": "text/x-python",
   "name": "python",
   "nbconvert_exporter": "python",
   "pygments_lexer": "ipython3",
   "version": "3.6.6"
  }
 },
 "nbformat": 4,
 "nbformat_minor": 2
}
